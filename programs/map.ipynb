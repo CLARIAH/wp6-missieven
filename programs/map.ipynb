{
 "cells": [
  {
   "cell_type": "code",
   "execution_count": 1,
   "metadata": {},
   "outputs": [],
   "source": [
    "%load_ext autoreload\n",
    "%autoreload 2"
   ]
  },
  {
   "cell_type": "markdown",
   "metadata": {},
   "source": [
    "# Make node mapping between two versions of the tf dataset\n",
    "\n",
    "In this notebook we map the *slot* nodes from version 0.4 (source version) to 0.7 (target version).\n",
    "\n",
    "Basically this means that we map all slots from the source version to corresponding slots in the target version.\n",
    "In the target version there are more slots, because also footnotes occupy slots there, in contrast with the\n",
    "source version, where footnotes only appear inside feature values of the slot that precedes the footnote mark.\n",
    "\n",
    "Some slots have an empty text (most of them contain some punctuation).\n",
    "\n",
    "We do not want to be fussy about those slots.\n",
    "We map them unto corresponding empty slots if possible, otherwise we map them onto the nearest\n",
    "non-empty slot.\n",
    "\n",
    "After establishing the slot mapping, we extend the mapping to all nodes in a generic way.\n",
    "The code for this is already in the TF library."
   ]
  },
  {
   "cell_type": "code",
   "execution_count": 2,
   "metadata": {},
   "outputs": [],
   "source": [
    "from tf.fabric import Fabric\n",
    "from tf.compose import Versions\n",
    "\n",
    "from lib import TF_DIR\n",
    "\n",
    "va = \"0.4\"\n",
    "vb = \"0.7\""
   ]
  },
  {
   "cell_type": "markdown",
   "metadata": {},
   "source": [
    "We load the two versions of the TF data by means of the lower level `Fabric` method,\n",
    "and we only load the features we need."
   ]
  },
  {
   "cell_type": "code",
   "execution_count": 3,
   "metadata": {},
   "outputs": [],
   "source": [
    "TF = {}\n",
    "api = {}\n",
    "E = {}\n",
    "Es = {}\n",
    "F = {}\n",
    "Fs = {}\n",
    "L = {}\n",
    "T = {}\n",
    "maxSlot = {}\n",
    "features = {\n",
    "    va: \"trans\",\n",
    "    vb: \"trans isnote\",\n",
    "}"
   ]
  },
  {
   "cell_type": "code",
   "execution_count": 5,
   "metadata": {},
   "outputs": [
    {
     "name": "stdout",
     "output_type": "stream",
     "text": [
      "This is Text-Fabric 8.4.7\n",
      "Api reference : https://annotation.github.io/text-fabric/cheatsheet.html\n",
      "\n",
      "35 features found and 0 ignored\n",
      "  0.00s loading features ...\n",
      "   |     1.62s T otype                from ~/github/Dans-labs/clariah-gm/tf/0.4\n",
      "   |       14s T oslots               from ~/github/Dans-labs/clariah-gm/tf/0.4\n",
      "   |     8.48s T punc                 from ~/github/Dans-labs/clariah-gm/tf/0.4\n",
      "   |     3.75s T transr               from ~/github/Dans-labs/clariah-gm/tf/0.4\n",
      "   |     0.63s T n                    from ~/github/Dans-labs/clariah-gm/tf/0.4\n",
      "   |     7.04s T transo               from ~/github/Dans-labs/clariah-gm/tf/0.4\n",
      "   |     5.65s T punco                from ~/github/Dans-labs/clariah-gm/tf/0.4\n",
      "   |     0.01s T title                from ~/github/Dans-labs/clariah-gm/tf/0.4\n",
      "   |     3.17s T puncr                from ~/github/Dans-labs/clariah-gm/tf/0.4\n",
      "   |       11s T trans                from ~/github/Dans-labs/clariah-gm/tf/0.4\n",
      "   |      |     0.37s C __levels__           from otype, oslots, otext\n",
      "   |      |       50s C __order__            from otype, oslots, __levels__\n",
      "   |      |     2.12s C __rank__             from otype, __order__\n",
      "   |      |       39s C __levUp__            from otype, oslots, __rank__\n",
      "   |      |     2.16s C __levDown__          from otype, __levUp__, __rank__\n",
      "   |      |       21s C __boundary__         from otype, oslots, __rank__\n"
     ]
    },
    {
     "name": "stderr",
     "output_type": "stream",
     "text": [
      "   |      |     1.21s c __sections__         WARNING:   93 x section line without containing page\n"
     ]
    },
    {
     "name": "stdout",
     "output_type": "stream",
     "text": [
      "   |      |     1.28s C __sections__         from otype, oslots, otext, __levUp__, __levels__, n, n, n\n",
      "   |      |     0.25s C __structure__        from otype, oslots, otext, __rank__, __levUp__, n, title, n\n",
      " 2m 52s All features loaded/computed - for details use loadLog()\n",
      "This is Text-Fabric 8.4.7\n",
      "Api reference : https://annotation.github.io/text-fabric/cheatsheet.html\n",
      "\n",
      "41 features found and 0 ignored\n",
      "  0.00s loading features ...\n",
      "  9.87s All features loaded/computed - for details use loadLog()\n"
     ]
    }
   ],
   "source": [
    "for v in (va, vb):\n",
    "    TF[v] = Fabric(locations=TF_DIR, modules=v)\n",
    "    api[v] = TF[v].load(features[v])"
   ]
  },
  {
   "cell_type": "markdown",
   "metadata": {},
   "source": [
    "We put the parts of the TF API that we need in the various dictionaries."
   ]
  },
  {
   "cell_type": "code",
   "execution_count": 6,
   "metadata": {
    "lines_to_next_cell": 2
   },
   "outputs": [],
   "source": [
    "for v in (va, vb):\n",
    "    E[v] = api[v].E\n",
    "    Es[v] = api[v].Es\n",
    "    F[v] = api[v].F\n",
    "    Fs[v] = api[v].Fs\n",
    "    L[v] = api[v].L\n",
    "    T[v] = api[v].T\n",
    "    maxSlot[v] = F[v].otype.maxSlot"
   ]
  },
  {
   "cell_type": "markdown",
   "metadata": {
    "lines_to_next_cell": 2
   },
   "source": [
    "## Make the slot mapping\n",
    "\n",
    "We walk through the slots of the target version (0.7) and skip its footnote slots.\n",
    "For each target slot we increase the slot in the source version in (0.5), and check whether\n",
    "source and target slots have the same value for the `trans` feature.\n",
    "If not, and one of them is empty, we skip the empty word and try the next one.\n",
    "But if both are not empty and unequal, we have a real problem: a mismatch.\n",
    "\n",
    "However, in version 0.5 we have an imperfect separation of numbers and words.\n",
    "So, sometimes we have to split words.\n",
    "\n",
    "In that case we stop, and you have to inspect what is happening."
   ]
  },
  {
   "cell_type": "code",
   "execution_count": 7,
   "metadata": {},
   "outputs": [],
   "source": [
    "def makeSlotMapOld():\n",
    "    Fa = F[va]\n",
    "    Fb = F[vb]\n",
    "    transA = Fa.trans.v\n",
    "    transB = Fb.trans.v\n",
    "    isNote = Fb.isnote.v\n",
    "    maxSlotA = maxSlot[va]\n",
    "    maxSlotB = maxSlot[vb]\n",
    "\n",
    "    print(\n",
    "        f\"\"\"\\\n",
    "    Computing slotMap between:\n",
    "    {va}: {maxSlotA:>8} slots,\n",
    "    {vb}: {maxSlotB:>8} slots.\\\n",
    "\"\"\"\n",
    "    )\n",
    "\n",
    "    slotMap = {}\n",
    "\n",
    "    good = True\n",
    "    wA = 1\n",
    "    emptyA = 0\n",
    "    emptyB = 0\n",
    "\n",
    "    for wB in range(1, maxSlotB + 1):\n",
    "        if isNote(wB):\n",
    "            continue\n",
    "        textA = transA(wA) or \"\"\n",
    "        textB = transB(wB) or \"\"\n",
    "\n",
    "        if textB == \"\":\n",
    "            if textA != \"\":\n",
    "                emptyB += 1\n",
    "                continue\n",
    "        else:\n",
    "            while textA == \"\" and wA < maxSlotA:\n",
    "                wA += 1\n",
    "                emptyA += 1\n",
    "                textA = transA(wA) or \"\"\n",
    "\n",
    "        if textA != textB:\n",
    "            print(\"Mismatch:\")\n",
    "            print(f\"A: {wA:>8} = `{textA}`\")\n",
    "            print(f\"B: {wB:>8} = `{textB}`\")\n",
    "            good = False\n",
    "            break\n",
    "\n",
    "        if wA <= maxSlotA:\n",
    "            slotMap.setdefault(wA, {})[wB] = None\n",
    "            wA += 1\n",
    "        else:\n",
    "            if textB:\n",
    "                print(f\"No more slots in {va} to match slot {wB} in {vb}\")\n",
    "                break\n",
    "\n",
    "    maxSlotMap = max(slotMap)\n",
    "    if maxSlotMap > maxSlotA:\n",
    "        print(f\"maxSlot in A version {va} exceeded\")\n",
    "        print(f\"Found {maxSlotMap}, but it should be <= {maxSlot[va]}\")\n",
    "        good = False\n",
    "\n",
    "    if good:\n",
    "        print(\n",
    "            f\"\"\"\\\n",
    "slotMap succesfully created: {len(slotMap)} slots mapped.\n",
    "{va}: {emptyA:>6} empty slots,\n",
    "{vb}: {emptyB:>6} empty slots.\\\n",
    "\"\"\"\n",
    "        )\n",
    "    return slotMap"
   ]
  },
  {
   "cell_type": "code",
   "execution_count": 8,
   "metadata": {},
   "outputs": [],
   "source": [
    "def makeSlotMap():\n",
    "    Fa = F[va]\n",
    "    Fb = F[vb]\n",
    "    transA = Fa.trans.v\n",
    "    transB = Fb.trans.v\n",
    "    isNote = Fb.isnote.v\n",
    "    maxSlotA = maxSlot[va]\n",
    "    maxSlotB = maxSlot[vb]\n",
    "\n",
    "    print(\n",
    "        f\"\"\"\\\n",
    "    Computing slotMap between:\n",
    "    {va}: {maxSlotA:>8} slots,\n",
    "    {vb}: {maxSlotB:>8} slots.\\\n",
    "\"\"\"\n",
    "    )\n",
    "\n",
    "    slotMap = {}\n",
    "\n",
    "    good = True\n",
    "    wA = 1\n",
    "    wB = 1\n",
    "\n",
    "    while wB <= maxSlotB and wA <= maxSlotA:\n",
    "        if isNote(wB):\n",
    "            wB += 1\n",
    "            continue\n",
    "\n",
    "        textA = transA(wA) or \"\"\n",
    "        textB = transB(wB) or \"\"\n",
    "\n",
    "        if textA == textB:\n",
    "            slotMap.setdefault(wA, {})[wB] = None\n",
    "            wA += 1\n",
    "            wB += 1\n",
    "\n",
    "        elif textA.startswith(textB):\n",
    "            slotMap.setdefault(wA, {})[wB] = None\n",
    "            wB += 1\n",
    "        elif textA.endswith(textB):\n",
    "            wA += 1\n",
    "            wB += 1\n",
    "\n",
    "        elif textB.startswith(textA):\n",
    "            slotMap.setdefault(wA, {})[wB] = None\n",
    "            wA += 1\n",
    "        elif textB.endswith(textA):\n",
    "            slotMap.setdefault(wA, {})[wB] = None\n",
    "            wA += 1\n",
    "            wB += 1\n",
    "\n",
    "        else:\n",
    "            print(\"Mismatch:\")\n",
    "            print(f\"A: {wA:>8} = `{textA}`\")\n",
    "            print(f\"B: {wB:>8} = `{textB}`\")\n",
    "            good = False\n",
    "            break\n",
    "\n",
    "    maxSlotMap = max(slotMap)\n",
    "    if maxSlotMap > maxSlotA:\n",
    "        print(f\"maxSlot in A version {va} exceeded\")\n",
    "        print(f\"Found {maxSlotMap}, but it should be <= {maxSlot[va]}\")\n",
    "        good = False\n",
    "\n",
    "    if good:\n",
    "        print(\n",
    "            f\"\"\"\\\n",
    "slotMap succesfully created: {len(slotMap)} slots mapped.\n",
    "\"\"\"\n",
    "        )\n",
    "    return slotMap"
   ]
  },
  {
   "cell_type": "code",
   "execution_count": 9,
   "metadata": {
    "lines_to_next_cell": 2
   },
   "outputs": [
    {
     "name": "stdout",
     "output_type": "stream",
     "text": [
      "    Computing slotMap between:\n",
      "    0.4:  5030444 slots,\n",
      "    0.7:  5316429 slots.\n",
      "slotMap succesfully created: 5030444 slots mapped.\n",
      "\n"
     ]
    }
   ],
   "source": [
    "slotMap = makeSlotMap()"
   ]
  },
  {
   "cell_type": "markdown",
   "metadata": {
    "lines_to_next_cell": 2
   },
   "source": [
    "When we encounter problems, we can do a bit of checking to see what is going on.\n",
    "\n",
    "The next function shows the line around a slot node, and can do so in both versions."
   ]
  },
  {
   "cell_type": "code",
   "execution_count": 10,
   "metadata": {},
   "outputs": [],
   "source": [
    "def show(v, n):\n",
    "    lines = L[v].u(n, otype=\"line\")\n",
    "    if not lines:\n",
    "        lines = L[v].u(n + 1, otype=\"line\")\n",
    "    if not lines:\n",
    "        lines = L[v].u(n - 1, otype=\"line\")\n",
    "    if not lines:\n",
    "        print(\"no such line\")\n",
    "        return\n",
    "    line = lines[0]\n",
    "    print(T[v].sectionFromNode(line))\n",
    "    words = L[v].d(line, otype=\"word\")\n",
    "    print(\" \".join(f\"[{w}={F[v].trans.v(w)}]\" for w in words))\n",
    "    print(T[v].text(line))"
   ]
  },
  {
   "cell_type": "code",
   "execution_count": 11,
   "metadata": {},
   "outputs": [
    {
     "name": "stdout",
     "output_type": "stream",
     "text": [
      "(1, None, 2)\n",
      "[45=961] [46=copie] [47=5] [48=folio] [49=s]\n",
      "961, copie, 5 folio's.\n",
      "(1, None, 2)\n",
      "[94=961] [95=copie] [96=5folio] [97=s]\n",
      "961, copie, 5folio's.\n"
     ]
    }
   ],
   "source": [
    "show(va, 49)\n",
    "show(vb, 96)"
   ]
  },
  {
   "cell_type": "markdown",
   "metadata": {},
   "source": [
    "## Make the complete node map\n",
    "\n",
    "We now extend the slotMap to a full node map.\n",
    "\n",
    "See [compose.Versions](https://annotation.github.io/text-fabric/compose/Versions.html) in the Text-Fabric documentation."
   ]
  },
  {
   "cell_type": "code",
   "execution_count": 12,
   "metadata": {},
   "outputs": [],
   "source": [
    "V = Versions(api, va, vb, slotMap)"
   ]
  },
  {
   "cell_type": "code",
   "execution_count": 13,
   "metadata": {},
   "outputs": [
    {
     "name": "stdout",
     "output_type": "stream",
     "text": [
      "\n",
      "**********************************************************************************************\n",
      "*                                                                                            *\n",
      "*       0.00s Mapping volume nodes 0.4 ==> 0.7                                               *\n",
      "*                                                                                            *\n",
      "**********************************************************************************************\n",
      "\n",
      "|       0.00s Extending slot mapping 0.4 ==> 0.7 for volume nodes\n",
      "|         22s \tDone\n",
      "..............................................................................................\n",
      ".         22s Statistics for 0.4 ==> 0.7 (volume)                                            .\n",
      "..............................................................................................\n",
      "|         22s \tTOTAL                          : 100.00%      13x\n",
      "|         22s \tunique, imperfect              : 100.00%      13x\n",
      "\n",
      "**********************************************************************************************\n",
      "*                                                                                            *\n",
      "*         22s Mapping letter nodes 0.4 ==> 0.7                                               *\n",
      "*                                                                                            *\n",
      "**********************************************************************************************\n",
      "\n",
      "|         22s Extending slot mapping 0.4 ==> 0.7 for letter nodes\n",
      "|         44s \tDone\n",
      "..............................................................................................\n",
      ".         44s Statistics for 0.4 ==> 0.7 (letter)                                            .\n",
      "..............................................................................................\n",
      "|         44s \tTOTAL                          : 100.00%     589x\n",
      "|         44s \tunique, perfect                :  16.98%     100x\n",
      "|         44s \tunique, imperfect              :  75.55%     445x\n",
      "|         44s \tmultiple, non-perfect          :   7.47%      44x\n",
      "\n",
      "**********************************************************************************************\n",
      "*                                                                                            *\n",
      "*         44s Mapping page nodes 0.4 ==> 0.7                                                 *\n",
      "*                                                                                            *\n",
      "**********************************************************************************************\n",
      "\n",
      "|         44s Extending slot mapping 0.4 ==> 0.7 for page nodes\n",
      "|      1m 05s \tDone\n",
      "..............................................................................................\n",
      ".      1m 05s Statistics for 0.4 ==> 0.7 (page)                                              .\n",
      "..............................................................................................\n",
      "|      1m 05s \tTOTAL                          : 100.00%   10149x\n",
      "|      1m 05s \tunique, perfect                :  47.23%    4793x\n",
      "|      1m 05s \tunique, imperfect              :  51.34%    5211x\n",
      "|      1m 05s \tmultiple, non-perfect          :   1.43%     145x\n",
      "\n",
      "**********************************************************************************************\n",
      "*                                                                                            *\n",
      "*      1m 05s Mapping table nodes 0.4 ==> 0.7                                                *\n",
      "*                                                                                            *\n",
      "**********************************************************************************************\n",
      "\n",
      "|      1m 05s Extending slot mapping 0.4 ==> 0.7 for table nodes\n",
      "|      1m 05s \tDone\n",
      "..............................................................................................\n",
      ".      1m 05s Statistics for 0.4 ==> 0.7 (table)                                             .\n",
      "..............................................................................................\n",
      "|      1m 05s \tTOTAL                          : 100.00%     322x\n",
      "|      1m 05s \tunique, imperfect              :  99.69%     321x\n",
      "|      1m 05s \tmultiple, non-perfect          :   0.31%       1x\n",
      "\n",
      "**********************************************************************************************\n",
      "*                                                                                            *\n",
      "*      1m 05s Mapping para nodes 0.4 ==> 0.7                                                 *\n",
      "*                                                                                            *\n",
      "**********************************************************************************************\n",
      "\n",
      "|      1m 05s Extending slot mapping 0.4 ==> 0.7 for para nodes\n",
      "|      1m 20s \tDone\n",
      "..............................................................................................\n",
      ".      1m 20s Statistics for 0.4 ==> 0.7 (para)                                              .\n",
      "..............................................................................................\n",
      "|      1m 20s \tTOTAL                          : 100.00%   33885x\n",
      "|      1m 20s \tunique, perfect                :   0.06%      22x\n",
      "|      1m 20s \tunique, imperfect              :  98.85%   33495x\n",
      "|      1m 20s \tmultiple, non-perfect          :   1.00%     340x\n",
      "|      1m 20s \tnot mapped                     :   0.08%      28x\n",
      "\n",
      "**********************************************************************************************\n",
      "*                                                                                            *\n",
      "*      1m 20s Mapping remark nodes 0.4 ==> 0.7                                               *\n",
      "*                                                                                            *\n",
      "**********************************************************************************************\n",
      "\n",
      "|      1m 20s Extending slot mapping 0.4 ==> 0.7 for remark nodes\n",
      "|      1m 27s \tDone\n",
      "..............................................................................................\n",
      ".      1m 27s Statistics for 0.4 ==> 0.7 (remark)                                            .\n",
      "..............................................................................................\n",
      "|      1m 27s \tTOTAL                          : 100.00%   22922x\n",
      "|      1m 27s \tunique, perfect                :   0.03%       7x\n",
      "|      1m 27s \tunique, imperfect              :  99.97%   22914x\n",
      "|      1m 27s \tnot mapped                     :   0.00%       1x\n",
      "\n",
      "**********************************************************************************************\n",
      "*                                                                                            *\n",
      "*      1m 27s Mapping head nodes 0.4 ==> 0.7                                                 *\n",
      "*                                                                                            *\n",
      "**********************************************************************************************\n",
      "\n",
      "|      1m 27s Extending slot mapping 0.4 ==> 0.7 for head nodes\n",
      "|      1m 27s \tDone\n",
      "..............................................................................................\n",
      ".      1m 27s Statistics for 0.4 ==> 0.7 (head)                                              .\n",
      "..............................................................................................\n",
      "|      1m 27s \tTOTAL                          : 100.00%     589x\n",
      "|      1m 27s \tunique, perfect                :   1.02%       6x\n",
      "|      1m 27s \tunique, imperfect              :  98.98%     583x\n",
      "\n",
      "**********************************************************************************************\n",
      "*                                                                                            *\n",
      "*      1m 27s Mapping line nodes 0.4 ==> 0.7                                                 *\n",
      "*                                                                                            *\n",
      "**********************************************************************************************\n",
      "\n",
      "|      1m 27s Extending slot mapping 0.4 ==> 0.7 for line nodes\n",
      "|      1m 50s \tDone\n",
      "..............................................................................................\n",
      ".      1m 50s Statistics for 0.4 ==> 0.7 (line)                                              .\n",
      "..............................................................................................\n",
      "|      1m 51s \tTOTAL                          : 100.00%  444978x\n",
      "|      1m 51s \tunique, perfect                :  96.70%  430277x\n",
      "|      1m 51s \tunique, imperfect              :   0.62%    2760x\n",
      "|      1m 51s \tmultiple, cleanly composed     :   0.30%    1329x\n",
      "|      1m 51s \tmultiple, non-perfect          :   2.38%   10612x\n",
      "\n",
      "**********************************************************************************************\n",
      "*                                                                                            *\n",
      "*      1m 51s Mapping row nodes 0.4 ==> 0.7                                                  *\n",
      "*                                                                                            *\n",
      "**********************************************************************************************\n",
      "\n",
      "|      1m 51s Extending slot mapping 0.4 ==> 0.7 for row nodes\n",
      "|      1m 51s \tDone\n",
      "..............................................................................................\n",
      ".      1m 51s Statistics for 0.4 ==> 0.7 (row)                                               .\n",
      "..............................................................................................\n",
      "|      1m 51s \tTOTAL                          : 100.00%    4566x\n",
      "|      1m 51s \tunique, perfect                :  91.61%    4183x\n",
      "|      1m 51s \tunique, imperfect              :   7.91%     361x\n",
      "|      1m 51s \tmultiple, non-perfect          :   0.48%      22x\n",
      "\n",
      "**********************************************************************************************\n",
      "*                                                                                            *\n",
      "*      1m 51s Mapping folio nodes 0.4 ==> 0.7                                                *\n",
      "*                                                                                            *\n",
      "**********************************************************************************************\n",
      "\n",
      "|      1m 51s Extending slot mapping 0.4 ==> 0.7 for folio nodes\n",
      "|      1m 51s \tDone\n",
      "..............................................................................................\n",
      ".      1m 51s Statistics for 0.4 ==> 0.7 (folio)                                             .\n",
      "..............................................................................................\n",
      "|      1m 51s \tTOTAL                          : 100.00%    2555x\n",
      "|      1m 51s \tunique, perfect                :  19.33%     494x\n",
      "|      1m 51s \tunique, imperfect              :  80.35%    2053x\n",
      "|      1m 51s \tnot mapped                     :   0.31%       8x\n",
      "\n",
      "**********************************************************************************************\n",
      "*                                                                                            *\n",
      "*      1m 51s Mapping cell nodes 0.4 ==> 0.7                                                 *\n",
      "*                                                                                            *\n",
      "**********************************************************************************************\n",
      "\n",
      "|      1m 51s Extending slot mapping 0.4 ==> 0.7 for cell nodes\n",
      "|      1m 51s \tDone\n",
      "..............................................................................................\n",
      ".      1m 51s Statistics for 0.4 ==> 0.7 (cell)                                              .\n",
      "..............................................................................................\n",
      "|      1m 51s \tTOTAL                          : 100.00%   20593x\n",
      "|      1m 51s \tunique, perfect                :  97.64%   20106x\n",
      "|      1m 51s \tunique, imperfect              :   1.61%     332x\n",
      "|      1m 51s \tmultiple, cleanly composed     :   0.25%      51x\n",
      "|      1m 51s \tmultiple, non-perfect          :   0.25%      52x\n",
      "|      1m 51s \tnot mapped                     :   0.25%      52x\n",
      "\n",
      "**********************************************************************************************\n",
      "*                                                                                            *\n",
      "*      1m 51s Mapping subhead nodes 0.4 ==> 0.7                                              *\n",
      "*                                                                                            *\n",
      "**********************************************************************************************\n",
      "\n",
      "|      1m 51s Extending slot mapping 0.4 ==> 0.7 for subhead nodes\n",
      "|      1m 51s \tDone\n",
      "..............................................................................................\n",
      ".      1m 51s Statistics for 0.4 ==> 0.7 (subhead)                                           .\n",
      "..............................................................................................\n",
      "|      1m 51s \tTOTAL                          : 100.00%    1360x\n",
      "|      1m 51s \tunique, perfect                :   2.72%      37x\n",
      "|      1m 51s \tunique, imperfect              :  97.21%    1322x\n",
      "|      1m 51s \tmultiple, non-perfect          :   0.07%       1x\n",
      "..............................................................................................\n",
      ".      1m 51s Write edge as TF feature omap#0.4-0.7                                          .\n",
      "..............................................................................................\n",
      "  0.00s Exporting 0 node and 1 edge and 0 config features to ~/github/Dans-labs/clariah-gm/tf/0.7:\n",
      "   |       16s T omap#0.4-0.7         to ~/github/Dans-labs/clariah-gm/tf/0.7\n",
      "    16s Exported 0 node features and 1 edge features and 0 config features to ~/github/Dans-labs/clariah-gm/tf/0.7\n"
     ]
    }
   ],
   "source": [
    "V.makeVersionMapping()"
   ]
  },
  {
   "cell_type": "markdown",
   "metadata": {},
   "source": [
    "The result is a new feature in the 0.7 version of the dataset:"
   ]
  },
  {
   "cell_type": "code",
   "execution_count": 15,
   "metadata": {},
   "outputs": [
    {
     "name": "stdout",
     "output_type": "stream",
     "text": [
      "-rw-r--r--  1 dirk  staff  44603646 Jan 30 14:58 /Users/dirk/github/Dans-labs/clariah-gm/tf/0.7/omap#0.4-0.7.tf\n"
     ]
    }
   ],
   "source": [
    "!ls -l ~/github/Dans-labs/clariah-gm/tf/{vb}/omap#{va}-{vb}.tf"
   ]
  },
  {
   "cell_type": "markdown",
   "metadata": {},
   "source": [
    "## Observations\n",
    "\n",
    "1. in the vast majority of cases, a node in the source version has just one obvious counterpart in the target version\n",
    "2. most cases of ambiguity arise in the node type `line`.\n",
    "\n",
    "Maybe we can shed some light on those cases.\n",
    "\n",
    "First we load the mapping as a TF edge feature:\n"
   ]
  },
  {
   "cell_type": "markdown",
   "metadata": {},
   "source": [
    "We are interested in mappings between line nodes which are diagnosed as **multiple, non-perfect**.\n",
    "First we ask for the list of diagnostic labels:"
   ]
  },
  {
   "cell_type": "code",
   "execution_count": 16,
   "metadata": {},
   "outputs": [
    {
     "name": "stdout",
     "output_type": "stream",
     "text": [
      "b = unique, perfect\n",
      "d = multiple, one perfect\n",
      "c = unique, imperfect\n",
      "f = multiple, cleanly composed\n",
      "e = multiple, non-perfect\n",
      "a = not mapped\n"
     ]
    }
   ],
   "source": [
    "V.legend()"
   ]
  },
  {
   "cell_type": "markdown",
   "metadata": {},
   "source": [
    "We need to inspect line nodes in version 0.6 that have label `e`:"
   ]
  },
  {
   "cell_type": "code",
   "execution_count": 17,
   "metadata": {},
   "outputs": [
    {
     "name": "stdout",
     "output_type": "stream",
     "text": [
      "<class 'tuple'>\n",
      "10612\n"
     ]
    }
   ],
   "source": [
    "diags = V.getDiagnosis(node=\"line\", label=\"e\")\n",
    "print(type(diags))\n",
    "print(len(diags))"
   ]
  },
  {
   "cell_type": "code",
   "execution_count": 18,
   "metadata": {},
   "outputs": [
    {
     "data": {
      "text/plain": [
       "'VOOR ILE DE MAYO 25 februari 1610.'"
      ]
     },
     "execution_count": 18,
     "metadata": {},
     "output_type": "execute_result"
    }
   ],
   "source": [
    "T[va].text(diags[0])"
   ]
  },
  {
   "cell_type": "code",
   "execution_count": 19,
   "metadata": {},
   "outputs": [
    {
     "data": {
      "text/plain": [
       "{5340753: 19, 5340757: 4}"
      ]
     },
     "execution_count": 19,
     "metadata": {},
     "output_type": "execute_result"
    }
   ],
   "source": [
    "V.edge[diags[0]]"
   ]
  },
  {
   "cell_type": "code",
   "execution_count": 20,
   "metadata": {},
   "outputs": [
    {
     "name": "stdout",
     "output_type": "stream",
     "text": [
      "dis=19 text=VOOR ILE DE MAYO De eerste drie brieven, door Both op reis naar Indië geschrovon, wijken niet af van\n",
      "dis= 4 text= 25 februari 1610.\n"
     ]
    }
   ],
   "source": [
    "for (lnb, dis) in V.edge[diags[0]].items():\n",
    "    print(f\"dis={dis:>2} text={T[vb].text(lnb)}\")"
   ]
  },
  {
   "cell_type": "markdown",
   "metadata": {},
   "source": [
    "# Explanation\n",
    "\n",
    "In the target version footnotes occupy lines themselves. Linebreaks in footnotes now become linebreaks in the text as a whole.\n",
    "So lines in the source version may become split into several parts when they have a reference to a multiline footnote.\n",
    "\n",
    "The mapping then detects the two target lines, each of which is an imperfect target of the source line.\n",
    "We cannot do much about it.\n",
    "\n",
    "We could have made another coding decision: line breaks in footnotes are different from linebreaks in the body text.\n",
    "Then we would have a good correspondence between the lines in both versions."
   ]
  }
 ],
 "metadata": {
  "kernelspec": {
   "display_name": "Python 3",
   "language": "python",
   "name": "python3"
  },
  "language_info": {
   "codemirror_mode": {
    "name": "ipython",
    "version": 3
   },
   "file_extension": ".py",
   "mimetype": "text/x-python",
   "name": "python",
   "nbconvert_exporter": "python",
   "pygments_lexer": "ipython3",
   "version": "3.9.5"
  },
  "widgets": {
   "application/vnd.jupyter.widget-state+json": {
    "state": {},
    "version_major": 2,
    "version_minor": 0
   }
  }
 },
 "nbformat": 4,
 "nbformat_minor": 4
}
