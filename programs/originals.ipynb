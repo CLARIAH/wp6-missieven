{
 "cells": [
  {
   "cell_type": "markdown",
   "id": "f251b67d-58b8-42fc-945c-0550a1689df4",
   "metadata": {},
   "source": [
    "# Export original text"
   ]
  },
  {
   "cell_type": "code",
   "execution_count": 1,
   "id": "35bce8bf-64d3-41fc-89e2-a6a2149f99ff",
   "metadata": {
    "ExecuteTime": {
     "end_time": "2018-10-18T10:40:34.922214Z",
     "start_time": "2018-10-18T10:40:34.901689Z"
    }
   },
   "outputs": [],
   "source": [
    "%load_ext autoreload\n",
    "%autoreload 2"
   ]
  },
  {
   "cell_type": "code",
   "execution_count": 2,
   "id": "39066cf9-a9ac-4fc0-89af-5bb2ddbe4424",
   "metadata": {},
   "outputs": [],
   "source": [
    "from tf.app import use\n",
    "from exportorig import Export"
   ]
  },
  {
   "cell_type": "code",
   "execution_count": 3,
   "id": "4aa9fbbd-b3c8-4cc8-83dc-ec06623e8ead",
   "metadata": {},
   "outputs": [
    {
     "data": {
      "text/markdown": [
       "**Locating corpus resources ...**"
      ],
      "text/plain": [
       "<IPython.core.display.Markdown object>"
      ]
     },
     "metadata": {},
     "output_type": "display_data"
    },
    {
     "data": {
      "text/html": [
       "<b title=\"local github\">app:</b> <span title=\"repo clone offline under /Users/me/github\">~/github/CLARIAH/wp6-missieven/app</span>"
      ],
      "text/plain": [
       "<IPython.core.display.HTML object>"
      ]
     },
     "metadata": {},
     "output_type": "display_data"
    },
    {
     "data": {
      "text/html": [
       "<b title=\"local github\">data:</b> <span title=\"repo clone offline under /Users/me/github\">~/github/CLARIAH/wp6-missieven/tf/1.0e</span>"
      ],
      "text/plain": [
       "<IPython.core.display.HTML object>"
      ]
     },
     "metadata": {},
     "output_type": "display_data"
    },
    {
     "data": {
      "text/html": [
       "<b title=\"local github\">data:</b> <span title=\"repo clone offline under /Users/me/github\">~/github/CLARIAH/wp6-missieven/ner</span>"
      ],
      "text/plain": [
       "<IPython.core.display.HTML object>"
      ]
     },
     "metadata": {},
     "output_type": "display_data"
    },
    {
     "data": {
      "text/html": [
       "\n",
       "            <b>TF:</b> <a target=\"_blank\" href=\"https://annotation.github.io/text-fabric/tf/cheatsheet.html\" title=\"text-fabric api\">TF API 12.5.2</a>, <a target=\"_blank\" href=\"https://github.com/CLARIAH/wp6-missieven/blob/master/app\" title=\"CLARIAH/wp6-missieven app\">CLARIAH/wp6-missieven/app  v3</a>, <a target=\"_blank\" href=\"https://annotation.github.io/text-fabric/tf/about/searchusage.html\" title=\"Search Templates Introduction and Reference\">Search Reference</a><br>\n",
       "            <b>Data:</b> <a target=\"_blank\" href=\"https://github.com/CLARIAH/wp6-missieven/blob/master/docs/about.md\" title=\"provenance of General Missives Dutch East India Company 1600-1800\">CLARIAH - wp6-missieven 1.0e</a>, <a target=\"_blank\" href=\"https://annotation.github.io/text-fabric/tf/writing/\" title=\"How TF features represent text\">Character table</a>, <a target=\"_blank\" href=\"https://github.com/CLARIAH/wp6-missieven/blob/master/docs/transcription.md\" title=\"CLARIAH - wp6-missieven feature documentation\">Feature docs</a><br>\n",
       "            <details class=\"nodeinfo\"><summary><b>Node types</b></summary>\n",
       "<table class=\"nodeinfo\">\n",
       "    <tr>\n",
       "        <th>Name</th>\n",
       "        <th># of nodes</th>\n",
       "        <th># slots / node</th>\n",
       "        <th>% coverage</th>\n",
       "    </tr>\n",
       "\n",
       "<tr>\n",
       "    <th>volume</th>\n",
       "    <td>14</td>\n",
       "    <td>426954.79</td>\n",
       "    <td><b>100</b></td>\n",
       "</tr>\n",
       "\n",
       "<tr>\n",
       "    <th>letter</th>\n",
       "    <td>607</td>\n",
       "    <td>9847.39</td>\n",
       "    <td><b>100</b></td>\n",
       "</tr>\n",
       "\n",
       "<tr>\n",
       "    <th>page</th>\n",
       "    <td>11215</td>\n",
       "    <td>532.98</td>\n",
       "    <td><b>100</b></td>\n",
       "</tr>\n",
       "\n",
       "<tr>\n",
       "    <th>table</th>\n",
       "    <td>491</td>\n",
       "    <td>137.91</td>\n",
       "    <td>1</td>\n",
       "</tr>\n",
       "\n",
       "<tr>\n",
       "    <th>para</th>\n",
       "    <td>34773</td>\n",
       "    <td>100.79</td>\n",
       "    <td>59</td>\n",
       "</tr>\n",
       "\n",
       "<tr>\n",
       "    <th>remark</th>\n",
       "    <td>24110</td>\n",
       "    <td>97.49</td>\n",
       "    <td>39</td>\n",
       "</tr>\n",
       "\n",
       "<tr>\n",
       "    <th>head</th>\n",
       "    <td>607</td>\n",
       "    <td>31.12</td>\n",
       "    <td>0</td>\n",
       "</tr>\n",
       "\n",
       "<tr>\n",
       "    <th>note</th>\n",
       "    <td>12476</td>\n",
       "    <td>16.88</td>\n",
       "    <td>4</td>\n",
       "</tr>\n",
       "\n",
       "<tr>\n",
       "    <th>line</th>\n",
       "    <td>526918</td>\n",
       "    <td>11.34</td>\n",
       "    <td><b>100</b></td>\n",
       "</tr>\n",
       "\n",
       "<tr>\n",
       "    <th>row</th>\n",
       "    <td>8350</td>\n",
       "    <td>8.10</td>\n",
       "    <td>1</td>\n",
       "</tr>\n",
       "\n",
       "<tr>\n",
       "    <th>entity</th>\n",
       "    <td>4659</td>\n",
       "    <td>6.26</td>\n",
       "    <td>0</td>\n",
       "</tr>\n",
       "\n",
       "<tr>\n",
       "    <th>folio</th>\n",
       "    <td>7899</td>\n",
       "    <td>2.63</td>\n",
       "    <td>0</td>\n",
       "</tr>\n",
       "\n",
       "<tr>\n",
       "    <th>cell</th>\n",
       "    <td>32302</td>\n",
       "    <td>2.09</td>\n",
       "    <td>1</td>\n",
       "</tr>\n",
       "\n",
       "<tr>\n",
       "    <th>ent</th>\n",
       "    <td>17756</td>\n",
       "    <td>1.64</td>\n",
       "    <td>0</td>\n",
       "</tr>\n",
       "\n",
       "<tr>\n",
       "    <th>subhead</th>\n",
       "    <td>1864</td>\n",
       "    <td>1.42</td>\n",
       "    <td>0</td>\n",
       "</tr>\n",
       "\n",
       "<tr>\n",
       "    <th><i>word</i></th>\n",
       "    <td>5977367</td>\n",
       "    <td>1.00</td>\n",
       "    <td><b>100</b></td>\n",
       "</tr>\n",
       "</table></details>\n",
       "            <b>Sets:</b> no custom sets<br>\n",
       "            <b>Features:</b><br>\n",
       "<details><summary><b>General Missives Dutch East India Company 1600-1800</b></summary>\n",
       "    <div class=\"fcorpus\">\n",
       "\n",
       "<div class=\"frow\">\n",
       "    <div class=\"fnamecat \">\n",
       "<a target=\"_blank\" href=\"https://github.com/CLARIAH/wp6-missieven/blob/master/docs/transcription.md\" title=\"~/github/CLARIAH/wp6-missieven/tf/1.0e/author.tf\">author</a>\n",
       "</div>\n",
       "<div class=\"fmono\">str</div>\n",
       "\n",
       "<span> authors of the letter, surnames only</span>\n",
       "\n",
       "</div>\n",
       "\n",
       "<div class=\"frow\">\n",
       "    <div class=\"fnamecat \">\n",
       "<a target=\"_blank\" href=\"https://github.com/CLARIAH/wp6-missieven/blob/master/docs/transcription.md\" title=\"~/github/CLARIAH/wp6-missieven/tf/1.0e/authorFull.tf\">authorFull</a>\n",
       "</div>\n",
       "<div class=\"fmono\">str</div>\n",
       "\n",
       "<span> authors of the letter, full names</span>\n",
       "\n",
       "</div>\n",
       "\n",
       "<div class=\"frow\">\n",
       "    <div class=\"fnamecat \">\n",
       "<a target=\"_blank\" href=\"https://github.com/CLARIAH/wp6-missieven/blob/master/docs/transcription.md\" title=\"~/github/CLARIAH/wp6-missieven/tf/1.0e/col.tf\">col</a>\n",
       "</div>\n",
       "<div class=\"fmono\">int</div>\n",
       "\n",
       "<span> column number of a column in a row in a table</span>\n",
       "\n",
       "</div>\n",
       "\n",
       "<div class=\"frow\">\n",
       "    <div class=\"fnamecat \">\n",
       "<a target=\"_blank\" href=\"https://github.com/CLARIAH/wp6-missieven/blob/master/docs/transcription.md\" title=\"~/github/CLARIAH/wp6-missieven/tf/1.0e/day.tf\">day</a>\n",
       "</div>\n",
       "<div class=\"fmono\">int</div>\n",
       "\n",
       "<span> day part of the date of the letter</span>\n",
       "\n",
       "</div>\n",
       "\n",
       "<div class=\"frow\">\n",
       "    <div class=\"fnamecat \">\n",
       "<a target=\"_blank\" href=\"https://github.com/CLARIAH/wp6-missieven/blob/master/docs/transcription.md\" title=\"~/github/CLARIAH/wp6-missieven/tf/1.0e/eid.tf\">eid</a>\n",
       "</div>\n",
       "<div class=\"fmono\">str</div>\n",
       "\n",
       "<span> entity identifier base on string value of occurrence</span>\n",
       "\n",
       "</div>\n",
       "\n",
       "<div class=\"frow\">\n",
       "    <div class=\"fnamecat \">\n",
       "<a target=\"_blank\" href=\"https://github.com/CLARIAH/wp6-missieven/blob/master/docs/transcription.md\" title=\"~/github/CLARIAH/wp6-missieven/tf/1.0e/isden.tf\">isden</a>\n",
       "</div>\n",
       "<div class=\"fmono\">int</div>\n",
       "\n",
       "<span> whether a word is the denominator in fraction, e.g. 4 in 1/4</span>\n",
       "\n",
       "</div>\n",
       "\n",
       "<div class=\"frow\">\n",
       "    <div class=\"fnamecat \">\n",
       "<a target=\"_blank\" href=\"https://github.com/CLARIAH/wp6-missieven/blob/master/docs/transcription.md\" title=\"~/github/CLARIAH/wp6-missieven/tf/1.0e/isemph.tf\">isemph</a>\n",
       "</div>\n",
       "<div class=\"fmono\">str</div>\n",
       "\n",
       "<span> whether a word is emphasized by typography</span>\n",
       "\n",
       "</div>\n",
       "\n",
       "<div class=\"frow\">\n",
       "    <div class=\"fnamecat \">\n",
       "<a target=\"_blank\" href=\"https://github.com/CLARIAH/wp6-missieven/blob/master/docs/transcription.md\" title=\"~/github/CLARIAH/wp6-missieven/tf/1.0e/isfolio.tf\">isfolio</a>\n",
       "</div>\n",
       "<div class=\"fmono\">int</div>\n",
       "\n",
       "<span> a folio reference</span>\n",
       "\n",
       "</div>\n",
       "\n",
       "<div class=\"frow\">\n",
       "    <div class=\"fnamecat \">\n",
       "<a target=\"_blank\" href=\"https://github.com/CLARIAH/wp6-missieven/blob/master/docs/transcription.md\" title=\"~/github/CLARIAH/wp6-missieven/tf/1.0e/isnote.tf\">isnote</a>\n",
       "</div>\n",
       "<div class=\"fmono\">int</div>\n",
       "\n",
       "<span> whether a word belongs to footnote text</span>\n",
       "\n",
       "</div>\n",
       "\n",
       "<div class=\"frow\">\n",
       "    <div class=\"fnamecat \">\n",
       "<a target=\"_blank\" href=\"https://github.com/CLARIAH/wp6-missieven/blob/master/docs/transcription.md\" title=\"~/github/CLARIAH/wp6-missieven/tf/1.0e/isnum.tf\">isnum</a>\n",
       "</div>\n",
       "<div class=\"fmono\">int</div>\n",
       "\n",
       "<span> whether a word is the numerator in fraction, e.g. 1 in 1/4</span>\n",
       "\n",
       "</div>\n",
       "\n",
       "<div class=\"frow\">\n",
       "    <div class=\"fnamecat \">\n",
       "<a target=\"_blank\" href=\"https://github.com/CLARIAH/wp6-missieven/blob/master/docs/transcription.md\" title=\"~/github/CLARIAH/wp6-missieven/tf/1.0e/isorig.tf\">isorig</a>\n",
       "</div>\n",
       "<div class=\"fmono\">int</div>\n",
       "\n",
       "<span> whether a word belongs to original text</span>\n",
       "\n",
       "</div>\n",
       "\n",
       "<div class=\"frow\">\n",
       "    <div class=\"fnamecat \">\n",
       "<a target=\"_blank\" href=\"https://github.com/CLARIAH/wp6-missieven/blob/master/docs/transcription.md\" title=\"~/github/CLARIAH/wp6-missieven/tf/1.0e/isq.tf\">isq</a>\n",
       "</div>\n",
       "<div class=\"fmono\">int</div>\n",
       "\n",
       "<span> whether a word is a numerical fraction, e.g. 1/4</span>\n",
       "\n",
       "</div>\n",
       "\n",
       "<div class=\"frow\">\n",
       "    <div class=\"fnamecat \">\n",
       "<a target=\"_blank\" href=\"https://github.com/CLARIAH/wp6-missieven/blob/master/docs/transcription.md\" title=\"~/github/CLARIAH/wp6-missieven/tf/1.0e/isref.tf\">isref</a>\n",
       "</div>\n",
       "<div class=\"fmono\">int</div>\n",
       "\n",
       "<span> whether a word belongs to the text of reference</span>\n",
       "\n",
       "</div>\n",
       "\n",
       "<div class=\"frow\">\n",
       "    <div class=\"fnamecat \">\n",
       "<a target=\"_blank\" href=\"https://github.com/CLARIAH/wp6-missieven/blob/master/docs/transcription.md\" title=\"~/github/CLARIAH/wp6-missieven/tf/1.0e/isremark.tf\">isremark</a>\n",
       "</div>\n",
       "<div class=\"fmono\">int</div>\n",
       "\n",
       "<span> whether a word belongs to the text of editorial remarks</span>\n",
       "\n",
       "</div>\n",
       "\n",
       "<div class=\"frow\">\n",
       "    <div class=\"fnamecat \">\n",
       "<a target=\"_blank\" href=\"https://github.com/CLARIAH/wp6-missieven/blob/master/docs/transcription.md\" title=\"~/github/CLARIAH/wp6-missieven/tf/1.0e/isspecial.tf\">isspecial</a>\n",
       "</div>\n",
       "<div class=\"fmono\">int</div>\n",
       "\n",
       "<span> whether a word has special typography possibly with OCR mistakes as well</span>\n",
       "\n",
       "</div>\n",
       "\n",
       "<div class=\"frow\">\n",
       "    <div class=\"fnamecat \">\n",
       "<a target=\"_blank\" href=\"https://github.com/CLARIAH/wp6-missieven/blob/master/docs/transcription.md\" title=\"~/github/CLARIAH/wp6-missieven/tf/1.0e/issub.tf\">issub</a>\n",
       "</div>\n",
       "<div class=\"fmono\">int</div>\n",
       "\n",
       "<span> whether a word has subscript typography possibly indicating the denominator of a fraction</span>\n",
       "\n",
       "</div>\n",
       "\n",
       "<div class=\"frow\">\n",
       "    <div class=\"fnamecat \">\n",
       "<a target=\"_blank\" href=\"https://github.com/CLARIAH/wp6-missieven/blob/master/docs/transcription.md\" title=\"~/github/CLARIAH/wp6-missieven/tf/1.0e/issuper.tf\">issuper</a>\n",
       "</div>\n",
       "<div class=\"fmono\">int</div>\n",
       "\n",
       "<span> whether a word has superscript typography possibly indicating the numerator of a fraction</span>\n",
       "\n",
       "</div>\n",
       "\n",
       "<div class=\"frow\">\n",
       "    <div class=\"fnamecat \">\n",
       "<a target=\"_blank\" href=\"https://github.com/CLARIAH/wp6-missieven/blob/master/docs/transcription.md\" title=\"~/github/CLARIAH/wp6-missieven/tf/1.0e/isund.tf\">isund</a>\n",
       "</div>\n",
       "<div class=\"fmono\">str</div>\n",
       "\n",
       "<span> whether a word is underlined by typography</span>\n",
       "\n",
       "</div>\n",
       "\n",
       "<div class=\"frow\">\n",
       "    <div class=\"fnamecat \">\n",
       "<a target=\"_blank\" href=\"https://github.com/CLARIAH/wp6-missieven/blob/master/docs/transcription.md\" title=\"~/github/CLARIAH/wp6-missieven/tf/1.0e/kind.tf\">kind</a>\n",
       "</div>\n",
       "<div class=\"fmono\">str</div>\n",
       "\n",
       "<span> entity kind</span>\n",
       "\n",
       "</div>\n",
       "\n",
       "<div class=\"frow\">\n",
       "    <div class=\"fnamecat \">\n",
       "<a target=\"_blank\" href=\"https://github.com/CLARIAH/wp6-missieven/blob/master/docs/transcription.md\" title=\"~/github/CLARIAH/wp6-missieven/tf/1.0e/mark.tf\">mark</a>\n",
       "</div>\n",
       "<div class=\"fmono\">int</div>\n",
       "\n",
       "<span> footnote mark (not necessarily the same as shown on the printed page</span>\n",
       "\n",
       "</div>\n",
       "\n",
       "<div class=\"frow\">\n",
       "    <div class=\"fnamecat \">\n",
       "<a target=\"_blank\" href=\"https://github.com/CLARIAH/wp6-missieven/blob/master/docs/transcription.md\" title=\"~/github/CLARIAH/wp6-missieven/tf/1.0e/month.tf\">month</a>\n",
       "</div>\n",
       "<div class=\"fmono\">int</div>\n",
       "\n",
       "<span> month part of the date of the letter</span>\n",
       "\n",
       "</div>\n",
       "\n",
       "<div class=\"frow\">\n",
       "    <div class=\"fnamecat \">\n",
       "<a target=\"_blank\" href=\"https://github.com/CLARIAH/wp6-missieven/blob/master/docs/transcription.md\" title=\"~/github/CLARIAH/wp6-missieven/tf/1.0e/n.tf\">n</a>\n",
       "</div>\n",
       "<div class=\"fmono\">int</div>\n",
       "\n",
       "<span> number of a volume, letter, page, para, line, table</span>\n",
       "\n",
       "</div>\n",
       "\n",
       "<div class=\"frow\">\n",
       "    <div class=\"fnamecat \">\n",
       "<a target=\"_blank\" href=\"https://github.com/CLARIAH/wp6-missieven/blob/master/docs/transcription.md\" title=\"~/github/CLARIAH/wp6-missieven/tf/1.0e/otype.tf\">otype</a>\n",
       "</div>\n",
       "<div class=\"fmono\">str</div>\n",
       "\n",
       "<span> </span>\n",
       "\n",
       "</div>\n",
       "\n",
       "<div class=\"frow\">\n",
       "    <div class=\"fnamecat \">\n",
       "<a target=\"_blank\" href=\"https://github.com/CLARIAH/wp6-missieven/blob/master/docs/transcription.md\" title=\"~/github/CLARIAH/wp6-missieven/tf/1.0e/page.tf\">page</a>\n",
       "</div>\n",
       "<div class=\"fmono\">str</div>\n",
       "\n",
       "<span> number of the first page of this letter in this volume</span>\n",
       "\n",
       "</div>\n",
       "\n",
       "<div class=\"frow\">\n",
       "    <div class=\"fnamecat \">\n",
       "<a target=\"_blank\" href=\"https://github.com/CLARIAH/wp6-missieven/blob/master/docs/transcription.md\" title=\"~/github/CLARIAH/wp6-missieven/tf/1.0e/place.tf\">place</a>\n",
       "</div>\n",
       "<div class=\"fmono\">str</div>\n",
       "\n",
       "<span> place from where the letter was sent</span>\n",
       "\n",
       "</div>\n",
       "\n",
       "<div class=\"frow\">\n",
       "    <div class=\"fnamecat \">\n",
       "<a target=\"_blank\" href=\"https://github.com/CLARIAH/wp6-missieven/blob/master/docs/transcription.md\" title=\"~/github/CLARIAH/wp6-missieven/tf/1.0e/punc.tf\">punc</a>\n",
       "</div>\n",
       "<div class=\"fmono\">str</div>\n",
       "\n",
       "<span> punctuation and/or whitespace following a wordup to the next word</span>\n",
       "\n",
       "</div>\n",
       "\n",
       "<div class=\"frow\">\n",
       "    <div class=\"fnamecat \">\n",
       "<a target=\"_blank\" href=\"https://github.com/CLARIAH/wp6-missieven/blob/master/docs/transcription.md\" title=\"~/github/CLARIAH/wp6-missieven/tf/1.0e/puncn.tf\">puncn</a>\n",
       "</div>\n",
       "<div class=\"fmono\">str</div>\n",
       "\n",
       "<span> punctuation and/or whitespace following a word,up to the next word, footnote text only</span>\n",
       "\n",
       "</div>\n",
       "\n",
       "<div class=\"frow\">\n",
       "    <div class=\"fnamecat \">\n",
       "<a target=\"_blank\" href=\"https://github.com/CLARIAH/wp6-missieven/blob/master/docs/transcription.md\" title=\"~/github/CLARIAH/wp6-missieven/tf/1.0e/punco.tf\">punco</a>\n",
       "</div>\n",
       "<div class=\"fmono\">str</div>\n",
       "\n",
       "<span> punctuation and/or whitespace following a word,up to the next word, original text only</span>\n",
       "\n",
       "</div>\n",
       "\n",
       "<div class=\"frow\">\n",
       "    <div class=\"fnamecat \">\n",
       "<a target=\"_blank\" href=\"https://github.com/CLARIAH/wp6-missieven/blob/master/docs/transcription.md\" title=\"~/github/CLARIAH/wp6-missieven/tf/1.0e/puncr.tf\">puncr</a>\n",
       "</div>\n",
       "<div class=\"fmono\">str</div>\n",
       "\n",
       "<span> punctuation and/or whitespace following a word,up to the next word, remark text only</span>\n",
       "\n",
       "</div>\n",
       "\n",
       "<div class=\"frow\">\n",
       "    <div class=\"fnamecat \">\n",
       "<a target=\"_blank\" href=\"https://github.com/CLARIAH/wp6-missieven/blob/master/docs/transcription.md\" title=\"~/github/CLARIAH/wp6-missieven/tf/1.0e/rawdate.tf\">rawdate</a>\n",
       "</div>\n",
       "<div class=\"fmono\">str</div>\n",
       "\n",
       "<span> the date the letter was sent</span>\n",
       "\n",
       "</div>\n",
       "\n",
       "<div class=\"frow\">\n",
       "    <div class=\"fnamecat \">\n",
       "<a target=\"_blank\" href=\"https://github.com/CLARIAH/wp6-missieven/blob/master/docs/transcription.md\" title=\"~/github/CLARIAH/wp6-missieven/tf/1.0e/row.tf\">row</a>\n",
       "</div>\n",
       "<div class=\"fmono\">int</div>\n",
       "\n",
       "<span> row number of a row of column in a table</span>\n",
       "\n",
       "</div>\n",
       "\n",
       "<div class=\"frow\">\n",
       "    <div class=\"fnamecat \">\n",
       "<a target=\"_blank\" href=\"https://github.com/CLARIAH/wp6-missieven/blob/master/docs/transcription.md\" title=\"~/github/CLARIAH/wp6-missieven/tf/1.0e/seq.tf\">seq</a>\n",
       "</div>\n",
       "<div class=\"fmono\">str</div>\n",
       "\n",
       "<span> ('sequence number of this letter among the letters of the same author in this volume',)</span>\n",
       "\n",
       "</div>\n",
       "\n",
       "<div class=\"frow\">\n",
       "    <div class=\"fnamecat \">\n",
       "<a target=\"_blank\" href=\"https://github.com/CLARIAH/wp6-missieven/blob/master/docs/transcription.md\" title=\"~/github/CLARIAH/wp6-missieven/tf/1.0e/status.tf\">status</a>\n",
       "</div>\n",
       "<div class=\"fmono\">str</div>\n",
       "\n",
       "<span> status of the letter, e.g. secret, copy</span>\n",
       "\n",
       "</div>\n",
       "\n",
       "<div class=\"frow\">\n",
       "    <div class=\"fnamecat \">\n",
       "<a target=\"_blank\" href=\"https://github.com/CLARIAH/wp6-missieven/blob/master/docs/transcription.md\" title=\"~/github/CLARIAH/wp6-missieven/tf/1.0e/title.tf\">title</a>\n",
       "</div>\n",
       "<div class=\"fmono\">str</div>\n",
       "\n",
       "<span> title of the letter</span>\n",
       "\n",
       "</div>\n",
       "\n",
       "<div class=\"frow\">\n",
       "    <div class=\"fnamecat \">\n",
       "<a target=\"_blank\" href=\"https://github.com/CLARIAH/wp6-missieven/blob/master/docs/transcription.md\" title=\"~/github/CLARIAH/wp6-missieven/tf/1.0e/trans.tf\">trans</a>\n",
       "</div>\n",
       "<div class=\"fmono\">str</div>\n",
       "\n",
       "<span> transcription of a word</span>\n",
       "\n",
       "</div>\n",
       "\n",
       "<div class=\"frow\">\n",
       "    <div class=\"fnamecat \">\n",
       "<a target=\"_blank\" href=\"https://github.com/CLARIAH/wp6-missieven/blob/master/docs/transcription.md\" title=\"~/github/CLARIAH/wp6-missieven/tf/1.0e/transn.tf\">transn</a>\n",
       "</div>\n",
       "<div class=\"fmono\">str</div>\n",
       "\n",
       "<span> transcription of a word, only for footnote text</span>\n",
       "\n",
       "</div>\n",
       "\n",
       "<div class=\"frow\">\n",
       "    <div class=\"fnamecat \">\n",
       "<a target=\"_blank\" href=\"https://github.com/CLARIAH/wp6-missieven/blob/master/docs/transcription.md\" title=\"~/github/CLARIAH/wp6-missieven/tf/1.0e/transo.tf\">transo</a>\n",
       "</div>\n",
       "<div class=\"fmono\">str</div>\n",
       "\n",
       "<span> transcription of a word, only for original text</span>\n",
       "\n",
       "</div>\n",
       "\n",
       "<div class=\"frow\">\n",
       "    <div class=\"fnamecat \">\n",
       "<a target=\"_blank\" href=\"https://github.com/CLARIAH/wp6-missieven/blob/master/docs/transcription.md\" title=\"~/github/CLARIAH/wp6-missieven/tf/1.0e/transr.tf\">transr</a>\n",
       "</div>\n",
       "<div class=\"fmono\">str</div>\n",
       "\n",
       "<span> transcription of a word, only for remark text</span>\n",
       "\n",
       "</div>\n",
       "\n",
       "<div class=\"frow\">\n",
       "    <div class=\"fnamecat \">\n",
       "<a target=\"_blank\" href=\"https://github.com/CLARIAH/wp6-missieven/blob/master/docs/transcription.md\" title=\"~/github/CLARIAH/wp6-missieven/tf/1.0e/vol.tf\">vol</a>\n",
       "</div>\n",
       "<div class=\"fmono\">int</div>\n",
       "\n",
       "<span> volume number</span>\n",
       "\n",
       "</div>\n",
       "\n",
       "<div class=\"frow\">\n",
       "    <div class=\"fnamecat \">\n",
       "<a target=\"_blank\" href=\"https://github.com/CLARIAH/wp6-missieven/blob/master/docs/transcription.md\" title=\"~/github/CLARIAH/wp6-missieven/tf/1.0e/weblink.tf\">weblink</a>\n",
       "</div>\n",
       "<div class=\"fmono\">str</div>\n",
       "\n",
       "<span> the page-specific part of web links for page nodes</span>\n",
       "\n",
       "</div>\n",
       "\n",
       "<div class=\"frow\">\n",
       "    <div class=\"fnamecat \">\n",
       "<a target=\"_blank\" href=\"https://github.com/CLARIAH/wp6-missieven/blob/master/docs/transcription.md\" title=\"~/github/CLARIAH/wp6-missieven/tf/1.0e/x.tf\">x</a>\n",
       "</div>\n",
       "<div class=\"fmono\">int</div>\n",
       "\n",
       "<span> column offset of a column in a row in a table</span>\n",
       "\n",
       "</div>\n",
       "\n",
       "<div class=\"frow\">\n",
       "    <div class=\"fnamecat \">\n",
       "<a target=\"_blank\" href=\"https://github.com/CLARIAH/wp6-missieven/blob/master/docs/transcription.md\" title=\"~/github/CLARIAH/wp6-missieven/tf/1.0e/year.tf\">year</a>\n",
       "</div>\n",
       "<div class=\"fmono\">int</div>\n",
       "\n",
       "<span> year part of the date of the letter</span>\n",
       "\n",
       "</div>\n",
       "\n",
       "<div class=\"frow\">\n",
       "    <div class=\"fnamecat edge\">\n",
       "<a target=\"_blank\" href=\"https://github.com/CLARIAH/wp6-missieven/blob/master/docs/transcription.md\" title=\"~/github/CLARIAH/wp6-missieven/tf/1.0e/eoccs.tf\">eoccs</a>\n",
       "</div>\n",
       "<div class=\"fmono\">none</div>\n",
       "\n",
       "<span> entity occurrences</span>\n",
       "\n",
       "</div>\n",
       "\n",
       "<div class=\"frow\">\n",
       "    <div class=\"fnamecat edge\">\n",
       "<a target=\"_blank\" href=\"https://github.com/CLARIAH/wp6-missieven/blob/master/docs/transcription.md\" title=\"~/github/CLARIAH/wp6-missieven/tf/1.0e/note.tf\">note</a>\n",
       "</div>\n",
       "<div class=\"fmono\">none</div>\n",
       "\n",
       "<span> edge between a word and the footnotes associated with it</span>\n",
       "\n",
       "</div>\n",
       "\n",
       "<div class=\"frow\">\n",
       "    <div class=\"fnamecat edge\">\n",
       "<a target=\"_blank\" href=\"https://github.com/CLARIAH/wp6-missieven/blob/master/docs/transcription.md\" title=\"~/github/CLARIAH/wp6-missieven/tf/1.0e/oslots.tf\">oslots</a>\n",
       "</div>\n",
       "<div class=\"fmono\">none</div>\n",
       "\n",
       "<span> </span>\n",
       "\n",
       "</div>\n",
       "\n",
       "    </div>\n",
       "</details>\n",
       "\n",
       "            <b>Settings:</b><br><details ><summary><b>specified</b></summary><ol><li><b>apiVersion</b>: <code>3</code></li><li><b>appName</b>: <code>CLARIAH/wp6-missieven</code></li><li><b>appPath</b>: <code>/Users/me/github/CLARIAH/wp6-missieven/app</code></li><li><b>commit</b>: <i>no value</i></li><li><details><summary><b>css</b>:</summary><code>.remark {<br>  font-size: large;<br>  font-style: italic;<br>}<br>.folio {<br>  font-size: small;<br>  color: #668866;<br>}<br>.fmark:after {<br>  font-size: small;<br>  font-weight: bold;<br>  vertical-align: super;<br>  color: #ddaa22;<br>}<br>.note {<br>  vertical-align: super;<br>  font-size: small;<br>  color: #774400;<br>}<br>.ref {<br>  font-size: small;<br>  font-weight: bold;<br>  color: #666688;<br>}<br>.emph {<br>  font-style: italic;<br>}<br>.und {<br>  text-decoration: underline;<br>}<br>.q {<br>  color: #777777;<br>  font-weight: bold;<br>}<br>.num {<br>  font-size: small;<br>  vertical-align: super;<br>}<br>.den {<br>  font-size: small;<br>  vertical-align: sub;<br>}<br>.sub {<br>  vertical-align: sub;<br>}<br>.super {<br>  vertical-align: super;<br>}<br>.special {<br>  font-family: monospace;<br>  font-weight: bold;<br>  color: #886666;<br>}<br></code></details></li><li><details><summary><b>dataDisplay</b>:</summary><li><details open>\n",
       "                <summary><b>textFormats</b>:</summary>\n",
       "                <ul><li><b>layout-full</b>: {<b>method</b>: <code>layoutFull</code>}</li><li><b>layout-nonorig</b>: {<b>method</b>: <code>layoutNonOrig</code>}</li><li><b>layout-nonotes</b>: {<b>method</b>: <code>layoutNoNotes</code>}</li><li><b>layout-noremarks</b>: {<b>method</b>: <code>layoutNoRemarks</code>}</li><li><b>layout-notes</b>: {<b>method</b>: <code>layoutNotes</code>}</li><li><b>layout-orig</b>: {<b>method</b>: <code>layoutOrig</code>}</li><li><b>layout-remarks</b>: {<b>method</b>: <code>layoutRemarks</code>}</li></ul>\n",
       "                </details></li></details></li><li><details><summary><b>docs</b>:</summary><ul><li><b>docPage</b>: <code>about</code></li><li><details><summary><b>featureBase</b>:</summary><code>https://github.com/{org}/{repo}/blob/master/docs/transcription{docExt}</code></details></li><li><b>featurePage</b>: <code>''</code></li></ul></details></li><li><b>interfaceDefaults</b>: <code>{}</code></li><li><b>isCompatible</b>: <code>True</code></li><li><b>local</b>: <code>clone</code></li><li><b>localDir</b>: <code>/Users/me/github/CLARIAH/wp6-missieven/_temp</code></li><li><details><summary><b>provenanceSpec</b>:</summary><ul><li><b>corpus</b>: <code>General Missives Dutch East India Company 1600-1800</code></li><li><b>doi</b>: <code>10.5281/zenodo.4011801</code></li><li><b>extraData</b>: <code>ner</code></li><li><b>org</b>: <code>CLARIAH</code></li><li><b>relative</b>: <code>/tf</code></li><li><b>repo</b>: <code>wp6-missieven</code></li><li><b>version</b>: <code>1.0e</code></li><li><details><summary><b>webBase</b>:</summary><code>http://resources.huygens.knaw.nl/retroboeken/generalemissiven</code></details></li><li><b>webFeature</b>: <code>weblink</code></li><li><b>webHint</b>: <code>Show this document on Huygens</code></li><li><details><summary><b>webOffset</b>:</summary><li><details open>\n",
       "                <summary><b>2</b>:</summary>\n",
       "                <ul><li><b>1</b>: <code>23</code></li><li><b>10</b>: <code>11</code></li><li><b>11</b>: <code>11</code></li><li><b>12</b>: <code>11</code></li><li><b>13</b>: <code>11</code></li><li><b>2</b>: <code>13</code></li><li><b>3</b>: <code>13</code></li><li><b>4</b>: <code>15</code></li><li><b>5</b>: <code>15</code></li><li><b>6</b>: <code>15</code></li><li><b>7</b>: <code>13</code></li><li><b>8</b>: <code>11</code></li><li><b>9</b>: <code>13</code></li></ul>\n",
       "                </details></li></details></li><li><b>webUrl</b>: <code>{webBase}/#page=&lt;2&gt;&amp;source=&lt;1&gt;</code></li></ul></details></li><li><b>release</b>: <i>no value</i></li><li><b>typeDisplay</b>: <code>{}</code></li></ol></details>\n"
      ],
      "text/plain": [
       "<IPython.core.display.HTML object>"
      ]
     },
     "metadata": {},
     "output_type": "display_data"
    },
    {
     "data": {
      "text/html": [
       "<style>tr.tf.ltr, td.tf.ltr, th.tf.ltr { text-align: left ! important;}\n",
       "tr.tf.rtl, td.tf.rtl, th.tf.rtl { text-align: right ! important;}\n",
       "@font-face {\n",
       "  font-family: \"Gentium Plus\";\n",
       "  src: local('Gentium Plus'), local('GentiumPlus'),\n",
       "    url('/browser/static/fonts/GentiumPlus-R.woff') format('woff'),\n",
       "    url('https://github.com/annotation/text-fabric/blob/master/tf/browser/static/fonts/GentiumPlus-R.woff?raw=true') format('woff');\n",
       "}\n",
       "\n",
       "@font-face {\n",
       "  font-family: \"Ezra SIL\";\n",
       "  src: local('Ezra SIL'), local('EzraSIL'),\n",
       "    url('/browser/static/fonts/SILEOT.woff') format('woff'),\n",
       "    url('https://github.com/annotation/text-fabric/blob/master/tf/browser/static/fonts/SILEOT.woff?raw=true') format('woff');\n",
       "}\n",
       "\n",
       "@font-face {\n",
       "  font-family: \"SBL Hebrew\";\n",
       "  src: local('SBL Hebrew'), local('SBLHebrew'),\n",
       "    url('/browser/static/fonts/SBL_Hbrw.woff') format('woff'),\n",
       "    url('https://github.com/annotation/text-fabric/blob/master/tf/browser/static/fonts/SBL_Hbrw.woff?raw=true') format('woff');\n",
       "}\n",
       "\n",
       "@font-face {\n",
       "  font-family: \"Estrangelo Edessa\";\n",
       "  src: local('Estrangelo Edessa'), local('EstrangeloEdessa');\n",
       "    url('/browser/static/fonts/SyrCOMEdessa.woff') format('woff'),\n",
       "    url('https://github.com/annotation/text-fabric/blob/master/tf/browser/static/fonts/SyrCOMEdessa.woff?raw=true') format('woff');\n",
       "}\n",
       "\n",
       "@font-face {\n",
       "  font-family: AmiriQuran;\n",
       "  font-style: normal;\n",
       "  font-weight: 400;\n",
       "  src: local('Amiri Quran'), local('AmiriQuran'),\n",
       "    url('/browser/static/fonts/AmiriQuran.woff') format('woff'),\n",
       "    url('https://github.com/annotation/text-fabric/blob/master/tf/browser/static/fonts/AmiriQuran.woff?raw=true') format('woff');\n",
       "}\n",
       "\n",
       "@font-face {\n",
       "  font-family: AmiriQuranColored;\n",
       "  font-style: normal;\n",
       "  font-weight: 400;\n",
       "  src: local('Amiri Quran Colored'), local('AmiriQuranColored'),\n",
       "    url('/browser/static/fonts/AmiriQuranColored.woff') format('woff'),\n",
       "    url('https://github.com/annotation/text-fabric/blob/master/tf/browser/static/fonts/AmiriQuranColored.woff?raw=true') format('woff');\n",
       "}\n",
       "\n",
       "@font-face {\n",
       "  font-family: \"Santakku\";\n",
       "  src: local('Santakku'),\n",
       "    url('/browser/static/fonts/Santakku.woff') format('woff'),\n",
       "    url('https://github.com/annotation/text-fabric/blob/master/tf/browser/static/fonts/Santakku.woff?raw=true') format('woff');\n",
       "}\n",
       "\n",
       "@font-face {\n",
       "  font-family: \"SantakkuM\";\n",
       "  src: local('SantakkuM'),\n",
       "    url('/browser/static/fonts/SantakkuM.woff') format('woff'),\n",
       "    url('https://github.com/annotation/text-fabric/blob/master/tf/browser/static/fonts/SantakkuM.woff?raw=true') format('woff');\n",
       "}\n",
       "\n",
       "/* bypassing some classical notebook settings */\n",
       "div#notebook {\n",
       "  line-height: unset;\n",
       "}\n",
       "/* neutral text */\n",
       ".txtn,.txtn a:visited,.txtn a:link {\n",
       "    font-family: sans-serif;\n",
       "    font-size: medium;\n",
       "    direction: ltr;\n",
       "    unicode-bidi: embed;\n",
       "    text-decoration: none;\n",
       "    color: var(--text-color);\n",
       "}\n",
       "/* transcription text */\n",
       ".txtt,.txtt a:visited,.txtt a:link {\n",
       "    font-family: monospace;\n",
       "    font-size: medium;\n",
       "    direction: ltr;\n",
       "    unicode-bidi: embed;\n",
       "    text-decoration: none;\n",
       "    color: var(--text-color);\n",
       "}\n",
       "/* source text */\n",
       ".txto,.txto a:visited,.txto a:link {\n",
       "    font-family: serif;\n",
       "    font-size: medium;\n",
       "    direction: ltr;\n",
       "    unicode-bidi: embed;\n",
       "    text-decoration: none;\n",
       "    color: var(--text-color);\n",
       "}\n",
       "/* phonetic text */\n",
       ".txtp,.txtp a:visited,.txtp a:link {\n",
       "    font-family: Gentium, sans-serif;\n",
       "    font-size: medium;\n",
       "    direction: ltr;\n",
       "    unicode-bidi: embed;\n",
       "    text-decoration: none;\n",
       "    color: var(--text-color);\n",
       "}\n",
       "/* original script text */\n",
       ".txtu,.txtu a:visited,.txtu a:link {\n",
       "    font-family: Gentium, sans-serif;\n",
       "    font-size: medium;\n",
       "    text-decoration: none;\n",
       "    color: var(--text-color);\n",
       "}\n",
       "/* hebrew */\n",
       ".txtu.hbo,.lex.hbo {\n",
       "    font-family: \"Ezra SIL\", \"SBL Hebrew\", sans-serif;\n",
       "    font-size: large;\n",
       "    direction: rtl ! important;\n",
       "    unicode-bidi: embed;\n",
       "}\n",
       "/* syriac */\n",
       ".txtu.syc,.lex.syc {\n",
       "    font-family: \"Estrangelo Edessa\", sans-serif;\n",
       "    font-size: medium;\n",
       "    direction: rtl ! important;\n",
       "    unicode-bidi: embed;\n",
       "}\n",
       "/* neo aramaic */\n",
       ".txtu.cld,.lex.cld {\n",
       "    font-family: \"CharisSIL-R\", sans-serif;\n",
       "    font-size: medium;\n",
       "    direction: ltr ! important;\n",
       "    unicode-bidi: embed;\n",
       "}\n",
       "/* standard arabic */\n",
       ".txtu.ara,.lex.ara {\n",
       "    font-family: \"AmiriQuran\", sans-serif;\n",
       "    font-size: large;\n",
       "    direction: rtl ! important;\n",
       "    unicode-bidi: embed;\n",
       "}\n",
       "/* cuneiform */\n",
       ".txtu.akk,.lex.akk {\n",
       "    font-family: Santakku, sans-serif;\n",
       "    font-size: large;\n",
       "    direction: ltr ! important;\n",
       "    unicode-bidi: embed;\n",
       "}\n",
       ".txtu.uga,.lex.uga {\n",
       "    font-family: sans-serif;\n",
       "    /*font-family: Noto Sans Ugaritic, sans-serif;*/\n",
       "    font-size: large;\n",
       "    direction: ltr ! important;\n",
       "    unicode-bidi: embed;\n",
       "}\n",
       "/* greek */\n",
       ".txtu.grc,.lex.grc a:link {\n",
       "    font-family: Gentium, sans-serif;\n",
       "    font-size: medium;\n",
       "    direction: ltr ! important;\n",
       "    unicode-bidi: embed;\n",
       "}\n",
       "a:hover {\n",
       "    text-decoration: underline | important;\n",
       "    color: #0000ff | important;\n",
       "}\n",
       ".ltr {\n",
       "    direction: ltr ! important;\n",
       "    unicode-bidi: embed;\n",
       "}\n",
       ".rtl {\n",
       "    direction: rtl ! important;\n",
       "    unicode-bidi: embed;\n",
       "}\n",
       ".ubd {\n",
       "    unicode-bidi: embed;\n",
       "}\n",
       ".col {\n",
       "   display: inline-block;\n",
       "}\n",
       ".features {\n",
       "    font-family: monospace;\n",
       "    font-size: medium;\n",
       "    font-weight: bold;\n",
       "    color: var(--features);\n",
       "    display: flex;\n",
       "    flex-flow: column nowrap;\n",
       "    justify-content: flex-start;\n",
       "    align-items: flex-start;\n",
       "    align-content: flex-start;\n",
       "    padding: 2px;\n",
       "    margin: 2px;\n",
       "    direction: ltr;\n",
       "    unicode-bidi: embed;\n",
       "    border: var(--meta-width) solid var(--meta-color);\n",
       "    border-radius: var(--meta-width);\n",
       "}\n",
       ".features div,.features span {\n",
       "    padding: 0;\n",
       "    margin: -2px 0;\n",
       "}\n",
       ".features .f {\n",
       "    font-family: sans-serif;\n",
       "    font-size: small;\n",
       "    font-weight: normal;\n",
       "    color: #5555bb;\n",
       "}\n",
       ".features .xft {\n",
       "  color: #000000;\n",
       "  background-color: #eeeeee;\n",
       "  font-size: medium;\n",
       "  margin: 2px 0px;\n",
       "}\n",
       ".features .xft .f {\n",
       "  color: #000000;\n",
       "  background-color: #eeeeee;\n",
       "  font-size: small;\n",
       "  font-weight: normal;\n",
       "}\n",
       ".tfsechead {\n",
       "    font-family: sans-serif;\n",
       "    font-size: small;\n",
       "    font-weight: bold;\n",
       "    color: var(--tfsechead);\n",
       "    unicode-bidi: embed;\n",
       "    text-align: start;\n",
       "}\n",
       ".structure {\n",
       "    font-family: sans-serif;\n",
       "    font-size: small;\n",
       "    font-weight: bold;\n",
       "    color: var(--structure);\n",
       "    unicode-bidi: embed;\n",
       "    text-align: start;\n",
       "}\n",
       ".comments {\n",
       "    display: flex;\n",
       "    justify-content: flex-start;\n",
       "    align-items: flex-start;\n",
       "    align-content: flex-start;\n",
       "    flex-flow: column nowrap;\n",
       "}\n",
       ".nd, a:link.nd {\n",
       "    font-family: sans-serif;\n",
       "    font-size: small;\n",
       "    color: var(--node);\n",
       "    vertical-align: super;\n",
       "    direction: ltr ! important;\n",
       "    unicode-bidi: embed;\n",
       "}\n",
       ".nde, a:link.nde {\n",
       "    font-family: sans-serif;\n",
       "    font-size: small;\n",
       "    color: var(--node);\n",
       "    direction: ltr ! important;\n",
       "    unicode-bidi: embed;\n",
       "}\n",
       ".etf {\n",
       "    font-size: normal;\n",
       "    border-radius: 0.2rem;\n",
       "    border: 1pt solid white;\n",
       "    padding: 0 0.2rem ! important;\n",
       "    margin: 0 0.2rem ! important;\n",
       "}\n",
       ".etfx {\n",
       "    font-size: x-large;\n",
       "}\n",
       ".lex {\n",
       "  color: var(--lex-color);;\n",
       "}\n",
       "#colormapplus, #colormapmin, .ecolormapmin {\n",
       "  font-weight: bold;\n",
       "  border-radius: 0.1rem;\n",
       "  background-color: #eeeeff;\n",
       "  padding: 0 1rem;\n",
       "  margin: 0 1rem;\n",
       "}\n",
       ".clr {\n",
       "  font-style: italic;\n",
       "  font-size: small;\n",
       "}\n",
       ".clmap,.eclmap {\n",
       "  padding: 0;\n",
       "}\n",
       ".children,.children.ltr {\n",
       "    display: flex;\n",
       "    border: 0;\n",
       "    background-color: #ffffff;\n",
       "    justify-content: flex-start;\n",
       "    align-items: flex-start;\n",
       "    align-content: flex-start;\n",
       "}\n",
       ".children.stretch {\n",
       "    align-items: stretch;\n",
       "}\n",
       ".children.hor {\n",
       "    flex-flow: row nowrap;\n",
       "}\n",
       ".children.hor.wrap {\n",
       "    flex-flow: row wrap;\n",
       "}\n",
       ".children.ver {\n",
       "    flex-flow: column nowrap;\n",
       "}\n",
       ".children.ver.wrap {\n",
       "    flex-flow: column wrap;\n",
       "}\n",
       ".contnr {\n",
       "    width: fit-content;\n",
       "    display: flex;\n",
       "    justify-content: flex-start;\n",
       "    align-items: flex-start;\n",
       "    align-content: flex-start;\n",
       "    flex-flow: column nowrap;\n",
       "    background: #ffffff none repeat scroll 0 0;\n",
       "    padding:  10px 2px 2px 2px;\n",
       "    margin: 16px 2px 2px 2px;\n",
       "    border-style: solid;\n",
       "    font-size: small;\n",
       "}\n",
       ".contnr.trm {\n",
       "    background-attachment: local;\n",
       "}\n",
       ".contnr.cnul {\n",
       "    padding:  0;\n",
       "    margin: 0;\n",
       "    border-style: solid;\n",
       "    font-size: xx-small;\n",
       "}\n",
       ".contnr.cnul,.lbl.cnul {\n",
       "    border-color: var(--border-color-nul);\n",
       "    border-width: var(--border-width-nul);\n",
       "    border-radius: var(--border-width-nul);\n",
       "}\n",
       ".contnr.c0,.lbl.c0 {\n",
       "    border-color: var(--border-color0);\n",
       "    border-width: var(--border-width0);\n",
       "    border-radius: var(--border-width0);\n",
       "}\n",
       ".contnr.c1,.lbl.c1 {\n",
       "    border-color: var(--border-color1);\n",
       "    border-width: var(--border-width1);\n",
       "    border-radius: var(--border-width1);\n",
       "}\n",
       ".contnr.c2,.lbl.c2 {\n",
       "    border-color: var(--border-color2);\n",
       "    border-width: var(--border-width2);\n",
       "    border-radius: var(--border-width2);\n",
       "}\n",
       ".contnr.c3,.lbl.c3 {\n",
       "    border-color: var(--border-color3);\n",
       "    border-width: var(--border-width3);\n",
       "    border-radius: var(--border-width3);\n",
       "}\n",
       ".contnr.c4,.lbl.c4 {\n",
       "    border-color: var(--border-color4);\n",
       "    border-width: var(--border-width4);\n",
       "    border-radius: var(--border-width4);\n",
       "}\n",
       "span.plain {\n",
       "    /*display: inline-block;*/\n",
       "    display: inline-flex;\n",
       "    flex-flow: row wrap;\n",
       "    white-space: pre-wrap;\n",
       "}\n",
       "span.break {\n",
       "  flex-basis: 100%;\n",
       "  height: 0;\n",
       "}\n",
       ".plain {\n",
       "    background-color: #ffffff;\n",
       "}\n",
       ".plain.l,.contnr.l,.contnr.l>.lbl {\n",
       "    border-left-style: dotted\n",
       "}\n",
       ".plain.r,.contnr.r,.contnr.r>.lbl {\n",
       "    border-right-style: dotted\n",
       "}\n",
       ".plain.lno,.contnr.lno,.contnr.lno>.lbl {\n",
       "    border-left-style: none\n",
       "}\n",
       ".plain.rno,.contnr.rno,.contnr.rno>.lbl {\n",
       "    border-right-style: none\n",
       "}\n",
       ".plain.l {\n",
       "    padding-left: 4px;\n",
       "    margin-left: 2px;\n",
       "    border-width: var(--border-width-plain);\n",
       "}\n",
       ".plain.r {\n",
       "    padding-right: 4px;\n",
       "    margin-right: 2px;\n",
       "    border-width: var(--border-width-plain);\n",
       "}\n",
       ".lbl {\n",
       "    font-family: monospace;\n",
       "    margin-top: -24px;\n",
       "    margin-left: 20px;\n",
       "    background: #ffffff none repeat scroll 0 0;\n",
       "    padding: 0 6px;\n",
       "    border-style: solid;\n",
       "    display: block;\n",
       "    color: var(--label)\n",
       "}\n",
       ".lbl.trm {\n",
       "    background-attachment: local;\n",
       "    margin-top: 2px;\n",
       "    margin-left: 2px;\n",
       "    padding: 2px 2px;\n",
       "    border-style: none;\n",
       "}\n",
       ".lbl.cnul {\n",
       "    font-size: xx-small;\n",
       "}\n",
       ".lbl.c0 {\n",
       "    font-size: small;\n",
       "}\n",
       ".lbl.c1 {\n",
       "    font-size: small;\n",
       "}\n",
       ".lbl.c2 {\n",
       "    font-size: medium;\n",
       "}\n",
       ".lbl.c3 {\n",
       "    font-size: medium;\n",
       "}\n",
       ".lbl.c4 {\n",
       "    font-size: large;\n",
       "}\n",
       ".occs, a:link.occs {\n",
       "    font-size: small;\n",
       "}\n",
       "\n",
       "/* PROVENANCE */\n",
       "\n",
       "div.prov {\n",
       "\tmargin: 40px;\n",
       "\tpadding: 20px;\n",
       "\tborder: 2px solid var(--fog-rim);\n",
       "}\n",
       "div.pline {\n",
       "\tdisplay: flex;\n",
       "\tflex-flow: row nowrap;\n",
       "\tjustify-content: stretch;\n",
       "\talign-items: baseline;\n",
       "}\n",
       "div.p2line {\n",
       "\tmargin-left: 2em;\n",
       "\tdisplay: flex;\n",
       "\tflex-flow: row nowrap;\n",
       "\tjustify-content: stretch;\n",
       "\talign-items: baseline;\n",
       "}\n",
       "div.psline {\n",
       "\tdisplay: flex;\n",
       "\tflex-flow: row nowrap;\n",
       "\tjustify-content: stretch;\n",
       "\talign-items: baseline;\n",
       "\tbackground-color: var(--gold-mist-back);\n",
       "}\n",
       "div.pname {\n",
       "\tflex: 0 0 5rem;\n",
       "\tfont-weight: bold;\n",
       "}\n",
       "div.pval {\n",
       "    flex: 1 1 auto;\n",
       "}\n",
       "\n",
       "/* KEYBOARD */\n",
       ".ccoff {\n",
       "  background-color: inherit;\n",
       "}\n",
       ".ccon {\n",
       "  background-color: yellow ! important;\n",
       "}\n",
       ".ccon,.ccoff {\n",
       "  padding: 0.2rem;\n",
       "  margin: 0.2rem;\n",
       "  border: 0.1rem solid var(--letter-box-border);\n",
       "  border-radius: 0.1rem;\n",
       "}\n",
       ".ccline {\n",
       "  font-size: xx-large ! important;\n",
       "  font-weight: bold;\n",
       "  line-height: 2em ! important;\n",
       "}\n",
       "/* TF header */\n",
       "\n",
       "summary {\n",
       "  /* needed to override the normalize.less\n",
       "   * in the classical Jupyter Notebook\n",
       "   */\n",
       "  display: list-item ! important;\n",
       "}\n",
       "\n",
       ".fcorpus {\n",
       "  display: flex;\n",
       "  flex-flow: column nowrap;\n",
       "  justify-content: flex-start;\n",
       "  align-items: flex-start;\n",
       "  align-content: flex-start;\n",
       "  overflow: auto;\n",
       "}\n",
       ".frow {\n",
       "  display: flex;\n",
       "  flex-flow: row nowrap;\n",
       "  justify-content: flex-start;\n",
       "  align-items: flex-start;\n",
       "  align-content: flex-start;\n",
       "}\n",
       ".fmeta {\n",
       "  display: flex;\n",
       "  flex-flow: column nowrap;\n",
       "  justify-content: flex-start;\n",
       "  align-items: flex-start;\n",
       "  align-content: flex-start;\n",
       "}\n",
       ".fmetarow {\n",
       "  display: flex;\n",
       "  flex-flow: row nowrap;\n",
       "  justify-content: flex-start;\n",
       "  align-items: flex-start;\n",
       "  align-content: flex-start;\n",
       "}\n",
       ".fmetakey {\n",
       "  min-width: 8em;\n",
       "  font-family: monospace;\n",
       "}\n",
       ".fnamecat {\n",
       "  min-width: 8em;\n",
       "}\n",
       ".fnamecat.edge {\n",
       "  font-weight: bold;\n",
       "  font-style: italic;\n",
       "}\n",
       ".fmono {\n",
       "    font-family: monospace;\n",
       "}\n",
       "\n",
       ":root {\n",
       "\t--node:               hsla(120, 100%,  20%, 1.0  );\n",
       "\t--label:              hsla(  0, 100%,  20%, 1.0  );\n",
       "\t--tfsechead:          hsla(  0, 100%,  25%, 1.0  );\n",
       "\t--structure:          hsla(120, 100%,  25%, 1.0  );\n",
       "\t--features:           hsla(  0,   0%,  30%, 1.0  );\n",
       "  --text-color:         hsla( 60,  80%,  10%, 1.0  );\n",
       "  --lex-color:          hsla(220,  90%,  60%, 1.0  );\n",
       "  --meta-color:         hsla(  0,   0%,  90%, 0.7  );\n",
       "  --meta-width:         3px;\n",
       "  --border-color-nul:   hsla(  0,   0%,  90%, 0.5  );\n",
       "  --border-color0:      hsla(  0,   0%,  90%, 0.9  );\n",
       "  --border-color1:      hsla(  0,   0%,  80%, 0.9  );\n",
       "  --border-color2:      hsla(  0,   0%,  70%, 0.9  );\n",
       "  --border-color3:      hsla(  0,   0%,  80%, 0.8  );\n",
       "  --border-color4:      hsla(  0,   0%,  60%, 0.9  );\n",
       "\t--letter-box-border:  hsla(  0,   0%,  80%, 0.5  );\n",
       "  --border-width-nul:   2px;\n",
       "  --border-width0:      2px;\n",
       "  --border-width1:      3px;\n",
       "  --border-width2:      4px;\n",
       "  --border-width3:      6px;\n",
       "  --border-width4:      5px;\n",
       "  --border-width-plain: 2px;\n",
       "}\n",
       ".hl {\n",
       "  background-color: var(--hl-strong);\n",
       "}\n",
       "span.hl {\n",
       "\tbackground-color: var(--hl-strong);\n",
       "\tborder-width: 0;\n",
       "\tborder-radius: 2px;\n",
       "\tborder-style: solid;\n",
       "}\n",
       "div.contnr.hl,div.lbl.hl {\n",
       "  background-color: var(--hl-strong);\n",
       "}\n",
       "div.contnr.hl {\n",
       "  border-color: var(--hl-rim) ! important;\n",
       "\tborder-width: 4px ! important;\n",
       "}\n",
       "\n",
       "span.hlbx {\n",
       "\tborder-color: var(--hl-rim);\n",
       "\tborder-width: 4px ! important;\n",
       "\tborder-style: solid;\n",
       "\tborder-radius: 6px;\n",
       "  padding: 4px;\n",
       "  margin: 4px;\n",
       "}\n",
       ".ehl {\n",
       "  background-color: var(--ehl-strong);\n",
       "}\n",
       "\n",
       ":root {\n",
       "\t--hl-strong:        hsla( 60, 100%,  70%, 0.9  );\n",
       "\t--hl-rim:           hsla( 55,  80%,  50%, 1.0  );\n",
       "\t--ehl-strong:       hsla(240, 100%,  70%, 0.9  );\n",
       "}\n",
       ".remark {\n",
       "  font-size: large;\n",
       "  font-style: italic;\n",
       "}\n",
       ".folio {\n",
       "  font-size: small;\n",
       "  color: #668866;\n",
       "}\n",
       ".fmark:after {\n",
       "  font-size: small;\n",
       "  font-weight: bold;\n",
       "  vertical-align: super;\n",
       "  color: #ddaa22;\n",
       "}\n",
       ".note {\n",
       "  vertical-align: super;\n",
       "  font-size: small;\n",
       "  color: #774400;\n",
       "}\n",
       ".ref {\n",
       "  font-size: small;\n",
       "  font-weight: bold;\n",
       "  color: #666688;\n",
       "}\n",
       ".emph {\n",
       "  font-style: italic;\n",
       "}\n",
       ".und {\n",
       "  text-decoration: underline;\n",
       "}\n",
       ".q {\n",
       "  color: #777777;\n",
       "  font-weight: bold;\n",
       "}\n",
       ".num {\n",
       "  font-size: small;\n",
       "  vertical-align: super;\n",
       "}\n",
       ".den {\n",
       "  font-size: small;\n",
       "  vertical-align: sub;\n",
       "}\n",
       ".sub {\n",
       "  vertical-align: sub;\n",
       "}\n",
       ".super {\n",
       "  vertical-align: super;\n",
       "}\n",
       ".special {\n",
       "  font-family: monospace;\n",
       "  font-weight: bold;\n",
       "  color: #886666;\n",
       "}\n",
       "</style>"
      ],
      "text/plain": [
       "<IPython.core.display.HTML object>"
      ]
     },
     "metadata": {},
     "output_type": "display_data"
    },
    {
     "data": {
      "text/html": [
       "\n",
       "<script>\n",
       "globalThis.copyChar = (el, c) => {\n",
       "    for (const el of document.getElementsByClassName('ccon')) {\n",
       "        el.className = 'ccoff'\n",
       "    }\n",
       "    el.className = 'ccon'\n",
       "    navigator.clipboard.writeText(String.fromCharCode(c))\n",
       "}\n",
       "</script>\n"
      ],
      "text/plain": [
       "<IPython.core.display.HTML object>"
      ]
     },
     "metadata": {},
     "output_type": "display_data"
    },
    {
     "data": {
      "text/html": [
       "<div><b>TF API:</b> names <a target=\"_blank\" href=\"https://annotation.github.io/text-fabric/tf/cheatsheet.html\" title=\"doc\">N F E L T S C TF Fs Fall Es Eall Cs Call</a> directly usable</div><hr>"
      ],
      "text/plain": [
       "<IPython.core.display.HTML object>"
      ]
     },
     "metadata": {},
     "output_type": "display_data"
    }
   ],
   "source": [
    "A = use(\"CLARIAH/wp6-missieven:clone\", checkout=\"clone\", silent=\"auto\", hoist=globals())"
   ]
  },
  {
   "cell_type": "code",
   "execution_count": 41,
   "id": "22b9bebc-f0e5-414d-a48d-967b062756ad",
   "metadata": {},
   "outputs": [],
   "source": [
    "E = Export(A)"
   ]
  },
  {
   "cell_type": "code",
   "execution_count": 42,
   "id": "c2e31bf6-4fc0-4526-9f6d-caeba198dbc0",
   "metadata": {},
   "outputs": [
    {
     "name": "stdout",
     "output_type": "stream",
     "text": [
      "  0.00s 1\n",
      "  0.54s 2\n",
      "  1.16s 3\n",
      "  1.77s 4\n",
      "  2.22s 5\n",
      "  2.70s 6\n",
      "  3.15s 7\n",
      "  3.54s 8\n",
      "  3.66s 9\n",
      "  4.15s 10\n",
      "  5.06s 11\n",
      "  5.62s 12\n",
      "  6.17s 13\n",
      "  6.46s 14\n",
      "  6.78s done\n"
     ]
    }
   ],
   "source": [
    "E.generate()"
   ]
  },
  {
   "cell_type": "code",
   "execution_count": 44,
   "id": "5fb9f58f-fac9-4b8f-94b5-5ebb3afb4438",
   "metadata": {},
   "outputs": [
    {
     "name": "stdout",
     "output_type": "stream",
     "text": [
      "  0.02s Originals plus annotations written to ~/github/CLARIAH/wp6-missieven/originals\n"
     ]
    }
   ],
   "source": [
    "E.write()"
   ]
  },
  {
   "cell_type": "markdown",
   "id": "b8721074-3cc9-435f-9586-29d1e303052e",
   "metadata": {},
   "source": [
    "# Checks\n",
    "\n",
    "What follows is a bit chaotic, but I have checked some annotations at the start and at the end of the corpus,\n",
    "and everything is aligned."
   ]
  },
  {
   "cell_type": "code",
   "execution_count": 22,
   "id": "50a702fa-8585-4667-bd72-db9e3bc8f825",
   "metadata": {},
   "outputs": [],
   "source": [
    "from tf.core.files import expanduser as ex"
   ]
  },
  {
   "cell_type": "code",
   "execution_count": 23,
   "id": "953f93e1-7b4a-46eb-9070-6084e87b79e3",
   "metadata": {},
   "outputs": [],
   "source": [
    "with open(ex(\"~/Downloads/gm/text.txt\")) as fh:\n",
    "    text = fh.read()"
   ]
  },
  {
   "cell_type": "code",
   "execution_count": 35,
   "id": "cbbac1cc-3011-4d3e-b36d-1266844f0c21",
   "metadata": {},
   "outputs": [
    {
     "data": {
      "text/plain": [
       "'fol. 1986 '"
      ]
     },
     "execution_count": 35,
     "metadata": {},
     "output_type": "execute_result"
    }
   ],
   "source": [
    "f = 6009674\n",
    "f = 6544920\n",
    "t = 21267159\n",
    "T.text(f)"
   ]
  },
  {
   "cell_type": "code",
   "execution_count": 25,
   "id": "532fffab-0ee2-41c6-a9e2-6946868a945d",
   "metadata": {},
   "outputs": [
    {
     "data": {
      "text/plain": [
       "(1806, 1807, 1808, 1809, 1810, 1811, 1812, 1813)"
      ]
     },
     "execution_count": 25,
     "metadata": {},
     "output_type": "execute_result"
    }
   ],
   "source": [
    "words = L.d(f, otype=\"word\")\n",
    "words"
   ]
  },
  {
   "cell_type": "code",
   "execution_count": 32,
   "id": "35b0d97f-f6cc-470c-bea3-0585b9579666",
   "metadata": {},
   "outputs": [],
   "source": [
    "def getAround(f):\n",
    "    words = L.d(f, otype=\"word\")\n",
    "\n",
    "    start = words[0] - 1\n",
    "    end = words[-1] + 1\n",
    "\n",
    "    words = list(range(max((start - 10, 0)), min((end + 10, F.otype.maxSlot))))\n",
    "    highlights = {w for w in words if F.isfolio.v(w)}\n",
    "\n",
    "    for w in words:\n",
    "        A.plain(w, highlights=highlights)"
   ]
  },
  {
   "cell_type": "code",
   "execution_count": 33,
   "id": "77aa2377-f5ca-4af7-aea5-a3d78a9fd32b",
   "metadata": {},
   "outputs": [
    {
     "data": {
      "text/html": [
       "<div class=\"\"><span class=\"tfsechead \"><span class=\"ltr\"><a target=\"_blank\" href=\"http://resources.huygens.knaw.nl/retroboeken/generalemissiven/#page=1063&amp;source=14\" title=\"Show this document on Huygens\" sec=\"14 1063:5\">14 1063:5</a></span></span>  <span class=\"txtu\">MEI </span></div>"
      ],
      "text/plain": [
       "<IPython.core.display.HTML object>"
      ]
     },
     "metadata": {},
     "output_type": "display_data"
    },
    {
     "data": {
      "text/html": [
       "<div class=\"\"><span class=\"tfsechead \"><span class=\"ltr\"><a target=\"_blank\" href=\"http://resources.huygens.knaw.nl/retroboeken/generalemissiven/#page=1063&amp;source=14\" title=\"Show this document on Huygens\" sec=\"14 1063:5\">14 1063:5</a></span></span>  <span class=\"txtu\">1767. </span></div>"
      ],
      "text/plain": [
       "<IPython.core.display.HTML object>"
      ]
     },
     "metadata": {},
     "output_type": "display_data"
    },
    {
     "data": {
      "text/html": [
       "<div class=\"\"><span class=\"tfsechead \"><span class=\"ltr\"><a target=\"_blank\" href=\"http://resources.huygens.knaw.nl/retroboeken/generalemissiven/#page=1063&amp;source=14\" title=\"Show this document on Huygens\" sec=\"14 1063:6\">14 1063:6</a></span></span>  </div>"
      ],
      "text/plain": [
       "<IPython.core.display.HTML object>"
      ]
     },
     "metadata": {},
     "output_type": "display_data"
    },
    {
     "data": {
      "text/html": [
       "<div class=\"\"><span class=\"tfsechead \"><span class=\"ltr\"><a target=\"_blank\" href=\"http://resources.huygens.knaw.nl/retroboeken/generalemissiven/#page=1063&amp;source=14\" title=\"Show this document on Huygens\" sec=\"14 1063:7\">14 1063:7</a></span></span>  <span class=\"plain   hl\" ><span class=\"txtu\">VOC </span></span></div>"
      ],
      "text/plain": [
       "<IPython.core.display.HTML object>"
      ]
     },
     "metadata": {},
     "output_type": "display_data"
    },
    {
     "data": {
      "text/html": [
       "<div class=\"\"><span class=\"tfsechead \"><span class=\"ltr\"><a target=\"_blank\" href=\"http://resources.huygens.knaw.nl/retroboeken/generalemissiven/#page=1063&amp;source=14\" title=\"Show this document on Huygens\" sec=\"14 1063:7\">14 1063:7</a></span></span>  <span class=\"plain   hl\" ><span class=\"txtu\">3163 (</span></span></div>"
      ],
      "text/plain": [
       "<IPython.core.display.HTML object>"
      ]
     },
     "metadata": {},
     "output_type": "display_data"
    },
    {
     "data": {
      "text/html": [
       "<div class=\"\"><span class=\"tfsechead \"><span class=\"ltr\"><a target=\"_blank\" href=\"http://resources.huygens.knaw.nl/retroboeken/generalemissiven/#page=1063&amp;source=14\" title=\"Show this document on Huygens\" sec=\"14 1063:7\">14 1063:7</a></span></span>  <span class=\"plain   hl\" ><span class=\"txtu\">Kol. </span></span></div>"
      ],
      "text/plain": [
       "<IPython.core.display.HTML object>"
      ]
     },
     "metadata": {},
     "output_type": "display_data"
    },
    {
     "data": {
      "text/html": [
       "<div class=\"\"><span class=\"tfsechead \"><span class=\"ltr\"><a target=\"_blank\" href=\"http://resources.huygens.knaw.nl/retroboeken/generalemissiven/#page=1063&amp;source=14\" title=\"Show this document on Huygens\" sec=\"14 1063:7\">14 1063:7</a></span></span>  <span class=\"plain   hl\" ><span class=\"txtu\">Arch. </span></span></div>"
      ],
      "text/plain": [
       "<IPython.core.display.HTML object>"
      ]
     },
     "metadata": {},
     "output_type": "display_data"
    },
    {
     "data": {
      "text/html": [
       "<div class=\"\"><span class=\"tfsechead \"><span class=\"ltr\"><a target=\"_blank\" href=\"http://resources.huygens.knaw.nl/retroboeken/generalemissiven/#page=1063&amp;source=14\" title=\"Show this document on Huygens\" sec=\"14 1063:7\">14 1063:7</a></span></span>  <span class=\"plain   hl\" ><span class=\"txtu\">3055), </span></span></div>"
      ],
      "text/plain": [
       "<IPython.core.display.HTML object>"
      ]
     },
     "metadata": {},
     "output_type": "display_data"
    },
    {
     "data": {
      "text/html": [
       "<div class=\"\"><span class=\"tfsechead \"><span class=\"ltr\"><a target=\"_blank\" href=\"http://resources.huygens.knaw.nl/retroboeken/generalemissiven/#page=1063&amp;source=14\" title=\"Show this document on Huygens\" sec=\"14 1063:7\">14 1063:7</a></span></span>  <span class=\"plain   hl\" ><span class=\"txtu\">fol. </span></span></div>"
      ],
      "text/plain": [
       "<IPython.core.display.HTML object>"
      ]
     },
     "metadata": {},
     "output_type": "display_data"
    },
    {
     "data": {
      "text/html": [
       "<div class=\"\"><span class=\"tfsechead \"><span class=\"ltr\"><a target=\"_blank\" href=\"http://resources.huygens.knaw.nl/retroboeken/generalemissiven/#page=1063&amp;source=14\" title=\"Show this document on Huygens\" sec=\"14 1063:7\">14 1063:7</a></span></span>  <span class=\"plain   hl\" ><span class=\"txtu\">1986-</span></span></div>"
      ],
      "text/plain": [
       "<IPython.core.display.HTML object>"
      ]
     },
     "metadata": {},
     "output_type": "display_data"
    },
    {
     "data": {
      "text/html": [
       "<div class=\"\"><span class=\"tfsechead \"><span class=\"ltr\"><a target=\"_blank\" href=\"http://resources.huygens.knaw.nl/retroboeken/generalemissiven/#page=1063&amp;source=14\" title=\"Show this document on Huygens\" sec=\"14 1063:7\">14 1063:7</a></span></span>  <span class=\"plain   hl\" ><span class=\"txtu\">2054. </span></span></div>"
      ],
      "text/plain": [
       "<IPython.core.display.HTML object>"
      ]
     },
     "metadata": {},
     "output_type": "display_data"
    },
    {
     "data": {
      "text/html": [
       "<div class=\"\"><span class=\"tfsechead \"><span class=\"ltr\"><a target=\"_blank\" href=\"http://resources.huygens.knaw.nl/retroboeken/generalemissiven/#page=1063&amp;source=14\" title=\"Show this document on Huygens\" sec=\"14 1063:8\">14 1063:8</a></span></span>  <span class=\"plain   hl\" ><span class=\"txtu\">fol. </span></span></div>"
      ],
      "text/plain": [
       "<IPython.core.display.HTML object>"
      ]
     },
     "metadata": {},
     "output_type": "display_data"
    },
    {
     "data": {
      "text/html": [
       "<div class=\"\"><span class=\"tfsechead \"><span class=\"ltr\"><a target=\"_blank\" href=\"http://resources.huygens.knaw.nl/retroboeken/generalemissiven/#page=1063&amp;source=14\" title=\"Show this document on Huygens\" sec=\"14 1063:8\">14 1063:8</a></span></span>  <span class=\"plain   hl\" ><span class=\"txtu\">1986 </span></span></div>"
      ],
      "text/plain": [
       "<IPython.core.display.HTML object>"
      ]
     },
     "metadata": {},
     "output_type": "display_data"
    },
    {
     "data": {
      "text/html": [
       "<div class=\"\"><span class=\"tfsechead \"><span class=\"ltr\"><a target=\"_blank\" href=\"http://resources.huygens.knaw.nl/retroboeken/generalemissiven/#page=1063&amp;source=14\" title=\"Show this document on Huygens\" sec=\"14 1063:9\">14 1063:9</a></span></span>  <span class=\"txtu\">Men </span></div>"
      ],
      "text/plain": [
       "<IPython.core.display.HTML object>"
      ]
     },
     "metadata": {},
     "output_type": "display_data"
    },
    {
     "data": {
      "text/html": [
       "<div class=\"\"><span class=\"tfsechead \"><span class=\"ltr\"><a target=\"_blank\" href=\"http://resources.huygens.knaw.nl/retroboeken/generalemissiven/#page=1063&amp;source=14\" title=\"Show this document on Huygens\" sec=\"14 1063:9\">14 1063:9</a></span></span>  <span class=\"txtu\">hoopt </span></div>"
      ],
      "text/plain": [
       "<IPython.core.display.HTML object>"
      ]
     },
     "metadata": {},
     "output_type": "display_data"
    },
    {
     "data": {
      "text/html": [
       "<div class=\"\"><span class=\"tfsechead \"><span class=\"ltr\"><a target=\"_blank\" href=\"http://resources.huygens.knaw.nl/retroboeken/generalemissiven/#page=1063&amp;source=14\" title=\"Show this document on Huygens\" sec=\"14 1063:9\">14 1063:9</a></span></span>  <span class=\"txtu\">dat </span></div>"
      ],
      "text/plain": [
       "<IPython.core.display.HTML object>"
      ]
     },
     "metadata": {},
     "output_type": "display_data"
    },
    {
     "data": {
      "text/html": [
       "<div class=\"\"><span class=\"tfsechead \"><span class=\"ltr\"><a target=\"_blank\" href=\"http://resources.huygens.knaw.nl/retroboeken/generalemissiven/#page=1063&amp;source=14\" title=\"Show this document on Huygens\" sec=\"14 1063:9\">14 1063:9</a></span></span>  <span class=\"txtu\">de </span></div>"
      ],
      "text/plain": [
       "<IPython.core.display.HTML object>"
      ]
     },
     "metadata": {},
     "output_type": "display_data"
    },
    {
     "data": {
      "text/html": [
       "<div class=\"\"><span class=\"tfsechead \"><span class=\"ltr\"><a target=\"_blank\" href=\"http://resources.huygens.knaw.nl/retroboeken/generalemissiven/#page=1063&amp;source=14\" title=\"Show this document on Huygens\" sec=\"14 1063:9\">14 1063:9</a></span></span>  <span class=\"txtu\">schepen </span></div>"
      ],
      "text/plain": [
       "<IPython.core.display.HTML object>"
      ]
     },
     "metadata": {},
     "output_type": "display_data"
    },
    {
     "data": {
      "text/html": [
       "<div class=\"\"><span class=\"tfsechead \"><span class=\"ltr\"><a target=\"_blank\" href=\"http://resources.huygens.knaw.nl/retroboeken/generalemissiven/#page=1063&amp;source=14\" title=\"Show this document on Huygens\" sec=\"14 1063:9\">14 1063:9</a></span></span>  <span class=\"txtu\">Lands </span></div>"
      ],
      "text/plain": [
       "<IPython.core.display.HTML object>"
      ]
     },
     "metadata": {},
     "output_type": "display_data"
    },
    {
     "data": {
      "text/html": [
       "<div class=\"\"><span class=\"tfsechead \"><span class=\"ltr\"><a target=\"_blank\" href=\"http://resources.huygens.knaw.nl/retroboeken/generalemissiven/#page=1063&amp;source=14\" title=\"Show this document on Huygens\" sec=\"14 1063:9\">14 1063:9</a></span></span>  <span class=\"txtu\">Welvaren </span></div>"
      ],
      "text/plain": [
       "<IPython.core.display.HTML object>"
      ]
     },
     "metadata": {},
     "output_type": "display_data"
    },
    {
     "data": {
      "text/html": [
       "<div class=\"\"><span class=\"tfsechead \"><span class=\"ltr\"><a target=\"_blank\" href=\"http://resources.huygens.knaw.nl/retroboeken/generalemissiven/#page=1063&amp;source=14\" title=\"Show this document on Huygens\" sec=\"14 1063:9\">14 1063:9</a></span></span>  <span class=\"txtu\">en </span></div>"
      ],
      "text/plain": [
       "<IPython.core.display.HTML object>"
      ]
     },
     "metadata": {},
     "output_type": "display_data"
    },
    {
     "data": {
      "text/html": [
       "<div class=\"\"><span class=\"tfsechead \"><span class=\"ltr\"><a target=\"_blank\" href=\"http://resources.huygens.knaw.nl/retroboeken/generalemissiven/#page=1063&amp;source=14\" title=\"Show this document on Huygens\" sec=\"14 1063:9\">14 1063:9</a></span></span>  <span class=\"txtu\">Sneek </span></div>"
      ],
      "text/plain": [
       "<IPython.core.display.HTML object>"
      ]
     },
     "metadata": {},
     "output_type": "display_data"
    },
    {
     "data": {
      "text/html": [
       "<div class=\"\"><span class=\"tfsechead \"><span class=\"ltr\"><a target=\"_blank\" href=\"http://resources.huygens.knaw.nl/retroboeken/generalemissiven/#page=1063&amp;source=14\" title=\"Show this document on Huygens\" sec=\"14 1063:9\">14 1063:9</a></span></span>  <span class=\"txtu\">van </span></div>"
      ],
      "text/plain": [
       "<IPython.core.display.HTML object>"
      ]
     },
     "metadata": {},
     "output_type": "display_data"
    }
   ],
   "source": [
    "getAround(f)"
   ]
  },
  {
   "cell_type": "code",
   "execution_count": 28,
   "id": "ea9f5f1d-8545-45ec-b805-1b054cb0e886",
   "metadata": {},
   "outputs": [],
   "source": [
    "def getText(start, end):\n",
    "    print(text[start:end])"
   ]
  },
  {
   "cell_type": "code",
   "execution_count": 29,
   "id": "7f301105-f8e5-4b9e-91c4-8a815dca3090",
   "metadata": {},
   "outputs": [
    {
     "name": "stdout",
     "output_type": "stream",
     "text": [
      "V. PIETER BOTH, AAN BOORD VAN DE VERE, VOOR MALEYO 31 maart 1612. \n",
      "Mijn advys soude oock sijn, dat U E geen lichte vrouwen uyt het vaderlant meer en sent, want er hier meer als teveel sijn. Sij en laten haer oude manieren nietende sijn seer onbeleeft ende ongeschickt tot een grote schande van onse natie. \n",
      "Om dit landt te beplanten met onse natie sal beter wesen te doen als Romulus heeft gedaen om die metten onsen te doen trouwen, want die vrouwen, coomende uut het vaederlant, hebben van jonck op in de bordeelen geseten ende en connen noch en willen wassen, nayen ofte yets doen. \n",
      "Wij hebben hier goet gevonden tot verseeckeringe van de Ternatanen op Maleyen ende Tacome een reduyt te maecken op Tolloucke op ’t eylant Ternate op een hooch berchgen, wesende van nabuyren inprennable ende is een halff uyr gaens van ons fort Malayen. \n",
      "Wij hebben noch een secreten aenslach op de stadt van Mareque, leggende op ’t eylant van Tidoor van die van ’t landt selffs . . . \n"
     ]
    }
   ],
   "source": [
    "getText(7997, 8966)"
   ]
  },
  {
   "cell_type": "code",
   "execution_count": 30,
   "id": "7667ccb7-edf4-4497-8bbd-a0f5d42d7603",
   "metadata": {},
   "outputs": [
    {
     "name": "stdout",
     "output_type": "stream",
     "text": [
      "PETRUS ALBERTUS VAN DER PARRA, JEREMIAS VAN RIEMSDIJK, JAN SCHREUDER, HUIJBERT WILLEM VAN BAZEL, REYNIER DE KLERK, MICHIEL ROMP, WILLEM HENDRIK VAN OSSENBERG, MAURITS THEODORUS HILGERS, WILLEM ARNOLD ALTING EN PIETER CORNELIS HASSELAAR, BATAVIA 15 MEI 1767. Ambon Banda Ternate Makassar \n",
      "Met den gevlugt gewesen koning van Goah, die zig niet, zoals men sustineerde na de Engelschen te Bancahoeloe begeeven, maar na het schijnt met swerven om den Oost over en weder opgehouden heeft en eyndelijk aldaar met een vaartuig incognito ook aangekomen is met intentie om sijn moeder mede te voeren. Dog ondekt wezende, ter ordre van de gouverneur Sinkelaar en Boelen, nevens den secunde Van Pleuren, in versekering genomen en dus herwaards gezonden is. Wij hebben hem terstond na sijn aankomst boven de poort aan de hoofdwagt doen secureeren en zullen hem daar laten verblijven tot tijd en wijle wij ten sijnen opsigte nader onderrigt sijn, blijkende uit de nevens een apart briefje van den 28 maart ontfangen bijlagen dat de Makassaren, instede van deezen hunnen koning, nog geen ander verkosen, maar beloofd hadden eerstdaags daartoe te zullen overgaan. \n",
      "Bandjarmasin Timor Palembang Djambi China Japan Malakka Sumatra's Westkust \n",
      "Terwijl daarentegen den quaadwilligen regent van klein Passeman eenige nieuwe bondgenooten weder aan het wankelen heeft weten te brengen, en dat, gevoegt bij ontstane siektens van den commissiant Boudewijns en onder het krijgsvolk, waardoor er veele, zoo Europeërs als inlanders, overleden sijn, oorsaak schijnt geweest te sijn dat er overigens niets van belang heeft konnen uytgevoerd worden, doch waarboven het voorkomt dat de bediendens in den aanvang ons die affaire vrij te ligt voorgesteld hebben. En alzoo s Compagnies authoriteit niet duld dat nu begonnen werk te laten steeken, buiten de gevolgen die onze te dier custe zoozeer den meester spelende competiteuren daaruit soude afleiden. \n",
      "Bengalen Coromandel Ceylon Malabar Surat \n",
      "En haar ook gedragen moeten, wanneer de heeren Engelschen weder opkomen met een nieuw en ongehoord gebruik in te voeren, zoals ze jongst al getragt hebben te doen, bestaande hierin dat zij, behalven het gewone chiap van den koning onder den stadsgouverneur berustende, ook eerst het chiap hunner compagnie, en onder veele voorwendzels vervolgens dat van den grooten mogol wilden setten op de goederen die bij versending vertold moeten, dog dat op den bediendens protestatiën nog niet geschied is. Maar met welke nieuwigheid zij ongetwijffeld bij aankomst van andere scheepen wel weder sullen opkomen en tragten hun voorneemen op wat wijze ook werkstellig te maken. \n",
      "Kharg Java's Oostkust Bantam Batavia \n",
      "Zijnde den directeur voortaan 's jaars toegelegt rds. 2400 in steede van rds. 3000, ieder der administreerende hoofdparticipanten rds. 2000 in steede van rds. 2500, den cassier rds. 1500 en den boekhouder rds. 1000 in plaats van de bevorens genootene rds. 2000 en 1500 respective. Terwijl het salaris voor een ieder weder op den ouden voet zal kunnen gesteld worden, wanneer de winsten weder toenemen en de societeyt favorabeler tijden krijge. \n",
      "192 groote en kleine baalen gerassen, lang 36 en 37 en breed 2 1/4 cobidos 52 pakken gerassen lang 72 à 75, breed 2 1/4 cobidos 16 pakken grove hamans lang 24, breed 3 cobidos 4 pakken fijne hamans lang 24, breed 3 cobidos 1 pak fijn kust guinees 2 soorten en 22 stukken fijn kust guinees, 1 soort bedragende na de factuur inkoop ƒ 130. 977, 1,-, den vreemdeling te laten bieden 15 per cento avans, en daar niet na luisterende dan uyterlijk te komen tot 21 per cento. Wanneer er na de getaxeerde waarde van ƒ 171. 129, 12,- en aftrek van alle ongelden nog op stond gewonnen te worden ƒ 13. 957, 3,-. En nadat De Labat die parthij tegens de laatste gemelde winst, nevens 1 pak neusdoeken 2de soort voor de factuurprijs afgestaan hadt, hebben wij van hem tegens 15 per cento daarboven ook aangeslagen 21 pakken hamans masaay en 5 ditos guinees fijn cust, inkoops kostende ƒ 28. 258, 16,-, mitsgaders op zijne aanbiedingh, ten weder overgave aan eenige burger lijwaatnegotianten alhier, tegens 10 per cento winst suiver voor de Compagnie. Zedert nog g'accepteert van sijn restand cargasoen 75 baalen baftas witte 10 per cento boven het kostende, nevens 1 pak cassas 17 \" baftas blaauwe 7 \" hamans blaauwe en 18 pakken gerassen blaauwe tegens den inkoopsprijs. Zijnde vervolgens alle de voorzijde doeken, na een nauwkeurige visitatie en uitzondering van eenige defecten stucke, die nader getaxeerd en daarna aangenomen sijn, de twee eerste partijen voor de Compagnie en de laatste ten overgave als voorzegd ontfangen geworden, gelijk nader blijkt bij onze resolutiën van ultimo maart, 3, 13, 16, 24 en 28 april verweken. \n",
      "Eerstelijk om zeker nabij heemraden thuin staand huis, weleer gediend hebbende tot een logement voor de gezanten van inlandse vorsten en sedert voor de uit Nederland aangekomen recruten, dat door ouderdom bouwvallig en om deszelfs ongezonde standplaats de reparatie niet waardig geoordeeld wierd, publiek ten afbraak te laten verkopen, zonder op die plaats een ander gebouw te mogen stellen, als te na onder het casteel leggende; Ten tweeden om de schuins over het gemelde huis staande loots, of opstal, zijnde de zogenaamde recrutenwagt, almede om dies ongesonde situatie te doen verplaatsen na de post Rijswijk, ofwel de waterplaats, alwaar doorgaans frisser lugt en beter water is, en waartoe dan ook de eerste post sedert verkosen is, mitsgaders om diezelve reden; Ten derden de besetting van het in de moeras gezonke fortje de Fluit, zooals ook al geschied is, in te trecken, als weleer nergens anders toe g'extrueerd dan om tegens de sluikerijen te waken, waarteegens den pagter tans uyt eygen belang wel zal laten vigeleeren, terwijl de Compagnie daardoor ook eenige ongelden zal komen uit te winnen. \n",
      "De hier seedert primo januarij aangekomen weder vertrocken en nog aanwezen vreemde kielen staan, buyten de in dezen reeds genoemde, onder een moorschevlag g' arriveerde brigantijn de Sancta Jacoba en drie Engelsche, te weeten het particuliere \n",
      "scheepje The Sultanesse Bigam, capitain William Schottdie hier den 28 januarij van Manilha \n",
      "aan kwam, en den 30 maart naar Madras vertrocken is, het meede particuliere schip The Succes, capitain Richardson, dat den 18 november anno passato volgens opgave na Bengale vertrock en den 8 maart van een verloren reise terug quam, zijnde, na zich weder van water en brandhout voorsien te hebben, den 30 maart andermaal vertrokken en toen na Bancahoeloe, en eindelijk den 18 april van evengenoemde plaats, de snaauw Elizabeth, die zig hier nog ophoud, voorts den 4 februarij het Spaanse scheepje St. Françisco Assis van Macao na Manilha gedestineerd, maar door contrarie winden dit heen gevoerd, en dan nog den 14 daaraan de Portugesche brigantijn Jesu Maria Jesu van Macao, die den 26 dier eigenste maand zijne voyage na Timor vervolgd heeft. \n"
     ]
    }
   ],
   "source": [
    "getText(21266903, 21273824)"
   ]
  },
  {
   "cell_type": "code",
   "execution_count": 36,
   "id": "53758a0d-1c87-411a-92c6-49bf2ad5aac7",
   "metadata": {},
   "outputs": [
    {
     "name": "stdout",
     "output_type": "stream",
     "text": [
      "G, MAURITS THEODORUS HILGERS, WILLEM ARNOLD ALTING EN PIETER CORNELIS HASSELAAR, BATAVIA 15 MEI 1767. Ambon Banda Ternate Makassar \n",
      "Met den gevlugt gewesen koning van Goah, die zig niet, zoals men sus\n"
     ]
    }
   ],
   "source": [
    "getText(t-100, t+100)"
   ]
  },
  {
   "cell_type": "code",
   "execution_count": null,
   "id": "90f31c8c-d688-4ef4-97f0-5f57b2ba5098",
   "metadata": {},
   "outputs": [],
   "source": []
  }
 ],
 "metadata": {
  "kernelspec": {
   "display_name": "Python 3 (ipykernel)",
   "language": "python",
   "name": "python3"
  },
  "language_info": {
   "codemirror_mode": {
    "name": "ipython",
    "version": 3
   },
   "file_extension": ".py",
   "mimetype": "text/x-python",
   "name": "python",
   "nbconvert_exporter": "python",
   "pygments_lexer": "ipython3",
   "version": "3.12.3"
  }
 },
 "nbformat": 4,
 "nbformat_minor": 5
}
