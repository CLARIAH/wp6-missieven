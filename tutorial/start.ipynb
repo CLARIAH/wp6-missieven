{
 "cells": [
  {
   "cell_type": "markdown",
   "metadata": {},
   "source": [
    "<img align=\"right\" src=\"images/tf.png\" width=\"128\"/>\n",
    "<img align=\"right\" src=\"images/dans.png\"/>\n",
    "<img align=\"right\" src=\"images/huygenslogo.png\"/>\n",
    "<img align=\"right\" src=\"images/logo.png\"/>\n",
    "\n",
    "# Tutorial\n",
    "\n",
    "This notebook gets you started with using\n",
    "[Text-Fabric](https://annotation.github.io/text-fabric/) for coding in\n",
    "[Missieven Corpus](https://github.com/Dans-labs/clariah-gm).\n",
    "\n",
    "Familiarity with the underlying\n",
    "[data model](https://annotation.github.io/text-fabric/tf/about/datamodel.html)\n",
    "is recommended."
   ]
  },
  {
   "cell_type": "markdown",
   "metadata": {},
   "source": [
    "## Installing Text-Fabric\n",
    "\n",
    "### Python\n",
    "\n",
    "You need to have Python on your system. Most systems have it out of the box,\n",
    "but alas, that is python2 and we need at least python **3.6**.\n",
    "\n",
    "Install it from [python.org](https://www.python.org) or from\n",
    "[Anaconda](https://www.anaconda.com/download).\n",
    "\n",
    "### TF itself\n",
    "\n",
    "```\n",
    "pip3 install text-fabric\n",
    "```\n",
    "\n",
    "### Jupyter notebook\n",
    "\n",
    "You need [Jupyter](http://jupyter.org).\n",
    "\n",
    "If it is not already installed:\n",
    "\n",
    "```\n",
    "pip3 install jupyter\n",
    "```"
   ]
  },
  {
   "cell_type": "code",
   "execution_count": 1,
   "metadata": {
    "ExecuteTime": {
     "end_time": "2018-10-18T10:40:34.922214Z",
     "start_time": "2018-10-18T10:40:34.901689Z"
    }
   },
   "outputs": [],
   "source": [
    "%load_ext autoreload\n",
    "%autoreload 2"
   ]
  },
  {
   "cell_type": "code",
   "execution_count": 3,
   "metadata": {
    "ExecuteTime": {
     "end_time": "2018-10-18T10:40:37.964346Z",
     "start_time": "2018-10-18T10:40:37.346091Z"
    }
   },
   "outputs": [],
   "source": [
    "from tf.app import use"
   ]
  },
  {
   "cell_type": "markdown",
   "metadata": {},
   "source": [
    "## Corpus data\n",
    "\n",
    "Text-Fabric will fetch the Missieven corpus for you.\n",
    "\n",
    "It will fetch the newest version by default, but you can get other versions as well.\n",
    "\n",
    "The data will be stored under `text-fabric-data` in your home directory."
   ]
  },
  {
   "cell_type": "markdown",
   "metadata": {},
   "source": [
    "# Incantation\n",
    "\n",
    "The simplest way to get going is by this *incantation*:"
   ]
  },
  {
   "cell_type": "markdown",
   "metadata": {},
   "source": [
    "For the very last version, use `hot`.\n",
    "\n",
    "For the latest release, use `latest`.\n",
    "\n",
    "If you have cloned the repos (TF app and data), use `clone`.\n",
    "\n",
    "If you do not want/need to upgrade, leave out the checkout specifiers.\n",
    "\n",
    "**After downloading new data it will take 1-2 minutes to optimize the data**.\n",
    "\n",
    "The optimized data will be stored in your system, and all subsequent use of this\n",
    "corpus will find that optimized data."
   ]
  },
  {
   "cell_type": "code",
   "execution_count": 4,
   "metadata": {},
   "outputs": [
    {
     "data": {
      "text/html": [
       "<b title=\"local github\">TF-app:</b> <span title=\"repo clone offline under ~/github\">~/github/annotation/app-missieven/code</span>"
      ],
      "text/plain": [
       "<IPython.core.display.HTML object>"
      ]
     },
     "metadata": {},
     "output_type": "display_data"
    },
    {
     "data": {
      "text/html": [
       "<b title=\"local github\">data:</b> <span title=\"repo clone offline under ~/github\">~/github/Dans-labs/clariah-gm/tf/0.7</span>"
      ],
      "text/plain": [
       "<IPython.core.display.HTML object>"
      ]
     },
     "metadata": {},
     "output_type": "display_data"
    },
    {
     "data": {
      "text/html": [
       "<b>Text-Fabric:</b> <a target=\"_blank\" href=\"https://annotation.github.io/text-fabric/cheatsheet.html\" title=\"text-fabric-api\">Text-Fabric API 8.4.7</a>, <a target=\"_blank\" href=\"https://github.com/annotation/app-missieven\" title=\"missieven TF-app\">app-missieven v3</a>, <a target=\"_blank\" href=\"https://annotation.github.io/text-fabric/about/searchusage.html\" title=\"Search Templates Introduction and Reference\">Search Reference</a><br><b>Data:</b> <a target=\"_blank\" href=\"https://github.com/Dans-labs/clariah-gm/blob/master/docs/transcription.md\" title=\"provenance of General Missives Dutch East India Company 1600-1800\">CLARIAH-GM</a>, <a target=\"_blank\" href=\"https://annotation.github.io/text-fabric/writing/.html\" title=\"How TF features represent text\">Character table</a>, <a target=\"_blank\" href=\"https://github.com/Dans-labs/clariah-gm/blob/master/docs/transcription.md\" title=\"CLARIAH-GM feature documentation\">Feature docs</a><br><b>Features:</b><br><details><summary><b>General Missives Dutch East India Company 1600-1800</b></summary><a target=\"_blank\" href=\"https://github.com/Dans-labs/clariah-gm/blob/master/docs/transcription.md\" title=\"~/github/Dans-labs/clariah-gm/tf/0.7/author.tf\">author</a><br><a target=\"_blank\" href=\"https://github.com/Dans-labs/clariah-gm/blob/master/docs/transcription.md\" title=\"~/github/Dans-labs/clariah-gm/tf/0.7/authorFull.tf\">authorFull</a><br><a target=\"_blank\" href=\"https://github.com/Dans-labs/clariah-gm/blob/master/docs/transcription.md\" title=\"~/github/Dans-labs/clariah-gm/tf/0.7/col.tf\">col</a><br><a target=\"_blank\" href=\"https://github.com/Dans-labs/clariah-gm/blob/master/docs/transcription.md\" title=\"~/github/Dans-labs/clariah-gm/tf/0.7/day.tf\">day</a><br><a target=\"_blank\" href=\"https://github.com/Dans-labs/clariah-gm/blob/master/docs/transcription.md\" title=\"~/github/Dans-labs/clariah-gm/tf/0.7/facs.tf\">facs</a><br><a target=\"_blank\" href=\"https://github.com/Dans-labs/clariah-gm/blob/master/docs/transcription.md\" title=\"~/github/Dans-labs/clariah-gm/tf/0.7/isemph.tf\">isemph</a><br><a target=\"_blank\" href=\"https://github.com/Dans-labs/clariah-gm/blob/master/docs/transcription.md\" title=\"~/github/Dans-labs/clariah-gm/tf/0.7/isfolio.tf\">isfolio</a><br><a target=\"_blank\" href=\"https://github.com/Dans-labs/clariah-gm/blob/master/docs/transcription.md\" title=\"~/github/Dans-labs/clariah-gm/tf/0.7/isnote.tf\">isnote</a><br><a target=\"_blank\" href=\"https://github.com/Dans-labs/clariah-gm/blob/master/docs/transcription.md\" title=\"~/github/Dans-labs/clariah-gm/tf/0.7/isorig.tf\">isorig</a><br><a target=\"_blank\" href=\"https://github.com/Dans-labs/clariah-gm/blob/master/docs/transcription.md\" title=\"~/github/Dans-labs/clariah-gm/tf/0.7/isref.tf\">isref</a><br><a target=\"_blank\" href=\"https://github.com/Dans-labs/clariah-gm/blob/master/docs/transcription.md\" title=\"~/github/Dans-labs/clariah-gm/tf/0.7/isremark.tf\">isremark</a><br><a target=\"_blank\" href=\"https://github.com/Dans-labs/clariah-gm/blob/master/docs/transcription.md\" title=\"~/github/Dans-labs/clariah-gm/tf/0.7/isspecial.tf\">isspecial</a><br><a target=\"_blank\" href=\"https://github.com/Dans-labs/clariah-gm/blob/master/docs/transcription.md\" title=\"~/github/Dans-labs/clariah-gm/tf/0.7/issub.tf\">issub</a><br><a target=\"_blank\" href=\"https://github.com/Dans-labs/clariah-gm/blob/master/docs/transcription.md\" title=\"~/github/Dans-labs/clariah-gm/tf/0.7/issuper.tf\">issuper</a><br><a target=\"_blank\" href=\"https://github.com/Dans-labs/clariah-gm/blob/master/docs/transcription.md\" title=\"~/github/Dans-labs/clariah-gm/tf/0.7/isund.tf\">isund</a><br><a target=\"_blank\" href=\"https://github.com/Dans-labs/clariah-gm/blob/master/docs/transcription.md\" title=\"~/github/Dans-labs/clariah-gm/tf/0.7/mark.tf\">mark</a><br><a target=\"_blank\" href=\"https://github.com/Dans-labs/clariah-gm/blob/master/docs/transcription.md\" title=\"~/github/Dans-labs/clariah-gm/tf/0.7/month.tf\">month</a><br><a target=\"_blank\" href=\"https://github.com/Dans-labs/clariah-gm/blob/master/docs/transcription.md\" title=\"~/github/Dans-labs/clariah-gm/tf/0.7/n.tf\">n</a><br><a target=\"_blank\" href=\"https://github.com/Dans-labs/clariah-gm/blob/master/docs/transcription.md\" title=\"~/github/Dans-labs/clariah-gm/tf/0.7/otype.tf\">otype</a><br><a target=\"_blank\" href=\"https://github.com/Dans-labs/clariah-gm/blob/master/docs/transcription.md\" title=\"~/github/Dans-labs/clariah-gm/tf/0.7/page.tf\">page</a><br><a target=\"_blank\" href=\"https://github.com/Dans-labs/clariah-gm/blob/master/docs/transcription.md\" title=\"~/github/Dans-labs/clariah-gm/tf/0.7/place.tf\">place</a><br><a target=\"_blank\" href=\"https://github.com/Dans-labs/clariah-gm/blob/master/docs/transcription.md\" title=\"~/github/Dans-labs/clariah-gm/tf/0.7/punc.tf\">punc</a><br><a target=\"_blank\" href=\"https://github.com/Dans-labs/clariah-gm/blob/master/docs/transcription.md\" title=\"~/github/Dans-labs/clariah-gm/tf/0.7/puncn.tf\">puncn</a><br><a target=\"_blank\" href=\"https://github.com/Dans-labs/clariah-gm/blob/master/docs/transcription.md\" title=\"~/github/Dans-labs/clariah-gm/tf/0.7/punco.tf\">punco</a><br><a target=\"_blank\" href=\"https://github.com/Dans-labs/clariah-gm/blob/master/docs/transcription.md\" title=\"~/github/Dans-labs/clariah-gm/tf/0.7/puncr.tf\">puncr</a><br><a target=\"_blank\" href=\"https://github.com/Dans-labs/clariah-gm/blob/master/docs/transcription.md\" title=\"~/github/Dans-labs/clariah-gm/tf/0.7/rawdate.tf\">rawdate</a><br><a target=\"_blank\" href=\"https://github.com/Dans-labs/clariah-gm/blob/master/docs/transcription.md\" title=\"~/github/Dans-labs/clariah-gm/tf/0.7/row.tf\">row</a><br><a target=\"_blank\" href=\"https://github.com/Dans-labs/clariah-gm/blob/master/docs/transcription.md\" title=\"~/github/Dans-labs/clariah-gm/tf/0.7/seq.tf\">seq</a><br><a target=\"_blank\" href=\"https://github.com/Dans-labs/clariah-gm/blob/master/docs/transcription.md\" title=\"~/github/Dans-labs/clariah-gm/tf/0.7/status.tf\">status</a><br><a target=\"_blank\" href=\"https://github.com/Dans-labs/clariah-gm/blob/master/docs/transcription.md\" title=\"~/github/Dans-labs/clariah-gm/tf/0.7/title.tf\">title</a><br><a target=\"_blank\" href=\"https://github.com/Dans-labs/clariah-gm/blob/master/docs/transcription.md\" title=\"~/github/Dans-labs/clariah-gm/tf/0.7/tpl.tf\">tpl</a><br><a target=\"_blank\" href=\"https://github.com/Dans-labs/clariah-gm/blob/master/docs/transcription.md\" title=\"~/github/Dans-labs/clariah-gm/tf/0.7/trans.tf\">trans</a><br><a target=\"_blank\" href=\"https://github.com/Dans-labs/clariah-gm/blob/master/docs/transcription.md\" title=\"~/github/Dans-labs/clariah-gm/tf/0.7/transn.tf\">transn</a><br><a target=\"_blank\" href=\"https://github.com/Dans-labs/clariah-gm/blob/master/docs/transcription.md\" title=\"~/github/Dans-labs/clariah-gm/tf/0.7/transo.tf\">transo</a><br><a target=\"_blank\" href=\"https://github.com/Dans-labs/clariah-gm/blob/master/docs/transcription.md\" title=\"~/github/Dans-labs/clariah-gm/tf/0.7/transr.tf\">transr</a><br><a target=\"_blank\" href=\"https://github.com/Dans-labs/clariah-gm/blob/master/docs/transcription.md\" title=\"~/github/Dans-labs/clariah-gm/tf/0.7/vol.tf\">vol</a><br><a target=\"_blank\" href=\"https://github.com/Dans-labs/clariah-gm/blob/master/docs/transcription.md\" title=\"~/github/Dans-labs/clariah-gm/tf/0.7/year.tf\">year</a><br><b><i><a target=\"_blank\" href=\"https://github.com/Dans-labs/clariah-gm/blob/master/docs/transcription.md\" title=\"~/github/Dans-labs/clariah-gm/tf/0.7/note.tf\">note</a></i></b><br><b><i><a target=\"_blank\" href=\"https://github.com/Dans-labs/clariah-gm/blob/master/docs/transcription.md\" title=\"~/github/Dans-labs/clariah-gm/tf/0.7/oslots.tf\">oslots</a></i></b><br></details>"
      ],
      "text/plain": [
       "<IPython.core.display.HTML object>"
      ]
     },
     "metadata": {},
     "output_type": "display_data"
    },
    {
     "data": {
      "text/html": [
       "<style>tr.tf.ltr, td.tf.ltr, th.tf.ltr { text-align: left ! important;}\n",
       "tr.tf.rtl, td.tf.rtl, th.tf.rtl { text-align: right ! important;}\n",
       "@font-face {\n",
       "  font-family: \"Gentium Plus\";\n",
       "  src: local('Gentium Plus'), local('GentiumPlus'),\n",
       "    url('/server/static/fonts/GentiumPlus-R.woff') format('woff'),\n",
       "    url('https://github.com/annotation/text-fabric/blob/master/tf/server/static/fonts/GentiumPlus-R.woff?raw=true') format('woff');\n",
       "}\n",
       "\n",
       "@font-face {\n",
       "  font-family: \"Ezra SIL\";\n",
       "  src: local('Ezra SIL'), local('EzraSIL'),\n",
       "    url('/server/static/fonts/SILEOT.woff') format('woff'),\n",
       "    url('https://github.com/annotation/text-fabric/blob/master/tf/server/static/fonts/SILEOT.woff?raw=true') format('woff');\n",
       "}\n",
       "\n",
       "@font-face {\n",
       "  font-family: \"SBL Hebrew\";\n",
       "  src: local('SBL Hebrew'), local('SBLHebrew'),\n",
       "    url('/server/static/fonts/SBL_Hbrw.woff') format('woff'),\n",
       "    url('https://github.com/annotation/text-fabric/blob/master/tf/server/static/fonts/SBL_Hbrw.woff?raw=true') format('woff');\n",
       "}\n",
       "\n",
       "@font-face {\n",
       "  font-family: \"Estrangelo Edessa\";\n",
       "  src: local('Estrangelo Edessa'), local('EstrangeloEdessa');\n",
       "    url('/server/static/fonts/SyrCOMEdessa.woff') format('woff'),\n",
       "    url('https://github.com/annotation/text-fabric/blob/master/tf/server/static/fonts/SyrCOMEdessa.woff?raw=true') format('woff');\n",
       "}\n",
       "\n",
       "@font-face {\n",
       "  font-family: AmiriQuran;\n",
       "  font-style: normal;\n",
       "  font-weight: 400;\n",
       "  src: local('Amiri Quran'), local('AmiriQuran'),\n",
       "    url('/server/static/fonts/AmiriQuran.woff') format('woff'),\n",
       "    url('https://github.com/annotation/text-fabric/blob/master/tf/server/static/fonts/AmiriQuran.woff?raw=true') format('woff');\n",
       "}\n",
       "\n",
       "@font-face {\n",
       "  font-family: AmiriQuranColored;\n",
       "  font-style: normal;\n",
       "  font-weight: 400;\n",
       "  src: local('Amiri Quran Colored'), local('AmiriQuranColored'),\n",
       "    url('/server/static/fonts/AmiriQuranColored.woff') format('woff'),\n",
       "    url('https://github.com/annotation/text-fabric/blob/master/tf/server/static/fonts/AmiriQuranColored.woff?raw=true') format('woff');\n",
       "}\n",
       "\n",
       "@font-face {\n",
       "  font-family: \"Santakku\";\n",
       "  src: local('Santakku'),\n",
       "    url('/server/static/fonts/Santakku.woff') format('woff'),\n",
       "    url('https://github.com/annotation/text-fabric/blob/master/tf/server/static/fonts/Santakku.woff?raw=true') format('woff');\n",
       "}\n",
       "\n",
       "@font-face {\n",
       "  font-family: \"SantakkuM\";\n",
       "  src: local('SantakkuM'),\n",
       "    url('/server/static/fonts/SantakkuM.woff') format('woff'),\n",
       "    url('https://github.com/annotation/text-fabric/blob/master/tf/server/static/fonts/SantakkuM.woff?raw=true') format('woff');\n",
       "}\n",
       "/* bypassing some classical notebook settings */\n",
       "div#notebook {\n",
       "  line-height: unset;\n",
       "}\n",
       "/* neutral text */\n",
       ".txtn,.txtn a:visited,.txtn a:link {\n",
       "    font-family: sans-serif;\n",
       "    font-size: medium;\n",
       "    direction: ltr;\n",
       "    unicode-bidi: embed;\n",
       "    text-decoration: none;\n",
       "    color: var(--text-color);\n",
       "}\n",
       "/* transcription text */\n",
       ".txtt,.txtt a:visited,.txtt a:link {\n",
       "    font-family: monospace;\n",
       "    font-size: medium;\n",
       "    direction: ltr;\n",
       "    unicode-bidi: embed;\n",
       "    text-decoration: none;\n",
       "    color: var(--text-color);\n",
       "}\n",
       "/* source text */\n",
       ".txto,.txto a:visited,.txto a:link {\n",
       "    font-family: serif;\n",
       "    font-size: medium;\n",
       "    direction: ltr;\n",
       "    unicode-bidi: embed;\n",
       "    text-decoration: none;\n",
       "    color: var(--text-color);\n",
       "}\n",
       "/* phonetic text */\n",
       ".txtp,.txtp a:visited,.txtp a:link {\n",
       "    font-family: Gentium, sans-serif;\n",
       "    font-size: medium;\n",
       "    direction: ltr;\n",
       "    unicode-bidi: embed;\n",
       "    text-decoration: none;\n",
       "    color: var(--text-color);\n",
       "}\n",
       "/* original script text */\n",
       ".txtu,.txtu a:visited,.txtu a:link {\n",
       "    font-family: Gentium, sans-serif;\n",
       "    font-size: medium;\n",
       "    text-decoration: none;\n",
       "    color: var(--text-color);\n",
       "}\n",
       "/* hebrew */\n",
       ".txtu.hbo,.lex.hbo {\n",
       "    font-family: \"Ezra SIL\", \"SBL Hebrew\", sans-serif;\n",
       "    font-size: large;\n",
       "    direction: rtl ! important;\n",
       "    unicode-bidi: embed;\n",
       "}\n",
       "/* syriac */\n",
       ".txtu.syc,.lex.syc {\n",
       "    font-family: \"Estrangelo Edessa\", sans-serif;\n",
       "    font-size: medium;\n",
       "    direction: rtl ! important;\n",
       "    unicode-bidi: embed;\n",
       "}\n",
       "/* neo aramaic */\n",
       ".txtu.cld,.lex.cld {\n",
       "    font-family: \"CharisSIL-R\", sans-serif;\n",
       "    font-size: medium;\n",
       "    direction: ltr ! important;\n",
       "    unicode-bidi: embed;\n",
       "}\n",
       "/* standard arabic */\n",
       ".txtu.ara,.lex.ara {\n",
       "    font-family: \"AmiriQuran\", sans-serif;\n",
       "    font-size: large;\n",
       "    direction: rtl ! important;\n",
       "    unicode-bidi: embed;\n",
       "}\n",
       "/* cuneiform */\n",
       ".txtu.akk,.lex.akk {\n",
       "    font-family: Santakku, sans-serif;\n",
       "    font-size: large;\n",
       "    direction: ltr ! important;\n",
       "    unicode-bidi: embed;\n",
       "}\n",
       "/* greek */\n",
       ".txtu.grc,.lex.grc a:link {\n",
       "    font-family: Gentium, sans-serif;\n",
       "    font-size: medium;\n",
       "    direction: ltr ! important;\n",
       "    unicode-bidi: embed;\n",
       "}\n",
       "a:hover {\n",
       "    text-decoration: underline | important;\n",
       "    color: #0000ff | important;\n",
       "}\n",
       ".ltr {\n",
       "    direction: ltr ! important;\n",
       "    unicode-bidi: embed;\n",
       "}\n",
       ".rtl {\n",
       "    direction: rtl ! important;\n",
       "    unicode-bidi: embed;\n",
       "}\n",
       ".ubd {\n",
       "    unicode-bidi: embed;\n",
       "}\n",
       ".col {\n",
       "   display: inline-block;\n",
       "}\n",
       ".features {\n",
       "    font-family: monospace;\n",
       "    font-size: medium;\n",
       "    font-weight: bold;\n",
       "    color: var(--features);\n",
       "    display: flex;\n",
       "    flex-flow: column nowrap;\n",
       "    justify-content: flex-start;\n",
       "    align-items: flex-start;\n",
       "    align-content: flex-start;\n",
       "    padding: 2px;\n",
       "    margin: 2px;\n",
       "    direction: ltr;\n",
       "    unicode-bidi: embed;\n",
       "    border: var(--meta-width) solid var(--meta-color);\n",
       "    border-radius: var(--meta-width);\n",
       "}\n",
       ".features div,.features span {\n",
       "    padding: 0;\n",
       "    margin: -2px 0;\n",
       "}\n",
       ".features .f {\n",
       "    font-family: sans-serif;\n",
       "    font-size: small;\n",
       "    font-weight: normal;\n",
       "    color: #5555bb;\n",
       "}\n",
       ".features .xft {\n",
       "  color: #000000;\n",
       "  background-color: #eeeeee;\n",
       "  font-size: medium;\n",
       "  margin: 2px 0px;\n",
       "}\n",
       ".features .xft .f {\n",
       "  color: #000000;\n",
       "  background-color: #eeeeee;\n",
       "  font-size: small;\n",
       "  font-weight: normal;\n",
       "}\n",
       ".tfsechead {\n",
       "    font-family: sans-serif;\n",
       "    font-size: small;\n",
       "    font-weight: bold;\n",
       "    color: var(--tfsechead);\n",
       "    unicode-bidi: embed;\n",
       "    text-align: start;\n",
       "}\n",
       ".structure {\n",
       "    font-family: sans-serif;\n",
       "    font-size: small;\n",
       "    font-weight: bold;\n",
       "    color: var(--structure);\n",
       "    unicode-bidi: embed;\n",
       "    text-align: start;\n",
       "}\n",
       ".comments {\n",
       "    display: flex;\n",
       "    justify-content: flex-start;\n",
       "    align-items: flex-start;\n",
       "    align-content: flex-start;\n",
       "    flex-flow: column nowrap;\n",
       "}\n",
       ".nd, a:link.nd {\n",
       "    font-family: sans-serif;\n",
       "    font-size: small;\n",
       "    color: var(--node);\n",
       "    vertical-align: super;\n",
       "    direction: ltr ! important;\n",
       "    unicode-bidi: embed;\n",
       "}\n",
       ".lex {\n",
       "  color: var(--lex-color);;\n",
       "}\n",
       ".children,.children.ltr {\n",
       "    display: flex;\n",
       "    border: 0;\n",
       "    background-color: #ffffff;\n",
       "    justify-content: flex-start;\n",
       "    align-items: flex-start;\n",
       "    align-content: flex-start;\n",
       "}\n",
       ".children.stretch {\n",
       "    align-items: stretch;\n",
       "}\n",
       ".children.hor {\n",
       "    flex-flow: row nowrap;\n",
       "}\n",
       ".children.hor.wrap {\n",
       "    flex-flow: row wrap;\n",
       "}\n",
       ".children.ver {\n",
       "    flex-flow: column nowrap;\n",
       "}\n",
       ".children.ver.wrap {\n",
       "    flex-flow: column wrap;\n",
       "}\n",
       ".contnr {\n",
       "    width: fit-content;\n",
       "    display: flex;\n",
       "    justify-content: flex-start;\n",
       "    align-items: flex-start;\n",
       "    align-content: flex-start;\n",
       "    flex-flow: column nowrap;\n",
       "    background: #ffffff none repeat scroll 0 0;\n",
       "    padding:  10px 2px 2px 2px;\n",
       "    margin: 16px 2px 2px 2px;\n",
       "    border-style: solid;\n",
       "    font-size: small;\n",
       "}\n",
       ".contnr.trm {\n",
       "    background-attachment: local;\n",
       "}\n",
       ".contnr.cnul {\n",
       "    padding:  0;\n",
       "    margin: 0;\n",
       "    border-style: solid;\n",
       "    font-size: xx-small;\n",
       "}\n",
       ".contnr.cnul,.lbl.cnul {\n",
       "    border-color: var(--border-color-nul);\n",
       "    border-width: var(--border-width-nul);\n",
       "    border-radius: var(--border-width-nul);\n",
       "}\n",
       ".contnr.c0,.lbl.c0 {\n",
       "    border-color: var(--border-color0);\n",
       "    border-width: var(--border-width0);\n",
       "    border-radius: var(--border-width0);\n",
       "}\n",
       ".contnr.c1,.lbl.c1 {\n",
       "    border-color: var(--border-color1);\n",
       "    border-width: var(--border-width1);\n",
       "    border-radius: var(--border-width1);\n",
       "}\n",
       ".contnr.c2,.lbl.c2 {\n",
       "    border-color: var(--border-color2);\n",
       "    border-width: var(--border-width2);\n",
       "    border-radius: var(--border-width2);\n",
       "}\n",
       ".contnr.c3,.lbl.c3 {\n",
       "    border-color: var(--border-color3);\n",
       "    border-width: var(--border-width3);\n",
       "    border-radius: var(--border-width3);\n",
       "}\n",
       ".contnr.c4,.lbl.c4 {\n",
       "    border-color: var(--border-color4);\n",
       "    border-width: var(--border-width4);\n",
       "    border-radius: var(--border-width4);\n",
       "}\n",
       "span.plain {\n",
       "    display: inline-block;\n",
       "    white-space: pre-wrap;\n",
       "}\n",
       ".plain {\n",
       "    background-color: #ffffff;\n",
       "}\n",
       ".plain.l,.contnr.l,.contnr.l>.lbl {\n",
       "    border-left-style: dotted\n",
       "}\n",
       ".plain.r,.contnr.r,.contnr.r>.lbl {\n",
       "    border-right-style: dotted\n",
       "}\n",
       ".plain.lno,.contnr.lno,.contnr.lno>.lbl {\n",
       "    border-left-style: none\n",
       "}\n",
       ".plain.rno,.contnr.rno,.contnr.rno>.lbl {\n",
       "    border-right-style: none\n",
       "}\n",
       ".plain.l {\n",
       "    padding-left: 4px;\n",
       "    margin-left: 2px;\n",
       "    border-width: var(--border-width-plain);\n",
       "}\n",
       ".plain.r {\n",
       "    padding-right: 4px;\n",
       "    margin-right: 2px;\n",
       "    border-width: var(--border-width-plain);\n",
       "}\n",
       ".lbl {\n",
       "    font-family: monospace;\n",
       "    margin-top: -24px;\n",
       "    margin-left: 20px;\n",
       "    background: #ffffff none repeat scroll 0 0;\n",
       "    padding: 0 6px;\n",
       "    border-style: solid;\n",
       "    display: block;\n",
       "    color: var(--label)\n",
       "}\n",
       ".lbl.trm {\n",
       "    background-attachment: local;\n",
       "    margin-top: 2px;\n",
       "    margin-left: 2px;\n",
       "    padding: 2px 2px;\n",
       "    border-style: none;\n",
       "}\n",
       ".lbl.cnul {\n",
       "    font-size: xx-small;\n",
       "}\n",
       ".lbl.c0 {\n",
       "    font-size: small;\n",
       "}\n",
       ".lbl.c1 {\n",
       "    font-size: small;\n",
       "}\n",
       ".lbl.c2 {\n",
       "    font-size: medium;\n",
       "}\n",
       ".lbl.c3 {\n",
       "    font-size: medium;\n",
       "}\n",
       ".lbl.c4 {\n",
       "    font-size: large;\n",
       "}\n",
       ".occs, a:link.occs {\n",
       "    font-size: small;\n",
       "}\n",
       "\n",
       "/* PROVENANCE */\n",
       "\n",
       "div.prov {\n",
       "\tmargin: 40px;\n",
       "\tpadding: 20px;\n",
       "\tborder: 2px solid var(--fog-rim);\n",
       "}\n",
       "div.pline {\n",
       "\tdisplay: flex;\n",
       "\tflex-flow: row nowrap;\n",
       "\tjustify-content: stretch;\n",
       "\talign-items: baseline;\n",
       "}\n",
       "div.p2line {\n",
       "\tmargin-left: 2em;\n",
       "\tdisplay: flex;\n",
       "\tflex-flow: row nowrap;\n",
       "\tjustify-content: stretch;\n",
       "\talign-items: baseline;\n",
       "}\n",
       "div.psline {\n",
       "\tdisplay: flex;\n",
       "\tflex-flow: row nowrap;\n",
       "\tjustify-content: stretch;\n",
       "\talign-items: baseline;\n",
       "\tbackground-color: var(--gold-mist-back);\n",
       "}\n",
       "div.pname {\n",
       "\tflex: 0 0 5rem;\n",
       "\tfont-weight: bold;\n",
       "}\n",
       "div.pval {\n",
       "    flex: 1 1 auto;\n",
       "}\n",
       "\n",
       ":root {\n",
       "\t--node:               hsla(120, 100%,  20%, 1.0  );\n",
       "\t--label:              hsla(  0, 100%,  20%, 1.0  );\n",
       "\t--tfsechead:          hsla(  0, 100%,  25%, 1.0  );\n",
       "\t--structure:          hsla(120, 100%,  25%, 1.0  );\n",
       "\t--features:           hsla(  0,   0%,  30%, 1.0  );\n",
       "  --text-color:         hsla( 60,  80%,  10%, 1.0  );\n",
       "  --lex-color:          hsla(220,  90%,  60%, 1.0  );\n",
       "  --meta-color:         hsla(  0,   0%,  90%, 0.7  );\n",
       "  --meta-width:         3px;\n",
       "  --border-color-nul:   hsla(  0,   0%,  90%, 0.5  );\n",
       "  --border-color0:      hsla(  0,   0%,  90%, 0.9  );\n",
       "  --border-color1:      hsla(  0,   0%,  80%, 0.9  );\n",
       "  --border-color2:      hsla(  0,   0%,  70%, 0.9  );\n",
       "  --border-color3:      hsla(  0,   0%,  80%, 0.8  );\n",
       "  --border-color4:      hsla(  0,   0%,  60%, 0.9  );\n",
       "  --border-width-nul:   2px;\n",
       "  --border-width0:      2px;\n",
       "  --border-width1:      3px;\n",
       "  --border-width2:      4px;\n",
       "  --border-width3:      6px;\n",
       "  --border-width4:      5px;\n",
       "  --border-width-plain: 2px;\n",
       "}\n",
       ".hl {\n",
       "  background-color: var(--hl-strong);\n",
       "}\n",
       "span.hl {\n",
       "\tbackground-color: var(--hl-strong);\n",
       "\tborder-width: 0;\n",
       "\tborder-radius: 2px;\n",
       "\tborder-style: solid;\n",
       "}\n",
       "div.contnr.hl,div.lbl.hl {\n",
       "  background-color: var(--hl-strong);\n",
       "}\n",
       "div.contnr.hl {\n",
       "  border-color: var(--hl-rim) ! important;\n",
       "\tborder-width: 4px ! important;\n",
       "}\n",
       "\n",
       "span.hlbx {\n",
       "\tborder-color: var(--hl-rim);\n",
       "\tborder-width: 4px ! important;\n",
       "\tborder-style: solid;\n",
       "\tborder-radius: 6px;\n",
       "  padding: 4px;\n",
       "  margin: 4px;\n",
       "}\n",
       "\n",
       "span.plain {\n",
       "  display: inline-block;\n",
       "  white-space: pre-wrap;\n",
       "}\n",
       "\n",
       ":root {\n",
       "\t--hl-strong:        hsla( 60, 100%,  70%, 0.9  );\n",
       "\t--hl-rim:           hsla( 55,  80%,  50%, 1.0  );\n",
       "}\n",
       ".remark {\n",
       "  font-size: large;\n",
       "  font-style: italic;\n",
       "}\n",
       ".folio {\n",
       "  font-size: small;\n",
       "  color: #668866;\n",
       "}\n",
       ".fmark:after {\n",
       "  font-size: small;\n",
       "  font-weight: bold;\n",
       "  vertical-align: super;\n",
       "  color: #ddaa22;\n",
       "}\n",
       ".note {\n",
       "  vertical-align: super;\n",
       "  font-size: small;\n",
       "  color: #774400;\n",
       "}\n",
       ".ref {\n",
       "  font-size: small;\n",
       "  font-weight: bold;\n",
       "  color: #666688;\n",
       "}\n",
       ".emph {\n",
       "  font-style: italic;\n",
       "}\n",
       ".und {\n",
       "  text-decoration: underline;\n",
       "}\n",
       ".super {\n",
       "  vertical-align: super;\n",
       "}\n",
       ".special {\n",
       "  font-family: monospace;\n",
       "  font-weight: bold;\n",
       "  color: #886666;\n",
       "}\n",
       "</style>"
      ],
      "text/plain": [
       "<IPython.core.display.HTML object>"
      ]
     },
     "metadata": {},
     "output_type": "display_data"
    },
    {
     "data": {
      "text/html": [
       "<div><b>Text-Fabric API:</b> names <a target=\"_blank\" href=\"https://annotation.github.io/text-fabric/cheatsheet.html\" title=\"doc\">N F E L T S C TF</a> directly usable</div><hr>"
      ],
      "text/plain": [
       "<IPython.core.display.HTML object>"
      ]
     },
     "metadata": {},
     "output_type": "display_data"
    }
   ],
   "source": [
    "A = use(\"missieven:latest\", checkout=\"latest\", hoist=globals())\n",
    "# A = use('missieven', hoist=globals())\n",
    "# A = use('missieven:clone', checkout=\"clone\", hoist=globals())\n",
    "# A = use('missieven:hot', checkout=\"hot\", hoist=globals())"
   ]
  },
  {
   "cell_type": "markdown",
   "metadata": {},
   "source": [
    "There is a lot of information in the report above, we'll look at that in a later chapter:\n",
    "[compute](compute.ipynb)"
   ]
  },
  {
   "cell_type": "markdown",
   "metadata": {},
   "source": [
    "# Getting around\n",
    "\n",
    "## Where am I?\n",
    "\n",
    "All information in a Text-Fabric dataset is tied to nodes and edges.\n",
    "Nodes are integers, from 1 upwards, and the basic textual objects (*slots*) come first, in the order of the text.\n",
    "In this corpus, slots are words, and we have more than 5 millions of them.\n",
    "\n",
    "Here is how you can visualize a slot and see where you are, if you found an arbitrary word:"
   ]
  },
  {
   "cell_type": "code",
   "execution_count": 5,
   "metadata": {},
   "outputs": [
    {
     "data": {
      "text/html": [
       "<div class=\"\"><span class=\"tfsechead \"><a target=\"_blank\" href=\"http://resources.huygens.knaw.nl/retroboeken/generalemissiven/#page=730&amp;source=3\" title=\"Show this document on Huygens\" sec=\"3 717:28\">3 717:28</a></span>  <span class=\"txtu\">van </span></div>"
      ],
      "text/plain": [
       "<IPython.core.display.HTML object>"
      ]
     },
     "metadata": {},
     "output_type": "display_data"
    }
   ],
   "source": [
    "n = 1_094_387\n",
    "A.plain(n)"
   ]
  },
  {
   "cell_type": "markdown",
   "metadata": {},
   "source": [
    "This word is in volume 4, page 717, line 28.\n",
    "You can click the passage specifier, and it will take you to the image of this page on the\n",
    "Missieven site maintained by the Huygens institute.\n",
    "\n",
    "![fragment](images/GM4-717.png)"
   ]
  },
  {
   "cell_type": "markdown",
   "metadata": {},
   "source": [
    "## How to get to ...?\n",
    "\n",
    "Suppose we want to move to volume 3, page 717.\n",
    "How do we find the node that corresponds to that page?"
   ]
  },
  {
   "cell_type": "code",
   "execution_count": 6,
   "metadata": {},
   "outputs": [
    {
     "data": {
      "text/plain": [
       "5744967"
      ]
     },
     "execution_count": 6,
     "metadata": {},
     "output_type": "execute_result"
    }
   ],
   "source": [
    "p = A.nodeFromSectionStr(\"3 717\")\n",
    "p"
   ]
  },
  {
   "cell_type": "markdown",
   "metadata": {},
   "source": [
    "This looks like a meaningless number, but like a barcode on a product, this is the key to all information\n",
    "about a thing. What kind of thing?"
   ]
  },
  {
   "cell_type": "code",
   "execution_count": 7,
   "metadata": {},
   "outputs": [
    {
     "data": {
      "text/plain": [
       "'page'"
      ]
     },
     "execution_count": 7,
     "metadata": {},
     "output_type": "execute_result"
    }
   ],
   "source": [
    "F.otype.v(p)"
   ]
  },
  {
   "cell_type": "markdown",
   "metadata": {},
   "source": [
    "We just asked for the value of the feature `otype` (object type) of node `p`, and it turned out to be a page.\n",
    "In the same way we can get the page number:"
   ]
  },
  {
   "cell_type": "code",
   "execution_count": 8,
   "metadata": {},
   "outputs": [
    {
     "data": {
      "text/plain": [
       "717"
      ]
     },
     "execution_count": 8,
     "metadata": {},
     "output_type": "execute_result"
    }
   ],
   "source": [
    "F.n.v(p)"
   ]
  },
  {
   "cell_type": "markdown",
   "metadata": {},
   "source": [
    "<img align=\"right\" src=\"images/incantation.png\" width=\"500\"/>\n",
    "\n",
    "Which features are defined, and what they mean is dependent on the dataset.\n",
    "The dataset designer has provided metadata and documentation about features that are\n",
    "accessible wherever you work with Text-Fabric.\n",
    "Just after the incantation you can expand the list of features amd click on any feature to jump to its documentation."
   ]
  },
  {
   "cell_type": "markdown",
   "metadata": {},
   "source": [
    "We can also navigate to a specific line:"
   ]
  },
  {
   "cell_type": "code",
   "execution_count": 9,
   "metadata": {},
   "outputs": [
    {
     "name": "stdout",
     "output_type": "stream",
     "text": [
      "node 5366849 is line 28\n"
     ]
    }
   ],
   "source": [
    "ln = A.nodeFromSectionStr(\"3 717:28\")\n",
    "print(f\"node {ln} is {F.otype.v(ln)} {F.n.v(ln)}\")"
   ]
  },
  {
   "cell_type": "markdown",
   "metadata": {},
   "source": [
    "We can also do this in a more structured way:"
   ]
  },
  {
   "cell_type": "code",
   "execution_count": 10,
   "metadata": {},
   "outputs": [
    {
     "data": {
      "text/plain": [
       "5744967"
      ]
     },
     "execution_count": 10,
     "metadata": {},
     "output_type": "execute_result"
    }
   ],
   "source": [
    "p = T.nodeFromSection((3, 717))\n",
    "p"
   ]
  },
  {
   "cell_type": "code",
   "execution_count": 11,
   "metadata": {},
   "outputs": [
    {
     "data": {
      "text/plain": [
       "5366849"
      ]
     },
     "execution_count": 11,
     "metadata": {},
     "output_type": "execute_result"
    }
   ],
   "source": [
    "ln = T.nodeFromSection((3, 717, 28))\n",
    "ln"
   ]
  },
  {
   "cell_type": "markdown",
   "metadata": {},
   "source": [
    "At this point, have a look at the\n",
    "[cheatsheet](https://annotation.github.io/text-fabric/tf/cheatsheet.html)\n",
    "and find the documentation of these methods."
   ]
  },
  {
   "cell_type": "markdown",
   "metadata": {},
   "source": [
    "## Explore the neighbourhood\n",
    "\n",
    "We show how to find the nodes of the lines in the page, how to print the text of those lines, and how to find the individual words.\n",
    "\n",
    "Text-Fabric has an API called `Locality` (or simply `L`) to explore spatially related nodes.\n",
    "\n",
    "From a node we can go `up`, `down`, `previous` and `next`. Here we go down."
   ]
  },
  {
   "cell_type": "code",
   "execution_count": 12,
   "metadata": {},
   "outputs": [
    {
     "data": {
      "text/plain": [
       "(5366822,\n",
       " 5366823,\n",
       " 5366824,\n",
       " 5366825,\n",
       " 5366826,\n",
       " 5366827,\n",
       " 5366828,\n",
       " 5366829,\n",
       " 5366830,\n",
       " 5366831,\n",
       " 5366832,\n",
       " 5366833,\n",
       " 5366834,\n",
       " 5366835,\n",
       " 5366836,\n",
       " 5366837,\n",
       " 5366838,\n",
       " 5366839,\n",
       " 5366840,\n",
       " 5366841,\n",
       " 5366842,\n",
       " 5366843,\n",
       " 5366844,\n",
       " 5366845,\n",
       " 5366846,\n",
       " 5366847,\n",
       " 5366848,\n",
       " 5366849,\n",
       " 5366850,\n",
       " 5366851,\n",
       " 5366852,\n",
       " 5366853,\n",
       " 5366854,\n",
       " 5366855,\n",
       " 5366856,\n",
       " 5366857,\n",
       " 5366858,\n",
       " 5366859,\n",
       " 5366860,\n",
       " 5366861,\n",
       " 5366862,\n",
       " 5366863,\n",
       " 5366864,\n",
       " 5366865)"
      ]
     },
     "execution_count": 12,
     "metadata": {},
     "output_type": "execute_result"
    }
   ],
   "source": [
    "lines = L.d(p, otype=\"line\")\n",
    "lines"
   ]
  },
  {
   "cell_type": "markdown",
   "metadata": {},
   "source": [
    "# Display\n",
    "\n",
    "Text-Fabric has a high-level display API to show textual material in various ways.\n",
    "\n",
    "Here is a plain view."
   ]
  },
  {
   "cell_type": "code",
   "execution_count": 13,
   "metadata": {},
   "outputs": [
    {
     "data": {
      "text/html": [
       "<div class=\"\"><span class=\"tfsechead \"><a target=\"_blank\" href=\"http://resources.huygens.knaw.nl/retroboeken/generalemissiven/#page=730&amp;source=3\" title=\"Show this document on Huygens\" sec=\"3 717:1\">3 717:1</a></span>  <span class=\"txtu\">Bouw </span><span class=\"txtu\">van </span><span class=\"txtu\">een </span><span class=\"txtu\">groot '</span><span class=\"txtu\">pakhuis </span><span class=\"txtu\">te </span><span class=\"txtu\">Gale; </span><span class=\"txtu\">eind </span><span class=\"txtu\">jebr. </span><span class=\"txtu\">was </span><span class=\"txtu\">in </span><span class=\"txtu\">Ceylon </span><span class=\"txtu\">in </span><span class=\"txtu\">een </span><span class=\"txtu\">jaar </span><span class=\"txtu\">uitgegeven</span></div>"
      ],
      "text/plain": [
       "<IPython.core.display.HTML object>"
      ]
     },
     "metadata": {},
     "output_type": "display_data"
    },
    {
     "data": {
      "text/html": [
       "<div class=\"\"><span class=\"tfsechead \"><a target=\"_blank\" href=\"http://resources.huygens.knaw.nl/retroboeken/generalemissiven/#page=730&amp;source=3\" title=\"Show this document on Huygens\" sec=\"3 717:2\">3 717:2</a></span>  <span class=\"txtu\">ƒ. </span><span class=\"txtu\">1205065 </span><span class=\"txtu\">en </span><span class=\"txtu\">gewonnen </span><span class=\"txtu\">f. </span><span class=\"txtu\">980645; </span><span class=\"txtu\">overlast </span><span class=\"txtu\">de </span><span class=\"txtu\">Compagnie </span><span class=\"txtu\">te </span><span class=\"txtu\">Wingurla </span><span class=\"txtu\">aangedaan</span></div>"
      ],
      "text/plain": [
       "<IPython.core.display.HTML object>"
      ]
     },
     "metadata": {},
     "output_type": "display_data"
    },
    {
     "data": {
      "text/html": [
       "<div class=\"\"><span class=\"tfsechead \"><a target=\"_blank\" href=\"http://resources.huygens.knaw.nl/retroboeken/generalemissiven/#page=730&amp;source=3\" title=\"Show this document on Huygens\" sec=\"3 717:3\">3 717:3</a></span>  <span class=\"txtu\">door </span><span class=\"txtu\">Sjivadji </span><span class=\"txtu\">en </span><span class=\"txtu\">de </span><span class=\"txtu\">hoofden </span><span class=\"txtu\">van </span><span class=\"txtu\">Bijapur; </span><span class=\"txtu\">de </span><span class=\"txtu\">resident </span><span class=\"txtu\">Leendertsz. </span><span class=\"txtu\">raadt </span><span class=\"txtu\">aan</span></div>"
      ],
      "text/plain": [
       "<IPython.core.display.HTML object>"
      ]
     },
     "metadata": {},
     "output_type": "display_data"
    },
    {
     "data": {
      "text/html": [
       "<div class=\"\"><span class=\"tfsechead \"><a target=\"_blank\" href=\"http://resources.huygens.knaw.nl/retroboeken/generalemissiven/#page=730&amp;source=3\" title=\"Show this document on Huygens\" sec=\"3 717:4\">3 717:4</a></span>  <span class=\"txtu\">hun </span><span class=\"txtu\">te </span><span class=\"txtu\">laten </span><span class=\"txtu\">weten, </span><span class=\"txtu\">dat </span><span class=\"txtu\">de </span><span class=\"txtu\">vestiging </span><span class=\"txtu\">wordt </span><span class=\"txtu\">opgeheven, </span><span class=\"txtu\">indien </span><span class=\"txtu\">zij </span><span class=\"txtu\">zo </span><span class=\"txtu\">voortgaan</span></div>"
      ],
      "text/plain": [
       "<IPython.core.display.HTML object>"
      ]
     },
     "metadata": {},
     "output_type": "display_data"
    },
    {
     "data": {
      "text/html": [
       "<div class=\"\"><span class=\"tfsechead \"><a target=\"_blank\" href=\"http://resources.huygens.knaw.nl/retroboeken/generalemissiven/#page=730&amp;source=3\" title=\"Show this document on Huygens\" sec=\"3 717:5\">3 717:5</a></span>  </div>"
      ],
      "text/plain": [
       "<IPython.core.display.HTML object>"
      ]
     },
     "metadata": {},
     "output_type": "display_data"
    },
    {
     "data": {
      "text/html": [
       "<div class=\"\"><span class=\"tfsechead \"><a target=\"_blank\" href=\"http://resources.huygens.knaw.nl/retroboeken/generalemissiven/#page=730&amp;source=3\" title=\"Show this document on Huygens\" sec=\"3 717:6\">3 717:6</a></span>  <span class=\"txtu\">Wij </span><span class=\"txtu\">twijfelen, </span><span class=\"txtu\">of </span><span class=\"txtu\">sij </span><span class=\"txtu\">sooveel </span><span class=\"txtu\">werck </span><span class=\"txtu\">al </span><span class=\"txtu\">van </span><span class=\"txtu\">ons </span><span class=\"txtu\">soude </span><span class=\"txtu\">maecken, </span><span class=\"txtu\">omdat </span><span class=\"txtu\">se </span><span class=\"txtu\">de</span></div>"
      ],
      "text/plain": [
       "<IPython.core.display.HTML object>"
      ]
     },
     "metadata": {},
     "output_type": "display_data"
    },
    {
     "data": {
      "text/html": [
       "<div class=\"\"><span class=\"tfsechead \"><a target=\"_blank\" href=\"http://resources.huygens.knaw.nl/retroboeken/generalemissiven/#page=730&amp;source=3\" title=\"Show this document on Huygens\" sec=\"3 717:7\">3 717:7</a></span>  <span class=\"txtu\">Engelsen </span><span class=\"txtu\">ende </span><span class=\"txtu\">nu </span><span class=\"txtu\">oocq </span><span class=\"txtu\">de </span><span class=\"txtu\">Francen </span><span class=\"txtu\">bij </span><span class=\"txtu\">de </span><span class=\"txtu\">wercken </span><span class=\"txtu\">hebben </span><span class=\"txtu\">ende </span><span class=\"txtu\">van </span><span class=\"txtu\">dewelcke </span><span class=\"txtu\">sij</span></div>"
      ],
      "text/plain": [
       "<IPython.core.display.HTML object>"
      ]
     },
     "metadata": {},
     "output_type": "display_data"
    },
    {
     "data": {
      "text/html": [
       "<div class=\"\"><span class=\"tfsechead \"><a target=\"_blank\" href=\"http://resources.huygens.knaw.nl/retroboeken/generalemissiven/#page=730&amp;source=3\" title=\"Show this document on Huygens\" sec=\"3 717:8\">3 717:8</a></span>  <span class=\"txtu\">dan </span><span class=\"txtu\">wellicht </span><span class=\"txtu\">te </span><span class=\"txtu\">meer </span><span class=\"txtu\">souden </span><span class=\"txtu\">worden </span><span class=\"txtu\">geflatteert </span><span class=\"txtu\">ende </span><span class=\"txtu\">wie </span><span class=\"txtu\">weet </span><span class=\"txtu\">oocq, </span><span class=\"txtu\">of </span><span class=\"txtu\">de </span><span class=\"txtu\">nieuwe</span></div>"
      ],
      "text/plain": [
       "<IPython.core.display.HTML object>"
      ]
     },
     "metadata": {},
     "output_type": "display_data"
    },
    {
     "data": {
      "text/html": [
       "<div class=\"\"><span class=\"tfsechead \"><a target=\"_blank\" href=\"http://resources.huygens.knaw.nl/retroboeken/generalemissiven/#page=730&amp;source=3\" title=\"Show this document on Huygens\" sec=\"3 717:9\">3 717:9</a></span>  <span class=\"txtu\">resident, </span><span class=\"txtu\">RomboutLefer </span><span class=\"txtu\">Rombout </span><span class=\"txtu\">Lefer </span><span class=\"txtu\">was </span><span class=\"txtu\">van </span><span class=\"txtu\">1669 </span><span class=\"txtu\">tot </span><span class=\"txtu\">juli </span><span class=\"txtu\">1673 </span><span class=\"txtu\">in </span><span class=\"txtu\">onderkoopmansrang </span><span class=\"txtu\">opperhoofd </span><span class=\"txtu\">te</span></div>"
      ],
      "text/plain": [
       "<IPython.core.display.HTML object>"
      ]
     },
     "metadata": {},
     "output_type": "display_data"
    },
    {
     "data": {
      "text/html": [
       "<div class=\"\"><span class=\"tfsechead \"><a target=\"_blank\" href=\"http://resources.huygens.knaw.nl/retroboeken/generalemissiven/#page=730&amp;source=3\" title=\"Show this document on Huygens\" sec=\"3 717:10\">3 717:10</a></span>  <span class=\"txtu\">Wingurla, </span><span class=\"txtu\">vervolgens </span><span class=\"txtu\">koopman </span><span class=\"txtu\">te </span><span class=\"txtu\">Batavia, </span><span class=\"txtu\">sept. </span><span class=\"txtu\">1675-</span><span class=\"txtu\">mei </span><span class=\"txtu\">1676 </span><span class=\"txtu\">met </span><span class=\"txtu\">twee </span><span class=\"txtu\">schepen </span><span class=\"txtu\">naar </span><span class=\"txtu\">de</span></div>"
      ],
      "text/plain": [
       "<IPython.core.display.HTML object>"
      ]
     },
     "metadata": {},
     "output_type": "display_data"
    },
    {
     "data": {
      "text/html": [
       "<div class=\"\"><span class=\"tfsechead \"><a target=\"_blank\" href=\"http://resources.huygens.knaw.nl/retroboeken/generalemissiven/#page=730&amp;source=3\" title=\"Show this document on Huygens\" sec=\"3 717:11\">3 717:11</a></span>  <span class=\"txtu\">westkust </span><span class=\"txtu\">van </span><span class=\"txtu\">India </span><span class=\"txtu\">om </span><span class=\"txtu\">rijst </span><span class=\"txtu\">in </span><span class=\"txtu\">te </span><span class=\"txtu\">kopen.</span></div>"
      ],
      "text/plain": [
       "<IPython.core.display.HTML object>"
      ]
     },
     "metadata": {},
     "output_type": "display_data"
    },
    {
     "data": {
      "text/html": [
       "<div class=\"\"><span class=\"tfsechead \"><a target=\"_blank\" href=\"http://resources.huygens.knaw.nl/retroboeken/generalemissiven/#page=730&amp;source=3\" title=\"Show this document on Huygens\" sec=\"3 717:12\">3 717:12</a></span>  <span class=\"txtu\">met </span><span class=\"txtu\">de </span><span class=\"txtu\">fluyt </span><span class=\"txtu\">Alfen </span><span class=\"txtu\">derwaerts </span><span class=\"txtu\">gegaen, </span><span class=\"txtu\">niet </span><span class=\"txtu\">beter </span><span class=\"txtu\">met</span></div>"
      ],
      "text/plain": [
       "<IPython.core.display.HTML object>"
      ]
     },
     "metadata": {},
     "output_type": "display_data"
    },
    {
     "data": {
      "text/html": [
       "<div class=\"\"><span class=\"tfsechead \"><a target=\"_blank\" href=\"http://resources.huygens.knaw.nl/retroboeken/generalemissiven/#page=730&amp;source=3\" title=\"Show this document on Huygens\" sec=\"3 717:13\">3 717:13</a></span>  <span class=\"txtu\">dat </span><span class=\"txtu\">volcq </span><span class=\"txtu\">sal </span><span class=\"txtu\">weten </span><span class=\"txtu\">om </span><span class=\"txtu\">te </span><span class=\"txtu\">gaen. </span></div>"
      ],
      "text/plain": [
       "<IPython.core.display.HTML object>"
      ]
     },
     "metadata": {},
     "output_type": "display_data"
    },
    {
     "data": {
      "text/html": [
       "<div class=\"\"><span class=\"tfsechead \"><a target=\"_blank\" href=\"http://resources.huygens.knaw.nl/retroboeken/generalemissiven/#page=730&amp;source=3\" title=\"Show this document on Huygens\" sec=\"3 717:14\">3 717:14</a></span>  <span class=\"txtu\">Mette </span><span class=\"txtu\">Portugesen </span><span class=\"txtu\">in </span><span class=\"txtu\">Goa </span><span class=\"txtu\">stonden </span><span class=\"txtu\">de </span><span class=\"txtu\">saecken </span><span class=\"txtu\">geheel </span><span class=\"txtu\">slecht, </span><span class=\"txtu\">wordende </span><span class=\"txtu\">van </span><span class=\"txtu\">de</span></div>"
      ],
      "text/plain": [
       "<IPython.core.display.HTML object>"
      ]
     },
     "metadata": {},
     "output_type": "display_data"
    },
    {
     "data": {
      "text/html": [
       "<div class=\"\"><span class=\"tfsechead \"><a target=\"_blank\" href=\"http://resources.huygens.knaw.nl/retroboeken/generalemissiven/#page=730&amp;source=3\" title=\"Show this document on Huygens\" sec=\"3 717:15\">3 717:15</a></span>  <span class=\"txtu\">Arabieren </span><span class=\"txtu\">genoeghsaem </span><span class=\"txtu\">als </span><span class=\"txtu\">gebra </span><span class=\"txtu\">veert, </span><span class=\"txtu\">sonderdat </span><span class=\"txtu\">se </span><span class=\"txtu\">macht </span><span class=\"txtu\">hebben </span><span class=\"txtu\">haer </span><span class=\"txtu\">het </span><span class=\"txtu\">hooft</span></div>"
      ],
      "text/plain": [
       "<IPython.core.display.HTML object>"
      ]
     },
     "metadata": {},
     "output_type": "display_data"
    },
    {
     "data": {
      "text/html": [
       "<div class=\"\"><span class=\"tfsechead \"><a target=\"_blank\" href=\"http://resources.huygens.knaw.nl/retroboeken/generalemissiven/#page=730&amp;source=3\" title=\"Show this document on Huygens\" sec=\"3 717:16\">3 717:16</a></span>  <span class=\"txtu\">te </span><span class=\"txtu\">bieden. </span></div>"
      ],
      "text/plain": [
       "<IPython.core.display.HTML object>"
      ]
     },
     "metadata": {},
     "output_type": "display_data"
    },
    {
     "data": {
      "text/html": [
       "<div class=\"\"><span class=\"tfsechead \"><a target=\"_blank\" href=\"http://resources.huygens.knaw.nl/retroboeken/generalemissiven/#page=730&amp;source=3\" title=\"Show this document on Huygens\" sec=\"3 717:17\">3 717:17</a></span>  <span class=\"txtu\">De </span><span class=\"txtu\">Arabieren </span><span class=\"txtu\">van </span><span class=\"txtu\">Mascate </span><span class=\"txtu\">namen </span><span class=\"txtu\">vier </span><span class=\"txtu\">van </span><span class=\"txtu\">hun </span><span class=\"txtu\">schapen </span><span class=\"txtu\">voor </span><span class=\"txtu\">Mokka; </span><span class=\"txtu\">in </span><span class=\"txtu\">Ispahan</span></div>"
      ],
      "text/plain": [
       "<IPython.core.display.HTML object>"
      ]
     },
     "metadata": {},
     "output_type": "display_data"
    },
    {
     "data": {
      "text/html": [
       "<div class=\"\"><span class=\"tfsechead \"><a target=\"_blank\" href=\"http://resources.huygens.knaw.nl/retroboeken/generalemissiven/#page=730&amp;source=3\" title=\"Show this document on Huygens\" sec=\"3 717:18\">3 717:18</a></span>  <span class=\"txtu\">moest </span><span class=\"txtu\">men </span><span class=\"txtu\">behalve </span><span class=\"txtu\">41 </span><span class=\"txtu\">carga </span><span class=\"txtu\">zijde, </span><span class=\"txtu\">die </span><span class=\"txtu\">reeds </span><span class=\"txtu\">vroeger </span><span class=\"txtu\">waren </span><span class=\"txtu\">geleverd, </span><span class=\"txtu\">nog </span><span class=\"txtu\">167 </span><span class=\"txtu\">afnemen,</span></div>"
      ],
      "text/plain": [
       "<IPython.core.display.HTML object>"
      ]
     },
     "metadata": {},
     "output_type": "display_data"
    },
    {
     "data": {
      "text/html": [
       "<div class=\"\"><span class=\"tfsechead \"><a target=\"_blank\" href=\"http://resources.huygens.knaw.nl/retroboeken/generalemissiven/#page=730&amp;source=3\" title=\"Show this document on Huygens\" sec=\"3 717:19\">3 717:19</a></span>  <span class=\"txtu\">dus </span><span class=\"txtu\">in </span><span class=\"txtu\">totaal </span><span class=\"txtu\">niet </span><span class=\"txtu\">de </span><span class=\"txtu\">volle </span><span class=\"txtu\">300 </span><span class=\"txtu\">carga ; </span><span class=\"txtu\">vrees, </span><span class=\"txtu\">dat </span><span class=\"txtu\">die </span><span class=\"txtu\">het </span><span class=\"txtu\">volgende </span><span class=\"txtu\">jaar </span><span class=\"txtu\">moeten</span></div>"
      ],
      "text/plain": [
       "<IPython.core.display.HTML object>"
      ]
     },
     "metadata": {},
     "output_type": "display_data"
    },
    {
     "data": {
      "text/html": [
       "<div class=\"\"><span class=\"tfsechead \"><a target=\"_blank\" href=\"http://resources.huygens.knaw.nl/retroboeken/generalemissiven/#page=730&amp;source=3\" title=\"Show this document on Huygens\" sec=\"3 717:20\">3 717:20</a></span>  <span class=\"txtu\">worden </span><span class=\"txtu\">gekocht; </span><span class=\"txtu\">in </span><span class=\"txtu\">Gamron </span><span class=\"txtu\">blijft </span><span class=\"txtu\">veel </span><span class=\"txtu\">koopwaar </span><span class=\"txtu\">onverkocht </span><span class=\"txtu\">liggen, </span><span class=\"txtu\">zodat </span><span class=\"txtu\">geen </span><span class=\"txtu\">geld</span></div>"
      ],
      "text/plain": [
       "<IPython.core.display.HTML object>"
      ]
     },
     "metadata": {},
     "output_type": "display_data"
    },
    {
     "data": {
      "text/html": [
       "<div class=\"\"><span class=\"tfsechead \"><a target=\"_blank\" href=\"http://resources.huygens.knaw.nl/retroboeken/generalemissiven/#page=730&amp;source=3\" title=\"Show this document on Huygens\" sec=\"3 717:21\">3 717:21</a></span>  <span class=\"txtu\">naar </span><span class=\"txtu\">Ceylon </span><span class=\"txtu\">kon </span><span class=\"txtu\">worden </span><span class=\"txtu\">gezonden </span></div>"
      ],
      "text/plain": [
       "<IPython.core.display.HTML object>"
      ]
     },
     "metadata": {},
     "output_type": "display_data"
    },
    {
     "data": {
      "text/html": [
       "<div class=\"\"><span class=\"tfsechead \"><a target=\"_blank\" href=\"http://resources.huygens.knaw.nl/retroboeken/generalemissiven/#page=730&amp;source=3\" title=\"Show this document on Huygens\" sec=\"3 717:22\">3 717:22</a></span>  </div>"
      ],
      "text/plain": [
       "<IPython.core.display.HTML object>"
      ]
     },
     "metadata": {},
     "output_type": "display_data"
    },
    {
     "data": {
      "text/html": [
       "<div class=\"\"><span class=\"tfsechead \"><a target=\"_blank\" href=\"http://resources.huygens.knaw.nl/retroboeken/generalemissiven/#page=730&amp;source=3\" title=\"Show this document on Huygens\" sec=\"3 717:23\">3 717:23</a></span>  <span class=\"txtu\">Nae </span><span class=\"txtu\">gedane </span><span class=\"txtu\">doleantie </span><span class=\"txtu\">aen </span><span class=\"txtu\">den </span><span class=\"txtu\">Co. </span><span class=\"txtu\">en </span><span class=\"txtu\">vertrouwer </span><span class=\"txtu\">des </span><span class=\"txtu\">rij </span><span class=\"txtu\">ex </span><span class=\"txtu\">van </span><span class=\"txtu\">Persien </span><span class=\"txtu\">over</span></div>"
      ],
      "text/plain": [
       "<IPython.core.display.HTML object>"
      ]
     },
     "metadata": {},
     "output_type": "display_data"
    },
    {
     "data": {
      "text/html": [
       "<div class=\"\"><span class=\"tfsechead \"><a target=\"_blank\" href=\"http://resources.huygens.knaw.nl/retroboeken/generalemissiven/#page=730&amp;source=3\" title=\"Show this document on Huygens\" sec=\"3 717:24\">3 717:24</a></span>  <span class=\"txtu\">het </span><span class=\"txtu\">enorme </span><span class=\"txtu\">geweldt, </span><span class=\"txtu\">den </span><span class=\"txtu\">directeur </span><span class=\"txtu\">Goske </span><span class=\"txtu\">in </span><span class=\"txtu\">Gamron </span><span class=\"txtu\">door </span><span class=\"txtu\">den </span><span class=\"txtu\">overleden </span><span class=\"txtu\">gouvr.</span></div>"
      ],
      "text/plain": [
       "<IPython.core.display.HTML object>"
      ]
     },
     "metadata": {},
     "output_type": "display_data"
    },
    {
     "data": {
      "text/html": [
       "<div class=\"\"><span class=\"tfsechead \"><a target=\"_blank\" href=\"http://resources.huygens.knaw.nl/retroboeken/generalemissiven/#page=730&amp;source=3\" title=\"Show this document on Huygens\" sec=\"3 717:25\">3 717:25</a></span>  <span class=\"txtu\">Mierab </span><span class=\"txtu\">Chan </span><span class=\"txtu\">in </span><span class=\"txtu\">diverse </span><span class=\"txtu\">gelegentheden </span><span class=\"txtu\">aengedaen, </span><span class=\"txtu\">mitsgaders </span><span class=\"txtu\">het </span><span class=\"txtu\">gedreyghde</span></div>"
      ],
      "text/plain": [
       "<IPython.core.display.HTML object>"
      ]
     },
     "metadata": {},
     "output_type": "display_data"
    },
    {
     "data": {
      "text/html": [
       "<div class=\"\"><span class=\"tfsechead \"><a target=\"_blank\" href=\"http://resources.huygens.knaw.nl/retroboeken/generalemissiven/#page=730&amp;source=3\" title=\"Show this document on Huygens\" sec=\"3 717:26\">3 717:26</a></span>  <span class=\"txtu\">quaet </span><span class=\"txtu\">tractement, </span><span class=\"txtu\">twelck </span><span class=\"txtu\">sijnen </span><span class=\"txtu\">successeur </span><span class=\"txtu\">Mantusa </span><span class=\"txtu\">Coulichan </span><span class=\"txtu\">sigh </span><span class=\"txtu\">heeft </span><span class=\"txtu\">gevanteert</span></div>"
      ],
      "text/plain": [
       "<IPython.core.display.HTML object>"
      ]
     },
     "metadata": {},
     "output_type": "display_data"
    },
    {
     "data": {
      "text/html": [
       "<div class=\"\"><span class=\"tfsechead \"><a target=\"_blank\" href=\"http://resources.huygens.knaw.nl/retroboeken/generalemissiven/#page=730&amp;source=3\" title=\"Show this document on Huygens\" sec=\"3 717:27\">3 717:27</a></span>  <span class=\"txtu\">de </span><span class=\"txtu\">onse </span><span class=\"txtu\">te </span><span class=\"txtu\">sullen </span><span class=\"txtu\">aendoen, </span><span class=\"txtu\">is </span><span class=\"txtu\">sooveel </span><span class=\"txtu\">gehoor </span><span class=\"txtu\">aen </span><span class=\"txtu\">’t </span><span class=\"txtu\">hoff </span><span class=\"txtu\">vercregen, </span><span class=\"txtu\">dat </span><span class=\"txtu\">d’Ma.</span><span class=\"txtu\">1</span></div>"
      ],
      "text/plain": [
       "<IPython.core.display.HTML object>"
      ]
     },
     "metadata": {},
     "output_type": "display_data"
    },
    {
     "data": {
      "text/html": [
       "<div class=\"\"><span class=\"tfsechead \"><a target=\"_blank\" href=\"http://resources.huygens.knaw.nl/retroboeken/generalemissiven/#page=730&amp;source=3\" title=\"Show this document on Huygens\" sec=\"3 717:28\">3 717:28</a></span>  <span class=\"txtu\">bij </span><span class=\"txtu\">een </span><span class=\"txtu\">expres </span><span class=\"txtu\">firman </span><span class=\"txtu\">den </span><span class=\"txtu\">jegenwoordigen </span><span class=\"txtu\">gouvem.</span><span class=\"txtu\">r </span><span class=\"txtu\">van </span><span class=\"txtu\">Gamron </span><span class=\"txtu\">gelast </span><span class=\"txtu\">heeft </span><span class=\"txtu\">hem</span></div>"
      ],
      "text/plain": [
       "<IPython.core.display.HTML object>"
      ]
     },
     "metadata": {},
     "output_type": "display_data"
    },
    {
     "data": {
      "text/html": [
       "<div class=\"\"><span class=\"tfsechead \"><a target=\"_blank\" href=\"http://resources.huygens.knaw.nl/retroboeken/generalemissiven/#page=730&amp;source=3\" title=\"Show this document on Huygens\" sec=\"3 717:29\">3 717:29</a></span>  <span class=\"txtu\">ontren </span><span class=\"txtu\">de </span><span class=\"txtu\">heeren </span><span class=\"txtu\">directeurs </span><span class=\"txtu\">successive </span><span class=\"txtu\">soodanigh </span><span class=\"txtu\">te </span><span class=\"txtu\">comporteren </span><span class=\"txtu\">en </span><span class=\"txtu\">deselve </span><span class=\"txtu\">in</span></div>"
      ],
      "text/plain": [
       "<IPython.core.display.HTML object>"
      ]
     },
     "metadata": {},
     "output_type": "display_data"
    },
    {
     "data": {
      "text/html": [
       "<div class=\"\"><span class=\"tfsechead \"><a target=\"_blank\" href=\"http://resources.huygens.knaw.nl/retroboeken/generalemissiven/#page=730&amp;source=3\" title=\"Show this document on Huygens\" sec=\"3 717:30\">3 717:30</a></span>  <span class=\"txtu\">dier </span><span class=\"txtu\">vougen </span><span class=\"txtu\">te </span><span class=\"txtu\">respecteren, </span><span class=\"txtu\">als </span><span class=\"txtu\">de </span><span class=\"txtu\">overleden </span><span class=\"txtu\">Coningen </span><span class=\"txtu\">Abas </span><span class=\"txtu\">de </span><span class=\"txtu\">Groote, </span><span class=\"txtu\">Safie</span></div>"
      ],
      "text/plain": [
       "<IPython.core.display.HTML object>"
      ]
     },
     "metadata": {},
     "output_type": "display_data"
    },
    {
     "data": {
      "text/html": [
       "<div class=\"\"><span class=\"tfsechead \"><a target=\"_blank\" href=\"http://resources.huygens.knaw.nl/retroboeken/generalemissiven/#page=730&amp;source=3\" title=\"Show this document on Huygens\" sec=\"3 717:31\">3 717:31</a></span>  <span class=\"txtu\">d’Eerste </span><span class=\"txtu\">en </span><span class=\"txtu\">Abas </span><span class=\"txtu\">de </span><span class=\"txtu\">Tweede, </span><span class=\"txtu\">bij </span><span class=\"txtu\">bevelschriften </span><span class=\"txtu\">aen </span><span class=\"txtu\">d’Ed. </span><span class=\"txtu\">Compagnie </span><span class=\"txtu\">van </span><span class=\"txtu\">tijt </span><span class=\"txtu\">tot</span></div>"
      ],
      "text/plain": [
       "<IPython.core.display.HTML object>"
      ]
     },
     "metadata": {},
     "output_type": "display_data"
    },
    {
     "data": {
      "text/html": [
       "<div class=\"\"><span class=\"tfsechead \"><a target=\"_blank\" href=\"http://resources.huygens.knaw.nl/retroboeken/generalemissiven/#page=730&amp;source=3\" title=\"Show this document on Huygens\" sec=\"3 717:32\">3 717:32</a></span>  <span class=\"txtu\">tijt </span><span class=\"txtu\">verleendt, </span><span class=\"txtu\">hebben </span><span class=\"txtu\">geordonneert, </span><span class=\"txtu\">dat </span><span class=\"txtu\">van </span><span class=\"txtu\">een </span><span class=\"txtu\">geheel </span><span class=\"txtu\">anderen </span><span class=\"txtu\">thoon </span><span class=\"txtu\">sij </span><span class=\"txtu\">als </span><span class=\"txtu\">de</span></div>"
      ],
      "text/plain": [
       "<IPython.core.display.HTML object>"
      ]
     },
     "metadata": {},
     "output_type": "display_data"
    },
    {
     "data": {
      "text/html": [
       "<div class=\"\"><span class=\"tfsechead \"><a target=\"_blank\" href=\"http://resources.huygens.knaw.nl/retroboeken/generalemissiven/#page=730&amp;source=3\" title=\"Show this document on Huygens\" sec=\"3 717:33\">3 717:33</a></span>  <span class=\"txtu\">voorgaende </span><span class=\"txtu\">firmans. </span></div>"
      ],
      "text/plain": [
       "<IPython.core.display.HTML object>"
      ]
     },
     "metadata": {},
     "output_type": "display_data"
    },
    {
     "data": {
      "text/html": [
       "<div class=\"\"><span class=\"tfsechead \"><a target=\"_blank\" href=\"http://resources.huygens.knaw.nl/retroboeken/generalemissiven/#page=730&amp;source=3\" title=\"Show this document on Huygens\" sec=\"3 717:34\">3 717:34</a></span>  <span class=\"txtu\">Met </span><span class=\"txtu\">geduld </span><span class=\"txtu\">bereikt </span><span class=\"txtu\">men </span><span class=\"txtu\">in </span><span class=\"txtu\">Perzië </span><span class=\"txtu\">het </span><span class=\"txtu\">meest</span></div>"
      ],
      "text/plain": [
       "<IPython.core.display.HTML object>"
      ]
     },
     "metadata": {},
     "output_type": "display_data"
    },
    {
     "data": {
      "text/html": [
       "<div class=\"\"><span class=\"tfsechead \"><a target=\"_blank\" href=\"http://resources.huygens.knaw.nl/retroboeken/generalemissiven/#page=730&amp;source=3\" title=\"Show this document on Huygens\" sec=\"3 717:35\">3 717:35</a></span>  </div>"
      ],
      "text/plain": [
       "<IPython.core.display.HTML object>"
      ]
     },
     "metadata": {},
     "output_type": "display_data"
    },
    {
     "data": {
      "text/html": [
       "<div class=\"\"><span class=\"tfsechead \"><a target=\"_blank\" href=\"http://resources.huygens.knaw.nl/retroboeken/generalemissiven/#page=730&amp;source=3\" title=\"Show this document on Huygens\" sec=\"3 717:36\">3 717:36</a></span>  <span class=\"txtu\">Seecker </span><span class=\"txtu\">constapelsmaet, </span><span class=\"txtu\">Uitgevallen: </span><span class=\"txtu\">met.</span></div>"
      ],
      "text/plain": [
       "<IPython.core.display.HTML object>"
      ]
     },
     "metadata": {},
     "output_type": "display_data"
    },
    {
     "data": {
      "text/html": [
       "<div class=\"\"><span class=\"tfsechead \"><a target=\"_blank\" href=\"http://resources.huygens.knaw.nl/retroboeken/generalemissiven/#page=730&amp;source=3\" title=\"Show this document on Huygens\" sec=\"3 717:37\">3 717:37</a></span>  <span class=\"txtu\">namen </span><span class=\"txtu\">Jacob </span><span class=\"txtu\">Arriva </span><span class=\"txtu\">van </span><span class=\"txtu\">St. </span><span class=\"txtu\">Cruis, </span><span class=\"txtu\">voor </span><span class=\"txtu\">dato</span></div>"
      ],
      "text/plain": [
       "<IPython.core.display.HTML object>"
      ]
     },
     "metadata": {},
     "output_type": "display_data"
    },
    {
     "data": {
      "text/html": [
       "<div class=\"\"><span class=\"tfsechead \"><a target=\"_blank\" href=\"http://resources.huygens.knaw.nl/retroboeken/generalemissiven/#page=730&amp;source=3\" title=\"Show this document on Huygens\" sec=\"3 717:38\">3 717:38</a></span>  <span class=\"txtu\">van </span><span class=\"txtu\">’t </span><span class=\"txtu\">jacht </span><span class=\"txtu\">de </span><span class=\"txtu\">Pauw </span><span class=\"txtu\">weghgelopen </span><span class=\"txtu\">en </span><span class=\"txtu\">door </span><span class=\"txtu\">de </span><span class=\"txtu\">Ma.</span><span class=\"txtu\">4 </span><span class=\"txtu\">om </span><span class=\"txtu\">desselfs </span><span class=\"txtu\">const </span><span class=\"txtu\">in </span><span class=\"txtu\">dienst</span></div>"
      ],
      "text/plain": [
       "<IPython.core.display.HTML object>"
      ]
     },
     "metadata": {},
     "output_type": "display_data"
    },
    {
     "data": {
      "text/html": [
       "<div class=\"\"><span class=\"tfsechead \"><a target=\"_blank\" href=\"http://resources.huygens.knaw.nl/retroboeken/generalemissiven/#page=730&amp;source=3\" title=\"Show this document on Huygens\" sec=\"3 717:39\">3 717:39</a></span>  <span class=\"txtu\">genomen, </span><span class=\"txtu\">is </span><span class=\"txtu\">op </span><span class=\"txtu\">de </span><span class=\"txtu\">reclamatie </span><span class=\"txtu\">van </span><span class=\"txtu\">de </span><span class=\"txtu\">residenten </span><span class=\"txtu\">in </span><span class=\"txtu\">Spahan </span><span class=\"txtu\">door </span><span class=\"txtu\">den </span><span class=\"txtu\">Co. </span><span class=\"txtu\">gelargeert</span></div>"
      ],
      "text/plain": [
       "<IPython.core.display.HTML object>"
      ]
     },
     "metadata": {},
     "output_type": "display_data"
    },
    {
     "data": {
      "text/html": [
       "<div class=\"\"><span class=\"tfsechead \"><a target=\"_blank\" href=\"http://resources.huygens.knaw.nl/retroboeken/generalemissiven/#page=730&amp;source=3\" title=\"Show this document on Huygens\" sec=\"3 717:40\">3 717:40</a></span>  <span class=\"txtu\">en </span><span class=\"txtu\">weder </span><span class=\"txtu\">in </span><span class=\"txtu\">onse </span><span class=\"txtu\">handen </span><span class=\"txtu\">gestelt, </span><span class=\"txtu\">dat </span><span class=\"txtu\">al </span><span class=\"txtu\">gemackelijcker </span><span class=\"txtu\">toegegaen </span><span class=\"txtu\">is, </span><span class=\"txtu\">als </span><span class=\"txtu\">men </span><span class=\"txtu\">te</span></div>"
      ],
      "text/plain": [
       "<IPython.core.display.HTML object>"
      ]
     },
     "metadata": {},
     "output_type": "display_data"
    },
    {
     "data": {
      "text/html": [
       "<div class=\"\"><span class=\"tfsechead \"><a target=\"_blank\" href=\"http://resources.huygens.knaw.nl/retroboeken/generalemissiven/#page=730&amp;source=3\" title=\"Show this document on Huygens\" sec=\"3 717:41\">3 717:41</a></span>  <span class=\"txtu\">vooren </span><span class=\"txtu\">wel </span><span class=\"txtu\">heeft </span><span class=\"txtu\">gedaght; </span><span class=\"txtu\">een </span><span class=\"txtu\">teecken </span><span class=\"txtu\">Comp.</span><span class=\"txtu\">8 </span><span class=\"txtu\">saken </span><span class=\"txtu\">ten </span><span class=\"txtu\">hove </span><span class=\"txtu\">nochall </span><span class=\"txtu\">in </span><span class=\"txtu\">redelijcke</span></div>"
      ],
      "text/plain": [
       "<IPython.core.display.HTML object>"
      ]
     },
     "metadata": {},
     "output_type": "display_data"
    },
    {
     "data": {
      "text/html": [
       "<div class=\"\"><span class=\"tfsechead \"><a target=\"_blank\" href=\"http://resources.huygens.knaw.nl/retroboeken/generalemissiven/#page=730&amp;source=3\" title=\"Show this document on Huygens\" sec=\"3 717:42\">3 717:42</a></span>  <span class=\"txtu\">termen </span><span class=\"txtu\">staen. </span><span class=\"txtu\">Desen </span><span class=\"txtu\">voorsz. </span><span class=\"txtu\">constapelsmaet </span><span class=\"txtu\">was </span><span class=\"txtu\">op </span><span class=\"txtu\">den </span><span class=\"txtu\">wegh </span><span class=\"txtu\">ontrent </span><span class=\"txtu\">Laer,</span></div>"
      ],
      "text/plain": [
       "<IPython.core.display.HTML object>"
      ]
     },
     "metadata": {},
     "output_type": "display_data"
    },
    {
     "data": {
      "text/html": [
       "<div class=\"\"><span class=\"tfsechead \"><a target=\"_blank\" href=\"http://resources.huygens.knaw.nl/retroboeken/generalemissiven/#page=730&amp;source=3\" title=\"Show this document on Huygens\" sec=\"3 717:43\">3 717:43</a></span>  <span class=\"txtu\">6 </span><span class=\"txtu\">dagen </span><span class=\"txtu\">reysens </span><span class=\"txtu\">van </span><span class=\"txtu\">Gamron </span><span class=\"txtu\">gelegen, </span><span class=\"txtu\">voor </span><span class=\"txtu\">de </span><span class=\"txtu\">tweede </span><span class=\"txtu\">reys </span><span class=\"txtu\">doorgegaen </span><span class=\"txtu\">en </span><span class=\"txtu\">wegh-</span></div>"
      ],
      "text/plain": [
       "<IPython.core.display.HTML object>"
      ]
     },
     "metadata": {},
     "output_type": "display_data"
    },
    {
     "data": {
      "text/html": [
       "<div class=\"\"><span class=\"tfsechead \"><a target=\"_blank\" href=\"http://resources.huygens.knaw.nl/retroboeken/generalemissiven/#page=730&amp;source=3\" title=\"Show this document on Huygens\" sec=\"3 717:44\">3 717:44</a></span>  </div>"
      ],
      "text/plain": [
       "<IPython.core.display.HTML object>"
      ]
     },
     "metadata": {},
     "output_type": "display_data"
    }
   ],
   "source": [
    "for line in lines:\n",
    "    A.plain(line)"
   ]
  },
  {
   "cell_type": "markdown",
   "metadata": {},
   "source": [
    "You do not (yet) see a clear distinction in text types.\n",
    "There is a mixture of editorial text and original text, and there is even a footnote.\n",
    "\n",
    "We can show the text other text formats.\n",
    "Formats have been defined by the dataset designer, they are not built in into Text-Fabric.\n",
    "Let's see what the designer has provided in this regard:"
   ]
  },
  {
   "cell_type": "code",
   "execution_count": 14,
   "metadata": {},
   "outputs": [
    {
     "data": {
      "text/plain": [
       "{'text-orig-full': 'word',\n",
       " 'text-orig-note': 'word',\n",
       " 'text-orig-remark': 'word',\n",
       " 'text-orig-source': 'word',\n",
       " 'layout-full': 'word',\n",
       " 'layout-noremarks': 'word',\n",
       " 'layout-nonotes': 'word',\n",
       " 'layout-nonorig': 'word',\n",
       " 'layout-remarks': 'word',\n",
       " 'layout-notes': 'word',\n",
       " 'layout-orig': 'word'}"
      ]
     },
     "execution_count": 14,
     "metadata": {},
     "output_type": "execute_result"
    }
   ],
   "source": [
    "T.formats"
   ]
  },
  {
   "cell_type": "markdown",
   "metadata": {},
   "source": [
    "Some formats show all text, others editorial texts only, and some show original letter content only and others\n",
    "just the footnotes.\n",
    "Yet other formats show all text except a specific type.\n",
    "\n",
    "The formats that start with `text-` yield plain Unicode text.\n",
    "\n",
    "The formats that start with `layout-` deliver formatted HTML.\n",
    "We have designed the layout in such a way that the text types (editorial, original) are distinguished.\n",
    "\n",
    "The default format is `text-orig-full`.\n",
    "\n",
    "Let's switch to `layout-full`, which will also show the footnotes in place."
   ]
  },
  {
   "cell_type": "code",
   "execution_count": 15,
   "metadata": {},
   "outputs": [
    {
     "data": {
      "text/html": [
       "<div class=\"\"><span class=\"tfsechead \"><a target=\"_blank\" href=\"http://resources.huygens.knaw.nl/retroboeken/generalemissiven/#page=730&amp;source=3\" title=\"Show this document on Huygens\" sec=\"3 717:1\">3 717:1</a></span>  <span class=\"txtn\"><span class=\"remark\">Bouw </span></span><span class=\"txtn\"><span class=\"remark\">van </span></span><span class=\"txtn\"><span class=\"remark\">een </span></span><span class=\"txtn\"><span class=\"remark\">groot '</span></span><span class=\"txtn\"><span class=\"remark\">pakhuis </span></span><span class=\"txtn\"><span class=\"remark\">te </span></span><span class=\"txtn\"><span class=\"remark\">Gale; </span></span><span class=\"txtn\"><span class=\"remark\">eind </span></span><span class=\"txtn\"><span class=\"remark\">jebr. </span></span><span class=\"txtn\"><span class=\"remark\">was </span></span><span class=\"txtn\"><span class=\"remark\">in </span></span><span class=\"txtn\"><span class=\"remark\">Ceylon </span></span><span class=\"txtn\"><span class=\"remark\">in </span></span><span class=\"txtn\"><span class=\"remark\">een </span></span><span class=\"txtn\"><span class=\"remark\">jaar </span></span><span class=\"txtn\"><span class=\"remark\">uitgegeven</span></span></div>"
      ],
      "text/plain": [
       "<IPython.core.display.HTML object>"
      ]
     },
     "metadata": {},
     "output_type": "display_data"
    },
    {
     "data": {
      "text/html": [
       "<div class=\"\"><span class=\"tfsechead \"><a target=\"_blank\" href=\"http://resources.huygens.knaw.nl/retroboeken/generalemissiven/#page=730&amp;source=3\" title=\"Show this document on Huygens\" sec=\"3 717:2\">3 717:2</a></span>  <span class=\"txtn\"><span class=\"remark\">ƒ. </span></span><span class=\"txtn\"><span class=\"remark\">1205065 </span></span><span class=\"txtn\"><span class=\"remark\">en </span></span><span class=\"txtn\"><span class=\"remark\">gewonnen </span></span><span class=\"txtn\"><span class=\"remark\">f. </span></span><span class=\"txtn\"><span class=\"remark\">980645; </span></span><span class=\"txtn\"><span class=\"remark\">overlast </span></span><span class=\"txtn\"><span class=\"remark\">de </span></span><span class=\"txtn\"><span class=\"remark\">Compagnie </span></span><span class=\"txtn\"><span class=\"remark\">te </span></span><span class=\"txtn\"><span class=\"remark\">Wingurla </span></span><span class=\"txtn\"><span class=\"remark\">aangedaan</span></span></div>"
      ],
      "text/plain": [
       "<IPython.core.display.HTML object>"
      ]
     },
     "metadata": {},
     "output_type": "display_data"
    },
    {
     "data": {
      "text/html": [
       "<div class=\"\"><span class=\"tfsechead \"><a target=\"_blank\" href=\"http://resources.huygens.knaw.nl/retroboeken/generalemissiven/#page=730&amp;source=3\" title=\"Show this document on Huygens\" sec=\"3 717:3\">3 717:3</a></span>  <span class=\"txtn\"><span class=\"remark\">door </span></span><span class=\"txtn\"><span class=\"remark\">Sjivadji </span></span><span class=\"txtn\"><span class=\"remark\">en </span></span><span class=\"txtn\"><span class=\"remark\">de </span></span><span class=\"txtn\"><span class=\"remark\">hoofden </span></span><span class=\"txtn\"><span class=\"remark\">van </span></span><span class=\"txtn\"><span class=\"remark\">Bijapur; </span></span><span class=\"txtn\"><span class=\"remark\">de </span></span><span class=\"txtn\"><span class=\"remark\">resident </span></span><span class=\"txtn\"><span class=\"remark\">Leendertsz. </span></span><span class=\"txtn\"><span class=\"remark\">raadt </span></span><span class=\"txtn\"><span class=\"remark\">aan</span></span></div>"
      ],
      "text/plain": [
       "<IPython.core.display.HTML object>"
      ]
     },
     "metadata": {},
     "output_type": "display_data"
    },
    {
     "data": {
      "text/html": [
       "<div class=\"\"><span class=\"tfsechead \"><a target=\"_blank\" href=\"http://resources.huygens.knaw.nl/retroboeken/generalemissiven/#page=730&amp;source=3\" title=\"Show this document on Huygens\" sec=\"3 717:4\">3 717:4</a></span>  <span class=\"txtn\"><span class=\"remark\">hun </span></span><span class=\"txtn\"><span class=\"remark\">te </span></span><span class=\"txtn\"><span class=\"remark\">laten </span></span><span class=\"txtn\"><span class=\"remark\">weten, </span></span><span class=\"txtn\"><span class=\"remark\">dat </span></span><span class=\"txtn\"><span class=\"remark\">de </span></span><span class=\"txtn\"><span class=\"remark\">vestiging </span></span><span class=\"txtn\"><span class=\"remark\">wordt </span></span><span class=\"txtn\"><span class=\"remark\">opgeheven, </span></span><span class=\"txtn\"><span class=\"remark\">indien </span></span><span class=\"txtn\"><span class=\"remark\">zij </span></span><span class=\"txtn\"><span class=\"remark\">zo </span></span><span class=\"txtn\"><span class=\"remark\">voortgaan</span></span></div>"
      ],
      "text/plain": [
       "<IPython.core.display.HTML object>"
      ]
     },
     "metadata": {},
     "output_type": "display_data"
    },
    {
     "data": {
      "text/html": [
       "<div class=\"\"><span class=\"tfsechead \"><a target=\"_blank\" href=\"http://resources.huygens.knaw.nl/retroboeken/generalemissiven/#page=730&amp;source=3\" title=\"Show this document on Huygens\" sec=\"3 717:5\">3 717:5</a></span>  </div>"
      ],
      "text/plain": [
       "<IPython.core.display.HTML object>"
      ]
     },
     "metadata": {},
     "output_type": "display_data"
    },
    {
     "data": {
      "text/html": [
       "<div class=\"\"><span class=\"tfsechead \"><a target=\"_blank\" href=\"http://resources.huygens.knaw.nl/retroboeken/generalemissiven/#page=730&amp;source=3\" title=\"Show this document on Huygens\" sec=\"3 717:6\">3 717:6</a></span>  <span class=\"txtn\">Wij </span><span class=\"txtn\">twijfelen, </span><span class=\"txtn\">of </span><span class=\"txtn\">sij </span><span class=\"txtn\">sooveel </span><span class=\"txtn\">werck </span><span class=\"txtn\">al </span><span class=\"txtn\">van </span><span class=\"txtn\">ons </span><span class=\"txtn\">soude </span><span class=\"txtn\">maecken, </span><span class=\"txtn\">omdat </span><span class=\"txtn\">se </span><span class=\"txtn\">de</span></div>"
      ],
      "text/plain": [
       "<IPython.core.display.HTML object>"
      ]
     },
     "metadata": {},
     "output_type": "display_data"
    },
    {
     "data": {
      "text/html": [
       "<div class=\"\"><span class=\"tfsechead \"><a target=\"_blank\" href=\"http://resources.huygens.knaw.nl/retroboeken/generalemissiven/#page=730&amp;source=3\" title=\"Show this document on Huygens\" sec=\"3 717:7\">3 717:7</a></span>  <span class=\"txtn\">Engelsen </span><span class=\"txtn\">ende </span><span class=\"txtn\">nu </span><span class=\"txtn\">oocq </span><span class=\"txtn\">de </span><span class=\"txtn\">Francen </span><span class=\"txtn\">bij </span><span class=\"txtn\">de </span><span class=\"txtn\">wercken </span><span class=\"txtn\">hebben </span><span class=\"txtn\">ende </span><span class=\"txtn\">van </span><span class=\"txtn\">dewelcke </span><span class=\"txtn\">sij</span></div>"
      ],
      "text/plain": [
       "<IPython.core.display.HTML object>"
      ]
     },
     "metadata": {},
     "output_type": "display_data"
    },
    {
     "data": {
      "text/html": [
       "<div class=\"\"><span class=\"tfsechead \"><a target=\"_blank\" href=\"http://resources.huygens.knaw.nl/retroboeken/generalemissiven/#page=730&amp;source=3\" title=\"Show this document on Huygens\" sec=\"3 717:8\">3 717:8</a></span>  <span class=\"txtn\">dan </span><span class=\"txtn\">wellicht </span><span class=\"txtn\">te </span><span class=\"txtn\">meer </span><span class=\"txtn\">souden </span><span class=\"txtn\">worden </span><span class=\"txtn\">geflatteert </span><span class=\"txtn\">ende </span><span class=\"txtn\">wie </span><span class=\"txtn\">weet </span><span class=\"txtn\">oocq, </span><span class=\"txtn\">of </span><span class=\"txtn\">de </span><span class=\"txtn\">nieuwe</span></div>"
      ],
      "text/plain": [
       "<IPython.core.display.HTML object>"
      ]
     },
     "metadata": {},
     "output_type": "display_data"
    },
    {
     "data": {
      "text/html": [
       "<div class=\"\"><span class=\"tfsechead \"><a target=\"_blank\" href=\"http://resources.huygens.knaw.nl/retroboeken/generalemissiven/#page=730&amp;source=3\" title=\"Show this document on Huygens\" sec=\"3 717:9\">3 717:9</a></span>  <span class=\"txtn\">resident, </span><span class=\"txtn\">RomboutLefer </span><span class=\"txtn\"><span class=\"note\">«1= Rombout </span></span><span class=\"txtn\"><span class=\"note\">Lefer </span></span><span class=\"txtn\"><span class=\"note\">was </span></span><span class=\"txtn\"><span class=\"note\">van </span></span><span class=\"txtn\"><span class=\"note\">1669 </span></span><span class=\"txtn\"><span class=\"note\">tot </span></span><span class=\"txtn\"><span class=\"note\">juli </span></span><span class=\"txtn\"><span class=\"note\">1673 </span></span><span class=\"txtn\"><span class=\"note\">in </span></span><span class=\"txtn\"><span class=\"note\">onderkoopmansrang </span></span><span class=\"txtn\"><span class=\"note\">opperhoofd </span></span><span class=\"txtn\"><span class=\"note\">te</span></span></div>"
      ],
      "text/plain": [
       "<IPython.core.display.HTML object>"
      ]
     },
     "metadata": {},
     "output_type": "display_data"
    },
    {
     "data": {
      "text/html": [
       "<div class=\"\"><span class=\"tfsechead \"><a target=\"_blank\" href=\"http://resources.huygens.knaw.nl/retroboeken/generalemissiven/#page=730&amp;source=3\" title=\"Show this document on Huygens\" sec=\"3 717:10\">3 717:10</a></span>  <span class=\"txtn\"><span class=\"note\">Wingurla, </span></span><span class=\"txtn\"><span class=\"note\">vervolgens </span></span><span class=\"txtn\"><span class=\"note\">koopman </span></span><span class=\"txtn\"><span class=\"note\">te </span></span><span class=\"txtn\"><span class=\"note\">Batavia, </span></span><span class=\"txtn\"><span class=\"note\">sept. </span></span><span class=\"txtn\"><span class=\"note\">1675-</span></span><span class=\"txtn\"><span class=\"note\">mei </span></span><span class=\"txtn\"><span class=\"note\">1676 </span></span><span class=\"txtn\"><span class=\"note\">met </span></span><span class=\"txtn\"><span class=\"note\">twee </span></span><span class=\"txtn\"><span class=\"note\">schepen </span></span><span class=\"txtn\"><span class=\"note\">naar </span></span><span class=\"txtn\"><span class=\"note\">de</span></span></div>"
      ],
      "text/plain": [
       "<IPython.core.display.HTML object>"
      ]
     },
     "metadata": {},
     "output_type": "display_data"
    },
    {
     "data": {
      "text/html": [
       "<div class=\"\"><span class=\"tfsechead \"><a target=\"_blank\" href=\"http://resources.huygens.knaw.nl/retroboeken/generalemissiven/#page=730&amp;source=3\" title=\"Show this document on Huygens\" sec=\"3 717:11\">3 717:11</a></span>  <span class=\"txtn\"><span class=\"note\">westkust </span></span><span class=\"txtn\"><span class=\"note\">van </span></span><span class=\"txtn\"><span class=\"note\">India </span></span><span class=\"txtn\"><span class=\"note\">om </span></span><span class=\"txtn\"><span class=\"note\">rijst </span></span><span class=\"txtn\"><span class=\"note\">in </span></span><span class=\"txtn\"><span class=\"note\">te </span></span><span class=\"txtn\"><span class=\"note\">kopen. =1»</span></span></div>"
      ],
      "text/plain": [
       "<IPython.core.display.HTML object>"
      ]
     },
     "metadata": {},
     "output_type": "display_data"
    },
    {
     "data": {
      "text/html": [
       "<div class=\"\"><span class=\"tfsechead \"><a target=\"_blank\" href=\"http://resources.huygens.knaw.nl/retroboeken/generalemissiven/#page=730&amp;source=3\" title=\"Show this document on Huygens\" sec=\"3 717:12\">3 717:12</a></span>  <span class=\"txtn\">met </span><span class=\"txtn\">de </span><span class=\"txtn\">fluyt </span><span class=\"txtn\">Alfen </span><span class=\"txtn\">derwaerts </span><span class=\"txtn\">gegaen, </span><span class=\"txtn\">niet </span><span class=\"txtn\">beter </span><span class=\"txtn\">met</span></div>"
      ],
      "text/plain": [
       "<IPython.core.display.HTML object>"
      ]
     },
     "metadata": {},
     "output_type": "display_data"
    },
    {
     "data": {
      "text/html": [
       "<div class=\"\"><span class=\"tfsechead \"><a target=\"_blank\" href=\"http://resources.huygens.knaw.nl/retroboeken/generalemissiven/#page=730&amp;source=3\" title=\"Show this document on Huygens\" sec=\"3 717:13\">3 717:13</a></span>  <span class=\"txtn\">dat </span><span class=\"txtn\">volcq </span><span class=\"txtn\">sal </span><span class=\"txtn\">weten </span><span class=\"txtn\">om </span><span class=\"txtn\">te </span><span class=\"txtn\">gaen. </span></div>"
      ],
      "text/plain": [
       "<IPython.core.display.HTML object>"
      ]
     },
     "metadata": {},
     "output_type": "display_data"
    },
    {
     "data": {
      "text/html": [
       "<div class=\"\"><span class=\"tfsechead \"><a target=\"_blank\" href=\"http://resources.huygens.knaw.nl/retroboeken/generalemissiven/#page=730&amp;source=3\" title=\"Show this document on Huygens\" sec=\"3 717:14\">3 717:14</a></span>  <span class=\"txtn\">Mette </span><span class=\"txtn\">Portugesen </span><span class=\"txtn\">in </span><span class=\"txtn\">Goa </span><span class=\"txtn\">stonden </span><span class=\"txtn\">de </span><span class=\"txtn\">saecken </span><span class=\"txtn\">geheel </span><span class=\"txtn\">slecht, </span><span class=\"txtn\">wordende </span><span class=\"txtn\">van </span><span class=\"txtn\">de</span></div>"
      ],
      "text/plain": [
       "<IPython.core.display.HTML object>"
      ]
     },
     "metadata": {},
     "output_type": "display_data"
    },
    {
     "data": {
      "text/html": [
       "<div class=\"\"><span class=\"tfsechead \"><a target=\"_blank\" href=\"http://resources.huygens.knaw.nl/retroboeken/generalemissiven/#page=730&amp;source=3\" title=\"Show this document on Huygens\" sec=\"3 717:15\">3 717:15</a></span>  <span class=\"txtn\">Arabieren </span><span class=\"txtn\">genoeghsaem </span><span class=\"txtn\">als </span><span class=\"txtn\">gebra </span><span class=\"txtn\">veert, </span><span class=\"txtn\">sonderdat </span><span class=\"txtn\">se </span><span class=\"txtn\">macht </span><span class=\"txtn\">hebben </span><span class=\"txtn\">haer </span><span class=\"txtn\">het </span><span class=\"txtn\">hooft</span></div>"
      ],
      "text/plain": [
       "<IPython.core.display.HTML object>"
      ]
     },
     "metadata": {},
     "output_type": "display_data"
    },
    {
     "data": {
      "text/html": [
       "<div class=\"\"><span class=\"tfsechead \"><a target=\"_blank\" href=\"http://resources.huygens.knaw.nl/retroboeken/generalemissiven/#page=730&amp;source=3\" title=\"Show this document on Huygens\" sec=\"3 717:16\">3 717:16</a></span>  <span class=\"txtn\">te </span><span class=\"txtn\">bieden. </span></div>"
      ],
      "text/plain": [
       "<IPython.core.display.HTML object>"
      ]
     },
     "metadata": {},
     "output_type": "display_data"
    },
    {
     "data": {
      "text/html": [
       "<div class=\"\"><span class=\"tfsechead \"><a target=\"_blank\" href=\"http://resources.huygens.knaw.nl/retroboeken/generalemissiven/#page=730&amp;source=3\" title=\"Show this document on Huygens\" sec=\"3 717:17\">3 717:17</a></span>  <span class=\"txtn\"><span class=\"remark\">De </span></span><span class=\"txtn\"><span class=\"remark\">Arabieren </span></span><span class=\"txtn\"><span class=\"remark\">van </span></span><span class=\"txtn\"><span class=\"remark\">Mascate </span></span><span class=\"txtn\"><span class=\"remark\">namen </span></span><span class=\"txtn\"><span class=\"remark\">vier </span></span><span class=\"txtn\"><span class=\"remark\">van </span></span><span class=\"txtn\"><span class=\"remark\">hun </span></span><span class=\"txtn\"><span class=\"remark\">schapen </span></span><span class=\"txtn\"><span class=\"remark\">voor </span></span><span class=\"txtn\"><span class=\"remark\">Mokka; </span></span><span class=\"txtn\"><span class=\"remark\">in </span></span><span class=\"txtn\"><span class=\"remark\">Ispahan</span></span></div>"
      ],
      "text/plain": [
       "<IPython.core.display.HTML object>"
      ]
     },
     "metadata": {},
     "output_type": "display_data"
    },
    {
     "data": {
      "text/html": [
       "<div class=\"\"><span class=\"tfsechead \"><a target=\"_blank\" href=\"http://resources.huygens.knaw.nl/retroboeken/generalemissiven/#page=730&amp;source=3\" title=\"Show this document on Huygens\" sec=\"3 717:18\">3 717:18</a></span>  <span class=\"txtn\"><span class=\"remark\">moest </span></span><span class=\"txtn\"><span class=\"remark\">men </span></span><span class=\"txtn\"><span class=\"remark\">behalve </span></span><span class=\"txtn\"><span class=\"remark\">41 </span></span><span class=\"txtn\"><span class=\"remark\">carga </span></span><span class=\"txtn\"><span class=\"remark\">zijde, </span></span><span class=\"txtn\"><span class=\"remark\">die </span></span><span class=\"txtn\"><span class=\"remark\">reeds </span></span><span class=\"txtn\"><span class=\"remark\">vroeger </span></span><span class=\"txtn\"><span class=\"remark\">waren </span></span><span class=\"txtn\"><span class=\"remark\">geleverd, </span></span><span class=\"txtn\"><span class=\"remark\">nog </span></span><span class=\"txtn\"><span class=\"remark\">167 </span></span><span class=\"txtn\"><span class=\"remark\">afnemen,</span></span></div>"
      ],
      "text/plain": [
       "<IPython.core.display.HTML object>"
      ]
     },
     "metadata": {},
     "output_type": "display_data"
    },
    {
     "data": {
      "text/html": [
       "<div class=\"\"><span class=\"tfsechead \"><a target=\"_blank\" href=\"http://resources.huygens.knaw.nl/retroboeken/generalemissiven/#page=730&amp;source=3\" title=\"Show this document on Huygens\" sec=\"3 717:19\">3 717:19</a></span>  <span class=\"txtn\"><span class=\"remark\">dus </span></span><span class=\"txtn\"><span class=\"remark\">in </span></span><span class=\"txtn\"><span class=\"remark\">totaal </span></span><span class=\"txtn\"><span class=\"remark\">niet </span></span><span class=\"txtn\"><span class=\"remark\">de </span></span><span class=\"txtn\"><span class=\"remark\">volle </span></span><span class=\"txtn\"><span class=\"remark\">300 </span></span><span class=\"txtn\"><span class=\"remark\">carga ; </span></span><span class=\"txtn\"><span class=\"remark\">vrees, </span></span><span class=\"txtn\"><span class=\"remark\">dat </span></span><span class=\"txtn\"><span class=\"remark\">die </span></span><span class=\"txtn\"><span class=\"remark\">het </span></span><span class=\"txtn\"><span class=\"remark\">volgende </span></span><span class=\"txtn\"><span class=\"remark\">jaar </span></span><span class=\"txtn\"><span class=\"remark\">moeten</span></span></div>"
      ],
      "text/plain": [
       "<IPython.core.display.HTML object>"
      ]
     },
     "metadata": {},
     "output_type": "display_data"
    },
    {
     "data": {
      "text/html": [
       "<div class=\"\"><span class=\"tfsechead \"><a target=\"_blank\" href=\"http://resources.huygens.knaw.nl/retroboeken/generalemissiven/#page=730&amp;source=3\" title=\"Show this document on Huygens\" sec=\"3 717:20\">3 717:20</a></span>  <span class=\"txtn\"><span class=\"remark\">worden </span></span><span class=\"txtn\"><span class=\"remark\">gekocht; </span></span><span class=\"txtn\"><span class=\"remark\">in </span></span><span class=\"txtn\"><span class=\"remark\">Gamron </span></span><span class=\"txtn\"><span class=\"remark\">blijft </span></span><span class=\"txtn\"><span class=\"remark\">veel </span></span><span class=\"txtn\"><span class=\"remark\">koopwaar </span></span><span class=\"txtn\"><span class=\"remark\">onverkocht </span></span><span class=\"txtn\"><span class=\"remark\">liggen, </span></span><span class=\"txtn\"><span class=\"remark\">zodat </span></span><span class=\"txtn\"><span class=\"remark\">geen </span></span><span class=\"txtn\"><span class=\"remark\">geld</span></span></div>"
      ],
      "text/plain": [
       "<IPython.core.display.HTML object>"
      ]
     },
     "metadata": {},
     "output_type": "display_data"
    },
    {
     "data": {
      "text/html": [
       "<div class=\"\"><span class=\"tfsechead \"><a target=\"_blank\" href=\"http://resources.huygens.knaw.nl/retroboeken/generalemissiven/#page=730&amp;source=3\" title=\"Show this document on Huygens\" sec=\"3 717:21\">3 717:21</a></span>  <span class=\"txtn\"><span class=\"remark\">naar </span></span><span class=\"txtn\"><span class=\"remark\">Ceylon </span></span><span class=\"txtn\"><span class=\"remark\">kon </span></span><span class=\"txtn\"><span class=\"remark\">worden </span></span><span class=\"txtn\"><span class=\"remark\">gezonden </span></span></div>"
      ],
      "text/plain": [
       "<IPython.core.display.HTML object>"
      ]
     },
     "metadata": {},
     "output_type": "display_data"
    },
    {
     "data": {
      "text/html": [
       "<div class=\"\"><span class=\"tfsechead \"><a target=\"_blank\" href=\"http://resources.huygens.knaw.nl/retroboeken/generalemissiven/#page=730&amp;source=3\" title=\"Show this document on Huygens\" sec=\"3 717:22\">3 717:22</a></span>  </div>"
      ],
      "text/plain": [
       "<IPython.core.display.HTML object>"
      ]
     },
     "metadata": {},
     "output_type": "display_data"
    },
    {
     "data": {
      "text/html": [
       "<div class=\"\"><span class=\"tfsechead \"><a target=\"_blank\" href=\"http://resources.huygens.knaw.nl/retroboeken/generalemissiven/#page=730&amp;source=3\" title=\"Show this document on Huygens\" sec=\"3 717:23\">3 717:23</a></span>  <span class=\"txtn\">Nae </span><span class=\"txtn\">gedane </span><span class=\"txtn\">doleantie </span><span class=\"txtn\">aen </span><span class=\"txtn\">den </span><span class=\"txtn\">Co. </span><span class=\"txtn\">en </span><span class=\"txtn\">vertrouwer </span><span class=\"txtn\">des </span><span class=\"txtn\">rij </span><span class=\"txtn\">ex </span><span class=\"txtn\">van </span><span class=\"txtn\">Persien </span><span class=\"txtn\">over</span></div>"
      ],
      "text/plain": [
       "<IPython.core.display.HTML object>"
      ]
     },
     "metadata": {},
     "output_type": "display_data"
    },
    {
     "data": {
      "text/html": [
       "<div class=\"\"><span class=\"tfsechead \"><a target=\"_blank\" href=\"http://resources.huygens.knaw.nl/retroboeken/generalemissiven/#page=730&amp;source=3\" title=\"Show this document on Huygens\" sec=\"3 717:24\">3 717:24</a></span>  <span class=\"txtn\">het </span><span class=\"txtn\">enorme </span><span class=\"txtn\">geweldt, </span><span class=\"txtn\">den </span><span class=\"txtn\">directeur </span><span class=\"txtn\">Goske </span><span class=\"txtn\">in </span><span class=\"txtn\">Gamron </span><span class=\"txtn\">door </span><span class=\"txtn\">den </span><span class=\"txtn\">overleden </span><span class=\"txtn\">gouvr.</span></div>"
      ],
      "text/plain": [
       "<IPython.core.display.HTML object>"
      ]
     },
     "metadata": {},
     "output_type": "display_data"
    },
    {
     "data": {
      "text/html": [
       "<div class=\"\"><span class=\"tfsechead \"><a target=\"_blank\" href=\"http://resources.huygens.knaw.nl/retroboeken/generalemissiven/#page=730&amp;source=3\" title=\"Show this document on Huygens\" sec=\"3 717:25\">3 717:25</a></span>  <span class=\"txtn\">Mierab </span><span class=\"txtn\">Chan </span><span class=\"txtn\">in </span><span class=\"txtn\">diverse </span><span class=\"txtn\">gelegentheden </span><span class=\"txtn\">aengedaen, </span><span class=\"txtn\">mitsgaders </span><span class=\"txtn\">het </span><span class=\"txtn\">gedreyghde</span></div>"
      ],
      "text/plain": [
       "<IPython.core.display.HTML object>"
      ]
     },
     "metadata": {},
     "output_type": "display_data"
    },
    {
     "data": {
      "text/html": [
       "<div class=\"\"><span class=\"tfsechead \"><a target=\"_blank\" href=\"http://resources.huygens.knaw.nl/retroboeken/generalemissiven/#page=730&amp;source=3\" title=\"Show this document on Huygens\" sec=\"3 717:26\">3 717:26</a></span>  <span class=\"txtn\">quaet </span><span class=\"txtn\">tractement, </span><span class=\"txtn\">twelck </span><span class=\"txtn\">sijnen </span><span class=\"txtn\">successeur </span><span class=\"txtn\">Mantusa </span><span class=\"txtn\">Coulichan </span><span class=\"txtn\">sigh </span><span class=\"txtn\">heeft </span><span class=\"txtn\">gevanteert</span></div>"
      ],
      "text/plain": [
       "<IPython.core.display.HTML object>"
      ]
     },
     "metadata": {},
     "output_type": "display_data"
    },
    {
     "data": {
      "text/html": [
       "<div class=\"\"><span class=\"tfsechead \"><a target=\"_blank\" href=\"http://resources.huygens.knaw.nl/retroboeken/generalemissiven/#page=730&amp;source=3\" title=\"Show this document on Huygens\" sec=\"3 717:27\">3 717:27</a></span>  <span class=\"txtn\">de </span><span class=\"txtn\">onse </span><span class=\"txtn\">te </span><span class=\"txtn\">sullen </span><span class=\"txtn\">aendoen, </span><span class=\"txtn\">is </span><span class=\"txtn\">sooveel </span><span class=\"txtn\">gehoor </span><span class=\"txtn\">aen </span><span class=\"txtn\">’t </span><span class=\"txtn\">hoff </span><span class=\"txtn\">vercregen, </span><span class=\"txtn\">dat </span><span class=\"txtn\">d’Ma.</span><span class=\"txtn\">1</span></div>"
      ],
      "text/plain": [
       "<IPython.core.display.HTML object>"
      ]
     },
     "metadata": {},
     "output_type": "display_data"
    },
    {
     "data": {
      "text/html": [
       "<div class=\"\"><span class=\"tfsechead \"><a target=\"_blank\" href=\"http://resources.huygens.knaw.nl/retroboeken/generalemissiven/#page=730&amp;source=3\" title=\"Show this document on Huygens\" sec=\"3 717:28\">3 717:28</a></span>  <span class=\"txtn\">bij </span><span class=\"txtn\">een </span><span class=\"txtn\">expres </span><span class=\"txtn\">firman </span><span class=\"txtn\">den </span><span class=\"txtn\">jegenwoordigen </span><span class=\"txtn\">gouvem.</span><span class=\"txtn\">r </span><span class=\"txtn\">van </span><span class=\"txtn\">Gamron </span><span class=\"txtn\">gelast </span><span class=\"txtn\">heeft </span><span class=\"txtn\">hem</span></div>"
      ],
      "text/plain": [
       "<IPython.core.display.HTML object>"
      ]
     },
     "metadata": {},
     "output_type": "display_data"
    },
    {
     "data": {
      "text/html": [
       "<div class=\"\"><span class=\"tfsechead \"><a target=\"_blank\" href=\"http://resources.huygens.knaw.nl/retroboeken/generalemissiven/#page=730&amp;source=3\" title=\"Show this document on Huygens\" sec=\"3 717:29\">3 717:29</a></span>  <span class=\"txtn\">ontren </span><span class=\"txtn\">de </span><span class=\"txtn\">heeren </span><span class=\"txtn\">directeurs </span><span class=\"txtn\">successive </span><span class=\"txtn\">soodanigh </span><span class=\"txtn\">te </span><span class=\"txtn\">comporteren </span><span class=\"txtn\">en </span><span class=\"txtn\">deselve </span><span class=\"txtn\">in</span></div>"
      ],
      "text/plain": [
       "<IPython.core.display.HTML object>"
      ]
     },
     "metadata": {},
     "output_type": "display_data"
    },
    {
     "data": {
      "text/html": [
       "<div class=\"\"><span class=\"tfsechead \"><a target=\"_blank\" href=\"http://resources.huygens.knaw.nl/retroboeken/generalemissiven/#page=730&amp;source=3\" title=\"Show this document on Huygens\" sec=\"3 717:30\">3 717:30</a></span>  <span class=\"txtn\">dier </span><span class=\"txtn\">vougen </span><span class=\"txtn\">te </span><span class=\"txtn\">respecteren, </span><span class=\"txtn\">als </span><span class=\"txtn\">de </span><span class=\"txtn\">overleden </span><span class=\"txtn\">Coningen </span><span class=\"txtn\">Abas </span><span class=\"txtn\">de </span><span class=\"txtn\">Groote, </span><span class=\"txtn\">Safie</span></div>"
      ],
      "text/plain": [
       "<IPython.core.display.HTML object>"
      ]
     },
     "metadata": {},
     "output_type": "display_data"
    },
    {
     "data": {
      "text/html": [
       "<div class=\"\"><span class=\"tfsechead \"><a target=\"_blank\" href=\"http://resources.huygens.knaw.nl/retroboeken/generalemissiven/#page=730&amp;source=3\" title=\"Show this document on Huygens\" sec=\"3 717:31\">3 717:31</a></span>  <span class=\"txtn\">d’Eerste </span><span class=\"txtn\">en </span><span class=\"txtn\">Abas </span><span class=\"txtn\">de </span><span class=\"txtn\">Tweede, </span><span class=\"txtn\">bij </span><span class=\"txtn\">bevelschriften </span><span class=\"txtn\">aen </span><span class=\"txtn\">d’Ed. </span><span class=\"txtn\">Compagnie </span><span class=\"txtn\">van </span><span class=\"txtn\">tijt </span><span class=\"txtn\">tot</span></div>"
      ],
      "text/plain": [
       "<IPython.core.display.HTML object>"
      ]
     },
     "metadata": {},
     "output_type": "display_data"
    },
    {
     "data": {
      "text/html": [
       "<div class=\"\"><span class=\"tfsechead \"><a target=\"_blank\" href=\"http://resources.huygens.knaw.nl/retroboeken/generalemissiven/#page=730&amp;source=3\" title=\"Show this document on Huygens\" sec=\"3 717:32\">3 717:32</a></span>  <span class=\"txtn\">tijt </span><span class=\"txtn\">verleendt, </span><span class=\"txtn\">hebben </span><span class=\"txtn\">geordonneert, </span><span class=\"txtn\">dat </span><span class=\"txtn\">van </span><span class=\"txtn\">een </span><span class=\"txtn\">geheel </span><span class=\"txtn\">anderen </span><span class=\"txtn\">thoon </span><span class=\"txtn\">sij </span><span class=\"txtn\">als </span><span class=\"txtn\">de</span></div>"
      ],
      "text/plain": [
       "<IPython.core.display.HTML object>"
      ]
     },
     "metadata": {},
     "output_type": "display_data"
    },
    {
     "data": {
      "text/html": [
       "<div class=\"\"><span class=\"tfsechead \"><a target=\"_blank\" href=\"http://resources.huygens.knaw.nl/retroboeken/generalemissiven/#page=730&amp;source=3\" title=\"Show this document on Huygens\" sec=\"3 717:33\">3 717:33</a></span>  <span class=\"txtn\">voorgaende </span><span class=\"txtn\">firmans. </span></div>"
      ],
      "text/plain": [
       "<IPython.core.display.HTML object>"
      ]
     },
     "metadata": {},
     "output_type": "display_data"
    },
    {
     "data": {
      "text/html": [
       "<div class=\"\"><span class=\"tfsechead \"><a target=\"_blank\" href=\"http://resources.huygens.knaw.nl/retroboeken/generalemissiven/#page=730&amp;source=3\" title=\"Show this document on Huygens\" sec=\"3 717:34\">3 717:34</a></span>  <span class=\"txtn\"><span class=\"remark\">Met </span></span><span class=\"txtn\"><span class=\"remark\">geduld </span></span><span class=\"txtn\"><span class=\"remark\">bereikt </span></span><span class=\"txtn\"><span class=\"remark\">men </span></span><span class=\"txtn\"><span class=\"remark\">in </span></span><span class=\"txtn\"><span class=\"remark\">Perzië </span></span><span class=\"txtn\"><span class=\"remark\">het </span></span><span class=\"txtn\"><span class=\"remark\">meest</span></span></div>"
      ],
      "text/plain": [
       "<IPython.core.display.HTML object>"
      ]
     },
     "metadata": {},
     "output_type": "display_data"
    },
    {
     "data": {
      "text/html": [
       "<div class=\"\"><span class=\"tfsechead \"><a target=\"_blank\" href=\"http://resources.huygens.knaw.nl/retroboeken/generalemissiven/#page=730&amp;source=3\" title=\"Show this document on Huygens\" sec=\"3 717:35\">3 717:35</a></span>  </div>"
      ],
      "text/plain": [
       "<IPython.core.display.HTML object>"
      ]
     },
     "metadata": {},
     "output_type": "display_data"
    },
    {
     "data": {
      "text/html": [
       "<div class=\"\"><span class=\"tfsechead \"><a target=\"_blank\" href=\"http://resources.huygens.knaw.nl/retroboeken/generalemissiven/#page=730&amp;source=3\" title=\"Show this document on Huygens\" sec=\"3 717:36\">3 717:36</a></span>  <span class=\"txtn\">Seecker </span><span class=\"txtn\">constapelsmaet, </span><span class=\"txtn\"><span class=\"note\">«2= Uitgevallen: </span></span><span class=\"txtn\"><span class=\"note\">met. =2»</span></span></div>"
      ],
      "text/plain": [
       "<IPython.core.display.HTML object>"
      ]
     },
     "metadata": {},
     "output_type": "display_data"
    },
    {
     "data": {
      "text/html": [
       "<div class=\"\"><span class=\"tfsechead \"><a target=\"_blank\" href=\"http://resources.huygens.knaw.nl/retroboeken/generalemissiven/#page=730&amp;source=3\" title=\"Show this document on Huygens\" sec=\"3 717:37\">3 717:37</a></span>  <span class=\"txtn\">namen </span><span class=\"txtn\">Jacob </span><span class=\"txtn\">Arriva </span><span class=\"txtn\">van </span><span class=\"txtn\">St. </span><span class=\"txtn\">Cruis, </span><span class=\"txtn\">voor </span><span class=\"txtn\">dato</span></div>"
      ],
      "text/plain": [
       "<IPython.core.display.HTML object>"
      ]
     },
     "metadata": {},
     "output_type": "display_data"
    },
    {
     "data": {
      "text/html": [
       "<div class=\"\"><span class=\"tfsechead \"><a target=\"_blank\" href=\"http://resources.huygens.knaw.nl/retroboeken/generalemissiven/#page=730&amp;source=3\" title=\"Show this document on Huygens\" sec=\"3 717:38\">3 717:38</a></span>  <span class=\"txtn\">van </span><span class=\"txtn\">’t </span><span class=\"txtn\">jacht </span><span class=\"txtn\">de </span><span class=\"txtn\">Pauw </span><span class=\"txtn\">weghgelopen </span><span class=\"txtn\">en </span><span class=\"txtn\">door </span><span class=\"txtn\">de </span><span class=\"txtn\">Ma.</span><span class=\"txtn\">4 </span><span class=\"txtn\">om </span><span class=\"txtn\">desselfs </span><span class=\"txtn\">const </span><span class=\"txtn\">in </span><span class=\"txtn\">dienst</span></div>"
      ],
      "text/plain": [
       "<IPython.core.display.HTML object>"
      ]
     },
     "metadata": {},
     "output_type": "display_data"
    },
    {
     "data": {
      "text/html": [
       "<div class=\"\"><span class=\"tfsechead \"><a target=\"_blank\" href=\"http://resources.huygens.knaw.nl/retroboeken/generalemissiven/#page=730&amp;source=3\" title=\"Show this document on Huygens\" sec=\"3 717:39\">3 717:39</a></span>  <span class=\"txtn\">genomen, </span><span class=\"txtn\">is </span><span class=\"txtn\">op </span><span class=\"txtn\">de </span><span class=\"txtn\">reclamatie </span><span class=\"txtn\">van </span><span class=\"txtn\">de </span><span class=\"txtn\">residenten </span><span class=\"txtn\">in </span><span class=\"txtn\">Spahan </span><span class=\"txtn\">door </span><span class=\"txtn\">den </span><span class=\"txtn\">Co. </span><span class=\"txtn\">gelargeert</span></div>"
      ],
      "text/plain": [
       "<IPython.core.display.HTML object>"
      ]
     },
     "metadata": {},
     "output_type": "display_data"
    },
    {
     "data": {
      "text/html": [
       "<div class=\"\"><span class=\"tfsechead \"><a target=\"_blank\" href=\"http://resources.huygens.knaw.nl/retroboeken/generalemissiven/#page=730&amp;source=3\" title=\"Show this document on Huygens\" sec=\"3 717:40\">3 717:40</a></span>  <span class=\"txtn\">en </span><span class=\"txtn\">weder </span><span class=\"txtn\">in </span><span class=\"txtn\">onse </span><span class=\"txtn\">handen </span><span class=\"txtn\">gestelt, </span><span class=\"txtn\">dat </span><span class=\"txtn\">al </span><span class=\"txtn\">gemackelijcker </span><span class=\"txtn\">toegegaen </span><span class=\"txtn\">is, </span><span class=\"txtn\">als </span><span class=\"txtn\">men </span><span class=\"txtn\">te</span></div>"
      ],
      "text/plain": [
       "<IPython.core.display.HTML object>"
      ]
     },
     "metadata": {},
     "output_type": "display_data"
    },
    {
     "data": {
      "text/html": [
       "<div class=\"\"><span class=\"tfsechead \"><a target=\"_blank\" href=\"http://resources.huygens.knaw.nl/retroboeken/generalemissiven/#page=730&amp;source=3\" title=\"Show this document on Huygens\" sec=\"3 717:41\">3 717:41</a></span>  <span class=\"txtn\">vooren </span><span class=\"txtn\">wel </span><span class=\"txtn\">heeft </span><span class=\"txtn\">gedaght; </span><span class=\"txtn\">een </span><span class=\"txtn\">teecken </span><span class=\"txtn\">Comp.</span><span class=\"txtn\">8 </span><span class=\"txtn\">saken </span><span class=\"txtn\">ten </span><span class=\"txtn\">hove </span><span class=\"txtn\">nochall </span><span class=\"txtn\">in </span><span class=\"txtn\">redelijcke</span></div>"
      ],
      "text/plain": [
       "<IPython.core.display.HTML object>"
      ]
     },
     "metadata": {},
     "output_type": "display_data"
    },
    {
     "data": {
      "text/html": [
       "<div class=\"\"><span class=\"tfsechead \"><a target=\"_blank\" href=\"http://resources.huygens.knaw.nl/retroboeken/generalemissiven/#page=730&amp;source=3\" title=\"Show this document on Huygens\" sec=\"3 717:42\">3 717:42</a></span>  <span class=\"txtn\">termen </span><span class=\"txtn\">staen. </span><span class=\"txtn\">Desen </span><span class=\"txtn\">voorsz. </span><span class=\"txtn\">constapelsmaet </span><span class=\"txtn\">was </span><span class=\"txtn\">op </span><span class=\"txtn\">den </span><span class=\"txtn\">wegh </span><span class=\"txtn\">ontrent </span><span class=\"txtn\">Laer,</span></div>"
      ],
      "text/plain": [
       "<IPython.core.display.HTML object>"
      ]
     },
     "metadata": {},
     "output_type": "display_data"
    },
    {
     "data": {
      "text/html": [
       "<div class=\"\"><span class=\"tfsechead \"><a target=\"_blank\" href=\"http://resources.huygens.knaw.nl/retroboeken/generalemissiven/#page=730&amp;source=3\" title=\"Show this document on Huygens\" sec=\"3 717:43\">3 717:43</a></span>  <span class=\"txtn\">6 </span><span class=\"txtn\">dagen </span><span class=\"txtn\">reysens </span><span class=\"txtn\">van </span><span class=\"txtn\">Gamron </span><span class=\"txtn\">gelegen, </span><span class=\"txtn\">voor </span><span class=\"txtn\">de </span><span class=\"txtn\">tweede </span><span class=\"txtn\">reys </span><span class=\"txtn\">doorgegaen </span><span class=\"txtn\">en </span><span class=\"txtn\">wegh-</span></div>"
      ],
      "text/plain": [
       "<IPython.core.display.HTML object>"
      ]
     },
     "metadata": {},
     "output_type": "display_data"
    },
    {
     "data": {
      "text/html": [
       "<div class=\"\"><span class=\"tfsechead \"><a target=\"_blank\" href=\"http://resources.huygens.knaw.nl/retroboeken/generalemissiven/#page=730&amp;source=3\" title=\"Show this document on Huygens\" sec=\"3 717:44\">3 717:44</a></span>  </div>"
      ],
      "text/plain": [
       "<IPython.core.display.HTML object>"
      ]
     },
     "metadata": {},
     "output_type": "display_data"
    }
   ],
   "source": [
    "for line in lines:\n",
    "    A.plain(line, fmt=\"layout-full\")"
   ]
  },
  {
   "cell_type": "markdown",
   "metadata": {},
   "source": [
    "If we want to skip the remarks we can choose `layout-noremarks`:"
   ]
  },
  {
   "cell_type": "code",
   "execution_count": 17,
   "metadata": {},
   "outputs": [
    {
     "data": {
      "text/html": [
       "<div class=\"\"><span class=\"tfsechead \"><a target=\"_blank\" href=\"http://resources.huygens.knaw.nl/retroboeken/generalemissiven/#page=730&amp;source=3\" title=\"Show this document on Huygens\" sec=\"3 717:1\">3 717:1</a></span>  <span class=\"txtn\"><span class=\"remark\"></span></span><span class=\"txtn\"><span class=\"remark\"></span></span><span class=\"txtn\"><span class=\"remark\"></span></span><span class=\"txtn\"><span class=\"remark\"></span></span><span class=\"txtn\"><span class=\"remark\"></span></span><span class=\"txtn\"><span class=\"remark\"></span></span><span class=\"txtn\"><span class=\"remark\"></span></span><span class=\"txtn\"><span class=\"remark\"></span></span><span class=\"txtn\"><span class=\"remark\"></span></span><span class=\"txtn\"><span class=\"remark\"></span></span><span class=\"txtn\"><span class=\"remark\"></span></span><span class=\"txtn\"><span class=\"remark\"></span></span><span class=\"txtn\"><span class=\"remark\"></span></span><span class=\"txtn\"><span class=\"remark\"></span></span><span class=\"txtn\"><span class=\"remark\"></span></span><span class=\"txtn\"><span class=\"remark\"></span></span></div>"
      ],
      "text/plain": [
       "<IPython.core.display.HTML object>"
      ]
     },
     "metadata": {},
     "output_type": "display_data"
    },
    {
     "data": {
      "text/html": [
       "<div class=\"\"><span class=\"tfsechead \"><a target=\"_blank\" href=\"http://resources.huygens.knaw.nl/retroboeken/generalemissiven/#page=730&amp;source=3\" title=\"Show this document on Huygens\" sec=\"3 717:2\">3 717:2</a></span>  <span class=\"txtn\"><span class=\"remark\"></span></span><span class=\"txtn\"><span class=\"remark\"></span></span><span class=\"txtn\"><span class=\"remark\"></span></span><span class=\"txtn\"><span class=\"remark\"></span></span><span class=\"txtn\"><span class=\"remark\"></span></span><span class=\"txtn\"><span class=\"remark\"></span></span><span class=\"txtn\"><span class=\"remark\"></span></span><span class=\"txtn\"><span class=\"remark\"></span></span><span class=\"txtn\"><span class=\"remark\"></span></span><span class=\"txtn\"><span class=\"remark\"></span></span><span class=\"txtn\"><span class=\"remark\"></span></span><span class=\"txtn\"><span class=\"remark\"></span></span></div>"
      ],
      "text/plain": [
       "<IPython.core.display.HTML object>"
      ]
     },
     "metadata": {},
     "output_type": "display_data"
    },
    {
     "data": {
      "text/html": [
       "<div class=\"\"><span class=\"tfsechead \"><a target=\"_blank\" href=\"http://resources.huygens.knaw.nl/retroboeken/generalemissiven/#page=730&amp;source=3\" title=\"Show this document on Huygens\" sec=\"3 717:3\">3 717:3</a></span>  <span class=\"txtn\"><span class=\"remark\"></span></span><span class=\"txtn\"><span class=\"remark\"></span></span><span class=\"txtn\"><span class=\"remark\"></span></span><span class=\"txtn\"><span class=\"remark\"></span></span><span class=\"txtn\"><span class=\"remark\"></span></span><span class=\"txtn\"><span class=\"remark\"></span></span><span class=\"txtn\"><span class=\"remark\"></span></span><span class=\"txtn\"><span class=\"remark\"></span></span><span class=\"txtn\"><span class=\"remark\"></span></span><span class=\"txtn\"><span class=\"remark\"></span></span><span class=\"txtn\"><span class=\"remark\"></span></span><span class=\"txtn\"><span class=\"remark\"></span></span></div>"
      ],
      "text/plain": [
       "<IPython.core.display.HTML object>"
      ]
     },
     "metadata": {},
     "output_type": "display_data"
    },
    {
     "data": {
      "text/html": [
       "<div class=\"\"><span class=\"tfsechead \"><a target=\"_blank\" href=\"http://resources.huygens.knaw.nl/retroboeken/generalemissiven/#page=730&amp;source=3\" title=\"Show this document on Huygens\" sec=\"3 717:4\">3 717:4</a></span>  <span class=\"txtn\"><span class=\"remark\"></span></span><span class=\"txtn\"><span class=\"remark\"></span></span><span class=\"txtn\"><span class=\"remark\"></span></span><span class=\"txtn\"><span class=\"remark\"></span></span><span class=\"txtn\"><span class=\"remark\"></span></span><span class=\"txtn\"><span class=\"remark\"></span></span><span class=\"txtn\"><span class=\"remark\"></span></span><span class=\"txtn\"><span class=\"remark\"></span></span><span class=\"txtn\"><span class=\"remark\"></span></span><span class=\"txtn\"><span class=\"remark\"></span></span><span class=\"txtn\"><span class=\"remark\"></span></span><span class=\"txtn\"><span class=\"remark\"></span></span><span class=\"txtn\"><span class=\"remark\"></span></span></div>"
      ],
      "text/plain": [
       "<IPython.core.display.HTML object>"
      ]
     },
     "metadata": {},
     "output_type": "display_data"
    },
    {
     "data": {
      "text/html": [
       "<div class=\"\"><span class=\"tfsechead \"><a target=\"_blank\" href=\"http://resources.huygens.knaw.nl/retroboeken/generalemissiven/#page=730&amp;source=3\" title=\"Show this document on Huygens\" sec=\"3 717:5\">3 717:5</a></span>  </div>"
      ],
      "text/plain": [
       "<IPython.core.display.HTML object>"
      ]
     },
     "metadata": {},
     "output_type": "display_data"
    },
    {
     "data": {
      "text/html": [
       "<div class=\"\"><span class=\"tfsechead \"><a target=\"_blank\" href=\"http://resources.huygens.knaw.nl/retroboeken/generalemissiven/#page=730&amp;source=3\" title=\"Show this document on Huygens\" sec=\"3 717:6\">3 717:6</a></span>  <span class=\"txtn\">Wij </span><span class=\"txtn\">twijfelen, </span><span class=\"txtn\">of </span><span class=\"txtn\">sij </span><span class=\"txtn\">sooveel </span><span class=\"txtn\">werck </span><span class=\"txtn\">al </span><span class=\"txtn\">van </span><span class=\"txtn\">ons </span><span class=\"txtn\">soude </span><span class=\"txtn\">maecken, </span><span class=\"txtn\">omdat </span><span class=\"txtn\">se </span><span class=\"txtn\">de</span></div>"
      ],
      "text/plain": [
       "<IPython.core.display.HTML object>"
      ]
     },
     "metadata": {},
     "output_type": "display_data"
    },
    {
     "data": {
      "text/html": [
       "<div class=\"\"><span class=\"tfsechead \"><a target=\"_blank\" href=\"http://resources.huygens.knaw.nl/retroboeken/generalemissiven/#page=730&amp;source=3\" title=\"Show this document on Huygens\" sec=\"3 717:7\">3 717:7</a></span>  <span class=\"txtn\">Engelsen </span><span class=\"txtn\">ende </span><span class=\"txtn\">nu </span><span class=\"txtn\">oocq </span><span class=\"txtn\">de </span><span class=\"txtn\">Francen </span><span class=\"txtn\">bij </span><span class=\"txtn\">de </span><span class=\"txtn\">wercken </span><span class=\"txtn\">hebben </span><span class=\"txtn\">ende </span><span class=\"txtn\">van </span><span class=\"txtn\">dewelcke </span><span class=\"txtn\">sij</span></div>"
      ],
      "text/plain": [
       "<IPython.core.display.HTML object>"
      ]
     },
     "metadata": {},
     "output_type": "display_data"
    },
    {
     "data": {
      "text/html": [
       "<div class=\"\"><span class=\"tfsechead \"><a target=\"_blank\" href=\"http://resources.huygens.knaw.nl/retroboeken/generalemissiven/#page=730&amp;source=3\" title=\"Show this document on Huygens\" sec=\"3 717:8\">3 717:8</a></span>  <span class=\"txtn\">dan </span><span class=\"txtn\">wellicht </span><span class=\"txtn\">te </span><span class=\"txtn\">meer </span><span class=\"txtn\">souden </span><span class=\"txtn\">worden </span><span class=\"txtn\">geflatteert </span><span class=\"txtn\">ende </span><span class=\"txtn\">wie </span><span class=\"txtn\">weet </span><span class=\"txtn\">oocq, </span><span class=\"txtn\">of </span><span class=\"txtn\">de </span><span class=\"txtn\">nieuwe</span></div>"
      ],
      "text/plain": [
       "<IPython.core.display.HTML object>"
      ]
     },
     "metadata": {},
     "output_type": "display_data"
    },
    {
     "data": {
      "text/html": [
       "<div class=\"\"><span class=\"tfsechead \"><a target=\"_blank\" href=\"http://resources.huygens.knaw.nl/retroboeken/generalemissiven/#page=730&amp;source=3\" title=\"Show this document on Huygens\" sec=\"3 717:9\">3 717:9</a></span>  <span class=\"txtn\">resident, </span><span class=\"txtn\">RomboutLefer </span><span class=\"txtn\"><span class=\"note\">«1= Rombout </span></span><span class=\"txtn\"><span class=\"note\">Lefer </span></span><span class=\"txtn\"><span class=\"note\">was </span></span><span class=\"txtn\"><span class=\"note\">van </span></span><span class=\"txtn\"><span class=\"note\">1669 </span></span><span class=\"txtn\"><span class=\"note\">tot </span></span><span class=\"txtn\"><span class=\"note\">juli </span></span><span class=\"txtn\"><span class=\"note\">1673 </span></span><span class=\"txtn\"><span class=\"note\">in </span></span><span class=\"txtn\"><span class=\"note\">onderkoopmansrang </span></span><span class=\"txtn\"><span class=\"note\">opperhoofd </span></span><span class=\"txtn\"><span class=\"note\">te</span></span></div>"
      ],
      "text/plain": [
       "<IPython.core.display.HTML object>"
      ]
     },
     "metadata": {},
     "output_type": "display_data"
    },
    {
     "data": {
      "text/html": [
       "<div class=\"\"><span class=\"tfsechead \"><a target=\"_blank\" href=\"http://resources.huygens.knaw.nl/retroboeken/generalemissiven/#page=730&amp;source=3\" title=\"Show this document on Huygens\" sec=\"3 717:10\">3 717:10</a></span>  <span class=\"txtn\"><span class=\"note\">Wingurla, </span></span><span class=\"txtn\"><span class=\"note\">vervolgens </span></span><span class=\"txtn\"><span class=\"note\">koopman </span></span><span class=\"txtn\"><span class=\"note\">te </span></span><span class=\"txtn\"><span class=\"note\">Batavia, </span></span><span class=\"txtn\"><span class=\"note\">sept. </span></span><span class=\"txtn\"><span class=\"note\">1675-</span></span><span class=\"txtn\"><span class=\"note\">mei </span></span><span class=\"txtn\"><span class=\"note\">1676 </span></span><span class=\"txtn\"><span class=\"note\">met </span></span><span class=\"txtn\"><span class=\"note\">twee </span></span><span class=\"txtn\"><span class=\"note\">schepen </span></span><span class=\"txtn\"><span class=\"note\">naar </span></span><span class=\"txtn\"><span class=\"note\">de</span></span></div>"
      ],
      "text/plain": [
       "<IPython.core.display.HTML object>"
      ]
     },
     "metadata": {},
     "output_type": "display_data"
    },
    {
     "data": {
      "text/html": [
       "<div class=\"\"><span class=\"tfsechead \"><a target=\"_blank\" href=\"http://resources.huygens.knaw.nl/retroboeken/generalemissiven/#page=730&amp;source=3\" title=\"Show this document on Huygens\" sec=\"3 717:11\">3 717:11</a></span>  <span class=\"txtn\"><span class=\"note\">westkust </span></span><span class=\"txtn\"><span class=\"note\">van </span></span><span class=\"txtn\"><span class=\"note\">India </span></span><span class=\"txtn\"><span class=\"note\">om </span></span><span class=\"txtn\"><span class=\"note\">rijst </span></span><span class=\"txtn\"><span class=\"note\">in </span></span><span class=\"txtn\"><span class=\"note\">te </span></span><span class=\"txtn\"><span class=\"note\">kopen. =1»</span></span></div>"
      ],
      "text/plain": [
       "<IPython.core.display.HTML object>"
      ]
     },
     "metadata": {},
     "output_type": "display_data"
    },
    {
     "data": {
      "text/html": [
       "<div class=\"\"><span class=\"tfsechead \"><a target=\"_blank\" href=\"http://resources.huygens.knaw.nl/retroboeken/generalemissiven/#page=730&amp;source=3\" title=\"Show this document on Huygens\" sec=\"3 717:12\">3 717:12</a></span>  <span class=\"txtn\">met </span><span class=\"txtn\">de </span><span class=\"txtn\">fluyt </span><span class=\"txtn\">Alfen </span><span class=\"txtn\">derwaerts </span><span class=\"txtn\">gegaen, </span><span class=\"txtn\">niet </span><span class=\"txtn\">beter </span><span class=\"txtn\">met</span></div>"
      ],
      "text/plain": [
       "<IPython.core.display.HTML object>"
      ]
     },
     "metadata": {},
     "output_type": "display_data"
    },
    {
     "data": {
      "text/html": [
       "<div class=\"\"><span class=\"tfsechead \"><a target=\"_blank\" href=\"http://resources.huygens.knaw.nl/retroboeken/generalemissiven/#page=730&amp;source=3\" title=\"Show this document on Huygens\" sec=\"3 717:13\">3 717:13</a></span>  <span class=\"txtn\">dat </span><span class=\"txtn\">volcq </span><span class=\"txtn\">sal </span><span class=\"txtn\">weten </span><span class=\"txtn\">om </span><span class=\"txtn\">te </span><span class=\"txtn\">gaen. </span></div>"
      ],
      "text/plain": [
       "<IPython.core.display.HTML object>"
      ]
     },
     "metadata": {},
     "output_type": "display_data"
    },
    {
     "data": {
      "text/html": [
       "<div class=\"\"><span class=\"tfsechead \"><a target=\"_blank\" href=\"http://resources.huygens.knaw.nl/retroboeken/generalemissiven/#page=730&amp;source=3\" title=\"Show this document on Huygens\" sec=\"3 717:14\">3 717:14</a></span>  <span class=\"txtn\">Mette </span><span class=\"txtn\">Portugesen </span><span class=\"txtn\">in </span><span class=\"txtn\">Goa </span><span class=\"txtn\">stonden </span><span class=\"txtn\">de </span><span class=\"txtn\">saecken </span><span class=\"txtn\">geheel </span><span class=\"txtn\">slecht, </span><span class=\"txtn\">wordende </span><span class=\"txtn\">van </span><span class=\"txtn\">de</span></div>"
      ],
      "text/plain": [
       "<IPython.core.display.HTML object>"
      ]
     },
     "metadata": {},
     "output_type": "display_data"
    },
    {
     "data": {
      "text/html": [
       "<div class=\"\"><span class=\"tfsechead \"><a target=\"_blank\" href=\"http://resources.huygens.knaw.nl/retroboeken/generalemissiven/#page=730&amp;source=3\" title=\"Show this document on Huygens\" sec=\"3 717:15\">3 717:15</a></span>  <span class=\"txtn\">Arabieren </span><span class=\"txtn\">genoeghsaem </span><span class=\"txtn\">als </span><span class=\"txtn\">gebra </span><span class=\"txtn\">veert, </span><span class=\"txtn\">sonderdat </span><span class=\"txtn\">se </span><span class=\"txtn\">macht </span><span class=\"txtn\">hebben </span><span class=\"txtn\">haer </span><span class=\"txtn\">het </span><span class=\"txtn\">hooft</span></div>"
      ],
      "text/plain": [
       "<IPython.core.display.HTML object>"
      ]
     },
     "metadata": {},
     "output_type": "display_data"
    },
    {
     "data": {
      "text/html": [
       "<div class=\"\"><span class=\"tfsechead \"><a target=\"_blank\" href=\"http://resources.huygens.knaw.nl/retroboeken/generalemissiven/#page=730&amp;source=3\" title=\"Show this document on Huygens\" sec=\"3 717:16\">3 717:16</a></span>  <span class=\"txtn\">te </span><span class=\"txtn\">bieden. </span></div>"
      ],
      "text/plain": [
       "<IPython.core.display.HTML object>"
      ]
     },
     "metadata": {},
     "output_type": "display_data"
    },
    {
     "data": {
      "text/html": [
       "<div class=\"\"><span class=\"tfsechead \"><a target=\"_blank\" href=\"http://resources.huygens.knaw.nl/retroboeken/generalemissiven/#page=730&amp;source=3\" title=\"Show this document on Huygens\" sec=\"3 717:17\">3 717:17</a></span>  <span class=\"txtn\"><span class=\"remark\"></span></span><span class=\"txtn\"><span class=\"remark\"></span></span><span class=\"txtn\"><span class=\"remark\"></span></span><span class=\"txtn\"><span class=\"remark\"></span></span><span class=\"txtn\"><span class=\"remark\"></span></span><span class=\"txtn\"><span class=\"remark\"></span></span><span class=\"txtn\"><span class=\"remark\"></span></span><span class=\"txtn\"><span class=\"remark\"></span></span><span class=\"txtn\"><span class=\"remark\"></span></span><span class=\"txtn\"><span class=\"remark\"></span></span><span class=\"txtn\"><span class=\"remark\"></span></span><span class=\"txtn\"><span class=\"remark\"></span></span><span class=\"txtn\"><span class=\"remark\"></span></span></div>"
      ],
      "text/plain": [
       "<IPython.core.display.HTML object>"
      ]
     },
     "metadata": {},
     "output_type": "display_data"
    },
    {
     "data": {
      "text/html": [
       "<div class=\"\"><span class=\"tfsechead \"><a target=\"_blank\" href=\"http://resources.huygens.knaw.nl/retroboeken/generalemissiven/#page=730&amp;source=3\" title=\"Show this document on Huygens\" sec=\"3 717:18\">3 717:18</a></span>  <span class=\"txtn\"><span class=\"remark\"></span></span><span class=\"txtn\"><span class=\"remark\"></span></span><span class=\"txtn\"><span class=\"remark\"></span></span><span class=\"txtn\"><span class=\"remark\"></span></span><span class=\"txtn\"><span class=\"remark\"></span></span><span class=\"txtn\"><span class=\"remark\"></span></span><span class=\"txtn\"><span class=\"remark\"></span></span><span class=\"txtn\"><span class=\"remark\"></span></span><span class=\"txtn\"><span class=\"remark\"></span></span><span class=\"txtn\"><span class=\"remark\"></span></span><span class=\"txtn\"><span class=\"remark\"></span></span><span class=\"txtn\"><span class=\"remark\"></span></span><span class=\"txtn\"><span class=\"remark\"></span></span><span class=\"txtn\"><span class=\"remark\"></span></span></div>"
      ],
      "text/plain": [
       "<IPython.core.display.HTML object>"
      ]
     },
     "metadata": {},
     "output_type": "display_data"
    },
    {
     "data": {
      "text/html": [
       "<div class=\"\"><span class=\"tfsechead \"><a target=\"_blank\" href=\"http://resources.huygens.knaw.nl/retroboeken/generalemissiven/#page=730&amp;source=3\" title=\"Show this document on Huygens\" sec=\"3 717:19\">3 717:19</a></span>  <span class=\"txtn\"><span class=\"remark\"></span></span><span class=\"txtn\"><span class=\"remark\"></span></span><span class=\"txtn\"><span class=\"remark\"></span></span><span class=\"txtn\"><span class=\"remark\"></span></span><span class=\"txtn\"><span class=\"remark\"></span></span><span class=\"txtn\"><span class=\"remark\"></span></span><span class=\"txtn\"><span class=\"remark\"></span></span><span class=\"txtn\"><span class=\"remark\"></span></span><span class=\"txtn\"><span class=\"remark\"></span></span><span class=\"txtn\"><span class=\"remark\"></span></span><span class=\"txtn\"><span class=\"remark\"></span></span><span class=\"txtn\"><span class=\"remark\"></span></span><span class=\"txtn\"><span class=\"remark\"></span></span><span class=\"txtn\"><span class=\"remark\"></span></span><span class=\"txtn\"><span class=\"remark\"></span></span></div>"
      ],
      "text/plain": [
       "<IPython.core.display.HTML object>"
      ]
     },
     "metadata": {},
     "output_type": "display_data"
    },
    {
     "data": {
      "text/html": [
       "<div class=\"\"><span class=\"tfsechead \"><a target=\"_blank\" href=\"http://resources.huygens.knaw.nl/retroboeken/generalemissiven/#page=730&amp;source=3\" title=\"Show this document on Huygens\" sec=\"3 717:20\">3 717:20</a></span>  <span class=\"txtn\"><span class=\"remark\"></span></span><span class=\"txtn\"><span class=\"remark\"></span></span><span class=\"txtn\"><span class=\"remark\"></span></span><span class=\"txtn\"><span class=\"remark\"></span></span><span class=\"txtn\"><span class=\"remark\"></span></span><span class=\"txtn\"><span class=\"remark\"></span></span><span class=\"txtn\"><span class=\"remark\"></span></span><span class=\"txtn\"><span class=\"remark\"></span></span><span class=\"txtn\"><span class=\"remark\"></span></span><span class=\"txtn\"><span class=\"remark\"></span></span><span class=\"txtn\"><span class=\"remark\"></span></span><span class=\"txtn\"><span class=\"remark\"></span></span></div>"
      ],
      "text/plain": [
       "<IPython.core.display.HTML object>"
      ]
     },
     "metadata": {},
     "output_type": "display_data"
    },
    {
     "data": {
      "text/html": [
       "<div class=\"\"><span class=\"tfsechead \"><a target=\"_blank\" href=\"http://resources.huygens.knaw.nl/retroboeken/generalemissiven/#page=730&amp;source=3\" title=\"Show this document on Huygens\" sec=\"3 717:21\">3 717:21</a></span>  <span class=\"txtn\"><span class=\"remark\"></span></span><span class=\"txtn\"><span class=\"remark\"></span></span><span class=\"txtn\"><span class=\"remark\"></span></span><span class=\"txtn\"><span class=\"remark\"></span></span><span class=\"txtn\"><span class=\"remark\"></span></span></div>"
      ],
      "text/plain": [
       "<IPython.core.display.HTML object>"
      ]
     },
     "metadata": {},
     "output_type": "display_data"
    },
    {
     "data": {
      "text/html": [
       "<div class=\"\"><span class=\"tfsechead \"><a target=\"_blank\" href=\"http://resources.huygens.knaw.nl/retroboeken/generalemissiven/#page=730&amp;source=3\" title=\"Show this document on Huygens\" sec=\"3 717:22\">3 717:22</a></span>  </div>"
      ],
      "text/plain": [
       "<IPython.core.display.HTML object>"
      ]
     },
     "metadata": {},
     "output_type": "display_data"
    },
    {
     "data": {
      "text/html": [
       "<div class=\"\"><span class=\"tfsechead \"><a target=\"_blank\" href=\"http://resources.huygens.knaw.nl/retroboeken/generalemissiven/#page=730&amp;source=3\" title=\"Show this document on Huygens\" sec=\"3 717:23\">3 717:23</a></span>  <span class=\"txtn\">Nae </span><span class=\"txtn\">gedane </span><span class=\"txtn\">doleantie </span><span class=\"txtn\">aen </span><span class=\"txtn\">den </span><span class=\"txtn\">Co. </span><span class=\"txtn\">en </span><span class=\"txtn\">vertrouwer </span><span class=\"txtn\">des </span><span class=\"txtn\">rij </span><span class=\"txtn\">ex </span><span class=\"txtn\">van </span><span class=\"txtn\">Persien </span><span class=\"txtn\">over</span></div>"
      ],
      "text/plain": [
       "<IPython.core.display.HTML object>"
      ]
     },
     "metadata": {},
     "output_type": "display_data"
    },
    {
     "data": {
      "text/html": [
       "<div class=\"\"><span class=\"tfsechead \"><a target=\"_blank\" href=\"http://resources.huygens.knaw.nl/retroboeken/generalemissiven/#page=730&amp;source=3\" title=\"Show this document on Huygens\" sec=\"3 717:24\">3 717:24</a></span>  <span class=\"txtn\">het </span><span class=\"txtn\">enorme </span><span class=\"txtn\">geweldt, </span><span class=\"txtn\">den </span><span class=\"txtn\">directeur </span><span class=\"txtn\">Goske </span><span class=\"txtn\">in </span><span class=\"txtn\">Gamron </span><span class=\"txtn\">door </span><span class=\"txtn\">den </span><span class=\"txtn\">overleden </span><span class=\"txtn\">gouvr.</span></div>"
      ],
      "text/plain": [
       "<IPython.core.display.HTML object>"
      ]
     },
     "metadata": {},
     "output_type": "display_data"
    },
    {
     "data": {
      "text/html": [
       "<div class=\"\"><span class=\"tfsechead \"><a target=\"_blank\" href=\"http://resources.huygens.knaw.nl/retroboeken/generalemissiven/#page=730&amp;source=3\" title=\"Show this document on Huygens\" sec=\"3 717:25\">3 717:25</a></span>  <span class=\"txtn\">Mierab </span><span class=\"txtn\">Chan </span><span class=\"txtn\">in </span><span class=\"txtn\">diverse </span><span class=\"txtn\">gelegentheden </span><span class=\"txtn\">aengedaen, </span><span class=\"txtn\">mitsgaders </span><span class=\"txtn\">het </span><span class=\"txtn\">gedreyghde</span></div>"
      ],
      "text/plain": [
       "<IPython.core.display.HTML object>"
      ]
     },
     "metadata": {},
     "output_type": "display_data"
    },
    {
     "data": {
      "text/html": [
       "<div class=\"\"><span class=\"tfsechead \"><a target=\"_blank\" href=\"http://resources.huygens.knaw.nl/retroboeken/generalemissiven/#page=730&amp;source=3\" title=\"Show this document on Huygens\" sec=\"3 717:26\">3 717:26</a></span>  <span class=\"txtn\">quaet </span><span class=\"txtn\">tractement, </span><span class=\"txtn\">twelck </span><span class=\"txtn\">sijnen </span><span class=\"txtn\">successeur </span><span class=\"txtn\">Mantusa </span><span class=\"txtn\">Coulichan </span><span class=\"txtn\">sigh </span><span class=\"txtn\">heeft </span><span class=\"txtn\">gevanteert</span></div>"
      ],
      "text/plain": [
       "<IPython.core.display.HTML object>"
      ]
     },
     "metadata": {},
     "output_type": "display_data"
    },
    {
     "data": {
      "text/html": [
       "<div class=\"\"><span class=\"tfsechead \"><a target=\"_blank\" href=\"http://resources.huygens.knaw.nl/retroboeken/generalemissiven/#page=730&amp;source=3\" title=\"Show this document on Huygens\" sec=\"3 717:27\">3 717:27</a></span>  <span class=\"txtn\">de </span><span class=\"txtn\">onse </span><span class=\"txtn\">te </span><span class=\"txtn\">sullen </span><span class=\"txtn\">aendoen, </span><span class=\"txtn\">is </span><span class=\"txtn\">sooveel </span><span class=\"txtn\">gehoor </span><span class=\"txtn\">aen </span><span class=\"txtn\">’t </span><span class=\"txtn\">hoff </span><span class=\"txtn\">vercregen, </span><span class=\"txtn\">dat </span><span class=\"txtn\">d’Ma.</span><span class=\"txtn\">1</span></div>"
      ],
      "text/plain": [
       "<IPython.core.display.HTML object>"
      ]
     },
     "metadata": {},
     "output_type": "display_data"
    },
    {
     "data": {
      "text/html": [
       "<div class=\"\"><span class=\"tfsechead \"><a target=\"_blank\" href=\"http://resources.huygens.knaw.nl/retroboeken/generalemissiven/#page=730&amp;source=3\" title=\"Show this document on Huygens\" sec=\"3 717:28\">3 717:28</a></span>  <span class=\"txtn\">bij </span><span class=\"txtn\">een </span><span class=\"txtn\">expres </span><span class=\"txtn\">firman </span><span class=\"txtn\">den </span><span class=\"txtn\">jegenwoordigen </span><span class=\"txtn\">gouvem.</span><span class=\"txtn\">r </span><span class=\"txtn\">van </span><span class=\"txtn\">Gamron </span><span class=\"txtn\">gelast </span><span class=\"txtn\">heeft </span><span class=\"txtn\">hem</span></div>"
      ],
      "text/plain": [
       "<IPython.core.display.HTML object>"
      ]
     },
     "metadata": {},
     "output_type": "display_data"
    },
    {
     "data": {
      "text/html": [
       "<div class=\"\"><span class=\"tfsechead \"><a target=\"_blank\" href=\"http://resources.huygens.knaw.nl/retroboeken/generalemissiven/#page=730&amp;source=3\" title=\"Show this document on Huygens\" sec=\"3 717:29\">3 717:29</a></span>  <span class=\"txtn\">ontren </span><span class=\"txtn\">de </span><span class=\"txtn\">heeren </span><span class=\"txtn\">directeurs </span><span class=\"txtn\">successive </span><span class=\"txtn\">soodanigh </span><span class=\"txtn\">te </span><span class=\"txtn\">comporteren </span><span class=\"txtn\">en </span><span class=\"txtn\">deselve </span><span class=\"txtn\">in</span></div>"
      ],
      "text/plain": [
       "<IPython.core.display.HTML object>"
      ]
     },
     "metadata": {},
     "output_type": "display_data"
    },
    {
     "data": {
      "text/html": [
       "<div class=\"\"><span class=\"tfsechead \"><a target=\"_blank\" href=\"http://resources.huygens.knaw.nl/retroboeken/generalemissiven/#page=730&amp;source=3\" title=\"Show this document on Huygens\" sec=\"3 717:30\">3 717:30</a></span>  <span class=\"txtn\">dier </span><span class=\"txtn\">vougen </span><span class=\"txtn\">te </span><span class=\"txtn\">respecteren, </span><span class=\"txtn\">als </span><span class=\"txtn\">de </span><span class=\"txtn\">overleden </span><span class=\"txtn\">Coningen </span><span class=\"txtn\">Abas </span><span class=\"txtn\">de </span><span class=\"txtn\">Groote, </span><span class=\"txtn\">Safie</span></div>"
      ],
      "text/plain": [
       "<IPython.core.display.HTML object>"
      ]
     },
     "metadata": {},
     "output_type": "display_data"
    },
    {
     "data": {
      "text/html": [
       "<div class=\"\"><span class=\"tfsechead \"><a target=\"_blank\" href=\"http://resources.huygens.knaw.nl/retroboeken/generalemissiven/#page=730&amp;source=3\" title=\"Show this document on Huygens\" sec=\"3 717:31\">3 717:31</a></span>  <span class=\"txtn\">d’Eerste </span><span class=\"txtn\">en </span><span class=\"txtn\">Abas </span><span class=\"txtn\">de </span><span class=\"txtn\">Tweede, </span><span class=\"txtn\">bij </span><span class=\"txtn\">bevelschriften </span><span class=\"txtn\">aen </span><span class=\"txtn\">d’Ed. </span><span class=\"txtn\">Compagnie </span><span class=\"txtn\">van </span><span class=\"txtn\">tijt </span><span class=\"txtn\">tot</span></div>"
      ],
      "text/plain": [
       "<IPython.core.display.HTML object>"
      ]
     },
     "metadata": {},
     "output_type": "display_data"
    },
    {
     "data": {
      "text/html": [
       "<div class=\"\"><span class=\"tfsechead \"><a target=\"_blank\" href=\"http://resources.huygens.knaw.nl/retroboeken/generalemissiven/#page=730&amp;source=3\" title=\"Show this document on Huygens\" sec=\"3 717:32\">3 717:32</a></span>  <span class=\"txtn\">tijt </span><span class=\"txtn\">verleendt, </span><span class=\"txtn\">hebben </span><span class=\"txtn\">geordonneert, </span><span class=\"txtn\">dat </span><span class=\"txtn\">van </span><span class=\"txtn\">een </span><span class=\"txtn\">geheel </span><span class=\"txtn\">anderen </span><span class=\"txtn\">thoon </span><span class=\"txtn\">sij </span><span class=\"txtn\">als </span><span class=\"txtn\">de</span></div>"
      ],
      "text/plain": [
       "<IPython.core.display.HTML object>"
      ]
     },
     "metadata": {},
     "output_type": "display_data"
    },
    {
     "data": {
      "text/html": [
       "<div class=\"\"><span class=\"tfsechead \"><a target=\"_blank\" href=\"http://resources.huygens.knaw.nl/retroboeken/generalemissiven/#page=730&amp;source=3\" title=\"Show this document on Huygens\" sec=\"3 717:33\">3 717:33</a></span>  <span class=\"txtn\">voorgaende </span><span class=\"txtn\">firmans. </span></div>"
      ],
      "text/plain": [
       "<IPython.core.display.HTML object>"
      ]
     },
     "metadata": {},
     "output_type": "display_data"
    },
    {
     "data": {
      "text/html": [
       "<div class=\"\"><span class=\"tfsechead \"><a target=\"_blank\" href=\"http://resources.huygens.knaw.nl/retroboeken/generalemissiven/#page=730&amp;source=3\" title=\"Show this document on Huygens\" sec=\"3 717:34\">3 717:34</a></span>  <span class=\"txtn\"><span class=\"remark\"></span></span><span class=\"txtn\"><span class=\"remark\"></span></span><span class=\"txtn\"><span class=\"remark\"></span></span><span class=\"txtn\"><span class=\"remark\"></span></span><span class=\"txtn\"><span class=\"remark\"></span></span><span class=\"txtn\"><span class=\"remark\"></span></span><span class=\"txtn\"><span class=\"remark\"></span></span><span class=\"txtn\"><span class=\"remark\"></span></span></div>"
      ],
      "text/plain": [
       "<IPython.core.display.HTML object>"
      ]
     },
     "metadata": {},
     "output_type": "display_data"
    },
    {
     "data": {
      "text/html": [
       "<div class=\"\"><span class=\"tfsechead \"><a target=\"_blank\" href=\"http://resources.huygens.knaw.nl/retroboeken/generalemissiven/#page=730&amp;source=3\" title=\"Show this document on Huygens\" sec=\"3 717:35\">3 717:35</a></span>  </div>"
      ],
      "text/plain": [
       "<IPython.core.display.HTML object>"
      ]
     },
     "metadata": {},
     "output_type": "display_data"
    },
    {
     "data": {
      "text/html": [
       "<div class=\"\"><span class=\"tfsechead \"><a target=\"_blank\" href=\"http://resources.huygens.knaw.nl/retroboeken/generalemissiven/#page=730&amp;source=3\" title=\"Show this document on Huygens\" sec=\"3 717:36\">3 717:36</a></span>  <span class=\"txtn\">Seecker </span><span class=\"txtn\">constapelsmaet, </span><span class=\"txtn\"><span class=\"note\">«2= Uitgevallen: </span></span><span class=\"txtn\"><span class=\"note\">met. =2»</span></span></div>"
      ],
      "text/plain": [
       "<IPython.core.display.HTML object>"
      ]
     },
     "metadata": {},
     "output_type": "display_data"
    },
    {
     "data": {
      "text/html": [
       "<div class=\"\"><span class=\"tfsechead \"><a target=\"_blank\" href=\"http://resources.huygens.knaw.nl/retroboeken/generalemissiven/#page=730&amp;source=3\" title=\"Show this document on Huygens\" sec=\"3 717:37\">3 717:37</a></span>  <span class=\"txtn\">namen </span><span class=\"txtn\">Jacob </span><span class=\"txtn\">Arriva </span><span class=\"txtn\">van </span><span class=\"txtn\">St. </span><span class=\"txtn\">Cruis, </span><span class=\"txtn\">voor </span><span class=\"txtn\">dato</span></div>"
      ],
      "text/plain": [
       "<IPython.core.display.HTML object>"
      ]
     },
     "metadata": {},
     "output_type": "display_data"
    },
    {
     "data": {
      "text/html": [
       "<div class=\"\"><span class=\"tfsechead \"><a target=\"_blank\" href=\"http://resources.huygens.knaw.nl/retroboeken/generalemissiven/#page=730&amp;source=3\" title=\"Show this document on Huygens\" sec=\"3 717:38\">3 717:38</a></span>  <span class=\"txtn\">van </span><span class=\"txtn\">’t </span><span class=\"txtn\">jacht </span><span class=\"txtn\">de </span><span class=\"txtn\">Pauw </span><span class=\"txtn\">weghgelopen </span><span class=\"txtn\">en </span><span class=\"txtn\">door </span><span class=\"txtn\">de </span><span class=\"txtn\">Ma.</span><span class=\"txtn\">4 </span><span class=\"txtn\">om </span><span class=\"txtn\">desselfs </span><span class=\"txtn\">const </span><span class=\"txtn\">in </span><span class=\"txtn\">dienst</span></div>"
      ],
      "text/plain": [
       "<IPython.core.display.HTML object>"
      ]
     },
     "metadata": {},
     "output_type": "display_data"
    },
    {
     "data": {
      "text/html": [
       "<div class=\"\"><span class=\"tfsechead \"><a target=\"_blank\" href=\"http://resources.huygens.knaw.nl/retroboeken/generalemissiven/#page=730&amp;source=3\" title=\"Show this document on Huygens\" sec=\"3 717:39\">3 717:39</a></span>  <span class=\"txtn\">genomen, </span><span class=\"txtn\">is </span><span class=\"txtn\">op </span><span class=\"txtn\">de </span><span class=\"txtn\">reclamatie </span><span class=\"txtn\">van </span><span class=\"txtn\">de </span><span class=\"txtn\">residenten </span><span class=\"txtn\">in </span><span class=\"txtn\">Spahan </span><span class=\"txtn\">door </span><span class=\"txtn\">den </span><span class=\"txtn\">Co. </span><span class=\"txtn\">gelargeert</span></div>"
      ],
      "text/plain": [
       "<IPython.core.display.HTML object>"
      ]
     },
     "metadata": {},
     "output_type": "display_data"
    },
    {
     "data": {
      "text/html": [
       "<div class=\"\"><span class=\"tfsechead \"><a target=\"_blank\" href=\"http://resources.huygens.knaw.nl/retroboeken/generalemissiven/#page=730&amp;source=3\" title=\"Show this document on Huygens\" sec=\"3 717:40\">3 717:40</a></span>  <span class=\"txtn\">en </span><span class=\"txtn\">weder </span><span class=\"txtn\">in </span><span class=\"txtn\">onse </span><span class=\"txtn\">handen </span><span class=\"txtn\">gestelt, </span><span class=\"txtn\">dat </span><span class=\"txtn\">al </span><span class=\"txtn\">gemackelijcker </span><span class=\"txtn\">toegegaen </span><span class=\"txtn\">is, </span><span class=\"txtn\">als </span><span class=\"txtn\">men </span><span class=\"txtn\">te</span></div>"
      ],
      "text/plain": [
       "<IPython.core.display.HTML object>"
      ]
     },
     "metadata": {},
     "output_type": "display_data"
    },
    {
     "data": {
      "text/html": [
       "<div class=\"\"><span class=\"tfsechead \"><a target=\"_blank\" href=\"http://resources.huygens.knaw.nl/retroboeken/generalemissiven/#page=730&amp;source=3\" title=\"Show this document on Huygens\" sec=\"3 717:41\">3 717:41</a></span>  <span class=\"txtn\">vooren </span><span class=\"txtn\">wel </span><span class=\"txtn\">heeft </span><span class=\"txtn\">gedaght; </span><span class=\"txtn\">een </span><span class=\"txtn\">teecken </span><span class=\"txtn\">Comp.</span><span class=\"txtn\">8 </span><span class=\"txtn\">saken </span><span class=\"txtn\">ten </span><span class=\"txtn\">hove </span><span class=\"txtn\">nochall </span><span class=\"txtn\">in </span><span class=\"txtn\">redelijcke</span></div>"
      ],
      "text/plain": [
       "<IPython.core.display.HTML object>"
      ]
     },
     "metadata": {},
     "output_type": "display_data"
    },
    {
     "data": {
      "text/html": [
       "<div class=\"\"><span class=\"tfsechead \"><a target=\"_blank\" href=\"http://resources.huygens.knaw.nl/retroboeken/generalemissiven/#page=730&amp;source=3\" title=\"Show this document on Huygens\" sec=\"3 717:42\">3 717:42</a></span>  <span class=\"txtn\">termen </span><span class=\"txtn\">staen. </span><span class=\"txtn\">Desen </span><span class=\"txtn\">voorsz. </span><span class=\"txtn\">constapelsmaet </span><span class=\"txtn\">was </span><span class=\"txtn\">op </span><span class=\"txtn\">den </span><span class=\"txtn\">wegh </span><span class=\"txtn\">ontrent </span><span class=\"txtn\">Laer,</span></div>"
      ],
      "text/plain": [
       "<IPython.core.display.HTML object>"
      ]
     },
     "metadata": {},
     "output_type": "display_data"
    },
    {
     "data": {
      "text/html": [
       "<div class=\"\"><span class=\"tfsechead \"><a target=\"_blank\" href=\"http://resources.huygens.knaw.nl/retroboeken/generalemissiven/#page=730&amp;source=3\" title=\"Show this document on Huygens\" sec=\"3 717:43\">3 717:43</a></span>  <span class=\"txtn\">6 </span><span class=\"txtn\">dagen </span><span class=\"txtn\">reysens </span><span class=\"txtn\">van </span><span class=\"txtn\">Gamron </span><span class=\"txtn\">gelegen, </span><span class=\"txtn\">voor </span><span class=\"txtn\">de </span><span class=\"txtn\">tweede </span><span class=\"txtn\">reys </span><span class=\"txtn\">doorgegaen </span><span class=\"txtn\">en </span><span class=\"txtn\">wegh-</span></div>"
      ],
      "text/plain": [
       "<IPython.core.display.HTML object>"
      ]
     },
     "metadata": {},
     "output_type": "display_data"
    },
    {
     "data": {
      "text/html": [
       "<div class=\"\"><span class=\"tfsechead \"><a target=\"_blank\" href=\"http://resources.huygens.knaw.nl/retroboeken/generalemissiven/#page=730&amp;source=3\" title=\"Show this document on Huygens\" sec=\"3 717:44\">3 717:44</a></span>  </div>"
      ],
      "text/plain": [
       "<IPython.core.display.HTML object>"
      ]
     },
     "metadata": {},
     "output_type": "display_data"
    }
   ],
   "source": [
    "for line in lines:\n",
    "    A.plain(line, fmt=\"layout-noremarks\")"
   ]
  },
  {
   "cell_type": "markdown",
   "metadata": {},
   "source": [
    "Or, without the footnotes:"
   ]
  },
  {
   "cell_type": "code",
   "execution_count": 19,
   "metadata": {},
   "outputs": [
    {
     "data": {
      "text/html": [
       "<div class=\"\"><span class=\"tfsechead \"><a target=\"_blank\" href=\"http://resources.huygens.knaw.nl/retroboeken/generalemissiven/#page=730&amp;source=3\" title=\"Show this document on Huygens\" sec=\"3 717:1\">3 717:1</a></span>  <span class=\"txtn\"><span class=\"remark\">Bouw </span></span><span class=\"txtn\"><span class=\"remark\">van </span></span><span class=\"txtn\"><span class=\"remark\">een </span></span><span class=\"txtn\"><span class=\"remark\">groot '</span></span><span class=\"txtn\"><span class=\"remark\">pakhuis </span></span><span class=\"txtn\"><span class=\"remark\">te </span></span><span class=\"txtn\"><span class=\"remark\">Gale; </span></span><span class=\"txtn\"><span class=\"remark\">eind </span></span><span class=\"txtn\"><span class=\"remark\">jebr. </span></span><span class=\"txtn\"><span class=\"remark\">was </span></span><span class=\"txtn\"><span class=\"remark\">in </span></span><span class=\"txtn\"><span class=\"remark\">Ceylon </span></span><span class=\"txtn\"><span class=\"remark\">in </span></span><span class=\"txtn\"><span class=\"remark\">een </span></span><span class=\"txtn\"><span class=\"remark\">jaar </span></span><span class=\"txtn\"><span class=\"remark\">uitgegeven</span></span></div>"
      ],
      "text/plain": [
       "<IPython.core.display.HTML object>"
      ]
     },
     "metadata": {},
     "output_type": "display_data"
    },
    {
     "data": {
      "text/html": [
       "<div class=\"\"><span class=\"tfsechead \"><a target=\"_blank\" href=\"http://resources.huygens.knaw.nl/retroboeken/generalemissiven/#page=730&amp;source=3\" title=\"Show this document on Huygens\" sec=\"3 717:2\">3 717:2</a></span>  <span class=\"txtn\"><span class=\"remark\">ƒ. </span></span><span class=\"txtn\"><span class=\"remark\">1205065 </span></span><span class=\"txtn\"><span class=\"remark\">en </span></span><span class=\"txtn\"><span class=\"remark\">gewonnen </span></span><span class=\"txtn\"><span class=\"remark\">f. </span></span><span class=\"txtn\"><span class=\"remark\">980645; </span></span><span class=\"txtn\"><span class=\"remark\">overlast </span></span><span class=\"txtn\"><span class=\"remark\">de </span></span><span class=\"txtn\"><span class=\"remark\">Compagnie </span></span><span class=\"txtn\"><span class=\"remark\">te </span></span><span class=\"txtn\"><span class=\"remark\">Wingurla </span></span><span class=\"txtn\"><span class=\"remark\">aangedaan</span></span></div>"
      ],
      "text/plain": [
       "<IPython.core.display.HTML object>"
      ]
     },
     "metadata": {},
     "output_type": "display_data"
    },
    {
     "data": {
      "text/html": [
       "<div class=\"\"><span class=\"tfsechead \"><a target=\"_blank\" href=\"http://resources.huygens.knaw.nl/retroboeken/generalemissiven/#page=730&amp;source=3\" title=\"Show this document on Huygens\" sec=\"3 717:3\">3 717:3</a></span>  <span class=\"txtn\"><span class=\"remark\">door </span></span><span class=\"txtn\"><span class=\"remark\">Sjivadji </span></span><span class=\"txtn\"><span class=\"remark\">en </span></span><span class=\"txtn\"><span class=\"remark\">de </span></span><span class=\"txtn\"><span class=\"remark\">hoofden </span></span><span class=\"txtn\"><span class=\"remark\">van </span></span><span class=\"txtn\"><span class=\"remark\">Bijapur; </span></span><span class=\"txtn\"><span class=\"remark\">de </span></span><span class=\"txtn\"><span class=\"remark\">resident </span></span><span class=\"txtn\"><span class=\"remark\">Leendertsz. </span></span><span class=\"txtn\"><span class=\"remark\">raadt </span></span><span class=\"txtn\"><span class=\"remark\">aan</span></span></div>"
      ],
      "text/plain": [
       "<IPython.core.display.HTML object>"
      ]
     },
     "metadata": {},
     "output_type": "display_data"
    },
    {
     "data": {
      "text/html": [
       "<div class=\"\"><span class=\"tfsechead \"><a target=\"_blank\" href=\"http://resources.huygens.knaw.nl/retroboeken/generalemissiven/#page=730&amp;source=3\" title=\"Show this document on Huygens\" sec=\"3 717:4\">3 717:4</a></span>  <span class=\"txtn\"><span class=\"remark\">hun </span></span><span class=\"txtn\"><span class=\"remark\">te </span></span><span class=\"txtn\"><span class=\"remark\">laten </span></span><span class=\"txtn\"><span class=\"remark\">weten, </span></span><span class=\"txtn\"><span class=\"remark\">dat </span></span><span class=\"txtn\"><span class=\"remark\">de </span></span><span class=\"txtn\"><span class=\"remark\">vestiging </span></span><span class=\"txtn\"><span class=\"remark\">wordt </span></span><span class=\"txtn\"><span class=\"remark\">opgeheven, </span></span><span class=\"txtn\"><span class=\"remark\">indien </span></span><span class=\"txtn\"><span class=\"remark\">zij </span></span><span class=\"txtn\"><span class=\"remark\">zo </span></span><span class=\"txtn\"><span class=\"remark\">voortgaan</span></span></div>"
      ],
      "text/plain": [
       "<IPython.core.display.HTML object>"
      ]
     },
     "metadata": {},
     "output_type": "display_data"
    },
    {
     "data": {
      "text/html": [
       "<div class=\"\"><span class=\"tfsechead \"><a target=\"_blank\" href=\"http://resources.huygens.knaw.nl/retroboeken/generalemissiven/#page=730&amp;source=3\" title=\"Show this document on Huygens\" sec=\"3 717:5\">3 717:5</a></span>  </div>"
      ],
      "text/plain": [
       "<IPython.core.display.HTML object>"
      ]
     },
     "metadata": {},
     "output_type": "display_data"
    },
    {
     "data": {
      "text/html": [
       "<div class=\"\"><span class=\"tfsechead \"><a target=\"_blank\" href=\"http://resources.huygens.knaw.nl/retroboeken/generalemissiven/#page=730&amp;source=3\" title=\"Show this document on Huygens\" sec=\"3 717:6\">3 717:6</a></span>  </div>"
      ],
      "text/plain": [
       "<IPython.core.display.HTML object>"
      ]
     },
     "metadata": {},
     "output_type": "display_data"
    },
    {
     "data": {
      "text/html": [
       "<div class=\"\"><span class=\"tfsechead \"><a target=\"_blank\" href=\"http://resources.huygens.knaw.nl/retroboeken/generalemissiven/#page=730&amp;source=3\" title=\"Show this document on Huygens\" sec=\"3 717:7\">3 717:7</a></span>  </div>"
      ],
      "text/plain": [
       "<IPython.core.display.HTML object>"
      ]
     },
     "metadata": {},
     "output_type": "display_data"
    },
    {
     "data": {
      "text/html": [
       "<div class=\"\"><span class=\"tfsechead \"><a target=\"_blank\" href=\"http://resources.huygens.knaw.nl/retroboeken/generalemissiven/#page=730&amp;source=3\" title=\"Show this document on Huygens\" sec=\"3 717:8\">3 717:8</a></span>  </div>"
      ],
      "text/plain": [
       "<IPython.core.display.HTML object>"
      ]
     },
     "metadata": {},
     "output_type": "display_data"
    },
    {
     "data": {
      "text/html": [
       "<div class=\"\"><span class=\"tfsechead \"><a target=\"_blank\" href=\"http://resources.huygens.knaw.nl/retroboeken/generalemissiven/#page=730&amp;source=3\" title=\"Show this document on Huygens\" sec=\"3 717:9\">3 717:9</a></span>  <span class=\"txtn\"><span class=\"note\"></span></span><span class=\"txtn\"><span class=\"note\"></span></span><span class=\"txtn\"><span class=\"note\"></span></span><span class=\"txtn\"><span class=\"note\"></span></span><span class=\"txtn\"><span class=\"note\"></span></span><span class=\"txtn\"><span class=\"note\"></span></span><span class=\"txtn\"><span class=\"note\"></span></span><span class=\"txtn\"><span class=\"note\"></span></span><span class=\"txtn\"><span class=\"note\"></span></span><span class=\"txtn\"><span class=\"note\"></span></span><span class=\"txtn\"><span class=\"note\"></span></span><span class=\"txtn\"><span class=\"note\"></span></span></div>"
      ],
      "text/plain": [
       "<IPython.core.display.HTML object>"
      ]
     },
     "metadata": {},
     "output_type": "display_data"
    },
    {
     "data": {
      "text/html": [
       "<div class=\"\"><span class=\"tfsechead \"><a target=\"_blank\" href=\"http://resources.huygens.knaw.nl/retroboeken/generalemissiven/#page=730&amp;source=3\" title=\"Show this document on Huygens\" sec=\"3 717:10\">3 717:10</a></span>  <span class=\"txtn\"><span class=\"note\"></span></span><span class=\"txtn\"><span class=\"note\"></span></span><span class=\"txtn\"><span class=\"note\"></span></span><span class=\"txtn\"><span class=\"note\"></span></span><span class=\"txtn\"><span class=\"note\"></span></span><span class=\"txtn\"><span class=\"note\"></span></span><span class=\"txtn\"><span class=\"note\"></span></span><span class=\"txtn\"><span class=\"note\"></span></span><span class=\"txtn\"><span class=\"note\"></span></span><span class=\"txtn\"><span class=\"note\"></span></span><span class=\"txtn\"><span class=\"note\"></span></span><span class=\"txtn\"><span class=\"note\"></span></span><span class=\"txtn\"><span class=\"note\"></span></span><span class=\"txtn\"><span class=\"note\"></span></span></div>"
      ],
      "text/plain": [
       "<IPython.core.display.HTML object>"
      ]
     },
     "metadata": {},
     "output_type": "display_data"
    },
    {
     "data": {
      "text/html": [
       "<div class=\"\"><span class=\"tfsechead \"><a target=\"_blank\" href=\"http://resources.huygens.knaw.nl/retroboeken/generalemissiven/#page=730&amp;source=3\" title=\"Show this document on Huygens\" sec=\"3 717:11\">3 717:11</a></span>  <span class=\"txtn\"><span class=\"note\"></span></span><span class=\"txtn\"><span class=\"note\"></span></span><span class=\"txtn\"><span class=\"note\"></span></span><span class=\"txtn\"><span class=\"note\"></span></span><span class=\"txtn\"><span class=\"note\"></span></span><span class=\"txtn\"><span class=\"note\"></span></span><span class=\"txtn\"><span class=\"note\"></span></span><span class=\"txtn\"><span class=\"note\"></span></span></div>"
      ],
      "text/plain": [
       "<IPython.core.display.HTML object>"
      ]
     },
     "metadata": {},
     "output_type": "display_data"
    },
    {
     "data": {
      "text/html": [
       "<div class=\"\"><span class=\"tfsechead \"><a target=\"_blank\" href=\"http://resources.huygens.knaw.nl/retroboeken/generalemissiven/#page=730&amp;source=3\" title=\"Show this document on Huygens\" sec=\"3 717:12\">3 717:12</a></span>  </div>"
      ],
      "text/plain": [
       "<IPython.core.display.HTML object>"
      ]
     },
     "metadata": {},
     "output_type": "display_data"
    },
    {
     "data": {
      "text/html": [
       "<div class=\"\"><span class=\"tfsechead \"><a target=\"_blank\" href=\"http://resources.huygens.knaw.nl/retroboeken/generalemissiven/#page=730&amp;source=3\" title=\"Show this document on Huygens\" sec=\"3 717:13\">3 717:13</a></span>  </div>"
      ],
      "text/plain": [
       "<IPython.core.display.HTML object>"
      ]
     },
     "metadata": {},
     "output_type": "display_data"
    },
    {
     "data": {
      "text/html": [
       "<div class=\"\"><span class=\"tfsechead \"><a target=\"_blank\" href=\"http://resources.huygens.knaw.nl/retroboeken/generalemissiven/#page=730&amp;source=3\" title=\"Show this document on Huygens\" sec=\"3 717:14\">3 717:14</a></span>  </div>"
      ],
      "text/plain": [
       "<IPython.core.display.HTML object>"
      ]
     },
     "metadata": {},
     "output_type": "display_data"
    },
    {
     "data": {
      "text/html": [
       "<div class=\"\"><span class=\"tfsechead \"><a target=\"_blank\" href=\"http://resources.huygens.knaw.nl/retroboeken/generalemissiven/#page=730&amp;source=3\" title=\"Show this document on Huygens\" sec=\"3 717:15\">3 717:15</a></span>  </div>"
      ],
      "text/plain": [
       "<IPython.core.display.HTML object>"
      ]
     },
     "metadata": {},
     "output_type": "display_data"
    },
    {
     "data": {
      "text/html": [
       "<div class=\"\"><span class=\"tfsechead \"><a target=\"_blank\" href=\"http://resources.huygens.knaw.nl/retroboeken/generalemissiven/#page=730&amp;source=3\" title=\"Show this document on Huygens\" sec=\"3 717:16\">3 717:16</a></span>  </div>"
      ],
      "text/plain": [
       "<IPython.core.display.HTML object>"
      ]
     },
     "metadata": {},
     "output_type": "display_data"
    },
    {
     "data": {
      "text/html": [
       "<div class=\"\"><span class=\"tfsechead \"><a target=\"_blank\" href=\"http://resources.huygens.knaw.nl/retroboeken/generalemissiven/#page=730&amp;source=3\" title=\"Show this document on Huygens\" sec=\"3 717:17\">3 717:17</a></span>  <span class=\"txtn\"><span class=\"remark\">De </span></span><span class=\"txtn\"><span class=\"remark\">Arabieren </span></span><span class=\"txtn\"><span class=\"remark\">van </span></span><span class=\"txtn\"><span class=\"remark\">Mascate </span></span><span class=\"txtn\"><span class=\"remark\">namen </span></span><span class=\"txtn\"><span class=\"remark\">vier </span></span><span class=\"txtn\"><span class=\"remark\">van </span></span><span class=\"txtn\"><span class=\"remark\">hun </span></span><span class=\"txtn\"><span class=\"remark\">schapen </span></span><span class=\"txtn\"><span class=\"remark\">voor </span></span><span class=\"txtn\"><span class=\"remark\">Mokka; </span></span><span class=\"txtn\"><span class=\"remark\">in </span></span><span class=\"txtn\"><span class=\"remark\">Ispahan</span></span></div>"
      ],
      "text/plain": [
       "<IPython.core.display.HTML object>"
      ]
     },
     "metadata": {},
     "output_type": "display_data"
    },
    {
     "data": {
      "text/html": [
       "<div class=\"\"><span class=\"tfsechead \"><a target=\"_blank\" href=\"http://resources.huygens.knaw.nl/retroboeken/generalemissiven/#page=730&amp;source=3\" title=\"Show this document on Huygens\" sec=\"3 717:18\">3 717:18</a></span>  <span class=\"txtn\"><span class=\"remark\">moest </span></span><span class=\"txtn\"><span class=\"remark\">men </span></span><span class=\"txtn\"><span class=\"remark\">behalve </span></span><span class=\"txtn\"><span class=\"remark\">41 </span></span><span class=\"txtn\"><span class=\"remark\">carga </span></span><span class=\"txtn\"><span class=\"remark\">zijde, </span></span><span class=\"txtn\"><span class=\"remark\">die </span></span><span class=\"txtn\"><span class=\"remark\">reeds </span></span><span class=\"txtn\"><span class=\"remark\">vroeger </span></span><span class=\"txtn\"><span class=\"remark\">waren </span></span><span class=\"txtn\"><span class=\"remark\">geleverd, </span></span><span class=\"txtn\"><span class=\"remark\">nog </span></span><span class=\"txtn\"><span class=\"remark\">167 </span></span><span class=\"txtn\"><span class=\"remark\">afnemen,</span></span></div>"
      ],
      "text/plain": [
       "<IPython.core.display.HTML object>"
      ]
     },
     "metadata": {},
     "output_type": "display_data"
    },
    {
     "data": {
      "text/html": [
       "<div class=\"\"><span class=\"tfsechead \"><a target=\"_blank\" href=\"http://resources.huygens.knaw.nl/retroboeken/generalemissiven/#page=730&amp;source=3\" title=\"Show this document on Huygens\" sec=\"3 717:19\">3 717:19</a></span>  <span class=\"txtn\"><span class=\"remark\">dus </span></span><span class=\"txtn\"><span class=\"remark\">in </span></span><span class=\"txtn\"><span class=\"remark\">totaal </span></span><span class=\"txtn\"><span class=\"remark\">niet </span></span><span class=\"txtn\"><span class=\"remark\">de </span></span><span class=\"txtn\"><span class=\"remark\">volle </span></span><span class=\"txtn\"><span class=\"remark\">300 </span></span><span class=\"txtn\"><span class=\"remark\">carga ; </span></span><span class=\"txtn\"><span class=\"remark\">vrees, </span></span><span class=\"txtn\"><span class=\"remark\">dat </span></span><span class=\"txtn\"><span class=\"remark\">die </span></span><span class=\"txtn\"><span class=\"remark\">het </span></span><span class=\"txtn\"><span class=\"remark\">volgende </span></span><span class=\"txtn\"><span class=\"remark\">jaar </span></span><span class=\"txtn\"><span class=\"remark\">moeten</span></span></div>"
      ],
      "text/plain": [
       "<IPython.core.display.HTML object>"
      ]
     },
     "metadata": {},
     "output_type": "display_data"
    },
    {
     "data": {
      "text/html": [
       "<div class=\"\"><span class=\"tfsechead \"><a target=\"_blank\" href=\"http://resources.huygens.knaw.nl/retroboeken/generalemissiven/#page=730&amp;source=3\" title=\"Show this document on Huygens\" sec=\"3 717:20\">3 717:20</a></span>  <span class=\"txtn\"><span class=\"remark\">worden </span></span><span class=\"txtn\"><span class=\"remark\">gekocht; </span></span><span class=\"txtn\"><span class=\"remark\">in </span></span><span class=\"txtn\"><span class=\"remark\">Gamron </span></span><span class=\"txtn\"><span class=\"remark\">blijft </span></span><span class=\"txtn\"><span class=\"remark\">veel </span></span><span class=\"txtn\"><span class=\"remark\">koopwaar </span></span><span class=\"txtn\"><span class=\"remark\">onverkocht </span></span><span class=\"txtn\"><span class=\"remark\">liggen, </span></span><span class=\"txtn\"><span class=\"remark\">zodat </span></span><span class=\"txtn\"><span class=\"remark\">geen </span></span><span class=\"txtn\"><span class=\"remark\">geld</span></span></div>"
      ],
      "text/plain": [
       "<IPython.core.display.HTML object>"
      ]
     },
     "metadata": {},
     "output_type": "display_data"
    },
    {
     "data": {
      "text/html": [
       "<div class=\"\"><span class=\"tfsechead \"><a target=\"_blank\" href=\"http://resources.huygens.knaw.nl/retroboeken/generalemissiven/#page=730&amp;source=3\" title=\"Show this document on Huygens\" sec=\"3 717:21\">3 717:21</a></span>  <span class=\"txtn\"><span class=\"remark\">naar </span></span><span class=\"txtn\"><span class=\"remark\">Ceylon </span></span><span class=\"txtn\"><span class=\"remark\">kon </span></span><span class=\"txtn\"><span class=\"remark\">worden </span></span><span class=\"txtn\"><span class=\"remark\">gezonden </span></span></div>"
      ],
      "text/plain": [
       "<IPython.core.display.HTML object>"
      ]
     },
     "metadata": {},
     "output_type": "display_data"
    },
    {
     "data": {
      "text/html": [
       "<div class=\"\"><span class=\"tfsechead \"><a target=\"_blank\" href=\"http://resources.huygens.knaw.nl/retroboeken/generalemissiven/#page=730&amp;source=3\" title=\"Show this document on Huygens\" sec=\"3 717:22\">3 717:22</a></span>  </div>"
      ],
      "text/plain": [
       "<IPython.core.display.HTML object>"
      ]
     },
     "metadata": {},
     "output_type": "display_data"
    },
    {
     "data": {
      "text/html": [
       "<div class=\"\"><span class=\"tfsechead \"><a target=\"_blank\" href=\"http://resources.huygens.knaw.nl/retroboeken/generalemissiven/#page=730&amp;source=3\" title=\"Show this document on Huygens\" sec=\"3 717:23\">3 717:23</a></span>  </div>"
      ],
      "text/plain": [
       "<IPython.core.display.HTML object>"
      ]
     },
     "metadata": {},
     "output_type": "display_data"
    },
    {
     "data": {
      "text/html": [
       "<div class=\"\"><span class=\"tfsechead \"><a target=\"_blank\" href=\"http://resources.huygens.knaw.nl/retroboeken/generalemissiven/#page=730&amp;source=3\" title=\"Show this document on Huygens\" sec=\"3 717:24\">3 717:24</a></span>  </div>"
      ],
      "text/plain": [
       "<IPython.core.display.HTML object>"
      ]
     },
     "metadata": {},
     "output_type": "display_data"
    },
    {
     "data": {
      "text/html": [
       "<div class=\"\"><span class=\"tfsechead \"><a target=\"_blank\" href=\"http://resources.huygens.knaw.nl/retroboeken/generalemissiven/#page=730&amp;source=3\" title=\"Show this document on Huygens\" sec=\"3 717:25\">3 717:25</a></span>  </div>"
      ],
      "text/plain": [
       "<IPython.core.display.HTML object>"
      ]
     },
     "metadata": {},
     "output_type": "display_data"
    },
    {
     "data": {
      "text/html": [
       "<div class=\"\"><span class=\"tfsechead \"><a target=\"_blank\" href=\"http://resources.huygens.knaw.nl/retroboeken/generalemissiven/#page=730&amp;source=3\" title=\"Show this document on Huygens\" sec=\"3 717:26\">3 717:26</a></span>  </div>"
      ],
      "text/plain": [
       "<IPython.core.display.HTML object>"
      ]
     },
     "metadata": {},
     "output_type": "display_data"
    },
    {
     "data": {
      "text/html": [
       "<div class=\"\"><span class=\"tfsechead \"><a target=\"_blank\" href=\"http://resources.huygens.knaw.nl/retroboeken/generalemissiven/#page=730&amp;source=3\" title=\"Show this document on Huygens\" sec=\"3 717:27\">3 717:27</a></span>  </div>"
      ],
      "text/plain": [
       "<IPython.core.display.HTML object>"
      ]
     },
     "metadata": {},
     "output_type": "display_data"
    },
    {
     "data": {
      "text/html": [
       "<div class=\"\"><span class=\"tfsechead \"><a target=\"_blank\" href=\"http://resources.huygens.knaw.nl/retroboeken/generalemissiven/#page=730&amp;source=3\" title=\"Show this document on Huygens\" sec=\"3 717:28\">3 717:28</a></span>  </div>"
      ],
      "text/plain": [
       "<IPython.core.display.HTML object>"
      ]
     },
     "metadata": {},
     "output_type": "display_data"
    },
    {
     "data": {
      "text/html": [
       "<div class=\"\"><span class=\"tfsechead \"><a target=\"_blank\" href=\"http://resources.huygens.knaw.nl/retroboeken/generalemissiven/#page=730&amp;source=3\" title=\"Show this document on Huygens\" sec=\"3 717:29\">3 717:29</a></span>  </div>"
      ],
      "text/plain": [
       "<IPython.core.display.HTML object>"
      ]
     },
     "metadata": {},
     "output_type": "display_data"
    },
    {
     "data": {
      "text/html": [
       "<div class=\"\"><span class=\"tfsechead \"><a target=\"_blank\" href=\"http://resources.huygens.knaw.nl/retroboeken/generalemissiven/#page=730&amp;source=3\" title=\"Show this document on Huygens\" sec=\"3 717:30\">3 717:30</a></span>  </div>"
      ],
      "text/plain": [
       "<IPython.core.display.HTML object>"
      ]
     },
     "metadata": {},
     "output_type": "display_data"
    },
    {
     "data": {
      "text/html": [
       "<div class=\"\"><span class=\"tfsechead \"><a target=\"_blank\" href=\"http://resources.huygens.knaw.nl/retroboeken/generalemissiven/#page=730&amp;source=3\" title=\"Show this document on Huygens\" sec=\"3 717:31\">3 717:31</a></span>  </div>"
      ],
      "text/plain": [
       "<IPython.core.display.HTML object>"
      ]
     },
     "metadata": {},
     "output_type": "display_data"
    },
    {
     "data": {
      "text/html": [
       "<div class=\"\"><span class=\"tfsechead \"><a target=\"_blank\" href=\"http://resources.huygens.knaw.nl/retroboeken/generalemissiven/#page=730&amp;source=3\" title=\"Show this document on Huygens\" sec=\"3 717:32\">3 717:32</a></span>  </div>"
      ],
      "text/plain": [
       "<IPython.core.display.HTML object>"
      ]
     },
     "metadata": {},
     "output_type": "display_data"
    },
    {
     "data": {
      "text/html": [
       "<div class=\"\"><span class=\"tfsechead \"><a target=\"_blank\" href=\"http://resources.huygens.knaw.nl/retroboeken/generalemissiven/#page=730&amp;source=3\" title=\"Show this document on Huygens\" sec=\"3 717:33\">3 717:33</a></span>  </div>"
      ],
      "text/plain": [
       "<IPython.core.display.HTML object>"
      ]
     },
     "metadata": {},
     "output_type": "display_data"
    },
    {
     "data": {
      "text/html": [
       "<div class=\"\"><span class=\"tfsechead \"><a target=\"_blank\" href=\"http://resources.huygens.knaw.nl/retroboeken/generalemissiven/#page=730&amp;source=3\" title=\"Show this document on Huygens\" sec=\"3 717:34\">3 717:34</a></span>  <span class=\"txtn\"><span class=\"remark\">Met </span></span><span class=\"txtn\"><span class=\"remark\">geduld </span></span><span class=\"txtn\"><span class=\"remark\">bereikt </span></span><span class=\"txtn\"><span class=\"remark\">men </span></span><span class=\"txtn\"><span class=\"remark\">in </span></span><span class=\"txtn\"><span class=\"remark\">Perzië </span></span><span class=\"txtn\"><span class=\"remark\">het </span></span><span class=\"txtn\"><span class=\"remark\">meest</span></span></div>"
      ],
      "text/plain": [
       "<IPython.core.display.HTML object>"
      ]
     },
     "metadata": {},
     "output_type": "display_data"
    },
    {
     "data": {
      "text/html": [
       "<div class=\"\"><span class=\"tfsechead \"><a target=\"_blank\" href=\"http://resources.huygens.knaw.nl/retroboeken/generalemissiven/#page=730&amp;source=3\" title=\"Show this document on Huygens\" sec=\"3 717:35\">3 717:35</a></span>  </div>"
      ],
      "text/plain": [
       "<IPython.core.display.HTML object>"
      ]
     },
     "metadata": {},
     "output_type": "display_data"
    },
    {
     "data": {
      "text/html": [
       "<div class=\"\"><span class=\"tfsechead \"><a target=\"_blank\" href=\"http://resources.huygens.knaw.nl/retroboeken/generalemissiven/#page=730&amp;source=3\" title=\"Show this document on Huygens\" sec=\"3 717:36\">3 717:36</a></span>  <span class=\"txtn\"><span class=\"note\"></span></span><span class=\"txtn\"><span class=\"note\"></span></span></div>"
      ],
      "text/plain": [
       "<IPython.core.display.HTML object>"
      ]
     },
     "metadata": {},
     "output_type": "display_data"
    },
    {
     "data": {
      "text/html": [
       "<div class=\"\"><span class=\"tfsechead \"><a target=\"_blank\" href=\"http://resources.huygens.knaw.nl/retroboeken/generalemissiven/#page=730&amp;source=3\" title=\"Show this document on Huygens\" sec=\"3 717:37\">3 717:37</a></span>  </div>"
      ],
      "text/plain": [
       "<IPython.core.display.HTML object>"
      ]
     },
     "metadata": {},
     "output_type": "display_data"
    },
    {
     "data": {
      "text/html": [
       "<div class=\"\"><span class=\"tfsechead \"><a target=\"_blank\" href=\"http://resources.huygens.knaw.nl/retroboeken/generalemissiven/#page=730&amp;source=3\" title=\"Show this document on Huygens\" sec=\"3 717:38\">3 717:38</a></span>  </div>"
      ],
      "text/plain": [
       "<IPython.core.display.HTML object>"
      ]
     },
     "metadata": {},
     "output_type": "display_data"
    },
    {
     "data": {
      "text/html": [
       "<div class=\"\"><span class=\"tfsechead \"><a target=\"_blank\" href=\"http://resources.huygens.knaw.nl/retroboeken/generalemissiven/#page=730&amp;source=3\" title=\"Show this document on Huygens\" sec=\"3 717:39\">3 717:39</a></span>  </div>"
      ],
      "text/plain": [
       "<IPython.core.display.HTML object>"
      ]
     },
     "metadata": {},
     "output_type": "display_data"
    },
    {
     "data": {
      "text/html": [
       "<div class=\"\"><span class=\"tfsechead \"><a target=\"_blank\" href=\"http://resources.huygens.knaw.nl/retroboeken/generalemissiven/#page=730&amp;source=3\" title=\"Show this document on Huygens\" sec=\"3 717:40\">3 717:40</a></span>  </div>"
      ],
      "text/plain": [
       "<IPython.core.display.HTML object>"
      ]
     },
     "metadata": {},
     "output_type": "display_data"
    },
    {
     "data": {
      "text/html": [
       "<div class=\"\"><span class=\"tfsechead \"><a target=\"_blank\" href=\"http://resources.huygens.knaw.nl/retroboeken/generalemissiven/#page=730&amp;source=3\" title=\"Show this document on Huygens\" sec=\"3 717:41\">3 717:41</a></span>  </div>"
      ],
      "text/plain": [
       "<IPython.core.display.HTML object>"
      ]
     },
     "metadata": {},
     "output_type": "display_data"
    },
    {
     "data": {
      "text/html": [
       "<div class=\"\"><span class=\"tfsechead \"><a target=\"_blank\" href=\"http://resources.huygens.knaw.nl/retroboeken/generalemissiven/#page=730&amp;source=3\" title=\"Show this document on Huygens\" sec=\"3 717:42\">3 717:42</a></span>  </div>"
      ],
      "text/plain": [
       "<IPython.core.display.HTML object>"
      ]
     },
     "metadata": {},
     "output_type": "display_data"
    },
    {
     "data": {
      "text/html": [
       "<div class=\"\"><span class=\"tfsechead \"><a target=\"_blank\" href=\"http://resources.huygens.knaw.nl/retroboeken/generalemissiven/#page=730&amp;source=3\" title=\"Show this document on Huygens\" sec=\"3 717:43\">3 717:43</a></span>  </div>"
      ],
      "text/plain": [
       "<IPython.core.display.HTML object>"
      ]
     },
     "metadata": {},
     "output_type": "display_data"
    },
    {
     "data": {
      "text/html": [
       "<div class=\"\"><span class=\"tfsechead \"><a target=\"_blank\" href=\"http://resources.huygens.knaw.nl/retroboeken/generalemissiven/#page=730&amp;source=3\" title=\"Show this document on Huygens\" sec=\"3 717:44\">3 717:44</a></span>  </div>"
      ],
      "text/plain": [
       "<IPython.core.display.HTML object>"
      ]
     },
     "metadata": {},
     "output_type": "display_data"
    }
   ],
   "source": [
    "for line in lines:\n",
    "    A.plain(line, fmt=\"layout-remarks\")"
   ]
  },
  {
   "cell_type": "markdown",
   "metadata": {},
   "source": [
    "Just the original text:"
   ]
  },
  {
   "cell_type": "code",
   "execution_count": 20,
   "metadata": {},
   "outputs": [
    {
     "data": {
      "text/html": [
       "<div class=\"\"><span class=\"tfsechead \"><a target=\"_blank\" href=\"http://resources.huygens.knaw.nl/retroboeken/generalemissiven/#page=730&amp;source=3\" title=\"Show this document on Huygens\" sec=\"3 717:1\">3 717:1</a></span>  <span class=\"txtu\"><span class=\"remark\"></span></span><span class=\"txtu\"><span class=\"remark\"></span></span><span class=\"txtu\"><span class=\"remark\"></span></span><span class=\"txtu\"><span class=\"remark\"></span></span><span class=\"txtu\"><span class=\"remark\"></span></span><span class=\"txtu\"><span class=\"remark\"></span></span><span class=\"txtu\"><span class=\"remark\"></span></span><span class=\"txtu\"><span class=\"remark\"></span></span><span class=\"txtu\"><span class=\"remark\"></span></span><span class=\"txtu\"><span class=\"remark\"></span></span><span class=\"txtu\"><span class=\"remark\"></span></span><span class=\"txtu\"><span class=\"remark\"></span></span><span class=\"txtu\"><span class=\"remark\"></span></span><span class=\"txtu\"><span class=\"remark\"></span></span><span class=\"txtu\"><span class=\"remark\"></span></span><span class=\"txtu\"><span class=\"remark\"></span></span></div>"
      ],
      "text/plain": [
       "<IPython.core.display.HTML object>"
      ]
     },
     "metadata": {},
     "output_type": "display_data"
    },
    {
     "data": {
      "text/html": [
       "<div class=\"\"><span class=\"tfsechead \"><a target=\"_blank\" href=\"http://resources.huygens.knaw.nl/retroboeken/generalemissiven/#page=730&amp;source=3\" title=\"Show this document on Huygens\" sec=\"3 717:2\">3 717:2</a></span>  <span class=\"txtu\"><span class=\"remark\"></span></span><span class=\"txtu\"><span class=\"remark\"></span></span><span class=\"txtu\"><span class=\"remark\"></span></span><span class=\"txtu\"><span class=\"remark\"></span></span><span class=\"txtu\"><span class=\"remark\"></span></span><span class=\"txtu\"><span class=\"remark\"></span></span><span class=\"txtu\"><span class=\"remark\"></span></span><span class=\"txtu\"><span class=\"remark\"></span></span><span class=\"txtu\"><span class=\"remark\"></span></span><span class=\"txtu\"><span class=\"remark\"></span></span><span class=\"txtu\"><span class=\"remark\"></span></span><span class=\"txtu\"><span class=\"remark\"></span></span></div>"
      ],
      "text/plain": [
       "<IPython.core.display.HTML object>"
      ]
     },
     "metadata": {},
     "output_type": "display_data"
    },
    {
     "data": {
      "text/html": [
       "<div class=\"\"><span class=\"tfsechead \"><a target=\"_blank\" href=\"http://resources.huygens.knaw.nl/retroboeken/generalemissiven/#page=730&amp;source=3\" title=\"Show this document on Huygens\" sec=\"3 717:3\">3 717:3</a></span>  <span class=\"txtu\"><span class=\"remark\"></span></span><span class=\"txtu\"><span class=\"remark\"></span></span><span class=\"txtu\"><span class=\"remark\"></span></span><span class=\"txtu\"><span class=\"remark\"></span></span><span class=\"txtu\"><span class=\"remark\"></span></span><span class=\"txtu\"><span class=\"remark\"></span></span><span class=\"txtu\"><span class=\"remark\"></span></span><span class=\"txtu\"><span class=\"remark\"></span></span><span class=\"txtu\"><span class=\"remark\"></span></span><span class=\"txtu\"><span class=\"remark\"></span></span><span class=\"txtu\"><span class=\"remark\"></span></span><span class=\"txtu\"><span class=\"remark\"></span></span></div>"
      ],
      "text/plain": [
       "<IPython.core.display.HTML object>"
      ]
     },
     "metadata": {},
     "output_type": "display_data"
    },
    {
     "data": {
      "text/html": [
       "<div class=\"\"><span class=\"tfsechead \"><a target=\"_blank\" href=\"http://resources.huygens.knaw.nl/retroboeken/generalemissiven/#page=730&amp;source=3\" title=\"Show this document on Huygens\" sec=\"3 717:4\">3 717:4</a></span>  <span class=\"txtu\"><span class=\"remark\"></span></span><span class=\"txtu\"><span class=\"remark\"></span></span><span class=\"txtu\"><span class=\"remark\"></span></span><span class=\"txtu\"><span class=\"remark\"></span></span><span class=\"txtu\"><span class=\"remark\"></span></span><span class=\"txtu\"><span class=\"remark\"></span></span><span class=\"txtu\"><span class=\"remark\"></span></span><span class=\"txtu\"><span class=\"remark\"></span></span><span class=\"txtu\"><span class=\"remark\"></span></span><span class=\"txtu\"><span class=\"remark\"></span></span><span class=\"txtu\"><span class=\"remark\"></span></span><span class=\"txtu\"><span class=\"remark\"></span></span><span class=\"txtu\"><span class=\"remark\"></span></span></div>"
      ],
      "text/plain": [
       "<IPython.core.display.HTML object>"
      ]
     },
     "metadata": {},
     "output_type": "display_data"
    },
    {
     "data": {
      "text/html": [
       "<div class=\"\"><span class=\"tfsechead \"><a target=\"_blank\" href=\"http://resources.huygens.knaw.nl/retroboeken/generalemissiven/#page=730&amp;source=3\" title=\"Show this document on Huygens\" sec=\"3 717:5\">3 717:5</a></span>  </div>"
      ],
      "text/plain": [
       "<IPython.core.display.HTML object>"
      ]
     },
     "metadata": {},
     "output_type": "display_data"
    },
    {
     "data": {
      "text/html": [
       "<div class=\"\"><span class=\"tfsechead \"><a target=\"_blank\" href=\"http://resources.huygens.knaw.nl/retroboeken/generalemissiven/#page=730&amp;source=3\" title=\"Show this document on Huygens\" sec=\"3 717:6\">3 717:6</a></span>  <span class=\"txtu\">Wij </span><span class=\"txtu\">twijfelen, </span><span class=\"txtu\">of </span><span class=\"txtu\">sij </span><span class=\"txtu\">sooveel </span><span class=\"txtu\">werck </span><span class=\"txtu\">al </span><span class=\"txtu\">van </span><span class=\"txtu\">ons </span><span class=\"txtu\">soude </span><span class=\"txtu\">maecken, </span><span class=\"txtu\">omdat </span><span class=\"txtu\">se </span><span class=\"txtu\">de</span></div>"
      ],
      "text/plain": [
       "<IPython.core.display.HTML object>"
      ]
     },
     "metadata": {},
     "output_type": "display_data"
    },
    {
     "data": {
      "text/html": [
       "<div class=\"\"><span class=\"tfsechead \"><a target=\"_blank\" href=\"http://resources.huygens.knaw.nl/retroboeken/generalemissiven/#page=730&amp;source=3\" title=\"Show this document on Huygens\" sec=\"3 717:7\">3 717:7</a></span>  <span class=\"txtu\">Engelsen </span><span class=\"txtu\">ende </span><span class=\"txtu\">nu </span><span class=\"txtu\">oocq </span><span class=\"txtu\">de </span><span class=\"txtu\">Francen </span><span class=\"txtu\">bij </span><span class=\"txtu\">de </span><span class=\"txtu\">wercken </span><span class=\"txtu\">hebben </span><span class=\"txtu\">ende </span><span class=\"txtu\">van </span><span class=\"txtu\">dewelcke </span><span class=\"txtu\">sij</span></div>"
      ],
      "text/plain": [
       "<IPython.core.display.HTML object>"
      ]
     },
     "metadata": {},
     "output_type": "display_data"
    },
    {
     "data": {
      "text/html": [
       "<div class=\"\"><span class=\"tfsechead \"><a target=\"_blank\" href=\"http://resources.huygens.knaw.nl/retroboeken/generalemissiven/#page=730&amp;source=3\" title=\"Show this document on Huygens\" sec=\"3 717:8\">3 717:8</a></span>  <span class=\"txtu\">dan </span><span class=\"txtu\">wellicht </span><span class=\"txtu\">te </span><span class=\"txtu\">meer </span><span class=\"txtu\">souden </span><span class=\"txtu\">worden </span><span class=\"txtu\">geflatteert </span><span class=\"txtu\">ende </span><span class=\"txtu\">wie </span><span class=\"txtu\">weet </span><span class=\"txtu\">oocq, </span><span class=\"txtu\">of </span><span class=\"txtu\">de </span><span class=\"txtu\">nieuwe</span></div>"
      ],
      "text/plain": [
       "<IPython.core.display.HTML object>"
      ]
     },
     "metadata": {},
     "output_type": "display_data"
    },
    {
     "data": {
      "text/html": [
       "<div class=\"\"><span class=\"tfsechead \"><a target=\"_blank\" href=\"http://resources.huygens.knaw.nl/retroboeken/generalemissiven/#page=730&amp;source=3\" title=\"Show this document on Huygens\" sec=\"3 717:9\">3 717:9</a></span>  <span class=\"txtu\">resident, </span><span class=\"txtu\">RomboutLefer </span><span class=\"txtu\"><span class=\"note\"></span></span><span class=\"txtu\"><span class=\"note\"></span></span><span class=\"txtu\"><span class=\"note\"></span></span><span class=\"txtu\"><span class=\"note\"></span></span><span class=\"txtu\"><span class=\"note\"></span></span><span class=\"txtu\"><span class=\"note\"></span></span><span class=\"txtu\"><span class=\"note\"></span></span><span class=\"txtu\"><span class=\"note\"></span></span><span class=\"txtu\"><span class=\"note\"></span></span><span class=\"txtu\"><span class=\"note\"></span></span><span class=\"txtu\"><span class=\"note\"></span></span><span class=\"txtu\"><span class=\"note\"></span></span></div>"
      ],
      "text/plain": [
       "<IPython.core.display.HTML object>"
      ]
     },
     "metadata": {},
     "output_type": "display_data"
    },
    {
     "data": {
      "text/html": [
       "<div class=\"\"><span class=\"tfsechead \"><a target=\"_blank\" href=\"http://resources.huygens.knaw.nl/retroboeken/generalemissiven/#page=730&amp;source=3\" title=\"Show this document on Huygens\" sec=\"3 717:10\">3 717:10</a></span>  <span class=\"txtu\"><span class=\"note\"></span></span><span class=\"txtu\"><span class=\"note\"></span></span><span class=\"txtu\"><span class=\"note\"></span></span><span class=\"txtu\"><span class=\"note\"></span></span><span class=\"txtu\"><span class=\"note\"></span></span><span class=\"txtu\"><span class=\"note\"></span></span><span class=\"txtu\"><span class=\"note\"></span></span><span class=\"txtu\"><span class=\"note\"></span></span><span class=\"txtu\"><span class=\"note\"></span></span><span class=\"txtu\"><span class=\"note\"></span></span><span class=\"txtu\"><span class=\"note\"></span></span><span class=\"txtu\"><span class=\"note\"></span></span><span class=\"txtu\"><span class=\"note\"></span></span><span class=\"txtu\"><span class=\"note\"></span></span></div>"
      ],
      "text/plain": [
       "<IPython.core.display.HTML object>"
      ]
     },
     "metadata": {},
     "output_type": "display_data"
    },
    {
     "data": {
      "text/html": [
       "<div class=\"\"><span class=\"tfsechead \"><a target=\"_blank\" href=\"http://resources.huygens.knaw.nl/retroboeken/generalemissiven/#page=730&amp;source=3\" title=\"Show this document on Huygens\" sec=\"3 717:11\">3 717:11</a></span>  <span class=\"txtu\"><span class=\"note\"></span></span><span class=\"txtu\"><span class=\"note\"></span></span><span class=\"txtu\"><span class=\"note\"></span></span><span class=\"txtu\"><span class=\"note\"></span></span><span class=\"txtu\"><span class=\"note\"></span></span><span class=\"txtu\"><span class=\"note\"></span></span><span class=\"txtu\"><span class=\"note\"></span></span><span class=\"txtu\"><span class=\"note\"></span></span></div>"
      ],
      "text/plain": [
       "<IPython.core.display.HTML object>"
      ]
     },
     "metadata": {},
     "output_type": "display_data"
    },
    {
     "data": {
      "text/html": [
       "<div class=\"\"><span class=\"tfsechead \"><a target=\"_blank\" href=\"http://resources.huygens.knaw.nl/retroboeken/generalemissiven/#page=730&amp;source=3\" title=\"Show this document on Huygens\" sec=\"3 717:12\">3 717:12</a></span>  <span class=\"txtu\">met </span><span class=\"txtu\">de </span><span class=\"txtu\">fluyt </span><span class=\"txtu\">Alfen </span><span class=\"txtu\">derwaerts </span><span class=\"txtu\">gegaen, </span><span class=\"txtu\">niet </span><span class=\"txtu\">beter </span><span class=\"txtu\">met</span></div>"
      ],
      "text/plain": [
       "<IPython.core.display.HTML object>"
      ]
     },
     "metadata": {},
     "output_type": "display_data"
    },
    {
     "data": {
      "text/html": [
       "<div class=\"\"><span class=\"tfsechead \"><a target=\"_blank\" href=\"http://resources.huygens.knaw.nl/retroboeken/generalemissiven/#page=730&amp;source=3\" title=\"Show this document on Huygens\" sec=\"3 717:13\">3 717:13</a></span>  <span class=\"txtu\">dat </span><span class=\"txtu\">volcq </span><span class=\"txtu\">sal </span><span class=\"txtu\">weten </span><span class=\"txtu\">om </span><span class=\"txtu\">te </span><span class=\"txtu\">gaen. </span></div>"
      ],
      "text/plain": [
       "<IPython.core.display.HTML object>"
      ]
     },
     "metadata": {},
     "output_type": "display_data"
    },
    {
     "data": {
      "text/html": [
       "<div class=\"\"><span class=\"tfsechead \"><a target=\"_blank\" href=\"http://resources.huygens.knaw.nl/retroboeken/generalemissiven/#page=730&amp;source=3\" title=\"Show this document on Huygens\" sec=\"3 717:14\">3 717:14</a></span>  <span class=\"txtu\">Mette </span><span class=\"txtu\">Portugesen </span><span class=\"txtu\">in </span><span class=\"txtu\">Goa </span><span class=\"txtu\">stonden </span><span class=\"txtu\">de </span><span class=\"txtu\">saecken </span><span class=\"txtu\">geheel </span><span class=\"txtu\">slecht, </span><span class=\"txtu\">wordende </span><span class=\"txtu\">van </span><span class=\"txtu\">de</span></div>"
      ],
      "text/plain": [
       "<IPython.core.display.HTML object>"
      ]
     },
     "metadata": {},
     "output_type": "display_data"
    },
    {
     "data": {
      "text/html": [
       "<div class=\"\"><span class=\"tfsechead \"><a target=\"_blank\" href=\"http://resources.huygens.knaw.nl/retroboeken/generalemissiven/#page=730&amp;source=3\" title=\"Show this document on Huygens\" sec=\"3 717:15\">3 717:15</a></span>  <span class=\"txtu\">Arabieren </span><span class=\"txtu\">genoeghsaem </span><span class=\"txtu\">als </span><span class=\"txtu\">gebra </span><span class=\"txtu\">veert, </span><span class=\"txtu\">sonderdat </span><span class=\"txtu\">se </span><span class=\"txtu\">macht </span><span class=\"txtu\">hebben </span><span class=\"txtu\">haer </span><span class=\"txtu\">het </span><span class=\"txtu\">hooft</span></div>"
      ],
      "text/plain": [
       "<IPython.core.display.HTML object>"
      ]
     },
     "metadata": {},
     "output_type": "display_data"
    },
    {
     "data": {
      "text/html": [
       "<div class=\"\"><span class=\"tfsechead \"><a target=\"_blank\" href=\"http://resources.huygens.knaw.nl/retroboeken/generalemissiven/#page=730&amp;source=3\" title=\"Show this document on Huygens\" sec=\"3 717:16\">3 717:16</a></span>  <span class=\"txtu\">te </span><span class=\"txtu\">bieden. </span></div>"
      ],
      "text/plain": [
       "<IPython.core.display.HTML object>"
      ]
     },
     "metadata": {},
     "output_type": "display_data"
    },
    {
     "data": {
      "text/html": [
       "<div class=\"\"><span class=\"tfsechead \"><a target=\"_blank\" href=\"http://resources.huygens.knaw.nl/retroboeken/generalemissiven/#page=730&amp;source=3\" title=\"Show this document on Huygens\" sec=\"3 717:17\">3 717:17</a></span>  <span class=\"txtu\"><span class=\"remark\"></span></span><span class=\"txtu\"><span class=\"remark\"></span></span><span class=\"txtu\"><span class=\"remark\"></span></span><span class=\"txtu\"><span class=\"remark\"></span></span><span class=\"txtu\"><span class=\"remark\"></span></span><span class=\"txtu\"><span class=\"remark\"></span></span><span class=\"txtu\"><span class=\"remark\"></span></span><span class=\"txtu\"><span class=\"remark\"></span></span><span class=\"txtu\"><span class=\"remark\"></span></span><span class=\"txtu\"><span class=\"remark\"></span></span><span class=\"txtu\"><span class=\"remark\"></span></span><span class=\"txtu\"><span class=\"remark\"></span></span><span class=\"txtu\"><span class=\"remark\"></span></span></div>"
      ],
      "text/plain": [
       "<IPython.core.display.HTML object>"
      ]
     },
     "metadata": {},
     "output_type": "display_data"
    },
    {
     "data": {
      "text/html": [
       "<div class=\"\"><span class=\"tfsechead \"><a target=\"_blank\" href=\"http://resources.huygens.knaw.nl/retroboeken/generalemissiven/#page=730&amp;source=3\" title=\"Show this document on Huygens\" sec=\"3 717:18\">3 717:18</a></span>  <span class=\"txtu\"><span class=\"remark\"></span></span><span class=\"txtu\"><span class=\"remark\"></span></span><span class=\"txtu\"><span class=\"remark\"></span></span><span class=\"txtu\"><span class=\"remark\"></span></span><span class=\"txtu\"><span class=\"remark\"></span></span><span class=\"txtu\"><span class=\"remark\"></span></span><span class=\"txtu\"><span class=\"remark\"></span></span><span class=\"txtu\"><span class=\"remark\"></span></span><span class=\"txtu\"><span class=\"remark\"></span></span><span class=\"txtu\"><span class=\"remark\"></span></span><span class=\"txtu\"><span class=\"remark\"></span></span><span class=\"txtu\"><span class=\"remark\"></span></span><span class=\"txtu\"><span class=\"remark\"></span></span><span class=\"txtu\"><span class=\"remark\"></span></span></div>"
      ],
      "text/plain": [
       "<IPython.core.display.HTML object>"
      ]
     },
     "metadata": {},
     "output_type": "display_data"
    },
    {
     "data": {
      "text/html": [
       "<div class=\"\"><span class=\"tfsechead \"><a target=\"_blank\" href=\"http://resources.huygens.knaw.nl/retroboeken/generalemissiven/#page=730&amp;source=3\" title=\"Show this document on Huygens\" sec=\"3 717:19\">3 717:19</a></span>  <span class=\"txtu\"><span class=\"remark\"></span></span><span class=\"txtu\"><span class=\"remark\"></span></span><span class=\"txtu\"><span class=\"remark\"></span></span><span class=\"txtu\"><span class=\"remark\"></span></span><span class=\"txtu\"><span class=\"remark\"></span></span><span class=\"txtu\"><span class=\"remark\"></span></span><span class=\"txtu\"><span class=\"remark\"></span></span><span class=\"txtu\"><span class=\"remark\"></span></span><span class=\"txtu\"><span class=\"remark\"></span></span><span class=\"txtu\"><span class=\"remark\"></span></span><span class=\"txtu\"><span class=\"remark\"></span></span><span class=\"txtu\"><span class=\"remark\"></span></span><span class=\"txtu\"><span class=\"remark\"></span></span><span class=\"txtu\"><span class=\"remark\"></span></span><span class=\"txtu\"><span class=\"remark\"></span></span></div>"
      ],
      "text/plain": [
       "<IPython.core.display.HTML object>"
      ]
     },
     "metadata": {},
     "output_type": "display_data"
    },
    {
     "data": {
      "text/html": [
       "<div class=\"\"><span class=\"tfsechead \"><a target=\"_blank\" href=\"http://resources.huygens.knaw.nl/retroboeken/generalemissiven/#page=730&amp;source=3\" title=\"Show this document on Huygens\" sec=\"3 717:20\">3 717:20</a></span>  <span class=\"txtu\"><span class=\"remark\"></span></span><span class=\"txtu\"><span class=\"remark\"></span></span><span class=\"txtu\"><span class=\"remark\"></span></span><span class=\"txtu\"><span class=\"remark\"></span></span><span class=\"txtu\"><span class=\"remark\"></span></span><span class=\"txtu\"><span class=\"remark\"></span></span><span class=\"txtu\"><span class=\"remark\"></span></span><span class=\"txtu\"><span class=\"remark\"></span></span><span class=\"txtu\"><span class=\"remark\"></span></span><span class=\"txtu\"><span class=\"remark\"></span></span><span class=\"txtu\"><span class=\"remark\"></span></span><span class=\"txtu\"><span class=\"remark\"></span></span></div>"
      ],
      "text/plain": [
       "<IPython.core.display.HTML object>"
      ]
     },
     "metadata": {},
     "output_type": "display_data"
    },
    {
     "data": {
      "text/html": [
       "<div class=\"\"><span class=\"tfsechead \"><a target=\"_blank\" href=\"http://resources.huygens.knaw.nl/retroboeken/generalemissiven/#page=730&amp;source=3\" title=\"Show this document on Huygens\" sec=\"3 717:21\">3 717:21</a></span>  <span class=\"txtu\"><span class=\"remark\"></span></span><span class=\"txtu\"><span class=\"remark\"></span></span><span class=\"txtu\"><span class=\"remark\"></span></span><span class=\"txtu\"><span class=\"remark\"></span></span><span class=\"txtu\"><span class=\"remark\"></span></span></div>"
      ],
      "text/plain": [
       "<IPython.core.display.HTML object>"
      ]
     },
     "metadata": {},
     "output_type": "display_data"
    },
    {
     "data": {
      "text/html": [
       "<div class=\"\"><span class=\"tfsechead \"><a target=\"_blank\" href=\"http://resources.huygens.knaw.nl/retroboeken/generalemissiven/#page=730&amp;source=3\" title=\"Show this document on Huygens\" sec=\"3 717:22\">3 717:22</a></span>  </div>"
      ],
      "text/plain": [
       "<IPython.core.display.HTML object>"
      ]
     },
     "metadata": {},
     "output_type": "display_data"
    },
    {
     "data": {
      "text/html": [
       "<div class=\"\"><span class=\"tfsechead \"><a target=\"_blank\" href=\"http://resources.huygens.knaw.nl/retroboeken/generalemissiven/#page=730&amp;source=3\" title=\"Show this document on Huygens\" sec=\"3 717:23\">3 717:23</a></span>  <span class=\"txtu\">Nae </span><span class=\"txtu\">gedane </span><span class=\"txtu\">doleantie </span><span class=\"txtu\">aen </span><span class=\"txtu\">den </span><span class=\"txtu\">Co. </span><span class=\"txtu\">en </span><span class=\"txtu\">vertrouwer </span><span class=\"txtu\">des </span><span class=\"txtu\">rij </span><span class=\"txtu\">ex </span><span class=\"txtu\">van </span><span class=\"txtu\">Persien </span><span class=\"txtu\">over</span></div>"
      ],
      "text/plain": [
       "<IPython.core.display.HTML object>"
      ]
     },
     "metadata": {},
     "output_type": "display_data"
    },
    {
     "data": {
      "text/html": [
       "<div class=\"\"><span class=\"tfsechead \"><a target=\"_blank\" href=\"http://resources.huygens.knaw.nl/retroboeken/generalemissiven/#page=730&amp;source=3\" title=\"Show this document on Huygens\" sec=\"3 717:24\">3 717:24</a></span>  <span class=\"txtu\">het </span><span class=\"txtu\">enorme </span><span class=\"txtu\">geweldt, </span><span class=\"txtu\">den </span><span class=\"txtu\">directeur </span><span class=\"txtu\">Goske </span><span class=\"txtu\">in </span><span class=\"txtu\">Gamron </span><span class=\"txtu\">door </span><span class=\"txtu\">den </span><span class=\"txtu\">overleden </span><span class=\"txtu\">gouvr.</span></div>"
      ],
      "text/plain": [
       "<IPython.core.display.HTML object>"
      ]
     },
     "metadata": {},
     "output_type": "display_data"
    },
    {
     "data": {
      "text/html": [
       "<div class=\"\"><span class=\"tfsechead \"><a target=\"_blank\" href=\"http://resources.huygens.knaw.nl/retroboeken/generalemissiven/#page=730&amp;source=3\" title=\"Show this document on Huygens\" sec=\"3 717:25\">3 717:25</a></span>  <span class=\"txtu\">Mierab </span><span class=\"txtu\">Chan </span><span class=\"txtu\">in </span><span class=\"txtu\">diverse </span><span class=\"txtu\">gelegentheden </span><span class=\"txtu\">aengedaen, </span><span class=\"txtu\">mitsgaders </span><span class=\"txtu\">het </span><span class=\"txtu\">gedreyghde</span></div>"
      ],
      "text/plain": [
       "<IPython.core.display.HTML object>"
      ]
     },
     "metadata": {},
     "output_type": "display_data"
    },
    {
     "data": {
      "text/html": [
       "<div class=\"\"><span class=\"tfsechead \"><a target=\"_blank\" href=\"http://resources.huygens.knaw.nl/retroboeken/generalemissiven/#page=730&amp;source=3\" title=\"Show this document on Huygens\" sec=\"3 717:26\">3 717:26</a></span>  <span class=\"txtu\">quaet </span><span class=\"txtu\">tractement, </span><span class=\"txtu\">twelck </span><span class=\"txtu\">sijnen </span><span class=\"txtu\">successeur </span><span class=\"txtu\">Mantusa </span><span class=\"txtu\">Coulichan </span><span class=\"txtu\">sigh </span><span class=\"txtu\">heeft </span><span class=\"txtu\">gevanteert</span></div>"
      ],
      "text/plain": [
       "<IPython.core.display.HTML object>"
      ]
     },
     "metadata": {},
     "output_type": "display_data"
    },
    {
     "data": {
      "text/html": [
       "<div class=\"\"><span class=\"tfsechead \"><a target=\"_blank\" href=\"http://resources.huygens.knaw.nl/retroboeken/generalemissiven/#page=730&amp;source=3\" title=\"Show this document on Huygens\" sec=\"3 717:27\">3 717:27</a></span>  <span class=\"txtu\">de </span><span class=\"txtu\">onse </span><span class=\"txtu\">te </span><span class=\"txtu\">sullen </span><span class=\"txtu\">aendoen, </span><span class=\"txtu\">is </span><span class=\"txtu\">sooveel </span><span class=\"txtu\">gehoor </span><span class=\"txtu\">aen </span><span class=\"txtu\">’t </span><span class=\"txtu\">hoff </span><span class=\"txtu\">vercregen, </span><span class=\"txtu\">dat </span><span class=\"txtu\">d’Ma.</span><span class=\"txtu\">1</span></div>"
      ],
      "text/plain": [
       "<IPython.core.display.HTML object>"
      ]
     },
     "metadata": {},
     "output_type": "display_data"
    },
    {
     "data": {
      "text/html": [
       "<div class=\"\"><span class=\"tfsechead \"><a target=\"_blank\" href=\"http://resources.huygens.knaw.nl/retroboeken/generalemissiven/#page=730&amp;source=3\" title=\"Show this document on Huygens\" sec=\"3 717:28\">3 717:28</a></span>  <span class=\"txtu\">bij </span><span class=\"txtu\">een </span><span class=\"txtu\">expres </span><span class=\"txtu\">firman </span><span class=\"txtu\">den </span><span class=\"txtu\">jegenwoordigen </span><span class=\"txtu\">gouvem.</span><span class=\"txtu\">r </span><span class=\"txtu\">van </span><span class=\"txtu\">Gamron </span><span class=\"txtu\">gelast </span><span class=\"txtu\">heeft </span><span class=\"txtu\">hem</span></div>"
      ],
      "text/plain": [
       "<IPython.core.display.HTML object>"
      ]
     },
     "metadata": {},
     "output_type": "display_data"
    },
    {
     "data": {
      "text/html": [
       "<div class=\"\"><span class=\"tfsechead \"><a target=\"_blank\" href=\"http://resources.huygens.knaw.nl/retroboeken/generalemissiven/#page=730&amp;source=3\" title=\"Show this document on Huygens\" sec=\"3 717:29\">3 717:29</a></span>  <span class=\"txtu\">ontren </span><span class=\"txtu\">de </span><span class=\"txtu\">heeren </span><span class=\"txtu\">directeurs </span><span class=\"txtu\">successive </span><span class=\"txtu\">soodanigh </span><span class=\"txtu\">te </span><span class=\"txtu\">comporteren </span><span class=\"txtu\">en </span><span class=\"txtu\">deselve </span><span class=\"txtu\">in</span></div>"
      ],
      "text/plain": [
       "<IPython.core.display.HTML object>"
      ]
     },
     "metadata": {},
     "output_type": "display_data"
    },
    {
     "data": {
      "text/html": [
       "<div class=\"\"><span class=\"tfsechead \"><a target=\"_blank\" href=\"http://resources.huygens.knaw.nl/retroboeken/generalemissiven/#page=730&amp;source=3\" title=\"Show this document on Huygens\" sec=\"3 717:30\">3 717:30</a></span>  <span class=\"txtu\">dier </span><span class=\"txtu\">vougen </span><span class=\"txtu\">te </span><span class=\"txtu\">respecteren, </span><span class=\"txtu\">als </span><span class=\"txtu\">de </span><span class=\"txtu\">overleden </span><span class=\"txtu\">Coningen </span><span class=\"txtu\">Abas </span><span class=\"txtu\">de </span><span class=\"txtu\">Groote, </span><span class=\"txtu\">Safie</span></div>"
      ],
      "text/plain": [
       "<IPython.core.display.HTML object>"
      ]
     },
     "metadata": {},
     "output_type": "display_data"
    },
    {
     "data": {
      "text/html": [
       "<div class=\"\"><span class=\"tfsechead \"><a target=\"_blank\" href=\"http://resources.huygens.knaw.nl/retroboeken/generalemissiven/#page=730&amp;source=3\" title=\"Show this document on Huygens\" sec=\"3 717:31\">3 717:31</a></span>  <span class=\"txtu\">d’Eerste </span><span class=\"txtu\">en </span><span class=\"txtu\">Abas </span><span class=\"txtu\">de </span><span class=\"txtu\">Tweede, </span><span class=\"txtu\">bij </span><span class=\"txtu\">bevelschriften </span><span class=\"txtu\">aen </span><span class=\"txtu\">d’Ed. </span><span class=\"txtu\">Compagnie </span><span class=\"txtu\">van </span><span class=\"txtu\">tijt </span><span class=\"txtu\">tot</span></div>"
      ],
      "text/plain": [
       "<IPython.core.display.HTML object>"
      ]
     },
     "metadata": {},
     "output_type": "display_data"
    },
    {
     "data": {
      "text/html": [
       "<div class=\"\"><span class=\"tfsechead \"><a target=\"_blank\" href=\"http://resources.huygens.knaw.nl/retroboeken/generalemissiven/#page=730&amp;source=3\" title=\"Show this document on Huygens\" sec=\"3 717:32\">3 717:32</a></span>  <span class=\"txtu\">tijt </span><span class=\"txtu\">verleendt, </span><span class=\"txtu\">hebben </span><span class=\"txtu\">geordonneert, </span><span class=\"txtu\">dat </span><span class=\"txtu\">van </span><span class=\"txtu\">een </span><span class=\"txtu\">geheel </span><span class=\"txtu\">anderen </span><span class=\"txtu\">thoon </span><span class=\"txtu\">sij </span><span class=\"txtu\">als </span><span class=\"txtu\">de</span></div>"
      ],
      "text/plain": [
       "<IPython.core.display.HTML object>"
      ]
     },
     "metadata": {},
     "output_type": "display_data"
    },
    {
     "data": {
      "text/html": [
       "<div class=\"\"><span class=\"tfsechead \"><a target=\"_blank\" href=\"http://resources.huygens.knaw.nl/retroboeken/generalemissiven/#page=730&amp;source=3\" title=\"Show this document on Huygens\" sec=\"3 717:33\">3 717:33</a></span>  <span class=\"txtu\">voorgaende </span><span class=\"txtu\">firmans. </span></div>"
      ],
      "text/plain": [
       "<IPython.core.display.HTML object>"
      ]
     },
     "metadata": {},
     "output_type": "display_data"
    },
    {
     "data": {
      "text/html": [
       "<div class=\"\"><span class=\"tfsechead \"><a target=\"_blank\" href=\"http://resources.huygens.knaw.nl/retroboeken/generalemissiven/#page=730&amp;source=3\" title=\"Show this document on Huygens\" sec=\"3 717:34\">3 717:34</a></span>  <span class=\"txtu\"><span class=\"remark\"></span></span><span class=\"txtu\"><span class=\"remark\"></span></span><span class=\"txtu\"><span class=\"remark\"></span></span><span class=\"txtu\"><span class=\"remark\"></span></span><span class=\"txtu\"><span class=\"remark\"></span></span><span class=\"txtu\"><span class=\"remark\"></span></span><span class=\"txtu\"><span class=\"remark\"></span></span><span class=\"txtu\"><span class=\"remark\"></span></span></div>"
      ],
      "text/plain": [
       "<IPython.core.display.HTML object>"
      ]
     },
     "metadata": {},
     "output_type": "display_data"
    },
    {
     "data": {
      "text/html": [
       "<div class=\"\"><span class=\"tfsechead \"><a target=\"_blank\" href=\"http://resources.huygens.knaw.nl/retroboeken/generalemissiven/#page=730&amp;source=3\" title=\"Show this document on Huygens\" sec=\"3 717:35\">3 717:35</a></span>  </div>"
      ],
      "text/plain": [
       "<IPython.core.display.HTML object>"
      ]
     },
     "metadata": {},
     "output_type": "display_data"
    },
    {
     "data": {
      "text/html": [
       "<div class=\"\"><span class=\"tfsechead \"><a target=\"_blank\" href=\"http://resources.huygens.knaw.nl/retroboeken/generalemissiven/#page=730&amp;source=3\" title=\"Show this document on Huygens\" sec=\"3 717:36\">3 717:36</a></span>  <span class=\"txtu\">Seecker </span><span class=\"txtu\">constapelsmaet, </span><span class=\"txtu\"><span class=\"note\"></span></span><span class=\"txtu\"><span class=\"note\"></span></span></div>"
      ],
      "text/plain": [
       "<IPython.core.display.HTML object>"
      ]
     },
     "metadata": {},
     "output_type": "display_data"
    },
    {
     "data": {
      "text/html": [
       "<div class=\"\"><span class=\"tfsechead \"><a target=\"_blank\" href=\"http://resources.huygens.knaw.nl/retroboeken/generalemissiven/#page=730&amp;source=3\" title=\"Show this document on Huygens\" sec=\"3 717:37\">3 717:37</a></span>  <span class=\"txtu\">namen </span><span class=\"txtu\">Jacob </span><span class=\"txtu\">Arriva </span><span class=\"txtu\">van </span><span class=\"txtu\">St. </span><span class=\"txtu\">Cruis, </span><span class=\"txtu\">voor </span><span class=\"txtu\">dato</span></div>"
      ],
      "text/plain": [
       "<IPython.core.display.HTML object>"
      ]
     },
     "metadata": {},
     "output_type": "display_data"
    },
    {
     "data": {
      "text/html": [
       "<div class=\"\"><span class=\"tfsechead \"><a target=\"_blank\" href=\"http://resources.huygens.knaw.nl/retroboeken/generalemissiven/#page=730&amp;source=3\" title=\"Show this document on Huygens\" sec=\"3 717:38\">3 717:38</a></span>  <span class=\"txtu\">van </span><span class=\"txtu\">’t </span><span class=\"txtu\">jacht </span><span class=\"txtu\">de </span><span class=\"txtu\">Pauw </span><span class=\"txtu\">weghgelopen </span><span class=\"txtu\">en </span><span class=\"txtu\">door </span><span class=\"txtu\">de </span><span class=\"txtu\">Ma.</span><span class=\"txtu\">4 </span><span class=\"txtu\">om </span><span class=\"txtu\">desselfs </span><span class=\"txtu\">const </span><span class=\"txtu\">in </span><span class=\"txtu\">dienst</span></div>"
      ],
      "text/plain": [
       "<IPython.core.display.HTML object>"
      ]
     },
     "metadata": {},
     "output_type": "display_data"
    },
    {
     "data": {
      "text/html": [
       "<div class=\"\"><span class=\"tfsechead \"><a target=\"_blank\" href=\"http://resources.huygens.knaw.nl/retroboeken/generalemissiven/#page=730&amp;source=3\" title=\"Show this document on Huygens\" sec=\"3 717:39\">3 717:39</a></span>  <span class=\"txtu\">genomen, </span><span class=\"txtu\">is </span><span class=\"txtu\">op </span><span class=\"txtu\">de </span><span class=\"txtu\">reclamatie </span><span class=\"txtu\">van </span><span class=\"txtu\">de </span><span class=\"txtu\">residenten </span><span class=\"txtu\">in </span><span class=\"txtu\">Spahan </span><span class=\"txtu\">door </span><span class=\"txtu\">den </span><span class=\"txtu\">Co. </span><span class=\"txtu\">gelargeert</span></div>"
      ],
      "text/plain": [
       "<IPython.core.display.HTML object>"
      ]
     },
     "metadata": {},
     "output_type": "display_data"
    },
    {
     "data": {
      "text/html": [
       "<div class=\"\"><span class=\"tfsechead \"><a target=\"_blank\" href=\"http://resources.huygens.knaw.nl/retroboeken/generalemissiven/#page=730&amp;source=3\" title=\"Show this document on Huygens\" sec=\"3 717:40\">3 717:40</a></span>  <span class=\"txtu\">en </span><span class=\"txtu\">weder </span><span class=\"txtu\">in </span><span class=\"txtu\">onse </span><span class=\"txtu\">handen </span><span class=\"txtu\">gestelt, </span><span class=\"txtu\">dat </span><span class=\"txtu\">al </span><span class=\"txtu\">gemackelijcker </span><span class=\"txtu\">toegegaen </span><span class=\"txtu\">is, </span><span class=\"txtu\">als </span><span class=\"txtu\">men </span><span class=\"txtu\">te</span></div>"
      ],
      "text/plain": [
       "<IPython.core.display.HTML object>"
      ]
     },
     "metadata": {},
     "output_type": "display_data"
    },
    {
     "data": {
      "text/html": [
       "<div class=\"\"><span class=\"tfsechead \"><a target=\"_blank\" href=\"http://resources.huygens.knaw.nl/retroboeken/generalemissiven/#page=730&amp;source=3\" title=\"Show this document on Huygens\" sec=\"3 717:41\">3 717:41</a></span>  <span class=\"txtu\">vooren </span><span class=\"txtu\">wel </span><span class=\"txtu\">heeft </span><span class=\"txtu\">gedaght; </span><span class=\"txtu\">een </span><span class=\"txtu\">teecken </span><span class=\"txtu\">Comp.</span><span class=\"txtu\">8 </span><span class=\"txtu\">saken </span><span class=\"txtu\">ten </span><span class=\"txtu\">hove </span><span class=\"txtu\">nochall </span><span class=\"txtu\">in </span><span class=\"txtu\">redelijcke</span></div>"
      ],
      "text/plain": [
       "<IPython.core.display.HTML object>"
      ]
     },
     "metadata": {},
     "output_type": "display_data"
    },
    {
     "data": {
      "text/html": [
       "<div class=\"\"><span class=\"tfsechead \"><a target=\"_blank\" href=\"http://resources.huygens.knaw.nl/retroboeken/generalemissiven/#page=730&amp;source=3\" title=\"Show this document on Huygens\" sec=\"3 717:42\">3 717:42</a></span>  <span class=\"txtu\">termen </span><span class=\"txtu\">staen. </span><span class=\"txtu\">Desen </span><span class=\"txtu\">voorsz. </span><span class=\"txtu\">constapelsmaet </span><span class=\"txtu\">was </span><span class=\"txtu\">op </span><span class=\"txtu\">den </span><span class=\"txtu\">wegh </span><span class=\"txtu\">ontrent </span><span class=\"txtu\">Laer,</span></div>"
      ],
      "text/plain": [
       "<IPython.core.display.HTML object>"
      ]
     },
     "metadata": {},
     "output_type": "display_data"
    },
    {
     "data": {
      "text/html": [
       "<div class=\"\"><span class=\"tfsechead \"><a target=\"_blank\" href=\"http://resources.huygens.knaw.nl/retroboeken/generalemissiven/#page=730&amp;source=3\" title=\"Show this document on Huygens\" sec=\"3 717:43\">3 717:43</a></span>  <span class=\"txtu\">6 </span><span class=\"txtu\">dagen </span><span class=\"txtu\">reysens </span><span class=\"txtu\">van </span><span class=\"txtu\">Gamron </span><span class=\"txtu\">gelegen, </span><span class=\"txtu\">voor </span><span class=\"txtu\">de </span><span class=\"txtu\">tweede </span><span class=\"txtu\">reys </span><span class=\"txtu\">doorgegaen </span><span class=\"txtu\">en </span><span class=\"txtu\">wegh-</span></div>"
      ],
      "text/plain": [
       "<IPython.core.display.HTML object>"
      ]
     },
     "metadata": {},
     "output_type": "display_data"
    },
    {
     "data": {
      "text/html": [
       "<div class=\"\"><span class=\"tfsechead \"><a target=\"_blank\" href=\"http://resources.huygens.knaw.nl/retroboeken/generalemissiven/#page=730&amp;source=3\" title=\"Show this document on Huygens\" sec=\"3 717:44\">3 717:44</a></span>  </div>"
      ],
      "text/plain": [
       "<IPython.core.display.HTML object>"
      ]
     },
     "metadata": {},
     "output_type": "display_data"
    }
   ],
   "source": [
    "for line in lines:\n",
    "    A.plain(line, fmt=\"layout-orig\")"
   ]
  },
  {
   "cell_type": "markdown",
   "metadata": {},
   "source": [
    "# Drilling down\n",
    "\n",
    "Lets navigate to individual words, we pick a few lines from this page we have seen in various ways."
   ]
  },
  {
   "cell_type": "code",
   "execution_count": 23,
   "metadata": {},
   "outputs": [
    {
     "data": {
      "text/html": [
       "<div class=\"\"><span class=\"tfsechead \"><a target=\"_blank\" href=\"http://resources.huygens.knaw.nl/retroboeken/generalemissiven/#page=730&amp;source=3\" title=\"Show this document on Huygens\" sec=\"3 717:36\">3 717:36</a></span>  <span class=\"txtu\">Seecker </span><span class=\"txtu\">constapelsmaet, </span><span class=\"txtu\">Uitgevallen: </span><span class=\"txtu\">met.</span></div>"
      ],
      "text/plain": [
       "<IPython.core.display.HTML object>"
      ]
     },
     "metadata": {},
     "output_type": "display_data"
    },
    {
     "data": {
      "text/plain": [
       "(1094452, 1094453, 1094454, 1094455)"
      ]
     },
     "execution_count": 23,
     "metadata": {},
     "output_type": "execute_result"
    }
   ],
   "source": [
    "ln = A.nodeFromSectionStr(\"3 717:36\")\n",
    "A.plain(ln)\n",
    "\n",
    "words = L.d(ln, otype=\"word\")\n",
    "words"
   ]
  },
  {
   "cell_type": "markdown",
   "metadata": {},
   "source": [
    "Let's make a table of the words around this line and the values of some features that they carry:"
   ]
  },
  {
   "cell_type": "code",
   "execution_count": 26,
   "metadata": {},
   "outputs": [
    {
     "data": {
      "text/plain": [
       "[('Met', None, 'Met', None, ' ', None, 1, None),\n",
       " ('geduld', None, 'geduld', None, ' ', None, 1, None),\n",
       " ('bereikt', None, 'bereikt', None, ' ', None, 1, None),\n",
       " ('men', None, 'men', None, ' ', None, 1, None),\n",
       " ('in', None, 'in', None, ' ', None, 1, None),\n",
       " ('Perzië', None, 'Perzië', None, ' ', None, 1, None),\n",
       " ('het', None, 'het', None, ' ', None, 1, None),\n",
       " ('meest', None, 'meest', None, '', None, 1, None),\n",
       " ('', None, None, None, '', None, None, None),\n",
       " ('Seecker', 'Seecker', None, None, ' ', '1', None, None),\n",
       " ('constapelsmaet', 'constapelsmaet', None, None, ', ', '1', None, None),\n",
       " ('Uitgevallen', None, None, 'Uitgevallen', ': ', None, None, 1),\n",
       " ('met', None, None, 'met', '.', None, None, 1),\n",
       " ('namen', 'namen', None, None, ' ', '1', None, None),\n",
       " ('Jacob', 'Jacob', None, None, ' ', '1', None, None),\n",
       " ('Arriva', 'Arriva', None, None, ' ', '1', None, None),\n",
       " ('van', 'van', None, None, ' ', '1', None, None),\n",
       " ('St', 'St', None, None, '. ', '1', None, None),\n",
       " ('Cruis', 'Cruis', None, None, ', ', '1', None, None),\n",
       " ('voor', 'voor', None, None, ' ', '1', None, None),\n",
       " ('dato', 'dato', None, None, '', '1', None, None),\n",
       " ('van', 'van', None, None, ' ', '1', None, None),\n",
       " ('’t', '’t', None, None, ' ', '1', None, None),\n",
       " ('jacht', 'jacht', None, None, ' ', '1', None, None),\n",
       " ('de', 'de', None, None, ' ', '1', None, None),\n",
       " ('Pauw', 'Pauw', None, None, ' ', '1', None, None),\n",
       " ('weghgelopen', 'weghgelopen', None, None, ' ', '1', None, None),\n",
       " ('en', 'en', None, None, ' ', '1', None, None),\n",
       " ('door', 'door', None, None, ' ', '1', None, None),\n",
       " ('de', 'de', None, None, ' ', '1', None, None),\n",
       " ('Ma', 'Ma', None, None, '.', '1', None, None),\n",
       " ('4', '4', None, None, ' ', '1', None, None),\n",
       " ('om', 'om', None, None, ' ', '1', None, None),\n",
       " ('desselfs', 'desselfs', None, None, ' ', '1', None, None),\n",
       " ('const', 'const', None, None, ' ', '1', None, None),\n",
       " ('in', 'in', None, None, ' ', '1', None, None),\n",
       " ('dienst', 'dienst', None, None, '', '1', None, None)]"
      ]
     },
     "execution_count": 26,
     "metadata": {},
     "output_type": "execute_result"
    }
   ],
   "source": [
    "features = \"trans transo transr transn punc isorig isremark isnote\".split()\n",
    "\n",
    "table = []\n",
    "lineNum = 36\n",
    "\n",
    "for lno in range(lineNum - 2, lineNum + 3):\n",
    "    ln = T.nodeFromSection((3, 717, lno))\n",
    "    for w in L.d(ln, otype=\"word\"):\n",
    "        row = tuple(Fs(feature).v(w) for feature in features)\n",
    "        table.append(row)\n",
    "\n",
    "table"
   ]
  },
  {
   "cell_type": "markdown",
   "metadata": {},
   "source": [
    "We can show that more prettily in a markdown table, but it is a bit of a hassle to compose\n",
    "the markdown string.\n",
    "Once we have that, we can pass it to a method in the Text-Fabric API that displays it as markdown."
   ]
  },
  {
   "cell_type": "code",
   "execution_count": 27,
   "metadata": {},
   "outputs": [
    {
     "data": {
      "text/markdown": [
       "\n",
       "trans | transo | transr | transn | punc | isorig | isremark | isnote\n",
       "--- | --- | --- | --- | --- | --- | --- | ---\n",
       "Met |  | Met |  |   |  | 1 | \n",
       "geduld |  | geduld |  |   |  | 1 | \n",
       "bereikt |  | bereikt |  |   |  | 1 | \n",
       "men |  | men |  |   |  | 1 | \n",
       "in |  | in |  |   |  | 1 | \n",
       "Perzië |  | Perzië |  |   |  | 1 | \n",
       "het |  | het |  |   |  | 1 | \n",
       "meest |  | meest |  |  |  | 1 | \n",
       " |  |  |  |  |  |  | \n",
       "Seecker | Seecker |  |  |   | 1 |  | \n",
       "constapelsmaet | constapelsmaet |  |  | ,  | 1 |  | \n",
       "Uitgevallen |  |  | Uitgevallen | :  |  |  | 1\n",
       "met |  |  | met | . |  |  | 1\n",
       "namen | namen |  |  |   | 1 |  | \n",
       "Jacob | Jacob |  |  |   | 1 |  | \n",
       "Arriva | Arriva |  |  |   | 1 |  | \n",
       "van | van |  |  |   | 1 |  | \n",
       "St | St |  |  | .  | 1 |  | \n",
       "Cruis | Cruis |  |  | ,  | 1 |  | \n",
       "voor | voor |  |  |   | 1 |  | \n",
       "dato | dato |  |  |  | 1 |  | \n",
       "van | van |  |  |   | 1 |  | \n",
       "’t | ’t |  |  |   | 1 |  | \n",
       "jacht | jacht |  |  |   | 1 |  | \n",
       "de | de |  |  |   | 1 |  | \n",
       "Pauw | Pauw |  |  |   | 1 |  | \n",
       "weghgelopen | weghgelopen |  |  |   | 1 |  | \n",
       "en | en |  |  |   | 1 |  | \n",
       "door | door |  |  |   | 1 |  | \n",
       "de | de |  |  |   | 1 |  | \n",
       "Ma | Ma |  |  | . | 1 |  | \n",
       "4 | 4 |  |  |   | 1 |  | \n",
       "om | om |  |  |   | 1 |  | \n",
       "desselfs | desselfs |  |  |   | 1 |  | \n",
       "const | const |  |  |   | 1 |  | \n",
       "in | in |  |  |   | 1 |  | \n",
       "dienst | dienst |  |  |  | 1 |  | "
      ],
      "text/plain": [
       "<IPython.core.display.Markdown object>"
      ]
     },
     "metadata": {},
     "output_type": "display_data"
    }
   ],
   "source": [
    "NL = \"\\n\"\n",
    "\n",
    "mdHead = f\"\"\"\n",
    "{\" | \".join(features)}\n",
    "{\" | \".join(\"---\" for _ in features)}\n",
    "\"\"\"\n",
    "\n",
    "mdData = \"\\n\".join(\n",
    "    f\"\"\"{\" | \".join(str(c or \"\").replace(NL, \" \") for c in row)}\"\"\" for row in table\n",
    ")\n",
    "\n",
    "A.dm(f\"\"\"{mdHead}{mdData}\"\"\")"
   ]
  },
  {
   "cell_type": "markdown",
   "metadata": {},
   "source": [
    "Note that the dataset designer has the text strings of all words into the feature `trans`;\n",
    "editorial words also go into `transr`, but not into `transo`;\n",
    "original words go into `transo`, but not into `transr`.\n",
    "\n",
    "The existence of these features is mainly to make it possible to define the selective text formats\n",
    "we have seen above."
   ]
  },
  {
   "cell_type": "markdown",
   "metadata": {},
   "source": [
    "If constructing a low level dataset is too low-level for your taste,\n",
    "we can just collect a bunch of nodes and feed it to a higher-level display function of Text-Fabric:"
   ]
  },
  {
   "cell_type": "code",
   "execution_count": 28,
   "metadata": {},
   "outputs": [
    {
     "data": {
      "text/plain": [
       "[(1094443,),\n",
       " (1094444,),\n",
       " (1094445,),\n",
       " (1094446,),\n",
       " (1094447,),\n",
       " (1094448,),\n",
       " (1094449,),\n",
       " (1094450,),\n",
       " (1094451,),\n",
       " (1094452,),\n",
       " (1094453,),\n",
       " (1094454,),\n",
       " (1094455,),\n",
       " (1094456,),\n",
       " (1094457,),\n",
       " (1094458,),\n",
       " (1094459,),\n",
       " (1094460,),\n",
       " (1094461,),\n",
       " (1094462,),\n",
       " (1094463,),\n",
       " (1094464,),\n",
       " (1094465,),\n",
       " (1094466,),\n",
       " (1094467,),\n",
       " (1094468,),\n",
       " (1094469,),\n",
       " (1094470,),\n",
       " (1094471,),\n",
       " (1094472,),\n",
       " (1094473,),\n",
       " (1094474,),\n",
       " (1094475,),\n",
       " (1094476,),\n",
       " (1094477,),\n",
       " (1094478,),\n",
       " (1094479,)]"
      ]
     },
     "execution_count": 28,
     "metadata": {},
     "output_type": "execute_result"
    }
   ],
   "source": [
    "table = []\n",
    "\n",
    "for lno in range(lineNum - 2, lineNum + 3):\n",
    "    ln = T.nodeFromSection((3, 717, lno))\n",
    "    for w in L.d(ln, otype=\"word\"):\n",
    "        table.append((w,))\n",
    "\n",
    "table"
   ]
  },
  {
   "cell_type": "markdown",
   "metadata": {},
   "source": [
    "Before we ask Text-Fabric to display this, we tell it the features we're interested in."
   ]
  },
  {
   "cell_type": "code",
   "execution_count": 32,
   "metadata": {},
   "outputs": [
    {
     "data": {
      "text/plain": [
       "{'text-orig-full': 'word',\n",
       " 'text-orig-note': 'word',\n",
       " 'text-orig-remark': 'word',\n",
       " 'text-orig-source': 'word',\n",
       " 'layout-full': 'word',\n",
       " 'layout-noremarks': 'word',\n",
       " 'layout-nonotes': 'word',\n",
       " 'layout-nonorig': 'word',\n",
       " 'layout-remarks': 'word',\n",
       " 'layout-notes': 'word',\n",
       " 'layout-orig': 'word'}"
      ]
     },
     "execution_count": 32,
     "metadata": {},
     "output_type": "execute_result"
    }
   ],
   "source": [
    "T.formats"
   ]
  },
  {
   "cell_type": "code",
   "execution_count": 33,
   "metadata": {},
   "outputs": [
    {
     "data": {
      "text/html": [
       "<p><b>line</b> <i>1</i></p>"
      ],
      "text/plain": [
       "<IPython.core.display.HTML object>"
      ]
     },
     "metadata": {},
     "output_type": "display_data"
    },
    {
     "data": {
      "text/html": [
       "<div class=\"tfsechead \"><a target=\"_blank\" href=\"http://resources.huygens.knaw.nl/retroboeken/generalemissiven/#page=730&amp;source=3\" title=\"Show this document on Huygens\" sec=\"3 717:34\">3 717:34</a></div><div class=\" children\"><div class=\"contnr c3    \" ><div class=\"lbl c3  \" ><span class=\"nd\">line</span></div><div class=\"children hor wrap \"><div class=\"contnr c0 trm   hl\" ><div class=\"lbl c0 trm hl\" ><span class=\"txtn\"><span class=\"remark\">Met </span></span></div><div class='features'><span class=\"isremark xft\" ><span class=\"f\">isremark=</span>1</span><span class=\"punc xft\" ><span class=\"f\">punc=</span> </span><span class=\"trans xft\" ><span class=\"f\">trans=</span>Met</span><span class=\"transr xft\" ><span class=\"f\">transr=</span>Met</span></div></div><div class=\"contnr c0 trm   hl\" ><div class=\"lbl c0 trm hl\" ><span class=\"txtn\"><span class=\"remark\">geduld </span></span></div><div class='features'><span class=\"isremark xft\" ><span class=\"f\">isremark=</span>1</span><span class=\"punc xft\" ><span class=\"f\">punc=</span> </span><span class=\"trans xft\" ><span class=\"f\">trans=</span>geduld</span><span class=\"transr xft\" ><span class=\"f\">transr=</span>geduld</span></div></div><div class=\"contnr c0 trm   hl\" ><div class=\"lbl c0 trm hl\" ><span class=\"txtn\"><span class=\"remark\">bereikt </span></span></div><div class='features'><span class=\"isremark xft\" ><span class=\"f\">isremark=</span>1</span><span class=\"punc xft\" ><span class=\"f\">punc=</span> </span><span class=\"trans xft\" ><span class=\"f\">trans=</span>bereikt</span><span class=\"transr xft\" ><span class=\"f\">transr=</span>bereikt</span></div></div><div class=\"contnr c0 trm   hl\" ><div class=\"lbl c0 trm hl\" ><span class=\"txtn\"><span class=\"remark\">men </span></span></div><div class='features'><span class=\"isremark xft\" ><span class=\"f\">isremark=</span>1</span><span class=\"punc xft\" ><span class=\"f\">punc=</span> </span><span class=\"trans xft\" ><span class=\"f\">trans=</span>men</span><span class=\"transr xft\" ><span class=\"f\">transr=</span>men</span></div></div><div class=\"contnr c0 trm   hl\" ><div class=\"lbl c0 trm hl\" ><span class=\"txtn\"><span class=\"remark\">in </span></span></div><div class='features'><span class=\"isremark xft\" ><span class=\"f\">isremark=</span>1</span><span class=\"punc xft\" ><span class=\"f\">punc=</span> </span><span class=\"trans xft\" ><span class=\"f\">trans=</span>in</span><span class=\"transr xft\" ><span class=\"f\">transr=</span>in</span></div></div><div class=\"contnr c0 trm   hl\" ><div class=\"lbl c0 trm hl\" ><span class=\"txtn\"><span class=\"remark\">Perzië </span></span></div><div class='features'><span class=\"isremark xft\" ><span class=\"f\">isremark=</span>1</span><span class=\"punc xft\" ><span class=\"f\">punc=</span> </span><span class=\"trans xft\" ><span class=\"f\">trans=</span>Perzië</span><span class=\"transr xft\" ><span class=\"f\">transr=</span>Perzië</span></div></div><div class=\"contnr c0 trm   hl\" ><div class=\"lbl c0 trm hl\" ><span class=\"txtn\"><span class=\"remark\">het </span></span></div><div class='features'><span class=\"isremark xft\" ><span class=\"f\">isremark=</span>1</span><span class=\"punc xft\" ><span class=\"f\">punc=</span> </span><span class=\"trans xft\" ><span class=\"f\">trans=</span>het</span><span class=\"transr xft\" ><span class=\"f\">transr=</span>het</span></div></div><div class=\"contnr c0 trm   hl\" ><div class=\"lbl c0 trm hl\" ><span class=\"txtn\"><span class=\"remark\">meest</span></span></div><div class='features'><span class=\"isremark xft\" ><span class=\"f\">isremark=</span>1</span><span class=\"punc xft\" ><span class=\"f\">punc=</span></span><span class=\"trans xft\" ><span class=\"f\">trans=</span>meest</span><span class=\"transr xft\" ><span class=\"f\">transr=</span>meest</span></div></div></div></div></div>"
      ],
      "text/plain": [
       "<IPython.core.display.HTML object>"
      ]
     },
     "metadata": {},
     "output_type": "display_data"
    },
    {
     "data": {
      "text/html": [
       "<p><b>line</b> <i>2</i></p>"
      ],
      "text/plain": [
       "<IPython.core.display.HTML object>"
      ]
     },
     "metadata": {},
     "output_type": "display_data"
    },
    {
     "data": {
      "text/html": [
       "<div class=\"tfsechead \"><a target=\"_blank\" href=\"http://resources.huygens.knaw.nl/retroboeken/generalemissiven/#page=730&amp;source=3\" title=\"Show this document on Huygens\" sec=\"3 717:35\">3 717:35</a></div><div class=\" children\"><div class=\"contnr c3    \" ><div class=\"lbl c3  \" ><span class=\"nd\">line</span></div><div class=\"children hor wrap \"><div class=\"contnr c0 trm   hl\" ><div class='features'><span class=\"punc xft\" ><span class=\"f\">punc=</span></span><span class=\"trans xft\" ><span class=\"f\">trans=</span></span></div></div></div></div></div>"
      ],
      "text/plain": [
       "<IPython.core.display.HTML object>"
      ]
     },
     "metadata": {},
     "output_type": "display_data"
    },
    {
     "data": {
      "text/html": [
       "<p><b>line</b> <i>3</i></p>"
      ],
      "text/plain": [
       "<IPython.core.display.HTML object>"
      ]
     },
     "metadata": {},
     "output_type": "display_data"
    },
    {
     "data": {
      "text/html": [
       "<div class=\"tfsechead \"><a target=\"_blank\" href=\"http://resources.huygens.knaw.nl/retroboeken/generalemissiven/#page=730&amp;source=3\" title=\"Show this document on Huygens\" sec=\"3 717:36\">3 717:36</a></div><div class=\" children\"><div class=\"contnr c3    \" ><div class=\"lbl c3  \" ><span class=\"nd\">line</span></div><div class=\"children hor wrap \"><div class=\"contnr c0 trm   hl\" ><div class=\"lbl c0 trm hl\" ><span class=\"txtn\">Seecker </span></div><div class='features'><span class=\"isorig xft\" ><span class=\"f\">isorig=</span>1</span><span class=\"punc xft\" ><span class=\"f\">punc=</span> </span><span class=\"trans xft\" ><span class=\"f\">trans=</span>Seecker</span><span class=\"transo xft\" ><span class=\"f\">transo=</span>Seecker</span></div></div><div class=\"contnr c0 trm   hl\" ><div class=\"lbl c0 trm hl\" ><span class=\"txtn\">constapelsmaet, </span></div><div class='features'><span class=\"isorig xft\" ><span class=\"f\">isorig=</span>1</span><span class=\"punc xft\" ><span class=\"f\">punc=</span>, </span><span class=\"trans xft\" ><span class=\"f\">trans=</span>constapelsmaet</span><span class=\"transo xft\" ><span class=\"f\">transo=</span>constapelsmaet</span></div></div><div class=\"contnr c0 trm   hl\" ><div class=\"lbl c0 trm hl\" ><span class=\"txtn\"><span class=\"note\">«2= Uitgevallen: </span></span></div><div class='features'><span class=\"isnote xft\" ><span class=\"f\">isnote=</span>1</span><span class=\"punc xft\" ><span class=\"f\">punc=</span>: </span><span class=\"trans xft\" ><span class=\"f\">trans=</span>Uitgevallen</span><span class=\"transn xft\" ><span class=\"f\">transn=</span>Uitgevallen</span></div></div><div class=\"contnr c0 trm   hl\" ><div class=\"lbl c0 trm hl\" ><span class=\"txtn\"><span class=\"note\">met. =2»</span></span></div><div class='features'><span class=\"isnote xft\" ><span class=\"f\">isnote=</span>1</span><span class=\"punc xft\" ><span class=\"f\">punc=</span>.</span><span class=\"trans xft\" ><span class=\"f\">trans=</span>met</span><span class=\"transn xft\" ><span class=\"f\">transn=</span>met</span></div></div></div></div></div>"
      ],
      "text/plain": [
       "<IPython.core.display.HTML object>"
      ]
     },
     "metadata": {},
     "output_type": "display_data"
    },
    {
     "data": {
      "text/html": [
       "<p><b>line</b> <i>4</i></p>"
      ],
      "text/plain": [
       "<IPython.core.display.HTML object>"
      ]
     },
     "metadata": {},
     "output_type": "display_data"
    },
    {
     "data": {
      "text/html": [
       "<div class=\"tfsechead \"><a target=\"_blank\" href=\"http://resources.huygens.knaw.nl/retroboeken/generalemissiven/#page=730&amp;source=3\" title=\"Show this document on Huygens\" sec=\"3 717:37\">3 717:37</a></div><div class=\" children\"><div class=\"contnr c3    \" ><div class=\"lbl c3  \" ><span class=\"nd\">line</span></div><div class=\"children hor wrap \"><div class=\"contnr c0 trm   hl\" ><div class=\"lbl c0 trm hl\" ><span class=\"txtn\">namen </span></div><div class='features'><span class=\"isorig xft\" ><span class=\"f\">isorig=</span>1</span><span class=\"punc xft\" ><span class=\"f\">punc=</span> </span><span class=\"trans xft\" ><span class=\"f\">trans=</span>namen</span><span class=\"transo xft\" ><span class=\"f\">transo=</span>namen</span></div></div><div class=\"contnr c0 trm   hl\" ><div class=\"lbl c0 trm hl\" ><span class=\"txtn\">Jacob </span></div><div class='features'><span class=\"isorig xft\" ><span class=\"f\">isorig=</span>1</span><span class=\"punc xft\" ><span class=\"f\">punc=</span> </span><span class=\"trans xft\" ><span class=\"f\">trans=</span>Jacob</span><span class=\"transo xft\" ><span class=\"f\">transo=</span>Jacob</span></div></div><div class=\"contnr c0 trm   hl\" ><div class=\"lbl c0 trm hl\" ><span class=\"txtn\">Arriva </span></div><div class='features'><span class=\"isorig xft\" ><span class=\"f\">isorig=</span>1</span><span class=\"punc xft\" ><span class=\"f\">punc=</span> </span><span class=\"trans xft\" ><span class=\"f\">trans=</span>Arriva</span><span class=\"transo xft\" ><span class=\"f\">transo=</span>Arriva</span></div></div><div class=\"contnr c0 trm   hl\" ><div class=\"lbl c0 trm hl\" ><span class=\"txtn\">van </span></div><div class='features'><span class=\"isorig xft\" ><span class=\"f\">isorig=</span>1</span><span class=\"punc xft\" ><span class=\"f\">punc=</span> </span><span class=\"trans xft\" ><span class=\"f\">trans=</span>van</span><span class=\"transo xft\" ><span class=\"f\">transo=</span>van</span></div></div><div class=\"contnr c0 trm   hl\" ><div class=\"lbl c0 trm hl\" ><span class=\"txtn\">St. </span></div><div class='features'><span class=\"isorig xft\" ><span class=\"f\">isorig=</span>1</span><span class=\"punc xft\" ><span class=\"f\">punc=</span>. </span><span class=\"trans xft\" ><span class=\"f\">trans=</span>St</span><span class=\"transo xft\" ><span class=\"f\">transo=</span>St</span></div></div><div class=\"contnr c0 trm   hl\" ><div class=\"lbl c0 trm hl\" ><span class=\"txtn\">Cruis, </span></div><div class='features'><span class=\"isorig xft\" ><span class=\"f\">isorig=</span>1</span><span class=\"punc xft\" ><span class=\"f\">punc=</span>, </span><span class=\"trans xft\" ><span class=\"f\">trans=</span>Cruis</span><span class=\"transo xft\" ><span class=\"f\">transo=</span>Cruis</span></div></div><div class=\"contnr c0 trm   hl\" ><div class=\"lbl c0 trm hl\" ><span class=\"txtn\">voor </span></div><div class='features'><span class=\"isorig xft\" ><span class=\"f\">isorig=</span>1</span><span class=\"punc xft\" ><span class=\"f\">punc=</span> </span><span class=\"trans xft\" ><span class=\"f\">trans=</span>voor</span><span class=\"transo xft\" ><span class=\"f\">transo=</span>voor</span></div></div><div class=\"contnr c0 trm   hl\" ><div class=\"lbl c0 trm hl\" ><span class=\"txtn\">dato</span></div><div class='features'><span class=\"isorig xft\" ><span class=\"f\">isorig=</span>1</span><span class=\"punc xft\" ><span class=\"f\">punc=</span></span><span class=\"trans xft\" ><span class=\"f\">trans=</span>dato</span><span class=\"transo xft\" ><span class=\"f\">transo=</span>dato</span></div></div></div></div></div>"
      ],
      "text/plain": [
       "<IPython.core.display.HTML object>"
      ]
     },
     "metadata": {},
     "output_type": "display_data"
    },
    {
     "data": {
      "text/html": [
       "<p><b>line</b> <i>5</i></p>"
      ],
      "text/plain": [
       "<IPython.core.display.HTML object>"
      ]
     },
     "metadata": {},
     "output_type": "display_data"
    },
    {
     "data": {
      "text/html": [
       "<div class=\"tfsechead \"><a target=\"_blank\" href=\"http://resources.huygens.knaw.nl/retroboeken/generalemissiven/#page=730&amp;source=3\" title=\"Show this document on Huygens\" sec=\"3 717:38\">3 717:38</a></div><div class=\" children\"><div class=\"contnr c3    \" ><div class=\"lbl c3  \" ><span class=\"nd\">line</span></div><div class=\"children hor wrap \"><div class=\"contnr c0 trm   hl\" ><div class=\"lbl c0 trm hl\" ><span class=\"txtn\">van </span></div><div class='features'><span class=\"isorig xft\" ><span class=\"f\">isorig=</span>1</span><span class=\"punc xft\" ><span class=\"f\">punc=</span> </span><span class=\"trans xft\" ><span class=\"f\">trans=</span>van</span><span class=\"transo xft\" ><span class=\"f\">transo=</span>van</span></div></div><div class=\"contnr c0 trm   hl\" ><div class=\"lbl c0 trm hl\" ><span class=\"txtn\">’t </span></div><div class='features'><span class=\"isorig xft\" ><span class=\"f\">isorig=</span>1</span><span class=\"punc xft\" ><span class=\"f\">punc=</span> </span><span class=\"trans xft\" ><span class=\"f\">trans=</span>’t</span><span class=\"transo xft\" ><span class=\"f\">transo=</span>’t</span></div></div><div class=\"contnr c0 trm   hl\" ><div class=\"lbl c0 trm hl\" ><span class=\"txtn\">jacht </span></div><div class='features'><span class=\"isorig xft\" ><span class=\"f\">isorig=</span>1</span><span class=\"punc xft\" ><span class=\"f\">punc=</span> </span><span class=\"trans xft\" ><span class=\"f\">trans=</span>jacht</span><span class=\"transo xft\" ><span class=\"f\">transo=</span>jacht</span></div></div><div class=\"contnr c0 trm   hl\" ><div class=\"lbl c0 trm hl\" ><span class=\"txtn\">de </span></div><div class='features'><span class=\"isorig xft\" ><span class=\"f\">isorig=</span>1</span><span class=\"punc xft\" ><span class=\"f\">punc=</span> </span><span class=\"trans xft\" ><span class=\"f\">trans=</span>de</span><span class=\"transo xft\" ><span class=\"f\">transo=</span>de</span></div></div><div class=\"contnr c0 trm   hl\" ><div class=\"lbl c0 trm hl\" ><span class=\"txtn\">Pauw </span></div><div class='features'><span class=\"isorig xft\" ><span class=\"f\">isorig=</span>1</span><span class=\"punc xft\" ><span class=\"f\">punc=</span> </span><span class=\"trans xft\" ><span class=\"f\">trans=</span>Pauw</span><span class=\"transo xft\" ><span class=\"f\">transo=</span>Pauw</span></div></div><div class=\"contnr c0 trm   hl\" ><div class=\"lbl c0 trm hl\" ><span class=\"txtn\">weghgelopen </span></div><div class='features'><span class=\"isorig xft\" ><span class=\"f\">isorig=</span>1</span><span class=\"punc xft\" ><span class=\"f\">punc=</span> </span><span class=\"trans xft\" ><span class=\"f\">trans=</span>weghgelopen</span><span class=\"transo xft\" ><span class=\"f\">transo=</span>weghgelopen</span></div></div><div class=\"contnr c0 trm   hl\" ><div class=\"lbl c0 trm hl\" ><span class=\"txtn\">en </span></div><div class='features'><span class=\"isorig xft\" ><span class=\"f\">isorig=</span>1</span><span class=\"punc xft\" ><span class=\"f\">punc=</span> </span><span class=\"trans xft\" ><span class=\"f\">trans=</span>en</span><span class=\"transo xft\" ><span class=\"f\">transo=</span>en</span></div></div><div class=\"contnr c0 trm   hl\" ><div class=\"lbl c0 trm hl\" ><span class=\"txtn\">door </span></div><div class='features'><span class=\"isorig xft\" ><span class=\"f\">isorig=</span>1</span><span class=\"punc xft\" ><span class=\"f\">punc=</span> </span><span class=\"trans xft\" ><span class=\"f\">trans=</span>door</span><span class=\"transo xft\" ><span class=\"f\">transo=</span>door</span></div></div><div class=\"contnr c0 trm   hl\" ><div class=\"lbl c0 trm hl\" ><span class=\"txtn\">de </span></div><div class='features'><span class=\"isorig xft\" ><span class=\"f\">isorig=</span>1</span><span class=\"punc xft\" ><span class=\"f\">punc=</span> </span><span class=\"trans xft\" ><span class=\"f\">trans=</span>de</span><span class=\"transo xft\" ><span class=\"f\">transo=</span>de</span></div></div><div class=\"contnr c0 trm   hl\" ><div class=\"lbl c0 trm hl\" ><span class=\"txtn\">Ma.</span></div><div class='features'><span class=\"isorig xft\" ><span class=\"f\">isorig=</span>1</span><span class=\"punc xft\" ><span class=\"f\">punc=</span>.</span><span class=\"trans xft\" ><span class=\"f\">trans=</span>Ma</span><span class=\"transo xft\" ><span class=\"f\">transo=</span>Ma</span></div></div><div class=\"contnr c0 trm   hl\" ><div class=\"lbl c0 trm hl\" ><span class=\"txtn\">4 </span></div><div class='features'><span class=\"isorig xft\" ><span class=\"f\">isorig=</span>1</span><span class=\"punc xft\" ><span class=\"f\">punc=</span> </span><span class=\"trans xft\" ><span class=\"f\">trans=</span>4</span><span class=\"transo xft\" ><span class=\"f\">transo=</span>4</span></div></div><div class=\"contnr c0 trm   hl\" ><div class=\"lbl c0 trm hl\" ><span class=\"txtn\">om </span></div><div class='features'><span class=\"isorig xft\" ><span class=\"f\">isorig=</span>1</span><span class=\"punc xft\" ><span class=\"f\">punc=</span> </span><span class=\"trans xft\" ><span class=\"f\">trans=</span>om</span><span class=\"transo xft\" ><span class=\"f\">transo=</span>om</span></div></div><div class=\"contnr c0 trm   hl\" ><div class=\"lbl c0 trm hl\" ><span class=\"txtn\">desselfs </span></div><div class='features'><span class=\"isorig xft\" ><span class=\"f\">isorig=</span>1</span><span class=\"punc xft\" ><span class=\"f\">punc=</span> </span><span class=\"trans xft\" ><span class=\"f\">trans=</span>desselfs</span><span class=\"transo xft\" ><span class=\"f\">transo=</span>desselfs</span></div></div><div class=\"contnr c0 trm   hl\" ><div class=\"lbl c0 trm hl\" ><span class=\"txtn\">const </span></div><div class='features'><span class=\"isorig xft\" ><span class=\"f\">isorig=</span>1</span><span class=\"punc xft\" ><span class=\"f\">punc=</span> </span><span class=\"trans xft\" ><span class=\"f\">trans=</span>const</span><span class=\"transo xft\" ><span class=\"f\">transo=</span>const</span></div></div><div class=\"contnr c0 trm   hl\" ><div class=\"lbl c0 trm hl\" ><span class=\"txtn\">in </span></div><div class='features'><span class=\"isorig xft\" ><span class=\"f\">isorig=</span>1</span><span class=\"punc xft\" ><span class=\"f\">punc=</span> </span><span class=\"trans xft\" ><span class=\"f\">trans=</span>in</span><span class=\"transo xft\" ><span class=\"f\">transo=</span>in</span></div></div><div class=\"contnr c0 trm   hl\" ><div class=\"lbl c0 trm hl\" ><span class=\"txtn\">dienst</span></div><div class='features'><span class=\"isorig xft\" ><span class=\"f\">isorig=</span>1</span><span class=\"punc xft\" ><span class=\"f\">punc=</span></span><span class=\"trans xft\" ><span class=\"f\">trans=</span>dienst</span><span class=\"transo xft\" ><span class=\"f\">transo=</span>dienst</span></div></div></div></div></div>"
      ],
      "text/plain": [
       "<IPython.core.display.HTML object>"
      ]
     },
     "metadata": {},
     "output_type": "display_data"
    }
   ],
   "source": [
    "A.displaySetup(extraFeatures=features)\n",
    "A.show(table, condensed=True, fmt=\"layout-full\")"
   ]
  },
  {
   "cell_type": "markdown",
   "metadata": {},
   "source": [
    "Where this machinery really shines is when it comes to displaying the results of queries.\n",
    "See [search](search.ipynb)."
   ]
  },
  {
   "cell_type": "markdown",
   "metadata": {
    "tags": []
   },
   "source": [
    "---\n",
    "\n",
    "# Next steps\n",
    "\n",
    "By now you have an impression how to orient yourself in the Missieven dataset.\n",
    "The next steps will show you how to get powerful: searching and computing.\n",
    "\n",
    "After that it is time for collecting results, use them in new annotations and share them.\n",
    "\n",
    "* **start** start computing with this corpus\n",
    "* **[search](search.ipynb)** turbo charge your hand-coding with search templates\n",
    "* **[compute](compute.ipynb)** sink down a level and compute it yourself\n",
    "* **[exportExcel](exportExcel.ipynb)** make tailor-made spreadsheets out of your results\n",
    "* **[annotate](annotate.ipynb)** export text, annotate with BRAT, import annotations\n",
    "* **[share](share.ipynb)** draw in other people's data and let them use yours\n",
    "* **[volumes](volumes.ipynb)** work with selected volumes only\n",
    "\n",
    "CC-BY Dirk Roorda"
   ]
  }
 ],
 "metadata": {
  "kernelspec": {
   "display_name": "Python 3 (ipykernel)",
   "language": "python",
   "name": "python3"
  },
  "language_info": {
   "codemirror_mode": {
    "name": "ipython",
    "version": 3
   },
   "file_extension": ".py",
   "mimetype": "text/x-python",
   "name": "python",
   "nbconvert_exporter": "python",
   "pygments_lexer": "ipython3",
   "version": "3.9.7"
  },
  "widgets": {
   "application/vnd.jupyter.widget-state+json": {
    "state": {},
    "version_major": 2,
    "version_minor": 0
   }
  }
 },
 "nbformat": 4,
 "nbformat_minor": 4
}
