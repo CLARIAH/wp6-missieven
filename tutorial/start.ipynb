{
 "cells": [
  {
   "cell_type": "markdown",
   "metadata": {},
   "source": [
    "<img align=\"right\" src=\"images/tf.png\" width=\"128\"/>\n",
    "<img align=\"right\" src=\"images/huc.png\"/>\n",
    "<img align=\"right\" src=\"images/huygenslogo.png\"/>\n",
    "<img align=\"right\" src=\"images/logo.png\"/>\n",
    "\n",
    "# Tutorial\n",
    "\n",
    "This notebook gets you started with using\n",
    "[Text-Fabric](https://annotation.github.io/text-fabric/) for coding in\n",
    "[Missieven Corpus](https://github.com/clariah/wp6-missieven).\n",
    "\n",
    "Familiarity with the underlying\n",
    "[data model](https://annotation.github.io/text-fabric/tf/about/datamodel.html)\n",
    "is recommended."
   ]
  },
  {
   "cell_type": "markdown",
   "metadata": {
    "jp-MarkdownHeadingCollapsed": true,
    "tags": []
   },
   "source": [
    "## Installing Text-Fabric\n",
    "\n",
    "See [here](https://annotation.github.io/text-fabric/tf/about/install.html)"
   ]
  },
  {
   "cell_type": "markdown",
   "metadata": {
    "tags": []
   },
   "source": [
    "## Tip\n",
    "If you start computing with this tutorial, first copy its parent directory to somewhere else,\n",
    "outside your repository.\n",
    "If you pull changes from the repository later, your work will not be overwritten.\n",
    "Where you put your tutorial directory is up to you.\n",
    "It will work from any directory."
   ]
  },
  {
   "cell_type": "code",
   "execution_count": 1,
   "metadata": {
    "ExecuteTime": {
     "end_time": "2018-10-18T10:40:34.922214Z",
     "start_time": "2018-10-18T10:40:34.901689Z"
    }
   },
   "outputs": [],
   "source": [
    "%load_ext autoreload\n",
    "%autoreload 2"
   ]
  },
  {
   "cell_type": "code",
   "execution_count": 2,
   "metadata": {
    "ExecuteTime": {
     "end_time": "2018-10-18T10:40:37.964346Z",
     "start_time": "2018-10-18T10:40:37.346091Z"
    }
   },
   "outputs": [],
   "source": [
    "from tf.app import use"
   ]
  },
  {
   "cell_type": "markdown",
   "metadata": {},
   "source": [
    "## Corpus data\n",
    "\n",
    "Text-Fabric will fetch the Missieven corpus for you.\n",
    "\n",
    "It will fetch the newest version by default, but you can get other versions as well.\n",
    "\n",
    "The data will be stored under `text-fabric-data` in your home directory."
   ]
  },
  {
   "cell_type": "markdown",
   "metadata": {},
   "source": [
    "# Incantation\n",
    "\n",
    "The simplest way to get going is by this *incantation*:"
   ]
  },
  {
   "cell_type": "markdown",
   "metadata": {},
   "source": [
    "For the very last version, use `hot`.\n",
    "\n",
    "For the latest release, use `latest`.\n",
    "\n",
    "If you have cloned the repos (TF app and data), use `clone`.\n",
    "\n",
    "If you do not want/need to upgrade, leave out the checkout specifiers.\n",
    "\n",
    "**After downloading new data it will take several minutes to optimize the data**.\n",
    "\n",
    "The optimized data will be stored in your system, and all subsequent use of this\n",
    "corpus will find that optimized data."
   ]
  },
  {
   "cell_type": "code",
   "execution_count": 4,
   "metadata": {},
   "outputs": [
    {
     "name": "stdout",
     "output_type": "stream",
     "text": [
      "rate limit is 5000 requests per hour, with 4963 left for this hour\n",
      "\tconnecting to online GitHub repo clariah/wp6-missieven ... connected\n"
     ]
    },
    {
     "data": {
      "text/html": [
       "<b title=\"latest release\">TF-app:</b> <span title=\"r1.0=#f6e4276d1c8f9f15923d54ccf2339698820b2948\">~/text-fabric-data/clariah/wp6-missieven/app</span>"
      ],
      "text/plain": [
       "<IPython.core.display.HTML object>"
      ]
     },
     "metadata": {},
     "output_type": "display_data"
    },
    {
     "data": {
      "text/html": [
       "<b title=\"local release\">data:</b> <span title=\"r1.0=#f6e4276d1c8f9f15923d54ccf2339698820b2948 offline under ~/text-fabric-data\">~/text-fabric-data/clariah/wp6-missieven/tf/1.0</span>"
      ],
      "text/plain": [
       "<IPython.core.display.HTML object>"
      ]
     },
     "metadata": {},
     "output_type": "display_data"
    },
    {
     "name": "stdout",
     "output_type": "stream",
     "text": [
      "This is Text-Fabric 9.4.3\n",
      "Api reference : https://annotation.github.io/text-fabric/tf/cheatsheet.html\n",
      "\n",
      "44 features found and 0 ignored\n"
     ]
    },
    {
     "data": {
      "text/html": [
       "<b>Text-Fabric:</b> <a target=\"_blank\" href=\"https://annotation.github.io/text-fabric/tf/cheatsheet.html\" title=\"text-fabric-api\">Text-Fabric API 9.4.3</a>, <a target=\"_blank\" href=\"https://github.com/clariah/wp6-missieven/blob/master/app\" title=\"clariah/wp6-missieven TF-app\">clariah/wp6-missieven/app  v3</a>, <a target=\"_blank\" href=\"https://annotation.github.io/text-fabric/tf/about/searchusage.html\" title=\"Search Templates Introduction and Reference\">Search Reference</a><br><b>Data:</b> <a target=\"_blank\" href=\"https://github.com/clariah/wp6-missieven/blob/master/docs/about.md\" title=\"provenance of General Missives Dutch East India Company 1600-1800\">WP6-MISSIEVEN</a>, <a target=\"_blank\" href=\"https://annotation.github.io/text-fabric/tf/writing/.html\" title=\"How TF features represent text\">Character table</a>, <a target=\"_blank\" href=\"https://github.com/clariah/wp6-missieven/blob/master/docs/transcription.md\" title=\"WP6-MISSIEVEN feature documentation\">Feature docs</a><br><b>Features:</b><br>\n",
       "<details><summary><b>General Missives Dutch East India Company 1600-1800</b></summary>\n",
       "    <div class=\"fcorpus\">\n",
       "\n",
       "<div class=\"frow\">\n",
       "    <div class=\"fnamecat \">\n",
       "<a target=\"_blank\" href=\"https://github.com/clariah/wp6-missieven/blob/master/docs/transcription.md\" title=\"~/text-fabric-data/clariah/wp6-missieven/tf/1.0/author.tf\">author</a>\n",
       "</div>\n",
       "<div class=\"fmono\">str</div>\n",
       "<details>\n",
       "    <summary>authors of the letter, surnames only</summary>\n",
       "    <div class=\"fmeta\">\n",
       "\n",
       "<div class=\"fmetarow\">\n",
       "    <div class=\"fmetakey\">converters:</div>\n",
       "    <div>Sophie Arnoult, Jesse de Does (TEI), Dirk Roorda (Text-Fabric)</div>\n",
       "</div>\n",
       "\n",
       "<div class=\"fmetarow\">\n",
       "    <div class=\"fmetakey\">dateWritten:</div>\n",
       "    <div>2022-05-04T12:42:04Z</div>\n",
       "</div>\n",
       "\n",
       "<div class=\"fmetarow\">\n",
       "    <div class=\"fmetakey\">descriptionTf:</div>\n",
       "    <div>Original text, editorial text and footnotes form three different types of text</div>\n",
       "</div>\n",
       "\n",
       "<div class=\"fmetarow\">\n",
       "    <div class=\"fmetakey\">editor:</div>\n",
       "    <div>Dr. W. Ph. Coolhaas, Dr. J. van Goor, Dr. J.E. Schooneveld-Oosterling, Dr. H.K. s'Jacob</div>\n",
       "</div>\n",
       "\n",
       "<div class=\"fmetarow\">\n",
       "    <div class=\"fmetakey\">format:</div>\n",
       "    <div>comma-space-separated values</div>\n",
       "</div>\n",
       "\n",
       "<div class=\"fmetarow\">\n",
       "    <div class=\"fmetakey\">institute:</div>\n",
       "    <div>KNAW/HuygensING</div>\n",
       "</div>\n",
       "\n",
       "<div class=\"fmetarow\">\n",
       "    <div class=\"fmetakey\">language:</div>\n",
       "    <div>nld</div>\n",
       "</div>\n",
       "\n",
       "<div class=\"fmetarow\">\n",
       "    <div class=\"fmetakey\">name:</div>\n",
       "    <div>Generale Missiven</div>\n",
       "</div>\n",
       "\n",
       "<div class=\"fmetarow\">\n",
       "    <div class=\"fmetakey\">period:</div>\n",
       "    <div>1610-1761</div>\n",
       "</div>\n",
       "\n",
       "<div class=\"fmetarow\">\n",
       "    <div class=\"fmetakey\">project:</div>\n",
       "    <div>CLARIAH WP6 Use Case 1</div>\n",
       "</div>\n",
       "\n",
       "<div class=\"fmetarow\">\n",
       "    <div class=\"fmetakey\">published:</div>\n",
       "    <div>Martinus Nijhoff (1960-1985), Bureau der Rijkscommissie voor Vaderlandse Geschiedenis (1988), Instituut voor Nederlandse Geschiedenis (1997, 2004-2007)</div>\n",
       "</div>\n",
       "\n",
       "<div class=\"fmetarow\">\n",
       "    <div class=\"fmetakey\">researcher:</div>\n",
       "    <div>Lodewijk Petram</div>\n",
       "</div>\n",
       "\n",
       "<div class=\"fmetarow\">\n",
       "    <div class=\"fmetakey\">sourceFormat:</div>\n",
       "    <div>TEI</div>\n",
       "</div>\n",
       "\n",
       "<div class=\"fmetarow\">\n",
       "    <div class=\"fmetakey\">title:</div>\n",
       "    <div>Generale Missieven van Gouverneurs-Generaal en Raden aan Heren XVII der Verenigde Oostindische Compagnie</div>\n",
       "</div>\n",
       "\n",
       "<div class=\"fmetarow\">\n",
       "    <div class=\"fmetakey\">writtenBy:</div>\n",
       "    <div>Text-Fabric</div>\n",
       "</div>\n",
       "\n",
       "        </div>\n",
       "    </details>\n",
       "</div>\n",
       "\n",
       "<div class=\"frow\">\n",
       "    <div class=\"fnamecat \">\n",
       "<a target=\"_blank\" href=\"https://github.com/clariah/wp6-missieven/blob/master/docs/transcription.md\" title=\"~/text-fabric-data/clariah/wp6-missieven/tf/1.0/authorFull.tf\">authorFull</a>\n",
       "</div>\n",
       "<div class=\"fmono\">str</div>\n",
       "<details>\n",
       "    <summary>authors of the letter, full names</summary>\n",
       "    <div class=\"fmeta\">\n",
       "\n",
       "<div class=\"fmetarow\">\n",
       "    <div class=\"fmetakey\">converters:</div>\n",
       "    <div>Sophie Arnoult, Jesse de Does (TEI), Dirk Roorda (Text-Fabric)</div>\n",
       "</div>\n",
       "\n",
       "<div class=\"fmetarow\">\n",
       "    <div class=\"fmetakey\">dateWritten:</div>\n",
       "    <div>2022-05-04T12:42:04Z</div>\n",
       "</div>\n",
       "\n",
       "<div class=\"fmetarow\">\n",
       "    <div class=\"fmetakey\">descriptionTf:</div>\n",
       "    <div>Original text, editorial text and footnotes form three different types of text</div>\n",
       "</div>\n",
       "\n",
       "<div class=\"fmetarow\">\n",
       "    <div class=\"fmetakey\">editor:</div>\n",
       "    <div>Dr. W. Ph. Coolhaas, Dr. J. van Goor, Dr. J.E. Schooneveld-Oosterling, Dr. H.K. s'Jacob</div>\n",
       "</div>\n",
       "\n",
       "<div class=\"fmetarow\">\n",
       "    <div class=\"fmetakey\">format:</div>\n",
       "    <div>comma-space-separated values</div>\n",
       "</div>\n",
       "\n",
       "<div class=\"fmetarow\">\n",
       "    <div class=\"fmetakey\">institute:</div>\n",
       "    <div>KNAW/HuygensING</div>\n",
       "</div>\n",
       "\n",
       "<div class=\"fmetarow\">\n",
       "    <div class=\"fmetakey\">language:</div>\n",
       "    <div>nld</div>\n",
       "</div>\n",
       "\n",
       "<div class=\"fmetarow\">\n",
       "    <div class=\"fmetakey\">name:</div>\n",
       "    <div>Generale Missiven</div>\n",
       "</div>\n",
       "\n",
       "<div class=\"fmetarow\">\n",
       "    <div class=\"fmetakey\">period:</div>\n",
       "    <div>1610-1761</div>\n",
       "</div>\n",
       "\n",
       "<div class=\"fmetarow\">\n",
       "    <div class=\"fmetakey\">project:</div>\n",
       "    <div>CLARIAH WP6 Use Case 1</div>\n",
       "</div>\n",
       "\n",
       "<div class=\"fmetarow\">\n",
       "    <div class=\"fmetakey\">published:</div>\n",
       "    <div>Martinus Nijhoff (1960-1985), Bureau der Rijkscommissie voor Vaderlandse Geschiedenis (1988), Instituut voor Nederlandse Geschiedenis (1997, 2004-2007)</div>\n",
       "</div>\n",
       "\n",
       "<div class=\"fmetarow\">\n",
       "    <div class=\"fmetakey\">researcher:</div>\n",
       "    <div>Lodewijk Petram</div>\n",
       "</div>\n",
       "\n",
       "<div class=\"fmetarow\">\n",
       "    <div class=\"fmetakey\">sourceFormat:</div>\n",
       "    <div>TEI</div>\n",
       "</div>\n",
       "\n",
       "<div class=\"fmetarow\">\n",
       "    <div class=\"fmetakey\">title:</div>\n",
       "    <div>Generale Missieven van Gouverneurs-Generaal en Raden aan Heren XVII der Verenigde Oostindische Compagnie</div>\n",
       "</div>\n",
       "\n",
       "<div class=\"fmetarow\">\n",
       "    <div class=\"fmetakey\">writtenBy:</div>\n",
       "    <div>Text-Fabric</div>\n",
       "</div>\n",
       "\n",
       "        </div>\n",
       "    </details>\n",
       "</div>\n",
       "\n",
       "<div class=\"frow\">\n",
       "    <div class=\"fnamecat \">\n",
       "<a target=\"_blank\" href=\"https://github.com/clariah/wp6-missieven/blob/master/docs/transcription.md\" title=\"~/text-fabric-data/clariah/wp6-missieven/tf/1.0/col.tf\">col</a>\n",
       "</div>\n",
       "<div class=\"fmono\">int</div>\n",
       "<details>\n",
       "    <summary>column number of a column in a row in a table</summary>\n",
       "    <div class=\"fmeta\">\n",
       "\n",
       "<div class=\"fmetarow\">\n",
       "    <div class=\"fmetakey\">converters:</div>\n",
       "    <div>Sophie Arnoult, Jesse de Does (TEI), Dirk Roorda (Text-Fabric)</div>\n",
       "</div>\n",
       "\n",
       "<div class=\"fmetarow\">\n",
       "    <div class=\"fmetakey\">dateWritten:</div>\n",
       "    <div>2022-05-04T12:42:04Z</div>\n",
       "</div>\n",
       "\n",
       "<div class=\"fmetarow\">\n",
       "    <div class=\"fmetakey\">descriptionTf:</div>\n",
       "    <div>Original text, editorial text and footnotes form three different types of text</div>\n",
       "</div>\n",
       "\n",
       "<div class=\"fmetarow\">\n",
       "    <div class=\"fmetakey\">editor:</div>\n",
       "    <div>Dr. W. Ph. Coolhaas, Dr. J. van Goor, Dr. J.E. Schooneveld-Oosterling, Dr. H.K. s'Jacob</div>\n",
       "</div>\n",
       "\n",
       "<div class=\"fmetarow\">\n",
       "    <div class=\"fmetakey\">institute:</div>\n",
       "    <div>KNAW/HuygensING</div>\n",
       "</div>\n",
       "\n",
       "<div class=\"fmetarow\">\n",
       "    <div class=\"fmetakey\">language:</div>\n",
       "    <div>nld</div>\n",
       "</div>\n",
       "\n",
       "<div class=\"fmetarow\">\n",
       "    <div class=\"fmetakey\">name:</div>\n",
       "    <div>Generale Missiven</div>\n",
       "</div>\n",
       "\n",
       "<div class=\"fmetarow\">\n",
       "    <div class=\"fmetakey\">period:</div>\n",
       "    <div>1610-1761</div>\n",
       "</div>\n",
       "\n",
       "<div class=\"fmetarow\">\n",
       "    <div class=\"fmetakey\">project:</div>\n",
       "    <div>CLARIAH WP6 Use Case 1</div>\n",
       "</div>\n",
       "\n",
       "<div class=\"fmetarow\">\n",
       "    <div class=\"fmetakey\">published:</div>\n",
       "    <div>Martinus Nijhoff (1960-1985), Bureau der Rijkscommissie voor Vaderlandse Geschiedenis (1988), Instituut voor Nederlandse Geschiedenis (1997, 2004-2007)</div>\n",
       "</div>\n",
       "\n",
       "<div class=\"fmetarow\">\n",
       "    <div class=\"fmetakey\">researcher:</div>\n",
       "    <div>Lodewijk Petram</div>\n",
       "</div>\n",
       "\n",
       "<div class=\"fmetarow\">\n",
       "    <div class=\"fmetakey\">sourceFormat:</div>\n",
       "    <div>TEI</div>\n",
       "</div>\n",
       "\n",
       "<div class=\"fmetarow\">\n",
       "    <div class=\"fmetakey\">title:</div>\n",
       "    <div>Generale Missieven van Gouverneurs-Generaal en Raden aan Heren XVII der Verenigde Oostindische Compagnie</div>\n",
       "</div>\n",
       "\n",
       "<div class=\"fmetarow\">\n",
       "    <div class=\"fmetakey\">writtenBy:</div>\n",
       "    <div>Text-Fabric</div>\n",
       "</div>\n",
       "\n",
       "        </div>\n",
       "    </details>\n",
       "</div>\n",
       "\n",
       "<div class=\"frow\">\n",
       "    <div class=\"fnamecat \">\n",
       "<a target=\"_blank\" href=\"https://github.com/clariah/wp6-missieven/blob/master/docs/transcription.md\" title=\"~/text-fabric-data/clariah/wp6-missieven/tf/1.0/day.tf\">day</a>\n",
       "</div>\n",
       "<div class=\"fmono\">int</div>\n",
       "<details>\n",
       "    <summary>day part of the date of the letter</summary>\n",
       "    <div class=\"fmeta\">\n",
       "\n",
       "<div class=\"fmetarow\">\n",
       "    <div class=\"fmetakey\">converters:</div>\n",
       "    <div>Sophie Arnoult, Jesse de Does (TEI), Dirk Roorda (Text-Fabric)</div>\n",
       "</div>\n",
       "\n",
       "<div class=\"fmetarow\">\n",
       "    <div class=\"fmetakey\">dateWritten:</div>\n",
       "    <div>2022-05-04T12:42:04Z</div>\n",
       "</div>\n",
       "\n",
       "<div class=\"fmetarow\">\n",
       "    <div class=\"fmetakey\">descriptionTf:</div>\n",
       "    <div>Original text, editorial text and footnotes form three different types of text</div>\n",
       "</div>\n",
       "\n",
       "<div class=\"fmetarow\">\n",
       "    <div class=\"fmetakey\">editor:</div>\n",
       "    <div>Dr. W. Ph. Coolhaas, Dr. J. van Goor, Dr. J.E. Schooneveld-Oosterling, Dr. H.K. s'Jacob</div>\n",
       "</div>\n",
       "\n",
       "<div class=\"fmetarow\">\n",
       "    <div class=\"fmetakey\">format:</div>\n",
       "    <div>numeral between 1 and 31 inclusive</div>\n",
       "</div>\n",
       "\n",
       "<div class=\"fmetarow\">\n",
       "    <div class=\"fmetakey\">institute:</div>\n",
       "    <div>KNAW/HuygensING</div>\n",
       "</div>\n",
       "\n",
       "<div class=\"fmetarow\">\n",
       "    <div class=\"fmetakey\">language:</div>\n",
       "    <div>nld</div>\n",
       "</div>\n",
       "\n",
       "<div class=\"fmetarow\">\n",
       "    <div class=\"fmetakey\">name:</div>\n",
       "    <div>Generale Missiven</div>\n",
       "</div>\n",
       "\n",
       "<div class=\"fmetarow\">\n",
       "    <div class=\"fmetakey\">period:</div>\n",
       "    <div>1610-1761</div>\n",
       "</div>\n",
       "\n",
       "<div class=\"fmetarow\">\n",
       "    <div class=\"fmetakey\">project:</div>\n",
       "    <div>CLARIAH WP6 Use Case 1</div>\n",
       "</div>\n",
       "\n",
       "<div class=\"fmetarow\">\n",
       "    <div class=\"fmetakey\">published:</div>\n",
       "    <div>Martinus Nijhoff (1960-1985), Bureau der Rijkscommissie voor Vaderlandse Geschiedenis (1988), Instituut voor Nederlandse Geschiedenis (1997, 2004-2007)</div>\n",
       "</div>\n",
       "\n",
       "<div class=\"fmetarow\">\n",
       "    <div class=\"fmetakey\">researcher:</div>\n",
       "    <div>Lodewijk Petram</div>\n",
       "</div>\n",
       "\n",
       "<div class=\"fmetarow\">\n",
       "    <div class=\"fmetakey\">sourceFormat:</div>\n",
       "    <div>TEI</div>\n",
       "</div>\n",
       "\n",
       "<div class=\"fmetarow\">\n",
       "    <div class=\"fmetakey\">title:</div>\n",
       "    <div>Generale Missieven van Gouverneurs-Generaal en Raden aan Heren XVII der Verenigde Oostindische Compagnie</div>\n",
       "</div>\n",
       "\n",
       "<div class=\"fmetarow\">\n",
       "    <div class=\"fmetakey\">writtenBy:</div>\n",
       "    <div>Text-Fabric</div>\n",
       "</div>\n",
       "\n",
       "        </div>\n",
       "    </details>\n",
       "</div>\n",
       "\n",
       "<div class=\"frow\">\n",
       "    <div class=\"fnamecat \">\n",
       "<a target=\"_blank\" href=\"https://github.com/clariah/wp6-missieven/blob/master/docs/transcription.md\" title=\"~/text-fabric-data/clariah/wp6-missieven/tf/1.0/isden.tf\">isden</a>\n",
       "</div>\n",
       "<div class=\"fmono\">int</div>\n",
       "<details>\n",
       "    <summary>whether a word is the denominator in fraction, e.g. 4 in 1/4</summary>\n",
       "    <div class=\"fmeta\">\n",
       "\n",
       "<div class=\"fmetarow\">\n",
       "    <div class=\"fmetakey\">converters:</div>\n",
       "    <div>Sophie Arnoult, Jesse de Does (TEI), Dirk Roorda (Text-Fabric)</div>\n",
       "</div>\n",
       "\n",
       "<div class=\"fmetarow\">\n",
       "    <div class=\"fmetakey\">dateWritten:</div>\n",
       "    <div>2022-05-04T12:42:04Z</div>\n",
       "</div>\n",
       "\n",
       "<div class=\"fmetarow\">\n",
       "    <div class=\"fmetakey\">descriptionTf:</div>\n",
       "    <div>Original text, editorial text and footnotes form three different types of text</div>\n",
       "</div>\n",
       "\n",
       "<div class=\"fmetarow\">\n",
       "    <div class=\"fmetakey\">editor:</div>\n",
       "    <div>Dr. W. Ph. Coolhaas, Dr. J. van Goor, Dr. J.E. Schooneveld-Oosterling, Dr. H.K. s'Jacob</div>\n",
       "</div>\n",
       "\n",
       "<div class=\"fmetarow\">\n",
       "    <div class=\"fmetakey\">format:</div>\n",
       "    <div>integer 1 or absent</div>\n",
       "</div>\n",
       "\n",
       "<div class=\"fmetarow\">\n",
       "    <div class=\"fmetakey\">institute:</div>\n",
       "    <div>KNAW/HuygensING</div>\n",
       "</div>\n",
       "\n",
       "<div class=\"fmetarow\">\n",
       "    <div class=\"fmetakey\">language:</div>\n",
       "    <div>nld</div>\n",
       "</div>\n",
       "\n",
       "<div class=\"fmetarow\">\n",
       "    <div class=\"fmetakey\">name:</div>\n",
       "    <div>Generale Missiven</div>\n",
       "</div>\n",
       "\n",
       "<div class=\"fmetarow\">\n",
       "    <div class=\"fmetakey\">period:</div>\n",
       "    <div>1610-1761</div>\n",
       "</div>\n",
       "\n",
       "<div class=\"fmetarow\">\n",
       "    <div class=\"fmetakey\">project:</div>\n",
       "    <div>CLARIAH WP6 Use Case 1</div>\n",
       "</div>\n",
       "\n",
       "<div class=\"fmetarow\">\n",
       "    <div class=\"fmetakey\">published:</div>\n",
       "    <div>Martinus Nijhoff (1960-1985), Bureau der Rijkscommissie voor Vaderlandse Geschiedenis (1988), Instituut voor Nederlandse Geschiedenis (1997, 2004-2007)</div>\n",
       "</div>\n",
       "\n",
       "<div class=\"fmetarow\">\n",
       "    <div class=\"fmetakey\">researcher:</div>\n",
       "    <div>Lodewijk Petram</div>\n",
       "</div>\n",
       "\n",
       "<div class=\"fmetarow\">\n",
       "    <div class=\"fmetakey\">sourceFormat:</div>\n",
       "    <div>TEI</div>\n",
       "</div>\n",
       "\n",
       "<div class=\"fmetarow\">\n",
       "    <div class=\"fmetakey\">title:</div>\n",
       "    <div>Generale Missieven van Gouverneurs-Generaal en Raden aan Heren XVII der Verenigde Oostindische Compagnie</div>\n",
       "</div>\n",
       "\n",
       "<div class=\"fmetarow\">\n",
       "    <div class=\"fmetakey\">writtenBy:</div>\n",
       "    <div>Text-Fabric</div>\n",
       "</div>\n",
       "\n",
       "        </div>\n",
       "    </details>\n",
       "</div>\n",
       "\n",
       "<div class=\"frow\">\n",
       "    <div class=\"fnamecat \">\n",
       "<a target=\"_blank\" href=\"https://github.com/clariah/wp6-missieven/blob/master/docs/transcription.md\" title=\"~/text-fabric-data/clariah/wp6-missieven/tf/1.0/isemph.tf\">isemph</a>\n",
       "</div>\n",
       "<div class=\"fmono\">str</div>\n",
       "<details>\n",
       "    <summary>whether a word is emphasized by typography</summary>\n",
       "    <div class=\"fmeta\">\n",
       "\n",
       "<div class=\"fmetarow\">\n",
       "    <div class=\"fmetakey\">converters:</div>\n",
       "    <div>Sophie Arnoult, Jesse de Does (TEI), Dirk Roorda (Text-Fabric)</div>\n",
       "</div>\n",
       "\n",
       "<div class=\"fmetarow\">\n",
       "    <div class=\"fmetakey\">dateWritten:</div>\n",
       "    <div>2022-05-04T12:42:04Z</div>\n",
       "</div>\n",
       "\n",
       "<div class=\"fmetarow\">\n",
       "    <div class=\"fmetakey\">descriptionTf:</div>\n",
       "    <div>Original text, editorial text and footnotes form three different types of text</div>\n",
       "</div>\n",
       "\n",
       "<div class=\"fmetarow\">\n",
       "    <div class=\"fmetakey\">editor:</div>\n",
       "    <div>Dr. W. Ph. Coolhaas, Dr. J. van Goor, Dr. J.E. Schooneveld-Oosterling, Dr. H.K. s'Jacob</div>\n",
       "</div>\n",
       "\n",
       "<div class=\"fmetarow\">\n",
       "    <div class=\"fmetakey\">format:</div>\n",
       "    <div>integer 1 or absent</div>\n",
       "</div>\n",
       "\n",
       "<div class=\"fmetarow\">\n",
       "    <div class=\"fmetakey\">institute:</div>\n",
       "    <div>KNAW/HuygensING</div>\n",
       "</div>\n",
       "\n",
       "<div class=\"fmetarow\">\n",
       "    <div class=\"fmetakey\">language:</div>\n",
       "    <div>nld</div>\n",
       "</div>\n",
       "\n",
       "<div class=\"fmetarow\">\n",
       "    <div class=\"fmetakey\">name:</div>\n",
       "    <div>Generale Missiven</div>\n",
       "</div>\n",
       "\n",
       "<div class=\"fmetarow\">\n",
       "    <div class=\"fmetakey\">period:</div>\n",
       "    <div>1610-1761</div>\n",
       "</div>\n",
       "\n",
       "<div class=\"fmetarow\">\n",
       "    <div class=\"fmetakey\">project:</div>\n",
       "    <div>CLARIAH WP6 Use Case 1</div>\n",
       "</div>\n",
       "\n",
       "<div class=\"fmetarow\">\n",
       "    <div class=\"fmetakey\">published:</div>\n",
       "    <div>Martinus Nijhoff (1960-1985), Bureau der Rijkscommissie voor Vaderlandse Geschiedenis (1988), Instituut voor Nederlandse Geschiedenis (1997, 2004-2007)</div>\n",
       "</div>\n",
       "\n",
       "<div class=\"fmetarow\">\n",
       "    <div class=\"fmetakey\">researcher:</div>\n",
       "    <div>Lodewijk Petram</div>\n",
       "</div>\n",
       "\n",
       "<div class=\"fmetarow\">\n",
       "    <div class=\"fmetakey\">sourceFormat:</div>\n",
       "    <div>TEI</div>\n",
       "</div>\n",
       "\n",
       "<div class=\"fmetarow\">\n",
       "    <div class=\"fmetakey\">title:</div>\n",
       "    <div>Generale Missieven van Gouverneurs-Generaal en Raden aan Heren XVII der Verenigde Oostindische Compagnie</div>\n",
       "</div>\n",
       "\n",
       "<div class=\"fmetarow\">\n",
       "    <div class=\"fmetakey\">writtenBy:</div>\n",
       "    <div>Text-Fabric</div>\n",
       "</div>\n",
       "\n",
       "        </div>\n",
       "    </details>\n",
       "</div>\n",
       "\n",
       "<div class=\"frow\">\n",
       "    <div class=\"fnamecat \">\n",
       "<a target=\"_blank\" href=\"https://github.com/clariah/wp6-missieven/blob/master/docs/transcription.md\" title=\"~/text-fabric-data/clariah/wp6-missieven/tf/1.0/isfolio.tf\">isfolio</a>\n",
       "</div>\n",
       "<div class=\"fmono\">int</div>\n",
       "<details>\n",
       "    <summary>a folio reference</summary>\n",
       "    <div class=\"fmeta\">\n",
       "\n",
       "<div class=\"fmetarow\">\n",
       "    <div class=\"fmetakey\">converters:</div>\n",
       "    <div>Sophie Arnoult, Jesse de Does (TEI), Dirk Roorda (Text-Fabric)</div>\n",
       "</div>\n",
       "\n",
       "<div class=\"fmetarow\">\n",
       "    <div class=\"fmetakey\">dateWritten:</div>\n",
       "    <div>2022-05-04T12:42:04Z</div>\n",
       "</div>\n",
       "\n",
       "<div class=\"fmetarow\">\n",
       "    <div class=\"fmetakey\">descriptionTf:</div>\n",
       "    <div>Original text, editorial text and footnotes form three different types of text</div>\n",
       "</div>\n",
       "\n",
       "<div class=\"fmetarow\">\n",
       "    <div class=\"fmetakey\">editor:</div>\n",
       "    <div>Dr. W. Ph. Coolhaas, Dr. J. van Goor, Dr. J.E. Schooneveld-Oosterling, Dr. H.K. s'Jacob</div>\n",
       "</div>\n",
       "\n",
       "<div class=\"fmetarow\">\n",
       "    <div class=\"fmetakey\">format:</div>\n",
       "    <div>integer 1 or absent</div>\n",
       "</div>\n",
       "\n",
       "<div class=\"fmetarow\">\n",
       "    <div class=\"fmetakey\">institute:</div>\n",
       "    <div>KNAW/HuygensING</div>\n",
       "</div>\n",
       "\n",
       "<div class=\"fmetarow\">\n",
       "    <div class=\"fmetakey\">language:</div>\n",
       "    <div>nld</div>\n",
       "</div>\n",
       "\n",
       "<div class=\"fmetarow\">\n",
       "    <div class=\"fmetakey\">name:</div>\n",
       "    <div>Generale Missiven</div>\n",
       "</div>\n",
       "\n",
       "<div class=\"fmetarow\">\n",
       "    <div class=\"fmetakey\">period:</div>\n",
       "    <div>1610-1761</div>\n",
       "</div>\n",
       "\n",
       "<div class=\"fmetarow\">\n",
       "    <div class=\"fmetakey\">project:</div>\n",
       "    <div>CLARIAH WP6 Use Case 1</div>\n",
       "</div>\n",
       "\n",
       "<div class=\"fmetarow\">\n",
       "    <div class=\"fmetakey\">published:</div>\n",
       "    <div>Martinus Nijhoff (1960-1985), Bureau der Rijkscommissie voor Vaderlandse Geschiedenis (1988), Instituut voor Nederlandse Geschiedenis (1997, 2004-2007)</div>\n",
       "</div>\n",
       "\n",
       "<div class=\"fmetarow\">\n",
       "    <div class=\"fmetakey\">researcher:</div>\n",
       "    <div>Lodewijk Petram</div>\n",
       "</div>\n",
       "\n",
       "<div class=\"fmetarow\">\n",
       "    <div class=\"fmetakey\">sourceFormat:</div>\n",
       "    <div>TEI</div>\n",
       "</div>\n",
       "\n",
       "<div class=\"fmetarow\">\n",
       "    <div class=\"fmetakey\">title:</div>\n",
       "    <div>Generale Missieven van Gouverneurs-Generaal en Raden aan Heren XVII der Verenigde Oostindische Compagnie</div>\n",
       "</div>\n",
       "\n",
       "<div class=\"fmetarow\">\n",
       "    <div class=\"fmetakey\">writtenBy:</div>\n",
       "    <div>Text-Fabric</div>\n",
       "</div>\n",
       "\n",
       "        </div>\n",
       "    </details>\n",
       "</div>\n",
       "\n",
       "<div class=\"frow\">\n",
       "    <div class=\"fnamecat \">\n",
       "<a target=\"_blank\" href=\"https://github.com/clariah/wp6-missieven/blob/master/docs/transcription.md\" title=\"~/text-fabric-data/clariah/wp6-missieven/tf/1.0/isnote.tf\">isnote</a>\n",
       "</div>\n",
       "<div class=\"fmono\">int</div>\n",
       "<details>\n",
       "    <summary>whether a word belongs to footnote text</summary>\n",
       "    <div class=\"fmeta\">\n",
       "\n",
       "<div class=\"fmetarow\">\n",
       "    <div class=\"fmetakey\">converters:</div>\n",
       "    <div>Sophie Arnoult, Jesse de Does (TEI), Dirk Roorda (Text-Fabric)</div>\n",
       "</div>\n",
       "\n",
       "<div class=\"fmetarow\">\n",
       "    <div class=\"fmetakey\">dateWritten:</div>\n",
       "    <div>2022-05-04T12:42:04Z</div>\n",
       "</div>\n",
       "\n",
       "<div class=\"fmetarow\">\n",
       "    <div class=\"fmetakey\">descriptionTf:</div>\n",
       "    <div>Original text, editorial text and footnotes form three different types of text</div>\n",
       "</div>\n",
       "\n",
       "<div class=\"fmetarow\">\n",
       "    <div class=\"fmetakey\">editor:</div>\n",
       "    <div>Dr. W. Ph. Coolhaas, Dr. J. van Goor, Dr. J.E. Schooneveld-Oosterling, Dr. H.K. s'Jacob</div>\n",
       "</div>\n",
       "\n",
       "<div class=\"fmetarow\">\n",
       "    <div class=\"fmetakey\">format:</div>\n",
       "    <div>integer 1 or absent</div>\n",
       "</div>\n",
       "\n",
       "<div class=\"fmetarow\">\n",
       "    <div class=\"fmetakey\">institute:</div>\n",
       "    <div>KNAW/HuygensING</div>\n",
       "</div>\n",
       "\n",
       "<div class=\"fmetarow\">\n",
       "    <div class=\"fmetakey\">language:</div>\n",
       "    <div>nld</div>\n",
       "</div>\n",
       "\n",
       "<div class=\"fmetarow\">\n",
       "    <div class=\"fmetakey\">name:</div>\n",
       "    <div>Generale Missiven</div>\n",
       "</div>\n",
       "\n",
       "<div class=\"fmetarow\">\n",
       "    <div class=\"fmetakey\">period:</div>\n",
       "    <div>1610-1761</div>\n",
       "</div>\n",
       "\n",
       "<div class=\"fmetarow\">\n",
       "    <div class=\"fmetakey\">project:</div>\n",
       "    <div>CLARIAH WP6 Use Case 1</div>\n",
       "</div>\n",
       "\n",
       "<div class=\"fmetarow\">\n",
       "    <div class=\"fmetakey\">published:</div>\n",
       "    <div>Martinus Nijhoff (1960-1985), Bureau der Rijkscommissie voor Vaderlandse Geschiedenis (1988), Instituut voor Nederlandse Geschiedenis (1997, 2004-2007)</div>\n",
       "</div>\n",
       "\n",
       "<div class=\"fmetarow\">\n",
       "    <div class=\"fmetakey\">researcher:</div>\n",
       "    <div>Lodewijk Petram</div>\n",
       "</div>\n",
       "\n",
       "<div class=\"fmetarow\">\n",
       "    <div class=\"fmetakey\">sourceFormat:</div>\n",
       "    <div>TEI</div>\n",
       "</div>\n",
       "\n",
       "<div class=\"fmetarow\">\n",
       "    <div class=\"fmetakey\">title:</div>\n",
       "    <div>Generale Missieven van Gouverneurs-Generaal en Raden aan Heren XVII der Verenigde Oostindische Compagnie</div>\n",
       "</div>\n",
       "\n",
       "<div class=\"fmetarow\">\n",
       "    <div class=\"fmetakey\">writtenBy:</div>\n",
       "    <div>Text-Fabric</div>\n",
       "</div>\n",
       "\n",
       "        </div>\n",
       "    </details>\n",
       "</div>\n",
       "\n",
       "<div class=\"frow\">\n",
       "    <div class=\"fnamecat \">\n",
       "<a target=\"_blank\" href=\"https://github.com/clariah/wp6-missieven/blob/master/docs/transcription.md\" title=\"~/text-fabric-data/clariah/wp6-missieven/tf/1.0/isnum.tf\">isnum</a>\n",
       "</div>\n",
       "<div class=\"fmono\">int</div>\n",
       "<details>\n",
       "    <summary>whether a word is the numerator in fraction, e.g. 1 in 1/4</summary>\n",
       "    <div class=\"fmeta\">\n",
       "\n",
       "<div class=\"fmetarow\">\n",
       "    <div class=\"fmetakey\">converters:</div>\n",
       "    <div>Sophie Arnoult, Jesse de Does (TEI), Dirk Roorda (Text-Fabric)</div>\n",
       "</div>\n",
       "\n",
       "<div class=\"fmetarow\">\n",
       "    <div class=\"fmetakey\">dateWritten:</div>\n",
       "    <div>2022-05-04T12:42:04Z</div>\n",
       "</div>\n",
       "\n",
       "<div class=\"fmetarow\">\n",
       "    <div class=\"fmetakey\">descriptionTf:</div>\n",
       "    <div>Original text, editorial text and footnotes form three different types of text</div>\n",
       "</div>\n",
       "\n",
       "<div class=\"fmetarow\">\n",
       "    <div class=\"fmetakey\">editor:</div>\n",
       "    <div>Dr. W. Ph. Coolhaas, Dr. J. van Goor, Dr. J.E. Schooneveld-Oosterling, Dr. H.K. s'Jacob</div>\n",
       "</div>\n",
       "\n",
       "<div class=\"fmetarow\">\n",
       "    <div class=\"fmetakey\">format:</div>\n",
       "    <div>integer 1 or absent</div>\n",
       "</div>\n",
       "\n",
       "<div class=\"fmetarow\">\n",
       "    <div class=\"fmetakey\">institute:</div>\n",
       "    <div>KNAW/HuygensING</div>\n",
       "</div>\n",
       "\n",
       "<div class=\"fmetarow\">\n",
       "    <div class=\"fmetakey\">language:</div>\n",
       "    <div>nld</div>\n",
       "</div>\n",
       "\n",
       "<div class=\"fmetarow\">\n",
       "    <div class=\"fmetakey\">name:</div>\n",
       "    <div>Generale Missiven</div>\n",
       "</div>\n",
       "\n",
       "<div class=\"fmetarow\">\n",
       "    <div class=\"fmetakey\">period:</div>\n",
       "    <div>1610-1761</div>\n",
       "</div>\n",
       "\n",
       "<div class=\"fmetarow\">\n",
       "    <div class=\"fmetakey\">project:</div>\n",
       "    <div>CLARIAH WP6 Use Case 1</div>\n",
       "</div>\n",
       "\n",
       "<div class=\"fmetarow\">\n",
       "    <div class=\"fmetakey\">published:</div>\n",
       "    <div>Martinus Nijhoff (1960-1985), Bureau der Rijkscommissie voor Vaderlandse Geschiedenis (1988), Instituut voor Nederlandse Geschiedenis (1997, 2004-2007)</div>\n",
       "</div>\n",
       "\n",
       "<div class=\"fmetarow\">\n",
       "    <div class=\"fmetakey\">researcher:</div>\n",
       "    <div>Lodewijk Petram</div>\n",
       "</div>\n",
       "\n",
       "<div class=\"fmetarow\">\n",
       "    <div class=\"fmetakey\">sourceFormat:</div>\n",
       "    <div>TEI</div>\n",
       "</div>\n",
       "\n",
       "<div class=\"fmetarow\">\n",
       "    <div class=\"fmetakey\">title:</div>\n",
       "    <div>Generale Missieven van Gouverneurs-Generaal en Raden aan Heren XVII der Verenigde Oostindische Compagnie</div>\n",
       "</div>\n",
       "\n",
       "<div class=\"fmetarow\">\n",
       "    <div class=\"fmetakey\">writtenBy:</div>\n",
       "    <div>Text-Fabric</div>\n",
       "</div>\n",
       "\n",
       "        </div>\n",
       "    </details>\n",
       "</div>\n",
       "\n",
       "<div class=\"frow\">\n",
       "    <div class=\"fnamecat \">\n",
       "<a target=\"_blank\" href=\"https://github.com/clariah/wp6-missieven/blob/master/docs/transcription.md\" title=\"~/text-fabric-data/clariah/wp6-missieven/tf/1.0/isorig.tf\">isorig</a>\n",
       "</div>\n",
       "<div class=\"fmono\">int</div>\n",
       "<details>\n",
       "    <summary>whether a word belongs to original text</summary>\n",
       "    <div class=\"fmeta\">\n",
       "\n",
       "<div class=\"fmetarow\">\n",
       "    <div class=\"fmetakey\">converters:</div>\n",
       "    <div>Sophie Arnoult, Jesse de Does (TEI), Dirk Roorda (Text-Fabric)</div>\n",
       "</div>\n",
       "\n",
       "<div class=\"fmetarow\">\n",
       "    <div class=\"fmetakey\">dateWritten:</div>\n",
       "    <div>2022-05-04T12:42:04Z</div>\n",
       "</div>\n",
       "\n",
       "<div class=\"fmetarow\">\n",
       "    <div class=\"fmetakey\">descriptionTf:</div>\n",
       "    <div>Original text, editorial text and footnotes form three different types of text</div>\n",
       "</div>\n",
       "\n",
       "<div class=\"fmetarow\">\n",
       "    <div class=\"fmetakey\">editor:</div>\n",
       "    <div>Dr. W. Ph. Coolhaas, Dr. J. van Goor, Dr. J.E. Schooneveld-Oosterling, Dr. H.K. s'Jacob</div>\n",
       "</div>\n",
       "\n",
       "<div class=\"fmetarow\">\n",
       "    <div class=\"fmetakey\">format:</div>\n",
       "    <div>integer 1 or absent</div>\n",
       "</div>\n",
       "\n",
       "<div class=\"fmetarow\">\n",
       "    <div class=\"fmetakey\">institute:</div>\n",
       "    <div>KNAW/HuygensING</div>\n",
       "</div>\n",
       "\n",
       "<div class=\"fmetarow\">\n",
       "    <div class=\"fmetakey\">language:</div>\n",
       "    <div>nld</div>\n",
       "</div>\n",
       "\n",
       "<div class=\"fmetarow\">\n",
       "    <div class=\"fmetakey\">name:</div>\n",
       "    <div>Generale Missiven</div>\n",
       "</div>\n",
       "\n",
       "<div class=\"fmetarow\">\n",
       "    <div class=\"fmetakey\">period:</div>\n",
       "    <div>1610-1761</div>\n",
       "</div>\n",
       "\n",
       "<div class=\"fmetarow\">\n",
       "    <div class=\"fmetakey\">project:</div>\n",
       "    <div>CLARIAH WP6 Use Case 1</div>\n",
       "</div>\n",
       "\n",
       "<div class=\"fmetarow\">\n",
       "    <div class=\"fmetakey\">published:</div>\n",
       "    <div>Martinus Nijhoff (1960-1985), Bureau der Rijkscommissie voor Vaderlandse Geschiedenis (1988), Instituut voor Nederlandse Geschiedenis (1997, 2004-2007)</div>\n",
       "</div>\n",
       "\n",
       "<div class=\"fmetarow\">\n",
       "    <div class=\"fmetakey\">researcher:</div>\n",
       "    <div>Lodewijk Petram</div>\n",
       "</div>\n",
       "\n",
       "<div class=\"fmetarow\">\n",
       "    <div class=\"fmetakey\">sourceFormat:</div>\n",
       "    <div>TEI</div>\n",
       "</div>\n",
       "\n",
       "<div class=\"fmetarow\">\n",
       "    <div class=\"fmetakey\">title:</div>\n",
       "    <div>Generale Missieven van Gouverneurs-Generaal en Raden aan Heren XVII der Verenigde Oostindische Compagnie</div>\n",
       "</div>\n",
       "\n",
       "<div class=\"fmetarow\">\n",
       "    <div class=\"fmetakey\">writtenBy:</div>\n",
       "    <div>Text-Fabric</div>\n",
       "</div>\n",
       "\n",
       "        </div>\n",
       "    </details>\n",
       "</div>\n",
       "\n",
       "<div class=\"frow\">\n",
       "    <div class=\"fnamecat \">\n",
       "<a target=\"_blank\" href=\"https://github.com/clariah/wp6-missieven/blob/master/docs/transcription.md\" title=\"~/text-fabric-data/clariah/wp6-missieven/tf/1.0/isq.tf\">isq</a>\n",
       "</div>\n",
       "<div class=\"fmono\">int</div>\n",
       "<details>\n",
       "    <summary>whether a word is a numerical fraction, e.g. 1/4</summary>\n",
       "    <div class=\"fmeta\">\n",
       "\n",
       "<div class=\"fmetarow\">\n",
       "    <div class=\"fmetakey\">converters:</div>\n",
       "    <div>Sophie Arnoult, Jesse de Does (TEI), Dirk Roorda (Text-Fabric)</div>\n",
       "</div>\n",
       "\n",
       "<div class=\"fmetarow\">\n",
       "    <div class=\"fmetakey\">dateWritten:</div>\n",
       "    <div>2022-05-04T12:42:05Z</div>\n",
       "</div>\n",
       "\n",
       "<div class=\"fmetarow\">\n",
       "    <div class=\"fmetakey\">descriptionTf:</div>\n",
       "    <div>Original text, editorial text and footnotes form three different types of text</div>\n",
       "</div>\n",
       "\n",
       "<div class=\"fmetarow\">\n",
       "    <div class=\"fmetakey\">editor:</div>\n",
       "    <div>Dr. W. Ph. Coolhaas, Dr. J. van Goor, Dr. J.E. Schooneveld-Oosterling, Dr. H.K. s'Jacob</div>\n",
       "</div>\n",
       "\n",
       "<div class=\"fmetarow\">\n",
       "    <div class=\"fmetakey\">format:</div>\n",
       "    <div>integer 1 or absent</div>\n",
       "</div>\n",
       "\n",
       "<div class=\"fmetarow\">\n",
       "    <div class=\"fmetakey\">institute:</div>\n",
       "    <div>KNAW/HuygensING</div>\n",
       "</div>\n",
       "\n",
       "<div class=\"fmetarow\">\n",
       "    <div class=\"fmetakey\">language:</div>\n",
       "    <div>nld</div>\n",
       "</div>\n",
       "\n",
       "<div class=\"fmetarow\">\n",
       "    <div class=\"fmetakey\">name:</div>\n",
       "    <div>Generale Missiven</div>\n",
       "</div>\n",
       "\n",
       "<div class=\"fmetarow\">\n",
       "    <div class=\"fmetakey\">period:</div>\n",
       "    <div>1610-1761</div>\n",
       "</div>\n",
       "\n",
       "<div class=\"fmetarow\">\n",
       "    <div class=\"fmetakey\">project:</div>\n",
       "    <div>CLARIAH WP6 Use Case 1</div>\n",
       "</div>\n",
       "\n",
       "<div class=\"fmetarow\">\n",
       "    <div class=\"fmetakey\">published:</div>\n",
       "    <div>Martinus Nijhoff (1960-1985), Bureau der Rijkscommissie voor Vaderlandse Geschiedenis (1988), Instituut voor Nederlandse Geschiedenis (1997, 2004-2007)</div>\n",
       "</div>\n",
       "\n",
       "<div class=\"fmetarow\">\n",
       "    <div class=\"fmetakey\">researcher:</div>\n",
       "    <div>Lodewijk Petram</div>\n",
       "</div>\n",
       "\n",
       "<div class=\"fmetarow\">\n",
       "    <div class=\"fmetakey\">sourceFormat:</div>\n",
       "    <div>TEI</div>\n",
       "</div>\n",
       "\n",
       "<div class=\"fmetarow\">\n",
       "    <div class=\"fmetakey\">title:</div>\n",
       "    <div>Generale Missieven van Gouverneurs-Generaal en Raden aan Heren XVII der Verenigde Oostindische Compagnie</div>\n",
       "</div>\n",
       "\n",
       "<div class=\"fmetarow\">\n",
       "    <div class=\"fmetakey\">writtenBy:</div>\n",
       "    <div>Text-Fabric</div>\n",
       "</div>\n",
       "\n",
       "        </div>\n",
       "    </details>\n",
       "</div>\n",
       "\n",
       "<div class=\"frow\">\n",
       "    <div class=\"fnamecat \">\n",
       "<a target=\"_blank\" href=\"https://github.com/clariah/wp6-missieven/blob/master/docs/transcription.md\" title=\"~/text-fabric-data/clariah/wp6-missieven/tf/1.0/isref.tf\">isref</a>\n",
       "</div>\n",
       "<div class=\"fmono\">int</div>\n",
       "<details>\n",
       "    <summary>whether a word belongs to the text of reference</summary>\n",
       "    <div class=\"fmeta\">\n",
       "\n",
       "<div class=\"fmetarow\">\n",
       "    <div class=\"fmetakey\">converters:</div>\n",
       "    <div>Sophie Arnoult, Jesse de Does (TEI), Dirk Roorda (Text-Fabric)</div>\n",
       "</div>\n",
       "\n",
       "<div class=\"fmetarow\">\n",
       "    <div class=\"fmetakey\">dateWritten:</div>\n",
       "    <div>2022-05-04T12:42:05Z</div>\n",
       "</div>\n",
       "\n",
       "<div class=\"fmetarow\">\n",
       "    <div class=\"fmetakey\">descriptionTf:</div>\n",
       "    <div>Original text, editorial text and footnotes form three different types of text</div>\n",
       "</div>\n",
       "\n",
       "<div class=\"fmetarow\">\n",
       "    <div class=\"fmetakey\">editor:</div>\n",
       "    <div>Dr. W. Ph. Coolhaas, Dr. J. van Goor, Dr. J.E. Schooneveld-Oosterling, Dr. H.K. s'Jacob</div>\n",
       "</div>\n",
       "\n",
       "<div class=\"fmetarow\">\n",
       "    <div class=\"fmetakey\">format:</div>\n",
       "    <div>integer 1 or absent</div>\n",
       "</div>\n",
       "\n",
       "<div class=\"fmetarow\">\n",
       "    <div class=\"fmetakey\">institute:</div>\n",
       "    <div>KNAW/HuygensING</div>\n",
       "</div>\n",
       "\n",
       "<div class=\"fmetarow\">\n",
       "    <div class=\"fmetakey\">language:</div>\n",
       "    <div>nld</div>\n",
       "</div>\n",
       "\n",
       "<div class=\"fmetarow\">\n",
       "    <div class=\"fmetakey\">name:</div>\n",
       "    <div>Generale Missiven</div>\n",
       "</div>\n",
       "\n",
       "<div class=\"fmetarow\">\n",
       "    <div class=\"fmetakey\">period:</div>\n",
       "    <div>1610-1761</div>\n",
       "</div>\n",
       "\n",
       "<div class=\"fmetarow\">\n",
       "    <div class=\"fmetakey\">project:</div>\n",
       "    <div>CLARIAH WP6 Use Case 1</div>\n",
       "</div>\n",
       "\n",
       "<div class=\"fmetarow\">\n",
       "    <div class=\"fmetakey\">published:</div>\n",
       "    <div>Martinus Nijhoff (1960-1985), Bureau der Rijkscommissie voor Vaderlandse Geschiedenis (1988), Instituut voor Nederlandse Geschiedenis (1997, 2004-2007)</div>\n",
       "</div>\n",
       "\n",
       "<div class=\"fmetarow\">\n",
       "    <div class=\"fmetakey\">researcher:</div>\n",
       "    <div>Lodewijk Petram</div>\n",
       "</div>\n",
       "\n",
       "<div class=\"fmetarow\">\n",
       "    <div class=\"fmetakey\">sourceFormat:</div>\n",
       "    <div>TEI</div>\n",
       "</div>\n",
       "\n",
       "<div class=\"fmetarow\">\n",
       "    <div class=\"fmetakey\">title:</div>\n",
       "    <div>Generale Missieven van Gouverneurs-Generaal en Raden aan Heren XVII der Verenigde Oostindische Compagnie</div>\n",
       "</div>\n",
       "\n",
       "<div class=\"fmetarow\">\n",
       "    <div class=\"fmetakey\">writtenBy:</div>\n",
       "    <div>Text-Fabric</div>\n",
       "</div>\n",
       "\n",
       "        </div>\n",
       "    </details>\n",
       "</div>\n",
       "\n",
       "<div class=\"frow\">\n",
       "    <div class=\"fnamecat \">\n",
       "<a target=\"_blank\" href=\"https://github.com/clariah/wp6-missieven/blob/master/docs/transcription.md\" title=\"~/text-fabric-data/clariah/wp6-missieven/tf/1.0/isremark.tf\">isremark</a>\n",
       "</div>\n",
       "<div class=\"fmono\">int</div>\n",
       "<details>\n",
       "    <summary>whether a word belongs to the text of editorial remarks</summary>\n",
       "    <div class=\"fmeta\">\n",
       "\n",
       "<div class=\"fmetarow\">\n",
       "    <div class=\"fmetakey\">converters:</div>\n",
       "    <div>Sophie Arnoult, Jesse de Does (TEI), Dirk Roorda (Text-Fabric)</div>\n",
       "</div>\n",
       "\n",
       "<div class=\"fmetarow\">\n",
       "    <div class=\"fmetakey\">dateWritten:</div>\n",
       "    <div>2022-05-04T12:42:05Z</div>\n",
       "</div>\n",
       "\n",
       "<div class=\"fmetarow\">\n",
       "    <div class=\"fmetakey\">descriptionTf:</div>\n",
       "    <div>Original text, editorial text and footnotes form three different types of text</div>\n",
       "</div>\n",
       "\n",
       "<div class=\"fmetarow\">\n",
       "    <div class=\"fmetakey\">editor:</div>\n",
       "    <div>Dr. W. Ph. Coolhaas, Dr. J. van Goor, Dr. J.E. Schooneveld-Oosterling, Dr. H.K. s'Jacob</div>\n",
       "</div>\n",
       "\n",
       "<div class=\"fmetarow\">\n",
       "    <div class=\"fmetakey\">format:</div>\n",
       "    <div>integer 1 or absent</div>\n",
       "</div>\n",
       "\n",
       "<div class=\"fmetarow\">\n",
       "    <div class=\"fmetakey\">institute:</div>\n",
       "    <div>KNAW/HuygensING</div>\n",
       "</div>\n",
       "\n",
       "<div class=\"fmetarow\">\n",
       "    <div class=\"fmetakey\">language:</div>\n",
       "    <div>nld</div>\n",
       "</div>\n",
       "\n",
       "<div class=\"fmetarow\">\n",
       "    <div class=\"fmetakey\">name:</div>\n",
       "    <div>Generale Missiven</div>\n",
       "</div>\n",
       "\n",
       "<div class=\"fmetarow\">\n",
       "    <div class=\"fmetakey\">period:</div>\n",
       "    <div>1610-1761</div>\n",
       "</div>\n",
       "\n",
       "<div class=\"fmetarow\">\n",
       "    <div class=\"fmetakey\">project:</div>\n",
       "    <div>CLARIAH WP6 Use Case 1</div>\n",
       "</div>\n",
       "\n",
       "<div class=\"fmetarow\">\n",
       "    <div class=\"fmetakey\">published:</div>\n",
       "    <div>Martinus Nijhoff (1960-1985), Bureau der Rijkscommissie voor Vaderlandse Geschiedenis (1988), Instituut voor Nederlandse Geschiedenis (1997, 2004-2007)</div>\n",
       "</div>\n",
       "\n",
       "<div class=\"fmetarow\">\n",
       "    <div class=\"fmetakey\">researcher:</div>\n",
       "    <div>Lodewijk Petram</div>\n",
       "</div>\n",
       "\n",
       "<div class=\"fmetarow\">\n",
       "    <div class=\"fmetakey\">sourceFormat:</div>\n",
       "    <div>TEI</div>\n",
       "</div>\n",
       "\n",
       "<div class=\"fmetarow\">\n",
       "    <div class=\"fmetakey\">title:</div>\n",
       "    <div>Generale Missieven van Gouverneurs-Generaal en Raden aan Heren XVII der Verenigde Oostindische Compagnie</div>\n",
       "</div>\n",
       "\n",
       "<div class=\"fmetarow\">\n",
       "    <div class=\"fmetakey\">writtenBy:</div>\n",
       "    <div>Text-Fabric</div>\n",
       "</div>\n",
       "\n",
       "        </div>\n",
       "    </details>\n",
       "</div>\n",
       "\n",
       "<div class=\"frow\">\n",
       "    <div class=\"fnamecat \">\n",
       "<a target=\"_blank\" href=\"https://github.com/clariah/wp6-missieven/blob/master/docs/transcription.md\" title=\"~/text-fabric-data/clariah/wp6-missieven/tf/1.0/isspecial.tf\">isspecial</a>\n",
       "</div>\n",
       "<div class=\"fmono\">int</div>\n",
       "<details>\n",
       "    <summary>whether a word has special typography possibly with OCR mistakes as well</summary>\n",
       "    <div class=\"fmeta\">\n",
       "\n",
       "<div class=\"fmetarow\">\n",
       "    <div class=\"fmetakey\">converters:</div>\n",
       "    <div>Sophie Arnoult, Jesse de Does (TEI), Dirk Roorda (Text-Fabric)</div>\n",
       "</div>\n",
       "\n",
       "<div class=\"fmetarow\">\n",
       "    <div class=\"fmetakey\">dateWritten:</div>\n",
       "    <div>2022-05-04T12:42:06Z</div>\n",
       "</div>\n",
       "\n",
       "<div class=\"fmetarow\">\n",
       "    <div class=\"fmetakey\">descriptionTf:</div>\n",
       "    <div>Original text, editorial text and footnotes form three different types of text</div>\n",
       "</div>\n",
       "\n",
       "<div class=\"fmetarow\">\n",
       "    <div class=\"fmetakey\">editor:</div>\n",
       "    <div>Dr. W. Ph. Coolhaas, Dr. J. van Goor, Dr. J.E. Schooneveld-Oosterling, Dr. H.K. s'Jacob</div>\n",
       "</div>\n",
       "\n",
       "<div class=\"fmetarow\">\n",
       "    <div class=\"fmetakey\">format:</div>\n",
       "    <div>integer 1 or absent</div>\n",
       "</div>\n",
       "\n",
       "<div class=\"fmetarow\">\n",
       "    <div class=\"fmetakey\">institute:</div>\n",
       "    <div>KNAW/HuygensING</div>\n",
       "</div>\n",
       "\n",
       "<div class=\"fmetarow\">\n",
       "    <div class=\"fmetakey\">language:</div>\n",
       "    <div>nld</div>\n",
       "</div>\n",
       "\n",
       "<div class=\"fmetarow\">\n",
       "    <div class=\"fmetakey\">name:</div>\n",
       "    <div>Generale Missiven</div>\n",
       "</div>\n",
       "\n",
       "<div class=\"fmetarow\">\n",
       "    <div class=\"fmetakey\">period:</div>\n",
       "    <div>1610-1761</div>\n",
       "</div>\n",
       "\n",
       "<div class=\"fmetarow\">\n",
       "    <div class=\"fmetakey\">project:</div>\n",
       "    <div>CLARIAH WP6 Use Case 1</div>\n",
       "</div>\n",
       "\n",
       "<div class=\"fmetarow\">\n",
       "    <div class=\"fmetakey\">published:</div>\n",
       "    <div>Martinus Nijhoff (1960-1985), Bureau der Rijkscommissie voor Vaderlandse Geschiedenis (1988), Instituut voor Nederlandse Geschiedenis (1997, 2004-2007)</div>\n",
       "</div>\n",
       "\n",
       "<div class=\"fmetarow\">\n",
       "    <div class=\"fmetakey\">researcher:</div>\n",
       "    <div>Lodewijk Petram</div>\n",
       "</div>\n",
       "\n",
       "<div class=\"fmetarow\">\n",
       "    <div class=\"fmetakey\">sourceFormat:</div>\n",
       "    <div>TEI</div>\n",
       "</div>\n",
       "\n",
       "<div class=\"fmetarow\">\n",
       "    <div class=\"fmetakey\">title:</div>\n",
       "    <div>Generale Missieven van Gouverneurs-Generaal en Raden aan Heren XVII der Verenigde Oostindische Compagnie</div>\n",
       "</div>\n",
       "\n",
       "<div class=\"fmetarow\">\n",
       "    <div class=\"fmetakey\">writtenBy:</div>\n",
       "    <div>Text-Fabric</div>\n",
       "</div>\n",
       "\n",
       "        </div>\n",
       "    </details>\n",
       "</div>\n",
       "\n",
       "<div class=\"frow\">\n",
       "    <div class=\"fnamecat \">\n",
       "<a target=\"_blank\" href=\"https://github.com/clariah/wp6-missieven/blob/master/docs/transcription.md\" title=\"~/text-fabric-data/clariah/wp6-missieven/tf/1.0/issub.tf\">issub</a>\n",
       "</div>\n",
       "<div class=\"fmono\">int</div>\n",
       "<details>\n",
       "    <summary>whether a word has subscript typography possibly indicating the denominator of a fraction</summary>\n",
       "    <div class=\"fmeta\">\n",
       "\n",
       "<div class=\"fmetarow\">\n",
       "    <div class=\"fmetakey\">converters:</div>\n",
       "    <div>Sophie Arnoult, Jesse de Does (TEI), Dirk Roorda (Text-Fabric)</div>\n",
       "</div>\n",
       "\n",
       "<div class=\"fmetarow\">\n",
       "    <div class=\"fmetakey\">dateWritten:</div>\n",
       "    <div>2022-05-04T12:42:06Z</div>\n",
       "</div>\n",
       "\n",
       "<div class=\"fmetarow\">\n",
       "    <div class=\"fmetakey\">descriptionTf:</div>\n",
       "    <div>Original text, editorial text and footnotes form three different types of text</div>\n",
       "</div>\n",
       "\n",
       "<div class=\"fmetarow\">\n",
       "    <div class=\"fmetakey\">editor:</div>\n",
       "    <div>Dr. W. Ph. Coolhaas, Dr. J. van Goor, Dr. J.E. Schooneveld-Oosterling, Dr. H.K. s'Jacob</div>\n",
       "</div>\n",
       "\n",
       "<div class=\"fmetarow\">\n",
       "    <div class=\"fmetakey\">format:</div>\n",
       "    <div>integer 1 or absent</div>\n",
       "</div>\n",
       "\n",
       "<div class=\"fmetarow\">\n",
       "    <div class=\"fmetakey\">institute:</div>\n",
       "    <div>KNAW/HuygensING</div>\n",
       "</div>\n",
       "\n",
       "<div class=\"fmetarow\">\n",
       "    <div class=\"fmetakey\">language:</div>\n",
       "    <div>nld</div>\n",
       "</div>\n",
       "\n",
       "<div class=\"fmetarow\">\n",
       "    <div class=\"fmetakey\">name:</div>\n",
       "    <div>Generale Missiven</div>\n",
       "</div>\n",
       "\n",
       "<div class=\"fmetarow\">\n",
       "    <div class=\"fmetakey\">period:</div>\n",
       "    <div>1610-1761</div>\n",
       "</div>\n",
       "\n",
       "<div class=\"fmetarow\">\n",
       "    <div class=\"fmetakey\">project:</div>\n",
       "    <div>CLARIAH WP6 Use Case 1</div>\n",
       "</div>\n",
       "\n",
       "<div class=\"fmetarow\">\n",
       "    <div class=\"fmetakey\">published:</div>\n",
       "    <div>Martinus Nijhoff (1960-1985), Bureau der Rijkscommissie voor Vaderlandse Geschiedenis (1988), Instituut voor Nederlandse Geschiedenis (1997, 2004-2007)</div>\n",
       "</div>\n",
       "\n",
       "<div class=\"fmetarow\">\n",
       "    <div class=\"fmetakey\">researcher:</div>\n",
       "    <div>Lodewijk Petram</div>\n",
       "</div>\n",
       "\n",
       "<div class=\"fmetarow\">\n",
       "    <div class=\"fmetakey\">sourceFormat:</div>\n",
       "    <div>TEI</div>\n",
       "</div>\n",
       "\n",
       "<div class=\"fmetarow\">\n",
       "    <div class=\"fmetakey\">title:</div>\n",
       "    <div>Generale Missieven van Gouverneurs-Generaal en Raden aan Heren XVII der Verenigde Oostindische Compagnie</div>\n",
       "</div>\n",
       "\n",
       "<div class=\"fmetarow\">\n",
       "    <div class=\"fmetakey\">writtenBy:</div>\n",
       "    <div>Text-Fabric</div>\n",
       "</div>\n",
       "\n",
       "        </div>\n",
       "    </details>\n",
       "</div>\n",
       "\n",
       "<div class=\"frow\">\n",
       "    <div class=\"fnamecat \">\n",
       "<a target=\"_blank\" href=\"https://github.com/clariah/wp6-missieven/blob/master/docs/transcription.md\" title=\"~/text-fabric-data/clariah/wp6-missieven/tf/1.0/issuper.tf\">issuper</a>\n",
       "</div>\n",
       "<div class=\"fmono\">int</div>\n",
       "<details>\n",
       "    <summary>whether a word has superscript typography possibly indicating the numerator of a fraction</summary>\n",
       "    <div class=\"fmeta\">\n",
       "\n",
       "<div class=\"fmetarow\">\n",
       "    <div class=\"fmetakey\">converters:</div>\n",
       "    <div>Sophie Arnoult, Jesse de Does (TEI), Dirk Roorda (Text-Fabric)</div>\n",
       "</div>\n",
       "\n",
       "<div class=\"fmetarow\">\n",
       "    <div class=\"fmetakey\">dateWritten:</div>\n",
       "    <div>2022-05-04T12:42:06Z</div>\n",
       "</div>\n",
       "\n",
       "<div class=\"fmetarow\">\n",
       "    <div class=\"fmetakey\">descriptionTf:</div>\n",
       "    <div>Original text, editorial text and footnotes form three different types of text</div>\n",
       "</div>\n",
       "\n",
       "<div class=\"fmetarow\">\n",
       "    <div class=\"fmetakey\">editor:</div>\n",
       "    <div>Dr. W. Ph. Coolhaas, Dr. J. van Goor, Dr. J.E. Schooneveld-Oosterling, Dr. H.K. s'Jacob</div>\n",
       "</div>\n",
       "\n",
       "<div class=\"fmetarow\">\n",
       "    <div class=\"fmetakey\">format:</div>\n",
       "    <div>integer 1 or absent</div>\n",
       "</div>\n",
       "\n",
       "<div class=\"fmetarow\">\n",
       "    <div class=\"fmetakey\">institute:</div>\n",
       "    <div>KNAW/HuygensING</div>\n",
       "</div>\n",
       "\n",
       "<div class=\"fmetarow\">\n",
       "    <div class=\"fmetakey\">language:</div>\n",
       "    <div>nld</div>\n",
       "</div>\n",
       "\n",
       "<div class=\"fmetarow\">\n",
       "    <div class=\"fmetakey\">name:</div>\n",
       "    <div>Generale Missiven</div>\n",
       "</div>\n",
       "\n",
       "<div class=\"fmetarow\">\n",
       "    <div class=\"fmetakey\">period:</div>\n",
       "    <div>1610-1761</div>\n",
       "</div>\n",
       "\n",
       "<div class=\"fmetarow\">\n",
       "    <div class=\"fmetakey\">project:</div>\n",
       "    <div>CLARIAH WP6 Use Case 1</div>\n",
       "</div>\n",
       "\n",
       "<div class=\"fmetarow\">\n",
       "    <div class=\"fmetakey\">published:</div>\n",
       "    <div>Martinus Nijhoff (1960-1985), Bureau der Rijkscommissie voor Vaderlandse Geschiedenis (1988), Instituut voor Nederlandse Geschiedenis (1997, 2004-2007)</div>\n",
       "</div>\n",
       "\n",
       "<div class=\"fmetarow\">\n",
       "    <div class=\"fmetakey\">researcher:</div>\n",
       "    <div>Lodewijk Petram</div>\n",
       "</div>\n",
       "\n",
       "<div class=\"fmetarow\">\n",
       "    <div class=\"fmetakey\">sourceFormat:</div>\n",
       "    <div>TEI</div>\n",
       "</div>\n",
       "\n",
       "<div class=\"fmetarow\">\n",
       "    <div class=\"fmetakey\">title:</div>\n",
       "    <div>Generale Missieven van Gouverneurs-Generaal en Raden aan Heren XVII der Verenigde Oostindische Compagnie</div>\n",
       "</div>\n",
       "\n",
       "<div class=\"fmetarow\">\n",
       "    <div class=\"fmetakey\">writtenBy:</div>\n",
       "    <div>Text-Fabric</div>\n",
       "</div>\n",
       "\n",
       "        </div>\n",
       "    </details>\n",
       "</div>\n",
       "\n",
       "<div class=\"frow\">\n",
       "    <div class=\"fnamecat \">\n",
       "<a target=\"_blank\" href=\"https://github.com/clariah/wp6-missieven/blob/master/docs/transcription.md\" title=\"~/text-fabric-data/clariah/wp6-missieven/tf/1.0/isund.tf\">isund</a>\n",
       "</div>\n",
       "<div class=\"fmono\">str</div>\n",
       "<details>\n",
       "    <summary>whether a word is underlined by typography</summary>\n",
       "    <div class=\"fmeta\">\n",
       "\n",
       "<div class=\"fmetarow\">\n",
       "    <div class=\"fmetakey\">converters:</div>\n",
       "    <div>Sophie Arnoult, Jesse de Does (TEI), Dirk Roorda (Text-Fabric)</div>\n",
       "</div>\n",
       "\n",
       "<div class=\"fmetarow\">\n",
       "    <div class=\"fmetakey\">dateWritten:</div>\n",
       "    <div>2022-05-04T12:42:06Z</div>\n",
       "</div>\n",
       "\n",
       "<div class=\"fmetarow\">\n",
       "    <div class=\"fmetakey\">descriptionTf:</div>\n",
       "    <div>Original text, editorial text and footnotes form three different types of text</div>\n",
       "</div>\n",
       "\n",
       "<div class=\"fmetarow\">\n",
       "    <div class=\"fmetakey\">editor:</div>\n",
       "    <div>Dr. W. Ph. Coolhaas, Dr. J. van Goor, Dr. J.E. Schooneveld-Oosterling, Dr. H.K. s'Jacob</div>\n",
       "</div>\n",
       "\n",
       "<div class=\"fmetarow\">\n",
       "    <div class=\"fmetakey\">format:</div>\n",
       "    <div>integer 1 or absent</div>\n",
       "</div>\n",
       "\n",
       "<div class=\"fmetarow\">\n",
       "    <div class=\"fmetakey\">institute:</div>\n",
       "    <div>KNAW/HuygensING</div>\n",
       "</div>\n",
       "\n",
       "<div class=\"fmetarow\">\n",
       "    <div class=\"fmetakey\">language:</div>\n",
       "    <div>nld</div>\n",
       "</div>\n",
       "\n",
       "<div class=\"fmetarow\">\n",
       "    <div class=\"fmetakey\">name:</div>\n",
       "    <div>Generale Missiven</div>\n",
       "</div>\n",
       "\n",
       "<div class=\"fmetarow\">\n",
       "    <div class=\"fmetakey\">period:</div>\n",
       "    <div>1610-1761</div>\n",
       "</div>\n",
       "\n",
       "<div class=\"fmetarow\">\n",
       "    <div class=\"fmetakey\">project:</div>\n",
       "    <div>CLARIAH WP6 Use Case 1</div>\n",
       "</div>\n",
       "\n",
       "<div class=\"fmetarow\">\n",
       "    <div class=\"fmetakey\">published:</div>\n",
       "    <div>Martinus Nijhoff (1960-1985), Bureau der Rijkscommissie voor Vaderlandse Geschiedenis (1988), Instituut voor Nederlandse Geschiedenis (1997, 2004-2007)</div>\n",
       "</div>\n",
       "\n",
       "<div class=\"fmetarow\">\n",
       "    <div class=\"fmetakey\">researcher:</div>\n",
       "    <div>Lodewijk Petram</div>\n",
       "</div>\n",
       "\n",
       "<div class=\"fmetarow\">\n",
       "    <div class=\"fmetakey\">sourceFormat:</div>\n",
       "    <div>TEI</div>\n",
       "</div>\n",
       "\n",
       "<div class=\"fmetarow\">\n",
       "    <div class=\"fmetakey\">title:</div>\n",
       "    <div>Generale Missieven van Gouverneurs-Generaal en Raden aan Heren XVII der Verenigde Oostindische Compagnie</div>\n",
       "</div>\n",
       "\n",
       "<div class=\"fmetarow\">\n",
       "    <div class=\"fmetakey\">writtenBy:</div>\n",
       "    <div>Text-Fabric</div>\n",
       "</div>\n",
       "\n",
       "        </div>\n",
       "    </details>\n",
       "</div>\n",
       "\n",
       "<div class=\"frow\">\n",
       "    <div class=\"fnamecat \">\n",
       "<a target=\"_blank\" href=\"https://github.com/clariah/wp6-missieven/blob/master/docs/transcription.md\" title=\"~/text-fabric-data/clariah/wp6-missieven/tf/1.0/mark.tf\">mark</a>\n",
       "</div>\n",
       "<div class=\"fmono\">int</div>\n",
       "<details>\n",
       "    <summary>footnote mark (not necessarily the same as shown on the printed page</summary>\n",
       "    <div class=\"fmeta\">\n",
       "\n",
       "<div class=\"fmetarow\">\n",
       "    <div class=\"fmetakey\">converters:</div>\n",
       "    <div>Sophie Arnoult, Jesse de Does (TEI), Dirk Roorda (Text-Fabric)</div>\n",
       "</div>\n",
       "\n",
       "<div class=\"fmetarow\">\n",
       "    <div class=\"fmetakey\">dateWritten:</div>\n",
       "    <div>2022-05-04T12:42:06Z</div>\n",
       "</div>\n",
       "\n",
       "<div class=\"fmetarow\">\n",
       "    <div class=\"fmetakey\">descriptionTf:</div>\n",
       "    <div>Original text, editorial text and footnotes form three different types of text</div>\n",
       "</div>\n",
       "\n",
       "<div class=\"fmetarow\">\n",
       "    <div class=\"fmetakey\">editor:</div>\n",
       "    <div>Dr. W. Ph. Coolhaas, Dr. J. van Goor, Dr. J.E. Schooneveld-Oosterling, Dr. H.K. s'Jacob</div>\n",
       "</div>\n",
       "\n",
       "<div class=\"fmetarow\">\n",
       "    <div class=\"fmetakey\">format:</div>\n",
       "    <div>integer</div>\n",
       "</div>\n",
       "\n",
       "<div class=\"fmetarow\">\n",
       "    <div class=\"fmetakey\">institute:</div>\n",
       "    <div>KNAW/HuygensING</div>\n",
       "</div>\n",
       "\n",
       "<div class=\"fmetarow\">\n",
       "    <div class=\"fmetakey\">language:</div>\n",
       "    <div>nld</div>\n",
       "</div>\n",
       "\n",
       "<div class=\"fmetarow\">\n",
       "    <div class=\"fmetakey\">name:</div>\n",
       "    <div>Generale Missiven</div>\n",
       "</div>\n",
       "\n",
       "<div class=\"fmetarow\">\n",
       "    <div class=\"fmetakey\">period:</div>\n",
       "    <div>1610-1761</div>\n",
       "</div>\n",
       "\n",
       "<div class=\"fmetarow\">\n",
       "    <div class=\"fmetakey\">project:</div>\n",
       "    <div>CLARIAH WP6 Use Case 1</div>\n",
       "</div>\n",
       "\n",
       "<div class=\"fmetarow\">\n",
       "    <div class=\"fmetakey\">published:</div>\n",
       "    <div>Martinus Nijhoff (1960-1985), Bureau der Rijkscommissie voor Vaderlandse Geschiedenis (1988), Instituut voor Nederlandse Geschiedenis (1997, 2004-2007)</div>\n",
       "</div>\n",
       "\n",
       "<div class=\"fmetarow\">\n",
       "    <div class=\"fmetakey\">researcher:</div>\n",
       "    <div>Lodewijk Petram</div>\n",
       "</div>\n",
       "\n",
       "<div class=\"fmetarow\">\n",
       "    <div class=\"fmetakey\">sourceFormat:</div>\n",
       "    <div>TEI</div>\n",
       "</div>\n",
       "\n",
       "<div class=\"fmetarow\">\n",
       "    <div class=\"fmetakey\">title:</div>\n",
       "    <div>Generale Missieven van Gouverneurs-Generaal en Raden aan Heren XVII der Verenigde Oostindische Compagnie</div>\n",
       "</div>\n",
       "\n",
       "<div class=\"fmetarow\">\n",
       "    <div class=\"fmetakey\">writtenBy:</div>\n",
       "    <div>Text-Fabric</div>\n",
       "</div>\n",
       "\n",
       "        </div>\n",
       "    </details>\n",
       "</div>\n",
       "\n",
       "<div class=\"frow\">\n",
       "    <div class=\"fnamecat \">\n",
       "<a target=\"_blank\" href=\"https://github.com/clariah/wp6-missieven/blob/master/docs/transcription.md\" title=\"~/text-fabric-data/clariah/wp6-missieven/tf/1.0/month.tf\">month</a>\n",
       "</div>\n",
       "<div class=\"fmono\">int</div>\n",
       "<details>\n",
       "    <summary>month part of the date of the letter</summary>\n",
       "    <div class=\"fmeta\">\n",
       "\n",
       "<div class=\"fmetarow\">\n",
       "    <div class=\"fmetakey\">converters:</div>\n",
       "    <div>Sophie Arnoult, Jesse de Does (TEI), Dirk Roorda (Text-Fabric)</div>\n",
       "</div>\n",
       "\n",
       "<div class=\"fmetarow\">\n",
       "    <div class=\"fmetakey\">dateWritten:</div>\n",
       "    <div>2022-05-04T12:42:06Z</div>\n",
       "</div>\n",
       "\n",
       "<div class=\"fmetarow\">\n",
       "    <div class=\"fmetakey\">descriptionTf:</div>\n",
       "    <div>Original text, editorial text and footnotes form three different types of text</div>\n",
       "</div>\n",
       "\n",
       "<div class=\"fmetarow\">\n",
       "    <div class=\"fmetakey\">editor:</div>\n",
       "    <div>Dr. W. Ph. Coolhaas, Dr. J. van Goor, Dr. J.E. Schooneveld-Oosterling, Dr. H.K. s'Jacob</div>\n",
       "</div>\n",
       "\n",
       "<div class=\"fmetarow\">\n",
       "    <div class=\"fmetakey\">format:</div>\n",
       "    <div>numeral between 1 and 12 inclusive</div>\n",
       "</div>\n",
       "\n",
       "<div class=\"fmetarow\">\n",
       "    <div class=\"fmetakey\">institute:</div>\n",
       "    <div>KNAW/HuygensING</div>\n",
       "</div>\n",
       "\n",
       "<div class=\"fmetarow\">\n",
       "    <div class=\"fmetakey\">language:</div>\n",
       "    <div>nld</div>\n",
       "</div>\n",
       "\n",
       "<div class=\"fmetarow\">\n",
       "    <div class=\"fmetakey\">name:</div>\n",
       "    <div>Generale Missiven</div>\n",
       "</div>\n",
       "\n",
       "<div class=\"fmetarow\">\n",
       "    <div class=\"fmetakey\">period:</div>\n",
       "    <div>1610-1761</div>\n",
       "</div>\n",
       "\n",
       "<div class=\"fmetarow\">\n",
       "    <div class=\"fmetakey\">project:</div>\n",
       "    <div>CLARIAH WP6 Use Case 1</div>\n",
       "</div>\n",
       "\n",
       "<div class=\"fmetarow\">\n",
       "    <div class=\"fmetakey\">published:</div>\n",
       "    <div>Martinus Nijhoff (1960-1985), Bureau der Rijkscommissie voor Vaderlandse Geschiedenis (1988), Instituut voor Nederlandse Geschiedenis (1997, 2004-2007)</div>\n",
       "</div>\n",
       "\n",
       "<div class=\"fmetarow\">\n",
       "    <div class=\"fmetakey\">researcher:</div>\n",
       "    <div>Lodewijk Petram</div>\n",
       "</div>\n",
       "\n",
       "<div class=\"fmetarow\">\n",
       "    <div class=\"fmetakey\">sourceFormat:</div>\n",
       "    <div>TEI</div>\n",
       "</div>\n",
       "\n",
       "<div class=\"fmetarow\">\n",
       "    <div class=\"fmetakey\">title:</div>\n",
       "    <div>Generale Missieven van Gouverneurs-Generaal en Raden aan Heren XVII der Verenigde Oostindische Compagnie</div>\n",
       "</div>\n",
       "\n",
       "<div class=\"fmetarow\">\n",
       "    <div class=\"fmetakey\">writtenBy:</div>\n",
       "    <div>Text-Fabric</div>\n",
       "</div>\n",
       "\n",
       "        </div>\n",
       "    </details>\n",
       "</div>\n",
       "\n",
       "<div class=\"frow\">\n",
       "    <div class=\"fnamecat \">\n",
       "<a target=\"_blank\" href=\"https://github.com/clariah/wp6-missieven/blob/master/docs/transcription.md\" title=\"~/text-fabric-data/clariah/wp6-missieven/tf/1.0/n.tf\">n</a>\n",
       "</div>\n",
       "<div class=\"fmono\">int</div>\n",
       "<details>\n",
       "    <summary>number of a volume, letter, page, para, line, table</summary>\n",
       "    <div class=\"fmeta\">\n",
       "\n",
       "<div class=\"fmetarow\">\n",
       "    <div class=\"fmetakey\">converters:</div>\n",
       "    <div>Sophie Arnoult, Jesse de Does (TEI), Dirk Roorda (Text-Fabric)</div>\n",
       "</div>\n",
       "\n",
       "<div class=\"fmetarow\">\n",
       "    <div class=\"fmetakey\">dateWritten:</div>\n",
       "    <div>2022-05-04T12:42:06Z</div>\n",
       "</div>\n",
       "\n",
       "<div class=\"fmetarow\">\n",
       "    <div class=\"fmetakey\">descriptionTf:</div>\n",
       "    <div>Original text, editorial text and footnotes form three different types of text</div>\n",
       "</div>\n",
       "\n",
       "<div class=\"fmetarow\">\n",
       "    <div class=\"fmetakey\">editor:</div>\n",
       "    <div>Dr. W. Ph. Coolhaas, Dr. J. van Goor, Dr. J.E. Schooneveld-Oosterling, Dr. H.K. s'Jacob</div>\n",
       "</div>\n",
       "\n",
       "<div class=\"fmetarow\">\n",
       "    <div class=\"fmetakey\">institute:</div>\n",
       "    <div>KNAW/HuygensING</div>\n",
       "</div>\n",
       "\n",
       "<div class=\"fmetarow\">\n",
       "    <div class=\"fmetakey\">language:</div>\n",
       "    <div>nld</div>\n",
       "</div>\n",
       "\n",
       "<div class=\"fmetarow\">\n",
       "    <div class=\"fmetakey\">name:</div>\n",
       "    <div>Generale Missiven</div>\n",
       "</div>\n",
       "\n",
       "<div class=\"fmetarow\">\n",
       "    <div class=\"fmetakey\">period:</div>\n",
       "    <div>1610-1761</div>\n",
       "</div>\n",
       "\n",
       "<div class=\"fmetarow\">\n",
       "    <div class=\"fmetakey\">project:</div>\n",
       "    <div>CLARIAH WP6 Use Case 1</div>\n",
       "</div>\n",
       "\n",
       "<div class=\"fmetarow\">\n",
       "    <div class=\"fmetakey\">published:</div>\n",
       "    <div>Martinus Nijhoff (1960-1985), Bureau der Rijkscommissie voor Vaderlandse Geschiedenis (1988), Instituut voor Nederlandse Geschiedenis (1997, 2004-2007)</div>\n",
       "</div>\n",
       "\n",
       "<div class=\"fmetarow\">\n",
       "    <div class=\"fmetakey\">researcher:</div>\n",
       "    <div>Lodewijk Petram</div>\n",
       "</div>\n",
       "\n",
       "<div class=\"fmetarow\">\n",
       "    <div class=\"fmetakey\">sourceFormat:</div>\n",
       "    <div>TEI</div>\n",
       "</div>\n",
       "\n",
       "<div class=\"fmetarow\">\n",
       "    <div class=\"fmetakey\">title:</div>\n",
       "    <div>Generale Missieven van Gouverneurs-Generaal en Raden aan Heren XVII der Verenigde Oostindische Compagnie</div>\n",
       "</div>\n",
       "\n",
       "<div class=\"fmetarow\">\n",
       "    <div class=\"fmetakey\">writtenBy:</div>\n",
       "    <div>Text-Fabric</div>\n",
       "</div>\n",
       "\n",
       "        </div>\n",
       "    </details>\n",
       "</div>\n",
       "\n",
       "<div class=\"frow\">\n",
       "    <div class=\"fnamecat \">\n",
       "<a target=\"_blank\" href=\"https://github.com/clariah/wp6-missieven/blob/master/docs/transcription.md\" title=\"~/text-fabric-data/clariah/wp6-missieven/tf/1.0/otype.tf\">otype</a>\n",
       "</div>\n",
       "<div class=\"fmono\">str</div>\n",
       "<details>\n",
       "    <summary></summary>\n",
       "    <div class=\"fmeta\">\n",
       "\n",
       "<div class=\"fmetarow\">\n",
       "    <div class=\"fmetakey\">converters:</div>\n",
       "    <div>Sophie Arnoult, Jesse de Does (TEI), Dirk Roorda (Text-Fabric)</div>\n",
       "</div>\n",
       "\n",
       "<div class=\"fmetarow\">\n",
       "    <div class=\"fmetakey\">dateWritten:</div>\n",
       "    <div>2022-05-04T12:42:06Z</div>\n",
       "</div>\n",
       "\n",
       "<div class=\"fmetarow\">\n",
       "    <div class=\"fmetakey\">descriptionTf:</div>\n",
       "    <div>Original text, editorial text and footnotes form three different types of text</div>\n",
       "</div>\n",
       "\n",
       "<div class=\"fmetarow\">\n",
       "    <div class=\"fmetakey\">editor:</div>\n",
       "    <div>Dr. W. Ph. Coolhaas, Dr. J. van Goor, Dr. J.E. Schooneveld-Oosterling, Dr. H.K. s'Jacob</div>\n",
       "</div>\n",
       "\n",
       "<div class=\"fmetarow\">\n",
       "    <div class=\"fmetakey\">institute:</div>\n",
       "    <div>KNAW/HuygensING</div>\n",
       "</div>\n",
       "\n",
       "<div class=\"fmetarow\">\n",
       "    <div class=\"fmetakey\">language:</div>\n",
       "    <div>nld</div>\n",
       "</div>\n",
       "\n",
       "<div class=\"fmetarow\">\n",
       "    <div class=\"fmetakey\">name:</div>\n",
       "    <div>Generale Missiven</div>\n",
       "</div>\n",
       "\n",
       "<div class=\"fmetarow\">\n",
       "    <div class=\"fmetakey\">period:</div>\n",
       "    <div>1610-1761</div>\n",
       "</div>\n",
       "\n",
       "<div class=\"fmetarow\">\n",
       "    <div class=\"fmetakey\">project:</div>\n",
       "    <div>CLARIAH WP6 Use Case 1</div>\n",
       "</div>\n",
       "\n",
       "<div class=\"fmetarow\">\n",
       "    <div class=\"fmetakey\">published:</div>\n",
       "    <div>Martinus Nijhoff (1960-1985), Bureau der Rijkscommissie voor Vaderlandse Geschiedenis (1988), Instituut voor Nederlandse Geschiedenis (1997, 2004-2007)</div>\n",
       "</div>\n",
       "\n",
       "<div class=\"fmetarow\">\n",
       "    <div class=\"fmetakey\">researcher:</div>\n",
       "    <div>Lodewijk Petram</div>\n",
       "</div>\n",
       "\n",
       "<div class=\"fmetarow\">\n",
       "    <div class=\"fmetakey\">sourceFormat:</div>\n",
       "    <div>TEI</div>\n",
       "</div>\n",
       "\n",
       "<div class=\"fmetarow\">\n",
       "    <div class=\"fmetakey\">title:</div>\n",
       "    <div>Generale Missieven van Gouverneurs-Generaal en Raden aan Heren XVII der Verenigde Oostindische Compagnie</div>\n",
       "</div>\n",
       "\n",
       "<div class=\"fmetarow\">\n",
       "    <div class=\"fmetakey\">writtenBy:</div>\n",
       "    <div>Text-Fabric</div>\n",
       "</div>\n",
       "\n",
       "        </div>\n",
       "    </details>\n",
       "</div>\n",
       "\n",
       "<div class=\"frow\">\n",
       "    <div class=\"fnamecat \">\n",
       "<a target=\"_blank\" href=\"https://github.com/clariah/wp6-missieven/blob/master/docs/transcription.md\" title=\"~/text-fabric-data/clariah/wp6-missieven/tf/1.0/page.tf\">page</a>\n",
       "</div>\n",
       "<div class=\"fmono\">str</div>\n",
       "<details>\n",
       "    <summary>number of the first page of this letter in this volume</summary>\n",
       "    <div class=\"fmeta\">\n",
       "\n",
       "<div class=\"fmetarow\">\n",
       "    <div class=\"fmetakey\">converters:</div>\n",
       "    <div>Sophie Arnoult, Jesse de Does (TEI), Dirk Roorda (Text-Fabric)</div>\n",
       "</div>\n",
       "\n",
       "<div class=\"fmetarow\">\n",
       "    <div class=\"fmetakey\">dateWritten:</div>\n",
       "    <div>2022-05-04T12:42:07Z</div>\n",
       "</div>\n",
       "\n",
       "<div class=\"fmetarow\">\n",
       "    <div class=\"fmetakey\">descriptionTf:</div>\n",
       "    <div>Original text, editorial text and footnotes form three different types of text</div>\n",
       "</div>\n",
       "\n",
       "<div class=\"fmetarow\">\n",
       "    <div class=\"fmetakey\">editor:</div>\n",
       "    <div>Dr. W. Ph. Coolhaas, Dr. J. van Goor, Dr. J.E. Schooneveld-Oosterling, Dr. H.K. s'Jacob</div>\n",
       "</div>\n",
       "\n",
       "<div class=\"fmetarow\">\n",
       "    <div class=\"fmetakey\">format:</div>\n",
       "    <div>numeral (at most 4 digits)</div>\n",
       "</div>\n",
       "\n",
       "<div class=\"fmetarow\">\n",
       "    <div class=\"fmetakey\">institute:</div>\n",
       "    <div>KNAW/HuygensING</div>\n",
       "</div>\n",
       "\n",
       "<div class=\"fmetarow\">\n",
       "    <div class=\"fmetakey\">language:</div>\n",
       "    <div>nld</div>\n",
       "</div>\n",
       "\n",
       "<div class=\"fmetarow\">\n",
       "    <div class=\"fmetakey\">name:</div>\n",
       "    <div>Generale Missiven</div>\n",
       "</div>\n",
       "\n",
       "<div class=\"fmetarow\">\n",
       "    <div class=\"fmetakey\">period:</div>\n",
       "    <div>1610-1761</div>\n",
       "</div>\n",
       "\n",
       "<div class=\"fmetarow\">\n",
       "    <div class=\"fmetakey\">project:</div>\n",
       "    <div>CLARIAH WP6 Use Case 1</div>\n",
       "</div>\n",
       "\n",
       "<div class=\"fmetarow\">\n",
       "    <div class=\"fmetakey\">published:</div>\n",
       "    <div>Martinus Nijhoff (1960-1985), Bureau der Rijkscommissie voor Vaderlandse Geschiedenis (1988), Instituut voor Nederlandse Geschiedenis (1997, 2004-2007)</div>\n",
       "</div>\n",
       "\n",
       "<div class=\"fmetarow\">\n",
       "    <div class=\"fmetakey\">researcher:</div>\n",
       "    <div>Lodewijk Petram</div>\n",
       "</div>\n",
       "\n",
       "<div class=\"fmetarow\">\n",
       "    <div class=\"fmetakey\">sourceFormat:</div>\n",
       "    <div>TEI</div>\n",
       "</div>\n",
       "\n",
       "<div class=\"fmetarow\">\n",
       "    <div class=\"fmetakey\">title:</div>\n",
       "    <div>Generale Missieven van Gouverneurs-Generaal en Raden aan Heren XVII der Verenigde Oostindische Compagnie</div>\n",
       "</div>\n",
       "\n",
       "<div class=\"fmetarow\">\n",
       "    <div class=\"fmetakey\">writtenBy:</div>\n",
       "    <div>Text-Fabric</div>\n",
       "</div>\n",
       "\n",
       "        </div>\n",
       "    </details>\n",
       "</div>\n",
       "\n",
       "<div class=\"frow\">\n",
       "    <div class=\"fnamecat \">\n",
       "<a target=\"_blank\" href=\"https://github.com/clariah/wp6-missieven/blob/master/docs/transcription.md\" title=\"~/text-fabric-data/clariah/wp6-missieven/tf/1.0/place.tf\">place</a>\n",
       "</div>\n",
       "<div class=\"fmono\">str</div>\n",
       "<details>\n",
       "    <summary>place from where the letter was sent</summary>\n",
       "    <div class=\"fmeta\">\n",
       "\n",
       "<div class=\"fmetarow\">\n",
       "    <div class=\"fmetakey\">converters:</div>\n",
       "    <div>Sophie Arnoult, Jesse de Does (TEI), Dirk Roorda (Text-Fabric)</div>\n",
       "</div>\n",
       "\n",
       "<div class=\"fmetarow\">\n",
       "    <div class=\"fmetakey\">dateWritten:</div>\n",
       "    <div>2022-05-04T12:42:07Z</div>\n",
       "</div>\n",
       "\n",
       "<div class=\"fmetarow\">\n",
       "    <div class=\"fmetakey\">descriptionTf:</div>\n",
       "    <div>Original text, editorial text and footnotes form three different types of text</div>\n",
       "</div>\n",
       "\n",
       "<div class=\"fmetarow\">\n",
       "    <div class=\"fmetakey\">editor:</div>\n",
       "    <div>Dr. W. Ph. Coolhaas, Dr. J. van Goor, Dr. J.E. Schooneveld-Oosterling, Dr. H.K. s'Jacob</div>\n",
       "</div>\n",
       "\n",
       "<div class=\"fmetarow\">\n",
       "    <div class=\"fmetakey\">institute:</div>\n",
       "    <div>KNAW/HuygensING</div>\n",
       "</div>\n",
       "\n",
       "<div class=\"fmetarow\">\n",
       "    <div class=\"fmetakey\">language:</div>\n",
       "    <div>nld</div>\n",
       "</div>\n",
       "\n",
       "<div class=\"fmetarow\">\n",
       "    <div class=\"fmetakey\">name:</div>\n",
       "    <div>Generale Missiven</div>\n",
       "</div>\n",
       "\n",
       "<div class=\"fmetarow\">\n",
       "    <div class=\"fmetakey\">period:</div>\n",
       "    <div>1610-1761</div>\n",
       "</div>\n",
       "\n",
       "<div class=\"fmetarow\">\n",
       "    <div class=\"fmetakey\">project:</div>\n",
       "    <div>CLARIAH WP6 Use Case 1</div>\n",
       "</div>\n",
       "\n",
       "<div class=\"fmetarow\">\n",
       "    <div class=\"fmetakey\">published:</div>\n",
       "    <div>Martinus Nijhoff (1960-1985), Bureau der Rijkscommissie voor Vaderlandse Geschiedenis (1988), Instituut voor Nederlandse Geschiedenis (1997, 2004-2007)</div>\n",
       "</div>\n",
       "\n",
       "<div class=\"fmetarow\">\n",
       "    <div class=\"fmetakey\">researcher:</div>\n",
       "    <div>Lodewijk Petram</div>\n",
       "</div>\n",
       "\n",
       "<div class=\"fmetarow\">\n",
       "    <div class=\"fmetakey\">sourceFormat:</div>\n",
       "    <div>TEI</div>\n",
       "</div>\n",
       "\n",
       "<div class=\"fmetarow\">\n",
       "    <div class=\"fmetakey\">title:</div>\n",
       "    <div>Generale Missieven van Gouverneurs-Generaal en Raden aan Heren XVII der Verenigde Oostindische Compagnie</div>\n",
       "</div>\n",
       "\n",
       "<div class=\"fmetarow\">\n",
       "    <div class=\"fmetakey\">writtenBy:</div>\n",
       "    <div>Text-Fabric</div>\n",
       "</div>\n",
       "\n",
       "        </div>\n",
       "    </details>\n",
       "</div>\n",
       "\n",
       "<div class=\"frow\">\n",
       "    <div class=\"fnamecat \">\n",
       "<a target=\"_blank\" href=\"https://github.com/clariah/wp6-missieven/blob/master/docs/transcription.md\" title=\"~/text-fabric-data/clariah/wp6-missieven/tf/1.0/punc.tf\">punc</a>\n",
       "</div>\n",
       "<div class=\"fmono\">str</div>\n",
       "<details>\n",
       "    <summary>punctuation and/or whitespace following a wordup to the next word</summary>\n",
       "    <div class=\"fmeta\">\n",
       "\n",
       "<div class=\"fmetarow\">\n",
       "    <div class=\"fmetakey\">converters:</div>\n",
       "    <div>Sophie Arnoult, Jesse de Does (TEI), Dirk Roorda (Text-Fabric)</div>\n",
       "</div>\n",
       "\n",
       "<div class=\"fmetarow\">\n",
       "    <div class=\"fmetakey\">dateWritten:</div>\n",
       "    <div>2022-05-04T12:42:07Z</div>\n",
       "</div>\n",
       "\n",
       "<div class=\"fmetarow\">\n",
       "    <div class=\"fmetakey\">descriptionTf:</div>\n",
       "    <div>Original text, editorial text and footnotes form three different types of text</div>\n",
       "</div>\n",
       "\n",
       "<div class=\"fmetarow\">\n",
       "    <div class=\"fmetakey\">editor:</div>\n",
       "    <div>Dr. W. Ph. Coolhaas, Dr. J. van Goor, Dr. J.E. Schooneveld-Oosterling, Dr. H.K. s'Jacob</div>\n",
       "</div>\n",
       "\n",
       "<div class=\"fmetarow\">\n",
       "    <div class=\"fmetakey\">institute:</div>\n",
       "    <div>KNAW/HuygensING</div>\n",
       "</div>\n",
       "\n",
       "<div class=\"fmetarow\">\n",
       "    <div class=\"fmetakey\">language:</div>\n",
       "    <div>nld</div>\n",
       "</div>\n",
       "\n",
       "<div class=\"fmetarow\">\n",
       "    <div class=\"fmetakey\">name:</div>\n",
       "    <div>Generale Missiven</div>\n",
       "</div>\n",
       "\n",
       "<div class=\"fmetarow\">\n",
       "    <div class=\"fmetakey\">period:</div>\n",
       "    <div>1610-1761</div>\n",
       "</div>\n",
       "\n",
       "<div class=\"fmetarow\">\n",
       "    <div class=\"fmetakey\">project:</div>\n",
       "    <div>CLARIAH WP6 Use Case 1</div>\n",
       "</div>\n",
       "\n",
       "<div class=\"fmetarow\">\n",
       "    <div class=\"fmetakey\">published:</div>\n",
       "    <div>Martinus Nijhoff (1960-1985), Bureau der Rijkscommissie voor Vaderlandse Geschiedenis (1988), Instituut voor Nederlandse Geschiedenis (1997, 2004-2007)</div>\n",
       "</div>\n",
       "\n",
       "<div class=\"fmetarow\">\n",
       "    <div class=\"fmetakey\">researcher:</div>\n",
       "    <div>Lodewijk Petram</div>\n",
       "</div>\n",
       "\n",
       "<div class=\"fmetarow\">\n",
       "    <div class=\"fmetakey\">sourceFormat:</div>\n",
       "    <div>TEI</div>\n",
       "</div>\n",
       "\n",
       "<div class=\"fmetarow\">\n",
       "    <div class=\"fmetakey\">title:</div>\n",
       "    <div>Generale Missieven van Gouverneurs-Generaal en Raden aan Heren XVII der Verenigde Oostindische Compagnie</div>\n",
       "</div>\n",
       "\n",
       "<div class=\"fmetarow\">\n",
       "    <div class=\"fmetakey\">writtenBy:</div>\n",
       "    <div>Text-Fabric</div>\n",
       "</div>\n",
       "\n",
       "        </div>\n",
       "    </details>\n",
       "</div>\n",
       "\n",
       "<div class=\"frow\">\n",
       "    <div class=\"fnamecat \">\n",
       "<a target=\"_blank\" href=\"https://github.com/clariah/wp6-missieven/blob/master/docs/transcription.md\" title=\"~/text-fabric-data/clariah/wp6-missieven/tf/1.0/puncn.tf\">puncn</a>\n",
       "</div>\n",
       "<div class=\"fmono\">str</div>\n",
       "<details>\n",
       "    <summary>punctuation and/or whitespace following a word,up to the next word, footnote text only</summary>\n",
       "    <div class=\"fmeta\">\n",
       "\n",
       "<div class=\"fmetarow\">\n",
       "    <div class=\"fmetakey\">converters:</div>\n",
       "    <div>Sophie Arnoult, Jesse de Does (TEI), Dirk Roorda (Text-Fabric)</div>\n",
       "</div>\n",
       "\n",
       "<div class=\"fmetarow\">\n",
       "    <div class=\"fmetakey\">dateWritten:</div>\n",
       "    <div>2022-05-04T12:42:09Z</div>\n",
       "</div>\n",
       "\n",
       "<div class=\"fmetarow\">\n",
       "    <div class=\"fmetakey\">descriptionTf:</div>\n",
       "    <div>Original text, editorial text and footnotes form three different types of text</div>\n",
       "</div>\n",
       "\n",
       "<div class=\"fmetarow\">\n",
       "    <div class=\"fmetakey\">editor:</div>\n",
       "    <div>Dr. W. Ph. Coolhaas, Dr. J. van Goor, Dr. J.E. Schooneveld-Oosterling, Dr. H.K. s'Jacob</div>\n",
       "</div>\n",
       "\n",
       "<div class=\"fmetarow\">\n",
       "    <div class=\"fmetakey\">institute:</div>\n",
       "    <div>KNAW/HuygensING</div>\n",
       "</div>\n",
       "\n",
       "<div class=\"fmetarow\">\n",
       "    <div class=\"fmetakey\">language:</div>\n",
       "    <div>nld</div>\n",
       "</div>\n",
       "\n",
       "<div class=\"fmetarow\">\n",
       "    <div class=\"fmetakey\">name:</div>\n",
       "    <div>Generale Missiven</div>\n",
       "</div>\n",
       "\n",
       "<div class=\"fmetarow\">\n",
       "    <div class=\"fmetakey\">period:</div>\n",
       "    <div>1610-1761</div>\n",
       "</div>\n",
       "\n",
       "<div class=\"fmetarow\">\n",
       "    <div class=\"fmetakey\">project:</div>\n",
       "    <div>CLARIAH WP6 Use Case 1</div>\n",
       "</div>\n",
       "\n",
       "<div class=\"fmetarow\">\n",
       "    <div class=\"fmetakey\">published:</div>\n",
       "    <div>Martinus Nijhoff (1960-1985), Bureau der Rijkscommissie voor Vaderlandse Geschiedenis (1988), Instituut voor Nederlandse Geschiedenis (1997, 2004-2007)</div>\n",
       "</div>\n",
       "\n",
       "<div class=\"fmetarow\">\n",
       "    <div class=\"fmetakey\">researcher:</div>\n",
       "    <div>Lodewijk Petram</div>\n",
       "</div>\n",
       "\n",
       "<div class=\"fmetarow\">\n",
       "    <div class=\"fmetakey\">sourceFormat:</div>\n",
       "    <div>TEI</div>\n",
       "</div>\n",
       "\n",
       "<div class=\"fmetarow\">\n",
       "    <div class=\"fmetakey\">title:</div>\n",
       "    <div>Generale Missieven van Gouverneurs-Generaal en Raden aan Heren XVII der Verenigde Oostindische Compagnie</div>\n",
       "</div>\n",
       "\n",
       "<div class=\"fmetarow\">\n",
       "    <div class=\"fmetakey\">writtenBy:</div>\n",
       "    <div>Text-Fabric</div>\n",
       "</div>\n",
       "\n",
       "        </div>\n",
       "    </details>\n",
       "</div>\n",
       "\n",
       "<div class=\"frow\">\n",
       "    <div class=\"fnamecat \">\n",
       "<a target=\"_blank\" href=\"https://github.com/clariah/wp6-missieven/blob/master/docs/transcription.md\" title=\"~/text-fabric-data/clariah/wp6-missieven/tf/1.0/punco.tf\">punco</a>\n",
       "</div>\n",
       "<div class=\"fmono\">str</div>\n",
       "<details>\n",
       "    <summary>punctuation and/or whitespace following a word,up to the next word, original text only</summary>\n",
       "    <div class=\"fmeta\">\n",
       "\n",
       "<div class=\"fmetarow\">\n",
       "    <div class=\"fmetakey\">converters:</div>\n",
       "    <div>Sophie Arnoult, Jesse de Does (TEI), Dirk Roorda (Text-Fabric)</div>\n",
       "</div>\n",
       "\n",
       "<div class=\"fmetarow\">\n",
       "    <div class=\"fmetakey\">dateWritten:</div>\n",
       "    <div>2022-05-04T12:42:09Z</div>\n",
       "</div>\n",
       "\n",
       "<div class=\"fmetarow\">\n",
       "    <div class=\"fmetakey\">descriptionTf:</div>\n",
       "    <div>Original text, editorial text and footnotes form three different types of text</div>\n",
       "</div>\n",
       "\n",
       "<div class=\"fmetarow\">\n",
       "    <div class=\"fmetakey\">editor:</div>\n",
       "    <div>Dr. W. Ph. Coolhaas, Dr. J. van Goor, Dr. J.E. Schooneveld-Oosterling, Dr. H.K. s'Jacob</div>\n",
       "</div>\n",
       "\n",
       "<div class=\"fmetarow\">\n",
       "    <div class=\"fmetakey\">institute:</div>\n",
       "    <div>KNAW/HuygensING</div>\n",
       "</div>\n",
       "\n",
       "<div class=\"fmetarow\">\n",
       "    <div class=\"fmetakey\">language:</div>\n",
       "    <div>nld</div>\n",
       "</div>\n",
       "\n",
       "<div class=\"fmetarow\">\n",
       "    <div class=\"fmetakey\">name:</div>\n",
       "    <div>Generale Missiven</div>\n",
       "</div>\n",
       "\n",
       "<div class=\"fmetarow\">\n",
       "    <div class=\"fmetakey\">period:</div>\n",
       "    <div>1610-1761</div>\n",
       "</div>\n",
       "\n",
       "<div class=\"fmetarow\">\n",
       "    <div class=\"fmetakey\">project:</div>\n",
       "    <div>CLARIAH WP6 Use Case 1</div>\n",
       "</div>\n",
       "\n",
       "<div class=\"fmetarow\">\n",
       "    <div class=\"fmetakey\">published:</div>\n",
       "    <div>Martinus Nijhoff (1960-1985), Bureau der Rijkscommissie voor Vaderlandse Geschiedenis (1988), Instituut voor Nederlandse Geschiedenis (1997, 2004-2007)</div>\n",
       "</div>\n",
       "\n",
       "<div class=\"fmetarow\">\n",
       "    <div class=\"fmetakey\">researcher:</div>\n",
       "    <div>Lodewijk Petram</div>\n",
       "</div>\n",
       "\n",
       "<div class=\"fmetarow\">\n",
       "    <div class=\"fmetakey\">sourceFormat:</div>\n",
       "    <div>TEI</div>\n",
       "</div>\n",
       "\n",
       "<div class=\"fmetarow\">\n",
       "    <div class=\"fmetakey\">title:</div>\n",
       "    <div>Generale Missieven van Gouverneurs-Generaal en Raden aan Heren XVII der Verenigde Oostindische Compagnie</div>\n",
       "</div>\n",
       "\n",
       "<div class=\"fmetarow\">\n",
       "    <div class=\"fmetakey\">writtenBy:</div>\n",
       "    <div>Text-Fabric</div>\n",
       "</div>\n",
       "\n",
       "        </div>\n",
       "    </details>\n",
       "</div>\n",
       "\n",
       "<div class=\"frow\">\n",
       "    <div class=\"fnamecat \">\n",
       "<a target=\"_blank\" href=\"https://github.com/clariah/wp6-missieven/blob/master/docs/transcription.md\" title=\"~/text-fabric-data/clariah/wp6-missieven/tf/1.0/puncr.tf\">puncr</a>\n",
       "</div>\n",
       "<div class=\"fmono\">str</div>\n",
       "<details>\n",
       "    <summary>punctuation and/or whitespace following a word,up to the next word, remark text only</summary>\n",
       "    <div class=\"fmeta\">\n",
       "\n",
       "<div class=\"fmetarow\">\n",
       "    <div class=\"fmetakey\">converters:</div>\n",
       "    <div>Sophie Arnoult, Jesse de Does (TEI), Dirk Roorda (Text-Fabric)</div>\n",
       "</div>\n",
       "\n",
       "<div class=\"fmetarow\">\n",
       "    <div class=\"fmetakey\">dateWritten:</div>\n",
       "    <div>2022-05-04T12:42:11Z</div>\n",
       "</div>\n",
       "\n",
       "<div class=\"fmetarow\">\n",
       "    <div class=\"fmetakey\">descriptionTf:</div>\n",
       "    <div>Original text, editorial text and footnotes form three different types of text</div>\n",
       "</div>\n",
       "\n",
       "<div class=\"fmetarow\">\n",
       "    <div class=\"fmetakey\">editor:</div>\n",
       "    <div>Dr. W. Ph. Coolhaas, Dr. J. van Goor, Dr. J.E. Schooneveld-Oosterling, Dr. H.K. s'Jacob</div>\n",
       "</div>\n",
       "\n",
       "<div class=\"fmetarow\">\n",
       "    <div class=\"fmetakey\">institute:</div>\n",
       "    <div>KNAW/HuygensING</div>\n",
       "</div>\n",
       "\n",
       "<div class=\"fmetarow\">\n",
       "    <div class=\"fmetakey\">language:</div>\n",
       "    <div>nld</div>\n",
       "</div>\n",
       "\n",
       "<div class=\"fmetarow\">\n",
       "    <div class=\"fmetakey\">name:</div>\n",
       "    <div>Generale Missiven</div>\n",
       "</div>\n",
       "\n",
       "<div class=\"fmetarow\">\n",
       "    <div class=\"fmetakey\">period:</div>\n",
       "    <div>1610-1761</div>\n",
       "</div>\n",
       "\n",
       "<div class=\"fmetarow\">\n",
       "    <div class=\"fmetakey\">project:</div>\n",
       "    <div>CLARIAH WP6 Use Case 1</div>\n",
       "</div>\n",
       "\n",
       "<div class=\"fmetarow\">\n",
       "    <div class=\"fmetakey\">published:</div>\n",
       "    <div>Martinus Nijhoff (1960-1985), Bureau der Rijkscommissie voor Vaderlandse Geschiedenis (1988), Instituut voor Nederlandse Geschiedenis (1997, 2004-2007)</div>\n",
       "</div>\n",
       "\n",
       "<div class=\"fmetarow\">\n",
       "    <div class=\"fmetakey\">researcher:</div>\n",
       "    <div>Lodewijk Petram</div>\n",
       "</div>\n",
       "\n",
       "<div class=\"fmetarow\">\n",
       "    <div class=\"fmetakey\">sourceFormat:</div>\n",
       "    <div>TEI</div>\n",
       "</div>\n",
       "\n",
       "<div class=\"fmetarow\">\n",
       "    <div class=\"fmetakey\">title:</div>\n",
       "    <div>Generale Missieven van Gouverneurs-Generaal en Raden aan Heren XVII der Verenigde Oostindische Compagnie</div>\n",
       "</div>\n",
       "\n",
       "<div class=\"fmetarow\">\n",
       "    <div class=\"fmetakey\">writtenBy:</div>\n",
       "    <div>Text-Fabric</div>\n",
       "</div>\n",
       "\n",
       "        </div>\n",
       "    </details>\n",
       "</div>\n",
       "\n",
       "<div class=\"frow\">\n",
       "    <div class=\"fnamecat \">\n",
       "<a target=\"_blank\" href=\"https://github.com/clariah/wp6-missieven/blob/master/docs/transcription.md\" title=\"~/text-fabric-data/clariah/wp6-missieven/tf/1.0/rawdate.tf\">rawdate</a>\n",
       "</div>\n",
       "<div class=\"fmono\">str</div>\n",
       "<details>\n",
       "    <summary>the date the letter was sent</summary>\n",
       "    <div class=\"fmeta\">\n",
       "\n",
       "<div class=\"fmetarow\">\n",
       "    <div class=\"fmetakey\">converters:</div>\n",
       "    <div>Sophie Arnoult, Jesse de Does (TEI), Dirk Roorda (Text-Fabric)</div>\n",
       "</div>\n",
       "\n",
       "<div class=\"fmetarow\">\n",
       "    <div class=\"fmetakey\">dateWritten:</div>\n",
       "    <div>2022-05-04T12:42:12Z</div>\n",
       "</div>\n",
       "\n",
       "<div class=\"fmetarow\">\n",
       "    <div class=\"fmetakey\">descriptionTf:</div>\n",
       "    <div>Original text, editorial text and footnotes form three different types of text</div>\n",
       "</div>\n",
       "\n",
       "<div class=\"fmetarow\">\n",
       "    <div class=\"fmetakey\">editor:</div>\n",
       "    <div>Dr. W. Ph. Coolhaas, Dr. J. van Goor, Dr. J.E. Schooneveld-Oosterling, Dr. H.K. s'Jacob</div>\n",
       "</div>\n",
       "\n",
       "<div class=\"fmetarow\">\n",
       "    <div class=\"fmetakey\">format:</div>\n",
       "    <div>informal Dutch date notation</div>\n",
       "</div>\n",
       "\n",
       "<div class=\"fmetarow\">\n",
       "    <div class=\"fmetakey\">institute:</div>\n",
       "    <div>KNAW/HuygensING</div>\n",
       "</div>\n",
       "\n",
       "<div class=\"fmetarow\">\n",
       "    <div class=\"fmetakey\">language:</div>\n",
       "    <div>nld</div>\n",
       "</div>\n",
       "\n",
       "<div class=\"fmetarow\">\n",
       "    <div class=\"fmetakey\">name:</div>\n",
       "    <div>Generale Missiven</div>\n",
       "</div>\n",
       "\n",
       "<div class=\"fmetarow\">\n",
       "    <div class=\"fmetakey\">period:</div>\n",
       "    <div>1610-1761</div>\n",
       "</div>\n",
       "\n",
       "<div class=\"fmetarow\">\n",
       "    <div class=\"fmetakey\">project:</div>\n",
       "    <div>CLARIAH WP6 Use Case 1</div>\n",
       "</div>\n",
       "\n",
       "<div class=\"fmetarow\">\n",
       "    <div class=\"fmetakey\">published:</div>\n",
       "    <div>Martinus Nijhoff (1960-1985), Bureau der Rijkscommissie voor Vaderlandse Geschiedenis (1988), Instituut voor Nederlandse Geschiedenis (1997, 2004-2007)</div>\n",
       "</div>\n",
       "\n",
       "<div class=\"fmetarow\">\n",
       "    <div class=\"fmetakey\">researcher:</div>\n",
       "    <div>Lodewijk Petram</div>\n",
       "</div>\n",
       "\n",
       "<div class=\"fmetarow\">\n",
       "    <div class=\"fmetakey\">sourceFormat:</div>\n",
       "    <div>TEI</div>\n",
       "</div>\n",
       "\n",
       "<div class=\"fmetarow\">\n",
       "    <div class=\"fmetakey\">title:</div>\n",
       "    <div>Generale Missieven van Gouverneurs-Generaal en Raden aan Heren XVII der Verenigde Oostindische Compagnie</div>\n",
       "</div>\n",
       "\n",
       "<div class=\"fmetarow\">\n",
       "    <div class=\"fmetakey\">writtenBy:</div>\n",
       "    <div>Text-Fabric</div>\n",
       "</div>\n",
       "\n",
       "        </div>\n",
       "    </details>\n",
       "</div>\n",
       "\n",
       "<div class=\"frow\">\n",
       "    <div class=\"fnamecat \">\n",
       "<a target=\"_blank\" href=\"https://github.com/clariah/wp6-missieven/blob/master/docs/transcription.md\" title=\"~/text-fabric-data/clariah/wp6-missieven/tf/1.0/row.tf\">row</a>\n",
       "</div>\n",
       "<div class=\"fmono\">int</div>\n",
       "<details>\n",
       "    <summary>row number of a row of column in a table</summary>\n",
       "    <div class=\"fmeta\">\n",
       "\n",
       "<div class=\"fmetarow\">\n",
       "    <div class=\"fmetakey\">converters:</div>\n",
       "    <div>Sophie Arnoult, Jesse de Does (TEI), Dirk Roorda (Text-Fabric)</div>\n",
       "</div>\n",
       "\n",
       "<div class=\"fmetarow\">\n",
       "    <div class=\"fmetakey\">dateWritten:</div>\n",
       "    <div>2022-05-04T12:42:12Z</div>\n",
       "</div>\n",
       "\n",
       "<div class=\"fmetarow\">\n",
       "    <div class=\"fmetakey\">descriptionTf:</div>\n",
       "    <div>Original text, editorial text and footnotes form three different types of text</div>\n",
       "</div>\n",
       "\n",
       "<div class=\"fmetarow\">\n",
       "    <div class=\"fmetakey\">editor:</div>\n",
       "    <div>Dr. W. Ph. Coolhaas, Dr. J. van Goor, Dr. J.E. Schooneveld-Oosterling, Dr. H.K. s'Jacob</div>\n",
       "</div>\n",
       "\n",
       "<div class=\"fmetarow\">\n",
       "    <div class=\"fmetakey\">institute:</div>\n",
       "    <div>KNAW/HuygensING</div>\n",
       "</div>\n",
       "\n",
       "<div class=\"fmetarow\">\n",
       "    <div class=\"fmetakey\">language:</div>\n",
       "    <div>nld</div>\n",
       "</div>\n",
       "\n",
       "<div class=\"fmetarow\">\n",
       "    <div class=\"fmetakey\">name:</div>\n",
       "    <div>Generale Missiven</div>\n",
       "</div>\n",
       "\n",
       "<div class=\"fmetarow\">\n",
       "    <div class=\"fmetakey\">period:</div>\n",
       "    <div>1610-1761</div>\n",
       "</div>\n",
       "\n",
       "<div class=\"fmetarow\">\n",
       "    <div class=\"fmetakey\">project:</div>\n",
       "    <div>CLARIAH WP6 Use Case 1</div>\n",
       "</div>\n",
       "\n",
       "<div class=\"fmetarow\">\n",
       "    <div class=\"fmetakey\">published:</div>\n",
       "    <div>Martinus Nijhoff (1960-1985), Bureau der Rijkscommissie voor Vaderlandse Geschiedenis (1988), Instituut voor Nederlandse Geschiedenis (1997, 2004-2007)</div>\n",
       "</div>\n",
       "\n",
       "<div class=\"fmetarow\">\n",
       "    <div class=\"fmetakey\">researcher:</div>\n",
       "    <div>Lodewijk Petram</div>\n",
       "</div>\n",
       "\n",
       "<div class=\"fmetarow\">\n",
       "    <div class=\"fmetakey\">sourceFormat:</div>\n",
       "    <div>TEI</div>\n",
       "</div>\n",
       "\n",
       "<div class=\"fmetarow\">\n",
       "    <div class=\"fmetakey\">title:</div>\n",
       "    <div>Generale Missieven van Gouverneurs-Generaal en Raden aan Heren XVII der Verenigde Oostindische Compagnie</div>\n",
       "</div>\n",
       "\n",
       "<div class=\"fmetarow\">\n",
       "    <div class=\"fmetakey\">writtenBy:</div>\n",
       "    <div>Text-Fabric</div>\n",
       "</div>\n",
       "\n",
       "        </div>\n",
       "    </details>\n",
       "</div>\n",
       "\n",
       "<div class=\"frow\">\n",
       "    <div class=\"fnamecat \">\n",
       "<a target=\"_blank\" href=\"https://github.com/clariah/wp6-missieven/blob/master/docs/transcription.md\" title=\"~/text-fabric-data/clariah/wp6-missieven/tf/1.0/seq.tf\">seq</a>\n",
       "</div>\n",
       "<div class=\"fmono\">str</div>\n",
       "<details>\n",
       "    <summary>('sequence number of this letter among the letters of the same author in this volume',)</summary>\n",
       "    <div class=\"fmeta\">\n",
       "\n",
       "<div class=\"fmetarow\">\n",
       "    <div class=\"fmetakey\">converters:</div>\n",
       "    <div>Sophie Arnoult, Jesse de Does (TEI), Dirk Roorda (Text-Fabric)</div>\n",
       "</div>\n",
       "\n",
       "<div class=\"fmetarow\">\n",
       "    <div class=\"fmetakey\">dateWritten:</div>\n",
       "    <div>2022-05-04T12:42:12Z</div>\n",
       "</div>\n",
       "\n",
       "<div class=\"fmetarow\">\n",
       "    <div class=\"fmetakey\">descriptionTf:</div>\n",
       "    <div>Original text, editorial text and footnotes form three different types of text</div>\n",
       "</div>\n",
       "\n",
       "<div class=\"fmetarow\">\n",
       "    <div class=\"fmetakey\">editor:</div>\n",
       "    <div>Dr. W. Ph. Coolhaas, Dr. J. van Goor, Dr. J.E. Schooneveld-Oosterling, Dr. H.K. s'Jacob</div>\n",
       "</div>\n",
       "\n",
       "<div class=\"fmetarow\">\n",
       "    <div class=\"fmetakey\">format:</div>\n",
       "    <div>roman numeral (capitalized)</div>\n",
       "</div>\n",
       "\n",
       "<div class=\"fmetarow\">\n",
       "    <div class=\"fmetakey\">institute:</div>\n",
       "    <div>KNAW/HuygensING</div>\n",
       "</div>\n",
       "\n",
       "<div class=\"fmetarow\">\n",
       "    <div class=\"fmetakey\">language:</div>\n",
       "    <div>nld</div>\n",
       "</div>\n",
       "\n",
       "<div class=\"fmetarow\">\n",
       "    <div class=\"fmetakey\">name:</div>\n",
       "    <div>Generale Missiven</div>\n",
       "</div>\n",
       "\n",
       "<div class=\"fmetarow\">\n",
       "    <div class=\"fmetakey\">period:</div>\n",
       "    <div>1610-1761</div>\n",
       "</div>\n",
       "\n",
       "<div class=\"fmetarow\">\n",
       "    <div class=\"fmetakey\">project:</div>\n",
       "    <div>CLARIAH WP6 Use Case 1</div>\n",
       "</div>\n",
       "\n",
       "<div class=\"fmetarow\">\n",
       "    <div class=\"fmetakey\">published:</div>\n",
       "    <div>Martinus Nijhoff (1960-1985), Bureau der Rijkscommissie voor Vaderlandse Geschiedenis (1988), Instituut voor Nederlandse Geschiedenis (1997, 2004-2007)</div>\n",
       "</div>\n",
       "\n",
       "<div class=\"fmetarow\">\n",
       "    <div class=\"fmetakey\">researcher:</div>\n",
       "    <div>Lodewijk Petram</div>\n",
       "</div>\n",
       "\n",
       "<div class=\"fmetarow\">\n",
       "    <div class=\"fmetakey\">sourceFormat:</div>\n",
       "    <div>TEI</div>\n",
       "</div>\n",
       "\n",
       "<div class=\"fmetarow\">\n",
       "    <div class=\"fmetakey\">title:</div>\n",
       "    <div>Generale Missieven van Gouverneurs-Generaal en Raden aan Heren XVII der Verenigde Oostindische Compagnie</div>\n",
       "</div>\n",
       "\n",
       "<div class=\"fmetarow\">\n",
       "    <div class=\"fmetakey\">writtenBy:</div>\n",
       "    <div>Text-Fabric</div>\n",
       "</div>\n",
       "\n",
       "        </div>\n",
       "    </details>\n",
       "</div>\n",
       "\n",
       "<div class=\"frow\">\n",
       "    <div class=\"fnamecat \">\n",
       "<a target=\"_blank\" href=\"https://github.com/clariah/wp6-missieven/blob/master/docs/transcription.md\" title=\"~/text-fabric-data/clariah/wp6-missieven/tf/1.0/status.tf\">status</a>\n",
       "</div>\n",
       "<div class=\"fmono\">str</div>\n",
       "<details>\n",
       "    <summary>status of the letter, e.g. secret, copy</summary>\n",
       "    <div class=\"fmeta\">\n",
       "\n",
       "<div class=\"fmetarow\">\n",
       "    <div class=\"fmetakey\">converters:</div>\n",
       "    <div>Sophie Arnoult, Jesse de Does (TEI), Dirk Roorda (Text-Fabric)</div>\n",
       "</div>\n",
       "\n",
       "<div class=\"fmetarow\">\n",
       "    <div class=\"fmetakey\">dateWritten:</div>\n",
       "    <div>2022-05-04T12:42:12Z</div>\n",
       "</div>\n",
       "\n",
       "<div class=\"fmetarow\">\n",
       "    <div class=\"fmetakey\">descriptionTf:</div>\n",
       "    <div>Original text, editorial text and footnotes form three different types of text</div>\n",
       "</div>\n",
       "\n",
       "<div class=\"fmetarow\">\n",
       "    <div class=\"fmetakey\">editor:</div>\n",
       "    <div>Dr. W. Ph. Coolhaas, Dr. J. van Goor, Dr. J.E. Schooneveld-Oosterling, Dr. H.K. s'Jacob</div>\n",
       "</div>\n",
       "\n",
       "<div class=\"fmetarow\">\n",
       "    <div class=\"fmetakey\">format:</div>\n",
       "    <div>keyword</div>\n",
       "</div>\n",
       "\n",
       "<div class=\"fmetarow\">\n",
       "    <div class=\"fmetakey\">institute:</div>\n",
       "    <div>KNAW/HuygensING</div>\n",
       "</div>\n",
       "\n",
       "<div class=\"fmetarow\">\n",
       "    <div class=\"fmetakey\">language:</div>\n",
       "    <div>nld</div>\n",
       "</div>\n",
       "\n",
       "<div class=\"fmetarow\">\n",
       "    <div class=\"fmetakey\">name:</div>\n",
       "    <div>Generale Missiven</div>\n",
       "</div>\n",
       "\n",
       "<div class=\"fmetarow\">\n",
       "    <div class=\"fmetakey\">period:</div>\n",
       "    <div>1610-1761</div>\n",
       "</div>\n",
       "\n",
       "<div class=\"fmetarow\">\n",
       "    <div class=\"fmetakey\">project:</div>\n",
       "    <div>CLARIAH WP6 Use Case 1</div>\n",
       "</div>\n",
       "\n",
       "<div class=\"fmetarow\">\n",
       "    <div class=\"fmetakey\">published:</div>\n",
       "    <div>Martinus Nijhoff (1960-1985), Bureau der Rijkscommissie voor Vaderlandse Geschiedenis (1988), Instituut voor Nederlandse Geschiedenis (1997, 2004-2007)</div>\n",
       "</div>\n",
       "\n",
       "<div class=\"fmetarow\">\n",
       "    <div class=\"fmetakey\">researcher:</div>\n",
       "    <div>Lodewijk Petram</div>\n",
       "</div>\n",
       "\n",
       "<div class=\"fmetarow\">\n",
       "    <div class=\"fmetakey\">sourceFormat:</div>\n",
       "    <div>TEI</div>\n",
       "</div>\n",
       "\n",
       "<div class=\"fmetarow\">\n",
       "    <div class=\"fmetakey\">title:</div>\n",
       "    <div>Generale Missieven van Gouverneurs-Generaal en Raden aan Heren XVII der Verenigde Oostindische Compagnie</div>\n",
       "</div>\n",
       "\n",
       "<div class=\"fmetarow\">\n",
       "    <div class=\"fmetakey\">writtenBy:</div>\n",
       "    <div>Text-Fabric</div>\n",
       "</div>\n",
       "\n",
       "        </div>\n",
       "    </details>\n",
       "</div>\n",
       "\n",
       "<div class=\"frow\">\n",
       "    <div class=\"fnamecat \">\n",
       "<a target=\"_blank\" href=\"https://github.com/clariah/wp6-missieven/blob/master/docs/transcription.md\" title=\"~/text-fabric-data/clariah/wp6-missieven/tf/1.0/title.tf\">title</a>\n",
       "</div>\n",
       "<div class=\"fmono\">str</div>\n",
       "<details>\n",
       "    <summary>title of the letter</summary>\n",
       "    <div class=\"fmeta\">\n",
       "\n",
       "<div class=\"fmetarow\">\n",
       "    <div class=\"fmetakey\">converters:</div>\n",
       "    <div>Sophie Arnoult, Jesse de Does (TEI), Dirk Roorda (Text-Fabric)</div>\n",
       "</div>\n",
       "\n",
       "<div class=\"fmetarow\">\n",
       "    <div class=\"fmetakey\">dateWritten:</div>\n",
       "    <div>2022-05-04T12:42:12Z</div>\n",
       "</div>\n",
       "\n",
       "<div class=\"fmetarow\">\n",
       "    <div class=\"fmetakey\">descriptionTf:</div>\n",
       "    <div>Original text, editorial text and footnotes form three different types of text</div>\n",
       "</div>\n",
       "\n",
       "<div class=\"fmetarow\">\n",
       "    <div class=\"fmetakey\">editor:</div>\n",
       "    <div>Dr. W. Ph. Coolhaas, Dr. J. van Goor, Dr. J.E. Schooneveld-Oosterling, Dr. H.K. s'Jacob</div>\n",
       "</div>\n",
       "\n",
       "<div class=\"fmetarow\">\n",
       "    <div class=\"fmetakey\">format:</div>\n",
       "    <div>comma-separated values</div>\n",
       "</div>\n",
       "\n",
       "<div class=\"fmetarow\">\n",
       "    <div class=\"fmetakey\">institute:</div>\n",
       "    <div>KNAW/HuygensING</div>\n",
       "</div>\n",
       "\n",
       "<div class=\"fmetarow\">\n",
       "    <div class=\"fmetakey\">language:</div>\n",
       "    <div>nld</div>\n",
       "</div>\n",
       "\n",
       "<div class=\"fmetarow\">\n",
       "    <div class=\"fmetakey\">name:</div>\n",
       "    <div>Generale Missiven</div>\n",
       "</div>\n",
       "\n",
       "<div class=\"fmetarow\">\n",
       "    <div class=\"fmetakey\">period:</div>\n",
       "    <div>1610-1761</div>\n",
       "</div>\n",
       "\n",
       "<div class=\"fmetarow\">\n",
       "    <div class=\"fmetakey\">project:</div>\n",
       "    <div>CLARIAH WP6 Use Case 1</div>\n",
       "</div>\n",
       "\n",
       "<div class=\"fmetarow\">\n",
       "    <div class=\"fmetakey\">published:</div>\n",
       "    <div>Martinus Nijhoff (1960-1985), Bureau der Rijkscommissie voor Vaderlandse Geschiedenis (1988), Instituut voor Nederlandse Geschiedenis (1997, 2004-2007)</div>\n",
       "</div>\n",
       "\n",
       "<div class=\"fmetarow\">\n",
       "    <div class=\"fmetakey\">researcher:</div>\n",
       "    <div>Lodewijk Petram</div>\n",
       "</div>\n",
       "\n",
       "<div class=\"fmetarow\">\n",
       "    <div class=\"fmetakey\">sourceFormat:</div>\n",
       "    <div>TEI</div>\n",
       "</div>\n",
       "\n",
       "<div class=\"fmetarow\">\n",
       "    <div class=\"fmetakey\">title:</div>\n",
       "    <div>Generale Missieven van Gouverneurs-Generaal en Raden aan Heren XVII der Verenigde Oostindische Compagnie</div>\n",
       "</div>\n",
       "\n",
       "<div class=\"fmetarow\">\n",
       "    <div class=\"fmetakey\">writtenBy:</div>\n",
       "    <div>Text-Fabric</div>\n",
       "</div>\n",
       "\n",
       "        </div>\n",
       "    </details>\n",
       "</div>\n",
       "\n",
       "<div class=\"frow\">\n",
       "    <div class=\"fnamecat \">\n",
       "<a target=\"_blank\" href=\"https://github.com/clariah/wp6-missieven/blob/master/docs/transcription.md\" title=\"~/text-fabric-data/clariah/wp6-missieven/tf/1.0/trans.tf\">trans</a>\n",
       "</div>\n",
       "<div class=\"fmono\">str</div>\n",
       "<details>\n",
       "    <summary>transcription of a word</summary>\n",
       "    <div class=\"fmeta\">\n",
       "\n",
       "<div class=\"fmetarow\">\n",
       "    <div class=\"fmetakey\">converters:</div>\n",
       "    <div>Sophie Arnoult, Jesse de Does (TEI), Dirk Roorda (Text-Fabric)</div>\n",
       "</div>\n",
       "\n",
       "<div class=\"fmetarow\">\n",
       "    <div class=\"fmetakey\">dateWritten:</div>\n",
       "    <div>2022-05-04T12:42:12Z</div>\n",
       "</div>\n",
       "\n",
       "<div class=\"fmetarow\">\n",
       "    <div class=\"fmetakey\">descriptionTf:</div>\n",
       "    <div>Original text, editorial text and footnotes form three different types of text</div>\n",
       "</div>\n",
       "\n",
       "<div class=\"fmetarow\">\n",
       "    <div class=\"fmetakey\">editor:</div>\n",
       "    <div>Dr. W. Ph. Coolhaas, Dr. J. van Goor, Dr. J.E. Schooneveld-Oosterling, Dr. H.K. s'Jacob</div>\n",
       "</div>\n",
       "\n",
       "<div class=\"fmetarow\">\n",
       "    <div class=\"fmetakey\">institute:</div>\n",
       "    <div>KNAW/HuygensING</div>\n",
       "</div>\n",
       "\n",
       "<div class=\"fmetarow\">\n",
       "    <div class=\"fmetakey\">language:</div>\n",
       "    <div>nld</div>\n",
       "</div>\n",
       "\n",
       "<div class=\"fmetarow\">\n",
       "    <div class=\"fmetakey\">name:</div>\n",
       "    <div>Generale Missiven</div>\n",
       "</div>\n",
       "\n",
       "<div class=\"fmetarow\">\n",
       "    <div class=\"fmetakey\">period:</div>\n",
       "    <div>1610-1761</div>\n",
       "</div>\n",
       "\n",
       "<div class=\"fmetarow\">\n",
       "    <div class=\"fmetakey\">project:</div>\n",
       "    <div>CLARIAH WP6 Use Case 1</div>\n",
       "</div>\n",
       "\n",
       "<div class=\"fmetarow\">\n",
       "    <div class=\"fmetakey\">published:</div>\n",
       "    <div>Martinus Nijhoff (1960-1985), Bureau der Rijkscommissie voor Vaderlandse Geschiedenis (1988), Instituut voor Nederlandse Geschiedenis (1997, 2004-2007)</div>\n",
       "</div>\n",
       "\n",
       "<div class=\"fmetarow\">\n",
       "    <div class=\"fmetakey\">researcher:</div>\n",
       "    <div>Lodewijk Petram</div>\n",
       "</div>\n",
       "\n",
       "<div class=\"fmetarow\">\n",
       "    <div class=\"fmetakey\">sourceFormat:</div>\n",
       "    <div>TEI</div>\n",
       "</div>\n",
       "\n",
       "<div class=\"fmetarow\">\n",
       "    <div class=\"fmetakey\">title:</div>\n",
       "    <div>Generale Missieven van Gouverneurs-Generaal en Raden aan Heren XVII der Verenigde Oostindische Compagnie</div>\n",
       "</div>\n",
       "\n",
       "<div class=\"fmetarow\">\n",
       "    <div class=\"fmetakey\">writtenBy:</div>\n",
       "    <div>Text-Fabric</div>\n",
       "</div>\n",
       "\n",
       "        </div>\n",
       "    </details>\n",
       "</div>\n",
       "\n",
       "<div class=\"frow\">\n",
       "    <div class=\"fnamecat \">\n",
       "<a target=\"_blank\" href=\"https://github.com/clariah/wp6-missieven/blob/master/docs/transcription.md\" title=\"~/text-fabric-data/clariah/wp6-missieven/tf/1.0/transn.tf\">transn</a>\n",
       "</div>\n",
       "<div class=\"fmono\">str</div>\n",
       "<details>\n",
       "    <summary>transcription of a word, only for footnote text</summary>\n",
       "    <div class=\"fmeta\">\n",
       "\n",
       "<div class=\"fmetarow\">\n",
       "    <div class=\"fmetakey\">converters:</div>\n",
       "    <div>Sophie Arnoult, Jesse de Does (TEI), Dirk Roorda (Text-Fabric)</div>\n",
       "</div>\n",
       "\n",
       "<div class=\"fmetarow\">\n",
       "    <div class=\"fmetakey\">dateWritten:</div>\n",
       "    <div>2022-05-04T12:42:14Z</div>\n",
       "</div>\n",
       "\n",
       "<div class=\"fmetarow\">\n",
       "    <div class=\"fmetakey\">descriptionTf:</div>\n",
       "    <div>Original text, editorial text and footnotes form three different types of text</div>\n",
       "</div>\n",
       "\n",
       "<div class=\"fmetarow\">\n",
       "    <div class=\"fmetakey\">editor:</div>\n",
       "    <div>Dr. W. Ph. Coolhaas, Dr. J. van Goor, Dr. J.E. Schooneveld-Oosterling, Dr. H.K. s'Jacob</div>\n",
       "</div>\n",
       "\n",
       "<div class=\"fmetarow\">\n",
       "    <div class=\"fmetakey\">institute:</div>\n",
       "    <div>KNAW/HuygensING</div>\n",
       "</div>\n",
       "\n",
       "<div class=\"fmetarow\">\n",
       "    <div class=\"fmetakey\">language:</div>\n",
       "    <div>nld</div>\n",
       "</div>\n",
       "\n",
       "<div class=\"fmetarow\">\n",
       "    <div class=\"fmetakey\">name:</div>\n",
       "    <div>Generale Missiven</div>\n",
       "</div>\n",
       "\n",
       "<div class=\"fmetarow\">\n",
       "    <div class=\"fmetakey\">period:</div>\n",
       "    <div>1610-1761</div>\n",
       "</div>\n",
       "\n",
       "<div class=\"fmetarow\">\n",
       "    <div class=\"fmetakey\">project:</div>\n",
       "    <div>CLARIAH WP6 Use Case 1</div>\n",
       "</div>\n",
       "\n",
       "<div class=\"fmetarow\">\n",
       "    <div class=\"fmetakey\">published:</div>\n",
       "    <div>Martinus Nijhoff (1960-1985), Bureau der Rijkscommissie voor Vaderlandse Geschiedenis (1988), Instituut voor Nederlandse Geschiedenis (1997, 2004-2007)</div>\n",
       "</div>\n",
       "\n",
       "<div class=\"fmetarow\">\n",
       "    <div class=\"fmetakey\">researcher:</div>\n",
       "    <div>Lodewijk Petram</div>\n",
       "</div>\n",
       "\n",
       "<div class=\"fmetarow\">\n",
       "    <div class=\"fmetakey\">sourceFormat:</div>\n",
       "    <div>TEI</div>\n",
       "</div>\n",
       "\n",
       "<div class=\"fmetarow\">\n",
       "    <div class=\"fmetakey\">title:</div>\n",
       "    <div>Generale Missieven van Gouverneurs-Generaal en Raden aan Heren XVII der Verenigde Oostindische Compagnie</div>\n",
       "</div>\n",
       "\n",
       "<div class=\"fmetarow\">\n",
       "    <div class=\"fmetakey\">writtenBy:</div>\n",
       "    <div>Text-Fabric</div>\n",
       "</div>\n",
       "\n",
       "        </div>\n",
       "    </details>\n",
       "</div>\n",
       "\n",
       "<div class=\"frow\">\n",
       "    <div class=\"fnamecat \">\n",
       "<a target=\"_blank\" href=\"https://github.com/clariah/wp6-missieven/blob/master/docs/transcription.md\" title=\"~/text-fabric-data/clariah/wp6-missieven/tf/1.0/transo.tf\">transo</a>\n",
       "</div>\n",
       "<div class=\"fmono\">str</div>\n",
       "<details>\n",
       "    <summary>transcription of a word, only for original text</summary>\n",
       "    <div class=\"fmeta\">\n",
       "\n",
       "<div class=\"fmetarow\">\n",
       "    <div class=\"fmetakey\">converters:</div>\n",
       "    <div>Sophie Arnoult, Jesse de Does (TEI), Dirk Roorda (Text-Fabric)</div>\n",
       "</div>\n",
       "\n",
       "<div class=\"fmetarow\">\n",
       "    <div class=\"fmetakey\">dateWritten:</div>\n",
       "    <div>2022-05-04T12:42:14Z</div>\n",
       "</div>\n",
       "\n",
       "<div class=\"fmetarow\">\n",
       "    <div class=\"fmetakey\">descriptionTf:</div>\n",
       "    <div>Original text, editorial text and footnotes form three different types of text</div>\n",
       "</div>\n",
       "\n",
       "<div class=\"fmetarow\">\n",
       "    <div class=\"fmetakey\">editor:</div>\n",
       "    <div>Dr. W. Ph. Coolhaas, Dr. J. van Goor, Dr. J.E. Schooneveld-Oosterling, Dr. H.K. s'Jacob</div>\n",
       "</div>\n",
       "\n",
       "<div class=\"fmetarow\">\n",
       "    <div class=\"fmetakey\">institute:</div>\n",
       "    <div>KNAW/HuygensING</div>\n",
       "</div>\n",
       "\n",
       "<div class=\"fmetarow\">\n",
       "    <div class=\"fmetakey\">language:</div>\n",
       "    <div>nld</div>\n",
       "</div>\n",
       "\n",
       "<div class=\"fmetarow\">\n",
       "    <div class=\"fmetakey\">name:</div>\n",
       "    <div>Generale Missiven</div>\n",
       "</div>\n",
       "\n",
       "<div class=\"fmetarow\">\n",
       "    <div class=\"fmetakey\">period:</div>\n",
       "    <div>1610-1761</div>\n",
       "</div>\n",
       "\n",
       "<div class=\"fmetarow\">\n",
       "    <div class=\"fmetakey\">project:</div>\n",
       "    <div>CLARIAH WP6 Use Case 1</div>\n",
       "</div>\n",
       "\n",
       "<div class=\"fmetarow\">\n",
       "    <div class=\"fmetakey\">published:</div>\n",
       "    <div>Martinus Nijhoff (1960-1985), Bureau der Rijkscommissie voor Vaderlandse Geschiedenis (1988), Instituut voor Nederlandse Geschiedenis (1997, 2004-2007)</div>\n",
       "</div>\n",
       "\n",
       "<div class=\"fmetarow\">\n",
       "    <div class=\"fmetakey\">researcher:</div>\n",
       "    <div>Lodewijk Petram</div>\n",
       "</div>\n",
       "\n",
       "<div class=\"fmetarow\">\n",
       "    <div class=\"fmetakey\">sourceFormat:</div>\n",
       "    <div>TEI</div>\n",
       "</div>\n",
       "\n",
       "<div class=\"fmetarow\">\n",
       "    <div class=\"fmetakey\">title:</div>\n",
       "    <div>Generale Missieven van Gouverneurs-Generaal en Raden aan Heren XVII der Verenigde Oostindische Compagnie</div>\n",
       "</div>\n",
       "\n",
       "<div class=\"fmetarow\">\n",
       "    <div class=\"fmetakey\">writtenBy:</div>\n",
       "    <div>Text-Fabric</div>\n",
       "</div>\n",
       "\n",
       "        </div>\n",
       "    </details>\n",
       "</div>\n",
       "\n",
       "<div class=\"frow\">\n",
       "    <div class=\"fnamecat \">\n",
       "<a target=\"_blank\" href=\"https://github.com/clariah/wp6-missieven/blob/master/docs/transcription.md\" title=\"~/text-fabric-data/clariah/wp6-missieven/tf/1.0/transr.tf\">transr</a>\n",
       "</div>\n",
       "<div class=\"fmono\">str</div>\n",
       "<details>\n",
       "    <summary>transcription of a word, only for remark text</summary>\n",
       "    <div class=\"fmeta\">\n",
       "\n",
       "<div class=\"fmetarow\">\n",
       "    <div class=\"fmetakey\">converters:</div>\n",
       "    <div>Sophie Arnoult, Jesse de Does (TEI), Dirk Roorda (Text-Fabric)</div>\n",
       "</div>\n",
       "\n",
       "<div class=\"fmetarow\">\n",
       "    <div class=\"fmetakey\">dateWritten:</div>\n",
       "    <div>2022-05-04T12:42:16Z</div>\n",
       "</div>\n",
       "\n",
       "<div class=\"fmetarow\">\n",
       "    <div class=\"fmetakey\">descriptionTf:</div>\n",
       "    <div>Original text, editorial text and footnotes form three different types of text</div>\n",
       "</div>\n",
       "\n",
       "<div class=\"fmetarow\">\n",
       "    <div class=\"fmetakey\">editor:</div>\n",
       "    <div>Dr. W. Ph. Coolhaas, Dr. J. van Goor, Dr. J.E. Schooneveld-Oosterling, Dr. H.K. s'Jacob</div>\n",
       "</div>\n",
       "\n",
       "<div class=\"fmetarow\">\n",
       "    <div class=\"fmetakey\">institute:</div>\n",
       "    <div>KNAW/HuygensING</div>\n",
       "</div>\n",
       "\n",
       "<div class=\"fmetarow\">\n",
       "    <div class=\"fmetakey\">language:</div>\n",
       "    <div>nld</div>\n",
       "</div>\n",
       "\n",
       "<div class=\"fmetarow\">\n",
       "    <div class=\"fmetakey\">name:</div>\n",
       "    <div>Generale Missiven</div>\n",
       "</div>\n",
       "\n",
       "<div class=\"fmetarow\">\n",
       "    <div class=\"fmetakey\">period:</div>\n",
       "    <div>1610-1761</div>\n",
       "</div>\n",
       "\n",
       "<div class=\"fmetarow\">\n",
       "    <div class=\"fmetakey\">project:</div>\n",
       "    <div>CLARIAH WP6 Use Case 1</div>\n",
       "</div>\n",
       "\n",
       "<div class=\"fmetarow\">\n",
       "    <div class=\"fmetakey\">published:</div>\n",
       "    <div>Martinus Nijhoff (1960-1985), Bureau der Rijkscommissie voor Vaderlandse Geschiedenis (1988), Instituut voor Nederlandse Geschiedenis (1997, 2004-2007)</div>\n",
       "</div>\n",
       "\n",
       "<div class=\"fmetarow\">\n",
       "    <div class=\"fmetakey\">researcher:</div>\n",
       "    <div>Lodewijk Petram</div>\n",
       "</div>\n",
       "\n",
       "<div class=\"fmetarow\">\n",
       "    <div class=\"fmetakey\">sourceFormat:</div>\n",
       "    <div>TEI</div>\n",
       "</div>\n",
       "\n",
       "<div class=\"fmetarow\">\n",
       "    <div class=\"fmetakey\">title:</div>\n",
       "    <div>Generale Missieven van Gouverneurs-Generaal en Raden aan Heren XVII der Verenigde Oostindische Compagnie</div>\n",
       "</div>\n",
       "\n",
       "<div class=\"fmetarow\">\n",
       "    <div class=\"fmetakey\">writtenBy:</div>\n",
       "    <div>Text-Fabric</div>\n",
       "</div>\n",
       "\n",
       "        </div>\n",
       "    </details>\n",
       "</div>\n",
       "\n",
       "<div class=\"frow\">\n",
       "    <div class=\"fnamecat \">\n",
       "<a target=\"_blank\" href=\"https://github.com/clariah/wp6-missieven/blob/master/docs/transcription.md\" title=\"~/text-fabric-data/clariah/wp6-missieven/tf/1.0/vol.tf\">vol</a>\n",
       "</div>\n",
       "<div class=\"fmono\">int</div>\n",
       "<details>\n",
       "    <summary>volume number</summary>\n",
       "    <div class=\"fmeta\">\n",
       "\n",
       "<div class=\"fmetarow\">\n",
       "    <div class=\"fmetakey\">converters:</div>\n",
       "    <div>Sophie Arnoult, Jesse de Does (TEI), Dirk Roorda (Text-Fabric)</div>\n",
       "</div>\n",
       "\n",
       "<div class=\"fmetarow\">\n",
       "    <div class=\"fmetakey\">dateWritten:</div>\n",
       "    <div>2022-05-04T12:42:17Z</div>\n",
       "</div>\n",
       "\n",
       "<div class=\"fmetarow\">\n",
       "    <div class=\"fmetakey\">descriptionTf:</div>\n",
       "    <div>Original text, editorial text and footnotes form three different types of text</div>\n",
       "</div>\n",
       "\n",
       "<div class=\"fmetarow\">\n",
       "    <div class=\"fmetakey\">editor:</div>\n",
       "    <div>Dr. W. Ph. Coolhaas, Dr. J. van Goor, Dr. J.E. Schooneveld-Oosterling, Dr. H.K. s'Jacob</div>\n",
       "</div>\n",
       "\n",
       "<div class=\"fmetarow\">\n",
       "    <div class=\"fmetakey\">format:</div>\n",
       "    <div>positive integer</div>\n",
       "</div>\n",
       "\n",
       "<div class=\"fmetarow\">\n",
       "    <div class=\"fmetakey\">institute:</div>\n",
       "    <div>KNAW/HuygensING</div>\n",
       "</div>\n",
       "\n",
       "<div class=\"fmetarow\">\n",
       "    <div class=\"fmetakey\">language:</div>\n",
       "    <div>nld</div>\n",
       "</div>\n",
       "\n",
       "<div class=\"fmetarow\">\n",
       "    <div class=\"fmetakey\">name:</div>\n",
       "    <div>Generale Missiven</div>\n",
       "</div>\n",
       "\n",
       "<div class=\"fmetarow\">\n",
       "    <div class=\"fmetakey\">period:</div>\n",
       "    <div>1610-1761</div>\n",
       "</div>\n",
       "\n",
       "<div class=\"fmetarow\">\n",
       "    <div class=\"fmetakey\">project:</div>\n",
       "    <div>CLARIAH WP6 Use Case 1</div>\n",
       "</div>\n",
       "\n",
       "<div class=\"fmetarow\">\n",
       "    <div class=\"fmetakey\">published:</div>\n",
       "    <div>Martinus Nijhoff (1960-1985), Bureau der Rijkscommissie voor Vaderlandse Geschiedenis (1988), Instituut voor Nederlandse Geschiedenis (1997, 2004-2007)</div>\n",
       "</div>\n",
       "\n",
       "<div class=\"fmetarow\">\n",
       "    <div class=\"fmetakey\">researcher:</div>\n",
       "    <div>Lodewijk Petram</div>\n",
       "</div>\n",
       "\n",
       "<div class=\"fmetarow\">\n",
       "    <div class=\"fmetakey\">sourceFormat:</div>\n",
       "    <div>TEI</div>\n",
       "</div>\n",
       "\n",
       "<div class=\"fmetarow\">\n",
       "    <div class=\"fmetakey\">title:</div>\n",
       "    <div>Generale Missieven van Gouverneurs-Generaal en Raden aan Heren XVII der Verenigde Oostindische Compagnie</div>\n",
       "</div>\n",
       "\n",
       "<div class=\"fmetarow\">\n",
       "    <div class=\"fmetakey\">writtenBy:</div>\n",
       "    <div>Text-Fabric</div>\n",
       "</div>\n",
       "\n",
       "        </div>\n",
       "    </details>\n",
       "</div>\n",
       "\n",
       "<div class=\"frow\">\n",
       "    <div class=\"fnamecat \">\n",
       "<a target=\"_blank\" href=\"https://github.com/clariah/wp6-missieven/blob/master/docs/transcription.md\" title=\"~/text-fabric-data/clariah/wp6-missieven/tf/1.0/weblink.tf\">weblink</a>\n",
       "</div>\n",
       "<div class=\"fmono\">str</div>\n",
       "<details>\n",
       "    <summary>the page-specific part of web links for page nodes</summary>\n",
       "    <div class=\"fmeta\">\n",
       "\n",
       "<div class=\"fmetarow\">\n",
       "    <div class=\"fmetakey\">converters:</div>\n",
       "    <div>Sophie Arnoult, Jesse de Does (TEI), Dirk Roorda (Text-Fabric)</div>\n",
       "</div>\n",
       "\n",
       "<div class=\"fmetarow\">\n",
       "    <div class=\"fmetakey\">dateWritten:</div>\n",
       "    <div>2022-05-04T12:42:17Z</div>\n",
       "</div>\n",
       "\n",
       "<div class=\"fmetarow\">\n",
       "    <div class=\"fmetakey\">descriptionTf:</div>\n",
       "    <div>Original text, editorial text and footnotes form three different types of text</div>\n",
       "</div>\n",
       "\n",
       "<div class=\"fmetarow\">\n",
       "    <div class=\"fmetakey\">editor:</div>\n",
       "    <div>Dr. W. Ph. Coolhaas, Dr. J. van Goor, Dr. J.E. Schooneveld-Oosterling, Dr. H.K. s'Jacob</div>\n",
       "</div>\n",
       "\n",
       "<div class=\"fmetarow\">\n",
       "    <div class=\"fmetakey\">institute:</div>\n",
       "    <div>KNAW/HuygensING</div>\n",
       "</div>\n",
       "\n",
       "<div class=\"fmetarow\">\n",
       "    <div class=\"fmetakey\">language:</div>\n",
       "    <div>nld</div>\n",
       "</div>\n",
       "\n",
       "<div class=\"fmetarow\">\n",
       "    <div class=\"fmetakey\">name:</div>\n",
       "    <div>Generale Missiven</div>\n",
       "</div>\n",
       "\n",
       "<div class=\"fmetarow\">\n",
       "    <div class=\"fmetakey\">period:</div>\n",
       "    <div>1610-1761</div>\n",
       "</div>\n",
       "\n",
       "<div class=\"fmetarow\">\n",
       "    <div class=\"fmetakey\">project:</div>\n",
       "    <div>CLARIAH WP6 Use Case 1</div>\n",
       "</div>\n",
       "\n",
       "<div class=\"fmetarow\">\n",
       "    <div class=\"fmetakey\">published:</div>\n",
       "    <div>Martinus Nijhoff (1960-1985), Bureau der Rijkscommissie voor Vaderlandse Geschiedenis (1988), Instituut voor Nederlandse Geschiedenis (1997, 2004-2007)</div>\n",
       "</div>\n",
       "\n",
       "<div class=\"fmetarow\">\n",
       "    <div class=\"fmetakey\">researcher:</div>\n",
       "    <div>Lodewijk Petram</div>\n",
       "</div>\n",
       "\n",
       "<div class=\"fmetarow\">\n",
       "    <div class=\"fmetakey\">sourceFormat:</div>\n",
       "    <div>TEI</div>\n",
       "</div>\n",
       "\n",
       "<div class=\"fmetarow\">\n",
       "    <div class=\"fmetakey\">title:</div>\n",
       "    <div>Generale Missieven van Gouverneurs-Generaal en Raden aan Heren XVII der Verenigde Oostindische Compagnie</div>\n",
       "</div>\n",
       "\n",
       "<div class=\"fmetarow\">\n",
       "    <div class=\"fmetakey\">writtenBy:</div>\n",
       "    <div>Text-Fabric</div>\n",
       "</div>\n",
       "\n",
       "        </div>\n",
       "    </details>\n",
       "</div>\n",
       "\n",
       "<div class=\"frow\">\n",
       "    <div class=\"fnamecat \">\n",
       "<a target=\"_blank\" href=\"https://github.com/clariah/wp6-missieven/blob/master/docs/transcription.md\" title=\"~/text-fabric-data/clariah/wp6-missieven/tf/1.0/x.tf\">x</a>\n",
       "</div>\n",
       "<div class=\"fmono\">int</div>\n",
       "<details>\n",
       "    <summary>column offset of a column in a row in a table</summary>\n",
       "    <div class=\"fmeta\">\n",
       "\n",
       "<div class=\"fmetarow\">\n",
       "    <div class=\"fmetakey\">converters:</div>\n",
       "    <div>Sophie Arnoult, Jesse de Does (TEI), Dirk Roorda (Text-Fabric)</div>\n",
       "</div>\n",
       "\n",
       "<div class=\"fmetarow\">\n",
       "    <div class=\"fmetakey\">dateWritten:</div>\n",
       "    <div>2022-05-04T12:42:17Z</div>\n",
       "</div>\n",
       "\n",
       "<div class=\"fmetarow\">\n",
       "    <div class=\"fmetakey\">descriptionTf:</div>\n",
       "    <div>Original text, editorial text and footnotes form three different types of text</div>\n",
       "</div>\n",
       "\n",
       "<div class=\"fmetarow\">\n",
       "    <div class=\"fmetakey\">editor:</div>\n",
       "    <div>Dr. W. Ph. Coolhaas, Dr. J. van Goor, Dr. J.E. Schooneveld-Oosterling, Dr. H.K. s'Jacob</div>\n",
       "</div>\n",
       "\n",
       "<div class=\"fmetarow\">\n",
       "    <div class=\"fmetakey\">institute:</div>\n",
       "    <div>KNAW/HuygensING</div>\n",
       "</div>\n",
       "\n",
       "<div class=\"fmetarow\">\n",
       "    <div class=\"fmetakey\">language:</div>\n",
       "    <div>nld</div>\n",
       "</div>\n",
       "\n",
       "<div class=\"fmetarow\">\n",
       "    <div class=\"fmetakey\">name:</div>\n",
       "    <div>Generale Missiven</div>\n",
       "</div>\n",
       "\n",
       "<div class=\"fmetarow\">\n",
       "    <div class=\"fmetakey\">period:</div>\n",
       "    <div>1610-1761</div>\n",
       "</div>\n",
       "\n",
       "<div class=\"fmetarow\">\n",
       "    <div class=\"fmetakey\">project:</div>\n",
       "    <div>CLARIAH WP6 Use Case 1</div>\n",
       "</div>\n",
       "\n",
       "<div class=\"fmetarow\">\n",
       "    <div class=\"fmetakey\">published:</div>\n",
       "    <div>Martinus Nijhoff (1960-1985), Bureau der Rijkscommissie voor Vaderlandse Geschiedenis (1988), Instituut voor Nederlandse Geschiedenis (1997, 2004-2007)</div>\n",
       "</div>\n",
       "\n",
       "<div class=\"fmetarow\">\n",
       "    <div class=\"fmetakey\">researcher:</div>\n",
       "    <div>Lodewijk Petram</div>\n",
       "</div>\n",
       "\n",
       "<div class=\"fmetarow\">\n",
       "    <div class=\"fmetakey\">sourceFormat:</div>\n",
       "    <div>TEI</div>\n",
       "</div>\n",
       "\n",
       "<div class=\"fmetarow\">\n",
       "    <div class=\"fmetakey\">title:</div>\n",
       "    <div>Generale Missieven van Gouverneurs-Generaal en Raden aan Heren XVII der Verenigde Oostindische Compagnie</div>\n",
       "</div>\n",
       "\n",
       "<div class=\"fmetarow\">\n",
       "    <div class=\"fmetakey\">writtenBy:</div>\n",
       "    <div>Text-Fabric</div>\n",
       "</div>\n",
       "\n",
       "        </div>\n",
       "    </details>\n",
       "</div>\n",
       "\n",
       "<div class=\"frow\">\n",
       "    <div class=\"fnamecat \">\n",
       "<a target=\"_blank\" href=\"https://github.com/clariah/wp6-missieven/blob/master/docs/transcription.md\" title=\"~/text-fabric-data/clariah/wp6-missieven/tf/1.0/year.tf\">year</a>\n",
       "</div>\n",
       "<div class=\"fmono\">int</div>\n",
       "<details>\n",
       "    <summary>year part of the date of the letter</summary>\n",
       "    <div class=\"fmeta\">\n",
       "\n",
       "<div class=\"fmetarow\">\n",
       "    <div class=\"fmetakey\">converters:</div>\n",
       "    <div>Sophie Arnoult, Jesse de Does (TEI), Dirk Roorda (Text-Fabric)</div>\n",
       "</div>\n",
       "\n",
       "<div class=\"fmetarow\">\n",
       "    <div class=\"fmetakey\">dateWritten:</div>\n",
       "    <div>2022-05-04T12:42:17Z</div>\n",
       "</div>\n",
       "\n",
       "<div class=\"fmetarow\">\n",
       "    <div class=\"fmetakey\">descriptionTf:</div>\n",
       "    <div>Original text, editorial text and footnotes form three different types of text</div>\n",
       "</div>\n",
       "\n",
       "<div class=\"fmetarow\">\n",
       "    <div class=\"fmetakey\">editor:</div>\n",
       "    <div>Dr. W. Ph. Coolhaas, Dr. J. van Goor, Dr. J.E. Schooneveld-Oosterling, Dr. H.K. s'Jacob</div>\n",
       "</div>\n",
       "\n",
       "<div class=\"fmetarow\">\n",
       "    <div class=\"fmetakey\">format:</div>\n",
       "    <div>numeral between 1600 and 1800</div>\n",
       "</div>\n",
       "\n",
       "<div class=\"fmetarow\">\n",
       "    <div class=\"fmetakey\">institute:</div>\n",
       "    <div>KNAW/HuygensING</div>\n",
       "</div>\n",
       "\n",
       "<div class=\"fmetarow\">\n",
       "    <div class=\"fmetakey\">language:</div>\n",
       "    <div>nld</div>\n",
       "</div>\n",
       "\n",
       "<div class=\"fmetarow\">\n",
       "    <div class=\"fmetakey\">name:</div>\n",
       "    <div>Generale Missiven</div>\n",
       "</div>\n",
       "\n",
       "<div class=\"fmetarow\">\n",
       "    <div class=\"fmetakey\">period:</div>\n",
       "    <div>1610-1761</div>\n",
       "</div>\n",
       "\n",
       "<div class=\"fmetarow\">\n",
       "    <div class=\"fmetakey\">project:</div>\n",
       "    <div>CLARIAH WP6 Use Case 1</div>\n",
       "</div>\n",
       "\n",
       "<div class=\"fmetarow\">\n",
       "    <div class=\"fmetakey\">published:</div>\n",
       "    <div>Martinus Nijhoff (1960-1985), Bureau der Rijkscommissie voor Vaderlandse Geschiedenis (1988), Instituut voor Nederlandse Geschiedenis (1997, 2004-2007)</div>\n",
       "</div>\n",
       "\n",
       "<div class=\"fmetarow\">\n",
       "    <div class=\"fmetakey\">researcher:</div>\n",
       "    <div>Lodewijk Petram</div>\n",
       "</div>\n",
       "\n",
       "<div class=\"fmetarow\">\n",
       "    <div class=\"fmetakey\">sourceFormat:</div>\n",
       "    <div>TEI</div>\n",
       "</div>\n",
       "\n",
       "<div class=\"fmetarow\">\n",
       "    <div class=\"fmetakey\">title:</div>\n",
       "    <div>Generale Missieven van Gouverneurs-Generaal en Raden aan Heren XVII der Verenigde Oostindische Compagnie</div>\n",
       "</div>\n",
       "\n",
       "<div class=\"fmetarow\">\n",
       "    <div class=\"fmetakey\">writtenBy:</div>\n",
       "    <div>Text-Fabric</div>\n",
       "</div>\n",
       "\n",
       "        </div>\n",
       "    </details>\n",
       "</div>\n",
       "\n",
       "<div class=\"frow\">\n",
       "    <div class=\"fnamecat edge\">\n",
       "<a target=\"_blank\" href=\"https://github.com/clariah/wp6-missieven/blob/master/docs/transcription.md\" title=\"~/text-fabric-data/clariah/wp6-missieven/tf/1.0/note.tf\">note</a>\n",
       "</div>\n",
       "<div class=\"fmono\">none</div>\n",
       "<details>\n",
       "    <summary>edge between a word and the footnotes associated with it</summary>\n",
       "    <div class=\"fmeta\">\n",
       "\n",
       "<div class=\"fmetarow\">\n",
       "    <div class=\"fmetakey\">converters:</div>\n",
       "    <div>Sophie Arnoult, Jesse de Does (TEI), Dirk Roorda (Text-Fabric)</div>\n",
       "</div>\n",
       "\n",
       "<div class=\"fmetarow\">\n",
       "    <div class=\"fmetakey\">dateWritten:</div>\n",
       "    <div>2022-05-04T12:42:17Z</div>\n",
       "</div>\n",
       "\n",
       "<div class=\"fmetarow\">\n",
       "    <div class=\"fmetakey\">descriptionTf:</div>\n",
       "    <div>Original text, editorial text and footnotes form three different types of text</div>\n",
       "</div>\n",
       "\n",
       "<div class=\"fmetarow\">\n",
       "    <div class=\"fmetakey\">editor:</div>\n",
       "    <div>Dr. W. Ph. Coolhaas, Dr. J. van Goor, Dr. J.E. Schooneveld-Oosterling, Dr. H.K. s'Jacob</div>\n",
       "</div>\n",
       "\n",
       "<div class=\"fmetarow\">\n",
       "    <div class=\"fmetakey\">format:</div>\n",
       "    <div>no values</div>\n",
       "</div>\n",
       "\n",
       "<div class=\"fmetarow\">\n",
       "    <div class=\"fmetakey\">institute:</div>\n",
       "    <div>KNAW/HuygensING</div>\n",
       "</div>\n",
       "\n",
       "<div class=\"fmetarow\">\n",
       "    <div class=\"fmetakey\">language:</div>\n",
       "    <div>nld</div>\n",
       "</div>\n",
       "\n",
       "<div class=\"fmetarow\">\n",
       "    <div class=\"fmetakey\">name:</div>\n",
       "    <div>Generale Missiven</div>\n",
       "</div>\n",
       "\n",
       "<div class=\"fmetarow\">\n",
       "    <div class=\"fmetakey\">period:</div>\n",
       "    <div>1610-1761</div>\n",
       "</div>\n",
       "\n",
       "<div class=\"fmetarow\">\n",
       "    <div class=\"fmetakey\">project:</div>\n",
       "    <div>CLARIAH WP6 Use Case 1</div>\n",
       "</div>\n",
       "\n",
       "<div class=\"fmetarow\">\n",
       "    <div class=\"fmetakey\">published:</div>\n",
       "    <div>Martinus Nijhoff (1960-1985), Bureau der Rijkscommissie voor Vaderlandse Geschiedenis (1988), Instituut voor Nederlandse Geschiedenis (1997, 2004-2007)</div>\n",
       "</div>\n",
       "\n",
       "<div class=\"fmetarow\">\n",
       "    <div class=\"fmetakey\">researcher:</div>\n",
       "    <div>Lodewijk Petram</div>\n",
       "</div>\n",
       "\n",
       "<div class=\"fmetarow\">\n",
       "    <div class=\"fmetakey\">sourceFormat:</div>\n",
       "    <div>TEI</div>\n",
       "</div>\n",
       "\n",
       "<div class=\"fmetarow\">\n",
       "    <div class=\"fmetakey\">title:</div>\n",
       "    <div>Generale Missieven van Gouverneurs-Generaal en Raden aan Heren XVII der Verenigde Oostindische Compagnie</div>\n",
       "</div>\n",
       "\n",
       "<div class=\"fmetarow\">\n",
       "    <div class=\"fmetakey\">writtenBy:</div>\n",
       "    <div>Text-Fabric</div>\n",
       "</div>\n",
       "\n",
       "        </div>\n",
       "    </details>\n",
       "</div>\n",
       "\n",
       "<div class=\"frow\">\n",
       "    <div class=\"fnamecat edge\">\n",
       "<a target=\"_blank\" href=\"https://github.com/clariah/wp6-missieven/blob/master/docs/transcription.md\" title=\"~/text-fabric-data/clariah/wp6-missieven/tf/1.0/oslots.tf\">oslots</a>\n",
       "</div>\n",
       "<div class=\"fmono\">none</div>\n",
       "<details>\n",
       "    <summary></summary>\n",
       "    <div class=\"fmeta\">\n",
       "\n",
       "<div class=\"fmetarow\">\n",
       "    <div class=\"fmetakey\">converters:</div>\n",
       "    <div>Sophie Arnoult, Jesse de Does (TEI), Dirk Roorda (Text-Fabric)</div>\n",
       "</div>\n",
       "\n",
       "<div class=\"fmetarow\">\n",
       "    <div class=\"fmetakey\">dateWritten:</div>\n",
       "    <div>2022-05-04T12:42:17Z</div>\n",
       "</div>\n",
       "\n",
       "<div class=\"fmetarow\">\n",
       "    <div class=\"fmetakey\">descriptionTf:</div>\n",
       "    <div>Original text, editorial text and footnotes form three different types of text</div>\n",
       "</div>\n",
       "\n",
       "<div class=\"fmetarow\">\n",
       "    <div class=\"fmetakey\">editor:</div>\n",
       "    <div>Dr. W. Ph. Coolhaas, Dr. J. van Goor, Dr. J.E. Schooneveld-Oosterling, Dr. H.K. s'Jacob</div>\n",
       "</div>\n",
       "\n",
       "<div class=\"fmetarow\">\n",
       "    <div class=\"fmetakey\">institute:</div>\n",
       "    <div>KNAW/HuygensING</div>\n",
       "</div>\n",
       "\n",
       "<div class=\"fmetarow\">\n",
       "    <div class=\"fmetakey\">language:</div>\n",
       "    <div>nld</div>\n",
       "</div>\n",
       "\n",
       "<div class=\"fmetarow\">\n",
       "    <div class=\"fmetakey\">name:</div>\n",
       "    <div>Generale Missiven</div>\n",
       "</div>\n",
       "\n",
       "<div class=\"fmetarow\">\n",
       "    <div class=\"fmetakey\">period:</div>\n",
       "    <div>1610-1761</div>\n",
       "</div>\n",
       "\n",
       "<div class=\"fmetarow\">\n",
       "    <div class=\"fmetakey\">project:</div>\n",
       "    <div>CLARIAH WP6 Use Case 1</div>\n",
       "</div>\n",
       "\n",
       "<div class=\"fmetarow\">\n",
       "    <div class=\"fmetakey\">published:</div>\n",
       "    <div>Martinus Nijhoff (1960-1985), Bureau der Rijkscommissie voor Vaderlandse Geschiedenis (1988), Instituut voor Nederlandse Geschiedenis (1997, 2004-2007)</div>\n",
       "</div>\n",
       "\n",
       "<div class=\"fmetarow\">\n",
       "    <div class=\"fmetakey\">researcher:</div>\n",
       "    <div>Lodewijk Petram</div>\n",
       "</div>\n",
       "\n",
       "<div class=\"fmetarow\">\n",
       "    <div class=\"fmetakey\">sourceFormat:</div>\n",
       "    <div>TEI</div>\n",
       "</div>\n",
       "\n",
       "<div class=\"fmetarow\">\n",
       "    <div class=\"fmetakey\">title:</div>\n",
       "    <div>Generale Missieven van Gouverneurs-Generaal en Raden aan Heren XVII der Verenigde Oostindische Compagnie</div>\n",
       "</div>\n",
       "\n",
       "<div class=\"fmetarow\">\n",
       "    <div class=\"fmetakey\">writtenBy:</div>\n",
       "    <div>Text-Fabric</div>\n",
       "</div>\n",
       "\n",
       "        </div>\n",
       "    </details>\n",
       "</div>\n",
       "\n",
       "    </div>\n",
       "</details>\n"
      ],
      "text/plain": [
       "<IPython.core.display.HTML object>"
      ]
     },
     "metadata": {},
     "output_type": "display_data"
    },
    {
     "data": {
      "text/html": [
       "<style>tr.tf.ltr, td.tf.ltr, th.tf.ltr { text-align: left ! important;}\n",
       "tr.tf.rtl, td.tf.rtl, th.tf.rtl { text-align: right ! important;}\n",
       "@font-face {\n",
       "  font-family: \"Gentium Plus\";\n",
       "  src: local('Gentium Plus'), local('GentiumPlus'),\n",
       "    url('/server/static/fonts/GentiumPlus-R.woff') format('woff'),\n",
       "    url('https://github.com/annotation/text-fabric/blob/master/tf/server/static/fonts/GentiumPlus-R.woff?raw=true') format('woff');\n",
       "}\n",
       "\n",
       "@font-face {\n",
       "  font-family: \"Ezra SIL\";\n",
       "  src: local('Ezra SIL'), local('EzraSIL'),\n",
       "    url('/server/static/fonts/SILEOT.woff') format('woff'),\n",
       "    url('https://github.com/annotation/text-fabric/blob/master/tf/server/static/fonts/SILEOT.woff?raw=true') format('woff');\n",
       "}\n",
       "\n",
       "@font-face {\n",
       "  font-family: \"SBL Hebrew\";\n",
       "  src: local('SBL Hebrew'), local('SBLHebrew'),\n",
       "    url('/server/static/fonts/SBL_Hbrw.woff') format('woff'),\n",
       "    url('https://github.com/annotation/text-fabric/blob/master/tf/server/static/fonts/SBL_Hbrw.woff?raw=true') format('woff');\n",
       "}\n",
       "\n",
       "@font-face {\n",
       "  font-family: \"Estrangelo Edessa\";\n",
       "  src: local('Estrangelo Edessa'), local('EstrangeloEdessa');\n",
       "    url('/server/static/fonts/SyrCOMEdessa.woff') format('woff'),\n",
       "    url('https://github.com/annotation/text-fabric/blob/master/tf/server/static/fonts/SyrCOMEdessa.woff?raw=true') format('woff');\n",
       "}\n",
       "\n",
       "@font-face {\n",
       "  font-family: AmiriQuran;\n",
       "  font-style: normal;\n",
       "  font-weight: 400;\n",
       "  src: local('Amiri Quran'), local('AmiriQuran'),\n",
       "    url('/server/static/fonts/AmiriQuran.woff') format('woff'),\n",
       "    url('https://github.com/annotation/text-fabric/blob/master/tf/server/static/fonts/AmiriQuran.woff?raw=true') format('woff');\n",
       "}\n",
       "\n",
       "@font-face {\n",
       "  font-family: AmiriQuranColored;\n",
       "  font-style: normal;\n",
       "  font-weight: 400;\n",
       "  src: local('Amiri Quran Colored'), local('AmiriQuranColored'),\n",
       "    url('/server/static/fonts/AmiriQuranColored.woff') format('woff'),\n",
       "    url('https://github.com/annotation/text-fabric/blob/master/tf/server/static/fonts/AmiriQuranColored.woff?raw=true') format('woff');\n",
       "}\n",
       "\n",
       "@font-face {\n",
       "  font-family: \"Santakku\";\n",
       "  src: local('Santakku'),\n",
       "    url('/server/static/fonts/Santakku.woff') format('woff'),\n",
       "    url('https://github.com/annotation/text-fabric/blob/master/tf/server/static/fonts/Santakku.woff?raw=true') format('woff');\n",
       "}\n",
       "\n",
       "@font-face {\n",
       "  font-family: \"SantakkuM\";\n",
       "  src: local('SantakkuM'),\n",
       "    url('/server/static/fonts/SantakkuM.woff') format('woff'),\n",
       "    url('https://github.com/annotation/text-fabric/blob/master/tf/server/static/fonts/SantakkuM.woff?raw=true') format('woff');\n",
       "}\n",
       "/* bypassing some classical notebook settings */\n",
       "div#notebook {\n",
       "  line-height: unset;\n",
       "}\n",
       "/* neutral text */\n",
       ".txtn,.txtn a:visited,.txtn a:link {\n",
       "    font-family: sans-serif;\n",
       "    font-size: medium;\n",
       "    direction: ltr;\n",
       "    unicode-bidi: embed;\n",
       "    text-decoration: none;\n",
       "    color: var(--text-color);\n",
       "}\n",
       "/* transcription text */\n",
       ".txtt,.txtt a:visited,.txtt a:link {\n",
       "    font-family: monospace;\n",
       "    font-size: medium;\n",
       "    direction: ltr;\n",
       "    unicode-bidi: embed;\n",
       "    text-decoration: none;\n",
       "    color: var(--text-color);\n",
       "}\n",
       "/* source text */\n",
       ".txto,.txto a:visited,.txto a:link {\n",
       "    font-family: serif;\n",
       "    font-size: medium;\n",
       "    direction: ltr;\n",
       "    unicode-bidi: embed;\n",
       "    text-decoration: none;\n",
       "    color: var(--text-color);\n",
       "}\n",
       "/* phonetic text */\n",
       ".txtp,.txtp a:visited,.txtp a:link {\n",
       "    font-family: Gentium, sans-serif;\n",
       "    font-size: medium;\n",
       "    direction: ltr;\n",
       "    unicode-bidi: embed;\n",
       "    text-decoration: none;\n",
       "    color: var(--text-color);\n",
       "}\n",
       "/* original script text */\n",
       ".txtu,.txtu a:visited,.txtu a:link {\n",
       "    font-family: Gentium, sans-serif;\n",
       "    font-size: medium;\n",
       "    text-decoration: none;\n",
       "    color: var(--text-color);\n",
       "}\n",
       "/* hebrew */\n",
       ".txtu.hbo,.lex.hbo {\n",
       "    font-family: \"Ezra SIL\", \"SBL Hebrew\", sans-serif;\n",
       "    font-size: large;\n",
       "    direction: rtl ! important;\n",
       "    unicode-bidi: embed;\n",
       "}\n",
       "/* syriac */\n",
       ".txtu.syc,.lex.syc {\n",
       "    font-family: \"Estrangelo Edessa\", sans-serif;\n",
       "    font-size: medium;\n",
       "    direction: rtl ! important;\n",
       "    unicode-bidi: embed;\n",
       "}\n",
       "/* neo aramaic */\n",
       ".txtu.cld,.lex.cld {\n",
       "    font-family: \"CharisSIL-R\", sans-serif;\n",
       "    font-size: medium;\n",
       "    direction: ltr ! important;\n",
       "    unicode-bidi: embed;\n",
       "}\n",
       "/* standard arabic */\n",
       ".txtu.ara,.lex.ara {\n",
       "    font-family: \"AmiriQuran\", sans-serif;\n",
       "    font-size: large;\n",
       "    direction: rtl ! important;\n",
       "    unicode-bidi: embed;\n",
       "}\n",
       "/* cuneiform */\n",
       ".txtu.akk,.lex.akk {\n",
       "    font-family: Santakku, sans-serif;\n",
       "    font-size: large;\n",
       "    direction: ltr ! important;\n",
       "    unicode-bidi: embed;\n",
       "}\n",
       "/* greek */\n",
       ".txtu.grc,.lex.grc a:link {\n",
       "    font-family: Gentium, sans-serif;\n",
       "    font-size: medium;\n",
       "    direction: ltr ! important;\n",
       "    unicode-bidi: embed;\n",
       "}\n",
       "a:hover {\n",
       "    text-decoration: underline | important;\n",
       "    color: #0000ff | important;\n",
       "}\n",
       ".ltr {\n",
       "    direction: ltr ! important;\n",
       "    unicode-bidi: embed;\n",
       "}\n",
       ".rtl {\n",
       "    direction: rtl ! important;\n",
       "    unicode-bidi: embed;\n",
       "}\n",
       ".ubd {\n",
       "    unicode-bidi: embed;\n",
       "}\n",
       ".col {\n",
       "   display: inline-block;\n",
       "}\n",
       ".features {\n",
       "    font-family: monospace;\n",
       "    font-size: medium;\n",
       "    font-weight: bold;\n",
       "    color: var(--features);\n",
       "    display: flex;\n",
       "    flex-flow: column nowrap;\n",
       "    justify-content: flex-start;\n",
       "    align-items: flex-start;\n",
       "    align-content: flex-start;\n",
       "    padding: 2px;\n",
       "    margin: 2px;\n",
       "    direction: ltr;\n",
       "    unicode-bidi: embed;\n",
       "    border: var(--meta-width) solid var(--meta-color);\n",
       "    border-radius: var(--meta-width);\n",
       "}\n",
       ".features div,.features span {\n",
       "    padding: 0;\n",
       "    margin: -2px 0;\n",
       "}\n",
       ".features .f {\n",
       "    font-family: sans-serif;\n",
       "    font-size: small;\n",
       "    font-weight: normal;\n",
       "    color: #5555bb;\n",
       "}\n",
       ".features .xft {\n",
       "  color: #000000;\n",
       "  background-color: #eeeeee;\n",
       "  font-size: medium;\n",
       "  margin: 2px 0px;\n",
       "}\n",
       ".features .xft .f {\n",
       "  color: #000000;\n",
       "  background-color: #eeeeee;\n",
       "  font-size: small;\n",
       "  font-weight: normal;\n",
       "}\n",
       ".tfsechead {\n",
       "    font-family: sans-serif;\n",
       "    font-size: small;\n",
       "    font-weight: bold;\n",
       "    color: var(--tfsechead);\n",
       "    unicode-bidi: embed;\n",
       "    text-align: start;\n",
       "}\n",
       ".structure {\n",
       "    font-family: sans-serif;\n",
       "    font-size: small;\n",
       "    font-weight: bold;\n",
       "    color: var(--structure);\n",
       "    unicode-bidi: embed;\n",
       "    text-align: start;\n",
       "}\n",
       ".comments {\n",
       "    display: flex;\n",
       "    justify-content: flex-start;\n",
       "    align-items: flex-start;\n",
       "    align-content: flex-start;\n",
       "    flex-flow: column nowrap;\n",
       "}\n",
       ".nd, a:link.nd {\n",
       "    font-family: sans-serif;\n",
       "    font-size: small;\n",
       "    color: var(--node);\n",
       "    vertical-align: super;\n",
       "    direction: ltr ! important;\n",
       "    unicode-bidi: embed;\n",
       "}\n",
       ".lex {\n",
       "  color: var(--lex-color);;\n",
       "}\n",
       ".children,.children.ltr {\n",
       "    display: flex;\n",
       "    border: 0;\n",
       "    background-color: #ffffff;\n",
       "    justify-content: flex-start;\n",
       "    align-items: flex-start;\n",
       "    align-content: flex-start;\n",
       "}\n",
       ".children.stretch {\n",
       "    align-items: stretch;\n",
       "}\n",
       ".children.hor {\n",
       "    flex-flow: row nowrap;\n",
       "}\n",
       ".children.hor.wrap {\n",
       "    flex-flow: row wrap;\n",
       "}\n",
       ".children.ver {\n",
       "    flex-flow: column nowrap;\n",
       "}\n",
       ".children.ver.wrap {\n",
       "    flex-flow: column wrap;\n",
       "}\n",
       ".contnr {\n",
       "    width: fit-content;\n",
       "    display: flex;\n",
       "    justify-content: flex-start;\n",
       "    align-items: flex-start;\n",
       "    align-content: flex-start;\n",
       "    flex-flow: column nowrap;\n",
       "    background: #ffffff none repeat scroll 0 0;\n",
       "    padding:  10px 2px 2px 2px;\n",
       "    margin: 16px 2px 2px 2px;\n",
       "    border-style: solid;\n",
       "    font-size: small;\n",
       "}\n",
       ".contnr.trm {\n",
       "    background-attachment: local;\n",
       "}\n",
       ".contnr.cnul {\n",
       "    padding:  0;\n",
       "    margin: 0;\n",
       "    border-style: solid;\n",
       "    font-size: xx-small;\n",
       "}\n",
       ".contnr.cnul,.lbl.cnul {\n",
       "    border-color: var(--border-color-nul);\n",
       "    border-width: var(--border-width-nul);\n",
       "    border-radius: var(--border-width-nul);\n",
       "}\n",
       ".contnr.c0,.lbl.c0 {\n",
       "    border-color: var(--border-color0);\n",
       "    border-width: var(--border-width0);\n",
       "    border-radius: var(--border-width0);\n",
       "}\n",
       ".contnr.c1,.lbl.c1 {\n",
       "    border-color: var(--border-color1);\n",
       "    border-width: var(--border-width1);\n",
       "    border-radius: var(--border-width1);\n",
       "}\n",
       ".contnr.c2,.lbl.c2 {\n",
       "    border-color: var(--border-color2);\n",
       "    border-width: var(--border-width2);\n",
       "    border-radius: var(--border-width2);\n",
       "}\n",
       ".contnr.c3,.lbl.c3 {\n",
       "    border-color: var(--border-color3);\n",
       "    border-width: var(--border-width3);\n",
       "    border-radius: var(--border-width3);\n",
       "}\n",
       ".contnr.c4,.lbl.c4 {\n",
       "    border-color: var(--border-color4);\n",
       "    border-width: var(--border-width4);\n",
       "    border-radius: var(--border-width4);\n",
       "}\n",
       "span.plain {\n",
       "    display: inline-block;\n",
       "    white-space: pre-wrap;\n",
       "}\n",
       ".plain {\n",
       "    background-color: #ffffff;\n",
       "}\n",
       ".plain.l,.contnr.l,.contnr.l>.lbl {\n",
       "    border-left-style: dotted\n",
       "}\n",
       ".plain.r,.contnr.r,.contnr.r>.lbl {\n",
       "    border-right-style: dotted\n",
       "}\n",
       ".plain.lno,.contnr.lno,.contnr.lno>.lbl {\n",
       "    border-left-style: none\n",
       "}\n",
       ".plain.rno,.contnr.rno,.contnr.rno>.lbl {\n",
       "    border-right-style: none\n",
       "}\n",
       ".plain.l {\n",
       "    padding-left: 4px;\n",
       "    margin-left: 2px;\n",
       "    border-width: var(--border-width-plain);\n",
       "}\n",
       ".plain.r {\n",
       "    padding-right: 4px;\n",
       "    margin-right: 2px;\n",
       "    border-width: var(--border-width-plain);\n",
       "}\n",
       ".lbl {\n",
       "    font-family: monospace;\n",
       "    margin-top: -24px;\n",
       "    margin-left: 20px;\n",
       "    background: #ffffff none repeat scroll 0 0;\n",
       "    padding: 0 6px;\n",
       "    border-style: solid;\n",
       "    display: block;\n",
       "    color: var(--label)\n",
       "}\n",
       ".lbl.trm {\n",
       "    background-attachment: local;\n",
       "    margin-top: 2px;\n",
       "    margin-left: 2px;\n",
       "    padding: 2px 2px;\n",
       "    border-style: none;\n",
       "}\n",
       ".lbl.cnul {\n",
       "    font-size: xx-small;\n",
       "}\n",
       ".lbl.c0 {\n",
       "    font-size: small;\n",
       "}\n",
       ".lbl.c1 {\n",
       "    font-size: small;\n",
       "}\n",
       ".lbl.c2 {\n",
       "    font-size: medium;\n",
       "}\n",
       ".lbl.c3 {\n",
       "    font-size: medium;\n",
       "}\n",
       ".lbl.c4 {\n",
       "    font-size: large;\n",
       "}\n",
       ".occs, a:link.occs {\n",
       "    font-size: small;\n",
       "}\n",
       "\n",
       "/* PROVENANCE */\n",
       "\n",
       "div.prov {\n",
       "\tmargin: 40px;\n",
       "\tpadding: 20px;\n",
       "\tborder: 2px solid var(--fog-rim);\n",
       "}\n",
       "div.pline {\n",
       "\tdisplay: flex;\n",
       "\tflex-flow: row nowrap;\n",
       "\tjustify-content: stretch;\n",
       "\talign-items: baseline;\n",
       "}\n",
       "div.p2line {\n",
       "\tmargin-left: 2em;\n",
       "\tdisplay: flex;\n",
       "\tflex-flow: row nowrap;\n",
       "\tjustify-content: stretch;\n",
       "\talign-items: baseline;\n",
       "}\n",
       "div.psline {\n",
       "\tdisplay: flex;\n",
       "\tflex-flow: row nowrap;\n",
       "\tjustify-content: stretch;\n",
       "\talign-items: baseline;\n",
       "\tbackground-color: var(--gold-mist-back);\n",
       "}\n",
       "div.pname {\n",
       "\tflex: 0 0 5rem;\n",
       "\tfont-weight: bold;\n",
       "}\n",
       "div.pval {\n",
       "    flex: 1 1 auto;\n",
       "}\n",
       "\n",
       "/* KEYBOARD */\n",
       ".ccoff {\n",
       "  background-color: inherit;\n",
       "}\n",
       ".ccon {\n",
       "  background-color: yellow ! important;\n",
       "}\n",
       ".ccon,.ccoff {\n",
       "  padding-right: 0.1rem;\n",
       "  padding-left: 0.1rem;\n",
       "}\n",
       ".ccline {\n",
       "  font-size: xx-large;\n",
       "  font-weight: bold;\n",
       "}\n",
       "/* TF header */\n",
       "\n",
       "summary {\n",
       "  /* needed to override the normalize.less\n",
       "   * in the classical jupyter notebook\n",
       "   */\n",
       "  display: list-item ! important;\n",
       "}\n",
       "\n",
       ".fcorpus {\n",
       "  display: flex;\n",
       "  flex-flow: column nowrap;\n",
       "  justify-content: flex-start;\n",
       "  align-items: flex-start;\n",
       "  align-content: flex-start;\n",
       "}\n",
       ".frow {\n",
       "  display: flex;\n",
       "  flex-flow: row nowrap;\n",
       "  justify-content: flex-start;\n",
       "  align-items: flex-start;\n",
       "  align-content: flex-start;\n",
       "}\n",
       ".fmeta {\n",
       "  display: flex;\n",
       "  flex-flow: column nowrap;\n",
       "  justify-content: flex-start;\n",
       "  align-items: flex-start;\n",
       "  align-content: flex-start;\n",
       "}\n",
       ".fmetarow {\n",
       "  display: flex;\n",
       "  flex-flow: row nowrap;\n",
       "  justify-content: flex-start;\n",
       "  align-items: flex-start;\n",
       "  align-content: flex-start;\n",
       "}\n",
       ".fmetakey {\n",
       "  min-width: 10rem;\n",
       "  font-family: monospace;\n",
       "}\n",
       ".fnamecat {\n",
       "  min-width: 10rem;\n",
       "}\n",
       ".fnamecat.edge {\n",
       "  font-weight: bold;\n",
       "  font-style: italic;\n",
       "}\n",
       ".fmono {\n",
       "    font-family: monospace;\n",
       "}\n",
       "\n",
       ":root {\n",
       "\t--node:               hsla(120, 100%,  20%, 1.0  );\n",
       "\t--label:              hsla(  0, 100%,  20%, 1.0  );\n",
       "\t--tfsechead:          hsla(  0, 100%,  25%, 1.0  );\n",
       "\t--structure:          hsla(120, 100%,  25%, 1.0  );\n",
       "\t--features:           hsla(  0,   0%,  30%, 1.0  );\n",
       "  --text-color:         hsla( 60,  80%,  10%, 1.0  );\n",
       "  --lex-color:          hsla(220,  90%,  60%, 1.0  );\n",
       "  --meta-color:         hsla(  0,   0%,  90%, 0.7  );\n",
       "  --meta-width:         3px;\n",
       "  --border-color-nul:   hsla(  0,   0%,  90%, 0.5  );\n",
       "  --border-color0:      hsla(  0,   0%,  90%, 0.9  );\n",
       "  --border-color1:      hsla(  0,   0%,  80%, 0.9  );\n",
       "  --border-color2:      hsla(  0,   0%,  70%, 0.9  );\n",
       "  --border-color3:      hsla(  0,   0%,  80%, 0.8  );\n",
       "  --border-color4:      hsla(  0,   0%,  60%, 0.9  );\n",
       "  --border-width-nul:   2px;\n",
       "  --border-width0:      2px;\n",
       "  --border-width1:      3px;\n",
       "  --border-width2:      4px;\n",
       "  --border-width3:      6px;\n",
       "  --border-width4:      5px;\n",
       "  --border-width-plain: 2px;\n",
       "}\n",
       ".hl {\n",
       "  background-color: var(--hl-strong);\n",
       "}\n",
       "span.hl {\n",
       "\tbackground-color: var(--hl-strong);\n",
       "\tborder-width: 0;\n",
       "\tborder-radius: 2px;\n",
       "\tborder-style: solid;\n",
       "}\n",
       "div.contnr.hl,div.lbl.hl {\n",
       "  background-color: var(--hl-strong);\n",
       "}\n",
       "div.contnr.hl {\n",
       "  border-color: var(--hl-rim) ! important;\n",
       "\tborder-width: 4px ! important;\n",
       "}\n",
       "\n",
       "span.hlbx {\n",
       "\tborder-color: var(--hl-rim);\n",
       "\tborder-width: 4px ! important;\n",
       "\tborder-style: solid;\n",
       "\tborder-radius: 6px;\n",
       "  padding: 4px;\n",
       "  margin: 4px;\n",
       "}\n",
       "\n",
       "span.plain {\n",
       "  display: inline-block;\n",
       "  white-space: pre-wrap;\n",
       "}\n",
       "\n",
       ":root {\n",
       "\t--hl-strong:        hsla( 60, 100%,  70%, 0.9  );\n",
       "\t--hl-rim:           hsla( 55,  80%,  50%, 1.0  );\n",
       "}\n",
       ".remark {\n",
       "  font-size: large;\n",
       "  font-style: italic;\n",
       "}\n",
       ".folio {\n",
       "  font-size: small;\n",
       "  color: #668866;\n",
       "}\n",
       ".fmark:after {\n",
       "  font-size: small;\n",
       "  font-weight: bold;\n",
       "  vertical-align: super;\n",
       "  color: #ddaa22;\n",
       "}\n",
       ".note {\n",
       "  vertical-align: super;\n",
       "  font-size: small;\n",
       "  color: #774400;\n",
       "}\n",
       ".ref {\n",
       "  font-size: small;\n",
       "  font-weight: bold;\n",
       "  color: #666688;\n",
       "}\n",
       ".emph {\n",
       "  font-style: italic;\n",
       "}\n",
       ".und {\n",
       "  text-decoration: underline;\n",
       "}\n",
       ".q {\n",
       "  color: #777777;\n",
       "  font-weight: bold;\n",
       "}\n",
       ".num {\n",
       "  font-size: small;\n",
       "  vertical-align: super;\n",
       "}\n",
       ".den {\n",
       "  font-size: small;\n",
       "  vertical-align: sub;\n",
       "}\n",
       ".sub {\n",
       "  vertical-align: sub;\n",
       "}\n",
       ".super {\n",
       "  vertical-align: super;\n",
       "}\n",
       ".special {\n",
       "  font-family: monospace;\n",
       "  font-weight: bold;\n",
       "  color: #886666;\n",
       "}\n",
       "</style>"
      ],
      "text/plain": [
       "<IPython.core.display.HTML object>"
      ]
     },
     "metadata": {},
     "output_type": "display_data"
    },
    {
     "data": {
      "text/html": [
       "\n",
       "<script>\n",
       "const copyChar = (el, c) => {\n",
       "    for (const el of document.getElementsByClassName('ccon')) {\n",
       "        el.className = 'ccoff'\n",
       "    }\n",
       "    el.className = 'ccon'\n",
       "    navigator.clipboard.writeText(String.fromCharCode(c))\n",
       "}\n",
       "</script>\n"
      ],
      "text/plain": [
       "<IPython.core.display.HTML object>"
      ]
     },
     "metadata": {},
     "output_type": "display_data"
    },
    {
     "data": {
      "text/html": [
       "<div><b>Text-Fabric API:</b> names <a target=\"_blank\" href=\"https://annotation.github.io/text-fabric/tf/cheatsheet.html\" title=\"doc\">N F E L T S C TF</a> directly usable</div><hr>"
      ],
      "text/plain": [
       "<IPython.core.display.HTML object>"
      ]
     },
     "metadata": {},
     "output_type": "display_data"
    }
   ],
   "source": [
    "A = use(\"clariah/wp6-missieven:latest\", hoist=globals())\n",
    "# A = use(\"clariah/wp6-missieven\", hoist=globals())"
   ]
  },
  {
   "cell_type": "markdown",
   "metadata": {},
   "source": [
    "There is a lot of information in the report above, we'll look at that in a later chapter:\n",
    "[compute](compute.ipynb)"
   ]
  },
  {
   "cell_type": "markdown",
   "metadata": {
    "tags": []
   },
   "source": [
    "# Getting around\n",
    "\n",
    "## Where am I?\n",
    "\n",
    "All information in a Text-Fabric dataset is tied to nodes and edges.\n",
    "Nodes are integers, from 1 upwards, and the basic textual objects (*slots*) come first, in the order of the text.\n",
    "In this corpus, slots are words, and we have more than 5 millions of them.\n",
    "\n",
    "Here is how you can visualize a slot and see where you are, if you found an arbitrary word:"
   ]
  },
  {
   "cell_type": "code",
   "execution_count": 5,
   "metadata": {},
   "outputs": [
    {
     "data": {
      "text/html": [
       "<div class=\"\"><span class=\"tfsechead \"><span class=\"ltr\"><a target=\"_blank\" href=\"http://resources.huygens.knaw.nl/retroboeken/generalemissiven/#page=732&amp;source=4\" title=\"Show this document on Huygens\" sec=\"4 717:2\">4 717:2</a></span></span>  <span class=\"txtu\">borgtogt </span><span class=\"txtu\">voor </span><span class=\"txtu\">zijn </span><span class=\"txtu\">particulier </span><span class=\"txtu\">overnam, </span><span class=\"txtu\">ondertusschen </span><span class=\"txtu\">dat </span><span class=\"txtu\">desen </span><span class=\"txtu\">Intje </span><span class=\"txtu\">Boang </span><span class=\"txtu\">een </span></div>"
      ],
      "text/plain": [
       "<IPython.core.display.HTML object>"
      ]
     },
     "metadata": {},
     "output_type": "display_data"
    },
    {
     "data": {
      "text/html": [
       "<div class=\"\"><span class=\"tfsechead \"><span class=\"ltr\"><a target=\"_blank\" href=\"http://resources.huygens.knaw.nl/retroboeken/generalemissiven/#page=732&amp;source=4\" title=\"Show this document on Huygens\" sec=\"4 717:2\">4 717:2</a></span></span>  <span class=\"txtu\">borgtogt </span></div>"
      ],
      "text/plain": [
       "<IPython.core.display.HTML object>"
      ]
     },
     "metadata": {},
     "output_type": "display_data"
    }
   ],
   "source": [
    "n = 1_504_875\n",
    "A.plain(L.u(n, otype=\"line\")[0])\n",
    "A.plain(n)"
   ]
  },
  {
   "cell_type": "markdown",
   "metadata": {},
   "source": [
    "This  word is in volume 4, page 717, line 2.\n",
    "You can click the passage specifier, and it will take you to the image of this page on the\n",
    "Missieven site maintained by the Huygens institute.\n",
    "\n",
    "![fragment](images/GM4-717.png)"
   ]
  },
  {
   "cell_type": "markdown",
   "metadata": {
    "tags": []
   },
   "source": [
    "## How to get to ...?\n",
    "\n",
    "Suppose we want to move to volume 4, page 717.\n",
    "How do we find the node that corresponds to that page?"
   ]
  },
  {
   "cell_type": "code",
   "execution_count": 6,
   "metadata": {},
   "outputs": [
    {
     "data": {
      "text/plain": [
       "6561371"
      ]
     },
     "execution_count": 6,
     "metadata": {},
     "output_type": "execute_result"
    }
   ],
   "source": [
    "p = A.nodeFromSectionStr(\"4 717\")\n",
    "p"
   ]
  },
  {
   "cell_type": "markdown",
   "metadata": {},
   "source": [
    "This looks like a meaningless number, but like a barcode on a product, this is the key to all information\n",
    "about a thing. What kind of thing?"
   ]
  },
  {
   "cell_type": "code",
   "execution_count": 7,
   "metadata": {},
   "outputs": [
    {
     "data": {
      "text/plain": [
       "'page'"
      ]
     },
     "execution_count": 7,
     "metadata": {},
     "output_type": "execute_result"
    }
   ],
   "source": [
    "F.otype.v(p)"
   ]
  },
  {
   "cell_type": "markdown",
   "metadata": {},
   "source": [
    "We just asked for the value of the feature `otype` (object type) of node `p`, and it turned out to be a page.\n",
    "In the same way we can get the page number:"
   ]
  },
  {
   "cell_type": "code",
   "execution_count": 8,
   "metadata": {},
   "outputs": [
    {
     "data": {
      "text/plain": [
       "717"
      ]
     },
     "execution_count": 8,
     "metadata": {},
     "output_type": "execute_result"
    }
   ],
   "source": [
    "F.n.v(p)"
   ]
  },
  {
   "cell_type": "markdown",
   "metadata": {},
   "source": [
    "Which features are defined, and what they mean is dependent on the dataset.\n",
    "The dataset designer has provided metadata and documentation about features that are\n",
    "accessible wherever you work with Text-Fabric.\n",
    "Just after the incantation you can expand the list of features and\n",
    "inspect the metadata of each feature. You can also click on the feature name to go\n",
    "to the documentation of the feature.\n",
    "\n",
    "![incantation](images/incantation.png)"
   ]
  },
  {
   "cell_type": "markdown",
   "metadata": {},
   "source": [
    "We can also navigate to a specific line:"
   ]
  },
  {
   "cell_type": "code",
   "execution_count": 9,
   "metadata": {},
   "outputs": [
    {
     "name": "stdout",
     "output_type": "stream",
     "text": [
      "node 6160781 is line 2\n"
     ]
    }
   ],
   "source": [
    "ln = A.nodeFromSectionStr(\"4 717:2\")\n",
    "print(f\"node {ln} is {F.otype.v(ln)} {F.n.v(ln)}\")"
   ]
  },
  {
   "cell_type": "markdown",
   "metadata": {},
   "source": [
    "We can also do this in a more structured way:"
   ]
  },
  {
   "cell_type": "code",
   "execution_count": 10,
   "metadata": {},
   "outputs": [
    {
     "data": {
      "text/plain": [
       "6561371"
      ]
     },
     "execution_count": 10,
     "metadata": {},
     "output_type": "execute_result"
    }
   ],
   "source": [
    "p = T.nodeFromSection((4, 717))\n",
    "p"
   ]
  },
  {
   "cell_type": "code",
   "execution_count": 11,
   "metadata": {},
   "outputs": [
    {
     "data": {
      "text/plain": [
       "6160781"
      ]
     },
     "execution_count": 11,
     "metadata": {},
     "output_type": "execute_result"
    }
   ],
   "source": [
    "ln = T.nodeFromSection((4, 717, 2))\n",
    "ln"
   ]
  },
  {
   "cell_type": "markdown",
   "metadata": {},
   "source": [
    "At this point, have a look at the\n",
    "[cheatsheet](https://annotation.github.io/text-fabric/tf/cheatsheet.html)\n",
    "and find the documentation of these methods."
   ]
  },
  {
   "cell_type": "markdown",
   "metadata": {},
   "source": [
    "## Explore the neighbourhood\n",
    "\n",
    "We show how to find the nodes of the lines in the page, how to print the text of those lines, and how to find the individual words.\n",
    "\n",
    "Text-Fabric has an API called `Locality` (or simply `L`) to explore spatially related nodes.\n",
    "\n",
    "From a node we can go `up`, `down`, `previous` and `next`. Here we go down."
   ]
  },
  {
   "cell_type": "code",
   "execution_count": 12,
   "metadata": {},
   "outputs": [
    {
     "data": {
      "text/plain": [
       "(6160780,\n",
       " 6160781,\n",
       " 6160782,\n",
       " 6160783,\n",
       " 6160784,\n",
       " 6160785,\n",
       " 6160786,\n",
       " 6160787,\n",
       " 6160788,\n",
       " 6160789,\n",
       " 6160790,\n",
       " 6160791,\n",
       " 6160792,\n",
       " 6160793,\n",
       " 6160794,\n",
       " 6160795,\n",
       " 6160796,\n",
       " 6160797,\n",
       " 6160798,\n",
       " 6160799,\n",
       " 6160800,\n",
       " 6160801,\n",
       " 6160802,\n",
       " 6160803,\n",
       " 6160804,\n",
       " 6160805,\n",
       " 6160806,\n",
       " 6160807,\n",
       " 6160808,\n",
       " 6160809,\n",
       " 6160810,\n",
       " 6160811,\n",
       " 6160812,\n",
       " 6160813,\n",
       " 6160814,\n",
       " 6160815,\n",
       " 6160816,\n",
       " 6160817,\n",
       " 6160818,\n",
       " 6160819,\n",
       " 6160820,\n",
       " 6160821)"
      ]
     },
     "execution_count": 12,
     "metadata": {},
     "output_type": "execute_result"
    }
   ],
   "source": [
    "lines = L.d(p, otype=\"line\")\n",
    "lines"
   ]
  },
  {
   "cell_type": "markdown",
   "metadata": {},
   "source": [
    "# Display\n",
    "\n",
    "Text-Fabric has a high-level display API to show textual material in various ways.\n",
    "\n",
    "Here is a plain view."
   ]
  },
  {
   "cell_type": "code",
   "execution_count": 13,
   "metadata": {},
   "outputs": [
    {
     "data": {
      "text/html": [
       "<div class=\"\"><span class=\"tfsechead \"><span class=\"ltr\"><a target=\"_blank\" href=\"http://resources.huygens.knaw.nl/retroboeken/generalemissiven/#page=732&amp;source=4\" title=\"Show this document on Huygens\" sec=\"4 717:1\">4 717:1</a></span></span>  <span class=\"txtu\">Ed. </span><span class=\"txtu\">ht </span><span class=\"txtu\">voorn. </span><span class=\"txtu\">1 </span><span class=\"txtu\">eyndelijck </span><span class=\"txtu\">haar </span><span class=\"txtu\">met </span><span class=\"txtu\">een </span><span class=\"txtu\">briefje </span><span class=\"txtu\">van </span><span class=\"txtu\">zijn </span><span class=\"txtu\">eygen </span><span class=\"txtu\">hand </span><span class=\"txtu\">ontsloegh </span><span class=\"txtu\">en </span><span class=\"txtu\">de </span></div>"
      ],
      "text/plain": [
       "<IPython.core.display.HTML object>"
      ]
     },
     "metadata": {},
     "output_type": "display_data"
    },
    {
     "data": {
      "text/html": [
       "<div class=\"\"><span class=\"tfsechead \"><span class=\"ltr\"><a target=\"_blank\" href=\"http://resources.huygens.knaw.nl/retroboeken/generalemissiven/#page=732&amp;source=4\" title=\"Show this document on Huygens\" sec=\"4 717:2\">4 717:2</a></span></span>  <span class=\"txtu\">borgtogt </span><span class=\"txtu\">voor </span><span class=\"txtu\">zijn </span><span class=\"txtu\">particulier </span><span class=\"txtu\">overnam, </span><span class=\"txtu\">ondertusschen </span><span class=\"txtu\">dat </span><span class=\"txtu\">desen </span><span class=\"txtu\">Intje </span><span class=\"txtu\">Boang </span><span class=\"txtu\">een </span></div>"
      ],
      "text/plain": [
       "<IPython.core.display.HTML object>"
      ]
     },
     "metadata": {},
     "output_type": "display_data"
    },
    {
     "data": {
      "text/html": [
       "<div class=\"\"><span class=\"tfsechead \"><span class=\"ltr\"><a target=\"_blank\" href=\"http://resources.huygens.knaw.nl/retroboeken/generalemissiven/#page=732&amp;source=4\" title=\"Show this document on Huygens\" sec=\"4 717:3\">4 717:3</a></span></span>  <span class=\"txtu\">en </span><span class=\"txtu\">andermaal </span><span class=\"txtu\">door </span><span class=\"txtu\">de </span><span class=\"txtu\">onse </span><span class=\"txtu\">op </span><span class=\"txtu\">Macassar </span><span class=\"txtu\">in </span><span class=\"txtu\">hegtenis </span><span class=\"txtu\">is </span><span class=\"txtu\">genomen, </span><span class=\"txtu\">daar </span><span class=\"txtu\">hij </span><span class=\"txtu\">thans </span><span class=\"txtu\">oock </span></div>"
      ],
      "text/plain": [
       "<IPython.core.display.HTML object>"
      ]
     },
     "metadata": {},
     "output_type": "display_data"
    },
    {
     "data": {
      "text/html": [
       "<div class=\"\"><span class=\"tfsechead \"><span class=\"ltr\"><a target=\"_blank\" href=\"http://resources.huygens.knaw.nl/retroboeken/generalemissiven/#page=732&amp;source=4\" title=\"Show this document on Huygens\" sec=\"4 717:4\">4 717:4</a></span></span>  <span class=\"txtu\">in </span><span class=\"txtu\">sit </span><span class=\"txtu\">om </span><span class=\"txtu\">hem </span><span class=\"txtu\">alsoo </span><span class=\"txtu\">te </span><span class=\"txtu\">doen </span><span class=\"txtu\">geven, </span><span class=\"txtu\">’tgeen </span><span class=\"txtu\">hij </span><span class=\"txtu\">nogh </span><span class=\"txtu\">mogte </span><span class=\"txtu\">besitten. </span><span class=\"txtu\">Duysentrsd. </span></div>"
      ],
      "text/plain": [
       "<IPython.core.display.HTML object>"
      ]
     },
     "metadata": {},
     "output_type": "display_data"
    },
    {
     "data": {
      "text/html": [
       "<div class=\"\"><span class=\"tfsechead \"><span class=\"ltr\"><a target=\"_blank\" href=\"http://resources.huygens.knaw.nl/retroboeken/generalemissiven/#page=732&amp;source=4\" title=\"Show this document on Huygens\" sec=\"4 717:5\">4 717:5</a></span></span>  <span class=\"txtu\">heeft </span><span class=\"txtu\">hij </span><span class=\"txtu\">in </span><span class=\"txtu\">twee </span><span class=\"txtu\">malen </span><span class=\"txtu\">opgebragt </span><span class=\"txtu\">en </span><span class=\"txtu\">voorts </span><span class=\"txtu\">de </span><span class=\"txtu\">Comp. </span><span class=\"txtu\">e </span><span class=\"txtu\">gewesen </span><span class=\"txtu\">op </span><span class=\"txtu\">een </span><span class=\"txtu\">dorp, </span><span class=\"txtu\">daer </span></div>"
      ],
      "text/plain": [
       "<IPython.core.display.HTML object>"
      ]
     },
     "metadata": {},
     "output_type": "display_data"
    },
    {
     "data": {
      "text/html": [
       "<div class=\"\"><span class=\"tfsechead \"><span class=\"ltr\"><a target=\"_blank\" href=\"http://resources.huygens.knaw.nl/retroboeken/generalemissiven/#page=732&amp;source=4\" title=\"Show this document on Huygens\" sec=\"4 717:6\">4 717:6</a></span></span>  <span class=\"txtu\">geen </span><span class=\"txtu\">huysen </span><span class=\"txtu\">en </span><span class=\"txtu\">stonden, </span><span class=\"txtu\">zulcx </span><span class=\"txtu\">wij </span><span class=\"txtu\">te </span><span class=\"txtu\">rade </span><span class=\"txtu\">zijn </span><span class=\"txtu\">geworden </span><span class=\"txtu\">de </span><span class=\"txtu\">eerste </span><span class=\"txtu\">borgen </span><span class=\"txtu\">te </span><span class=\"txtu\">doen </span></div>"
      ],
      "text/plain": [
       "<IPython.core.display.HTML object>"
      ]
     },
     "metadata": {},
     "output_type": "display_data"
    },
    {
     "data": {
      "text/html": [
       "<div class=\"\"><span class=\"tfsechead \"><span class=\"ltr\"><a target=\"_blank\" href=\"http://resources.huygens.knaw.nl/retroboeken/generalemissiven/#page=732&amp;source=4\" title=\"Show this document on Huygens\" sec=\"4 717:7\">4 717:7</a></span></span>  <span class=\"txtu\">aanspreken </span><span class=\"txtu\">om </span><span class=\"txtu\">betalinge </span><span class=\"txtu\">van </span><span class=\"txtu\">capit. </span><span class=\"txtu\">1 </span><span class=\"txtu\">en </span><span class=\"txtu\">intrest, </span><span class=\"txtu\">sullende </span><span class=\"txtu\">overbodigh </span><span class=\"txtu\">Overbodig, </span><span class=\"txtu\">bereid. </span></div>"
      ],
      "text/plain": [
       "<IPython.core.display.HTML object>"
      ]
     },
     "metadata": {},
     "output_type": "display_data"
    },
    {
     "data": {
      "text/html": [
       "<div class=\"\"><span class=\"tfsechead \"><span class=\"ltr\"><a target=\"_blank\" href=\"http://resources.huygens.knaw.nl/retroboeken/generalemissiven/#page=732&amp;source=4\" title=\"Show this document on Huygens\" sec=\"4 717:8\">4 717:8</a></span></span>  <span class=\"txtu\">wesen </span><span class=\"txtu\">om </span></div>"
      ],
      "text/plain": [
       "<IPython.core.display.HTML object>"
      ]
     },
     "metadata": {},
     "output_type": "display_data"
    },
    {
     "data": {
      "text/html": [
       "<div class=\"\"><span class=\"tfsechead \"><span class=\"ltr\"><a target=\"_blank\" href=\"http://resources.huygens.knaw.nl/retroboeken/generalemissiven/#page=732&amp;source=4\" title=\"Show this document on Huygens\" sec=\"4 717:9\">4 717:9</a></span></span>  <span class=\"txtu\">desen </span><span class=\"txtu\">man (</span><span class=\"txtu\">die </span><span class=\"txtu\">veele </span><span class=\"txtu\">klagten </span><span class=\"txtu\">doet) </span><span class=\"txtu\">hier </span><span class=\"txtu\">te </span><span class=\"txtu\">doen </span><span class=\"txtu\">overbrengen </span><span class=\"txtu\">en </span><span class=\"txtu\">aan </span><span class=\"txtu\">haar </span><span class=\"txtu\">te </span><span class=\"txtu\">leveren, </span></div>"
      ],
      "text/plain": [
       "<IPython.core.display.HTML object>"
      ]
     },
     "metadata": {},
     "output_type": "display_data"
    },
    {
     "data": {
      "text/html": [
       "<div class=\"\"><span class=\"tfsechead \"><span class=\"ltr\"><a target=\"_blank\" href=\"http://resources.huygens.knaw.nl/retroboeken/generalemissiven/#page=732&amp;source=4\" title=\"Show this document on Huygens\" sec=\"4 717:10\">4 717:10</a></span></span>  <span class=\"txtu\">als </span><span class=\"txtu\">zij </span><span class=\"txtu\">daarom </span><span class=\"txtu\">komen </span><span class=\"txtu\">te </span><span class=\"txtu\">versoecken, </span><span class=\"txtu\">want </span><span class=\"txtu\">het </span><span class=\"txtu\">komt </span><span class=\"txtu\">de </span><span class=\"txtu\">Comp. </span><span class=\"txtu\">e </span><span class=\"txtu\">niet </span><span class=\"txtu\">gelegen </span><span class=\"txtu\">met </span></div>"
      ],
      "text/plain": [
       "<IPython.core.display.HTML object>"
      ]
     },
     "metadata": {},
     "output_type": "display_data"
    },
    {
     "data": {
      "text/html": [
       "<div class=\"\"><span class=\"tfsechead \"><span class=\"ltr\"><a target=\"_blank\" href=\"http://resources.huygens.knaw.nl/retroboeken/generalemissiven/#page=732&amp;source=4\" title=\"Show this document on Huygens\" sec=\"4 717:11\">4 717:11</a></span></span>  <span class=\"txtu\">zulcke </span><span class=\"txtu\">sehurcken </span><span class=\"txtu\">reecq. </span><span class=\"txtu\">te </span><span class=\"txtu\">houden </span><span class=\"txtu\">en </span><span class=\"txtu\">hem </span><span class=\"txtu\">om </span><span class=\"txtu\">de </span><span class=\"txtu\">betalinge </span><span class=\"txtu\">langer </span><span class=\"txtu\">achter </span><span class=\"txtu\">aan </span><span class=\"txtu\">te </span></div>"
      ],
      "text/plain": [
       "<IPython.core.display.HTML object>"
      ]
     },
     "metadata": {},
     "output_type": "display_data"
    },
    {
     "data": {
      "text/html": [
       "<div class=\"\"><span class=\"tfsechead \"><span class=\"ltr\"><a target=\"_blank\" href=\"http://resources.huygens.knaw.nl/retroboeken/generalemissiven/#page=732&amp;source=4\" title=\"Show this document on Huygens\" sec=\"4 717:12\">4 717:12</a></span></span>  <span class=\"txtu\">loopen. </span></div>"
      ],
      "text/plain": [
       "<IPython.core.display.HTML object>"
      ]
     },
     "metadata": {},
     "output_type": "display_data"
    },
    {
     "data": {
      "text/html": [
       "<div class=\"\"><span class=\"tfsechead \"><span class=\"ltr\"><a target=\"_blank\" href=\"http://resources.huygens.knaw.nl/retroboeken/generalemissiven/#page=732&amp;source=4\" title=\"Show this document on Huygens\" sec=\"4 717:13\">4 717:13</a></span></span>  <span class=\"txtu\">27 </span><span class=\"txtu\">oct. </span><span class=\"txtu\">stierf </span><span class=\"txtu\">president </span><span class=\"txtu\">Cops, </span><span class=\"txtu\">Adriaen </span><span class=\"txtu\">van </span><span class=\"txtu\">Daalen </span><span class=\"txtu\">volgt </span><span class=\"txtu\">hem </span><span class=\"txtu\">voorlopig </span><span class=\"txtu\">op; </span></div>"
      ],
      "text/plain": [
       "<IPython.core.display.HTML object>"
      ]
     },
     "metadata": {},
     "output_type": "display_data"
    },
    {
     "data": {
      "text/html": [
       "<div class=\"\"><span class=\"tfsechead \"><span class=\"ltr\"><a target=\"_blank\" href=\"http://resources.huygens.knaw.nl/retroboeken/generalemissiven/#page=732&amp;source=4\" title=\"Show this document on Huygens\" sec=\"4 717:14\">4 717:14</a></span></span>  <span class=\"txtu\">Tack </span><span class=\"txtu\">zal </span><span class=\"txtu\">nu </span><span class=\"txtu\">spoedig </span><span class=\"txtu\">derwaarts </span><span class=\"txtu\">gaan; </span><span class=\"txtu\">de </span><span class=\"txtu\">Koning </span><span class=\"txtu\">van </span><span class=\"txtu\">Bidon </span><span class=\"txtu\">zond </span><span class=\"txtu\">nog </span><span class=\"txtu\">geen </span><span class=\"txtu\">gezanten , </span></div>"
      ],
      "text/plain": [
       "<IPython.core.display.HTML object>"
      ]
     },
     "metadata": {},
     "output_type": "display_data"
    },
    {
     "data": {
      "text/html": [
       "<div class=\"\"><span class=\"tfsechead \"><span class=\"ltr\"><a target=\"_blank\" href=\"http://resources.huygens.knaw.nl/retroboeken/generalemissiven/#page=732&amp;source=4\" title=\"Show this document on Huygens\" sec=\"4 717:15\">4 717:15</a></span></span>  <span class=\"txtu\">hij - ) </span></div>"
      ],
      "text/plain": [
       "<IPython.core.display.HTML object>"
      ]
     },
     "metadata": {},
     "output_type": "display_data"
    },
    {
     "data": {
      "text/html": [
       "<div class=\"\"><span class=\"tfsechead \"><span class=\"ltr\"><a target=\"_blank\" href=\"http://resources.huygens.knaw.nl/retroboeken/generalemissiven/#page=732&amp;source=4\" title=\"Show this document on Huygens\" sec=\"4 717:16\">4 717:16</a></span></span>  <span class=\"txtu\">tegens </span><span class=\"txtu\">eenige </span><span class=\"txtu\">rebellen </span><span class=\"txtu\">was </span><span class=\"txtu\">te </span><span class=\"txtu\">velde </span><span class=\"txtu\">getrocken, </span><span class=\"txtu\">waartoe </span><span class=\"txtu\">zij </span><span class=\"txtu\">actiën </span></div>"
      ],
      "text/plain": [
       "<IPython.core.display.HTML object>"
      ]
     },
     "metadata": {},
     "output_type": "display_data"
    },
    {
     "data": {
      "text/html": [
       "<div class=\"\"><span class=\"tfsechead \"><span class=\"ltr\"><a target=\"_blank\" href=\"http://resources.huygens.knaw.nl/retroboeken/generalemissiven/#page=732&amp;source=4\" title=\"Show this document on Huygens\" sec=\"4 717:17\">4 717:17</a></span></span>  <span class=\"txtu\">smeeden, </span><span class=\"txtu\">als </span><span class=\"txtu\">zij </span><span class=\"txtu\">een </span><span class=\"txtu\">roof </span><span class=\"txtu\">van </span><span class=\"txtu\">menschen </span><span class=\"txtu\">willen </span><span class=\"txtu\">doen, </span><span class=\"txtu\">die </span><span class=\"txtu\">zij </span><span class=\"txtu\">verkopen </span><span class=\"txtu\">ende </span><span class=\"txtu\">verhandelen. </span></div>"
      ],
      "text/plain": [
       "<IPython.core.display.HTML object>"
      ]
     },
     "metadata": {},
     "output_type": "display_data"
    },
    {
     "data": {
      "text/html": [
       "<div class=\"\"><span class=\"tfsechead \"><span class=\"ltr\"><a target=\"_blank\" href=\"http://resources.huygens.knaw.nl/retroboeken/generalemissiven/#page=732&amp;source=4\" title=\"Show this document on Huygens\" sec=\"4 717:18\">4 717:18</a></span></span>  </div>"
      ],
      "text/plain": [
       "<IPython.core.display.HTML object>"
      ]
     },
     "metadata": {},
     "output_type": "display_data"
    },
    {
     "data": {
      "text/html": [
       "<div class=\"\"><span class=\"tfsechead \"><span class=\"ltr\"><a target=\"_blank\" href=\"http://resources.huygens.knaw.nl/retroboeken/generalemissiven/#page=732&amp;source=4\" title=\"Show this document on Huygens\" sec=\"4 717:19\">4 717:19</a></span></span>  <span class=\"txtu\">Op </span><span class=\"txtu\">de </span><span class=\"txtu\">Tukangbesi- </span><span class=\"txtu\">Eilanden </span><span class=\"txtu\">werden </span><span class=\"txtu\">136 </span><span class=\"txtu\">jonge </span><span class=\"txtu\">notebomen </span><span class=\"txtu\">omgehakt; </span><span class=\"txtu\">de </span><span class=\"txtu\">uitgaven </span></div>"
      ],
      "text/plain": [
       "<IPython.core.display.HTML object>"
      ]
     },
     "metadata": {},
     "output_type": "display_data"
    },
    {
     "data": {
      "text/html": [
       "<div class=\"\"><span class=\"tfsechead \"><span class=\"ltr\"><a target=\"_blank\" href=\"http://resources.huygens.knaw.nl/retroboeken/generalemissiven/#page=732&amp;source=4\" title=\"Show this document on Huygens\" sec=\"4 717:20\">4 717:20</a></span></span>  <span class=\"txtu\">te </span><span class=\"txtu\">Makassar </span><span class=\"txtu\">bedroegen </span><span class=\"txtu\">in </span><span class=\"txtu\">een </span><span class=\"txtu\">jaar </span><span class=\"txtu\">f. </span><span class=\"txtu\">143229, </span><span class=\"txtu\">de </span><span class=\"txtu\">inkomsten </span><span class=\"txtu\">f. </span><span class=\"txtu\">39770; </span><span class=\"txtu\">bij </span><span class=\"txtu\">de </span><span class=\"txtu\">eerste </span><span class=\"txtu\">was </span></div>"
      ],
      "text/plain": [
       "<IPython.core.display.HTML object>"
      ]
     },
     "metadata": {},
     "output_type": "display_data"
    },
    {
     "data": {
      "text/html": [
       "<div class=\"\"><span class=\"tfsechead \"><span class=\"ltr\"><a target=\"_blank\" href=\"http://resources.huygens.knaw.nl/retroboeken/generalemissiven/#page=732&amp;source=4\" title=\"Show this document on Huygens\" sec=\"4 717:21\">4 717:21</a></span></span>  <span class=\"txtu\">11000 </span><span class=\"txtu\">rsd. </span><span class=\"txtu\">achterstallige </span><span class=\"txtu\">gage </span><span class=\"txtu\">voor </span><span class=\"txtu\">Radja </span><span class=\"txtu\">Bone; </span><span class=\"txtu\">te </span><span class=\"txtu\">Makassar </span><span class=\"txtu\">werden </span><span class=\"txtu\">wissels </span><span class=\"txtu\">voor </span><span class=\"txtu\">12223 </span></div>"
      ],
      "text/plain": [
       "<IPython.core.display.HTML object>"
      ]
     },
     "metadata": {},
     "output_type": "display_data"
    },
    {
     "data": {
      "text/html": [
       "<div class=\"\"><span class=\"tfsechead \"><span class=\"ltr\"><a target=\"_blank\" href=\"http://resources.huygens.knaw.nl/retroboeken/generalemissiven/#page=732&amp;source=4\" title=\"Show this document on Huygens\" sec=\"4 717:22\">4 717:22</a></span></span>  <span class=\"txtu\">rsd. </span><span class=\"txtu\">op </span><span class=\"txtu\">Batavia </span><span class=\"txtu\">getrokken; </span><span class=\"txtu\">er </span><span class=\"txtu\">waren </span><span class=\"txtu\">296 </span><span class=\"txtu\">militairen, </span><span class=\"txtu\">van </span><span class=\"txtu\">wie </span><span class=\"txtu\">96 </span><span class=\"txtu\">op </span><span class=\"txtu\">de </span><span class=\"txtu\">buitenposten, </span></div>"
      ],
      "text/plain": [
       "<IPython.core.display.HTML object>"
      ]
     },
     "metadata": {},
     "output_type": "display_data"
    },
    {
     "data": {
      "text/html": [
       "<div class=\"\"><span class=\"tfsechead \"><span class=\"ltr\"><a target=\"_blank\" href=\"http://resources.huygens.knaw.nl/retroboeken/generalemissiven/#page=732&amp;source=4\" title=\"Show this document on Huygens\" sec=\"4 717:23\">4 717:23</a></span></span>  <span class=\"txtu\">men </span><span class=\"txtu\">vraagt </span><span class=\"txtu\">er </span><span class=\"txtu\">nog </span><span class=\"txtu\">100 </span><span class=\"txtu\">aan; </span><span class=\"txtu\">kapitein </span><span class=\"txtu\">Pleun </span><span class=\"txtu\">is </span><span class=\"txtu\">van </span><span class=\"txtu\">daar </span><span class=\"txtu\">verlost </span><span class=\"txtu\">en </span><span class=\"txtu\">repatrieert » </span></div>"
      ],
      "text/plain": [
       "<IPython.core.display.HTML object>"
      ]
     },
     "metadata": {},
     "output_type": "display_data"
    },
    {
     "data": {
      "text/html": [
       "<div class=\"\"><span class=\"tfsechead \"><span class=\"ltr\"><a target=\"_blank\" href=\"http://resources.huygens.knaw.nl/retroboeken/generalemissiven/#page=732&amp;source=4\" title=\"Show this document on Huygens\" sec=\"4 717:24\">4 717:24</a></span></span>  </div>"
      ],
      "text/plain": [
       "<IPython.core.display.HTML object>"
      ]
     },
     "metadata": {},
     "output_type": "display_data"
    },
    {
     "data": {
      "text/html": [
       "<div class=\"\"><span class=\"tfsechead \"><span class=\"ltr\"><a target=\"_blank\" href=\"http://resources.huygens.knaw.nl/retroboeken/generalemissiven/#page=732&amp;source=4\" title=\"Show this document on Huygens\" sec=\"4 717:25\">4 717:25</a></span></span>  <span class=\"txtu\">De </span><span class=\"txtu\">Kon. </span><span class=\"txtu\">van </span><span class=\"txtu\">Goa </span><span class=\"txtu\">met </span><span class=\"txtu\">zijne </span><span class=\"txtu\">Macassaren </span><span class=\"txtu\">was </span><span class=\"txtu\">met </span><span class=\"txtu\">volkomen </span><span class=\"txtu\">vergenoeginge </span><span class=\"txtu\">van </span></div>"
      ],
      "text/plain": [
       "<IPython.core.display.HTML object>"
      ]
     },
     "metadata": {},
     "output_type": "display_data"
    },
    {
     "data": {
      "text/html": [
       "<div class=\"\"><span class=\"tfsechead \"><span class=\"ltr\"><a target=\"_blank\" href=\"http://resources.huygens.knaw.nl/retroboeken/generalemissiven/#page=732&amp;source=4\" title=\"Show this document on Huygens\" sec=\"4 717:26\">4 717:26</a></span></span>  <span class=\"txtu\">Radja </span><span class=\"txtu\">Bone </span><span class=\"txtu\">uyt </span><span class=\"txtu\">’t </span><span class=\"txtu\">quartier </span><span class=\"txtu\">der </span><span class=\"txtu\">Boegys </span><span class=\"txtu\">benoorden </span><span class=\"txtu\">de </span><span class=\"txtu\">reviere </span><span class=\"txtu\">Somboupa </span><span class=\"txtu\">toegestaen </span></div>"
      ],
      "text/plain": [
       "<IPython.core.display.HTML object>"
      ]
     },
     "metadata": {},
     "output_type": "display_data"
    },
    {
     "data": {
      "text/html": [
       "<div class=\"\"><span class=\"tfsechead \"><span class=\"ltr\"><a target=\"_blank\" href=\"http://resources.huygens.knaw.nl/retroboeken/generalemissiven/#page=732&amp;source=4\" title=\"Show this document on Huygens\" sec=\"4 717:27\">4 717:27</a></span></span>  <span class=\"txtu\">zijne </span><span class=\"txtu\">negorye </span><span class=\"txtu\">te </span><span class=\"txtu\">maken, </span><span class=\"txtu\">dat </span><span class=\"txtu\">wij </span><span class=\"txtu\">voor </span><span class=\"txtu\">een </span><span class=\"txtu\">zeer </span><span class=\"txtu\">goet </span><span class=\"txtu\">werck </span><span class=\"txtu\">aenzien. </span></div>"
      ],
      "text/plain": [
       "<IPython.core.display.HTML object>"
      ]
     },
     "metadata": {},
     "output_type": "display_data"
    },
    {
     "data": {
      "text/html": [
       "<div class=\"\"><span class=\"tfsechead \"><span class=\"ltr\"><a target=\"_blank\" href=\"http://resources.huygens.knaw.nl/retroboeken/generalemissiven/#page=732&amp;source=4\" title=\"Show this document on Huygens\" sec=\"4 717:28\">4 717:28</a></span></span>  <span class=\"txtu\">De </span><span class=\"txtu\">Koningen </span><span class=\"txtu\">roepen </span><span class=\"txtu\">de </span><span class=\"txtu\">uitgeweken </span><span class=\"txtu\">Makassaren </span><span class=\"txtu\">van </span><span class=\"txtu\">Sukun </span><span class=\"txtu\">terug </span><span class=\"txtu\">op </span><span class=\"txtu\">straffe </span><span class=\"txtu\">van </span></div>"
      ],
      "text/plain": [
       "<IPython.core.display.HTML object>"
      ]
     },
     "metadata": {},
     "output_type": "display_data"
    },
    {
     "data": {
      "text/html": [
       "<div class=\"\"><span class=\"tfsechead \"><span class=\"ltr\"><a target=\"_blank\" href=\"http://resources.huygens.knaw.nl/retroboeken/generalemissiven/#page=732&amp;source=4\" title=\"Show this document on Huygens\" sec=\"4 717:29\">4 717:29</a></span></span>  <span class=\"txtu\">anders </span><span class=\"txtu\">als </span><span class=\"txtu\">rebel </span><span class=\"txtu\">beschouwd </span><span class=\"txtu\">te </span><span class=\"txtu\">worden; </span><span class=\"txtu\">op </span><span class=\"txtu\">Bima » </span></div>"
      ],
      "text/plain": [
       "<IPython.core.display.HTML object>"
      ]
     },
     "metadata": {},
     "output_type": "display_data"
    },
    {
     "data": {
      "text/html": [
       "<div class=\"\"><span class=\"tfsechead \"><span class=\"ltr\"><a target=\"_blank\" href=\"http://resources.huygens.knaw.nl/retroboeken/generalemissiven/#page=732&amp;source=4\" title=\"Show this document on Huygens\" sec=\"4 717:30\">4 717:30</a></span></span>  </div>"
      ],
      "text/plain": [
       "<IPython.core.display.HTML object>"
      ]
     },
     "metadata": {},
     "output_type": "display_data"
    },
    {
     "data": {
      "text/html": [
       "<div class=\"\"><span class=\"tfsechead \"><span class=\"ltr\"><a target=\"_blank\" href=\"http://resources.huygens.knaw.nl/retroboeken/generalemissiven/#page=732&amp;source=4\" title=\"Show this document on Huygens\" sec=\"4 717:31\">4 717:31</a></span></span>  <span class=\"txtu\">den </span><span class=\"txtu\">ouden </span><span class=\"txtu\">toerilia </span><span class=\"txtu\">gampo </span><span class=\"txtu\">Tureli </span><span class=\"txtu\">Gampa, </span><span class=\"txtu\">de </span><span class=\"txtu\">verklaring </span><span class=\"txtu\">van </span><span class=\"txtu\">deze </span><span class=\"txtu\">titel </span><span class=\"txtu\">in </span><span class=\"txtu\">de </span><span class=\"txtu\">tekst </span><span class=\"txtu\">is </span><span class=\"txtu\">juist. </span></div>"
      ],
      "text/plain": [
       "<IPython.core.display.HTML object>"
      ]
     },
     "metadata": {},
     "output_type": "display_data"
    },
    {
     "data": {
      "text/html": [
       "<div class=\"\"><span class=\"tfsechead \"><span class=\"ltr\"><a target=\"_blank\" href=\"http://resources.huygens.knaw.nl/retroboeken/generalemissiven/#page=732&amp;source=4\" title=\"Show this document on Huygens\" sec=\"4 717:32\">4 717:32</a></span></span>  <span class=\"txtu\">so </span><span class=\"txtu\">wert </span><span class=\"txtu\">den </span><span class=\"txtu\">rijxcanselier </span><span class=\"txtu\">off </span><span class=\"txtu\">eerste </span></div>"
      ],
      "text/plain": [
       "<IPython.core.display.HTML object>"
      ]
     },
     "metadata": {},
     "output_type": "display_data"
    },
    {
     "data": {
      "text/html": [
       "<div class=\"\"><span class=\"tfsechead \"><span class=\"ltr\"><a target=\"_blank\" href=\"http://resources.huygens.knaw.nl/retroboeken/generalemissiven/#page=732&amp;source=4\" title=\"Show this document on Huygens\" sec=\"4 717:33\">4 717:33</a></span></span>  <span class=\"txtu\">minister </span><span class=\"txtu\">van </span><span class=\"txtu\">dat </span><span class=\"txtu\">Coningrijckje </span><span class=\"txtu\">genaamt) </span><span class=\"txtu\">zijn </span><span class=\"txtu\">leven </span><span class=\"txtu\">geeyndigt </span><span class=\"txtu\">heeft, </span><span class=\"txtu\">in </span><span class=\"txtu\">wiens </span></div>"
      ],
      "text/plain": [
       "<IPython.core.display.HTML object>"
      ]
     },
     "metadata": {},
     "output_type": "display_data"
    },
    {
     "data": {
      "text/html": [
       "<div class=\"\"><span class=\"tfsechead \"><span class=\"ltr\"><a target=\"_blank\" href=\"http://resources.huygens.knaw.nl/retroboeken/generalemissiven/#page=732&amp;source=4\" title=\"Show this document on Huygens\" sec=\"4 717:34\">4 717:34</a></span></span>  <span class=\"txtu\">plaatse </span><span class=\"txtu\">wij </span><span class=\"txtu\">gerecommandeert </span><span class=\"txtu\">hebben, </span><span class=\"txtu\">dat </span><span class=\"txtu\">zij </span><span class=\"txtu\">een </span><span class=\"txtu\">goet, </span><span class=\"txtu\">moderaat </span><span class=\"txtu\">man </span><span class=\"txtu\">weder </span><span class=\"txtu\">zullen </span></div>"
      ],
      "text/plain": [
       "<IPython.core.display.HTML object>"
      ]
     },
     "metadata": {},
     "output_type": "display_data"
    },
    {
     "data": {
      "text/html": [
       "<div class=\"\"><span class=\"tfsechead \"><span class=\"ltr\"><a target=\"_blank\" href=\"http://resources.huygens.knaw.nl/retroboeken/generalemissiven/#page=732&amp;source=4\" title=\"Show this document on Huygens\" sec=\"4 717:35\">4 717:35</a></span></span>  <span class=\"txtu\">helpen </span><span class=\"txtu\">stellen. </span></div>"
      ],
      "text/plain": [
       "<IPython.core.display.HTML object>"
      ]
     },
     "metadata": {},
     "output_type": "display_data"
    },
    {
     "data": {
      "text/html": [
       "<div class=\"\"><span class=\"tfsechead \"><span class=\"ltr\"><a target=\"_blank\" href=\"http://resources.huygens.knaw.nl/retroboeken/generalemissiven/#page=732&amp;source=4\" title=\"Show this document on Huygens\" sec=\"4 717:36\">4 717:36</a></span></span>  <span class=\"txtu\">De </span><span class=\"txtu\">Bataviase </span><span class=\"txtu\">Coopman </span><span class=\"txtu\">kwam </span><span class=\"txtu\">9 </span><span class=\"txtu\">nov. </span><span class=\"txtu\">uit </span><span class=\"txtu\">Timor </span><span class=\"txtu\">met </span><span class=\"txtu\">lading </span><span class=\"txtu\">van </span><span class=\"txtu\">f. </span><span class=\"txtu\">18804, </span><span class=\"txtu\">vnl. </span></div>"
      ],
      "text/plain": [
       "<IPython.core.display.HTML object>"
      ]
     },
     "metadata": {},
     "output_type": "display_data"
    },
    {
     "data": {
      "text/html": [
       "<div class=\"\"><span class=\"tfsechead \"><span class=\"ltr\"><a target=\"_blank\" href=\"http://resources.huygens.knaw.nl/retroboeken/generalemissiven/#page=732&amp;source=4\" title=\"Show this document on Huygens\" sec=\"4 717:37\">4 717:37</a></span></span>  <span class=\"txtu\">sandelhout </span><span class=\"txtu\">en </span><span class=\"txtu\">46 </span><span class=\"txtu\">slaven, </span><span class=\"txtu\">wat </span><span class=\"txtu\">weinig </span><span class=\"txtu\">is » </span></div>"
      ],
      "text/plain": [
       "<IPython.core.display.HTML object>"
      ]
     },
     "metadata": {},
     "output_type": "display_data"
    },
    {
     "data": {
      "text/html": [
       "<div class=\"\"><span class=\"tfsechead \"><span class=\"ltr\"><a target=\"_blank\" href=\"http://resources.huygens.knaw.nl/retroboeken/generalemissiven/#page=732&amp;source=4\" title=\"Show this document on Huygens\" sec=\"4 717:38\">4 717:38</a></span></span>  </div>"
      ],
      "text/plain": [
       "<IPython.core.display.HTML object>"
      ]
     },
     "metadata": {},
     "output_type": "display_data"
    },
    {
     "data": {
      "text/html": [
       "<div class=\"\"><span class=\"tfsechead \"><span class=\"ltr\"><a target=\"_blank\" href=\"http://resources.huygens.knaw.nl/retroboeken/generalemissiven/#page=732&amp;source=4\" title=\"Show this document on Huygens\" sec=\"4 717:39\">4 717:39</a></span></span>  <span class=\"txtu\">Schijnende, </span><span class=\"txtu\">dat </span><span class=\"txtu\">de </span><span class=\"txtu\">particuliere </span><span class=\"txtu\">haer </span><span class=\"txtu\">op </span><span class=\"txtu\">den </span><span class=\"txtu\">slavenhandel </span><span class=\"txtu\">tersluyck </span><span class=\"txtu\">beter </span><span class=\"txtu\">verstaen </span></div>"
      ],
      "text/plain": [
       "<IPython.core.display.HTML object>"
      ]
     },
     "metadata": {},
     "output_type": "display_data"
    },
    {
     "data": {
      "text/html": [
       "<div class=\"\"><span class=\"tfsechead \"><span class=\"ltr\"><a target=\"_blank\" href=\"http://resources.huygens.knaw.nl/retroboeken/generalemissiven/#page=732&amp;source=4\" title=\"Show this document on Huygens\" sec=\"4 717:40\">4 717:40</a></span></span>  <span class=\"txtu\">als </span><span class=\"txtu\">des </span><span class=\"txtu\">Comp. </span><span class=\"txtu\">8 </span><span class=\"txtu\">residenten, </span><span class=\"txtu\">van </span><span class=\"txtu\">welcke </span><span class=\"txtu\">sij </span><span class=\"txtu\">3 </span><span class=\"txtu\">Bougise </span><span class=\"txtu\">vaertuygen, </span><span class=\"txtu\">die </span><span class=\"txtu\">sonder </span></div>"
      ],
      "text/plain": [
       "<IPython.core.display.HTML object>"
      ]
     },
     "metadata": {},
     "output_type": "display_data"
    },
    {
     "data": {
      "text/html": [
       "<div class=\"\"><span class=\"tfsechead \"><span class=\"ltr\"><a target=\"_blank\" href=\"http://resources.huygens.knaw.nl/retroboeken/generalemissiven/#page=732&amp;source=4\" title=\"Show this document on Huygens\" sec=\"4 717:41\">4 717:41</a></span></span>  <span class=\"txtu\">paspoorten </span><span class=\"txtu\">aldaar </span><span class=\"txtu\">ten </span><span class=\"txtu\">handel </span><span class=\"txtu\">gevonden </span><span class=\"txtu\">wierden, </span><span class=\"txtu\">hebbende </span><span class=\"txtu\">aangeslagen, </span><span class=\"txtu\">dogh </span><span class=\"txtu\">eene </span></div>"
      ],
      "text/plain": [
       "<IPython.core.display.HTML object>"
      ]
     },
     "metadata": {},
     "output_type": "display_data"
    },
    {
     "data": {
      "text/html": [
       "<div class=\"\"><span class=\"tfsechead \"><span class=\"ltr\"><a target=\"_blank\" href=\"http://resources.huygens.knaw.nl/retroboeken/generalemissiven/#page=732&amp;source=4\" title=\"Show this document on Huygens\" sec=\"4 717:42\">4 717:42</a></span></span>  </div>"
      ],
      "text/plain": [
       "<IPython.core.display.HTML object>"
      ]
     },
     "metadata": {},
     "output_type": "display_data"
    }
   ],
   "source": [
    "for line in lines:\n",
    "    A.plain(line)"
   ]
  },
  {
   "cell_type": "markdown",
   "metadata": {},
   "source": [
    "You do not (yet) see a clear distinction in text types.\n",
    "There is a mixture of editorial text and original text, and there is even a footnote.\n",
    "\n",
    "We can show the text other text formats.\n",
    "Formats have been defined by the dataset designer, they are not built in into Text-Fabric.\n",
    "Let's see what the designer has provided in this regard:"
   ]
  },
  {
   "cell_type": "code",
   "execution_count": 14,
   "metadata": {},
   "outputs": [
    {
     "data": {
      "text/plain": [
       "{'text-orig-full': 'word',\n",
       " 'text-orig-note': 'word',\n",
       " 'text-orig-remark': 'word',\n",
       " 'text-orig-source': 'word',\n",
       " 'layout-full': 'word',\n",
       " 'layout-noremarks': 'word',\n",
       " 'layout-nonotes': 'word',\n",
       " 'layout-nonorig': 'word',\n",
       " 'layout-remarks': 'word',\n",
       " 'layout-notes': 'word',\n",
       " 'layout-orig': 'word'}"
      ]
     },
     "execution_count": 14,
     "metadata": {},
     "output_type": "execute_result"
    }
   ],
   "source": [
    "T.formats"
   ]
  },
  {
   "cell_type": "markdown",
   "metadata": {},
   "source": [
    "Some formats show all text, others editorial texts only, and some show original letter content only and others\n",
    "just the footnotes.\n",
    "Yet other formats show all text except a specific type.\n",
    "\n",
    "The formats that start with `text-` yield plain Unicode text.\n",
    "\n",
    "The formats that start with `layout-` deliver formatted HTML.\n",
    "We have designed the layout in such a way that the text types (editorial, original) are distinguished.\n",
    "\n",
    "The default format is `text-orig-full`.\n",
    "\n",
    "Let's switch to `layout-full`, which will also show the footnotes in place."
   ]
  },
  {
   "cell_type": "code",
   "execution_count": 15,
   "metadata": {},
   "outputs": [
    {
     "data": {
      "text/html": [
       "<div class=\"\"><span class=\"tfsechead \"><span class=\"ltr\"><a target=\"_blank\" href=\"http://resources.huygens.knaw.nl/retroboeken/generalemissiven/#page=732&amp;source=4\" title=\"Show this document on Huygens\" sec=\"4 717:1\">4 717:1</a></span></span>  <span class=\"txtn\">Ed. </span><span class=\"txtn\">ht </span><span class=\"txtn\">voorn. </span><span class=\"txtn\">1 </span><span class=\"txtn\">eyndelijck </span><span class=\"txtn\">haar </span><span class=\"txtn\">met </span><span class=\"txtn\">een </span><span class=\"txtn\">briefje </span><span class=\"txtn\">van </span><span class=\"txtn\">zijn </span><span class=\"txtn\">eygen </span><span class=\"txtn\">hand </span><span class=\"txtn\">ontsloegh </span><span class=\"txtn\">en </span><span class=\"txtn\">de </span></div>"
      ],
      "text/plain": [
       "<IPython.core.display.HTML object>"
      ]
     },
     "metadata": {},
     "output_type": "display_data"
    },
    {
     "data": {
      "text/html": [
       "<div class=\"\"><span class=\"tfsechead \"><span class=\"ltr\"><a target=\"_blank\" href=\"http://resources.huygens.knaw.nl/retroboeken/generalemissiven/#page=732&amp;source=4\" title=\"Show this document on Huygens\" sec=\"4 717:2\">4 717:2</a></span></span>  <span class=\"txtn\">borgtogt </span><span class=\"txtn\">voor </span><span class=\"txtn\">zijn </span><span class=\"txtn\">particulier </span><span class=\"txtn\">overnam, </span><span class=\"txtn\">ondertusschen </span><span class=\"txtn\">dat </span><span class=\"txtn\">desen </span><span class=\"txtn\">Intje </span><span class=\"txtn\">Boang </span><span class=\"txtn\">een </span></div>"
      ],
      "text/plain": [
       "<IPython.core.display.HTML object>"
      ]
     },
     "metadata": {},
     "output_type": "display_data"
    },
    {
     "data": {
      "text/html": [
       "<div class=\"\"><span class=\"tfsechead \"><span class=\"ltr\"><a target=\"_blank\" href=\"http://resources.huygens.knaw.nl/retroboeken/generalemissiven/#page=732&amp;source=4\" title=\"Show this document on Huygens\" sec=\"4 717:3\">4 717:3</a></span></span>  <span class=\"txtn\">en </span><span class=\"txtn\">andermaal </span><span class=\"txtn\">door </span><span class=\"txtn\">de </span><span class=\"txtn\">onse </span><span class=\"txtn\">op </span><span class=\"txtn\">Macassar </span><span class=\"txtn\">in </span><span class=\"txtn\">hegtenis </span><span class=\"txtn\">is </span><span class=\"txtn\">genomen, </span><span class=\"txtn\">daar </span><span class=\"txtn\">hij </span><span class=\"txtn\">thans </span><span class=\"txtn\">oock </span></div>"
      ],
      "text/plain": [
       "<IPython.core.display.HTML object>"
      ]
     },
     "metadata": {},
     "output_type": "display_data"
    },
    {
     "data": {
      "text/html": [
       "<div class=\"\"><span class=\"tfsechead \"><span class=\"ltr\"><a target=\"_blank\" href=\"http://resources.huygens.knaw.nl/retroboeken/generalemissiven/#page=732&amp;source=4\" title=\"Show this document on Huygens\" sec=\"4 717:4\">4 717:4</a></span></span>  <span class=\"txtn\">in </span><span class=\"txtn\">sit </span><span class=\"txtn\">om </span><span class=\"txtn\">hem </span><span class=\"txtn\">alsoo </span><span class=\"txtn\">te </span><span class=\"txtn\">doen </span><span class=\"txtn\">geven, </span><span class=\"txtn\">’tgeen </span><span class=\"txtn\">hij </span><span class=\"txtn\">nogh </span><span class=\"txtn\">mogte </span><span class=\"txtn\">besitten. </span><span class=\"txtn\">Duysentrsd. </span></div>"
      ],
      "text/plain": [
       "<IPython.core.display.HTML object>"
      ]
     },
     "metadata": {},
     "output_type": "display_data"
    },
    {
     "data": {
      "text/html": [
       "<div class=\"\"><span class=\"tfsechead \"><span class=\"ltr\"><a target=\"_blank\" href=\"http://resources.huygens.knaw.nl/retroboeken/generalemissiven/#page=732&amp;source=4\" title=\"Show this document on Huygens\" sec=\"4 717:5\">4 717:5</a></span></span>  <span class=\"txtn\">heeft </span><span class=\"txtn\">hij </span><span class=\"txtn\">in </span><span class=\"txtn\">twee </span><span class=\"txtn\">malen </span><span class=\"txtn\">opgebragt </span><span class=\"txtn\">en </span><span class=\"txtn\">voorts </span><span class=\"txtn\">de </span><span class=\"txtn\">Comp. </span><span class=\"txtn\">e </span><span class=\"txtn\">gewesen </span><span class=\"txtn\">op </span><span class=\"txtn\">een </span><span class=\"txtn\">dorp, </span><span class=\"txtn\">daer </span></div>"
      ],
      "text/plain": [
       "<IPython.core.display.HTML object>"
      ]
     },
     "metadata": {},
     "output_type": "display_data"
    },
    {
     "data": {
      "text/html": [
       "<div class=\"\"><span class=\"tfsechead \"><span class=\"ltr\"><a target=\"_blank\" href=\"http://resources.huygens.knaw.nl/retroboeken/generalemissiven/#page=732&amp;source=4\" title=\"Show this document on Huygens\" sec=\"4 717:6\">4 717:6</a></span></span>  <span class=\"txtn\">geen </span><span class=\"txtn\">huysen </span><span class=\"txtn\">en </span><span class=\"txtn\">stonden, </span><span class=\"txtn\">zulcx </span><span class=\"txtn\">wij </span><span class=\"txtn\">te </span><span class=\"txtn\">rade </span><span class=\"txtn\">zijn </span><span class=\"txtn\">geworden </span><span class=\"txtn\">de </span><span class=\"txtn\">eerste </span><span class=\"txtn\">borgen </span><span class=\"txtn\">te </span><span class=\"txtn\">doen </span></div>"
      ],
      "text/plain": [
       "<IPython.core.display.HTML object>"
      ]
     },
     "metadata": {},
     "output_type": "display_data"
    },
    {
     "data": {
      "text/html": [
       "<div class=\"\"><span class=\"tfsechead \"><span class=\"ltr\"><a target=\"_blank\" href=\"http://resources.huygens.knaw.nl/retroboeken/generalemissiven/#page=732&amp;source=4\" title=\"Show this document on Huygens\" sec=\"4 717:7\">4 717:7</a></span></span>  <span class=\"txtn\">aanspreken </span><span class=\"txtn\">om </span><span class=\"txtn\">betalinge </span><span class=\"txtn\">van </span><span class=\"txtn\">capit. </span><span class=\"txtn\">1 </span><span class=\"txtn\">en </span><span class=\"txtn\">intrest, </span><span class=\"txtn\">sullende </span><span class=\"txtn\">overbodigh </span><span class=\"txtn\"><span class=\"note\">«1= Overbodig, </span></span><span class=\"txtn\"><span class=\"note\">bereid.  =1»</span></span></div>"
      ],
      "text/plain": [
       "<IPython.core.display.HTML object>"
      ]
     },
     "metadata": {},
     "output_type": "display_data"
    },
    {
     "data": {
      "text/html": [
       "<div class=\"\"><span class=\"tfsechead \"><span class=\"ltr\"><a target=\"_blank\" href=\"http://resources.huygens.knaw.nl/retroboeken/generalemissiven/#page=732&amp;source=4\" title=\"Show this document on Huygens\" sec=\"4 717:8\">4 717:8</a></span></span>  <span class=\"txtn\">wesen </span><span class=\"txtn\">om </span></div>"
      ],
      "text/plain": [
       "<IPython.core.display.HTML object>"
      ]
     },
     "metadata": {},
     "output_type": "display_data"
    },
    {
     "data": {
      "text/html": [
       "<div class=\"\"><span class=\"tfsechead \"><span class=\"ltr\"><a target=\"_blank\" href=\"http://resources.huygens.knaw.nl/retroboeken/generalemissiven/#page=732&amp;source=4\" title=\"Show this document on Huygens\" sec=\"4 717:9\">4 717:9</a></span></span>  <span class=\"txtn\">desen </span><span class=\"txtn\">man (</span><span class=\"txtn\">die </span><span class=\"txtn\">veele </span><span class=\"txtn\">klagten </span><span class=\"txtn\">doet) </span><span class=\"txtn\">hier </span><span class=\"txtn\">te </span><span class=\"txtn\">doen </span><span class=\"txtn\">overbrengen </span><span class=\"txtn\">en </span><span class=\"txtn\">aan </span><span class=\"txtn\">haar </span><span class=\"txtn\">te </span><span class=\"txtn\">leveren, </span></div>"
      ],
      "text/plain": [
       "<IPython.core.display.HTML object>"
      ]
     },
     "metadata": {},
     "output_type": "display_data"
    },
    {
     "data": {
      "text/html": [
       "<div class=\"\"><span class=\"tfsechead \"><span class=\"ltr\"><a target=\"_blank\" href=\"http://resources.huygens.knaw.nl/retroboeken/generalemissiven/#page=732&amp;source=4\" title=\"Show this document on Huygens\" sec=\"4 717:10\">4 717:10</a></span></span>  <span class=\"txtn\">als </span><span class=\"txtn\">zij </span><span class=\"txtn\">daarom </span><span class=\"txtn\">komen </span><span class=\"txtn\">te </span><span class=\"txtn\">versoecken, </span><span class=\"txtn\">want </span><span class=\"txtn\">het </span><span class=\"txtn\">komt </span><span class=\"txtn\">de </span><span class=\"txtn\">Comp. </span><span class=\"txtn\">e </span><span class=\"txtn\">niet </span><span class=\"txtn\">gelegen </span><span class=\"txtn\">met </span></div>"
      ],
      "text/plain": [
       "<IPython.core.display.HTML object>"
      ]
     },
     "metadata": {},
     "output_type": "display_data"
    },
    {
     "data": {
      "text/html": [
       "<div class=\"\"><span class=\"tfsechead \"><span class=\"ltr\"><a target=\"_blank\" href=\"http://resources.huygens.knaw.nl/retroboeken/generalemissiven/#page=732&amp;source=4\" title=\"Show this document on Huygens\" sec=\"4 717:11\">4 717:11</a></span></span>  <span class=\"txtn\">zulcke </span><span class=\"txtn\">sehurcken </span><span class=\"txtn\">reecq. </span><span class=\"txtn\">te </span><span class=\"txtn\">houden </span><span class=\"txtn\">en </span><span class=\"txtn\">hem </span><span class=\"txtn\">om </span><span class=\"txtn\">de </span><span class=\"txtn\">betalinge </span><span class=\"txtn\">langer </span><span class=\"txtn\">achter </span><span class=\"txtn\">aan </span><span class=\"txtn\">te </span></div>"
      ],
      "text/plain": [
       "<IPython.core.display.HTML object>"
      ]
     },
     "metadata": {},
     "output_type": "display_data"
    },
    {
     "data": {
      "text/html": [
       "<div class=\"\"><span class=\"tfsechead \"><span class=\"ltr\"><a target=\"_blank\" href=\"http://resources.huygens.knaw.nl/retroboeken/generalemissiven/#page=732&amp;source=4\" title=\"Show this document on Huygens\" sec=\"4 717:12\">4 717:12</a></span></span>  <span class=\"txtn\">loopen. </span></div>"
      ],
      "text/plain": [
       "<IPython.core.display.HTML object>"
      ]
     },
     "metadata": {},
     "output_type": "display_data"
    },
    {
     "data": {
      "text/html": [
       "<div class=\"\"><span class=\"tfsechead \"><span class=\"ltr\"><a target=\"_blank\" href=\"http://resources.huygens.knaw.nl/retroboeken/generalemissiven/#page=732&amp;source=4\" title=\"Show this document on Huygens\" sec=\"4 717:13\">4 717:13</a></span></span>  <span class=\"txtn\"><span class=\"remark\">27 </span></span><span class=\"txtn\"><span class=\"remark\">oct. </span></span><span class=\"txtn\"><span class=\"remark\">stierf </span></span><span class=\"txtn\"><span class=\"remark\">president </span></span><span class=\"txtn\"><span class=\"remark\">Cops, </span></span><span class=\"txtn\"><span class=\"remark\">Adriaen </span></span><span class=\"txtn\"><span class=\"remark\">van </span></span><span class=\"txtn\"><span class=\"remark\">Daalen </span></span><span class=\"txtn\"><span class=\"remark\">volgt </span></span><span class=\"txtn\"><span class=\"remark\">hem </span></span><span class=\"txtn\"><span class=\"remark\">voorlopig </span></span><span class=\"txtn\"><span class=\"remark\">op; </span></span></div>"
      ],
      "text/plain": [
       "<IPython.core.display.HTML object>"
      ]
     },
     "metadata": {},
     "output_type": "display_data"
    },
    {
     "data": {
      "text/html": [
       "<div class=\"\"><span class=\"tfsechead \"><span class=\"ltr\"><a target=\"_blank\" href=\"http://resources.huygens.knaw.nl/retroboeken/generalemissiven/#page=732&amp;source=4\" title=\"Show this document on Huygens\" sec=\"4 717:14\">4 717:14</a></span></span>  <span class=\"txtn\"><span class=\"remark\">Tack </span></span><span class=\"txtn\"><span class=\"remark\">zal </span></span><span class=\"txtn\"><span class=\"remark\">nu </span></span><span class=\"txtn\"><span class=\"remark\">spoedig </span></span><span class=\"txtn\"><span class=\"remark\">derwaarts </span></span><span class=\"txtn\"><span class=\"remark\">gaan; </span></span><span class=\"txtn\"><span class=\"remark\">de </span></span><span class=\"txtn\"><span class=\"remark\">Koning </span></span><span class=\"txtn\"><span class=\"remark\">van </span></span><span class=\"txtn\"><span class=\"remark\">Bidon </span></span><span class=\"txtn\"><span class=\"remark\">zond </span></span><span class=\"txtn\"><span class=\"remark\">nog </span></span><span class=\"txtn\"><span class=\"remark\">geen </span></span><span class=\"txtn\"><span class=\"remark\">gezanten , </span></span></div>"
      ],
      "text/plain": [
       "<IPython.core.display.HTML object>"
      ]
     },
     "metadata": {},
     "output_type": "display_data"
    },
    {
     "data": {
      "text/html": [
       "<div class=\"\"><span class=\"tfsechead \"><span class=\"ltr\"><a target=\"_blank\" href=\"http://resources.huygens.knaw.nl/retroboeken/generalemissiven/#page=732&amp;source=4\" title=\"Show this document on Huygens\" sec=\"4 717:15\">4 717:15</a></span></span>  <span class=\"txtn\">hij - ) </span></div>"
      ],
      "text/plain": [
       "<IPython.core.display.HTML object>"
      ]
     },
     "metadata": {},
     "output_type": "display_data"
    },
    {
     "data": {
      "text/html": [
       "<div class=\"\"><span class=\"tfsechead \"><span class=\"ltr\"><a target=\"_blank\" href=\"http://resources.huygens.knaw.nl/retroboeken/generalemissiven/#page=732&amp;source=4\" title=\"Show this document on Huygens\" sec=\"4 717:16\">4 717:16</a></span></span>  <span class=\"txtn\">tegens </span><span class=\"txtn\">eenige </span><span class=\"txtn\">rebellen </span><span class=\"txtn\">was </span><span class=\"txtn\">te </span><span class=\"txtn\">velde </span><span class=\"txtn\">getrocken, </span><span class=\"txtn\">waartoe </span><span class=\"txtn\">zij </span><span class=\"txtn\">actiën </span></div>"
      ],
      "text/plain": [
       "<IPython.core.display.HTML object>"
      ]
     },
     "metadata": {},
     "output_type": "display_data"
    },
    {
     "data": {
      "text/html": [
       "<div class=\"\"><span class=\"tfsechead \"><span class=\"ltr\"><a target=\"_blank\" href=\"http://resources.huygens.knaw.nl/retroboeken/generalemissiven/#page=732&amp;source=4\" title=\"Show this document on Huygens\" sec=\"4 717:17\">4 717:17</a></span></span>  <span class=\"txtn\">smeeden, </span><span class=\"txtn\">als </span><span class=\"txtn\">zij </span><span class=\"txtn\">een </span><span class=\"txtn\">roof </span><span class=\"txtn\">van </span><span class=\"txtn\">menschen </span><span class=\"txtn\">willen </span><span class=\"txtn\">doen, </span><span class=\"txtn\">die </span><span class=\"txtn\">zij </span><span class=\"txtn\">verkopen </span><span class=\"txtn\">ende </span><span class=\"txtn\">verhandelen. </span></div>"
      ],
      "text/plain": [
       "<IPython.core.display.HTML object>"
      ]
     },
     "metadata": {},
     "output_type": "display_data"
    },
    {
     "data": {
      "text/html": [
       "<div class=\"\"><span class=\"tfsechead \"><span class=\"ltr\"><a target=\"_blank\" href=\"http://resources.huygens.knaw.nl/retroboeken/generalemissiven/#page=732&amp;source=4\" title=\"Show this document on Huygens\" sec=\"4 717:18\">4 717:18</a></span></span>  </div>"
      ],
      "text/plain": [
       "<IPython.core.display.HTML object>"
      ]
     },
     "metadata": {},
     "output_type": "display_data"
    },
    {
     "data": {
      "text/html": [
       "<div class=\"\"><span class=\"tfsechead \"><span class=\"ltr\"><a target=\"_blank\" href=\"http://resources.huygens.knaw.nl/retroboeken/generalemissiven/#page=732&amp;source=4\" title=\"Show this document on Huygens\" sec=\"4 717:19\">4 717:19</a></span></span>  <span class=\"txtn\"><span class=\"remark\">Op </span></span><span class=\"txtn\"><span class=\"remark\">de </span></span><span class=\"txtn\"><span class=\"remark\">Tukangbesi- </span></span><span class=\"txtn\"><span class=\"remark\">Eilanden </span></span><span class=\"txtn\"><span class=\"remark\">werden </span></span><span class=\"txtn\"><span class=\"remark\">136 </span></span><span class=\"txtn\"><span class=\"remark\">jonge </span></span><span class=\"txtn\"><span class=\"remark\">notebomen </span></span><span class=\"txtn\"><span class=\"remark\">omgehakt; </span></span><span class=\"txtn\"><span class=\"remark\">de </span></span><span class=\"txtn\"><span class=\"remark\">uitgaven </span></span></div>"
      ],
      "text/plain": [
       "<IPython.core.display.HTML object>"
      ]
     },
     "metadata": {},
     "output_type": "display_data"
    },
    {
     "data": {
      "text/html": [
       "<div class=\"\"><span class=\"tfsechead \"><span class=\"ltr\"><a target=\"_blank\" href=\"http://resources.huygens.knaw.nl/retroboeken/generalemissiven/#page=732&amp;source=4\" title=\"Show this document on Huygens\" sec=\"4 717:20\">4 717:20</a></span></span>  <span class=\"txtn\"><span class=\"remark\">te </span></span><span class=\"txtn\"><span class=\"remark\">Makassar </span></span><span class=\"txtn\"><span class=\"remark\">bedroegen </span></span><span class=\"txtn\"><span class=\"remark\">in </span></span><span class=\"txtn\"><span class=\"remark\">een </span></span><span class=\"txtn\"><span class=\"remark\">jaar </span></span><span class=\"txtn\"><span class=\"remark\">f. </span></span><span class=\"txtn\"><span class=\"remark\">143229, </span></span><span class=\"txtn\"><span class=\"remark\">de </span></span><span class=\"txtn\"><span class=\"remark\">inkomsten </span></span><span class=\"txtn\"><span class=\"remark\">f. </span></span><span class=\"txtn\"><span class=\"remark\">39770; </span></span><span class=\"txtn\"><span class=\"remark\">bij </span></span><span class=\"txtn\"><span class=\"remark\">de </span></span><span class=\"txtn\"><span class=\"remark\">eerste </span></span><span class=\"txtn\"><span class=\"remark\">was </span></span></div>"
      ],
      "text/plain": [
       "<IPython.core.display.HTML object>"
      ]
     },
     "metadata": {},
     "output_type": "display_data"
    },
    {
     "data": {
      "text/html": [
       "<div class=\"\"><span class=\"tfsechead \"><span class=\"ltr\"><a target=\"_blank\" href=\"http://resources.huygens.knaw.nl/retroboeken/generalemissiven/#page=732&amp;source=4\" title=\"Show this document on Huygens\" sec=\"4 717:21\">4 717:21</a></span></span>  <span class=\"txtn\"><span class=\"remark\">11000 </span></span><span class=\"txtn\"><span class=\"remark\">rsd. </span></span><span class=\"txtn\"><span class=\"remark\">achterstallige </span></span><span class=\"txtn\"><span class=\"remark\">gage </span></span><span class=\"txtn\"><span class=\"remark\">voor </span></span><span class=\"txtn\"><span class=\"remark\">Radja </span></span><span class=\"txtn\"><span class=\"remark\">Bone; </span></span><span class=\"txtn\"><span class=\"remark\">te </span></span><span class=\"txtn\"><span class=\"remark\">Makassar </span></span><span class=\"txtn\"><span class=\"remark\">werden </span></span><span class=\"txtn\"><span class=\"remark\">wissels </span></span><span class=\"txtn\"><span class=\"remark\">voor </span></span><span class=\"txtn\"><span class=\"remark\">12223 </span></span></div>"
      ],
      "text/plain": [
       "<IPython.core.display.HTML object>"
      ]
     },
     "metadata": {},
     "output_type": "display_data"
    },
    {
     "data": {
      "text/html": [
       "<div class=\"\"><span class=\"tfsechead \"><span class=\"ltr\"><a target=\"_blank\" href=\"http://resources.huygens.knaw.nl/retroboeken/generalemissiven/#page=732&amp;source=4\" title=\"Show this document on Huygens\" sec=\"4 717:22\">4 717:22</a></span></span>  <span class=\"txtn\"><span class=\"remark\">rsd. </span></span><span class=\"txtn\"><span class=\"remark\">op </span></span><span class=\"txtn\"><span class=\"remark\">Batavia </span></span><span class=\"txtn\"><span class=\"remark\">getrokken; </span></span><span class=\"txtn\"><span class=\"remark\">er </span></span><span class=\"txtn\"><span class=\"remark\">waren </span></span><span class=\"txtn\"><span class=\"remark\">296 </span></span><span class=\"txtn\"><span class=\"remark\">militairen, </span></span><span class=\"txtn\"><span class=\"remark\">van </span></span><span class=\"txtn\"><span class=\"remark\">wie </span></span><span class=\"txtn\"><span class=\"remark\">96 </span></span><span class=\"txtn\"><span class=\"remark\">op </span></span><span class=\"txtn\"><span class=\"remark\">de </span></span><span class=\"txtn\"><span class=\"remark\">buitenposten, </span></span></div>"
      ],
      "text/plain": [
       "<IPython.core.display.HTML object>"
      ]
     },
     "metadata": {},
     "output_type": "display_data"
    },
    {
     "data": {
      "text/html": [
       "<div class=\"\"><span class=\"tfsechead \"><span class=\"ltr\"><a target=\"_blank\" href=\"http://resources.huygens.knaw.nl/retroboeken/generalemissiven/#page=732&amp;source=4\" title=\"Show this document on Huygens\" sec=\"4 717:23\">4 717:23</a></span></span>  <span class=\"txtn\"><span class=\"remark\">men </span></span><span class=\"txtn\"><span class=\"remark\">vraagt </span></span><span class=\"txtn\"><span class=\"remark\">er </span></span><span class=\"txtn\"><span class=\"remark\">nog </span></span><span class=\"txtn\"><span class=\"remark\">100 </span></span><span class=\"txtn\"><span class=\"remark\">aan; </span></span><span class=\"txtn\"><span class=\"remark\">kapitein </span></span><span class=\"txtn\"><span class=\"remark\">Pleun </span></span><span class=\"txtn\"><span class=\"remark\">is </span></span><span class=\"txtn\"><span class=\"remark\">van </span></span><span class=\"txtn\"><span class=\"remark\">daar </span></span><span class=\"txtn\"><span class=\"remark\">verlost </span></span><span class=\"txtn\"><span class=\"remark\">en </span></span><span class=\"txtn\"><span class=\"remark\">repatrieert » </span></span></div>"
      ],
      "text/plain": [
       "<IPython.core.display.HTML object>"
      ]
     },
     "metadata": {},
     "output_type": "display_data"
    },
    {
     "data": {
      "text/html": [
       "<div class=\"\"><span class=\"tfsechead \"><span class=\"ltr\"><a target=\"_blank\" href=\"http://resources.huygens.knaw.nl/retroboeken/generalemissiven/#page=732&amp;source=4\" title=\"Show this document on Huygens\" sec=\"4 717:24\">4 717:24</a></span></span>  </div>"
      ],
      "text/plain": [
       "<IPython.core.display.HTML object>"
      ]
     },
     "metadata": {},
     "output_type": "display_data"
    },
    {
     "data": {
      "text/html": [
       "<div class=\"\"><span class=\"tfsechead \"><span class=\"ltr\"><a target=\"_blank\" href=\"http://resources.huygens.knaw.nl/retroboeken/generalemissiven/#page=732&amp;source=4\" title=\"Show this document on Huygens\" sec=\"4 717:25\">4 717:25</a></span></span>  <span class=\"txtn\">De </span><span class=\"txtn\">Kon. </span><span class=\"txtn\">van </span><span class=\"txtn\">Goa </span><span class=\"txtn\">met </span><span class=\"txtn\">zijne </span><span class=\"txtn\">Macassaren </span><span class=\"txtn\">was </span><span class=\"txtn\">met </span><span class=\"txtn\">volkomen </span><span class=\"txtn\">vergenoeginge </span><span class=\"txtn\">van </span></div>"
      ],
      "text/plain": [
       "<IPython.core.display.HTML object>"
      ]
     },
     "metadata": {},
     "output_type": "display_data"
    },
    {
     "data": {
      "text/html": [
       "<div class=\"\"><span class=\"tfsechead \"><span class=\"ltr\"><a target=\"_blank\" href=\"http://resources.huygens.knaw.nl/retroboeken/generalemissiven/#page=732&amp;source=4\" title=\"Show this document on Huygens\" sec=\"4 717:26\">4 717:26</a></span></span>  <span class=\"txtn\">Radja </span><span class=\"txtn\">Bone </span><span class=\"txtn\">uyt </span><span class=\"txtn\">’t </span><span class=\"txtn\">quartier </span><span class=\"txtn\">der </span><span class=\"txtn\">Boegys </span><span class=\"txtn\">benoorden </span><span class=\"txtn\">de </span><span class=\"txtn\">reviere </span><span class=\"txtn\">Somboupa </span><span class=\"txtn\">toegestaen </span></div>"
      ],
      "text/plain": [
       "<IPython.core.display.HTML object>"
      ]
     },
     "metadata": {},
     "output_type": "display_data"
    },
    {
     "data": {
      "text/html": [
       "<div class=\"\"><span class=\"tfsechead \"><span class=\"ltr\"><a target=\"_blank\" href=\"http://resources.huygens.knaw.nl/retroboeken/generalemissiven/#page=732&amp;source=4\" title=\"Show this document on Huygens\" sec=\"4 717:27\">4 717:27</a></span></span>  <span class=\"txtn\">zijne </span><span class=\"txtn\">negorye </span><span class=\"txtn\">te </span><span class=\"txtn\">maken, </span><span class=\"txtn\">dat </span><span class=\"txtn\">wij </span><span class=\"txtn\">voor </span><span class=\"txtn\">een </span><span class=\"txtn\">zeer </span><span class=\"txtn\">goet </span><span class=\"txtn\">werck </span><span class=\"txtn\">aenzien. </span></div>"
      ],
      "text/plain": [
       "<IPython.core.display.HTML object>"
      ]
     },
     "metadata": {},
     "output_type": "display_data"
    },
    {
     "data": {
      "text/html": [
       "<div class=\"\"><span class=\"tfsechead \"><span class=\"ltr\"><a target=\"_blank\" href=\"http://resources.huygens.knaw.nl/retroboeken/generalemissiven/#page=732&amp;source=4\" title=\"Show this document on Huygens\" sec=\"4 717:28\">4 717:28</a></span></span>  <span class=\"txtn\"><span class=\"remark\">De </span></span><span class=\"txtn\"><span class=\"remark\">Koningen </span></span><span class=\"txtn\"><span class=\"remark\">roepen </span></span><span class=\"txtn\"><span class=\"remark\">de </span></span><span class=\"txtn\"><span class=\"remark\">uitgeweken </span></span><span class=\"txtn\"><span class=\"remark\">Makassaren </span></span><span class=\"txtn\"><span class=\"remark\">van </span></span><span class=\"txtn\"><span class=\"remark\">Sukun </span></span><span class=\"txtn\"><span class=\"remark\">terug </span></span><span class=\"txtn\"><span class=\"remark\">op </span></span><span class=\"txtn\"><span class=\"remark\">straffe </span></span><span class=\"txtn\"><span class=\"remark\">van </span></span></div>"
      ],
      "text/plain": [
       "<IPython.core.display.HTML object>"
      ]
     },
     "metadata": {},
     "output_type": "display_data"
    },
    {
     "data": {
      "text/html": [
       "<div class=\"\"><span class=\"tfsechead \"><span class=\"ltr\"><a target=\"_blank\" href=\"http://resources.huygens.knaw.nl/retroboeken/generalemissiven/#page=732&amp;source=4\" title=\"Show this document on Huygens\" sec=\"4 717:29\">4 717:29</a></span></span>  <span class=\"txtn\"><span class=\"remark\">anders </span></span><span class=\"txtn\"><span class=\"remark\">als </span></span><span class=\"txtn\"><span class=\"remark\">rebel </span></span><span class=\"txtn\"><span class=\"remark\">beschouwd </span></span><span class=\"txtn\"><span class=\"remark\">te </span></span><span class=\"txtn\"><span class=\"remark\">worden; </span></span><span class=\"txtn\"><span class=\"remark\">op </span></span><span class=\"txtn\"><span class=\"remark\">Bima » </span></span></div>"
      ],
      "text/plain": [
       "<IPython.core.display.HTML object>"
      ]
     },
     "metadata": {},
     "output_type": "display_data"
    },
    {
     "data": {
      "text/html": [
       "<div class=\"\"><span class=\"tfsechead \"><span class=\"ltr\"><a target=\"_blank\" href=\"http://resources.huygens.knaw.nl/retroboeken/generalemissiven/#page=732&amp;source=4\" title=\"Show this document on Huygens\" sec=\"4 717:30\">4 717:30</a></span></span>  </div>"
      ],
      "text/plain": [
       "<IPython.core.display.HTML object>"
      ]
     },
     "metadata": {},
     "output_type": "display_data"
    },
    {
     "data": {
      "text/html": [
       "<div class=\"\"><span class=\"tfsechead \"><span class=\"ltr\"><a target=\"_blank\" href=\"http://resources.huygens.knaw.nl/retroboeken/generalemissiven/#page=732&amp;source=4\" title=\"Show this document on Huygens\" sec=\"4 717:31\">4 717:31</a></span></span>  <span class=\"txtn\">den </span><span class=\"txtn\">ouden </span><span class=\"txtn\">toerilia </span><span class=\"txtn\">gampo </span><span class=\"txtn\"><span class=\"note\">«2= Tureli </span></span><span class=\"txtn\"><span class=\"note\">Gampa, </span></span><span class=\"txtn\"><span class=\"note\">de </span></span><span class=\"txtn\"><span class=\"note\">verklaring </span></span><span class=\"txtn\"><span class=\"note\">van </span></span><span class=\"txtn\"><span class=\"note\">deze </span></span><span class=\"txtn\"><span class=\"note\">titel </span></span><span class=\"txtn\"><span class=\"note\">in </span></span><span class=\"txtn\"><span class=\"note\">de </span></span><span class=\"txtn\"><span class=\"note\">tekst </span></span><span class=\"txtn\"><span class=\"note\">is </span></span><span class=\"txtn\"><span class=\"note\">juist.  =2»</span></span></div>"
      ],
      "text/plain": [
       "<IPython.core.display.HTML object>"
      ]
     },
     "metadata": {},
     "output_type": "display_data"
    },
    {
     "data": {
      "text/html": [
       "<div class=\"\"><span class=\"tfsechead \"><span class=\"ltr\"><a target=\"_blank\" href=\"http://resources.huygens.knaw.nl/retroboeken/generalemissiven/#page=732&amp;source=4\" title=\"Show this document on Huygens\" sec=\"4 717:32\">4 717:32</a></span></span>  <span class=\"txtn\">so </span><span class=\"txtn\">wert </span><span class=\"txtn\">den </span><span class=\"txtn\">rijxcanselier </span><span class=\"txtn\">off </span><span class=\"txtn\">eerste </span></div>"
      ],
      "text/plain": [
       "<IPython.core.display.HTML object>"
      ]
     },
     "metadata": {},
     "output_type": "display_data"
    },
    {
     "data": {
      "text/html": [
       "<div class=\"\"><span class=\"tfsechead \"><span class=\"ltr\"><a target=\"_blank\" href=\"http://resources.huygens.knaw.nl/retroboeken/generalemissiven/#page=732&amp;source=4\" title=\"Show this document on Huygens\" sec=\"4 717:33\">4 717:33</a></span></span>  <span class=\"txtn\">minister </span><span class=\"txtn\">van </span><span class=\"txtn\">dat </span><span class=\"txtn\">Coningrijckje </span><span class=\"txtn\">genaamt) </span><span class=\"txtn\">zijn </span><span class=\"txtn\">leven </span><span class=\"txtn\">geeyndigt </span><span class=\"txtn\">heeft, </span><span class=\"txtn\">in </span><span class=\"txtn\">wiens </span></div>"
      ],
      "text/plain": [
       "<IPython.core.display.HTML object>"
      ]
     },
     "metadata": {},
     "output_type": "display_data"
    },
    {
     "data": {
      "text/html": [
       "<div class=\"\"><span class=\"tfsechead \"><span class=\"ltr\"><a target=\"_blank\" href=\"http://resources.huygens.knaw.nl/retroboeken/generalemissiven/#page=732&amp;source=4\" title=\"Show this document on Huygens\" sec=\"4 717:34\">4 717:34</a></span></span>  <span class=\"txtn\">plaatse </span><span class=\"txtn\">wij </span><span class=\"txtn\">gerecommandeert </span><span class=\"txtn\">hebben, </span><span class=\"txtn\">dat </span><span class=\"txtn\">zij </span><span class=\"txtn\">een </span><span class=\"txtn\">goet, </span><span class=\"txtn\">moderaat </span><span class=\"txtn\">man </span><span class=\"txtn\">weder </span><span class=\"txtn\">zullen </span></div>"
      ],
      "text/plain": [
       "<IPython.core.display.HTML object>"
      ]
     },
     "metadata": {},
     "output_type": "display_data"
    },
    {
     "data": {
      "text/html": [
       "<div class=\"\"><span class=\"tfsechead \"><span class=\"ltr\"><a target=\"_blank\" href=\"http://resources.huygens.knaw.nl/retroboeken/generalemissiven/#page=732&amp;source=4\" title=\"Show this document on Huygens\" sec=\"4 717:35\">4 717:35</a></span></span>  <span class=\"txtn\">helpen </span><span class=\"txtn\">stellen. </span></div>"
      ],
      "text/plain": [
       "<IPython.core.display.HTML object>"
      ]
     },
     "metadata": {},
     "output_type": "display_data"
    },
    {
     "data": {
      "text/html": [
       "<div class=\"\"><span class=\"tfsechead \"><span class=\"ltr\"><a target=\"_blank\" href=\"http://resources.huygens.knaw.nl/retroboeken/generalemissiven/#page=732&amp;source=4\" title=\"Show this document on Huygens\" sec=\"4 717:36\">4 717:36</a></span></span>  <span class=\"txtn\"><span class=\"remark\">De </span></span><span class=\"txtn\"><span class=\"remark\">Bataviase </span></span><span class=\"txtn\"><span class=\"remark\">Coopman </span></span><span class=\"txtn\"><span class=\"remark\">kwam </span></span><span class=\"txtn\"><span class=\"remark\">9 </span></span><span class=\"txtn\"><span class=\"remark\">nov. </span></span><span class=\"txtn\"><span class=\"remark\">uit </span></span><span class=\"txtn\"><span class=\"remark\">Timor </span></span><span class=\"txtn\"><span class=\"remark\">met </span></span><span class=\"txtn\"><span class=\"remark\">lading </span></span><span class=\"txtn\"><span class=\"remark\">van </span></span><span class=\"txtn\"><span class=\"remark\">f. </span></span><span class=\"txtn\"><span class=\"remark\">18804, </span></span><span class=\"txtn\"><span class=\"remark\">vnl. </span></span></div>"
      ],
      "text/plain": [
       "<IPython.core.display.HTML object>"
      ]
     },
     "metadata": {},
     "output_type": "display_data"
    },
    {
     "data": {
      "text/html": [
       "<div class=\"\"><span class=\"tfsechead \"><span class=\"ltr\"><a target=\"_blank\" href=\"http://resources.huygens.knaw.nl/retroboeken/generalemissiven/#page=732&amp;source=4\" title=\"Show this document on Huygens\" sec=\"4 717:37\">4 717:37</a></span></span>  <span class=\"txtn\"><span class=\"remark\">sandelhout </span></span><span class=\"txtn\"><span class=\"remark\">en </span></span><span class=\"txtn\"><span class=\"remark\">46 </span></span><span class=\"txtn\"><span class=\"remark\">slaven, </span></span><span class=\"txtn\"><span class=\"remark\">wat </span></span><span class=\"txtn\"><span class=\"remark\">weinig </span></span><span class=\"txtn\"><span class=\"remark\">is » </span></span></div>"
      ],
      "text/plain": [
       "<IPython.core.display.HTML object>"
      ]
     },
     "metadata": {},
     "output_type": "display_data"
    },
    {
     "data": {
      "text/html": [
       "<div class=\"\"><span class=\"tfsechead \"><span class=\"ltr\"><a target=\"_blank\" href=\"http://resources.huygens.knaw.nl/retroboeken/generalemissiven/#page=732&amp;source=4\" title=\"Show this document on Huygens\" sec=\"4 717:38\">4 717:38</a></span></span>  </div>"
      ],
      "text/plain": [
       "<IPython.core.display.HTML object>"
      ]
     },
     "metadata": {},
     "output_type": "display_data"
    },
    {
     "data": {
      "text/html": [
       "<div class=\"\"><span class=\"tfsechead \"><span class=\"ltr\"><a target=\"_blank\" href=\"http://resources.huygens.knaw.nl/retroboeken/generalemissiven/#page=732&amp;source=4\" title=\"Show this document on Huygens\" sec=\"4 717:39\">4 717:39</a></span></span>  <span class=\"txtn\">Schijnende, </span><span class=\"txtn\">dat </span><span class=\"txtn\">de </span><span class=\"txtn\">particuliere </span><span class=\"txtn\">haer </span><span class=\"txtn\">op </span><span class=\"txtn\">den </span><span class=\"txtn\">slavenhandel </span><span class=\"txtn\">tersluyck </span><span class=\"txtn\">beter </span><span class=\"txtn\">verstaen </span></div>"
      ],
      "text/plain": [
       "<IPython.core.display.HTML object>"
      ]
     },
     "metadata": {},
     "output_type": "display_data"
    },
    {
     "data": {
      "text/html": [
       "<div class=\"\"><span class=\"tfsechead \"><span class=\"ltr\"><a target=\"_blank\" href=\"http://resources.huygens.knaw.nl/retroboeken/generalemissiven/#page=732&amp;source=4\" title=\"Show this document on Huygens\" sec=\"4 717:40\">4 717:40</a></span></span>  <span class=\"txtn\">als </span><span class=\"txtn\">des </span><span class=\"txtn\">Comp. </span><span class=\"txtn\">8 </span><span class=\"txtn\">residenten, </span><span class=\"txtn\">van </span><span class=\"txtn\">welcke </span><span class=\"txtn\">sij </span><span class=\"txtn\">3 </span><span class=\"txtn\">Bougise </span><span class=\"txtn\">vaertuygen, </span><span class=\"txtn\">die </span><span class=\"txtn\">sonder </span></div>"
      ],
      "text/plain": [
       "<IPython.core.display.HTML object>"
      ]
     },
     "metadata": {},
     "output_type": "display_data"
    },
    {
     "data": {
      "text/html": [
       "<div class=\"\"><span class=\"tfsechead \"><span class=\"ltr\"><a target=\"_blank\" href=\"http://resources.huygens.knaw.nl/retroboeken/generalemissiven/#page=732&amp;source=4\" title=\"Show this document on Huygens\" sec=\"4 717:41\">4 717:41</a></span></span>  <span class=\"txtn\">paspoorten </span><span class=\"txtn\">aldaar </span><span class=\"txtn\">ten </span><span class=\"txtn\">handel </span><span class=\"txtn\">gevonden </span><span class=\"txtn\">wierden, </span><span class=\"txtn\">hebbende </span><span class=\"txtn\">aangeslagen, </span><span class=\"txtn\">dogh </span><span class=\"txtn\">eene </span></div>"
      ],
      "text/plain": [
       "<IPython.core.display.HTML object>"
      ]
     },
     "metadata": {},
     "output_type": "display_data"
    },
    {
     "data": {
      "text/html": [
       "<div class=\"\"><span class=\"tfsechead \"><span class=\"ltr\"><a target=\"_blank\" href=\"http://resources.huygens.knaw.nl/retroboeken/generalemissiven/#page=732&amp;source=4\" title=\"Show this document on Huygens\" sec=\"4 717:42\">4 717:42</a></span></span>  </div>"
      ],
      "text/plain": [
       "<IPython.core.display.HTML object>"
      ]
     },
     "metadata": {},
     "output_type": "display_data"
    }
   ],
   "source": [
    "for line in lines:\n",
    "    A.plain(line, fmt=\"layout-full\")"
   ]
  },
  {
   "cell_type": "markdown",
   "metadata": {},
   "source": [
    "If we want to skip the remarks we can choose `layout-noremarks`:"
   ]
  },
  {
   "cell_type": "code",
   "execution_count": 16,
   "metadata": {},
   "outputs": [
    {
     "data": {
      "text/html": [
       "<div class=\"\"><span class=\"tfsechead \"><span class=\"ltr\"><a target=\"_blank\" href=\"http://resources.huygens.knaw.nl/retroboeken/generalemissiven/#page=732&amp;source=4\" title=\"Show this document on Huygens\" sec=\"4 717:1\">4 717:1</a></span></span>  <span class=\"txtn\">Ed. </span><span class=\"txtn\">ht </span><span class=\"txtn\">voorn. </span><span class=\"txtn\">1 </span><span class=\"txtn\">eyndelijck </span><span class=\"txtn\">haar </span><span class=\"txtn\">met </span><span class=\"txtn\">een </span><span class=\"txtn\">briefje </span><span class=\"txtn\">van </span><span class=\"txtn\">zijn </span><span class=\"txtn\">eygen </span><span class=\"txtn\">hand </span><span class=\"txtn\">ontsloegh </span><span class=\"txtn\">en </span><span class=\"txtn\">de</span></div>"
      ],
      "text/plain": [
       "<IPython.core.display.HTML object>"
      ]
     },
     "metadata": {},
     "output_type": "display_data"
    },
    {
     "data": {
      "text/html": [
       "<div class=\"\"><span class=\"tfsechead \"><span class=\"ltr\"><a target=\"_blank\" href=\"http://resources.huygens.knaw.nl/retroboeken/generalemissiven/#page=732&amp;source=4\" title=\"Show this document on Huygens\" sec=\"4 717:2\">4 717:2</a></span></span>  <span class=\"txtn\">borgtogt </span><span class=\"txtn\">voor </span><span class=\"txtn\">zijn </span><span class=\"txtn\">particulier </span><span class=\"txtn\">overnam, </span><span class=\"txtn\">ondertusschen </span><span class=\"txtn\">dat </span><span class=\"txtn\">desen </span><span class=\"txtn\">Intje </span><span class=\"txtn\">Boang </span><span class=\"txtn\">een</span></div>"
      ],
      "text/plain": [
       "<IPython.core.display.HTML object>"
      ]
     },
     "metadata": {},
     "output_type": "display_data"
    },
    {
     "data": {
      "text/html": [
       "<div class=\"\"><span class=\"tfsechead \"><span class=\"ltr\"><a target=\"_blank\" href=\"http://resources.huygens.knaw.nl/retroboeken/generalemissiven/#page=732&amp;source=4\" title=\"Show this document on Huygens\" sec=\"4 717:3\">4 717:3</a></span></span>  <span class=\"txtn\">en </span><span class=\"txtn\">andermaal </span><span class=\"txtn\">door </span><span class=\"txtn\">de </span><span class=\"txtn\">onse </span><span class=\"txtn\">op </span><span class=\"txtn\">Macassar </span><span class=\"txtn\">in </span><span class=\"txtn\">hegtenis </span><span class=\"txtn\">is </span><span class=\"txtn\">genomen, </span><span class=\"txtn\">daar </span><span class=\"txtn\">hij </span><span class=\"txtn\">thans </span><span class=\"txtn\">oock</span></div>"
      ],
      "text/plain": [
       "<IPython.core.display.HTML object>"
      ]
     },
     "metadata": {},
     "output_type": "display_data"
    },
    {
     "data": {
      "text/html": [
       "<div class=\"\"><span class=\"tfsechead \"><span class=\"ltr\"><a target=\"_blank\" href=\"http://resources.huygens.knaw.nl/retroboeken/generalemissiven/#page=732&amp;source=4\" title=\"Show this document on Huygens\" sec=\"4 717:4\">4 717:4</a></span></span>  <span class=\"txtn\">in </span><span class=\"txtn\">sit </span><span class=\"txtn\">om </span><span class=\"txtn\">hem </span><span class=\"txtn\">alsoo </span><span class=\"txtn\">te </span><span class=\"txtn\">doen </span><span class=\"txtn\">geven, </span><span class=\"txtn\">’tgeen </span><span class=\"txtn\">hij </span><span class=\"txtn\">nogh </span><span class=\"txtn\">mogte </span><span class=\"txtn\">besitten. </span><span class=\"txtn\">Duysentrsd. </span></div>"
      ],
      "text/plain": [
       "<IPython.core.display.HTML object>"
      ]
     },
     "metadata": {},
     "output_type": "display_data"
    },
    {
     "data": {
      "text/html": [
       "<div class=\"\"><span class=\"tfsechead \"><span class=\"ltr\"><a target=\"_blank\" href=\"http://resources.huygens.knaw.nl/retroboeken/generalemissiven/#page=732&amp;source=4\" title=\"Show this document on Huygens\" sec=\"4 717:5\">4 717:5</a></span></span>  <span class=\"txtn\">heeft </span><span class=\"txtn\">hij </span><span class=\"txtn\">in </span><span class=\"txtn\">twee </span><span class=\"txtn\">malen </span><span class=\"txtn\">opgebragt </span><span class=\"txtn\">en </span><span class=\"txtn\">voorts </span><span class=\"txtn\">de </span><span class=\"txtn\">Comp. </span><span class=\"txtn\">e </span><span class=\"txtn\">gewesen </span><span class=\"txtn\">op </span><span class=\"txtn\">een </span><span class=\"txtn\">dorp, </span><span class=\"txtn\">daer</span></div>"
      ],
      "text/plain": [
       "<IPython.core.display.HTML object>"
      ]
     },
     "metadata": {},
     "output_type": "display_data"
    },
    {
     "data": {
      "text/html": [
       "<div class=\"\"><span class=\"tfsechead \"><span class=\"ltr\"><a target=\"_blank\" href=\"http://resources.huygens.knaw.nl/retroboeken/generalemissiven/#page=732&amp;source=4\" title=\"Show this document on Huygens\" sec=\"4 717:6\">4 717:6</a></span></span>  <span class=\"txtn\">geen </span><span class=\"txtn\">huysen </span><span class=\"txtn\">en </span><span class=\"txtn\">stonden, </span><span class=\"txtn\">zulcx </span><span class=\"txtn\">wij </span><span class=\"txtn\">te </span><span class=\"txtn\">rade </span><span class=\"txtn\">zijn </span><span class=\"txtn\">geworden </span><span class=\"txtn\">de </span><span class=\"txtn\">eerste </span><span class=\"txtn\">borgen </span><span class=\"txtn\">te </span><span class=\"txtn\">doen</span></div>"
      ],
      "text/plain": [
       "<IPython.core.display.HTML object>"
      ]
     },
     "metadata": {},
     "output_type": "display_data"
    },
    {
     "data": {
      "text/html": [
       "<div class=\"\"><span class=\"tfsechead \"><span class=\"ltr\"><a target=\"_blank\" href=\"http://resources.huygens.knaw.nl/retroboeken/generalemissiven/#page=732&amp;source=4\" title=\"Show this document on Huygens\" sec=\"4 717:7\">4 717:7</a></span></span>  <span class=\"txtn\">aanspreken </span><span class=\"txtn\">om </span><span class=\"txtn\">betalinge </span><span class=\"txtn\">van </span><span class=\"txtn\">capit. </span><span class=\"txtn\">1 </span><span class=\"txtn\">en </span><span class=\"txtn\">intrest, </span><span class=\"txtn\">sullende </span><span class=\"txtn\">overbodigh </span><span class=\"txtn\"><span class=\"note\">«1= Overbodig, </span></span><span class=\"txtn\"><span class=\"note\">bereid.  =1»</span></span></div>"
      ],
      "text/plain": [
       "<IPython.core.display.HTML object>"
      ]
     },
     "metadata": {},
     "output_type": "display_data"
    },
    {
     "data": {
      "text/html": [
       "<div class=\"\"><span class=\"tfsechead \"><span class=\"ltr\"><a target=\"_blank\" href=\"http://resources.huygens.knaw.nl/retroboeken/generalemissiven/#page=732&amp;source=4\" title=\"Show this document on Huygens\" sec=\"4 717:8\">4 717:8</a></span></span>  <span class=\"txtn\">wesen </span><span class=\"txtn\">om</span></div>"
      ],
      "text/plain": [
       "<IPython.core.display.HTML object>"
      ]
     },
     "metadata": {},
     "output_type": "display_data"
    },
    {
     "data": {
      "text/html": [
       "<div class=\"\"><span class=\"tfsechead \"><span class=\"ltr\"><a target=\"_blank\" href=\"http://resources.huygens.knaw.nl/retroboeken/generalemissiven/#page=732&amp;source=4\" title=\"Show this document on Huygens\" sec=\"4 717:9\">4 717:9</a></span></span>  <span class=\"txtn\">desen </span><span class=\"txtn\">man (</span><span class=\"txtn\">die </span><span class=\"txtn\">veele </span><span class=\"txtn\">klagten </span><span class=\"txtn\">doet) </span><span class=\"txtn\">hier </span><span class=\"txtn\">te </span><span class=\"txtn\">doen </span><span class=\"txtn\">overbrengen </span><span class=\"txtn\">en </span><span class=\"txtn\">aan </span><span class=\"txtn\">haar </span><span class=\"txtn\">te </span><span class=\"txtn\">leveren, </span></div>"
      ],
      "text/plain": [
       "<IPython.core.display.HTML object>"
      ]
     },
     "metadata": {},
     "output_type": "display_data"
    },
    {
     "data": {
      "text/html": [
       "<div class=\"\"><span class=\"tfsechead \"><span class=\"ltr\"><a target=\"_blank\" href=\"http://resources.huygens.knaw.nl/retroboeken/generalemissiven/#page=732&amp;source=4\" title=\"Show this document on Huygens\" sec=\"4 717:10\">4 717:10</a></span></span>  <span class=\"txtn\">als </span><span class=\"txtn\">zij </span><span class=\"txtn\">daarom </span><span class=\"txtn\">komen </span><span class=\"txtn\">te </span><span class=\"txtn\">versoecken, </span><span class=\"txtn\">want </span><span class=\"txtn\">het </span><span class=\"txtn\">komt </span><span class=\"txtn\">de </span><span class=\"txtn\">Comp. </span><span class=\"txtn\">e </span><span class=\"txtn\">niet </span><span class=\"txtn\">gelegen </span><span class=\"txtn\">met</span></div>"
      ],
      "text/plain": [
       "<IPython.core.display.HTML object>"
      ]
     },
     "metadata": {},
     "output_type": "display_data"
    },
    {
     "data": {
      "text/html": [
       "<div class=\"\"><span class=\"tfsechead \"><span class=\"ltr\"><a target=\"_blank\" href=\"http://resources.huygens.knaw.nl/retroboeken/generalemissiven/#page=732&amp;source=4\" title=\"Show this document on Huygens\" sec=\"4 717:11\">4 717:11</a></span></span>  <span class=\"txtn\">zulcke </span><span class=\"txtn\">sehurcken </span><span class=\"txtn\">reecq. </span><span class=\"txtn\">te </span><span class=\"txtn\">houden </span><span class=\"txtn\">en </span><span class=\"txtn\">hem </span><span class=\"txtn\">om </span><span class=\"txtn\">de </span><span class=\"txtn\">betalinge </span><span class=\"txtn\">langer </span><span class=\"txtn\">achter </span><span class=\"txtn\">aan </span><span class=\"txtn\">te</span></div>"
      ],
      "text/plain": [
       "<IPython.core.display.HTML object>"
      ]
     },
     "metadata": {},
     "output_type": "display_data"
    },
    {
     "data": {
      "text/html": [
       "<div class=\"\"><span class=\"tfsechead \"><span class=\"ltr\"><a target=\"_blank\" href=\"http://resources.huygens.knaw.nl/retroboeken/generalemissiven/#page=732&amp;source=4\" title=\"Show this document on Huygens\" sec=\"4 717:12\">4 717:12</a></span></span>  <span class=\"txtn\">loopen. </span></div>"
      ],
      "text/plain": [
       "<IPython.core.display.HTML object>"
      ]
     },
     "metadata": {},
     "output_type": "display_data"
    },
    {
     "data": {
      "text/html": [
       "<div class=\"\"><span class=\"tfsechead \"><span class=\"ltr\"><a target=\"_blank\" href=\"http://resources.huygens.knaw.nl/retroboeken/generalemissiven/#page=732&amp;source=4\" title=\"Show this document on Huygens\" sec=\"4 717:13\">4 717:13</a></span></span>  <span class=\"txtn\"><span class=\"remark\"></span></span><span class=\"txtn\"><span class=\"remark\"></span></span><span class=\"txtn\"><span class=\"remark\"></span></span><span class=\"txtn\"><span class=\"remark\"></span></span><span class=\"txtn\"><span class=\"remark\"></span></span><span class=\"txtn\"><span class=\"remark\"></span></span><span class=\"txtn\"><span class=\"remark\"></span></span><span class=\"txtn\"><span class=\"remark\"></span></span><span class=\"txtn\"><span class=\"remark\"></span></span><span class=\"txtn\"><span class=\"remark\"></span></span><span class=\"txtn\"><span class=\"remark\"></span></span><span class=\"txtn\"><span class=\"remark\"></span></span></div>"
      ],
      "text/plain": [
       "<IPython.core.display.HTML object>"
      ]
     },
     "metadata": {},
     "output_type": "display_data"
    },
    {
     "data": {
      "text/html": [
       "<div class=\"\"><span class=\"tfsechead \"><span class=\"ltr\"><a target=\"_blank\" href=\"http://resources.huygens.knaw.nl/retroboeken/generalemissiven/#page=732&amp;source=4\" title=\"Show this document on Huygens\" sec=\"4 717:14\">4 717:14</a></span></span>  <span class=\"txtn\"><span class=\"remark\"></span></span><span class=\"txtn\"><span class=\"remark\"></span></span><span class=\"txtn\"><span class=\"remark\"></span></span><span class=\"txtn\"><span class=\"remark\"></span></span><span class=\"txtn\"><span class=\"remark\"></span></span><span class=\"txtn\"><span class=\"remark\"></span></span><span class=\"txtn\"><span class=\"remark\"></span></span><span class=\"txtn\"><span class=\"remark\"></span></span><span class=\"txtn\"><span class=\"remark\"></span></span><span class=\"txtn\"><span class=\"remark\"></span></span><span class=\"txtn\"><span class=\"remark\"></span></span><span class=\"txtn\"><span class=\"remark\"></span></span><span class=\"txtn\"><span class=\"remark\"></span></span><span class=\"txtn\"><span class=\"remark\"></span></span></div>"
      ],
      "text/plain": [
       "<IPython.core.display.HTML object>"
      ]
     },
     "metadata": {},
     "output_type": "display_data"
    },
    {
     "data": {
      "text/html": [
       "<div class=\"\"><span class=\"tfsechead \"><span class=\"ltr\"><a target=\"_blank\" href=\"http://resources.huygens.knaw.nl/retroboeken/generalemissiven/#page=732&amp;source=4\" title=\"Show this document on Huygens\" sec=\"4 717:15\">4 717:15</a></span></span>  <span class=\"txtn\">hij - ) </span></div>"
      ],
      "text/plain": [
       "<IPython.core.display.HTML object>"
      ]
     },
     "metadata": {},
     "output_type": "display_data"
    },
    {
     "data": {
      "text/html": [
       "<div class=\"\"><span class=\"tfsechead \"><span class=\"ltr\"><a target=\"_blank\" href=\"http://resources.huygens.knaw.nl/retroboeken/generalemissiven/#page=732&amp;source=4\" title=\"Show this document on Huygens\" sec=\"4 717:16\">4 717:16</a></span></span>  <span class=\"txtn\">tegens </span><span class=\"txtn\">eenige </span><span class=\"txtn\">rebellen </span><span class=\"txtn\">was </span><span class=\"txtn\">te </span><span class=\"txtn\">velde </span><span class=\"txtn\">getrocken, </span><span class=\"txtn\">waartoe </span><span class=\"txtn\">zij </span><span class=\"txtn\">actiën</span></div>"
      ],
      "text/plain": [
       "<IPython.core.display.HTML object>"
      ]
     },
     "metadata": {},
     "output_type": "display_data"
    },
    {
     "data": {
      "text/html": [
       "<div class=\"\"><span class=\"tfsechead \"><span class=\"ltr\"><a target=\"_blank\" href=\"http://resources.huygens.knaw.nl/retroboeken/generalemissiven/#page=732&amp;source=4\" title=\"Show this document on Huygens\" sec=\"4 717:17\">4 717:17</a></span></span>  <span class=\"txtn\">smeeden, </span><span class=\"txtn\">als </span><span class=\"txtn\">zij </span><span class=\"txtn\">een </span><span class=\"txtn\">roof </span><span class=\"txtn\">van </span><span class=\"txtn\">menschen </span><span class=\"txtn\">willen </span><span class=\"txtn\">doen, </span><span class=\"txtn\">die </span><span class=\"txtn\">zij </span><span class=\"txtn\">verkopen </span><span class=\"txtn\">ende </span><span class=\"txtn\">verhandelen. </span></div>"
      ],
      "text/plain": [
       "<IPython.core.display.HTML object>"
      ]
     },
     "metadata": {},
     "output_type": "display_data"
    },
    {
     "data": {
      "text/html": [
       "<div class=\"\"><span class=\"tfsechead \"><span class=\"ltr\"><a target=\"_blank\" href=\"http://resources.huygens.knaw.nl/retroboeken/generalemissiven/#page=732&amp;source=4\" title=\"Show this document on Huygens\" sec=\"4 717:18\">4 717:18</a></span></span>  </div>"
      ],
      "text/plain": [
       "<IPython.core.display.HTML object>"
      ]
     },
     "metadata": {},
     "output_type": "display_data"
    },
    {
     "data": {
      "text/html": [
       "<div class=\"\"><span class=\"tfsechead \"><span class=\"ltr\"><a target=\"_blank\" href=\"http://resources.huygens.knaw.nl/retroboeken/generalemissiven/#page=732&amp;source=4\" title=\"Show this document on Huygens\" sec=\"4 717:19\">4 717:19</a></span></span>  <span class=\"txtn\"><span class=\"remark\"></span></span><span class=\"txtn\"><span class=\"remark\"></span></span><span class=\"txtn\"><span class=\"remark\"></span></span><span class=\"txtn\"><span class=\"remark\"></span></span><span class=\"txtn\"><span class=\"remark\"></span></span><span class=\"txtn\"><span class=\"remark\"></span></span><span class=\"txtn\"><span class=\"remark\"></span></span><span class=\"txtn\"><span class=\"remark\"></span></span><span class=\"txtn\"><span class=\"remark\"></span></span><span class=\"txtn\"><span class=\"remark\"></span></span><span class=\"txtn\"><span class=\"remark\"></span></span></div>"
      ],
      "text/plain": [
       "<IPython.core.display.HTML object>"
      ]
     },
     "metadata": {},
     "output_type": "display_data"
    },
    {
     "data": {
      "text/html": [
       "<div class=\"\"><span class=\"tfsechead \"><span class=\"ltr\"><a target=\"_blank\" href=\"http://resources.huygens.knaw.nl/retroboeken/generalemissiven/#page=732&amp;source=4\" title=\"Show this document on Huygens\" sec=\"4 717:20\">4 717:20</a></span></span>  <span class=\"txtn\"><span class=\"remark\"></span></span><span class=\"txtn\"><span class=\"remark\"></span></span><span class=\"txtn\"><span class=\"remark\"></span></span><span class=\"txtn\"><span class=\"remark\"></span></span><span class=\"txtn\"><span class=\"remark\"></span></span><span class=\"txtn\"><span class=\"remark\"></span></span><span class=\"txtn\"><span class=\"remark\"></span></span><span class=\"txtn\"><span class=\"remark\"></span></span><span class=\"txtn\"><span class=\"remark\"></span></span><span class=\"txtn\"><span class=\"remark\"></span></span><span class=\"txtn\"><span class=\"remark\"></span></span><span class=\"txtn\"><span class=\"remark\"></span></span><span class=\"txtn\"><span class=\"remark\"></span></span><span class=\"txtn\"><span class=\"remark\"></span></span><span class=\"txtn\"><span class=\"remark\"></span></span><span class=\"txtn\"><span class=\"remark\"></span></span></div>"
      ],
      "text/plain": [
       "<IPython.core.display.HTML object>"
      ]
     },
     "metadata": {},
     "output_type": "display_data"
    },
    {
     "data": {
      "text/html": [
       "<div class=\"\"><span class=\"tfsechead \"><span class=\"ltr\"><a target=\"_blank\" href=\"http://resources.huygens.knaw.nl/retroboeken/generalemissiven/#page=732&amp;source=4\" title=\"Show this document on Huygens\" sec=\"4 717:21\">4 717:21</a></span></span>  <span class=\"txtn\"><span class=\"remark\"></span></span><span class=\"txtn\"><span class=\"remark\"></span></span><span class=\"txtn\"><span class=\"remark\"></span></span><span class=\"txtn\"><span class=\"remark\"></span></span><span class=\"txtn\"><span class=\"remark\"></span></span><span class=\"txtn\"><span class=\"remark\"></span></span><span class=\"txtn\"><span class=\"remark\"></span></span><span class=\"txtn\"><span class=\"remark\"></span></span><span class=\"txtn\"><span class=\"remark\"></span></span><span class=\"txtn\"><span class=\"remark\"></span></span><span class=\"txtn\"><span class=\"remark\"></span></span><span class=\"txtn\"><span class=\"remark\"></span></span><span class=\"txtn\"><span class=\"remark\"></span></span></div>"
      ],
      "text/plain": [
       "<IPython.core.display.HTML object>"
      ]
     },
     "metadata": {},
     "output_type": "display_data"
    },
    {
     "data": {
      "text/html": [
       "<div class=\"\"><span class=\"tfsechead \"><span class=\"ltr\"><a target=\"_blank\" href=\"http://resources.huygens.knaw.nl/retroboeken/generalemissiven/#page=732&amp;source=4\" title=\"Show this document on Huygens\" sec=\"4 717:22\">4 717:22</a></span></span>  <span class=\"txtn\"><span class=\"remark\"></span></span><span class=\"txtn\"><span class=\"remark\"></span></span><span class=\"txtn\"><span class=\"remark\"></span></span><span class=\"txtn\"><span class=\"remark\"></span></span><span class=\"txtn\"><span class=\"remark\"></span></span><span class=\"txtn\"><span class=\"remark\"></span></span><span class=\"txtn\"><span class=\"remark\"></span></span><span class=\"txtn\"><span class=\"remark\"></span></span><span class=\"txtn\"><span class=\"remark\"></span></span><span class=\"txtn\"><span class=\"remark\"></span></span><span class=\"txtn\"><span class=\"remark\"></span></span><span class=\"txtn\"><span class=\"remark\"></span></span><span class=\"txtn\"><span class=\"remark\"></span></span><span class=\"txtn\"><span class=\"remark\"></span></span></div>"
      ],
      "text/plain": [
       "<IPython.core.display.HTML object>"
      ]
     },
     "metadata": {},
     "output_type": "display_data"
    },
    {
     "data": {
      "text/html": [
       "<div class=\"\"><span class=\"tfsechead \"><span class=\"ltr\"><a target=\"_blank\" href=\"http://resources.huygens.knaw.nl/retroboeken/generalemissiven/#page=732&amp;source=4\" title=\"Show this document on Huygens\" sec=\"4 717:23\">4 717:23</a></span></span>  <span class=\"txtn\"><span class=\"remark\"></span></span><span class=\"txtn\"><span class=\"remark\"></span></span><span class=\"txtn\"><span class=\"remark\"></span></span><span class=\"txtn\"><span class=\"remark\"></span></span><span class=\"txtn\"><span class=\"remark\"></span></span><span class=\"txtn\"><span class=\"remark\"></span></span><span class=\"txtn\"><span class=\"remark\"></span></span><span class=\"txtn\"><span class=\"remark\"></span></span><span class=\"txtn\"><span class=\"remark\"></span></span><span class=\"txtn\"><span class=\"remark\"></span></span><span class=\"txtn\"><span class=\"remark\"></span></span><span class=\"txtn\"><span class=\"remark\"></span></span><span class=\"txtn\"><span class=\"remark\"></span></span><span class=\"txtn\"><span class=\"remark\"></span></span></div>"
      ],
      "text/plain": [
       "<IPython.core.display.HTML object>"
      ]
     },
     "metadata": {},
     "output_type": "display_data"
    },
    {
     "data": {
      "text/html": [
       "<div class=\"\"><span class=\"tfsechead \"><span class=\"ltr\"><a target=\"_blank\" href=\"http://resources.huygens.knaw.nl/retroboeken/generalemissiven/#page=732&amp;source=4\" title=\"Show this document on Huygens\" sec=\"4 717:24\">4 717:24</a></span></span>  </div>"
      ],
      "text/plain": [
       "<IPython.core.display.HTML object>"
      ]
     },
     "metadata": {},
     "output_type": "display_data"
    },
    {
     "data": {
      "text/html": [
       "<div class=\"\"><span class=\"tfsechead \"><span class=\"ltr\"><a target=\"_blank\" href=\"http://resources.huygens.knaw.nl/retroboeken/generalemissiven/#page=732&amp;source=4\" title=\"Show this document on Huygens\" sec=\"4 717:25\">4 717:25</a></span></span>  <span class=\"txtn\">De </span><span class=\"txtn\">Kon. </span><span class=\"txtn\">van </span><span class=\"txtn\">Goa </span><span class=\"txtn\">met </span><span class=\"txtn\">zijne </span><span class=\"txtn\">Macassaren </span><span class=\"txtn\">was </span><span class=\"txtn\">met </span><span class=\"txtn\">volkomen </span><span class=\"txtn\">vergenoeginge </span><span class=\"txtn\">van</span></div>"
      ],
      "text/plain": [
       "<IPython.core.display.HTML object>"
      ]
     },
     "metadata": {},
     "output_type": "display_data"
    },
    {
     "data": {
      "text/html": [
       "<div class=\"\"><span class=\"tfsechead \"><span class=\"ltr\"><a target=\"_blank\" href=\"http://resources.huygens.knaw.nl/retroboeken/generalemissiven/#page=732&amp;source=4\" title=\"Show this document on Huygens\" sec=\"4 717:26\">4 717:26</a></span></span>  <span class=\"txtn\">Radja </span><span class=\"txtn\">Bone </span><span class=\"txtn\">uyt </span><span class=\"txtn\">’t </span><span class=\"txtn\">quartier </span><span class=\"txtn\">der </span><span class=\"txtn\">Boegys </span><span class=\"txtn\">benoorden </span><span class=\"txtn\">de </span><span class=\"txtn\">reviere </span><span class=\"txtn\">Somboupa </span><span class=\"txtn\">toegestaen</span></div>"
      ],
      "text/plain": [
       "<IPython.core.display.HTML object>"
      ]
     },
     "metadata": {},
     "output_type": "display_data"
    },
    {
     "data": {
      "text/html": [
       "<div class=\"\"><span class=\"tfsechead \"><span class=\"ltr\"><a target=\"_blank\" href=\"http://resources.huygens.knaw.nl/retroboeken/generalemissiven/#page=732&amp;source=4\" title=\"Show this document on Huygens\" sec=\"4 717:27\">4 717:27</a></span></span>  <span class=\"txtn\">zijne </span><span class=\"txtn\">negorye </span><span class=\"txtn\">te </span><span class=\"txtn\">maken, </span><span class=\"txtn\">dat </span><span class=\"txtn\">wij </span><span class=\"txtn\">voor </span><span class=\"txtn\">een </span><span class=\"txtn\">zeer </span><span class=\"txtn\">goet </span><span class=\"txtn\">werck </span><span class=\"txtn\">aenzien. </span></div>"
      ],
      "text/plain": [
       "<IPython.core.display.HTML object>"
      ]
     },
     "metadata": {},
     "output_type": "display_data"
    },
    {
     "data": {
      "text/html": [
       "<div class=\"\"><span class=\"tfsechead \"><span class=\"ltr\"><a target=\"_blank\" href=\"http://resources.huygens.knaw.nl/retroboeken/generalemissiven/#page=732&amp;source=4\" title=\"Show this document on Huygens\" sec=\"4 717:28\">4 717:28</a></span></span>  <span class=\"txtn\"><span class=\"remark\"></span></span><span class=\"txtn\"><span class=\"remark\"></span></span><span class=\"txtn\"><span class=\"remark\"></span></span><span class=\"txtn\"><span class=\"remark\"></span></span><span class=\"txtn\"><span class=\"remark\"></span></span><span class=\"txtn\"><span class=\"remark\"></span></span><span class=\"txtn\"><span class=\"remark\"></span></span><span class=\"txtn\"><span class=\"remark\"></span></span><span class=\"txtn\"><span class=\"remark\"></span></span><span class=\"txtn\"><span class=\"remark\"></span></span><span class=\"txtn\"><span class=\"remark\"></span></span><span class=\"txtn\"><span class=\"remark\"></span></span></div>"
      ],
      "text/plain": [
       "<IPython.core.display.HTML object>"
      ]
     },
     "metadata": {},
     "output_type": "display_data"
    },
    {
     "data": {
      "text/html": [
       "<div class=\"\"><span class=\"tfsechead \"><span class=\"ltr\"><a target=\"_blank\" href=\"http://resources.huygens.knaw.nl/retroboeken/generalemissiven/#page=732&amp;source=4\" title=\"Show this document on Huygens\" sec=\"4 717:29\">4 717:29</a></span></span>  <span class=\"txtn\"><span class=\"remark\"></span></span><span class=\"txtn\"><span class=\"remark\"></span></span><span class=\"txtn\"><span class=\"remark\"></span></span><span class=\"txtn\"><span class=\"remark\"></span></span><span class=\"txtn\"><span class=\"remark\"></span></span><span class=\"txtn\"><span class=\"remark\"></span></span><span class=\"txtn\"><span class=\"remark\"></span></span><span class=\"txtn\"><span class=\"remark\"></span></span></div>"
      ],
      "text/plain": [
       "<IPython.core.display.HTML object>"
      ]
     },
     "metadata": {},
     "output_type": "display_data"
    },
    {
     "data": {
      "text/html": [
       "<div class=\"\"><span class=\"tfsechead \"><span class=\"ltr\"><a target=\"_blank\" href=\"http://resources.huygens.knaw.nl/retroboeken/generalemissiven/#page=732&amp;source=4\" title=\"Show this document on Huygens\" sec=\"4 717:30\">4 717:30</a></span></span>  </div>"
      ],
      "text/plain": [
       "<IPython.core.display.HTML object>"
      ]
     },
     "metadata": {},
     "output_type": "display_data"
    },
    {
     "data": {
      "text/html": [
       "<div class=\"\"><span class=\"tfsechead \"><span class=\"ltr\"><a target=\"_blank\" href=\"http://resources.huygens.knaw.nl/retroboeken/generalemissiven/#page=732&amp;source=4\" title=\"Show this document on Huygens\" sec=\"4 717:31\">4 717:31</a></span></span>  <span class=\"txtn\">den </span><span class=\"txtn\">ouden </span><span class=\"txtn\">toerilia </span><span class=\"txtn\">gampo </span><span class=\"txtn\"><span class=\"note\">«2= Tureli </span></span><span class=\"txtn\"><span class=\"note\">Gampa, </span></span><span class=\"txtn\"><span class=\"note\">de </span></span><span class=\"txtn\"><span class=\"note\">verklaring </span></span><span class=\"txtn\"><span class=\"note\">van </span></span><span class=\"txtn\"><span class=\"note\">deze </span></span><span class=\"txtn\"><span class=\"note\">titel </span></span><span class=\"txtn\"><span class=\"note\">in </span></span><span class=\"txtn\"><span class=\"note\">de </span></span><span class=\"txtn\"><span class=\"note\">tekst </span></span><span class=\"txtn\"><span class=\"note\">is </span></span><span class=\"txtn\"><span class=\"note\">juist.  =2»</span></span></div>"
      ],
      "text/plain": [
       "<IPython.core.display.HTML object>"
      ]
     },
     "metadata": {},
     "output_type": "display_data"
    },
    {
     "data": {
      "text/html": [
       "<div class=\"\"><span class=\"tfsechead \"><span class=\"ltr\"><a target=\"_blank\" href=\"http://resources.huygens.knaw.nl/retroboeken/generalemissiven/#page=732&amp;source=4\" title=\"Show this document on Huygens\" sec=\"4 717:32\">4 717:32</a></span></span>  <span class=\"txtn\">so </span><span class=\"txtn\">wert </span><span class=\"txtn\">den </span><span class=\"txtn\">rijxcanselier </span><span class=\"txtn\">off </span><span class=\"txtn\">eerste</span></div>"
      ],
      "text/plain": [
       "<IPython.core.display.HTML object>"
      ]
     },
     "metadata": {},
     "output_type": "display_data"
    },
    {
     "data": {
      "text/html": [
       "<div class=\"\"><span class=\"tfsechead \"><span class=\"ltr\"><a target=\"_blank\" href=\"http://resources.huygens.knaw.nl/retroboeken/generalemissiven/#page=732&amp;source=4\" title=\"Show this document on Huygens\" sec=\"4 717:33\">4 717:33</a></span></span>  <span class=\"txtn\">minister </span><span class=\"txtn\">van </span><span class=\"txtn\">dat </span><span class=\"txtn\">Coningrijckje </span><span class=\"txtn\">genaamt) </span><span class=\"txtn\">zijn </span><span class=\"txtn\">leven </span><span class=\"txtn\">geeyndigt </span><span class=\"txtn\">heeft, </span><span class=\"txtn\">in </span><span class=\"txtn\">wiens</span></div>"
      ],
      "text/plain": [
       "<IPython.core.display.HTML object>"
      ]
     },
     "metadata": {},
     "output_type": "display_data"
    },
    {
     "data": {
      "text/html": [
       "<div class=\"\"><span class=\"tfsechead \"><span class=\"ltr\"><a target=\"_blank\" href=\"http://resources.huygens.knaw.nl/retroboeken/generalemissiven/#page=732&amp;source=4\" title=\"Show this document on Huygens\" sec=\"4 717:34\">4 717:34</a></span></span>  <span class=\"txtn\">plaatse </span><span class=\"txtn\">wij </span><span class=\"txtn\">gerecommandeert </span><span class=\"txtn\">hebben, </span><span class=\"txtn\">dat </span><span class=\"txtn\">zij </span><span class=\"txtn\">een </span><span class=\"txtn\">goet, </span><span class=\"txtn\">moderaat </span><span class=\"txtn\">man </span><span class=\"txtn\">weder </span><span class=\"txtn\">zullen</span></div>"
      ],
      "text/plain": [
       "<IPython.core.display.HTML object>"
      ]
     },
     "metadata": {},
     "output_type": "display_data"
    },
    {
     "data": {
      "text/html": [
       "<div class=\"\"><span class=\"tfsechead \"><span class=\"ltr\"><a target=\"_blank\" href=\"http://resources.huygens.knaw.nl/retroboeken/generalemissiven/#page=732&amp;source=4\" title=\"Show this document on Huygens\" sec=\"4 717:35\">4 717:35</a></span></span>  <span class=\"txtn\">helpen </span><span class=\"txtn\">stellen. </span></div>"
      ],
      "text/plain": [
       "<IPython.core.display.HTML object>"
      ]
     },
     "metadata": {},
     "output_type": "display_data"
    },
    {
     "data": {
      "text/html": [
       "<div class=\"\"><span class=\"tfsechead \"><span class=\"ltr\"><a target=\"_blank\" href=\"http://resources.huygens.knaw.nl/retroboeken/generalemissiven/#page=732&amp;source=4\" title=\"Show this document on Huygens\" sec=\"4 717:36\">4 717:36</a></span></span>  <span class=\"txtn\"><span class=\"remark\"></span></span><span class=\"txtn\"><span class=\"remark\"></span></span><span class=\"txtn\"><span class=\"remark\"></span></span><span class=\"txtn\"><span class=\"remark\"></span></span><span class=\"txtn\"><span class=\"remark\"></span></span><span class=\"txtn\"><span class=\"remark\"></span></span><span class=\"txtn\"><span class=\"remark\"></span></span><span class=\"txtn\"><span class=\"remark\"></span></span><span class=\"txtn\"><span class=\"remark\"></span></span><span class=\"txtn\"><span class=\"remark\"></span></span><span class=\"txtn\"><span class=\"remark\"></span></span><span class=\"txtn\"><span class=\"remark\"></span></span><span class=\"txtn\"><span class=\"remark\"></span></span><span class=\"txtn\"><span class=\"remark\"></span></span></div>"
      ],
      "text/plain": [
       "<IPython.core.display.HTML object>"
      ]
     },
     "metadata": {},
     "output_type": "display_data"
    },
    {
     "data": {
      "text/html": [
       "<div class=\"\"><span class=\"tfsechead \"><span class=\"ltr\"><a target=\"_blank\" href=\"http://resources.huygens.knaw.nl/retroboeken/generalemissiven/#page=732&amp;source=4\" title=\"Show this document on Huygens\" sec=\"4 717:37\">4 717:37</a></span></span>  <span class=\"txtn\"><span class=\"remark\"></span></span><span class=\"txtn\"><span class=\"remark\"></span></span><span class=\"txtn\"><span class=\"remark\"></span></span><span class=\"txtn\"><span class=\"remark\"></span></span><span class=\"txtn\"><span class=\"remark\"></span></span><span class=\"txtn\"><span class=\"remark\"></span></span><span class=\"txtn\"><span class=\"remark\"></span></span></div>"
      ],
      "text/plain": [
       "<IPython.core.display.HTML object>"
      ]
     },
     "metadata": {},
     "output_type": "display_data"
    },
    {
     "data": {
      "text/html": [
       "<div class=\"\"><span class=\"tfsechead \"><span class=\"ltr\"><a target=\"_blank\" href=\"http://resources.huygens.knaw.nl/retroboeken/generalemissiven/#page=732&amp;source=4\" title=\"Show this document on Huygens\" sec=\"4 717:38\">4 717:38</a></span></span>  </div>"
      ],
      "text/plain": [
       "<IPython.core.display.HTML object>"
      ]
     },
     "metadata": {},
     "output_type": "display_data"
    },
    {
     "data": {
      "text/html": [
       "<div class=\"\"><span class=\"tfsechead \"><span class=\"ltr\"><a target=\"_blank\" href=\"http://resources.huygens.knaw.nl/retroboeken/generalemissiven/#page=732&amp;source=4\" title=\"Show this document on Huygens\" sec=\"4 717:39\">4 717:39</a></span></span>  <span class=\"txtn\">Schijnende, </span><span class=\"txtn\">dat </span><span class=\"txtn\">de </span><span class=\"txtn\">particuliere </span><span class=\"txtn\">haer </span><span class=\"txtn\">op </span><span class=\"txtn\">den </span><span class=\"txtn\">slavenhandel </span><span class=\"txtn\">tersluyck </span><span class=\"txtn\">beter </span><span class=\"txtn\">verstaen</span></div>"
      ],
      "text/plain": [
       "<IPython.core.display.HTML object>"
      ]
     },
     "metadata": {},
     "output_type": "display_data"
    },
    {
     "data": {
      "text/html": [
       "<div class=\"\"><span class=\"tfsechead \"><span class=\"ltr\"><a target=\"_blank\" href=\"http://resources.huygens.knaw.nl/retroboeken/generalemissiven/#page=732&amp;source=4\" title=\"Show this document on Huygens\" sec=\"4 717:40\">4 717:40</a></span></span>  <span class=\"txtn\">als </span><span class=\"txtn\">des </span><span class=\"txtn\">Comp. </span><span class=\"txtn\">8 </span><span class=\"txtn\">residenten, </span><span class=\"txtn\">van </span><span class=\"txtn\">welcke </span><span class=\"txtn\">sij </span><span class=\"txtn\">3 </span><span class=\"txtn\">Bougise </span><span class=\"txtn\">vaertuygen, </span><span class=\"txtn\">die </span><span class=\"txtn\">sonder</span></div>"
      ],
      "text/plain": [
       "<IPython.core.display.HTML object>"
      ]
     },
     "metadata": {},
     "output_type": "display_data"
    },
    {
     "data": {
      "text/html": [
       "<div class=\"\"><span class=\"tfsechead \"><span class=\"ltr\"><a target=\"_blank\" href=\"http://resources.huygens.knaw.nl/retroboeken/generalemissiven/#page=732&amp;source=4\" title=\"Show this document on Huygens\" sec=\"4 717:41\">4 717:41</a></span></span>  <span class=\"txtn\">paspoorten </span><span class=\"txtn\">aldaar </span><span class=\"txtn\">ten </span><span class=\"txtn\">handel </span><span class=\"txtn\">gevonden </span><span class=\"txtn\">wierden, </span><span class=\"txtn\">hebbende </span><span class=\"txtn\">aangeslagen, </span><span class=\"txtn\">dogh </span><span class=\"txtn\">eene</span></div>"
      ],
      "text/plain": [
       "<IPython.core.display.HTML object>"
      ]
     },
     "metadata": {},
     "output_type": "display_data"
    },
    {
     "data": {
      "text/html": [
       "<div class=\"\"><span class=\"tfsechead \"><span class=\"ltr\"><a target=\"_blank\" href=\"http://resources.huygens.knaw.nl/retroboeken/generalemissiven/#page=732&amp;source=4\" title=\"Show this document on Huygens\" sec=\"4 717:42\">4 717:42</a></span></span>  </div>"
      ],
      "text/plain": [
       "<IPython.core.display.HTML object>"
      ]
     },
     "metadata": {},
     "output_type": "display_data"
    }
   ],
   "source": [
    "for line in lines:\n",
    "    A.plain(line, fmt=\"layout-noremarks\")"
   ]
  },
  {
   "cell_type": "markdown",
   "metadata": {},
   "source": [
    "Or, without the footnotes:"
   ]
  },
  {
   "cell_type": "code",
   "execution_count": 17,
   "metadata": {},
   "outputs": [
    {
     "data": {
      "text/html": [
       "<div class=\"\"><span class=\"tfsechead \"><span class=\"ltr\"><a target=\"_blank\" href=\"http://resources.huygens.knaw.nl/retroboeken/generalemissiven/#page=732&amp;source=4\" title=\"Show this document on Huygens\" sec=\"4 717:1\">4 717:1</a></span></span>  </div>"
      ],
      "text/plain": [
       "<IPython.core.display.HTML object>"
      ]
     },
     "metadata": {},
     "output_type": "display_data"
    },
    {
     "data": {
      "text/html": [
       "<div class=\"\"><span class=\"tfsechead \"><span class=\"ltr\"><a target=\"_blank\" href=\"http://resources.huygens.knaw.nl/retroboeken/generalemissiven/#page=732&amp;source=4\" title=\"Show this document on Huygens\" sec=\"4 717:2\">4 717:2</a></span></span>  </div>"
      ],
      "text/plain": [
       "<IPython.core.display.HTML object>"
      ]
     },
     "metadata": {},
     "output_type": "display_data"
    },
    {
     "data": {
      "text/html": [
       "<div class=\"\"><span class=\"tfsechead \"><span class=\"ltr\"><a target=\"_blank\" href=\"http://resources.huygens.knaw.nl/retroboeken/generalemissiven/#page=732&amp;source=4\" title=\"Show this document on Huygens\" sec=\"4 717:3\">4 717:3</a></span></span>  </div>"
      ],
      "text/plain": [
       "<IPython.core.display.HTML object>"
      ]
     },
     "metadata": {},
     "output_type": "display_data"
    },
    {
     "data": {
      "text/html": [
       "<div class=\"\"><span class=\"tfsechead \"><span class=\"ltr\"><a target=\"_blank\" href=\"http://resources.huygens.knaw.nl/retroboeken/generalemissiven/#page=732&amp;source=4\" title=\"Show this document on Huygens\" sec=\"4 717:4\">4 717:4</a></span></span>  </div>"
      ],
      "text/plain": [
       "<IPython.core.display.HTML object>"
      ]
     },
     "metadata": {},
     "output_type": "display_data"
    },
    {
     "data": {
      "text/html": [
       "<div class=\"\"><span class=\"tfsechead \"><span class=\"ltr\"><a target=\"_blank\" href=\"http://resources.huygens.knaw.nl/retroboeken/generalemissiven/#page=732&amp;source=4\" title=\"Show this document on Huygens\" sec=\"4 717:5\">4 717:5</a></span></span>  </div>"
      ],
      "text/plain": [
       "<IPython.core.display.HTML object>"
      ]
     },
     "metadata": {},
     "output_type": "display_data"
    },
    {
     "data": {
      "text/html": [
       "<div class=\"\"><span class=\"tfsechead \"><span class=\"ltr\"><a target=\"_blank\" href=\"http://resources.huygens.knaw.nl/retroboeken/generalemissiven/#page=732&amp;source=4\" title=\"Show this document on Huygens\" sec=\"4 717:6\">4 717:6</a></span></span>  </div>"
      ],
      "text/plain": [
       "<IPython.core.display.HTML object>"
      ]
     },
     "metadata": {},
     "output_type": "display_data"
    },
    {
     "data": {
      "text/html": [
       "<div class=\"\"><span class=\"tfsechead \"><span class=\"ltr\"><a target=\"_blank\" href=\"http://resources.huygens.knaw.nl/retroboeken/generalemissiven/#page=732&amp;source=4\" title=\"Show this document on Huygens\" sec=\"4 717:7\">4 717:7</a></span></span>  <span class=\"txtn\"><span class=\"note\"></span></span><span class=\"txtn\"><span class=\"note\"></span></span></div>"
      ],
      "text/plain": [
       "<IPython.core.display.HTML object>"
      ]
     },
     "metadata": {},
     "output_type": "display_data"
    },
    {
     "data": {
      "text/html": [
       "<div class=\"\"><span class=\"tfsechead \"><span class=\"ltr\"><a target=\"_blank\" href=\"http://resources.huygens.knaw.nl/retroboeken/generalemissiven/#page=732&amp;source=4\" title=\"Show this document on Huygens\" sec=\"4 717:8\">4 717:8</a></span></span>  </div>"
      ],
      "text/plain": [
       "<IPython.core.display.HTML object>"
      ]
     },
     "metadata": {},
     "output_type": "display_data"
    },
    {
     "data": {
      "text/html": [
       "<div class=\"\"><span class=\"tfsechead \"><span class=\"ltr\"><a target=\"_blank\" href=\"http://resources.huygens.knaw.nl/retroboeken/generalemissiven/#page=732&amp;source=4\" title=\"Show this document on Huygens\" sec=\"4 717:9\">4 717:9</a></span></span>  </div>"
      ],
      "text/plain": [
       "<IPython.core.display.HTML object>"
      ]
     },
     "metadata": {},
     "output_type": "display_data"
    },
    {
     "data": {
      "text/html": [
       "<div class=\"\"><span class=\"tfsechead \"><span class=\"ltr\"><a target=\"_blank\" href=\"http://resources.huygens.knaw.nl/retroboeken/generalemissiven/#page=732&amp;source=4\" title=\"Show this document on Huygens\" sec=\"4 717:10\">4 717:10</a></span></span>  </div>"
      ],
      "text/plain": [
       "<IPython.core.display.HTML object>"
      ]
     },
     "metadata": {},
     "output_type": "display_data"
    },
    {
     "data": {
      "text/html": [
       "<div class=\"\"><span class=\"tfsechead \"><span class=\"ltr\"><a target=\"_blank\" href=\"http://resources.huygens.knaw.nl/retroboeken/generalemissiven/#page=732&amp;source=4\" title=\"Show this document on Huygens\" sec=\"4 717:11\">4 717:11</a></span></span>  </div>"
      ],
      "text/plain": [
       "<IPython.core.display.HTML object>"
      ]
     },
     "metadata": {},
     "output_type": "display_data"
    },
    {
     "data": {
      "text/html": [
       "<div class=\"\"><span class=\"tfsechead \"><span class=\"ltr\"><a target=\"_blank\" href=\"http://resources.huygens.knaw.nl/retroboeken/generalemissiven/#page=732&amp;source=4\" title=\"Show this document on Huygens\" sec=\"4 717:12\">4 717:12</a></span></span>  </div>"
      ],
      "text/plain": [
       "<IPython.core.display.HTML object>"
      ]
     },
     "metadata": {},
     "output_type": "display_data"
    },
    {
     "data": {
      "text/html": [
       "<div class=\"\"><span class=\"tfsechead \"><span class=\"ltr\"><a target=\"_blank\" href=\"http://resources.huygens.knaw.nl/retroboeken/generalemissiven/#page=732&amp;source=4\" title=\"Show this document on Huygens\" sec=\"4 717:13\">4 717:13</a></span></span>  <span class=\"txtn\"><span class=\"remark\">27 </span></span><span class=\"txtn\"><span class=\"remark\">oct. </span></span><span class=\"txtn\"><span class=\"remark\">stierf </span></span><span class=\"txtn\"><span class=\"remark\">president </span></span><span class=\"txtn\"><span class=\"remark\">Cops, </span></span><span class=\"txtn\"><span class=\"remark\">Adriaen </span></span><span class=\"txtn\"><span class=\"remark\">van </span></span><span class=\"txtn\"><span class=\"remark\">Daalen </span></span><span class=\"txtn\"><span class=\"remark\">volgt </span></span><span class=\"txtn\"><span class=\"remark\">hem </span></span><span class=\"txtn\"><span class=\"remark\">voorlopig </span></span><span class=\"txtn\"><span class=\"remark\">op; </span></span></div>"
      ],
      "text/plain": [
       "<IPython.core.display.HTML object>"
      ]
     },
     "metadata": {},
     "output_type": "display_data"
    },
    {
     "data": {
      "text/html": [
       "<div class=\"\"><span class=\"tfsechead \"><span class=\"ltr\"><a target=\"_blank\" href=\"http://resources.huygens.knaw.nl/retroboeken/generalemissiven/#page=732&amp;source=4\" title=\"Show this document on Huygens\" sec=\"4 717:14\">4 717:14</a></span></span>  <span class=\"txtn\"><span class=\"remark\">Tack </span></span><span class=\"txtn\"><span class=\"remark\">zal </span></span><span class=\"txtn\"><span class=\"remark\">nu </span></span><span class=\"txtn\"><span class=\"remark\">spoedig </span></span><span class=\"txtn\"><span class=\"remark\">derwaarts </span></span><span class=\"txtn\"><span class=\"remark\">gaan; </span></span><span class=\"txtn\"><span class=\"remark\">de </span></span><span class=\"txtn\"><span class=\"remark\">Koning </span></span><span class=\"txtn\"><span class=\"remark\">van </span></span><span class=\"txtn\"><span class=\"remark\">Bidon </span></span><span class=\"txtn\"><span class=\"remark\">zond </span></span><span class=\"txtn\"><span class=\"remark\">nog </span></span><span class=\"txtn\"><span class=\"remark\">geen </span></span><span class=\"txtn\"><span class=\"remark\">gezanten , </span></span></div>"
      ],
      "text/plain": [
       "<IPython.core.display.HTML object>"
      ]
     },
     "metadata": {},
     "output_type": "display_data"
    },
    {
     "data": {
      "text/html": [
       "<div class=\"\"><span class=\"tfsechead \"><span class=\"ltr\"><a target=\"_blank\" href=\"http://resources.huygens.knaw.nl/retroboeken/generalemissiven/#page=732&amp;source=4\" title=\"Show this document on Huygens\" sec=\"4 717:15\">4 717:15</a></span></span>  </div>"
      ],
      "text/plain": [
       "<IPython.core.display.HTML object>"
      ]
     },
     "metadata": {},
     "output_type": "display_data"
    },
    {
     "data": {
      "text/html": [
       "<div class=\"\"><span class=\"tfsechead \"><span class=\"ltr\"><a target=\"_blank\" href=\"http://resources.huygens.knaw.nl/retroboeken/generalemissiven/#page=732&amp;source=4\" title=\"Show this document on Huygens\" sec=\"4 717:16\">4 717:16</a></span></span>  </div>"
      ],
      "text/plain": [
       "<IPython.core.display.HTML object>"
      ]
     },
     "metadata": {},
     "output_type": "display_data"
    },
    {
     "data": {
      "text/html": [
       "<div class=\"\"><span class=\"tfsechead \"><span class=\"ltr\"><a target=\"_blank\" href=\"http://resources.huygens.knaw.nl/retroboeken/generalemissiven/#page=732&amp;source=4\" title=\"Show this document on Huygens\" sec=\"4 717:17\">4 717:17</a></span></span>  </div>"
      ],
      "text/plain": [
       "<IPython.core.display.HTML object>"
      ]
     },
     "metadata": {},
     "output_type": "display_data"
    },
    {
     "data": {
      "text/html": [
       "<div class=\"\"><span class=\"tfsechead \"><span class=\"ltr\"><a target=\"_blank\" href=\"http://resources.huygens.knaw.nl/retroboeken/generalemissiven/#page=732&amp;source=4\" title=\"Show this document on Huygens\" sec=\"4 717:18\">4 717:18</a></span></span>  </div>"
      ],
      "text/plain": [
       "<IPython.core.display.HTML object>"
      ]
     },
     "metadata": {},
     "output_type": "display_data"
    },
    {
     "data": {
      "text/html": [
       "<div class=\"\"><span class=\"tfsechead \"><span class=\"ltr\"><a target=\"_blank\" href=\"http://resources.huygens.knaw.nl/retroboeken/generalemissiven/#page=732&amp;source=4\" title=\"Show this document on Huygens\" sec=\"4 717:19\">4 717:19</a></span></span>  <span class=\"txtn\"><span class=\"remark\">Op </span></span><span class=\"txtn\"><span class=\"remark\">de </span></span><span class=\"txtn\"><span class=\"remark\">Tukangbesi- </span></span><span class=\"txtn\"><span class=\"remark\">Eilanden </span></span><span class=\"txtn\"><span class=\"remark\">werden </span></span><span class=\"txtn\"><span class=\"remark\">136 </span></span><span class=\"txtn\"><span class=\"remark\">jonge </span></span><span class=\"txtn\"><span class=\"remark\">notebomen </span></span><span class=\"txtn\"><span class=\"remark\">omgehakt; </span></span><span class=\"txtn\"><span class=\"remark\">de </span></span><span class=\"txtn\"><span class=\"remark\">uitgaven</span></span></div>"
      ],
      "text/plain": [
       "<IPython.core.display.HTML object>"
      ]
     },
     "metadata": {},
     "output_type": "display_data"
    },
    {
     "data": {
      "text/html": [
       "<div class=\"\"><span class=\"tfsechead \"><span class=\"ltr\"><a target=\"_blank\" href=\"http://resources.huygens.knaw.nl/retroboeken/generalemissiven/#page=732&amp;source=4\" title=\"Show this document on Huygens\" sec=\"4 717:20\">4 717:20</a></span></span>  <span class=\"txtn\"><span class=\"remark\">te </span></span><span class=\"txtn\"><span class=\"remark\">Makassar </span></span><span class=\"txtn\"><span class=\"remark\">bedroegen </span></span><span class=\"txtn\"><span class=\"remark\">in </span></span><span class=\"txtn\"><span class=\"remark\">een </span></span><span class=\"txtn\"><span class=\"remark\">jaar </span></span><span class=\"txtn\"><span class=\"remark\">f. </span></span><span class=\"txtn\"><span class=\"remark\">143229, </span></span><span class=\"txtn\"><span class=\"remark\">de </span></span><span class=\"txtn\"><span class=\"remark\">inkomsten </span></span><span class=\"txtn\"><span class=\"remark\">f. </span></span><span class=\"txtn\"><span class=\"remark\">39770; </span></span><span class=\"txtn\"><span class=\"remark\">bij </span></span><span class=\"txtn\"><span class=\"remark\">de </span></span><span class=\"txtn\"><span class=\"remark\">eerste </span></span><span class=\"txtn\"><span class=\"remark\">was</span></span></div>"
      ],
      "text/plain": [
       "<IPython.core.display.HTML object>"
      ]
     },
     "metadata": {},
     "output_type": "display_data"
    },
    {
     "data": {
      "text/html": [
       "<div class=\"\"><span class=\"tfsechead \"><span class=\"ltr\"><a target=\"_blank\" href=\"http://resources.huygens.knaw.nl/retroboeken/generalemissiven/#page=732&amp;source=4\" title=\"Show this document on Huygens\" sec=\"4 717:21\">4 717:21</a></span></span>  <span class=\"txtn\"><span class=\"remark\">11000 </span></span><span class=\"txtn\"><span class=\"remark\">rsd. </span></span><span class=\"txtn\"><span class=\"remark\">achterstallige </span></span><span class=\"txtn\"><span class=\"remark\">gage </span></span><span class=\"txtn\"><span class=\"remark\">voor </span></span><span class=\"txtn\"><span class=\"remark\">Radja </span></span><span class=\"txtn\"><span class=\"remark\">Bone; </span></span><span class=\"txtn\"><span class=\"remark\">te </span></span><span class=\"txtn\"><span class=\"remark\">Makassar </span></span><span class=\"txtn\"><span class=\"remark\">werden </span></span><span class=\"txtn\"><span class=\"remark\">wissels </span></span><span class=\"txtn\"><span class=\"remark\">voor </span></span><span class=\"txtn\"><span class=\"remark\">12223</span></span></div>"
      ],
      "text/plain": [
       "<IPython.core.display.HTML object>"
      ]
     },
     "metadata": {},
     "output_type": "display_data"
    },
    {
     "data": {
      "text/html": [
       "<div class=\"\"><span class=\"tfsechead \"><span class=\"ltr\"><a target=\"_blank\" href=\"http://resources.huygens.knaw.nl/retroboeken/generalemissiven/#page=732&amp;source=4\" title=\"Show this document on Huygens\" sec=\"4 717:22\">4 717:22</a></span></span>  <span class=\"txtn\"><span class=\"remark\">rsd. </span></span><span class=\"txtn\"><span class=\"remark\">op </span></span><span class=\"txtn\"><span class=\"remark\">Batavia </span></span><span class=\"txtn\"><span class=\"remark\">getrokken; </span></span><span class=\"txtn\"><span class=\"remark\">er </span></span><span class=\"txtn\"><span class=\"remark\">waren </span></span><span class=\"txtn\"><span class=\"remark\">296 </span></span><span class=\"txtn\"><span class=\"remark\">militairen, </span></span><span class=\"txtn\"><span class=\"remark\">van </span></span><span class=\"txtn\"><span class=\"remark\">wie </span></span><span class=\"txtn\"><span class=\"remark\">96 </span></span><span class=\"txtn\"><span class=\"remark\">op </span></span><span class=\"txtn\"><span class=\"remark\">de </span></span><span class=\"txtn\"><span class=\"remark\">buitenposten, </span></span></div>"
      ],
      "text/plain": [
       "<IPython.core.display.HTML object>"
      ]
     },
     "metadata": {},
     "output_type": "display_data"
    },
    {
     "data": {
      "text/html": [
       "<div class=\"\"><span class=\"tfsechead \"><span class=\"ltr\"><a target=\"_blank\" href=\"http://resources.huygens.knaw.nl/retroboeken/generalemissiven/#page=732&amp;source=4\" title=\"Show this document on Huygens\" sec=\"4 717:23\">4 717:23</a></span></span>  <span class=\"txtn\"><span class=\"remark\">men </span></span><span class=\"txtn\"><span class=\"remark\">vraagt </span></span><span class=\"txtn\"><span class=\"remark\">er </span></span><span class=\"txtn\"><span class=\"remark\">nog </span></span><span class=\"txtn\"><span class=\"remark\">100 </span></span><span class=\"txtn\"><span class=\"remark\">aan; </span></span><span class=\"txtn\"><span class=\"remark\">kapitein </span></span><span class=\"txtn\"><span class=\"remark\">Pleun </span></span><span class=\"txtn\"><span class=\"remark\">is </span></span><span class=\"txtn\"><span class=\"remark\">van </span></span><span class=\"txtn\"><span class=\"remark\">daar </span></span><span class=\"txtn\"><span class=\"remark\">verlost </span></span><span class=\"txtn\"><span class=\"remark\">en </span></span><span class=\"txtn\"><span class=\"remark\">repatrieert</span></span></div>"
      ],
      "text/plain": [
       "<IPython.core.display.HTML object>"
      ]
     },
     "metadata": {},
     "output_type": "display_data"
    },
    {
     "data": {
      "text/html": [
       "<div class=\"\"><span class=\"tfsechead \"><span class=\"ltr\"><a target=\"_blank\" href=\"http://resources.huygens.knaw.nl/retroboeken/generalemissiven/#page=732&amp;source=4\" title=\"Show this document on Huygens\" sec=\"4 717:24\">4 717:24</a></span></span>  </div>"
      ],
      "text/plain": [
       "<IPython.core.display.HTML object>"
      ]
     },
     "metadata": {},
     "output_type": "display_data"
    },
    {
     "data": {
      "text/html": [
       "<div class=\"\"><span class=\"tfsechead \"><span class=\"ltr\"><a target=\"_blank\" href=\"http://resources.huygens.knaw.nl/retroboeken/generalemissiven/#page=732&amp;source=4\" title=\"Show this document on Huygens\" sec=\"4 717:25\">4 717:25</a></span></span>  </div>"
      ],
      "text/plain": [
       "<IPython.core.display.HTML object>"
      ]
     },
     "metadata": {},
     "output_type": "display_data"
    },
    {
     "data": {
      "text/html": [
       "<div class=\"\"><span class=\"tfsechead \"><span class=\"ltr\"><a target=\"_blank\" href=\"http://resources.huygens.knaw.nl/retroboeken/generalemissiven/#page=732&amp;source=4\" title=\"Show this document on Huygens\" sec=\"4 717:26\">4 717:26</a></span></span>  </div>"
      ],
      "text/plain": [
       "<IPython.core.display.HTML object>"
      ]
     },
     "metadata": {},
     "output_type": "display_data"
    },
    {
     "data": {
      "text/html": [
       "<div class=\"\"><span class=\"tfsechead \"><span class=\"ltr\"><a target=\"_blank\" href=\"http://resources.huygens.knaw.nl/retroboeken/generalemissiven/#page=732&amp;source=4\" title=\"Show this document on Huygens\" sec=\"4 717:27\">4 717:27</a></span></span>  </div>"
      ],
      "text/plain": [
       "<IPython.core.display.HTML object>"
      ]
     },
     "metadata": {},
     "output_type": "display_data"
    },
    {
     "data": {
      "text/html": [
       "<div class=\"\"><span class=\"tfsechead \"><span class=\"ltr\"><a target=\"_blank\" href=\"http://resources.huygens.knaw.nl/retroboeken/generalemissiven/#page=732&amp;source=4\" title=\"Show this document on Huygens\" sec=\"4 717:28\">4 717:28</a></span></span>  <span class=\"txtn\"><span class=\"remark\">De </span></span><span class=\"txtn\"><span class=\"remark\">Koningen </span></span><span class=\"txtn\"><span class=\"remark\">roepen </span></span><span class=\"txtn\"><span class=\"remark\">de </span></span><span class=\"txtn\"><span class=\"remark\">uitgeweken </span></span><span class=\"txtn\"><span class=\"remark\">Makassaren </span></span><span class=\"txtn\"><span class=\"remark\">van </span></span><span class=\"txtn\"><span class=\"remark\">Sukun </span></span><span class=\"txtn\"><span class=\"remark\">terug </span></span><span class=\"txtn\"><span class=\"remark\">op </span></span><span class=\"txtn\"><span class=\"remark\">straffe </span></span><span class=\"txtn\"><span class=\"remark\">van</span></span></div>"
      ],
      "text/plain": [
       "<IPython.core.display.HTML object>"
      ]
     },
     "metadata": {},
     "output_type": "display_data"
    },
    {
     "data": {
      "text/html": [
       "<div class=\"\"><span class=\"tfsechead \"><span class=\"ltr\"><a target=\"_blank\" href=\"http://resources.huygens.knaw.nl/retroboeken/generalemissiven/#page=732&amp;source=4\" title=\"Show this document on Huygens\" sec=\"4 717:29\">4 717:29</a></span></span>  <span class=\"txtn\"><span class=\"remark\">anders </span></span><span class=\"txtn\"><span class=\"remark\">als </span></span><span class=\"txtn\"><span class=\"remark\">rebel </span></span><span class=\"txtn\"><span class=\"remark\">beschouwd </span></span><span class=\"txtn\"><span class=\"remark\">te </span></span><span class=\"txtn\"><span class=\"remark\">worden; </span></span><span class=\"txtn\"><span class=\"remark\">op </span></span><span class=\"txtn\"><span class=\"remark\">Bima </span></span></div>"
      ],
      "text/plain": [
       "<IPython.core.display.HTML object>"
      ]
     },
     "metadata": {},
     "output_type": "display_data"
    },
    {
     "data": {
      "text/html": [
       "<div class=\"\"><span class=\"tfsechead \"><span class=\"ltr\"><a target=\"_blank\" href=\"http://resources.huygens.knaw.nl/retroboeken/generalemissiven/#page=732&amp;source=4\" title=\"Show this document on Huygens\" sec=\"4 717:30\">4 717:30</a></span></span>  </div>"
      ],
      "text/plain": [
       "<IPython.core.display.HTML object>"
      ]
     },
     "metadata": {},
     "output_type": "display_data"
    },
    {
     "data": {
      "text/html": [
       "<div class=\"\"><span class=\"tfsechead \"><span class=\"ltr\"><a target=\"_blank\" href=\"http://resources.huygens.knaw.nl/retroboeken/generalemissiven/#page=732&amp;source=4\" title=\"Show this document on Huygens\" sec=\"4 717:31\">4 717:31</a></span></span>  <span class=\"txtn\"><span class=\"note\"></span></span><span class=\"txtn\"><span class=\"note\"></span></span><span class=\"txtn\"><span class=\"note\"></span></span><span class=\"txtn\"><span class=\"note\"></span></span><span class=\"txtn\"><span class=\"note\"></span></span><span class=\"txtn\"><span class=\"note\"></span></span><span class=\"txtn\"><span class=\"note\"></span></span><span class=\"txtn\"><span class=\"note\"></span></span><span class=\"txtn\"><span class=\"note\"></span></span><span class=\"txtn\"><span class=\"note\"></span></span><span class=\"txtn\"><span class=\"note\"></span></span><span class=\"txtn\"><span class=\"note\"></span></span></div>"
      ],
      "text/plain": [
       "<IPython.core.display.HTML object>"
      ]
     },
     "metadata": {},
     "output_type": "display_data"
    },
    {
     "data": {
      "text/html": [
       "<div class=\"\"><span class=\"tfsechead \"><span class=\"ltr\"><a target=\"_blank\" href=\"http://resources.huygens.knaw.nl/retroboeken/generalemissiven/#page=732&amp;source=4\" title=\"Show this document on Huygens\" sec=\"4 717:32\">4 717:32</a></span></span>  </div>"
      ],
      "text/plain": [
       "<IPython.core.display.HTML object>"
      ]
     },
     "metadata": {},
     "output_type": "display_data"
    },
    {
     "data": {
      "text/html": [
       "<div class=\"\"><span class=\"tfsechead \"><span class=\"ltr\"><a target=\"_blank\" href=\"http://resources.huygens.knaw.nl/retroboeken/generalemissiven/#page=732&amp;source=4\" title=\"Show this document on Huygens\" sec=\"4 717:33\">4 717:33</a></span></span>  </div>"
      ],
      "text/plain": [
       "<IPython.core.display.HTML object>"
      ]
     },
     "metadata": {},
     "output_type": "display_data"
    },
    {
     "data": {
      "text/html": [
       "<div class=\"\"><span class=\"tfsechead \"><span class=\"ltr\"><a target=\"_blank\" href=\"http://resources.huygens.knaw.nl/retroboeken/generalemissiven/#page=732&amp;source=4\" title=\"Show this document on Huygens\" sec=\"4 717:34\">4 717:34</a></span></span>  </div>"
      ],
      "text/plain": [
       "<IPython.core.display.HTML object>"
      ]
     },
     "metadata": {},
     "output_type": "display_data"
    },
    {
     "data": {
      "text/html": [
       "<div class=\"\"><span class=\"tfsechead \"><span class=\"ltr\"><a target=\"_blank\" href=\"http://resources.huygens.knaw.nl/retroboeken/generalemissiven/#page=732&amp;source=4\" title=\"Show this document on Huygens\" sec=\"4 717:35\">4 717:35</a></span></span>  </div>"
      ],
      "text/plain": [
       "<IPython.core.display.HTML object>"
      ]
     },
     "metadata": {},
     "output_type": "display_data"
    },
    {
     "data": {
      "text/html": [
       "<div class=\"\"><span class=\"tfsechead \"><span class=\"ltr\"><a target=\"_blank\" href=\"http://resources.huygens.knaw.nl/retroboeken/generalemissiven/#page=732&amp;source=4\" title=\"Show this document on Huygens\" sec=\"4 717:36\">4 717:36</a></span></span>  <span class=\"txtn\"><span class=\"remark\">De </span></span><span class=\"txtn\"><span class=\"remark\">Bataviase </span></span><span class=\"txtn\"><span class=\"remark\">Coopman </span></span><span class=\"txtn\"><span class=\"remark\">kwam </span></span><span class=\"txtn\"><span class=\"remark\">9 </span></span><span class=\"txtn\"><span class=\"remark\">nov. </span></span><span class=\"txtn\"><span class=\"remark\">uit </span></span><span class=\"txtn\"><span class=\"remark\">Timor </span></span><span class=\"txtn\"><span class=\"remark\">met </span></span><span class=\"txtn\"><span class=\"remark\">lading </span></span><span class=\"txtn\"><span class=\"remark\">van </span></span><span class=\"txtn\"><span class=\"remark\">f. </span></span><span class=\"txtn\"><span class=\"remark\">18804, </span></span><span class=\"txtn\"><span class=\"remark\">vnl. </span></span></div>"
      ],
      "text/plain": [
       "<IPython.core.display.HTML object>"
      ]
     },
     "metadata": {},
     "output_type": "display_data"
    },
    {
     "data": {
      "text/html": [
       "<div class=\"\"><span class=\"tfsechead \"><span class=\"ltr\"><a target=\"_blank\" href=\"http://resources.huygens.knaw.nl/retroboeken/generalemissiven/#page=732&amp;source=4\" title=\"Show this document on Huygens\" sec=\"4 717:37\">4 717:37</a></span></span>  <span class=\"txtn\"><span class=\"remark\">sandelhout </span></span><span class=\"txtn\"><span class=\"remark\">en </span></span><span class=\"txtn\"><span class=\"remark\">46 </span></span><span class=\"txtn\"><span class=\"remark\">slaven, </span></span><span class=\"txtn\"><span class=\"remark\">wat </span></span><span class=\"txtn\"><span class=\"remark\">weinig </span></span><span class=\"txtn\"><span class=\"remark\">is</span></span></div>"
      ],
      "text/plain": [
       "<IPython.core.display.HTML object>"
      ]
     },
     "metadata": {},
     "output_type": "display_data"
    },
    {
     "data": {
      "text/html": [
       "<div class=\"\"><span class=\"tfsechead \"><span class=\"ltr\"><a target=\"_blank\" href=\"http://resources.huygens.knaw.nl/retroboeken/generalemissiven/#page=732&amp;source=4\" title=\"Show this document on Huygens\" sec=\"4 717:38\">4 717:38</a></span></span>  </div>"
      ],
      "text/plain": [
       "<IPython.core.display.HTML object>"
      ]
     },
     "metadata": {},
     "output_type": "display_data"
    },
    {
     "data": {
      "text/html": [
       "<div class=\"\"><span class=\"tfsechead \"><span class=\"ltr\"><a target=\"_blank\" href=\"http://resources.huygens.knaw.nl/retroboeken/generalemissiven/#page=732&amp;source=4\" title=\"Show this document on Huygens\" sec=\"4 717:39\">4 717:39</a></span></span>  </div>"
      ],
      "text/plain": [
       "<IPython.core.display.HTML object>"
      ]
     },
     "metadata": {},
     "output_type": "display_data"
    },
    {
     "data": {
      "text/html": [
       "<div class=\"\"><span class=\"tfsechead \"><span class=\"ltr\"><a target=\"_blank\" href=\"http://resources.huygens.knaw.nl/retroboeken/generalemissiven/#page=732&amp;source=4\" title=\"Show this document on Huygens\" sec=\"4 717:40\">4 717:40</a></span></span>  </div>"
      ],
      "text/plain": [
       "<IPython.core.display.HTML object>"
      ]
     },
     "metadata": {},
     "output_type": "display_data"
    },
    {
     "data": {
      "text/html": [
       "<div class=\"\"><span class=\"tfsechead \"><span class=\"ltr\"><a target=\"_blank\" href=\"http://resources.huygens.knaw.nl/retroboeken/generalemissiven/#page=732&amp;source=4\" title=\"Show this document on Huygens\" sec=\"4 717:41\">4 717:41</a></span></span>  </div>"
      ],
      "text/plain": [
       "<IPython.core.display.HTML object>"
      ]
     },
     "metadata": {},
     "output_type": "display_data"
    },
    {
     "data": {
      "text/html": [
       "<div class=\"\"><span class=\"tfsechead \"><span class=\"ltr\"><a target=\"_blank\" href=\"http://resources.huygens.knaw.nl/retroboeken/generalemissiven/#page=732&amp;source=4\" title=\"Show this document on Huygens\" sec=\"4 717:42\">4 717:42</a></span></span>  </div>"
      ],
      "text/plain": [
       "<IPython.core.display.HTML object>"
      ]
     },
     "metadata": {},
     "output_type": "display_data"
    }
   ],
   "source": [
    "for line in lines:\n",
    "    A.plain(line, fmt=\"layout-remarks\")"
   ]
  },
  {
   "cell_type": "markdown",
   "metadata": {},
   "source": [
    "Just the original text:"
   ]
  },
  {
   "cell_type": "code",
   "execution_count": 18,
   "metadata": {},
   "outputs": [
    {
     "data": {
      "text/html": [
       "<div class=\"\"><span class=\"tfsechead \"><span class=\"ltr\"><a target=\"_blank\" href=\"http://resources.huygens.knaw.nl/retroboeken/generalemissiven/#page=732&amp;source=4\" title=\"Show this document on Huygens\" sec=\"4 717:1\">4 717:1</a></span></span>  <span class=\"txtu\">Ed. </span><span class=\"txtu\">ht </span><span class=\"txtu\">voorn. </span><span class=\"txtu\">1 </span><span class=\"txtu\">eyndelijck </span><span class=\"txtu\">haar </span><span class=\"txtu\">met </span><span class=\"txtu\">een </span><span class=\"txtu\">briefje </span><span class=\"txtu\">van </span><span class=\"txtu\">zijn </span><span class=\"txtu\">eygen </span><span class=\"txtu\">hand </span><span class=\"txtu\">ontsloegh </span><span class=\"txtu\">en </span><span class=\"txtu\">de</span></div>"
      ],
      "text/plain": [
       "<IPython.core.display.HTML object>"
      ]
     },
     "metadata": {},
     "output_type": "display_data"
    },
    {
     "data": {
      "text/html": [
       "<div class=\"\"><span class=\"tfsechead \"><span class=\"ltr\"><a target=\"_blank\" href=\"http://resources.huygens.knaw.nl/retroboeken/generalemissiven/#page=732&amp;source=4\" title=\"Show this document on Huygens\" sec=\"4 717:2\">4 717:2</a></span></span>  <span class=\"txtu\">borgtogt </span><span class=\"txtu\">voor </span><span class=\"txtu\">zijn </span><span class=\"txtu\">particulier </span><span class=\"txtu\">overnam, </span><span class=\"txtu\">ondertusschen </span><span class=\"txtu\">dat </span><span class=\"txtu\">desen </span><span class=\"txtu\">Intje </span><span class=\"txtu\">Boang </span><span class=\"txtu\">een</span></div>"
      ],
      "text/plain": [
       "<IPython.core.display.HTML object>"
      ]
     },
     "metadata": {},
     "output_type": "display_data"
    },
    {
     "data": {
      "text/html": [
       "<div class=\"\"><span class=\"tfsechead \"><span class=\"ltr\"><a target=\"_blank\" href=\"http://resources.huygens.knaw.nl/retroboeken/generalemissiven/#page=732&amp;source=4\" title=\"Show this document on Huygens\" sec=\"4 717:3\">4 717:3</a></span></span>  <span class=\"txtu\">en </span><span class=\"txtu\">andermaal </span><span class=\"txtu\">door </span><span class=\"txtu\">de </span><span class=\"txtu\">onse </span><span class=\"txtu\">op </span><span class=\"txtu\">Macassar </span><span class=\"txtu\">in </span><span class=\"txtu\">hegtenis </span><span class=\"txtu\">is </span><span class=\"txtu\">genomen, </span><span class=\"txtu\">daar </span><span class=\"txtu\">hij </span><span class=\"txtu\">thans </span><span class=\"txtu\">oock</span></div>"
      ],
      "text/plain": [
       "<IPython.core.display.HTML object>"
      ]
     },
     "metadata": {},
     "output_type": "display_data"
    },
    {
     "data": {
      "text/html": [
       "<div class=\"\"><span class=\"tfsechead \"><span class=\"ltr\"><a target=\"_blank\" href=\"http://resources.huygens.knaw.nl/retroboeken/generalemissiven/#page=732&amp;source=4\" title=\"Show this document on Huygens\" sec=\"4 717:4\">4 717:4</a></span></span>  <span class=\"txtu\">in </span><span class=\"txtu\">sit </span><span class=\"txtu\">om </span><span class=\"txtu\">hem </span><span class=\"txtu\">alsoo </span><span class=\"txtu\">te </span><span class=\"txtu\">doen </span><span class=\"txtu\">geven, </span><span class=\"txtu\">’tgeen </span><span class=\"txtu\">hij </span><span class=\"txtu\">nogh </span><span class=\"txtu\">mogte </span><span class=\"txtu\">besitten. </span><span class=\"txtu\">Duysentrsd. </span></div>"
      ],
      "text/plain": [
       "<IPython.core.display.HTML object>"
      ]
     },
     "metadata": {},
     "output_type": "display_data"
    },
    {
     "data": {
      "text/html": [
       "<div class=\"\"><span class=\"tfsechead \"><span class=\"ltr\"><a target=\"_blank\" href=\"http://resources.huygens.knaw.nl/retroboeken/generalemissiven/#page=732&amp;source=4\" title=\"Show this document on Huygens\" sec=\"4 717:5\">4 717:5</a></span></span>  <span class=\"txtu\">heeft </span><span class=\"txtu\">hij </span><span class=\"txtu\">in </span><span class=\"txtu\">twee </span><span class=\"txtu\">malen </span><span class=\"txtu\">opgebragt </span><span class=\"txtu\">en </span><span class=\"txtu\">voorts </span><span class=\"txtu\">de </span><span class=\"txtu\">Comp. </span><span class=\"txtu\">e </span><span class=\"txtu\">gewesen </span><span class=\"txtu\">op </span><span class=\"txtu\">een </span><span class=\"txtu\">dorp, </span><span class=\"txtu\">daer</span></div>"
      ],
      "text/plain": [
       "<IPython.core.display.HTML object>"
      ]
     },
     "metadata": {},
     "output_type": "display_data"
    },
    {
     "data": {
      "text/html": [
       "<div class=\"\"><span class=\"tfsechead \"><span class=\"ltr\"><a target=\"_blank\" href=\"http://resources.huygens.knaw.nl/retroboeken/generalemissiven/#page=732&amp;source=4\" title=\"Show this document on Huygens\" sec=\"4 717:6\">4 717:6</a></span></span>  <span class=\"txtu\">geen </span><span class=\"txtu\">huysen </span><span class=\"txtu\">en </span><span class=\"txtu\">stonden, </span><span class=\"txtu\">zulcx </span><span class=\"txtu\">wij </span><span class=\"txtu\">te </span><span class=\"txtu\">rade </span><span class=\"txtu\">zijn </span><span class=\"txtu\">geworden </span><span class=\"txtu\">de </span><span class=\"txtu\">eerste </span><span class=\"txtu\">borgen </span><span class=\"txtu\">te </span><span class=\"txtu\">doen</span></div>"
      ],
      "text/plain": [
       "<IPython.core.display.HTML object>"
      ]
     },
     "metadata": {},
     "output_type": "display_data"
    },
    {
     "data": {
      "text/html": [
       "<div class=\"\"><span class=\"tfsechead \"><span class=\"ltr\"><a target=\"_blank\" href=\"http://resources.huygens.knaw.nl/retroboeken/generalemissiven/#page=732&amp;source=4\" title=\"Show this document on Huygens\" sec=\"4 717:7\">4 717:7</a></span></span>  <span class=\"txtu\">aanspreken </span><span class=\"txtu\">om </span><span class=\"txtu\">betalinge </span><span class=\"txtu\">van </span><span class=\"txtu\">capit. </span><span class=\"txtu\">1 </span><span class=\"txtu\">en </span><span class=\"txtu\">intrest, </span><span class=\"txtu\">sullende </span><span class=\"txtu\">overbodigh </span><span class=\"txtu\"><span class=\"note\"></span></span><span class=\"txtu\"><span class=\"note\"></span></span></div>"
      ],
      "text/plain": [
       "<IPython.core.display.HTML object>"
      ]
     },
     "metadata": {},
     "output_type": "display_data"
    },
    {
     "data": {
      "text/html": [
       "<div class=\"\"><span class=\"tfsechead \"><span class=\"ltr\"><a target=\"_blank\" href=\"http://resources.huygens.knaw.nl/retroboeken/generalemissiven/#page=732&amp;source=4\" title=\"Show this document on Huygens\" sec=\"4 717:8\">4 717:8</a></span></span>  <span class=\"txtu\">wesen </span><span class=\"txtu\">om</span></div>"
      ],
      "text/plain": [
       "<IPython.core.display.HTML object>"
      ]
     },
     "metadata": {},
     "output_type": "display_data"
    },
    {
     "data": {
      "text/html": [
       "<div class=\"\"><span class=\"tfsechead \"><span class=\"ltr\"><a target=\"_blank\" href=\"http://resources.huygens.knaw.nl/retroboeken/generalemissiven/#page=732&amp;source=4\" title=\"Show this document on Huygens\" sec=\"4 717:9\">4 717:9</a></span></span>  <span class=\"txtu\">desen </span><span class=\"txtu\">man (</span><span class=\"txtu\">die </span><span class=\"txtu\">veele </span><span class=\"txtu\">klagten </span><span class=\"txtu\">doet) </span><span class=\"txtu\">hier </span><span class=\"txtu\">te </span><span class=\"txtu\">doen </span><span class=\"txtu\">overbrengen </span><span class=\"txtu\">en </span><span class=\"txtu\">aan </span><span class=\"txtu\">haar </span><span class=\"txtu\">te </span><span class=\"txtu\">leveren, </span></div>"
      ],
      "text/plain": [
       "<IPython.core.display.HTML object>"
      ]
     },
     "metadata": {},
     "output_type": "display_data"
    },
    {
     "data": {
      "text/html": [
       "<div class=\"\"><span class=\"tfsechead \"><span class=\"ltr\"><a target=\"_blank\" href=\"http://resources.huygens.knaw.nl/retroboeken/generalemissiven/#page=732&amp;source=4\" title=\"Show this document on Huygens\" sec=\"4 717:10\">4 717:10</a></span></span>  <span class=\"txtu\">als </span><span class=\"txtu\">zij </span><span class=\"txtu\">daarom </span><span class=\"txtu\">komen </span><span class=\"txtu\">te </span><span class=\"txtu\">versoecken, </span><span class=\"txtu\">want </span><span class=\"txtu\">het </span><span class=\"txtu\">komt </span><span class=\"txtu\">de </span><span class=\"txtu\">Comp. </span><span class=\"txtu\">e </span><span class=\"txtu\">niet </span><span class=\"txtu\">gelegen </span><span class=\"txtu\">met</span></div>"
      ],
      "text/plain": [
       "<IPython.core.display.HTML object>"
      ]
     },
     "metadata": {},
     "output_type": "display_data"
    },
    {
     "data": {
      "text/html": [
       "<div class=\"\"><span class=\"tfsechead \"><span class=\"ltr\"><a target=\"_blank\" href=\"http://resources.huygens.knaw.nl/retroboeken/generalemissiven/#page=732&amp;source=4\" title=\"Show this document on Huygens\" sec=\"4 717:11\">4 717:11</a></span></span>  <span class=\"txtu\">zulcke </span><span class=\"txtu\">sehurcken </span><span class=\"txtu\">reecq. </span><span class=\"txtu\">te </span><span class=\"txtu\">houden </span><span class=\"txtu\">en </span><span class=\"txtu\">hem </span><span class=\"txtu\">om </span><span class=\"txtu\">de </span><span class=\"txtu\">betalinge </span><span class=\"txtu\">langer </span><span class=\"txtu\">achter </span><span class=\"txtu\">aan </span><span class=\"txtu\">te</span></div>"
      ],
      "text/plain": [
       "<IPython.core.display.HTML object>"
      ]
     },
     "metadata": {},
     "output_type": "display_data"
    },
    {
     "data": {
      "text/html": [
       "<div class=\"\"><span class=\"tfsechead \"><span class=\"ltr\"><a target=\"_blank\" href=\"http://resources.huygens.knaw.nl/retroboeken/generalemissiven/#page=732&amp;source=4\" title=\"Show this document on Huygens\" sec=\"4 717:12\">4 717:12</a></span></span>  <span class=\"txtu\">loopen. </span></div>"
      ],
      "text/plain": [
       "<IPython.core.display.HTML object>"
      ]
     },
     "metadata": {},
     "output_type": "display_data"
    },
    {
     "data": {
      "text/html": [
       "<div class=\"\"><span class=\"tfsechead \"><span class=\"ltr\"><a target=\"_blank\" href=\"http://resources.huygens.knaw.nl/retroboeken/generalemissiven/#page=732&amp;source=4\" title=\"Show this document on Huygens\" sec=\"4 717:13\">4 717:13</a></span></span>  <span class=\"txtu\"><span class=\"remark\"></span></span><span class=\"txtu\"><span class=\"remark\"></span></span><span class=\"txtu\"><span class=\"remark\"></span></span><span class=\"txtu\"><span class=\"remark\"></span></span><span class=\"txtu\"><span class=\"remark\"></span></span><span class=\"txtu\"><span class=\"remark\"></span></span><span class=\"txtu\"><span class=\"remark\"></span></span><span class=\"txtu\"><span class=\"remark\"></span></span><span class=\"txtu\"><span class=\"remark\"></span></span><span class=\"txtu\"><span class=\"remark\"></span></span><span class=\"txtu\"><span class=\"remark\"></span></span><span class=\"txtu\"><span class=\"remark\"></span></span></div>"
      ],
      "text/plain": [
       "<IPython.core.display.HTML object>"
      ]
     },
     "metadata": {},
     "output_type": "display_data"
    },
    {
     "data": {
      "text/html": [
       "<div class=\"\"><span class=\"tfsechead \"><span class=\"ltr\"><a target=\"_blank\" href=\"http://resources.huygens.knaw.nl/retroboeken/generalemissiven/#page=732&amp;source=4\" title=\"Show this document on Huygens\" sec=\"4 717:14\">4 717:14</a></span></span>  <span class=\"txtu\"><span class=\"remark\"></span></span><span class=\"txtu\"><span class=\"remark\"></span></span><span class=\"txtu\"><span class=\"remark\"></span></span><span class=\"txtu\"><span class=\"remark\"></span></span><span class=\"txtu\"><span class=\"remark\"></span></span><span class=\"txtu\"><span class=\"remark\"></span></span><span class=\"txtu\"><span class=\"remark\"></span></span><span class=\"txtu\"><span class=\"remark\"></span></span><span class=\"txtu\"><span class=\"remark\"></span></span><span class=\"txtu\"><span class=\"remark\"></span></span><span class=\"txtu\"><span class=\"remark\"></span></span><span class=\"txtu\"><span class=\"remark\"></span></span><span class=\"txtu\"><span class=\"remark\"></span></span><span class=\"txtu\"><span class=\"remark\"></span></span></div>"
      ],
      "text/plain": [
       "<IPython.core.display.HTML object>"
      ]
     },
     "metadata": {},
     "output_type": "display_data"
    },
    {
     "data": {
      "text/html": [
       "<div class=\"\"><span class=\"tfsechead \"><span class=\"ltr\"><a target=\"_blank\" href=\"http://resources.huygens.knaw.nl/retroboeken/generalemissiven/#page=732&amp;source=4\" title=\"Show this document on Huygens\" sec=\"4 717:15\">4 717:15</a></span></span>  <span class=\"txtu\">hij - ) </span></div>"
      ],
      "text/plain": [
       "<IPython.core.display.HTML object>"
      ]
     },
     "metadata": {},
     "output_type": "display_data"
    },
    {
     "data": {
      "text/html": [
       "<div class=\"\"><span class=\"tfsechead \"><span class=\"ltr\"><a target=\"_blank\" href=\"http://resources.huygens.knaw.nl/retroboeken/generalemissiven/#page=732&amp;source=4\" title=\"Show this document on Huygens\" sec=\"4 717:16\">4 717:16</a></span></span>  <span class=\"txtu\">tegens </span><span class=\"txtu\">eenige </span><span class=\"txtu\">rebellen </span><span class=\"txtu\">was </span><span class=\"txtu\">te </span><span class=\"txtu\">velde </span><span class=\"txtu\">getrocken, </span><span class=\"txtu\">waartoe </span><span class=\"txtu\">zij </span><span class=\"txtu\">actiën</span></div>"
      ],
      "text/plain": [
       "<IPython.core.display.HTML object>"
      ]
     },
     "metadata": {},
     "output_type": "display_data"
    },
    {
     "data": {
      "text/html": [
       "<div class=\"\"><span class=\"tfsechead \"><span class=\"ltr\"><a target=\"_blank\" href=\"http://resources.huygens.knaw.nl/retroboeken/generalemissiven/#page=732&amp;source=4\" title=\"Show this document on Huygens\" sec=\"4 717:17\">4 717:17</a></span></span>  <span class=\"txtu\">smeeden, </span><span class=\"txtu\">als </span><span class=\"txtu\">zij </span><span class=\"txtu\">een </span><span class=\"txtu\">roof </span><span class=\"txtu\">van </span><span class=\"txtu\">menschen </span><span class=\"txtu\">willen </span><span class=\"txtu\">doen, </span><span class=\"txtu\">die </span><span class=\"txtu\">zij </span><span class=\"txtu\">verkopen </span><span class=\"txtu\">ende </span><span class=\"txtu\">verhandelen. </span></div>"
      ],
      "text/plain": [
       "<IPython.core.display.HTML object>"
      ]
     },
     "metadata": {},
     "output_type": "display_data"
    },
    {
     "data": {
      "text/html": [
       "<div class=\"\"><span class=\"tfsechead \"><span class=\"ltr\"><a target=\"_blank\" href=\"http://resources.huygens.knaw.nl/retroboeken/generalemissiven/#page=732&amp;source=4\" title=\"Show this document on Huygens\" sec=\"4 717:18\">4 717:18</a></span></span>  </div>"
      ],
      "text/plain": [
       "<IPython.core.display.HTML object>"
      ]
     },
     "metadata": {},
     "output_type": "display_data"
    },
    {
     "data": {
      "text/html": [
       "<div class=\"\"><span class=\"tfsechead \"><span class=\"ltr\"><a target=\"_blank\" href=\"http://resources.huygens.knaw.nl/retroboeken/generalemissiven/#page=732&amp;source=4\" title=\"Show this document on Huygens\" sec=\"4 717:19\">4 717:19</a></span></span>  <span class=\"txtu\"><span class=\"remark\"></span></span><span class=\"txtu\"><span class=\"remark\"></span></span><span class=\"txtu\"><span class=\"remark\"></span></span><span class=\"txtu\"><span class=\"remark\"></span></span><span class=\"txtu\"><span class=\"remark\"></span></span><span class=\"txtu\"><span class=\"remark\"></span></span><span class=\"txtu\"><span class=\"remark\"></span></span><span class=\"txtu\"><span class=\"remark\"></span></span><span class=\"txtu\"><span class=\"remark\"></span></span><span class=\"txtu\"><span class=\"remark\"></span></span><span class=\"txtu\"><span class=\"remark\"></span></span></div>"
      ],
      "text/plain": [
       "<IPython.core.display.HTML object>"
      ]
     },
     "metadata": {},
     "output_type": "display_data"
    },
    {
     "data": {
      "text/html": [
       "<div class=\"\"><span class=\"tfsechead \"><span class=\"ltr\"><a target=\"_blank\" href=\"http://resources.huygens.knaw.nl/retroboeken/generalemissiven/#page=732&amp;source=4\" title=\"Show this document on Huygens\" sec=\"4 717:20\">4 717:20</a></span></span>  <span class=\"txtu\"><span class=\"remark\"></span></span><span class=\"txtu\"><span class=\"remark\"></span></span><span class=\"txtu\"><span class=\"remark\"></span></span><span class=\"txtu\"><span class=\"remark\"></span></span><span class=\"txtu\"><span class=\"remark\"></span></span><span class=\"txtu\"><span class=\"remark\"></span></span><span class=\"txtu\"><span class=\"remark\"></span></span><span class=\"txtu\"><span class=\"remark\"></span></span><span class=\"txtu\"><span class=\"remark\"></span></span><span class=\"txtu\"><span class=\"remark\"></span></span><span class=\"txtu\"><span class=\"remark\"></span></span><span class=\"txtu\"><span class=\"remark\"></span></span><span class=\"txtu\"><span class=\"remark\"></span></span><span class=\"txtu\"><span class=\"remark\"></span></span><span class=\"txtu\"><span class=\"remark\"></span></span><span class=\"txtu\"><span class=\"remark\"></span></span></div>"
      ],
      "text/plain": [
       "<IPython.core.display.HTML object>"
      ]
     },
     "metadata": {},
     "output_type": "display_data"
    },
    {
     "data": {
      "text/html": [
       "<div class=\"\"><span class=\"tfsechead \"><span class=\"ltr\"><a target=\"_blank\" href=\"http://resources.huygens.knaw.nl/retroboeken/generalemissiven/#page=732&amp;source=4\" title=\"Show this document on Huygens\" sec=\"4 717:21\">4 717:21</a></span></span>  <span class=\"txtu\"><span class=\"remark\"></span></span><span class=\"txtu\"><span class=\"remark\"></span></span><span class=\"txtu\"><span class=\"remark\"></span></span><span class=\"txtu\"><span class=\"remark\"></span></span><span class=\"txtu\"><span class=\"remark\"></span></span><span class=\"txtu\"><span class=\"remark\"></span></span><span class=\"txtu\"><span class=\"remark\"></span></span><span class=\"txtu\"><span class=\"remark\"></span></span><span class=\"txtu\"><span class=\"remark\"></span></span><span class=\"txtu\"><span class=\"remark\"></span></span><span class=\"txtu\"><span class=\"remark\"></span></span><span class=\"txtu\"><span class=\"remark\"></span></span><span class=\"txtu\"><span class=\"remark\"></span></span></div>"
      ],
      "text/plain": [
       "<IPython.core.display.HTML object>"
      ]
     },
     "metadata": {},
     "output_type": "display_data"
    },
    {
     "data": {
      "text/html": [
       "<div class=\"\"><span class=\"tfsechead \"><span class=\"ltr\"><a target=\"_blank\" href=\"http://resources.huygens.knaw.nl/retroboeken/generalemissiven/#page=732&amp;source=4\" title=\"Show this document on Huygens\" sec=\"4 717:22\">4 717:22</a></span></span>  <span class=\"txtu\"><span class=\"remark\"></span></span><span class=\"txtu\"><span class=\"remark\"></span></span><span class=\"txtu\"><span class=\"remark\"></span></span><span class=\"txtu\"><span class=\"remark\"></span></span><span class=\"txtu\"><span class=\"remark\"></span></span><span class=\"txtu\"><span class=\"remark\"></span></span><span class=\"txtu\"><span class=\"remark\"></span></span><span class=\"txtu\"><span class=\"remark\"></span></span><span class=\"txtu\"><span class=\"remark\"></span></span><span class=\"txtu\"><span class=\"remark\"></span></span><span class=\"txtu\"><span class=\"remark\"></span></span><span class=\"txtu\"><span class=\"remark\"></span></span><span class=\"txtu\"><span class=\"remark\"></span></span><span class=\"txtu\"><span class=\"remark\"></span></span></div>"
      ],
      "text/plain": [
       "<IPython.core.display.HTML object>"
      ]
     },
     "metadata": {},
     "output_type": "display_data"
    },
    {
     "data": {
      "text/html": [
       "<div class=\"\"><span class=\"tfsechead \"><span class=\"ltr\"><a target=\"_blank\" href=\"http://resources.huygens.knaw.nl/retroboeken/generalemissiven/#page=732&amp;source=4\" title=\"Show this document on Huygens\" sec=\"4 717:23\">4 717:23</a></span></span>  <span class=\"txtu\"><span class=\"remark\"></span></span><span class=\"txtu\"><span class=\"remark\"></span></span><span class=\"txtu\"><span class=\"remark\"></span></span><span class=\"txtu\"><span class=\"remark\"></span></span><span class=\"txtu\"><span class=\"remark\"></span></span><span class=\"txtu\"><span class=\"remark\"></span></span><span class=\"txtu\"><span class=\"remark\"></span></span><span class=\"txtu\"><span class=\"remark\"></span></span><span class=\"txtu\"><span class=\"remark\"></span></span><span class=\"txtu\"><span class=\"remark\"></span></span><span class=\"txtu\"><span class=\"remark\"></span></span><span class=\"txtu\"><span class=\"remark\"></span></span><span class=\"txtu\"><span class=\"remark\"></span></span><span class=\"txtu\"><span class=\"remark\"></span></span></div>"
      ],
      "text/plain": [
       "<IPython.core.display.HTML object>"
      ]
     },
     "metadata": {},
     "output_type": "display_data"
    },
    {
     "data": {
      "text/html": [
       "<div class=\"\"><span class=\"tfsechead \"><span class=\"ltr\"><a target=\"_blank\" href=\"http://resources.huygens.knaw.nl/retroboeken/generalemissiven/#page=732&amp;source=4\" title=\"Show this document on Huygens\" sec=\"4 717:24\">4 717:24</a></span></span>  </div>"
      ],
      "text/plain": [
       "<IPython.core.display.HTML object>"
      ]
     },
     "metadata": {},
     "output_type": "display_data"
    },
    {
     "data": {
      "text/html": [
       "<div class=\"\"><span class=\"tfsechead \"><span class=\"ltr\"><a target=\"_blank\" href=\"http://resources.huygens.knaw.nl/retroboeken/generalemissiven/#page=732&amp;source=4\" title=\"Show this document on Huygens\" sec=\"4 717:25\">4 717:25</a></span></span>  <span class=\"txtu\">De </span><span class=\"txtu\">Kon. </span><span class=\"txtu\">van </span><span class=\"txtu\">Goa </span><span class=\"txtu\">met </span><span class=\"txtu\">zijne </span><span class=\"txtu\">Macassaren </span><span class=\"txtu\">was </span><span class=\"txtu\">met </span><span class=\"txtu\">volkomen </span><span class=\"txtu\">vergenoeginge </span><span class=\"txtu\">van</span></div>"
      ],
      "text/plain": [
       "<IPython.core.display.HTML object>"
      ]
     },
     "metadata": {},
     "output_type": "display_data"
    },
    {
     "data": {
      "text/html": [
       "<div class=\"\"><span class=\"tfsechead \"><span class=\"ltr\"><a target=\"_blank\" href=\"http://resources.huygens.knaw.nl/retroboeken/generalemissiven/#page=732&amp;source=4\" title=\"Show this document on Huygens\" sec=\"4 717:26\">4 717:26</a></span></span>  <span class=\"txtu\">Radja </span><span class=\"txtu\">Bone </span><span class=\"txtu\">uyt </span><span class=\"txtu\">’t </span><span class=\"txtu\">quartier </span><span class=\"txtu\">der </span><span class=\"txtu\">Boegys </span><span class=\"txtu\">benoorden </span><span class=\"txtu\">de </span><span class=\"txtu\">reviere </span><span class=\"txtu\">Somboupa </span><span class=\"txtu\">toegestaen</span></div>"
      ],
      "text/plain": [
       "<IPython.core.display.HTML object>"
      ]
     },
     "metadata": {},
     "output_type": "display_data"
    },
    {
     "data": {
      "text/html": [
       "<div class=\"\"><span class=\"tfsechead \"><span class=\"ltr\"><a target=\"_blank\" href=\"http://resources.huygens.knaw.nl/retroboeken/generalemissiven/#page=732&amp;source=4\" title=\"Show this document on Huygens\" sec=\"4 717:27\">4 717:27</a></span></span>  <span class=\"txtu\">zijne </span><span class=\"txtu\">negorye </span><span class=\"txtu\">te </span><span class=\"txtu\">maken, </span><span class=\"txtu\">dat </span><span class=\"txtu\">wij </span><span class=\"txtu\">voor </span><span class=\"txtu\">een </span><span class=\"txtu\">zeer </span><span class=\"txtu\">goet </span><span class=\"txtu\">werck </span><span class=\"txtu\">aenzien. </span></div>"
      ],
      "text/plain": [
       "<IPython.core.display.HTML object>"
      ]
     },
     "metadata": {},
     "output_type": "display_data"
    },
    {
     "data": {
      "text/html": [
       "<div class=\"\"><span class=\"tfsechead \"><span class=\"ltr\"><a target=\"_blank\" href=\"http://resources.huygens.knaw.nl/retroboeken/generalemissiven/#page=732&amp;source=4\" title=\"Show this document on Huygens\" sec=\"4 717:28\">4 717:28</a></span></span>  <span class=\"txtu\"><span class=\"remark\"></span></span><span class=\"txtu\"><span class=\"remark\"></span></span><span class=\"txtu\"><span class=\"remark\"></span></span><span class=\"txtu\"><span class=\"remark\"></span></span><span class=\"txtu\"><span class=\"remark\"></span></span><span class=\"txtu\"><span class=\"remark\"></span></span><span class=\"txtu\"><span class=\"remark\"></span></span><span class=\"txtu\"><span class=\"remark\"></span></span><span class=\"txtu\"><span class=\"remark\"></span></span><span class=\"txtu\"><span class=\"remark\"></span></span><span class=\"txtu\"><span class=\"remark\"></span></span><span class=\"txtu\"><span class=\"remark\"></span></span></div>"
      ],
      "text/plain": [
       "<IPython.core.display.HTML object>"
      ]
     },
     "metadata": {},
     "output_type": "display_data"
    },
    {
     "data": {
      "text/html": [
       "<div class=\"\"><span class=\"tfsechead \"><span class=\"ltr\"><a target=\"_blank\" href=\"http://resources.huygens.knaw.nl/retroboeken/generalemissiven/#page=732&amp;source=4\" title=\"Show this document on Huygens\" sec=\"4 717:29\">4 717:29</a></span></span>  <span class=\"txtu\"><span class=\"remark\"></span></span><span class=\"txtu\"><span class=\"remark\"></span></span><span class=\"txtu\"><span class=\"remark\"></span></span><span class=\"txtu\"><span class=\"remark\"></span></span><span class=\"txtu\"><span class=\"remark\"></span></span><span class=\"txtu\"><span class=\"remark\"></span></span><span class=\"txtu\"><span class=\"remark\"></span></span><span class=\"txtu\"><span class=\"remark\"></span></span></div>"
      ],
      "text/plain": [
       "<IPython.core.display.HTML object>"
      ]
     },
     "metadata": {},
     "output_type": "display_data"
    },
    {
     "data": {
      "text/html": [
       "<div class=\"\"><span class=\"tfsechead \"><span class=\"ltr\"><a target=\"_blank\" href=\"http://resources.huygens.knaw.nl/retroboeken/generalemissiven/#page=732&amp;source=4\" title=\"Show this document on Huygens\" sec=\"4 717:30\">4 717:30</a></span></span>  </div>"
      ],
      "text/plain": [
       "<IPython.core.display.HTML object>"
      ]
     },
     "metadata": {},
     "output_type": "display_data"
    },
    {
     "data": {
      "text/html": [
       "<div class=\"\"><span class=\"tfsechead \"><span class=\"ltr\"><a target=\"_blank\" href=\"http://resources.huygens.knaw.nl/retroboeken/generalemissiven/#page=732&amp;source=4\" title=\"Show this document on Huygens\" sec=\"4 717:31\">4 717:31</a></span></span>  <span class=\"txtu\">den </span><span class=\"txtu\">ouden </span><span class=\"txtu\">toerilia </span><span class=\"txtu\">gampo </span><span class=\"txtu\"><span class=\"note\"></span></span><span class=\"txtu\"><span class=\"note\"></span></span><span class=\"txtu\"><span class=\"note\"></span></span><span class=\"txtu\"><span class=\"note\"></span></span><span class=\"txtu\"><span class=\"note\"></span></span><span class=\"txtu\"><span class=\"note\"></span></span><span class=\"txtu\"><span class=\"note\"></span></span><span class=\"txtu\"><span class=\"note\"></span></span><span class=\"txtu\"><span class=\"note\"></span></span><span class=\"txtu\"><span class=\"note\"></span></span><span class=\"txtu\"><span class=\"note\"></span></span><span class=\"txtu\"><span class=\"note\"></span></span></div>"
      ],
      "text/plain": [
       "<IPython.core.display.HTML object>"
      ]
     },
     "metadata": {},
     "output_type": "display_data"
    },
    {
     "data": {
      "text/html": [
       "<div class=\"\"><span class=\"tfsechead \"><span class=\"ltr\"><a target=\"_blank\" href=\"http://resources.huygens.knaw.nl/retroboeken/generalemissiven/#page=732&amp;source=4\" title=\"Show this document on Huygens\" sec=\"4 717:32\">4 717:32</a></span></span>  <span class=\"txtu\">so </span><span class=\"txtu\">wert </span><span class=\"txtu\">den </span><span class=\"txtu\">rijxcanselier </span><span class=\"txtu\">off </span><span class=\"txtu\">eerste</span></div>"
      ],
      "text/plain": [
       "<IPython.core.display.HTML object>"
      ]
     },
     "metadata": {},
     "output_type": "display_data"
    },
    {
     "data": {
      "text/html": [
       "<div class=\"\"><span class=\"tfsechead \"><span class=\"ltr\"><a target=\"_blank\" href=\"http://resources.huygens.knaw.nl/retroboeken/generalemissiven/#page=732&amp;source=4\" title=\"Show this document on Huygens\" sec=\"4 717:33\">4 717:33</a></span></span>  <span class=\"txtu\">minister </span><span class=\"txtu\">van </span><span class=\"txtu\">dat </span><span class=\"txtu\">Coningrijckje </span><span class=\"txtu\">genaamt) </span><span class=\"txtu\">zijn </span><span class=\"txtu\">leven </span><span class=\"txtu\">geeyndigt </span><span class=\"txtu\">heeft, </span><span class=\"txtu\">in </span><span class=\"txtu\">wiens</span></div>"
      ],
      "text/plain": [
       "<IPython.core.display.HTML object>"
      ]
     },
     "metadata": {},
     "output_type": "display_data"
    },
    {
     "data": {
      "text/html": [
       "<div class=\"\"><span class=\"tfsechead \"><span class=\"ltr\"><a target=\"_blank\" href=\"http://resources.huygens.knaw.nl/retroboeken/generalemissiven/#page=732&amp;source=4\" title=\"Show this document on Huygens\" sec=\"4 717:34\">4 717:34</a></span></span>  <span class=\"txtu\">plaatse </span><span class=\"txtu\">wij </span><span class=\"txtu\">gerecommandeert </span><span class=\"txtu\">hebben, </span><span class=\"txtu\">dat </span><span class=\"txtu\">zij </span><span class=\"txtu\">een </span><span class=\"txtu\">goet, </span><span class=\"txtu\">moderaat </span><span class=\"txtu\">man </span><span class=\"txtu\">weder </span><span class=\"txtu\">zullen</span></div>"
      ],
      "text/plain": [
       "<IPython.core.display.HTML object>"
      ]
     },
     "metadata": {},
     "output_type": "display_data"
    },
    {
     "data": {
      "text/html": [
       "<div class=\"\"><span class=\"tfsechead \"><span class=\"ltr\"><a target=\"_blank\" href=\"http://resources.huygens.knaw.nl/retroboeken/generalemissiven/#page=732&amp;source=4\" title=\"Show this document on Huygens\" sec=\"4 717:35\">4 717:35</a></span></span>  <span class=\"txtu\">helpen </span><span class=\"txtu\">stellen. </span></div>"
      ],
      "text/plain": [
       "<IPython.core.display.HTML object>"
      ]
     },
     "metadata": {},
     "output_type": "display_data"
    },
    {
     "data": {
      "text/html": [
       "<div class=\"\"><span class=\"tfsechead \"><span class=\"ltr\"><a target=\"_blank\" href=\"http://resources.huygens.knaw.nl/retroboeken/generalemissiven/#page=732&amp;source=4\" title=\"Show this document on Huygens\" sec=\"4 717:36\">4 717:36</a></span></span>  <span class=\"txtu\"><span class=\"remark\"></span></span><span class=\"txtu\"><span class=\"remark\"></span></span><span class=\"txtu\"><span class=\"remark\"></span></span><span class=\"txtu\"><span class=\"remark\"></span></span><span class=\"txtu\"><span class=\"remark\"></span></span><span class=\"txtu\"><span class=\"remark\"></span></span><span class=\"txtu\"><span class=\"remark\"></span></span><span class=\"txtu\"><span class=\"remark\"></span></span><span class=\"txtu\"><span class=\"remark\"></span></span><span class=\"txtu\"><span class=\"remark\"></span></span><span class=\"txtu\"><span class=\"remark\"></span></span><span class=\"txtu\"><span class=\"remark\"></span></span><span class=\"txtu\"><span class=\"remark\"></span></span><span class=\"txtu\"><span class=\"remark\"></span></span></div>"
      ],
      "text/plain": [
       "<IPython.core.display.HTML object>"
      ]
     },
     "metadata": {},
     "output_type": "display_data"
    },
    {
     "data": {
      "text/html": [
       "<div class=\"\"><span class=\"tfsechead \"><span class=\"ltr\"><a target=\"_blank\" href=\"http://resources.huygens.knaw.nl/retroboeken/generalemissiven/#page=732&amp;source=4\" title=\"Show this document on Huygens\" sec=\"4 717:37\">4 717:37</a></span></span>  <span class=\"txtu\"><span class=\"remark\"></span></span><span class=\"txtu\"><span class=\"remark\"></span></span><span class=\"txtu\"><span class=\"remark\"></span></span><span class=\"txtu\"><span class=\"remark\"></span></span><span class=\"txtu\"><span class=\"remark\"></span></span><span class=\"txtu\"><span class=\"remark\"></span></span><span class=\"txtu\"><span class=\"remark\"></span></span></div>"
      ],
      "text/plain": [
       "<IPython.core.display.HTML object>"
      ]
     },
     "metadata": {},
     "output_type": "display_data"
    },
    {
     "data": {
      "text/html": [
       "<div class=\"\"><span class=\"tfsechead \"><span class=\"ltr\"><a target=\"_blank\" href=\"http://resources.huygens.knaw.nl/retroboeken/generalemissiven/#page=732&amp;source=4\" title=\"Show this document on Huygens\" sec=\"4 717:38\">4 717:38</a></span></span>  </div>"
      ],
      "text/plain": [
       "<IPython.core.display.HTML object>"
      ]
     },
     "metadata": {},
     "output_type": "display_data"
    },
    {
     "data": {
      "text/html": [
       "<div class=\"\"><span class=\"tfsechead \"><span class=\"ltr\"><a target=\"_blank\" href=\"http://resources.huygens.knaw.nl/retroboeken/generalemissiven/#page=732&amp;source=4\" title=\"Show this document on Huygens\" sec=\"4 717:39\">4 717:39</a></span></span>  <span class=\"txtu\">Schijnende, </span><span class=\"txtu\">dat </span><span class=\"txtu\">de </span><span class=\"txtu\">particuliere </span><span class=\"txtu\">haer </span><span class=\"txtu\">op </span><span class=\"txtu\">den </span><span class=\"txtu\">slavenhandel </span><span class=\"txtu\">tersluyck </span><span class=\"txtu\">beter </span><span class=\"txtu\">verstaen</span></div>"
      ],
      "text/plain": [
       "<IPython.core.display.HTML object>"
      ]
     },
     "metadata": {},
     "output_type": "display_data"
    },
    {
     "data": {
      "text/html": [
       "<div class=\"\"><span class=\"tfsechead \"><span class=\"ltr\"><a target=\"_blank\" href=\"http://resources.huygens.knaw.nl/retroboeken/generalemissiven/#page=732&amp;source=4\" title=\"Show this document on Huygens\" sec=\"4 717:40\">4 717:40</a></span></span>  <span class=\"txtu\">als </span><span class=\"txtu\">des </span><span class=\"txtu\">Comp. </span><span class=\"txtu\">8 </span><span class=\"txtu\">residenten, </span><span class=\"txtu\">van </span><span class=\"txtu\">welcke </span><span class=\"txtu\">sij </span><span class=\"txtu\">3 </span><span class=\"txtu\">Bougise </span><span class=\"txtu\">vaertuygen, </span><span class=\"txtu\">die </span><span class=\"txtu\">sonder</span></div>"
      ],
      "text/plain": [
       "<IPython.core.display.HTML object>"
      ]
     },
     "metadata": {},
     "output_type": "display_data"
    },
    {
     "data": {
      "text/html": [
       "<div class=\"\"><span class=\"tfsechead \"><span class=\"ltr\"><a target=\"_blank\" href=\"http://resources.huygens.knaw.nl/retroboeken/generalemissiven/#page=732&amp;source=4\" title=\"Show this document on Huygens\" sec=\"4 717:41\">4 717:41</a></span></span>  <span class=\"txtu\">paspoorten </span><span class=\"txtu\">aldaar </span><span class=\"txtu\">ten </span><span class=\"txtu\">handel </span><span class=\"txtu\">gevonden </span><span class=\"txtu\">wierden, </span><span class=\"txtu\">hebbende </span><span class=\"txtu\">aangeslagen, </span><span class=\"txtu\">dogh </span><span class=\"txtu\">eene</span></div>"
      ],
      "text/plain": [
       "<IPython.core.display.HTML object>"
      ]
     },
     "metadata": {},
     "output_type": "display_data"
    },
    {
     "data": {
      "text/html": [
       "<div class=\"\"><span class=\"tfsechead \"><span class=\"ltr\"><a target=\"_blank\" href=\"http://resources.huygens.knaw.nl/retroboeken/generalemissiven/#page=732&amp;source=4\" title=\"Show this document on Huygens\" sec=\"4 717:42\">4 717:42</a></span></span>  </div>"
      ],
      "text/plain": [
       "<IPython.core.display.HTML object>"
      ]
     },
     "metadata": {},
     "output_type": "display_data"
    }
   ],
   "source": [
    "for line in lines:\n",
    "    A.plain(line, fmt=\"layout-orig\")"
   ]
  },
  {
   "cell_type": "markdown",
   "metadata": {},
   "source": [
    "# Drilling down\n",
    "\n",
    "Lets navigate to individual words, we pick a few lines from this page we have seen in various ways."
   ]
  },
  {
   "cell_type": "code",
   "execution_count": 19,
   "metadata": {},
   "outputs": [
    {
     "data": {
      "text/html": [
       "<div class=\"\"><span class=\"tfsechead \"><span class=\"ltr\"><a target=\"_blank\" href=\"http://resources.huygens.knaw.nl/retroboeken/generalemissiven/#page=732&amp;source=4\" title=\"Show this document on Huygens\" sec=\"4 717:5\">4 717:5</a></span></span>  <span class=\"txtu\">heeft </span><span class=\"txtu\">hij </span><span class=\"txtu\">in </span><span class=\"txtu\">twee </span><span class=\"txtu\">malen </span><span class=\"txtu\">opgebragt </span><span class=\"txtu\">en </span><span class=\"txtu\">voorts </span><span class=\"txtu\">de </span><span class=\"txtu\">Comp. </span><span class=\"txtu\">e </span><span class=\"txtu\">gewesen </span><span class=\"txtu\">op </span><span class=\"txtu\">een </span><span class=\"txtu\">dorp, </span><span class=\"txtu\">daer </span></div>"
      ],
      "text/plain": [
       "<IPython.core.display.HTML object>"
      ]
     },
     "metadata": {},
     "output_type": "display_data"
    },
    {
     "data": {
      "text/plain": [
       "(1504915,\n",
       " 1504916,\n",
       " 1504917,\n",
       " 1504918,\n",
       " 1504919,\n",
       " 1504920,\n",
       " 1504921,\n",
       " 1504922,\n",
       " 1504923,\n",
       " 1504924,\n",
       " 1504925,\n",
       " 1504926,\n",
       " 1504927,\n",
       " 1504928,\n",
       " 1504929,\n",
       " 1504930)"
      ]
     },
     "execution_count": 19,
     "metadata": {},
     "output_type": "execute_result"
    }
   ],
   "source": [
    "lineNum = 5\n",
    "ln = A.nodeFromSectionStr(f\"4 717:{lineNum}\")\n",
    "A.plain(ln)\n",
    "\n",
    "words = L.d(ln, otype=\"word\")\n",
    "words"
   ]
  },
  {
   "cell_type": "markdown",
   "metadata": {},
   "source": [
    "Let's make a table of the words around this line and the values of some features that they carry:"
   ]
  },
  {
   "cell_type": "code",
   "execution_count": 20,
   "metadata": {},
   "outputs": [
    {
     "data": {
      "text/plain": [
       "[('door', None, 'door', None, ' ', None, 1, None),\n",
       " ('Sjivadji', None, 'Sjivadji', None, ' ', None, 1, None),\n",
       " ('en', None, 'en', None, ' ', None, 1, None),\n",
       " ('de', None, 'de', None, ' ', None, 1, None),\n",
       " ('hoofden', None, 'hoofden', None, ' ', None, 1, None),\n",
       " ('van', None, 'van', None, ' ', None, 1, None),\n",
       " ('Bijapur', None, 'Bijapur', None, '; ', None, 1, None),\n",
       " ('de', None, 'de', None, ' ', None, 1, None),\n",
       " ('resident', None, 'resident', None, ' ', None, 1, None),\n",
       " ('Leendertsz', None, 'Leendertsz', None, '. ', None, 1, None),\n",
       " ('raadt', None, 'raadt', None, ' ', None, 1, None),\n",
       " ('aan', None, 'aan', None, ' ', None, 1, None),\n",
       " ('hun', None, 'hun', None, ' ', None, 1, None),\n",
       " ('te', None, 'te', None, ' ', None, 1, None),\n",
       " ('laten', None, 'laten', None, ' ', None, 1, None),\n",
       " ('weten', None, 'weten', None, ', ', None, 1, None),\n",
       " ('dat', None, 'dat', None, ' ', None, 1, None),\n",
       " ('de', None, 'de', None, ' ', None, 1, None),\n",
       " ('vestiging', None, 'vestiging', None, ' ', None, 1, None),\n",
       " ('wordt', None, 'wordt', None, ' ', None, 1, None),\n",
       " ('opgeheven', None, 'opgeheven', None, ', ', None, 1, None),\n",
       " ('indien', None, 'indien', None, ' ', None, 1, None),\n",
       " ('zij', None, 'zij', None, ' ', None, 1, None),\n",
       " ('zo', None, 'zo', None, ' ', None, 1, None),\n",
       " ('voortgaan', None, 'voortgaan', None, ' » ', None, 1, None),\n",
       " ('', None, None, None, '', None, None, None),\n",
       " ('Wij', 'Wij', None, None, ' ', 1, None, None),\n",
       " ('twijfelen', 'twijfelen', None, None, ', ', 1, None, None),\n",
       " ('of', 'of', None, None, ' ', 1, None, None),\n",
       " ('sij', 'sij', None, None, ' ', 1, None, None),\n",
       " ('sooveel', 'sooveel', None, None, ' ', 1, None, None),\n",
       " ('werck', 'werck', None, None, ' ', 1, None, None),\n",
       " ('al', 'al', None, None, ' ', 1, None, None),\n",
       " ('van', 'van', None, None, ' ', 1, None, None),\n",
       " ('ons', 'ons', None, None, ' ', 1, None, None),\n",
       " ('soude', 'soude', None, None, ' ', 1, None, None),\n",
       " ('maecken', 'maecken', None, None, ', ', 1, None, None),\n",
       " ('omdat', 'omdat', None, None, ' ', 1, None, None),\n",
       " ('se', 'se', None, None, ' ', 1, None, None),\n",
       " ('de', 'de', None, None, ' ', 1, None, None),\n",
       " ('Engelsen', 'Engelsen', None, None, ' ', 1, None, None),\n",
       " ('ende', 'ende', None, None, ' ', 1, None, None),\n",
       " ('nu', 'nu', None, None, ' ', 1, None, None),\n",
       " ('oocq', 'oocq', None, None, ' ', 1, None, None),\n",
       " ('de', 'de', None, None, ' ', 1, None, None),\n",
       " ('Francen', 'Francen', None, None, ' ', 1, None, None),\n",
       " ('bij', 'bij', None, None, ' ', 1, None, None),\n",
       " ('de', 'de', None, None, ' ', 1, None, None),\n",
       " ('wercken', 'wercken', None, None, ' ', 1, None, None),\n",
       " ('hebben', 'hebben', None, None, ' ', 1, None, None),\n",
       " ('ende', 'ende', None, None, ' ', 1, None, None),\n",
       " ('van', 'van', None, None, ' ', 1, None, None),\n",
       " ('dewelcke', 'dewelcke', None, None, ' ', 1, None, None),\n",
       " ('sij', 'sij', None, None, ' ', 1, None, None)]"
      ]
     },
     "execution_count": 20,
     "metadata": {},
     "output_type": "execute_result"
    }
   ],
   "source": [
    "features = \"trans transo transr transn punc isorig isremark isnote\".split()\n",
    "\n",
    "table = []\n",
    "\n",
    "for lno in range(lineNum - 2, lineNum + 3):\n",
    "    ln = T.nodeFromSection((3, 717, lno))\n",
    "    for w in L.d(ln, otype=\"word\"):\n",
    "        row = tuple(Fs(feature).v(w) for feature in features)\n",
    "        table.append(row)\n",
    "\n",
    "table"
   ]
  },
  {
   "cell_type": "markdown",
   "metadata": {},
   "source": [
    "We can show that more prettily in a markdown table, but it is a bit of a hassle to compose\n",
    "the markdown string.\n",
    "Once we have that, we can pass it to a method in the Text-Fabric API that displays it as markdown."
   ]
  },
  {
   "cell_type": "code",
   "execution_count": 21,
   "metadata": {},
   "outputs": [
    {
     "data": {
      "text/markdown": [
       "\n",
       "trans | transo | transr | transn | punc | isorig | isremark | isnote\n",
       "--- | --- | --- | --- | --- | --- | --- | ---\n",
       "door |  | door |  |   |  | 1 | \n",
       "Sjivadji |  | Sjivadji |  |   |  | 1 | \n",
       "en |  | en |  |   |  | 1 | \n",
       "de |  | de |  |   |  | 1 | \n",
       "hoofden |  | hoofden |  |   |  | 1 | \n",
       "van |  | van |  |   |  | 1 | \n",
       "Bijapur |  | Bijapur |  | ;  |  | 1 | \n",
       "de |  | de |  |   |  | 1 | \n",
       "resident |  | resident |  |   |  | 1 | \n",
       "Leendertsz |  | Leendertsz |  | .  |  | 1 | \n",
       "raadt |  | raadt |  |   |  | 1 | \n",
       "aan |  | aan |  |   |  | 1 | \n",
       "hun |  | hun |  |   |  | 1 | \n",
       "te |  | te |  |   |  | 1 | \n",
       "laten |  | laten |  |   |  | 1 | \n",
       "weten |  | weten |  | ,  |  | 1 | \n",
       "dat |  | dat |  |   |  | 1 | \n",
       "de |  | de |  |   |  | 1 | \n",
       "vestiging |  | vestiging |  |   |  | 1 | \n",
       "wordt |  | wordt |  |   |  | 1 | \n",
       "opgeheven |  | opgeheven |  | ,  |  | 1 | \n",
       "indien |  | indien |  |   |  | 1 | \n",
       "zij |  | zij |  |   |  | 1 | \n",
       "zo |  | zo |  |   |  | 1 | \n",
       "voortgaan |  | voortgaan |  |  »  |  | 1 | \n",
       " |  |  |  |  |  |  | \n",
       "Wij | Wij |  |  |   | 1 |  | \n",
       "twijfelen | twijfelen |  |  | ,  | 1 |  | \n",
       "of | of |  |  |   | 1 |  | \n",
       "sij | sij |  |  |   | 1 |  | \n",
       "sooveel | sooveel |  |  |   | 1 |  | \n",
       "werck | werck |  |  |   | 1 |  | \n",
       "al | al |  |  |   | 1 |  | \n",
       "van | van |  |  |   | 1 |  | \n",
       "ons | ons |  |  |   | 1 |  | \n",
       "soude | soude |  |  |   | 1 |  | \n",
       "maecken | maecken |  |  | ,  | 1 |  | \n",
       "omdat | omdat |  |  |   | 1 |  | \n",
       "se | se |  |  |   | 1 |  | \n",
       "de | de |  |  |   | 1 |  | \n",
       "Engelsen | Engelsen |  |  |   | 1 |  | \n",
       "ende | ende |  |  |   | 1 |  | \n",
       "nu | nu |  |  |   | 1 |  | \n",
       "oocq | oocq |  |  |   | 1 |  | \n",
       "de | de |  |  |   | 1 |  | \n",
       "Francen | Francen |  |  |   | 1 |  | \n",
       "bij | bij |  |  |   | 1 |  | \n",
       "de | de |  |  |   | 1 |  | \n",
       "wercken | wercken |  |  |   | 1 |  | \n",
       "hebben | hebben |  |  |   | 1 |  | \n",
       "ende | ende |  |  |   | 1 |  | \n",
       "van | van |  |  |   | 1 |  | \n",
       "dewelcke | dewelcke |  |  |   | 1 |  | \n",
       "sij | sij |  |  |   | 1 |  | "
      ],
      "text/plain": [
       "<IPython.core.display.Markdown object>"
      ]
     },
     "metadata": {},
     "output_type": "display_data"
    }
   ],
   "source": [
    "NL = \"\\n\"\n",
    "\n",
    "mdHead = f\"\"\"\n",
    "{\" | \".join(features)}\n",
    "{\" | \".join(\"---\" for _ in features)}\n",
    "\"\"\"\n",
    "\n",
    "mdData = \"\\n\".join(\n",
    "    f\"\"\"{\" | \".join(str(c or \"\").replace(NL, \" \") for c in row)}\"\"\" for row in table\n",
    ")\n",
    "\n",
    "A.dm(f\"\"\"{mdHead}{mdData}\"\"\")"
   ]
  },
  {
   "cell_type": "markdown",
   "metadata": {},
   "source": [
    "Note that the dataset designer has the text strings of all words into the feature `trans`;\n",
    "editorial words also go into `transr`, but not into `transo`;\n",
    "original words go into `transo`, but not into `transr`.\n",
    "\n",
    "The existence of these features is mainly to make it possible to define the selective text formats\n",
    "we have seen above."
   ]
  },
  {
   "cell_type": "markdown",
   "metadata": {},
   "source": [
    "If constructing a low level dataset is too low-level for your taste,\n",
    "we can just collect a bunch of nodes and feed it to a higher-level display function of Text-Fabric:"
   ]
  },
  {
   "cell_type": "code",
   "execution_count": 22,
   "metadata": {},
   "outputs": [
    {
     "data": {
      "text/plain": [
       "[(1094113,),\n",
       " (1094114,),\n",
       " (1094115,),\n",
       " (1094116,),\n",
       " (1094117,),\n",
       " (1094118,),\n",
       " (1094119,),\n",
       " (1094120,),\n",
       " (1094121,),\n",
       " (1094122,),\n",
       " (1094123,),\n",
       " (1094124,),\n",
       " (1094125,),\n",
       " (1094126,),\n",
       " (1094127,),\n",
       " (1094128,),\n",
       " (1094129,),\n",
       " (1094130,),\n",
       " (1094131,),\n",
       " (1094132,),\n",
       " (1094133,),\n",
       " (1094134,),\n",
       " (1094135,),\n",
       " (1094136,),\n",
       " (1094137,),\n",
       " (1094138,),\n",
       " (1094139,),\n",
       " (1094140,),\n",
       " (1094141,),\n",
       " (1094142,),\n",
       " (1094143,),\n",
       " (1094144,),\n",
       " (1094145,),\n",
       " (1094146,),\n",
       " (1094147,),\n",
       " (1094148,),\n",
       " (1094149,),\n",
       " (1094150,),\n",
       " (1094151,),\n",
       " (1094152,),\n",
       " (1094153,),\n",
       " (1094154,),\n",
       " (1094155,),\n",
       " (1094156,),\n",
       " (1094157,),\n",
       " (1094158,),\n",
       " (1094159,),\n",
       " (1094160,),\n",
       " (1094161,),\n",
       " (1094162,),\n",
       " (1094163,),\n",
       " (1094164,),\n",
       " (1094165,),\n",
       " (1094166,)]"
      ]
     },
     "execution_count": 22,
     "metadata": {},
     "output_type": "execute_result"
    }
   ],
   "source": [
    "table = []\n",
    "\n",
    "for lno in range(lineNum - 2, lineNum + 3):\n",
    "    ln = T.nodeFromSection((3, 717, lno))\n",
    "    for w in L.d(ln, otype=\"word\"):\n",
    "        table.append((w,))\n",
    "\n",
    "table"
   ]
  },
  {
   "cell_type": "markdown",
   "metadata": {},
   "source": [
    "Before we ask Text-Fabric to display this, we tell it the features we're interested in."
   ]
  },
  {
   "cell_type": "code",
   "execution_count": 23,
   "metadata": {},
   "outputs": [
    {
     "data": {
      "text/html": [
       "<p><b>line</b> <i>1</i></p>"
      ],
      "text/plain": [
       "<IPython.core.display.HTML object>"
      ]
     },
     "metadata": {},
     "output_type": "display_data"
    },
    {
     "data": {
      "text/html": [
       "<div class=\"tfsechead \"><span class=\"ltr\"><a target=\"_blank\" href=\"http://resources.huygens.knaw.nl/retroboeken/generalemissiven/#page=730&amp;source=3\" title=\"Show this document on Huygens\" sec=\"3 717:3\">3 717:3</a></span></div><div class=\" children\"><div class=\"contnr c3    \" ><div class=\"lbl c3  \" ><span class=\"nd\">line</span></div><div class=\"children hor wrap \"><div class=\"contnr c0 trm   hl\" ><div class=\"lbl c0 trm hl\" ><span class=\"txtn\"><span class=\"remark\">door </span></span></div><div class='features'><span class=\"isremark xft\" ><span class=\"f\">isremark=</span>1</span><span class=\"punc xft\" ><span class=\"f\">punc=</span> </span><span class=\"trans xft\" ><span class=\"f\">trans=</span>door</span><span class=\"transr xft\" ><span class=\"f\">transr=</span>door</span></div></div><div class=\"contnr c0 trm   hl\" ><div class=\"lbl c0 trm hl\" ><span class=\"txtn\"><span class=\"remark\">Sjivadji </span></span></div><div class='features'><span class=\"isremark xft\" ><span class=\"f\">isremark=</span>1</span><span class=\"punc xft\" ><span class=\"f\">punc=</span> </span><span class=\"trans xft\" ><span class=\"f\">trans=</span>Sjivadji</span><span class=\"transr xft\" ><span class=\"f\">transr=</span>Sjivadji</span></div></div><div class=\"contnr c0 trm   hl\" ><div class=\"lbl c0 trm hl\" ><span class=\"txtn\"><span class=\"remark\">en </span></span></div><div class='features'><span class=\"isremark xft\" ><span class=\"f\">isremark=</span>1</span><span class=\"punc xft\" ><span class=\"f\">punc=</span> </span><span class=\"trans xft\" ><span class=\"f\">trans=</span>en</span><span class=\"transr xft\" ><span class=\"f\">transr=</span>en</span></div></div><div class=\"contnr c0 trm   hl\" ><div class=\"lbl c0 trm hl\" ><span class=\"txtn\"><span class=\"remark\">de </span></span></div><div class='features'><span class=\"isremark xft\" ><span class=\"f\">isremark=</span>1</span><span class=\"punc xft\" ><span class=\"f\">punc=</span> </span><span class=\"trans xft\" ><span class=\"f\">trans=</span>de</span><span class=\"transr xft\" ><span class=\"f\">transr=</span>de</span></div></div><div class=\"contnr c0 trm   hl\" ><div class=\"lbl c0 trm hl\" ><span class=\"txtn\"><span class=\"remark\">hoofden </span></span></div><div class='features'><span class=\"isremark xft\" ><span class=\"f\">isremark=</span>1</span><span class=\"punc xft\" ><span class=\"f\">punc=</span> </span><span class=\"trans xft\" ><span class=\"f\">trans=</span>hoofden</span><span class=\"transr xft\" ><span class=\"f\">transr=</span>hoofden</span></div></div><div class=\"contnr c0 trm   hl\" ><div class=\"lbl c0 trm hl\" ><span class=\"txtn\"><span class=\"remark\">van </span></span></div><div class='features'><span class=\"isremark xft\" ><span class=\"f\">isremark=</span>1</span><span class=\"punc xft\" ><span class=\"f\">punc=</span> </span><span class=\"trans xft\" ><span class=\"f\">trans=</span>van</span><span class=\"transr xft\" ><span class=\"f\">transr=</span>van</span></div></div><div class=\"contnr c0 trm   hl\" ><div class=\"lbl c0 trm hl\" ><span class=\"txtn\"><span class=\"remark\">Bijapur; </span></span></div><div class='features'><span class=\"isremark xft\" ><span class=\"f\">isremark=</span>1</span><span class=\"punc xft\" ><span class=\"f\">punc=</span>; </span><span class=\"trans xft\" ><span class=\"f\">trans=</span>Bijapur</span><span class=\"transr xft\" ><span class=\"f\">transr=</span>Bijapur</span></div></div><div class=\"contnr c0 trm   hl\" ><div class=\"lbl c0 trm hl\" ><span class=\"txtn\"><span class=\"remark\">de </span></span></div><div class='features'><span class=\"isremark xft\" ><span class=\"f\">isremark=</span>1</span><span class=\"punc xft\" ><span class=\"f\">punc=</span> </span><span class=\"trans xft\" ><span class=\"f\">trans=</span>de</span><span class=\"transr xft\" ><span class=\"f\">transr=</span>de</span></div></div><div class=\"contnr c0 trm   hl\" ><div class=\"lbl c0 trm hl\" ><span class=\"txtn\"><span class=\"remark\">resident </span></span></div><div class='features'><span class=\"isremark xft\" ><span class=\"f\">isremark=</span>1</span><span class=\"punc xft\" ><span class=\"f\">punc=</span> </span><span class=\"trans xft\" ><span class=\"f\">trans=</span>resident</span><span class=\"transr xft\" ><span class=\"f\">transr=</span>resident</span></div></div><div class=\"contnr c0 trm   hl\" ><div class=\"lbl c0 trm hl\" ><span class=\"txtn\"><span class=\"remark\">Leendertsz. </span></span></div><div class='features'><span class=\"isremark xft\" ><span class=\"f\">isremark=</span>1</span><span class=\"punc xft\" ><span class=\"f\">punc=</span>. </span><span class=\"trans xft\" ><span class=\"f\">trans=</span>Leendertsz</span><span class=\"transr xft\" ><span class=\"f\">transr=</span>Leendertsz</span></div></div><div class=\"contnr c0 trm   hl\" ><div class=\"lbl c0 trm hl\" ><span class=\"txtn\"><span class=\"remark\">raadt </span></span></div><div class='features'><span class=\"isremark xft\" ><span class=\"f\">isremark=</span>1</span><span class=\"punc xft\" ><span class=\"f\">punc=</span> </span><span class=\"trans xft\" ><span class=\"f\">trans=</span>raadt</span><span class=\"transr xft\" ><span class=\"f\">transr=</span>raadt</span></div></div><div class=\"contnr c0 trm   hl\" ><div class=\"lbl c0 trm hl\" ><span class=\"txtn\"><span class=\"remark\">aan </span></span></div><div class='features'><span class=\"isremark xft\" ><span class=\"f\">isremark=</span>1</span><span class=\"punc xft\" ><span class=\"f\">punc=</span> </span><span class=\"trans xft\" ><span class=\"f\">trans=</span>aan</span><span class=\"transr xft\" ><span class=\"f\">transr=</span>aan</span></div></div></div></div></div>"
      ],
      "text/plain": [
       "<IPython.core.display.HTML object>"
      ]
     },
     "metadata": {},
     "output_type": "display_data"
    },
    {
     "data": {
      "text/html": [
       "<p><b>line</b> <i>2</i></p>"
      ],
      "text/plain": [
       "<IPython.core.display.HTML object>"
      ]
     },
     "metadata": {},
     "output_type": "display_data"
    },
    {
     "data": {
      "text/html": [
       "<div class=\"tfsechead \"><span class=\"ltr\"><a target=\"_blank\" href=\"http://resources.huygens.knaw.nl/retroboeken/generalemissiven/#page=730&amp;source=3\" title=\"Show this document on Huygens\" sec=\"3 717:4\">3 717:4</a></span></div><div class=\" children\"><div class=\"contnr c3    \" ><div class=\"lbl c3  \" ><span class=\"nd\">line</span></div><div class=\"children hor wrap \"><div class=\"contnr c0 trm   hl\" ><div class=\"lbl c0 trm hl\" ><span class=\"txtn\"><span class=\"remark\">hun </span></span></div><div class='features'><span class=\"isremark xft\" ><span class=\"f\">isremark=</span>1</span><span class=\"punc xft\" ><span class=\"f\">punc=</span> </span><span class=\"trans xft\" ><span class=\"f\">trans=</span>hun</span><span class=\"transr xft\" ><span class=\"f\">transr=</span>hun</span></div></div><div class=\"contnr c0 trm   hl\" ><div class=\"lbl c0 trm hl\" ><span class=\"txtn\"><span class=\"remark\">te </span></span></div><div class='features'><span class=\"isremark xft\" ><span class=\"f\">isremark=</span>1</span><span class=\"punc xft\" ><span class=\"f\">punc=</span> </span><span class=\"trans xft\" ><span class=\"f\">trans=</span>te</span><span class=\"transr xft\" ><span class=\"f\">transr=</span>te</span></div></div><div class=\"contnr c0 trm   hl\" ><div class=\"lbl c0 trm hl\" ><span class=\"txtn\"><span class=\"remark\">laten </span></span></div><div class='features'><span class=\"isremark xft\" ><span class=\"f\">isremark=</span>1</span><span class=\"punc xft\" ><span class=\"f\">punc=</span> </span><span class=\"trans xft\" ><span class=\"f\">trans=</span>laten</span><span class=\"transr xft\" ><span class=\"f\">transr=</span>laten</span></div></div><div class=\"contnr c0 trm   hl\" ><div class=\"lbl c0 trm hl\" ><span class=\"txtn\"><span class=\"remark\">weten, </span></span></div><div class='features'><span class=\"isremark xft\" ><span class=\"f\">isremark=</span>1</span><span class=\"punc xft\" ><span class=\"f\">punc=</span>, </span><span class=\"trans xft\" ><span class=\"f\">trans=</span>weten</span><span class=\"transr xft\" ><span class=\"f\">transr=</span>weten</span></div></div><div class=\"contnr c0 trm   hl\" ><div class=\"lbl c0 trm hl\" ><span class=\"txtn\"><span class=\"remark\">dat </span></span></div><div class='features'><span class=\"isremark xft\" ><span class=\"f\">isremark=</span>1</span><span class=\"punc xft\" ><span class=\"f\">punc=</span> </span><span class=\"trans xft\" ><span class=\"f\">trans=</span>dat</span><span class=\"transr xft\" ><span class=\"f\">transr=</span>dat</span></div></div><div class=\"contnr c0 trm   hl\" ><div class=\"lbl c0 trm hl\" ><span class=\"txtn\"><span class=\"remark\">de </span></span></div><div class='features'><span class=\"isremark xft\" ><span class=\"f\">isremark=</span>1</span><span class=\"punc xft\" ><span class=\"f\">punc=</span> </span><span class=\"trans xft\" ><span class=\"f\">trans=</span>de</span><span class=\"transr xft\" ><span class=\"f\">transr=</span>de</span></div></div><div class=\"contnr c0 trm   hl\" ><div class=\"lbl c0 trm hl\" ><span class=\"txtn\"><span class=\"remark\">vestiging </span></span></div><div class='features'><span class=\"isremark xft\" ><span class=\"f\">isremark=</span>1</span><span class=\"punc xft\" ><span class=\"f\">punc=</span> </span><span class=\"trans xft\" ><span class=\"f\">trans=</span>vestiging</span><span class=\"transr xft\" ><span class=\"f\">transr=</span>vestiging</span></div></div><div class=\"contnr c0 trm   hl\" ><div class=\"lbl c0 trm hl\" ><span class=\"txtn\"><span class=\"remark\">wordt </span></span></div><div class='features'><span class=\"isremark xft\" ><span class=\"f\">isremark=</span>1</span><span class=\"punc xft\" ><span class=\"f\">punc=</span> </span><span class=\"trans xft\" ><span class=\"f\">trans=</span>wordt</span><span class=\"transr xft\" ><span class=\"f\">transr=</span>wordt</span></div></div><div class=\"contnr c0 trm   hl\" ><div class=\"lbl c0 trm hl\" ><span class=\"txtn\"><span class=\"remark\">opgeheven, </span></span></div><div class='features'><span class=\"isremark xft\" ><span class=\"f\">isremark=</span>1</span><span class=\"punc xft\" ><span class=\"f\">punc=</span>, </span><span class=\"trans xft\" ><span class=\"f\">trans=</span>opgeheven</span><span class=\"transr xft\" ><span class=\"f\">transr=</span>opgeheven</span></div></div><div class=\"contnr c0 trm   hl\" ><div class=\"lbl c0 trm hl\" ><span class=\"txtn\"><span class=\"remark\">indien </span></span></div><div class='features'><span class=\"isremark xft\" ><span class=\"f\">isremark=</span>1</span><span class=\"punc xft\" ><span class=\"f\">punc=</span> </span><span class=\"trans xft\" ><span class=\"f\">trans=</span>indien</span><span class=\"transr xft\" ><span class=\"f\">transr=</span>indien</span></div></div><div class=\"contnr c0 trm   hl\" ><div class=\"lbl c0 trm hl\" ><span class=\"txtn\"><span class=\"remark\">zij </span></span></div><div class='features'><span class=\"isremark xft\" ><span class=\"f\">isremark=</span>1</span><span class=\"punc xft\" ><span class=\"f\">punc=</span> </span><span class=\"trans xft\" ><span class=\"f\">trans=</span>zij</span><span class=\"transr xft\" ><span class=\"f\">transr=</span>zij</span></div></div><div class=\"contnr c0 trm   hl\" ><div class=\"lbl c0 trm hl\" ><span class=\"txtn\"><span class=\"remark\">zo </span></span></div><div class='features'><span class=\"isremark xft\" ><span class=\"f\">isremark=</span>1</span><span class=\"punc xft\" ><span class=\"f\">punc=</span> </span><span class=\"trans xft\" ><span class=\"f\">trans=</span>zo</span><span class=\"transr xft\" ><span class=\"f\">transr=</span>zo</span></div></div><div class=\"contnr c0 trm   hl\" ><div class=\"lbl c0 trm hl\" ><span class=\"txtn\"><span class=\"remark\">voortgaan » </span></span></div><div class='features'><span class=\"isremark xft\" ><span class=\"f\">isremark=</span>1</span><span class=\"punc xft\" ><span class=\"f\">punc=</span> » </span><span class=\"trans xft\" ><span class=\"f\">trans=</span>voortgaan</span><span class=\"transr xft\" ><span class=\"f\">transr=</span>voortgaan</span></div></div></div></div></div>"
      ],
      "text/plain": [
       "<IPython.core.display.HTML object>"
      ]
     },
     "metadata": {},
     "output_type": "display_data"
    },
    {
     "data": {
      "text/html": [
       "<p><b>line</b> <i>3</i></p>"
      ],
      "text/plain": [
       "<IPython.core.display.HTML object>"
      ]
     },
     "metadata": {},
     "output_type": "display_data"
    },
    {
     "data": {
      "text/html": [
       "<div class=\"tfsechead \"><span class=\"ltr\"><a target=\"_blank\" href=\"http://resources.huygens.knaw.nl/retroboeken/generalemissiven/#page=730&amp;source=3\" title=\"Show this document on Huygens\" sec=\"3 717:5\">3 717:5</a></span></div><div class=\" children\"><div class=\"contnr c3    \" ><div class=\"lbl c3  \" ><span class=\"nd\">line</span></div><div class=\"children hor wrap \"><div class=\"contnr c0 trm   hl\" ><div class='features'><span class=\"punc xft\" ><span class=\"f\">punc=</span></span><span class=\"trans xft\" ><span class=\"f\">trans=</span></span></div></div></div></div></div>"
      ],
      "text/plain": [
       "<IPython.core.display.HTML object>"
      ]
     },
     "metadata": {},
     "output_type": "display_data"
    },
    {
     "data": {
      "text/html": [
       "<p><b>line</b> <i>4</i></p>"
      ],
      "text/plain": [
       "<IPython.core.display.HTML object>"
      ]
     },
     "metadata": {},
     "output_type": "display_data"
    },
    {
     "data": {
      "text/html": [
       "<div class=\"tfsechead \"><span class=\"ltr\"><a target=\"_blank\" href=\"http://resources.huygens.knaw.nl/retroboeken/generalemissiven/#page=730&amp;source=3\" title=\"Show this document on Huygens\" sec=\"3 717:6\">3 717:6</a></span></div><div class=\" children\"><div class=\"contnr c3    \" ><div class=\"lbl c3  \" ><span class=\"nd\">line</span></div><div class=\"children hor wrap \"><div class=\"contnr c0 trm   hl\" ><div class=\"lbl c0 trm hl\" ><span class=\"txtn\">Wij </span></div><div class='features'><span class=\"isorig xft\" ><span class=\"f\">isorig=</span>1</span><span class=\"punc xft\" ><span class=\"f\">punc=</span> </span><span class=\"trans xft\" ><span class=\"f\">trans=</span>Wij</span><span class=\"transo xft\" ><span class=\"f\">transo=</span>Wij</span></div></div><div class=\"contnr c0 trm   hl\" ><div class=\"lbl c0 trm hl\" ><span class=\"txtn\">twijfelen, </span></div><div class='features'><span class=\"isorig xft\" ><span class=\"f\">isorig=</span>1</span><span class=\"punc xft\" ><span class=\"f\">punc=</span>, </span><span class=\"trans xft\" ><span class=\"f\">trans=</span>twijfelen</span><span class=\"transo xft\" ><span class=\"f\">transo=</span>twijfelen</span></div></div><div class=\"contnr c0 trm   hl\" ><div class=\"lbl c0 trm hl\" ><span class=\"txtn\">of </span></div><div class='features'><span class=\"isorig xft\" ><span class=\"f\">isorig=</span>1</span><span class=\"punc xft\" ><span class=\"f\">punc=</span> </span><span class=\"trans xft\" ><span class=\"f\">trans=</span>of</span><span class=\"transo xft\" ><span class=\"f\">transo=</span>of</span></div></div><div class=\"contnr c0 trm   hl\" ><div class=\"lbl c0 trm hl\" ><span class=\"txtn\">sij </span></div><div class='features'><span class=\"isorig xft\" ><span class=\"f\">isorig=</span>1</span><span class=\"punc xft\" ><span class=\"f\">punc=</span> </span><span class=\"trans xft\" ><span class=\"f\">trans=</span>sij</span><span class=\"transo xft\" ><span class=\"f\">transo=</span>sij</span></div></div><div class=\"contnr c0 trm   hl\" ><div class=\"lbl c0 trm hl\" ><span class=\"txtn\">sooveel </span></div><div class='features'><span class=\"isorig xft\" ><span class=\"f\">isorig=</span>1</span><span class=\"punc xft\" ><span class=\"f\">punc=</span> </span><span class=\"trans xft\" ><span class=\"f\">trans=</span>sooveel</span><span class=\"transo xft\" ><span class=\"f\">transo=</span>sooveel</span></div></div><div class=\"contnr c0 trm   hl\" ><div class=\"lbl c0 trm hl\" ><span class=\"txtn\">werck </span></div><div class='features'><span class=\"isorig xft\" ><span class=\"f\">isorig=</span>1</span><span class=\"punc xft\" ><span class=\"f\">punc=</span> </span><span class=\"trans xft\" ><span class=\"f\">trans=</span>werck</span><span class=\"transo xft\" ><span class=\"f\">transo=</span>werck</span></div></div><div class=\"contnr c0 trm   hl\" ><div class=\"lbl c0 trm hl\" ><span class=\"txtn\">al </span></div><div class='features'><span class=\"isorig xft\" ><span class=\"f\">isorig=</span>1</span><span class=\"punc xft\" ><span class=\"f\">punc=</span> </span><span class=\"trans xft\" ><span class=\"f\">trans=</span>al</span><span class=\"transo xft\" ><span class=\"f\">transo=</span>al</span></div></div><div class=\"contnr c0 trm   hl\" ><div class=\"lbl c0 trm hl\" ><span class=\"txtn\">van </span></div><div class='features'><span class=\"isorig xft\" ><span class=\"f\">isorig=</span>1</span><span class=\"punc xft\" ><span class=\"f\">punc=</span> </span><span class=\"trans xft\" ><span class=\"f\">trans=</span>van</span><span class=\"transo xft\" ><span class=\"f\">transo=</span>van</span></div></div><div class=\"contnr c0 trm   hl\" ><div class=\"lbl c0 trm hl\" ><span class=\"txtn\">ons </span></div><div class='features'><span class=\"isorig xft\" ><span class=\"f\">isorig=</span>1</span><span class=\"punc xft\" ><span class=\"f\">punc=</span> </span><span class=\"trans xft\" ><span class=\"f\">trans=</span>ons</span><span class=\"transo xft\" ><span class=\"f\">transo=</span>ons</span></div></div><div class=\"contnr c0 trm   hl\" ><div class=\"lbl c0 trm hl\" ><span class=\"txtn\">soude </span></div><div class='features'><span class=\"isorig xft\" ><span class=\"f\">isorig=</span>1</span><span class=\"punc xft\" ><span class=\"f\">punc=</span> </span><span class=\"trans xft\" ><span class=\"f\">trans=</span>soude</span><span class=\"transo xft\" ><span class=\"f\">transo=</span>soude</span></div></div><div class=\"contnr c0 trm   hl\" ><div class=\"lbl c0 trm hl\" ><span class=\"txtn\">maecken, </span></div><div class='features'><span class=\"isorig xft\" ><span class=\"f\">isorig=</span>1</span><span class=\"punc xft\" ><span class=\"f\">punc=</span>, </span><span class=\"trans xft\" ><span class=\"f\">trans=</span>maecken</span><span class=\"transo xft\" ><span class=\"f\">transo=</span>maecken</span></div></div><div class=\"contnr c0 trm   hl\" ><div class=\"lbl c0 trm hl\" ><span class=\"txtn\">omdat </span></div><div class='features'><span class=\"isorig xft\" ><span class=\"f\">isorig=</span>1</span><span class=\"punc xft\" ><span class=\"f\">punc=</span> </span><span class=\"trans xft\" ><span class=\"f\">trans=</span>omdat</span><span class=\"transo xft\" ><span class=\"f\">transo=</span>omdat</span></div></div><div class=\"contnr c0 trm   hl\" ><div class=\"lbl c0 trm hl\" ><span class=\"txtn\">se </span></div><div class='features'><span class=\"isorig xft\" ><span class=\"f\">isorig=</span>1</span><span class=\"punc xft\" ><span class=\"f\">punc=</span> </span><span class=\"trans xft\" ><span class=\"f\">trans=</span>se</span><span class=\"transo xft\" ><span class=\"f\">transo=</span>se</span></div></div><div class=\"contnr c0 trm   hl\" ><div class=\"lbl c0 trm hl\" ><span class=\"txtn\">de </span></div><div class='features'><span class=\"isorig xft\" ><span class=\"f\">isorig=</span>1</span><span class=\"punc xft\" ><span class=\"f\">punc=</span> </span><span class=\"trans xft\" ><span class=\"f\">trans=</span>de</span><span class=\"transo xft\" ><span class=\"f\">transo=</span>de</span></div></div></div></div></div>"
      ],
      "text/plain": [
       "<IPython.core.display.HTML object>"
      ]
     },
     "metadata": {},
     "output_type": "display_data"
    },
    {
     "data": {
      "text/html": [
       "<p><b>line</b> <i>5</i></p>"
      ],
      "text/plain": [
       "<IPython.core.display.HTML object>"
      ]
     },
     "metadata": {},
     "output_type": "display_data"
    },
    {
     "data": {
      "text/html": [
       "<div class=\"tfsechead \"><span class=\"ltr\"><a target=\"_blank\" href=\"http://resources.huygens.knaw.nl/retroboeken/generalemissiven/#page=730&amp;source=3\" title=\"Show this document on Huygens\" sec=\"3 717:7\">3 717:7</a></span></div><div class=\" children\"><div class=\"contnr c3    \" ><div class=\"lbl c3  \" ><span class=\"nd\">line</span></div><div class=\"children hor wrap \"><div class=\"contnr c0 trm   hl\" ><div class=\"lbl c0 trm hl\" ><span class=\"txtn\">Engelsen </span></div><div class='features'><span class=\"isorig xft\" ><span class=\"f\">isorig=</span>1</span><span class=\"punc xft\" ><span class=\"f\">punc=</span> </span><span class=\"trans xft\" ><span class=\"f\">trans=</span>Engelsen</span><span class=\"transo xft\" ><span class=\"f\">transo=</span>Engelsen</span></div></div><div class=\"contnr c0 trm   hl\" ><div class=\"lbl c0 trm hl\" ><span class=\"txtn\">ende </span></div><div class='features'><span class=\"isorig xft\" ><span class=\"f\">isorig=</span>1</span><span class=\"punc xft\" ><span class=\"f\">punc=</span> </span><span class=\"trans xft\" ><span class=\"f\">trans=</span>ende</span><span class=\"transo xft\" ><span class=\"f\">transo=</span>ende</span></div></div><div class=\"contnr c0 trm   hl\" ><div class=\"lbl c0 trm hl\" ><span class=\"txtn\">nu </span></div><div class='features'><span class=\"isorig xft\" ><span class=\"f\">isorig=</span>1</span><span class=\"punc xft\" ><span class=\"f\">punc=</span> </span><span class=\"trans xft\" ><span class=\"f\">trans=</span>nu</span><span class=\"transo xft\" ><span class=\"f\">transo=</span>nu</span></div></div><div class=\"contnr c0 trm   hl\" ><div class=\"lbl c0 trm hl\" ><span class=\"txtn\">oocq </span></div><div class='features'><span class=\"isorig xft\" ><span class=\"f\">isorig=</span>1</span><span class=\"punc xft\" ><span class=\"f\">punc=</span> </span><span class=\"trans xft\" ><span class=\"f\">trans=</span>oocq</span><span class=\"transo xft\" ><span class=\"f\">transo=</span>oocq</span></div></div><div class=\"contnr c0 trm   hl\" ><div class=\"lbl c0 trm hl\" ><span class=\"txtn\">de </span></div><div class='features'><span class=\"isorig xft\" ><span class=\"f\">isorig=</span>1</span><span class=\"punc xft\" ><span class=\"f\">punc=</span> </span><span class=\"trans xft\" ><span class=\"f\">trans=</span>de</span><span class=\"transo xft\" ><span class=\"f\">transo=</span>de</span></div></div><div class=\"contnr c0 trm   hl\" ><div class=\"lbl c0 trm hl\" ><span class=\"txtn\">Francen </span></div><div class='features'><span class=\"isorig xft\" ><span class=\"f\">isorig=</span>1</span><span class=\"punc xft\" ><span class=\"f\">punc=</span> </span><span class=\"trans xft\" ><span class=\"f\">trans=</span>Francen</span><span class=\"transo xft\" ><span class=\"f\">transo=</span>Francen</span></div></div><div class=\"contnr c0 trm   hl\" ><div class=\"lbl c0 trm hl\" ><span class=\"txtn\">bij </span></div><div class='features'><span class=\"isorig xft\" ><span class=\"f\">isorig=</span>1</span><span class=\"punc xft\" ><span class=\"f\">punc=</span> </span><span class=\"trans xft\" ><span class=\"f\">trans=</span>bij</span><span class=\"transo xft\" ><span class=\"f\">transo=</span>bij</span></div></div><div class=\"contnr c0 trm   hl\" ><div class=\"lbl c0 trm hl\" ><span class=\"txtn\">de </span></div><div class='features'><span class=\"isorig xft\" ><span class=\"f\">isorig=</span>1</span><span class=\"punc xft\" ><span class=\"f\">punc=</span> </span><span class=\"trans xft\" ><span class=\"f\">trans=</span>de</span><span class=\"transo xft\" ><span class=\"f\">transo=</span>de</span></div></div><div class=\"contnr c0 trm   hl\" ><div class=\"lbl c0 trm hl\" ><span class=\"txtn\">wercken </span></div><div class='features'><span class=\"isorig xft\" ><span class=\"f\">isorig=</span>1</span><span class=\"punc xft\" ><span class=\"f\">punc=</span> </span><span class=\"trans xft\" ><span class=\"f\">trans=</span>wercken</span><span class=\"transo xft\" ><span class=\"f\">transo=</span>wercken</span></div></div><div class=\"contnr c0 trm   hl\" ><div class=\"lbl c0 trm hl\" ><span class=\"txtn\">hebben </span></div><div class='features'><span class=\"isorig xft\" ><span class=\"f\">isorig=</span>1</span><span class=\"punc xft\" ><span class=\"f\">punc=</span> </span><span class=\"trans xft\" ><span class=\"f\">trans=</span>hebben</span><span class=\"transo xft\" ><span class=\"f\">transo=</span>hebben</span></div></div><div class=\"contnr c0 trm   hl\" ><div class=\"lbl c0 trm hl\" ><span class=\"txtn\">ende </span></div><div class='features'><span class=\"isorig xft\" ><span class=\"f\">isorig=</span>1</span><span class=\"punc xft\" ><span class=\"f\">punc=</span> </span><span class=\"trans xft\" ><span class=\"f\">trans=</span>ende</span><span class=\"transo xft\" ><span class=\"f\">transo=</span>ende</span></div></div><div class=\"contnr c0 trm   hl\" ><div class=\"lbl c0 trm hl\" ><span class=\"txtn\">van </span></div><div class='features'><span class=\"isorig xft\" ><span class=\"f\">isorig=</span>1</span><span class=\"punc xft\" ><span class=\"f\">punc=</span> </span><span class=\"trans xft\" ><span class=\"f\">trans=</span>van</span><span class=\"transo xft\" ><span class=\"f\">transo=</span>van</span></div></div><div class=\"contnr c0 trm   hl\" ><div class=\"lbl c0 trm hl\" ><span class=\"txtn\">dewelcke </span></div><div class='features'><span class=\"isorig xft\" ><span class=\"f\">isorig=</span>1</span><span class=\"punc xft\" ><span class=\"f\">punc=</span> </span><span class=\"trans xft\" ><span class=\"f\">trans=</span>dewelcke</span><span class=\"transo xft\" ><span class=\"f\">transo=</span>dewelcke</span></div></div><div class=\"contnr c0 trm   hl\" ><div class=\"lbl c0 trm hl\" ><span class=\"txtn\">sij </span></div><div class='features'><span class=\"isorig xft\" ><span class=\"f\">isorig=</span>1</span><span class=\"punc xft\" ><span class=\"f\">punc=</span> </span><span class=\"trans xft\" ><span class=\"f\">trans=</span>sij</span><span class=\"transo xft\" ><span class=\"f\">transo=</span>sij</span></div></div></div></div></div>"
      ],
      "text/plain": [
       "<IPython.core.display.HTML object>"
      ]
     },
     "metadata": {},
     "output_type": "display_data"
    }
   ],
   "source": [
    "A.displaySetup(extraFeatures=features)\n",
    "A.show(table, condensed=True, fmt=\"layout-full\")"
   ]
  },
  {
   "cell_type": "markdown",
   "metadata": {},
   "source": [
    "Where this machinery really shines is when it comes to displaying the results of queries.\n",
    "See [search](search.ipynb)."
   ]
  },
  {
   "cell_type": "markdown",
   "metadata": {
    "tags": []
   },
   "source": [
    "---\n",
    "\n",
    "# Next steps\n",
    "\n",
    "By now you have an impression how to orient yourself in the Missieven dataset.\n",
    "The next steps will show you how to get powerful: searching and computing.\n",
    "\n",
    "After that it is time for collecting results, use them in new annotations and share them.\n",
    "\n",
    "* **start** start computing with this corpus\n",
    "* **[search](search.ipynb)** turbo charge your hand-coding with search templates\n",
    "* **[compute](compute.ipynb)** sink down a level and compute it yourself\n",
    "* **[exportExcel](exportExcel.ipynb)** make tailor-made spreadsheets out of your results\n",
    "* **[annotate](annotate.ipynb)** export text, annotate with BRAT, import annotations\n",
    "* **[share](share.ipynb)** draw in other people's data and let them use yours\n",
    "* **[entities](entities.ipynb)** use results of third-party NER (named entity recognition)\n",
    "* **[porting](porting.ipynb)** port features made against an older version to a newer version\n",
    "* **[volumes](volumes.ipynb)** work with selected volumes only\n",
    "\n",
    "CC-BY Dirk Roorda"
   ]
  }
 ],
 "metadata": {
  "kernelspec": {
   "display_name": "Python 3 (ipykernel)",
   "language": "python",
   "name": "python3"
  },
  "language_info": {
   "codemirror_mode": {
    "name": "ipython",
    "version": 3
   },
   "file_extension": ".py",
   "mimetype": "text/x-python",
   "name": "python",
   "nbconvert_exporter": "python",
   "pygments_lexer": "ipython3",
   "version": "3.10.4"
  },
  "widgets": {
   "application/vnd.jupyter.widget-state+json": {
    "state": {},
    "version_major": 2,
    "version_minor": 0
   }
  }
 },
 "nbformat": 4,
 "nbformat_minor": 4
}
