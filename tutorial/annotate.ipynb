{
 "cells": [
  {
   "cell_type": "markdown",
   "metadata": {},
   "source": [
    "<img align=\"right\" src=\"images/tf.png\"/>\n",
    "<img align=\"right\" src=\"images/etcbc.png\"/>\n",
    "<img align=\"right\" src=\"images/logo.png\"/>\n",
    "\n",
    "---\n",
    "\n",
    "To get started: consult [start](start.ipynb)\n",
    "\n",
    "---\n",
    "\n",
    "# Annotate\n",
    "\n",
    "Text-Fabric is a tool for computing with read only datasets.\n",
    "How can you manually annotate an existing dataset?\n",
    "\n",
    "The scenario is: export the portions that must be annotated into a plain text file, accompanied with\n",
    "location information.\n",
    "\n",
    "Use an external tool, e.g.\n",
    "[BRAT](https://brat.nlplab.org) to manually annotate that text.\n",
    "\n",
    "Read the resulting annotations, combine them with the location information,\n",
    "and export the result as a new feature or set of features.\n",
    "\n",
    "These new features can be published anywhere,\n",
    "see the [share](share.ipynb) tutorial,\n",
    "and users that want to make use of the new features, can tell Text-Fabric to fetch it from the\n",
    "published location alongside the main dataset.\n",
    "\n",
    "From this point on, the new features act as first class citizens in the dataset.\n",
    "\n",
    "Note how this does not involve modifying existing datasets!"
   ]
  },
  {
   "cell_type": "code",
   "execution_count": 1,
   "metadata": {},
   "outputs": [],
   "source": [
    "%load_ext autoreload\n",
    "%autoreload 2"
   ]
  },
  {
   "cell_type": "code",
   "execution_count": 4,
   "metadata": {
    "ExecuteTime": {
     "end_time": "2018-05-24T10:06:39.818664Z",
     "start_time": "2018-05-24T10:06:39.796588Z"
    },
    "lines_to_next_cell": 2
   },
   "outputs": [],
   "source": [
    "import os\n",
    "from tf.app import use\n",
    "from tf.convert.recorder import Recorder\n",
    "from tf.dataset import Versions"
   ]
  },
  {
   "cell_type": "markdown",
   "metadata": {},
   "source": [
    "**NB:** We used version 0.4 of this data set to export material, annotate the exported material,\n",
    "and draw in those  annotation as a bunch of new features.\n",
    "However, in the meanwhile we have newer versions of the missieven data, where different encoding decisions have been applied.\n",
    "\n",
    "Rather than doing the annotation work again, we want to migrate the annotations from 0.4 to 0.7.\n",
    "We shall show how.\n",
    "\n",
    "First we show how me made the annotations in 0.4, and to that end we use a previous version of the data."
   ]
  },
  {
   "cell_type": "code",
   "execution_count": 3,
   "metadata": {},
   "outputs": [
    {
     "name": "stdout",
     "output_type": "stream",
     "text": [
      "rate limit is 5000 requests per hour, with 4998 left for this hour\n",
      "\tconnecting to online GitHub repo annotation/app-missieven ... connected\n",
      "\tcode/__init__.py...downloaded\n",
      "\tcode/app.py...downloaded\n",
      "\tcode/config.yaml...downloaded\n",
      "\tcode/static...directory\n",
      "\t\tcode/static/display.css...downloaded\n",
      "\t\tcode/static/logo.png...downloaded\n",
      "\tOK\n"
     ]
    },
    {
     "data": {
      "text/html": [
       "<b title=\"requested\">TF-app:</b> <span title=\"rv0.4=#037aba031c92c19fed1f211811faa204a3dd64d5\">~/text-fabric-data/annotation/app-missieven/code</span>"
      ],
      "text/plain": [
       "<IPython.core.display.HTML object>"
      ]
     },
     "metadata": {},
     "output_type": "display_data"
    },
    {
     "data": {
      "text/html": [
       "<b title=\"local github\">data:</b> <span title=\"repo clone offline under ~/github\">~/github/Dans-labs/clariah-gm/tf/0.4</span>"
      ],
      "text/plain": [
       "<IPython.core.display.HTML object>"
      ]
     },
     "metadata": {},
     "output_type": "display_data"
    },
    {
     "name": "stdout",
     "output_type": "stream",
     "text": [
      "   |     0.00s T author               from ~/github/Dans-labs/clariah-gm/tf/0.4\n",
      "   |     0.00s T authorFull           from ~/github/Dans-labs/clariah-gm/tf/0.4\n",
      "   |     0.03s T col                  from ~/github/Dans-labs/clariah-gm/tf/0.4\n",
      "   |     0.00s T day                  from ~/github/Dans-labs/clariah-gm/tf/0.4\n",
      "   |     0.01s T emph                 from ~/github/Dans-labs/clariah-gm/tf/0.4\n",
      "   |     0.02s T facs                 from ~/github/Dans-labs/clariah-gm/tf/0.4\n",
      "   |     0.09s T fnote                from ~/github/Dans-labs/clariah-gm/tf/0.4\n",
      "   |     0.01s T folio                from ~/github/Dans-labs/clariah-gm/tf/0.4\n",
      "   |     0.00s T month                from ~/github/Dans-labs/clariah-gm/tf/0.4\n",
      "   |     0.00s T page                 from ~/github/Dans-labs/clariah-gm/tf/0.4\n",
      "   |     0.00s T place                from ~/github/Dans-labs/clariah-gm/tf/0.4\n",
      "   |     0.00s T rawdate              from ~/github/Dans-labs/clariah-gm/tf/0.4\n",
      "   |     0.03s T ref                  from ~/github/Dans-labs/clariah-gm/tf/0.4\n",
      "   |     2.18s T remark               from ~/github/Dans-labs/clariah-gm/tf/0.4\n",
      "   |     0.03s T row                  from ~/github/Dans-labs/clariah-gm/tf/0.4\n",
      "   |     0.00s T seq                  from ~/github/Dans-labs/clariah-gm/tf/0.4\n",
      "   |     0.00s T special              from ~/github/Dans-labs/clariah-gm/tf/0.4\n",
      "   |     0.00s T status               from ~/github/Dans-labs/clariah-gm/tf/0.4\n",
      "   |     0.00s T sub                  from ~/github/Dans-labs/clariah-gm/tf/0.4\n",
      "   |     0.00s T super                from ~/github/Dans-labs/clariah-gm/tf/0.4\n",
      "   |     0.01s T tpl                  from ~/github/Dans-labs/clariah-gm/tf/0.4\n",
      "   |     0.00s T und                  from ~/github/Dans-labs/clariah-gm/tf/0.4\n",
      "   |     0.01s T vol                  from ~/github/Dans-labs/clariah-gm/tf/0.4\n",
      "   |     0.00s T year                 from ~/github/Dans-labs/clariah-gm/tf/0.4\n"
     ]
    },
    {
     "data": {
      "text/html": [
       "<b>Text-Fabric:</b> <a target=\"_blank\" href=\"https://annotation.github.io/text-fabric/cheatsheet.html\" title=\"text-fabric-api\">Text-Fabric API 8.4.7</a>, <a target=\"_blank\" href=\"https://github.com/annotation/app-missieven\" title=\"missieven TF-app\">app-missieven v3</a>, <a target=\"_blank\" href=\"https://annotation.github.io/text-fabric/about/searchusage.html\" title=\"Search Templates Introduction and Reference\">Search Reference</a><br><b>Data:</b> <a target=\"_blank\" href=\"https://github.com/Dans-labs/clariah-gm/blob/master/docs/transcription.md\" title=\"provenance of General Missives Dutch East India Company 1600-1800\">CLARIAH-GM</a>, <a target=\"_blank\" href=\"https://annotation.github.io/text-fabric/writing/.html\" title=\"How TF features represent text\">Character table</a>, <a target=\"_blank\" href=\"https://github.com/Dans-labs/clariah-gm/blob/master/docs/transcription.md\" title=\"CLARIAH-GM feature documentation\">Feature docs</a><br><b>Features:</b><br><details><summary><b>General Missives Dutch East India Company 1600-1800</b></summary><a target=\"_blank\" href=\"https://github.com/Dans-labs/clariah-gm/blob/master/docs/transcription.md\" title=\"~/github/Dans-labs/clariah-gm/tf/0.4/author.tf\">author</a><br><a target=\"_blank\" href=\"https://github.com/Dans-labs/clariah-gm/blob/master/docs/transcription.md\" title=\"~/github/Dans-labs/clariah-gm/tf/0.4/authorFull.tf\">authorFull</a><br><a target=\"_blank\" href=\"https://github.com/Dans-labs/clariah-gm/blob/master/docs/transcription.md\" title=\"~/github/Dans-labs/clariah-gm/tf/0.4/col.tf\">col</a><br><a target=\"_blank\" href=\"https://github.com/Dans-labs/clariah-gm/blob/master/docs/transcription.md\" title=\"~/github/Dans-labs/clariah-gm/tf/0.4/day.tf\">day</a><br><a target=\"_blank\" href=\"https://github.com/Dans-labs/clariah-gm/blob/master/docs/transcription.md\" title=\"~/github/Dans-labs/clariah-gm/tf/0.4/emph.tf\">emph</a><br><a target=\"_blank\" href=\"https://github.com/Dans-labs/clariah-gm/blob/master/docs/transcription.md\" title=\"~/github/Dans-labs/clariah-gm/tf/0.4/facs.tf\">facs</a><br><a target=\"_blank\" href=\"https://github.com/Dans-labs/clariah-gm/blob/master/docs/transcription.md\" title=\"~/github/Dans-labs/clariah-gm/tf/0.4/fnote.tf\">fnote</a><br><a target=\"_blank\" href=\"https://github.com/Dans-labs/clariah-gm/blob/master/docs/transcription.md\" title=\"~/github/Dans-labs/clariah-gm/tf/0.4/folio.tf\">folio</a><br><a target=\"_blank\" href=\"https://github.com/Dans-labs/clariah-gm/blob/master/docs/transcription.md\" title=\"~/github/Dans-labs/clariah-gm/tf/0.4/month.tf\">month</a><br><a target=\"_blank\" href=\"https://github.com/Dans-labs/clariah-gm/blob/master/docs/transcription.md\" title=\"~/github/Dans-labs/clariah-gm/tf/0.4/n.tf\">n</a><br><a target=\"_blank\" href=\"https://github.com/Dans-labs/clariah-gm/blob/master/docs/transcription.md\" title=\"~/github/Dans-labs/clariah-gm/tf/0.4/otype.tf\">otype</a><br><a target=\"_blank\" href=\"https://github.com/Dans-labs/clariah-gm/blob/master/docs/transcription.md\" title=\"~/github/Dans-labs/clariah-gm/tf/0.4/page.tf\">page</a><br><a target=\"_blank\" href=\"https://github.com/Dans-labs/clariah-gm/blob/master/docs/transcription.md\" title=\"~/github/Dans-labs/clariah-gm/tf/0.4/place.tf\">place</a><br><a target=\"_blank\" href=\"https://github.com/Dans-labs/clariah-gm/blob/master/docs/transcription.md\" title=\"~/github/Dans-labs/clariah-gm/tf/0.4/punc.tf\">punc</a><br><a target=\"_blank\" href=\"https://github.com/Dans-labs/clariah-gm/blob/master/docs/transcription.md\" title=\"~/github/Dans-labs/clariah-gm/tf/0.4/punco.tf\">punco</a><br><a target=\"_blank\" href=\"https://github.com/Dans-labs/clariah-gm/blob/master/docs/transcription.md\" title=\"~/github/Dans-labs/clariah-gm/tf/0.4/puncr.tf\">puncr</a><br><a target=\"_blank\" href=\"https://github.com/Dans-labs/clariah-gm/blob/master/docs/transcription.md\" title=\"~/github/Dans-labs/clariah-gm/tf/0.4/rawdate.tf\">rawdate</a><br><a target=\"_blank\" href=\"https://github.com/Dans-labs/clariah-gm/blob/master/docs/transcription.md\" title=\"~/github/Dans-labs/clariah-gm/tf/0.4/ref.tf\">ref</a><br><a target=\"_blank\" href=\"https://github.com/Dans-labs/clariah-gm/blob/master/docs/transcription.md\" title=\"~/github/Dans-labs/clariah-gm/tf/0.4/remark.tf\">remark</a><br><a target=\"_blank\" href=\"https://github.com/Dans-labs/clariah-gm/blob/master/docs/transcription.md\" title=\"~/github/Dans-labs/clariah-gm/tf/0.4/row.tf\">row</a><br><a target=\"_blank\" href=\"https://github.com/Dans-labs/clariah-gm/blob/master/docs/transcription.md\" title=\"~/github/Dans-labs/clariah-gm/tf/0.4/seq.tf\">seq</a><br><a target=\"_blank\" href=\"https://github.com/Dans-labs/clariah-gm/blob/master/docs/transcription.md\" title=\"~/github/Dans-labs/clariah-gm/tf/0.4/special.tf\">special</a><br><a target=\"_blank\" href=\"https://github.com/Dans-labs/clariah-gm/blob/master/docs/transcription.md\" title=\"~/github/Dans-labs/clariah-gm/tf/0.4/status.tf\">status</a><br><a target=\"_blank\" href=\"https://github.com/Dans-labs/clariah-gm/blob/master/docs/transcription.md\" title=\"~/github/Dans-labs/clariah-gm/tf/0.4/sub.tf\">sub</a><br><a target=\"_blank\" href=\"https://github.com/Dans-labs/clariah-gm/blob/master/docs/transcription.md\" title=\"~/github/Dans-labs/clariah-gm/tf/0.4/super.tf\">super</a><br><a target=\"_blank\" href=\"https://github.com/Dans-labs/clariah-gm/blob/master/docs/transcription.md\" title=\"~/github/Dans-labs/clariah-gm/tf/0.4/title.tf\">title</a><br><a target=\"_blank\" href=\"https://github.com/Dans-labs/clariah-gm/blob/master/docs/transcription.md\" title=\"~/github/Dans-labs/clariah-gm/tf/0.4/tpl.tf\">tpl</a><br><a target=\"_blank\" href=\"https://github.com/Dans-labs/clariah-gm/blob/master/docs/transcription.md\" title=\"~/github/Dans-labs/clariah-gm/tf/0.4/trans.tf\">trans</a><br><a target=\"_blank\" href=\"https://github.com/Dans-labs/clariah-gm/blob/master/docs/transcription.md\" title=\"~/github/Dans-labs/clariah-gm/tf/0.4/transo.tf\">transo</a><br><a target=\"_blank\" href=\"https://github.com/Dans-labs/clariah-gm/blob/master/docs/transcription.md\" title=\"~/github/Dans-labs/clariah-gm/tf/0.4/transr.tf\">transr</a><br><a target=\"_blank\" href=\"https://github.com/Dans-labs/clariah-gm/blob/master/docs/transcription.md\" title=\"~/github/Dans-labs/clariah-gm/tf/0.4/und.tf\">und</a><br><a target=\"_blank\" href=\"https://github.com/Dans-labs/clariah-gm/blob/master/docs/transcription.md\" title=\"~/github/Dans-labs/clariah-gm/tf/0.4/vol.tf\">vol</a><br><a target=\"_blank\" href=\"https://github.com/Dans-labs/clariah-gm/blob/master/docs/transcription.md\" title=\"~/github/Dans-labs/clariah-gm/tf/0.4/year.tf\">year</a><br><b><i><a target=\"_blank\" href=\"https://github.com/Dans-labs/clariah-gm/blob/master/docs/transcription.md\" title=\"~/github/Dans-labs/clariah-gm/tf/0.4/oslots.tf\">oslots</a></i></b><br></details>"
      ],
      "text/plain": [
       "<IPython.core.display.HTML object>"
      ]
     },
     "metadata": {},
     "output_type": "display_data"
    },
    {
     "data": {
      "text/html": [
       "<style>tr.tf.ltr, td.tf.ltr, th.tf.ltr { text-align: left ! important;}\n",
       "tr.tf.rtl, td.tf.rtl, th.tf.rtl { text-align: right ! important;}\n",
       "@font-face {\n",
       "  font-family: \"Gentium Plus\";\n",
       "  src: local('Gentium Plus'), local('GentiumPlus'),\n",
       "    url('/server/static/fonts/GentiumPlus-R.woff') format('woff'),\n",
       "    url('https://github.com/annotation/text-fabric/blob/master/tf/server/static/fonts/GentiumPlus-R.woff?raw=true') format('woff');\n",
       "}\n",
       "\n",
       "@font-face {\n",
       "  font-family: \"Ezra SIL\";\n",
       "  src: local('Ezra SIL'), local('EzraSIL'),\n",
       "    url('/server/static/fonts/SILEOT.woff') format('woff'),\n",
       "    url('https://github.com/annotation/text-fabric/blob/master/tf/server/static/fonts/SILEOT.woff?raw=true') format('woff');\n",
       "}\n",
       "\n",
       "@font-face {\n",
       "  font-family: \"SBL Hebrew\";\n",
       "  src: local('SBL Hebrew'), local('SBLHebrew'),\n",
       "    url('/server/static/fonts/SBL_Hbrw.woff') format('woff'),\n",
       "    url('https://github.com/annotation/text-fabric/blob/master/tf/server/static/fonts/SBL_Hbrw.woff?raw=true') format('woff');\n",
       "}\n",
       "\n",
       "@font-face {\n",
       "  font-family: \"Estrangelo Edessa\";\n",
       "  src: local('Estrangelo Edessa'), local('EstrangeloEdessa');\n",
       "    url('/server/static/fonts/SyrCOMEdessa.woff') format('woff'),\n",
       "    url('https://github.com/annotation/text-fabric/blob/master/tf/server/static/fonts/SyrCOMEdessa.woff?raw=true') format('woff');\n",
       "}\n",
       "\n",
       "@font-face {\n",
       "  font-family: AmiriQuran;\n",
       "  font-style: normal;\n",
       "  font-weight: 400;\n",
       "  src: local('Amiri Quran'), local('AmiriQuran'),\n",
       "    url('/server/static/fonts/AmiriQuran.woff') format('woff'),\n",
       "    url('https://github.com/annotation/text-fabric/blob/master/tf/server/static/fonts/AmiriQuran.woff?raw=true') format('woff');\n",
       "}\n",
       "\n",
       "@font-face {\n",
       "  font-family: AmiriQuranColored;\n",
       "  font-style: normal;\n",
       "  font-weight: 400;\n",
       "  src: local('Amiri Quran Colored'), local('AmiriQuranColored'),\n",
       "    url('/server/static/fonts/AmiriQuranColored.woff') format('woff'),\n",
       "    url('https://github.com/annotation/text-fabric/blob/master/tf/server/static/fonts/AmiriQuranColored.woff?raw=true') format('woff');\n",
       "}\n",
       "\n",
       "@font-face {\n",
       "  font-family: \"Santakku\";\n",
       "  src: local('Santakku'),\n",
       "    url('/server/static/fonts/Santakku.woff') format('woff'),\n",
       "    url('https://github.com/annotation/text-fabric/blob/master/tf/server/static/fonts/Santakku.woff?raw=true') format('woff');\n",
       "}\n",
       "\n",
       "@font-face {\n",
       "  font-family: \"SantakkuM\";\n",
       "  src: local('SantakkuM'),\n",
       "    url('/server/static/fonts/SantakkuM.woff') format('woff'),\n",
       "    url('https://github.com/annotation/text-fabric/blob/master/tf/server/static/fonts/SantakkuM.woff?raw=true') format('woff');\n",
       "}\n",
       "/* bypassing some classical notebook settings */\n",
       "div#notebook {\n",
       "  line-height: unset;\n",
       "}\n",
       "/* neutral text */\n",
       ".txtn,.txtn a:visited,.txtn a:link {\n",
       "    font-family: sans-serif;\n",
       "    font-size: medium;\n",
       "    direction: ltr;\n",
       "    unicode-bidi: embed;\n",
       "    text-decoration: none;\n",
       "    color: var(--text-color);\n",
       "}\n",
       "/* transcription text */\n",
       ".txtt,.txtt a:visited,.txtt a:link {\n",
       "    font-family: monospace;\n",
       "    font-size: medium;\n",
       "    direction: ltr;\n",
       "    unicode-bidi: embed;\n",
       "    text-decoration: none;\n",
       "    color: var(--text-color);\n",
       "}\n",
       "/* source text */\n",
       ".txto,.txto a:visited,.txto a:link {\n",
       "    font-family: serif;\n",
       "    font-size: medium;\n",
       "    direction: ltr;\n",
       "    unicode-bidi: embed;\n",
       "    text-decoration: none;\n",
       "    color: var(--text-color);\n",
       "}\n",
       "/* phonetic text */\n",
       ".txtp,.txtp a:visited,.txtp a:link {\n",
       "    font-family: Gentium, sans-serif;\n",
       "    font-size: medium;\n",
       "    direction: ltr;\n",
       "    unicode-bidi: embed;\n",
       "    text-decoration: none;\n",
       "    color: var(--text-color);\n",
       "}\n",
       "/* original script text */\n",
       ".txtu,.txtu a:visited,.txtu a:link {\n",
       "    font-family: Gentium, sans-serif;\n",
       "    font-size: medium;\n",
       "    text-decoration: none;\n",
       "    color: var(--text-color);\n",
       "}\n",
       "/* hebrew */\n",
       ".txtu.hbo,.lex.hbo {\n",
       "    font-family: \"Ezra SIL\", \"SBL Hebrew\", sans-serif;\n",
       "    font-size: large;\n",
       "    direction: rtl ! important;\n",
       "    unicode-bidi: embed;\n",
       "}\n",
       "/* syriac */\n",
       ".txtu.syc,.lex.syc {\n",
       "    font-family: \"Estrangelo Edessa\", sans-serif;\n",
       "    font-size: medium;\n",
       "    direction: rtl ! important;\n",
       "    unicode-bidi: embed;\n",
       "}\n",
       "/* neo aramaic */\n",
       ".txtu.cld,.lex.cld {\n",
       "    font-family: \"CharisSIL-R\", sans-serif;\n",
       "    font-size: medium;\n",
       "    direction: ltr ! important;\n",
       "    unicode-bidi: embed;\n",
       "}\n",
       "/* standard arabic */\n",
       ".txtu.ara,.lex.ara {\n",
       "    font-family: \"AmiriQuran\", sans-serif;\n",
       "    font-size: large;\n",
       "    direction: rtl ! important;\n",
       "    unicode-bidi: embed;\n",
       "}\n",
       "/* cuneiform */\n",
       ".txtu.akk,.lex.akk {\n",
       "    font-family: Santakku, sans-serif;\n",
       "    font-size: large;\n",
       "    direction: ltr ! important;\n",
       "    unicode-bidi: embed;\n",
       "}\n",
       "/* greek */\n",
       ".txtu.grc,.lex.grc a:link {\n",
       "    font-family: Gentium, sans-serif;\n",
       "    font-size: medium;\n",
       "    direction: ltr ! important;\n",
       "    unicode-bidi: embed;\n",
       "}\n",
       "a:hover {\n",
       "    text-decoration: underline | important;\n",
       "    color: #0000ff | important;\n",
       "}\n",
       ".ltr {\n",
       "    direction: ltr ! important;\n",
       "    unicode-bidi: embed;\n",
       "}\n",
       ".rtl {\n",
       "    direction: rtl ! important;\n",
       "    unicode-bidi: embed;\n",
       "}\n",
       ".ubd {\n",
       "    unicode-bidi: embed;\n",
       "}\n",
       ".col {\n",
       "   display: inline-block;\n",
       "}\n",
       ".features {\n",
       "    font-family: monospace;\n",
       "    font-size: medium;\n",
       "    font-weight: bold;\n",
       "    color: var(--features);\n",
       "    display: flex;\n",
       "    flex-flow: column nowrap;\n",
       "    justify-content: flex-start;\n",
       "    align-items: flex-start;\n",
       "    align-content: flex-start;\n",
       "    padding: 2px;\n",
       "    margin: 2px;\n",
       "    direction: ltr;\n",
       "    unicode-bidi: embed;\n",
       "    border: var(--meta-width) solid var(--meta-color);\n",
       "    border-radius: var(--meta-width);\n",
       "}\n",
       ".features div,.features span {\n",
       "    padding: 0;\n",
       "    margin: -2px 0;\n",
       "}\n",
       ".features .f {\n",
       "    font-family: sans-serif;\n",
       "    font-size: small;\n",
       "    font-weight: normal;\n",
       "    color: #5555bb;\n",
       "}\n",
       ".features .xft {\n",
       "  color: #000000;\n",
       "  background-color: #eeeeee;\n",
       "  font-size: medium;\n",
       "  margin: 2px 0px;\n",
       "}\n",
       ".features .xft .f {\n",
       "  color: #000000;\n",
       "  background-color: #eeeeee;\n",
       "  font-size: small;\n",
       "  font-weight: normal;\n",
       "}\n",
       ".tfsechead {\n",
       "    font-family: sans-serif;\n",
       "    font-size: small;\n",
       "    font-weight: bold;\n",
       "    color: var(--tfsechead);\n",
       "    unicode-bidi: embed;\n",
       "    text-align: start;\n",
       "}\n",
       ".structure {\n",
       "    font-family: sans-serif;\n",
       "    font-size: small;\n",
       "    font-weight: bold;\n",
       "    color: var(--structure);\n",
       "    unicode-bidi: embed;\n",
       "    text-align: start;\n",
       "}\n",
       ".comments {\n",
       "    display: flex;\n",
       "    justify-content: flex-start;\n",
       "    align-items: flex-start;\n",
       "    align-content: flex-start;\n",
       "    flex-flow: column nowrap;\n",
       "}\n",
       ".nd, a:link.nd {\n",
       "    font-family: sans-serif;\n",
       "    font-size: small;\n",
       "    color: var(--node);\n",
       "    vertical-align: super;\n",
       "    direction: ltr ! important;\n",
       "    unicode-bidi: embed;\n",
       "}\n",
       ".lex {\n",
       "  color: var(--lex-color);;\n",
       "}\n",
       ".children,.children.ltr {\n",
       "    display: flex;\n",
       "    border: 0;\n",
       "    background-color: #ffffff;\n",
       "    justify-content: flex-start;\n",
       "    align-items: flex-start;\n",
       "    align-content: flex-start;\n",
       "}\n",
       ".children.stretch {\n",
       "    align-items: stretch;\n",
       "}\n",
       ".children.hor {\n",
       "    flex-flow: row nowrap;\n",
       "}\n",
       ".children.hor.wrap {\n",
       "    flex-flow: row wrap;\n",
       "}\n",
       ".children.ver {\n",
       "    flex-flow: column nowrap;\n",
       "}\n",
       ".children.ver.wrap {\n",
       "    flex-flow: column wrap;\n",
       "}\n",
       ".contnr {\n",
       "    width: fit-content;\n",
       "    display: flex;\n",
       "    justify-content: flex-start;\n",
       "    align-items: flex-start;\n",
       "    align-content: flex-start;\n",
       "    flex-flow: column nowrap;\n",
       "    background: #ffffff none repeat scroll 0 0;\n",
       "    padding:  10px 2px 2px 2px;\n",
       "    margin: 16px 2px 2px 2px;\n",
       "    border-style: solid;\n",
       "    font-size: small;\n",
       "}\n",
       ".contnr.trm {\n",
       "    background-attachment: local;\n",
       "}\n",
       ".contnr.cnul {\n",
       "    padding:  0;\n",
       "    margin: 0;\n",
       "    border-style: solid;\n",
       "    font-size: xx-small;\n",
       "}\n",
       ".contnr.cnul,.lbl.cnul {\n",
       "    border-color: var(--border-color-nul);\n",
       "    border-width: var(--border-width-nul);\n",
       "    border-radius: var(--border-width-nul);\n",
       "}\n",
       ".contnr.c0,.lbl.c0 {\n",
       "    border-color: var(--border-color0);\n",
       "    border-width: var(--border-width0);\n",
       "    border-radius: var(--border-width0);\n",
       "}\n",
       ".contnr.c1,.lbl.c1 {\n",
       "    border-color: var(--border-color1);\n",
       "    border-width: var(--border-width1);\n",
       "    border-radius: var(--border-width1);\n",
       "}\n",
       ".contnr.c2,.lbl.c2 {\n",
       "    border-color: var(--border-color2);\n",
       "    border-width: var(--border-width2);\n",
       "    border-radius: var(--border-width2);\n",
       "}\n",
       ".contnr.c3,.lbl.c3 {\n",
       "    border-color: var(--border-color3);\n",
       "    border-width: var(--border-width3);\n",
       "    border-radius: var(--border-width3);\n",
       "}\n",
       ".contnr.c4,.lbl.c4 {\n",
       "    border-color: var(--border-color4);\n",
       "    border-width: var(--border-width4);\n",
       "    border-radius: var(--border-width4);\n",
       "}\n",
       "span.plain {\n",
       "    display: inline-block;\n",
       "    white-space: pre-wrap;\n",
       "}\n",
       ".plain {\n",
       "    background-color: #ffffff;\n",
       "}\n",
       ".plain.l,.contnr.l,.contnr.l>.lbl {\n",
       "    border-left-style: dotted\n",
       "}\n",
       ".plain.r,.contnr.r,.contnr.r>.lbl {\n",
       "    border-right-style: dotted\n",
       "}\n",
       ".plain.lno,.contnr.lno,.contnr.lno>.lbl {\n",
       "    border-left-style: none\n",
       "}\n",
       ".plain.rno,.contnr.rno,.contnr.rno>.lbl {\n",
       "    border-right-style: none\n",
       "}\n",
       ".plain.l {\n",
       "    padding-left: 4px;\n",
       "    margin-left: 2px;\n",
       "    border-width: var(--border-width-plain);\n",
       "}\n",
       ".plain.r {\n",
       "    padding-right: 4px;\n",
       "    margin-right: 2px;\n",
       "    border-width: var(--border-width-plain);\n",
       "}\n",
       ".lbl {\n",
       "    font-family: monospace;\n",
       "    margin-top: -24px;\n",
       "    margin-left: 20px;\n",
       "    background: #ffffff none repeat scroll 0 0;\n",
       "    padding: 0 6px;\n",
       "    border-style: solid;\n",
       "    display: block;\n",
       "    color: var(--label)\n",
       "}\n",
       ".lbl.trm {\n",
       "    background-attachment: local;\n",
       "    margin-top: 2px;\n",
       "    margin-left: 2px;\n",
       "    padding: 2px 2px;\n",
       "    border-style: none;\n",
       "}\n",
       ".lbl.cnul {\n",
       "    font-size: xx-small;\n",
       "}\n",
       ".lbl.c0 {\n",
       "    font-size: small;\n",
       "}\n",
       ".lbl.c1 {\n",
       "    font-size: small;\n",
       "}\n",
       ".lbl.c2 {\n",
       "    font-size: medium;\n",
       "}\n",
       ".lbl.c3 {\n",
       "    font-size: medium;\n",
       "}\n",
       ".lbl.c4 {\n",
       "    font-size: large;\n",
       "}\n",
       ".occs, a:link.occs {\n",
       "    font-size: small;\n",
       "}\n",
       "\n",
       "/* PROVENANCE */\n",
       "\n",
       "div.prov {\n",
       "\tmargin: 40px;\n",
       "\tpadding: 20px;\n",
       "\tborder: 2px solid var(--fog-rim);\n",
       "}\n",
       "div.pline {\n",
       "\tdisplay: flex;\n",
       "\tflex-flow: row nowrap;\n",
       "\tjustify-content: stretch;\n",
       "\talign-items: baseline;\n",
       "}\n",
       "div.p2line {\n",
       "\tmargin-left: 2em;\n",
       "\tdisplay: flex;\n",
       "\tflex-flow: row nowrap;\n",
       "\tjustify-content: stretch;\n",
       "\talign-items: baseline;\n",
       "}\n",
       "div.psline {\n",
       "\tdisplay: flex;\n",
       "\tflex-flow: row nowrap;\n",
       "\tjustify-content: stretch;\n",
       "\talign-items: baseline;\n",
       "\tbackground-color: var(--gold-mist-back);\n",
       "}\n",
       "div.pname {\n",
       "\tflex: 0 0 5rem;\n",
       "\tfont-weight: bold;\n",
       "}\n",
       "div.pval {\n",
       "    flex: 1 1 auto;\n",
       "}\n",
       "\n",
       ":root {\n",
       "\t--node:               hsla(120, 100%,  20%, 1.0  );\n",
       "\t--label:              hsla(  0, 100%,  20%, 1.0  );\n",
       "\t--tfsechead:          hsla(  0, 100%,  25%, 1.0  );\n",
       "\t--structure:          hsla(120, 100%,  25%, 1.0  );\n",
       "\t--features:           hsla(  0,   0%,  30%, 1.0  );\n",
       "  --text-color:         hsla( 60,  80%,  10%, 1.0  );\n",
       "  --lex-color:          hsla(220,  90%,  60%, 1.0  );\n",
       "  --meta-color:         hsla(  0,   0%,  90%, 0.7  );\n",
       "  --meta-width:         3px;\n",
       "  --border-color-nul:   hsla(  0,   0%,  90%, 0.5  );\n",
       "  --border-color0:      hsla(  0,   0%,  90%, 0.9  );\n",
       "  --border-color1:      hsla(  0,   0%,  80%, 0.9  );\n",
       "  --border-color2:      hsla(  0,   0%,  70%, 0.9  );\n",
       "  --border-color3:      hsla(  0,   0%,  80%, 0.8  );\n",
       "  --border-color4:      hsla(  0,   0%,  60%, 0.9  );\n",
       "  --border-width-nul:   2px;\n",
       "  --border-width0:      2px;\n",
       "  --border-width1:      3px;\n",
       "  --border-width2:      4px;\n",
       "  --border-width3:      6px;\n",
       "  --border-width4:      5px;\n",
       "  --border-width-plain: 2px;\n",
       "}\n",
       ".hl {\n",
       "  background-color: var(--hl-strong);\n",
       "}\n",
       "span.hl {\n",
       "\tbackground-color: var(--hl-strong);\n",
       "\tborder-width: 0;\n",
       "\tborder-radius: 2px;\n",
       "\tborder-style: solid;\n",
       "}\n",
       "div.contnr.hl,div.lbl.hl {\n",
       "  background-color: var(--hl-strong);\n",
       "}\n",
       "div.contnr.hl {\n",
       "  border-color: var(--hl-rim) ! important;\n",
       "\tborder-width: 4px ! important;\n",
       "}\n",
       "\n",
       "span.hlbx {\n",
       "\tborder-color: var(--hl-rim);\n",
       "\tborder-width: 4px ! important;\n",
       "\tborder-style: solid;\n",
       "\tborder-radius: 6px;\n",
       "  padding: 4px;\n",
       "  margin: 4px;\n",
       "}\n",
       "\n",
       "span.plain {\n",
       "  display: inline-block;\n",
       "  white-space: pre-wrap;\n",
       "}\n",
       "\n",
       ":root {\n",
       "\t--hl-strong:        hsla( 60, 100%,  70%, 0.9  );\n",
       "\t--hl-rim:           hsla( 55,  80%,  50%, 1.0  );\n",
       "}\n",
       ".remark {\n",
       "  font-size: large;\n",
       "  font-style: italic;\n",
       "}\n",
       ".folio {\n",
       "  font-size: small;\n",
       "  color: #668866;\n",
       "}\n",
       ".fmark:after {\n",
       "  font-size: small;\n",
       "  font-weight: bold;\n",
       "  vertical-align: super;\n",
       "  color: #ddaa22;\n",
       "}\n",
       ".fbody {\n",
       "  vertical-align: super;\n",
       "  font-size: small;\n",
       "  color: #774400;\n",
       "}\n",
       ".ref {\n",
       "  font-size: small;\n",
       "  font-weight: bold;\n",
       "  color: #666688;\n",
       "}\n",
       ".emph {\n",
       "  font-style: italic;\n",
       "}\n",
       ".und {\n",
       "  text-decoration: underline;\n",
       "}\n",
       ".super {\n",
       "  vertical-align: super;\n",
       "}\n",
       ".special {\n",
       "  font-family: monospace;\n",
       "  font-weight: bold;\n",
       "  color: #886666;\n",
       "}\n",
       "</style>"
      ],
      "text/plain": [
       "<IPython.core.display.HTML object>"
      ]
     },
     "metadata": {},
     "output_type": "display_data"
    },
    {
     "data": {
      "text/html": [
       "<div><b>Text-Fabric API:</b> names <a target=\"_blank\" href=\"https://annotation.github.io/text-fabric/cheatsheet.html\" title=\"doc\">N F E L T S C TF</a> directly usable</div><hr>"
      ],
      "text/plain": [
       "<IPython.core.display.HTML object>"
      ]
     },
     "metadata": {},
     "output_type": "display_data"
    }
   ],
   "source": [
    "# A = use(\"missieven:v0.4\", hoist=globals())\n",
    "A = use(\"missieven:v0.4\", checkout=\"clone\", hoist=globals())"
   ]
  },
  {
   "cell_type": "markdown",
   "metadata": {},
   "source": [
    "Text-Fabric has support for exporting data together with location information and then importing new data\n",
    "and turning it into new features based on the location information.\n",
    "\n",
    "See [Recorder](https://annotation.github.io/text-fabric/tf/convert/recorder.html).\n",
    "\n",
    "We show the workflow by selecting a letter, exporting the original text material as plain text,\n",
    "manually annotating it for named entities with [BRAT](https://brat.nlplab.org) and then saving the output\n",
    "as a new feature `name`."
   ]
  },
  {
   "cell_type": "markdown",
   "metadata": {},
   "source": [
    "# Text selection\n",
    "\n",
    "We choose volume 1 page 6:"
   ]
  },
  {
   "cell_type": "code",
   "execution_count": 5,
   "metadata": {
    "ExecuteTime": {
     "end_time": "2018-05-24T07:46:55.998382Z",
     "start_time": "2018-05-24T07:46:55.137956Z"
    }
   },
   "outputs": [
    {
     "data": {
      "text/html": [
       "<div class=\"\"><span class=\"tfsechead \"><a target=\"_blank\" href=\"http://resources.huygens.knaw.nl/retroboeken/generalemissiven/#page=29&amp;source=1\" title=\"Show this document on Huygens\" sec=\"1 6:1\">1 6:1</a></span>  <span class=\"txtu\"><span class=\"remark\"></span></span><span class=\"txtu\"><span class=\"remark\"></span></span><span class=\"txtu\"><span class=\"remark\"></span></span><span class=\"txtu\"><span class=\"remark\"></span></span><span class=\"txtu\"><span class=\"remark ref\"></span></span><span class=\"txtu\"><span class=\"remark ref\"></span></span><span class=\"txtu\"><span class=\"remark ref\"></span></span><span class=\"txtu\"><span class=\"remark ref\"></span></span><span class=\"txtu\"><span class=\"remark ref\"></span></span><span class=\"txtu\"><span class=\"remark\"></span></span><span class=\"txtu\"><span class=\"remark\"></span></span><span class=\"txtu\"><span class=\"remark\"></span></span></div>"
      ],
      "text/plain": [
       "<IPython.core.display.HTML object>"
      ]
     },
     "metadata": {},
     "output_type": "display_data"
    },
    {
     "data": {
      "text/html": [
       "<div class=\"\"><span class=\"tfsechead \"><a target=\"_blank\" href=\"http://resources.huygens.knaw.nl/retroboeken/generalemissiven/#page=29&amp;source=1\" title=\"Show this document on Huygens\" sec=\"1 6:2\">1 6:2</a></span>  <span class=\"txtu\"><span class=\"remark\"></span></span></div>"
      ],
      "text/plain": [
       "<IPython.core.display.HTML object>"
      ]
     },
     "metadata": {},
     "output_type": "display_data"
    },
    {
     "data": {
      "text/html": [
       "<div class=\"\"><span class=\"tfsechead \"><a target=\"_blank\" href=\"http://resources.huygens.knaw.nl/retroboeken/generalemissiven/#page=29&amp;source=1\" title=\"Show this document on Huygens\" sec=\"1 6:3\">1 6:3</a></span>  </div>"
      ],
      "text/plain": [
       "<IPython.core.display.HTML object>"
      ]
     },
     "metadata": {},
     "output_type": "display_data"
    },
    {
     "data": {
      "text/html": [
       "<div class=\"\"><span class=\"tfsechead \"><a target=\"_blank\" href=\"http://resources.huygens.knaw.nl/retroboeken/generalemissiven/#page=29&amp;source=1\" title=\"Show this document on Huygens\" sec=\"1 6:4\">1 6:4</a></span>  <span class=\"txtu\">Op </span><span class=\"txtu\">den </span><span class=\"txtu\">12 </span><span class=\"txtu\">deser </span><span class=\"txtu\">is </span><span class=\"txtu\">een </span><span class=\"txtu\">jonge </span><span class=\"txtu\">slave </span><span class=\"txtu\">van </span><span class=\"txtu\">een </span><span class=\"txtu\">orancay<span class=\"fbody\">«1. Orangkaja, hier aanduiding voor een Bandanees hoofd of aanzienlijke.\n",
       "\n",
       "\n",
       "»</span></span><span class=\"txtu\">bij </span><span class=\"txtu\">nacht </span><span class=\"txtu\">comen</span></div>"
      ],
      "text/plain": [
       "<IPython.core.display.HTML object>"
      ]
     },
     "metadata": {},
     "output_type": "display_data"
    },
    {
     "data": {
      "text/html": [
       "<div class=\"\"><span class=\"tfsechead \"><a target=\"_blank\" href=\"http://resources.huygens.knaw.nl/retroboeken/generalemissiven/#page=29&amp;source=1\" title=\"Show this document on Huygens\" sec=\"1 6:5\">1 6:5</a></span>  <span class=\"txtu\">swemmen </span><span class=\"txtu\">aen </span><span class=\"txtu\">onse </span><span class=\"txtu\">sloep, </span><span class=\"txtu\">cloeck </span><span class=\"txtu\">van </span><span class=\"txtu\">verstant </span><span class=\"txtu\">ende </span><span class=\"txtu\">prompt </span><span class=\"txtu\">in </span><span class=\"txtu\">’t </span><span class=\"txtu\">antwoorden,</span></div>"
      ],
      "text/plain": [
       "<IPython.core.display.HTML object>"
      ]
     },
     "metadata": {},
     "output_type": "display_data"
    },
    {
     "data": {
      "text/html": [
       "<div class=\"\"><span class=\"tfsechead \"><a target=\"_blank\" href=\"http://resources.huygens.knaw.nl/retroboeken/generalemissiven/#page=29&amp;source=1\" title=\"Show this document on Huygens\" sec=\"1 6:6\">1 6:6</a></span>  <span class=\"txtu\">hebben </span><span class=\"txtu\">daeromme </span><span class=\"txtu\">den </span><span class=\"txtu\">14en </span><span class=\"txtu\">deser </span><span class=\"txtu\">goet </span><span class=\"txtu\">gevonden </span><span class=\"txtu\">14 </span><span class=\"txtu\">soldaeten </span><span class=\"txtu\">onder </span><span class=\"txtu\">’t </span><span class=\"txtu\">commandement</span></div>"
      ],
      "text/plain": [
       "<IPython.core.display.HTML object>"
      ]
     },
     "metadata": {},
     "output_type": "display_data"
    },
    {
     "data": {
      "text/html": [
       "<div class=\"\"><span class=\"tfsechead \"><a target=\"_blank\" href=\"http://resources.huygens.knaw.nl/retroboeken/generalemissiven/#page=29&amp;source=1\" title=\"Show this document on Huygens\" sec=\"1 6:7\">1 6:7</a></span>  <span class=\"txtu\">van </span><span class=\"txtu\">een </span><span class=\"txtu\">sergeant </span><span class=\"txtu\">met </span><span class=\"txtu\">een </span><span class=\"txtu\">prau </span><span class=\"txtu\">3 </span><span class=\"txtu\">uuren </span><span class=\"txtu\">voor </span><span class=\"txtu\">daege </span><span class=\"txtu\">aen </span><span class=\"txtu\">lant </span><span class=\"txtu\">te </span><span class=\"txtu\">setten </span><span class=\"txtu\">aen</span></div>"
      ],
      "text/plain": [
       "<IPython.core.display.HTML object>"
      ]
     },
     "metadata": {},
     "output_type": "display_data"
    },
    {
     "data": {
      "text/html": [
       "<div class=\"\"><span class=\"tfsechead \"><a target=\"_blank\" href=\"http://resources.huygens.knaw.nl/retroboeken/generalemissiven/#page=29&amp;source=1\" title=\"Show this document on Huygens\" sec=\"1 6:8\">1 6:8</a></span>  <span class=\"txtu\">d’ander </span><span class=\"txtu\">sijde </span><span class=\"txtu\">om </span><span class=\"txtu\">te </span><span class=\"txtu\">maeken </span><span class=\"txtu\">een </span><span class=\"txtu\">bosschaede<span class=\"fbody\">«2. Bosschaede, bedoeld* ambuscade, hinderlaag.\n",
       "\n",
       "\n",
       "»</span> </span><span class=\"txtu\">waertoe </span><span class=\"txtu\">medegenomen </span><span class=\"txtu\">werde </span><span class=\"txtu\">den</span></div>"
      ],
      "text/plain": [
       "<IPython.core.display.HTML object>"
      ]
     },
     "metadata": {},
     "output_type": "display_data"
    },
    {
     "data": {
      "text/html": [
       "<div class=\"\"><span class=\"tfsechead \"><a target=\"_blank\" href=\"http://resources.huygens.knaw.nl/retroboeken/generalemissiven/#page=29&amp;source=1\" title=\"Show this document on Huygens\" sec=\"1 6:9\">1 6:9</a></span>  <span class=\"txtu\">overloper </span><span class=\"txtu\">tot </span><span class=\"txtu\">een </span><span class=\"txtu\">guide, </span><span class=\"txtu\">niettemin </span><span class=\"txtu\">hem </span><span class=\"txtu\">gebonden </span><span class=\"txtu\">houdende </span><span class=\"txtu\">die </span><span class=\"txtu\">daertoe </span><span class=\"txtu\">seer </span><span class=\"txtu\">willich</span></div>"
      ],
      "text/plain": [
       "<IPython.core.display.HTML object>"
      ]
     },
     "metadata": {},
     "output_type": "display_data"
    },
    {
     "data": {
      "text/html": [
       "<div class=\"\"><span class=\"tfsechead \"><a target=\"_blank\" href=\"http://resources.huygens.knaw.nl/retroboeken/generalemissiven/#page=29&amp;source=1\" title=\"Show this document on Huygens\" sec=\"1 6:10\">1 6:10</a></span>  <span class=\"txtu\">was, </span><span class=\"txtu\">haer </span><span class=\"txtu\">belastende </span><span class=\"txtu\">sich </span><span class=\"txtu\">niet </span><span class=\"txtu\">te </span><span class=\"txtu\">openbaeren, </span><span class=\"txtu\">dan </span><span class=\"txtu\">voor </span><span class=\"txtu\">een </span><span class=\"txtu\">persoon </span><span class=\"txtu\">van </span><span class=\"txtu\">qualiteyt</span></div>"
      ],
      "text/plain": [
       "<IPython.core.display.HTML object>"
      ]
     },
     "metadata": {},
     "output_type": "display_data"
    },
    {
     "data": {
      "text/html": [
       "<div class=\"\"><span class=\"tfsechead \"><a target=\"_blank\" href=\"http://resources.huygens.knaw.nl/retroboeken/generalemissiven/#page=29&amp;source=1\" title=\"Show this document on Huygens\" sec=\"1 6:11\">1 6:11</a></span>  <span class=\"txtu\">gevangen </span><span class=\"txtu\">ofte </span><span class=\"txtu\">doot </span><span class=\"txtu\">te </span><span class=\"txtu\">crijgen. </span><span class=\"txtu\">Soo </span><span class=\"txtu\">is </span><span class=\"txtu\">gebeurt, </span><span class=\"txtu\">dat </span><span class=\"txtu\">daer </span><span class=\"txtu\">quamp </span><span class=\"txtu\">alleen </span><span class=\"txtu\">met </span><span class=\"txtu\">een</span></div>"
      ],
      "text/plain": [
       "<IPython.core.display.HTML object>"
      ]
     },
     "metadata": {},
     "output_type": "display_data"
    },
    {
     "data": {
      "text/html": [
       "<div class=\"\"><span class=\"tfsechead \"><a target=\"_blank\" href=\"http://resources.huygens.knaw.nl/retroboeken/generalemissiven/#page=29&amp;source=1\" title=\"Show this document on Huygens\" sec=\"1 6:12\">1 6:12</a></span>  <span class=\"txtu\">jongen </span><span class=\"txtu\">een </span><span class=\"txtu\">groot </span><span class=\"txtu\">arancay </span><span class=\"txtu\">van </span><span class=\"txtu\">Nera, </span><span class=\"txtu\">broeder </span><span class=\"txtu\">van </span><span class=\"txtu\">den </span><span class=\"txtu\">sabandaer<span class=\"fbody\">«3. Sjahbandar, uit het Perzisch overgenomen woord, in Zuidoost-Azië gebruikt voor\n",
       "\n",
       "\n",
       "havenmeester, tot wiens plichten ook het maken van contact met vreemde kooplieden behoorde.\n",
       "\n",
       "\n",
       "»</span> </span><span class=\"txtu\">dewelcke </span><span class=\"txtu\">sij</span></div>"
      ],
      "text/plain": [
       "<IPython.core.display.HTML object>"
      ]
     },
     "metadata": {},
     "output_type": "display_data"
    },
    {
     "data": {
      "text/html": [
       "<div class=\"\"><span class=\"tfsechead \"><a target=\"_blank\" href=\"http://resources.huygens.knaw.nl/retroboeken/generalemissiven/#page=29&amp;source=1\" title=\"Show this document on Huygens\" sec=\"1 6:13\">1 6:13</a></span>  <span class=\"txtu\">tref </span><span class=\"txtu\">f </span><span class=\"txtu\">ten </span><span class=\"txtu\">ende </span><span class=\"txtu\">’t </span><span class=\"txtu\">hooft </span><span class=\"txtu\">ons </span><span class=\"txtu\">hier </span><span class=\"txtu\">in </span><span class=\"txtu\">’t </span><span class=\"txtu\">casteel </span><span class=\"txtu\">gebracht, </span><span class=\"txtu\">den </span><span class=\"txtu\">voorsz. </span><span class=\"txtu\">orancaye </span><span class=\"txtu\">was </span><span class=\"txtu\">door</span></div>"
      ],
      "text/plain": [
       "<IPython.core.display.HTML object>"
      ]
     },
     "metadata": {},
     "output_type": "display_data"
    },
    {
     "data": {
      "text/html": [
       "<div class=\"\"><span class=\"tfsechead \"><a target=\"_blank\" href=\"http://resources.huygens.knaw.nl/retroboeken/generalemissiven/#page=29&amp;source=1\" title=\"Show this document on Huygens\" sec=\"1 6:14\">1 6:14</a></span>  <span class=\"txtu\">den </span><span class=\"txtu\">jongen </span><span class=\"txtu\">ende </span><span class=\"txtu\">andere </span><span class=\"txtu\">seer </span><span class=\"txtu\">wel </span><span class=\"txtu\">bekent, </span><span class=\"txtu\">14 </span><span class=\"txtu\">daegen </span><span class=\"txtu\">te </span><span class=\"txtu\">voorens </span><span class=\"txtu\">in </span><span class=\"txtu\">’t </span><span class=\"txtu\">parlementeren</span></div>"
      ],
      "text/plain": [
       "<IPython.core.display.HTML object>"
      ]
     },
     "metadata": {},
     "output_type": "display_data"
    },
    {
     "data": {
      "text/html": [
       "<div class=\"\"><span class=\"tfsechead \"><a target=\"_blank\" href=\"http://resources.huygens.knaw.nl/retroboeken/generalemissiven/#page=29&amp;source=1\" title=\"Show this document on Huygens\" sec=\"1 6:15\">1 6:15</a></span>  <span class=\"txtu\">met </span><span class=\"txtu\">den </span><span class=\"txtu\">onsen </span><span class=\"txtu\">gesproken, </span><span class=\"txtu\">die </span><span class=\"txtu\">hem </span><span class=\"txtu\">mede </span><span class=\"txtu\">geroemt </span><span class=\"txtu\">hadde, </span><span class=\"txtu\">2 </span><span class=\"txtu\">van </span><span class=\"txtu\">onse </span><span class=\"txtu\">Hollanders</span></div>"
      ],
      "text/plain": [
       "<IPython.core.display.HTML object>"
      ]
     },
     "metadata": {},
     "output_type": "display_data"
    },
    {
     "data": {
      "text/html": [
       "<div class=\"\"><span class=\"tfsechead \"><a target=\"_blank\" href=\"http://resources.huygens.knaw.nl/retroboeken/generalemissiven/#page=29&amp;source=1\" title=\"Show this document on Huygens\" sec=\"1 6:16\">1 6:16</a></span>  <span class=\"txtu\">in </span><span class=\"txtu\">den </span><span class=\"txtu\">moort </span><span class=\"txtu\">van </span><span class=\"txtu\">den </span><span class=\"txtu\">admirael </span><span class=\"txtu\">Verhoeven<span class=\"fbody\">«4. Admiraal Pieter Willemsz. Verhoeff kwam 23 november 1608 met zijn vloot voor\n",
       "\n",
       "\n",
       "Malaka, waar hij enige maanden bleef liggen, vervolgens voer hij via Bantam naar Banda, waar\n",
       "\n",
       "\n",
       "hij 8 april 1609 aankwam. Hij werd met zijn raadsleden gedurende onderhandelingen op 22 mei\n",
       "\n",
       "\n",
       "door Bandanezen op Neira vermoord. Vgl.\n",
       "\n",
       "\n",
       "Zeemogendheid,\n",
       "\n",
       " I, p. 73 vlg.,\n",
       "\n",
       "\n",
       "Banda,\n",
       "\n",
       " p. 35-44,\n",
       "\n",
       "\n",
       "\n",
       "\n",
       "Geschiedenis\n",
       "\n",
       " , III, p. 63-65, 67-71.\n",
       "\n",
       "\n",
       "»</span> </span><span class=\"txtu\">saliger </span><span class=\"txtu\">omgebracht </span><span class=\"txtu\">te </span><span class=\"txtu\">hebben.</span></div>"
      ],
      "text/plain": [
       "<IPython.core.display.HTML object>"
      ]
     },
     "metadata": {},
     "output_type": "display_data"
    },
    {
     "data": {
      "text/html": [
       "<div class=\"\"><span class=\"tfsechead \"><a target=\"_blank\" href=\"http://resources.huygens.knaw.nl/retroboeken/generalemissiven/#page=29&amp;source=1\" title=\"Show this document on Huygens\" sec=\"1 6:17\">1 6:17</a></span>  <span class=\"txtu\"><span class=\"remark\"></span></span><span class=\"txtu\"><span class=\"remark\"></span></span><span class=\"txtu\"><span class=\"remark\"></span></span><span class=\"txtu\"><span class=\"remark\"></span></span><span class=\"txtu\"><span class=\"remark\"></span></span><span class=\"txtu\"><span class=\"remark\"></span></span><span class=\"txtu\"><span class=\"remark\"></span></span><span class=\"txtu\"><span class=\"remark\"></span></span><span class=\"txtu\"><span class=\"remark\"></span></span><span class=\"txtu\"><span class=\"remark\"></span></span><span class=\"txtu\"><span class=\"remark\"></span></span></div>"
      ],
      "text/plain": [
       "<IPython.core.display.HTML object>"
      ]
     },
     "metadata": {},
     "output_type": "display_data"
    },
    {
     "data": {
      "text/html": [
       "<div class=\"\"><span class=\"tfsechead \"><a target=\"_blank\" href=\"http://resources.huygens.knaw.nl/retroboeken/generalemissiven/#page=29&amp;source=1\" title=\"Show this document on Huygens\" sec=\"1 6:18\">1 6:18</a></span>  <span class=\"txtu\"><span class=\"remark\"></span></span><span class=\"txtu\"><span class=\"remark\"></span></span><span class=\"txtu\"><span class=\"remark\"></span></span><span class=\"txtu\"><span class=\"remark\"></span></span><span class=\"txtu\"><span class=\"remark\"></span></span><span class=\"txtu\"><span class=\"remark\"></span></span><span class=\"txtu\"><span class=\"remark\"></span></span><span class=\"txtu\"><span class=\"remark\"></span></span><span class=\"txtu\"><span class=\"remark\"></span></span><span class=\"txtu\"><span class=\"remark\"></span></span><span class=\"txtu\"><span class=\"remark\"></span></span><span class=\"txtu\"><span class=\"remark\"></span></span></div>"
      ],
      "text/plain": [
       "<IPython.core.display.HTML object>"
      ]
     },
     "metadata": {},
     "output_type": "display_data"
    },
    {
     "data": {
      "text/html": [
       "<div class=\"\"><span class=\"tfsechead \"><a target=\"_blank\" href=\"http://resources.huygens.knaw.nl/retroboeken/generalemissiven/#page=29&amp;source=1\" title=\"Show this document on Huygens\" sec=\"1 6:19\">1 6:19</a></span>  <span class=\"txtu\"><span class=\"remark\"></span></span><span class=\"txtu\"><span class=\"remark\"></span></span><span class=\"txtu\"><span class=\"remark\"></span></span><span class=\"txtu\"><span class=\"remark\"></span></span></div>"
      ],
      "text/plain": [
       "<IPython.core.display.HTML object>"
      ]
     },
     "metadata": {},
     "output_type": "display_data"
    },
    {
     "data": {
      "text/html": [
       "<div class=\"\"><span class=\"tfsechead \"><a target=\"_blank\" href=\"http://resources.huygens.knaw.nl/retroboeken/generalemissiven/#page=29&amp;source=1\" title=\"Show this document on Huygens\" sec=\"1 6:20\">1 6:20</a></span>  </div>"
      ],
      "text/plain": [
       "<IPython.core.display.HTML object>"
      ]
     },
     "metadata": {},
     "output_type": "display_data"
    },
    {
     "data": {
      "text/html": [
       "<div class=\"\"><span class=\"tfsechead \"><a target=\"_blank\" href=\"http://resources.huygens.knaw.nl/retroboeken/generalemissiven/#page=29&amp;source=1\" title=\"Show this document on Huygens\" sec=\"1 6:21\">1 6:21</a></span>  <span class=\"txtu\">Ic </span><span class=\"txtu\">hebbe </span><span class=\"txtu\">voor </span><span class=\"txtu\">mij </span><span class=\"txtu\">genomen, </span><span class=\"txtu\">soo </span><span class=\"txtu\">haest </span><span class=\"txtu\">dit </span><span class=\"txtu\">casteel </span><span class=\"txtu\">gemaeckt </span><span class=\"txtu\">is </span><span class=\"txtu\">te </span><span class=\"txtu\">keeren </span><span class=\"txtu\">naer</span></div>"
      ],
      "text/plain": [
       "<IPython.core.display.HTML object>"
      ]
     },
     "metadata": {},
     "output_type": "display_data"
    },
    {
     "data": {
      "text/html": [
       "<div class=\"\"><span class=\"tfsechead \"><a target=\"_blank\" href=\"http://resources.huygens.knaw.nl/retroboeken/generalemissiven/#page=29&amp;source=1\" title=\"Show this document on Huygens\" sec=\"1 6:22\">1 6:22</a></span>  <span class=\"txtu\">Ambojna </span><span class=\"txtu\">ende </span><span class=\"txtu\">van </span><span class=\"txtu\">daer </span><span class=\"txtu\">naer </span><span class=\"txtu\">Ternnate </span><span class=\"txtu\">ende </span><span class=\"txtu\">soo </span><span class=\"txtu\">den </span><span class=\"txtu\">Coninck </span><span class=\"txtu\">van </span><span class=\"txtu\">Spagnien </span><span class=\"txtu\">tusschen</span></div>"
      ],
      "text/plain": [
       "<IPython.core.display.HTML object>"
      ]
     },
     "metadata": {},
     "output_type": "display_data"
    },
    {
     "data": {
      "text/html": [
       "<div class=\"\"><span class=\"tfsechead \"><a target=\"_blank\" href=\"http://resources.huygens.knaw.nl/retroboeken/generalemissiven/#page=29&amp;source=1\" title=\"Show this document on Huygens\" sec=\"1 6:23\">1 6:23</a></span>  <span class=\"txtu\">de </span><span class=\"txtu\">Heeren </span><span class=\"txtu\">Staeten </span><span class=\"txtu\">den </span><span class=\"txtu\">treves </span><span class=\"txtu\">geobserveert </span><span class=\"txtu\">werde, </span><span class=\"txtu\">metten </span><span class=\"txtu\">Coninck </span><span class=\"txtu\">van </span><span class=\"txtu\">ditto</span></div>"
      ],
      "text/plain": [
       "<IPython.core.display.HTML object>"
      ]
     },
     "metadata": {},
     "output_type": "display_data"
    },
    {
     "data": {
      "text/html": [
       "<div class=\"\"><span class=\"tfsechead \"><a target=\"_blank\" href=\"http://resources.huygens.knaw.nl/retroboeken/generalemissiven/#page=29&amp;source=1\" title=\"Show this document on Huygens\" sec=\"1 6:24\">1 6:24</a></span>  <span class=\"txtu\">plaetse </span><span class=\"txtu\">te </span><span class=\"txtu\">contracteeren </span><span class=\"txtu\">om </span><span class=\"txtu\">met </span><span class=\"txtu\">sijn </span><span class=\"txtu\">hulpe </span><span class=\"txtu\">dese </span><span class=\"txtu\">plaetse </span><span class=\"txtu\">te </span><span class=\"txtu\">ocuperen </span><span class=\"txtu\">ende </span><span class=\"txtu\">hem </span><span class=\"txtu\">daer</span></div>"
      ],
      "text/plain": [
       "<IPython.core.display.HTML object>"
      ]
     },
     "metadata": {},
     "output_type": "display_data"
    },
    {
     "data": {
      "text/html": [
       "<div class=\"\"><span class=\"tfsechead \"><a target=\"_blank\" href=\"http://resources.huygens.knaw.nl/retroboeken/generalemissiven/#page=29&amp;source=1\" title=\"Show this document on Huygens\" sec=\"1 6:25\">1 6:25</a></span>  <span class=\"txtu\">mede </span><span class=\"txtu\">Coninck </span><span class=\"txtu\">van </span><span class=\"txtu\">te </span><span class=\"txtu\">maeken </span><span class=\"txtu\">onder </span><span class=\"txtu\">protexie </span><span class=\"txtu\">van </span><span class=\"txtu\">E </span><span class=\"txtu\">Mogende </span><span class=\"txtu\">Heeren </span><span class=\"txtu\">Staeten, </span><span class=\"txtu\">doch</span></div>"
      ],
      "text/plain": [
       "<IPython.core.display.HTML object>"
      ]
     },
     "metadata": {},
     "output_type": "display_data"
    },
    {
     "data": {
      "text/html": [
       "<div class=\"\"><span class=\"tfsechead \"><a target=\"_blank\" href=\"http://resources.huygens.knaw.nl/retroboeken/generalemissiven/#page=29&amp;source=1\" title=\"Show this document on Huygens\" sec=\"1 6:26\">1 6:26</a></span>  <span class=\"txtu\">hiervan </span><span class=\"txtu\">sal </span><span class=\"txtu\">den </span><span class=\"txtu\">tijt </span><span class=\"txtu\">leeren </span><span class=\"txtu\">ende </span><span class=\"txtu\">namaels </span><span class=\"txtu\">U </span><span class=\"txtu\">E </span><span class=\"txtu\">adviseeren<span class=\"fbody\">«5. Van Caerden maakte zich in juni 1608 met behulp van de Ternatanen van het\n",
       "\n",
       "\n",
       "Spaanse kasteel op Makéan meester, welk eiland op de hier voor Banda voorgeslagen wijze aan\n",
       "\n",
       "\n",
       "den Koning van Ternate werd gegeven. Met Banda heeft iets dergelijks niet plaats gevonden.\n",
       "\n",
       "\n",
       "»</span> </span></div>"
      ],
      "text/plain": [
       "<IPython.core.display.HTML object>"
      ]
     },
     "metadata": {},
     "output_type": "display_data"
    },
    {
     "data": {
      "text/html": [
       "<div class=\"\"><span class=\"tfsechead \"><a target=\"_blank\" href=\"http://resources.huygens.knaw.nl/retroboeken/generalemissiven/#page=29&amp;source=1\" title=\"Show this document on Huygens\" sec=\"1 6:27\">1 6:27</a></span>  <span class=\"txtu\">Dit </span><span class=\"txtu\">volck </span><span class=\"txtu\">van </span><span class=\"txtu\">Banda </span><span class=\"txtu\">is </span><span class=\"txtu\">superbe, </span><span class=\"txtu\">moordadich, </span><span class=\"txtu\">wel </span><span class=\"txtu\">versien </span><span class=\"txtu\">van </span><span class=\"txtu\">waepenen, </span><span class=\"txtu\">van</span></div>"
      ],
      "text/plain": [
       "<IPython.core.display.HTML object>"
      ]
     },
     "metadata": {},
     "output_type": "display_data"
    },
    {
     "data": {
      "text/html": [
       "<div class=\"\"><span class=\"tfsechead \"><a target=\"_blank\" href=\"http://resources.huygens.knaw.nl/retroboeken/generalemissiven/#page=29&amp;source=1\" title=\"Show this document on Huygens\" sec=\"1 6:28\">1 6:28</a></span>  <span class=\"txtu\">de </span><span class=\"txtu\">onsen </span><span class=\"txtu\">voor </span><span class=\"txtu\">desen </span><span class=\"txtu\">ende </span><span class=\"txtu\">van </span><span class=\"txtu\">de </span><span class=\"txtu\">Engelsche </span><span class=\"txtu\">gecomen, </span><span class=\"txtu\">dan </span><span class=\"txtu\">weynich </span><span class=\"txtu\">couraege </span><span class=\"txtu\">omme</span></div>"
      ],
      "text/plain": [
       "<IPython.core.display.HTML object>"
      ]
     },
     "metadata": {},
     "output_type": "display_data"
    },
    {
     "data": {
      "text/html": [
       "<div class=\"\"><span class=\"tfsechead \"><a target=\"_blank\" href=\"http://resources.huygens.knaw.nl/retroboeken/generalemissiven/#page=29&amp;source=1\" title=\"Show this document on Huygens\" sec=\"1 6:29\">1 6:29</a></span>  <span class=\"txtu\">metten </span><span class=\"txtu\">onsen </span><span class=\"txtu\">te </span><span class=\"txtu\">slaen, </span><span class=\"txtu\">maer </span><span class=\"txtu\">de </span><span class=\"txtu\">bergen </span><span class=\"txtu\">sijn </span><span class=\"txtu\">haer </span><span class=\"txtu\">fortressen, </span><span class=\"txtu\">die </span><span class=\"txtu\">voor </span><span class=\"txtu\">ons </span><span class=\"txtu\">innaccessible</span></div>"
      ],
      "text/plain": [
       "<IPython.core.display.HTML object>"
      ]
     },
     "metadata": {},
     "output_type": "display_data"
    },
    {
     "data": {
      "text/html": [
       "<div class=\"\"><span class=\"tfsechead \"><a target=\"_blank\" href=\"http://resources.huygens.knaw.nl/retroboeken/generalemissiven/#page=29&amp;source=1\" title=\"Show this document on Huygens\" sec=\"1 6:30\">1 6:30</a></span>  <span class=\"txtu\">sijn, </span><span class=\"txtu\">sij </span><span class=\"txtu\">leven </span><span class=\"txtu\">mede </span><span class=\"txtu\">van </span><span class=\"txtu\">de </span><span class=\"txtu\">vruchten </span><span class=\"txtu\">van </span><span class=\"txtu\">de </span><span class=\"txtu\">boomen </span><span class=\"txtu\">ende </span><span class=\"txtu\">wortelen </span><span class=\"txtu\">van </span><span class=\"txtu\">de </span><span class=\"txtu\">aerde,</span></div>"
      ],
      "text/plain": [
       "<IPython.core.display.HTML object>"
      ]
     },
     "metadata": {},
     "output_type": "display_data"
    },
    {
     "data": {
      "text/html": [
       "<div class=\"\"><span class=\"tfsechead \"><a target=\"_blank\" href=\"http://resources.huygens.knaw.nl/retroboeken/generalemissiven/#page=29&amp;source=1\" title=\"Show this document on Huygens\" sec=\"1 6:31\">1 6:31</a></span>  <span class=\"txtu\">daer </span><span class=\"txtu\">wijluyden </span><span class=\"txtu\">bij </span><span class=\"txtu\">vergaen </span><span class=\"txtu\">souden, </span><span class=\"txtu\">hier </span><span class=\"txtu\">regneert </span><span class=\"txtu\">onder </span><span class=\"txtu\">d’onse </span><span class=\"txtu\">een </span><span class=\"txtu\">plaege, </span><span class=\"txtu\">genaempt</span></div>"
      ],
      "text/plain": [
       "<IPython.core.display.HTML object>"
      ]
     },
     "metadata": {},
     "output_type": "display_data"
    },
    {
     "data": {
      "text/html": [
       "<div class=\"\"><span class=\"tfsechead \"><a target=\"_blank\" href=\"http://resources.huygens.knaw.nl/retroboeken/generalemissiven/#page=29&amp;source=1\" title=\"Show this document on Huygens\" sec=\"1 6:32\">1 6:32</a></span>  <span class=\"txtu\">berebery<span class=\"fbody\">«6. Berri-berri, de ziekte met verlammingsverschijnselen in de benen, die door de onderzoekingen\n",
       "\n",
       "\n",
       "vanEijkman aanleiding werd tot de kennismaking met de vitaminen en de avitaminosen.\n",
       "\n",
       "\n",
       "»</span> </span><span class=\"txtu\">waervan </span><span class=\"txtu\">sij </span><span class=\"txtu\">worden </span><span class=\"txtu\">geheel </span><span class=\"txtu\">impotent </span><span class=\"txtu\">van </span><span class=\"txtu\">handen </span><span class=\"txtu\">ende </span><span class=\"txtu\">beenen, </span><span class=\"txtu\">mede</span></div>"
      ],
      "text/plain": [
       "<IPython.core.display.HTML object>"
      ]
     },
     "metadata": {},
     "output_type": "display_data"
    },
    {
     "data": {
      "text/html": [
       "<div class=\"\"><span class=\"tfsechead \"><a target=\"_blank\" href=\"http://resources.huygens.knaw.nl/retroboeken/generalemissiven/#page=29&amp;source=1\" title=\"Show this document on Huygens\" sec=\"1 6:33\">1 6:33</a></span>  <span class=\"txtu\">een </span><span class=\"txtu\">plage </span><span class=\"txtu\">van </span><span class=\"txtu\">sere </span><span class=\"txtu\">benen, </span><span class=\"txtu\">alsoo </span><span class=\"txtu\">dat </span><span class=\"txtu\">ick </span><span class=\"txtu\">er </span><span class=\"txtu\">van </span><span class=\"txtu\">20 </span><span class=\"txtu\">geen </span><span class=\"txtu\">een </span><span class=\"txtu\">hebbe </span><span class=\"txtu\">sonder </span><span class=\"txtu\">plaesters</span></div>"
      ],
      "text/plain": [
       "<IPython.core.display.HTML object>"
      ]
     },
     "metadata": {},
     "output_type": "display_data"
    },
    {
     "data": {
      "text/html": [
       "<div class=\"\"><span class=\"tfsechead \"><a target=\"_blank\" href=\"http://resources.huygens.knaw.nl/retroboeken/generalemissiven/#page=29&amp;source=1\" title=\"Show this document on Huygens\" sec=\"1 6:34\">1 6:34</a></span>  <span class=\"txtu\">aen </span><span class=\"txtu\">de </span><span class=\"txtu\">beenen.</span></div>"
      ],
      "text/plain": [
       "<IPython.core.display.HTML object>"
      ]
     },
     "metadata": {},
     "output_type": "display_data"
    },
    {
     "data": {
      "text/html": [
       "<div class=\"\"><span class=\"tfsechead \"><a target=\"_blank\" href=\"http://resources.huygens.knaw.nl/retroboeken/generalemissiven/#page=29&amp;source=1\" title=\"Show this document on Huygens\" sec=\"1 6:35\">1 6:35</a></span>  <span class=\"txtu\"><span class=\"remark\"></span></span><span class=\"txtu\"><span class=\"remark\"></span></span><span class=\"txtu\"><span class=\"remark\"></span></span><span class=\"txtu\"><span class=\"remark\"></span></span></div>"
      ],
      "text/plain": [
       "<IPython.core.display.HTML object>"
      ]
     },
     "metadata": {},
     "output_type": "display_data"
    },
    {
     "data": {
      "text/html": [
       "<div class=\"\"><span class=\"tfsechead \"><a target=\"_blank\" href=\"http://resources.huygens.knaw.nl/retroboeken/generalemissiven/#page=29&amp;source=1\" title=\"Show this document on Huygens\" sec=\"1 6:36\">1 6:36</a></span>  </div>"
      ],
      "text/plain": [
       "<IPython.core.display.HTML object>"
      ]
     },
     "metadata": {},
     "output_type": "display_data"
    },
    {
     "data": {
      "text/html": [
       "<div class=\"\"><span class=\"tfsechead \"><a target=\"_blank\" href=\"http://resources.huygens.knaw.nl/retroboeken/generalemissiven/#page=29&amp;source=1\" title=\"Show this document on Huygens\" sec=\"1 6:37\">1 6:37</a></span>  </div>"
      ],
      "text/plain": [
       "<IPython.core.display.HTML object>"
      ]
     },
     "metadata": {},
     "output_type": "display_data"
    }
   ],
   "source": [
    "p = A.nodeFromSectionStr(\"1 6\")\n",
    "for ln in L.d(p, otype=\"line\"):\n",
    "    A.plain(ln, fmt=\"layout-orig-notes\")"
   ]
  },
  {
   "cell_type": "markdown",
   "metadata": {},
   "source": [
    "Quite a bit of names. Let's leave out the notes."
   ]
  },
  {
   "cell_type": "code",
   "execution_count": 6,
   "metadata": {
    "ExecuteTime": {
     "end_time": "2018-05-24T07:46:55.998382Z",
     "start_time": "2018-05-24T07:46:55.137956Z"
    }
   },
   "outputs": [
    {
     "data": {
      "text/html": [
       "<div class=\"\"><span class=\"tfsechead \"><a target=\"_blank\" href=\"http://resources.huygens.knaw.nl/retroboeken/generalemissiven/#page=29&amp;source=1\" title=\"Show this document on Huygens\" sec=\"1 6:1\">1 6:1</a></span>  <span class=\"txtu\"><span class=\"remark\"></span></span><span class=\"txtu\"><span class=\"remark\"></span></span><span class=\"txtu\"><span class=\"remark\"></span></span><span class=\"txtu\"><span class=\"remark\"></span></span><span class=\"txtu\"><span class=\"remark ref\"></span></span><span class=\"txtu\"><span class=\"remark ref\"></span></span><span class=\"txtu\"><span class=\"remark ref\"></span></span><span class=\"txtu\"><span class=\"remark ref\"></span></span><span class=\"txtu\"><span class=\"remark ref\"></span></span><span class=\"txtu\"><span class=\"remark\"></span></span><span class=\"txtu\"><span class=\"remark\"></span></span><span class=\"txtu\"><span class=\"remark\"></span></span></div>"
      ],
      "text/plain": [
       "<IPython.core.display.HTML object>"
      ]
     },
     "metadata": {},
     "output_type": "display_data"
    },
    {
     "data": {
      "text/html": [
       "<div class=\"\"><span class=\"tfsechead \"><a target=\"_blank\" href=\"http://resources.huygens.knaw.nl/retroboeken/generalemissiven/#page=29&amp;source=1\" title=\"Show this document on Huygens\" sec=\"1 6:2\">1 6:2</a></span>  <span class=\"txtu\"><span class=\"remark\"></span></span></div>"
      ],
      "text/plain": [
       "<IPython.core.display.HTML object>"
      ]
     },
     "metadata": {},
     "output_type": "display_data"
    },
    {
     "data": {
      "text/html": [
       "<div class=\"\"><span class=\"tfsechead \"><a target=\"_blank\" href=\"http://resources.huygens.knaw.nl/retroboeken/generalemissiven/#page=29&amp;source=1\" title=\"Show this document on Huygens\" sec=\"1 6:3\">1 6:3</a></span>  </div>"
      ],
      "text/plain": [
       "<IPython.core.display.HTML object>"
      ]
     },
     "metadata": {},
     "output_type": "display_data"
    },
    {
     "data": {
      "text/html": [
       "<div class=\"\"><span class=\"tfsechead \"><a target=\"_blank\" href=\"http://resources.huygens.knaw.nl/retroboeken/generalemissiven/#page=29&amp;source=1\" title=\"Show this document on Huygens\" sec=\"1 6:4\">1 6:4</a></span>  <span class=\"txtu\">Op </span><span class=\"txtu\">den </span><span class=\"txtu\">12 </span><span class=\"txtu\">deser </span><span class=\"txtu\">is </span><span class=\"txtu\">een </span><span class=\"txtu\">jonge </span><span class=\"txtu\">slave </span><span class=\"txtu\">van </span><span class=\"txtu\">een </span><span class=\"txtu\">orancay<span class=\"fmark\">*</span></span><span class=\"txtu\">bij </span><span class=\"txtu\">nacht </span><span class=\"txtu\">comen</span></div>"
      ],
      "text/plain": [
       "<IPython.core.display.HTML object>"
      ]
     },
     "metadata": {},
     "output_type": "display_data"
    },
    {
     "data": {
      "text/html": [
       "<div class=\"\"><span class=\"tfsechead \"><a target=\"_blank\" href=\"http://resources.huygens.knaw.nl/retroboeken/generalemissiven/#page=29&amp;source=1\" title=\"Show this document on Huygens\" sec=\"1 6:5\">1 6:5</a></span>  <span class=\"txtu\">swemmen </span><span class=\"txtu\">aen </span><span class=\"txtu\">onse </span><span class=\"txtu\">sloep, </span><span class=\"txtu\">cloeck </span><span class=\"txtu\">van </span><span class=\"txtu\">verstant </span><span class=\"txtu\">ende </span><span class=\"txtu\">prompt </span><span class=\"txtu\">in </span><span class=\"txtu\">’t </span><span class=\"txtu\">antwoorden,</span></div>"
      ],
      "text/plain": [
       "<IPython.core.display.HTML object>"
      ]
     },
     "metadata": {},
     "output_type": "display_data"
    },
    {
     "data": {
      "text/html": [
       "<div class=\"\"><span class=\"tfsechead \"><a target=\"_blank\" href=\"http://resources.huygens.knaw.nl/retroboeken/generalemissiven/#page=29&amp;source=1\" title=\"Show this document on Huygens\" sec=\"1 6:6\">1 6:6</a></span>  <span class=\"txtu\">hebben </span><span class=\"txtu\">daeromme </span><span class=\"txtu\">den </span><span class=\"txtu\">14en </span><span class=\"txtu\">deser </span><span class=\"txtu\">goet </span><span class=\"txtu\">gevonden </span><span class=\"txtu\">14 </span><span class=\"txtu\">soldaeten </span><span class=\"txtu\">onder </span><span class=\"txtu\">’t </span><span class=\"txtu\">commandement</span></div>"
      ],
      "text/plain": [
       "<IPython.core.display.HTML object>"
      ]
     },
     "metadata": {},
     "output_type": "display_data"
    },
    {
     "data": {
      "text/html": [
       "<div class=\"\"><span class=\"tfsechead \"><a target=\"_blank\" href=\"http://resources.huygens.knaw.nl/retroboeken/generalemissiven/#page=29&amp;source=1\" title=\"Show this document on Huygens\" sec=\"1 6:7\">1 6:7</a></span>  <span class=\"txtu\">van </span><span class=\"txtu\">een </span><span class=\"txtu\">sergeant </span><span class=\"txtu\">met </span><span class=\"txtu\">een </span><span class=\"txtu\">prau </span><span class=\"txtu\">3 </span><span class=\"txtu\">uuren </span><span class=\"txtu\">voor </span><span class=\"txtu\">daege </span><span class=\"txtu\">aen </span><span class=\"txtu\">lant </span><span class=\"txtu\">te </span><span class=\"txtu\">setten </span><span class=\"txtu\">aen</span></div>"
      ],
      "text/plain": [
       "<IPython.core.display.HTML object>"
      ]
     },
     "metadata": {},
     "output_type": "display_data"
    },
    {
     "data": {
      "text/html": [
       "<div class=\"\"><span class=\"tfsechead \"><a target=\"_blank\" href=\"http://resources.huygens.knaw.nl/retroboeken/generalemissiven/#page=29&amp;source=1\" title=\"Show this document on Huygens\" sec=\"1 6:8\">1 6:8</a></span>  <span class=\"txtu\">d’ander </span><span class=\"txtu\">sijde </span><span class=\"txtu\">om </span><span class=\"txtu\">te </span><span class=\"txtu\">maeken </span><span class=\"txtu\">een </span><span class=\"txtu\">bosschaede<span class=\"fmark\">*</span> </span><span class=\"txtu\">waertoe </span><span class=\"txtu\">medegenomen </span><span class=\"txtu\">werde </span><span class=\"txtu\">den</span></div>"
      ],
      "text/plain": [
       "<IPython.core.display.HTML object>"
      ]
     },
     "metadata": {},
     "output_type": "display_data"
    },
    {
     "data": {
      "text/html": [
       "<div class=\"\"><span class=\"tfsechead \"><a target=\"_blank\" href=\"http://resources.huygens.knaw.nl/retroboeken/generalemissiven/#page=29&amp;source=1\" title=\"Show this document on Huygens\" sec=\"1 6:9\">1 6:9</a></span>  <span class=\"txtu\">overloper </span><span class=\"txtu\">tot </span><span class=\"txtu\">een </span><span class=\"txtu\">guide, </span><span class=\"txtu\">niettemin </span><span class=\"txtu\">hem </span><span class=\"txtu\">gebonden </span><span class=\"txtu\">houdende </span><span class=\"txtu\">die </span><span class=\"txtu\">daertoe </span><span class=\"txtu\">seer </span><span class=\"txtu\">willich</span></div>"
      ],
      "text/plain": [
       "<IPython.core.display.HTML object>"
      ]
     },
     "metadata": {},
     "output_type": "display_data"
    },
    {
     "data": {
      "text/html": [
       "<div class=\"\"><span class=\"tfsechead \"><a target=\"_blank\" href=\"http://resources.huygens.knaw.nl/retroboeken/generalemissiven/#page=29&amp;source=1\" title=\"Show this document on Huygens\" sec=\"1 6:10\">1 6:10</a></span>  <span class=\"txtu\">was, </span><span class=\"txtu\">haer </span><span class=\"txtu\">belastende </span><span class=\"txtu\">sich </span><span class=\"txtu\">niet </span><span class=\"txtu\">te </span><span class=\"txtu\">openbaeren, </span><span class=\"txtu\">dan </span><span class=\"txtu\">voor </span><span class=\"txtu\">een </span><span class=\"txtu\">persoon </span><span class=\"txtu\">van </span><span class=\"txtu\">qualiteyt</span></div>"
      ],
      "text/plain": [
       "<IPython.core.display.HTML object>"
      ]
     },
     "metadata": {},
     "output_type": "display_data"
    },
    {
     "data": {
      "text/html": [
       "<div class=\"\"><span class=\"tfsechead \"><a target=\"_blank\" href=\"http://resources.huygens.knaw.nl/retroboeken/generalemissiven/#page=29&amp;source=1\" title=\"Show this document on Huygens\" sec=\"1 6:11\">1 6:11</a></span>  <span class=\"txtu\">gevangen </span><span class=\"txtu\">ofte </span><span class=\"txtu\">doot </span><span class=\"txtu\">te </span><span class=\"txtu\">crijgen. </span><span class=\"txtu\">Soo </span><span class=\"txtu\">is </span><span class=\"txtu\">gebeurt, </span><span class=\"txtu\">dat </span><span class=\"txtu\">daer </span><span class=\"txtu\">quamp </span><span class=\"txtu\">alleen </span><span class=\"txtu\">met </span><span class=\"txtu\">een</span></div>"
      ],
      "text/plain": [
       "<IPython.core.display.HTML object>"
      ]
     },
     "metadata": {},
     "output_type": "display_data"
    },
    {
     "data": {
      "text/html": [
       "<div class=\"\"><span class=\"tfsechead \"><a target=\"_blank\" href=\"http://resources.huygens.knaw.nl/retroboeken/generalemissiven/#page=29&amp;source=1\" title=\"Show this document on Huygens\" sec=\"1 6:12\">1 6:12</a></span>  <span class=\"txtu\">jongen </span><span class=\"txtu\">een </span><span class=\"txtu\">groot </span><span class=\"txtu\">arancay </span><span class=\"txtu\">van </span><span class=\"txtu\">Nera, </span><span class=\"txtu\">broeder </span><span class=\"txtu\">van </span><span class=\"txtu\">den </span><span class=\"txtu\">sabandaer<span class=\"fmark\">*</span> </span><span class=\"txtu\">dewelcke </span><span class=\"txtu\">sij</span></div>"
      ],
      "text/plain": [
       "<IPython.core.display.HTML object>"
      ]
     },
     "metadata": {},
     "output_type": "display_data"
    },
    {
     "data": {
      "text/html": [
       "<div class=\"\"><span class=\"tfsechead \"><a target=\"_blank\" href=\"http://resources.huygens.knaw.nl/retroboeken/generalemissiven/#page=29&amp;source=1\" title=\"Show this document on Huygens\" sec=\"1 6:13\">1 6:13</a></span>  <span class=\"txtu\">tref </span><span class=\"txtu\">f </span><span class=\"txtu\">ten </span><span class=\"txtu\">ende </span><span class=\"txtu\">’t </span><span class=\"txtu\">hooft </span><span class=\"txtu\">ons </span><span class=\"txtu\">hier </span><span class=\"txtu\">in </span><span class=\"txtu\">’t </span><span class=\"txtu\">casteel </span><span class=\"txtu\">gebracht, </span><span class=\"txtu\">den </span><span class=\"txtu\">voorsz. </span><span class=\"txtu\">orancaye </span><span class=\"txtu\">was </span><span class=\"txtu\">door</span></div>"
      ],
      "text/plain": [
       "<IPython.core.display.HTML object>"
      ]
     },
     "metadata": {},
     "output_type": "display_data"
    },
    {
     "data": {
      "text/html": [
       "<div class=\"\"><span class=\"tfsechead \"><a target=\"_blank\" href=\"http://resources.huygens.knaw.nl/retroboeken/generalemissiven/#page=29&amp;source=1\" title=\"Show this document on Huygens\" sec=\"1 6:14\">1 6:14</a></span>  <span class=\"txtu\">den </span><span class=\"txtu\">jongen </span><span class=\"txtu\">ende </span><span class=\"txtu\">andere </span><span class=\"txtu\">seer </span><span class=\"txtu\">wel </span><span class=\"txtu\">bekent, </span><span class=\"txtu\">14 </span><span class=\"txtu\">daegen </span><span class=\"txtu\">te </span><span class=\"txtu\">voorens </span><span class=\"txtu\">in </span><span class=\"txtu\">’t </span><span class=\"txtu\">parlementeren</span></div>"
      ],
      "text/plain": [
       "<IPython.core.display.HTML object>"
      ]
     },
     "metadata": {},
     "output_type": "display_data"
    },
    {
     "data": {
      "text/html": [
       "<div class=\"\"><span class=\"tfsechead \"><a target=\"_blank\" href=\"http://resources.huygens.knaw.nl/retroboeken/generalemissiven/#page=29&amp;source=1\" title=\"Show this document on Huygens\" sec=\"1 6:15\">1 6:15</a></span>  <span class=\"txtu\">met </span><span class=\"txtu\">den </span><span class=\"txtu\">onsen </span><span class=\"txtu\">gesproken, </span><span class=\"txtu\">die </span><span class=\"txtu\">hem </span><span class=\"txtu\">mede </span><span class=\"txtu\">geroemt </span><span class=\"txtu\">hadde, </span><span class=\"txtu\">2 </span><span class=\"txtu\">van </span><span class=\"txtu\">onse </span><span class=\"txtu\">Hollanders</span></div>"
      ],
      "text/plain": [
       "<IPython.core.display.HTML object>"
      ]
     },
     "metadata": {},
     "output_type": "display_data"
    },
    {
     "data": {
      "text/html": [
       "<div class=\"\"><span class=\"tfsechead \"><a target=\"_blank\" href=\"http://resources.huygens.knaw.nl/retroboeken/generalemissiven/#page=29&amp;source=1\" title=\"Show this document on Huygens\" sec=\"1 6:16\">1 6:16</a></span>  <span class=\"txtu\">in </span><span class=\"txtu\">den </span><span class=\"txtu\">moort </span><span class=\"txtu\">van </span><span class=\"txtu\">den </span><span class=\"txtu\">admirael </span><span class=\"txtu\">Verhoeven<span class=\"fmark\">*</span> </span><span class=\"txtu\">saliger </span><span class=\"txtu\">omgebracht </span><span class=\"txtu\">te </span><span class=\"txtu\">hebben.</span></div>"
      ],
      "text/plain": [
       "<IPython.core.display.HTML object>"
      ]
     },
     "metadata": {},
     "output_type": "display_data"
    },
    {
     "data": {
      "text/html": [
       "<div class=\"\"><span class=\"tfsechead \"><a target=\"_blank\" href=\"http://resources.huygens.knaw.nl/retroboeken/generalemissiven/#page=29&amp;source=1\" title=\"Show this document on Huygens\" sec=\"1 6:17\">1 6:17</a></span>  <span class=\"txtu\"><span class=\"remark\"></span></span><span class=\"txtu\"><span class=\"remark\"></span></span><span class=\"txtu\"><span class=\"remark\"></span></span><span class=\"txtu\"><span class=\"remark\"></span></span><span class=\"txtu\"><span class=\"remark\"></span></span><span class=\"txtu\"><span class=\"remark\"></span></span><span class=\"txtu\"><span class=\"remark\"></span></span><span class=\"txtu\"><span class=\"remark\"></span></span><span class=\"txtu\"><span class=\"remark\"></span></span><span class=\"txtu\"><span class=\"remark\"></span></span><span class=\"txtu\"><span class=\"remark\"></span></span></div>"
      ],
      "text/plain": [
       "<IPython.core.display.HTML object>"
      ]
     },
     "metadata": {},
     "output_type": "display_data"
    },
    {
     "data": {
      "text/html": [
       "<div class=\"\"><span class=\"tfsechead \"><a target=\"_blank\" href=\"http://resources.huygens.knaw.nl/retroboeken/generalemissiven/#page=29&amp;source=1\" title=\"Show this document on Huygens\" sec=\"1 6:18\">1 6:18</a></span>  <span class=\"txtu\"><span class=\"remark\"></span></span><span class=\"txtu\"><span class=\"remark\"></span></span><span class=\"txtu\"><span class=\"remark\"></span></span><span class=\"txtu\"><span class=\"remark\"></span></span><span class=\"txtu\"><span class=\"remark\"></span></span><span class=\"txtu\"><span class=\"remark\"></span></span><span class=\"txtu\"><span class=\"remark\"></span></span><span class=\"txtu\"><span class=\"remark\"></span></span><span class=\"txtu\"><span class=\"remark\"></span></span><span class=\"txtu\"><span class=\"remark\"></span></span><span class=\"txtu\"><span class=\"remark\"></span></span><span class=\"txtu\"><span class=\"remark\"></span></span></div>"
      ],
      "text/plain": [
       "<IPython.core.display.HTML object>"
      ]
     },
     "metadata": {},
     "output_type": "display_data"
    },
    {
     "data": {
      "text/html": [
       "<div class=\"\"><span class=\"tfsechead \"><a target=\"_blank\" href=\"http://resources.huygens.knaw.nl/retroboeken/generalemissiven/#page=29&amp;source=1\" title=\"Show this document on Huygens\" sec=\"1 6:19\">1 6:19</a></span>  <span class=\"txtu\"><span class=\"remark\"></span></span><span class=\"txtu\"><span class=\"remark\"></span></span><span class=\"txtu\"><span class=\"remark\"></span></span><span class=\"txtu\"><span class=\"remark\"></span></span></div>"
      ],
      "text/plain": [
       "<IPython.core.display.HTML object>"
      ]
     },
     "metadata": {},
     "output_type": "display_data"
    },
    {
     "data": {
      "text/html": [
       "<div class=\"\"><span class=\"tfsechead \"><a target=\"_blank\" href=\"http://resources.huygens.knaw.nl/retroboeken/generalemissiven/#page=29&amp;source=1\" title=\"Show this document on Huygens\" sec=\"1 6:20\">1 6:20</a></span>  </div>"
      ],
      "text/plain": [
       "<IPython.core.display.HTML object>"
      ]
     },
     "metadata": {},
     "output_type": "display_data"
    },
    {
     "data": {
      "text/html": [
       "<div class=\"\"><span class=\"tfsechead \"><a target=\"_blank\" href=\"http://resources.huygens.knaw.nl/retroboeken/generalemissiven/#page=29&amp;source=1\" title=\"Show this document on Huygens\" sec=\"1 6:21\">1 6:21</a></span>  <span class=\"txtu\">Ic </span><span class=\"txtu\">hebbe </span><span class=\"txtu\">voor </span><span class=\"txtu\">mij </span><span class=\"txtu\">genomen, </span><span class=\"txtu\">soo </span><span class=\"txtu\">haest </span><span class=\"txtu\">dit </span><span class=\"txtu\">casteel </span><span class=\"txtu\">gemaeckt </span><span class=\"txtu\">is </span><span class=\"txtu\">te </span><span class=\"txtu\">keeren </span><span class=\"txtu\">naer</span></div>"
      ],
      "text/plain": [
       "<IPython.core.display.HTML object>"
      ]
     },
     "metadata": {},
     "output_type": "display_data"
    },
    {
     "data": {
      "text/html": [
       "<div class=\"\"><span class=\"tfsechead \"><a target=\"_blank\" href=\"http://resources.huygens.knaw.nl/retroboeken/generalemissiven/#page=29&amp;source=1\" title=\"Show this document on Huygens\" sec=\"1 6:22\">1 6:22</a></span>  <span class=\"txtu\">Ambojna </span><span class=\"txtu\">ende </span><span class=\"txtu\">van </span><span class=\"txtu\">daer </span><span class=\"txtu\">naer </span><span class=\"txtu\">Ternnate </span><span class=\"txtu\">ende </span><span class=\"txtu\">soo </span><span class=\"txtu\">den </span><span class=\"txtu\">Coninck </span><span class=\"txtu\">van </span><span class=\"txtu\">Spagnien </span><span class=\"txtu\">tusschen</span></div>"
      ],
      "text/plain": [
       "<IPython.core.display.HTML object>"
      ]
     },
     "metadata": {},
     "output_type": "display_data"
    },
    {
     "data": {
      "text/html": [
       "<div class=\"\"><span class=\"tfsechead \"><a target=\"_blank\" href=\"http://resources.huygens.knaw.nl/retroboeken/generalemissiven/#page=29&amp;source=1\" title=\"Show this document on Huygens\" sec=\"1 6:23\">1 6:23</a></span>  <span class=\"txtu\">de </span><span class=\"txtu\">Heeren </span><span class=\"txtu\">Staeten </span><span class=\"txtu\">den </span><span class=\"txtu\">treves </span><span class=\"txtu\">geobserveert </span><span class=\"txtu\">werde, </span><span class=\"txtu\">metten </span><span class=\"txtu\">Coninck </span><span class=\"txtu\">van </span><span class=\"txtu\">ditto</span></div>"
      ],
      "text/plain": [
       "<IPython.core.display.HTML object>"
      ]
     },
     "metadata": {},
     "output_type": "display_data"
    },
    {
     "data": {
      "text/html": [
       "<div class=\"\"><span class=\"tfsechead \"><a target=\"_blank\" href=\"http://resources.huygens.knaw.nl/retroboeken/generalemissiven/#page=29&amp;source=1\" title=\"Show this document on Huygens\" sec=\"1 6:24\">1 6:24</a></span>  <span class=\"txtu\">plaetse </span><span class=\"txtu\">te </span><span class=\"txtu\">contracteeren </span><span class=\"txtu\">om </span><span class=\"txtu\">met </span><span class=\"txtu\">sijn </span><span class=\"txtu\">hulpe </span><span class=\"txtu\">dese </span><span class=\"txtu\">plaetse </span><span class=\"txtu\">te </span><span class=\"txtu\">ocuperen </span><span class=\"txtu\">ende </span><span class=\"txtu\">hem </span><span class=\"txtu\">daer</span></div>"
      ],
      "text/plain": [
       "<IPython.core.display.HTML object>"
      ]
     },
     "metadata": {},
     "output_type": "display_data"
    },
    {
     "data": {
      "text/html": [
       "<div class=\"\"><span class=\"tfsechead \"><a target=\"_blank\" href=\"http://resources.huygens.knaw.nl/retroboeken/generalemissiven/#page=29&amp;source=1\" title=\"Show this document on Huygens\" sec=\"1 6:25\">1 6:25</a></span>  <span class=\"txtu\">mede </span><span class=\"txtu\">Coninck </span><span class=\"txtu\">van </span><span class=\"txtu\">te </span><span class=\"txtu\">maeken </span><span class=\"txtu\">onder </span><span class=\"txtu\">protexie </span><span class=\"txtu\">van </span><span class=\"txtu\">E </span><span class=\"txtu\">Mogende </span><span class=\"txtu\">Heeren </span><span class=\"txtu\">Staeten, </span><span class=\"txtu\">doch</span></div>"
      ],
      "text/plain": [
       "<IPython.core.display.HTML object>"
      ]
     },
     "metadata": {},
     "output_type": "display_data"
    },
    {
     "data": {
      "text/html": [
       "<div class=\"\"><span class=\"tfsechead \"><a target=\"_blank\" href=\"http://resources.huygens.knaw.nl/retroboeken/generalemissiven/#page=29&amp;source=1\" title=\"Show this document on Huygens\" sec=\"1 6:26\">1 6:26</a></span>  <span class=\"txtu\">hiervan </span><span class=\"txtu\">sal </span><span class=\"txtu\">den </span><span class=\"txtu\">tijt </span><span class=\"txtu\">leeren </span><span class=\"txtu\">ende </span><span class=\"txtu\">namaels </span><span class=\"txtu\">U </span><span class=\"txtu\">E </span><span class=\"txtu\">adviseeren<span class=\"fmark\">*</span> </span></div>"
      ],
      "text/plain": [
       "<IPython.core.display.HTML object>"
      ]
     },
     "metadata": {},
     "output_type": "display_data"
    },
    {
     "data": {
      "text/html": [
       "<div class=\"\"><span class=\"tfsechead \"><a target=\"_blank\" href=\"http://resources.huygens.knaw.nl/retroboeken/generalemissiven/#page=29&amp;source=1\" title=\"Show this document on Huygens\" sec=\"1 6:27\">1 6:27</a></span>  <span class=\"txtu\">Dit </span><span class=\"txtu\">volck </span><span class=\"txtu\">van </span><span class=\"txtu\">Banda </span><span class=\"txtu\">is </span><span class=\"txtu\">superbe, </span><span class=\"txtu\">moordadich, </span><span class=\"txtu\">wel </span><span class=\"txtu\">versien </span><span class=\"txtu\">van </span><span class=\"txtu\">waepenen, </span><span class=\"txtu\">van</span></div>"
      ],
      "text/plain": [
       "<IPython.core.display.HTML object>"
      ]
     },
     "metadata": {},
     "output_type": "display_data"
    },
    {
     "data": {
      "text/html": [
       "<div class=\"\"><span class=\"tfsechead \"><a target=\"_blank\" href=\"http://resources.huygens.knaw.nl/retroboeken/generalemissiven/#page=29&amp;source=1\" title=\"Show this document on Huygens\" sec=\"1 6:28\">1 6:28</a></span>  <span class=\"txtu\">de </span><span class=\"txtu\">onsen </span><span class=\"txtu\">voor </span><span class=\"txtu\">desen </span><span class=\"txtu\">ende </span><span class=\"txtu\">van </span><span class=\"txtu\">de </span><span class=\"txtu\">Engelsche </span><span class=\"txtu\">gecomen, </span><span class=\"txtu\">dan </span><span class=\"txtu\">weynich </span><span class=\"txtu\">couraege </span><span class=\"txtu\">omme</span></div>"
      ],
      "text/plain": [
       "<IPython.core.display.HTML object>"
      ]
     },
     "metadata": {},
     "output_type": "display_data"
    },
    {
     "data": {
      "text/html": [
       "<div class=\"\"><span class=\"tfsechead \"><a target=\"_blank\" href=\"http://resources.huygens.knaw.nl/retroboeken/generalemissiven/#page=29&amp;source=1\" title=\"Show this document on Huygens\" sec=\"1 6:29\">1 6:29</a></span>  <span class=\"txtu\">metten </span><span class=\"txtu\">onsen </span><span class=\"txtu\">te </span><span class=\"txtu\">slaen, </span><span class=\"txtu\">maer </span><span class=\"txtu\">de </span><span class=\"txtu\">bergen </span><span class=\"txtu\">sijn </span><span class=\"txtu\">haer </span><span class=\"txtu\">fortressen, </span><span class=\"txtu\">die </span><span class=\"txtu\">voor </span><span class=\"txtu\">ons </span><span class=\"txtu\">innaccessible</span></div>"
      ],
      "text/plain": [
       "<IPython.core.display.HTML object>"
      ]
     },
     "metadata": {},
     "output_type": "display_data"
    },
    {
     "data": {
      "text/html": [
       "<div class=\"\"><span class=\"tfsechead \"><a target=\"_blank\" href=\"http://resources.huygens.knaw.nl/retroboeken/generalemissiven/#page=29&amp;source=1\" title=\"Show this document on Huygens\" sec=\"1 6:30\">1 6:30</a></span>  <span class=\"txtu\">sijn, </span><span class=\"txtu\">sij </span><span class=\"txtu\">leven </span><span class=\"txtu\">mede </span><span class=\"txtu\">van </span><span class=\"txtu\">de </span><span class=\"txtu\">vruchten </span><span class=\"txtu\">van </span><span class=\"txtu\">de </span><span class=\"txtu\">boomen </span><span class=\"txtu\">ende </span><span class=\"txtu\">wortelen </span><span class=\"txtu\">van </span><span class=\"txtu\">de </span><span class=\"txtu\">aerde,</span></div>"
      ],
      "text/plain": [
       "<IPython.core.display.HTML object>"
      ]
     },
     "metadata": {},
     "output_type": "display_data"
    },
    {
     "data": {
      "text/html": [
       "<div class=\"\"><span class=\"tfsechead \"><a target=\"_blank\" href=\"http://resources.huygens.knaw.nl/retroboeken/generalemissiven/#page=29&amp;source=1\" title=\"Show this document on Huygens\" sec=\"1 6:31\">1 6:31</a></span>  <span class=\"txtu\">daer </span><span class=\"txtu\">wijluyden </span><span class=\"txtu\">bij </span><span class=\"txtu\">vergaen </span><span class=\"txtu\">souden, </span><span class=\"txtu\">hier </span><span class=\"txtu\">regneert </span><span class=\"txtu\">onder </span><span class=\"txtu\">d’onse </span><span class=\"txtu\">een </span><span class=\"txtu\">plaege, </span><span class=\"txtu\">genaempt</span></div>"
      ],
      "text/plain": [
       "<IPython.core.display.HTML object>"
      ]
     },
     "metadata": {},
     "output_type": "display_data"
    },
    {
     "data": {
      "text/html": [
       "<div class=\"\"><span class=\"tfsechead \"><a target=\"_blank\" href=\"http://resources.huygens.knaw.nl/retroboeken/generalemissiven/#page=29&amp;source=1\" title=\"Show this document on Huygens\" sec=\"1 6:32\">1 6:32</a></span>  <span class=\"txtu\">berebery<span class=\"fmark\">*</span> </span><span class=\"txtu\">waervan </span><span class=\"txtu\">sij </span><span class=\"txtu\">worden </span><span class=\"txtu\">geheel </span><span class=\"txtu\">impotent </span><span class=\"txtu\">van </span><span class=\"txtu\">handen </span><span class=\"txtu\">ende </span><span class=\"txtu\">beenen, </span><span class=\"txtu\">mede</span></div>"
      ],
      "text/plain": [
       "<IPython.core.display.HTML object>"
      ]
     },
     "metadata": {},
     "output_type": "display_data"
    },
    {
     "data": {
      "text/html": [
       "<div class=\"\"><span class=\"tfsechead \"><a target=\"_blank\" href=\"http://resources.huygens.knaw.nl/retroboeken/generalemissiven/#page=29&amp;source=1\" title=\"Show this document on Huygens\" sec=\"1 6:33\">1 6:33</a></span>  <span class=\"txtu\">een </span><span class=\"txtu\">plage </span><span class=\"txtu\">van </span><span class=\"txtu\">sere </span><span class=\"txtu\">benen, </span><span class=\"txtu\">alsoo </span><span class=\"txtu\">dat </span><span class=\"txtu\">ick </span><span class=\"txtu\">er </span><span class=\"txtu\">van </span><span class=\"txtu\">20 </span><span class=\"txtu\">geen </span><span class=\"txtu\">een </span><span class=\"txtu\">hebbe </span><span class=\"txtu\">sonder </span><span class=\"txtu\">plaesters</span></div>"
      ],
      "text/plain": [
       "<IPython.core.display.HTML object>"
      ]
     },
     "metadata": {},
     "output_type": "display_data"
    },
    {
     "data": {
      "text/html": [
       "<div class=\"\"><span class=\"tfsechead \"><a target=\"_blank\" href=\"http://resources.huygens.knaw.nl/retroboeken/generalemissiven/#page=29&amp;source=1\" title=\"Show this document on Huygens\" sec=\"1 6:34\">1 6:34</a></span>  <span class=\"txtu\">aen </span><span class=\"txtu\">de </span><span class=\"txtu\">beenen.</span></div>"
      ],
      "text/plain": [
       "<IPython.core.display.HTML object>"
      ]
     },
     "metadata": {},
     "output_type": "display_data"
    },
    {
     "data": {
      "text/html": [
       "<div class=\"\"><span class=\"tfsechead \"><a target=\"_blank\" href=\"http://resources.huygens.knaw.nl/retroboeken/generalemissiven/#page=29&amp;source=1\" title=\"Show this document on Huygens\" sec=\"1 6:35\">1 6:35</a></span>  <span class=\"txtu\"><span class=\"remark\"></span></span><span class=\"txtu\"><span class=\"remark\"></span></span><span class=\"txtu\"><span class=\"remark\"></span></span><span class=\"txtu\"><span class=\"remark\"></span></span></div>"
      ],
      "text/plain": [
       "<IPython.core.display.HTML object>"
      ]
     },
     "metadata": {},
     "output_type": "display_data"
    },
    {
     "data": {
      "text/html": [
       "<div class=\"\"><span class=\"tfsechead \"><a target=\"_blank\" href=\"http://resources.huygens.knaw.nl/retroboeken/generalemissiven/#page=29&amp;source=1\" title=\"Show this document on Huygens\" sec=\"1 6:36\">1 6:36</a></span>  </div>"
      ],
      "text/plain": [
       "<IPython.core.display.HTML object>"
      ]
     },
     "metadata": {},
     "output_type": "display_data"
    },
    {
     "data": {
      "text/html": [
       "<div class=\"\"><span class=\"tfsechead \"><a target=\"_blank\" href=\"http://resources.huygens.knaw.nl/retroboeken/generalemissiven/#page=29&amp;source=1\" title=\"Show this document on Huygens\" sec=\"1 6:37\">1 6:37</a></span>  </div>"
      ],
      "text/plain": [
       "<IPython.core.display.HTML object>"
      ]
     },
     "metadata": {},
     "output_type": "display_data"
    }
   ],
   "source": [
    "for ln in L.d(p, otype=\"line\"):\n",
    "    A.plain(ln, fmt=\"layout-orig\")"
   ]
  },
  {
   "cell_type": "markdown",
   "metadata": {},
   "source": [
    "# Recording\n",
    "\n",
    "We'll prepare this portion of text for annotation outside TF.\n",
    "\n",
    "What needs to happen is, that we produce a text file and that we remember the postions of the relevant\n",
    "nodes in that text file.\n",
    "\n",
    "The [Recorder](https://annotation.github.io/text-fabric/tf/convert/recorder.html).\n",
    "lets you create a string from nodes,\n",
    "where the positions of the nodes in that string are remembered.\n",
    "You may add all kinds of material in between the texts of the nodes.\n",
    "\n",
    "And it is up to you how you represent the nodes.\n",
    "\n",
    "We can add strings to the recorder, and we can tell nodes to start and to stop.\n",
    "\n",
    "We add all words in all lines to the recorder, provided the words belong to the original material.\n",
    "\n",
    "We add line numbers to each line."
   ]
  },
  {
   "cell_type": "code",
   "execution_count": 7,
   "metadata": {},
   "outputs": [],
   "source": [
    "# start a recorder\n",
    "rec = Recorder()\n",
    "\n",
    "for ln in L.d(p, otype=\"line\"):\n",
    "    # start a line node\n",
    "    rec.start(ln)\n",
    "\n",
    "    # add the line number\n",
    "    rec.add(f\"{F.n.v(ln)}. \")\n",
    "\n",
    "    for w in L.d(ln, otype=\"word\"):\n",
    "        trans = F.transo.v(w)\n",
    "        # if there is nothing in transo, it is not original text\n",
    "        if not trans:\n",
    "            continue\n",
    "\n",
    "        # start a word node\n",
    "        rec.start(w)\n",
    "\n",
    "        # add the word and its trailing punctuation\n",
    "        rec.add(f\"{trans}{F.punco.v(w)}\")\n",
    "\n",
    "        # terminate the word node\n",
    "        rec.end(w)\n",
    "\n",
    "    # add a newline\n",
    "    rec.add(\"\\n\")\n",
    "\n",
    "    # terminate the line node\n",
    "    rec.end(ln)"
   ]
  },
  {
   "cell_type": "markdown",
   "metadata": {},
   "source": [
    "As a check, let's print the recorded text:"
   ]
  },
  {
   "cell_type": "code",
   "execution_count": 8,
   "metadata": {},
   "outputs": [
    {
     "name": "stdout",
     "output_type": "stream",
     "text": [
      "1. \n",
      "2. \n",
      "3. \n",
      "4. Op den 12 deser is een jonge slave van een orancaybij nacht comen\n",
      "5. swemmen aen onse sloep, cloeck van verstant ende prompt in ’t antwoorden,\n",
      "6. hebben daeromme den 14en deser goet gevonden 14 soldaeten onder ’t commandement\n",
      "7. van een sergeant met een prau 3 uuren voor daege aen lant te setten aen\n",
      "8. d’ander sijde om te maeken een bosschaede waertoe medegenomen werde den\n",
      "9. overloper tot een guide, niettemin hem gebonden houdende die daertoe seer willich\n",
      "10. was, haer belastende sich niet te openbaeren, dan voor een persoon van qualiteyt\n",
      "11. gevangen ofte doot te crijgen. Soo is gebeurt, dat daer quamp alleen met een\n",
      "12. jongen een groot arancay van Nera, broeder van den sabandaer dewelcke sij\n",
      "13. tref f ten ende ’t hooft ons hier in ’t casteel gebracht, den voorsz. orancaye was door\n",
      "14. den jongen ende andere seer wel bekent, 14 daegen te voorens in ’t parlementeren\n",
      "15. met den onsen gesproken, die hem mede geroemt hadde, 2 van onse Hollanders\n",
      "16. in den moort van den admirael Verhoeven saliger omgebracht te hebben.\n",
      "17. \n",
      "18. \n",
      "19. \n",
      "20. \n",
      "21. Ic hebbe voor mij genomen, soo haest dit casteel gemaeckt is te keeren naer\n",
      "22. Ambojna ende van daer naer Ternnate ende soo den Coninck van Spagnien tusschen\n",
      "23. de Heeren Staeten den treves geobserveert werde, metten Coninck van ditto\n",
      "24. plaetse te contracteeren om met sijn hulpe dese plaetse te ocuperen ende hem daer\n",
      "25. mede Coninck van te maeken onder protexie van E Mogende Heeren Staeten, doch\n",
      "26. hiervan sal den tijt leeren ende namaels U E adviseeren \n",
      "27. Dit volck van Banda is superbe, moordadich, wel versien van waepenen, van\n",
      "28. de onsen voor desen ende van de Engelsche gecomen, dan weynich couraege omme\n",
      "29. metten onsen te slaen, maer de bergen sijn haer fortressen, die voor ons innaccessible\n",
      "30. sijn, sij leven mede van de vruchten van de boomen ende wortelen van de aerde,\n",
      "31. daer wijluyden bij vergaen souden, hier regneert onder d’onse een plaege, genaempt\n",
      "32. berebery waervan sij worden geheel impotent van handen ende beenen, mede\n",
      "33. een plage van sere benen, alsoo dat ick er van 20 geen een hebbe sonder plaesters\n",
      "34. aen de beenen.\n",
      "35. \n",
      "36. \n",
      "37. \n",
      "\n"
     ]
    }
   ],
   "source": [
    "print(rec.text())"
   ]
  },
  {
   "cell_type": "markdown",
   "metadata": {},
   "source": [
    "and the recorded node positions."
   ]
  },
  {
   "cell_type": "code",
   "execution_count": 9,
   "metadata": {},
   "outputs": [
    {
     "name": "stdout",
     "output_type": "stream",
     "text": [
      "pos 20: frozenset({1039, 5054871})\n",
      "pos 21: frozenset({1039, 5054871})\n",
      "pos 22: frozenset({1040, 5054871})\n",
      "pos 23: frozenset({1040, 5054871})\n",
      "pos 24: frozenset({1040, 5054871})\n",
      "pos 25: frozenset({1041, 5054871})\n",
      "pos 26: frozenset({1041, 5054871})\n",
      "pos 27: frozenset({1041, 5054871})\n",
      "pos 28: frozenset({1041, 5054871})\n",
      "pos 29: frozenset({1041, 5054871})\n"
     ]
    }
   ],
   "source": [
    "for i in range(20, 30):\n",
    "    print(f\"pos {i}: {rec.positions()[i]}\")"
   ]
  },
  {
   "cell_type": "markdown",
   "metadata": {},
   "source": [
    "This means that the character on position 20 in the plain text string is part of the text of node 1039 and of node 5054871."
   ]
  },
  {
   "cell_type": "markdown",
   "metadata": {},
   "source": [
    "With one statement we write the recorded text and the postions to two files:"
   ]
  },
  {
   "cell_type": "code",
   "execution_count": 10,
   "metadata": {},
   "outputs": [],
   "source": [
    "rec.write(\"exercises/v01-p0006.txt\")"
   ]
  },
  {
   "cell_type": "code",
   "execution_count": 11,
   "metadata": {},
   "outputs": [
    {
     "name": "stdout",
     "output_type": "stream",
     "text": [
      "1. \n",
      "2. \n",
      "3. \n",
      "4. Op den 12 deser is een jonge slave van een orancaybij nacht comen\n",
      "5. swemmen aen onse sloep, cloeck van verstant ende prompt in ’t antwoorden,\n",
      "6. hebben daeromme den 14en deser goet gevonden 14 soldaeten onder ’t commandement\n",
      "7. van een sergeant met een prau 3 uuren voor daege aen lant te setten aen\n",
      "8. d’ander sijde om te maeken een bosschaede waertoe medegenomen werde den\n",
      "9. overloper tot een guide, niettemin hem gebonden houdende die daertoe seer willich\n",
      "10. was, haer belastende sich niet te openbaeren, dan voor een persoon van qualiteyt\n"
     ]
    }
   ],
   "source": [
    "!head -n 10 exercises/v01-p0006.txt"
   ]
  },
  {
   "cell_type": "code",
   "execution_count": 12,
   "metadata": {},
   "outputs": [
    {
     "name": "stdout",
     "output_type": "stream",
     "text": [
      "5054868\n",
      "5054868\n",
      "5054868\n",
      "5054868\n",
      "5054869\n",
      "5054869\n",
      "5054869\n",
      "5054869\n",
      "5054870\n",
      "5054870\n",
      "5054870\n",
      "5054870\n",
      "5054871\n",
      "5054871\n",
      "5054871\n",
      "1038\t5054871\n",
      "1038\t5054871\n",
      "1038\t5054871\n",
      "1039\t5054871\n",
      "1039\t5054871\n",
      "1039\t5054871\n",
      "1039\t5054871\n",
      "1040\t5054871\n",
      "1040\t5054871\n",
      "1040\t5054871\n",
      "1041\t5054871\n",
      "1041\t5054871\n",
      "1041\t5054871\n",
      "1041\t5054871\n",
      "1041\t5054871\n"
     ]
    }
   ],
   "source": [
    "!head -n 30 exercises/v01-p0006.txt.pos"
   ]
  },
  {
   "cell_type": "markdown",
   "metadata": {},
   "source": [
    "<img align=\"right\" src=\"images/brat1.png\" width=\"500\"/>\n",
    "\n",
    "# Annotating\n",
    "\n",
    "We head over to a local installation of Brat\n",
    "and annotate our text.\n",
    "\n",
    "Left you see a quick and dirty manual annotation of some entities that I performed on\n",
    "the Brat interface, served locally.\n",
    "\n",
    "We captured the output of this annotation session into the file `v01-p0006.txt.ann`, it has the following contents:\n",
    "\n",
    "```\n",
    "T1\tPerson 675 679\tNera\n",
    "T2\tGPE 1181 1189\tTernnate\n",
    "#1\tAnnotatorNotes T2\tTernate\n",
    "T3\tPerson 1203 1223\tConinck van Spagnien\n",
    "T4\tGPE 1215 1223\tSpagnien\n",
    "T5\tOrganization 1240 1254\tHeeren Staeten\n",
    "T6\tPerson 1293 1300\tConinck\n",
    "T7\tPerson 1406 1413\tConinck\n",
    "T8\tOrganization 1457 1471\tHeeren Staeten\n",
    "T9\tGPE 1557 1562\tBanda\n",
    "T10\tGPE 1653 1662\tEngelsche\n",
    "T11\tPerson 58 65\torancay\n",
    "T12\tPerson 663 670\tarancay\n",
    "T13\tPerson 697 706\tsabandaer\n",
    "T14\tPerson 794 802\torancaye\n",
    "T15\tGPE 965 975\tHollanders\n",
    "T16\tPerson 1010 1019\tVerhoeven\n",
    "T17\tGPE 1154 1161\tAmbojna\n",
    "#2\tAnnotatorNotes T17\tAmboina\n",
    "T18\tGPE 1305 1310;1311 1322\tditto 24. plaetse\n",
    "#3\tAnnotatorNotes T18\tTernate\n",
    "*\tAlias T11 T14\n",
    "R1\tGeographical_part Arg1:T2 Arg2:T18\n",
    "```\n",
    "\n",
    "Now we want to feed back these annotations as TF features on word nodes.\n",
    "The Recorder cannot anticipate the formats that tools like Brat deliver their results in.\n",
    "Therefore, it expects the data to be in a straightforward tabular format.\n",
    "\n",
    "In this case, we must do a small conversion to bring the output annotations\n",
    "into good shape, namely a tab separated file\n",
    "with columns `start end feature1 feature2 ...`\n",
    "\n",
    "Here we choose to expose the identifier (the `T`n values) as feature1\n",
    "and the kind of entity as feature2.\n",
    "\n",
    "In case there is a link between two entities, we want to assign\n",
    "the earliest `T`number to all entities involved.\n",
    "\n",
    "We also want to preserve the annotator notes."
   ]
  },
  {
   "cell_type": "code",
   "execution_count": 13,
   "metadata": {},
   "outputs": [
    {
     "name": "stdout",
     "output_type": "stream",
     "text": [
      "675\t679\tT1\tPerson\t\n",
      "1181\t1189\tT2\tGPE\tTernate\n",
      "1203\t1223\tT3\tPerson\t\n",
      "1215\t1223\tT4\tGPE\t\n",
      "1240\t1254\tT5\tOrganization\t\n",
      "1293\t1300\tT6\tPerson\t\n",
      "1406\t1413\tT7\tPerson\t\n",
      "1457\t1471\tT8\tOrganization\t\n",
      "1557\t1562\tT9\tGPE\t\n",
      "1653\t1662\tT10\tGPE\t\n",
      "58\t65\tT11\tPerson\t\n",
      "663\t670\tT12\tPerson\t\n",
      "697\t706\tT13\tPerson\t\n",
      "794\t802\tT11\tPerson\t\n",
      "965\t975\tT15\tGPE\t\n",
      "1010\t1019\tT16\tPerson\t\n",
      "1154\t1161\tT17\tGPE\tAmboina\n",
      "1305\t1322\tT2\tGPE\tTernate\n",
      "{'T14': 'T11', 'T18': 'T2'}\n"
     ]
    }
   ],
   "source": [
    "def brat2tsv(inh, outh):\n",
    "    outh.write(\"start\\tend\\tentityId\\tentityKind\\tentityComment\\n\")\n",
    "    entities = []\n",
    "    notes = {}\n",
    "    maps = {}\n",
    "    for line in inh:\n",
    "        fields = line.rstrip(\"\\n\").split(\"\\t\")\n",
    "        if line.startswith(\"T\"):\n",
    "            id1 = fields[0]\n",
    "            (kind, *positions) = fields[1].split()\n",
    "            (start, end) = (positions[0], positions[-1])\n",
    "            entities.append([start, end, id1, kind, \"\"])\n",
    "        elif line.startswith(\"#\"):\n",
    "            id1 = fields[1].split()[1]\n",
    "            notes[id1] = fields[2]\n",
    "        elif line.startswith(\"*\"):\n",
    "            (kind, id1, id2) = fields[1].split()\n",
    "            maps[id2] = id1\n",
    "        elif line.startswith(\"R\"):\n",
    "            (id1, id2) = (f[5:] for f in fields[1].split()[1:])\n",
    "            maps[id2] = id1\n",
    "    for entity in entities:\n",
    "        id1 = entity[2]\n",
    "        if id1 in maps:\n",
    "            entity[2] = maps[id1]\n",
    "        if id1 in notes:\n",
    "            entity[4] = notes[id1]\n",
    "        line = \"\\t\".join(entity)\n",
    "        print(line)\n",
    "        outh.write(f\"{line}\\n\")\n",
    "\n",
    "    print(maps)\n",
    "\n",
    "\n",
    "with open(\"exercises/v01-p0006.txt.ann\") as inh:\n",
    "    with open(\"exercises/v01-p0006.txt.tsv\", \"w\") as outh:\n",
    "        brat2tsv(inh, outh)"
   ]
  },
  {
   "cell_type": "markdown",
   "metadata": {},
   "source": [
    "Our recorder knows how to do transform this file in feature data."
   ]
  },
  {
   "cell_type": "code",
   "execution_count": 14,
   "metadata": {},
   "outputs": [],
   "source": [
    "features = rec.makeFeatures(\"exercises/v01-p0006.txt.tsv\")"
   ]
  },
  {
   "cell_type": "markdown",
   "metadata": {},
   "source": [
    "Let's see."
   ]
  },
  {
   "cell_type": "code",
   "execution_count": 15,
   "metadata": {},
   "outputs": [
    {
     "name": "stdout",
     "output_type": "stream",
     "text": [
      "entityId\n",
      "\t {1146: 'T1', 5054879: 'T13', 5054889: 'T17', 1255: 'T2', 1259: 'T3', 1260: 'T3', 1261: 'T4', 1264: 'T5', 1265: 'T5', 5054890: 'T2', 1271: 'T6', 1289: 'T7', 5054892: 'T8', 1298: 'T8', 1299: 'T8', 1314: 'T9', 5054894: 'T9', 1330: 'T10', 5054895: 'T10', 1048: 'T11', 1049: 'T11', 5054871: 'T11', 1144: 'T12', 1150: 'T13', 5054880: 'T11', 1167: 'T11', 5054882: 'T15', 1196: 'T15', 5054883: 'T16', 1203: 'T16', 1250: 'T17', 1273: 'T2', 5054891: 'T2', 1274: 'T2'}\n",
      "entityKind\n",
      "\t {1146: 'Person', 5054879: 'Person', 5054889: 'GPE', 1255: 'GPE', 1259: 'Person', 1260: 'Person', 1261: 'GPE', 1264: 'Organization', 1265: 'Organization', 5054890: 'GPE', 1271: 'Person', 1289: 'Person', 5054892: 'Organization', 1298: 'Organization', 1299: 'Organization', 1314: 'GPE', 5054894: 'GPE', 1330: 'GPE', 5054895: 'GPE', 1048: 'Person', 1049: 'Person', 5054871: 'Person', 1144: 'Person', 1150: 'Person', 5054880: 'Person', 1167: 'Person', 5054882: 'GPE', 1196: 'GPE', 5054883: 'Person', 1203: 'Person', 1250: 'GPE', 1273: 'GPE', 5054891: 'GPE', 1274: 'GPE'}\n",
      "entityComment\n",
      "\t {5054889: 'Amboina', 1255: 'Ternate', 1250: 'Amboina', 1273: 'Ternate', 5054890: 'Ternate', 5054891: 'Ternate', 1274: 'Ternate'}\n"
     ]
    }
   ],
   "source": [
    "for (feat, data) in features.items():\n",
    "    print(feat)\n",
    "    print(\"\\t\", data)"
   ]
  },
  {
   "cell_type": "markdown",
   "metadata": {},
   "source": [
    "We can show this prettier:"
   ]
  },
  {
   "cell_type": "code",
   "execution_count": 16,
   "metadata": {},
   "outputs": [
    {
     "name": "stdout",
     "output_type": "stream",
     "text": [
      "entityId\n",
      "\tword 1146 => T1\n",
      "\tline 5054879 => T13\n",
      "\tline 5054889 => T17\n",
      "\tword 1255 => T2\n",
      "\tword 1259 => T3\n",
      "\tword 1260 => T3\n",
      "\tword 1261 => T4\n",
      "\tword 1264 => T5\n",
      "\tword 1265 => T5\n",
      "\tline 5054890 => T2\n",
      "\tword 1271 => T6\n",
      "\tword 1289 => T7\n",
      "\tline 5054892 => T8\n",
      "\tword 1298 => T8\n",
      "\tword 1299 => T8\n",
      "\tword 1314 => T9\n",
      "\tline 5054894 => T9\n",
      "\tword 1330 => T10\n",
      "\tline 5054895 => T10\n",
      "\tword 1048 => T11\n",
      "\tword 1049 => T11\n",
      "\tline 5054871 => T11\n",
      "\tword 1144 => T12\n",
      "\tword 1150 => T13\n",
      "\tline 5054880 => T11\n",
      "\tword 1167 => T11\n",
      "\tline 5054882 => T15\n",
      "\tword 1196 => T15\n",
      "\tline 5054883 => T16\n",
      "\tword 1203 => T16\n",
      "\tword 1250 => T17\n",
      "\tword 1273 => T2\n",
      "\tline 5054891 => T2\n",
      "\tword 1274 => T2\n",
      "entityKind\n",
      "\tword 1146 => Person\n",
      "\tline 5054879 => Person\n",
      "\tline 5054889 => GPE\n",
      "\tword 1255 => GPE\n",
      "\tword 1259 => Person\n",
      "\tword 1260 => Person\n",
      "\tword 1261 => GPE\n",
      "\tword 1264 => Organization\n",
      "\tword 1265 => Organization\n",
      "\tline 5054890 => GPE\n",
      "\tword 1271 => Person\n",
      "\tword 1289 => Person\n",
      "\tline 5054892 => Organization\n",
      "\tword 1298 => Organization\n",
      "\tword 1299 => Organization\n",
      "\tword 1314 => GPE\n",
      "\tline 5054894 => GPE\n",
      "\tword 1330 => GPE\n",
      "\tline 5054895 => GPE\n",
      "\tword 1048 => Person\n",
      "\tword 1049 => Person\n",
      "\tline 5054871 => Person\n",
      "\tword 1144 => Person\n",
      "\tword 1150 => Person\n",
      "\tline 5054880 => Person\n",
      "\tword 1167 => Person\n",
      "\tline 5054882 => GPE\n",
      "\tword 1196 => GPE\n",
      "\tline 5054883 => Person\n",
      "\tword 1203 => Person\n",
      "\tword 1250 => GPE\n",
      "\tword 1273 => GPE\n",
      "\tline 5054891 => GPE\n",
      "\tword 1274 => GPE\n",
      "entityComment\n",
      "\tline 5054889 => Amboina\n",
      "\tword 1255 => Ternate\n",
      "\tword 1250 => Amboina\n",
      "\tword 1273 => Ternate\n",
      "\tline 5054890 => Ternate\n",
      "\tline 5054891 => Ternate\n",
      "\tword 1274 => Ternate\n"
     ]
    }
   ],
   "source": [
    "for (feat, data) in features.items():\n",
    "    print(feat)\n",
    "    for (node, value) in data.items():\n",
    "        print(f\"\\t{F.otype.v(node)} {node} => {value}\")"
   ]
  },
  {
   "cell_type": "markdown",
   "metadata": {},
   "source": [
    "Note that we assign entity features to line nodes as well.\n",
    "\n",
    "If that is undesired, we should not have instructed the Recorder to `rec.add(ln)` above."
   ]
  },
  {
   "cell_type": "markdown",
   "metadata": {},
   "source": [
    "# Saving data\n",
    "\n",
    "The [documentation](https://annotation.github.io/text-fabric/tf/core/fabric.html#tf.core.fabric.FabricCore.save)\n",
    "explains how to save this data into text-fabric data files.\n",
    "\n",
    "We choose a location where to save it, the `exercises` directory next to this notebook."
   ]
  },
  {
   "cell_type": "code",
   "execution_count": 18,
   "metadata": {},
   "outputs": [],
   "source": [
    "GITHUB = os.path.expanduser(\"~/github\")\n",
    "ORG = \"annotation\"\n",
    "REPO = \"tutorials\"\n",
    "PATH = \"missieven/exercises\"\n",
    "VERSION = A.version"
   ]
  },
  {
   "cell_type": "markdown",
   "metadata": {},
   "source": [
    "Note the version: we have built the version against a specific version of the data:"
   ]
  },
  {
   "cell_type": "code",
   "execution_count": 19,
   "metadata": {},
   "outputs": [
    {
     "data": {
      "text/plain": [
       "0.4"
      ]
     },
     "execution_count": 19,
     "metadata": {},
     "output_type": "execute_result"
    }
   ],
   "source": [
    "A.version"
   ]
  },
  {
   "cell_type": "markdown",
   "metadata": {},
   "source": [
    "Later on, we pass this version on, so that users of our data will get the shared data in exactly the same version as their core data."
   ]
  },
  {
   "cell_type": "markdown",
   "metadata": {},
   "source": [
    "We have to specify a bit of metadata for this feature:"
   ]
  },
  {
   "cell_type": "code",
   "execution_count": 20,
   "metadata": {},
   "outputs": [],
   "source": [
    "metaData = {\n",
    "    \"entityId\": dict(\n",
    "        valueType=\"str\",\n",
    "        description=\"identifier of a named entity\",\n",
    "        creator=\"Dirk Roorda\",\n",
    "    ),\n",
    "    \"entityKind\": dict(\n",
    "        valueType=\"str\",\n",
    "        description=\"kind of a named entity\",\n",
    "        creator=\"Dirk Roorda\",\n",
    "    ),\n",
    "    \"entityComment\": dict(\n",
    "        valueType=\"str\",\n",
    "        description=\"comment to a named entity\",\n",
    "        creator=\"Dirk Roorda\",\n",
    "    ),\n",
    "}"
   ]
  },
  {
   "cell_type": "markdown",
   "metadata": {},
   "source": [
    "Now we can give the save command:"
   ]
  },
  {
   "cell_type": "code",
   "execution_count": 21,
   "metadata": {},
   "outputs": [
    {
     "name": "stdout",
     "output_type": "stream",
     "text": [
      "  0.00s Exporting 3 node and 0 edge and 0 config features to ~/github/annotation/tutorials/missieven/exercises/entities/tf/0.4:\n",
      "   |     0.00s T entityComment        to ~/github/annotation/tutorials/missieven/exercises/entities/tf/0.4\n",
      "   |     0.00s T entityId             to ~/github/annotation/tutorials/missieven/exercises/entities/tf/0.4\n",
      "   |     0.00s T entityKind           to ~/github/annotation/tutorials/missieven/exercises/entities/tf/0.4\n",
      "  0.01s Exported 3 node features and 0 edge features and 0 config features to ~/github/annotation/tutorials/missieven/exercises/entities/tf/0.4\n"
     ]
    },
    {
     "data": {
      "text/plain": [
       "True"
      ]
     },
     "execution_count": 21,
     "metadata": {},
     "output_type": "execute_result"
    }
   ],
   "source": [
    "location = f\"{GITHUB}/{ORG}/{REPO}/{PATH}/entities/tf\"\n",
    "TF.save(nodeFeatures=features, metaData=metaData, location=location, module=VERSION)"
   ]
  },
  {
   "cell_type": "markdown",
   "metadata": {},
   "source": [
    "# Migrating\n",
    "\n",
    "We now migrate these annotations to version 0.7, which is different from 0.4 in that the footnote texts have been drawn into\n",
    "the main text.\n",
    "\n",
    "We use the mapping from 0.4 nodes to 0.7 nodes, which is available as an edge feature `omap#0.4-0.7` in the\n",
    "0.7 version of the dataset.\n",
    "\n",
    "We load both the old and new versions of the dataset."
   ]
  },
  {
   "cell_type": "code",
   "execution_count": 22,
   "metadata": {},
   "outputs": [],
   "source": [
    "entityModule = \"annotation/tutorials/missieven/exercises/entities/tf\"\n",
    "va = 0.4\n",
    "vb = 0.7\n",
    "\n",
    "A = {}"
   ]
  },
  {
   "cell_type": "code",
   "execution_count": 23,
   "metadata": {},
   "outputs": [
    {
     "name": "stdout",
     "output_type": "stream",
     "text": [
      "rate limit is 5000 requests per hour, with 4983 left for this hour\n",
      "\tconnecting to online GitHub repo annotation/app-missieven ... connected\n"
     ]
    },
    {
     "data": {
      "text/html": [
       "<b title=\"requested\">TF-app:</b> <span title=\"rv0.4=#037aba031c92c19fed1f211811faa204a3dd64d5\">~/text-fabric-data/annotation/app-missieven/code</span>"
      ],
      "text/plain": [
       "<IPython.core.display.HTML object>"
      ]
     },
     "metadata": {},
     "output_type": "display_data"
    },
    {
     "data": {
      "text/html": [
       "<b title=\"local github\">data:</b> <span title=\"repo clone offline under ~/github\">~/github/Dans-labs/clariah-gm/tf/0.4</span>"
      ],
      "text/plain": [
       "<IPython.core.display.HTML object>"
      ]
     },
     "metadata": {},
     "output_type": "display_data"
    },
    {
     "data": {
      "text/html": [
       "<b title=\"local github\">data:</b> <span title=\"repo clone offline under ~/github\">~/github/annotation/tutorials/missieven/exercises/entities/tf/0.4</span>"
      ],
      "text/plain": [
       "<IPython.core.display.HTML object>"
      ]
     },
     "metadata": {},
     "output_type": "display_data"
    },
    {
     "name": "stdout",
     "output_type": "stream",
     "text": [
      "   |     0.00s T entityComment        from ~/github/annotation/tutorials/missieven/exercises/entities/tf/0.4\n",
      "   |     0.00s T entityId             from ~/github/annotation/tutorials/missieven/exercises/entities/tf/0.4\n",
      "   |     0.00s T entityKind           from ~/github/annotation/tutorials/missieven/exercises/entities/tf/0.4\n"
     ]
    },
    {
     "data": {
      "text/html": [
       "<b>Text-Fabric:</b> <a target=\"_blank\" href=\"https://annotation.github.io/text-fabric/cheatsheet.html\" title=\"text-fabric-api\">Text-Fabric API 8.4.7</a>, <a target=\"_blank\" href=\"https://github.com/annotation/app-missieven\" title=\"missieven TF-app\">app-missieven v3</a>, <a target=\"_blank\" href=\"https://annotation.github.io/text-fabric/about/searchusage.html\" title=\"Search Templates Introduction and Reference\">Search Reference</a><br><b>Data:</b> <a target=\"_blank\" href=\"https://github.com/Dans-labs/clariah-gm/blob/master/docs/transcription.md\" title=\"provenance of General Missives Dutch East India Company 1600-1800\">CLARIAH-GM</a>, <a target=\"_blank\" href=\"https://annotation.github.io/text-fabric/writing/.html\" title=\"How TF features represent text\">Character table</a>, <a target=\"_blank\" href=\"https://github.com/Dans-labs/clariah-gm/blob/master/docs/transcription.md\" title=\"CLARIAH-GM feature documentation\">Feature docs</a><br><b>Features:</b><br><details><summary><b>annotation/tutorials/missieven/exercises/entities/tf</b></summary><a target=\"_blank\" href=\"https://github.com/annotation/tutorials/tree/master/missieven/exercises/entities/tf\" title=\"~/github/annotation/tutorials/missieven/exercises/entities/tf/0.4/entityComment.tf\">entityComment</a><br><a target=\"_blank\" href=\"https://github.com/annotation/tutorials/tree/master/missieven/exercises/entities/tf\" title=\"~/github/annotation/tutorials/missieven/exercises/entities/tf/0.4/entityId.tf\">entityId</a><br><a target=\"_blank\" href=\"https://github.com/annotation/tutorials/tree/master/missieven/exercises/entities/tf\" title=\"~/github/annotation/tutorials/missieven/exercises/entities/tf/0.4/entityKind.tf\">entityKind</a><br></details><details><summary><b>General Missives Dutch East India Company 1600-1800</b></summary><a target=\"_blank\" href=\"https://github.com/Dans-labs/clariah-gm/blob/master/docs/transcription.md\" title=\"~/github/Dans-labs/clariah-gm/tf/0.4/author.tf\">author</a><br><a target=\"_blank\" href=\"https://github.com/Dans-labs/clariah-gm/blob/master/docs/transcription.md\" title=\"~/github/Dans-labs/clariah-gm/tf/0.4/authorFull.tf\">authorFull</a><br><a target=\"_blank\" href=\"https://github.com/Dans-labs/clariah-gm/blob/master/docs/transcription.md\" title=\"~/github/Dans-labs/clariah-gm/tf/0.4/col.tf\">col</a><br><a target=\"_blank\" href=\"https://github.com/Dans-labs/clariah-gm/blob/master/docs/transcription.md\" title=\"~/github/Dans-labs/clariah-gm/tf/0.4/day.tf\">day</a><br><a target=\"_blank\" href=\"https://github.com/Dans-labs/clariah-gm/blob/master/docs/transcription.md\" title=\"~/github/Dans-labs/clariah-gm/tf/0.4/emph.tf\">emph</a><br><a target=\"_blank\" href=\"https://github.com/Dans-labs/clariah-gm/blob/master/docs/transcription.md\" title=\"~/github/Dans-labs/clariah-gm/tf/0.4/facs.tf\">facs</a><br><a target=\"_blank\" href=\"https://github.com/Dans-labs/clariah-gm/blob/master/docs/transcription.md\" title=\"~/github/Dans-labs/clariah-gm/tf/0.4/fnote.tf\">fnote</a><br><a target=\"_blank\" href=\"https://github.com/Dans-labs/clariah-gm/blob/master/docs/transcription.md\" title=\"~/github/Dans-labs/clariah-gm/tf/0.4/folio.tf\">folio</a><br><a target=\"_blank\" href=\"https://github.com/Dans-labs/clariah-gm/blob/master/docs/transcription.md\" title=\"~/github/Dans-labs/clariah-gm/tf/0.4/month.tf\">month</a><br><a target=\"_blank\" href=\"https://github.com/Dans-labs/clariah-gm/blob/master/docs/transcription.md\" title=\"~/github/Dans-labs/clariah-gm/tf/0.4/n.tf\">n</a><br><a target=\"_blank\" href=\"https://github.com/Dans-labs/clariah-gm/blob/master/docs/transcription.md\" title=\"~/github/Dans-labs/clariah-gm/tf/0.4/otype.tf\">otype</a><br><a target=\"_blank\" href=\"https://github.com/Dans-labs/clariah-gm/blob/master/docs/transcription.md\" title=\"~/github/Dans-labs/clariah-gm/tf/0.4/page.tf\">page</a><br><a target=\"_blank\" href=\"https://github.com/Dans-labs/clariah-gm/blob/master/docs/transcription.md\" title=\"~/github/Dans-labs/clariah-gm/tf/0.4/place.tf\">place</a><br><a target=\"_blank\" href=\"https://github.com/Dans-labs/clariah-gm/blob/master/docs/transcription.md\" title=\"~/github/Dans-labs/clariah-gm/tf/0.4/punc.tf\">punc</a><br><a target=\"_blank\" href=\"https://github.com/Dans-labs/clariah-gm/blob/master/docs/transcription.md\" title=\"~/github/Dans-labs/clariah-gm/tf/0.4/punco.tf\">punco</a><br><a target=\"_blank\" href=\"https://github.com/Dans-labs/clariah-gm/blob/master/docs/transcription.md\" title=\"~/github/Dans-labs/clariah-gm/tf/0.4/puncr.tf\">puncr</a><br><a target=\"_blank\" href=\"https://github.com/Dans-labs/clariah-gm/blob/master/docs/transcription.md\" title=\"~/github/Dans-labs/clariah-gm/tf/0.4/rawdate.tf\">rawdate</a><br><a target=\"_blank\" href=\"https://github.com/Dans-labs/clariah-gm/blob/master/docs/transcription.md\" title=\"~/github/Dans-labs/clariah-gm/tf/0.4/ref.tf\">ref</a><br><a target=\"_blank\" href=\"https://github.com/Dans-labs/clariah-gm/blob/master/docs/transcription.md\" title=\"~/github/Dans-labs/clariah-gm/tf/0.4/remark.tf\">remark</a><br><a target=\"_blank\" href=\"https://github.com/Dans-labs/clariah-gm/blob/master/docs/transcription.md\" title=\"~/github/Dans-labs/clariah-gm/tf/0.4/row.tf\">row</a><br><a target=\"_blank\" href=\"https://github.com/Dans-labs/clariah-gm/blob/master/docs/transcription.md\" title=\"~/github/Dans-labs/clariah-gm/tf/0.4/seq.tf\">seq</a><br><a target=\"_blank\" href=\"https://github.com/Dans-labs/clariah-gm/blob/master/docs/transcription.md\" title=\"~/github/Dans-labs/clariah-gm/tf/0.4/special.tf\">special</a><br><a target=\"_blank\" href=\"https://github.com/Dans-labs/clariah-gm/blob/master/docs/transcription.md\" title=\"~/github/Dans-labs/clariah-gm/tf/0.4/status.tf\">status</a><br><a target=\"_blank\" href=\"https://github.com/Dans-labs/clariah-gm/blob/master/docs/transcription.md\" title=\"~/github/Dans-labs/clariah-gm/tf/0.4/sub.tf\">sub</a><br><a target=\"_blank\" href=\"https://github.com/Dans-labs/clariah-gm/blob/master/docs/transcription.md\" title=\"~/github/Dans-labs/clariah-gm/tf/0.4/super.tf\">super</a><br><a target=\"_blank\" href=\"https://github.com/Dans-labs/clariah-gm/blob/master/docs/transcription.md\" title=\"~/github/Dans-labs/clariah-gm/tf/0.4/title.tf\">title</a><br><a target=\"_blank\" href=\"https://github.com/Dans-labs/clariah-gm/blob/master/docs/transcription.md\" title=\"~/github/Dans-labs/clariah-gm/tf/0.4/tpl.tf\">tpl</a><br><a target=\"_blank\" href=\"https://github.com/Dans-labs/clariah-gm/blob/master/docs/transcription.md\" title=\"~/github/Dans-labs/clariah-gm/tf/0.4/trans.tf\">trans</a><br><a target=\"_blank\" href=\"https://github.com/Dans-labs/clariah-gm/blob/master/docs/transcription.md\" title=\"~/github/Dans-labs/clariah-gm/tf/0.4/transo.tf\">transo</a><br><a target=\"_blank\" href=\"https://github.com/Dans-labs/clariah-gm/blob/master/docs/transcription.md\" title=\"~/github/Dans-labs/clariah-gm/tf/0.4/transr.tf\">transr</a><br><a target=\"_blank\" href=\"https://github.com/Dans-labs/clariah-gm/blob/master/docs/transcription.md\" title=\"~/github/Dans-labs/clariah-gm/tf/0.4/und.tf\">und</a><br><a target=\"_blank\" href=\"https://github.com/Dans-labs/clariah-gm/blob/master/docs/transcription.md\" title=\"~/github/Dans-labs/clariah-gm/tf/0.4/vol.tf\">vol</a><br><a target=\"_blank\" href=\"https://github.com/Dans-labs/clariah-gm/blob/master/docs/transcription.md\" title=\"~/github/Dans-labs/clariah-gm/tf/0.4/year.tf\">year</a><br><b><i><a target=\"_blank\" href=\"https://github.com/Dans-labs/clariah-gm/blob/master/docs/transcription.md\" title=\"~/github/Dans-labs/clariah-gm/tf/0.4/oslots.tf\">oslots</a></i></b><br></details>"
      ],
      "text/plain": [
       "<IPython.core.display.HTML object>"
      ]
     },
     "metadata": {},
     "output_type": "display_data"
    },
    {
     "data": {
      "text/html": [
       "<style>tr.tf.ltr, td.tf.ltr, th.tf.ltr { text-align: left ! important;}\n",
       "tr.tf.rtl, td.tf.rtl, th.tf.rtl { text-align: right ! important;}\n",
       "@font-face {\n",
       "  font-family: \"Gentium Plus\";\n",
       "  src: local('Gentium Plus'), local('GentiumPlus'),\n",
       "    url('/server/static/fonts/GentiumPlus-R.woff') format('woff'),\n",
       "    url('https://github.com/annotation/text-fabric/blob/master/tf/server/static/fonts/GentiumPlus-R.woff?raw=true') format('woff');\n",
       "}\n",
       "\n",
       "@font-face {\n",
       "  font-family: \"Ezra SIL\";\n",
       "  src: local('Ezra SIL'), local('EzraSIL'),\n",
       "    url('/server/static/fonts/SILEOT.woff') format('woff'),\n",
       "    url('https://github.com/annotation/text-fabric/blob/master/tf/server/static/fonts/SILEOT.woff?raw=true') format('woff');\n",
       "}\n",
       "\n",
       "@font-face {\n",
       "  font-family: \"SBL Hebrew\";\n",
       "  src: local('SBL Hebrew'), local('SBLHebrew'),\n",
       "    url('/server/static/fonts/SBL_Hbrw.woff') format('woff'),\n",
       "    url('https://github.com/annotation/text-fabric/blob/master/tf/server/static/fonts/SBL_Hbrw.woff?raw=true') format('woff');\n",
       "}\n",
       "\n",
       "@font-face {\n",
       "  font-family: \"Estrangelo Edessa\";\n",
       "  src: local('Estrangelo Edessa'), local('EstrangeloEdessa');\n",
       "    url('/server/static/fonts/SyrCOMEdessa.woff') format('woff'),\n",
       "    url('https://github.com/annotation/text-fabric/blob/master/tf/server/static/fonts/SyrCOMEdessa.woff?raw=true') format('woff');\n",
       "}\n",
       "\n",
       "@font-face {\n",
       "  font-family: AmiriQuran;\n",
       "  font-style: normal;\n",
       "  font-weight: 400;\n",
       "  src: local('Amiri Quran'), local('AmiriQuran'),\n",
       "    url('/server/static/fonts/AmiriQuran.woff') format('woff'),\n",
       "    url('https://github.com/annotation/text-fabric/blob/master/tf/server/static/fonts/AmiriQuran.woff?raw=true') format('woff');\n",
       "}\n",
       "\n",
       "@font-face {\n",
       "  font-family: AmiriQuranColored;\n",
       "  font-style: normal;\n",
       "  font-weight: 400;\n",
       "  src: local('Amiri Quran Colored'), local('AmiriQuranColored'),\n",
       "    url('/server/static/fonts/AmiriQuranColored.woff') format('woff'),\n",
       "    url('https://github.com/annotation/text-fabric/blob/master/tf/server/static/fonts/AmiriQuranColored.woff?raw=true') format('woff');\n",
       "}\n",
       "\n",
       "@font-face {\n",
       "  font-family: \"Santakku\";\n",
       "  src: local('Santakku'),\n",
       "    url('/server/static/fonts/Santakku.woff') format('woff'),\n",
       "    url('https://github.com/annotation/text-fabric/blob/master/tf/server/static/fonts/Santakku.woff?raw=true') format('woff');\n",
       "}\n",
       "\n",
       "@font-face {\n",
       "  font-family: \"SantakkuM\";\n",
       "  src: local('SantakkuM'),\n",
       "    url('/server/static/fonts/SantakkuM.woff') format('woff'),\n",
       "    url('https://github.com/annotation/text-fabric/blob/master/tf/server/static/fonts/SantakkuM.woff?raw=true') format('woff');\n",
       "}\n",
       "/* bypassing some classical notebook settings */\n",
       "div#notebook {\n",
       "  line-height: unset;\n",
       "}\n",
       "/* neutral text */\n",
       ".txtn,.txtn a:visited,.txtn a:link {\n",
       "    font-family: sans-serif;\n",
       "    font-size: medium;\n",
       "    direction: ltr;\n",
       "    unicode-bidi: embed;\n",
       "    text-decoration: none;\n",
       "    color: var(--text-color);\n",
       "}\n",
       "/* transcription text */\n",
       ".txtt,.txtt a:visited,.txtt a:link {\n",
       "    font-family: monospace;\n",
       "    font-size: medium;\n",
       "    direction: ltr;\n",
       "    unicode-bidi: embed;\n",
       "    text-decoration: none;\n",
       "    color: var(--text-color);\n",
       "}\n",
       "/* source text */\n",
       ".txto,.txto a:visited,.txto a:link {\n",
       "    font-family: serif;\n",
       "    font-size: medium;\n",
       "    direction: ltr;\n",
       "    unicode-bidi: embed;\n",
       "    text-decoration: none;\n",
       "    color: var(--text-color);\n",
       "}\n",
       "/* phonetic text */\n",
       ".txtp,.txtp a:visited,.txtp a:link {\n",
       "    font-family: Gentium, sans-serif;\n",
       "    font-size: medium;\n",
       "    direction: ltr;\n",
       "    unicode-bidi: embed;\n",
       "    text-decoration: none;\n",
       "    color: var(--text-color);\n",
       "}\n",
       "/* original script text */\n",
       ".txtu,.txtu a:visited,.txtu a:link {\n",
       "    font-family: Gentium, sans-serif;\n",
       "    font-size: medium;\n",
       "    text-decoration: none;\n",
       "    color: var(--text-color);\n",
       "}\n",
       "/* hebrew */\n",
       ".txtu.hbo,.lex.hbo {\n",
       "    font-family: \"Ezra SIL\", \"SBL Hebrew\", sans-serif;\n",
       "    font-size: large;\n",
       "    direction: rtl ! important;\n",
       "    unicode-bidi: embed;\n",
       "}\n",
       "/* syriac */\n",
       ".txtu.syc,.lex.syc {\n",
       "    font-family: \"Estrangelo Edessa\", sans-serif;\n",
       "    font-size: medium;\n",
       "    direction: rtl ! important;\n",
       "    unicode-bidi: embed;\n",
       "}\n",
       "/* neo aramaic */\n",
       ".txtu.cld,.lex.cld {\n",
       "    font-family: \"CharisSIL-R\", sans-serif;\n",
       "    font-size: medium;\n",
       "    direction: ltr ! important;\n",
       "    unicode-bidi: embed;\n",
       "}\n",
       "/* standard arabic */\n",
       ".txtu.ara,.lex.ara {\n",
       "    font-family: \"AmiriQuran\", sans-serif;\n",
       "    font-size: large;\n",
       "    direction: rtl ! important;\n",
       "    unicode-bidi: embed;\n",
       "}\n",
       "/* cuneiform */\n",
       ".txtu.akk,.lex.akk {\n",
       "    font-family: Santakku, sans-serif;\n",
       "    font-size: large;\n",
       "    direction: ltr ! important;\n",
       "    unicode-bidi: embed;\n",
       "}\n",
       "/* greek */\n",
       ".txtu.grc,.lex.grc a:link {\n",
       "    font-family: Gentium, sans-serif;\n",
       "    font-size: medium;\n",
       "    direction: ltr ! important;\n",
       "    unicode-bidi: embed;\n",
       "}\n",
       "a:hover {\n",
       "    text-decoration: underline | important;\n",
       "    color: #0000ff | important;\n",
       "}\n",
       ".ltr {\n",
       "    direction: ltr ! important;\n",
       "    unicode-bidi: embed;\n",
       "}\n",
       ".rtl {\n",
       "    direction: rtl ! important;\n",
       "    unicode-bidi: embed;\n",
       "}\n",
       ".ubd {\n",
       "    unicode-bidi: embed;\n",
       "}\n",
       ".col {\n",
       "   display: inline-block;\n",
       "}\n",
       ".features {\n",
       "    font-family: monospace;\n",
       "    font-size: medium;\n",
       "    font-weight: bold;\n",
       "    color: var(--features);\n",
       "    display: flex;\n",
       "    flex-flow: column nowrap;\n",
       "    justify-content: flex-start;\n",
       "    align-items: flex-start;\n",
       "    align-content: flex-start;\n",
       "    padding: 2px;\n",
       "    margin: 2px;\n",
       "    direction: ltr;\n",
       "    unicode-bidi: embed;\n",
       "    border: var(--meta-width) solid var(--meta-color);\n",
       "    border-radius: var(--meta-width);\n",
       "}\n",
       ".features div,.features span {\n",
       "    padding: 0;\n",
       "    margin: -2px 0;\n",
       "}\n",
       ".features .f {\n",
       "    font-family: sans-serif;\n",
       "    font-size: small;\n",
       "    font-weight: normal;\n",
       "    color: #5555bb;\n",
       "}\n",
       ".features .xft {\n",
       "  color: #000000;\n",
       "  background-color: #eeeeee;\n",
       "  font-size: medium;\n",
       "  margin: 2px 0px;\n",
       "}\n",
       ".features .xft .f {\n",
       "  color: #000000;\n",
       "  background-color: #eeeeee;\n",
       "  font-size: small;\n",
       "  font-weight: normal;\n",
       "}\n",
       ".tfsechead {\n",
       "    font-family: sans-serif;\n",
       "    font-size: small;\n",
       "    font-weight: bold;\n",
       "    color: var(--tfsechead);\n",
       "    unicode-bidi: embed;\n",
       "    text-align: start;\n",
       "}\n",
       ".structure {\n",
       "    font-family: sans-serif;\n",
       "    font-size: small;\n",
       "    font-weight: bold;\n",
       "    color: var(--structure);\n",
       "    unicode-bidi: embed;\n",
       "    text-align: start;\n",
       "}\n",
       ".comments {\n",
       "    display: flex;\n",
       "    justify-content: flex-start;\n",
       "    align-items: flex-start;\n",
       "    align-content: flex-start;\n",
       "    flex-flow: column nowrap;\n",
       "}\n",
       ".nd, a:link.nd {\n",
       "    font-family: sans-serif;\n",
       "    font-size: small;\n",
       "    color: var(--node);\n",
       "    vertical-align: super;\n",
       "    direction: ltr ! important;\n",
       "    unicode-bidi: embed;\n",
       "}\n",
       ".lex {\n",
       "  color: var(--lex-color);;\n",
       "}\n",
       ".children,.children.ltr {\n",
       "    display: flex;\n",
       "    border: 0;\n",
       "    background-color: #ffffff;\n",
       "    justify-content: flex-start;\n",
       "    align-items: flex-start;\n",
       "    align-content: flex-start;\n",
       "}\n",
       ".children.stretch {\n",
       "    align-items: stretch;\n",
       "}\n",
       ".children.hor {\n",
       "    flex-flow: row nowrap;\n",
       "}\n",
       ".children.hor.wrap {\n",
       "    flex-flow: row wrap;\n",
       "}\n",
       ".children.ver {\n",
       "    flex-flow: column nowrap;\n",
       "}\n",
       ".children.ver.wrap {\n",
       "    flex-flow: column wrap;\n",
       "}\n",
       ".contnr {\n",
       "    width: fit-content;\n",
       "    display: flex;\n",
       "    justify-content: flex-start;\n",
       "    align-items: flex-start;\n",
       "    align-content: flex-start;\n",
       "    flex-flow: column nowrap;\n",
       "    background: #ffffff none repeat scroll 0 0;\n",
       "    padding:  10px 2px 2px 2px;\n",
       "    margin: 16px 2px 2px 2px;\n",
       "    border-style: solid;\n",
       "    font-size: small;\n",
       "}\n",
       ".contnr.trm {\n",
       "    background-attachment: local;\n",
       "}\n",
       ".contnr.cnul {\n",
       "    padding:  0;\n",
       "    margin: 0;\n",
       "    border-style: solid;\n",
       "    font-size: xx-small;\n",
       "}\n",
       ".contnr.cnul,.lbl.cnul {\n",
       "    border-color: var(--border-color-nul);\n",
       "    border-width: var(--border-width-nul);\n",
       "    border-radius: var(--border-width-nul);\n",
       "}\n",
       ".contnr.c0,.lbl.c0 {\n",
       "    border-color: var(--border-color0);\n",
       "    border-width: var(--border-width0);\n",
       "    border-radius: var(--border-width0);\n",
       "}\n",
       ".contnr.c1,.lbl.c1 {\n",
       "    border-color: var(--border-color1);\n",
       "    border-width: var(--border-width1);\n",
       "    border-radius: var(--border-width1);\n",
       "}\n",
       ".contnr.c2,.lbl.c2 {\n",
       "    border-color: var(--border-color2);\n",
       "    border-width: var(--border-width2);\n",
       "    border-radius: var(--border-width2);\n",
       "}\n",
       ".contnr.c3,.lbl.c3 {\n",
       "    border-color: var(--border-color3);\n",
       "    border-width: var(--border-width3);\n",
       "    border-radius: var(--border-width3);\n",
       "}\n",
       ".contnr.c4,.lbl.c4 {\n",
       "    border-color: var(--border-color4);\n",
       "    border-width: var(--border-width4);\n",
       "    border-radius: var(--border-width4);\n",
       "}\n",
       "span.plain {\n",
       "    display: inline-block;\n",
       "    white-space: pre-wrap;\n",
       "}\n",
       ".plain {\n",
       "    background-color: #ffffff;\n",
       "}\n",
       ".plain.l,.contnr.l,.contnr.l>.lbl {\n",
       "    border-left-style: dotted\n",
       "}\n",
       ".plain.r,.contnr.r,.contnr.r>.lbl {\n",
       "    border-right-style: dotted\n",
       "}\n",
       ".plain.lno,.contnr.lno,.contnr.lno>.lbl {\n",
       "    border-left-style: none\n",
       "}\n",
       ".plain.rno,.contnr.rno,.contnr.rno>.lbl {\n",
       "    border-right-style: none\n",
       "}\n",
       ".plain.l {\n",
       "    padding-left: 4px;\n",
       "    margin-left: 2px;\n",
       "    border-width: var(--border-width-plain);\n",
       "}\n",
       ".plain.r {\n",
       "    padding-right: 4px;\n",
       "    margin-right: 2px;\n",
       "    border-width: var(--border-width-plain);\n",
       "}\n",
       ".lbl {\n",
       "    font-family: monospace;\n",
       "    margin-top: -24px;\n",
       "    margin-left: 20px;\n",
       "    background: #ffffff none repeat scroll 0 0;\n",
       "    padding: 0 6px;\n",
       "    border-style: solid;\n",
       "    display: block;\n",
       "    color: var(--label)\n",
       "}\n",
       ".lbl.trm {\n",
       "    background-attachment: local;\n",
       "    margin-top: 2px;\n",
       "    margin-left: 2px;\n",
       "    padding: 2px 2px;\n",
       "    border-style: none;\n",
       "}\n",
       ".lbl.cnul {\n",
       "    font-size: xx-small;\n",
       "}\n",
       ".lbl.c0 {\n",
       "    font-size: small;\n",
       "}\n",
       ".lbl.c1 {\n",
       "    font-size: small;\n",
       "}\n",
       ".lbl.c2 {\n",
       "    font-size: medium;\n",
       "}\n",
       ".lbl.c3 {\n",
       "    font-size: medium;\n",
       "}\n",
       ".lbl.c4 {\n",
       "    font-size: large;\n",
       "}\n",
       ".occs, a:link.occs {\n",
       "    font-size: small;\n",
       "}\n",
       "\n",
       "/* PROVENANCE */\n",
       "\n",
       "div.prov {\n",
       "\tmargin: 40px;\n",
       "\tpadding: 20px;\n",
       "\tborder: 2px solid var(--fog-rim);\n",
       "}\n",
       "div.pline {\n",
       "\tdisplay: flex;\n",
       "\tflex-flow: row nowrap;\n",
       "\tjustify-content: stretch;\n",
       "\talign-items: baseline;\n",
       "}\n",
       "div.p2line {\n",
       "\tmargin-left: 2em;\n",
       "\tdisplay: flex;\n",
       "\tflex-flow: row nowrap;\n",
       "\tjustify-content: stretch;\n",
       "\talign-items: baseline;\n",
       "}\n",
       "div.psline {\n",
       "\tdisplay: flex;\n",
       "\tflex-flow: row nowrap;\n",
       "\tjustify-content: stretch;\n",
       "\talign-items: baseline;\n",
       "\tbackground-color: var(--gold-mist-back);\n",
       "}\n",
       "div.pname {\n",
       "\tflex: 0 0 5rem;\n",
       "\tfont-weight: bold;\n",
       "}\n",
       "div.pval {\n",
       "    flex: 1 1 auto;\n",
       "}\n",
       "\n",
       ":root {\n",
       "\t--node:               hsla(120, 100%,  20%, 1.0  );\n",
       "\t--label:              hsla(  0, 100%,  20%, 1.0  );\n",
       "\t--tfsechead:          hsla(  0, 100%,  25%, 1.0  );\n",
       "\t--structure:          hsla(120, 100%,  25%, 1.0  );\n",
       "\t--features:           hsla(  0,   0%,  30%, 1.0  );\n",
       "  --text-color:         hsla( 60,  80%,  10%, 1.0  );\n",
       "  --lex-color:          hsla(220,  90%,  60%, 1.0  );\n",
       "  --meta-color:         hsla(  0,   0%,  90%, 0.7  );\n",
       "  --meta-width:         3px;\n",
       "  --border-color-nul:   hsla(  0,   0%,  90%, 0.5  );\n",
       "  --border-color0:      hsla(  0,   0%,  90%, 0.9  );\n",
       "  --border-color1:      hsla(  0,   0%,  80%, 0.9  );\n",
       "  --border-color2:      hsla(  0,   0%,  70%, 0.9  );\n",
       "  --border-color3:      hsla(  0,   0%,  80%, 0.8  );\n",
       "  --border-color4:      hsla(  0,   0%,  60%, 0.9  );\n",
       "  --border-width-nul:   2px;\n",
       "  --border-width0:      2px;\n",
       "  --border-width1:      3px;\n",
       "  --border-width2:      4px;\n",
       "  --border-width3:      6px;\n",
       "  --border-width4:      5px;\n",
       "  --border-width-plain: 2px;\n",
       "}\n",
       ".hl {\n",
       "  background-color: var(--hl-strong);\n",
       "}\n",
       "span.hl {\n",
       "\tbackground-color: var(--hl-strong);\n",
       "\tborder-width: 0;\n",
       "\tborder-radius: 2px;\n",
       "\tborder-style: solid;\n",
       "}\n",
       "div.contnr.hl,div.lbl.hl {\n",
       "  background-color: var(--hl-strong);\n",
       "}\n",
       "div.contnr.hl {\n",
       "  border-color: var(--hl-rim) ! important;\n",
       "\tborder-width: 4px ! important;\n",
       "}\n",
       "\n",
       "span.hlbx {\n",
       "\tborder-color: var(--hl-rim);\n",
       "\tborder-width: 4px ! important;\n",
       "\tborder-style: solid;\n",
       "\tborder-radius: 6px;\n",
       "  padding: 4px;\n",
       "  margin: 4px;\n",
       "}\n",
       "\n",
       "span.plain {\n",
       "  display: inline-block;\n",
       "  white-space: pre-wrap;\n",
       "}\n",
       "\n",
       ":root {\n",
       "\t--hl-strong:        hsla( 60, 100%,  70%, 0.9  );\n",
       "\t--hl-rim:           hsla( 55,  80%,  50%, 1.0  );\n",
       "}\n",
       ".remark {\n",
       "  font-size: large;\n",
       "  font-style: italic;\n",
       "}\n",
       ".folio {\n",
       "  font-size: small;\n",
       "  color: #668866;\n",
       "}\n",
       ".fmark:after {\n",
       "  font-size: small;\n",
       "  font-weight: bold;\n",
       "  vertical-align: super;\n",
       "  color: #ddaa22;\n",
       "}\n",
       ".fbody {\n",
       "  vertical-align: super;\n",
       "  font-size: small;\n",
       "  color: #774400;\n",
       "}\n",
       ".ref {\n",
       "  font-size: small;\n",
       "  font-weight: bold;\n",
       "  color: #666688;\n",
       "}\n",
       ".emph {\n",
       "  font-style: italic;\n",
       "}\n",
       ".und {\n",
       "  text-decoration: underline;\n",
       "}\n",
       ".super {\n",
       "  vertical-align: super;\n",
       "}\n",
       ".special {\n",
       "  font-family: monospace;\n",
       "  font-weight: bold;\n",
       "  color: #886666;\n",
       "}\n",
       "</style>"
      ],
      "text/plain": [
       "<IPython.core.display.HTML object>"
      ]
     },
     "metadata": {},
     "output_type": "display_data"
    }
   ],
   "source": [
    "# A[va] = use(f\"missieven:v{va}\", mod=f\"{entityModule}:{va}\")\n",
    "A[va] = use(f\"missieven:v{va}\", mod=f\"{entityModule}:clone\", checkout=\"clone\")"
   ]
  },
  {
   "cell_type": "code",
   "execution_count": 24,
   "metadata": {},
   "outputs": [
    {
     "data": {
      "text/html": [
       "<b title=\"local github\">TF-app:</b> <span title=\"repo clone offline under ~/github\">~/github/annotation/app-missieven/code</span>"
      ],
      "text/plain": [
       "<IPython.core.display.HTML object>"
      ]
     },
     "metadata": {},
     "output_type": "display_data"
    },
    {
     "data": {
      "text/html": [
       "<b title=\"local github\">data:</b> <span title=\"repo clone offline under ~/github\">~/github/Dans-labs/clariah-gm/tf/0.7</span>"
      ],
      "text/plain": [
       "<IPython.core.display.HTML object>"
      ]
     },
     "metadata": {},
     "output_type": "display_data"
    },
    {
     "name": "stdout",
     "output_type": "stream",
     "text": [
      "   |       16s T omap#0.4-0.7         from ~/github/Dans-labs/clariah-gm/tf/0.7\n"
     ]
    },
    {
     "data": {
      "text/html": [
       "<b>Text-Fabric:</b> <a target=\"_blank\" href=\"https://annotation.github.io/text-fabric/cheatsheet.html\" title=\"text-fabric-api\">Text-Fabric API 8.4.7</a>, <a target=\"_blank\" href=\"https://github.com/annotation/app-missieven\" title=\"missieven TF-app\">app-missieven v3</a>, <a target=\"_blank\" href=\"https://annotation.github.io/text-fabric/about/searchusage.html\" title=\"Search Templates Introduction and Reference\">Search Reference</a><br><b>Data:</b> <a target=\"_blank\" href=\"https://github.com/Dans-labs/clariah-gm/blob/master/docs/transcription.md\" title=\"provenance of General Missives Dutch East India Company 1600-1800\">CLARIAH-GM</a>, <a target=\"_blank\" href=\"https://annotation.github.io/text-fabric/writing/.html\" title=\"How TF features represent text\">Character table</a>, <a target=\"_blank\" href=\"https://github.com/Dans-labs/clariah-gm/blob/master/docs/transcription.md\" title=\"CLARIAH-GM feature documentation\">Feature docs</a><br><b>Features:</b><br><details><summary><b>General Missives Dutch East India Company 1600-1800</b></summary><a target=\"_blank\" href=\"https://github.com/Dans-labs/clariah-gm/blob/master/docs/transcription.md\" title=\"~/github/Dans-labs/clariah-gm/tf/0.7/author.tf\">author</a><br><a target=\"_blank\" href=\"https://github.com/Dans-labs/clariah-gm/blob/master/docs/transcription.md\" title=\"~/github/Dans-labs/clariah-gm/tf/0.7/authorFull.tf\">authorFull</a><br><a target=\"_blank\" href=\"https://github.com/Dans-labs/clariah-gm/blob/master/docs/transcription.md\" title=\"~/github/Dans-labs/clariah-gm/tf/0.7/col.tf\">col</a><br><a target=\"_blank\" href=\"https://github.com/Dans-labs/clariah-gm/blob/master/docs/transcription.md\" title=\"~/github/Dans-labs/clariah-gm/tf/0.7/day.tf\">day</a><br><a target=\"_blank\" href=\"https://github.com/Dans-labs/clariah-gm/blob/master/docs/transcription.md\" title=\"~/github/Dans-labs/clariah-gm/tf/0.7/facs.tf\">facs</a><br><a target=\"_blank\" href=\"https://github.com/Dans-labs/clariah-gm/blob/master/docs/transcription.md\" title=\"~/github/Dans-labs/clariah-gm/tf/0.7/isemph.tf\">isemph</a><br><a target=\"_blank\" href=\"https://github.com/Dans-labs/clariah-gm/blob/master/docs/transcription.md\" title=\"~/github/Dans-labs/clariah-gm/tf/0.7/isfolio.tf\">isfolio</a><br><a target=\"_blank\" href=\"https://github.com/Dans-labs/clariah-gm/blob/master/docs/transcription.md\" title=\"~/github/Dans-labs/clariah-gm/tf/0.7/isnote.tf\">isnote</a><br><a target=\"_blank\" href=\"https://github.com/Dans-labs/clariah-gm/blob/master/docs/transcription.md\" title=\"~/github/Dans-labs/clariah-gm/tf/0.7/isorig.tf\">isorig</a><br><a target=\"_blank\" href=\"https://github.com/Dans-labs/clariah-gm/blob/master/docs/transcription.md\" title=\"~/github/Dans-labs/clariah-gm/tf/0.7/isref.tf\">isref</a><br><a target=\"_blank\" href=\"https://github.com/Dans-labs/clariah-gm/blob/master/docs/transcription.md\" title=\"~/github/Dans-labs/clariah-gm/tf/0.7/isremark.tf\">isremark</a><br><a target=\"_blank\" href=\"https://github.com/Dans-labs/clariah-gm/blob/master/docs/transcription.md\" title=\"~/github/Dans-labs/clariah-gm/tf/0.7/isspecial.tf\">isspecial</a><br><a target=\"_blank\" href=\"https://github.com/Dans-labs/clariah-gm/blob/master/docs/transcription.md\" title=\"~/github/Dans-labs/clariah-gm/tf/0.7/issub.tf\">issub</a><br><a target=\"_blank\" href=\"https://github.com/Dans-labs/clariah-gm/blob/master/docs/transcription.md\" title=\"~/github/Dans-labs/clariah-gm/tf/0.7/issuper.tf\">issuper</a><br><a target=\"_blank\" href=\"https://github.com/Dans-labs/clariah-gm/blob/master/docs/transcription.md\" title=\"~/github/Dans-labs/clariah-gm/tf/0.7/isund.tf\">isund</a><br><a target=\"_blank\" href=\"https://github.com/Dans-labs/clariah-gm/blob/master/docs/transcription.md\" title=\"~/github/Dans-labs/clariah-gm/tf/0.7/mark.tf\">mark</a><br><a target=\"_blank\" href=\"https://github.com/Dans-labs/clariah-gm/blob/master/docs/transcription.md\" title=\"~/github/Dans-labs/clariah-gm/tf/0.7/month.tf\">month</a><br><a target=\"_blank\" href=\"https://github.com/Dans-labs/clariah-gm/blob/master/docs/transcription.md\" title=\"~/github/Dans-labs/clariah-gm/tf/0.7/n.tf\">n</a><br><a target=\"_blank\" href=\"https://github.com/Dans-labs/clariah-gm/blob/master/docs/transcription.md\" title=\"~/github/Dans-labs/clariah-gm/tf/0.7/otype.tf\">otype</a><br><a target=\"_blank\" href=\"https://github.com/Dans-labs/clariah-gm/blob/master/docs/transcription.md\" title=\"~/github/Dans-labs/clariah-gm/tf/0.7/page.tf\">page</a><br><a target=\"_blank\" href=\"https://github.com/Dans-labs/clariah-gm/blob/master/docs/transcription.md\" title=\"~/github/Dans-labs/clariah-gm/tf/0.7/place.tf\">place</a><br><a target=\"_blank\" href=\"https://github.com/Dans-labs/clariah-gm/blob/master/docs/transcription.md\" title=\"~/github/Dans-labs/clariah-gm/tf/0.7/punc.tf\">punc</a><br><a target=\"_blank\" href=\"https://github.com/Dans-labs/clariah-gm/blob/master/docs/transcription.md\" title=\"~/github/Dans-labs/clariah-gm/tf/0.7/puncn.tf\">puncn</a><br><a target=\"_blank\" href=\"https://github.com/Dans-labs/clariah-gm/blob/master/docs/transcription.md\" title=\"~/github/Dans-labs/clariah-gm/tf/0.7/punco.tf\">punco</a><br><a target=\"_blank\" href=\"https://github.com/Dans-labs/clariah-gm/blob/master/docs/transcription.md\" title=\"~/github/Dans-labs/clariah-gm/tf/0.7/puncr.tf\">puncr</a><br><a target=\"_blank\" href=\"https://github.com/Dans-labs/clariah-gm/blob/master/docs/transcription.md\" title=\"~/github/Dans-labs/clariah-gm/tf/0.7/rawdate.tf\">rawdate</a><br><a target=\"_blank\" href=\"https://github.com/Dans-labs/clariah-gm/blob/master/docs/transcription.md\" title=\"~/github/Dans-labs/clariah-gm/tf/0.7/row.tf\">row</a><br><a target=\"_blank\" href=\"https://github.com/Dans-labs/clariah-gm/blob/master/docs/transcription.md\" title=\"~/github/Dans-labs/clariah-gm/tf/0.7/seq.tf\">seq</a><br><a target=\"_blank\" href=\"https://github.com/Dans-labs/clariah-gm/blob/master/docs/transcription.md\" title=\"~/github/Dans-labs/clariah-gm/tf/0.7/status.tf\">status</a><br><a target=\"_blank\" href=\"https://github.com/Dans-labs/clariah-gm/blob/master/docs/transcription.md\" title=\"~/github/Dans-labs/clariah-gm/tf/0.7/title.tf\">title</a><br><a target=\"_blank\" href=\"https://github.com/Dans-labs/clariah-gm/blob/master/docs/transcription.md\" title=\"~/github/Dans-labs/clariah-gm/tf/0.7/tpl.tf\">tpl</a><br><a target=\"_blank\" href=\"https://github.com/Dans-labs/clariah-gm/blob/master/docs/transcription.md\" title=\"~/github/Dans-labs/clariah-gm/tf/0.7/trans.tf\">trans</a><br><a target=\"_blank\" href=\"https://github.com/Dans-labs/clariah-gm/blob/master/docs/transcription.md\" title=\"~/github/Dans-labs/clariah-gm/tf/0.7/transn.tf\">transn</a><br><a target=\"_blank\" href=\"https://github.com/Dans-labs/clariah-gm/blob/master/docs/transcription.md\" title=\"~/github/Dans-labs/clariah-gm/tf/0.7/transo.tf\">transo</a><br><a target=\"_blank\" href=\"https://github.com/Dans-labs/clariah-gm/blob/master/docs/transcription.md\" title=\"~/github/Dans-labs/clariah-gm/tf/0.7/transr.tf\">transr</a><br><a target=\"_blank\" href=\"https://github.com/Dans-labs/clariah-gm/blob/master/docs/transcription.md\" title=\"~/github/Dans-labs/clariah-gm/tf/0.7/vol.tf\">vol</a><br><a target=\"_blank\" href=\"https://github.com/Dans-labs/clariah-gm/blob/master/docs/transcription.md\" title=\"~/github/Dans-labs/clariah-gm/tf/0.7/year.tf\">year</a><br><b><i><a target=\"_blank\" href=\"https://github.com/Dans-labs/clariah-gm/blob/master/docs/transcription.md\" title=\"~/github/Dans-labs/clariah-gm/tf/0.7/note.tf\">note</a></i></b><br><b><i><a target=\"_blank\" href=\"https://github.com/Dans-labs/clariah-gm/blob/master/docs/transcription.md\" title=\"~/github/Dans-labs/clariah-gm/tf/0.7/omap#0.4-0.7.tf\">omap#0.4-0.7</a></i></b><br><b><i><a target=\"_blank\" href=\"https://github.com/Dans-labs/clariah-gm/blob/master/docs/transcription.md\" title=\"~/github/Dans-labs/clariah-gm/tf/0.7/omap#0.5-0.7.tf\">omap#0.5-0.7</a></i></b><br><b><i><a target=\"_blank\" href=\"https://github.com/Dans-labs/clariah-gm/blob/master/docs/transcription.md\" title=\"~/github/Dans-labs/clariah-gm/tf/0.7/oslots.tf\">oslots</a></i></b><br></details>"
      ],
      "text/plain": [
       "<IPython.core.display.HTML object>"
      ]
     },
     "metadata": {},
     "output_type": "display_data"
    },
    {
     "data": {
      "text/html": [
       "<style>tr.tf.ltr, td.tf.ltr, th.tf.ltr { text-align: left ! important;}\n",
       "tr.tf.rtl, td.tf.rtl, th.tf.rtl { text-align: right ! important;}\n",
       "@font-face {\n",
       "  font-family: \"Gentium Plus\";\n",
       "  src: local('Gentium Plus'), local('GentiumPlus'),\n",
       "    url('/server/static/fonts/GentiumPlus-R.woff') format('woff'),\n",
       "    url('https://github.com/annotation/text-fabric/blob/master/tf/server/static/fonts/GentiumPlus-R.woff?raw=true') format('woff');\n",
       "}\n",
       "\n",
       "@font-face {\n",
       "  font-family: \"Ezra SIL\";\n",
       "  src: local('Ezra SIL'), local('EzraSIL'),\n",
       "    url('/server/static/fonts/SILEOT.woff') format('woff'),\n",
       "    url('https://github.com/annotation/text-fabric/blob/master/tf/server/static/fonts/SILEOT.woff?raw=true') format('woff');\n",
       "}\n",
       "\n",
       "@font-face {\n",
       "  font-family: \"SBL Hebrew\";\n",
       "  src: local('SBL Hebrew'), local('SBLHebrew'),\n",
       "    url('/server/static/fonts/SBL_Hbrw.woff') format('woff'),\n",
       "    url('https://github.com/annotation/text-fabric/blob/master/tf/server/static/fonts/SBL_Hbrw.woff?raw=true') format('woff');\n",
       "}\n",
       "\n",
       "@font-face {\n",
       "  font-family: \"Estrangelo Edessa\";\n",
       "  src: local('Estrangelo Edessa'), local('EstrangeloEdessa');\n",
       "    url('/server/static/fonts/SyrCOMEdessa.woff') format('woff'),\n",
       "    url('https://github.com/annotation/text-fabric/blob/master/tf/server/static/fonts/SyrCOMEdessa.woff?raw=true') format('woff');\n",
       "}\n",
       "\n",
       "@font-face {\n",
       "  font-family: AmiriQuran;\n",
       "  font-style: normal;\n",
       "  font-weight: 400;\n",
       "  src: local('Amiri Quran'), local('AmiriQuran'),\n",
       "    url('/server/static/fonts/AmiriQuran.woff') format('woff'),\n",
       "    url('https://github.com/annotation/text-fabric/blob/master/tf/server/static/fonts/AmiriQuran.woff?raw=true') format('woff');\n",
       "}\n",
       "\n",
       "@font-face {\n",
       "  font-family: AmiriQuranColored;\n",
       "  font-style: normal;\n",
       "  font-weight: 400;\n",
       "  src: local('Amiri Quran Colored'), local('AmiriQuranColored'),\n",
       "    url('/server/static/fonts/AmiriQuranColored.woff') format('woff'),\n",
       "    url('https://github.com/annotation/text-fabric/blob/master/tf/server/static/fonts/AmiriQuranColored.woff?raw=true') format('woff');\n",
       "}\n",
       "\n",
       "@font-face {\n",
       "  font-family: \"Santakku\";\n",
       "  src: local('Santakku'),\n",
       "    url('/server/static/fonts/Santakku.woff') format('woff'),\n",
       "    url('https://github.com/annotation/text-fabric/blob/master/tf/server/static/fonts/Santakku.woff?raw=true') format('woff');\n",
       "}\n",
       "\n",
       "@font-face {\n",
       "  font-family: \"SantakkuM\";\n",
       "  src: local('SantakkuM'),\n",
       "    url('/server/static/fonts/SantakkuM.woff') format('woff'),\n",
       "    url('https://github.com/annotation/text-fabric/blob/master/tf/server/static/fonts/SantakkuM.woff?raw=true') format('woff');\n",
       "}\n",
       "/* bypassing some classical notebook settings */\n",
       "div#notebook {\n",
       "  line-height: unset;\n",
       "}\n",
       "/* neutral text */\n",
       ".txtn,.txtn a:visited,.txtn a:link {\n",
       "    font-family: sans-serif;\n",
       "    font-size: medium;\n",
       "    direction: ltr;\n",
       "    unicode-bidi: embed;\n",
       "    text-decoration: none;\n",
       "    color: var(--text-color);\n",
       "}\n",
       "/* transcription text */\n",
       ".txtt,.txtt a:visited,.txtt a:link {\n",
       "    font-family: monospace;\n",
       "    font-size: medium;\n",
       "    direction: ltr;\n",
       "    unicode-bidi: embed;\n",
       "    text-decoration: none;\n",
       "    color: var(--text-color);\n",
       "}\n",
       "/* source text */\n",
       ".txto,.txto a:visited,.txto a:link {\n",
       "    font-family: serif;\n",
       "    font-size: medium;\n",
       "    direction: ltr;\n",
       "    unicode-bidi: embed;\n",
       "    text-decoration: none;\n",
       "    color: var(--text-color);\n",
       "}\n",
       "/* phonetic text */\n",
       ".txtp,.txtp a:visited,.txtp a:link {\n",
       "    font-family: Gentium, sans-serif;\n",
       "    font-size: medium;\n",
       "    direction: ltr;\n",
       "    unicode-bidi: embed;\n",
       "    text-decoration: none;\n",
       "    color: var(--text-color);\n",
       "}\n",
       "/* original script text */\n",
       ".txtu,.txtu a:visited,.txtu a:link {\n",
       "    font-family: Gentium, sans-serif;\n",
       "    font-size: medium;\n",
       "    text-decoration: none;\n",
       "    color: var(--text-color);\n",
       "}\n",
       "/* hebrew */\n",
       ".txtu.hbo,.lex.hbo {\n",
       "    font-family: \"Ezra SIL\", \"SBL Hebrew\", sans-serif;\n",
       "    font-size: large;\n",
       "    direction: rtl ! important;\n",
       "    unicode-bidi: embed;\n",
       "}\n",
       "/* syriac */\n",
       ".txtu.syc,.lex.syc {\n",
       "    font-family: \"Estrangelo Edessa\", sans-serif;\n",
       "    font-size: medium;\n",
       "    direction: rtl ! important;\n",
       "    unicode-bidi: embed;\n",
       "}\n",
       "/* neo aramaic */\n",
       ".txtu.cld,.lex.cld {\n",
       "    font-family: \"CharisSIL-R\", sans-serif;\n",
       "    font-size: medium;\n",
       "    direction: ltr ! important;\n",
       "    unicode-bidi: embed;\n",
       "}\n",
       "/* standard arabic */\n",
       ".txtu.ara,.lex.ara {\n",
       "    font-family: \"AmiriQuran\", sans-serif;\n",
       "    font-size: large;\n",
       "    direction: rtl ! important;\n",
       "    unicode-bidi: embed;\n",
       "}\n",
       "/* cuneiform */\n",
       ".txtu.akk,.lex.akk {\n",
       "    font-family: Santakku, sans-serif;\n",
       "    font-size: large;\n",
       "    direction: ltr ! important;\n",
       "    unicode-bidi: embed;\n",
       "}\n",
       "/* greek */\n",
       ".txtu.grc,.lex.grc a:link {\n",
       "    font-family: Gentium, sans-serif;\n",
       "    font-size: medium;\n",
       "    direction: ltr ! important;\n",
       "    unicode-bidi: embed;\n",
       "}\n",
       "a:hover {\n",
       "    text-decoration: underline | important;\n",
       "    color: #0000ff | important;\n",
       "}\n",
       ".ltr {\n",
       "    direction: ltr ! important;\n",
       "    unicode-bidi: embed;\n",
       "}\n",
       ".rtl {\n",
       "    direction: rtl ! important;\n",
       "    unicode-bidi: embed;\n",
       "}\n",
       ".ubd {\n",
       "    unicode-bidi: embed;\n",
       "}\n",
       ".col {\n",
       "   display: inline-block;\n",
       "}\n",
       ".features {\n",
       "    font-family: monospace;\n",
       "    font-size: medium;\n",
       "    font-weight: bold;\n",
       "    color: var(--features);\n",
       "    display: flex;\n",
       "    flex-flow: column nowrap;\n",
       "    justify-content: flex-start;\n",
       "    align-items: flex-start;\n",
       "    align-content: flex-start;\n",
       "    padding: 2px;\n",
       "    margin: 2px;\n",
       "    direction: ltr;\n",
       "    unicode-bidi: embed;\n",
       "    border: var(--meta-width) solid var(--meta-color);\n",
       "    border-radius: var(--meta-width);\n",
       "}\n",
       ".features div,.features span {\n",
       "    padding: 0;\n",
       "    margin: -2px 0;\n",
       "}\n",
       ".features .f {\n",
       "    font-family: sans-serif;\n",
       "    font-size: small;\n",
       "    font-weight: normal;\n",
       "    color: #5555bb;\n",
       "}\n",
       ".features .xft {\n",
       "  color: #000000;\n",
       "  background-color: #eeeeee;\n",
       "  font-size: medium;\n",
       "  margin: 2px 0px;\n",
       "}\n",
       ".features .xft .f {\n",
       "  color: #000000;\n",
       "  background-color: #eeeeee;\n",
       "  font-size: small;\n",
       "  font-weight: normal;\n",
       "}\n",
       ".tfsechead {\n",
       "    font-family: sans-serif;\n",
       "    font-size: small;\n",
       "    font-weight: bold;\n",
       "    color: var(--tfsechead);\n",
       "    unicode-bidi: embed;\n",
       "    text-align: start;\n",
       "}\n",
       ".structure {\n",
       "    font-family: sans-serif;\n",
       "    font-size: small;\n",
       "    font-weight: bold;\n",
       "    color: var(--structure);\n",
       "    unicode-bidi: embed;\n",
       "    text-align: start;\n",
       "}\n",
       ".comments {\n",
       "    display: flex;\n",
       "    justify-content: flex-start;\n",
       "    align-items: flex-start;\n",
       "    align-content: flex-start;\n",
       "    flex-flow: column nowrap;\n",
       "}\n",
       ".nd, a:link.nd {\n",
       "    font-family: sans-serif;\n",
       "    font-size: small;\n",
       "    color: var(--node);\n",
       "    vertical-align: super;\n",
       "    direction: ltr ! important;\n",
       "    unicode-bidi: embed;\n",
       "}\n",
       ".lex {\n",
       "  color: var(--lex-color);;\n",
       "}\n",
       ".children,.children.ltr {\n",
       "    display: flex;\n",
       "    border: 0;\n",
       "    background-color: #ffffff;\n",
       "    justify-content: flex-start;\n",
       "    align-items: flex-start;\n",
       "    align-content: flex-start;\n",
       "}\n",
       ".children.stretch {\n",
       "    align-items: stretch;\n",
       "}\n",
       ".children.hor {\n",
       "    flex-flow: row nowrap;\n",
       "}\n",
       ".children.hor.wrap {\n",
       "    flex-flow: row wrap;\n",
       "}\n",
       ".children.ver {\n",
       "    flex-flow: column nowrap;\n",
       "}\n",
       ".children.ver.wrap {\n",
       "    flex-flow: column wrap;\n",
       "}\n",
       ".contnr {\n",
       "    width: fit-content;\n",
       "    display: flex;\n",
       "    justify-content: flex-start;\n",
       "    align-items: flex-start;\n",
       "    align-content: flex-start;\n",
       "    flex-flow: column nowrap;\n",
       "    background: #ffffff none repeat scroll 0 0;\n",
       "    padding:  10px 2px 2px 2px;\n",
       "    margin: 16px 2px 2px 2px;\n",
       "    border-style: solid;\n",
       "    font-size: small;\n",
       "}\n",
       ".contnr.trm {\n",
       "    background-attachment: local;\n",
       "}\n",
       ".contnr.cnul {\n",
       "    padding:  0;\n",
       "    margin: 0;\n",
       "    border-style: solid;\n",
       "    font-size: xx-small;\n",
       "}\n",
       ".contnr.cnul,.lbl.cnul {\n",
       "    border-color: var(--border-color-nul);\n",
       "    border-width: var(--border-width-nul);\n",
       "    border-radius: var(--border-width-nul);\n",
       "}\n",
       ".contnr.c0,.lbl.c0 {\n",
       "    border-color: var(--border-color0);\n",
       "    border-width: var(--border-width0);\n",
       "    border-radius: var(--border-width0);\n",
       "}\n",
       ".contnr.c1,.lbl.c1 {\n",
       "    border-color: var(--border-color1);\n",
       "    border-width: var(--border-width1);\n",
       "    border-radius: var(--border-width1);\n",
       "}\n",
       ".contnr.c2,.lbl.c2 {\n",
       "    border-color: var(--border-color2);\n",
       "    border-width: var(--border-width2);\n",
       "    border-radius: var(--border-width2);\n",
       "}\n",
       ".contnr.c3,.lbl.c3 {\n",
       "    border-color: var(--border-color3);\n",
       "    border-width: var(--border-width3);\n",
       "    border-radius: var(--border-width3);\n",
       "}\n",
       ".contnr.c4,.lbl.c4 {\n",
       "    border-color: var(--border-color4);\n",
       "    border-width: var(--border-width4);\n",
       "    border-radius: var(--border-width4);\n",
       "}\n",
       "span.plain {\n",
       "    display: inline-block;\n",
       "    white-space: pre-wrap;\n",
       "}\n",
       ".plain {\n",
       "    background-color: #ffffff;\n",
       "}\n",
       ".plain.l,.contnr.l,.contnr.l>.lbl {\n",
       "    border-left-style: dotted\n",
       "}\n",
       ".plain.r,.contnr.r,.contnr.r>.lbl {\n",
       "    border-right-style: dotted\n",
       "}\n",
       ".plain.lno,.contnr.lno,.contnr.lno>.lbl {\n",
       "    border-left-style: none\n",
       "}\n",
       ".plain.rno,.contnr.rno,.contnr.rno>.lbl {\n",
       "    border-right-style: none\n",
       "}\n",
       ".plain.l {\n",
       "    padding-left: 4px;\n",
       "    margin-left: 2px;\n",
       "    border-width: var(--border-width-plain);\n",
       "}\n",
       ".plain.r {\n",
       "    padding-right: 4px;\n",
       "    margin-right: 2px;\n",
       "    border-width: var(--border-width-plain);\n",
       "}\n",
       ".lbl {\n",
       "    font-family: monospace;\n",
       "    margin-top: -24px;\n",
       "    margin-left: 20px;\n",
       "    background: #ffffff none repeat scroll 0 0;\n",
       "    padding: 0 6px;\n",
       "    border-style: solid;\n",
       "    display: block;\n",
       "    color: var(--label)\n",
       "}\n",
       ".lbl.trm {\n",
       "    background-attachment: local;\n",
       "    margin-top: 2px;\n",
       "    margin-left: 2px;\n",
       "    padding: 2px 2px;\n",
       "    border-style: none;\n",
       "}\n",
       ".lbl.cnul {\n",
       "    font-size: xx-small;\n",
       "}\n",
       ".lbl.c0 {\n",
       "    font-size: small;\n",
       "}\n",
       ".lbl.c1 {\n",
       "    font-size: small;\n",
       "}\n",
       ".lbl.c2 {\n",
       "    font-size: medium;\n",
       "}\n",
       ".lbl.c3 {\n",
       "    font-size: medium;\n",
       "}\n",
       ".lbl.c4 {\n",
       "    font-size: large;\n",
       "}\n",
       ".occs, a:link.occs {\n",
       "    font-size: small;\n",
       "}\n",
       "\n",
       "/* PROVENANCE */\n",
       "\n",
       "div.prov {\n",
       "\tmargin: 40px;\n",
       "\tpadding: 20px;\n",
       "\tborder: 2px solid var(--fog-rim);\n",
       "}\n",
       "div.pline {\n",
       "\tdisplay: flex;\n",
       "\tflex-flow: row nowrap;\n",
       "\tjustify-content: stretch;\n",
       "\talign-items: baseline;\n",
       "}\n",
       "div.p2line {\n",
       "\tmargin-left: 2em;\n",
       "\tdisplay: flex;\n",
       "\tflex-flow: row nowrap;\n",
       "\tjustify-content: stretch;\n",
       "\talign-items: baseline;\n",
       "}\n",
       "div.psline {\n",
       "\tdisplay: flex;\n",
       "\tflex-flow: row nowrap;\n",
       "\tjustify-content: stretch;\n",
       "\talign-items: baseline;\n",
       "\tbackground-color: var(--gold-mist-back);\n",
       "}\n",
       "div.pname {\n",
       "\tflex: 0 0 5rem;\n",
       "\tfont-weight: bold;\n",
       "}\n",
       "div.pval {\n",
       "    flex: 1 1 auto;\n",
       "}\n",
       "\n",
       ":root {\n",
       "\t--node:               hsla(120, 100%,  20%, 1.0  );\n",
       "\t--label:              hsla(  0, 100%,  20%, 1.0  );\n",
       "\t--tfsechead:          hsla(  0, 100%,  25%, 1.0  );\n",
       "\t--structure:          hsla(120, 100%,  25%, 1.0  );\n",
       "\t--features:           hsla(  0,   0%,  30%, 1.0  );\n",
       "  --text-color:         hsla( 60,  80%,  10%, 1.0  );\n",
       "  --lex-color:          hsla(220,  90%,  60%, 1.0  );\n",
       "  --meta-color:         hsla(  0,   0%,  90%, 0.7  );\n",
       "  --meta-width:         3px;\n",
       "  --border-color-nul:   hsla(  0,   0%,  90%, 0.5  );\n",
       "  --border-color0:      hsla(  0,   0%,  90%, 0.9  );\n",
       "  --border-color1:      hsla(  0,   0%,  80%, 0.9  );\n",
       "  --border-color2:      hsla(  0,   0%,  70%, 0.9  );\n",
       "  --border-color3:      hsla(  0,   0%,  80%, 0.8  );\n",
       "  --border-color4:      hsla(  0,   0%,  60%, 0.9  );\n",
       "  --border-width-nul:   2px;\n",
       "  --border-width0:      2px;\n",
       "  --border-width1:      3px;\n",
       "  --border-width2:      4px;\n",
       "  --border-width3:      6px;\n",
       "  --border-width4:      5px;\n",
       "  --border-width-plain: 2px;\n",
       "}\n",
       ".hl {\n",
       "  background-color: var(--hl-strong);\n",
       "}\n",
       "span.hl {\n",
       "\tbackground-color: var(--hl-strong);\n",
       "\tborder-width: 0;\n",
       "\tborder-radius: 2px;\n",
       "\tborder-style: solid;\n",
       "}\n",
       "div.contnr.hl,div.lbl.hl {\n",
       "  background-color: var(--hl-strong);\n",
       "}\n",
       "div.contnr.hl {\n",
       "  border-color: var(--hl-rim) ! important;\n",
       "\tborder-width: 4px ! important;\n",
       "}\n",
       "\n",
       "span.hlbx {\n",
       "\tborder-color: var(--hl-rim);\n",
       "\tborder-width: 4px ! important;\n",
       "\tborder-style: solid;\n",
       "\tborder-radius: 6px;\n",
       "  padding: 4px;\n",
       "  margin: 4px;\n",
       "}\n",
       "\n",
       "span.plain {\n",
       "  display: inline-block;\n",
       "  white-space: pre-wrap;\n",
       "}\n",
       "\n",
       ":root {\n",
       "\t--hl-strong:        hsla( 60, 100%,  70%, 0.9  );\n",
       "\t--hl-rim:           hsla( 55,  80%,  50%, 1.0  );\n",
       "}\n",
       ".remark {\n",
       "  font-size: large;\n",
       "  font-style: italic;\n",
       "}\n",
       ".folio {\n",
       "  font-size: small;\n",
       "  color: #668866;\n",
       "}\n",
       ".fmark:after {\n",
       "  font-size: small;\n",
       "  font-weight: bold;\n",
       "  vertical-align: super;\n",
       "  color: #ddaa22;\n",
       "}\n",
       ".note {\n",
       "  vertical-align: super;\n",
       "  font-size: small;\n",
       "  color: #774400;\n",
       "}\n",
       ".ref {\n",
       "  font-size: small;\n",
       "  font-weight: bold;\n",
       "  color: #666688;\n",
       "}\n",
       ".emph {\n",
       "  font-style: italic;\n",
       "}\n",
       ".und {\n",
       "  text-decoration: underline;\n",
       "}\n",
       ".super {\n",
       "  vertical-align: super;\n",
       "}\n",
       ".special {\n",
       "  font-family: monospace;\n",
       "  font-weight: bold;\n",
       "  color: #886666;\n",
       "}\n",
       "</style>"
      ],
      "text/plain": [
       "<IPython.core.display.HTML object>"
      ]
     },
     "metadata": {},
     "output_type": "display_data"
    }
   ],
   "source": [
    "# A[vb] = use(\"missieven\", mod=\"\")\n",
    "A[vb] = use(\"missieven:clone\", checkout=\"clone\")"
   ]
  },
  {
   "cell_type": "markdown",
   "metadata": {},
   "source": [
    "Now we can use the function\n",
    "[migrateFeatures](https://annotation.github.io/text-fabric/tf/dataset/nodemaps.html#tf.dataset.nodemaps.Versions.migrateFeatures)\n",
    "from TF to migrate our features.\n",
    "See also\n",
    "[nodeMaps](https://annotation.github.io/text-fabric/tf/dataset/nodemaps.html)."
   ]
  },
  {
   "cell_type": "code",
   "execution_count": 26,
   "metadata": {},
   "outputs": [],
   "source": [
    "V = Versions({va: A[va].api, vb: A[vb].api}, va, vb)"
   ]
  },
  {
   "cell_type": "code",
   "execution_count": 27,
   "metadata": {},
   "outputs": [
    {
     "name": "stdout",
     "output_type": "stream",
     "text": [
      "  0.00s Exporting 3 node and 0 edge and 0 config features to ~/github/annotation/tutorials/missieven/exercises/entities/tf/0.7:\n",
      "   |     0.00s T entityComment        to ~/github/annotation/tutorials/missieven/exercises/entities/tf/0.7\n",
      "   |     0.00s T entityId             to ~/github/annotation/tutorials/missieven/exercises/entities/tf/0.7\n",
      "   |     0.00s T entityKind           to ~/github/annotation/tutorials/missieven/exercises/entities/tf/0.7\n",
      "  0.01s Exported 3 node features and 0 edge features and 0 config features to ~/github/annotation/tutorials/missieven/exercises/entities/tf/0.7\n"
     ]
    }
   ],
   "source": [
    "features = (\"entityComment\", \"entityId\", \"entityKind\")\n",
    "\n",
    "V.migrateFeatures(features, location=location)"
   ]
  },
  {
   "cell_type": "markdown",
   "metadata": {},
   "source": [
    "We load the migrated features:"
   ]
  },
  {
   "cell_type": "code",
   "execution_count": 28,
   "metadata": {
    "lines_to_next_cell": 2
   },
   "outputs": [
    {
     "data": {
      "text/html": [
       "<b title=\"local github\">TF-app:</b> <span title=\"repo clone offline under ~/github\">~/github/annotation/app-missieven/code</span>"
      ],
      "text/plain": [
       "<IPython.core.display.HTML object>"
      ]
     },
     "metadata": {},
     "output_type": "display_data"
    },
    {
     "data": {
      "text/html": [
       "<b title=\"local github\">data:</b> <span title=\"repo clone offline under ~/github\">~/github/Dans-labs/clariah-gm/tf/0.7</span>"
      ],
      "text/plain": [
       "<IPython.core.display.HTML object>"
      ]
     },
     "metadata": {},
     "output_type": "display_data"
    },
    {
     "data": {
      "text/html": [
       "<b title=\"local github\">data:</b> <span title=\"repo clone offline under ~/github\">~/github/annotation/tutorials/missieven/exercises/entities/tf/0.7</span>"
      ],
      "text/plain": [
       "<IPython.core.display.HTML object>"
      ]
     },
     "metadata": {},
     "output_type": "display_data"
    },
    {
     "name": "stdout",
     "output_type": "stream",
     "text": [
      "   |     0.00s T entityComment        from ~/github/annotation/tutorials/missieven/exercises/entities/tf/0.7\n",
      "   |     0.00s T entityId             from ~/github/annotation/tutorials/missieven/exercises/entities/tf/0.7\n",
      "   |     0.00s T entityKind           from ~/github/annotation/tutorials/missieven/exercises/entities/tf/0.7\n"
     ]
    },
    {
     "data": {
      "text/html": [
       "<b>Text-Fabric:</b> <a target=\"_blank\" href=\"https://annotation.github.io/text-fabric/cheatsheet.html\" title=\"text-fabric-api\">Text-Fabric API 8.4.7</a>, <a target=\"_blank\" href=\"https://github.com/annotation/app-missieven\" title=\"missieven TF-app\">app-missieven v3</a>, <a target=\"_blank\" href=\"https://annotation.github.io/text-fabric/about/searchusage.html\" title=\"Search Templates Introduction and Reference\">Search Reference</a><br><b>Data:</b> <a target=\"_blank\" href=\"https://github.com/Dans-labs/clariah-gm/blob/master/docs/transcription.md\" title=\"provenance of General Missives Dutch East India Company 1600-1800\">CLARIAH-GM</a>, <a target=\"_blank\" href=\"https://annotation.github.io/text-fabric/writing/.html\" title=\"How TF features represent text\">Character table</a>, <a target=\"_blank\" href=\"https://github.com/Dans-labs/clariah-gm/blob/master/docs/transcription.md\" title=\"CLARIAH-GM feature documentation\">Feature docs</a><br><b>Features:</b><br><details><summary><b>annotation/tutorials/missieven/exercises/entities/tf</b></summary><a target=\"_blank\" href=\"https://github.com/annotation/tutorials/tree/master/missieven/exercises/entities/tf\" title=\"~/github/annotation/tutorials/missieven/exercises/entities/tf/0.7/entityComment.tf\">entityComment</a><br><a target=\"_blank\" href=\"https://github.com/annotation/tutorials/tree/master/missieven/exercises/entities/tf\" title=\"~/github/annotation/tutorials/missieven/exercises/entities/tf/0.7/entityId.tf\">entityId</a><br><a target=\"_blank\" href=\"https://github.com/annotation/tutorials/tree/master/missieven/exercises/entities/tf\" title=\"~/github/annotation/tutorials/missieven/exercises/entities/tf/0.7/entityKind.tf\">entityKind</a><br></details><details><summary><b>General Missives Dutch East India Company 1600-1800</b></summary><a target=\"_blank\" href=\"https://github.com/Dans-labs/clariah-gm/blob/master/docs/transcription.md\" title=\"~/github/Dans-labs/clariah-gm/tf/0.7/author.tf\">author</a><br><a target=\"_blank\" href=\"https://github.com/Dans-labs/clariah-gm/blob/master/docs/transcription.md\" title=\"~/github/Dans-labs/clariah-gm/tf/0.7/authorFull.tf\">authorFull</a><br><a target=\"_blank\" href=\"https://github.com/Dans-labs/clariah-gm/blob/master/docs/transcription.md\" title=\"~/github/Dans-labs/clariah-gm/tf/0.7/col.tf\">col</a><br><a target=\"_blank\" href=\"https://github.com/Dans-labs/clariah-gm/blob/master/docs/transcription.md\" title=\"~/github/Dans-labs/clariah-gm/tf/0.7/day.tf\">day</a><br><a target=\"_blank\" href=\"https://github.com/Dans-labs/clariah-gm/blob/master/docs/transcription.md\" title=\"~/github/Dans-labs/clariah-gm/tf/0.7/facs.tf\">facs</a><br><a target=\"_blank\" href=\"https://github.com/Dans-labs/clariah-gm/blob/master/docs/transcription.md\" title=\"~/github/Dans-labs/clariah-gm/tf/0.7/isemph.tf\">isemph</a><br><a target=\"_blank\" href=\"https://github.com/Dans-labs/clariah-gm/blob/master/docs/transcription.md\" title=\"~/github/Dans-labs/clariah-gm/tf/0.7/isfolio.tf\">isfolio</a><br><a target=\"_blank\" href=\"https://github.com/Dans-labs/clariah-gm/blob/master/docs/transcription.md\" title=\"~/github/Dans-labs/clariah-gm/tf/0.7/isnote.tf\">isnote</a><br><a target=\"_blank\" href=\"https://github.com/Dans-labs/clariah-gm/blob/master/docs/transcription.md\" title=\"~/github/Dans-labs/clariah-gm/tf/0.7/isorig.tf\">isorig</a><br><a target=\"_blank\" href=\"https://github.com/Dans-labs/clariah-gm/blob/master/docs/transcription.md\" title=\"~/github/Dans-labs/clariah-gm/tf/0.7/isref.tf\">isref</a><br><a target=\"_blank\" href=\"https://github.com/Dans-labs/clariah-gm/blob/master/docs/transcription.md\" title=\"~/github/Dans-labs/clariah-gm/tf/0.7/isremark.tf\">isremark</a><br><a target=\"_blank\" href=\"https://github.com/Dans-labs/clariah-gm/blob/master/docs/transcription.md\" title=\"~/github/Dans-labs/clariah-gm/tf/0.7/isspecial.tf\">isspecial</a><br><a target=\"_blank\" href=\"https://github.com/Dans-labs/clariah-gm/blob/master/docs/transcription.md\" title=\"~/github/Dans-labs/clariah-gm/tf/0.7/issub.tf\">issub</a><br><a target=\"_blank\" href=\"https://github.com/Dans-labs/clariah-gm/blob/master/docs/transcription.md\" title=\"~/github/Dans-labs/clariah-gm/tf/0.7/issuper.tf\">issuper</a><br><a target=\"_blank\" href=\"https://github.com/Dans-labs/clariah-gm/blob/master/docs/transcription.md\" title=\"~/github/Dans-labs/clariah-gm/tf/0.7/isund.tf\">isund</a><br><a target=\"_blank\" href=\"https://github.com/Dans-labs/clariah-gm/blob/master/docs/transcription.md\" title=\"~/github/Dans-labs/clariah-gm/tf/0.7/mark.tf\">mark</a><br><a target=\"_blank\" href=\"https://github.com/Dans-labs/clariah-gm/blob/master/docs/transcription.md\" title=\"~/github/Dans-labs/clariah-gm/tf/0.7/month.tf\">month</a><br><a target=\"_blank\" href=\"https://github.com/Dans-labs/clariah-gm/blob/master/docs/transcription.md\" title=\"~/github/Dans-labs/clariah-gm/tf/0.7/n.tf\">n</a><br><a target=\"_blank\" href=\"https://github.com/Dans-labs/clariah-gm/blob/master/docs/transcription.md\" title=\"~/github/Dans-labs/clariah-gm/tf/0.7/otype.tf\">otype</a><br><a target=\"_blank\" href=\"https://github.com/Dans-labs/clariah-gm/blob/master/docs/transcription.md\" title=\"~/github/Dans-labs/clariah-gm/tf/0.7/page.tf\">page</a><br><a target=\"_blank\" href=\"https://github.com/Dans-labs/clariah-gm/blob/master/docs/transcription.md\" title=\"~/github/Dans-labs/clariah-gm/tf/0.7/place.tf\">place</a><br><a target=\"_blank\" href=\"https://github.com/Dans-labs/clariah-gm/blob/master/docs/transcription.md\" title=\"~/github/Dans-labs/clariah-gm/tf/0.7/punc.tf\">punc</a><br><a target=\"_blank\" href=\"https://github.com/Dans-labs/clariah-gm/blob/master/docs/transcription.md\" title=\"~/github/Dans-labs/clariah-gm/tf/0.7/puncn.tf\">puncn</a><br><a target=\"_blank\" href=\"https://github.com/Dans-labs/clariah-gm/blob/master/docs/transcription.md\" title=\"~/github/Dans-labs/clariah-gm/tf/0.7/punco.tf\">punco</a><br><a target=\"_blank\" href=\"https://github.com/Dans-labs/clariah-gm/blob/master/docs/transcription.md\" title=\"~/github/Dans-labs/clariah-gm/tf/0.7/puncr.tf\">puncr</a><br><a target=\"_blank\" href=\"https://github.com/Dans-labs/clariah-gm/blob/master/docs/transcription.md\" title=\"~/github/Dans-labs/clariah-gm/tf/0.7/rawdate.tf\">rawdate</a><br><a target=\"_blank\" href=\"https://github.com/Dans-labs/clariah-gm/blob/master/docs/transcription.md\" title=\"~/github/Dans-labs/clariah-gm/tf/0.7/row.tf\">row</a><br><a target=\"_blank\" href=\"https://github.com/Dans-labs/clariah-gm/blob/master/docs/transcription.md\" title=\"~/github/Dans-labs/clariah-gm/tf/0.7/seq.tf\">seq</a><br><a target=\"_blank\" href=\"https://github.com/Dans-labs/clariah-gm/blob/master/docs/transcription.md\" title=\"~/github/Dans-labs/clariah-gm/tf/0.7/status.tf\">status</a><br><a target=\"_blank\" href=\"https://github.com/Dans-labs/clariah-gm/blob/master/docs/transcription.md\" title=\"~/github/Dans-labs/clariah-gm/tf/0.7/title.tf\">title</a><br><a target=\"_blank\" href=\"https://github.com/Dans-labs/clariah-gm/blob/master/docs/transcription.md\" title=\"~/github/Dans-labs/clariah-gm/tf/0.7/tpl.tf\">tpl</a><br><a target=\"_blank\" href=\"https://github.com/Dans-labs/clariah-gm/blob/master/docs/transcription.md\" title=\"~/github/Dans-labs/clariah-gm/tf/0.7/trans.tf\">trans</a><br><a target=\"_blank\" href=\"https://github.com/Dans-labs/clariah-gm/blob/master/docs/transcription.md\" title=\"~/github/Dans-labs/clariah-gm/tf/0.7/transn.tf\">transn</a><br><a target=\"_blank\" href=\"https://github.com/Dans-labs/clariah-gm/blob/master/docs/transcription.md\" title=\"~/github/Dans-labs/clariah-gm/tf/0.7/transo.tf\">transo</a><br><a target=\"_blank\" href=\"https://github.com/Dans-labs/clariah-gm/blob/master/docs/transcription.md\" title=\"~/github/Dans-labs/clariah-gm/tf/0.7/transr.tf\">transr</a><br><a target=\"_blank\" href=\"https://github.com/Dans-labs/clariah-gm/blob/master/docs/transcription.md\" title=\"~/github/Dans-labs/clariah-gm/tf/0.7/vol.tf\">vol</a><br><a target=\"_blank\" href=\"https://github.com/Dans-labs/clariah-gm/blob/master/docs/transcription.md\" title=\"~/github/Dans-labs/clariah-gm/tf/0.7/year.tf\">year</a><br><b><i><a target=\"_blank\" href=\"https://github.com/Dans-labs/clariah-gm/blob/master/docs/transcription.md\" title=\"~/github/Dans-labs/clariah-gm/tf/0.7/note.tf\">note</a></i></b><br><b><i><a target=\"_blank\" href=\"https://github.com/Dans-labs/clariah-gm/blob/master/docs/transcription.md\" title=\"~/github/Dans-labs/clariah-gm/tf/0.7/omap#0.4-0.7.tf\">omap#0.4-0.7</a></i></b><br><b><i><a target=\"_blank\" href=\"https://github.com/Dans-labs/clariah-gm/blob/master/docs/transcription.md\" title=\"~/github/Dans-labs/clariah-gm/tf/0.7/oslots.tf\">oslots</a></i></b><br></details>"
      ],
      "text/plain": [
       "<IPython.core.display.HTML object>"
      ]
     },
     "metadata": {},
     "output_type": "display_data"
    },
    {
     "data": {
      "text/html": [
       "<style>tr.tf.ltr, td.tf.ltr, th.tf.ltr { text-align: left ! important;}\n",
       "tr.tf.rtl, td.tf.rtl, th.tf.rtl { text-align: right ! important;}\n",
       "@font-face {\n",
       "  font-family: \"Gentium Plus\";\n",
       "  src: local('Gentium Plus'), local('GentiumPlus'),\n",
       "    url('/server/static/fonts/GentiumPlus-R.woff') format('woff'),\n",
       "    url('https://github.com/annotation/text-fabric/blob/master/tf/server/static/fonts/GentiumPlus-R.woff?raw=true') format('woff');\n",
       "}\n",
       "\n",
       "@font-face {\n",
       "  font-family: \"Ezra SIL\";\n",
       "  src: local('Ezra SIL'), local('EzraSIL'),\n",
       "    url('/server/static/fonts/SILEOT.woff') format('woff'),\n",
       "    url('https://github.com/annotation/text-fabric/blob/master/tf/server/static/fonts/SILEOT.woff?raw=true') format('woff');\n",
       "}\n",
       "\n",
       "@font-face {\n",
       "  font-family: \"SBL Hebrew\";\n",
       "  src: local('SBL Hebrew'), local('SBLHebrew'),\n",
       "    url('/server/static/fonts/SBL_Hbrw.woff') format('woff'),\n",
       "    url('https://github.com/annotation/text-fabric/blob/master/tf/server/static/fonts/SBL_Hbrw.woff?raw=true') format('woff');\n",
       "}\n",
       "\n",
       "@font-face {\n",
       "  font-family: \"Estrangelo Edessa\";\n",
       "  src: local('Estrangelo Edessa'), local('EstrangeloEdessa');\n",
       "    url('/server/static/fonts/SyrCOMEdessa.woff') format('woff'),\n",
       "    url('https://github.com/annotation/text-fabric/blob/master/tf/server/static/fonts/SyrCOMEdessa.woff?raw=true') format('woff');\n",
       "}\n",
       "\n",
       "@font-face {\n",
       "  font-family: AmiriQuran;\n",
       "  font-style: normal;\n",
       "  font-weight: 400;\n",
       "  src: local('Amiri Quran'), local('AmiriQuran'),\n",
       "    url('/server/static/fonts/AmiriQuran.woff') format('woff'),\n",
       "    url('https://github.com/annotation/text-fabric/blob/master/tf/server/static/fonts/AmiriQuran.woff?raw=true') format('woff');\n",
       "}\n",
       "\n",
       "@font-face {\n",
       "  font-family: AmiriQuranColored;\n",
       "  font-style: normal;\n",
       "  font-weight: 400;\n",
       "  src: local('Amiri Quran Colored'), local('AmiriQuranColored'),\n",
       "    url('/server/static/fonts/AmiriQuranColored.woff') format('woff'),\n",
       "    url('https://github.com/annotation/text-fabric/blob/master/tf/server/static/fonts/AmiriQuranColored.woff?raw=true') format('woff');\n",
       "}\n",
       "\n",
       "@font-face {\n",
       "  font-family: \"Santakku\";\n",
       "  src: local('Santakku'),\n",
       "    url('/server/static/fonts/Santakku.woff') format('woff'),\n",
       "    url('https://github.com/annotation/text-fabric/blob/master/tf/server/static/fonts/Santakku.woff?raw=true') format('woff');\n",
       "}\n",
       "\n",
       "@font-face {\n",
       "  font-family: \"SantakkuM\";\n",
       "  src: local('SantakkuM'),\n",
       "    url('/server/static/fonts/SantakkuM.woff') format('woff'),\n",
       "    url('https://github.com/annotation/text-fabric/blob/master/tf/server/static/fonts/SantakkuM.woff?raw=true') format('woff');\n",
       "}\n",
       "/* bypassing some classical notebook settings */\n",
       "div#notebook {\n",
       "  line-height: unset;\n",
       "}\n",
       "/* neutral text */\n",
       ".txtn,.txtn a:visited,.txtn a:link {\n",
       "    font-family: sans-serif;\n",
       "    font-size: medium;\n",
       "    direction: ltr;\n",
       "    unicode-bidi: embed;\n",
       "    text-decoration: none;\n",
       "    color: var(--text-color);\n",
       "}\n",
       "/* transcription text */\n",
       ".txtt,.txtt a:visited,.txtt a:link {\n",
       "    font-family: monospace;\n",
       "    font-size: medium;\n",
       "    direction: ltr;\n",
       "    unicode-bidi: embed;\n",
       "    text-decoration: none;\n",
       "    color: var(--text-color);\n",
       "}\n",
       "/* source text */\n",
       ".txto,.txto a:visited,.txto a:link {\n",
       "    font-family: serif;\n",
       "    font-size: medium;\n",
       "    direction: ltr;\n",
       "    unicode-bidi: embed;\n",
       "    text-decoration: none;\n",
       "    color: var(--text-color);\n",
       "}\n",
       "/* phonetic text */\n",
       ".txtp,.txtp a:visited,.txtp a:link {\n",
       "    font-family: Gentium, sans-serif;\n",
       "    font-size: medium;\n",
       "    direction: ltr;\n",
       "    unicode-bidi: embed;\n",
       "    text-decoration: none;\n",
       "    color: var(--text-color);\n",
       "}\n",
       "/* original script text */\n",
       ".txtu,.txtu a:visited,.txtu a:link {\n",
       "    font-family: Gentium, sans-serif;\n",
       "    font-size: medium;\n",
       "    text-decoration: none;\n",
       "    color: var(--text-color);\n",
       "}\n",
       "/* hebrew */\n",
       ".txtu.hbo,.lex.hbo {\n",
       "    font-family: \"Ezra SIL\", \"SBL Hebrew\", sans-serif;\n",
       "    font-size: large;\n",
       "    direction: rtl ! important;\n",
       "    unicode-bidi: embed;\n",
       "}\n",
       "/* syriac */\n",
       ".txtu.syc,.lex.syc {\n",
       "    font-family: \"Estrangelo Edessa\", sans-serif;\n",
       "    font-size: medium;\n",
       "    direction: rtl ! important;\n",
       "    unicode-bidi: embed;\n",
       "}\n",
       "/* neo aramaic */\n",
       ".txtu.cld,.lex.cld {\n",
       "    font-family: \"CharisSIL-R\", sans-serif;\n",
       "    font-size: medium;\n",
       "    direction: ltr ! important;\n",
       "    unicode-bidi: embed;\n",
       "}\n",
       "/* standard arabic */\n",
       ".txtu.ara,.lex.ara {\n",
       "    font-family: \"AmiriQuran\", sans-serif;\n",
       "    font-size: large;\n",
       "    direction: rtl ! important;\n",
       "    unicode-bidi: embed;\n",
       "}\n",
       "/* cuneiform */\n",
       ".txtu.akk,.lex.akk {\n",
       "    font-family: Santakku, sans-serif;\n",
       "    font-size: large;\n",
       "    direction: ltr ! important;\n",
       "    unicode-bidi: embed;\n",
       "}\n",
       "/* greek */\n",
       ".txtu.grc,.lex.grc a:link {\n",
       "    font-family: Gentium, sans-serif;\n",
       "    font-size: medium;\n",
       "    direction: ltr ! important;\n",
       "    unicode-bidi: embed;\n",
       "}\n",
       "a:hover {\n",
       "    text-decoration: underline | important;\n",
       "    color: #0000ff | important;\n",
       "}\n",
       ".ltr {\n",
       "    direction: ltr ! important;\n",
       "    unicode-bidi: embed;\n",
       "}\n",
       ".rtl {\n",
       "    direction: rtl ! important;\n",
       "    unicode-bidi: embed;\n",
       "}\n",
       ".ubd {\n",
       "    unicode-bidi: embed;\n",
       "}\n",
       ".col {\n",
       "   display: inline-block;\n",
       "}\n",
       ".features {\n",
       "    font-family: monospace;\n",
       "    font-size: medium;\n",
       "    font-weight: bold;\n",
       "    color: var(--features);\n",
       "    display: flex;\n",
       "    flex-flow: column nowrap;\n",
       "    justify-content: flex-start;\n",
       "    align-items: flex-start;\n",
       "    align-content: flex-start;\n",
       "    padding: 2px;\n",
       "    margin: 2px;\n",
       "    direction: ltr;\n",
       "    unicode-bidi: embed;\n",
       "    border: var(--meta-width) solid var(--meta-color);\n",
       "    border-radius: var(--meta-width);\n",
       "}\n",
       ".features div,.features span {\n",
       "    padding: 0;\n",
       "    margin: -2px 0;\n",
       "}\n",
       ".features .f {\n",
       "    font-family: sans-serif;\n",
       "    font-size: small;\n",
       "    font-weight: normal;\n",
       "    color: #5555bb;\n",
       "}\n",
       ".features .xft {\n",
       "  color: #000000;\n",
       "  background-color: #eeeeee;\n",
       "  font-size: medium;\n",
       "  margin: 2px 0px;\n",
       "}\n",
       ".features .xft .f {\n",
       "  color: #000000;\n",
       "  background-color: #eeeeee;\n",
       "  font-size: small;\n",
       "  font-weight: normal;\n",
       "}\n",
       ".tfsechead {\n",
       "    font-family: sans-serif;\n",
       "    font-size: small;\n",
       "    font-weight: bold;\n",
       "    color: var(--tfsechead);\n",
       "    unicode-bidi: embed;\n",
       "    text-align: start;\n",
       "}\n",
       ".structure {\n",
       "    font-family: sans-serif;\n",
       "    font-size: small;\n",
       "    font-weight: bold;\n",
       "    color: var(--structure);\n",
       "    unicode-bidi: embed;\n",
       "    text-align: start;\n",
       "}\n",
       ".comments {\n",
       "    display: flex;\n",
       "    justify-content: flex-start;\n",
       "    align-items: flex-start;\n",
       "    align-content: flex-start;\n",
       "    flex-flow: column nowrap;\n",
       "}\n",
       ".nd, a:link.nd {\n",
       "    font-family: sans-serif;\n",
       "    font-size: small;\n",
       "    color: var(--node);\n",
       "    vertical-align: super;\n",
       "    direction: ltr ! important;\n",
       "    unicode-bidi: embed;\n",
       "}\n",
       ".lex {\n",
       "  color: var(--lex-color);;\n",
       "}\n",
       ".children,.children.ltr {\n",
       "    display: flex;\n",
       "    border: 0;\n",
       "    background-color: #ffffff;\n",
       "    justify-content: flex-start;\n",
       "    align-items: flex-start;\n",
       "    align-content: flex-start;\n",
       "}\n",
       ".children.stretch {\n",
       "    align-items: stretch;\n",
       "}\n",
       ".children.hor {\n",
       "    flex-flow: row nowrap;\n",
       "}\n",
       ".children.hor.wrap {\n",
       "    flex-flow: row wrap;\n",
       "}\n",
       ".children.ver {\n",
       "    flex-flow: column nowrap;\n",
       "}\n",
       ".children.ver.wrap {\n",
       "    flex-flow: column wrap;\n",
       "}\n",
       ".contnr {\n",
       "    width: fit-content;\n",
       "    display: flex;\n",
       "    justify-content: flex-start;\n",
       "    align-items: flex-start;\n",
       "    align-content: flex-start;\n",
       "    flex-flow: column nowrap;\n",
       "    background: #ffffff none repeat scroll 0 0;\n",
       "    padding:  10px 2px 2px 2px;\n",
       "    margin: 16px 2px 2px 2px;\n",
       "    border-style: solid;\n",
       "    font-size: small;\n",
       "}\n",
       ".contnr.trm {\n",
       "    background-attachment: local;\n",
       "}\n",
       ".contnr.cnul {\n",
       "    padding:  0;\n",
       "    margin: 0;\n",
       "    border-style: solid;\n",
       "    font-size: xx-small;\n",
       "}\n",
       ".contnr.cnul,.lbl.cnul {\n",
       "    border-color: var(--border-color-nul);\n",
       "    border-width: var(--border-width-nul);\n",
       "    border-radius: var(--border-width-nul);\n",
       "}\n",
       ".contnr.c0,.lbl.c0 {\n",
       "    border-color: var(--border-color0);\n",
       "    border-width: var(--border-width0);\n",
       "    border-radius: var(--border-width0);\n",
       "}\n",
       ".contnr.c1,.lbl.c1 {\n",
       "    border-color: var(--border-color1);\n",
       "    border-width: var(--border-width1);\n",
       "    border-radius: var(--border-width1);\n",
       "}\n",
       ".contnr.c2,.lbl.c2 {\n",
       "    border-color: var(--border-color2);\n",
       "    border-width: var(--border-width2);\n",
       "    border-radius: var(--border-width2);\n",
       "}\n",
       ".contnr.c3,.lbl.c3 {\n",
       "    border-color: var(--border-color3);\n",
       "    border-width: var(--border-width3);\n",
       "    border-radius: var(--border-width3);\n",
       "}\n",
       ".contnr.c4,.lbl.c4 {\n",
       "    border-color: var(--border-color4);\n",
       "    border-width: var(--border-width4);\n",
       "    border-radius: var(--border-width4);\n",
       "}\n",
       "span.plain {\n",
       "    display: inline-block;\n",
       "    white-space: pre-wrap;\n",
       "}\n",
       ".plain {\n",
       "    background-color: #ffffff;\n",
       "}\n",
       ".plain.l,.contnr.l,.contnr.l>.lbl {\n",
       "    border-left-style: dotted\n",
       "}\n",
       ".plain.r,.contnr.r,.contnr.r>.lbl {\n",
       "    border-right-style: dotted\n",
       "}\n",
       ".plain.lno,.contnr.lno,.contnr.lno>.lbl {\n",
       "    border-left-style: none\n",
       "}\n",
       ".plain.rno,.contnr.rno,.contnr.rno>.lbl {\n",
       "    border-right-style: none\n",
       "}\n",
       ".plain.l {\n",
       "    padding-left: 4px;\n",
       "    margin-left: 2px;\n",
       "    border-width: var(--border-width-plain);\n",
       "}\n",
       ".plain.r {\n",
       "    padding-right: 4px;\n",
       "    margin-right: 2px;\n",
       "    border-width: var(--border-width-plain);\n",
       "}\n",
       ".lbl {\n",
       "    font-family: monospace;\n",
       "    margin-top: -24px;\n",
       "    margin-left: 20px;\n",
       "    background: #ffffff none repeat scroll 0 0;\n",
       "    padding: 0 6px;\n",
       "    border-style: solid;\n",
       "    display: block;\n",
       "    color: var(--label)\n",
       "}\n",
       ".lbl.trm {\n",
       "    background-attachment: local;\n",
       "    margin-top: 2px;\n",
       "    margin-left: 2px;\n",
       "    padding: 2px 2px;\n",
       "    border-style: none;\n",
       "}\n",
       ".lbl.cnul {\n",
       "    font-size: xx-small;\n",
       "}\n",
       ".lbl.c0 {\n",
       "    font-size: small;\n",
       "}\n",
       ".lbl.c1 {\n",
       "    font-size: small;\n",
       "}\n",
       ".lbl.c2 {\n",
       "    font-size: medium;\n",
       "}\n",
       ".lbl.c3 {\n",
       "    font-size: medium;\n",
       "}\n",
       ".lbl.c4 {\n",
       "    font-size: large;\n",
       "}\n",
       ".occs, a:link.occs {\n",
       "    font-size: small;\n",
       "}\n",
       "\n",
       "/* PROVENANCE */\n",
       "\n",
       "div.prov {\n",
       "\tmargin: 40px;\n",
       "\tpadding: 20px;\n",
       "\tborder: 2px solid var(--fog-rim);\n",
       "}\n",
       "div.pline {\n",
       "\tdisplay: flex;\n",
       "\tflex-flow: row nowrap;\n",
       "\tjustify-content: stretch;\n",
       "\talign-items: baseline;\n",
       "}\n",
       "div.p2line {\n",
       "\tmargin-left: 2em;\n",
       "\tdisplay: flex;\n",
       "\tflex-flow: row nowrap;\n",
       "\tjustify-content: stretch;\n",
       "\talign-items: baseline;\n",
       "}\n",
       "div.psline {\n",
       "\tdisplay: flex;\n",
       "\tflex-flow: row nowrap;\n",
       "\tjustify-content: stretch;\n",
       "\talign-items: baseline;\n",
       "\tbackground-color: var(--gold-mist-back);\n",
       "}\n",
       "div.pname {\n",
       "\tflex: 0 0 5rem;\n",
       "\tfont-weight: bold;\n",
       "}\n",
       "div.pval {\n",
       "    flex: 1 1 auto;\n",
       "}\n",
       "\n",
       ":root {\n",
       "\t--node:               hsla(120, 100%,  20%, 1.0  );\n",
       "\t--label:              hsla(  0, 100%,  20%, 1.0  );\n",
       "\t--tfsechead:          hsla(  0, 100%,  25%, 1.0  );\n",
       "\t--structure:          hsla(120, 100%,  25%, 1.0  );\n",
       "\t--features:           hsla(  0,   0%,  30%, 1.0  );\n",
       "  --text-color:         hsla( 60,  80%,  10%, 1.0  );\n",
       "  --lex-color:          hsla(220,  90%,  60%, 1.0  );\n",
       "  --meta-color:         hsla(  0,   0%,  90%, 0.7  );\n",
       "  --meta-width:         3px;\n",
       "  --border-color-nul:   hsla(  0,   0%,  90%, 0.5  );\n",
       "  --border-color0:      hsla(  0,   0%,  90%, 0.9  );\n",
       "  --border-color1:      hsla(  0,   0%,  80%, 0.9  );\n",
       "  --border-color2:      hsla(  0,   0%,  70%, 0.9  );\n",
       "  --border-color3:      hsla(  0,   0%,  80%, 0.8  );\n",
       "  --border-color4:      hsla(  0,   0%,  60%, 0.9  );\n",
       "  --border-width-nul:   2px;\n",
       "  --border-width0:      2px;\n",
       "  --border-width1:      3px;\n",
       "  --border-width2:      4px;\n",
       "  --border-width3:      6px;\n",
       "  --border-width4:      5px;\n",
       "  --border-width-plain: 2px;\n",
       "}\n",
       ".hl {\n",
       "  background-color: var(--hl-strong);\n",
       "}\n",
       "span.hl {\n",
       "\tbackground-color: var(--hl-strong);\n",
       "\tborder-width: 0;\n",
       "\tborder-radius: 2px;\n",
       "\tborder-style: solid;\n",
       "}\n",
       "div.contnr.hl,div.lbl.hl {\n",
       "  background-color: var(--hl-strong);\n",
       "}\n",
       "div.contnr.hl {\n",
       "  border-color: var(--hl-rim) ! important;\n",
       "\tborder-width: 4px ! important;\n",
       "}\n",
       "\n",
       "span.hlbx {\n",
       "\tborder-color: var(--hl-rim);\n",
       "\tborder-width: 4px ! important;\n",
       "\tborder-style: solid;\n",
       "\tborder-radius: 6px;\n",
       "  padding: 4px;\n",
       "  margin: 4px;\n",
       "}\n",
       "\n",
       "span.plain {\n",
       "  display: inline-block;\n",
       "  white-space: pre-wrap;\n",
       "}\n",
       "\n",
       ":root {\n",
       "\t--hl-strong:        hsla( 60, 100%,  70%, 0.9  );\n",
       "\t--hl-rim:           hsla( 55,  80%,  50%, 1.0  );\n",
       "}\n",
       ".remark {\n",
       "  font-size: large;\n",
       "  font-style: italic;\n",
       "}\n",
       ".folio {\n",
       "  font-size: small;\n",
       "  color: #668866;\n",
       "}\n",
       ".fmark:after {\n",
       "  font-size: small;\n",
       "  font-weight: bold;\n",
       "  vertical-align: super;\n",
       "  color: #ddaa22;\n",
       "}\n",
       ".note {\n",
       "  vertical-align: super;\n",
       "  font-size: small;\n",
       "  color: #774400;\n",
       "}\n",
       ".ref {\n",
       "  font-size: small;\n",
       "  font-weight: bold;\n",
       "  color: #666688;\n",
       "}\n",
       ".emph {\n",
       "  font-style: italic;\n",
       "}\n",
       ".und {\n",
       "  text-decoration: underline;\n",
       "}\n",
       ".super {\n",
       "  vertical-align: super;\n",
       "}\n",
       ".special {\n",
       "  font-family: monospace;\n",
       "  font-weight: bold;\n",
       "  color: #886666;\n",
       "}\n",
       "</style>"
      ],
      "text/plain": [
       "<IPython.core.display.HTML object>"
      ]
     },
     "metadata": {},
     "output_type": "display_data"
    }
   ],
   "source": [
    "# A[vb] = use(f\"missieven:v{vb}\", mod=f\"{entityModule}:{vb}\")\n",
    "A[vb] = use(\"missieven:clone\", mod=f\"{entityModule}:clone\", checkout=\"clone\")"
   ]
  },
  {
   "cell_type": "markdown",
   "metadata": {
    "lines_to_next_cell": 2
   },
   "source": [
    "We compare the features in both versions"
   ]
  },
  {
   "cell_type": "code",
   "execution_count": 43,
   "metadata": {},
   "outputs": [],
   "source": [
    "def showFeature(v, f):\n",
    "    F = A[v].api.F\n",
    "    Fs = A[v].api.Fs\n",
    "    T = A[v].api.T\n",
    "\n",
    "    print(f\"Feature {f}\")\n",
    "    for (n, val) in Fs(f).items():\n",
    "        ntp = F.otype.v(n)\n",
    "        print(f\"{v} {f} ({ntp:<4} {n:>8}) {val:<8} <= {T.text(n)}\")"
   ]
  },
  {
   "cell_type": "code",
   "execution_count": 44,
   "metadata": {},
   "outputs": [
    {
     "name": "stdout",
     "output_type": "stream",
     "text": [
      "Feature entityComment\n",
      "0.4 entityComment (word     1250) Amboina  <= Ambojna \n",
      "0.4 entityComment (word     1255) Ternate  <= Ternnate \n",
      "0.4 entityComment (word     1273) Ternate  <= ditto\n",
      "0.4 entityComment (word     1274) Ternate  <= plaetse \n",
      "0.4 entityComment (line  5054889) Amboina  <= Ambojna ende van daer naer Ternnate ende soo den Coninck van Spagnien tusschen\n",
      "0.4 entityComment (line  5054890) Ternate  <= de Heeren Staeten den treves geobserveert werde, metten Coninck van ditto\n",
      "0.4 entityComment (line  5054891) Ternate  <= plaetse te contracteeren om met sijn hulpe dese plaetse te ocuperen ende hem daer\n",
      "Feature entityComment\n",
      "0.7 entityComment (word     1576) Amboina  <= Ambojna \n",
      "0.7 entityComment (word     1581) Ternate  <= Ternnate \n",
      "0.7 entityComment (word     1599) Ternate  <= ditto\n",
      "0.7 entityComment (word     1600) Ternate  <= plaetse \n",
      "0.7 entityComment (line  5340898) Amboina  <= Ambojna ende van daer naer Ternnate ende soo den Coninck van Spagnien tusschen\n",
      "0.7 entityComment (line  5340899) Ternate  <= de Heeren Staeten den treves geobserveert werde, metten Coninck van ditto\n",
      "0.7 entityComment (line  5340900) Ternate  <= plaetse te contracteeren om met sijn hulpe dese plaetse te ocuperen ende hem daer\n",
      "\n",
      "Feature entityId\n",
      "0.4 entityId (word     1048) T11      <= orancay\n",
      "0.4 entityId (word     1049) T11      <= bij \n",
      "0.4 entityId (word     1144) T12      <= arancay \n",
      "0.4 entityId (word     1146) T1       <= Nera, \n",
      "0.4 entityId (word     1150) T13      <= sabandaer \n",
      "0.4 entityId (word     1167) T11      <= orancaye \n",
      "0.4 entityId (word     1196) T15      <= Hollanders\n",
      "0.4 entityId (word     1203) T16      <= Verhoeven \n",
      "0.4 entityId (word     1250) T17      <= Ambojna \n",
      "0.4 entityId (word     1255) T2       <= Ternnate \n",
      "0.4 entityId (word     1259) T3       <= Coninck \n",
      "0.4 entityId (word     1260) T3       <= van \n",
      "0.4 entityId (word     1261) T4       <= Spagnien \n",
      "0.4 entityId (word     1264) T5       <= Heeren \n",
      "0.4 entityId (word     1265) T5       <= Staeten \n",
      "0.4 entityId (word     1271) T6       <= Coninck \n",
      "0.4 entityId (word     1273) T2       <= ditto\n",
      "0.4 entityId (word     1274) T2       <= plaetse \n",
      "0.4 entityId (word     1289) T7       <= Coninck \n",
      "0.4 entityId (word     1298) T8       <= Heeren \n",
      "0.4 entityId (word     1299) T8       <= Staeten, \n",
      "0.4 entityId (word     1314) T9       <= Banda \n",
      "0.4 entityId (word     1330) T10      <= Engelsche \n",
      "0.4 entityId (line  5054871) T11      <= Op den 12 deser is een jonge slave van een orancaybij nacht comen\n",
      "0.4 entityId (line  5054879) T13      <= jongen een groot arancay van Nera, broeder van den sabandaer dewelcke sij\n",
      "0.4 entityId (line  5054880) T11      <= tref f ten ende ’t hooft ons hier in ’t casteel gebracht, den voorsz. orancaye was door\n",
      "0.4 entityId (line  5054882) T15      <= met den onsen gesproken, die hem mede geroemt hadde, 2 van onse Hollanders\n",
      "0.4 entityId (line  5054883) T16      <= in den moort van den admirael Verhoeven saliger omgebracht te hebben.\n",
      "0.4 entityId (line  5054889) T17      <= Ambojna ende van daer naer Ternnate ende soo den Coninck van Spagnien tusschen\n",
      "0.4 entityId (line  5054890) T2       <= de Heeren Staeten den treves geobserveert werde, metten Coninck van ditto\n",
      "0.4 entityId (line  5054891) T2       <= plaetse te contracteeren om met sijn hulpe dese plaetse te ocuperen ende hem daer\n",
      "0.4 entityId (line  5054892) T8       <= mede Coninck van te maeken onder protexie van E Mogende Heeren Staeten, doch\n",
      "0.4 entityId (line  5054894) T9       <= Dit volck van Banda is superbe, moordadich, wel versien van waepenen, van\n",
      "0.4 entityId (line  5054895) T10      <= de onsen voor desen ende van de Engelsche gecomen, dan weynich couraege omme\n",
      "Feature entityId\n",
      "0.7 entityId (word     1266) T11      <= orancay \n",
      "0.7 entityId (word     1276) T11      <=  \n",
      "0.7 entityId (word     1277) T11      <= bij \n",
      "0.7 entityId (word     1377) T12      <= arancay \n",
      "0.7 entityId (word     1379) T1       <= Nera, \n",
      "0.7 entityId (word     1383) T13      <= sabandaer \n",
      "0.7 entityId (word     1425) T11      <= orancaye \n",
      "0.7 entityId (word     1454) T15      <= Hollanders\n",
      "0.7 entityId (word     1461) T16      <= Verhoeven \n",
      "0.7 entityId (word     1576) T17      <= Ambojna \n",
      "0.7 entityId (word     1581) T2       <= Ternnate \n",
      "0.7 entityId (word     1585) T3       <= Coninck \n",
      "0.7 entityId (word     1586) T3       <= van \n",
      "0.7 entityId (word     1587) T4       <= Spagnien \n",
      "0.7 entityId (word     1590) T5       <= Heeren \n",
      "0.7 entityId (word     1591) T5       <= Staeten \n",
      "0.7 entityId (word     1597) T6       <= Coninck \n",
      "0.7 entityId (word     1599) T2       <= ditto\n",
      "0.7 entityId (word     1600) T2       <= plaetse \n",
      "0.7 entityId (word     1615) T7       <= Coninck \n",
      "0.7 entityId (word     1624) T8       <= Heeren \n",
      "0.7 entityId (word     1625) T8       <= Staeten, \n",
      "0.7 entityId (word     1686) T9       <= Banda \n",
      "0.7 entityId (word     1702) T10      <= Engelsche \n",
      "0.7 entityId (line  5340871) T11      <=  Op den 12 deser is een jonge slave van een orancay Orangkaja, hier aanduiding voor een Bandanees hoofd of aanzienlijke.\n",
      "0.7 entityId (line  5340872) T11      <=  bij nacht comen\n",
      "0.7 entityId (line  5340881) T13      <= jongen een groot arancay van Nera, broeder van den sabandaer Sjahbandar, uit het Perzisch overgenomen woord, in Zuidoost-Azië gebruikt voor\n",
      "0.7 entityId (line  5340883) T13      <=  dewelcke sij\n",
      "0.7 entityId (line  5340884) T11      <= tref f ten ende ’t hooft ons hier in ’t casteel gebracht, den voorsz. orancaye was door\n",
      "0.7 entityId (line  5340886) T15      <= met den onsen gesproken, die hem mede geroemt hadde, 2 van onse Hollanders\n",
      "0.7 entityId (line  5340887) T16      <= in den moort van den admirael Verhoeven Admiraal Pieter Willemsz. Verhoeff kwam 23 november 1608 met zijn vloot voor\n",
      "0.7 entityId (line  5340891) T16      <=  GeschiedenisIII, p. 63-65, 67-71.\n",
      "0.7 entityId (line  5340892) T16      <=  saliger omgebracht te hebben. \n",
      "0.7 entityId (line  5340898) T17      <= Ambojna ende van daer naer Ternnate ende soo den Coninck van Spagnien tusschen\n",
      "0.7 entityId (line  5340899) T2       <= de Heeren Staeten den treves geobserveert werde, metten Coninck van ditto\n",
      "0.7 entityId (line  5340900) T2       <= plaetse te contracteeren om met sijn hulpe dese plaetse te ocuperen ende hem daer\n",
      "0.7 entityId (line  5340901) T8       <= mede Coninck van te maeken onder protexie van E Mogende Heeren Staeten, doch\n",
      "0.7 entityId (line  5340905) T9       <=   . \n",
      "0.7 entityId (line  5340906) T9       <=  Dit volck van Banda is superbe, moordadich, wel versien van waepenen, van\n",
      "0.7 entityId (line  5340907) T10      <= de onsen voor desen ende van de Engelsche gecomen, dan weynich couraege omme\n",
      "\n",
      "Feature entityKind\n",
      "0.4 entityKind (word     1048) Person   <= orancay\n",
      "0.4 entityKind (word     1049) Person   <= bij \n",
      "0.4 entityKind (word     1144) Person   <= arancay \n",
      "0.4 entityKind (word     1146) Person   <= Nera, \n",
      "0.4 entityKind (word     1150) Person   <= sabandaer \n",
      "0.4 entityKind (word     1167) Person   <= orancaye \n",
      "0.4 entityKind (word     1196) GPE      <= Hollanders\n",
      "0.4 entityKind (word     1203) Person   <= Verhoeven \n",
      "0.4 entityKind (word     1250) GPE      <= Ambojna \n",
      "0.4 entityKind (word     1255) GPE      <= Ternnate \n",
      "0.4 entityKind (word     1259) Person   <= Coninck \n",
      "0.4 entityKind (word     1260) Person   <= van \n",
      "0.4 entityKind (word     1261) GPE      <= Spagnien \n",
      "0.4 entityKind (word     1264) Organization <= Heeren \n",
      "0.4 entityKind (word     1265) Organization <= Staeten \n",
      "0.4 entityKind (word     1271) Person   <= Coninck \n",
      "0.4 entityKind (word     1273) GPE      <= ditto\n",
      "0.4 entityKind (word     1274) GPE      <= plaetse \n",
      "0.4 entityKind (word     1289) Person   <= Coninck \n",
      "0.4 entityKind (word     1298) Organization <= Heeren \n",
      "0.4 entityKind (word     1299) Organization <= Staeten, \n",
      "0.4 entityKind (word     1314) GPE      <= Banda \n",
      "0.4 entityKind (word     1330) GPE      <= Engelsche \n",
      "0.4 entityKind (line  5054871) Person   <= Op den 12 deser is een jonge slave van een orancaybij nacht comen\n",
      "0.4 entityKind (line  5054879) Person   <= jongen een groot arancay van Nera, broeder van den sabandaer dewelcke sij\n",
      "0.4 entityKind (line  5054880) Person   <= tref f ten ende ’t hooft ons hier in ’t casteel gebracht, den voorsz. orancaye was door\n",
      "0.4 entityKind (line  5054882) GPE      <= met den onsen gesproken, die hem mede geroemt hadde, 2 van onse Hollanders\n",
      "0.4 entityKind (line  5054883) Person   <= in den moort van den admirael Verhoeven saliger omgebracht te hebben.\n",
      "0.4 entityKind (line  5054889) GPE      <= Ambojna ende van daer naer Ternnate ende soo den Coninck van Spagnien tusschen\n",
      "0.4 entityKind (line  5054890) GPE      <= de Heeren Staeten den treves geobserveert werde, metten Coninck van ditto\n",
      "0.4 entityKind (line  5054891) GPE      <= plaetse te contracteeren om met sijn hulpe dese plaetse te ocuperen ende hem daer\n",
      "0.4 entityKind (line  5054892) Organization <= mede Coninck van te maeken onder protexie van E Mogende Heeren Staeten, doch\n",
      "0.4 entityKind (line  5054894) GPE      <= Dit volck van Banda is superbe, moordadich, wel versien van waepenen, van\n",
      "0.4 entityKind (line  5054895) GPE      <= de onsen voor desen ende van de Engelsche gecomen, dan weynich couraege omme\n",
      "Feature entityKind\n",
      "0.7 entityKind (word     1266) Person   <= orancay \n",
      "0.7 entityKind (word     1276) Person   <=  \n",
      "0.7 entityKind (word     1277) Person   <= bij \n",
      "0.7 entityKind (word     1377) Person   <= arancay \n",
      "0.7 entityKind (word     1379) Person   <= Nera, \n",
      "0.7 entityKind (word     1383) Person   <= sabandaer \n",
      "0.7 entityKind (word     1425) Person   <= orancaye \n",
      "0.7 entityKind (word     1454) GPE      <= Hollanders\n",
      "0.7 entityKind (word     1461) Person   <= Verhoeven \n",
      "0.7 entityKind (word     1576) GPE      <= Ambojna \n",
      "0.7 entityKind (word     1581) GPE      <= Ternnate \n",
      "0.7 entityKind (word     1585) Person   <= Coninck \n",
      "0.7 entityKind (word     1586) Person   <= van \n",
      "0.7 entityKind (word     1587) GPE      <= Spagnien \n",
      "0.7 entityKind (word     1590) Organization <= Heeren \n",
      "0.7 entityKind (word     1591) Organization <= Staeten \n",
      "0.7 entityKind (word     1597) Person   <= Coninck \n",
      "0.7 entityKind (word     1599) GPE      <= ditto\n",
      "0.7 entityKind (word     1600) GPE      <= plaetse \n",
      "0.7 entityKind (word     1615) Person   <= Coninck \n",
      "0.7 entityKind (word     1624) Organization <= Heeren \n",
      "0.7 entityKind (word     1625) Organization <= Staeten, \n",
      "0.7 entityKind (word     1686) GPE      <= Banda \n",
      "0.7 entityKind (word     1702) GPE      <= Engelsche \n",
      "0.7 entityKind (line  5340871) Person   <=  Op den 12 deser is een jonge slave van een orancay Orangkaja, hier aanduiding voor een Bandanees hoofd of aanzienlijke.\n",
      "0.7 entityKind (line  5340872) Person   <=  bij nacht comen\n",
      "0.7 entityKind (line  5340881) Person   <= jongen een groot arancay van Nera, broeder van den sabandaer Sjahbandar, uit het Perzisch overgenomen woord, in Zuidoost-Azië gebruikt voor\n",
      "0.7 entityKind (line  5340883) Person   <=  dewelcke sij\n",
      "0.7 entityKind (line  5340884) Person   <= tref f ten ende ’t hooft ons hier in ’t casteel gebracht, den voorsz. orancaye was door\n",
      "0.7 entityKind (line  5340886) GPE      <= met den onsen gesproken, die hem mede geroemt hadde, 2 van onse Hollanders\n",
      "0.7 entityKind (line  5340887) Person   <= in den moort van den admirael Verhoeven Admiraal Pieter Willemsz. Verhoeff kwam 23 november 1608 met zijn vloot voor\n",
      "0.7 entityKind (line  5340891) Person   <=  GeschiedenisIII, p. 63-65, 67-71.\n",
      "0.7 entityKind (line  5340892) Person   <=  saliger omgebracht te hebben. \n",
      "0.7 entityKind (line  5340898) GPE      <= Ambojna ende van daer naer Ternnate ende soo den Coninck van Spagnien tusschen\n",
      "0.7 entityKind (line  5340899) GPE      <= de Heeren Staeten den treves geobserveert werde, metten Coninck van ditto\n",
      "0.7 entityKind (line  5340900) GPE      <= plaetse te contracteeren om met sijn hulpe dese plaetse te ocuperen ende hem daer\n",
      "0.7 entityKind (line  5340901) Organization <= mede Coninck van te maeken onder protexie van E Mogende Heeren Staeten, doch\n",
      "0.7 entityKind (line  5340905) GPE      <=   . \n",
      "0.7 entityKind (line  5340906) GPE      <=  Dit volck van Banda is superbe, moordadich, wel versien van waepenen, van\n",
      "0.7 entityKind (line  5340907) GPE      <= de onsen voor desen ende van de Engelsche gecomen, dan weynich couraege omme\n",
      "\n"
     ]
    }
   ],
   "source": [
    "for f in features:\n",
    "    showFeature(va, f)\n",
    "    showFeature(vb, f)\n",
    "    print(\"\")"
   ]
  },
  {
   "cell_type": "markdown",
   "metadata": {},
   "source": [
    "# Sharing\n",
    "\n",
    "In [share](share.ipynb) we show how we can share and reuse these features."
   ]
  },
  {
   "cell_type": "markdown",
   "metadata": {
    "tags": []
   },
   "source": [
    "---\n",
    "\n",
    "# Contents\n",
    "\n",
    "* **[start](start.ipynb)** start computing with this corpus\n",
    "* **[search](search.ipynb)** turbo charge your hand-coding with search templates\n",
    "* **[compute](compute.ipynb)** sink down a level and compute it yourself\n",
    "* **[exportExcel](exportExcel)** make tailor-made spreadsheets out of your results\n",
    "* **annotate** export text, annotate with BRAT, import annotations\n",
    "* **[share](share.ipynb)** draw in other people's data and let them use yours\n",
    "* **[volumes](volumes.ipynb)** work with selected volumes only\n",
    "\n",
    "CC-BY Dirk Roorda"
   ]
  }
 ],
 "metadata": {
  "kernelspec": {
   "display_name": "Python 3 (ipykernel)",
   "language": "python",
   "name": "python3"
  },
  "language_info": {
   "codemirror_mode": {
    "name": "ipython",
    "version": 3
   },
   "file_extension": ".py",
   "mimetype": "text/x-python",
   "name": "python",
   "nbconvert_exporter": "python",
   "pygments_lexer": "ipython3",
   "version": "3.9.7"
  },
  "widgets": {
   "application/vnd.jupyter.widget-state+json": {
    "state": {},
    "version_major": 2,
    "version_minor": 0
   }
  }
 },
 "nbformat": 4,
 "nbformat_minor": 4
}
