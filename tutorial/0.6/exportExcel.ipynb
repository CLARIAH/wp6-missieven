{
 "cells": [
  {
   "cell_type": "markdown",
   "metadata": {},
   "source": [
    "<img align=\"right\" src=\"images/tf.png\"/>\n",
    "<img align=\"right\" src=\"images/etcbc.png\"/>\n",
    "<img align=\"right\" src=\"images/logo.png\"/>\n",
    "\n",
    "---\n",
    "\n",
    "To get started: consult [start](start.ipynb)\n",
    "\n",
    "---\n",
    "\n",
    "# Export to Excel\n",
    "\n",
    "In a notebook, you can perform searches and view them in a tabular display and zoom in on items with\n",
    "pretty displays.\n",
    "\n",
    "But there are times that you want to take your results outside Text-Fabric, outside a notebook, outside Python, and just\n",
    "work with them in other programs, such as Excel.\n",
    "\n",
    "You want to do that not only with query results, but with all kinds of lists of tuples of nodes.\n",
    "\n",
    "There is a function for that, `A.export()`, and here we show what it can do."
   ]
  },
  {
   "cell_type": "code",
   "execution_count": 1,
   "metadata": {},
   "outputs": [],
   "source": [
    "%load_ext autoreload\n",
    "%autoreload 2"
   ]
  },
  {
   "cell_type": "code",
   "execution_count": 2,
   "metadata": {
    "ExecuteTime": {
     "end_time": "2018-05-24T10:06:39.818664Z",
     "start_time": "2018-05-24T10:06:39.796588Z"
    }
   },
   "outputs": [],
   "source": [
    "import os\n",
    "from tf.app import use"
   ]
  },
  {
   "cell_type": "code",
   "execution_count": 3,
   "metadata": {},
   "outputs": [
    {
     "data": {
      "text/html": [
       "<b title=\"local release\">TF-app:</b> <span title=\"rv0.5=#8b8557ae1ed516f44322145378947eaadcf57b57 offline under ~/text-fabric-data\">~/text-fabric-data/annotation/app-missieven/code</span>"
      ],
      "text/plain": [
       "<IPython.core.display.HTML object>"
      ]
     },
     "metadata": {},
     "output_type": "display_data"
    },
    {
     "data": {
      "text/html": [
       "<b title=\"local release\">data:</b> <span title=\"rv0.5=#d2298304491de659ab1c5872c951844e7b99e91e offline under ~/text-fabric-data\">~/text-fabric-data/Dans-labs/clariah-gm/tf/0.5</span>"
      ],
      "text/plain": [
       "<IPython.core.display.HTML object>"
      ]
     },
     "metadata": {},
     "output_type": "display_data"
    },
    {
     "data": {
      "text/html": [
       "<b>Text-Fabric:</b> <a target=\"_blank\" href=\"https://annotation.github.io/text-fabric/cheatsheet.html\" title=\"text-fabric-api\">Text-Fabric API 8.4.5</a>, <a target=\"_blank\" href=\"https://github.com/annotation/app-missieven\" title=\"missieven TF-app\">app-missieven</a>, <a target=\"_blank\" href=\"https://annotation.github.io/text-fabric/about/searchusage.html\" title=\"Search Templates Introduction and Reference\">Search Reference</a><br><b>Data:</b> <a target=\"_blank\" href=\"https://github.com/Dans-labs/clariah-gm/blob/master/docs/transcription.md\" title=\"provenance of General Missives Dutch East India Company 1600-1800\">CLARIAH-GM</a>, <a target=\"_blank\" href=\"https://annotation.github.io/text-fabric/writing/.html\" title=\"How TF features represent text\">Character table</a>, <a target=\"_blank\" href=\"https://github.com/Dans-labs/clariah-gm/blob/master/docs/transcription.md\" title=\"CLARIAH-GM feature documentation\">Feature docs</a><br><b>Features:</b><br><details><summary><b>General Missives Dutch East India Company 1600-1800</b></summary><a target=\"_blank\" href=\"https://github.com/Dans-labs/clariah-gm/blob/master/docs/transcription.md\" title=\"~/text-fabric-data/Dans-labs/clariah-gm/tf/0.5/author.tf\">author</a><br><a target=\"_blank\" href=\"https://github.com/Dans-labs/clariah-gm/blob/master/docs/transcription.md\" title=\"~/text-fabric-data/Dans-labs/clariah-gm/tf/0.5/authorFull.tf\">authorFull</a><br><a target=\"_blank\" href=\"https://github.com/Dans-labs/clariah-gm/blob/master/docs/transcription.md\" title=\"~/text-fabric-data/Dans-labs/clariah-gm/tf/0.5/col.tf\">col</a><br><a target=\"_blank\" href=\"https://github.com/Dans-labs/clariah-gm/blob/master/docs/transcription.md\" title=\"~/text-fabric-data/Dans-labs/clariah-gm/tf/0.5/day.tf\">day</a><br><a target=\"_blank\" href=\"https://github.com/Dans-labs/clariah-gm/blob/master/docs/transcription.md\" title=\"~/text-fabric-data/Dans-labs/clariah-gm/tf/0.5/emph.tf\">emph</a><br><a target=\"_blank\" href=\"https://github.com/Dans-labs/clariah-gm/blob/master/docs/transcription.md\" title=\"~/text-fabric-data/Dans-labs/clariah-gm/tf/0.5/facs.tf\">facs</a><br><a target=\"_blank\" href=\"https://github.com/Dans-labs/clariah-gm/blob/master/docs/transcription.md\" title=\"~/text-fabric-data/Dans-labs/clariah-gm/tf/0.5/fnote.tf\">fnote</a><br><a target=\"_blank\" href=\"https://github.com/Dans-labs/clariah-gm/blob/master/docs/transcription.md\" title=\"~/text-fabric-data/Dans-labs/clariah-gm/tf/0.5/folio.tf\">folio</a><br><a target=\"_blank\" href=\"https://github.com/Dans-labs/clariah-gm/blob/master/docs/transcription.md\" title=\"~/text-fabric-data/Dans-labs/clariah-gm/tf/0.5/month.tf\">month</a><br><a target=\"_blank\" href=\"https://github.com/Dans-labs/clariah-gm/blob/master/docs/transcription.md\" title=\"~/text-fabric-data/Dans-labs/clariah-gm/tf/0.5/n.tf\">n</a><br><a target=\"_blank\" href=\"https://github.com/Dans-labs/clariah-gm/blob/master/docs/transcription.md\" title=\"~/text-fabric-data/Dans-labs/clariah-gm/tf/0.5/otype.tf\">otype</a><br><a target=\"_blank\" href=\"https://github.com/Dans-labs/clariah-gm/blob/master/docs/transcription.md\" title=\"~/text-fabric-data/Dans-labs/clariah-gm/tf/0.5/page.tf\">page</a><br><a target=\"_blank\" href=\"https://github.com/Dans-labs/clariah-gm/blob/master/docs/transcription.md\" title=\"~/text-fabric-data/Dans-labs/clariah-gm/tf/0.5/place.tf\">place</a><br><a target=\"_blank\" href=\"https://github.com/Dans-labs/clariah-gm/blob/master/docs/transcription.md\" title=\"~/text-fabric-data/Dans-labs/clariah-gm/tf/0.5/punc.tf\">punc</a><br><a target=\"_blank\" href=\"https://github.com/Dans-labs/clariah-gm/blob/master/docs/transcription.md\" title=\"~/text-fabric-data/Dans-labs/clariah-gm/tf/0.5/punco.tf\">punco</a><br><a target=\"_blank\" href=\"https://github.com/Dans-labs/clariah-gm/blob/master/docs/transcription.md\" title=\"~/text-fabric-data/Dans-labs/clariah-gm/tf/0.5/puncr.tf\">puncr</a><br><a target=\"_blank\" href=\"https://github.com/Dans-labs/clariah-gm/blob/master/docs/transcription.md\" title=\"~/text-fabric-data/Dans-labs/clariah-gm/tf/0.5/rawdate.tf\">rawdate</a><br><a target=\"_blank\" href=\"https://github.com/Dans-labs/clariah-gm/blob/master/docs/transcription.md\" title=\"~/text-fabric-data/Dans-labs/clariah-gm/tf/0.5/ref.tf\">ref</a><br><a target=\"_blank\" href=\"https://github.com/Dans-labs/clariah-gm/blob/master/docs/transcription.md\" title=\"~/text-fabric-data/Dans-labs/clariah-gm/tf/0.5/remark.tf\">remark</a><br><a target=\"_blank\" href=\"https://github.com/Dans-labs/clariah-gm/blob/master/docs/transcription.md\" title=\"~/text-fabric-data/Dans-labs/clariah-gm/tf/0.5/row.tf\">row</a><br><a target=\"_blank\" href=\"https://github.com/Dans-labs/clariah-gm/blob/master/docs/transcription.md\" title=\"~/text-fabric-data/Dans-labs/clariah-gm/tf/0.5/seq.tf\">seq</a><br><a target=\"_blank\" href=\"https://github.com/Dans-labs/clariah-gm/blob/master/docs/transcription.md\" title=\"~/text-fabric-data/Dans-labs/clariah-gm/tf/0.5/special.tf\">special</a><br><a target=\"_blank\" href=\"https://github.com/Dans-labs/clariah-gm/blob/master/docs/transcription.md\" title=\"~/text-fabric-data/Dans-labs/clariah-gm/tf/0.5/status.tf\">status</a><br><a target=\"_blank\" href=\"https://github.com/Dans-labs/clariah-gm/blob/master/docs/transcription.md\" title=\"~/text-fabric-data/Dans-labs/clariah-gm/tf/0.5/sub.tf\">sub</a><br><a target=\"_blank\" href=\"https://github.com/Dans-labs/clariah-gm/blob/master/docs/transcription.md\" title=\"~/text-fabric-data/Dans-labs/clariah-gm/tf/0.5/super.tf\">super</a><br><a target=\"_blank\" href=\"https://github.com/Dans-labs/clariah-gm/blob/master/docs/transcription.md\" title=\"~/text-fabric-data/Dans-labs/clariah-gm/tf/0.5/title.tf\">title</a><br><a target=\"_blank\" href=\"https://github.com/Dans-labs/clariah-gm/blob/master/docs/transcription.md\" title=\"~/text-fabric-data/Dans-labs/clariah-gm/tf/0.5/tpl.tf\">tpl</a><br><a target=\"_blank\" href=\"https://github.com/Dans-labs/clariah-gm/blob/master/docs/transcription.md\" title=\"~/text-fabric-data/Dans-labs/clariah-gm/tf/0.5/trans.tf\">trans</a><br><a target=\"_blank\" href=\"https://github.com/Dans-labs/clariah-gm/blob/master/docs/transcription.md\" title=\"~/text-fabric-data/Dans-labs/clariah-gm/tf/0.5/transo.tf\">transo</a><br><a target=\"_blank\" href=\"https://github.com/Dans-labs/clariah-gm/blob/master/docs/transcription.md\" title=\"~/text-fabric-data/Dans-labs/clariah-gm/tf/0.5/transr.tf\">transr</a><br><a target=\"_blank\" href=\"https://github.com/Dans-labs/clariah-gm/blob/master/docs/transcription.md\" title=\"~/text-fabric-data/Dans-labs/clariah-gm/tf/0.5/und.tf\">und</a><br><a target=\"_blank\" href=\"https://github.com/Dans-labs/clariah-gm/blob/master/docs/transcription.md\" title=\"~/text-fabric-data/Dans-labs/clariah-gm/tf/0.5/vol.tf\">vol</a><br><a target=\"_blank\" href=\"https://github.com/Dans-labs/clariah-gm/blob/master/docs/transcription.md\" title=\"~/text-fabric-data/Dans-labs/clariah-gm/tf/0.5/year.tf\">year</a><br><b><i><a target=\"_blank\" href=\"https://github.com/Dans-labs/clariah-gm/blob/master/docs/transcription.md\" title=\"~/text-fabric-data/Dans-labs/clariah-gm/tf/0.5/oslots.tf\">oslots</a></i></b><br></details>"
      ],
      "text/plain": [
       "<IPython.core.display.HTML object>"
      ]
     },
     "metadata": {},
     "output_type": "display_data"
    },
    {
     "data": {
      "text/html": [
       "<style>tr.tf.ltr, td.tf.ltr, th.tf.ltr { text-align: left ! important;}\n",
       "tr.tf.rtl, td.tf.rtl, th.tf.rtl { text-align: right ! important;}\n",
       "@font-face {\n",
       "  font-family: \"Gentium Plus\";\n",
       "  src: local('Gentium Plus'), local('GentiumPlus'),\n",
       "    url('/server/static/fonts/GentiumPlus-R.woff') format('woff'),\n",
       "    url('https://github.com/annotation/text-fabric/blob/master/tf/server/static/fonts/GentiumPlus-R.woff?raw=true') format('woff');\n",
       "}\n",
       "\n",
       "@font-face {\n",
       "  font-family: \"Ezra SIL\";\n",
       "  src: local('Ezra SIL'), local('EzraSIL'),\n",
       "    url('/server/static/fonts/SILEOT.woff') format('woff'),\n",
       "    url('https://github.com/annotation/text-fabric/blob/master/tf/server/static/fonts/SILEOT.woff?raw=true') format('woff');\n",
       "}\n",
       "\n",
       "@font-face {\n",
       "  font-family: \"SBL Hebrew\";\n",
       "  src: local('SBL Hebrew'), local('SBLHebrew'),\n",
       "    url('/server/static/fonts/SBL_Hbrw.woff') format('woff'),\n",
       "    url('https://github.com/annotation/text-fabric/blob/master/tf/server/static/fonts/SBL_Hbrw.woff?raw=true') format('woff');\n",
       "}\n",
       "\n",
       "@font-face {\n",
       "  font-family: \"Estrangelo Edessa\";\n",
       "  src: local('Estrangelo Edessa'), local('EstrangeloEdessa');\n",
       "    url('/server/static/fonts/SyrCOMEdessa.woff') format('woff'),\n",
       "    url('https://github.com/annotation/text-fabric/blob/master/tf/server/static/fonts/SyrCOMEdessa.woff?raw=true') format('woff');\n",
       "}\n",
       "\n",
       "@font-face {\n",
       "  font-family: AmiriQuran;\n",
       "  font-style: normal;\n",
       "  font-weight: 400;\n",
       "  src: local('Amiri Quran'), local('AmiriQuran'),\n",
       "    url('/server/static/fonts/AmiriQuran.woff') format('woff'),\n",
       "    url('https://github.com/annotation/text-fabric/blob/master/tf/server/static/fonts/AmiriQuran.woff?raw=true') format('woff');\n",
       "}\n",
       "\n",
       "@font-face {\n",
       "  font-family: AmiriQuranColored;\n",
       "  font-style: normal;\n",
       "  font-weight: 400;\n",
       "  src: local('Amiri Quran Colored'), local('AmiriQuranColored'),\n",
       "    url('/server/static/fonts/AmiriQuranColored.woff') format('woff'),\n",
       "    url('https://github.com/annotation/text-fabric/blob/master/tf/server/static/fonts/AmiriQuranColored.woff?raw=true') format('woff');\n",
       "}\n",
       "\n",
       "@font-face {\n",
       "  font-family: \"Santakku\";\n",
       "  src: local('Santakku'),\n",
       "    url('/server/static/fonts/Santakku.woff') format('woff'),\n",
       "    url('https://github.com/annotation/text-fabric/blob/master/tf/server/static/fonts/Santakku.woff?raw=true') format('woff');\n",
       "}\n",
       "\n",
       "@font-face {\n",
       "  font-family: \"SantakkuM\";\n",
       "  src: local('SantakkuM'),\n",
       "    url('/server/static/fonts/SantakkuM.woff') format('woff'),\n",
       "    url('https://github.com/annotation/text-fabric/blob/master/tf/server/static/fonts/SantakkuM.woff?raw=true') format('woff');\n",
       "}\n",
       "/* bypassing some classical notebook settings */\n",
       "div#notebook {\n",
       "  line-height: unset;\n",
       "}\n",
       "/* neutral text */\n",
       ".txtn,.txtn a:visited,.txtn a:link {\n",
       "    font-family: sans-serif;\n",
       "    font-size: medium;\n",
       "    direction: ltr;\n",
       "    unicode-bidi: embed;\n",
       "    text-decoration: none;\n",
       "    color: var(--text-color);\n",
       "}\n",
       "/* transcription text */\n",
       ".txtt,.txtt a:visited,.txtt a:link {\n",
       "    font-family: monospace;\n",
       "    font-size: medium;\n",
       "    direction: ltr;\n",
       "    unicode-bidi: embed;\n",
       "    text-decoration: none;\n",
       "    color: var(--text-color);\n",
       "}\n",
       "/* source text */\n",
       ".txto,.txto a:visited,.txto a:link {\n",
       "    font-family: serif;\n",
       "    font-size: medium;\n",
       "    direction: ltr;\n",
       "    unicode-bidi: embed;\n",
       "    text-decoration: none;\n",
       "    color: var(--text-color);\n",
       "}\n",
       "/* phonetic text */\n",
       ".txtp,.txtp a:visited,.txtp a:link {\n",
       "    font-family: Gentium, sans-serif;\n",
       "    font-size: medium;\n",
       "    direction: ltr;\n",
       "    unicode-bidi: embed;\n",
       "    text-decoration: none;\n",
       "    color: var(--text-color);\n",
       "}\n",
       "/* original script text */\n",
       ".txtu,.txtu a:visited,.txtu a:link {\n",
       "    font-family: Gentium, sans-serif;\n",
       "    font-size: medium;\n",
       "    text-decoration: none;\n",
       "    color: var(--text-color);\n",
       "}\n",
       "/* hebrew */\n",
       ".txtu.hbo,.lex.hbo {\n",
       "    font-family: \"Ezra SIL\", \"SBL Hebrew\", sans-serif;\n",
       "    font-size: large;\n",
       "    direction: rtl ! important;\n",
       "    unicode-bidi: embed;\n",
       "}\n",
       "/* syriac */\n",
       ".txtu.syc,.lex.syc {\n",
       "    font-family: \"Estrangelo Edessa\", sans-serif;\n",
       "    font-size: medium;\n",
       "    direction: rtl ! important;\n",
       "    unicode-bidi: embed;\n",
       "}\n",
       "/* neo aramaic */\n",
       ".txtu.cld,.lex.cld {\n",
       "    font-family: \"CharisSIL-R\", sans-serif;\n",
       "    font-size: medium;\n",
       "    direction: ltr ! important;\n",
       "    unicode-bidi: embed;\n",
       "}\n",
       "/* standard arabic */\n",
       ".txtu.ara,.lex.ara {\n",
       "    font-family: \"AmiriQuran\", sans-serif;\n",
       "    font-size: large;\n",
       "    direction: rtl ! important;\n",
       "    unicode-bidi: embed;\n",
       "}\n",
       "/* cuneiform */\n",
       ".txtu.akk,.lex.akk {\n",
       "    font-family: Santakku, sans-serif;\n",
       "    font-size: large;\n",
       "    direction: ltr ! important;\n",
       "    unicode-bidi: embed;\n",
       "}\n",
       "/* greek */\n",
       ".txtu.grc,.lex.grc a:link {\n",
       "    font-family: Gentium, sans-serif;\n",
       "    font-size: medium;\n",
       "    direction: ltr ! important;\n",
       "    unicode-bidi: embed;\n",
       "}\n",
       "a:hover {\n",
       "    text-decoration: underline | important;\n",
       "    color: #0000ff | important;\n",
       "}\n",
       ".ltr {\n",
       "    direction: ltr ! important;\n",
       "    unicode-bidi: embed;\n",
       "}\n",
       ".rtl {\n",
       "    direction: rtl ! important;\n",
       "    unicode-bidi: embed;\n",
       "}\n",
       ".ubd {\n",
       "    unicode-bidi: embed;\n",
       "}\n",
       ".col {\n",
       "   display: inline-block;\n",
       "}\n",
       ".features {\n",
       "    font-family: monospace;\n",
       "    font-size: medium;\n",
       "    font-weight: bold;\n",
       "    color: var(--features);\n",
       "    display: flex;\n",
       "    flex-flow: column nowrap;\n",
       "    justify-content: flex-start;\n",
       "    align-items: flex-start;\n",
       "    align-content: flex-start;\n",
       "    padding: 2px;\n",
       "    margin: 2px;\n",
       "    direction: ltr;\n",
       "    unicode-bidi: embed;\n",
       "    border: var(--meta-width) solid var(--meta-color);\n",
       "    border-radius: var(--meta-width);\n",
       "}\n",
       ".features div,.features span {\n",
       "    padding: 0;\n",
       "    margin: -2px 0;\n",
       "}\n",
       ".features .f {\n",
       "    font-family: sans-serif;\n",
       "    font-size: small;\n",
       "    font-weight: normal;\n",
       "    color: #5555bb;\n",
       "}\n",
       ".features .xft {\n",
       "  color: #000000;\n",
       "  background-color: #eeeeee;\n",
       "  font-size: medium;\n",
       "  margin: 2px 0px;\n",
       "}\n",
       ".features .xft .f {\n",
       "  color: #000000;\n",
       "  background-color: #eeeeee;\n",
       "  font-size: small;\n",
       "  font-weight: normal;\n",
       "}\n",
       ".section {\n",
       "    font-family: sans-serif;\n",
       "    font-size: small;\n",
       "    font-weight: bold;\n",
       "    color: var(--section);\n",
       "    unicode-bidi: embed;\n",
       "    text-align: start;\n",
       "}\n",
       ".structure {\n",
       "    font-family: sans-serif;\n",
       "    font-size: small;\n",
       "    font-weight: bold;\n",
       "    color: var(--structure);\n",
       "    unicode-bidi: embed;\n",
       "    text-align: start;\n",
       "}\n",
       ".comments {\n",
       "    display: flex;\n",
       "    justify-content: flex-start;\n",
       "    align-items: flex-start;\n",
       "    align-content: flex-start;\n",
       "    flex-flow: column nowrap;\n",
       "}\n",
       ".nd, a:link.nd {\n",
       "    font-family: sans-serif;\n",
       "    font-size: small;\n",
       "    color: var(--node);\n",
       "    vertical-align: super;\n",
       "    direction: ltr ! important;\n",
       "    unicode-bidi: embed;\n",
       "}\n",
       ".lex {\n",
       "  color: var(--lex-color);;\n",
       "}\n",
       ".children,.children.ltr {\n",
       "    display: flex;\n",
       "    border: 0;\n",
       "    background-color: #ffffff;\n",
       "    justify-content: flex-start;\n",
       "    align-items: flex-start;\n",
       "    align-content: flex-start;\n",
       "}\n",
       ".children.stretch {\n",
       "    align-items: stretch;\n",
       "}\n",
       ".children.hor {\n",
       "    flex-flow: row nowrap;\n",
       "}\n",
       ".children.hor.wrap {\n",
       "    flex-flow: row wrap;\n",
       "}\n",
       ".children.ver {\n",
       "    flex-flow: column nowrap;\n",
       "}\n",
       ".children.ver.wrap {\n",
       "    flex-flow: column wrap;\n",
       "}\n",
       ".contnr {\n",
       "    width: fit-content;\n",
       "    display: flex;\n",
       "    justify-content: flex-start;\n",
       "    align-items: flex-start;\n",
       "    align-content: flex-start;\n",
       "    flex-flow: column nowrap;\n",
       "    background: #ffffff none repeat scroll 0 0;\n",
       "    padding:  10px 2px 2px 2px;\n",
       "    margin: 16px 2px 2px 2px;\n",
       "    border-style: solid;\n",
       "    font-size: small;\n",
       "}\n",
       ".contnr.trm {\n",
       "    background-attachment: local;\n",
       "}\n",
       ".contnr.cnul {\n",
       "    padding:  0;\n",
       "    margin: 0;\n",
       "    border-style: solid;\n",
       "    font-size: xx-small;\n",
       "}\n",
       ".contnr.cnul,.lbl.cnul {\n",
       "    border-color: var(--border-color-nul);\n",
       "    border-width: var(--border-width-nul);\n",
       "    border-radius: var(--border-width-nul);\n",
       "}\n",
       ".contnr.c0,.lbl.c0 {\n",
       "    border-color: var(--border-color0);\n",
       "    border-width: var(--border-width0);\n",
       "    border-radius: var(--border-width0);\n",
       "}\n",
       ".contnr.c1,.lbl.c1 {\n",
       "    border-color: var(--border-color1);\n",
       "    border-width: var(--border-width1);\n",
       "    border-radius: var(--border-width1);\n",
       "}\n",
       ".contnr.c2,.lbl.c2 {\n",
       "    border-color: var(--border-color2);\n",
       "    border-width: var(--border-width2);\n",
       "    border-radius: var(--border-width2);\n",
       "}\n",
       ".contnr.c3,.lbl.c3 {\n",
       "    border-color: var(--border-color3);\n",
       "    border-width: var(--border-width3);\n",
       "    border-radius: var(--border-width3);\n",
       "}\n",
       ".contnr.c4,.lbl.c4 {\n",
       "    border-color: var(--border-color4);\n",
       "    border-width: var(--border-width4);\n",
       "    border-radius: var(--border-width4);\n",
       "}\n",
       "span.plain {\n",
       "    display: inline-block;\n",
       "    white-space: pre-wrap;\n",
       "}\n",
       ".plain {\n",
       "    background-color: #ffffff;\n",
       "}\n",
       ".plain.l,.contnr.l,.contnr.l>.lbl {\n",
       "    border-left-style: dotted\n",
       "}\n",
       ".plain.r,.contnr.r,.contnr.r>.lbl {\n",
       "    border-right-style: dotted\n",
       "}\n",
       ".plain.lno,.contnr.lno,.contnr.lno>.lbl {\n",
       "    border-left-style: none\n",
       "}\n",
       ".plain.rno,.contnr.rno,.contnr.rno>.lbl {\n",
       "    border-right-style: none\n",
       "}\n",
       ".plain.l {\n",
       "    padding-left: 4px;\n",
       "    margin-left: 2px;\n",
       "    border-width: var(--border-width-plain);\n",
       "}\n",
       ".plain.r {\n",
       "    padding-right: 4px;\n",
       "    margin-right: 2px;\n",
       "    border-width: var(--border-width-plain);\n",
       "}\n",
       ".lbl {\n",
       "    font-family: monospace;\n",
       "    margin-top: -24px;\n",
       "    margin-left: 20px;\n",
       "    background: #ffffff none repeat scroll 0 0;\n",
       "    padding: 0 6px;\n",
       "    border-style: solid;\n",
       "    display: block;\n",
       "    color: var(--label)\n",
       "}\n",
       ".lbl.trm {\n",
       "    background-attachment: local;\n",
       "    margin-top: 2px;\n",
       "    margin-left: 2px;\n",
       "    padding: 2px 2px;\n",
       "    border-style: none;\n",
       "}\n",
       ".lbl.cnul {\n",
       "    font-size: xx-small;\n",
       "}\n",
       ".lbl.c0 {\n",
       "    font-size: small;\n",
       "}\n",
       ".lbl.c1 {\n",
       "    font-size: small;\n",
       "}\n",
       ".lbl.c2 {\n",
       "    font-size: medium;\n",
       "}\n",
       ".lbl.c3 {\n",
       "    font-size: medium;\n",
       "}\n",
       ".lbl.c4 {\n",
       "    font-size: large;\n",
       "}\n",
       ".occs, a:link.occs {\n",
       "    font-size: small;\n",
       "}\n",
       "\n",
       "/* PROVENANCE */\n",
       "\n",
       "div.prov {\n",
       "\tmargin: 40px;\n",
       "\tpadding: 20px;\n",
       "\tborder: 2px solid var(--fog-rim);\n",
       "}\n",
       "div.pline {\n",
       "\tdisplay: flex;\n",
       "\tflex-flow: row nowrap;\n",
       "\tjustify-content: stretch;\n",
       "\talign-items: baseline;\n",
       "}\n",
       "div.p2line {\n",
       "\tmargin-left: 2em;\n",
       "\tdisplay: flex;\n",
       "\tflex-flow: row nowrap;\n",
       "\tjustify-content: stretch;\n",
       "\talign-items: baseline;\n",
       "}\n",
       "div.psline {\n",
       "\tdisplay: flex;\n",
       "\tflex-flow: row nowrap;\n",
       "\tjustify-content: stretch;\n",
       "\talign-items: baseline;\n",
       "\tbackground-color: var(--gold-mist-back);\n",
       "}\n",
       "div.pname {\n",
       "\tflex: 0 0 5rem;\n",
       "\tfont-weight: bold;\n",
       "}\n",
       "div.pval {\n",
       "    flex: 1 1 auto;\n",
       "}\n",
       "\n",
       ":root {\n",
       "\t--node:               hsla(120, 100%,  20%, 1.0  );\n",
       "\t--label:              hsla(  0, 100%,  20%, 1.0  );\n",
       "\t--section:            hsla(  0, 100%,  25%, 1.0  );\n",
       "\t--structure:          hsla(120, 100%,  25%, 1.0  );\n",
       "\t--features:           hsla(  0,   0%,  30%, 1.0  );\n",
       "  --text-color:         hsla( 60,  80%,  10%, 1.0  );\n",
       "  --lex-color:          hsla(220,  90%,  60%, 1.0  );\n",
       "  --meta-color:         hsla(  0,   0%,  90%, 0.7  );\n",
       "  --meta-width:         3px;\n",
       "  --border-color-nul:   hsla(  0,   0%,  90%, 0.5  );\n",
       "  --border-color0:      hsla(  0,   0%,  90%, 0.9  );\n",
       "  --border-color1:      hsla(  0,   0%,  80%, 0.9  );\n",
       "  --border-color2:      hsla(  0,   0%,  70%, 0.9  );\n",
       "  --border-color3:      hsla(  0,   0%,  80%, 0.8  );\n",
       "  --border-color4:      hsla(  0,   0%,  60%, 0.9  );\n",
       "  --border-width-nul:   2px;\n",
       "  --border-width0:      2px;\n",
       "  --border-width1:      3px;\n",
       "  --border-width2:      4px;\n",
       "  --border-width3:      6px;\n",
       "  --border-width4:      5px;\n",
       "  --border-width-plain: 2px;\n",
       "}\n",
       ".hl {\n",
       "  background-color: var(--hl-strong);\n",
       "}\n",
       "span.hl {\n",
       "\tbackground-color: var(--hl-strong);\n",
       "\tborder-width: 0;\n",
       "\tborder-radius: 2px;\n",
       "\tborder-style: solid;\n",
       "}\n",
       "div.contnr.hl,div.lbl.hl {\n",
       "  background-color: var(--hl-strong);\n",
       "}\n",
       "div.contnr.hl {\n",
       "  border-color: var(--hl-rim) ! important;\n",
       "\tborder-width: 4px ! important;\n",
       "}\n",
       "\n",
       "span.hlbx {\n",
       "\tborder-color: var(--hl-rim);\n",
       "\tborder-width: 4px ! important;\n",
       "\tborder-style: solid;\n",
       "\tborder-radius: 6px;\n",
       "  padding: 4px;\n",
       "  margin: 4px;\n",
       "}\n",
       "\n",
       "span.plain {\n",
       "  display: inline-block;\n",
       "  white-space: pre-wrap;\n",
       "}\n",
       "\n",
       ":root {\n",
       "\t--hl-strong:        hsla( 60, 100%,  70%, 0.9  );\n",
       "\t--hl-rim:           hsla( 55,  80%,  50%, 1.0  );\n",
       "}\n",
       ".remark {\n",
       "  font-size: large;\n",
       "  font-style: italic;\n",
       "}\n",
       ".folio {\n",
       "  font-size: small;\n",
       "  color: #668866;\n",
       "}\n",
       ".fmark:after {\n",
       "  font-size: small;\n",
       "  font-weight: bold;\n",
       "  vertical-align: super;\n",
       "  color: #ddaa22;\n",
       "}\n",
       ".fbody {\n",
       "  vertical-align: super;\n",
       "  font-size: small;\n",
       "  color: #774400;\n",
       "}\n",
       ".ref {\n",
       "  font-size: small;\n",
       "  font-weight: bold;\n",
       "  color: #666688;\n",
       "}\n",
       ".emph {\n",
       "  font-style: italic;\n",
       "}\n",
       ".und {\n",
       "  text-decoration: underline;\n",
       "}\n",
       ".super {\n",
       "  vertical-align: super;\n",
       "}\n",
       ".special {\n",
       "  font-family: monospace;\n",
       "  font-weight: bold;\n",
       "  color: #886666;\n",
       "}\n",
       "</style>"
      ],
      "text/plain": [
       "<IPython.core.display.HTML object>"
      ]
     },
     "metadata": {},
     "output_type": "display_data"
    },
    {
     "data": {
      "text/html": [
       "<div><b>Text-Fabric API:</b> names <a target=\"_blank\" href=\"https://annotation.github.io/text-fabric/cheatsheet.html\" title=\"doc\">N F E L T S C TF</a> directly usable</div><hr>"
      ],
      "text/plain": [
       "<IPython.core.display.HTML object>"
      ]
     },
     "metadata": {},
     "output_type": "display_data"
    }
   ],
   "source": [
    "A = use(\"missieven\", hoist=globals())\n",
    "# A = use(\"missieven:latest\", checkout=\"latest\", hoist=globals())\n",
    "# A = use('missieven:clone', checkout=\"clone\", hoist=globals())"
   ]
  },
  {
   "cell_type": "markdown",
   "metadata": {},
   "source": [
    "# Inspect the contents of a file\n",
    "We write a function that can peek into file on your system, and show the first few lines.\n",
    "We'll use it to inspect the exported files that we are going to produce."
   ]
  },
  {
   "cell_type": "code",
   "execution_count": 4,
   "metadata": {},
   "outputs": [],
   "source": [
    "EXPORT_FILE = os.path.expanduser('~/Downloads/results.tsv')\n",
    "UPTO = 10\n",
    "\n",
    "def checkout():\n",
    "    with open(EXPORT_FILE, encoding='utf_16') as fh:\n",
    "        for (i, line) in enumerate(fh):\n",
    "            if i >= UPTO:\n",
    "                break\n",
    "            print(line.rstrip('\\n'))"
   ]
  },
  {
   "cell_type": "markdown",
   "metadata": {},
   "source": [
    "# Encoding\n",
    "\n",
    "Our exported `.tsv` files open in Excel without hassle, even if they contain non-latin characters.\n",
    "That is because TF writes such files in an\n",
    "encoding that works well with Excel: `utf_16_le`.\n",
    "You can just open them in Excel, there is no need for conversion before or after opening these files.\n",
    "\n",
    "Should you want to process these files by means of a (Python) program, \n",
    "take care to read them with encoding `utf_16`."
   ]
  },
  {
   "cell_type": "markdown",
   "metadata": {},
   "source": [
    "# Example query\n",
    "\n",
    "We first run a query in order to export the results."
   ]
  },
  {
   "cell_type": "code",
   "execution_count": 5,
   "metadata": {
    "ExecuteTime": {
     "end_time": "2018-05-24T07:46:55.998382Z",
     "start_time": "2018-05-24T07:46:55.137956Z"
    }
   },
   "outputs": [
    {
     "name": "stdout",
     "output_type": "stream",
     "text": [
      "  5.36s 683 results\n"
     ]
    }
   ],
   "source": [
    "query = '''\n",
    "volume n=1\n",
    "  line\n",
    "    word transo~([0-9][A-Za-z])|([a-zA-Z][0-9])\n",
    "'''\n",
    "results = A.search(query)"
   ]
  },
  {
   "cell_type": "markdown",
   "metadata": {},
   "source": [
    "# Bare export\n",
    "\n",
    "You can export the table of results to Excel.\n",
    "\n",
    "The following command writes a tab-separated file `results.tsv` to your downloads directory.\n",
    "\n",
    "You can specify arguments `toDir=directory` and `toFile=file name` to write to a different file.\n",
    "If the directory does not exist, it will be created.\n",
    "\n",
    "We stick to the default, however."
   ]
  },
  {
   "cell_type": "code",
   "execution_count": 6,
   "metadata": {},
   "outputs": [],
   "source": [
    "A.export(results)"
   ]
  },
  {
   "cell_type": "markdown",
   "metadata": {},
   "source": [
    "Check out the contents:"
   ]
  },
  {
   "cell_type": "code",
   "execution_count": 7,
   "metadata": {},
   "outputs": [
    {
     "name": "stdout",
     "output_type": "stream",
     "text": [
      "R\tS1\tS2\tS3\tNODE1\tTYPE1\tn1\tNODE2\tTYPE2\tTEXT2\tNODE3\tTYPE3\tTEXT3\ttranso3\n",
      "1\t1\t5\t11\t5572953\tvolume\t1\t5054836\tline\t’t geene sij gedaen hebben ende alsoo de soldaeten secuideerden1 \t674\tword\tsecuideerden1 \tsecuideerden1\n",
      "2\t1\t6\t6\t5572953\tvolume\t1\t5054873\tline\thebben daeromme den 14en deser goet gevonden 14 soldaeten onder ’t commandement\t1067\tword\t14en \t14en\n",
      "3\t1\t8\t4\t5572953\tvolume\t1\t5054931\tline\tMijn Heeren, tsedert het vertreck van ons schip den Leeuw met Pijlen1 \t1637\tword\tPijlen1 \tPijlen1\n",
      "4\t1\t9\t5\t5572953\tvolume\t1\t5054963\tline\taccorderen ende dat door haer onredelijcke proceduren. Sij hebben op ten 24en meye\t2030\tword\t24en \t24en\n",
      "5\t1\t10\t5\t5572953\tvolume\t1\t5054989\tline\tbij hem hebbende dertich duysent realen van 8en, veerthien soldaten\t2305\tword\t8en, \t8en\n",
      "6\t1\t21\t6\t5572953\tvolume\t1\t5055279\tline\tWij hebben aldaer1 toegebracht omtrent vier maenden in ’t af f breken\t5285\tword\taldaer1 \taldaer1\n",
      "7\t1\t22\t5\t5572953\tvolume\t1\t5055313\tline\tOpten 13en january 1613 arriveerden weder met ons schip Banda voor\t5659\tword\t13en \t13en\n",
      "8\t1\t22\t19\t5572953\tvolume\t1\t5055327\tline\tNaer het arrivement van dese schepen resolveerden opten 7en fe-\t5813\tword\t7en \t7en\n",
      "9\t1\t22\t33\t5572953\tvolume\t1\t5055341\tline\td’andere te bestellen. Den 8en ditto omtrent middernacht gingen d’voorsz. vier\t5986\tword\t8en \t8en\n"
     ]
    }
   ],
   "source": [
    "checkout()"
   ]
  },
  {
   "cell_type": "markdown",
   "metadata": {},
   "source": [
    "You see the following columns:\n",
    "\n",
    "* **R** the sequence number of the result tuple in the result list\n",
    "* **S1 S2 S3** the section as P-number, face, line number, in separate columns\n",
    "* **NODEi TYPEi** the node and its type, for each node **i** in the result tuple\n",
    "* **TEXTi** the full text of node **i**, if the node type admits a concise text representation\n",
    "* **reading2-4** the value of feature **reading**, since our query mentions the feature `reading` on nodes 2-4"
   ]
  },
  {
   "cell_type": "markdown",
   "metadata": {},
   "source": [
    "# Poorer exports\n",
    "\n",
    "If you do not need the full text of the lines, you can leave them out by specifying a smaller *condense type*.\n",
    "\n",
    "The export function provides text for all nodes whose type is not too big.\n",
    "What is too big is determined by the condense type.\n",
    "\n",
    "In this corpus, the default condens type is line. Node types bigger than lines will not get text.\n",
    "\n",
    "Now, if we change the condenseType to something smaller than line, e.g. `word`, the line text will be suppressed."
   ]
  },
  {
   "cell_type": "code",
   "execution_count": 8,
   "metadata": {},
   "outputs": [
    {
     "name": "stderr",
     "output_type": "stream",
     "text": [
      "  7.46s ERROR in table(): illegal node type in \"condenseType=word\"\n",
      "  7.46s Legal values are: cell, folio, head, letter, line, page, para, remark, row, subhead, table, volume\n"
     ]
    },
    {
     "data": {
      "text/plain": [
       "''"
      ]
     },
     "execution_count": 8,
     "metadata": {},
     "output_type": "execute_result"
    }
   ],
   "source": [
    "A.export(results, condenseType='word')"
   ]
  },
  {
   "cell_type": "markdown",
   "metadata": {},
   "source": [
    "Oops, `word` is the slot type, we cannot use it as a condense type.\n",
    "Let's take `cell`."
   ]
  },
  {
   "cell_type": "code",
   "execution_count": 9,
   "metadata": {},
   "outputs": [
    {
     "name": "stdout",
     "output_type": "stream",
     "text": [
      "R\tS1\tS2\tS3\tNODE1\tTYPE1\tn1\tNODE2\tTYPE2\tNODE3\tTYPE3\tTEXT3\ttranso3\n",
      "1\t1\t5\t11\t5572953\tvolume\t1\t5054836\tline\t674\tword\tsecuideerden1 \tsecuideerden1\n",
      "2\t1\t6\t6\t5572953\tvolume\t1\t5054873\tline\t1067\tword\t14en \t14en\n",
      "3\t1\t8\t4\t5572953\tvolume\t1\t5054931\tline\t1637\tword\tPijlen1 \tPijlen1\n",
      "4\t1\t9\t5\t5572953\tvolume\t1\t5054963\tline\t2030\tword\t24en \t24en\n",
      "5\t1\t10\t5\t5572953\tvolume\t1\t5054989\tline\t2305\tword\t8en, \t8en\n",
      "6\t1\t21\t6\t5572953\tvolume\t1\t5055279\tline\t5285\tword\taldaer1 \taldaer1\n",
      "7\t1\t22\t5\t5572953\tvolume\t1\t5055313\tline\t5659\tword\t13en \t13en\n",
      "8\t1\t22\t19\t5572953\tvolume\t1\t5055327\tline\t5813\tword\t7en \t7en\n",
      "9\t1\t22\t33\t5572953\tvolume\t1\t5055341\tline\t5986\tword\t8en \t8en\n"
     ]
    }
   ],
   "source": [
    "A.export(results, condenseType='cell')\n",
    "checkout()"
   ]
  },
  {
   "cell_type": "markdown",
   "metadata": {},
   "source": [
    "## Additional features\n",
    "\n",
    "If we want to export additional features, we just have to mention them.\n",
    "In order to do so and not change the result set, put a `*` behind the feature.\n",
    "\n",
    "The `*` means: *always true, no matter what's in the feature, even if there is nothing in there*.\n",
    "\n",
    "Lets ask for the flags on the first `ma`."
   ]
  },
  {
   "cell_type": "code",
   "execution_count": 10,
   "metadata": {
    "ExecuteTime": {
     "end_time": "2018-05-24T07:46:55.998382Z",
     "start_time": "2018-05-24T07:46:55.137956Z"
    }
   },
   "outputs": [
    {
     "name": "stdout",
     "output_type": "stream",
     "text": [
      "  2.91s 49 results\n"
     ]
    }
   ],
   "source": [
    "query = '''\n",
    "volume n=1\n",
    "  line\n",
    "    word transo~([0-9][A-Za-z])|([a-zA-Z][0-9]) fnote\n",
    "'''\n",
    "results = A.search(query)"
   ]
  },
  {
   "cell_type": "markdown",
   "metadata": {},
   "source": [
    "The same number of results.\n",
    "\n",
    "We do the export again and peek at the results."
   ]
  },
  {
   "cell_type": "code",
   "execution_count": 11,
   "metadata": {},
   "outputs": [
    {
     "name": "stdout",
     "output_type": "stream",
     "text": [
      "R\tS1\tS2\tS3\tNODE1\tTYPE1\tn1\tNODE2\tTYPE2\tNODE3\tTYPE3\tTEXT3\tfnote3\ttranso3\n",
      "1\t1\t5\t11\t5572953\tvolume\t1\t5054836\tline\t674\tword\tsecuideerden1 \t2. Secuideerden, waarschijnlijk : seduceerden, in verleiding brachten.\tsecuideerden1\n",
      "2\t1\t8\t4\t5572953\tvolume\t1\t5054931\tline\t1637\tword\tPijlen1 \t2. Kort na 31 maart 1612.\tPijlen1\n",
      "3\t1\t21\t6\t5572953\tvolume\t1\t5055279\tline\t5285\tword\taldaer1 \t2. NL het eiland Batjan.\taldaer1\n",
      "4\t1\t23\t5\t5572953\tvolume\t1\t5055353\tline\t6128\tword\tGapi1 \t2. Ketjil Gapi; mij onbekende Temataanse grote; ketjil is de titel, die personen van\n",
      "vorstelijken bloede voeren, Gapi is een oude naam voor de Banggai-archipel. Itsie is blijkbaar\n",
      "de naam van den djogugu, zoals de Nederlanders die verstonden.\tGapi1\n",
      "5\t1\t25\t10\t5572953\tvolume\t1\t5055432\tline\t7044\tword\tEngelandt1 \t2. Vermoedelijk is hier bedoeld de gezant der Staten-Generaal in Engeland, sir Noel\n",
      "de Caron.\tEngelandt1\n",
      "6\t1\t35\t21\t5572953\tvolume\t1\t5055708\tline\t9957\tword\tGilolespunct1 \t2. De vorst van Djailolo was vanouds een der vier Molukse koningen; omstreeks 1600\n"
     ]
    }
   ],
   "source": [
    "A.export(results, condenseType='cell')\n",
    "checkout()"
   ]
  },
  {
   "cell_type": "markdown",
   "metadata": {},
   "source": [
    "As you see, you have an extra column **fnote3** with footnote text in it, if a word has a footnote.\n",
    "\n",
    "This gives you a lot of control over the generation of spreadsheets."
   ]
  },
  {
   "cell_type": "markdown",
   "metadata": {},
   "source": [
    "# Not from queries\n",
    "\n",
    "You can also export lists of node tuples that are not obtained by a query.\n",
    "\n",
    "We are interested in words in the original letters that contain a mixture of letters and digits.\n",
    "\n",
    "Let's collect them.\n",
    "\n",
    "We collect those words as a list of 1-tuples that contain the corresponding node for that word."
   ]
  },
  {
   "cell_type": "code",
   "execution_count": 12,
   "metadata": {},
   "outputs": [],
   "source": [
    "import re"
   ]
  },
  {
   "cell_type": "code",
   "execution_count": 13,
   "metadata": {},
   "outputs": [
    {
     "name": "stdout",
     "output_type": "stream",
     "text": [
      "((674,), (1067,), (1637,), (2030,), (2305,), (5285,), (5659,), (5813,), (5986,), (6128,))\n"
     ]
    },
    {
     "data": {
      "text/plain": [
       "7883"
      ]
     },
     "execution_count": 13,
     "metadata": {},
     "output_type": "execute_result"
    }
   ],
   "source": [
    "mixedRe = re.compile(\n",
    "    r\"\"\"\n",
    "    (?:\n",
    "        [a-z][0-9]\n",
    "    )\n",
    "    |\n",
    "    (?:\n",
    "        [0-9][a-z]\n",
    "    )\"\"\",\n",
    "    re.I | re.X,\n",
    ")\n",
    "tuples = tuple((w,) for w in F.otype.s(\"word\") if mixedRe.search(F.transo.v(w) or \"\"))\n",
    "print(tuples[0:10])\n",
    "len(tuples)"
   ]
  },
  {
   "cell_type": "markdown",
   "metadata": {},
   "source": [
    "Let's do a bare export:"
   ]
  },
  {
   "cell_type": "code",
   "execution_count": 14,
   "metadata": {},
   "outputs": [
    {
     "name": "stdout",
     "output_type": "stream",
     "text": [
      "R\tS1\tS2\tS3\tNODE1\tTYPE1\tTEXT1\tn1\n",
      "1\t1\t5\t11\t674\tword\tsecuideerden1 \t\n",
      "2\t1\t6\t6\t1067\tword\t14en \t\n",
      "3\t1\t8\t4\t1637\tword\tPijlen1 \t\n",
      "4\t1\t9\t5\t2030\tword\t24en \t\n",
      "5\t1\t10\t5\t2305\tword\t8en, \t\n",
      "6\t1\t21\t6\t5285\tword\taldaer1 \t\n",
      "7\t1\t22\t5\t5659\tword\t13en \t\n",
      "8\t1\t22\t19\t5813\tword\t7en \t\n",
      "9\t1\t22\t33\t5986\tword\t8en \t\n"
     ]
    }
   ],
   "source": [
    "A.export(tuples)\n",
    "checkout()"
   ]
  },
  {
   "cell_type": "markdown",
   "metadata": {},
   "source": [
    "---\n",
    "\n",
    "# Contents\n",
    "\n",
    "* **[start](start.ipynb)** start computing with this corpus\n",
    "* **[search](search.ipynb)** turbo charge your hand-coding with search templates\n",
    "* **[compute](compute.ipynb)** sink down a level and compute it yourself\n",
    "* **exportExcel** make tailor-made spreadsheets out of your results\n",
    "* **[annotate](annotate.ipynb)** export text, annotate with BRAT, import annotations\n",
    "* **[share](share.ipynb)** draw in other people's data and let them use yours\n",
    "\n",
    "CC-BY Dirk Roorda"
   ]
  }
 ],
 "metadata": {
  "kernelspec": {
   "display_name": "Python 3",
   "language": "python",
   "name": "python3"
  },
  "language_info": {
   "codemirror_mode": {
    "name": "ipython",
    "version": 3
   },
   "file_extension": ".py",
   "mimetype": "text/x-python",
   "name": "python",
   "nbconvert_exporter": "python",
   "pygments_lexer": "ipython3",
   "version": "3.8.5"
  }
 },
 "nbformat": 4,
 "nbformat_minor": 4
}
