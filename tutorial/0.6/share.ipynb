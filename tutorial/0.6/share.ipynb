{
 "cells": [
  {
   "cell_type": "markdown",
   "metadata": {},
   "source": [
    "<img align=\"right\" src=\"images/tf.png\"/>\n",
    "<img align=\"right\" src=\"images/etcbc.png\"/>\n",
    "<img align=\"right\" src=\"images/logo.png\"/>\n",
    "\n",
    "---\n",
    "\n",
    "To get started: consult [start](start.ipynb)\n",
    "\n",
    "---\n",
    "\n",
    "# Sharing data features\n",
    "\n",
    "## Explore additional data\n",
    "\n",
    "Once you analyse a corpus, it is likely that you produce data that others can reuse.\n",
    "Maybe you have defined a set of proper name occurrences, or special numerals, or you have computed part-of-speech assignments.\n",
    "\n",
    "It is possible to turn these insights into *new features*, i.e. new `.tf` files with values assigned to specific nodes.\n",
    "\n",
    "## Make your own data\n",
    "\n",
    "New data is a product of your own methods and computations in the first place.\n",
    "But how do you turn that data into new TF features?\n",
    "It turns out that the last step is not that difficult.\n",
    "\n",
    "If you can shape your data as a mapping (dictionary) from node numbers (integers) to values\n",
    "(strings or integers), then TF can turn that data into a feature file for you with one command.\n",
    "\n",
    "## Share your new data\n",
    "You can then easily share your new features on GitHub, so that your colleagues everywhere \n",
    "can try it out for themselves.\n",
    "\n",
    "You can add such data on the fly, by passing a `mod={org}/{repo}/{path}` parameter,\n",
    "or a bunch of them separated by commas.\n",
    "\n",
    "If the data is there, it will be auto-downloaded and stored on your machine.\n",
    "\n",
    "Let's do it.\n"
   ]
  },
  {
   "cell_type": "code",
   "execution_count": 1,
   "metadata": {},
   "outputs": [],
   "source": [
    "%load_ext autoreload\n",
    "%autoreload 2"
   ]
  },
  {
   "cell_type": "code",
   "execution_count": 2,
   "metadata": {
    "ExecuteTime": {
     "end_time": "2018-05-24T10:06:39.818664Z",
     "start_time": "2018-05-24T10:06:39.796588Z"
    }
   },
   "outputs": [],
   "source": [
    "import collections\n",
    "\n",
    "from tf.app import use"
   ]
  },
  {
   "cell_type": "code",
   "execution_count": 3,
   "metadata": {},
   "outputs": [
    {
     "data": {
      "text/html": [
       "<b title=\"local release\">TF-app:</b> <span title=\"rv0.5=#8b8557ae1ed516f44322145378947eaadcf57b57 offline under ~/text-fabric-data\">~/text-fabric-data/annotation/app-missieven/code</span>"
      ],
      "text/plain": [
       "<IPython.core.display.HTML object>"
      ]
     },
     "metadata": {},
     "output_type": "display_data"
    },
    {
     "data": {
      "text/html": [
       "<b title=\"local release\">data:</b> <span title=\"rv0.5=#d2298304491de659ab1c5872c951844e7b99e91e offline under ~/text-fabric-data\">~/text-fabric-data/Dans-labs/clariah-gm/tf/0.5</span>"
      ],
      "text/plain": [
       "<IPython.core.display.HTML object>"
      ]
     },
     "metadata": {},
     "output_type": "display_data"
    },
    {
     "data": {
      "text/html": [
       "<b>Text-Fabric:</b> <a target=\"_blank\" href=\"https://annotation.github.io/text-fabric/cheatsheet.html\" title=\"text-fabric-api\">Text-Fabric API 8.4.5</a>, <a target=\"_blank\" href=\"https://github.com/annotation/app-missieven\" title=\"missieven TF-app\">app-missieven</a>, <a target=\"_blank\" href=\"https://annotation.github.io/text-fabric/about/searchusage.html\" title=\"Search Templates Introduction and Reference\">Search Reference</a><br><b>Data:</b> <a target=\"_blank\" href=\"https://github.com/Dans-labs/clariah-gm/blob/master/docs/transcription.md\" title=\"provenance of General Missives Dutch East India Company 1600-1800\">CLARIAH-GM</a>, <a target=\"_blank\" href=\"https://annotation.github.io/text-fabric/writing/.html\" title=\"How TF features represent text\">Character table</a>, <a target=\"_blank\" href=\"https://github.com/Dans-labs/clariah-gm/blob/master/docs/transcription.md\" title=\"CLARIAH-GM feature documentation\">Feature docs</a><br><b>Features:</b><br><details><summary><b>General Missives Dutch East India Company 1600-1800</b></summary><a target=\"_blank\" href=\"https://github.com/Dans-labs/clariah-gm/blob/master/docs/transcription.md\" title=\"~/text-fabric-data/Dans-labs/clariah-gm/tf/0.5/author.tf\">author</a><br><a target=\"_blank\" href=\"https://github.com/Dans-labs/clariah-gm/blob/master/docs/transcription.md\" title=\"~/text-fabric-data/Dans-labs/clariah-gm/tf/0.5/authorFull.tf\">authorFull</a><br><a target=\"_blank\" href=\"https://github.com/Dans-labs/clariah-gm/blob/master/docs/transcription.md\" title=\"~/text-fabric-data/Dans-labs/clariah-gm/tf/0.5/col.tf\">col</a><br><a target=\"_blank\" href=\"https://github.com/Dans-labs/clariah-gm/blob/master/docs/transcription.md\" title=\"~/text-fabric-data/Dans-labs/clariah-gm/tf/0.5/day.tf\">day</a><br><a target=\"_blank\" href=\"https://github.com/Dans-labs/clariah-gm/blob/master/docs/transcription.md\" title=\"~/text-fabric-data/Dans-labs/clariah-gm/tf/0.5/emph.tf\">emph</a><br><a target=\"_blank\" href=\"https://github.com/Dans-labs/clariah-gm/blob/master/docs/transcription.md\" title=\"~/text-fabric-data/Dans-labs/clariah-gm/tf/0.5/facs.tf\">facs</a><br><a target=\"_blank\" href=\"https://github.com/Dans-labs/clariah-gm/blob/master/docs/transcription.md\" title=\"~/text-fabric-data/Dans-labs/clariah-gm/tf/0.5/fnote.tf\">fnote</a><br><a target=\"_blank\" href=\"https://github.com/Dans-labs/clariah-gm/blob/master/docs/transcription.md\" title=\"~/text-fabric-data/Dans-labs/clariah-gm/tf/0.5/folio.tf\">folio</a><br><a target=\"_blank\" href=\"https://github.com/Dans-labs/clariah-gm/blob/master/docs/transcription.md\" title=\"~/text-fabric-data/Dans-labs/clariah-gm/tf/0.5/month.tf\">month</a><br><a target=\"_blank\" href=\"https://github.com/Dans-labs/clariah-gm/blob/master/docs/transcription.md\" title=\"~/text-fabric-data/Dans-labs/clariah-gm/tf/0.5/n.tf\">n</a><br><a target=\"_blank\" href=\"https://github.com/Dans-labs/clariah-gm/blob/master/docs/transcription.md\" title=\"~/text-fabric-data/Dans-labs/clariah-gm/tf/0.5/otype.tf\">otype</a><br><a target=\"_blank\" href=\"https://github.com/Dans-labs/clariah-gm/blob/master/docs/transcription.md\" title=\"~/text-fabric-data/Dans-labs/clariah-gm/tf/0.5/page.tf\">page</a><br><a target=\"_blank\" href=\"https://github.com/Dans-labs/clariah-gm/blob/master/docs/transcription.md\" title=\"~/text-fabric-data/Dans-labs/clariah-gm/tf/0.5/place.tf\">place</a><br><a target=\"_blank\" href=\"https://github.com/Dans-labs/clariah-gm/blob/master/docs/transcription.md\" title=\"~/text-fabric-data/Dans-labs/clariah-gm/tf/0.5/punc.tf\">punc</a><br><a target=\"_blank\" href=\"https://github.com/Dans-labs/clariah-gm/blob/master/docs/transcription.md\" title=\"~/text-fabric-data/Dans-labs/clariah-gm/tf/0.5/punco.tf\">punco</a><br><a target=\"_blank\" href=\"https://github.com/Dans-labs/clariah-gm/blob/master/docs/transcription.md\" title=\"~/text-fabric-data/Dans-labs/clariah-gm/tf/0.5/puncr.tf\">puncr</a><br><a target=\"_blank\" href=\"https://github.com/Dans-labs/clariah-gm/blob/master/docs/transcription.md\" title=\"~/text-fabric-data/Dans-labs/clariah-gm/tf/0.5/rawdate.tf\">rawdate</a><br><a target=\"_blank\" href=\"https://github.com/Dans-labs/clariah-gm/blob/master/docs/transcription.md\" title=\"~/text-fabric-data/Dans-labs/clariah-gm/tf/0.5/ref.tf\">ref</a><br><a target=\"_blank\" href=\"https://github.com/Dans-labs/clariah-gm/blob/master/docs/transcription.md\" title=\"~/text-fabric-data/Dans-labs/clariah-gm/tf/0.5/remark.tf\">remark</a><br><a target=\"_blank\" href=\"https://github.com/Dans-labs/clariah-gm/blob/master/docs/transcription.md\" title=\"~/text-fabric-data/Dans-labs/clariah-gm/tf/0.5/row.tf\">row</a><br><a target=\"_blank\" href=\"https://github.com/Dans-labs/clariah-gm/blob/master/docs/transcription.md\" title=\"~/text-fabric-data/Dans-labs/clariah-gm/tf/0.5/seq.tf\">seq</a><br><a target=\"_blank\" href=\"https://github.com/Dans-labs/clariah-gm/blob/master/docs/transcription.md\" title=\"~/text-fabric-data/Dans-labs/clariah-gm/tf/0.5/special.tf\">special</a><br><a target=\"_blank\" href=\"https://github.com/Dans-labs/clariah-gm/blob/master/docs/transcription.md\" title=\"~/text-fabric-data/Dans-labs/clariah-gm/tf/0.5/status.tf\">status</a><br><a target=\"_blank\" href=\"https://github.com/Dans-labs/clariah-gm/blob/master/docs/transcription.md\" title=\"~/text-fabric-data/Dans-labs/clariah-gm/tf/0.5/sub.tf\">sub</a><br><a target=\"_blank\" href=\"https://github.com/Dans-labs/clariah-gm/blob/master/docs/transcription.md\" title=\"~/text-fabric-data/Dans-labs/clariah-gm/tf/0.5/super.tf\">super</a><br><a target=\"_blank\" href=\"https://github.com/Dans-labs/clariah-gm/blob/master/docs/transcription.md\" title=\"~/text-fabric-data/Dans-labs/clariah-gm/tf/0.5/title.tf\">title</a><br><a target=\"_blank\" href=\"https://github.com/Dans-labs/clariah-gm/blob/master/docs/transcription.md\" title=\"~/text-fabric-data/Dans-labs/clariah-gm/tf/0.5/tpl.tf\">tpl</a><br><a target=\"_blank\" href=\"https://github.com/Dans-labs/clariah-gm/blob/master/docs/transcription.md\" title=\"~/text-fabric-data/Dans-labs/clariah-gm/tf/0.5/trans.tf\">trans</a><br><a target=\"_blank\" href=\"https://github.com/Dans-labs/clariah-gm/blob/master/docs/transcription.md\" title=\"~/text-fabric-data/Dans-labs/clariah-gm/tf/0.5/transo.tf\">transo</a><br><a target=\"_blank\" href=\"https://github.com/Dans-labs/clariah-gm/blob/master/docs/transcription.md\" title=\"~/text-fabric-data/Dans-labs/clariah-gm/tf/0.5/transr.tf\">transr</a><br><a target=\"_blank\" href=\"https://github.com/Dans-labs/clariah-gm/blob/master/docs/transcription.md\" title=\"~/text-fabric-data/Dans-labs/clariah-gm/tf/0.5/und.tf\">und</a><br><a target=\"_blank\" href=\"https://github.com/Dans-labs/clariah-gm/blob/master/docs/transcription.md\" title=\"~/text-fabric-data/Dans-labs/clariah-gm/tf/0.5/vol.tf\">vol</a><br><a target=\"_blank\" href=\"https://github.com/Dans-labs/clariah-gm/blob/master/docs/transcription.md\" title=\"~/text-fabric-data/Dans-labs/clariah-gm/tf/0.5/year.tf\">year</a><br><b><i><a target=\"_blank\" href=\"https://github.com/Dans-labs/clariah-gm/blob/master/docs/transcription.md\" title=\"~/text-fabric-data/Dans-labs/clariah-gm/tf/0.5/oslots.tf\">oslots</a></i></b><br></details>"
      ],
      "text/plain": [
       "<IPython.core.display.HTML object>"
      ]
     },
     "metadata": {},
     "output_type": "display_data"
    },
    {
     "data": {
      "text/html": [
       "<style>tr.tf.ltr, td.tf.ltr, th.tf.ltr { text-align: left ! important;}\n",
       "tr.tf.rtl, td.tf.rtl, th.tf.rtl { text-align: right ! important;}\n",
       "@font-face {\n",
       "  font-family: \"Gentium Plus\";\n",
       "  src: local('Gentium Plus'), local('GentiumPlus'),\n",
       "    url('/server/static/fonts/GentiumPlus-R.woff') format('woff'),\n",
       "    url('https://github.com/annotation/text-fabric/blob/master/tf/server/static/fonts/GentiumPlus-R.woff?raw=true') format('woff');\n",
       "}\n",
       "\n",
       "@font-face {\n",
       "  font-family: \"Ezra SIL\";\n",
       "  src: local('Ezra SIL'), local('EzraSIL'),\n",
       "    url('/server/static/fonts/SILEOT.woff') format('woff'),\n",
       "    url('https://github.com/annotation/text-fabric/blob/master/tf/server/static/fonts/SILEOT.woff?raw=true') format('woff');\n",
       "}\n",
       "\n",
       "@font-face {\n",
       "  font-family: \"SBL Hebrew\";\n",
       "  src: local('SBL Hebrew'), local('SBLHebrew'),\n",
       "    url('/server/static/fonts/SBL_Hbrw.woff') format('woff'),\n",
       "    url('https://github.com/annotation/text-fabric/blob/master/tf/server/static/fonts/SBL_Hbrw.woff?raw=true') format('woff');\n",
       "}\n",
       "\n",
       "@font-face {\n",
       "  font-family: \"Estrangelo Edessa\";\n",
       "  src: local('Estrangelo Edessa'), local('EstrangeloEdessa');\n",
       "    url('/server/static/fonts/SyrCOMEdessa.woff') format('woff'),\n",
       "    url('https://github.com/annotation/text-fabric/blob/master/tf/server/static/fonts/SyrCOMEdessa.woff?raw=true') format('woff');\n",
       "}\n",
       "\n",
       "@font-face {\n",
       "  font-family: AmiriQuran;\n",
       "  font-style: normal;\n",
       "  font-weight: 400;\n",
       "  src: local('Amiri Quran'), local('AmiriQuran'),\n",
       "    url('/server/static/fonts/AmiriQuran.woff') format('woff'),\n",
       "    url('https://github.com/annotation/text-fabric/blob/master/tf/server/static/fonts/AmiriQuran.woff?raw=true') format('woff');\n",
       "}\n",
       "\n",
       "@font-face {\n",
       "  font-family: AmiriQuranColored;\n",
       "  font-style: normal;\n",
       "  font-weight: 400;\n",
       "  src: local('Amiri Quran Colored'), local('AmiriQuranColored'),\n",
       "    url('/server/static/fonts/AmiriQuranColored.woff') format('woff'),\n",
       "    url('https://github.com/annotation/text-fabric/blob/master/tf/server/static/fonts/AmiriQuranColored.woff?raw=true') format('woff');\n",
       "}\n",
       "\n",
       "@font-face {\n",
       "  font-family: \"Santakku\";\n",
       "  src: local('Santakku'),\n",
       "    url('/server/static/fonts/Santakku.woff') format('woff'),\n",
       "    url('https://github.com/annotation/text-fabric/blob/master/tf/server/static/fonts/Santakku.woff?raw=true') format('woff');\n",
       "}\n",
       "\n",
       "@font-face {\n",
       "  font-family: \"SantakkuM\";\n",
       "  src: local('SantakkuM'),\n",
       "    url('/server/static/fonts/SantakkuM.woff') format('woff'),\n",
       "    url('https://github.com/annotation/text-fabric/blob/master/tf/server/static/fonts/SantakkuM.woff?raw=true') format('woff');\n",
       "}\n",
       "/* bypassing some classical notebook settings */\n",
       "div#notebook {\n",
       "  line-height: unset;\n",
       "}\n",
       "/* neutral text */\n",
       ".txtn,.txtn a:visited,.txtn a:link {\n",
       "    font-family: sans-serif;\n",
       "    font-size: medium;\n",
       "    direction: ltr;\n",
       "    unicode-bidi: embed;\n",
       "    text-decoration: none;\n",
       "    color: var(--text-color);\n",
       "}\n",
       "/* transcription text */\n",
       ".txtt,.txtt a:visited,.txtt a:link {\n",
       "    font-family: monospace;\n",
       "    font-size: medium;\n",
       "    direction: ltr;\n",
       "    unicode-bidi: embed;\n",
       "    text-decoration: none;\n",
       "    color: var(--text-color);\n",
       "}\n",
       "/* source text */\n",
       ".txto,.txto a:visited,.txto a:link {\n",
       "    font-family: serif;\n",
       "    font-size: medium;\n",
       "    direction: ltr;\n",
       "    unicode-bidi: embed;\n",
       "    text-decoration: none;\n",
       "    color: var(--text-color);\n",
       "}\n",
       "/* phonetic text */\n",
       ".txtp,.txtp a:visited,.txtp a:link {\n",
       "    font-family: Gentium, sans-serif;\n",
       "    font-size: medium;\n",
       "    direction: ltr;\n",
       "    unicode-bidi: embed;\n",
       "    text-decoration: none;\n",
       "    color: var(--text-color);\n",
       "}\n",
       "/* original script text */\n",
       ".txtu,.txtu a:visited,.txtu a:link {\n",
       "    font-family: Gentium, sans-serif;\n",
       "    font-size: medium;\n",
       "    text-decoration: none;\n",
       "    color: var(--text-color);\n",
       "}\n",
       "/* hebrew */\n",
       ".txtu.hbo,.lex.hbo {\n",
       "    font-family: \"Ezra SIL\", \"SBL Hebrew\", sans-serif;\n",
       "    font-size: large;\n",
       "    direction: rtl ! important;\n",
       "    unicode-bidi: embed;\n",
       "}\n",
       "/* syriac */\n",
       ".txtu.syc,.lex.syc {\n",
       "    font-family: \"Estrangelo Edessa\", sans-serif;\n",
       "    font-size: medium;\n",
       "    direction: rtl ! important;\n",
       "    unicode-bidi: embed;\n",
       "}\n",
       "/* neo aramaic */\n",
       ".txtu.cld,.lex.cld {\n",
       "    font-family: \"CharisSIL-R\", sans-serif;\n",
       "    font-size: medium;\n",
       "    direction: ltr ! important;\n",
       "    unicode-bidi: embed;\n",
       "}\n",
       "/* standard arabic */\n",
       ".txtu.ara,.lex.ara {\n",
       "    font-family: \"AmiriQuran\", sans-serif;\n",
       "    font-size: large;\n",
       "    direction: rtl ! important;\n",
       "    unicode-bidi: embed;\n",
       "}\n",
       "/* cuneiform */\n",
       ".txtu.akk,.lex.akk {\n",
       "    font-family: Santakku, sans-serif;\n",
       "    font-size: large;\n",
       "    direction: ltr ! important;\n",
       "    unicode-bidi: embed;\n",
       "}\n",
       "/* greek */\n",
       ".txtu.grc,.lex.grc a:link {\n",
       "    font-family: Gentium, sans-serif;\n",
       "    font-size: medium;\n",
       "    direction: ltr ! important;\n",
       "    unicode-bidi: embed;\n",
       "}\n",
       "a:hover {\n",
       "    text-decoration: underline | important;\n",
       "    color: #0000ff | important;\n",
       "}\n",
       ".ltr {\n",
       "    direction: ltr ! important;\n",
       "    unicode-bidi: embed;\n",
       "}\n",
       ".rtl {\n",
       "    direction: rtl ! important;\n",
       "    unicode-bidi: embed;\n",
       "}\n",
       ".ubd {\n",
       "    unicode-bidi: embed;\n",
       "}\n",
       ".col {\n",
       "   display: inline-block;\n",
       "}\n",
       ".features {\n",
       "    font-family: monospace;\n",
       "    font-size: medium;\n",
       "    font-weight: bold;\n",
       "    color: var(--features);\n",
       "    display: flex;\n",
       "    flex-flow: column nowrap;\n",
       "    justify-content: flex-start;\n",
       "    align-items: flex-start;\n",
       "    align-content: flex-start;\n",
       "    padding: 2px;\n",
       "    margin: 2px;\n",
       "    direction: ltr;\n",
       "    unicode-bidi: embed;\n",
       "    border: var(--meta-width) solid var(--meta-color);\n",
       "    border-radius: var(--meta-width);\n",
       "}\n",
       ".features div,.features span {\n",
       "    padding: 0;\n",
       "    margin: -2px 0;\n",
       "}\n",
       ".features .f {\n",
       "    font-family: sans-serif;\n",
       "    font-size: small;\n",
       "    font-weight: normal;\n",
       "    color: #5555bb;\n",
       "}\n",
       ".features .xft {\n",
       "  color: #000000;\n",
       "  background-color: #eeeeee;\n",
       "  font-size: medium;\n",
       "  margin: 2px 0px;\n",
       "}\n",
       ".features .xft .f {\n",
       "  color: #000000;\n",
       "  background-color: #eeeeee;\n",
       "  font-size: small;\n",
       "  font-weight: normal;\n",
       "}\n",
       ".section {\n",
       "    font-family: sans-serif;\n",
       "    font-size: small;\n",
       "    font-weight: bold;\n",
       "    color: var(--section);\n",
       "    unicode-bidi: embed;\n",
       "    text-align: start;\n",
       "}\n",
       ".structure {\n",
       "    font-family: sans-serif;\n",
       "    font-size: small;\n",
       "    font-weight: bold;\n",
       "    color: var(--structure);\n",
       "    unicode-bidi: embed;\n",
       "    text-align: start;\n",
       "}\n",
       ".comments {\n",
       "    display: flex;\n",
       "    justify-content: flex-start;\n",
       "    align-items: flex-start;\n",
       "    align-content: flex-start;\n",
       "    flex-flow: column nowrap;\n",
       "}\n",
       ".nd, a:link.nd {\n",
       "    font-family: sans-serif;\n",
       "    font-size: small;\n",
       "    color: var(--node);\n",
       "    vertical-align: super;\n",
       "    direction: ltr ! important;\n",
       "    unicode-bidi: embed;\n",
       "}\n",
       ".lex {\n",
       "  color: var(--lex-color);;\n",
       "}\n",
       ".children,.children.ltr {\n",
       "    display: flex;\n",
       "    border: 0;\n",
       "    background-color: #ffffff;\n",
       "    justify-content: flex-start;\n",
       "    align-items: flex-start;\n",
       "    align-content: flex-start;\n",
       "}\n",
       ".children.stretch {\n",
       "    align-items: stretch;\n",
       "}\n",
       ".children.hor {\n",
       "    flex-flow: row nowrap;\n",
       "}\n",
       ".children.hor.wrap {\n",
       "    flex-flow: row wrap;\n",
       "}\n",
       ".children.ver {\n",
       "    flex-flow: column nowrap;\n",
       "}\n",
       ".children.ver.wrap {\n",
       "    flex-flow: column wrap;\n",
       "}\n",
       ".contnr {\n",
       "    width: fit-content;\n",
       "    display: flex;\n",
       "    justify-content: flex-start;\n",
       "    align-items: flex-start;\n",
       "    align-content: flex-start;\n",
       "    flex-flow: column nowrap;\n",
       "    background: #ffffff none repeat scroll 0 0;\n",
       "    padding:  10px 2px 2px 2px;\n",
       "    margin: 16px 2px 2px 2px;\n",
       "    border-style: solid;\n",
       "    font-size: small;\n",
       "}\n",
       ".contnr.trm {\n",
       "    background-attachment: local;\n",
       "}\n",
       ".contnr.cnul {\n",
       "    padding:  0;\n",
       "    margin: 0;\n",
       "    border-style: solid;\n",
       "    font-size: xx-small;\n",
       "}\n",
       ".contnr.cnul,.lbl.cnul {\n",
       "    border-color: var(--border-color-nul);\n",
       "    border-width: var(--border-width-nul);\n",
       "    border-radius: var(--border-width-nul);\n",
       "}\n",
       ".contnr.c0,.lbl.c0 {\n",
       "    border-color: var(--border-color0);\n",
       "    border-width: var(--border-width0);\n",
       "    border-radius: var(--border-width0);\n",
       "}\n",
       ".contnr.c1,.lbl.c1 {\n",
       "    border-color: var(--border-color1);\n",
       "    border-width: var(--border-width1);\n",
       "    border-radius: var(--border-width1);\n",
       "}\n",
       ".contnr.c2,.lbl.c2 {\n",
       "    border-color: var(--border-color2);\n",
       "    border-width: var(--border-width2);\n",
       "    border-radius: var(--border-width2);\n",
       "}\n",
       ".contnr.c3,.lbl.c3 {\n",
       "    border-color: var(--border-color3);\n",
       "    border-width: var(--border-width3);\n",
       "    border-radius: var(--border-width3);\n",
       "}\n",
       ".contnr.c4,.lbl.c4 {\n",
       "    border-color: var(--border-color4);\n",
       "    border-width: var(--border-width4);\n",
       "    border-radius: var(--border-width4);\n",
       "}\n",
       "span.plain {\n",
       "    display: inline-block;\n",
       "    white-space: pre-wrap;\n",
       "}\n",
       ".plain {\n",
       "    background-color: #ffffff;\n",
       "}\n",
       ".plain.l,.contnr.l,.contnr.l>.lbl {\n",
       "    border-left-style: dotted\n",
       "}\n",
       ".plain.r,.contnr.r,.contnr.r>.lbl {\n",
       "    border-right-style: dotted\n",
       "}\n",
       ".plain.lno,.contnr.lno,.contnr.lno>.lbl {\n",
       "    border-left-style: none\n",
       "}\n",
       ".plain.rno,.contnr.rno,.contnr.rno>.lbl {\n",
       "    border-right-style: none\n",
       "}\n",
       ".plain.l {\n",
       "    padding-left: 4px;\n",
       "    margin-left: 2px;\n",
       "    border-width: var(--border-width-plain);\n",
       "}\n",
       ".plain.r {\n",
       "    padding-right: 4px;\n",
       "    margin-right: 2px;\n",
       "    border-width: var(--border-width-plain);\n",
       "}\n",
       ".lbl {\n",
       "    font-family: monospace;\n",
       "    margin-top: -24px;\n",
       "    margin-left: 20px;\n",
       "    background: #ffffff none repeat scroll 0 0;\n",
       "    padding: 0 6px;\n",
       "    border-style: solid;\n",
       "    display: block;\n",
       "    color: var(--label)\n",
       "}\n",
       ".lbl.trm {\n",
       "    background-attachment: local;\n",
       "    margin-top: 2px;\n",
       "    margin-left: 2px;\n",
       "    padding: 2px 2px;\n",
       "    border-style: none;\n",
       "}\n",
       ".lbl.cnul {\n",
       "    font-size: xx-small;\n",
       "}\n",
       ".lbl.c0 {\n",
       "    font-size: small;\n",
       "}\n",
       ".lbl.c1 {\n",
       "    font-size: small;\n",
       "}\n",
       ".lbl.c2 {\n",
       "    font-size: medium;\n",
       "}\n",
       ".lbl.c3 {\n",
       "    font-size: medium;\n",
       "}\n",
       ".lbl.c4 {\n",
       "    font-size: large;\n",
       "}\n",
       ".occs, a:link.occs {\n",
       "    font-size: small;\n",
       "}\n",
       "\n",
       "/* PROVENANCE */\n",
       "\n",
       "div.prov {\n",
       "\tmargin: 40px;\n",
       "\tpadding: 20px;\n",
       "\tborder: 2px solid var(--fog-rim);\n",
       "}\n",
       "div.pline {\n",
       "\tdisplay: flex;\n",
       "\tflex-flow: row nowrap;\n",
       "\tjustify-content: stretch;\n",
       "\talign-items: baseline;\n",
       "}\n",
       "div.p2line {\n",
       "\tmargin-left: 2em;\n",
       "\tdisplay: flex;\n",
       "\tflex-flow: row nowrap;\n",
       "\tjustify-content: stretch;\n",
       "\talign-items: baseline;\n",
       "}\n",
       "div.psline {\n",
       "\tdisplay: flex;\n",
       "\tflex-flow: row nowrap;\n",
       "\tjustify-content: stretch;\n",
       "\talign-items: baseline;\n",
       "\tbackground-color: var(--gold-mist-back);\n",
       "}\n",
       "div.pname {\n",
       "\tflex: 0 0 5rem;\n",
       "\tfont-weight: bold;\n",
       "}\n",
       "div.pval {\n",
       "    flex: 1 1 auto;\n",
       "}\n",
       "\n",
       ":root {\n",
       "\t--node:               hsla(120, 100%,  20%, 1.0  );\n",
       "\t--label:              hsla(  0, 100%,  20%, 1.0  );\n",
       "\t--section:            hsla(  0, 100%,  25%, 1.0  );\n",
       "\t--structure:          hsla(120, 100%,  25%, 1.0  );\n",
       "\t--features:           hsla(  0,   0%,  30%, 1.0  );\n",
       "  --text-color:         hsla( 60,  80%,  10%, 1.0  );\n",
       "  --lex-color:          hsla(220,  90%,  60%, 1.0  );\n",
       "  --meta-color:         hsla(  0,   0%,  90%, 0.7  );\n",
       "  --meta-width:         3px;\n",
       "  --border-color-nul:   hsla(  0,   0%,  90%, 0.5  );\n",
       "  --border-color0:      hsla(  0,   0%,  90%, 0.9  );\n",
       "  --border-color1:      hsla(  0,   0%,  80%, 0.9  );\n",
       "  --border-color2:      hsla(  0,   0%,  70%, 0.9  );\n",
       "  --border-color3:      hsla(  0,   0%,  80%, 0.8  );\n",
       "  --border-color4:      hsla(  0,   0%,  60%, 0.9  );\n",
       "  --border-width-nul:   2px;\n",
       "  --border-width0:      2px;\n",
       "  --border-width1:      3px;\n",
       "  --border-width2:      4px;\n",
       "  --border-width3:      6px;\n",
       "  --border-width4:      5px;\n",
       "  --border-width-plain: 2px;\n",
       "}\n",
       ".hl {\n",
       "  background-color: var(--hl-strong);\n",
       "}\n",
       "span.hl {\n",
       "\tbackground-color: var(--hl-strong);\n",
       "\tborder-width: 0;\n",
       "\tborder-radius: 2px;\n",
       "\tborder-style: solid;\n",
       "}\n",
       "div.contnr.hl,div.lbl.hl {\n",
       "  background-color: var(--hl-strong);\n",
       "}\n",
       "div.contnr.hl {\n",
       "  border-color: var(--hl-rim) ! important;\n",
       "\tborder-width: 4px ! important;\n",
       "}\n",
       "\n",
       "span.hlbx {\n",
       "\tborder-color: var(--hl-rim);\n",
       "\tborder-width: 4px ! important;\n",
       "\tborder-style: solid;\n",
       "\tborder-radius: 6px;\n",
       "  padding: 4px;\n",
       "  margin: 4px;\n",
       "}\n",
       "\n",
       "span.plain {\n",
       "  display: inline-block;\n",
       "  white-space: pre-wrap;\n",
       "}\n",
       "\n",
       ":root {\n",
       "\t--hl-strong:        hsla( 60, 100%,  70%, 0.9  );\n",
       "\t--hl-rim:           hsla( 55,  80%,  50%, 1.0  );\n",
       "}\n",
       ".remark {\n",
       "  font-size: large;\n",
       "  font-style: italic;\n",
       "}\n",
       ".folio {\n",
       "  font-size: small;\n",
       "  color: #668866;\n",
       "}\n",
       ".fmark:after {\n",
       "  font-size: small;\n",
       "  font-weight: bold;\n",
       "  vertical-align: super;\n",
       "  color: #ddaa22;\n",
       "}\n",
       ".fbody {\n",
       "  vertical-align: super;\n",
       "  font-size: small;\n",
       "  color: #774400;\n",
       "}\n",
       ".ref {\n",
       "  font-size: small;\n",
       "  font-weight: bold;\n",
       "  color: #666688;\n",
       "}\n",
       ".emph {\n",
       "  font-style: italic;\n",
       "}\n",
       ".und {\n",
       "  text-decoration: underline;\n",
       "}\n",
       ".super {\n",
       "  vertical-align: super;\n",
       "}\n",
       ".special {\n",
       "  font-family: monospace;\n",
       "  font-weight: bold;\n",
       "  color: #886666;\n",
       "}\n",
       "</style>"
      ],
      "text/plain": [
       "<IPython.core.display.HTML object>"
      ]
     },
     "metadata": {},
     "output_type": "display_data"
    },
    {
     "data": {
      "text/html": [
       "<div><b>Text-Fabric API:</b> names <a target=\"_blank\" href=\"https://annotation.github.io/text-fabric/cheatsheet.html\" title=\"doc\">N F E L T S C TF</a> directly usable</div><hr>"
      ],
      "text/plain": [
       "<IPython.core.display.HTML object>"
      ]
     },
     "metadata": {},
     "output_type": "display_data"
    }
   ],
   "source": [
    "A = use(\"missieven\", hoist=globals())\n",
    "# A = use(\"missieven:latest\", checkout=\"latest\", hoist=globals())\n",
    "# A = use('missieven:clone', checkout=\"clone\", hoist=globals())"
   ]
  },
  {
   "cell_type": "markdown",
   "metadata": {},
   "source": [
    "# Making data\n",
    "\n",
    "We illustrate the data creation part by creating a new feature, `number`.\n",
    "The idea is that we compute a number value for each word that looks like a number,\n",
    "but that contains OCR errors."
   ]
  },
  {
   "cell_type": "markdown",
   "metadata": {},
   "source": [
    "We keep things simple.\n",
    "\n",
    "We are interested in words that contain only digits and letters, and where the number of digits is greater than de number of letters.\n",
    "We exclude words that consist of digits only.\n",
    "\n",
    "We only work in original letter content.\n",
    "\n",
    "Let's find them by hand coding."
   ]
  },
  {
   "cell_type": "code",
   "execution_count": 4,
   "metadata": {},
   "outputs": [],
   "source": [
    "import re\n",
    "import collections"
   ]
  },
  {
   "cell_type": "code",
   "execution_count": 5,
   "metadata": {},
   "outputs": [
    {
     "name": "stdout",
     "output_type": "stream",
     "text": [
      "[8766, 23338, 24823, 25720, 29841, 30844, 30850, 91870, 96367, 101781]\n"
     ]
    },
    {
     "data": {
      "text/plain": [
       "4713"
      ]
     },
     "execution_count": 5,
     "metadata": {},
     "output_type": "execute_result"
    }
   ],
   "source": [
    "results = []\n",
    "\n",
    "digitRe = re.compile(r\"[0-9]\")\n",
    "\n",
    "for w in F.otype.s(\"word\"):\n",
    "    chars = F.transo.v(w)\n",
    "    if not chars:\n",
    "        continue\n",
    "    (letters, nDigits) = digitRe.subn(\"\", chars)\n",
    "    nLetters = len(chars) - nDigits\n",
    "    if nLetters and nDigits > nLetters:\n",
    "        results.append(w)\n",
    "        \n",
    "print(results[0:10])\n",
    "len(results)"
   ]
  },
  {
   "cell_type": "markdown",
   "metadata": {},
   "source": [
    "It happens quite a bit.\n",
    "\n",
    "Let's have a quick look at the text of the results"
   ]
  },
  {
   "cell_type": "code",
   "execution_count": 6,
   "metadata": {},
   "outputs": [
    {
     "name": "stdout",
     "output_type": "stream",
     "text": [
      "0001b\n",
      "0001b\n",
      "0001b\n",
      "0001b\n",
      "0001b\n",
      "000©\n",
      "022H\n",
      "03£\n",
      "042V2\n",
      "051|\n",
      "052J\n",
      "053f\n",
      "053f\n",
      "062|\n",
      "0753A\n",
      "084|\n",
      "086j\n",
      "087|\n",
      "090§\n",
      "09f\n"
     ]
    }
   ],
   "source": [
    "print(\"\\n\".join(sorted(F.transo.v(w) for w in results)[0:20]))"
   ]
  },
  {
   "cell_type": "markdown",
   "metadata": {},
   "source": [
    "We want to map characters to digits.\n",
    "To get a feel for that, inventarize the characters that occur in these words.\n",
    "\n",
    "For each character, count how often it occurs and give at most 10 examples."
   ]
  },
  {
   "cell_type": "code",
   "execution_count": 7,
   "metadata": {},
   "outputs": [
    {
     "data": {
      "text/plain": [
       "59"
      ]
     },
     "execution_count": 7,
     "metadata": {},
     "output_type": "execute_result"
    }
   ],
   "source": [
    "inventory = collections.defaultdict(list)\n",
    "\n",
    "for w in results:\n",
    "    for c in (trans := F.transo.v(w)) :\n",
    "        if not c.isdigit():\n",
    "            inventory[c].append(trans)\n",
    "            \n",
    "len(inventory)"
   ]
  },
  {
   "cell_type": "markdown",
   "metadata": {},
   "source": [
    "Quite a bit of different characters."
   ]
  },
  {
   "cell_type": "code",
   "execution_count": 8,
   "metadata": {},
   "outputs": [
    {
     "name": "stdout",
     "output_type": "stream",
     "text": [
      "? (  15x) 12?, 144?, 1617?, 16?, 18?, 19?, 286?, 29?, 31?, 413?\n",
      "A (   9x) 0753A, 13A, 273A, 343A, 3933A, 423A, 43A, 4743A, 553A\n",
      "C (   1x) 540C3\n",
      "D (   1x) 1685De\n",
      "E (   1x) 194845En\n",
      "H (   4x) 022H, 22H, 2328H, 252H\n",
      "I (   5x) 217IM, I299v, I85, I85, I85\n",
      "J (  96x) 052J, 1079J, 1092J, 10J, 10J, 110J, 115J, 1191J, 11J, 121378J\n",
      "M (   3x) 217IM, 4047M, 564M\n",
      "O (   4x) 1671Op, 27O4508, O86V2, ÏO011\n",
      "P (   1x) P10\n",
      "S (   1x) 16S6\n",
      "U (   1x) 1U8\n",
      "V (  76x) 042V2, 1014V2, 1019V2, 1062V4, 1062V4, 10V5, 12V2, 1364V2, 13V2, 14V2\n",
      "a (   5x) 10a, 11a, 11a, 13a, 1684dat\n",
      "b (  26x) 0001b, 0001b, 0001b, 0001b, 0001b, 1156bls, 121b, 121b, 121b, 121b\n",
      "c (  59x) 10c, 12c, 12c, 13c, 13c, 13c, 14c, 14c, 14c, 15c\n",
      "d (  14x) 100d, 14101de, 1684dat, 29d, d08, d08, d08, d08, d08, d08\n",
      "e (2951x) 10e, 10e, 10e, 10e, 10e, 10e, 10e, 10e, 10e, 10e\n",
      "f (  58x) 053f, 053f, 09f, 102f, 108f, 121f, 1222f, 137f, 14f, 14f\n",
      "g (   9x) 16g, 22g, 28g, 36g, 430g, 6000g, 600g, 705g, 74g\n",
      "h (   2x) 42h, 605h\n",
      "i (   4x) 302061in, 496159in, 7897io, 8337tis\n",
      "j (  24x) 086j, 1023j, 12j, 14j, 14j, 16j, 176j, 236j, 30j, 31j\n",
      "l (   1x) 1156bls\n",
      "m (   1x) 366m\n",
      "n (  44x) 10n, 10n, 10n, 10n, 14n, 14n, 150599en, 15n, 15n, 15n\n",
      "o (   9x) 24o, 24o, 36o, 36o, 438834V36o, 48o, 5622tot, 5957V3óo, 7897io\n",
      "p (   2x) 1419p, 1671Op\n",
      "q (   1x) 2901§§q\n",
      "r (  24x) 128r, 1300r, 1394rv, 1427r, 149r, 189r, 202r, 20r, 2182r, 256r\n",
      "s (   6x) 1156bls, 167s, 336s, 4395Vs, 50s, 8337tis\n",
      "t (   8x) 1684dat, 22t, 4t0, 520t, 5622tot, 5622tot, 6t0, 8337tis\n",
      "u (   2x) 21u, 417u\n",
      "v (  20x) 124v, 1394rv, 1426v, 148v, 15v, 15v, 16v, 19v, 212v, 286v\n",
      "x (   4x) 10x, 18x, 31x, 34x\n",
      "| ( 232x) 051|, 062|, 084|, 087|, 1034|, 104|, 104|, 106|, 108|, 10|\n",
      "£ (  51x) 03£, 10£, 10£, 10£, 11£, 12£, 14£, 14£, 14£, 16£\n",
      "§ (  49x) 090§, 10§, 10§, 10§, 1216§, 1372|§, 139§, 146§, 14§, 166§\n",
      "© (   1x) 000©\n",
      "® (  25x) 1000®, 10®, 10®, 125®, 15®, 16®, 1719®, 1®11, 2000®, 20®\n",
      "° (  10x) 16°, 17°, 20°, 24°, 24°, 25°, 28°, 30°, 51°, °1677\n",
      "± (   4x) 16±, 28±, 32±, 97±\n",
      "Ï (   2x) 143Ï, ÏO011\n",
      "Ö (   1x) Ö00\n",
      "Ü (   4x) 2328Ü, 516Ü, 659Ü, 929Ü\n",
      "è (   2x) è60, è70\n",
      "ï (   8x) 10ï, 166ï, 24ï, 28ï, 292ï, 29ï, 42ï, 8ï4\n",
      "ó (   3x) 169Vó, 25ó, 5957V3óo\n",
      "ö (   2x) 189öf, 2ö00\n",
      "ƒ ( 760x) 12ƒ, 14ƒ, 1753ƒ, 17ƒ, 19ƒ, 8ƒ294, ƒ10, ƒ10, ƒ100, ƒ1002\n",
      "— (   2x) 1—151, 568—\n",
      "‘ (   1x) 6440‘\n",
      "’ (  68x) 36’, d’480, ’19, ’20, ’29, ’34, ’34, ’35, ’35, ’35\n",
      "“ (   1x) 29“\n",
      "” (   1x) 1681”\n",
      "„ (  36x) 12143„, 13757„, 1637„, 3096„, 3546„, 44246„, 615„, „10, „114, „116\n",
      "™ (   1x) 30™\n",
      "⌊ (   1x) 1706⌊\n"
     ]
    }
   ],
   "source": [
    "for c in sorted(inventory):\n",
    "    examples = inventory[c]\n",
    "    n = len(examples)\n",
    "    showExamples = \", \".join(sorted(examples)[0:10])\n",
    "    print(f\"{c} ({n:>4}x) {showExamples}\")"
   ]
  },
  {
   "cell_type": "markdown",
   "metadata": {},
   "source": [
    "We decide to translate a few characters to numerals:"
   ]
  },
  {
   "cell_type": "code",
   "execution_count": 9,
   "metadata": {},
   "outputs": [],
   "source": [
    "charMapping = {\n",
    "    \"o\": 0,\n",
    "    \"ó\": 0,\n",
    "    \"ö\": 0,\n",
    "    \"Ö\": 0,\n",
    "    \"I\": 1,\n",
    "    \"J\": 1,\n",
    "    \"ï\": 1,\n",
    "    \"è\": 6,\n",
    "}"
   ]
  },
  {
   "cell_type": "markdown",
   "metadata": {},
   "source": [
    "Now we translate all numerals with this mapping, and if the result is numeric and does not start with a 0,\n",
    "we save the result in a mapping from nodes to numbers."
   ]
  },
  {
   "cell_type": "code",
   "execution_count": 10,
   "metadata": {},
   "outputs": [
    {
     "data": {
      "text/plain": [
       "114"
      ]
     },
     "execution_count": 10,
     "metadata": {},
     "output_type": "execute_result"
    }
   ],
   "source": [
    "def cmap(chars):\n",
    "    n = \"\".join(str(charMapping.get(c, c)) for c in chars)\n",
    "    return int(n) if not n.startswith(\"0\") and n.isdigit() else None\n",
    "\n",
    "number = {w: n for w in results if (n := cmap(F.transo.v(w)))}\n",
    "len(number)"
   ]
  },
  {
   "cell_type": "code",
   "execution_count": 11,
   "metadata": {},
   "outputs": [
    {
     "name": "stdout",
     "output_type": "stream",
     "text": [
      "{8766: 1151, 322645: 670, 332649: 94001, 333016: 131, 348823: 141, 348866: 20621, 358665: 121, 379728: 121, 381859: 128181, 381981: 1241, 384014: 141, 409360: 621, 410996: 1241, 411687: 631, 418312: 3191, 418540: 9581, 428528: 8191, 431193: 10791, 441991: 8541, 475571: 261, 475586: 331, 477235: 6121, 498052: 77841, 553889: 261, 554402: 4021, 554408: 501, 562270: 261, 586670: 1741, 599356: 15301, 606981: 65931, 678204: 3231, 678394: 5021, 930381: 10921, 955832: 1371, 975797: 52141, 978183: 49141, 986212: 2000, 987236: 72771, 1022027: 4061, 1072569: 161, 1077394: 101, 1093899: 191, 1097363: 201, 1108016: 660, 1124802: 3501, 1127964: 171, 1130756: 111, 1130944: 141, 1142192: 8421, 1144960: 32091, 1162324: 121, 1171161: 75621, 1211901: 121, 1229530: 131, 1235029: 421, 1235211: 421, 1253880: 371, 1260298: 161, 1273837: 2228491, 1319370: 161, 1319377: 361, 1319542: 361, 1319558: 361, 1319567: 101, 1326322: 2981, 1416551: 1101, 1422448: 421, 1514402: 2501, 1529339: 151, 1542402: 4041, 1542414: 1441, 1572696: 721, 1686476: 1213781, 1704038: 1441, 1728274: 98771, 1728281: 977381, 1728283: 167081, 1795397: 925981, 1804842: 15361, 1812348: 181, 1929832: 541, 1964905: 701, 1965065: 621, 1965237: 901, 1965291: 731, 1965301: 911, 1965309: 761, 1965345: 561, 2041253: 1321, 2041257: 361, 2041324: 361, 2176187: 151, 2202785: 121, 2742518: 240, 2765744: 480, 2765790: 240, 2790385: 360, 2790417: 360, 2834294: 250, 3498029: 185, 3613961: 9961, 3879484: 101, 3924402: 185, 3980963: 241, 4055154: 2991, 4069582: 281, 4147485: 291, 4147970: 2921, 4185974: 421, 4204164: 814, 4314016: 1661, 4583191: 121, 4783752: 185, 4936223: 11911}\n"
     ]
    }
   ],
   "source": [
    "print(number)"
   ]
  },
  {
   "cell_type": "markdown",
   "metadata": {},
   "source": [
    "# Saving data\n",
    "\n",
    "In [annotate](annotate.ipynb) we saw how to save features.\n",
    "We do the same for the `number` feature."
   ]
  },
  {
   "cell_type": "code",
   "execution_count": 12,
   "metadata": {},
   "outputs": [],
   "source": [
    "import os"
   ]
  },
  {
   "cell_type": "code",
   "execution_count": 13,
   "metadata": {},
   "outputs": [],
   "source": [
    "GITHUB = os.path.expanduser('~/github')\n",
    "ORG = 'annotation'\n",
    "REPO = 'tutorials'\n",
    "PATH = 'missieven/exercises/numerics'\n",
    "VERSION = A.version"
   ]
  },
  {
   "cell_type": "markdown",
   "metadata": {},
   "source": [
    "Later on, we pass this version on, so that users of our data will get the shared data in exactly the same version as their core data."
   ]
  },
  {
   "cell_type": "markdown",
   "metadata": {},
   "source": [
    "We have to specify a bit of metadata for this feature:"
   ]
  },
  {
   "cell_type": "code",
   "execution_count": 14,
   "metadata": {},
   "outputs": [],
   "source": [
    "metaData = {\n",
    "  'number': dict(\n",
    "    valueType='int',\n",
    "    description='numeric value of corrected number-like strings',\n",
    "    creator='Dirk Roorda',\n",
    "  ),\n",
    "}"
   ]
  },
  {
   "cell_type": "markdown",
   "metadata": {},
   "source": [
    "Now we can give the save command:"
   ]
  },
  {
   "cell_type": "code",
   "execution_count": 15,
   "metadata": {},
   "outputs": [
    {
     "name": "stdout",
     "output_type": "stream",
     "text": [
      "  0.00s Exporting 1 node and 0 edge and 0 config features to ~/github/annotation/tutorials/missieven/exercises/numerics/tf/0.5:\n",
      "   |     0.00s T number               to ~/github/annotation/tutorials/missieven/exercises/numerics/tf/0.5\n",
      "  0.00s Exported 1 node features and 0 edge features and 0 config features to ~/github/annotation/tutorials/missieven/exercises/numerics/tf/0.5\n"
     ]
    },
    {
     "data": {
      "text/plain": [
       "True"
      ]
     },
     "execution_count": 15,
     "metadata": {},
     "output_type": "execute_result"
    }
   ],
   "source": [
    "location = f'{GITHUB}/{ORG}/{REPO}/{PATH}/tf'\n",
    "TF.save(nodeFeatures=dict(number=number), metaData=metaData, location=location, module=VERSION)"
   ]
  },
  {
   "cell_type": "markdown",
   "metadata": {},
   "source": [
    "Here is the data in text-fabric format: a feature file"
   ]
  },
  {
   "cell_type": "code",
   "execution_count": 16,
   "metadata": {},
   "outputs": [
    {
     "name": "stdout",
     "output_type": "stream",
     "text": [
      "@node\n",
      "@creator=Dirk Roorda\n",
      "@description=numeric value of corrected number-like strings\n",
      "@valueType=int\n",
      "@writtenBy=Text-Fabric\n",
      "@dateWritten=2020-11-17T08:53:15Z\n",
      "\n",
      "8766\t1151\n",
      "322645\t670\n",
      "332649\t94001\n",
      "333016\t131\n",
      "348823\t141\n",
      "348866\t20621\n",
      "358665\t121\n",
      "379728\t121\n",
      "381859\t128181\n",
      "381981\t1241\n",
      "384014\t141\n",
      "409360\t621\n",
      "410996\t1241\n",
      "411687\t631\n",
      "418312\t3191\n",
      "418540\t9581\n",
      "428528\t8191\n",
      "431193\t10791\n",
      "441991\t8541\n",
      "475571\t261\n",
      "475586\t331\n",
      "477235\t6121\n",
      "498052\t77841\n",
      "553889\t261\n",
      "554402\t4021\n",
      "554408\t501\n",
      "562270\t261\n",
      "586670\t1741\n",
      "599356\t15301\n",
      "606981\t65931\n",
      "678204\t3231\n",
      "678394\t5021\n",
      "930381\t10921\n",
      "955832\t1371\n",
      "975797\t52141\n",
      "978183\t49141\n",
      "986212\t2000\n",
      "987236\t72771\n",
      "1022027\t4061\n",
      "1072569\t161\n",
      "1077394\t101\n",
      "1093899\t191\n",
      "1097363\t201\n",
      "1108016\t660\n",
      "1124802\t3501\n",
      "1127964\t171\n",
      "1130756\t111\n",
      "1130944\t141\n",
      "1142192\t8421\n",
      "1144960\t32091\n",
      "1162324\t121\n",
      "1171161\t75621\n",
      "1211901\t121\n",
      "1229530\t131\n",
      "1235029\t421\n",
      "1235211\t421\n",
      "1253880\t371\n",
      "1260298\t161\n",
      "1273837\t2228491\n",
      "1319370\t161\n",
      "1319377\t361\n",
      "1319542\t361\n",
      "1319558\t361\n",
      "1319567\t101\n",
      "1326322\t2981\n",
      "1416551\t1101\n",
      "1422448\t421\n",
      "1514402\t2501\n",
      "1529339\t151\n",
      "1542402\t4041\n",
      "1542414\t1441\n",
      "1572696\t721\n",
      "1686476\t1213781\n",
      "1704038\t1441\n",
      "1728274\t98771\n",
      "1728281\t977381\n",
      "1728283\t167081\n",
      "1795397\t925981\n",
      "1804842\t15361\n",
      "1812348\t181\n",
      "1929832\t541\n",
      "1964905\t701\n",
      "1965065\t621\n",
      "1965237\t901\n",
      "1965291\t731\n",
      "1965301\t911\n",
      "1965309\t761\n",
      "1965345\t561\n",
      "2041253\t1321\n",
      "2041257\t361\n",
      "2041324\t361\n",
      "2176187\t151\n",
      "2202785\t121\n",
      "2742518\t240\n",
      "2765744\t480\n",
      "2765790\t240\n",
      "2790385\t360\n",
      "2790417\t360\n",
      "2834294\t250\n",
      "3498029\t185\n",
      "3613961\t9961\n",
      "3879484\t101\n",
      "3924402\t185\n",
      "3980963\t241\n",
      "4055154\t2991\n",
      "4069582\t281\n",
      "4147485\t291\n",
      "4147970\t2921\n",
      "4185974\t421\n",
      "4204164\t814\n",
      "4314016\t1661\n",
      "4583191\t121\n",
      "4783752\t185\n",
      "4936223\t11911\n",
      "\n"
     ]
    }
   ],
   "source": [
    "with open(f\"{location}/{VERSION}/number.tf\") as fh:\n",
    "    print(fh.read())"
   ]
  },
  {
   "cell_type": "markdown",
   "metadata": {},
   "source": [
    "# Sharing data\n",
    "\n",
    "How to share your own data is explained in the\n",
    "[documentation](https://annotation.github.io/text-fabric/tf/about/datasharing.html).\n",
    "\n",
    "Here we show it step by step for the `number` feature.\n",
    "\n",
    "If you commit your changes to the exercises repo, and have done a `git push origin master`,\n",
    "you already have shared your data!\n",
    "\n",
    "**Keep it simple for small datasets:\n",
    "For small feature datasets, you are done.**\n",
    "\n",
    "If it gets serious, there is support for releases and efficient data transfer.\n",
    "Here is how:\n",
    "\n",
    "**Note (releases)**\n",
    "\n",
    "If you want to make a stable release, so that you can keep developing, while your users fall back\n",
    "on the stable data, you can make a new release.\n",
    "\n",
    "Go to the GitHub website for that, go to your repo, and click *Releases* and follow the nudges.\n",
    "\n",
    "**Note (release binaries)**\n",
    "\n",
    "If you want to make it even smoother for your users, you can zip the data and attach it as a binary to the release just created.\n",
    "\n",
    "We need to zip the data in exactly the right directory structure. Text-Fabric can do that for us.\n"
   ]
  },
  {
   "cell_type": "code",
   "execution_count": 17,
   "metadata": {},
   "outputs": [
    {
     "name": "stdout",
     "output_type": "stream",
     "text": [
      "True\n",
      "Create release data for annotation/tutorials/missieven/exercises/numerics/tf\n",
      "Found 2 versions\n",
      "zip files end up in ~/Downloads/annotation-release/tutorials\n",
      "zipping annotation/tutorials       0.4 with   1 features ==> missieven-exercises-numerics-tf-0.4.zip\n",
      "zipping annotation/tutorials       0.5 with   1 features ==> missieven-exercises-numerics-tf-0.5.zip\n"
     ]
    }
   ],
   "source": [
    "%%sh\n",
    "\n",
    "text-fabric-zip annotation/tutorials/missieven/exercises/numerics/tf"
   ]
  },
  {
   "cell_type": "markdown",
   "metadata": {},
   "source": [
    "All versions have been zipped, but it works OK if you only attach the newest version to the newest release.\n",
    "\n",
    "If a user asks for an older version in this release, the system can still find it."
   ]
  },
  {
   "cell_type": "markdown",
   "metadata": {},
   "source": [
    "# Use the data\n",
    "\n",
    "We can use the data by calling it up when we say `use('missieven', ...)`\n",
    "where we put in a data module argument on the dots.\n",
    "We will also call up the entity data we created in the [annotate](annotate.ipynb) chapter.\n",
    "\n",
    "Note that for each module we can specify flags like `:latest`, `:hot`, `clone`.\n",
    "\n",
    "If you are the author of the data, and want to test it, use `:clone`: it takes the data from where you saved it.\n",
    "\n",
    "If you are a new user of the data, use `:hot` (get latest commit) or `:latest` (get latest release)\n",
    "to download the data.\n",
    "\n",
    "If you have downloaded the data before, leave out the flag."
   ]
  },
  {
   "cell_type": "code",
   "execution_count": 19,
   "metadata": {},
   "outputs": [
    {
     "data": {
      "text/html": [
       "<b title=\"local release\">TF-app:</b> <span title=\"rv0.5=#8b8557ae1ed516f44322145378947eaadcf57b57 offline under ~/text-fabric-data\">~/text-fabric-data/annotation/app-missieven/code</span>"
      ],
      "text/plain": [
       "<IPython.core.display.HTML object>"
      ]
     },
     "metadata": {},
     "output_type": "display_data"
    },
    {
     "data": {
      "text/html": [
       "<b title=\"local release\">data:</b> <span title=\"rv0.5=#d2298304491de659ab1c5872c951844e7b99e91e offline under ~/text-fabric-data\">~/text-fabric-data/Dans-labs/clariah-gm/tf/0.5</span>"
      ],
      "text/plain": [
       "<IPython.core.display.HTML object>"
      ]
     },
     "metadata": {},
     "output_type": "display_data"
    },
    {
     "name": "stdout",
     "output_type": "stream",
     "text": [
      "rate limit is 5000 requests per hour, with 4648 left for this hour\n",
      "\tconnecting to online GitHub repo annotation/tutorials ... connected\n",
      "\tmissieven/exercises/numerics/tf/0.5/number.tf...downloaded\n",
      "\tOK\n"
     ]
    },
    {
     "data": {
      "text/html": [
       "<b title=\"latest commit\">data:</b> <span title=\"#8c1cd3d8ac418a2e2349b7c3e6d1524f56ffa67b\">~/text-fabric-data/annotation/tutorials/missieven/exercises/numerics/tf/0.5</span>"
      ],
      "text/plain": [
       "<IPython.core.display.HTML object>"
      ]
     },
     "metadata": {},
     "output_type": "display_data"
    },
    {
     "name": "stdout",
     "output_type": "stream",
     "text": [
      "rate limit is 5000 requests per hour, with 4641 left for this hour\n",
      "\tconnecting to online GitHub repo annotation/tutorials ... connected\n",
      "\tmissieven/exercises/entities/tf/0.5/entityComment.tf...downloaded\n",
      "\tmissieven/exercises/entities/tf/0.5/entityId.tf...downloaded\n",
      "\tmissieven/exercises/entities/tf/0.5/entityKind.tf...downloaded\n",
      "\tOK\n"
     ]
    },
    {
     "data": {
      "text/html": [
       "<b title=\"latest commit\">data:</b> <span title=\"#8c1cd3d8ac418a2e2349b7c3e6d1524f56ffa67b\">~/text-fabric-data/annotation/tutorials/missieven/exercises/entities/tf/0.5</span>"
      ],
      "text/plain": [
       "<IPython.core.display.HTML object>"
      ]
     },
     "metadata": {},
     "output_type": "display_data"
    },
    {
     "name": "stdout",
     "output_type": "stream",
     "text": [
      "   |     0.00s T entityComment        from ~/text-fabric-data/annotation/tutorials/missieven/exercises/entities/tf/0.5\n",
      "   |     0.00s T entityId             from ~/text-fabric-data/annotation/tutorials/missieven/exercises/entities/tf/0.5\n",
      "   |     0.00s T entityKind           from ~/text-fabric-data/annotation/tutorials/missieven/exercises/entities/tf/0.5\n",
      "   |     0.00s T number               from ~/text-fabric-data/annotation/tutorials/missieven/exercises/numerics/tf/0.5\n"
     ]
    },
    {
     "data": {
      "text/html": [
       "<b>Text-Fabric:</b> <a target=\"_blank\" href=\"https://annotation.github.io/text-fabric/cheatsheet.html\" title=\"text-fabric-api\">Text-Fabric API 8.4.5</a>, <a target=\"_blank\" href=\"https://github.com/annotation/app-missieven\" title=\"missieven TF-app\">app-missieven</a>, <a target=\"_blank\" href=\"https://annotation.github.io/text-fabric/about/searchusage.html\" title=\"Search Templates Introduction and Reference\">Search Reference</a><br><b>Data:</b> <a target=\"_blank\" href=\"https://github.com/Dans-labs/clariah-gm/blob/master/docs/transcription.md\" title=\"provenance of General Missives Dutch East India Company 1600-1800\">CLARIAH-GM</a>, <a target=\"_blank\" href=\"https://annotation.github.io/text-fabric/writing/.html\" title=\"How TF features represent text\">Character table</a>, <a target=\"_blank\" href=\"https://github.com/Dans-labs/clariah-gm/blob/master/docs/transcription.md\" title=\"CLARIAH-GM feature documentation\">Feature docs</a><br><b>Features:</b><br><details><summary><b>annotation/tutorials/missieven/exercises/entities/tf</b></summary><a target=\"_blank\" href=\"https://github.com/annotation/tutorials/tree/master/missieven/exercises/entities/tf\" title=\"~/text-fabric-data/annotation/tutorials/missieven/exercises/entities/tf/0.5/entityComment.tf\">entityComment</a><br><a target=\"_blank\" href=\"https://github.com/annotation/tutorials/tree/master/missieven/exercises/entities/tf\" title=\"~/text-fabric-data/annotation/tutorials/missieven/exercises/entities/tf/0.5/entityId.tf\">entityId</a><br><a target=\"_blank\" href=\"https://github.com/annotation/tutorials/tree/master/missieven/exercises/entities/tf\" title=\"~/text-fabric-data/annotation/tutorials/missieven/exercises/entities/tf/0.5/entityKind.tf\">entityKind</a><br></details><details><summary><b>General Missives Dutch East India Company 1600-1800</b></summary><a target=\"_blank\" href=\"https://github.com/Dans-labs/clariah-gm/blob/master/docs/transcription.md\" title=\"~/text-fabric-data/Dans-labs/clariah-gm/tf/0.5/author.tf\">author</a><br><a target=\"_blank\" href=\"https://github.com/Dans-labs/clariah-gm/blob/master/docs/transcription.md\" title=\"~/text-fabric-data/Dans-labs/clariah-gm/tf/0.5/authorFull.tf\">authorFull</a><br><a target=\"_blank\" href=\"https://github.com/Dans-labs/clariah-gm/blob/master/docs/transcription.md\" title=\"~/text-fabric-data/Dans-labs/clariah-gm/tf/0.5/col.tf\">col</a><br><a target=\"_blank\" href=\"https://github.com/Dans-labs/clariah-gm/blob/master/docs/transcription.md\" title=\"~/text-fabric-data/Dans-labs/clariah-gm/tf/0.5/day.tf\">day</a><br><a target=\"_blank\" href=\"https://github.com/Dans-labs/clariah-gm/blob/master/docs/transcription.md\" title=\"~/text-fabric-data/Dans-labs/clariah-gm/tf/0.5/emph.tf\">emph</a><br><a target=\"_blank\" href=\"https://github.com/Dans-labs/clariah-gm/blob/master/docs/transcription.md\" title=\"~/text-fabric-data/Dans-labs/clariah-gm/tf/0.5/facs.tf\">facs</a><br><a target=\"_blank\" href=\"https://github.com/Dans-labs/clariah-gm/blob/master/docs/transcription.md\" title=\"~/text-fabric-data/Dans-labs/clariah-gm/tf/0.5/fnote.tf\">fnote</a><br><a target=\"_blank\" href=\"https://github.com/Dans-labs/clariah-gm/blob/master/docs/transcription.md\" title=\"~/text-fabric-data/Dans-labs/clariah-gm/tf/0.5/folio.tf\">folio</a><br><a target=\"_blank\" href=\"https://github.com/Dans-labs/clariah-gm/blob/master/docs/transcription.md\" title=\"~/text-fabric-data/Dans-labs/clariah-gm/tf/0.5/month.tf\">month</a><br><a target=\"_blank\" href=\"https://github.com/Dans-labs/clariah-gm/blob/master/docs/transcription.md\" title=\"~/text-fabric-data/Dans-labs/clariah-gm/tf/0.5/n.tf\">n</a><br><a target=\"_blank\" href=\"https://github.com/Dans-labs/clariah-gm/blob/master/docs/transcription.md\" title=\"~/text-fabric-data/Dans-labs/clariah-gm/tf/0.5/otype.tf\">otype</a><br><a target=\"_blank\" href=\"https://github.com/Dans-labs/clariah-gm/blob/master/docs/transcription.md\" title=\"~/text-fabric-data/Dans-labs/clariah-gm/tf/0.5/page.tf\">page</a><br><a target=\"_blank\" href=\"https://github.com/Dans-labs/clariah-gm/blob/master/docs/transcription.md\" title=\"~/text-fabric-data/Dans-labs/clariah-gm/tf/0.5/place.tf\">place</a><br><a target=\"_blank\" href=\"https://github.com/Dans-labs/clariah-gm/blob/master/docs/transcription.md\" title=\"~/text-fabric-data/Dans-labs/clariah-gm/tf/0.5/punc.tf\">punc</a><br><a target=\"_blank\" href=\"https://github.com/Dans-labs/clariah-gm/blob/master/docs/transcription.md\" title=\"~/text-fabric-data/Dans-labs/clariah-gm/tf/0.5/punco.tf\">punco</a><br><a target=\"_blank\" href=\"https://github.com/Dans-labs/clariah-gm/blob/master/docs/transcription.md\" title=\"~/text-fabric-data/Dans-labs/clariah-gm/tf/0.5/puncr.tf\">puncr</a><br><a target=\"_blank\" href=\"https://github.com/Dans-labs/clariah-gm/blob/master/docs/transcription.md\" title=\"~/text-fabric-data/Dans-labs/clariah-gm/tf/0.5/rawdate.tf\">rawdate</a><br><a target=\"_blank\" href=\"https://github.com/Dans-labs/clariah-gm/blob/master/docs/transcription.md\" title=\"~/text-fabric-data/Dans-labs/clariah-gm/tf/0.5/ref.tf\">ref</a><br><a target=\"_blank\" href=\"https://github.com/Dans-labs/clariah-gm/blob/master/docs/transcription.md\" title=\"~/text-fabric-data/Dans-labs/clariah-gm/tf/0.5/remark.tf\">remark</a><br><a target=\"_blank\" href=\"https://github.com/Dans-labs/clariah-gm/blob/master/docs/transcription.md\" title=\"~/text-fabric-data/Dans-labs/clariah-gm/tf/0.5/row.tf\">row</a><br><a target=\"_blank\" href=\"https://github.com/Dans-labs/clariah-gm/blob/master/docs/transcription.md\" title=\"~/text-fabric-data/Dans-labs/clariah-gm/tf/0.5/seq.tf\">seq</a><br><a target=\"_blank\" href=\"https://github.com/Dans-labs/clariah-gm/blob/master/docs/transcription.md\" title=\"~/text-fabric-data/Dans-labs/clariah-gm/tf/0.5/special.tf\">special</a><br><a target=\"_blank\" href=\"https://github.com/Dans-labs/clariah-gm/blob/master/docs/transcription.md\" title=\"~/text-fabric-data/Dans-labs/clariah-gm/tf/0.5/status.tf\">status</a><br><a target=\"_blank\" href=\"https://github.com/Dans-labs/clariah-gm/blob/master/docs/transcription.md\" title=\"~/text-fabric-data/Dans-labs/clariah-gm/tf/0.5/sub.tf\">sub</a><br><a target=\"_blank\" href=\"https://github.com/Dans-labs/clariah-gm/blob/master/docs/transcription.md\" title=\"~/text-fabric-data/Dans-labs/clariah-gm/tf/0.5/super.tf\">super</a><br><a target=\"_blank\" href=\"https://github.com/Dans-labs/clariah-gm/blob/master/docs/transcription.md\" title=\"~/text-fabric-data/Dans-labs/clariah-gm/tf/0.5/title.tf\">title</a><br><a target=\"_blank\" href=\"https://github.com/Dans-labs/clariah-gm/blob/master/docs/transcription.md\" title=\"~/text-fabric-data/Dans-labs/clariah-gm/tf/0.5/tpl.tf\">tpl</a><br><a target=\"_blank\" href=\"https://github.com/Dans-labs/clariah-gm/blob/master/docs/transcription.md\" title=\"~/text-fabric-data/Dans-labs/clariah-gm/tf/0.5/trans.tf\">trans</a><br><a target=\"_blank\" href=\"https://github.com/Dans-labs/clariah-gm/blob/master/docs/transcription.md\" title=\"~/text-fabric-data/Dans-labs/clariah-gm/tf/0.5/transo.tf\">transo</a><br><a target=\"_blank\" href=\"https://github.com/Dans-labs/clariah-gm/blob/master/docs/transcription.md\" title=\"~/text-fabric-data/Dans-labs/clariah-gm/tf/0.5/transr.tf\">transr</a><br><a target=\"_blank\" href=\"https://github.com/Dans-labs/clariah-gm/blob/master/docs/transcription.md\" title=\"~/text-fabric-data/Dans-labs/clariah-gm/tf/0.5/und.tf\">und</a><br><a target=\"_blank\" href=\"https://github.com/Dans-labs/clariah-gm/blob/master/docs/transcription.md\" title=\"~/text-fabric-data/Dans-labs/clariah-gm/tf/0.5/vol.tf\">vol</a><br><a target=\"_blank\" href=\"https://github.com/Dans-labs/clariah-gm/blob/master/docs/transcription.md\" title=\"~/text-fabric-data/Dans-labs/clariah-gm/tf/0.5/year.tf\">year</a><br><b><i><a target=\"_blank\" href=\"https://github.com/Dans-labs/clariah-gm/blob/master/docs/transcription.md\" title=\"~/text-fabric-data/Dans-labs/clariah-gm/tf/0.5/oslots.tf\">oslots</a></i></b><br></details><details><summary><b>annotation/tutorials/missieven/exercises/numerics/tf</b></summary><a target=\"_blank\" href=\"https://github.com/annotation/tutorials/tree/master/missieven/exercises/numerics/tf\" title=\"~/text-fabric-data/annotation/tutorials/missieven/exercises/numerics/tf/0.5/number.tf\">number</a><br></details>"
      ],
      "text/plain": [
       "<IPython.core.display.HTML object>"
      ]
     },
     "metadata": {},
     "output_type": "display_data"
    },
    {
     "data": {
      "text/html": [
       "<style>tr.tf.ltr, td.tf.ltr, th.tf.ltr { text-align: left ! important;}\n",
       "tr.tf.rtl, td.tf.rtl, th.tf.rtl { text-align: right ! important;}\n",
       "@font-face {\n",
       "  font-family: \"Gentium Plus\";\n",
       "  src: local('Gentium Plus'), local('GentiumPlus'),\n",
       "    url('/server/static/fonts/GentiumPlus-R.woff') format('woff'),\n",
       "    url('https://github.com/annotation/text-fabric/blob/master/tf/server/static/fonts/GentiumPlus-R.woff?raw=true') format('woff');\n",
       "}\n",
       "\n",
       "@font-face {\n",
       "  font-family: \"Ezra SIL\";\n",
       "  src: local('Ezra SIL'), local('EzraSIL'),\n",
       "    url('/server/static/fonts/SILEOT.woff') format('woff'),\n",
       "    url('https://github.com/annotation/text-fabric/blob/master/tf/server/static/fonts/SILEOT.woff?raw=true') format('woff');\n",
       "}\n",
       "\n",
       "@font-face {\n",
       "  font-family: \"SBL Hebrew\";\n",
       "  src: local('SBL Hebrew'), local('SBLHebrew'),\n",
       "    url('/server/static/fonts/SBL_Hbrw.woff') format('woff'),\n",
       "    url('https://github.com/annotation/text-fabric/blob/master/tf/server/static/fonts/SBL_Hbrw.woff?raw=true') format('woff');\n",
       "}\n",
       "\n",
       "@font-face {\n",
       "  font-family: \"Estrangelo Edessa\";\n",
       "  src: local('Estrangelo Edessa'), local('EstrangeloEdessa');\n",
       "    url('/server/static/fonts/SyrCOMEdessa.woff') format('woff'),\n",
       "    url('https://github.com/annotation/text-fabric/blob/master/tf/server/static/fonts/SyrCOMEdessa.woff?raw=true') format('woff');\n",
       "}\n",
       "\n",
       "@font-face {\n",
       "  font-family: AmiriQuran;\n",
       "  font-style: normal;\n",
       "  font-weight: 400;\n",
       "  src: local('Amiri Quran'), local('AmiriQuran'),\n",
       "    url('/server/static/fonts/AmiriQuran.woff') format('woff'),\n",
       "    url('https://github.com/annotation/text-fabric/blob/master/tf/server/static/fonts/AmiriQuran.woff?raw=true') format('woff');\n",
       "}\n",
       "\n",
       "@font-face {\n",
       "  font-family: AmiriQuranColored;\n",
       "  font-style: normal;\n",
       "  font-weight: 400;\n",
       "  src: local('Amiri Quran Colored'), local('AmiriQuranColored'),\n",
       "    url('/server/static/fonts/AmiriQuranColored.woff') format('woff'),\n",
       "    url('https://github.com/annotation/text-fabric/blob/master/tf/server/static/fonts/AmiriQuranColored.woff?raw=true') format('woff');\n",
       "}\n",
       "\n",
       "@font-face {\n",
       "  font-family: \"Santakku\";\n",
       "  src: local('Santakku'),\n",
       "    url('/server/static/fonts/Santakku.woff') format('woff'),\n",
       "    url('https://github.com/annotation/text-fabric/blob/master/tf/server/static/fonts/Santakku.woff?raw=true') format('woff');\n",
       "}\n",
       "\n",
       "@font-face {\n",
       "  font-family: \"SantakkuM\";\n",
       "  src: local('SantakkuM'),\n",
       "    url('/server/static/fonts/SantakkuM.woff') format('woff'),\n",
       "    url('https://github.com/annotation/text-fabric/blob/master/tf/server/static/fonts/SantakkuM.woff?raw=true') format('woff');\n",
       "}\n",
       "/* bypassing some classical notebook settings */\n",
       "div#notebook {\n",
       "  line-height: unset;\n",
       "}\n",
       "/* neutral text */\n",
       ".txtn,.txtn a:visited,.txtn a:link {\n",
       "    font-family: sans-serif;\n",
       "    font-size: medium;\n",
       "    direction: ltr;\n",
       "    unicode-bidi: embed;\n",
       "    text-decoration: none;\n",
       "    color: var(--text-color);\n",
       "}\n",
       "/* transcription text */\n",
       ".txtt,.txtt a:visited,.txtt a:link {\n",
       "    font-family: monospace;\n",
       "    font-size: medium;\n",
       "    direction: ltr;\n",
       "    unicode-bidi: embed;\n",
       "    text-decoration: none;\n",
       "    color: var(--text-color);\n",
       "}\n",
       "/* source text */\n",
       ".txto,.txto a:visited,.txto a:link {\n",
       "    font-family: serif;\n",
       "    font-size: medium;\n",
       "    direction: ltr;\n",
       "    unicode-bidi: embed;\n",
       "    text-decoration: none;\n",
       "    color: var(--text-color);\n",
       "}\n",
       "/* phonetic text */\n",
       ".txtp,.txtp a:visited,.txtp a:link {\n",
       "    font-family: Gentium, sans-serif;\n",
       "    font-size: medium;\n",
       "    direction: ltr;\n",
       "    unicode-bidi: embed;\n",
       "    text-decoration: none;\n",
       "    color: var(--text-color);\n",
       "}\n",
       "/* original script text */\n",
       ".txtu,.txtu a:visited,.txtu a:link {\n",
       "    font-family: Gentium, sans-serif;\n",
       "    font-size: medium;\n",
       "    text-decoration: none;\n",
       "    color: var(--text-color);\n",
       "}\n",
       "/* hebrew */\n",
       ".txtu.hbo,.lex.hbo {\n",
       "    font-family: \"Ezra SIL\", \"SBL Hebrew\", sans-serif;\n",
       "    font-size: large;\n",
       "    direction: rtl ! important;\n",
       "    unicode-bidi: embed;\n",
       "}\n",
       "/* syriac */\n",
       ".txtu.syc,.lex.syc {\n",
       "    font-family: \"Estrangelo Edessa\", sans-serif;\n",
       "    font-size: medium;\n",
       "    direction: rtl ! important;\n",
       "    unicode-bidi: embed;\n",
       "}\n",
       "/* neo aramaic */\n",
       ".txtu.cld,.lex.cld {\n",
       "    font-family: \"CharisSIL-R\", sans-serif;\n",
       "    font-size: medium;\n",
       "    direction: ltr ! important;\n",
       "    unicode-bidi: embed;\n",
       "}\n",
       "/* standard arabic */\n",
       ".txtu.ara,.lex.ara {\n",
       "    font-family: \"AmiriQuran\", sans-serif;\n",
       "    font-size: large;\n",
       "    direction: rtl ! important;\n",
       "    unicode-bidi: embed;\n",
       "}\n",
       "/* cuneiform */\n",
       ".txtu.akk,.lex.akk {\n",
       "    font-family: Santakku, sans-serif;\n",
       "    font-size: large;\n",
       "    direction: ltr ! important;\n",
       "    unicode-bidi: embed;\n",
       "}\n",
       "/* greek */\n",
       ".txtu.grc,.lex.grc a:link {\n",
       "    font-family: Gentium, sans-serif;\n",
       "    font-size: medium;\n",
       "    direction: ltr ! important;\n",
       "    unicode-bidi: embed;\n",
       "}\n",
       "a:hover {\n",
       "    text-decoration: underline | important;\n",
       "    color: #0000ff | important;\n",
       "}\n",
       ".ltr {\n",
       "    direction: ltr ! important;\n",
       "    unicode-bidi: embed;\n",
       "}\n",
       ".rtl {\n",
       "    direction: rtl ! important;\n",
       "    unicode-bidi: embed;\n",
       "}\n",
       ".ubd {\n",
       "    unicode-bidi: embed;\n",
       "}\n",
       ".col {\n",
       "   display: inline-block;\n",
       "}\n",
       ".features {\n",
       "    font-family: monospace;\n",
       "    font-size: medium;\n",
       "    font-weight: bold;\n",
       "    color: var(--features);\n",
       "    display: flex;\n",
       "    flex-flow: column nowrap;\n",
       "    justify-content: flex-start;\n",
       "    align-items: flex-start;\n",
       "    align-content: flex-start;\n",
       "    padding: 2px;\n",
       "    margin: 2px;\n",
       "    direction: ltr;\n",
       "    unicode-bidi: embed;\n",
       "    border: var(--meta-width) solid var(--meta-color);\n",
       "    border-radius: var(--meta-width);\n",
       "}\n",
       ".features div,.features span {\n",
       "    padding: 0;\n",
       "    margin: -2px 0;\n",
       "}\n",
       ".features .f {\n",
       "    font-family: sans-serif;\n",
       "    font-size: small;\n",
       "    font-weight: normal;\n",
       "    color: #5555bb;\n",
       "}\n",
       ".features .xft {\n",
       "  color: #000000;\n",
       "  background-color: #eeeeee;\n",
       "  font-size: medium;\n",
       "  margin: 2px 0px;\n",
       "}\n",
       ".features .xft .f {\n",
       "  color: #000000;\n",
       "  background-color: #eeeeee;\n",
       "  font-size: small;\n",
       "  font-weight: normal;\n",
       "}\n",
       ".section {\n",
       "    font-family: sans-serif;\n",
       "    font-size: small;\n",
       "    font-weight: bold;\n",
       "    color: var(--section);\n",
       "    unicode-bidi: embed;\n",
       "    text-align: start;\n",
       "}\n",
       ".structure {\n",
       "    font-family: sans-serif;\n",
       "    font-size: small;\n",
       "    font-weight: bold;\n",
       "    color: var(--structure);\n",
       "    unicode-bidi: embed;\n",
       "    text-align: start;\n",
       "}\n",
       ".comments {\n",
       "    display: flex;\n",
       "    justify-content: flex-start;\n",
       "    align-items: flex-start;\n",
       "    align-content: flex-start;\n",
       "    flex-flow: column nowrap;\n",
       "}\n",
       ".nd, a:link.nd {\n",
       "    font-family: sans-serif;\n",
       "    font-size: small;\n",
       "    color: var(--node);\n",
       "    vertical-align: super;\n",
       "    direction: ltr ! important;\n",
       "    unicode-bidi: embed;\n",
       "}\n",
       ".lex {\n",
       "  color: var(--lex-color);;\n",
       "}\n",
       ".children,.children.ltr {\n",
       "    display: flex;\n",
       "    border: 0;\n",
       "    background-color: #ffffff;\n",
       "    justify-content: flex-start;\n",
       "    align-items: flex-start;\n",
       "    align-content: flex-start;\n",
       "}\n",
       ".children.stretch {\n",
       "    align-items: stretch;\n",
       "}\n",
       ".children.hor {\n",
       "    flex-flow: row nowrap;\n",
       "}\n",
       ".children.hor.wrap {\n",
       "    flex-flow: row wrap;\n",
       "}\n",
       ".children.ver {\n",
       "    flex-flow: column nowrap;\n",
       "}\n",
       ".children.ver.wrap {\n",
       "    flex-flow: column wrap;\n",
       "}\n",
       ".contnr {\n",
       "    width: fit-content;\n",
       "    display: flex;\n",
       "    justify-content: flex-start;\n",
       "    align-items: flex-start;\n",
       "    align-content: flex-start;\n",
       "    flex-flow: column nowrap;\n",
       "    background: #ffffff none repeat scroll 0 0;\n",
       "    padding:  10px 2px 2px 2px;\n",
       "    margin: 16px 2px 2px 2px;\n",
       "    border-style: solid;\n",
       "    font-size: small;\n",
       "}\n",
       ".contnr.trm {\n",
       "    background-attachment: local;\n",
       "}\n",
       ".contnr.cnul {\n",
       "    padding:  0;\n",
       "    margin: 0;\n",
       "    border-style: solid;\n",
       "    font-size: xx-small;\n",
       "}\n",
       ".contnr.cnul,.lbl.cnul {\n",
       "    border-color: var(--border-color-nul);\n",
       "    border-width: var(--border-width-nul);\n",
       "    border-radius: var(--border-width-nul);\n",
       "}\n",
       ".contnr.c0,.lbl.c0 {\n",
       "    border-color: var(--border-color0);\n",
       "    border-width: var(--border-width0);\n",
       "    border-radius: var(--border-width0);\n",
       "}\n",
       ".contnr.c1,.lbl.c1 {\n",
       "    border-color: var(--border-color1);\n",
       "    border-width: var(--border-width1);\n",
       "    border-radius: var(--border-width1);\n",
       "}\n",
       ".contnr.c2,.lbl.c2 {\n",
       "    border-color: var(--border-color2);\n",
       "    border-width: var(--border-width2);\n",
       "    border-radius: var(--border-width2);\n",
       "}\n",
       ".contnr.c3,.lbl.c3 {\n",
       "    border-color: var(--border-color3);\n",
       "    border-width: var(--border-width3);\n",
       "    border-radius: var(--border-width3);\n",
       "}\n",
       ".contnr.c4,.lbl.c4 {\n",
       "    border-color: var(--border-color4);\n",
       "    border-width: var(--border-width4);\n",
       "    border-radius: var(--border-width4);\n",
       "}\n",
       "span.plain {\n",
       "    display: inline-block;\n",
       "    white-space: pre-wrap;\n",
       "}\n",
       ".plain {\n",
       "    background-color: #ffffff;\n",
       "}\n",
       ".plain.l,.contnr.l,.contnr.l>.lbl {\n",
       "    border-left-style: dotted\n",
       "}\n",
       ".plain.r,.contnr.r,.contnr.r>.lbl {\n",
       "    border-right-style: dotted\n",
       "}\n",
       ".plain.lno,.contnr.lno,.contnr.lno>.lbl {\n",
       "    border-left-style: none\n",
       "}\n",
       ".plain.rno,.contnr.rno,.contnr.rno>.lbl {\n",
       "    border-right-style: none\n",
       "}\n",
       ".plain.l {\n",
       "    padding-left: 4px;\n",
       "    margin-left: 2px;\n",
       "    border-width: var(--border-width-plain);\n",
       "}\n",
       ".plain.r {\n",
       "    padding-right: 4px;\n",
       "    margin-right: 2px;\n",
       "    border-width: var(--border-width-plain);\n",
       "}\n",
       ".lbl {\n",
       "    font-family: monospace;\n",
       "    margin-top: -24px;\n",
       "    margin-left: 20px;\n",
       "    background: #ffffff none repeat scroll 0 0;\n",
       "    padding: 0 6px;\n",
       "    border-style: solid;\n",
       "    display: block;\n",
       "    color: var(--label)\n",
       "}\n",
       ".lbl.trm {\n",
       "    background-attachment: local;\n",
       "    margin-top: 2px;\n",
       "    margin-left: 2px;\n",
       "    padding: 2px 2px;\n",
       "    border-style: none;\n",
       "}\n",
       ".lbl.cnul {\n",
       "    font-size: xx-small;\n",
       "}\n",
       ".lbl.c0 {\n",
       "    font-size: small;\n",
       "}\n",
       ".lbl.c1 {\n",
       "    font-size: small;\n",
       "}\n",
       ".lbl.c2 {\n",
       "    font-size: medium;\n",
       "}\n",
       ".lbl.c3 {\n",
       "    font-size: medium;\n",
       "}\n",
       ".lbl.c4 {\n",
       "    font-size: large;\n",
       "}\n",
       ".occs, a:link.occs {\n",
       "    font-size: small;\n",
       "}\n",
       "\n",
       "/* PROVENANCE */\n",
       "\n",
       "div.prov {\n",
       "\tmargin: 40px;\n",
       "\tpadding: 20px;\n",
       "\tborder: 2px solid var(--fog-rim);\n",
       "}\n",
       "div.pline {\n",
       "\tdisplay: flex;\n",
       "\tflex-flow: row nowrap;\n",
       "\tjustify-content: stretch;\n",
       "\talign-items: baseline;\n",
       "}\n",
       "div.p2line {\n",
       "\tmargin-left: 2em;\n",
       "\tdisplay: flex;\n",
       "\tflex-flow: row nowrap;\n",
       "\tjustify-content: stretch;\n",
       "\talign-items: baseline;\n",
       "}\n",
       "div.psline {\n",
       "\tdisplay: flex;\n",
       "\tflex-flow: row nowrap;\n",
       "\tjustify-content: stretch;\n",
       "\talign-items: baseline;\n",
       "\tbackground-color: var(--gold-mist-back);\n",
       "}\n",
       "div.pname {\n",
       "\tflex: 0 0 5rem;\n",
       "\tfont-weight: bold;\n",
       "}\n",
       "div.pval {\n",
       "    flex: 1 1 auto;\n",
       "}\n",
       "\n",
       ":root {\n",
       "\t--node:               hsla(120, 100%,  20%, 1.0  );\n",
       "\t--label:              hsla(  0, 100%,  20%, 1.0  );\n",
       "\t--section:            hsla(  0, 100%,  25%, 1.0  );\n",
       "\t--structure:          hsla(120, 100%,  25%, 1.0  );\n",
       "\t--features:           hsla(  0,   0%,  30%, 1.0  );\n",
       "  --text-color:         hsla( 60,  80%,  10%, 1.0  );\n",
       "  --lex-color:          hsla(220,  90%,  60%, 1.0  );\n",
       "  --meta-color:         hsla(  0,   0%,  90%, 0.7  );\n",
       "  --meta-width:         3px;\n",
       "  --border-color-nul:   hsla(  0,   0%,  90%, 0.5  );\n",
       "  --border-color0:      hsla(  0,   0%,  90%, 0.9  );\n",
       "  --border-color1:      hsla(  0,   0%,  80%, 0.9  );\n",
       "  --border-color2:      hsla(  0,   0%,  70%, 0.9  );\n",
       "  --border-color3:      hsla(  0,   0%,  80%, 0.8  );\n",
       "  --border-color4:      hsla(  0,   0%,  60%, 0.9  );\n",
       "  --border-width-nul:   2px;\n",
       "  --border-width0:      2px;\n",
       "  --border-width1:      3px;\n",
       "  --border-width2:      4px;\n",
       "  --border-width3:      6px;\n",
       "  --border-width4:      5px;\n",
       "  --border-width-plain: 2px;\n",
       "}\n",
       ".hl {\n",
       "  background-color: var(--hl-strong);\n",
       "}\n",
       "span.hl {\n",
       "\tbackground-color: var(--hl-strong);\n",
       "\tborder-width: 0;\n",
       "\tborder-radius: 2px;\n",
       "\tborder-style: solid;\n",
       "}\n",
       "div.contnr.hl,div.lbl.hl {\n",
       "  background-color: var(--hl-strong);\n",
       "}\n",
       "div.contnr.hl {\n",
       "  border-color: var(--hl-rim) ! important;\n",
       "\tborder-width: 4px ! important;\n",
       "}\n",
       "\n",
       "span.hlbx {\n",
       "\tborder-color: var(--hl-rim);\n",
       "\tborder-width: 4px ! important;\n",
       "\tborder-style: solid;\n",
       "\tborder-radius: 6px;\n",
       "  padding: 4px;\n",
       "  margin: 4px;\n",
       "}\n",
       "\n",
       "span.plain {\n",
       "  display: inline-block;\n",
       "  white-space: pre-wrap;\n",
       "}\n",
       "\n",
       ":root {\n",
       "\t--hl-strong:        hsla( 60, 100%,  70%, 0.9  );\n",
       "\t--hl-rim:           hsla( 55,  80%,  50%, 1.0  );\n",
       "}\n",
       ".remark {\n",
       "  font-size: large;\n",
       "  font-style: italic;\n",
       "}\n",
       ".folio {\n",
       "  font-size: small;\n",
       "  color: #668866;\n",
       "}\n",
       ".fmark:after {\n",
       "  font-size: small;\n",
       "  font-weight: bold;\n",
       "  vertical-align: super;\n",
       "  color: #ddaa22;\n",
       "}\n",
       ".fbody {\n",
       "  vertical-align: super;\n",
       "  font-size: small;\n",
       "  color: #774400;\n",
       "}\n",
       ".ref {\n",
       "  font-size: small;\n",
       "  font-weight: bold;\n",
       "  color: #666688;\n",
       "}\n",
       ".emph {\n",
       "  font-style: italic;\n",
       "}\n",
       ".und {\n",
       "  text-decoration: underline;\n",
       "}\n",
       ".super {\n",
       "  vertical-align: super;\n",
       "}\n",
       ".special {\n",
       "  font-family: monospace;\n",
       "  font-weight: bold;\n",
       "  color: #886666;\n",
       "}\n",
       "</style>"
      ],
      "text/plain": [
       "<IPython.core.display.HTML object>"
      ]
     },
     "metadata": {},
     "output_type": "display_data"
    },
    {
     "data": {
      "text/html": [
       "<div><b>Text-Fabric API:</b> names <a target=\"_blank\" href=\"https://annotation.github.io/text-fabric/cheatsheet.html\" title=\"doc\">N F E L T S C TF</a> directly usable</div><hr>"
      ],
      "text/plain": [
       "<IPython.core.display.HTML object>"
      ]
     },
     "metadata": {},
     "output_type": "display_data"
    }
   ],
   "source": [
    "A = use(\n",
    "    \"missieven\",\n",
    "    hoist=globals(),\n",
    "    mod=(\n",
    "        \"annotation/tutorials/missieven/exercises/numerics/tf:hot\"\n",
    "        \",\"\n",
    "        \"annotation/tutorials/missieven/exercises/entities/tf:hot\"\n",
    "    ),\n",
    ")"
   ]
  },
  {
   "cell_type": "markdown",
   "metadata": {},
   "source": [
    "<img align=\"right\" src=\"images/sharing.png\" width=\"800\"/>\n",
    "\n",
    "Above you see a new sections in the feature list that you can expand to see \n",
    "which features that module contributed.\n",
    "\n",
    "Now, suppose did not know much about these feature, then we would like to do a few basic checks.\n",
    "\n",
    "A good start it to do inspect a frequency list of the values of the new features,\n",
    "and then to perform a query looking for the nodes that have these features.\n",
    "\n",
    "We do that for the entity features and for the number feature."
   ]
  },
  {
   "cell_type": "markdown",
   "metadata": {},
   "source": [
    "## Entities"
   ]
  },
  {
   "cell_type": "code",
   "execution_count": 20,
   "metadata": {},
   "outputs": [
    {
     "data": {
      "text/plain": [
       "(('T11', 5),\n",
       " ('T2', 5),\n",
       " ('T8', 3),\n",
       " ('T10', 2),\n",
       " ('T13', 2),\n",
       " ('T15', 2),\n",
       " ('T16', 2),\n",
       " ('T17', 2),\n",
       " ('T3', 2),\n",
       " ('T5', 2),\n",
       " ('T9', 2),\n",
       " ('T1', 1),\n",
       " ('T12', 1),\n",
       " ('T4', 1),\n",
       " ('T6', 1),\n",
       " ('T7', 1))"
      ]
     },
     "execution_count": 20,
     "metadata": {},
     "output_type": "execute_result"
    }
   ],
   "source": [
    "F.entityId.freqList()"
   ]
  },
  {
   "cell_type": "code",
   "execution_count": 21,
   "metadata": {},
   "outputs": [
    {
     "data": {
      "text/plain": [
       "(('Person', 15), ('GPE', 14), ('Organization', 5))"
      ]
     },
     "execution_count": 21,
     "metadata": {},
     "output_type": "execute_result"
    }
   ],
   "source": [
    "F.entityKind.freqList()"
   ]
  },
  {
   "cell_type": "code",
   "execution_count": 22,
   "metadata": {},
   "outputs": [
    {
     "data": {
      "text/plain": [
       "(('Ternate', 5), ('Amboina', 2))"
      ]
     },
     "execution_count": 22,
     "metadata": {},
     "output_type": "execute_result"
    }
   ],
   "source": [
    "F.entityComment.freqList()"
   ]
  },
  {
   "cell_type": "markdown",
   "metadata": {},
   "source": [
    "Let's query all words that have an entity notation:"
   ]
  },
  {
   "cell_type": "code",
   "execution_count": 23,
   "metadata": {},
   "outputs": [
    {
     "name": "stdout",
     "output_type": "stream",
     "text": [
      "  6.47s 23 results\n"
     ]
    }
   ],
   "source": [
    "query = \"\"\"\n",
    "word entityId entityKind* entityComment*\n",
    "\"\"\"\n",
    "results = A.search(query)"
   ]
  },
  {
   "cell_type": "markdown",
   "metadata": {},
   "source": [
    "Here we query all word where the `entityId` is present.\n",
    "We also mention the `entityKind` and `entityComment` features, but with a `*` behind them.\n",
    "That is a criterion that is always True, so these mentions do not alter the result list.\n",
    "But now these features do occur in the query, and when we show results, these features will be shown."
   ]
  },
  {
   "cell_type": "code",
   "execution_count": 24,
   "metadata": {},
   "outputs": [
    {
     "data": {
      "text/html": [
       "<p><b>line</b> <i>1</i></p>"
      ],
      "text/plain": [
       "<IPython.core.display.HTML object>"
      ]
     },
     "metadata": {},
     "output_type": "display_data"
    },
    {
     "data": {
      "text/html": [
       "<div class=\"section \"><a target=\"_blank\" href=\"http://resources.huygens.knaw.nl/retroboeken/generalemissiven/#page=29&amp;source=1\" title=\"Show this document on Huygens\" sec=\"1 6:4\">1 6:4</a></div><div class=\" children\"><div class=\"contnr c3    \" ><div class=\"lbl c3  \" ><span class=\"nd\">line</span></div><div class='features'><span class=\"entityid xft\" ><span class=\"f\">entityId=</span>T11</span><span class=\"entitykind xft\" ><span class=\"f\">entityKind=</span>Person</span></div><div class=\"children hor wrap \"><div class=\"contnr c0 trm   \" ><div class=\"lbl c0 trm \" ><span class=\"txtu\">Op </span></div></div><div class=\"contnr c0 trm   \" ><div class=\"lbl c0 trm \" ><span class=\"txtu\">den </span></div></div><div class=\"contnr c0 trm   \" ><div class=\"lbl c0 trm \" ><span class=\"txtu\">12 </span></div></div><div class=\"contnr c0 trm   \" ><div class=\"lbl c0 trm \" ><span class=\"txtu\">deser </span></div></div><div class=\"contnr c0 trm   \" ><div class=\"lbl c0 trm \" ><span class=\"txtu\">is </span></div></div><div class=\"contnr c0 trm   \" ><div class=\"lbl c0 trm \" ><span class=\"txtu\">een </span></div></div><div class=\"contnr c0 trm   \" ><div class=\"lbl c0 trm \" ><span class=\"txtu\">jonge </span></div></div><div class=\"contnr c0 trm   \" ><div class=\"lbl c0 trm \" ><span class=\"txtu\">slave </span></div></div><div class=\"contnr c0 trm   \" ><div class=\"lbl c0 trm \" ><span class=\"txtu\">van </span></div></div><div class=\"contnr c0 trm   \" ><div class=\"lbl c0 trm \" ><span class=\"txtu\">een </span></div></div><div class=\"contnr c0 trm   hl\" ><div class=\"lbl c0 trm hl\" ><span class=\"txtu\">orancay</span></div><div class='features'><span class=\"entityid xft\" ><span class=\"f\">entityId=</span>T11</span><span class=\"entitykind xft\" ><span class=\"f\">entityKind=</span>Person</span></div></div><div class=\"contnr c0 trm   hl\" ><div class=\"lbl c0 trm hl\" ><span class=\"txtu\">bij </span></div><div class='features'><span class=\"entityid xft\" ><span class=\"f\">entityId=</span>T11</span><span class=\"entitykind xft\" ><span class=\"f\">entityKind=</span>Person</span></div></div><div class=\"contnr c0 trm   \" ><div class=\"lbl c0 trm \" ><span class=\"txtu\">nacht </span></div></div><div class=\"contnr c0 trm   \" ><div class=\"lbl c0 trm \" ><span class=\"txtu\">comen</span></div></div></div></div></div>"
      ],
      "text/plain": [
       "<IPython.core.display.HTML object>"
      ]
     },
     "metadata": {},
     "output_type": "display_data"
    },
    {
     "data": {
      "text/html": [
       "<p><b>line</b> <i>2</i></p>"
      ],
      "text/plain": [
       "<IPython.core.display.HTML object>"
      ]
     },
     "metadata": {},
     "output_type": "display_data"
    },
    {
     "data": {
      "text/html": [
       "<div class=\"section \"><a target=\"_blank\" href=\"http://resources.huygens.knaw.nl/retroboeken/generalemissiven/#page=29&amp;source=1\" title=\"Show this document on Huygens\" sec=\"1 6:12\">1 6:12</a></div><div class=\" children\"><div class=\"contnr c3    \" ><div class=\"lbl c3  \" ><span class=\"nd\">line</span></div><div class='features'><span class=\"entityid xft\" ><span class=\"f\">entityId=</span>T13</span><span class=\"entitykind xft\" ><span class=\"f\">entityKind=</span>Person</span></div><div class=\"children hor wrap \"><div class=\"contnr c0 trm   \" ><div class=\"lbl c0 trm \" ><span class=\"txtu\">jongen </span></div></div><div class=\"contnr c0 trm   \" ><div class=\"lbl c0 trm \" ><span class=\"txtu\">een </span></div></div><div class=\"contnr c0 trm   \" ><div class=\"lbl c0 trm \" ><span class=\"txtu\">groot </span></div></div><div class=\"contnr c0 trm   hl\" ><div class=\"lbl c0 trm hl\" ><span class=\"txtu\">arancay </span></div><div class='features'><span class=\"entityid xft\" ><span class=\"f\">entityId=</span>T12</span><span class=\"entitykind xft\" ><span class=\"f\">entityKind=</span>Person</span></div></div><div class=\"contnr c0 trm   \" ><div class=\"lbl c0 trm \" ><span class=\"txtu\">van </span></div></div><div class=\"contnr c0 trm   hl\" ><div class=\"lbl c0 trm hl\" ><span class=\"txtu\">Nera, </span></div><div class='features'><span class=\"entityid xft\" ><span class=\"f\">entityId=</span>T1</span><span class=\"entitykind xft\" ><span class=\"f\">entityKind=</span>Person</span></div></div><div class=\"contnr c0 trm   \" ><div class=\"lbl c0 trm \" ><span class=\"txtu\">broeder </span></div></div><div class=\"contnr c0 trm   \" ><div class=\"lbl c0 trm \" ><span class=\"txtu\">van </span></div></div><div class=\"contnr c0 trm   \" ><div class=\"lbl c0 trm \" ><span class=\"txtu\">den </span></div></div><div class=\"contnr c0 trm   hl\" ><div class=\"lbl c0 trm hl\" ><span class=\"txtu\">sabandaer </span></div><div class='features'><span class=\"entityid xft\" ><span class=\"f\">entityId=</span>T13</span><span class=\"entitykind xft\" ><span class=\"f\">entityKind=</span>Person</span></div></div><div class=\"contnr c0 trm   \" ><div class=\"lbl c0 trm \" ><span class=\"txtu\">dewelcke </span></div></div><div class=\"contnr c0 trm   \" ><div class=\"lbl c0 trm \" ><span class=\"txtu\">sij</span></div></div></div></div></div>"
      ],
      "text/plain": [
       "<IPython.core.display.HTML object>"
      ]
     },
     "metadata": {},
     "output_type": "display_data"
    },
    {
     "data": {
      "text/html": [
       "<p><b>line</b> <i>3</i></p>"
      ],
      "text/plain": [
       "<IPython.core.display.HTML object>"
      ]
     },
     "metadata": {},
     "output_type": "display_data"
    },
    {
     "data": {
      "text/html": [
       "<div class=\"section \"><a target=\"_blank\" href=\"http://resources.huygens.knaw.nl/retroboeken/generalemissiven/#page=29&amp;source=1\" title=\"Show this document on Huygens\" sec=\"1 6:13\">1 6:13</a></div><div class=\" children\"><div class=\"contnr c3    \" ><div class=\"lbl c3  \" ><span class=\"nd\">line</span></div><div class='features'><span class=\"entityid xft\" ><span class=\"f\">entityId=</span>T11</span><span class=\"entitykind xft\" ><span class=\"f\">entityKind=</span>Person</span></div><div class=\"children hor wrap \"><div class=\"contnr c0 trm   \" ><div class=\"lbl c0 trm \" ><span class=\"txtu\">tref </span></div></div><div class=\"contnr c0 trm   \" ><div class=\"lbl c0 trm \" ><span class=\"txtu\">f </span></div></div><div class=\"contnr c0 trm   \" ><div class=\"lbl c0 trm \" ><span class=\"txtu\">ten </span></div></div><div class=\"contnr c0 trm   \" ><div class=\"lbl c0 trm \" ><span class=\"txtu\">ende </span></div></div><div class=\"contnr c0 trm   \" ><div class=\"lbl c0 trm \" ><span class=\"txtu\">’t </span></div></div><div class=\"contnr c0 trm   \" ><div class=\"lbl c0 trm \" ><span class=\"txtu\">hooft </span></div></div><div class=\"contnr c0 trm   \" ><div class=\"lbl c0 trm \" ><span class=\"txtu\">ons </span></div></div><div class=\"contnr c0 trm   \" ><div class=\"lbl c0 trm \" ><span class=\"txtu\">hier </span></div></div><div class=\"contnr c0 trm   \" ><div class=\"lbl c0 trm \" ><span class=\"txtu\">in </span></div></div><div class=\"contnr c0 trm   \" ><div class=\"lbl c0 trm \" ><span class=\"txtu\">’t </span></div></div><div class=\"contnr c0 trm   \" ><div class=\"lbl c0 trm \" ><span class=\"txtu\">casteel </span></div></div><div class=\"contnr c0 trm   \" ><div class=\"lbl c0 trm \" ><span class=\"txtu\">gebracht, </span></div></div><div class=\"contnr c0 trm   \" ><div class=\"lbl c0 trm \" ><span class=\"txtu\">den </span></div></div><div class=\"contnr c0 trm   \" ><div class=\"lbl c0 trm \" ><span class=\"txtu\">voorsz. </span></div></div><div class=\"contnr c0 trm   hl\" ><div class=\"lbl c0 trm hl\" ><span class=\"txtu\">orancaye </span></div><div class='features'><span class=\"entityid xft\" ><span class=\"f\">entityId=</span>T11</span><span class=\"entitykind xft\" ><span class=\"f\">entityKind=</span>Person</span></div></div><div class=\"contnr c0 trm   \" ><div class=\"lbl c0 trm \" ><span class=\"txtu\">was </span></div></div><div class=\"contnr c0 trm   \" ><div class=\"lbl c0 trm \" ><span class=\"txtu\">door</span></div></div></div></div></div>"
      ],
      "text/plain": [
       "<IPython.core.display.HTML object>"
      ]
     },
     "metadata": {},
     "output_type": "display_data"
    },
    {
     "data": {
      "text/html": [
       "<p><b>line</b> <i>4</i></p>"
      ],
      "text/plain": [
       "<IPython.core.display.HTML object>"
      ]
     },
     "metadata": {},
     "output_type": "display_data"
    },
    {
     "data": {
      "text/html": [
       "<div class=\"section \"><a target=\"_blank\" href=\"http://resources.huygens.knaw.nl/retroboeken/generalemissiven/#page=29&amp;source=1\" title=\"Show this document on Huygens\" sec=\"1 6:15\">1 6:15</a></div><div class=\" children\"><div class=\"contnr c3    \" ><div class=\"lbl c3  \" ><span class=\"nd\">line</span></div><div class='features'><span class=\"entityid xft\" ><span class=\"f\">entityId=</span>T15</span><span class=\"entitykind xft\" ><span class=\"f\">entityKind=</span>GPE</span></div><div class=\"children hor wrap \"><div class=\"contnr c0 trm   \" ><div class=\"lbl c0 trm \" ><span class=\"txtu\">met </span></div></div><div class=\"contnr c0 trm   \" ><div class=\"lbl c0 trm \" ><span class=\"txtu\">den </span></div></div><div class=\"contnr c0 trm   \" ><div class=\"lbl c0 trm \" ><span class=\"txtu\">onsen </span></div></div><div class=\"contnr c0 trm   \" ><div class=\"lbl c0 trm \" ><span class=\"txtu\">gesproken, </span></div></div><div class=\"contnr c0 trm   \" ><div class=\"lbl c0 trm \" ><span class=\"txtu\">die </span></div></div><div class=\"contnr c0 trm   \" ><div class=\"lbl c0 trm \" ><span class=\"txtu\">hem </span></div></div><div class=\"contnr c0 trm   \" ><div class=\"lbl c0 trm \" ><span class=\"txtu\">mede </span></div></div><div class=\"contnr c0 trm   \" ><div class=\"lbl c0 trm \" ><span class=\"txtu\">geroemt </span></div></div><div class=\"contnr c0 trm   \" ><div class=\"lbl c0 trm \" ><span class=\"txtu\">hadde, </span></div></div><div class=\"contnr c0 trm   \" ><div class=\"lbl c0 trm \" ><span class=\"txtu\">2 </span></div></div><div class=\"contnr c0 trm   \" ><div class=\"lbl c0 trm \" ><span class=\"txtu\">van </span></div></div><div class=\"contnr c0 trm   \" ><div class=\"lbl c0 trm \" ><span class=\"txtu\">onse </span></div></div><div class=\"contnr c0 trm   hl\" ><div class=\"lbl c0 trm hl\" ><span class=\"txtu\">Hollanders</span></div><div class='features'><span class=\"entityid xft\" ><span class=\"f\">entityId=</span>T15</span><span class=\"entitykind xft\" ><span class=\"f\">entityKind=</span>GPE</span></div></div></div></div></div>"
      ],
      "text/plain": [
       "<IPython.core.display.HTML object>"
      ]
     },
     "metadata": {},
     "output_type": "display_data"
    },
    {
     "data": {
      "text/html": [
       "<p><b>line</b> <i>5</i></p>"
      ],
      "text/plain": [
       "<IPython.core.display.HTML object>"
      ]
     },
     "metadata": {},
     "output_type": "display_data"
    },
    {
     "data": {
      "text/html": [
       "<div class=\"section \"><a target=\"_blank\" href=\"http://resources.huygens.knaw.nl/retroboeken/generalemissiven/#page=29&amp;source=1\" title=\"Show this document on Huygens\" sec=\"1 6:16\">1 6:16</a></div><div class=\" children\"><div class=\"contnr c3    \" ><div class=\"lbl c3  \" ><span class=\"nd\">line</span></div><div class='features'><span class=\"entityid xft\" ><span class=\"f\">entityId=</span>T16</span><span class=\"entitykind xft\" ><span class=\"f\">entityKind=</span>Person</span></div><div class=\"children hor wrap \"><div class=\"contnr c0 trm   \" ><div class=\"lbl c0 trm \" ><span class=\"txtu\">in </span></div></div><div class=\"contnr c0 trm   \" ><div class=\"lbl c0 trm \" ><span class=\"txtu\">den </span></div></div><div class=\"contnr c0 trm   \" ><div class=\"lbl c0 trm \" ><span class=\"txtu\">moort </span></div></div><div class=\"contnr c0 trm   \" ><div class=\"lbl c0 trm \" ><span class=\"txtu\">van </span></div></div><div class=\"contnr c0 trm   \" ><div class=\"lbl c0 trm \" ><span class=\"txtu\">den </span></div></div><div class=\"contnr c0 trm   \" ><div class=\"lbl c0 trm \" ><span class=\"txtu\">admirael </span></div></div><div class=\"contnr c0 trm   hl\" ><div class=\"lbl c0 trm hl\" ><span class=\"txtu\">Verhoeven </span></div><div class='features'><span class=\"entityid xft\" ><span class=\"f\">entityId=</span>T16</span><span class=\"entitykind xft\" ><span class=\"f\">entityKind=</span>Person</span></div></div><div class=\"contnr c0 trm   \" ><div class=\"lbl c0 trm \" ><span class=\"txtu\">saliger </span></div></div><div class=\"contnr c0 trm   \" ><div class=\"lbl c0 trm \" ><span class=\"txtu\">omgebracht </span></div></div><div class=\"contnr c0 trm   \" ><div class=\"lbl c0 trm \" ><span class=\"txtu\">te </span></div></div><div class=\"contnr c0 trm   \" ><div class=\"lbl c0 trm \" ><span class=\"txtu\">hebben.</span></div></div></div></div></div>"
      ],
      "text/plain": [
       "<IPython.core.display.HTML object>"
      ]
     },
     "metadata": {},
     "output_type": "display_data"
    },
    {
     "data": {
      "text/html": [
       "<p><b>line</b> <i>6</i></p>"
      ],
      "text/plain": [
       "<IPython.core.display.HTML object>"
      ]
     },
     "metadata": {},
     "output_type": "display_data"
    },
    {
     "data": {
      "text/html": [
       "<div class=\"section \"><a target=\"_blank\" href=\"http://resources.huygens.knaw.nl/retroboeken/generalemissiven/#page=29&amp;source=1\" title=\"Show this document on Huygens\" sec=\"1 6:22\">1 6:22</a></div><div class=\" children\"><div class=\"contnr c3    \" ><div class=\"lbl c3  \" ><span class=\"nd\">line</span></div><div class='features'><span class=\"entitycomment xft\" ><span class=\"f\">entityComment=</span>Amboina</span><span class=\"entityid xft\" ><span class=\"f\">entityId=</span>T17</span><span class=\"entitykind xft\" ><span class=\"f\">entityKind=</span>GPE</span></div><div class=\"children hor wrap \"><div class=\"contnr c0 trm   hl\" ><div class=\"lbl c0 trm hl\" ><span class=\"txtu\">Ambojna </span></div><div class='features'><span class=\"entitycomment xft\" ><span class=\"f\">entityComment=</span>Amboina</span><span class=\"entityid xft\" ><span class=\"f\">entityId=</span>T17</span><span class=\"entitykind xft\" ><span class=\"f\">entityKind=</span>GPE</span></div></div><div class=\"contnr c0 trm   \" ><div class=\"lbl c0 trm \" ><span class=\"txtu\">ende </span></div></div><div class=\"contnr c0 trm   \" ><div class=\"lbl c0 trm \" ><span class=\"txtu\">van </span></div></div><div class=\"contnr c0 trm   \" ><div class=\"lbl c0 trm \" ><span class=\"txtu\">daer </span></div></div><div class=\"contnr c0 trm   \" ><div class=\"lbl c0 trm \" ><span class=\"txtu\">naer </span></div></div><div class=\"contnr c0 trm   hl\" ><div class=\"lbl c0 trm hl\" ><span class=\"txtu\">Ternnate </span></div><div class='features'><span class=\"entitycomment xft\" ><span class=\"f\">entityComment=</span>Ternate</span><span class=\"entityid xft\" ><span class=\"f\">entityId=</span>T2</span><span class=\"entitykind xft\" ><span class=\"f\">entityKind=</span>GPE</span></div></div><div class=\"contnr c0 trm   \" ><div class=\"lbl c0 trm \" ><span class=\"txtu\">ende </span></div></div><div class=\"contnr c0 trm   \" ><div class=\"lbl c0 trm \" ><span class=\"txtu\">soo </span></div></div><div class=\"contnr c0 trm   \" ><div class=\"lbl c0 trm \" ><span class=\"txtu\">den </span></div></div><div class=\"contnr c0 trm   hl\" ><div class=\"lbl c0 trm hl\" ><span class=\"txtu\">Coninck </span></div><div class='features'><span class=\"entityid xft\" ><span class=\"f\">entityId=</span>T3</span><span class=\"entitykind xft\" ><span class=\"f\">entityKind=</span>Person</span></div></div><div class=\"contnr c0 trm   hl\" ><div class=\"lbl c0 trm hl\" ><span class=\"txtu\">van </span></div><div class='features'><span class=\"entityid xft\" ><span class=\"f\">entityId=</span>T3</span><span class=\"entitykind xft\" ><span class=\"f\">entityKind=</span>Person</span></div></div><div class=\"contnr c0 trm   hl\" ><div class=\"lbl c0 trm hl\" ><span class=\"txtu\">Spagnien </span></div><div class='features'><span class=\"entityid xft\" ><span class=\"f\">entityId=</span>T4</span><span class=\"entitykind xft\" ><span class=\"f\">entityKind=</span>GPE</span></div></div><div class=\"contnr c0 trm   \" ><div class=\"lbl c0 trm \" ><span class=\"txtu\">tusschen</span></div></div></div></div></div>"
      ],
      "text/plain": [
       "<IPython.core.display.HTML object>"
      ]
     },
     "metadata": {},
     "output_type": "display_data"
    },
    {
     "data": {
      "text/html": [
       "<p><b>line</b> <i>7</i></p>"
      ],
      "text/plain": [
       "<IPython.core.display.HTML object>"
      ]
     },
     "metadata": {},
     "output_type": "display_data"
    },
    {
     "data": {
      "text/html": [
       "<div class=\"section \"><a target=\"_blank\" href=\"http://resources.huygens.knaw.nl/retroboeken/generalemissiven/#page=29&amp;source=1\" title=\"Show this document on Huygens\" sec=\"1 6:23\">1 6:23</a></div><div class=\" children\"><div class=\"contnr c3    \" ><div class=\"lbl c3  \" ><span class=\"nd\">line</span></div><div class='features'><span class=\"entitycomment xft\" ><span class=\"f\">entityComment=</span>Ternate</span><span class=\"entityid xft\" ><span class=\"f\">entityId=</span>T2</span><span class=\"entitykind xft\" ><span class=\"f\">entityKind=</span>GPE</span></div><div class=\"children hor wrap \"><div class=\"contnr c0 trm   \" ><div class=\"lbl c0 trm \" ><span class=\"txtu\">de </span></div></div><div class=\"contnr c0 trm   hl\" ><div class=\"lbl c0 trm hl\" ><span class=\"txtu\">Heeren </span></div><div class='features'><span class=\"entityid xft\" ><span class=\"f\">entityId=</span>T5</span><span class=\"entitykind xft\" ><span class=\"f\">entityKind=</span>Organization</span></div></div><div class=\"contnr c0 trm   hl\" ><div class=\"lbl c0 trm hl\" ><span class=\"txtu\">Staeten </span></div><div class='features'><span class=\"entityid xft\" ><span class=\"f\">entityId=</span>T5</span><span class=\"entitykind xft\" ><span class=\"f\">entityKind=</span>Organization</span></div></div><div class=\"contnr c0 trm   \" ><div class=\"lbl c0 trm \" ><span class=\"txtu\">den </span></div></div><div class=\"contnr c0 trm   \" ><div class=\"lbl c0 trm \" ><span class=\"txtu\">treves </span></div></div><div class=\"contnr c0 trm   \" ><div class=\"lbl c0 trm \" ><span class=\"txtu\">geobserveert </span></div></div><div class=\"contnr c0 trm   \" ><div class=\"lbl c0 trm \" ><span class=\"txtu\">werde, </span></div></div><div class=\"contnr c0 trm   \" ><div class=\"lbl c0 trm \" ><span class=\"txtu\">metten </span></div></div><div class=\"contnr c0 trm   hl\" ><div class=\"lbl c0 trm hl\" ><span class=\"txtu\">Coninck </span></div><div class='features'><span class=\"entityid xft\" ><span class=\"f\">entityId=</span>T6</span><span class=\"entitykind xft\" ><span class=\"f\">entityKind=</span>Person</span></div></div><div class=\"contnr c0 trm   \" ><div class=\"lbl c0 trm \" ><span class=\"txtu\">van </span></div></div><div class=\"contnr c0 trm   hl\" ><div class=\"lbl c0 trm hl\" ><span class=\"txtu\">ditto</span></div><div class='features'><span class=\"entitycomment xft\" ><span class=\"f\">entityComment=</span>Ternate</span><span class=\"entityid xft\" ><span class=\"f\">entityId=</span>T2</span><span class=\"entitykind xft\" ><span class=\"f\">entityKind=</span>GPE</span></div></div></div></div></div>"
      ],
      "text/plain": [
       "<IPython.core.display.HTML object>"
      ]
     },
     "metadata": {},
     "output_type": "display_data"
    },
    {
     "data": {
      "text/html": [
       "<p><b>line</b> <i>8</i></p>"
      ],
      "text/plain": [
       "<IPython.core.display.HTML object>"
      ]
     },
     "metadata": {},
     "output_type": "display_data"
    },
    {
     "data": {
      "text/html": [
       "<div class=\"section \"><a target=\"_blank\" href=\"http://resources.huygens.knaw.nl/retroboeken/generalemissiven/#page=29&amp;source=1\" title=\"Show this document on Huygens\" sec=\"1 6:24\">1 6:24</a></div><div class=\" children\"><div class=\"contnr c3    \" ><div class=\"lbl c3  \" ><span class=\"nd\">line</span></div><div class='features'><span class=\"entitycomment xft\" ><span class=\"f\">entityComment=</span>Ternate</span><span class=\"entityid xft\" ><span class=\"f\">entityId=</span>T2</span><span class=\"entitykind xft\" ><span class=\"f\">entityKind=</span>GPE</span></div><div class=\"children hor wrap \"><div class=\"contnr c0 trm   hl\" ><div class=\"lbl c0 trm hl\" ><span class=\"txtu\">plaetse </span></div><div class='features'><span class=\"entitycomment xft\" ><span class=\"f\">entityComment=</span>Ternate</span><span class=\"entityid xft\" ><span class=\"f\">entityId=</span>T2</span><span class=\"entitykind xft\" ><span class=\"f\">entityKind=</span>GPE</span></div></div><div class=\"contnr c0 trm   \" ><div class=\"lbl c0 trm \" ><span class=\"txtu\">te </span></div></div><div class=\"contnr c0 trm   \" ><div class=\"lbl c0 trm \" ><span class=\"txtu\">contracteeren </span></div></div><div class=\"contnr c0 trm   \" ><div class=\"lbl c0 trm \" ><span class=\"txtu\">om </span></div></div><div class=\"contnr c0 trm   \" ><div class=\"lbl c0 trm \" ><span class=\"txtu\">met </span></div></div><div class=\"contnr c0 trm   \" ><div class=\"lbl c0 trm \" ><span class=\"txtu\">sijn </span></div></div><div class=\"contnr c0 trm   \" ><div class=\"lbl c0 trm \" ><span class=\"txtu\">hulpe </span></div></div><div class=\"contnr c0 trm   \" ><div class=\"lbl c0 trm \" ><span class=\"txtu\">dese </span></div></div><div class=\"contnr c0 trm   \" ><div class=\"lbl c0 trm \" ><span class=\"txtu\">plaetse </span></div></div><div class=\"contnr c0 trm   \" ><div class=\"lbl c0 trm \" ><span class=\"txtu\">te </span></div></div><div class=\"contnr c0 trm   \" ><div class=\"lbl c0 trm \" ><span class=\"txtu\">ocuperen </span></div></div><div class=\"contnr c0 trm   \" ><div class=\"lbl c0 trm \" ><span class=\"txtu\">ende </span></div></div><div class=\"contnr c0 trm   \" ><div class=\"lbl c0 trm \" ><span class=\"txtu\">hem </span></div></div><div class=\"contnr c0 trm   \" ><div class=\"lbl c0 trm \" ><span class=\"txtu\">daer</span></div></div></div></div></div>"
      ],
      "text/plain": [
       "<IPython.core.display.HTML object>"
      ]
     },
     "metadata": {},
     "output_type": "display_data"
    },
    {
     "data": {
      "text/html": [
       "<p><b>line</b> <i>9</i></p>"
      ],
      "text/plain": [
       "<IPython.core.display.HTML object>"
      ]
     },
     "metadata": {},
     "output_type": "display_data"
    },
    {
     "data": {
      "text/html": [
       "<div class=\"section \"><a target=\"_blank\" href=\"http://resources.huygens.knaw.nl/retroboeken/generalemissiven/#page=29&amp;source=1\" title=\"Show this document on Huygens\" sec=\"1 6:25\">1 6:25</a></div><div class=\" children\"><div class=\"contnr c3    \" ><div class=\"lbl c3  \" ><span class=\"nd\">line</span></div><div class='features'><span class=\"entityid xft\" ><span class=\"f\">entityId=</span>T8</span><span class=\"entitykind xft\" ><span class=\"f\">entityKind=</span>Organization</span></div><div class=\"children hor wrap \"><div class=\"contnr c0 trm   \" ><div class=\"lbl c0 trm \" ><span class=\"txtu\">mede </span></div></div><div class=\"contnr c0 trm   hl\" ><div class=\"lbl c0 trm hl\" ><span class=\"txtu\">Coninck </span></div><div class='features'><span class=\"entityid xft\" ><span class=\"f\">entityId=</span>T7</span><span class=\"entitykind xft\" ><span class=\"f\">entityKind=</span>Person</span></div></div><div class=\"contnr c0 trm   \" ><div class=\"lbl c0 trm \" ><span class=\"txtu\">van </span></div></div><div class=\"contnr c0 trm   \" ><div class=\"lbl c0 trm \" ><span class=\"txtu\">te </span></div></div><div class=\"contnr c0 trm   \" ><div class=\"lbl c0 trm \" ><span class=\"txtu\">maeken </span></div></div><div class=\"contnr c0 trm   \" ><div class=\"lbl c0 trm \" ><span class=\"txtu\">onder </span></div></div><div class=\"contnr c0 trm   \" ><div class=\"lbl c0 trm \" ><span class=\"txtu\">protexie </span></div></div><div class=\"contnr c0 trm   \" ><div class=\"lbl c0 trm \" ><span class=\"txtu\">van </span></div></div><div class=\"contnr c0 trm   \" ><div class=\"lbl c0 trm \" ><span class=\"txtu\">E </span></div></div><div class=\"contnr c0 trm   \" ><div class=\"lbl c0 trm \" ><span class=\"txtu\">Mogende </span></div></div><div class=\"contnr c0 trm   hl\" ><div class=\"lbl c0 trm hl\" ><span class=\"txtu\">Heeren </span></div><div class='features'><span class=\"entityid xft\" ><span class=\"f\">entityId=</span>T8</span><span class=\"entitykind xft\" ><span class=\"f\">entityKind=</span>Organization</span></div></div><div class=\"contnr c0 trm   hl\" ><div class=\"lbl c0 trm hl\" ><span class=\"txtu\">Staeten, </span></div><div class='features'><span class=\"entityid xft\" ><span class=\"f\">entityId=</span>T8</span><span class=\"entitykind xft\" ><span class=\"f\">entityKind=</span>Organization</span></div></div><div class=\"contnr c0 trm   \" ><div class=\"lbl c0 trm \" ><span class=\"txtu\">doch</span></div></div></div></div></div>"
      ],
      "text/plain": [
       "<IPython.core.display.HTML object>"
      ]
     },
     "metadata": {},
     "output_type": "display_data"
    },
    {
     "data": {
      "text/html": [
       "<p><b>line</b> <i>10</i></p>"
      ],
      "text/plain": [
       "<IPython.core.display.HTML object>"
      ]
     },
     "metadata": {},
     "output_type": "display_data"
    },
    {
     "data": {
      "text/html": [
       "<div class=\"section \"><a target=\"_blank\" href=\"http://resources.huygens.knaw.nl/retroboeken/generalemissiven/#page=29&amp;source=1\" title=\"Show this document on Huygens\" sec=\"1 6:27\">1 6:27</a></div><div class=\" children\"><div class=\"contnr c3    \" ><div class=\"lbl c3  \" ><span class=\"nd\">line</span></div><div class='features'><span class=\"entityid xft\" ><span class=\"f\">entityId=</span>T9</span><span class=\"entitykind xft\" ><span class=\"f\">entityKind=</span>GPE</span></div><div class=\"children hor wrap \"><div class=\"contnr c0 trm   \" ><div class=\"lbl c0 trm \" ><span class=\"txtu\">Dit </span></div></div><div class=\"contnr c0 trm   \" ><div class=\"lbl c0 trm \" ><span class=\"txtu\">volck </span></div></div><div class=\"contnr c0 trm   \" ><div class=\"lbl c0 trm \" ><span class=\"txtu\">van </span></div></div><div class=\"contnr c0 trm   hl\" ><div class=\"lbl c0 trm hl\" ><span class=\"txtu\">Banda </span></div><div class='features'><span class=\"entityid xft\" ><span class=\"f\">entityId=</span>T9</span><span class=\"entitykind xft\" ><span class=\"f\">entityKind=</span>GPE</span></div></div><div class=\"contnr c0 trm   \" ><div class=\"lbl c0 trm \" ><span class=\"txtu\">is </span></div></div><div class=\"contnr c0 trm   \" ><div class=\"lbl c0 trm \" ><span class=\"txtu\">superbe, </span></div></div><div class=\"contnr c0 trm   \" ><div class=\"lbl c0 trm \" ><span class=\"txtu\">moordadich, </span></div></div><div class=\"contnr c0 trm   \" ><div class=\"lbl c0 trm \" ><span class=\"txtu\">wel </span></div></div><div class=\"contnr c0 trm   \" ><div class=\"lbl c0 trm \" ><span class=\"txtu\">versien </span></div></div><div class=\"contnr c0 trm   \" ><div class=\"lbl c0 trm \" ><span class=\"txtu\">van </span></div></div><div class=\"contnr c0 trm   \" ><div class=\"lbl c0 trm \" ><span class=\"txtu\">waepenen, </span></div></div><div class=\"contnr c0 trm   \" ><div class=\"lbl c0 trm \" ><span class=\"txtu\">van</span></div></div></div></div></div>"
      ],
      "text/plain": [
       "<IPython.core.display.HTML object>"
      ]
     },
     "metadata": {},
     "output_type": "display_data"
    },
    {
     "data": {
      "text/html": [
       "<p><b>line</b> <i>11</i></p>"
      ],
      "text/plain": [
       "<IPython.core.display.HTML object>"
      ]
     },
     "metadata": {},
     "output_type": "display_data"
    },
    {
     "data": {
      "text/html": [
       "<div class=\"section \"><a target=\"_blank\" href=\"http://resources.huygens.knaw.nl/retroboeken/generalemissiven/#page=29&amp;source=1\" title=\"Show this document on Huygens\" sec=\"1 6:28\">1 6:28</a></div><div class=\" children\"><div class=\"contnr c3    \" ><div class=\"lbl c3  \" ><span class=\"nd\">line</span></div><div class='features'><span class=\"entityid xft\" ><span class=\"f\">entityId=</span>T10</span><span class=\"entitykind xft\" ><span class=\"f\">entityKind=</span>GPE</span></div><div class=\"children hor wrap \"><div class=\"contnr c0 trm   \" ><div class=\"lbl c0 trm \" ><span class=\"txtu\">de </span></div></div><div class=\"contnr c0 trm   \" ><div class=\"lbl c0 trm \" ><span class=\"txtu\">onsen </span></div></div><div class=\"contnr c0 trm   \" ><div class=\"lbl c0 trm \" ><span class=\"txtu\">voor </span></div></div><div class=\"contnr c0 trm   \" ><div class=\"lbl c0 trm \" ><span class=\"txtu\">desen </span></div></div><div class=\"contnr c0 trm   \" ><div class=\"lbl c0 trm \" ><span class=\"txtu\">ende </span></div></div><div class=\"contnr c0 trm   \" ><div class=\"lbl c0 trm \" ><span class=\"txtu\">van </span></div></div><div class=\"contnr c0 trm   \" ><div class=\"lbl c0 trm \" ><span class=\"txtu\">de </span></div></div><div class=\"contnr c0 trm   hl\" ><div class=\"lbl c0 trm hl\" ><span class=\"txtu\">Engelsche </span></div><div class='features'><span class=\"entityid xft\" ><span class=\"f\">entityId=</span>T10</span><span class=\"entitykind xft\" ><span class=\"f\">entityKind=</span>GPE</span></div></div><div class=\"contnr c0 trm   \" ><div class=\"lbl c0 trm \" ><span class=\"txtu\">gecomen, </span></div></div><div class=\"contnr c0 trm   \" ><div class=\"lbl c0 trm \" ><span class=\"txtu\">dan </span></div></div><div class=\"contnr c0 trm   \" ><div class=\"lbl c0 trm \" ><span class=\"txtu\">weynich </span></div></div><div class=\"contnr c0 trm   \" ><div class=\"lbl c0 trm \" ><span class=\"txtu\">couraege </span></div></div><div class=\"contnr c0 trm   \" ><div class=\"lbl c0 trm \" ><span class=\"txtu\">omme</span></div></div></div></div></div>"
      ],
      "text/plain": [
       "<IPython.core.display.HTML object>"
      ]
     },
     "metadata": {},
     "output_type": "display_data"
    }
   ],
   "source": [
    "A.show(results, condensed=True)"
   ]
  },
  {
   "cell_type": "markdown",
   "metadata": {},
   "source": [
    "**Observation**\n",
    "\n",
    "It's not only words that have entity features, also the lines themselves have gotten such annotations.\n",
    "\n",
    "It turns out that it is not very useful to annotate *lines* with entities this way.\n",
    "It would be better to annotate them with the number of entities they contain.\n",
    "That is our feedback to the creator of these annotations, and because we know the GitHub repo that they are from,\n",
    "we can file an [issue](https://github.com/annotation/tutorials/issues/3)!"
   ]
  },
  {
   "cell_type": "markdown",
   "metadata": {},
   "source": [
    "## Numerics"
   ]
  },
  {
   "cell_type": "code",
   "execution_count": 25,
   "metadata": {},
   "outputs": [
    {
     "data": {
      "text/plain": [
       "((121, 6),\n",
       " (361, 5),\n",
       " (421, 4),\n",
       " (101, 3),\n",
       " (141, 3),\n",
       " (161, 3),\n",
       " (185, 3),\n",
       " (261, 3),\n",
       " (131, 2),\n",
       " (151, 2),\n",
       " (240, 2),\n",
       " (360, 2),\n",
       " (621, 2),\n",
       " (1241, 2),\n",
       " (1441, 2),\n",
       " (111, 1),\n",
       " (171, 1),\n",
       " (181, 1),\n",
       " (191, 1),\n",
       " (201, 1),\n",
       " (241, 1),\n",
       " (250, 1),\n",
       " (281, 1),\n",
       " (291, 1),\n",
       " (331, 1),\n",
       " (371, 1),\n",
       " (480, 1),\n",
       " (501, 1),\n",
       " (541, 1),\n",
       " (561, 1),\n",
       " (631, 1),\n",
       " (660, 1),\n",
       " (670, 1),\n",
       " (701, 1),\n",
       " (721, 1),\n",
       " (731, 1),\n",
       " (761, 1),\n",
       " (814, 1),\n",
       " (901, 1),\n",
       " (911, 1),\n",
       " (1101, 1),\n",
       " (1151, 1),\n",
       " (1321, 1),\n",
       " (1371, 1),\n",
       " (1661, 1),\n",
       " (1741, 1),\n",
       " (2000, 1),\n",
       " (2501, 1),\n",
       " (2921, 1),\n",
       " (2981, 1),\n",
       " (2991, 1),\n",
       " (3191, 1),\n",
       " (3231, 1),\n",
       " (3501, 1),\n",
       " (4021, 1),\n",
       " (4041, 1),\n",
       " (4061, 1),\n",
       " (5021, 1),\n",
       " (6121, 1),\n",
       " (8191, 1),\n",
       " (8421, 1),\n",
       " (8541, 1),\n",
       " (9581, 1),\n",
       " (9961, 1),\n",
       " (10791, 1),\n",
       " (10921, 1),\n",
       " (11911, 1),\n",
       " (15301, 1),\n",
       " (15361, 1),\n",
       " (20621, 1),\n",
       " (32091, 1),\n",
       " (49141, 1),\n",
       " (52141, 1),\n",
       " (65931, 1),\n",
       " (72771, 1),\n",
       " (75621, 1),\n",
       " (77841, 1),\n",
       " (94001, 1),\n",
       " (98771, 1),\n",
       " (128181, 1),\n",
       " (167081, 1),\n",
       " (925981, 1),\n",
       " (977381, 1),\n",
       " (1213781, 1),\n",
       " (2228491, 1))"
      ]
     },
     "execution_count": 25,
     "metadata": {},
     "output_type": "execute_result"
    }
   ],
   "source": [
    "F.number.freqList()"
   ]
  },
  {
   "cell_type": "markdown",
   "metadata": {},
   "source": [
    "We see that the values that we have generated before."
   ]
  },
  {
   "cell_type": "markdown",
   "metadata": {},
   "source": [
    "Let's show the original and the number side by side."
   ]
  },
  {
   "cell_type": "code",
   "execution_count": 26,
   "metadata": {},
   "outputs": [
    {
     "name": "stdout",
     "output_type": "stream",
     "text": [
      "  2.61s 114 results\n"
     ]
    }
   ],
   "source": [
    "results = A.search('''\n",
    "word number transo*\n",
    "''')"
   ]
  },
  {
   "cell_type": "code",
   "execution_count": 27,
   "metadata": {},
   "outputs": [
    {
     "data": {
      "text/html": [
       "<p><b>result</b> <i>1</i></p>"
      ],
      "text/plain": [
       "<IPython.core.display.HTML object>"
      ]
     },
     "metadata": {},
     "output_type": "display_data"
    },
    {
     "data": {
      "text/html": [
       "<div class=\"section \"><a target=\"_blank\" href=\"http://resources.huygens.knaw.nl/retroboeken/generalemissiven/#page=55&amp;source=1\" title=\"Show this document on Huygens\" sec=\"1 32:7\">1 32:7</a></div><div class=\" children\"><div class=\"contnr c3    \" ><div class=\"lbl c3  \" ><span class=\"nd\">line</span></div><div class=\"children hor wrap \"><div class=\"contnr c0 trm   \" ><div class=\"lbl c0 trm \" ><span class=\"txtu\">5 </span></div><div class='features'><span class=\"transo xft\" ><span class=\"f\">transo=</span>5</span></div></div><div class=\"contnr c0 trm   \" ><div class=\"lbl c0 trm \" ><span class=\"txtu\">jan. </span></div><div class='features'><span class=\"transo xft\" ><span class=\"f\">transo=</span>jan</span></div></div><div class=\"contnr c0 trm   \" ><div class=\"lbl c0 trm \" ><span class=\"txtu\">1613 </span></div><div class='features'><span class=\"transo xft\" ><span class=\"f\">transo=</span>1613</span></div></div><div class=\"contnr c0 trm   \" ><div class=\"lbl c0 trm \" ><span class=\"txtu\">sloot </span></div><div class='features'><span class=\"transo xft\" ><span class=\"f\">transo=</span>sloot</span></div></div><div class=\"contnr c0 trm   \" ><div class=\"lbl c0 trm \" ><span class=\"txtu\">hij </span></div><div class='features'><span class=\"transo xft\" ><span class=\"f\">transo=</span>hij</span></div></div><div class=\"contnr c0 trm   \" ><div class=\"lbl c0 trm \" ><span class=\"txtu\">een </span></div><div class='features'><span class=\"transo xft\" ><span class=\"f\">transo=</span>een</span></div></div><div class=\"contnr c0 trm   \" ><div class=\"lbl c0 trm \" ><span class=\"txtu\">contract </span></div><div class='features'><span class=\"transo xft\" ><span class=\"f\">transo=</span>contract</span></div></div><div class=\"contnr c0 trm   \" ><div class=\"lbl c0 trm \" ><span class=\"txtu\">met </span></div><div class='features'><span class=\"transo xft\" ><span class=\"f\">transo=</span>met</span></div></div><div class=\"contnr c0 trm   \" ><div class=\"lbl c0 trm \" ><span class=\"txtu\">den </span></div><div class='features'><span class=\"transo xft\" ><span class=\"f\">transo=</span>den</span></div></div><div class=\"contnr c0 trm   \" ><div class=\"lbl c0 trm \" ><span class=\"txtu\">vorst </span></div><div class='features'><span class=\"transo xft\" ><span class=\"f\">transo=</span>vorst</span></div></div><div class=\"contnr c0 trm   \" ><div class=\"lbl c0 trm \" ><span class=\"txtu\">van </span></div><div class='features'><span class=\"transo xft\" ><span class=\"f\">transo=</span>van</span></div></div><div class=\"contnr c0 trm   \" ><div class=\"lbl c0 trm \" ><span class=\"txtu\">Buton </span></div><div class='features'><span class=\"transo xft\" ><span class=\"f\">transo=</span>Buton</span></div></div><div class=\"contnr c0 trm   \" ><div class=\"lbl c0 trm \" ><span class=\"txtu\">Corpus</span></div><div class='features'><span class=\"transo xft\" ><span class=\"f\">transo=</span>Corpus</span></div></div><div class=\"contnr c0 trm   \" ><div class=\"lbl c0 trm \" ><span class=\"txtu\">I, </span></div><div class='features'><span class=\"transo xft\" ><span class=\"f\">transo=</span>I</span></div></div><div class=\"contnr c0 trm   \" ><div class=\"lbl c0 trm \" ><span class=\"txtu\">p. </span></div><div class='features'><span class=\"transo xft\" ><span class=\"f\">transo=</span>p</span></div></div><div class=\"contnr c0 trm   hl\" ><div class=\"lbl c0 trm hl\" ><span class=\"txtu\">115J, </span></div><div class='features'><span class=\"number xft\" ><span class=\"f\">number=</span>1151</span><span class=\"transo xft\" ><span class=\"f\">transo=</span>115J</span></div></div><div class=\"contnr c0 trm   \" ><div class=\"lbl c0 trm \" ><span class=\"txtu\">20 </span></div><div class='features'><span class=\"transo xft\" ><span class=\"f\">transo=</span>20</span></div></div><div class=\"contnr c0 trm   \" ><div class=\"lbl c0 trm \" ><span class=\"txtu\">april </span></div><div class='features'><span class=\"transo xft\" ><span class=\"f\">transo=</span>april</span></div></div><div class=\"contnr c0 trm   \" ><div class=\"lbl c0 trm \" ><span class=\"txtu\">d. </span></div><div class='features'><span class=\"transo xft\" ><span class=\"f\">transo=</span>d</span></div></div><div class=\"contnr c0 trm   \" ><div class=\"lbl c0 trm \" ><span class=\"txtu\">a. </span></div><div class='features'><span class=\"transo xft\" ><span class=\"f\">transo=</span>a</span></div></div><div class=\"contnr c0 trm   \" ><div class=\"lbl c0 trm \" ><span class=\"txtu\">v.</span></div><div class='features'><span class=\"transo xft\" ><span class=\"f\">transo=</span>v</span></div></div></div></div></div>"
      ],
      "text/plain": [
       "<IPython.core.display.HTML object>"
      ]
     },
     "metadata": {},
     "output_type": "display_data"
    },
    {
     "data": {
      "text/html": [
       "<p><b>result</b> <i>2</i></p>"
      ],
      "text/plain": [
       "<IPython.core.display.HTML object>"
      ]
     },
     "metadata": {},
     "output_type": "display_data"
    },
    {
     "data": {
      "text/html": [
       "<div class=\"section \"><a target=\"_blank\" href=\"http://resources.huygens.knaw.nl/retroboeken/generalemissiven/#page=46&amp;source=2\" title=\"Show this document on Huygens\" sec=\"2 33:22\">2 33:22</a></div><div class=\" children\"><div class=\"contnr c3    \" ><div class=\"lbl c3  \" ><span class=\"nd\">line</span></div><div class=\"children hor wrap \"><div class=\"contnr c0 trm   \" ><div class=\"lbl c0 trm \" ><span class=\"txtu\">schuylt (</span></div><div class='features'><span class=\"transo xft\" ><span class=\"f\">transo=</span>schuylt</span></div></div><div class=\"contnr c0 trm   \" ><div class=\"lbl c0 trm \" ><span class=\"txtu\">alles </span></div><div class='features'><span class=\"transo xft\" ><span class=\"f\">transo=</span>alles</span></div></div><div class=\"contnr c0 trm   \" ><div class=\"lbl c0 trm \" ><span class=\"txtu\">tot </span></div><div class='features'><span class=\"transo xft\" ><span class=\"f\">transo=</span>tot</span></div></div><div class=\"contnr c0 trm   \" ><div class=\"lbl c0 trm \" ><span class=\"txtu\">laste </span></div><div class='features'><span class=\"transo xft\" ><span class=\"f\">transo=</span>laste</span></div></div><div class=\"contnr c0 trm   \" ><div class=\"lbl c0 trm \" ><span class=\"txtu\">van </span></div><div class='features'><span class=\"transo xft\" ><span class=\"f\">transo=</span>van</span></div></div><div class=\"contnr c0 trm   \" ><div class=\"lbl c0 trm \" ><span class=\"txtu\">de </span></div><div class='features'><span class=\"transo xft\" ><span class=\"f\">transo=</span>de</span></div></div><div class=\"contnr c0 trm   \" ><div class=\"lbl c0 trm \" ><span class=\"txtu\">Comp.</span></div><div class='features'><span class=\"transo xft\" ><span class=\"f\">transo=</span>Comp</span></div></div><div class=\"contnr c0 trm   \" ><div class=\"lbl c0 trm \" ><span class=\"txtu\">e </span></div><div class='features'><span class=\"transo xft\" ><span class=\"f\">transo=</span>e</span></div></div><div class=\"contnr c0 trm   \" ><div class=\"lbl c0 trm \" ><span class=\"txtu\">loopende), </span></div><div class='features'><span class=\"transo xft\" ><span class=\"f\">transo=</span>loopende</span></div></div><div class=\"contnr c0 trm   \" ><div class=\"lbl c0 trm \" ><span class=\"txtu\">deminueert </span></div><div class='features'><span class=\"transo xft\" ><span class=\"f\">transo=</span>deminueert</span></div></div><div class=\"contnr c0 trm   \" ><div class=\"lbl c0 trm \" ><span class=\"txtu\">d’advance </span></div><div class='features'><span class=\"transo xft\" ><span class=\"f\">transo=</span>d’advance</span></div></div><div class=\"contnr c0 trm   \" ><div class=\"lbl c0 trm \" ><span class=\"txtu\">van </span></div><div class='features'><span class=\"transo xft\" ><span class=\"f\">transo=</span>van</span></div></div><div class=\"contnr c0 trm   \" ><div class=\"lbl c0 trm \" ><span class=\"txtu\">60 </span></div><div class='features'><span class=\"transo xft\" ><span class=\"f\">transo=</span>60</span></div></div><div class=\"contnr c0 trm   hl\" ><div class=\"lbl c0 trm hl\" ><span class=\"txtu\">è70</span></div><div class='features'><span class=\"number xft\" ><span class=\"f\">number=</span>670</span><span class=\"transo xft\" ><span class=\"f\">transo=</span>è70</span></div></div></div></div></div>"
      ],
      "text/plain": [
       "<IPython.core.display.HTML object>"
      ]
     },
     "metadata": {},
     "output_type": "display_data"
    },
    {
     "data": {
      "text/html": [
       "<p><b>result</b> <i>3</i></p>"
      ],
      "text/plain": [
       "<IPython.core.display.HTML object>"
      ]
     },
     "metadata": {},
     "output_type": "display_data"
    },
    {
     "data": {
      "text/html": [
       "<div class=\"section \"><a target=\"_blank\" href=\"http://resources.huygens.knaw.nl/retroboeken/generalemissiven/#page=68&amp;source=2\" title=\"Show this document on Huygens\" sec=\"2 55:33\">2 55:33</a></div><div class=\" children\"><div class=\"contnr c3    \" ><div class=\"lbl c3  \" ><span class=\"nd\">line</span></div><div class=\"children hor wrap \"><div class=\"contnr c0 trm   \" ><div class=\"lbl c0 trm \" ><span class=\"txtu\">Ticco, </span></div><div class='features'><span class=\"transo xft\" ><span class=\"f\">transo=</span>Ticco</span></div></div><div class=\"contnr c0 trm   \" ><div class=\"lbl c0 trm \" ><span class=\"txtu\">samen </span></div><div class='features'><span class=\"transo xft\" ><span class=\"f\">transo=</span>samen</span></div></div><div class=\"contnr c0 trm   hl\" ><div class=\"lbl c0 trm hl\" ><span class=\"txtu\">9400J </span></div><div class='features'><span class=\"number xft\" ><span class=\"f\">number=</span>94001</span><span class=\"transo xft\" ><span class=\"f\">transo=</span>9400J</span></div></div><div class=\"contnr c0 trm   \" ><div class=\"lbl c0 trm \" ><span class=\"txtu\">realen, </span></div><div class='features'><span class=\"transo xft\" ><span class=\"f\">transo=</span>realen</span></div></div><div class=\"contnr c0 trm   \" ><div class=\"lbl c0 trm \" ><span class=\"txtu\">op </span></div><div class='features'><span class=\"transo xft\" ><span class=\"f\">transo=</span>op</span></div></div><div class=\"contnr c0 trm   \" ><div class=\"lbl c0 trm \" ><span class=\"txtu\">Atchin </span></div><div class='features'><span class=\"transo xft\" ><span class=\"f\">transo=</span>Atchin</span></div></div><div class=\"contnr c0 trm   \" ><div class=\"lbl c0 trm \" ><span class=\"txtu\">te </span></div><div class='features'><span class=\"transo xft\" ><span class=\"f\">transo=</span>te</span></div></div><div class=\"contnr c0 trm   \" ><div class=\"lbl c0 trm \" ><span class=\"txtu\">nemen, </span></div><div class='features'><span class=\"transo xft\" ><span class=\"f\">transo=</span>nemen</span></div></div><div class=\"contnr c0 trm   \" ><div class=\"lbl c0 trm \" ><span class=\"txtu\">met </span></div><div class='features'><span class=\"transo xft\" ><span class=\"f\">transo=</span>met</span></div></div><div class=\"contnr c0 trm   \" ><div class=\"lbl c0 trm \" ><span class=\"txtu\">waerschouwingh </span></div><div class='features'><span class=\"transo xft\" ><span class=\"f\">transo=</span>waerschouwingh</span></div></div><div class=\"contnr c0 trm   \" ><div class=\"lbl c0 trm \" ><span class=\"txtu\">in </span></div><div class='features'><span class=\"transo xft\" ><span class=\"f\">transo=</span>in</span></div></div><div class=\"contnr c0 trm   \" ><div class=\"lbl c0 trm \" ><span class=\"txtu\">toecomende</span></div><div class='features'><span class=\"transo xft\" ><span class=\"f\">transo=</span>toecomende</span></div></div></div></div></div>"
      ],
      "text/plain": [
       "<IPython.core.display.HTML object>"
      ]
     },
     "metadata": {},
     "output_type": "display_data"
    },
    {
     "data": {
      "text/html": [
       "<p><b>result</b> <i>4</i></p>"
      ],
      "text/plain": [
       "<IPython.core.display.HTML object>"
      ]
     },
     "metadata": {},
     "output_type": "display_data"
    },
    {
     "data": {
      "text/html": [
       "<div class=\"section \"><a target=\"_blank\" href=\"http://resources.huygens.knaw.nl/retroboeken/generalemissiven/#page=69&amp;source=2\" title=\"Show this document on Huygens\" sec=\"2 56:25\">2 56:25</a></div><div class=\" children\"><div class=\"contnr c3    \" ><div class=\"lbl c3  \" ><span class=\"nd\">line</span></div><div class=\"children hor wrap \"><div class=\"contnr c0 trm   \" ><div class=\"lbl c0 trm \" ><span class=\"txtu\">van </span></div><div class='features'><span class=\"transo xft\" ><span class=\"f\">transo=</span>van</span></div></div><div class=\"contnr c0 trm   \" ><div class=\"lbl c0 trm \" ><span class=\"txtu\">juweelen </span></div><div class='features'><span class=\"transo xft\" ><span class=\"f\">transo=</span>juweelen</span></div></div><div class=\"contnr c0 trm   \" ><div class=\"lbl c0 trm \" ><span class=\"txtu\">ende </span></div><div class='features'><span class=\"transo xft\" ><span class=\"f\">transo=</span>ende</span></div></div><div class=\"contnr c0 trm   \" ><div class=\"lbl c0 trm \" ><span class=\"txtu\">coopmanschappen, </span></div><div class='features'><span class=\"transo xft\" ><span class=\"f\">transo=</span>coopmanschappen</span></div></div><div class=\"contnr c0 trm   \" ><div class=\"lbl c0 trm \" ><span class=\"txtu\">sijnde </span></div><div class='features'><span class=\"transo xft\" ><span class=\"f\">transo=</span>sijnde</span></div></div><div class=\"contnr c0 trm   \" ><div class=\"lbl c0 trm \" ><span class=\"txtu\">per </span></div><div class='features'><span class=\"transo xft\" ><span class=\"f\">transo=</span>per</span></div></div><div class=\"contnr c0 trm   \" ><div class=\"lbl c0 trm \" ><span class=\"txtu\">reste </span></div><div class='features'><span class=\"transo xft\" ><span class=\"f\">transo=</span>reste</span></div></div><div class=\"contnr c0 trm   \" ><div class=\"lbl c0 trm \" ><span class=\"txtu\">3343 </span></div><div class='features'><span class=\"transo xft\" ><span class=\"f\">transo=</span>3343</span></div></div><div class=\"contnr c0 trm   \" ><div class=\"lbl c0 trm \" ><span class=\"txtu\">tayl </span></div><div class='features'><span class=\"transo xft\" ><span class=\"f\">transo=</span>tayl</span></div></div><div class=\"contnr c0 trm   hl\" ><div class=\"lbl c0 trm hl\" ><span class=\"txtu\">13J </span></div><div class='features'><span class=\"number xft\" ><span class=\"f\">number=</span>131</span><span class=\"transo xft\" ><span class=\"f\">transo=</span>13J</span></div></div><div class=\"contnr c0 trm   \" ><div class=\"lbl c0 trm \" ><span class=\"txtu\">maes </span></div><div class='features'><span class=\"transo xft\" ><span class=\"f\">transo=</span>maes</span></div></div><div class=\"contnr c0 trm   \" ><div class=\"lbl c0 trm \" ><span class=\"txtu\">ofte</span></div><div class='features'><span class=\"transo xft\" ><span class=\"f\">transo=</span>ofte</span></div></div></div></div></div>"
      ],
      "text/plain": [
       "<IPython.core.display.HTML object>"
      ]
     },
     "metadata": {},
     "output_type": "display_data"
    },
    {
     "data": {
      "text/html": [
       "<p><b>result</b> <i>5</i></p>"
      ],
      "text/plain": [
       "<IPython.core.display.HTML object>"
      ]
     },
     "metadata": {},
     "output_type": "display_data"
    },
    {
     "data": {
      "text/html": [
       "<div class=\"section \"><a target=\"_blank\" href=\"http://resources.huygens.knaw.nl/retroboeken/generalemissiven/#page=104&amp;source=2\" title=\"Show this document on Huygens\" sec=\"2 91:19\">2 91:19</a></div><div class=\" children\"><div class=\"contnr c3    \" ><div class=\"lbl c3  \" ><span class=\"nd\">line</span></div><div class=\"children hor wrap \"><div class=\"contnr c1    \" ><div class=\"lbl c1  \" ><span class=\"nd\">row</span></div><div class=\"children hor wrap \"><div class=\"contnr c1    \" ><div class=\"lbl c1  \" ><span class=\"nd\">cell</span></div><div class=\"children hor wrap \"><div class=\"contnr c0 trm   \" ><div class=\"lbl c0 trm \" ><span class=\"txtu\">Eerstelijck:</span></div><div class='features'><span class=\"transo xft\" ><span class=\"f\">transo=</span>Eerstelijck</span></div></div></div></div><div class=\"contnr c1    \" ><div class=\"lbl c1  \" ><span class=\"nd\">cell</span></div><div class=\"children hor wrap \"><div class=\"contnr c0 trm   \" ><div class=\"lbl c0 trm \" ><span class=\"txtu\">129323/</span></div><div class='features'><span class=\"transo xft\" ><span class=\"f\">transo=</span>129323</span></div></div><div class=\"contnr c0 trm   \" ><div class=\"lbl c0 trm \" ><span class=\"txtu\">16</span></div><div class='features'><span class=\"transo xft\" ><span class=\"f\">transo=</span>16</span></div></div></div></div><div class=\"contnr c1    \" ><div class=\"lbl c1  \" ><span class=\"nd\">cell</span></div><div class=\"children hor wrap \"><div class=\"contnr c0 trm   \" ><div class=\"lbl c0 trm \" ><span class=\"txtu\">realen </span></div><div class='features'><span class=\"transo xft\" ><span class=\"f\">transo=</span>realen</span></div></div><div class=\"contnr c0 trm   \" ><div class=\"lbl c0 trm \" ><span class=\"txtu\">voor </span></div><div class='features'><span class=\"transo xft\" ><span class=\"f\">transo=</span>voor</span></div></div><div class=\"contnr c0 trm   \" ><div class=\"lbl c0 trm \" ><span class=\"txtu\">intrest </span></div><div class='features'><span class=\"transo xft\" ><span class=\"f\">transo=</span>intrest</span></div></div><div class=\"contnr c0 trm   \" ><div class=\"lbl c0 trm \" ><span class=\"txtu\">van </span></div><div class='features'><span class=\"transo xft\" ><span class=\"f\">transo=</span>van</span></div></div><div class=\"contnr c0 trm   hl\" ><div class=\"lbl c0 trm hl\" ><span class=\"txtu\">14J </span></div><div class='features'><span class=\"number xft\" ><span class=\"f\">number=</span>141</span><span class=\"transo xft\" ><span class=\"f\">transo=</span>14J</span></div></div><div class=\"contnr c0 trm   \" ><div class=\"lbl c0 trm \" ><span class=\"txtu\">maenden </span></div><div class='features'><span class=\"transo xft\" ><span class=\"f\">transo=</span>maenden</span></div></div><div class=\"contnr c0 trm   \" ><div class=\"lbl c0 trm \" ><span class=\"txtu\">a </span></div><div class='features'><span class=\"transo xft\" ><span class=\"f\">transo=</span>a</span></div></div><div class=\"contnr c0 trm   \" ><div class=\"lbl c0 trm \" ><span class=\"txtu\">percento </span></div><div class='features'><span class=\"transo xft\" ><span class=\"f\">transo=</span>percento</span></div></div><div class=\"contnr c0 trm   \" ><div class=\"lbl c0 trm \" ><span class=\"txtu\">van </span></div><div class='features'><span class=\"transo xft\" ><span class=\"f\">transo=</span>van</span></div></div><div class=\"contnr c0 trm   \" ><div class=\"lbl c0 trm \" ><span class=\"txtu\">r.</span></div><div class='features'><span class=\"transo xft\" ><span class=\"f\">transo=</span>r</span></div></div><div class=\"contnr c0 trm   \" ><div class=\"lbl c0 trm \" ><span class=\"txtu\">a </span></div><div class='features'><span class=\"transo xft\" ><span class=\"f\">transo=</span>a</span></div></div><div class=\"contnr c0 trm   \" ><div class=\"lbl c0 trm \" ><span class=\"txtu\">35678, </span></div><div class='features'><span class=\"transo xft\" ><span class=\"f\">transo=</span>35678</span></div></div><div class=\"contnr c0 trm   \" ><div class=\"lbl c0 trm \" ><span class=\"txtu\">dat </span></div><div class='features'><span class=\"transo xft\" ><span class=\"f\">transo=</span>dat</span></div></div><div class=\"contnr c0 trm   \" ><div class=\"lbl c0 trm \" ><span class=\"txtu\">monteert </span></div><div class='features'><span class=\"transo xft\" ><span class=\"f\">transo=</span>monteert</span></div></div><div class=\"contnr c0 trm   \" ><div class=\"lbl c0 trm \" ><span class=\"txtu\">’t </span></div><div class='features'><span class=\"transo xft\" ><span class=\"f\">transo=</span>’t</span></div></div><div class=\"contnr c0 trm   \" ><div class=\"lbl c0 trm \" ><span class=\"txtu\">cargasoen, </span></div><div class='features'><span class=\"transo xft\" ><span class=\"f\">transo=</span>cargasoen</span></div></div><div class=\"contnr c0 trm   \" ><div class=\"lbl c0 trm \" ><span class=\"txtu\">bestaende </span></div><div class='features'><span class=\"transo xft\" ><span class=\"f\">transo=</span>bestaende</span></div></div><div class=\"contnr c0 trm   \" ><div class=\"lbl c0 trm \" ><span class=\"txtu\">uyt </span></div><div class='features'><span class=\"transo xft\" ><span class=\"f\">transo=</span>uyt</span></div></div><div class=\"contnr c0 trm   \" ><div class=\"lbl c0 trm \" ><span class=\"txtu\">lijnwaten </span></div><div class='features'><span class=\"transo xft\" ><span class=\"f\">transo=</span>lijnwaten</span></div></div><div class=\"contnr c0 trm   \" ><div class=\"lbl c0 trm \" ><span class=\"txtu\">ende </span></div><div class='features'><span class=\"transo xft\" ><span class=\"f\">transo=</span>ende</span></div></div><div class=\"contnr c0 trm   \" ><div class=\"lbl c0 trm \" ><span class=\"txtu\">diamanten, </span></div><div class='features'><span class=\"transo xft\" ><span class=\"f\">transo=</span>diamanten</span></div></div><div class=\"contnr c0 trm   \" ><div class=\"lbl c0 trm \" ><span class=\"txtu\">den </span></div><div class='features'><span class=\"transo xft\" ><span class=\"f\">transo=</span>den</span></div></div><div class=\"contnr c0 trm   \" ><div class=\"lbl c0 trm \" ><span class=\"txtu\">6en </span></div><div class='features'><span class=\"transo xft\" ><span class=\"f\">transo=</span>6en</span></div></div><div class=\"contnr c0 trm   \" ><div class=\"lbl c0 trm \" ><span class=\"txtu\">mey </span></div><div class='features'><span class=\"transo xft\" ><span class=\"f\">transo=</span>mey</span></div></div><div class=\"contnr c0 trm   \" ><div class=\"lbl c0 trm \" ><span class=\"txtu\">anno </span></div><div class='features'><span class=\"transo xft\" ><span class=\"f\">transo=</span>anno</span></div></div><div class=\"contnr c0 trm   \" ><div class=\"lbl c0 trm \" ><span class=\"txtu\">’38 </span></div><div class='features'><span class=\"transo xft\" ><span class=\"f\">transo=</span>’38</span></div></div><div class=\"contnr c0 trm   \" ><div class=\"lbl c0 trm \" ><span class=\"txtu\">in </span></div><div class='features'><span class=\"transo xft\" ><span class=\"f\">transo=</span>in</span></div></div><div class=\"contnr c0 trm   \" ><div class=\"lbl c0 trm \" ><span class=\"txtu\">den </span></div><div class='features'><span class=\"transo xft\" ><span class=\"f\">transo=</span>den</span></div></div><div class=\"contnr c0 trm   \" ><div class=\"lbl c0 trm \" ><span class=\"txtu\">Corsoer </span></div><div class='features'><span class=\"transo xft\" ><span class=\"f\">transo=</span>Corsoer</span></div></div><div class=\"contnr c0 trm   \" ><div class=\"lbl c0 trm \" ><span class=\"txtu\">gescheept, </span></div><div class='features'><span class=\"transo xft\" ><span class=\"f\">transo=</span>gescheept</span></div></div><div class=\"contnr c0 trm   \" ><div class=\"lbl c0 trm \" ><span class=\"txtu\">tot </span></div><div class='features'><span class=\"transo xft\" ><span class=\"f\">transo=</span>tot</span></div></div><div class=\"contnr c0 trm   \" ><div class=\"lbl c0 trm \" ><span class=\"txtu\">21 </span></div><div class='features'><span class=\"transo xft\" ><span class=\"f\">transo=</span>21</span></div></div><div class=\"contnr c0 trm   \" ><div class=\"lbl c0 trm \" ><span class=\"txtu\">augusti </span></div><div class='features'><span class=\"transo xft\" ><span class=\"f\">transo=</span>augusti</span></div></div><div class=\"contnr c0 trm   \" ><div class=\"lbl c0 trm \" ><span class=\"txtu\">1639 </span></div><div class='features'><span class=\"transo xft\" ><span class=\"f\">transo=</span>1639</span></div></div><div class=\"contnr c0 trm   \" ><div class=\"lbl c0 trm \" ><span class=\"txtu\">gemelte </span></div><div class='features'><span class=\"transo xft\" ><span class=\"f\">transo=</span>gemelte</span></div></div><div class=\"contnr c0 trm   \" ><div class=\"lbl c0 trm \" ><span class=\"txtu\">Corsoer </span></div><div class='features'><span class=\"transo xft\" ><span class=\"f\">transo=</span>Corsoer</span></div></div><div class=\"contnr c0 trm   \" ><div class=\"lbl c0 trm \" ><span class=\"txtu\">van </span></div><div class='features'><span class=\"transo xft\" ><span class=\"f\">transo=</span>van</span></div></div><div class=\"contnr c0 trm   \" ><div class=\"lbl c0 trm \" ><span class=\"txtu\">Macassar </span></div><div class='features'><span class=\"transo xft\" ><span class=\"f\">transo=</span>Macassar</span></div></div><div class=\"contnr c0 trm   \" ><div class=\"lbl c0 trm \" ><span class=\"txtu\">over </span></div><div class='features'><span class=\"transo xft\" ><span class=\"f\">transo=</span>over</span></div></div><div class=\"contnr c0 trm   \" ><div class=\"lbl c0 trm \" ><span class=\"txtu\">Bantam </span></div><div class='features'><span class=\"transo xft\" ><span class=\"f\">transo=</span>Bantam</span></div></div><div class=\"contnr c0 trm   \" ><div class=\"lbl c0 trm \" ><span class=\"txtu\">tot </span></div><div class='features'><span class=\"transo xft\" ><span class=\"f\">transo=</span>tot</span></div></div><div class=\"contnr c0 trm   \" ><div class=\"lbl c0 trm \" ><span class=\"txtu\">Masilipatnam </span></div><div class='features'><span class=\"transo xft\" ><span class=\"f\">transo=</span>Masilipatnam</span></div></div><div class=\"contnr c0 trm   \" ><div class=\"lbl c0 trm \" ><span class=\"txtu\">salvo </span></div><div class='features'><span class=\"transo xft\" ><span class=\"f\">transo=</span>salvo</span></div></div><div class=\"contnr c0 trm   \" ><div class=\"lbl c0 trm \" ><span class=\"txtu\">is </span></div><div class='features'><span class=\"transo xft\" ><span class=\"f\">transo=</span>is</span></div></div><div class=\"contnr c0 trm   \" ><div class=\"lbl c0 trm \" ><span class=\"txtu\">aengelandt ;</span></div><div class='features'><span class=\"transo xft\" ><span class=\"f\">transo=</span>aengelandt</span></div></div></div></div></div></div></div></div></div>"
      ],
      "text/plain": [
       "<IPython.core.display.HTML object>"
      ]
     },
     "metadata": {},
     "output_type": "display_data"
    },
    {
     "data": {
      "text/html": [
       "<p><b>result</b> <i>6</i></p>"
      ],
      "text/plain": [
       "<IPython.core.display.HTML object>"
      ]
     },
     "metadata": {},
     "output_type": "display_data"
    },
    {
     "data": {
      "text/html": [
       "<div class=\"section \"><a target=\"_blank\" href=\"http://resources.huygens.knaw.nl/retroboeken/generalemissiven/#page=104&amp;source=2\" title=\"Show this document on Huygens\" sec=\"2 91:20\">2 91:20</a></div><div class=\" children\"><div class=\"contnr c3    \" ><div class=\"lbl c3  \" ><span class=\"nd\">line</span></div><div class=\"children hor wrap \"><div class=\"contnr c1    \" ><div class=\"lbl c1  \" ><span class=\"nd\">row</span></div><div class=\"children hor wrap \"><div class=\"contnr c1    \" ><div class=\"lbl c1  \" ><span class=\"nd\">cell</span></div><div class=\"children hor wrap \"><div class=\"contnr c0 trm   \" ><div class=\"lbl c0 trm \" ><span class=\"txtu\">ten </span></div><div class='features'><span class=\"transo xft\" ><span class=\"f\">transo=</span>ten</span></div></div><div class=\"contnr c0 trm   \" ><div class=\"lbl c0 trm \" ><span class=\"txtu\">tweeden:</span></div><div class='features'><span class=\"transo xft\" ><span class=\"f\">transo=</span>tweeden</span></div></div></div></div><div class=\"contnr c1    \" ><div class=\"lbl c1  \" ><span class=\"nd\">cell</span></div><div class=\"children hor wrap \"><div class=\"contnr c0 trm   hl\" ><div class=\"lbl c0 trm hl\" ><span class=\"txtu\">2062J</span></div><div class='features'><span class=\"number xft\" ><span class=\"f\">number=</span>20621</span><span class=\"transo xft\" ><span class=\"f\">transo=</span>2062J</span></div></div></div></div><div class=\"contnr c1    \" ><div class=\"lbl c1  \" ><span class=\"nd\">cell</span></div><div class=\"children hor wrap \"><div class=\"contnr c0 trm   \" ><div class=\"lbl c0 trm \" ><span class=\"txtu\">realen </span></div><div class='features'><span class=\"transo xft\" ><span class=\"f\">transo=</span>realen</span></div></div><div class=\"contnr c0 trm   \" ><div class=\"lbl c0 trm \" ><span class=\"txtu\">voor </span></div><div class='features'><span class=\"transo xft\" ><span class=\"f\">transo=</span>voor</span></div></div><div class=\"contnr c0 trm   \" ><div class=\"lbl c0 trm \" ><span class=\"txtu\">intrest </span></div><div class='features'><span class=\"transo xft\" ><span class=\"f\">transo=</span>intrest</span></div></div><div class=\"contnr c0 trm   \" ><div class=\"lbl c0 trm \" ><span class=\"txtu\">van </span></div><div class='features'><span class=\"transo xft\" ><span class=\"f\">transo=</span>van</span></div></div><div class=\"contnr c0 trm   \" ><div class=\"lbl c0 trm \" ><span class=\"txtu\">16 </span></div><div class='features'><span class=\"transo xft\" ><span class=\"f\">transo=</span>16</span></div></div><div class=\"contnr c0 trm   \" ><div class=\"lbl c0 trm \" ><span class=\"txtu\">J </span></div><div class='features'><span class=\"transo xft\" ><span class=\"f\">transo=</span>J</span></div></div><div class=\"contnr c0 trm   \" ><div class=\"lbl c0 trm \" ><span class=\"txtu\">maenden </span></div><div class='features'><span class=\"transo xft\" ><span class=\"f\">transo=</span>maenden</span></div></div><div class=\"contnr c0 trm   \" ><div class=\"lbl c0 trm \" ><span class=\"txtu\">over </span></div><div class='features'><span class=\"transo xft\" ><span class=\"f\">transo=</span>over</span></div></div><div class=\"contnr c0 trm   \" ><div class=\"lbl c0 trm \" ><span class=\"txtu\">’t </span></div><div class='features'><span class=\"transo xft\" ><span class=\"f\">transo=</span>’t</span></div></div><div class=\"contnr c0 trm   \" ><div class=\"lbl c0 trm \" ><span class=\"txtu\">capitael, </span></div><div class='features'><span class=\"transo xft\" ><span class=\"f\">transo=</span>capitael</span></div></div><div class=\"contnr c0 trm   \" ><div class=\"lbl c0 trm \" ><span class=\"txtu\">dat </span></div><div class='features'><span class=\"transo xft\" ><span class=\"f\">transo=</span>dat</span></div></div><div class=\"contnr c0 trm   \" ><div class=\"lbl c0 trm \" ><span class=\"txtu\">den </span></div><div class='features'><span class=\"transo xft\" ><span class=\"f\">transo=</span>den</span></div></div><div class=\"contnr c0 trm   \" ><div class=\"lbl c0 trm \" ><span class=\"txtu\">Corsoer </span></div><div class='features'><span class=\"transo xft\" ><span class=\"f\">transo=</span>Corsoer</span></div></div><div class=\"contnr c0 trm   \" ><div class=\"lbl c0 trm \" ><span class=\"txtu\">gecost </span></div><div class='features'><span class=\"transo xft\" ><span class=\"f\">transo=</span>gecost</span></div></div><div class=\"contnr c0 trm   \" ><div class=\"lbl c0 trm \" ><span class=\"txtu\">soude </span></div><div class='features'><span class=\"transo xft\" ><span class=\"f\">transo=</span>soude</span></div></div><div class=\"contnr c0 trm   \" ><div class=\"lbl c0 trm \" ><span class=\"txtu\">hebben;</span></div><div class='features'><span class=\"transo xft\" ><span class=\"f\">transo=</span>hebben</span></div></div></div></div></div></div></div></div></div>"
      ],
      "text/plain": [
       "<IPython.core.display.HTML object>"
      ]
     },
     "metadata": {},
     "output_type": "display_data"
    },
    {
     "data": {
      "text/html": [
       "<p><b>result</b> <i>7</i></p>"
      ],
      "text/plain": [
       "<IPython.core.display.HTML object>"
      ]
     },
     "metadata": {},
     "output_type": "display_data"
    },
    {
     "data": {
      "text/html": [
       "<div class=\"section \"><a target=\"_blank\" href=\"http://resources.huygens.knaw.nl/retroboeken/generalemissiven/#page=127&amp;source=2\" title=\"Show this document on Huygens\" sec=\"2 114:42\">2 114:42</a></div><div class=\" children\"><div class=\"contnr c3    \" ><div class=\"lbl c3  \" ><span class=\"nd\">line</span></div><div class=\"children hor wrap \"><div class=\"contnr c0 trm   \" ><div class=\"lbl c0 trm \" ><span class=\"txtu\">gedaelt </span></div><div class='features'><span class=\"transo xft\" ><span class=\"f\">transo=</span>gedaelt</span></div></div><div class=\"contnr c0 trm   \" ><div class=\"lbl c0 trm \" ><span class=\"txtu\">was, </span></div><div class='features'><span class=\"transo xft\" ><span class=\"f\">transo=</span>was</span></div></div><div class=\"contnr c0 trm   \" ><div class=\"lbl c0 trm \" ><span class=\"txtu\">is </span></div><div class='features'><span class=\"transo xft\" ><span class=\"f\">transo=</span>is</span></div></div><div class=\"contnr c0 trm   \" ><div class=\"lbl c0 trm \" ><span class=\"txtu\">de </span></div><div class='features'><span class=\"transo xft\" ><span class=\"f\">transo=</span>de</span></div></div><div class=\"contnr c0 trm   \" ><div class=\"lbl c0 trm \" ><span class=\"txtu\">partije </span></div><div class='features'><span class=\"transo xft\" ><span class=\"f\">transo=</span>partije</span></div></div><div class=\"contnr c0 trm   \" ><div class=\"lbl c0 trm \" ><span class=\"txtu\">met </span></div><div class='features'><span class=\"transo xft\" ><span class=\"f\">transo=</span>met</span></div></div><div class=\"contnr c0 trm   \" ><div class=\"lbl c0 trm \" ><span class=\"txtu\">1£ </span></div><div class='features'><span class=\"transo xft\" ><span class=\"f\">transo=</span>1£</span></div></div><div class=\"contnr c0 trm   \" ><div class=\"lbl c0 trm \" ><span class=\"txtu\">cento </span></div><div class='features'><span class=\"transo xft\" ><span class=\"f\">transo=</span>cento</span></div></div><div class=\"contnr c0 trm   \" ><div class=\"lbl c0 trm \" ><span class=\"txtu\">vercocht, </span></div><div class='features'><span class=\"transo xft\" ><span class=\"f\">transo=</span>vercocht</span></div></div><div class=\"contnr c0 trm   \" ><div class=\"lbl c0 trm \" ><span class=\"txtu\">dat </span></div><div class='features'><span class=\"transo xft\" ><span class=\"f\">transo=</span>dat</span></div></div><div class=\"contnr c0 trm   \" ><div class=\"lbl c0 trm \" ><span class=\"txtu\">comt </span></div><div class='features'><span class=\"transo xft\" ><span class=\"f\">transo=</span>comt</span></div></div><div class=\"contnr c0 trm   \" ><div class=\"lbl c0 trm \" ><span class=\"txtu\">’t </span></div><div class='features'><span class=\"transo xft\" ><span class=\"f\">transo=</span>’t</span></div></div><div class=\"contnr c0 trm   \" ><div class=\"lbl c0 trm \" ><span class=\"txtu\">te </span></div><div class='features'><span class=\"transo xft\" ><span class=\"f\">transo=</span>te</span></div></div><div class=\"contnr c0 trm   \" ><div class=\"lbl c0 trm \" ><span class=\"txtu\">wesen </span></div><div class='features'><span class=\"transo xft\" ><span class=\"f\">transo=</span>wesen</span></div></div><div class=\"contnr c0 trm   hl\" ><div class=\"lbl c0 trm hl\" ><span class=\"txtu\">12J</span></div><div class='features'><span class=\"number xft\" ><span class=\"f\">number=</span>121</span><span class=\"transo xft\" ><span class=\"f\">transo=</span>12J</span></div></div></div></div></div>"
      ],
      "text/plain": [
       "<IPython.core.display.HTML object>"
      ]
     },
     "metadata": {},
     "output_type": "display_data"
    },
    {
     "data": {
      "text/html": [
       "<p><b>result</b> <i>8</i></p>"
      ],
      "text/plain": [
       "<IPython.core.display.HTML object>"
      ]
     },
     "metadata": {},
     "output_type": "display_data"
    },
    {
     "data": {
      "text/html": [
       "<div class=\"section \"><a target=\"_blank\" href=\"http://resources.huygens.knaw.nl/retroboeken/generalemissiven/#page=177&amp;source=2\" title=\"Show this document on Huygens\" sec=\"2 164:5\">2 164:5</a></div><div class=\" children\"><div class=\"contnr c3    \" ><div class=\"lbl c3  \" ><span class=\"nd\">line</span></div><div class=\"children hor wrap \"><div class=\"contnr c0 trm   \" ><div class=\"lbl c0 trm \" ><span class=\"txtu\">Noopende </span></div><div class='features'><span class=\"transo xft\" ><span class=\"f\">transo=</span>Noopende</span></div></div><div class=\"contnr c0 trm   \" ><div class=\"lbl c0 trm \" ><span class=\"txtu\">d’affgedrongen </span></div><div class='features'><span class=\"transo xft\" ><span class=\"f\">transo=</span>d’affgedrongen</span></div></div><div class=\"contnr c0 trm   \" ><div class=\"lbl c0 trm \" ><span class=\"txtu\">4006 </span></div><div class='features'><span class=\"transo xft\" ><span class=\"f\">transo=</span>4006</span></div></div><div class=\"contnr c0 trm   \" ><div class=\"lbl c0 trm \" ><span class=\"txtu\">tomannen </span></div><div class='features'><span class=\"transo xft\" ><span class=\"f\">transo=</span>tomannen</span></div></div><div class=\"contnr c0 trm   hl\" ><div class=\"lbl c0 trm hl\" ><span class=\"txtu\">12J </span></div><div class='features'><span class=\"number xft\" ><span class=\"f\">number=</span>121</span><span class=\"transo xft\" ><span class=\"f\">transo=</span>12J</span></div></div><div class=\"contnr c0 trm   \" ><div class=\"lbl c0 trm \" ><span class=\"txtu\">mamoudy </span></div><div class='features'><span class=\"transo xft\" ><span class=\"f\">transo=</span>mamoudy</span></div></div><div class=\"contnr c0 trm   \" ><div class=\"lbl c0 trm \" ><span class=\"txtu\">is </span></div><div class='features'><span class=\"transo xft\" ><span class=\"f\">transo=</span>is</span></div></div><div class=\"contnr c0 trm   \" ><div class=\"lbl c0 trm \" ><span class=\"txtu\">weynigh </span></div><div class='features'><span class=\"transo xft\" ><span class=\"f\">transo=</span>weynigh</span></div></div><div class=\"contnr c0 trm   \" ><div class=\"lbl c0 trm \" ><span class=\"txtu\">off </span></div><div class='features'><span class=\"transo xft\" ><span class=\"f\">transo=</span>off</span></div></div><div class=\"contnr c0 trm   \" ><div class=\"lbl c0 trm \" ><span class=\"txtu\">geen</span></div><div class='features'><span class=\"transo xft\" ><span class=\"f\">transo=</span>geen</span></div></div></div></div></div>"
      ],
      "text/plain": [
       "<IPython.core.display.HTML object>"
      ]
     },
     "metadata": {},
     "output_type": "display_data"
    },
    {
     "data": {
      "text/html": [
       "<p><b>result</b> <i>9</i></p>"
      ],
      "text/plain": [
       "<IPython.core.display.HTML object>"
      ]
     },
     "metadata": {},
     "output_type": "display_data"
    },
    {
     "data": {
      "text/html": [
       "<div class=\"section \"><a target=\"_blank\" href=\"http://resources.huygens.knaw.nl/retroboeken/generalemissiven/#page=181&amp;source=2\" title=\"Show this document on Huygens\" sec=\"2 168:29\">2 168:29</a></div><div class=\" children\"><div class=\"contnr c3    \" ><div class=\"lbl c3  \" ><span class=\"nd\">line</span></div><div class=\"children hor wrap \"><div class=\"contnr c0 trm   hl\" ><div class=\"lbl c0 trm hl\" ><span class=\"txtu\">12818J, </span></div><div class='features'><span class=\"number xft\" ><span class=\"f\">number=</span>128181</span><span class=\"transo xft\" ><span class=\"f\">transo=</span>12818J</span></div></div><div class=\"contnr c0 trm   \" ><div class=\"lbl c0 trm \" ><span class=\"txtu\">die </span></div><div class='features'><span class=\"transo xft\" ><span class=\"f\">transo=</span>die</span></div></div><div class=\"contnr c0 trm   \" ><div class=\"lbl c0 trm \" ><span class=\"txtu\">nu </span></div><div class='features'><span class=\"transo xft\" ><span class=\"f\">transo=</span>nu</span></div></div><div class=\"contnr c0 trm   \" ><div class=\"lbl c0 trm \" ><span class=\"txtu\">mede </span></div><div class='features'><span class=\"transo xft\" ><span class=\"f\">transo=</span>mede</span></div></div><div class=\"contnr c0 trm   \" ><div class=\"lbl c0 trm \" ><span class=\"txtu\">overgaen.</span></div><div class='features'><span class=\"transo xft\" ><span class=\"f\">transo=</span>overgaen</span></div></div></div></div></div>"
      ],
      "text/plain": [
       "<IPython.core.display.HTML object>"
      ]
     },
     "metadata": {},
     "output_type": "display_data"
    },
    {
     "data": {
      "text/html": [
       "<p><b>result</b> <i>10</i></p>"
      ],
      "text/plain": [
       "<IPython.core.display.HTML object>"
      ]
     },
     "metadata": {},
     "output_type": "display_data"
    },
    {
     "data": {
      "text/html": [
       "<div class=\"section \"><a target=\"_blank\" href=\"http://resources.huygens.knaw.nl/retroboeken/generalemissiven/#page=182&amp;source=2\" title=\"Show this document on Huygens\" sec=\"2 169:3\">2 169:3</a></div><div class=\" children\"><div class=\"contnr c3    \" ><div class=\"lbl c3  \" ><span class=\"nd\">line</span></div><div class=\"children hor wrap \"><div class=\"contnr c0 trm   \" ><div class=\"lbl c0 trm \" ><span class=\"txtu\">Van </span></div><div class='features'><span class=\"transo xft\" ><span class=\"f\">transo=</span>Van</span></div></div><div class=\"contnr c0 trm   \" ><div class=\"lbl c0 trm \" ><span class=\"txtu\">Masilipatnam </span></div><div class='features'><span class=\"transo xft\" ><span class=\"f\">transo=</span>Masilipatnam</span></div></div><div class=\"contnr c0 trm   \" ><div class=\"lbl c0 trm \" ><span class=\"txtu\">wert </span></div><div class='features'><span class=\"transo xft\" ><span class=\"f\">transo=</span>wert</span></div></div><div class=\"contnr c0 trm   \" ><div class=\"lbl c0 trm \" ><span class=\"txtu\">ons </span></div><div class='features'><span class=\"transo xft\" ><span class=\"f\">transo=</span>ons</span></div></div><div class=\"contnr c0 trm   \" ><div class=\"lbl c0 trm \" ><span class=\"txtu\">gesonden </span></div><div class='features'><span class=\"transo xft\" ><span class=\"f\">transo=</span>gesonden</span></div></div><div class=\"contnr c0 trm   hl\" ><div class=\"lbl c0 trm hl\" ><span class=\"txtu\">124J </span></div><div class='features'><span class=\"number xft\" ><span class=\"f\">number=</span>1241</span><span class=\"transo xft\" ><span class=\"f\">transo=</span>124J</span></div></div><div class=\"contnr c0 trm   \" ><div class=\"lbl c0 trm \" ><span class=\"txtu\">onzen </span></div><div class='features'><span class=\"transo xft\" ><span class=\"f\">transo=</span>onzen</span></div></div><div class=\"contnr c0 trm   \" ><div class=\"lbl c0 trm \" ><span class=\"txtu\">cleen </span></div><div class='features'><span class=\"transo xft\" ><span class=\"f\">transo=</span>cleen</span></div></div><div class=\"contnr c0 trm   \" ><div class=\"lbl c0 trm \" ><span class=\"txtu\">besarsteen, </span></div><div class='features'><span class=\"transo xft\" ><span class=\"f\">transo=</span>besarsteen</span></div></div><div class=\"contnr c0 trm   \" ><div class=\"lbl c0 trm \" ><span class=\"txtu\">costende</span></div><div class='features'><span class=\"transo xft\" ><span class=\"f\">transo=</span>costende</span></div></div></div></div></div>"
      ],
      "text/plain": [
       "<IPython.core.display.HTML object>"
      ]
     },
     "metadata": {},
     "output_type": "display_data"
    }
   ],
   "source": [
    "A.show(results, start=1, end=10)"
   ]
  },
  {
   "cell_type": "markdown",
   "metadata": {},
   "source": [
    "# All together!\n",
    "\n",
    "If more researchers have shared data modules, you can draw them all in.\n",
    "\n",
    "Then you can design queries that use features from all these different sources.\n",
    "\n",
    "In that way, you build your own research on top of the work of others."
   ]
  },
  {
   "cell_type": "markdown",
   "metadata": {},
   "source": [
    "Hover over the features to see where they come from, and you'll see they come from your local github repo."
   ]
  },
  {
   "cell_type": "markdown",
   "metadata": {},
   "source": [
    "---\n",
    "\n",
    "# Contents\n",
    "\n",
    "* **[start](start.ipynb)** start computing with this corpus\n",
    "* **[search](search.ipynb)** turbo charge your hand-coding with search templates\n",
    "* **[compute](compute.ipynb)** sink down a level and compute it yourself\n",
    "* **[exportExcel](exportExcel.ipynb)** make tailor-made spreadsheets out of your results\n",
    "* **[annotate](annotate.ipynb)** export text, annotate with BRAT, import annotations\n",
    "* **share** draw in other people's data and let them use yours\n",
    "\n",
    "CC-BY Dirk Roorda"
   ]
  }
 ],
 "metadata": {
  "jupytext": {
   "encoding": "# -*- coding: utf-8 -*-"
  },
  "kernelspec": {
   "display_name": "Python 3",
   "language": "python",
   "name": "python3"
  },
  "language_info": {
   "codemirror_mode": {
    "name": "ipython",
    "version": 3
   },
   "file_extension": ".py",
   "mimetype": "text/x-python",
   "name": "python",
   "nbconvert_exporter": "python",
   "pygments_lexer": "ipython3",
   "version": "3.8.5"
  }
 },
 "nbformat": 4,
 "nbformat_minor": 4
}
