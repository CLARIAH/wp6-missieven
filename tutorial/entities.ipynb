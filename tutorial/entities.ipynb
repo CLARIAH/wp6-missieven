{
 "cells": [
  {
   "cell_type": "markdown",
   "metadata": {},
   "source": [
    "<img align=\"right\" src=\"images/tf.png\" width=\"200\"/>\n",
    "<img align=\"right\" src=\"images/huc.png\" width=\"200\"/>\n",
    "<img align=\"right\" src=\"images/logo.png\" width=\"200\"/>\n",
    "\n",
    "---\n",
    "\n",
    "To get started: consult [start](start.ipynb)\n",
    "\n",
    "---\n",
    "\n",
    "# Named Entities\n",
    "\n",
    "A research group has applied a NER-algorithm to this corpus (Named Entity Recognition) and \n",
    "delivered the results as Text-Fabric features in \n",
    "[cltl/voc-missives](https://github.com/cltl/voc-missives).\n",
    "\n",
    "We can use these shared features, they are in `export/tf` and we see that they have been produced\n",
    "against version `1.0` of the corpus data.\n",
    "\n",
    "This is an example of the practice of using research results that others have shared.\n",
    "\n",
    "Note that we do not have to do a manual effort to get the data and to integrate it in the corpus.\n",
    "We refer to them by their location on GitHub, and Text-Fabric does the rest."
   ]
  },
  {
   "cell_type": "code",
   "execution_count": 1,
   "metadata": {},
   "outputs": [],
   "source": [
    "%load_ext autoreload\n",
    "%autoreload 2"
   ]
  },
  {
   "cell_type": "code",
   "execution_count": 2,
   "metadata": {
    "ExecuteTime": {
     "end_time": "2018-05-24T10:06:39.818664Z",
     "start_time": "2018-05-24T10:06:39.796588Z"
    }
   },
   "outputs": [],
   "source": [
    "import collections\n",
    "\n",
    "from tf.app import use"
   ]
  },
  {
   "cell_type": "markdown",
   "metadata": {},
   "source": [
    "Note that we draw in an earlier version, in which there were still some encoding problems.\n",
    "Note that when time goes on, the entities may evolve further, and also the main corpus may evolve further.\n",
    "\n",
    "If the main corpus gets ahead of the entities, we have ways to preserver the older entities against the newer corpus.\n",
    "In the [porting](porting.ipynb) notebook we'll show how we can carry over\n",
    "the entity features from an older version to a newer version of the main corpus."
   ]
  },
  {
   "cell_type": "markdown",
   "metadata": {},
   "source": [
    "**Temporary notice**\n",
    "\n",
    "At the moment of writing, the entity features are present in the\n",
    "[cltl/voc-missives](https://github.com/cltl/voc-missives)\n",
    "repo, but only on the dev branch.\n",
    "We have made a copy of these features in this repo, in `voc-missives/export/tf`."
   ]
  },
  {
   "cell_type": "code",
   "execution_count": 3,
   "metadata": {},
   "outputs": [
    {
     "data": {
      "text/html": [
       "<b title=\"local release\">TF-app:</b> <span title=\"r1.0=#f6e4276d1c8f9f15923d54ccf2339698820b2948 offline under ~/text-fabric-data/github\">~/text-fabric-data/github/CLARIAH/wp6-missieven/app</span>"
      ],
      "text/plain": [
       "<IPython.core.display.HTML object>"
      ]
     },
     "metadata": {},
     "output_type": "display_data"
    },
    {
     "data": {
      "text/html": [
       "<b title=\"local release\">data:</b> <span title=\"r1.0=#f6e4276d1c8f9f15923d54ccf2339698820b2948 offline under ~/text-fabric-data/github\">~/text-fabric-data/github/CLARIAH/wp6-missieven/tf/1.0</span>"
      ],
      "text/plain": [
       "<IPython.core.display.HTML object>"
      ]
     },
     "metadata": {},
     "output_type": "display_data"
    },
    {
     "data": {
      "text/html": [
       "<b title=\"latest commit\">data:</b> <span title=\"#529787b41807b9f223f5995a96700697ac48fd2d\">~/text-fabric-data/github/CLARIAH/wp6-missieven/voc-missives/export/tf/1.0</span>"
      ],
      "text/plain": [
       "<IPython.core.display.HTML object>"
      ]
     },
     "metadata": {},
     "output_type": "display_data"
    },
    {
     "data": {
      "text/html": [
       "<b>Text-Fabric:</b> <a target=\"_blank\" href=\"https://annotation.github.io/text-fabric/tf/cheatsheet.html\" title=\"text-fabric-api\">Text-Fabric API 10.2.6</a>, <a target=\"_blank\" href=\"https://github.com/CLARIAH/wp6-missieven/blob/master/app\" title=\"CLARIAH/wp6-missieven TF-app\">CLARIAH/wp6-missieven/app  v3</a>, <a target=\"_blank\" href=\"https://annotation.github.io/text-fabric/tf/about/searchusage.html\" title=\"Search Templates Introduction and Reference\">Search Reference</a><br><b>Data:</b> <a target=\"_blank\" href=\"https://github.com/CLARIAH/wp6-missieven/blob/master/docs/about.md\" title=\"provenance of General Missives Dutch East India Company 1600-1800\">WP6-MISSIEVEN</a>, <a target=\"_blank\" href=\"https://annotation.github.io/text-fabric/tf/writing/.html\" title=\"How TF features represent text\">Character table</a>, <a target=\"_blank\" href=\"https://github.com/CLARIAH/wp6-missieven/blob/master/docs/transcription.md\" title=\"WP6-MISSIEVEN feature documentation\">Feature docs</a><br><b>Features:</b><br>\n",
       "<details><summary><b><github>CLARIAH/wp6-missieven/voc-missives/export/tf</b></summary>\n",
       "    <div class=\"fcorpus\">\n",
       "\n",
       "<div class=\"frow\">\n",
       "    <div class=\"fnamecat \">\n",
       "<a target=\"_blank\" href=\"https://github.com/CLARIAH/wp6-missieven/tree/master/voc-missives/export/tf\" title=\"~/text-fabric-data/github/CLARIAH/wp6-missieven/voc-missives/export/tf/1.0/entityId.tf\">entityId</a>\n",
       "</div>\n",
       "<div class=\"fmono\">str</div>\n",
       "\n",
       "<span> identifier of a named entity</span>\n",
       "\n",
       "</div>\n",
       "\n",
       "<div class=\"frow\">\n",
       "    <div class=\"fnamecat \">\n",
       "<a target=\"_blank\" href=\"https://github.com/CLARIAH/wp6-missieven/tree/master/voc-missives/export/tf\" title=\"~/text-fabric-data/github/CLARIAH/wp6-missieven/voc-missives/export/tf/1.0/entityKind.tf\">entityKind</a>\n",
       "</div>\n",
       "<div class=\"fmono\">str</div>\n",
       "\n",
       "<span> kind of a named entity</span>\n",
       "\n",
       "</div>\n",
       "\n",
       "    </div>\n",
       "</details>\n",
       "\n",
       "<details><summary><b>General Missives Dutch East India Company 1600-1800</b></summary>\n",
       "    <div class=\"fcorpus\">\n",
       "\n",
       "<div class=\"frow\">\n",
       "    <div class=\"fnamecat \">\n",
       "<a target=\"_blank\" href=\"https://github.com/CLARIAH/wp6-missieven/blob/master/docs/transcription.md\" title=\"~/text-fabric-data/github/CLARIAH/wp6-missieven/tf/1.0/author.tf\">author</a>\n",
       "</div>\n",
       "<div class=\"fmono\">str</div>\n",
       "\n",
       "<span> authors of the letter, surnames only</span>\n",
       "\n",
       "</div>\n",
       "\n",
       "<div class=\"frow\">\n",
       "    <div class=\"fnamecat \">\n",
       "<a target=\"_blank\" href=\"https://github.com/CLARIAH/wp6-missieven/blob/master/docs/transcription.md\" title=\"~/text-fabric-data/github/CLARIAH/wp6-missieven/tf/1.0/authorFull.tf\">authorFull</a>\n",
       "</div>\n",
       "<div class=\"fmono\">str</div>\n",
       "\n",
       "<span> authors of the letter, full names</span>\n",
       "\n",
       "</div>\n",
       "\n",
       "<div class=\"frow\">\n",
       "    <div class=\"fnamecat \">\n",
       "<a target=\"_blank\" href=\"https://github.com/CLARIAH/wp6-missieven/blob/master/docs/transcription.md\" title=\"~/text-fabric-data/github/CLARIAH/wp6-missieven/tf/1.0/col.tf\">col</a>\n",
       "</div>\n",
       "<div class=\"fmono\">int</div>\n",
       "\n",
       "<span> column number of a column in a row in a table</span>\n",
       "\n",
       "</div>\n",
       "\n",
       "<div class=\"frow\">\n",
       "    <div class=\"fnamecat \">\n",
       "<a target=\"_blank\" href=\"https://github.com/CLARIAH/wp6-missieven/blob/master/docs/transcription.md\" title=\"~/text-fabric-data/github/CLARIAH/wp6-missieven/tf/1.0/day.tf\">day</a>\n",
       "</div>\n",
       "<div class=\"fmono\">int</div>\n",
       "\n",
       "<span> day part of the date of the letter</span>\n",
       "\n",
       "</div>\n",
       "\n",
       "<div class=\"frow\">\n",
       "    <div class=\"fnamecat \">\n",
       "<a target=\"_blank\" href=\"https://github.com/CLARIAH/wp6-missieven/blob/master/docs/transcription.md\" title=\"~/text-fabric-data/github/CLARIAH/wp6-missieven/tf/1.0/isden.tf\">isden</a>\n",
       "</div>\n",
       "<div class=\"fmono\">int</div>\n",
       "\n",
       "<span> whether a word is the denominator in fraction, e.g. 4 in 1/4</span>\n",
       "\n",
       "</div>\n",
       "\n",
       "<div class=\"frow\">\n",
       "    <div class=\"fnamecat \">\n",
       "<a target=\"_blank\" href=\"https://github.com/CLARIAH/wp6-missieven/blob/master/docs/transcription.md\" title=\"~/text-fabric-data/github/CLARIAH/wp6-missieven/tf/1.0/isemph.tf\">isemph</a>\n",
       "</div>\n",
       "<div class=\"fmono\">str</div>\n",
       "\n",
       "<span> whether a word is emphasized by typography</span>\n",
       "\n",
       "</div>\n",
       "\n",
       "<div class=\"frow\">\n",
       "    <div class=\"fnamecat \">\n",
       "<a target=\"_blank\" href=\"https://github.com/CLARIAH/wp6-missieven/blob/master/docs/transcription.md\" title=\"~/text-fabric-data/github/CLARIAH/wp6-missieven/tf/1.0/isfolio.tf\">isfolio</a>\n",
       "</div>\n",
       "<div class=\"fmono\">int</div>\n",
       "\n",
       "<span> a folio reference</span>\n",
       "\n",
       "</div>\n",
       "\n",
       "<div class=\"frow\">\n",
       "    <div class=\"fnamecat \">\n",
       "<a target=\"_blank\" href=\"https://github.com/CLARIAH/wp6-missieven/blob/master/docs/transcription.md\" title=\"~/text-fabric-data/github/CLARIAH/wp6-missieven/tf/1.0/isnote.tf\">isnote</a>\n",
       "</div>\n",
       "<div class=\"fmono\">int</div>\n",
       "\n",
       "<span> whether a word belongs to footnote text</span>\n",
       "\n",
       "</div>\n",
       "\n",
       "<div class=\"frow\">\n",
       "    <div class=\"fnamecat \">\n",
       "<a target=\"_blank\" href=\"https://github.com/CLARIAH/wp6-missieven/blob/master/docs/transcription.md\" title=\"~/text-fabric-data/github/CLARIAH/wp6-missieven/tf/1.0/isnum.tf\">isnum</a>\n",
       "</div>\n",
       "<div class=\"fmono\">int</div>\n",
       "\n",
       "<span> whether a word is the numerator in fraction, e.g. 1 in 1/4</span>\n",
       "\n",
       "</div>\n",
       "\n",
       "<div class=\"frow\">\n",
       "    <div class=\"fnamecat \">\n",
       "<a target=\"_blank\" href=\"https://github.com/CLARIAH/wp6-missieven/blob/master/docs/transcription.md\" title=\"~/text-fabric-data/github/CLARIAH/wp6-missieven/tf/1.0/isorig.tf\">isorig</a>\n",
       "</div>\n",
       "<div class=\"fmono\">int</div>\n",
       "\n",
       "<span> whether a word belongs to original text</span>\n",
       "\n",
       "</div>\n",
       "\n",
       "<div class=\"frow\">\n",
       "    <div class=\"fnamecat \">\n",
       "<a target=\"_blank\" href=\"https://github.com/CLARIAH/wp6-missieven/blob/master/docs/transcription.md\" title=\"~/text-fabric-data/github/CLARIAH/wp6-missieven/tf/1.0/isq.tf\">isq</a>\n",
       "</div>\n",
       "<div class=\"fmono\">int</div>\n",
       "\n",
       "<span> whether a word is a numerical fraction, e.g. 1/4</span>\n",
       "\n",
       "</div>\n",
       "\n",
       "<div class=\"frow\">\n",
       "    <div class=\"fnamecat \">\n",
       "<a target=\"_blank\" href=\"https://github.com/CLARIAH/wp6-missieven/blob/master/docs/transcription.md\" title=\"~/text-fabric-data/github/CLARIAH/wp6-missieven/tf/1.0/isref.tf\">isref</a>\n",
       "</div>\n",
       "<div class=\"fmono\">int</div>\n",
       "\n",
       "<span> whether a word belongs to the text of reference</span>\n",
       "\n",
       "</div>\n",
       "\n",
       "<div class=\"frow\">\n",
       "    <div class=\"fnamecat \">\n",
       "<a target=\"_blank\" href=\"https://github.com/CLARIAH/wp6-missieven/blob/master/docs/transcription.md\" title=\"~/text-fabric-data/github/CLARIAH/wp6-missieven/tf/1.0/isremark.tf\">isremark</a>\n",
       "</div>\n",
       "<div class=\"fmono\">int</div>\n",
       "\n",
       "<span> whether a word belongs to the text of editorial remarks</span>\n",
       "\n",
       "</div>\n",
       "\n",
       "<div class=\"frow\">\n",
       "    <div class=\"fnamecat \">\n",
       "<a target=\"_blank\" href=\"https://github.com/CLARIAH/wp6-missieven/blob/master/docs/transcription.md\" title=\"~/text-fabric-data/github/CLARIAH/wp6-missieven/tf/1.0/isspecial.tf\">isspecial</a>\n",
       "</div>\n",
       "<div class=\"fmono\">int</div>\n",
       "\n",
       "<span> whether a word has special typography possibly with OCR mistakes as well</span>\n",
       "\n",
       "</div>\n",
       "\n",
       "<div class=\"frow\">\n",
       "    <div class=\"fnamecat \">\n",
       "<a target=\"_blank\" href=\"https://github.com/CLARIAH/wp6-missieven/blob/master/docs/transcription.md\" title=\"~/text-fabric-data/github/CLARIAH/wp6-missieven/tf/1.0/issub.tf\">issub</a>\n",
       "</div>\n",
       "<div class=\"fmono\">int</div>\n",
       "\n",
       "<span> whether a word has subscript typography possibly indicating the denominator of a fraction</span>\n",
       "\n",
       "</div>\n",
       "\n",
       "<div class=\"frow\">\n",
       "    <div class=\"fnamecat \">\n",
       "<a target=\"_blank\" href=\"https://github.com/CLARIAH/wp6-missieven/blob/master/docs/transcription.md\" title=\"~/text-fabric-data/github/CLARIAH/wp6-missieven/tf/1.0/issuper.tf\">issuper</a>\n",
       "</div>\n",
       "<div class=\"fmono\">int</div>\n",
       "\n",
       "<span> whether a word has superscript typography possibly indicating the numerator of a fraction</span>\n",
       "\n",
       "</div>\n",
       "\n",
       "<div class=\"frow\">\n",
       "    <div class=\"fnamecat \">\n",
       "<a target=\"_blank\" href=\"https://github.com/CLARIAH/wp6-missieven/blob/master/docs/transcription.md\" title=\"~/text-fabric-data/github/CLARIAH/wp6-missieven/tf/1.0/isund.tf\">isund</a>\n",
       "</div>\n",
       "<div class=\"fmono\">str</div>\n",
       "\n",
       "<span> whether a word is underlined by typography</span>\n",
       "\n",
       "</div>\n",
       "\n",
       "<div class=\"frow\">\n",
       "    <div class=\"fnamecat \">\n",
       "<a target=\"_blank\" href=\"https://github.com/CLARIAH/wp6-missieven/blob/master/docs/transcription.md\" title=\"~/text-fabric-data/github/CLARIAH/wp6-missieven/tf/1.0/mark.tf\">mark</a>\n",
       "</div>\n",
       "<div class=\"fmono\">int</div>\n",
       "\n",
       "<span> footnote mark (not necessarily the same as shown on the printed page</span>\n",
       "\n",
       "</div>\n",
       "\n",
       "<div class=\"frow\">\n",
       "    <div class=\"fnamecat \">\n",
       "<a target=\"_blank\" href=\"https://github.com/CLARIAH/wp6-missieven/blob/master/docs/transcription.md\" title=\"~/text-fabric-data/github/CLARIAH/wp6-missieven/tf/1.0/month.tf\">month</a>\n",
       "</div>\n",
       "<div class=\"fmono\">int</div>\n",
       "\n",
       "<span> month part of the date of the letter</span>\n",
       "\n",
       "</div>\n",
       "\n",
       "<div class=\"frow\">\n",
       "    <div class=\"fnamecat \">\n",
       "<a target=\"_blank\" href=\"https://github.com/CLARIAH/wp6-missieven/blob/master/docs/transcription.md\" title=\"~/text-fabric-data/github/CLARIAH/wp6-missieven/tf/1.0/n.tf\">n</a>\n",
       "</div>\n",
       "<div class=\"fmono\">int</div>\n",
       "\n",
       "<span> number of a volume, letter, page, para, line, table</span>\n",
       "\n",
       "</div>\n",
       "\n",
       "<div class=\"frow\">\n",
       "    <div class=\"fnamecat \">\n",
       "<a target=\"_blank\" href=\"https://github.com/CLARIAH/wp6-missieven/blob/master/docs/transcription.md\" title=\"~/text-fabric-data/github/CLARIAH/wp6-missieven/tf/1.0/otype.tf\">otype</a>\n",
       "</div>\n",
       "<div class=\"fmono\">str</div>\n",
       "\n",
       "<span> </span>\n",
       "\n",
       "</div>\n",
       "\n",
       "<div class=\"frow\">\n",
       "    <div class=\"fnamecat \">\n",
       "<a target=\"_blank\" href=\"https://github.com/CLARIAH/wp6-missieven/blob/master/docs/transcription.md\" title=\"~/text-fabric-data/github/CLARIAH/wp6-missieven/tf/1.0/page.tf\">page</a>\n",
       "</div>\n",
       "<div class=\"fmono\">str</div>\n",
       "\n",
       "<span> number of the first page of this letter in this volume</span>\n",
       "\n",
       "</div>\n",
       "\n",
       "<div class=\"frow\">\n",
       "    <div class=\"fnamecat \">\n",
       "<a target=\"_blank\" href=\"https://github.com/CLARIAH/wp6-missieven/blob/master/docs/transcription.md\" title=\"~/text-fabric-data/github/CLARIAH/wp6-missieven/tf/1.0/place.tf\">place</a>\n",
       "</div>\n",
       "<div class=\"fmono\">str</div>\n",
       "\n",
       "<span> place from where the letter was sent</span>\n",
       "\n",
       "</div>\n",
       "\n",
       "<div class=\"frow\">\n",
       "    <div class=\"fnamecat \">\n",
       "<a target=\"_blank\" href=\"https://github.com/CLARIAH/wp6-missieven/blob/master/docs/transcription.md\" title=\"~/text-fabric-data/github/CLARIAH/wp6-missieven/tf/1.0/punc.tf\">punc</a>\n",
       "</div>\n",
       "<div class=\"fmono\">str</div>\n",
       "\n",
       "<span> punctuation and/or whitespace following a wordup to the next word</span>\n",
       "\n",
       "</div>\n",
       "\n",
       "<div class=\"frow\">\n",
       "    <div class=\"fnamecat \">\n",
       "<a target=\"_blank\" href=\"https://github.com/CLARIAH/wp6-missieven/blob/master/docs/transcription.md\" title=\"~/text-fabric-data/github/CLARIAH/wp6-missieven/tf/1.0/puncn.tf\">puncn</a>\n",
       "</div>\n",
       "<div class=\"fmono\">str</div>\n",
       "\n",
       "<span> punctuation and/or whitespace following a word,up to the next word, footnote text only</span>\n",
       "\n",
       "</div>\n",
       "\n",
       "<div class=\"frow\">\n",
       "    <div class=\"fnamecat \">\n",
       "<a target=\"_blank\" href=\"https://github.com/CLARIAH/wp6-missieven/blob/master/docs/transcription.md\" title=\"~/text-fabric-data/github/CLARIAH/wp6-missieven/tf/1.0/punco.tf\">punco</a>\n",
       "</div>\n",
       "<div class=\"fmono\">str</div>\n",
       "\n",
       "<span> punctuation and/or whitespace following a word,up to the next word, original text only</span>\n",
       "\n",
       "</div>\n",
       "\n",
       "<div class=\"frow\">\n",
       "    <div class=\"fnamecat \">\n",
       "<a target=\"_blank\" href=\"https://github.com/CLARIAH/wp6-missieven/blob/master/docs/transcription.md\" title=\"~/text-fabric-data/github/CLARIAH/wp6-missieven/tf/1.0/puncr.tf\">puncr</a>\n",
       "</div>\n",
       "<div class=\"fmono\">str</div>\n",
       "\n",
       "<span> punctuation and/or whitespace following a word,up to the next word, remark text only</span>\n",
       "\n",
       "</div>\n",
       "\n",
       "<div class=\"frow\">\n",
       "    <div class=\"fnamecat \">\n",
       "<a target=\"_blank\" href=\"https://github.com/CLARIAH/wp6-missieven/blob/master/docs/transcription.md\" title=\"~/text-fabric-data/github/CLARIAH/wp6-missieven/tf/1.0/rawdate.tf\">rawdate</a>\n",
       "</div>\n",
       "<div class=\"fmono\">str</div>\n",
       "\n",
       "<span> the date the letter was sent</span>\n",
       "\n",
       "</div>\n",
       "\n",
       "<div class=\"frow\">\n",
       "    <div class=\"fnamecat \">\n",
       "<a target=\"_blank\" href=\"https://github.com/CLARIAH/wp6-missieven/blob/master/docs/transcription.md\" title=\"~/text-fabric-data/github/CLARIAH/wp6-missieven/tf/1.0/row.tf\">row</a>\n",
       "</div>\n",
       "<div class=\"fmono\">int</div>\n",
       "\n",
       "<span> row number of a row of column in a table</span>\n",
       "\n",
       "</div>\n",
       "\n",
       "<div class=\"frow\">\n",
       "    <div class=\"fnamecat \">\n",
       "<a target=\"_blank\" href=\"https://github.com/CLARIAH/wp6-missieven/blob/master/docs/transcription.md\" title=\"~/text-fabric-data/github/CLARIAH/wp6-missieven/tf/1.0/seq.tf\">seq</a>\n",
       "</div>\n",
       "<div class=\"fmono\">str</div>\n",
       "\n",
       "<span> ('sequence number of this letter among the letters of the same author in this volume',)</span>\n",
       "\n",
       "</div>\n",
       "\n",
       "<div class=\"frow\">\n",
       "    <div class=\"fnamecat \">\n",
       "<a target=\"_blank\" href=\"https://github.com/CLARIAH/wp6-missieven/blob/master/docs/transcription.md\" title=\"~/text-fabric-data/github/CLARIAH/wp6-missieven/tf/1.0/status.tf\">status</a>\n",
       "</div>\n",
       "<div class=\"fmono\">str</div>\n",
       "\n",
       "<span> status of the letter, e.g. secret, copy</span>\n",
       "\n",
       "</div>\n",
       "\n",
       "<div class=\"frow\">\n",
       "    <div class=\"fnamecat \">\n",
       "<a target=\"_blank\" href=\"https://github.com/CLARIAH/wp6-missieven/blob/master/docs/transcription.md\" title=\"~/text-fabric-data/github/CLARIAH/wp6-missieven/tf/1.0/title.tf\">title</a>\n",
       "</div>\n",
       "<div class=\"fmono\">str</div>\n",
       "\n",
       "<span> title of the letter</span>\n",
       "\n",
       "</div>\n",
       "\n",
       "<div class=\"frow\">\n",
       "    <div class=\"fnamecat \">\n",
       "<a target=\"_blank\" href=\"https://github.com/CLARIAH/wp6-missieven/blob/master/docs/transcription.md\" title=\"~/text-fabric-data/github/CLARIAH/wp6-missieven/tf/1.0/trans.tf\">trans</a>\n",
       "</div>\n",
       "<div class=\"fmono\">str</div>\n",
       "\n",
       "<span> transcription of a word</span>\n",
       "\n",
       "</div>\n",
       "\n",
       "<div class=\"frow\">\n",
       "    <div class=\"fnamecat \">\n",
       "<a target=\"_blank\" href=\"https://github.com/CLARIAH/wp6-missieven/blob/master/docs/transcription.md\" title=\"~/text-fabric-data/github/CLARIAH/wp6-missieven/tf/1.0/transn.tf\">transn</a>\n",
       "</div>\n",
       "<div class=\"fmono\">str</div>\n",
       "\n",
       "<span> transcription of a word, only for footnote text</span>\n",
       "\n",
       "</div>\n",
       "\n",
       "<div class=\"frow\">\n",
       "    <div class=\"fnamecat \">\n",
       "<a target=\"_blank\" href=\"https://github.com/CLARIAH/wp6-missieven/blob/master/docs/transcription.md\" title=\"~/text-fabric-data/github/CLARIAH/wp6-missieven/tf/1.0/transo.tf\">transo</a>\n",
       "</div>\n",
       "<div class=\"fmono\">str</div>\n",
       "\n",
       "<span> transcription of a word, only for original text</span>\n",
       "\n",
       "</div>\n",
       "\n",
       "<div class=\"frow\">\n",
       "    <div class=\"fnamecat \">\n",
       "<a target=\"_blank\" href=\"https://github.com/CLARIAH/wp6-missieven/blob/master/docs/transcription.md\" title=\"~/text-fabric-data/github/CLARIAH/wp6-missieven/tf/1.0/transr.tf\">transr</a>\n",
       "</div>\n",
       "<div class=\"fmono\">str</div>\n",
       "\n",
       "<span> transcription of a word, only for remark text</span>\n",
       "\n",
       "</div>\n",
       "\n",
       "<div class=\"frow\">\n",
       "    <div class=\"fnamecat \">\n",
       "<a target=\"_blank\" href=\"https://github.com/CLARIAH/wp6-missieven/blob/master/docs/transcription.md\" title=\"~/text-fabric-data/github/CLARIAH/wp6-missieven/tf/1.0/vol.tf\">vol</a>\n",
       "</div>\n",
       "<div class=\"fmono\">int</div>\n",
       "\n",
       "<span> volume number</span>\n",
       "\n",
       "</div>\n",
       "\n",
       "<div class=\"frow\">\n",
       "    <div class=\"fnamecat \">\n",
       "<a target=\"_blank\" href=\"https://github.com/CLARIAH/wp6-missieven/blob/master/docs/transcription.md\" title=\"~/text-fabric-data/github/CLARIAH/wp6-missieven/tf/1.0/weblink.tf\">weblink</a>\n",
       "</div>\n",
       "<div class=\"fmono\">str</div>\n",
       "\n",
       "<span> the page-specific part of web links for page nodes</span>\n",
       "\n",
       "</div>\n",
       "\n",
       "<div class=\"frow\">\n",
       "    <div class=\"fnamecat \">\n",
       "<a target=\"_blank\" href=\"https://github.com/CLARIAH/wp6-missieven/blob/master/docs/transcription.md\" title=\"~/text-fabric-data/github/CLARIAH/wp6-missieven/tf/1.0/x.tf\">x</a>\n",
       "</div>\n",
       "<div class=\"fmono\">int</div>\n",
       "\n",
       "<span> column offset of a column in a row in a table</span>\n",
       "\n",
       "</div>\n",
       "\n",
       "<div class=\"frow\">\n",
       "    <div class=\"fnamecat \">\n",
       "<a target=\"_blank\" href=\"https://github.com/CLARIAH/wp6-missieven/blob/master/docs/transcription.md\" title=\"~/text-fabric-data/github/CLARIAH/wp6-missieven/tf/1.0/year.tf\">year</a>\n",
       "</div>\n",
       "<div class=\"fmono\">int</div>\n",
       "\n",
       "<span> year part of the date of the letter</span>\n",
       "\n",
       "</div>\n",
       "\n",
       "<div class=\"frow\">\n",
       "    <div class=\"fnamecat edge\">\n",
       "<a target=\"_blank\" href=\"https://github.com/CLARIAH/wp6-missieven/blob/master/docs/transcription.md\" title=\"~/text-fabric-data/github/CLARIAH/wp6-missieven/tf/1.0/note.tf\">note</a>\n",
       "</div>\n",
       "<div class=\"fmono\">none</div>\n",
       "\n",
       "<span> edge between a word and the footnotes associated with it</span>\n",
       "\n",
       "</div>\n",
       "\n",
       "<div class=\"frow\">\n",
       "    <div class=\"fnamecat edge\">\n",
       "<a target=\"_blank\" href=\"https://github.com/CLARIAH/wp6-missieven/blob/master/docs/transcription.md\" title=\"~/text-fabric-data/github/CLARIAH/wp6-missieven/tf/1.0/oslots.tf\">oslots</a>\n",
       "</div>\n",
       "<div class=\"fmono\">none</div>\n",
       "\n",
       "<span> </span>\n",
       "\n",
       "</div>\n",
       "\n",
       "    </div>\n",
       "</details>\n"
      ],
      "text/plain": [
       "<IPython.core.display.HTML object>"
      ]
     },
     "metadata": {},
     "output_type": "display_data"
    },
    {
     "data": {
      "text/html": [
       "<style>tr.tf.ltr, td.tf.ltr, th.tf.ltr { text-align: left ! important;}\n",
       "tr.tf.rtl, td.tf.rtl, th.tf.rtl { text-align: right ! important;}\n",
       "@font-face {\n",
       "  font-family: \"Gentium Plus\";\n",
       "  src: local('Gentium Plus'), local('GentiumPlus'),\n",
       "    url('/server/static/fonts/GentiumPlus-R.woff') format('woff'),\n",
       "    url('https://github.com/annotation/text-fabric/blob/master/tf/server/static/fonts/GentiumPlus-R.woff?raw=true') format('woff');\n",
       "}\n",
       "\n",
       "@font-face {\n",
       "  font-family: \"Ezra SIL\";\n",
       "  src: local('Ezra SIL'), local('EzraSIL'),\n",
       "    url('/server/static/fonts/SILEOT.woff') format('woff'),\n",
       "    url('https://github.com/annotation/text-fabric/blob/master/tf/server/static/fonts/SILEOT.woff?raw=true') format('woff');\n",
       "}\n",
       "\n",
       "@font-face {\n",
       "  font-family: \"SBL Hebrew\";\n",
       "  src: local('SBL Hebrew'), local('SBLHebrew'),\n",
       "    url('/server/static/fonts/SBL_Hbrw.woff') format('woff'),\n",
       "    url('https://github.com/annotation/text-fabric/blob/master/tf/server/static/fonts/SBL_Hbrw.woff?raw=true') format('woff');\n",
       "}\n",
       "\n",
       "@font-face {\n",
       "  font-family: \"Estrangelo Edessa\";\n",
       "  src: local('Estrangelo Edessa'), local('EstrangeloEdessa');\n",
       "    url('/server/static/fonts/SyrCOMEdessa.woff') format('woff'),\n",
       "    url('https://github.com/annotation/text-fabric/blob/master/tf/server/static/fonts/SyrCOMEdessa.woff?raw=true') format('woff');\n",
       "}\n",
       "\n",
       "@font-face {\n",
       "  font-family: AmiriQuran;\n",
       "  font-style: normal;\n",
       "  font-weight: 400;\n",
       "  src: local('Amiri Quran'), local('AmiriQuran'),\n",
       "    url('/server/static/fonts/AmiriQuran.woff') format('woff'),\n",
       "    url('https://github.com/annotation/text-fabric/blob/master/tf/server/static/fonts/AmiriQuran.woff?raw=true') format('woff');\n",
       "}\n",
       "\n",
       "@font-face {\n",
       "  font-family: AmiriQuranColored;\n",
       "  font-style: normal;\n",
       "  font-weight: 400;\n",
       "  src: local('Amiri Quran Colored'), local('AmiriQuranColored'),\n",
       "    url('/server/static/fonts/AmiriQuranColored.woff') format('woff'),\n",
       "    url('https://github.com/annotation/text-fabric/blob/master/tf/server/static/fonts/AmiriQuranColored.woff?raw=true') format('woff');\n",
       "}\n",
       "\n",
       "@font-face {\n",
       "  font-family: \"Santakku\";\n",
       "  src: local('Santakku'),\n",
       "    url('/server/static/fonts/Santakku.woff') format('woff'),\n",
       "    url('https://github.com/annotation/text-fabric/blob/master/tf/server/static/fonts/Santakku.woff?raw=true') format('woff');\n",
       "}\n",
       "\n",
       "@font-face {\n",
       "  font-family: \"SantakkuM\";\n",
       "  src: local('SantakkuM'),\n",
       "    url('/server/static/fonts/SantakkuM.woff') format('woff'),\n",
       "    url('https://github.com/annotation/text-fabric/blob/master/tf/server/static/fonts/SantakkuM.woff?raw=true') format('woff');\n",
       "}\n",
       "/* bypassing some classical notebook settings */\n",
       "div#notebook {\n",
       "  line-height: unset;\n",
       "}\n",
       "/* neutral text */\n",
       ".txtn,.txtn a:visited,.txtn a:link {\n",
       "    font-family: sans-serif;\n",
       "    font-size: medium;\n",
       "    direction: ltr;\n",
       "    unicode-bidi: embed;\n",
       "    text-decoration: none;\n",
       "    color: var(--text-color);\n",
       "}\n",
       "/* transcription text */\n",
       ".txtt,.txtt a:visited,.txtt a:link {\n",
       "    font-family: monospace;\n",
       "    font-size: medium;\n",
       "    direction: ltr;\n",
       "    unicode-bidi: embed;\n",
       "    text-decoration: none;\n",
       "    color: var(--text-color);\n",
       "}\n",
       "/* source text */\n",
       ".txto,.txto a:visited,.txto a:link {\n",
       "    font-family: serif;\n",
       "    font-size: medium;\n",
       "    direction: ltr;\n",
       "    unicode-bidi: embed;\n",
       "    text-decoration: none;\n",
       "    color: var(--text-color);\n",
       "}\n",
       "/* phonetic text */\n",
       ".txtp,.txtp a:visited,.txtp a:link {\n",
       "    font-family: Gentium, sans-serif;\n",
       "    font-size: medium;\n",
       "    direction: ltr;\n",
       "    unicode-bidi: embed;\n",
       "    text-decoration: none;\n",
       "    color: var(--text-color);\n",
       "}\n",
       "/* original script text */\n",
       ".txtu,.txtu a:visited,.txtu a:link {\n",
       "    font-family: Gentium, sans-serif;\n",
       "    font-size: medium;\n",
       "    text-decoration: none;\n",
       "    color: var(--text-color);\n",
       "}\n",
       "/* hebrew */\n",
       ".txtu.hbo,.lex.hbo {\n",
       "    font-family: \"Ezra SIL\", \"SBL Hebrew\", sans-serif;\n",
       "    font-size: large;\n",
       "    direction: rtl ! important;\n",
       "    unicode-bidi: embed;\n",
       "}\n",
       "/* syriac */\n",
       ".txtu.syc,.lex.syc {\n",
       "    font-family: \"Estrangelo Edessa\", sans-serif;\n",
       "    font-size: medium;\n",
       "    direction: rtl ! important;\n",
       "    unicode-bidi: embed;\n",
       "}\n",
       "/* neo aramaic */\n",
       ".txtu.cld,.lex.cld {\n",
       "    font-family: \"CharisSIL-R\", sans-serif;\n",
       "    font-size: medium;\n",
       "    direction: ltr ! important;\n",
       "    unicode-bidi: embed;\n",
       "}\n",
       "/* standard arabic */\n",
       ".txtu.ara,.lex.ara {\n",
       "    font-family: \"AmiriQuran\", sans-serif;\n",
       "    font-size: large;\n",
       "    direction: rtl ! important;\n",
       "    unicode-bidi: embed;\n",
       "}\n",
       "/* cuneiform */\n",
       ".txtu.akk,.lex.akk {\n",
       "    font-family: Santakku, sans-serif;\n",
       "    font-size: large;\n",
       "    direction: ltr ! important;\n",
       "    unicode-bidi: embed;\n",
       "}\n",
       "/* greek */\n",
       ".txtu.grc,.lex.grc a:link {\n",
       "    font-family: Gentium, sans-serif;\n",
       "    font-size: medium;\n",
       "    direction: ltr ! important;\n",
       "    unicode-bidi: embed;\n",
       "}\n",
       "a:hover {\n",
       "    text-decoration: underline | important;\n",
       "    color: #0000ff | important;\n",
       "}\n",
       ".ltr {\n",
       "    direction: ltr ! important;\n",
       "    unicode-bidi: embed;\n",
       "}\n",
       ".rtl {\n",
       "    direction: rtl ! important;\n",
       "    unicode-bidi: embed;\n",
       "}\n",
       ".ubd {\n",
       "    unicode-bidi: embed;\n",
       "}\n",
       ".col {\n",
       "   display: inline-block;\n",
       "}\n",
       ".features {\n",
       "    font-family: monospace;\n",
       "    font-size: medium;\n",
       "    font-weight: bold;\n",
       "    color: var(--features);\n",
       "    display: flex;\n",
       "    flex-flow: column nowrap;\n",
       "    justify-content: flex-start;\n",
       "    align-items: flex-start;\n",
       "    align-content: flex-start;\n",
       "    padding: 2px;\n",
       "    margin: 2px;\n",
       "    direction: ltr;\n",
       "    unicode-bidi: embed;\n",
       "    border: var(--meta-width) solid var(--meta-color);\n",
       "    border-radius: var(--meta-width);\n",
       "}\n",
       ".features div,.features span {\n",
       "    padding: 0;\n",
       "    margin: -2px 0;\n",
       "}\n",
       ".features .f {\n",
       "    font-family: sans-serif;\n",
       "    font-size: small;\n",
       "    font-weight: normal;\n",
       "    color: #5555bb;\n",
       "}\n",
       ".features .xft {\n",
       "  color: #000000;\n",
       "  background-color: #eeeeee;\n",
       "  font-size: medium;\n",
       "  margin: 2px 0px;\n",
       "}\n",
       ".features .xft .f {\n",
       "  color: #000000;\n",
       "  background-color: #eeeeee;\n",
       "  font-size: small;\n",
       "  font-weight: normal;\n",
       "}\n",
       ".tfsechead {\n",
       "    font-family: sans-serif;\n",
       "    font-size: small;\n",
       "    font-weight: bold;\n",
       "    color: var(--tfsechead);\n",
       "    unicode-bidi: embed;\n",
       "    text-align: start;\n",
       "}\n",
       ".structure {\n",
       "    font-family: sans-serif;\n",
       "    font-size: small;\n",
       "    font-weight: bold;\n",
       "    color: var(--structure);\n",
       "    unicode-bidi: embed;\n",
       "    text-align: start;\n",
       "}\n",
       ".comments {\n",
       "    display: flex;\n",
       "    justify-content: flex-start;\n",
       "    align-items: flex-start;\n",
       "    align-content: flex-start;\n",
       "    flex-flow: column nowrap;\n",
       "}\n",
       ".nd, a:link.nd {\n",
       "    font-family: sans-serif;\n",
       "    font-size: small;\n",
       "    color: var(--node);\n",
       "    vertical-align: super;\n",
       "    direction: ltr ! important;\n",
       "    unicode-bidi: embed;\n",
       "}\n",
       ".lex {\n",
       "  color: var(--lex-color);;\n",
       "}\n",
       ".children,.children.ltr {\n",
       "    display: flex;\n",
       "    border: 0;\n",
       "    background-color: #ffffff;\n",
       "    justify-content: flex-start;\n",
       "    align-items: flex-start;\n",
       "    align-content: flex-start;\n",
       "}\n",
       ".children.stretch {\n",
       "    align-items: stretch;\n",
       "}\n",
       ".children.hor {\n",
       "    flex-flow: row nowrap;\n",
       "}\n",
       ".children.hor.wrap {\n",
       "    flex-flow: row wrap;\n",
       "}\n",
       ".children.ver {\n",
       "    flex-flow: column nowrap;\n",
       "}\n",
       ".children.ver.wrap {\n",
       "    flex-flow: column wrap;\n",
       "}\n",
       ".contnr {\n",
       "    width: fit-content;\n",
       "    display: flex;\n",
       "    justify-content: flex-start;\n",
       "    align-items: flex-start;\n",
       "    align-content: flex-start;\n",
       "    flex-flow: column nowrap;\n",
       "    background: #ffffff none repeat scroll 0 0;\n",
       "    padding:  10px 2px 2px 2px;\n",
       "    margin: 16px 2px 2px 2px;\n",
       "    border-style: solid;\n",
       "    font-size: small;\n",
       "}\n",
       ".contnr.trm {\n",
       "    background-attachment: local;\n",
       "}\n",
       ".contnr.cnul {\n",
       "    padding:  0;\n",
       "    margin: 0;\n",
       "    border-style: solid;\n",
       "    font-size: xx-small;\n",
       "}\n",
       ".contnr.cnul,.lbl.cnul {\n",
       "    border-color: var(--border-color-nul);\n",
       "    border-width: var(--border-width-nul);\n",
       "    border-radius: var(--border-width-nul);\n",
       "}\n",
       ".contnr.c0,.lbl.c0 {\n",
       "    border-color: var(--border-color0);\n",
       "    border-width: var(--border-width0);\n",
       "    border-radius: var(--border-width0);\n",
       "}\n",
       ".contnr.c1,.lbl.c1 {\n",
       "    border-color: var(--border-color1);\n",
       "    border-width: var(--border-width1);\n",
       "    border-radius: var(--border-width1);\n",
       "}\n",
       ".contnr.c2,.lbl.c2 {\n",
       "    border-color: var(--border-color2);\n",
       "    border-width: var(--border-width2);\n",
       "    border-radius: var(--border-width2);\n",
       "}\n",
       ".contnr.c3,.lbl.c3 {\n",
       "    border-color: var(--border-color3);\n",
       "    border-width: var(--border-width3);\n",
       "    border-radius: var(--border-width3);\n",
       "}\n",
       ".contnr.c4,.lbl.c4 {\n",
       "    border-color: var(--border-color4);\n",
       "    border-width: var(--border-width4);\n",
       "    border-radius: var(--border-width4);\n",
       "}\n",
       "span.plain {\n",
       "    display: inline-block;\n",
       "    white-space: pre-wrap;\n",
       "}\n",
       ".plain {\n",
       "    background-color: #ffffff;\n",
       "}\n",
       ".plain.l,.contnr.l,.contnr.l>.lbl {\n",
       "    border-left-style: dotted\n",
       "}\n",
       ".plain.r,.contnr.r,.contnr.r>.lbl {\n",
       "    border-right-style: dotted\n",
       "}\n",
       ".plain.lno,.contnr.lno,.contnr.lno>.lbl {\n",
       "    border-left-style: none\n",
       "}\n",
       ".plain.rno,.contnr.rno,.contnr.rno>.lbl {\n",
       "    border-right-style: none\n",
       "}\n",
       ".plain.l {\n",
       "    padding-left: 4px;\n",
       "    margin-left: 2px;\n",
       "    border-width: var(--border-width-plain);\n",
       "}\n",
       ".plain.r {\n",
       "    padding-right: 4px;\n",
       "    margin-right: 2px;\n",
       "    border-width: var(--border-width-plain);\n",
       "}\n",
       ".lbl {\n",
       "    font-family: monospace;\n",
       "    margin-top: -24px;\n",
       "    margin-left: 20px;\n",
       "    background: #ffffff none repeat scroll 0 0;\n",
       "    padding: 0 6px;\n",
       "    border-style: solid;\n",
       "    display: block;\n",
       "    color: var(--label)\n",
       "}\n",
       ".lbl.trm {\n",
       "    background-attachment: local;\n",
       "    margin-top: 2px;\n",
       "    margin-left: 2px;\n",
       "    padding: 2px 2px;\n",
       "    border-style: none;\n",
       "}\n",
       ".lbl.cnul {\n",
       "    font-size: xx-small;\n",
       "}\n",
       ".lbl.c0 {\n",
       "    font-size: small;\n",
       "}\n",
       ".lbl.c1 {\n",
       "    font-size: small;\n",
       "}\n",
       ".lbl.c2 {\n",
       "    font-size: medium;\n",
       "}\n",
       ".lbl.c3 {\n",
       "    font-size: medium;\n",
       "}\n",
       ".lbl.c4 {\n",
       "    font-size: large;\n",
       "}\n",
       ".occs, a:link.occs {\n",
       "    font-size: small;\n",
       "}\n",
       "\n",
       "/* PROVENANCE */\n",
       "\n",
       "div.prov {\n",
       "\tmargin: 40px;\n",
       "\tpadding: 20px;\n",
       "\tborder: 2px solid var(--fog-rim);\n",
       "}\n",
       "div.pline {\n",
       "\tdisplay: flex;\n",
       "\tflex-flow: row nowrap;\n",
       "\tjustify-content: stretch;\n",
       "\talign-items: baseline;\n",
       "}\n",
       "div.p2line {\n",
       "\tmargin-left: 2em;\n",
       "\tdisplay: flex;\n",
       "\tflex-flow: row nowrap;\n",
       "\tjustify-content: stretch;\n",
       "\talign-items: baseline;\n",
       "}\n",
       "div.psline {\n",
       "\tdisplay: flex;\n",
       "\tflex-flow: row nowrap;\n",
       "\tjustify-content: stretch;\n",
       "\talign-items: baseline;\n",
       "\tbackground-color: var(--gold-mist-back);\n",
       "}\n",
       "div.pname {\n",
       "\tflex: 0 0 5rem;\n",
       "\tfont-weight: bold;\n",
       "}\n",
       "div.pval {\n",
       "    flex: 1 1 auto;\n",
       "}\n",
       "\n",
       "/* KEYBOARD */\n",
       ".ccoff {\n",
       "  background-color: inherit;\n",
       "}\n",
       ".ccon {\n",
       "  background-color: yellow ! important;\n",
       "}\n",
       ".ccon,.ccoff {\n",
       "  padding-right: 0.1rem;\n",
       "  padding-left: 0.1rem;\n",
       "}\n",
       ".ccline {\n",
       "  font-size: xx-large;\n",
       "  font-weight: bold;\n",
       "}\n",
       "/* TF header */\n",
       "\n",
       "summary {\n",
       "  /* needed to override the normalize.less\n",
       "   * in the classical jupyter notebook\n",
       "   */\n",
       "  display: list-item ! important;\n",
       "}\n",
       "\n",
       ".fcorpus {\n",
       "  display: flex;\n",
       "  flex-flow: column nowrap;\n",
       "  justify-content: flex-start;\n",
       "  align-items: flex-start;\n",
       "  align-content: flex-start;\n",
       "}\n",
       ".frow {\n",
       "  display: flex;\n",
       "  flex-flow: row nowrap;\n",
       "  justify-content: flex-start;\n",
       "  align-items: flex-start;\n",
       "  align-content: flex-start;\n",
       "}\n",
       ".fmeta {\n",
       "  display: flex;\n",
       "  flex-flow: column nowrap;\n",
       "  justify-content: flex-start;\n",
       "  align-items: flex-start;\n",
       "  align-content: flex-start;\n",
       "}\n",
       ".fmetarow {\n",
       "  display: flex;\n",
       "  flex-flow: row nowrap;\n",
       "  justify-content: flex-start;\n",
       "  align-items: flex-start;\n",
       "  align-content: flex-start;\n",
       "}\n",
       ".fmetakey {\n",
       "  min-width: 10rem;\n",
       "  font-family: monospace;\n",
       "}\n",
       ".fnamecat {\n",
       "  min-width: 10rem;\n",
       "}\n",
       ".fnamecat.edge {\n",
       "  font-weight: bold;\n",
       "  font-style: italic;\n",
       "}\n",
       ".fmono {\n",
       "    font-family: monospace;\n",
       "}\n",
       "\n",
       ":root {\n",
       "\t--node:               hsla(120, 100%,  20%, 1.0  );\n",
       "\t--label:              hsla(  0, 100%,  20%, 1.0  );\n",
       "\t--tfsechead:          hsla(  0, 100%,  25%, 1.0  );\n",
       "\t--structure:          hsla(120, 100%,  25%, 1.0  );\n",
       "\t--features:           hsla(  0,   0%,  30%, 1.0  );\n",
       "  --text-color:         hsla( 60,  80%,  10%, 1.0  );\n",
       "  --lex-color:          hsla(220,  90%,  60%, 1.0  );\n",
       "  --meta-color:         hsla(  0,   0%,  90%, 0.7  );\n",
       "  --meta-width:         3px;\n",
       "  --border-color-nul:   hsla(  0,   0%,  90%, 0.5  );\n",
       "  --border-color0:      hsla(  0,   0%,  90%, 0.9  );\n",
       "  --border-color1:      hsla(  0,   0%,  80%, 0.9  );\n",
       "  --border-color2:      hsla(  0,   0%,  70%, 0.9  );\n",
       "  --border-color3:      hsla(  0,   0%,  80%, 0.8  );\n",
       "  --border-color4:      hsla(  0,   0%,  60%, 0.9  );\n",
       "  --border-width-nul:   2px;\n",
       "  --border-width0:      2px;\n",
       "  --border-width1:      3px;\n",
       "  --border-width2:      4px;\n",
       "  --border-width3:      6px;\n",
       "  --border-width4:      5px;\n",
       "  --border-width-plain: 2px;\n",
       "}\n",
       ".hl {\n",
       "  background-color: var(--hl-strong);\n",
       "}\n",
       "span.hl {\n",
       "\tbackground-color: var(--hl-strong);\n",
       "\tborder-width: 0;\n",
       "\tborder-radius: 2px;\n",
       "\tborder-style: solid;\n",
       "}\n",
       "div.contnr.hl,div.lbl.hl {\n",
       "  background-color: var(--hl-strong);\n",
       "}\n",
       "div.contnr.hl {\n",
       "  border-color: var(--hl-rim) ! important;\n",
       "\tborder-width: 4px ! important;\n",
       "}\n",
       "\n",
       "span.hlbx {\n",
       "\tborder-color: var(--hl-rim);\n",
       "\tborder-width: 4px ! important;\n",
       "\tborder-style: solid;\n",
       "\tborder-radius: 6px;\n",
       "  padding: 4px;\n",
       "  margin: 4px;\n",
       "}\n",
       "\n",
       "span.plain {\n",
       "  display: inline-block;\n",
       "  white-space: pre-wrap;\n",
       "}\n",
       "\n",
       ":root {\n",
       "\t--hl-strong:        hsla( 60, 100%,  70%, 0.9  );\n",
       "\t--hl-rim:           hsla( 55,  80%,  50%, 1.0  );\n",
       "}\n",
       ".remark {\n",
       "  font-size: large;\n",
       "  font-style: italic;\n",
       "}\n",
       ".folio {\n",
       "  font-size: small;\n",
       "  color: #668866;\n",
       "}\n",
       ".fmark:after {\n",
       "  font-size: small;\n",
       "  font-weight: bold;\n",
       "  vertical-align: super;\n",
       "  color: #ddaa22;\n",
       "}\n",
       ".note {\n",
       "  vertical-align: super;\n",
       "  font-size: small;\n",
       "  color: #774400;\n",
       "}\n",
       ".ref {\n",
       "  font-size: small;\n",
       "  font-weight: bold;\n",
       "  color: #666688;\n",
       "}\n",
       ".emph {\n",
       "  font-style: italic;\n",
       "}\n",
       ".und {\n",
       "  text-decoration: underline;\n",
       "}\n",
       ".q {\n",
       "  color: #777777;\n",
       "  font-weight: bold;\n",
       "}\n",
       ".num {\n",
       "  font-size: small;\n",
       "  vertical-align: super;\n",
       "}\n",
       ".den {\n",
       "  font-size: small;\n",
       "  vertical-align: sub;\n",
       "}\n",
       ".sub {\n",
       "  vertical-align: sub;\n",
       "}\n",
       ".super {\n",
       "  vertical-align: super;\n",
       "}\n",
       ".special {\n",
       "  font-family: monospace;\n",
       "  font-weight: bold;\n",
       "  color: #886666;\n",
       "}\n",
       "</style>"
      ],
      "text/plain": [
       "<IPython.core.display.HTML object>"
      ]
     },
     "metadata": {},
     "output_type": "display_data"
    },
    {
     "data": {
      "text/html": [
       "\n",
       "<script>\n",
       "const copyChar = (el, c) => {\n",
       "    for (const el of document.getElementsByClassName('ccon')) {\n",
       "        el.className = 'ccoff'\n",
       "    }\n",
       "    el.className = 'ccon'\n",
       "    navigator.clipboard.writeText(String.fromCharCode(c))\n",
       "}\n",
       "</script>\n"
      ],
      "text/plain": [
       "<IPython.core.display.HTML object>"
      ]
     },
     "metadata": {},
     "output_type": "display_data"
    },
    {
     "data": {
      "text/html": [
       "<div><b>Text-Fabric API:</b> names <a target=\"_blank\" href=\"https://annotation.github.io/text-fabric/tf/cheatsheet.html\" title=\"doc\">N F E L T S C TF</a> directly usable</div><hr>"
      ],
      "text/plain": [
       "<IPython.core.display.HTML object>"
      ]
     },
     "metadata": {},
     "output_type": "display_data"
    }
   ],
   "source": [
    "A = use(\n",
    "    \"CLARIAH/wp6-missieven\",\n",
    "    version=\"1.0\",\n",
    "    mod=\"CLARIAH/wp6-missieven/voc-missives/export/tf:hot\", # copy of entity data\n",
    "    # mod=\"cltl/voc-missives/export/tf\",\n",
    "    hoist=globals(),\n",
    ")"
   ]
  },
  {
   "cell_type": "markdown",
   "metadata": {},
   "source": [
    "Above you see a new section in the feature list that you can expand to see\n",
    "which features that module contributed.\n",
    "\n",
    "Now, suppose did not know much about these feature, then we would like to do a few basic checks.\n",
    "\n",
    "A good start it to do inspect a frequency list of the values of the new features,\n",
    "and then to perform a query looking for the nodes that have these features."
   ]
  },
  {
   "cell_type": "markdown",
   "metadata": {},
   "source": [
    "## Entities\n",
    "\n",
    "First the identities:"
   ]
  },
  {
   "cell_type": "code",
   "execution_count": 4,
   "metadata": {},
   "outputs": [
    {
     "data": {
      "text/plain": [
       "(('e_1_27_20', 7),\n",
       " ('e_1_89_31', 7),\n",
       " ('e_5_26_55', 7),\n",
       " ('e_8_10_20', 7),\n",
       " ('e_8_13_21', 7),\n",
       " ('e_8_17_18', 7),\n",
       " ('e_8_19_18', 7),\n",
       " ('e_9_18_10', 7),\n",
       " ('e_10_14_10', 6),\n",
       " ('e_10_15_9', 6),\n",
       " ('e_10_22_5', 6),\n",
       " ('e_10_23_4', 6),\n",
       " ('e_10_4_11', 6),\n",
       " ('e_12_18_9', 6),\n",
       " ('e_12_19_10', 6),\n",
       " ('e_12_20_9', 6),\n",
       " ('e_1_13_7', 6),\n",
       " ('e_1_24_19', 6),\n",
       " ('e_2_13_43', 6),\n",
       " ('e_2_17_23', 6))"
      ]
     },
     "execution_count": 4,
     "metadata": {},
     "output_type": "execute_result"
    }
   ],
   "source": [
    "F.entityId.freqList()[0:20]"
   ]
  },
  {
   "cell_type": "code",
   "execution_count": 5,
   "metadata": {},
   "outputs": [
    {
     "data": {
      "text/plain": [
       "17746"
      ]
     },
     "execution_count": 5,
     "metadata": {},
     "output_type": "execute_result"
    }
   ],
   "source": [
    "len(F.entityId.freqList())"
   ]
  },
  {
   "cell_type": "markdown",
   "metadata": {},
   "source": [
    "So tens of thousands named entity as been detected, and the most frequent ones occur only 8 times!\n",
    "Because of that we expected that no coreference analysis has been conducted, but that each entity occurrence\n",
    "has its own id. When an entity occurrence consists of multiple words, we expect to see the same entity id repeated over those words.\n",
    "\n",
    "Now the kinds of named entities:"
   ]
  },
  {
   "cell_type": "code",
   "execution_count": 6,
   "metadata": {},
   "outputs": [
    {
     "data": {
      "text/plain": [
       "(('PER', 15701),\n",
       " ('LOC', 7204),\n",
       " ('SHP', 5359),\n",
       " ('ORG', 1271),\n",
       " ('LOCderiv', 1239),\n",
       " ('RELderiv', 42))"
      ]
     },
     "execution_count": 6,
     "metadata": {},
     "output_type": "execute_result"
    }
   ],
   "source": [
    "F.entityKind.freqList()"
   ]
  },
  {
   "cell_type": "markdown",
   "metadata": {},
   "source": [
    "We guess at the legend:\n",
    "\n",
    "* `LOC` = location\n",
    "* `PER` = person\n",
    "* `ORG` = organisation\n",
    "* `SHP` = ship\n",
    "* `REL` = relationship (??)\n",
    "* *xxx*`deriv` = derived from a *xxx*"
   ]
  },
  {
   "cell_type": "markdown",
   "metadata": {},
   "source": [
    "We want to know what the identifier means:\n",
    "\n",
    "* does it connect the separate words of one entity *occurrence*?\n",
    "* does it connect the multiple occurrences of a single named entity throughout the text?\n",
    "\n",
    "We'll test. \n",
    "\n",
    "We collect the entity occurrences. We define an entity occurrence as the first word node in a streak of words that carry the same entity id.\n",
    "\n",
    "A streak is a sequence of words where all words have the same entity id, but some words may have no entity id."
   ]
  },
  {
   "cell_type": "code",
   "execution_count": 7,
   "metadata": {},
   "outputs": [
    {
     "data": {
      "text/plain": [
       "17746"
      ]
     },
     "execution_count": 7,
     "metadata": {},
     "output_type": "execute_result"
    }
   ],
   "source": [
    "eidOccs = {}\n",
    "\n",
    "curStreak = []\n",
    "curId = None\n",
    "\n",
    "def addEntity():\n",
    "    eidOccs.setdefault(curId, []).append(tuple(curStreak))\n",
    "\n",
    "for w in F.otype.s(\"word\"):\n",
    "    eid = F.entityId.v(w)\n",
    "    \n",
    "    if eid is None:\n",
    "        if curId is not None:\n",
    "            addEntity()\n",
    "            curId = None\n",
    "        continue\n",
    "        \n",
    "    if eid == curId:\n",
    "        curStreak.append(w)\n",
    "        continue\n",
    "        \n",
    "    if curId is not None:\n",
    "        addEntity()\n",
    "        \n",
    "    curId = eid\n",
    "    curStreak = [w]\n",
    "    \n",
    "if curId is not None:\n",
    "    eidOccs.setdefault(curId, []).append(tuple(curStreak))\n",
    "    \n",
    "len(eidOccs)"
   ]
  },
  {
   "cell_type": "markdown",
   "metadata": {},
   "source": [
    "We only have to count the maximum number of occurrences that an entity id has, to decide what the id means."
   ]
  },
  {
   "cell_type": "code",
   "execution_count": 8,
   "metadata": {},
   "outputs": [
    {
     "data": {
      "text/plain": [
       "2"
      ]
     },
     "execution_count": 8,
     "metadata": {},
     "output_type": "execute_result"
    }
   ],
   "source": [
    "max(len(occs) for occs in eidOccs.values())"
   ]
  },
  {
   "cell_type": "markdown",
   "metadata": {},
   "source": [
    "That's interesting, let's make a count of the distribution."
   ]
  },
  {
   "cell_type": "code",
   "execution_count": 9,
   "metadata": {},
   "outputs": [
    {
     "data": {
      "text/plain": [
       "Counter({1: 17736, 2: 10})"
      ]
     },
     "execution_count": 9,
     "metadata": {},
     "output_type": "execute_result"
    }
   ],
   "source": [
    "eidFreq = collections.Counter()\n",
    "\n",
    "for occs in eidOccs.values():\n",
    "    eidFreq[len(occs)] += 1\n",
    "    \n",
    "eidFreq"
   ]
  },
  {
   "cell_type": "markdown",
   "metadata": {},
   "source": [
    "The vast majority of entities has a single occurrence.\n",
    "\n",
    "Let's inspect the ones with multiple occurrences.\n",
    "\n",
    "We make a table of them and where they occur."
   ]
  },
  {
   "cell_type": "code",
   "execution_count": 10,
   "metadata": {},
   "outputs": [
    {
     "data": {
      "text/markdown": [
       "\n",
       "\n",
       "### Example 1: `LOC` entity `e_1_68_26` (2x)\n",
       "\n"
      ],
      "text/plain": [
       "<IPython.core.display.Markdown object>"
      ]
     },
     "metadata": {},
     "output_type": "display_data"
    },
    {
     "data": {
      "text/html": [
       "<table><tr class=\"tf ltr\"><th class=\"tf ltr\">n</th><th class=\"tf ltr\">p</th><th class=\"tf ltr\">line</th><th class=\"tf\">word</th></tr>\n",
       "<tr class=\"tf ltr\"><td class=\"tf ltr\">1</td><td class=\"tf ltr\"><span class=\"tfsechead ltr\"><span class=\"ltr\"><a target=\"_blank\" href=\"http://resources.huygens.knaw.nl/retroboeken/generalemissiven/#page=257&amp;source=1\" title=\"Show this document on Huygens\" sec=\"1 234:9\">1 234:9</a></span></span></td><td class=\"tf ltr\"><span class=\" ubd\"></span></td><td class=\"tf ltr\"><span class=\" ubd\"><span class=\"plain   hl\" ><span class=\"txtu\">Wight. </span></span></span></td></tr>\n",
       "<tr class=\"tf ltr\"><td class=\"tf ltr\">2</td><td class=\"tf ltr\"><span class=\"tfsechead ltr\"><span class=\"ltr\"><a target=\"_blank\" href=\"http://resources.huygens.knaw.nl/retroboeken/generalemissiven/#page=257&amp;source=1\" title=\"Show this document on Huygens\" sec=\"1 234:13\">1 234:13</a></span></span></td><td class=\"tf ltr\"><span class=\" ubd\"></span></td><td class=\"tf ltr\"><span class=\" ubd\"><span class=\"plain   hl\" ><span class=\"txtu\">Siërra </span></span></span></td><td class=\"tf ltr\"><span class=\" ubd\"><span class=\"plain   hl\" ><span class=\"txtu\">Leone, </span></span></span></td></tr></table>"
      ],
      "text/plain": [
       "<IPython.core.display.HTML object>"
      ]
     },
     "metadata": {},
     "output_type": "display_data"
    },
    {
     "data": {
      "text/markdown": [
       "\n",
       "\n",
       "### Example 2: `PER` entity `e_1_89_31` (2x)\n",
       "\n"
      ],
      "text/plain": [
       "<IPython.core.display.Markdown object>"
      ]
     },
     "metadata": {},
     "output_type": "display_data"
    },
    {
     "data": {
      "text/html": [
       "<table><tr class=\"tf ltr\"><th class=\"tf ltr\">n</th><th class=\"tf ltr\">p</th><th class=\"tf ltr\">line</th><th class=\"tf\">word</th></tr>\n",
       "<tr class=\"tf ltr\"><td class=\"tf ltr\">1</td><td class=\"tf ltr\"><span class=\"tfsechead ltr\"><span class=\"ltr\"><a target=\"_blank\" href=\"http://resources.huygens.knaw.nl/retroboeken/generalemissiven/#page=456&amp;source=1\" title=\"Show this document on Huygens\" sec=\"1 433:22\">1 433:22</a></span></span></td><td class=\"tf ltr\"><span class=\" ubd\"></span></td><td class=\"tf ltr\"><span class=\" ubd\"><span class=\"plain   hl\" ><span class=\"txtu\">Sebesi. </span></span></span></td></tr>\n",
       "<tr class=\"tf ltr\"><td class=\"tf ltr\">2</td><td class=\"tf ltr\"><span class=\"tfsechead ltr\"><span class=\"ltr\"><a target=\"_blank\" href=\"http://resources.huygens.knaw.nl/retroboeken/generalemissiven/#page=456&amp;source=1\" title=\"Show this document on Huygens\" sec=\"1 433:23\">1 433:23</a></span></span></td><td class=\"tf ltr\"><span class=\" ubd\"></span></td><td class=\"tf ltr\"><span class=\" ubd\"><span class=\"plain   hl\" ><span class=\"txtu\">Cornelis </span></span></span></td><td class=\"tf ltr\"><span class=\" ubd\"><span class=\"plain   hl\" ><span class=\"txtu\">van </span></span></span></td><td class=\"tf ltr\"><span class=\" ubd\"><span class=\"plain   hl\" ><span class=\"txtu\">der </span></span></span></td><td class=\"tf ltr\"><span class=\" ubd\"><span class=\"plain   hl\" ><span class=\"txtu\">Lijn, </span></span></span></td></tr></table>"
      ],
      "text/plain": [
       "<IPython.core.display.HTML object>"
      ]
     },
     "metadata": {},
     "output_type": "display_data"
    },
    {
     "data": {
      "text/markdown": [
       "\n",
       "\n",
       "### Example 3: `LOC` entity `e_2_20_40` (2x)\n",
       "\n"
      ],
      "text/plain": [
       "<IPython.core.display.Markdown object>"
      ]
     },
     "metadata": {},
     "output_type": "display_data"
    },
    {
     "data": {
      "text/html": [
       "<table><tr class=\"tf ltr\"><th class=\"tf ltr\">n</th><th class=\"tf ltr\">p</th><th class=\"tf ltr\">line</th><th class=\"tf\">word</th></tr>\n",
       "<tr class=\"tf ltr\"><td class=\"tf ltr\">1</td><td class=\"tf ltr\"><span class=\"tfsechead ltr\"><span class=\"ltr\"><a target=\"_blank\" href=\"http://resources.huygens.knaw.nl/retroboeken/generalemissiven/#page=243&amp;source=2\" title=\"Show this document on Huygens\" sec=\"2 230:19\">2 230:19</a></span></span></td><td class=\"tf ltr\"><span class=\" ubd\"></span></td><td class=\"tf ltr\"><span class=\" ubd\"><span class=\"plain   hl\" ><span class=\"txtu\">Lamajuta </span></span></span></td></tr>\n",
       "<tr class=\"tf ltr\"><td class=\"tf ltr\">2</td><td class=\"tf ltr\"><span class=\"tfsechead ltr\"><span class=\"ltr\"><a target=\"_blank\" href=\"http://resources.huygens.knaw.nl/retroboeken/generalemissiven/#page=243&amp;source=2\" title=\"Show this document on Huygens\" sec=\"2 230:21\">2 230:21</a></span></span></td><td class=\"tf ltr\"><span class=\" ubd\"></span></td><td class=\"tf ltr\"><span class=\" ubd\"><span class=\"plain   hl\" ><span class=\"txtu\">Cillebar, </span></span></span></td></tr></table>"
      ],
      "text/plain": [
       "<IPython.core.display.HTML object>"
      ]
     },
     "metadata": {},
     "output_type": "display_data"
    },
    {
     "data": {
      "text/markdown": [
       "\n",
       "\n",
       "### Example 4: `LOC` entity `e_4_9_27` (2x)\n",
       "\n"
      ],
      "text/plain": [
       "<IPython.core.display.Markdown object>"
      ]
     },
     "metadata": {},
     "output_type": "display_data"
    },
    {
     "data": {
      "text/html": [
       "<table><tr class=\"tf ltr\"><th class=\"tf ltr\">n</th><th class=\"tf ltr\">p</th><th class=\"tf ltr\">line</th><th class=\"tf\">word</th></tr>\n",
       "<tr class=\"tf ltr\"><td class=\"tf ltr\">1</td><td class=\"tf ltr\"><span class=\"tfsechead ltr\"><span class=\"ltr\"><a target=\"_blank\" href=\"http://resources.huygens.knaw.nl/retroboeken/generalemissiven/#page=140&amp;source=4\" title=\"Show this document on Huygens\" sec=\"4 125:11\">4 125:11</a></span></span></td><td class=\"tf ltr\"><span class=\" ubd\"></span></td><td class=\"tf ltr\"><span class=\" ubd\"><span class=\"plain   hl\" ><span class=\"txtu\">Thiel </span></span></span></td></tr>\n",
       "<tr class=\"tf ltr\"><td class=\"tf ltr\">2</td><td class=\"tf ltr\"><span class=\"tfsechead ltr\"><span class=\"ltr\"><a target=\"_blank\" href=\"http://resources.huygens.knaw.nl/retroboeken/generalemissiven/#page=140&amp;source=4\" title=\"Show this document on Huygens\" sec=\"4 125:12\">4 125:12</a></span></span></td><td class=\"tf ltr\"><span class=\" ubd\"></span></td><td class=\"tf ltr\"><span class=\" ubd\"><span class=\"plain   hl\" ><span class=\"txtu\">bharen . </span></span></span></td></tr></table>"
      ],
      "text/plain": [
       "<IPython.core.display.HTML object>"
      ]
     },
     "metadata": {},
     "output_type": "display_data"
    },
    {
     "data": {
      "text/markdown": [
       "\n",
       "\n",
       "### Example 5: `LOC` entity `e_4_12_33` (2x)\n",
       "\n"
      ],
      "text/plain": [
       "<IPython.core.display.Markdown object>"
      ]
     },
     "metadata": {},
     "output_type": "display_data"
    },
    {
     "data": {
      "text/html": [
       "<table><tr class=\"tf ltr\"><th class=\"tf ltr\">n</th><th class=\"tf ltr\">p</th><th class=\"tf ltr\">line</th><th class=\"tf\">word</th></tr>\n",
       "<tr class=\"tf ltr\"><td class=\"tf ltr\">1</td><td class=\"tf ltr\"><span class=\"tfsechead ltr\"><span class=\"ltr\"><a target=\"_blank\" href=\"http://resources.huygens.knaw.nl/retroboeken/generalemissiven/#page=198&amp;source=4\" title=\"Show this document on Huygens\" sec=\"4 183:24\">4 183:24</a></span></span></td><td class=\"tf ltr\"><span class=\" ubd\"></span></td><td class=\"tf ltr\"><span class=\" ubd\"><span class=\"plain   hl\" ><span class=\"txtu\">Lima </span></span></span></td></tr>\n",
       "<tr class=\"tf ltr\"><td class=\"tf ltr\">2</td><td class=\"tf ltr\"><span class=\"tfsechead ltr\"><span class=\"ltr\"><a target=\"_blank\" href=\"http://resources.huygens.knaw.nl/retroboeken/generalemissiven/#page=198&amp;source=4\" title=\"Show this document on Huygens\" sec=\"4 183:25\">4 183:25</a></span></span></td><td class=\"tf ltr\"><span class=\" ubd\"></span></td><td class=\"tf ltr\"><span class=\" ubd\"><span class=\"plain   hl\" ><span class=\"txtu\">aff </span></span></span></td></tr></table>"
      ],
      "text/plain": [
       "<IPython.core.display.HTML object>"
      ]
     },
     "metadata": {},
     "output_type": "display_data"
    },
    {
     "data": {
      "text/markdown": [
       "\n",
       "\n",
       "### Example 6: `SHP` entity `e_4_45_31` (2x)\n",
       "\n"
      ],
      "text/plain": [
       "<IPython.core.display.Markdown object>"
      ]
     },
     "metadata": {},
     "output_type": "display_data"
    },
    {
     "data": {
      "text/html": [
       "<table><tr class=\"tf ltr\"><th class=\"tf ltr\">n</th><th class=\"tf ltr\">p</th><th class=\"tf ltr\">line</th><th class=\"tf\">word</th><th class=\"tf\">word</th></tr>\n",
       "<tr class=\"tf ltr\"><td class=\"tf ltr\">1</td><td class=\"tf ltr\"><span class=\"tfsechead ltr\"><span class=\"ltr\"><a target=\"_blank\" href=\"http://resources.huygens.knaw.nl/retroboeken/generalemissiven/#page=666&amp;source=4\" title=\"Show this document on Huygens\" sec=\"4 651:18\">4 651:18</a></span></span></td><td class=\"tf ltr\"><span class=\" ubd\"></span></td><td class=\"tf ltr\"><span class=\" ubd\"><span class=\"plain   hl\" ><span class=\"txtu\">Nieuw </span></span></span></td><td class=\"tf ltr\"><span class=\" ubd\"><span class=\"plain   hl\" ><span class=\"txtu\">Ceyt </span></span></span></td></tr>\n",
       "<tr class=\"tf ltr\"><td class=\"tf ltr\">2</td><td class=\"tf ltr\"><span class=\"tfsechead ltr\"><span class=\"ltr\"><a target=\"_blank\" href=\"http://resources.huygens.knaw.nl/retroboeken/generalemissiven/#page=666&amp;source=4\" title=\"Show this document on Huygens\" sec=\"4 651:19\">4 651:19</a></span></span></td><td class=\"tf ltr\"><span class=\" ubd\"></span></td><td class=\"tf ltr\"><span class=\" ubd\"><span class=\"plain   hl\" ><span class=\"txtu\">Amsterdam </span></span></span></td></tr></table>"
      ],
      "text/plain": [
       "<IPython.core.display.HTML object>"
      ]
     },
     "metadata": {},
     "output_type": "display_data"
    },
    {
     "data": {
      "text/markdown": [
       "\n",
       "\n",
       "### Example 7: `PER` entity `e_5_16_17` (2x)\n",
       "\n"
      ],
      "text/plain": [
       "<IPython.core.display.Markdown object>"
      ]
     },
     "metadata": {},
     "output_type": "display_data"
    },
    {
     "data": {
      "text/html": [
       "<table><tr class=\"tf ltr\"><th class=\"tf ltr\">n</th><th class=\"tf ltr\">p</th><th class=\"tf ltr\">line</th><th class=\"tf\">word</th></tr>\n",
       "<tr class=\"tf ltr\"><td class=\"tf ltr\">1</td><td class=\"tf ltr\"><span class=\"tfsechead ltr\"><span class=\"ltr\"><a target=\"_blank\" href=\"http://resources.huygens.knaw.nl/retroboeken/generalemissiven/#page=449&amp;source=5\" title=\"Show this document on Huygens\" sec=\"5 434:4\">5 434:4</a></span></span></td><td class=\"tf ltr\"><span class=\" ubd\"></span></td><td class=\"tf ltr\"><span class=\" ubd\"><span class=\"plain   hl\" ><span class=\"txtu\">Copie </span></span></span></td></tr>\n",
       "<tr class=\"tf ltr\"><td class=\"tf ltr\">2</td><td class=\"tf ltr\"><span class=\"tfsechead ltr\"><span class=\"ltr\"><a target=\"_blank\" href=\"http://resources.huygens.knaw.nl/retroboeken/generalemissiven/#page=449&amp;source=5\" title=\"Show this document on Huygens\" sec=\"5 434:6\">5 434:6</a></span></span></td><td class=\"tf ltr\"><span class=\" ubd\"></span></td><td class=\"tf ltr\"><span class=\" ubd\"><span class=\"plain   hl\" ><span class=\"txtu\">Het </span></span></span></td></tr></table>"
      ],
      "text/plain": [
       "<IPython.core.display.HTML object>"
      ]
     },
     "metadata": {},
     "output_type": "display_data"
    },
    {
     "data": {
      "text/markdown": [
       "\n",
       "\n",
       "### Example 8: `SHP` entity `e_9_20_42` (2x)\n",
       "\n"
      ],
      "text/plain": [
       "<IPython.core.display.Markdown object>"
      ]
     },
     "metadata": {},
     "output_type": "display_data"
    },
    {
     "data": {
      "text/html": [
       "<table><tr class=\"tf ltr\"><th class=\"tf ltr\">n</th><th class=\"tf ltr\">p</th><th class=\"tf ltr\">line</th><th class=\"tf\">word</th></tr>\n",
       "<tr class=\"tf ltr\"><td class=\"tf ltr\">1</td><td class=\"tf ltr\"><span class=\"tfsechead ltr\"><span class=\"ltr\"><a target=\"_blank\" href=\"http://resources.huygens.knaw.nl/retroboeken/generalemissiven/#page=357&amp;source=9\" title=\"Show this document on Huygens\" sec=\"9 344:15\">9 344:15</a></span></span></td><td class=\"tf ltr\"><span class=\" ubd\"></span></td><td class=\"tf ltr\"><span class=\" ubd\"><span class=\"plain   hl\" ><span class=\"txtu\">Haemstede ^</span></span></span></td></tr>\n",
       "<tr class=\"tf ltr\"><td class=\"tf ltr\">2</td><td class=\"tf ltr\"><span class=\"tfsechead ltr\"><span class=\"ltr\"><a target=\"_blank\" href=\"http://resources.huygens.knaw.nl/retroboeken/generalemissiven/#page=357&amp;source=9\" title=\"Show this document on Huygens\" sec=\"9 344:16\">9 344:16</a></span></span></td><td class=\"tf ltr\"><span class=\" ubd\"></span></td><td class=\"tf ltr\"><span class=\" ubd\"><span class=\"plain   hl\" ><span class=\"txtu\">Heynkensant > </span></span></span></td></tr></table>"
      ],
      "text/plain": [
       "<IPython.core.display.HTML object>"
      ]
     },
     "metadata": {},
     "output_type": "display_data"
    },
    {
     "data": {
      "text/markdown": [
       "\n",
       "\n",
       "### Example 9: `SHP` entity `e_9_20_43` (2x)\n",
       "\n"
      ],
      "text/plain": [
       "<IPython.core.display.Markdown object>"
      ]
     },
     "metadata": {},
     "output_type": "display_data"
    },
    {
     "data": {
      "text/html": [
       "<table><tr class=\"tf ltr\"><th class=\"tf ltr\">n</th><th class=\"tf ltr\">p</th><th class=\"tf ltr\">line</th><th class=\"tf\">word</th></tr>\n",
       "<tr class=\"tf ltr\"><td class=\"tf ltr\">1</td><td class=\"tf ltr\"><span class=\"tfsechead ltr\"><span class=\"ltr\"><a target=\"_blank\" href=\"http://resources.huygens.knaw.nl/retroboeken/generalemissiven/#page=357&amp;source=9\" title=\"Show this document on Huygens\" sec=\"9 344:17\">9 344:17</a></span></span></td><td class=\"tf ltr\"><span class=\" ubd\"></span></td><td class=\"tf ltr\"><span class=\" ubd\"><span class=\"plain   hl\" ><span class=\"txtu\">Schuytwijk '</span></span></span></td></tr>\n",
       "<tr class=\"tf ltr\"><td class=\"tf ltr\">2</td><td class=\"tf ltr\"><span class=\"tfsechead ltr\"><span class=\"ltr\"><a target=\"_blank\" href=\"http://resources.huygens.knaw.nl/retroboeken/generalemissiven/#page=357&amp;source=9\" title=\"Show this document on Huygens\" sec=\"9 344:18\">9 344:18</a></span></span></td><td class=\"tf ltr\"><span class=\" ubd\"></span></td><td class=\"tf ltr\"><span class=\" ubd\"><span class=\"plain   hl\" ><span class=\"txtu\">Rijxdorff</span></span></span></td></tr></table>"
      ],
      "text/plain": [
       "<IPython.core.display.HTML object>"
      ]
     },
     "metadata": {},
     "output_type": "display_data"
    },
    {
     "data": {
      "text/markdown": [
       "\n",
       "\n",
       "### Example 10: `PER` entity `e_9_20_53` (2x)\n",
       "\n"
      ],
      "text/plain": [
       "<IPython.core.display.Markdown object>"
      ]
     },
     "metadata": {},
     "output_type": "display_data"
    },
    {
     "data": {
      "text/html": [
       "<table><tr class=\"tf ltr\"><th class=\"tf ltr\">n</th><th class=\"tf ltr\">p</th><th class=\"tf ltr\">line</th><th class=\"tf\">word</th></tr>\n",
       "<tr class=\"tf ltr\"><td class=\"tf ltr\">1</td><td class=\"tf ltr\"><span class=\"tfsechead ltr\"><span class=\"ltr\"><a target=\"_blank\" href=\"http://resources.huygens.knaw.nl/retroboeken/generalemissiven/#page=357&amp;source=9\" title=\"Show this document on Huygens\" sec=\"9 344:26\">9 344:26</a></span></span></td><td class=\"tf ltr\"><span class=\" ubd\"></span></td><td class=\"tf ltr\"><span class=\" ubd\"><span class=\"plain   hl\" ><span class=\"txtu\">Cornelia '</span></span></span></td></tr>\n",
       "<tr class=\"tf ltr\"><td class=\"tf ltr\">2</td><td class=\"tf ltr\"><span class=\"tfsechead ltr\"><span class=\"ltr\"><a target=\"_blank\" href=\"http://resources.huygens.knaw.nl/retroboeken/generalemissiven/#page=357&amp;source=9\" title=\"Show this document on Huygens\" sec=\"9 344:27\">9 344:27</a></span></span></td><td class=\"tf ltr\"><span class=\" ubd\"></span></td><td class=\"tf ltr\"><span class=\" ubd\"><span class=\"plain   hl\" ><span class=\"txtu\">’T </span></span></span></td><td class=\"tf ltr\"><span class=\" ubd\"><span class=\"plain   hl\" ><span class=\"txtu\">Casteel </span></span></span></td><td class=\"tf ltr\"><span class=\" ubd\"><span class=\"plain   hl\" ><span class=\"txtu\">van </span></span></span></td><td class=\"tf ltr\"><span class=\" ubd\"><span class=\"plain   hl\" ><span class=\"txtu\">Woerden</span></span></span></td></tr></table>"
      ],
      "text/plain": [
       "<IPython.core.display.HTML object>"
      ]
     },
     "metadata": {},
     "output_type": "display_data"
    }
   ],
   "source": [
    "example = 0\n",
    "for ((eid, occs)) in eidOccs.items():\n",
    "    if len(occs) < 2:\n",
    "        continue\n",
    "    \n",
    "    table = []\n",
    "    highlights = set()\n",
    "    \n",
    "    ekind = F.entityKind.v(occs[0][0])\n",
    "    \n",
    "    for occ in occs:\n",
    "        firstWord = occ[0]\n",
    "        lastWord = occ[-1]\n",
    "        highlights |= set(occs)\n",
    "        line = L.u(firstWord, \"line\")[0]\n",
    "        table.append((line, *tuple(range(firstWord, lastWord + 1))))\n",
    "    \n",
    "    example += 1\n",
    "    A.dm(f\"\"\"\\n\\n### Example {example}: `{ekind}` entity `{eid}` ({len(occs)}x)\\n\\n\"\"\")\n",
    "    A.table(table, highlights=highlights, extraFeatures=\"entityId entityKind\")\n",
    "    # A.show(table, highlights=highlights, extraFeatures=\"entityId entityKind\")"
   ]
  },
  {
   "cell_type": "markdown",
   "metadata": {},
   "source": [
    "You can click on the passage indicators above and see a facsimile of the page.\n",
    "After inspection of all these cases, it appears that they are one of these cases:\n",
    "\n",
    "1. last word of a footnote plus first words of the next footnote (example 1)\n",
    "1. last word of a footnote plus first words of the following main text (example 2)\n",
    "1. word in main text, followed by a footnote, followed by a word in the main text (examples 3-6)\n",
    "1. first word in a folio reference plus first word in main text after that folio ref (example 7)\n",
    "1. words in a table cell that spans several rows (example 8)\n",
    "1. words in two table cells in two rows but the same column (example 9, 10)"
   ]
  },
  {
   "cell_type": "markdown",
   "metadata": {},
   "source": [
    "Let's query all words that have an entity notation:"
   ]
  },
  {
   "cell_type": "code",
   "execution_count": 11,
   "metadata": {},
   "outputs": [
    {
     "name": "stdout",
     "output_type": "stream",
     "text": [
      "  1.48s 29159 results\n"
     ]
    }
   ],
   "source": [
    "query = \"\"\"\n",
    "word entityId entityKind*\n",
    "\"\"\"\n",
    "results = A.search(query)"
   ]
  },
  {
   "cell_type": "markdown",
   "metadata": {},
   "source": [
    "Here we query all words where the `entityId` is present.\n",
    "We also mention the `entityKind` feature, but with a `*` behind it.\n",
    "That is a criterion that is always True, so these mentions do not alter the result list.\n",
    "But now these features do occur in the query, and hence will be shown in the results."
   ]
  },
  {
   "cell_type": "code",
   "execution_count": 12,
   "metadata": {},
   "outputs": [
    {
     "data": {
      "text/html": [
       "<p><b>line</b> <i>1</i>"
      ],
      "text/plain": [
       "<IPython.core.display.HTML object>"
      ]
     },
     "metadata": {},
     "output_type": "display_data"
    },
    {
     "data": {
      "text/html": [
       "<div class=\"tfsechead \"><span class=\"ltr\"><a target=\"_blank\" href=\"http://resources.huygens.knaw.nl/retroboeken/generalemissiven/#page=26&amp;source=1\" title=\"Show this document on Huygens\" sec=\"1 3:1\">1 3:1</a></span></div><div class=\" children\"><div class=\"contnr c3    \" ><div class=\"lbl c3  \" ><span class=\"nd\">line</span></div><div class='features'><span class=\"entityid xft\" ><span class=\"f\">entityId=</span>e_14_9_45</span><span class=\"entitykind xft\" ><span class=\"f\">entityKind=</span>LOC</span></div><div class=\"children hor wrap \"><div class=\"contnr c0 trm   \" ><div class=\"lbl c0 trm \" ><span class=\"txtu\">I. </span></div></div><div class=\"contnr c0 trm   hl\" ><div class=\"lbl c0 trm hl\" ><span class=\"txtu\">PIETER </span></div><div class='features'><span class=\"entityid xft\" ><span class=\"f\">entityId=</span>e_1_1_1</span><span class=\"entitykind xft\" ><span class=\"f\">entityKind=</span>PER</span></div></div><div class=\"contnr c0 trm   hl\" ><div class=\"lbl c0 trm hl\" ><span class=\"txtu\">BOTH, </span></div><div class='features'><span class=\"entityid xft\" ><span class=\"f\">entityId=</span>e_1_1_1</span><span class=\"entitykind xft\" ><span class=\"f\">entityKind=</span>PER</span></div></div><div class=\"contnr c0 trm   \" ><div class=\"lbl c0 trm \" ><span class=\"txtu\">AAN </span></div></div><div class=\"contnr c0 trm   \" ><div class=\"lbl c0 trm \" ><span class=\"txtu\">BOORD </span></div></div><div class=\"contnr c0 trm   \" ><div class=\"lbl c0 trm \" ><span class=\"txtu\">VAN </span></div></div><div class=\"contnr c0 trm   \" ><div class=\"lbl c0 trm \" ><span class=\"txtu\">HET </span></div></div><div class=\"contnr c0 trm   \" ><div class=\"lbl c0 trm \" ><span class=\"txtu\">WAPEN </span></div></div><div class=\"contnr c0 trm   \" ><div class=\"lbl c0 trm \" ><span class=\"txtu\">VAN </span></div></div><div class=\"contnr c0 trm   hl\" ><div class=\"lbl c0 trm hl\" ><span class=\"txtu\">AMSTERDAM, </span></div><div class='features'><span class=\"entityid xft\" ><span class=\"f\">entityId=</span>e_1_1_2</span><span class=\"entitykind xft\" ><span class=\"f\">entityKind=</span>SHP</span></div></div></div></div></div>"
      ],
      "text/plain": [
       "<IPython.core.display.HTML object>"
      ]
     },
     "metadata": {},
     "output_type": "display_data"
    },
    {
     "data": {
      "text/html": [
       "<p><b>line</b> <i>2</i>"
      ],
      "text/plain": [
       "<IPython.core.display.HTML object>"
      ]
     },
     "metadata": {},
     "output_type": "display_data"
    },
    {
     "data": {
      "text/html": [
       "<div class=\"tfsechead \"><span class=\"ltr\"><a target=\"_blank\" href=\"http://resources.huygens.knaw.nl/retroboeken/generalemissiven/#page=26&amp;source=1\" title=\"Show this document on Huygens\" sec=\"1 3:2\">1 3:2</a></span></div><div class=\" children\"><div class=\"contnr c3    \" ><div class=\"lbl c3  \" ><span class=\"nd\">line</span></div><div class='features'><span class=\"entityid xft\" ><span class=\"f\">entityId=</span>e_14_10_44</span><span class=\"entitykind xft\" ><span class=\"f\">entityKind=</span>ORG</span></div><div class=\"children hor wrap \"><div class=\"contnr c0 trm   \" ><div class=\"lbl c0 trm \" ><span class=\"txtu\">VOOR </span></div></div><div class=\"contnr c0 trm   \" ><div class=\"lbl c0 trm \" ><span class=\"txtu\">ILE </span></div></div><div class=\"contnr c0 trm   hl\" ><div class=\"lbl c0 trm hl\" ><span class=\"txtu\">DE </span></div><div class='features'><span class=\"entityid xft\" ><span class=\"f\">entityId=</span>e_1_1_3</span><span class=\"entitykind xft\" ><span class=\"f\">entityKind=</span>LOC</span></div></div><div class=\"contnr c0 trm   hl\" ><div class=\"lbl c0 trm hl\" ><span class=\"txtu\">MAYO </span></div><div class='features'><span class=\"entityid xft\" ><span class=\"f\">entityId=</span>e_1_1_3</span><span class=\"entitykind xft\" ><span class=\"f\">entityKind=</span>LOC</span></div></div><div class=\"contnr c0 trm   \" ><div class=\"lbl c0 trm \" ><span class=\"txtu\">De </span></div></div><div class=\"contnr c0 trm   \" ><div class=\"lbl c0 trm \" ><span class=\"txtu\">eerste </span></div></div><div class=\"contnr c0 trm   \" ><div class=\"lbl c0 trm \" ><span class=\"txtu\">drie </span></div></div><div class=\"contnr c0 trm   \" ><div class=\"lbl c0 trm \" ><span class=\"txtu\">brieven, </span></div></div><div class=\"contnr c0 trm   \" ><div class=\"lbl c0 trm \" ><span class=\"txtu\">door </span></div></div><div class=\"contnr c0 trm   hl\" ><div class=\"lbl c0 trm hl\" ><span class=\"txtu\">Both </span></div><div class='features'><span class=\"entityid xft\" ><span class=\"f\">entityId=</span>e_1_1_4</span><span class=\"entitykind xft\" ><span class=\"f\">entityKind=</span>PER</span></div></div><div class=\"contnr c0 trm   \" ><div class=\"lbl c0 trm \" ><span class=\"txtu\">op </span></div></div><div class=\"contnr c0 trm   \" ><div class=\"lbl c0 trm \" ><span class=\"txtu\">reis </span></div></div><div class=\"contnr c0 trm   \" ><div class=\"lbl c0 trm \" ><span class=\"txtu\">naar </span></div></div><div class=\"contnr c0 trm   hl\" ><div class=\"lbl c0 trm hl\" ><span class=\"txtu\">Indië </span></div><div class='features'><span class=\"entityid xft\" ><span class=\"f\">entityId=</span>e_1_1_5</span><span class=\"entitykind xft\" ><span class=\"f\">entityKind=</span>LOC</span></div></div><div class=\"contnr c0 trm   \" ><div class=\"lbl c0 trm \" ><span class=\"txtu\">geschrovon, </span></div></div><div class=\"contnr c0 trm   \" ><div class=\"lbl c0 trm \" ><span class=\"txtu\">wijken </span></div></div><div class=\"contnr c0 trm   \" ><div class=\"lbl c0 trm \" ><span class=\"txtu\">niet </span></div></div><div class=\"contnr c0 trm   \" ><div class=\"lbl c0 trm \" ><span class=\"txtu\">af </span></div></div><div class=\"contnr c0 trm   \" ><div class=\"lbl c0 trm \" ><span class=\"txtu\">van </span></div></div></div></div></div>"
      ],
      "text/plain": [
       "<IPython.core.display.HTML object>"
      ]
     },
     "metadata": {},
     "output_type": "display_data"
    },
    {
     "data": {
      "text/html": [
       "<p><b>line</b> <i>3</i>"
      ],
      "text/plain": [
       "<IPython.core.display.HTML object>"
      ]
     },
     "metadata": {},
     "output_type": "display_data"
    },
    {
     "data": {
      "text/html": [
       "<div class=\"tfsechead \"><span class=\"ltr\"><a target=\"_blank\" href=\"http://resources.huygens.knaw.nl/retroboeken/generalemissiven/#page=26&amp;source=1\" title=\"Show this document on Huygens\" sec=\"1 3:3\">1 3:3</a></span></div><div class=\" children\"><div class=\"contnr c3    \" ><div class=\"lbl c3  \" ><span class=\"nd\">line</span></div><div class='features'><span class=\"entityid xft\" ><span class=\"f\">entityId=</span>e_14_11_61</span><span class=\"entitykind xft\" ><span class=\"f\">entityKind=</span>SHP</span></div><div class=\"children hor wrap \"><div class=\"contnr c0 trm   \" ><div class=\"lbl c0 trm \" ><span class=\"txtu\">de </span></div></div><div class=\"contnr c0 trm   \" ><div class=\"lbl c0 trm \" ><span class=\"txtu\">andere </span></div></div><div class=\"contnr c0 trm   \" ><div class=\"lbl c0 trm \" ><span class=\"txtu\">brieven </span></div></div><div class=\"contnr c0 trm   \" ><div class=\"lbl c0 trm \" ><span class=\"txtu\">van </span></div></div><div class=\"contnr c0 trm   \" ><div class=\"lbl c0 trm \" ><span class=\"txtu\">vlootvoogden </span></div></div><div class=\"contnr c0 trm   \" ><div class=\"lbl c0 trm \" ><span class=\"txtu\">aan </span></div></div><div class=\"contnr c0 trm   hl\" ><div class=\"lbl c0 trm hl\" ><span class=\"txtu\">Heren </span></div><div class='features'><span class=\"entityid xft\" ><span class=\"f\">entityId=</span>e_1_1_6</span><span class=\"entitykind xft\" ><span class=\"f\">entityKind=</span>ORG</span></div></div><div class=\"contnr c0 trm   hl\" ><div class=\"lbl c0 trm hl\" ><span class=\"txtu\">XVII ; </span></div><div class='features'><span class=\"entityid xft\" ><span class=\"f\">entityId=</span>e_1_1_6</span><span class=\"entitykind xft\" ><span class=\"f\">entityKind=</span>ORG</span></div></div><div class=\"contnr c0 trm   \" ><div class=\"lbl c0 trm \" ><span class=\"txtu\">dat </span></div></div><div class=\"contnr c0 trm   \" ><div class=\"lbl c0 trm \" ><span class=\"txtu\">hij </span></div></div><div class=\"contnr c0 trm   \" ><div class=\"lbl c0 trm \" ><span class=\"txtu\">in </span></div></div><div class=\"contnr c0 trm   \" ><div class=\"lbl c0 trm \" ><span class=\"txtu\">de </span></div></div><div class=\"contnr c0 trm   \" ><div class=\"lbl c0 trm \" ><span class=\"txtu\">kwaliteit </span></div></div><div class=\"contnr c0 trm   \" ><div class=\"lbl c0 trm \" ><span class=\"txtu\">van </span></div></div><div class=\"contnr c0 trm   \" ><div class=\"lbl c0 trm \" ><span class=\"txtu\">Gouverneur- </span></div></div></div></div></div>"
      ],
      "text/plain": [
       "<IPython.core.display.HTML object>"
      ]
     },
     "metadata": {},
     "output_type": "display_data"
    },
    {
     "data": {
      "text/html": [
       "<p><b>line</b> <i>4</i>"
      ],
      "text/plain": [
       "<IPython.core.display.HTML object>"
      ]
     },
     "metadata": {},
     "output_type": "display_data"
    },
    {
     "data": {
      "text/html": [
       "<div class=\"tfsechead \"><span class=\"ltr\"><a target=\"_blank\" href=\"http://resources.huygens.knaw.nl/retroboeken/generalemissiven/#page=26&amp;source=1\" title=\"Show this document on Huygens\" sec=\"1 3:4\">1 3:4</a></span></div><div class=\" children\"><div class=\"contnr c3    \" ><div class=\"lbl c3  \" ><span class=\"nd\">line</span></div><div class='features'><span class=\"entityid xft\" ><span class=\"f\">entityId=</span>e_14_12_48</span><span class=\"entitykind xft\" ><span class=\"f\">entityKind=</span>LOC</span></div><div class=\"children hor wrap \"><div class=\"contnr c0 trm   \" ><div class=\"lbl c0 trm \" ><span class=\"txtu\">Generaal </span></div></div><div class=\"contnr c0 trm   \" ><div class=\"lbl c0 trm \" ><span class=\"txtu\">aan </span></div></div><div class=\"contnr c0 trm   \" ><div class=\"lbl c0 trm \" ><span class=\"txtu\">boord </span></div></div><div class=\"contnr c0 trm   \" ><div class=\"lbl c0 trm \" ><span class=\"txtu\">vertoefde, </span></div></div><div class=\"contnr c0 trm   \" ><div class=\"lbl c0 trm \" ><span class=\"txtu\">verandert </span></div></div><div class=\"contnr c0 trm   \" ><div class=\"lbl c0 trm \" ><span class=\"txtu\">daaraan </span></div></div><div class=\"contnr c0 trm   \" ><div class=\"lbl c0 trm \" ><span class=\"txtu\">niets. </span></div></div><div class=\"contnr c0 trm   hl\" ><div class=\"lbl c0 trm hl\" ><span class=\"txtu\">Ile </span></div><div class='features'><span class=\"entityid xft\" ><span class=\"f\">entityId=</span>e_1_1_7</span><span class=\"entitykind xft\" ><span class=\"f\">entityKind=</span>LOC</span></div></div><div class=\"contnr c0 trm   hl\" ><div class=\"lbl c0 trm hl\" ><span class=\"txtu\">de </span></div><div class='features'><span class=\"entityid xft\" ><span class=\"f\">entityId=</span>e_1_1_7</span><span class=\"entitykind xft\" ><span class=\"f\">entityKind=</span>LOC</span></div></div><div class=\"contnr c0 trm   hl\" ><div class=\"lbl c0 trm hl\" ><span class=\"txtu\">Mayo </span></div><div class='features'><span class=\"entityid xft\" ><span class=\"f\">entityId=</span>e_1_1_7</span><span class=\"entitykind xft\" ><span class=\"f\">entityKind=</span>LOC</span></div></div><div class=\"contnr c0 trm   \" ><div class=\"lbl c0 trm \" ><span class=\"txtu\">is </span></div></div><div class=\"contnr c0 trm   \" ><div class=\"lbl c0 trm \" ><span class=\"txtu\">een </span></div></div><div class=\"contnr c0 trm   \" ><div class=\"lbl c0 trm \" ><span class=\"txtu\">der </span></div></div><div class=\"contnr c0 trm   hl\" ><div class=\"lbl c0 trm hl\" ><span class=\"txtu\">Kaap-</span></div><div class='features'><span class=\"entityid xft\" ><span class=\"f\">entityId=</span>e_1_1_9</span><span class=\"entitykind xft\" ><span class=\"f\">entityKind=</span>LOC</span></div></div><div class=\"contnr c0 trm   hl\" ><div class=\"lbl c0 trm hl\" ><span class=\"txtu\">Verdische </span></div><div class='features'><span class=\"entityid xft\" ><span class=\"f\">entityId=</span>e_1_1_9</span><span class=\"entitykind xft\" ><span class=\"f\">entityKind=</span>LOC</span></div></div></div></div></div>"
      ],
      "text/plain": [
       "<IPython.core.display.HTML object>"
      ]
     },
     "metadata": {},
     "output_type": "display_data"
    },
    {
     "data": {
      "text/html": [
       "<p><b>line</b> <i>5</i>"
      ],
      "text/plain": [
       "<IPython.core.display.HTML object>"
      ]
     },
     "metadata": {},
     "output_type": "display_data"
    },
    {
     "data": {
      "text/html": [
       "<div class=\"tfsechead \"><span class=\"ltr\"><a target=\"_blank\" href=\"http://resources.huygens.knaw.nl/retroboeken/generalemissiven/#page=26&amp;source=1\" title=\"Show this document on Huygens\" sec=\"1 3:1\">1 3:1</a></span></div><div class=\" children\"><div class=\"contnr c3    \" ><div class=\"lbl c3  \" ><span class=\"nd\">line</span></div><div class=\"children hor wrap \"><div class=\"contnr c0 trm   \" ><div class=\"lbl c0 trm \" ><span class=\"txtu\">II. </span></div></div><div class=\"contnr c0 trm   hl\" ><div class=\"lbl c0 trm hl\" ><span class=\"txtu\">PIETER </span></div><div class='features'><span class=\"entityid xft\" ><span class=\"f\">entityId=</span>e_1_2_0</span><span class=\"entitykind xft\" ><span class=\"f\">entityKind=</span>PER</span></div></div><div class=\"contnr c0 trm   hl\" ><div class=\"lbl c0 trm hl\" ><span class=\"txtu\">BOTH, </span></div><div class='features'><span class=\"entityid xft\" ><span class=\"f\">entityId=</span>e_1_2_0</span><span class=\"entitykind xft\" ><span class=\"f\">entityKind=</span>PER</span></div></div><div class=\"contnr c0 trm   \" ><div class=\"lbl c0 trm \" ><span class=\"txtu\">AAN </span></div></div><div class=\"contnr c0 trm   \" ><div class=\"lbl c0 trm \" ><span class=\"txtu\">BOORD </span></div></div><div class=\"contnr c0 trm   \" ><div class=\"lbl c0 trm \" ><span class=\"txtu\">VAN </span></div></div><div class=\"contnr c0 trm   \" ><div class=\"lbl c0 trm \" ><span class=\"txtu\">HET </span></div></div><div class=\"contnr c0 trm   \" ><div class=\"lbl c0 trm \" ><span class=\"txtu\">WAPEN </span></div></div><div class=\"contnr c0 trm   \" ><div class=\"lbl c0 trm \" ><span class=\"txtu\">VAN </span></div></div><div class=\"contnr c0 trm   hl\" ><div class=\"lbl c0 trm hl\" ><span class=\"txtu\">AMSTERDAM, </span></div><div class='features'><span class=\"entityid xft\" ><span class=\"f\">entityId=</span>e_1_2_2</span><span class=\"entitykind xft\" ><span class=\"f\">entityKind=</span>SHP</span></div></div></div></div></div>"
      ],
      "text/plain": [
       "<IPython.core.display.HTML object>"
      ]
     },
     "metadata": {},
     "output_type": "display_data"
    },
    {
     "data": {
      "text/html": [
       "<p><b>line</b> <i>6</i>"
      ],
      "text/plain": [
       "<IPython.core.display.HTML object>"
      ]
     },
     "metadata": {},
     "output_type": "display_data"
    },
    {
     "data": {
      "text/html": [
       "<div class=\"tfsechead \"><span class=\"ltr\"><a target=\"_blank\" href=\"http://resources.huygens.knaw.nl/retroboeken/generalemissiven/#page=26&amp;source=1\" title=\"Show this document on Huygens\" sec=\"1 3:2\">1 3:2</a></span></div><div class=\" children\"><div class=\"contnr c3    \" ><div class=\"lbl c3  \" ><span class=\"nd\">line</span></div><div class=\"children hor wrap \"><div class=\"contnr c0 trm   \" ><div class=\"lbl c0 trm \" ><span class=\"txtu\">LIGGENDE </span></div></div><div class=\"contnr c0 trm   \" ><div class=\"lbl c0 trm \" ><span class=\"txtu\">IN </span></div></div><div class=\"contnr c0 trm   \" ><div class=\"lbl c0 trm \" ><span class=\"txtu\">DE </span></div></div><div class=\"contnr c0 trm   hl\" ><div class=\"lbl c0 trm hl\" ><span class=\"txtu\">TAFELBAAI </span></div><div class='features'><span class=\"entityid xft\" ><span class=\"f\">entityId=</span>e_1_2_4</span><span class=\"entitykind xft\" ><span class=\"f\">entityKind=</span>LOC</span></div></div><div class=\"contnr c0 trm   \" ><div class=\"lbl c0 trm \" ><span class=\"txtu\">6 </span></div></div><div class=\"contnr c0 trm   \" ><div class=\"lbl c0 trm \" ><span class=\"txtu\">augustus </span></div></div><div class=\"contnr c0 trm   \" ><div class=\"lbl c0 trm \" ><span class=\"txtu\">1610. </span></div></div></div></div></div>"
      ],
      "text/plain": [
       "<IPython.core.display.HTML object>"
      ]
     },
     "metadata": {},
     "output_type": "display_data"
    },
    {
     "data": {
      "text/html": [
       "<p><b>line</b> <i>7</i>"
      ],
      "text/plain": [
       "<IPython.core.display.HTML object>"
      ]
     },
     "metadata": {},
     "output_type": "display_data"
    },
    {
     "data": {
      "text/html": [
       "<div class=\"tfsechead \"><span class=\"ltr\"><a target=\"_blank\" href=\"http://resources.huygens.knaw.nl/retroboeken/generalemissiven/#page=26&amp;source=1\" title=\"Show this document on Huygens\" sec=\"1 3:1\">1 3:1</a></span></div><div class=\" children\"><div class=\"contnr c3    \" ><div class=\"lbl c3  \" ><span class=\"nd\">line</span></div><div class=\"children hor wrap \"><div class=\"contnr c0 trm   \" ><div class=\"lbl c0 trm \" ><span class=\"txtu\">III. </span></div></div><div class=\"contnr c0 trm   hl\" ><div class=\"lbl c0 trm hl\" ><span class=\"txtu\">PIETER </span></div><div class='features'><span class=\"entityid xft\" ><span class=\"f\">entityId=</span>e_1_3_0</span><span class=\"entitykind xft\" ><span class=\"f\">entityKind=</span>PER</span></div></div><div class=\"contnr c0 trm   hl\" ><div class=\"lbl c0 trm hl\" ><span class=\"txtu\">BOTH, </span></div><div class='features'><span class=\"entityid xft\" ><span class=\"f\">entityId=</span>e_1_3_0</span><span class=\"entitykind xft\" ><span class=\"f\">entityKind=</span>PER</span></div></div><div class=\"contnr c0 trm   \" ><div class=\"lbl c0 trm \" ><span class=\"txtu\">AAN </span></div></div><div class=\"contnr c0 trm   \" ><div class=\"lbl c0 trm \" ><span class=\"txtu\">BOORD </span></div></div><div class=\"contnr c0 trm   \" ><div class=\"lbl c0 trm \" ><span class=\"txtu\">VAN </span></div></div><div class=\"contnr c0 trm   \" ><div class=\"lbl c0 trm \" ><span class=\"txtu\">HET </span></div></div><div class=\"contnr c0 trm   \" ><div class=\"lbl c0 trm \" ><span class=\"txtu\">WAPEN </span></div></div><div class=\"contnr c0 trm   \" ><div class=\"lbl c0 trm \" ><span class=\"txtu\">VAN </span></div></div><div class=\"contnr c0 trm   hl\" ><div class=\"lbl c0 trm hl\" ><span class=\"txtu\">AMSTERDAM, </span></div><div class='features'><span class=\"entityid xft\" ><span class=\"f\">entityId=</span>e_1_3_1</span><span class=\"entitykind xft\" ><span class=\"f\">entityKind=</span>SHP</span></div></div></div></div></div>"
      ],
      "text/plain": [
       "<IPython.core.display.HTML object>"
      ]
     },
     "metadata": {},
     "output_type": "display_data"
    },
    {
     "data": {
      "text/html": [
       "<p><b>line</b> <i>8</i>"
      ],
      "text/plain": [
       "<IPython.core.display.HTML object>"
      ]
     },
     "metadata": {},
     "output_type": "display_data"
    },
    {
     "data": {
      "text/html": [
       "<div class=\"tfsechead \"><span class=\"ltr\"><a target=\"_blank\" href=\"http://resources.huygens.knaw.nl/retroboeken/generalemissiven/#page=26&amp;source=1\" title=\"Show this document on Huygens\" sec=\"1 3:2\">1 3:2</a></span></div><div class=\" children\"><div class=\"contnr c3    \" ><div class=\"lbl c3  \" ><span class=\"nd\">line</span></div><div class=\"children hor wrap \"><div class=\"contnr c0 trm   hl\" ><div class=\"lbl c0 trm hl\" ><span class=\"txtu\">TER </span></div><div class='features'><span class=\"entityid xft\" ><span class=\"f\">entityId=</span>e_1_3_2</span><span class=\"entitykind xft\" ><span class=\"f\">entityKind=</span>PER</span></div></div><div class=\"contnr c0 trm   hl\" ><div class=\"lbl c0 trm hl\" ><span class=\"txtu\">REDE </span></div><div class='features'><span class=\"entityid xft\" ><span class=\"f\">entityId=</span>e_1_3_2</span><span class=\"entitykind xft\" ><span class=\"f\">entityKind=</span>PER</span></div></div><div class=\"contnr c0 trm   hl\" ><div class=\"lbl c0 trm hl\" ><span class=\"txtu\">VAN </span></div><div class='features'><span class=\"entityid xft\" ><span class=\"f\">entityId=</span>e_1_3_2</span><span class=\"entitykind xft\" ><span class=\"f\">entityKind=</span>PER</span></div></div><div class=\"contnr c0 trm   hl\" ><div class=\"lbl c0 trm hl\" ><span class=\"txtu\">MAURITIUS </span></div><div class='features'><span class=\"entityid xft\" ><span class=\"f\">entityId=</span>e_1_3_2</span><span class=\"entitykind xft\" ><span class=\"f\">entityKind=</span>PER</span></div></div><div class=\"contnr c0 trm   \" ><div class=\"lbl c0 trm \" ><span class=\"txtu\">14 </span></div></div><div class=\"contnr c0 trm   \" ><div class=\"lbl c0 trm \" ><span class=\"txtu\">oktober </span></div></div><div class=\"contnr c0 trm   \" ><div class=\"lbl c0 trm \" ><span class=\"txtu\">1610. </span></div></div></div></div></div>"
      ],
      "text/plain": [
       "<IPython.core.display.HTML object>"
      ]
     },
     "metadata": {},
     "output_type": "display_data"
    },
    {
     "data": {
      "text/html": [
       "<p><b>line</b> <i>9</i>"
      ],
      "text/plain": [
       "<IPython.core.display.HTML object>"
      ]
     },
     "metadata": {},
     "output_type": "display_data"
    },
    {
     "data": {
      "text/html": [
       "<div class=\"tfsechead \"><span class=\"ltr\"><a target=\"_blank\" href=\"http://resources.huygens.knaw.nl/retroboeken/generalemissiven/#page=27&amp;source=1\" title=\"Show this document on Huygens\" sec=\"1 4:1\">1 4:1</a></span></div><div class=\" children\"><div class=\"contnr c3    \" ><div class=\"lbl c3  \" ><span class=\"nd\">line</span></div><div class=\"children hor wrap \"><div class=\"contnr c0 trm   \" ><div class=\"lbl c0 trm \" ><span class=\"txtu\">IV. </span></div></div><div class=\"contnr c0 trm   hl\" ><div class=\"lbl c0 trm hl\" ><span class=\"txtu\">PIETER </span></div><div class='features'><span class=\"entityid xft\" ><span class=\"f\">entityId=</span>e_1_4_1</span><span class=\"entitykind xft\" ><span class=\"f\">entityKind=</span>SHP</span></div></div><div class=\"contnr c0 trm   hl\" ><div class=\"lbl c0 trm hl\" ><span class=\"txtu\">BOTH, </span></div><div class='features'><span class=\"entityid xft\" ><span class=\"f\">entityId=</span>e_1_4_2</span><span class=\"entitykind xft\" ><span class=\"f\">entityKind=</span>LOC</span></div></div><div class=\"contnr c0 trm   \" ><div class=\"lbl c0 trm \" ><span class=\"txtu\">KASTEEL </span></div></div><div class=\"contnr c0 trm   hl\" ><div class=\"lbl c0 trm hl\" ><span class=\"txtu\">NASSAU </span></div><div class='features'><span class=\"entityid xft\" ><span class=\"f\">entityId=</span>e_1_4_3</span><span class=\"entitykind xft\" ><span class=\"f\">entityKind=</span>LOC</span></div></div><div class=\"contnr c0 trm   \" ><div class=\"lbl c0 trm \" ><span class=\"txtu\">OP </span></div></div><div class=\"contnr c0 trm   hl\" ><div class=\"lbl c0 trm hl\" ><span class=\"txtu\">BANDA </span></div><div class='features'><span class=\"entityid xft\" ><span class=\"f\">entityId=</span>e_1_4_5</span><span class=\"entitykind xft\" ><span class=\"f\">entityKind=</span>LOC</span></div></div><div class=\"contnr c0 trm   \" ><div class=\"lbl c0 trm \" ><span class=\"txtu\">18 </span></div></div><div class=\"contnr c0 trm   \" ><div class=\"lbl c0 trm \" ><span class=\"txtu\">juli </span></div></div><div class=\"contnr c0 trm   \" ><div class=\"lbl c0 trm \" ><span class=\"txtu\">1611. </span></div></div></div></div></div>"
      ],
      "text/plain": [
       "<IPython.core.display.HTML object>"
      ]
     },
     "metadata": {},
     "output_type": "display_data"
    },
    {
     "data": {
      "text/html": [
       "<p><b>line</b> <i>10</i>"
      ],
      "text/plain": [
       "<IPython.core.display.HTML object>"
      ]
     },
     "metadata": {},
     "output_type": "display_data"
    },
    {
     "data": {
      "text/html": [
       "<div class=\"tfsechead \"><span class=\"ltr\"><a target=\"_blank\" href=\"http://resources.huygens.knaw.nl/retroboeken/generalemissiven/#page=27&amp;source=1\" title=\"Show this document on Huygens\" sec=\"1 4:3\">1 4:3</a></span></div><div class=\" children\"><div class=\"contnr c3    \" ><div class=\"lbl c3  \" ><span class=\"nd\">line</span></div><div class=\"children hor wrap \"><div class=\"contnr c0 trm   \" ><div class=\"lbl c0 trm \" ><span class=\"txtu\">Principaelijck </span></div></div><div class=\"contnr c0 trm   \" ><div class=\"lbl c0 trm \" ><span class=\"txtu\">besich </span></div></div><div class=\"contnr c0 trm   \" ><div class=\"lbl c0 trm \" ><span class=\"txtu\">geweest </span></div></div><div class=\"contnr c0 trm   \" ><div class=\"lbl c0 trm \" ><span class=\"txtu\">in </span></div></div><div class=\"contnr c0 trm   \" ><div class=\"lbl c0 trm \" ><span class=\"txtu\">’t </span></div></div><div class=\"contnr c0 trm   \" ><div class=\"lbl c0 trm \" ><span class=\"txtu\">opbouwen </span></div></div><div class=\"contnr c0 trm   \" ><div class=\"lbl c0 trm \" ><span class=\"txtu\">van </span></div></div><div class=\"contnr c0 trm   \" ><div class=\"lbl c0 trm \" ><span class=\"txtu\">dit </span></div></div><div class=\"contnr c0 trm   \" ><div class=\"lbl c0 trm \" ><span class=\"txtu\">nieuwe </span></div></div><div class=\"contnr c0 trm   \" ><div class=\"lbl c0 trm \" ><span class=\"txtu\">fort </span></div></div><div class=\"contnr c0 trm   \" ><div class=\"lbl c0 trm \" ><span class=\"txtu\">Hiermee </span></div></div><div class=\"contnr c0 trm   \" ><div class=\"lbl c0 trm \" ><span class=\"txtu\">is </span></div></div><div class=\"contnr c0 trm   \" ><div class=\"lbl c0 trm \" ><span class=\"txtu\">bedoeld </span></div></div><div class=\"contnr c0 trm   \" ><div class=\"lbl c0 trm \" ><span class=\"txtu\">het </span></div></div><div class=\"contnr c0 trm   \" ><div class=\"lbl c0 trm \" ><span class=\"txtu\">kasteel </span></div></div><div class=\"contnr c0 trm   hl\" ><div class=\"lbl c0 trm hl\" ><span class=\"txtu\">Belgica, </span></div><div class='features'><span class=\"entityid xft\" ><span class=\"f\">entityId=</span>e_1_4_12</span><span class=\"entitykind xft\" ><span class=\"f\">entityKind=</span>LOC</span></div></div><div class=\"contnr c0 trm   \" ><div class=\"lbl c0 trm \" ><span class=\"txtu\">op </span></div></div><div class=\"contnr c0 trm   \" ><div class=\"lbl c0 trm \" ><span class=\"txtu\">de </span></div></div><div class=\"contnr c0 trm   \" ><div class=\"lbl c0 trm \" ><span class=\"txtu\">heuvel, </span></div></div><div class=\"contnr c0 trm   \" ><div class=\"lbl c0 trm \" ><span class=\"txtu\">die </span></div></div><div class=\"contnr c0 trm   \" ><div class=\"lbl c0 trm \" ><span class=\"txtu\">het </span></div></div><div class=\"contnr c0 trm   \" ><div class=\"lbl c0 trm \" ><span class=\"txtu\">kasteel </span></div></div><div class=\"contnr c0 trm   hl\" ><div class=\"lbl c0 trm hl\" ><span class=\"txtu\">Nassau </span></div><div class='features'><span class=\"entityid xft\" ><span class=\"f\">entityId=</span>e_1_4_13</span><span class=\"entitykind xft\" ><span class=\"f\">entityKind=</span>LOC</span></div></div><div class=\"contnr c0 trm   \" ><div class=\"lbl c0 trm \" ><span class=\"txtu\">bestreek. </span></div></div></div></div></div>"
      ],
      "text/plain": [
       "<IPython.core.display.HTML object>"
      ]
     },
     "metadata": {},
     "output_type": "display_data"
    }
   ],
   "source": [
    "A.show(results, condensed=True, end=10)"
   ]
  },
  {
   "cell_type": "markdown",
   "metadata": {},
   "source": [
    "# Observations\n",
    "\n",
    "We see some glitches.\n",
    "\n",
    "Lines 1, 5, 7: `Amsterdam` is correctly marked as ship, but the full name is `Het Wapen van Amsterdam`.\n",
    "\n",
    "Line 2, 4: `De Mayo` is correctly marked as location in line 2, but the full name is `Ile de Mayo`,\n",
    "and line 4 has this right.\n",
    "\n",
    "Line 8: `ter rede van Mauritius` is incorrectly marked as a person, it is a location.\n",
    "\n",
    "Line 9: `Pieter Both` is now incorrectly marked as two entities, a ship and an person,\n",
    "while in lines 1, 5 , 7 it was correctly marked as a single personal entity."
   ]
  },
  {
   "cell_type": "markdown",
   "metadata": {},
   "source": [
    "Let's find all occurrences of Pieter Both and see their entity markings.\n",
    "\n",
    "The following query does it:"
   ]
  },
  {
   "cell_type": "code",
   "execution_count": 13,
   "metadata": {},
   "outputs": [
    {
     "name": "stdout",
     "output_type": "stream",
     "text": [
      "  9.71s 22 results\n"
     ]
    }
   ],
   "source": [
    "query = \"\"\"\n",
    "word trans~(?i:Pieter) entityId* entityKind*\n",
    "<: word trans~(?i:Both)\n",
    "\"\"\"\n",
    "\n",
    "results = A.search(query)"
   ]
  },
  {
   "cell_type": "markdown",
   "metadata": {},
   "source": [
    "This is a moment to try out the Text-Fabric browser.\n",
    "\n",
    "On the command prompt, give the command\n",
    "\n",
    "```\n",
    "text-fabric CLARIAH/wp6-missieven --mod=dirkroorda/voc-missives/export/tf\n",
    "```\n",
    "\n",
    "and then paste the above query in the search box and press the search icon. You'll see a table of results\n",
    "which you can expand in order to inspect the results more carefully.\n",
    "\n",
    "You can also jump from the text-fabric browser to the facsimiles.\n",
    "Everything is under your finger tips.\n",
    "\n",
    "Below you see that result 4 is the only strange result."
   ]
  },
  {
   "cell_type": "code",
   "execution_count": 14,
   "metadata": {},
   "outputs": [
    {
     "data": {
      "text/html": [
       "<p><b>result</b> <i>1</i>"
      ],
      "text/plain": [
       "<IPython.core.display.HTML object>"
      ]
     },
     "metadata": {},
     "output_type": "display_data"
    },
    {
     "data": {
      "text/html": [
       "<div class=\"tfsechead \"><span class=\"ltr\"><a target=\"_blank\" href=\"http://resources.huygens.knaw.nl/retroboeken/generalemissiven/#page=26&amp;source=1\" title=\"Show this document on Huygens\" sec=\"1 3:1\">1 3:1</a></span></div><div class=\" children\"><div class=\"contnr c3    \" ><div class=\"lbl c3  \" ><span class=\"nd\">line</span></div><div class='features'><span class=\"entityid xft\" ><span class=\"f\">entityId=</span>e_14_9_45</span><span class=\"entitykind xft\" ><span class=\"f\">entityKind=</span>LOC</span></div><div class=\"children hor wrap \"><div class=\"contnr c0 trm   \" ><div class=\"lbl c0 trm \" ><span class=\"txtu\">I. </span></div><div class='features'><span class=\"trans xft\" ><span class=\"f\">trans=</span>I</span></div></div><div class=\"contnr c0 trm   hl\" ><div class=\"lbl c0 trm hl\" ><span class=\"txtu\">PIETER </span></div><div class='features'><span class=\"entityid xft\" ><span class=\"f\">entityId=</span>e_1_1_1</span><span class=\"entitykind xft\" ><span class=\"f\">entityKind=</span>PER</span><span class=\"trans xft\" ><span class=\"f\">trans=</span>PIETER</span></div></div><div class=\"contnr c0 trm   hl\" ><div class=\"lbl c0 trm hl\" ><span class=\"txtu\">BOTH, </span></div><div class='features'><span class=\"entityid xft\" ><span class=\"f\">entityId=</span>e_1_1_1</span><span class=\"entitykind xft\" ><span class=\"f\">entityKind=</span>PER</span><span class=\"trans xft\" ><span class=\"f\">trans=</span>BOTH</span></div></div><div class=\"contnr c0 trm   \" ><div class=\"lbl c0 trm \" ><span class=\"txtu\">AAN </span></div><div class='features'><span class=\"trans xft\" ><span class=\"f\">trans=</span>AAN</span></div></div><div class=\"contnr c0 trm   \" ><div class=\"lbl c0 trm \" ><span class=\"txtu\">BOORD </span></div><div class='features'><span class=\"trans xft\" ><span class=\"f\">trans=</span>BOORD</span></div></div><div class=\"contnr c0 trm   \" ><div class=\"lbl c0 trm \" ><span class=\"txtu\">VAN </span></div><div class='features'><span class=\"trans xft\" ><span class=\"f\">trans=</span>VAN</span></div></div><div class=\"contnr c0 trm   \" ><div class=\"lbl c0 trm \" ><span class=\"txtu\">HET </span></div><div class='features'><span class=\"trans xft\" ><span class=\"f\">trans=</span>HET</span></div></div><div class=\"contnr c0 trm   \" ><div class=\"lbl c0 trm \" ><span class=\"txtu\">WAPEN </span></div><div class='features'><span class=\"trans xft\" ><span class=\"f\">trans=</span>WAPEN</span></div></div><div class=\"contnr c0 trm   \" ><div class=\"lbl c0 trm \" ><span class=\"txtu\">VAN </span></div><div class='features'><span class=\"trans xft\" ><span class=\"f\">trans=</span>VAN</span></div></div><div class=\"contnr c0 trm   \" ><div class=\"lbl c0 trm \" ><span class=\"txtu\">AMSTERDAM, </span></div><div class='features'><span class=\"entityid xft\" ><span class=\"f\">entityId=</span>e_1_1_2</span><span class=\"entitykind xft\" ><span class=\"f\">entityKind=</span>SHP</span><span class=\"trans xft\" ><span class=\"f\">trans=</span>AMSTERDAM</span></div></div></div></div></div>"
      ],
      "text/plain": [
       "<IPython.core.display.HTML object>"
      ]
     },
     "metadata": {},
     "output_type": "display_data"
    },
    {
     "data": {
      "text/html": [
       "<p><b>result</b> <i>2</i>"
      ],
      "text/plain": [
       "<IPython.core.display.HTML object>"
      ]
     },
     "metadata": {},
     "output_type": "display_data"
    },
    {
     "data": {
      "text/html": [
       "<div class=\"tfsechead \"><span class=\"ltr\"><a target=\"_blank\" href=\"http://resources.huygens.knaw.nl/retroboeken/generalemissiven/#page=26&amp;source=1\" title=\"Show this document on Huygens\" sec=\"1 3:1\">1 3:1</a></span></div><div class=\" children\"><div class=\"contnr c3    \" ><div class=\"lbl c3  \" ><span class=\"nd\">line</span></div><div class=\"children hor wrap \"><div class=\"contnr c0 trm   \" ><div class=\"lbl c0 trm \" ><span class=\"txtu\">II. </span></div><div class='features'><span class=\"trans xft\" ><span class=\"f\">trans=</span>II</span></div></div><div class=\"contnr c0 trm   hl\" ><div class=\"lbl c0 trm hl\" ><span class=\"txtu\">PIETER </span></div><div class='features'><span class=\"entityid xft\" ><span class=\"f\">entityId=</span>e_1_2_0</span><span class=\"entitykind xft\" ><span class=\"f\">entityKind=</span>PER</span><span class=\"trans xft\" ><span class=\"f\">trans=</span>PIETER</span></div></div><div class=\"contnr c0 trm   hl\" ><div class=\"lbl c0 trm hl\" ><span class=\"txtu\">BOTH, </span></div><div class='features'><span class=\"entityid xft\" ><span class=\"f\">entityId=</span>e_1_2_0</span><span class=\"entitykind xft\" ><span class=\"f\">entityKind=</span>PER</span><span class=\"trans xft\" ><span class=\"f\">trans=</span>BOTH</span></div></div><div class=\"contnr c0 trm   \" ><div class=\"lbl c0 trm \" ><span class=\"txtu\">AAN </span></div><div class='features'><span class=\"trans xft\" ><span class=\"f\">trans=</span>AAN</span></div></div><div class=\"contnr c0 trm   \" ><div class=\"lbl c0 trm \" ><span class=\"txtu\">BOORD </span></div><div class='features'><span class=\"trans xft\" ><span class=\"f\">trans=</span>BOORD</span></div></div><div class=\"contnr c0 trm   \" ><div class=\"lbl c0 trm \" ><span class=\"txtu\">VAN </span></div><div class='features'><span class=\"trans xft\" ><span class=\"f\">trans=</span>VAN</span></div></div><div class=\"contnr c0 trm   \" ><div class=\"lbl c0 trm \" ><span class=\"txtu\">HET </span></div><div class='features'><span class=\"trans xft\" ><span class=\"f\">trans=</span>HET</span></div></div><div class=\"contnr c0 trm   \" ><div class=\"lbl c0 trm \" ><span class=\"txtu\">WAPEN </span></div><div class='features'><span class=\"trans xft\" ><span class=\"f\">trans=</span>WAPEN</span></div></div><div class=\"contnr c0 trm   \" ><div class=\"lbl c0 trm \" ><span class=\"txtu\">VAN </span></div><div class='features'><span class=\"trans xft\" ><span class=\"f\">trans=</span>VAN</span></div></div><div class=\"contnr c0 trm   \" ><div class=\"lbl c0 trm \" ><span class=\"txtu\">AMSTERDAM, </span></div><div class='features'><span class=\"entityid xft\" ><span class=\"f\">entityId=</span>e_1_2_2</span><span class=\"entitykind xft\" ><span class=\"f\">entityKind=</span>SHP</span><span class=\"trans xft\" ><span class=\"f\">trans=</span>AMSTERDAM</span></div></div></div></div></div>"
      ],
      "text/plain": [
       "<IPython.core.display.HTML object>"
      ]
     },
     "metadata": {},
     "output_type": "display_data"
    },
    {
     "data": {
      "text/html": [
       "<p><b>result</b> <i>3</i>"
      ],
      "text/plain": [
       "<IPython.core.display.HTML object>"
      ]
     },
     "metadata": {},
     "output_type": "display_data"
    },
    {
     "data": {
      "text/html": [
       "<div class=\"tfsechead \"><span class=\"ltr\"><a target=\"_blank\" href=\"http://resources.huygens.knaw.nl/retroboeken/generalemissiven/#page=26&amp;source=1\" title=\"Show this document on Huygens\" sec=\"1 3:1\">1 3:1</a></span></div><div class=\" children\"><div class=\"contnr c3    \" ><div class=\"lbl c3  \" ><span class=\"nd\">line</span></div><div class=\"children hor wrap \"><div class=\"contnr c0 trm   \" ><div class=\"lbl c0 trm \" ><span class=\"txtu\">III. </span></div><div class='features'><span class=\"trans xft\" ><span class=\"f\">trans=</span>III</span></div></div><div class=\"contnr c0 trm   hl\" ><div class=\"lbl c0 trm hl\" ><span class=\"txtu\">PIETER </span></div><div class='features'><span class=\"entityid xft\" ><span class=\"f\">entityId=</span>e_1_3_0</span><span class=\"entitykind xft\" ><span class=\"f\">entityKind=</span>PER</span><span class=\"trans xft\" ><span class=\"f\">trans=</span>PIETER</span></div></div><div class=\"contnr c0 trm   hl\" ><div class=\"lbl c0 trm hl\" ><span class=\"txtu\">BOTH, </span></div><div class='features'><span class=\"entityid xft\" ><span class=\"f\">entityId=</span>e_1_3_0</span><span class=\"entitykind xft\" ><span class=\"f\">entityKind=</span>PER</span><span class=\"trans xft\" ><span class=\"f\">trans=</span>BOTH</span></div></div><div class=\"contnr c0 trm   \" ><div class=\"lbl c0 trm \" ><span class=\"txtu\">AAN </span></div><div class='features'><span class=\"trans xft\" ><span class=\"f\">trans=</span>AAN</span></div></div><div class=\"contnr c0 trm   \" ><div class=\"lbl c0 trm \" ><span class=\"txtu\">BOORD </span></div><div class='features'><span class=\"trans xft\" ><span class=\"f\">trans=</span>BOORD</span></div></div><div class=\"contnr c0 trm   \" ><div class=\"lbl c0 trm \" ><span class=\"txtu\">VAN </span></div><div class='features'><span class=\"trans xft\" ><span class=\"f\">trans=</span>VAN</span></div></div><div class=\"contnr c0 trm   \" ><div class=\"lbl c0 trm \" ><span class=\"txtu\">HET </span></div><div class='features'><span class=\"trans xft\" ><span class=\"f\">trans=</span>HET</span></div></div><div class=\"contnr c0 trm   \" ><div class=\"lbl c0 trm \" ><span class=\"txtu\">WAPEN </span></div><div class='features'><span class=\"trans xft\" ><span class=\"f\">trans=</span>WAPEN</span></div></div><div class=\"contnr c0 trm   \" ><div class=\"lbl c0 trm \" ><span class=\"txtu\">VAN </span></div><div class='features'><span class=\"trans xft\" ><span class=\"f\">trans=</span>VAN</span></div></div><div class=\"contnr c0 trm   \" ><div class=\"lbl c0 trm \" ><span class=\"txtu\">AMSTERDAM, </span></div><div class='features'><span class=\"entityid xft\" ><span class=\"f\">entityId=</span>e_1_3_1</span><span class=\"entitykind xft\" ><span class=\"f\">entityKind=</span>SHP</span><span class=\"trans xft\" ><span class=\"f\">trans=</span>AMSTERDAM</span></div></div></div></div></div>"
      ],
      "text/plain": [
       "<IPython.core.display.HTML object>"
      ]
     },
     "metadata": {},
     "output_type": "display_data"
    },
    {
     "data": {
      "text/html": [
       "<p><b>result</b> <i>4</i>"
      ],
      "text/plain": [
       "<IPython.core.display.HTML object>"
      ]
     },
     "metadata": {},
     "output_type": "display_data"
    },
    {
     "data": {
      "text/html": [
       "<div class=\"tfsechead \"><span class=\"ltr\"><a target=\"_blank\" href=\"http://resources.huygens.knaw.nl/retroboeken/generalemissiven/#page=27&amp;source=1\" title=\"Show this document on Huygens\" sec=\"1 4:1\">1 4:1</a></span></div><div class=\" children\"><div class=\"contnr c3    \" ><div class=\"lbl c3  \" ><span class=\"nd\">line</span></div><div class=\"children hor wrap \"><div class=\"contnr c0 trm   \" ><div class=\"lbl c0 trm \" ><span class=\"txtu\">IV. </span></div><div class='features'><span class=\"trans xft\" ><span class=\"f\">trans=</span>IV</span></div></div><div class=\"contnr c0 trm   hl\" ><div class=\"lbl c0 trm hl\" ><span class=\"txtu\">PIETER </span></div><div class='features'><span class=\"entityid xft\" ><span class=\"f\">entityId=</span>e_1_4_1</span><span class=\"entitykind xft\" ><span class=\"f\">entityKind=</span>SHP</span><span class=\"trans xft\" ><span class=\"f\">trans=</span>PIETER</span></div></div><div class=\"contnr c0 trm   hl\" ><div class=\"lbl c0 trm hl\" ><span class=\"txtu\">BOTH, </span></div><div class='features'><span class=\"entityid xft\" ><span class=\"f\">entityId=</span>e_1_4_2</span><span class=\"entitykind xft\" ><span class=\"f\">entityKind=</span>LOC</span><span class=\"trans xft\" ><span class=\"f\">trans=</span>BOTH</span></div></div><div class=\"contnr c0 trm   \" ><div class=\"lbl c0 trm \" ><span class=\"txtu\">KASTEEL </span></div><div class='features'><span class=\"trans xft\" ><span class=\"f\">trans=</span>KASTEEL</span></div></div><div class=\"contnr c0 trm   \" ><div class=\"lbl c0 trm \" ><span class=\"txtu\">NASSAU </span></div><div class='features'><span class=\"entityid xft\" ><span class=\"f\">entityId=</span>e_1_4_3</span><span class=\"entitykind xft\" ><span class=\"f\">entityKind=</span>LOC</span><span class=\"trans xft\" ><span class=\"f\">trans=</span>NASSAU</span></div></div><div class=\"contnr c0 trm   \" ><div class=\"lbl c0 trm \" ><span class=\"txtu\">OP </span></div><div class='features'><span class=\"trans xft\" ><span class=\"f\">trans=</span>OP</span></div></div><div class=\"contnr c0 trm   \" ><div class=\"lbl c0 trm \" ><span class=\"txtu\">BANDA </span></div><div class='features'><span class=\"entityid xft\" ><span class=\"f\">entityId=</span>e_1_4_5</span><span class=\"entitykind xft\" ><span class=\"f\">entityKind=</span>LOC</span><span class=\"trans xft\" ><span class=\"f\">trans=</span>BANDA</span></div></div><div class=\"contnr c0 trm   \" ><div class=\"lbl c0 trm \" ><span class=\"txtu\">18 </span></div><div class='features'><span class=\"trans xft\" ><span class=\"f\">trans=</span>18</span></div></div><div class=\"contnr c0 trm   \" ><div class=\"lbl c0 trm \" ><span class=\"txtu\">juli </span></div><div class='features'><span class=\"trans xft\" ><span class=\"f\">trans=</span>juli</span></div></div><div class=\"contnr c0 trm   \" ><div class=\"lbl c0 trm \" ><span class=\"txtu\">1611. </span></div><div class='features'><span class=\"trans xft\" ><span class=\"f\">trans=</span>1611</span></div></div></div></div></div>"
      ],
      "text/plain": [
       "<IPython.core.display.HTML object>"
      ]
     },
     "metadata": {},
     "output_type": "display_data"
    },
    {
     "data": {
      "text/html": [
       "<p><b>result</b> <i>5</i>"
      ],
      "text/plain": [
       "<IPython.core.display.HTML object>"
      ]
     },
     "metadata": {},
     "output_type": "display_data"
    },
    {
     "data": {
      "text/html": [
       "<div class=\"tfsechead \"><span class=\"ltr\"><a target=\"_blank\" href=\"http://resources.huygens.knaw.nl/retroboeken/generalemissiven/#page=30&amp;source=1\" title=\"Show this document on Huygens\" sec=\"1 7:1\">1 7:1</a></span></div><div class=\" children\"><div class=\"contnr c3    \" ><div class=\"lbl c3  \" ><span class=\"nd\">line</span></div><div class=\"children hor wrap \"><div class=\"contnr c0 trm   \" ><div class=\"lbl c0 trm \" ><span class=\"txtu\">V. </span></div><div class='features'><span class=\"trans xft\" ><span class=\"f\">trans=</span>V</span></div></div><div class=\"contnr c0 trm   hl\" ><div class=\"lbl c0 trm hl\" ><span class=\"txtu\">PIETER </span></div><div class='features'><span class=\"entityid xft\" ><span class=\"f\">entityId=</span>e_1_5_1</span><span class=\"entitykind xft\" ><span class=\"f\">entityKind=</span>PER</span><span class=\"trans xft\" ><span class=\"f\">trans=</span>PIETER</span></div></div><div class=\"contnr c0 trm   hl\" ><div class=\"lbl c0 trm hl\" ><span class=\"txtu\">BOTH, </span></div><div class='features'><span class=\"entityid xft\" ><span class=\"f\">entityId=</span>e_1_5_1</span><span class=\"entitykind xft\" ><span class=\"f\">entityKind=</span>PER</span><span class=\"trans xft\" ><span class=\"f\">trans=</span>BOTH</span></div></div><div class=\"contnr c0 trm   \" ><div class=\"lbl c0 trm \" ><span class=\"txtu\">AAN </span></div><div class='features'><span class=\"trans xft\" ><span class=\"f\">trans=</span>AAN</span></div></div><div class=\"contnr c0 trm   \" ><div class=\"lbl c0 trm \" ><span class=\"txtu\">BOORD </span></div><div class='features'><span class=\"trans xft\" ><span class=\"f\">trans=</span>BOORD</span></div></div><div class=\"contnr c0 trm   \" ><div class=\"lbl c0 trm \" ><span class=\"txtu\">VAN </span></div><div class='features'><span class=\"trans xft\" ><span class=\"f\">trans=</span>VAN</span></div></div><div class=\"contnr c0 trm   \" ><div class=\"lbl c0 trm \" ><span class=\"txtu\">DE </span></div><div class='features'><span class=\"trans xft\" ><span class=\"f\">trans=</span>DE</span></div></div><div class=\"contnr c0 trm   \" ><div class=\"lbl c0 trm \" ><span class=\"txtu\">VERE, </span></div><div class='features'><span class=\"trans xft\" ><span class=\"f\">trans=</span>VERE</span></div></div><div class=\"contnr c0 trm   \" ><div class=\"lbl c0 trm \" ><span class=\"txtu\">VOOR </span></div><div class='features'><span class=\"trans xft\" ><span class=\"f\">trans=</span>VOOR</span></div></div><div class=\"contnr c0 trm   \" ><div class=\"lbl c0 trm \" ><span class=\"txtu\">MALEYO </span></div><div class='features'><span class=\"entityid xft\" ><span class=\"f\">entityId=</span>e_1_5_3</span><span class=\"entitykind xft\" ><span class=\"f\">entityKind=</span>LOC</span><span class=\"trans xft\" ><span class=\"f\">trans=</span>MALEYO</span></div></div><div class=\"contnr c0 trm   \" ><div class=\"lbl c0 trm \" ><span class=\"txtu\">Maleyo, </span></div><div class='features'><span class=\"entityid xft\" ><span class=\"f\">entityId=</span>e_1_5_3</span><span class=\"entitykind xft\" ><span class=\"f\">entityKind=</span>LOC</span><span class=\"trans xft\" ><span class=\"f\">trans=</span>Maleyo</span></div></div><div class=\"contnr c0 trm   \" ><div class=\"lbl c0 trm \" ><span class=\"txtu\">plaats </span></div><div class='features'><span class=\"trans xft\" ><span class=\"f\">trans=</span>plaats</span></div></div><div class=\"contnr c0 trm   \" ><div class=\"lbl c0 trm \" ><span class=\"txtu\">waar </span></div><div class='features'><span class=\"trans xft\" ><span class=\"f\">trans=</span>waar</span></div></div><div class=\"contnr c0 trm   \" ><div class=\"lbl c0 trm \" ><span class=\"txtu\">de </span></div><div class='features'><span class=\"trans xft\" ><span class=\"f\">trans=</span>de</span></div></div><div class=\"contnr c0 trm   \" ><div class=\"lbl c0 trm \" ><span class=\"txtu\">koning </span></div><div class='features'><span class=\"trans xft\" ><span class=\"f\">trans=</span>koning</span></div></div><div class=\"contnr c0 trm   \" ><div class=\"lbl c0 trm \" ><span class=\"txtu\">van </span></div><div class='features'><span class=\"trans xft\" ><span class=\"f\">trans=</span>van</span></div></div><div class=\"contnr c0 trm   \" ><div class=\"lbl c0 trm \" ><span class=\"txtu\">Ternate </span></div><div class='features'><span class=\"entityid xft\" ><span class=\"f\">entityId=</span>e_1_5_5</span><span class=\"entitykind xft\" ><span class=\"f\">entityKind=</span>LOC</span><span class=\"trans xft\" ><span class=\"f\">trans=</span>Ternate</span></div></div><div class=\"contnr c0 trm   \" ><div class=\"lbl c0 trm \" ><span class=\"txtu\">onder </span></div><div class='features'><span class=\"trans xft\" ><span class=\"f\">trans=</span>onder</span></div></div><div class=\"contnr c0 trm   \" ><div class=\"lbl c0 trm \" ><span class=\"txtu\">bescherming </span></div><div class='features'><span class=\"trans xft\" ><span class=\"f\">trans=</span>bescherming</span></div></div><div class=\"contnr c0 trm   \" ><div class=\"lbl c0 trm \" ><span class=\"txtu\">van </span></div><div class='features'><span class=\"trans xft\" ><span class=\"f\">trans=</span>van</span></div></div><div class=\"contnr c0 trm   \" ><div class=\"lbl c0 trm \" ><span class=\"txtu\">het </span></div><div class='features'><span class=\"trans xft\" ><span class=\"f\">trans=</span>het</span></div></div><div class=\"contnr c0 trm   \" ><div class=\"lbl c0 trm \" ><span class=\"txtu\">Nederlandse </span></div><div class='features'><span class=\"entityid xft\" ><span class=\"f\">entityId=</span>e_1_5_6</span><span class=\"entitykind xft\" ><span class=\"f\">entityKind=</span>LOCderiv</span><span class=\"trans xft\" ><span class=\"f\">trans=</span>Nederlandse</span></div></div></div></div></div>"
      ],
      "text/plain": [
       "<IPython.core.display.HTML object>"
      ]
     },
     "metadata": {},
     "output_type": "display_data"
    },
    {
     "data": {
      "text/html": [
       "<p><b>result</b> <i>6</i>"
      ],
      "text/plain": [
       "<IPython.core.display.HTML object>"
      ]
     },
     "metadata": {},
     "output_type": "display_data"
    },
    {
     "data": {
      "text/html": [
       "<div class=\"tfsechead \"><span class=\"ltr\"><a target=\"_blank\" href=\"http://resources.huygens.knaw.nl/retroboeken/generalemissiven/#page=31&amp;source=1\" title=\"Show this document on Huygens\" sec=\"1 8:1\">1 8:1</a></span></div><div class=\" children\"><div class=\"contnr c3    \" ><div class=\"lbl c3  \" ><span class=\"nd\">line</span></div><div class=\"children hor wrap \"><div class=\"contnr c0 trm   \" ><div class=\"lbl c0 trm \" ><span class=\"txtu\">VI. </span></div><div class='features'><span class=\"trans xft\" ><span class=\"f\">trans=</span>VI</span></div></div><div class=\"contnr c0 trm   hl\" ><div class=\"lbl c0 trm hl\" ><span class=\"txtu\">PIETER </span></div><div class='features'><span class=\"entityid xft\" ><span class=\"f\">entityId=</span>e_1_6_0</span><span class=\"entitykind xft\" ><span class=\"f\">entityKind=</span>PER</span><span class=\"trans xft\" ><span class=\"f\">trans=</span>PIETER</span></div></div><div class=\"contnr c0 trm   hl\" ><div class=\"lbl c0 trm hl\" ><span class=\"txtu\">BOTH, </span></div><div class='features'><span class=\"entityid xft\" ><span class=\"f\">entityId=</span>e_1_6_0</span><span class=\"entitykind xft\" ><span class=\"f\">entityKind=</span>PER</span><span class=\"trans xft\" ><span class=\"f\">trans=</span>BOTH</span></div></div><div class=\"contnr c0 trm   \" ><div class=\"lbl c0 trm \" ><span class=\"txtu\">EORT </span></div><div class='features'><span class=\"trans xft\" ><span class=\"f\">trans=</span>EORT</span></div></div><div class=\"contnr c0 trm   \" ><div class=\"lbl c0 trm \" ><span class=\"txtu\">MAURITIUS </span></div><div class='features'><span class=\"entityid xft\" ><span class=\"f\">entityId=</span>e_1_6_1</span><span class=\"entitykind xft\" ><span class=\"f\">entityKind=</span>PER</span><span class=\"trans xft\" ><span class=\"f\">trans=</span>MAURITIUS</span></div></div><div class=\"contnr c0 trm   \" ><div class=\"lbl c0 trm \" ><span class=\"txtu\">NABIJ </span></div><div class='features'><span class=\"trans xft\" ><span class=\"f\">trans=</span>NABIJ</span></div></div><div class=\"contnr c0 trm   \" ><div class=\"lbl c0 trm \" ><span class=\"txtu\">NGOFAKIAHA </span></div><div class='features'><span class=\"entityid xft\" ><span class=\"f\">entityId=</span>e_1_6_2</span><span class=\"entitykind xft\" ><span class=\"f\">entityKind=</span>LOC</span><span class=\"trans xft\" ><span class=\"f\">trans=</span>NGOFAKIAHA</span></div></div><div class=\"contnr c0 trm   \" ><div class=\"lbl c0 trm \" ><span class=\"txtu\">OP </span></div><div class='features'><span class=\"trans xft\" ><span class=\"f\">trans=</span>OP</span></div></div><div class=\"contnr c0 trm   \" ><div class=\"lbl c0 trm \" ><span class=\"txtu\">HET </span></div><div class='features'><span class=\"trans xft\" ><span class=\"f\">trans=</span>HET</span></div></div></div></div></div>"
      ],
      "text/plain": [
       "<IPython.core.display.HTML object>"
      ]
     },
     "metadata": {},
     "output_type": "display_data"
    },
    {
     "data": {
      "text/html": [
       "<p><b>result</b> <i>7</i>"
      ],
      "text/plain": [
       "<IPython.core.display.HTML object>"
      ]
     },
     "metadata": {},
     "output_type": "display_data"
    },
    {
     "data": {
      "text/html": [
       "<div class=\"tfsechead \"><span class=\"ltr\"><a target=\"_blank\" href=\"http://resources.huygens.knaw.nl/retroboeken/generalemissiven/#page=39&amp;source=1\" title=\"Show this document on Huygens\" sec=\"1 16:1\">1 16:1</a></span></div><div class=\" children\"><div class=\"contnr c3    \" ><div class=\"lbl c3  \" ><span class=\"nd\">line</span></div><div class=\"children hor wrap \"><div class=\"contnr c0 trm   \" ><div class=\"lbl c0 trm \" ><span class=\"txtu\">VII. </span></div><div class='features'><span class=\"trans xft\" ><span class=\"f\">trans=</span>VII</span></div></div><div class=\"contnr c0 trm   hl\" ><div class=\"lbl c0 trm hl\" ><span class=\"txtu\">PIETER </span></div><div class='features'><span class=\"entityid xft\" ><span class=\"f\">entityId=</span>e_1_7_0</span><span class=\"entitykind xft\" ><span class=\"f\">entityKind=</span>PER</span><span class=\"trans xft\" ><span class=\"f\">trans=</span>PIETER</span></div></div><div class=\"contnr c0 trm   hl\" ><div class=\"lbl c0 trm hl\" ><span class=\"txtu\">BOTH, </span></div><div class='features'><span class=\"entityid xft\" ><span class=\"f\">entityId=</span>e_1_7_0</span><span class=\"entitykind xft\" ><span class=\"f\">entityKind=</span>PER</span><span class=\"trans xft\" ><span class=\"f\">trans=</span>BOTH</span></div></div><div class=\"contnr c0 trm   \" ><div class=\"lbl c0 trm \" ><span class=\"txtu\">FORT </span></div><div class='features'><span class=\"entityid xft\" ><span class=\"f\">entityId=</span>e_1_7_1</span><span class=\"entitykind xft\" ><span class=\"f\">entityKind=</span>PER</span><span class=\"trans xft\" ><span class=\"f\">trans=</span>FORT</span></div></div><div class=\"contnr c0 trm   \" ><div class=\"lbl c0 trm \" ><span class=\"txtu\">MAURITIUS </span></div><div class='features'><span class=\"entityid xft\" ><span class=\"f\">entityId=</span>e_1_7_1</span><span class=\"entitykind xft\" ><span class=\"f\">entityKind=</span>PER</span><span class=\"trans xft\" ><span class=\"f\">trans=</span>MAURITIUS</span></div></div><div class=\"contnr c0 trm   \" ><div class=\"lbl c0 trm \" ><span class=\"txtu\">NABIJ </span></div><div class='features'><span class=\"entityid xft\" ><span class=\"f\">entityId=</span>e_1_7_1</span><span class=\"entitykind xft\" ><span class=\"f\">entityKind=</span>PER</span><span class=\"trans xft\" ><span class=\"f\">trans=</span>NABIJ</span></div></div><div class=\"contnr c0 trm   \" ><div class=\"lbl c0 trm \" ><span class=\"txtu\">NGOFAKIAHA </span></div><div class='features'><span class=\"entityid xft\" ><span class=\"f\">entityId=</span>e_1_7_1</span><span class=\"entitykind xft\" ><span class=\"f\">entityKind=</span>PER</span><span class=\"trans xft\" ><span class=\"f\">trans=</span>NGOFAKIAHA</span></div></div><div class=\"contnr c0 trm   \" ><div class=\"lbl c0 trm \" ><span class=\"txtu\">OP </span></div><div class='features'><span class=\"trans xft\" ><span class=\"f\">trans=</span>OP</span></div></div><div class=\"contnr c0 trm   \" ><div class=\"lbl c0 trm \" ><span class=\"txtu\">HET </span></div><div class='features'><span class=\"trans xft\" ><span class=\"f\">trans=</span>HET</span></div></div></div></div></div>"
      ],
      "text/plain": [
       "<IPython.core.display.HTML object>"
      ]
     },
     "metadata": {},
     "output_type": "display_data"
    },
    {
     "data": {
      "text/html": [
       "<p><b>result</b> <i>8</i>"
      ],
      "text/plain": [
       "<IPython.core.display.HTML object>"
      ]
     },
     "metadata": {},
     "output_type": "display_data"
    },
    {
     "data": {
      "text/html": [
       "<div class=\"tfsechead \"><span class=\"ltr\"><a target=\"_blank\" href=\"http://resources.huygens.knaw.nl/retroboeken/generalemissiven/#page=39&amp;source=1\" title=\"Show this document on Huygens\" sec=\"1 16:1\">1 16:1</a></span></div><div class=\" children\"><div class=\"contnr c3    \" ><div class=\"lbl c3  \" ><span class=\"nd\">line</span></div><div class=\"children hor wrap \"><div class=\"contnr c0 trm   \" ><div class=\"lbl c0 trm \" ><span class=\"txtu\">VIII. </span></div><div class='features'><span class=\"trans xft\" ><span class=\"f\">trans=</span>VIII</span></div></div><div class=\"contnr c0 trm   hl\" ><div class=\"lbl c0 trm hl\" ><span class=\"txtu\">PIETER </span></div><div class='features'><span class=\"entityid xft\" ><span class=\"f\">entityId=</span>e_1_8_0</span><span class=\"entitykind xft\" ><span class=\"f\">entityKind=</span>PER</span><span class=\"trans xft\" ><span class=\"f\">trans=</span>PIETER</span></div></div><div class=\"contnr c0 trm   hl\" ><div class=\"lbl c0 trm hl\" ><span class=\"txtu\">BOTH, </span></div><div class='features'><span class=\"entityid xft\" ><span class=\"f\">entityId=</span>e_1_8_0</span><span class=\"entitykind xft\" ><span class=\"f\">entityKind=</span>PER</span><span class=\"trans xft\" ><span class=\"f\">trans=</span>BOTH</span></div></div><div class=\"contnr c0 trm   \" ><div class=\"lbl c0 trm \" ><span class=\"txtu\">FORT </span></div><div class='features'><span class=\"trans xft\" ><span class=\"f\">trans=</span>FORT</span></div></div><div class=\"contnr c0 trm   \" ><div class=\"lbl c0 trm \" ><span class=\"txtu\">MAURITIUS </span></div><div class='features'><span class=\"entityid xft\" ><span class=\"f\">entityId=</span>e_1_8_1</span><span class=\"entitykind xft\" ><span class=\"f\">entityKind=</span>PER</span><span class=\"trans xft\" ><span class=\"f\">trans=</span>MAURITIUS</span></div></div><div class=\"contnr c0 trm   \" ><div class=\"lbl c0 trm \" ><span class=\"txtu\">NABIJ </span></div><div class='features'><span class=\"trans xft\" ><span class=\"f\">trans=</span>NABIJ</span></div></div><div class=\"contnr c0 trm   \" ><div class=\"lbl c0 trm \" ><span class=\"txtu\">NGOFAKIAHA </span></div><div class='features'><span class=\"entityid xft\" ><span class=\"f\">entityId=</span>e_1_8_2</span><span class=\"entitykind xft\" ><span class=\"f\">entityKind=</span>LOC</span><span class=\"trans xft\" ><span class=\"f\">trans=</span>NGOFAKIAHA</span></div></div><div class=\"contnr c0 trm   \" ><div class=\"lbl c0 trm \" ><span class=\"txtu\">OP </span></div><div class='features'><span class=\"trans xft\" ><span class=\"f\">trans=</span>OP</span></div></div><div class=\"contnr c0 trm   \" ><div class=\"lbl c0 trm \" ><span class=\"txtu\">HET </span></div><div class='features'><span class=\"trans xft\" ><span class=\"f\">trans=</span>HET</span></div></div></div></div></div>"
      ],
      "text/plain": [
       "<IPython.core.display.HTML object>"
      ]
     },
     "metadata": {},
     "output_type": "display_data"
    },
    {
     "data": {
      "text/html": [
       "<p><b>result</b> <i>9</i>"
      ],
      "text/plain": [
       "<IPython.core.display.HTML object>"
      ]
     },
     "metadata": {},
     "output_type": "display_data"
    },
    {
     "data": {
      "text/html": [
       "<div class=\"tfsechead \"><span class=\"ltr\"><a target=\"_blank\" href=\"http://resources.huygens.knaw.nl/retroboeken/generalemissiven/#page=40&amp;source=1\" title=\"Show this document on Huygens\" sec=\"1 17:1\">1 17:1</a></span></div><div class=\" children\"><div class=\"contnr c3    \" ><div class=\"lbl c3  \" ><span class=\"nd\">line</span></div><div class=\"children hor wrap \"><div class=\"contnr c0 trm   \" ><div class=\"lbl c0 trm \" ><span class=\"txtu\">IX. </span></div><div class='features'><span class=\"trans xft\" ><span class=\"f\">trans=</span>IX</span></div></div><div class=\"contnr c0 trm   hl\" ><div class=\"lbl c0 trm hl\" ><span class=\"txtu\">PIETER </span></div><div class='features'><span class=\"entityid xft\" ><span class=\"f\">entityId=</span>e_1_9_0</span><span class=\"entitykind xft\" ><span class=\"f\">entityKind=</span>PER</span><span class=\"trans xft\" ><span class=\"f\">trans=</span>PIETER</span></div></div><div class=\"contnr c0 trm   hl\" ><div class=\"lbl c0 trm hl\" ><span class=\"txtu\">BOTH, </span></div><div class='features'><span class=\"entityid xft\" ><span class=\"f\">entityId=</span>e_1_9_0</span><span class=\"entitykind xft\" ><span class=\"f\">entityKind=</span>PER</span><span class=\"trans xft\" ><span class=\"f\">trans=</span>BOTH</span></div></div><div class=\"contnr c0 trm   \" ><div class=\"lbl c0 trm \" ><span class=\"txtu\">FORT </span></div><div class='features'><span class=\"trans xft\" ><span class=\"f\">trans=</span>FORT</span></div></div><div class=\"contnr c0 trm   \" ><div class=\"lbl c0 trm \" ><span class=\"txtu\">MAURITIUS </span></div><div class='features'><span class=\"entityid xft\" ><span class=\"f\">entityId=</span>e_1_9_1</span><span class=\"entitykind xft\" ><span class=\"f\">entityKind=</span>PER</span><span class=\"trans xft\" ><span class=\"f\">trans=</span>MAURITIUS</span></div></div><div class=\"contnr c0 trm   \" ><div class=\"lbl c0 trm \" ><span class=\"txtu\">NABIJ </span></div><div class='features'><span class=\"trans xft\" ><span class=\"f\">trans=</span>NABIJ</span></div></div><div class=\"contnr c0 trm   \" ><div class=\"lbl c0 trm \" ><span class=\"txtu\">NGOFAKIAHA </span></div><div class='features'><span class=\"entityid xft\" ><span class=\"f\">entityId=</span>e_1_9_2</span><span class=\"entitykind xft\" ><span class=\"f\">entityKind=</span>LOC</span><span class=\"trans xft\" ><span class=\"f\">trans=</span>NGOFAKIAHA</span></div></div><div class=\"contnr c0 trm   \" ><div class=\"lbl c0 trm \" ><span class=\"txtu\">OP </span></div><div class='features'><span class=\"trans xft\" ><span class=\"f\">trans=</span>OP</span></div></div><div class=\"contnr c0 trm   \" ><div class=\"lbl c0 trm \" ><span class=\"txtu\">HET </span></div><div class='features'><span class=\"trans xft\" ><span class=\"f\">trans=</span>HET</span></div></div></div></div></div>"
      ],
      "text/plain": [
       "<IPython.core.display.HTML object>"
      ]
     },
     "metadata": {},
     "output_type": "display_data"
    },
    {
     "data": {
      "text/html": [
       "<p><b>result</b> <i>10</i>"
      ],
      "text/plain": [
       "<IPython.core.display.HTML object>"
      ]
     },
     "metadata": {},
     "output_type": "display_data"
    },
    {
     "data": {
      "text/html": [
       "<div class=\"tfsechead \"><span class=\"ltr\"><a target=\"_blank\" href=\"http://resources.huygens.knaw.nl/retroboeken/generalemissiven/#page=41&amp;source=1\" title=\"Show this document on Huygens\" sec=\"1 18:1\">1 18:1</a></span></div><div class=\" children\"><div class=\"contnr c3    \" ><div class=\"lbl c3  \" ><span class=\"nd\">line</span></div><div class=\"children hor wrap \"><div class=\"contnr c0 trm   \" ><div class=\"lbl c0 trm \" ><span class=\"txtu\">X. </span></div><div class='features'><span class=\"trans xft\" ><span class=\"f\">trans=</span>X</span></div></div><div class=\"contnr c0 trm   hl\" ><div class=\"lbl c0 trm hl\" ><span class=\"txtu\">PIETER </span></div><div class='features'><span class=\"entityid xft\" ><span class=\"f\">entityId=</span>e_1_10_1</span><span class=\"entitykind xft\" ><span class=\"f\">entityKind=</span>PER</span><span class=\"trans xft\" ><span class=\"f\">trans=</span>PIETER</span></div></div><div class=\"contnr c0 trm   hl\" ><div class=\"lbl c0 trm hl\" ><span class=\"txtu\">BOTH, </span></div><div class='features'><span class=\"entityid xft\" ><span class=\"f\">entityId=</span>e_1_10_1</span><span class=\"entitykind xft\" ><span class=\"f\">entityKind=</span>PER</span><span class=\"trans xft\" ><span class=\"f\">trans=</span>BOTH</span></div></div><div class=\"contnr c0 trm   \" ><div class=\"lbl c0 trm \" ><span class=\"txtu\">ZONDER </span></div><div class='features'><span class=\"trans xft\" ><span class=\"f\">trans=</span>ZONDER</span></div></div><div class=\"contnr c0 trm   \" ><div class=\"lbl c0 trm \" ><span class=\"txtu\">PLAATS </span></div><div class='features'><span class=\"trans xft\" ><span class=\"f\">trans=</span>PLAATS</span></div></div><div class=\"contnr c0 trm   \" ><div class=\"lbl c0 trm \" ><span class=\"txtu\">EN </span></div><div class='features'><span class=\"trans xft\" ><span class=\"f\">trans=</span>EN</span></div></div><div class=\"contnr c0 trm   \" ><div class=\"lbl c0 trm \" ><span class=\"txtu\">DATUM. </span></div><div class='features'><span class=\"trans xft\" ><span class=\"f\">trans=</span>DATUM</span></div></div></div></div></div>"
      ],
      "text/plain": [
       "<IPython.core.display.HTML object>"
      ]
     },
     "metadata": {},
     "output_type": "display_data"
    },
    {
     "data": {
      "text/html": [
       "<p><b>result</b> <i>11</i>"
      ],
      "text/plain": [
       "<IPython.core.display.HTML object>"
      ]
     },
     "metadata": {},
     "output_type": "display_data"
    },
    {
     "data": {
      "text/html": [
       "<div class=\"tfsechead \"><span class=\"ltr\"><a target=\"_blank\" href=\"http://resources.huygens.knaw.nl/retroboeken/generalemissiven/#page=42&amp;source=1\" title=\"Show this document on Huygens\" sec=\"1 19:1\">1 19:1</a></span></div><div class=\" children\"><div class=\"contnr c3    \" ><div class=\"lbl c3  \" ><span class=\"nd\">line</span></div><div class=\"children hor wrap \"><div class=\"contnr c0 trm   \" ><div class=\"lbl c0 trm \" ><span class=\"txtu\">XI. </span></div><div class='features'><span class=\"trans xft\" ><span class=\"f\">trans=</span>XI</span></div></div><div class=\"contnr c0 trm   hl\" ><div class=\"lbl c0 trm hl\" ><span class=\"txtu\">PIETER </span></div><div class='features'><span class=\"entityid xft\" ><span class=\"f\">entityId=</span>e_1_11_1</span><span class=\"entitykind xft\" ><span class=\"f\">entityKind=</span>PER</span><span class=\"trans xft\" ><span class=\"f\">trans=</span>PIETER</span></div></div><div class=\"contnr c0 trm   hl\" ><div class=\"lbl c0 trm hl\" ><span class=\"txtu\">BOTH, </span></div><div class='features'><span class=\"entityid xft\" ><span class=\"f\">entityId=</span>e_1_11_1</span><span class=\"entitykind xft\" ><span class=\"f\">entityKind=</span>PER</span><span class=\"trans xft\" ><span class=\"f\">trans=</span>BOTH</span></div></div><div class=\"contnr c0 trm   \" ><div class=\"lbl c0 trm \" ><span class=\"txtu\">FORT </span></div><div class='features'><span class=\"trans xft\" ><span class=\"f\">trans=</span>FORT</span></div></div><div class=\"contnr c0 trm   \" ><div class=\"lbl c0 trm \" ><span class=\"txtu\">MAURITIUS </span></div><div class='features'><span class=\"entityid xft\" ><span class=\"f\">entityId=</span>e_1_11_4</span><span class=\"entitykind xft\" ><span class=\"f\">entityKind=</span>LOC</span><span class=\"trans xft\" ><span class=\"f\">trans=</span>MAURITIUS</span></div></div><div class=\"contnr c0 trm   \" ><div class=\"lbl c0 trm \" ><span class=\"txtu\">NABIJ </span></div><div class='features'><span class=\"trans xft\" ><span class=\"f\">trans=</span>NABIJ</span></div></div><div class=\"contnr c0 trm   \" ><div class=\"lbl c0 trm \" ><span class=\"txtu\">NGOFAKIAHA </span></div><div class='features'><span class=\"entityid xft\" ><span class=\"f\">entityId=</span>e_1_11_5</span><span class=\"entitykind xft\" ><span class=\"f\">entityKind=</span>LOC</span><span class=\"trans xft\" ><span class=\"f\">trans=</span>NGOFAKIAHA</span></div></div><div class=\"contnr c0 trm   \" ><div class=\"lbl c0 trm \" ><span class=\"txtu\">OP </span></div><div class='features'><span class=\"trans xft\" ><span class=\"f\">trans=</span>OP</span></div></div><div class=\"contnr c0 trm   \" ><div class=\"lbl c0 trm \" ><span class=\"txtu\">HET </span></div><div class='features'><span class=\"trans xft\" ><span class=\"f\">trans=</span>HET</span></div></div></div></div></div>"
      ],
      "text/plain": [
       "<IPython.core.display.HTML object>"
      ]
     },
     "metadata": {},
     "output_type": "display_data"
    },
    {
     "data": {
      "text/html": [
       "<p><b>result</b> <i>12</i>"
      ],
      "text/plain": [
       "<IPython.core.display.HTML object>"
      ]
     },
     "metadata": {},
     "output_type": "display_data"
    },
    {
     "data": {
      "text/html": [
       "<div class=\"tfsechead \"><span class=\"ltr\"><a target=\"_blank\" href=\"http://resources.huygens.knaw.nl/retroboeken/generalemissiven/#page=43&amp;source=1\" title=\"Show this document on Huygens\" sec=\"1 20:1\">1 20:1</a></span></div><div class=\" children\"><div class=\"contnr c3    \" ><div class=\"lbl c3  \" ><span class=\"nd\">line</span></div><div class=\"children hor wrap \"><div class=\"contnr c0 trm   \" ><div class=\"lbl c0 trm \" ><span class=\"txtu\">XII. </span></div><div class='features'><span class=\"trans xft\" ><span class=\"f\">trans=</span>XII</span></div></div><div class=\"contnr c0 trm   hl\" ><div class=\"lbl c0 trm hl\" ><span class=\"txtu\">PIETER </span></div><div class='features'><span class=\"entityid xft\" ><span class=\"f\">entityId=</span>e_1_12_0</span><span class=\"entitykind xft\" ><span class=\"f\">entityKind=</span>PER</span><span class=\"trans xft\" ><span class=\"f\">trans=</span>PIETER</span></div></div><div class=\"contnr c0 trm   hl\" ><div class=\"lbl c0 trm hl\" ><span class=\"txtu\">BOTH, </span></div><div class='features'><span class=\"entityid xft\" ><span class=\"f\">entityId=</span>e_1_12_0</span><span class=\"entitykind xft\" ><span class=\"f\">entityKind=</span>PER</span><span class=\"trans xft\" ><span class=\"f\">trans=</span>BOTH</span></div></div><div class=\"contnr c0 trm   \" ><div class=\"lbl c0 trm \" ><span class=\"txtu\">FORT </span></div><div class='features'><span class=\"trans xft\" ><span class=\"f\">trans=</span>FORT</span></div></div><div class=\"contnr c0 trm   \" ><div class=\"lbl c0 trm \" ><span class=\"txtu\">MAURITIUS </span></div><div class='features'><span class=\"entityid xft\" ><span class=\"f\">entityId=</span>e_1_12_1</span><span class=\"entitykind xft\" ><span class=\"f\">entityKind=</span>PER</span><span class=\"trans xft\" ><span class=\"f\">trans=</span>MAURITIUS</span></div></div><div class=\"contnr c0 trm   \" ><div class=\"lbl c0 trm \" ><span class=\"txtu\">NABIJ </span></div><div class='features'><span class=\"trans xft\" ><span class=\"f\">trans=</span>NABIJ</span></div></div><div class=\"contnr c0 trm   \" ><div class=\"lbl c0 trm \" ><span class=\"txtu\">NGOFAKIAHA </span></div><div class='features'><span class=\"entityid xft\" ><span class=\"f\">entityId=</span>e_1_12_2</span><span class=\"entitykind xft\" ><span class=\"f\">entityKind=</span>PER</span><span class=\"trans xft\" ><span class=\"f\">trans=</span>NGOFAKIAHA</span></div></div><div class=\"contnr c0 trm   \" ><div class=\"lbl c0 trm \" ><span class=\"txtu\">OP </span></div><div class='features'><span class=\"trans xft\" ><span class=\"f\">trans=</span>OP</span></div></div><div class=\"contnr c0 trm   \" ><div class=\"lbl c0 trm \" ><span class=\"txtu\">HET </span></div><div class='features'><span class=\"trans xft\" ><span class=\"f\">trans=</span>HET</span></div></div></div></div></div>"
      ],
      "text/plain": [
       "<IPython.core.display.HTML object>"
      ]
     },
     "metadata": {},
     "output_type": "display_data"
    },
    {
     "data": {
      "text/html": [
       "<p><b>result</b> <i>13</i>"
      ],
      "text/plain": [
       "<IPython.core.display.HTML object>"
      ]
     },
     "metadata": {},
     "output_type": "display_data"
    },
    {
     "data": {
      "text/html": [
       "<div class=\"tfsechead \"><span class=\"ltr\"><a target=\"_blank\" href=\"http://resources.huygens.knaw.nl/retroboeken/generalemissiven/#page=43&amp;source=1\" title=\"Show this document on Huygens\" sec=\"1 20:1\">1 20:1</a></span></div><div class=\" children\"><div class=\"contnr c3    \" ><div class=\"lbl c3  \" ><span class=\"nd\">line</span></div><div class=\"children hor wrap \"><div class=\"contnr c0 trm   \" ><div class=\"lbl c0 trm \" ><span class=\"txtu\">XIII. </span></div><div class='features'><span class=\"trans xft\" ><span class=\"f\">trans=</span>XIII</span></div></div><div class=\"contnr c0 trm   hl\" ><div class=\"lbl c0 trm hl\" ><span class=\"txtu\">PIETER </span></div><div class='features'><span class=\"entityid xft\" ><span class=\"f\">entityId=</span>e_1_13_0</span><span class=\"entitykind xft\" ><span class=\"f\">entityKind=</span>PER</span><span class=\"trans xft\" ><span class=\"f\">trans=</span>PIETER</span></div></div><div class=\"contnr c0 trm   hl\" ><div class=\"lbl c0 trm hl\" ><span class=\"txtu\">BOTH, </span></div><div class='features'><span class=\"entityid xft\" ><span class=\"f\">entityId=</span>e_1_13_0</span><span class=\"entitykind xft\" ><span class=\"f\">entityKind=</span>PER</span><span class=\"trans xft\" ><span class=\"f\">trans=</span>BOTH</span></div></div><div class=\"contnr c0 trm   \" ><div class=\"lbl c0 trm \" ><span class=\"txtu\">FORT </span></div><div class='features'><span class=\"trans xft\" ><span class=\"f\">trans=</span>FORT</span></div></div><div class=\"contnr c0 trm   \" ><div class=\"lbl c0 trm \" ><span class=\"txtu\">MAURITIUS </span></div><div class='features'><span class=\"entityid xft\" ><span class=\"f\">entityId=</span>e_1_13_2</span><span class=\"entitykind xft\" ><span class=\"f\">entityKind=</span>PER</span><span class=\"trans xft\" ><span class=\"f\">trans=</span>MAURITIUS</span></div></div><div class=\"contnr c0 trm   \" ><div class=\"lbl c0 trm \" ><span class=\"txtu\">NABIJ </span></div><div class='features'><span class=\"entityid xft\" ><span class=\"f\">entityId=</span>e_1_13_2</span><span class=\"entitykind xft\" ><span class=\"f\">entityKind=</span>PER</span><span class=\"trans xft\" ><span class=\"f\">trans=</span>NABIJ</span></div></div><div class=\"contnr c0 trm   \" ><div class=\"lbl c0 trm \" ><span class=\"txtu\">NGOFAKIAHA </span></div><div class='features'><span class=\"entityid xft\" ><span class=\"f\">entityId=</span>e_1_13_2</span><span class=\"entitykind xft\" ><span class=\"f\">entityKind=</span>PER</span><span class=\"trans xft\" ><span class=\"f\">trans=</span>NGOFAKIAHA</span></div></div><div class=\"contnr c0 trm   \" ><div class=\"lbl c0 trm \" ><span class=\"txtu\">OP </span></div><div class='features'><span class=\"trans xft\" ><span class=\"f\">trans=</span>OP</span></div></div><div class=\"contnr c0 trm   \" ><div class=\"lbl c0 trm \" ><span class=\"txtu\">HET </span></div><div class='features'><span class=\"trans xft\" ><span class=\"f\">trans=</span>HET</span></div></div></div></div></div>"
      ],
      "text/plain": [
       "<IPython.core.display.HTML object>"
      ]
     },
     "metadata": {},
     "output_type": "display_data"
    },
    {
     "data": {
      "text/html": [
       "<p><b>result</b> <i>14</i>"
      ],
      "text/plain": [
       "<IPython.core.display.HTML object>"
      ]
     },
     "metadata": {},
     "output_type": "display_data"
    },
    {
     "data": {
      "text/html": [
       "<div class=\"tfsechead \"><span class=\"ltr\"><a target=\"_blank\" href=\"http://resources.huygens.knaw.nl/retroboeken/generalemissiven/#page=43&amp;source=1\" title=\"Show this document on Huygens\" sec=\"1 20:1\">1 20:1</a></span></div><div class=\" children\"><div class=\"contnr c3    \" ><div class=\"lbl c3  \" ><span class=\"nd\">line</span></div><div class=\"children hor wrap \"><div class=\"contnr c0 trm   \" ><div class=\"lbl c0 trm \" ><span class=\"txtu\">XIV. </span></div><div class='features'><span class=\"trans xft\" ><span class=\"f\">trans=</span>XIV</span></div></div><div class=\"contnr c0 trm   hl\" ><div class=\"lbl c0 trm hl\" ><span class=\"txtu\">PIETER </span></div><div class='features'><span class=\"entityid xft\" ><span class=\"f\">entityId=</span>e_1_14_1</span><span class=\"entitykind xft\" ><span class=\"f\">entityKind=</span>PER</span><span class=\"trans xft\" ><span class=\"f\">trans=</span>PIETER</span></div></div><div class=\"contnr c0 trm   hl\" ><div class=\"lbl c0 trm hl\" ><span class=\"txtu\">BOTH, </span></div><div class='features'><span class=\"entityid xft\" ><span class=\"f\">entityId=</span>e_1_14_1</span><span class=\"entitykind xft\" ><span class=\"f\">entityKind=</span>PER</span><span class=\"trans xft\" ><span class=\"f\">trans=</span>BOTH</span></div></div><div class=\"contnr c0 trm   \" ><div class=\"lbl c0 trm \" ><span class=\"txtu\">ZONDER </span></div><div class='features'><span class=\"trans xft\" ><span class=\"f\">trans=</span>ZONDER</span></div></div><div class=\"contnr c0 trm   \" ><div class=\"lbl c0 trm \" ><span class=\"txtu\">PLAATS </span></div><div class='features'><span class=\"trans xft\" ><span class=\"f\">trans=</span>PLAATS</span></div></div><div class=\"contnr c0 trm   \" ><div class=\"lbl c0 trm \" ><span class=\"txtu\">EN </span></div><div class='features'><span class=\"trans xft\" ><span class=\"f\">trans=</span>EN</span></div></div><div class=\"contnr c0 trm   \" ><div class=\"lbl c0 trm \" ><span class=\"txtu\">DATUM</span></div><div class='features'><span class=\"trans xft\" ><span class=\"f\">trans=</span>DATUM</span></div></div></div></div></div>"
      ],
      "text/plain": [
       "<IPython.core.display.HTML object>"
      ]
     },
     "metadata": {},
     "output_type": "display_data"
    },
    {
     "data": {
      "text/html": [
       "<p><b>result</b> <i>15</i>"
      ],
      "text/plain": [
       "<IPython.core.display.HTML object>"
      ]
     },
     "metadata": {},
     "output_type": "display_data"
    },
    {
     "data": {
      "text/html": [
       "<div class=\"tfsechead \"><span class=\"ltr\"><a target=\"_blank\" href=\"http://resources.huygens.knaw.nl/retroboeken/generalemissiven/#page=44&amp;source=1\" title=\"Show this document on Huygens\" sec=\"1 21:1\">1 21:1</a></span></div><div class=\" children\"><div class=\"contnr c3    \" ><div class=\"lbl c3  \" ><span class=\"nd\">line</span></div><div class=\"children hor wrap \"><div class=\"contnr c0 trm   \" ><div class=\"lbl c0 trm \" ><span class=\"txtu\">XV. </span></div><div class='features'><span class=\"trans xft\" ><span class=\"f\">trans=</span>XV</span></div></div><div class=\"contnr c0 trm   hl\" ><div class=\"lbl c0 trm hl\" ><span class=\"txtu\">PIETER </span></div><div class='features'><span class=\"entityid xft\" ><span class=\"f\">entityId=</span>e_1_15_1</span><span class=\"entitykind xft\" ><span class=\"f\">entityKind=</span>PER</span><span class=\"trans xft\" ><span class=\"f\">trans=</span>PIETER</span></div></div><div class=\"contnr c0 trm   hl\" ><div class=\"lbl c0 trm hl\" ><span class=\"txtu\">BOTH, </span></div><div class='features'><span class=\"entityid xft\" ><span class=\"f\">entityId=</span>e_1_15_1</span><span class=\"entitykind xft\" ><span class=\"f\">entityKind=</span>PER</span><span class=\"trans xft\" ><span class=\"f\">trans=</span>BOTH</span></div></div><div class=\"contnr c0 trm   \" ><div class=\"lbl c0 trm \" ><span class=\"txtu\">BANTAM </span></div><div class='features'><span class=\"entityid xft\" ><span class=\"f\">entityId=</span>e_1_15_2</span><span class=\"entitykind xft\" ><span class=\"f\">entityKind=</span>LOC</span><span class=\"trans xft\" ><span class=\"f\">trans=</span>BANTAM</span></div></div><div class=\"contnr c0 trm   \" ><div class=\"lbl c0 trm \" ><span class=\"txtu\">1 </span></div><div class='features'><span class=\"trans xft\" ><span class=\"f\">trans=</span>1</span></div></div><div class=\"contnr c0 trm   \" ><div class=\"lbl c0 trm \" ><span class=\"txtu\">januari </span></div><div class='features'><span class=\"trans xft\" ><span class=\"f\">trans=</span>januari</span></div></div><div class=\"contnr c0 trm   \" ><div class=\"lbl c0 trm \" ><span class=\"txtu\">1614 </span></div><div class='features'><span class=\"trans xft\" ><span class=\"f\">trans=</span>1614</span></div></div><div class=\"contnr c0 trm   \" ><div class=\"lbl c0 trm \" ><span class=\"txtu\">Deze </span></div><div class='features'><span class=\"trans xft\" ><span class=\"f\">trans=</span>Deze</span></div></div><div class=\"contnr c0 trm   \" ><div class=\"lbl c0 trm \" ><span class=\"txtu\">brief </span></div><div class='features'><span class=\"trans xft\" ><span class=\"f\">trans=</span>brief</span></div></div><div class=\"contnr c0 trm   \" ><div class=\"lbl c0 trm \" ><span class=\"txtu\">maakt </span></div><div class='features'><span class=\"trans xft\" ><span class=\"f\">trans=</span>maakt</span></div></div><div class=\"contnr c0 trm   \" ><div class=\"lbl c0 trm \" ><span class=\"txtu\">met </span></div><div class='features'><span class=\"trans xft\" ><span class=\"f\">trans=</span>met</span></div></div><div class=\"contnr c0 trm   \" ><div class=\"lbl c0 trm \" ><span class=\"txtu\">nrs. </span></div><div class='features'><span class=\"trans xft\" ><span class=\"f\">trans=</span>nrs</span></div></div><div class=\"contnr c0 trm   \" ><div class=\"lbl c0 trm \" ><span class=\"txtu\">XVI </span></div><div class='features'><span class=\"trans xft\" ><span class=\"f\">trans=</span>XVI</span></div></div><div class=\"contnr c0 trm   \" ><div class=\"lbl c0 trm \" ><span class=\"txtu\">en </span></div><div class='features'><span class=\"trans xft\" ><span class=\"f\">trans=</span>en</span></div></div><div class=\"contnr c0 trm   \" ><div class=\"lbl c0 trm \" ><span class=\"txtu\">XVTI </span></div><div class='features'><span class=\"trans xft\" ><span class=\"f\">trans=</span>XVTI</span></div></div><div class=\"contnr c0 trm   \" ><div class=\"lbl c0 trm \" ><span class=\"txtu\">op </span></div><div class='features'><span class=\"trans xft\" ><span class=\"f\">trans=</span>op</span></div></div><div class=\"contnr c0 trm   \" ><div class=\"lbl c0 trm \" ><span class=\"txtu\">de </span></div><div class='features'><span class=\"trans xft\" ><span class=\"f\">trans=</span>de</span></div></div><div class=\"contnr c0 trm   \" ><div class=\"lbl c0 trm \" ><span class=\"txtu\">wijze, </span></div><div class='features'><span class=\"trans xft\" ><span class=\"f\">trans=</span>wijze</span></div></div><div class=\"contnr c0 trm   \" ><div class=\"lbl c0 trm \" ><span class=\"txtu\">als </span></div><div class='features'><span class=\"trans xft\" ><span class=\"f\">trans=</span>als</span></div></div><div class=\"contnr c0 trm   \" ><div class=\"lbl c0 trm \" ><span class=\"txtu\">bij </span></div><div class='features'><span class=\"trans xft\" ><span class=\"f\">trans=</span>bij</span></div></div><div class=\"contnr c0 trm   \" ><div class=\"lbl c0 trm \" ><span class=\"txtu\">brieven </span></div><div class='features'><span class=\"trans xft\" ><span class=\"f\">trans=</span>brieven</span></div></div><div class=\"contnr c0 trm   \" ><div class=\"lbl c0 trm \" ><span class=\"txtu\">VT </span></div><div class='features'><span class=\"trans xft\" ><span class=\"f\">trans=</span>VT</span></div></div><div class=\"contnr c0 trm   \" ><div class=\"lbl c0 trm \" ><span class=\"txtu\">tot </span></div><div class='features'><span class=\"trans xft\" ><span class=\"f\">trans=</span>tot</span></div></div><div class=\"contnr c0 trm   \" ><div class=\"lbl c0 trm \" ><span class=\"txtu\">en </span></div><div class='features'><span class=\"trans xft\" ><span class=\"f\">trans=</span>en</span></div></div><div class=\"contnr c0 trm   \" ><div class=\"lbl c0 trm \" ><span class=\"txtu\">met </span></div><div class='features'><span class=\"trans xft\" ><span class=\"f\">trans=</span>met</span></div></div></div></div></div>"
      ],
      "text/plain": [
       "<IPython.core.display.HTML object>"
      ]
     },
     "metadata": {},
     "output_type": "display_data"
    },
    {
     "data": {
      "text/html": [
       "<p><b>result</b> <i>16</i>"
      ],
      "text/plain": [
       "<IPython.core.display.HTML object>"
      ]
     },
     "metadata": {},
     "output_type": "display_data"
    },
    {
     "data": {
      "text/html": [
       "<div class=\"tfsechead \"><span class=\"ltr\"><a target=\"_blank\" href=\"http://resources.huygens.knaw.nl/retroboeken/generalemissiven/#page=50&amp;source=1\" title=\"Show this document on Huygens\" sec=\"1 27:1\">1 27:1</a></span></div><div class=\" children\"><div class=\"contnr c3    \" ><div class=\"lbl c3  \" ><span class=\"nd\">line</span></div><div class=\"children hor wrap \"><div class=\"contnr c0 trm   \" ><div class=\"lbl c0 trm \" ><span class=\"txtu\">XVI. </span></div><div class='features'><span class=\"trans xft\" ><span class=\"f\">trans=</span>XVI</span></div></div><div class=\"contnr c0 trm   hl\" ><div class=\"lbl c0 trm hl\" ><span class=\"txtu\">PIETER </span></div><div class='features'><span class=\"entityid xft\" ><span class=\"f\">entityId=</span>e_1_16_1</span><span class=\"entitykind xft\" ><span class=\"f\">entityKind=</span>PER</span><span class=\"trans xft\" ><span class=\"f\">trans=</span>PIETER</span></div></div><div class=\"contnr c0 trm   hl\" ><div class=\"lbl c0 trm hl\" ><span class=\"txtu\">BOTH, </span></div><div class='features'><span class=\"entityid xft\" ><span class=\"f\">entityId=</span>e_1_16_1</span><span class=\"entitykind xft\" ><span class=\"f\">entityKind=</span>PER</span><span class=\"trans xft\" ><span class=\"f\">trans=</span>BOTH</span></div></div><div class=\"contnr c0 trm   \" ><div class=\"lbl c0 trm \" ><span class=\"txtu\">BANTAM </span></div><div class='features'><span class=\"entityid xft\" ><span class=\"f\">entityId=</span>e_1_16_2</span><span class=\"entitykind xft\" ><span class=\"f\">entityKind=</span>LOC</span><span class=\"trans xft\" ><span class=\"f\">trans=</span>BANTAM</span></div></div><div class=\"contnr c0 trm   \" ><div class=\"lbl c0 trm \" ><span class=\"txtu\">1 </span></div><div class='features'><span class=\"trans xft\" ><span class=\"f\">trans=</span>1</span></div></div><div class=\"contnr c0 trm   \" ><div class=\"lbl c0 trm \" ><span class=\"txtu\">januari </span></div><div class='features'><span class=\"trans xft\" ><span class=\"f\">trans=</span>januari</span></div></div><div class=\"contnr c0 trm   \" ><div class=\"lbl c0 trm \" ><span class=\"txtu\">1614. </span></div><div class='features'><span class=\"trans xft\" ><span class=\"f\">trans=</span>1614</span></div></div></div></div></div>"
      ],
      "text/plain": [
       "<IPython.core.display.HTML object>"
      ]
     },
     "metadata": {},
     "output_type": "display_data"
    },
    {
     "data": {
      "text/html": [
       "<p><b>result</b> <i>17</i>"
      ],
      "text/plain": [
       "<IPython.core.display.HTML object>"
      ]
     },
     "metadata": {},
     "output_type": "display_data"
    },
    {
     "data": {
      "text/html": [
       "<div class=\"tfsechead \"><span class=\"ltr\"><a target=\"_blank\" href=\"http://resources.huygens.knaw.nl/retroboeken/generalemissiven/#page=50&amp;source=1\" title=\"Show this document on Huygens\" sec=\"1 27:1\">1 27:1</a></span></div><div class=\" children\"><div class=\"contnr c3    \" ><div class=\"lbl c3  \" ><span class=\"nd\">line</span></div><div class=\"children hor wrap \"><div class=\"contnr c0 trm   \" ><div class=\"lbl c0 trm \" ><span class=\"txtu\">XVII. </span></div><div class='features'><span class=\"trans xft\" ><span class=\"f\">trans=</span>XVII</span></div></div><div class=\"contnr c0 trm   hl\" ><div class=\"lbl c0 trm hl\" ><span class=\"txtu\">PIETER </span></div><div class='features'><span class=\"entityid xft\" ><span class=\"f\">entityId=</span>e_1_17_1</span><span class=\"entitykind xft\" ><span class=\"f\">entityKind=</span>PER</span><span class=\"trans xft\" ><span class=\"f\">trans=</span>PIETER</span></div></div><div class=\"contnr c0 trm   hl\" ><div class=\"lbl c0 trm hl\" ><span class=\"txtu\">BOTH, </span></div><div class='features'><span class=\"entityid xft\" ><span class=\"f\">entityId=</span>e_1_17_1</span><span class=\"entitykind xft\" ><span class=\"f\">entityKind=</span>PER</span><span class=\"trans xft\" ><span class=\"f\">trans=</span>BOTH</span></div></div><div class=\"contnr c0 trm   \" ><div class=\"lbl c0 trm \" ><span class=\"txtu\">BANTAM </span></div><div class='features'><span class=\"entityid xft\" ><span class=\"f\">entityId=</span>e_1_17_2</span><span class=\"entitykind xft\" ><span class=\"f\">entityKind=</span>LOC</span><span class=\"trans xft\" ><span class=\"f\">trans=</span>BANTAM</span></div></div><div class=\"contnr c0 trm   \" ><div class=\"lbl c0 trm \" ><span class=\"txtu\">1 </span></div><div class='features'><span class=\"trans xft\" ><span class=\"f\">trans=</span>1</span></div></div><div class=\"contnr c0 trm   \" ><div class=\"lbl c0 trm \" ><span class=\"txtu\">januari </span></div><div class='features'><span class=\"trans xft\" ><span class=\"f\">trans=</span>januari</span></div></div><div class=\"contnr c0 trm   \" ><div class=\"lbl c0 trm \" ><span class=\"txtu\">1614. </span></div><div class='features'><span class=\"trans xft\" ><span class=\"f\">trans=</span>1614</span></div></div></div></div></div>"
      ],
      "text/plain": [
       "<IPython.core.display.HTML object>"
      ]
     },
     "metadata": {},
     "output_type": "display_data"
    },
    {
     "data": {
      "text/html": [
       "<p><b>result</b> <i>18</i>"
      ],
      "text/plain": [
       "<IPython.core.display.HTML object>"
      ]
     },
     "metadata": {},
     "output_type": "display_data"
    },
    {
     "data": {
      "text/html": [
       "<div class=\"tfsechead \"><span class=\"ltr\"><a target=\"_blank\" href=\"http://resources.huygens.knaw.nl/retroboeken/generalemissiven/#page=51&amp;source=1\" title=\"Show this document on Huygens\" sec=\"1 28:1\">1 28:1</a></span></div><div class=\" children\"><div class=\"contnr c3    \" ><div class=\"lbl c3  \" ><span class=\"nd\">line</span></div><div class=\"children hor wrap \"><div class=\"contnr c0 trm   \" ><div class=\"lbl c0 trm \" ><span class=\"txtu\">XVIII. </span></div><div class='features'><span class=\"trans xft\" ><span class=\"f\">trans=</span>XVIII</span></div></div><div class=\"contnr c0 trm   hl\" ><div class=\"lbl c0 trm hl\" ><span class=\"txtu\">PIETER </span></div><div class='features'><span class=\"entityid xft\" ><span class=\"f\">entityId=</span>e_1_18_0</span><span class=\"entitykind xft\" ><span class=\"f\">entityKind=</span>PER</span><span class=\"trans xft\" ><span class=\"f\">trans=</span>PIETER</span></div></div><div class=\"contnr c0 trm   hl\" ><div class=\"lbl c0 trm hl\" ><span class=\"txtu\">BOTH. </span></div><div class='features'><span class=\"entityid xft\" ><span class=\"f\">entityId=</span>e_1_18_0</span><span class=\"entitykind xft\" ><span class=\"f\">entityKind=</span>PER</span><span class=\"trans xft\" ><span class=\"f\">trans=</span>BOTH</span></div></div><div class=\"contnr c0 trm   \" ><div class=\"lbl c0 trm \" ><span class=\"txtu\">BANTAM </span></div><div class='features'><span class=\"entityid xft\" ><span class=\"f\">entityId=</span>e_1_18_0</span><span class=\"entitykind xft\" ><span class=\"f\">entityKind=</span>PER</span><span class=\"trans xft\" ><span class=\"f\">trans=</span>BANTAM</span></div></div><div class=\"contnr c0 trm   \" ><div class=\"lbl c0 trm \" ><span class=\"txtu\">10 </span></div><div class='features'><span class=\"trans xft\" ><span class=\"f\">trans=</span>10</span></div></div><div class=\"contnr c0 trm   \" ><div class=\"lbl c0 trm \" ><span class=\"txtu\">november </span></div><div class='features'><span class=\"trans xft\" ><span class=\"f\">trans=</span>november</span></div></div><div class=\"contnr c0 trm   \" ><div class=\"lbl c0 trm \" ><span class=\"txtu\">1614. </span></div><div class='features'><span class=\"trans xft\" ><span class=\"f\">trans=</span>1614</span></div></div></div></div></div>"
      ],
      "text/plain": [
       "<IPython.core.display.HTML object>"
      ]
     },
     "metadata": {},
     "output_type": "display_data"
    },
    {
     "data": {
      "text/html": [
       "<p><b>result</b> <i>19</i>"
      ],
      "text/plain": [
       "<IPython.core.display.HTML object>"
      ]
     },
     "metadata": {},
     "output_type": "display_data"
    },
    {
     "data": {
      "text/html": [
       "<div class=\"tfsechead \"><span class=\"ltr\"><a target=\"_blank\" href=\"http://resources.huygens.knaw.nl/retroboeken/generalemissiven/#page=52&amp;source=1\" title=\"Show this document on Huygens\" sec=\"1 29:1\">1 29:1</a></span></div><div class=\" children\"><div class=\"contnr c3    \" ><div class=\"lbl c3  \" ><span class=\"nd\">line</span></div><div class=\"children hor wrap \"><div class=\"contnr c0 trm   \" ><div class=\"lbl c0 trm \" ><span class=\"txtu\">XIX. </span></div><div class='features'><span class=\"trans xft\" ><span class=\"f\">trans=</span>XIX</span></div></div><div class=\"contnr c0 trm   hl\" ><div class=\"lbl c0 trm hl\" ><span class=\"txtu\">PIETER </span></div><div class='features'><span class=\"entityid xft\" ><span class=\"f\">entityId=</span>e_1_19_1</span><span class=\"entitykind xft\" ><span class=\"f\">entityKind=</span>PER</span><span class=\"trans xft\" ><span class=\"f\">trans=</span>PIETER</span></div></div><div class=\"contnr c0 trm   hl\" ><div class=\"lbl c0 trm hl\" ><span class=\"txtu\">BOTH, </span></div><div class='features'><span class=\"entityid xft\" ><span class=\"f\">entityId=</span>e_1_19_1</span><span class=\"entitykind xft\" ><span class=\"f\">entityKind=</span>PER</span><span class=\"trans xft\" ><span class=\"f\">trans=</span>BOTH</span></div></div><div class=\"contnr c0 trm   \" ><div class=\"lbl c0 trm \" ><span class=\"txtu\">BANTAM </span></div><div class='features'><span class=\"entityid xft\" ><span class=\"f\">entityId=</span>e_1_19_2</span><span class=\"entitykind xft\" ><span class=\"f\">entityKind=</span>LOC</span><span class=\"trans xft\" ><span class=\"f\">trans=</span>BANTAM</span></div></div><div class=\"contnr c0 trm   \" ><div class=\"lbl c0 trm \" ><span class=\"txtu\">10 </span></div><div class='features'><span class=\"trans xft\" ><span class=\"f\">trans=</span>10</span></div></div><div class=\"contnr c0 trm   \" ><div class=\"lbl c0 trm \" ><span class=\"txtu\">november </span></div><div class='features'><span class=\"trans xft\" ><span class=\"f\">trans=</span>november</span></div></div><div class=\"contnr c0 trm   \" ><div class=\"lbl c0 trm \" ><span class=\"txtu\">1614 </span></div><div class='features'><span class=\"trans xft\" ><span class=\"f\">trans=</span>1614</span></div></div><div class=\"contnr c0 trm   \" ><div class=\"lbl c0 trm \" ><span class=\"txtu\">Een </span></div><div class='features'><span class=\"trans xft\" ><span class=\"f\">trans=</span>Een</span></div></div><div class=\"contnr c0 trm   \" ><div class=\"lbl c0 trm \" ><span class=\"txtu\">vijftal </span></div><div class='features'><span class=\"trans xft\" ><span class=\"f\">trans=</span>vijftal</span></div></div><div class=\"contnr c0 trm   \" ><div class=\"lbl c0 trm \" ><span class=\"txtu\">brieven </span></div><div class='features'><span class=\"trans xft\" ><span class=\"f\">trans=</span>brieven</span></div></div><div class=\"contnr c0 trm   \" ><div class=\"lbl c0 trm \" ><span class=\"txtu\">door </span></div><div class='features'><span class=\"trans xft\" ><span class=\"f\">trans=</span>door</span></div></div><div class=\"contnr c0 trm   \" ><div class=\"lbl c0 trm \" ><span class=\"txtu\">Both </span></div><div class='features'><span class=\"entityid xft\" ><span class=\"f\">entityId=</span>e_1_19_3</span><span class=\"entitykind xft\" ><span class=\"f\">entityKind=</span>PER</span><span class=\"trans xft\" ><span class=\"f\">trans=</span>Both</span></div></div><div class=\"contnr c0 trm   \" ><div class=\"lbl c0 trm \" ><span class=\"txtu\">aan </span></div><div class='features'><span class=\"trans xft\" ><span class=\"f\">trans=</span>aan</span></div></div><div class=\"contnr c0 trm   \" ><div class=\"lbl c0 trm \" ><span class=\"txtu\">de </span></div><div class='features'><span class=\"trans xft\" ><span class=\"f\">trans=</span>de</span></div></div><div class=\"contnr c0 trm   \" ><div class=\"lbl c0 trm \" ><span class=\"txtu\">Bewindhebbers </span></div><div class='features'><span class=\"trans xft\" ><span class=\"f\">trans=</span>Bewindhebbers</span></div></div><div class=\"contnr c0 trm   \" ><div class=\"lbl c0 trm \" ><span class=\"txtu\">gezonden, </span></div><div class='features'><span class=\"trans xft\" ><span class=\"f\">trans=</span>gezonden</span></div></div><div class=\"contnr c0 trm   \" ><div class=\"lbl c0 trm \" ><span class=\"txtu\">zijn </span></div><div class='features'><span class=\"trans xft\" ><span class=\"f\">trans=</span>zijn</span></div></div><div class=\"contnr c0 trm   \" ><div class=\"lbl c0 trm \" ><span class=\"txtu\">alle </span></div><div class='features'><span class=\"trans xft\" ><span class=\"f\">trans=</span>alle</span></div></div><div class=\"contnr c0 trm   \" ><div class=\"lbl c0 trm \" ><span class=\"txtu\">gedateerd </span></div><div class='features'><span class=\"trans xft\" ><span class=\"f\">trans=</span>gedateerd</span></div></div></div></div></div>"
      ],
      "text/plain": [
       "<IPython.core.display.HTML object>"
      ]
     },
     "metadata": {},
     "output_type": "display_data"
    },
    {
     "data": {
      "text/html": [
       "<p><b>result</b> <i>20</i>"
      ],
      "text/plain": [
       "<IPython.core.display.HTML object>"
      ]
     },
     "metadata": {},
     "output_type": "display_data"
    },
    {
     "data": {
      "text/html": [
       "<div class=\"tfsechead \"><span class=\"ltr\"><a target=\"_blank\" href=\"http://resources.huygens.knaw.nl/retroboeken/generalemissiven/#page=56&amp;source=1\" title=\"Show this document on Huygens\" sec=\"1 33:1\">1 33:1</a></span></div><div class=\" children\"><div class=\"contnr c3    \" ><div class=\"lbl c3  \" ><span class=\"nd\">line</span></div><div class=\"children hor wrap \"><div class=\"contnr c0 trm   \" ><div class=\"lbl c0 trm \" ><span class=\"txtu\">XX. </span></div><div class='features'><span class=\"trans xft\" ><span class=\"f\">trans=</span>XX</span></div></div><div class=\"contnr c0 trm   hl\" ><div class=\"lbl c0 trm hl\" ><span class=\"txtu\">PIETER </span></div><div class='features'><span class=\"entityid xft\" ><span class=\"f\">entityId=</span>e_1_20_1</span><span class=\"entitykind xft\" ><span class=\"f\">entityKind=</span>PER</span><span class=\"trans xft\" ><span class=\"f\">trans=</span>PIETER</span></div></div><div class=\"contnr c0 trm   hl\" ><div class=\"lbl c0 trm hl\" ><span class=\"txtu\">BOTH, </span></div><div class='features'><span class=\"entityid xft\" ><span class=\"f\">entityId=</span>e_1_20_1</span><span class=\"entitykind xft\" ><span class=\"f\">entityKind=</span>PER</span><span class=\"trans xft\" ><span class=\"f\">trans=</span>BOTH</span></div></div><div class=\"contnr c0 trm   \" ><div class=\"lbl c0 trm \" ><span class=\"txtu\">BANTAM </span></div><div class='features'><span class=\"entityid xft\" ><span class=\"f\">entityId=</span>e_1_20_2</span><span class=\"entitykind xft\" ><span class=\"f\">entityKind=</span>LOC</span><span class=\"trans xft\" ><span class=\"f\">trans=</span>BANTAM</span></div></div><div class=\"contnr c0 trm   \" ><div class=\"lbl c0 trm \" ><span class=\"txtu\">10 </span></div><div class='features'><span class=\"trans xft\" ><span class=\"f\">trans=</span>10</span></div></div><div class=\"contnr c0 trm   \" ><div class=\"lbl c0 trm \" ><span class=\"txtu\">november </span></div><div class='features'><span class=\"trans xft\" ><span class=\"f\">trans=</span>november</span></div></div><div class=\"contnr c0 trm   \" ><div class=\"lbl c0 trm \" ><span class=\"txtu\">1614. </span></div><div class='features'><span class=\"trans xft\" ><span class=\"f\">trans=</span>1614</span></div></div></div></div></div>"
      ],
      "text/plain": [
       "<IPython.core.display.HTML object>"
      ]
     },
     "metadata": {},
     "output_type": "display_data"
    },
    {
     "data": {
      "text/html": [
       "<p><b>result</b> <i>21</i>"
      ],
      "text/plain": [
       "<IPython.core.display.HTML object>"
      ]
     },
     "metadata": {},
     "output_type": "display_data"
    },
    {
     "data": {
      "text/html": [
       "<div class=\"tfsechead \"><span class=\"ltr\"><a target=\"_blank\" href=\"http://resources.huygens.knaw.nl/retroboeken/generalemissiven/#page=60&amp;source=1\" title=\"Show this document on Huygens\" sec=\"1 37:1\">1 37:1</a></span></div><div class=\" children\"><div class=\"contnr c3    \" ><div class=\"lbl c3  \" ><span class=\"nd\">line</span></div><div class=\"children hor wrap \"><div class=\"contnr c0 trm   \" ><div class=\"lbl c0 trm \" ><span class=\"txtu\">XXI. </span></div><div class='features'><span class=\"trans xft\" ><span class=\"f\">trans=</span>XXI</span></div></div><div class=\"contnr c0 trm   hl\" ><div class=\"lbl c0 trm hl\" ><span class=\"txtu\">PIETER </span></div><div class='features'><span class=\"entityid xft\" ><span class=\"f\">entityId=</span>e_1_21_1</span><span class=\"entitykind xft\" ><span class=\"f\">entityKind=</span>PER</span><span class=\"trans xft\" ><span class=\"f\">trans=</span>PIETER</span></div></div><div class=\"contnr c0 trm   hl\" ><div class=\"lbl c0 trm hl\" ><span class=\"txtu\">BOTH, </span></div><div class='features'><span class=\"entityid xft\" ><span class=\"f\">entityId=</span>e_1_21_1</span><span class=\"entitykind xft\" ><span class=\"f\">entityKind=</span>PER</span><span class=\"trans xft\" ><span class=\"f\">trans=</span>BOTH</span></div></div><div class=\"contnr c0 trm   \" ><div class=\"lbl c0 trm \" ><span class=\"txtu\">BANTAM </span></div><div class='features'><span class=\"entityid xft\" ><span class=\"f\">entityId=</span>e_1_21_2</span><span class=\"entitykind xft\" ><span class=\"f\">entityKind=</span>LOC</span><span class=\"trans xft\" ><span class=\"f\">trans=</span>BANTAM</span></div></div><div class=\"contnr c0 trm   \" ><div class=\"lbl c0 trm \" ><span class=\"txtu\">10 </span></div><div class='features'><span class=\"trans xft\" ><span class=\"f\">trans=</span>10</span></div></div><div class=\"contnr c0 trm   \" ><div class=\"lbl c0 trm \" ><span class=\"txtu\">november </span></div><div class='features'><span class=\"trans xft\" ><span class=\"f\">trans=</span>november</span></div></div><div class=\"contnr c0 trm   \" ><div class=\"lbl c0 trm \" ><span class=\"txtu\">1614. </span></div><div class='features'><span class=\"trans xft\" ><span class=\"f\">trans=</span>1614</span></div></div></div></div></div>"
      ],
      "text/plain": [
       "<IPython.core.display.HTML object>"
      ]
     },
     "metadata": {},
     "output_type": "display_data"
    },
    {
     "data": {
      "text/html": [
       "<p><b>result</b> <i>22</i>"
      ],
      "text/plain": [
       "<IPython.core.display.HTML object>"
      ]
     },
     "metadata": {},
     "output_type": "display_data"
    },
    {
     "data": {
      "text/html": [
       "<div class=\"tfsechead \"><span class=\"ltr\"><a target=\"_blank\" href=\"http://resources.huygens.knaw.nl/retroboeken/generalemissiven/#page=62&amp;source=1\" title=\"Show this document on Huygens\" sec=\"1 39:1\">1 39:1</a></span></div><div class=\" children\"><div class=\"contnr c3    \" ><div class=\"lbl c3  \" ><span class=\"nd\">line</span></div><div class=\"children hor wrap \"><div class=\"contnr c0 trm   \" ><div class=\"lbl c0 trm \" ><span class=\"txtu\">XXII. </span></div><div class='features'><span class=\"trans xft\" ><span class=\"f\">trans=</span>XXII</span></div></div><div class=\"contnr c0 trm   hl\" ><div class=\"lbl c0 trm hl\" ><span class=\"txtu\">PIETER </span></div><div class='features'><span class=\"entityid xft\" ><span class=\"f\">entityId=</span>e_1_22_0</span><span class=\"entitykind xft\" ><span class=\"f\">entityKind=</span>PER</span><span class=\"trans xft\" ><span class=\"f\">trans=</span>PIETER</span></div></div><div class=\"contnr c0 trm   hl\" ><div class=\"lbl c0 trm hl\" ><span class=\"txtu\">BOTH, </span></div><div class='features'><span class=\"entityid xft\" ><span class=\"f\">entityId=</span>e_1_22_0</span><span class=\"entitykind xft\" ><span class=\"f\">entityKind=</span>PER</span><span class=\"trans xft\" ><span class=\"f\">trans=</span>BOTH</span></div></div><div class=\"contnr c0 trm   \" ><div class=\"lbl c0 trm \" ><span class=\"txtu\">BANTAM </span></div><div class='features'><span class=\"entityid xft\" ><span class=\"f\">entityId=</span>e_1_22_2</span><span class=\"entitykind xft\" ><span class=\"f\">entityKind=</span>LOC</span><span class=\"trans xft\" ><span class=\"f\">trans=</span>BANTAM</span></div></div><div class=\"contnr c0 trm   \" ><div class=\"lbl c0 trm \" ><span class=\"txtu\">10 </span></div><div class='features'><span class=\"trans xft\" ><span class=\"f\">trans=</span>10</span></div></div><div class=\"contnr c0 trm   \" ><div class=\"lbl c0 trm \" ><span class=\"txtu\">november </span></div><div class='features'><span class=\"trans xft\" ><span class=\"f\">trans=</span>november</span></div></div><div class=\"contnr c0 trm   \" ><div class=\"lbl c0 trm \" ><span class=\"txtu\">1614. </span></div><div class='features'><span class=\"trans xft\" ><span class=\"f\">trans=</span>1614</span></div></div></div></div></div>"
      ],
      "text/plain": [
       "<IPython.core.display.HTML object>"
      ]
     },
     "metadata": {},
     "output_type": "display_data"
    }
   ],
   "source": [
    "A.show(results)"
   ]
  },
  {
   "cell_type": "markdown",
   "metadata": {},
   "source": [
    "Let's now make an overview of words that receive different entity kind features in different occurrences.\n",
    "Only words that start with a capital letter."
   ]
  },
  {
   "cell_type": "code",
   "execution_count": 15,
   "metadata": {},
   "outputs": [
    {
     "data": {
      "text/plain": [
       "54018"
      ]
     },
     "execution_count": 15,
     "metadata": {},
     "output_type": "execute_result"
    }
   ],
   "source": [
    "wordKind = collections.defaultdict(lambda: collections.defaultdict(list))\n",
    "\n",
    "for w in F.otype.s(\"word\"):\n",
    "    trans = F.trans.v(w)\n",
    "    if not trans:\n",
    "        continue\n",
    "    if trans[0].lower() == trans[0]:\n",
    "        continue\n",
    "    transNorm = trans[0].upper() + trans[1:].lower()\n",
    "    eKind = F.entityKind.v(w)\n",
    "    wordKind[transNorm][eKind].append(w)\n",
    "    \n",
    "len(wordKind)"
   ]
  },
  {
   "cell_type": "markdown",
   "metadata": {},
   "source": [
    "How many of these words do not have any entity kind at all?"
   ]
  },
  {
   "cell_type": "code",
   "execution_count": 16,
   "metadata": {},
   "outputs": [
    {
     "name": "stdout",
     "output_type": "stream",
     "text": [
      "49821 words without entity occurrences\n",
      " 4197 words with entity occurrences\n"
     ]
    }
   ],
   "source": [
    "noEntity = []\n",
    "hasEntity = {}\n",
    "\n",
    "for (word, wordData) in wordKind.items():\n",
    "    hasEnt = True\n",
    "    if len(wordData) == 1:\n",
    "        if None in wordData:\n",
    "            noEntity.append((word, wordData[None]))\n",
    "            hasEnt = False\n",
    "    if hasEnt:\n",
    "        hasEntity[word] = wordData\n",
    "            \n",
    "print(f\"{len(noEntity):>5} words without entity occurrences\")\n",
    "print(f\"{len(hasEntity):>5} words with entity occurrences\")"
   ]
  },
  {
   "cell_type": "markdown",
   "metadata": {},
   "source": [
    "More than 90%!\n",
    "\n",
    "Probably these are all words at the beginning of a sentence. Let's list the most frequent of them."
   ]
  },
  {
   "cell_type": "code",
   "execution_count": 17,
   "metadata": {},
   "outputs": [
    {
     "name": "stdout",
     "output_type": "stream",
     "text": [
      "U                     4972x\n",
      "Ed                    3752x\n",
      "Ib                    3218x\n",
      "Er                    3162x\n",
      "Fol                   2370x\n",
      "Dit                   2320x\n",
      "Radja                 2139x\n",
      "Hoogagtb              1889x\n",
      "Edele                 1600x\n",
      "Vorst                 1423x\n",
      "Voor                  1347x\n",
      "Hij                   1339x\n",
      "Zijn                  1326x\n",
      "Wel                   1318x\n",
      "Ii                    1305x\n",
      "Een                   1291x\n",
      "Bij                   1168x\n",
      "Sijn                  1095x\n",
      "Dat                   1083x\n",
      "Om                    1081x\n",
      "Ook                   1045x\n",
      "Uit                   1009x\n",
      "Als                    981x\n",
      "Coninck                961x\n",
      "Wij                    884x\n",
      "Sultan                 841x\n",
      "Door                   808x\n",
      "Daghregisters          791x\n",
      "Tot                    707x\n",
      "Daar                   693x\n",
      "Volgens                678x\n",
      "Daarom                 653x\n",
      "Dog                    646x\n",
      "Corpus                 630x\n",
      "Nagapattinam           629x\n",
      "Opkomst                622x\n",
      "Wat                    557x\n",
      "Omdat                  555x\n",
      "Die                    545x\n",
      "Baros                  535x\n",
      "Soo                    530x\n",
      "Pangeran               516x\n",
      "Ten                    513x\n",
      "Uw                     509x\n",
      "Na                     507x\n",
      "Ze                     499x\n",
      "Mogol                  475x\n",
      "Bovendien              461x\n",
      "Wegens                 456x\n",
      "Vorsten                437x\n"
     ]
    }
   ],
   "source": [
    "sortedNoEntity = sorted(noEntity, key=lambda x: (-len(x[1]), x[0]))\n",
    "for (word, occs) in sortedNoEntity[0:50]:\n",
    "    print(f\"{word:<20} {len(occs):>5}x\")"
   ]
  },
  {
   "cell_type": "markdown",
   "metadata": {},
   "source": [
    "Let's also the the least frequent of them:"
   ]
  },
  {
   "cell_type": "code",
   "execution_count": 18,
   "metadata": {},
   "outputs": [
    {
     "name": "stdout",
     "output_type": "stream",
     "text": [
      "Zuyderpoeyer             1x\n",
      "Zuydoostereilanden       1x\n",
      "Zuydoosters              1x\n",
      "Zuydtlandt               1x\n",
      "Zuydtzee                 1x\n",
      "Zuydwestereilanden       1x\n",
      "Zuydwijck                1x\n",
      "Zuyhn                    1x\n",
      "Zuykermaelder            1x\n",
      "Zuykermoolen             1x\n",
      "Zuytbeveland             1x\n",
      "Zuytcerammers            1x\n",
      "Zuythollant              1x\n",
      "Zuytlandts               1x\n",
      "Zuytwijck                1x\n",
      "Zu’1                     1x\n",
      "Zu’l                     1x\n",
      "Zwaardecroon’s           1x\n",
      "Zwaardveger              1x\n",
      "Zwaarmoedigheid          1x\n",
      "Zwaegh                   1x\n",
      "Zwakke                   1x\n",
      "Zwanenburg               1x\n",
      "Zwardecroon              1x\n",
      "Zwart                    1x\n",
      "Zwarts                   1x\n",
      "Zwavel                   1x\n",
      "Zweep                    1x\n",
      "Zwervende                1x\n",
      "Zwervens                 1x\n",
      "Zwerver                  1x\n",
      "Zwervers                 1x\n",
      "Zwet                     1x\n",
      "Zwid                     1x\n",
      "Zwier                    1x\n",
      "Zyan                     1x\n",
      "Zyed                     1x\n",
      "Zylon                    1x\n",
      "Zytawakka                1x\n",
      "Z|                       1x\n",
      "Ï6                       1x\n",
      "Ïo011                    1x\n",
      "Ïoo                      1x\n",
      "Ïè                       1x\n",
      "Ónmogelijk               1x\n",
      "Ö00                      1x\n",
      "Ö10v                     1x\n",
      "Ö86                      1x\n",
      "Öjambi                   1x\n",
      "Ü                        1x\n"
     ]
    }
   ],
   "source": [
    "for (word, occs) in sortedNoEntity[-50:]:\n",
    "    print(f\"{word:<20} {len(occs):>5}x\")"
   ]
  },
  {
   "cell_type": "markdown",
   "metadata": {},
   "source": [
    "Clearly, it might pay off to inspect this list for missed named entities, especially in the regions of lesser frequency."
   ]
  },
  {
   "cell_type": "markdown",
   "metadata": {},
   "source": [
    "Back to the words that have been recognized as an entity. Let's divide them in several\n",
    "classes:\n",
    "\n",
    "A: words all of whose occurrences are an entity\n",
    "\n",
    "A1: A-words that have 1 entity kind\n",
    "\n",
    "A2: A-words that have 2 entity kinds\n",
    "\n",
    "etc.\n",
    "\n",
    "A3: A-words that have more than two entity kinds\n",
    "\n",
    "B: words that have occurrences that are an entity and occurrences that are not an entity:\n",
    "\n",
    "B1: B-words that have 1 entity kind\n",
    "\n",
    "B2: B-words that have 2 entity kinds\n",
    "\n",
    "etc."
   ]
  },
  {
   "cell_type": "code",
   "execution_count": 19,
   "metadata": {},
   "outputs": [],
   "source": [
    "classified = collections.defaultdict(list)\n",
    "\n",
    "for (word, wordData) in hasEntity.items():\n",
    "    n = len(wordData)\n",
    "    if None in wordData:\n",
    "        n -= 1\n",
    "        clsMain = \"B\"\n",
    "    else:\n",
    "        clsMain = \"A\"\n",
    "    cls = f\"{clsMain}{n}\"\n",
    "    classified[cls].append(word)"
   ]
  },
  {
   "cell_type": "code",
   "execution_count": 20,
   "metadata": {},
   "outputs": [
    {
     "name": "stdout",
     "output_type": "stream",
     "text": [
      "A1:   750 words\n",
      "A2:     3 words\n",
      "B1:  3113 words\n",
      "B2:   281 words\n",
      "B3:    45 words\n",
      "B4:     5 words\n"
     ]
    }
   ],
   "source": [
    "for cls in sorted(classified):\n",
    "    print(f\"{cls}: {len(classified[cls]):>5} words\")"
   ]
  },
  {
   "cell_type": "markdown",
   "metadata": {},
   "source": [
    "Let's inspect some cases in every category.\n",
    "\n",
    "We see a lot of good things, especially in the A1 category, but also numerous\n",
    "rough edges in the remaining categories."
   ]
  },
  {
   "cell_type": "code",
   "execution_count": 21,
   "metadata": {},
   "outputs": [
    {
     "data": {
      "text/markdown": [
       "### A1: 750 words\n",
       "\n"
      ],
      "text/plain": [
       "<IPython.core.display.Markdown object>"
      ]
     },
     "metadata": {},
     "output_type": "display_data"
    },
    {
     "data": {
      "text/markdown": [
       "#### A1: case 1: Verdische as LOC: 2 occurrences\n",
       "\n"
      ],
      "text/plain": [
       "<IPython.core.display.Markdown object>"
      ]
     },
     "metadata": {},
     "output_type": "display_data"
    },
    {
     "data": {
      "text/html": [
       "<p><b>result</b> <i>1</i>"
      ],
      "text/plain": [
       "<IPython.core.display.HTML object>"
      ]
     },
     "metadata": {},
     "output_type": "display_data"
    },
    {
     "data": {
      "text/html": [
       "<div class=\"tfsechead \"><span class=\"ltr\"><a target=\"_blank\" href=\"http://resources.huygens.knaw.nl/retroboeken/generalemissiven/#page=26&amp;source=1\" title=\"Show this document on Huygens\" sec=\"1 3:4\">1 3:4</a></span></div><div class=\" children\"><div class=\"contnr c3    \" ><div class=\"lbl c3  \" ><span class=\"nd\">line</span></div><div class='features'><span class=\"entityid xft\" ><span class=\"f\">entityId=</span>e_14_12_48</span><span class=\"entitykind xft\" ><span class=\"f\">entityKind=</span>LOC</span></div><div class=\"children hor wrap \"><div class=\"contnr c0 trm   \" ><div class=\"lbl c0 trm \" ><span class=\"txtu\">Generaal </span></div><div class='features'><span class=\"trans xft\" ><span class=\"f\">trans=</span>Generaal</span></div></div><div class=\"contnr c0 trm   \" ><div class=\"lbl c0 trm \" ><span class=\"txtu\">aan </span></div><div class='features'><span class=\"trans xft\" ><span class=\"f\">trans=</span>aan</span></div></div><div class=\"contnr c0 trm   \" ><div class=\"lbl c0 trm \" ><span class=\"txtu\">boord </span></div><div class='features'><span class=\"trans xft\" ><span class=\"f\">trans=</span>boord</span></div></div><div class=\"contnr c0 trm   \" ><div class=\"lbl c0 trm \" ><span class=\"txtu\">vertoefde, </span></div><div class='features'><span class=\"trans xft\" ><span class=\"f\">trans=</span>vertoefde</span></div></div><div class=\"contnr c0 trm   \" ><div class=\"lbl c0 trm \" ><span class=\"txtu\">verandert </span></div><div class='features'><span class=\"trans xft\" ><span class=\"f\">trans=</span>verandert</span></div></div><div class=\"contnr c0 trm   \" ><div class=\"lbl c0 trm \" ><span class=\"txtu\">daaraan </span></div><div class='features'><span class=\"trans xft\" ><span class=\"f\">trans=</span>daaraan</span></div></div><div class=\"contnr c0 trm   \" ><div class=\"lbl c0 trm \" ><span class=\"txtu\">niets. </span></div><div class='features'><span class=\"trans xft\" ><span class=\"f\">trans=</span>niets</span></div></div><div class=\"contnr c0 trm   \" ><div class=\"lbl c0 trm \" ><span class=\"txtu\">Ile </span></div><div class='features'><span class=\"entityid xft\" ><span class=\"f\">entityId=</span>e_1_1_7</span><span class=\"entitykind xft\" ><span class=\"f\">entityKind=</span>LOC</span><span class=\"trans xft\" ><span class=\"f\">trans=</span>Ile</span></div></div><div class=\"contnr c0 trm   \" ><div class=\"lbl c0 trm \" ><span class=\"txtu\">de </span></div><div class='features'><span class=\"entityid xft\" ><span class=\"f\">entityId=</span>e_1_1_7</span><span class=\"entitykind xft\" ><span class=\"f\">entityKind=</span>LOC</span><span class=\"trans xft\" ><span class=\"f\">trans=</span>de</span></div></div><div class=\"contnr c0 trm   \" ><div class=\"lbl c0 trm \" ><span class=\"txtu\">Mayo </span></div><div class='features'><span class=\"entityid xft\" ><span class=\"f\">entityId=</span>e_1_1_7</span><span class=\"entitykind xft\" ><span class=\"f\">entityKind=</span>LOC</span><span class=\"trans xft\" ><span class=\"f\">trans=</span>Mayo</span></div></div><div class=\"contnr c0 trm   \" ><div class=\"lbl c0 trm \" ><span class=\"txtu\">is </span></div><div class='features'><span class=\"trans xft\" ><span class=\"f\">trans=</span>is</span></div></div><div class=\"contnr c0 trm   \" ><div class=\"lbl c0 trm \" ><span class=\"txtu\">een </span></div><div class='features'><span class=\"trans xft\" ><span class=\"f\">trans=</span>een</span></div></div><div class=\"contnr c0 trm   \" ><div class=\"lbl c0 trm \" ><span class=\"txtu\">der </span></div><div class='features'><span class=\"trans xft\" ><span class=\"f\">trans=</span>der</span></div></div><div class=\"contnr c0 trm   \" ><div class=\"lbl c0 trm \" ><span class=\"txtu\">Kaap-</span></div><div class='features'><span class=\"entityid xft\" ><span class=\"f\">entityId=</span>e_1_1_9</span><span class=\"entitykind xft\" ><span class=\"f\">entityKind=</span>LOC</span><span class=\"trans xft\" ><span class=\"f\">trans=</span>Kaap</span></div></div><div class=\"contnr c0 trm   hl\" ><div class=\"lbl c0 trm hl\" ><span class=\"txtu\">Verdische </span></div><div class='features'><span class=\"entityid xft\" ><span class=\"f\">entityId=</span>e_1_1_9</span><span class=\"entitykind xft\" ><span class=\"f\">entityKind=</span>LOC</span><span class=\"trans xft\" ><span class=\"f\">trans=</span>Verdische</span></div></div></div></div></div>"
      ],
      "text/plain": [
       "<IPython.core.display.HTML object>"
      ]
     },
     "metadata": {},
     "output_type": "display_data"
    },
    {
     "data": {
      "text/markdown": [
       "#### A1: case 2: Labatacque as LOC: 1 occurrence\n",
       "\n"
      ],
      "text/plain": [
       "<IPython.core.display.Markdown object>"
      ]
     },
     "metadata": {},
     "output_type": "display_data"
    },
    {
     "data": {
      "text/html": [
       "<p><b>result</b> <i>1</i>"
      ],
      "text/plain": [
       "<IPython.core.display.HTML object>"
      ]
     },
     "metadata": {},
     "output_type": "display_data"
    },
    {
     "data": {
      "text/html": [
       "<div class=\"tfsechead \"><span class=\"ltr\"><a target=\"_blank\" href=\"http://resources.huygens.knaw.nl/retroboeken/generalemissiven/#page=27&amp;source=1\" title=\"Show this document on Huygens\" sec=\"1 4:8\">1 4:8</a></span></div><div class=\" children\"><div class=\"contnr c3    \" ><div class=\"lbl c3  \" ><span class=\"nd\">line</span></div><div class=\"children hor wrap \"><div class=\"contnr c0 trm   \" ><div class=\"lbl c0 trm \" ><span class=\"txtu\">connen </span></div><div class='features'><span class=\"trans xft\" ><span class=\"f\">trans=</span>connen</span></div></div><div class=\"contnr c0 trm   \" ><div class=\"lbl c0 trm \" ><span class=\"txtu\">draegen, </span></div><div class='features'><span class=\"trans xft\" ><span class=\"f\">trans=</span>draegen</span></div></div><div class=\"contnr c0 trm   \" ><div class=\"lbl c0 trm \" ><span class=\"txtu\">alle </span></div><div class='features'><span class=\"trans xft\" ><span class=\"f\">trans=</span>alle</span></div></div><div class=\"contnr c0 trm   \" ><div class=\"lbl c0 trm \" ><span class=\"txtu\">met </span></div><div class='features'><span class=\"trans xft\" ><span class=\"f\">trans=</span>met</span></div></div><div class=\"contnr c0 trm   \" ><div class=\"lbl c0 trm \" ><span class=\"txtu\">de </span></div><div class='features'><span class=\"trans xft\" ><span class=\"f\">trans=</span>de</span></div></div><div class=\"contnr c0 trm   \" ><div class=\"lbl c0 trm \" ><span class=\"txtu\">boots </span></div><div class='features'><span class=\"trans xft\" ><span class=\"f\">trans=</span>boots</span></div></div><div class=\"contnr c0 trm   \" ><div class=\"lbl c0 trm \" ><span class=\"txtu\">gehaelt </span></div><div class='features'><span class=\"trans xft\" ><span class=\"f\">trans=</span>gehaelt</span></div></div><div class=\"contnr c0 trm   \" ><div class=\"lbl c0 trm \" ><span class=\"txtu\">van </span></div><div class='features'><span class=\"trans xft\" ><span class=\"f\">trans=</span>van</span></div></div><div class=\"contnr c0 trm   hl\" ><div class=\"lbl c0 trm hl\" ><span class=\"txtu\">Labatacque </span></div><div class='features'><span class=\"entityid xft\" ><span class=\"f\">entityId=</span>e_1_4_6</span><span class=\"entitykind xft\" ><span class=\"f\">entityKind=</span>LOC</span><span class=\"trans xft\" ><span class=\"f\">trans=</span>Labatacque</span></div></div><div class=\"contnr c0 trm   \" ><div class=\"lbl c0 trm \" ><span class=\"txtu\">Labetaka, </span></div><div class='features'><span class=\"entityid xft\" ><span class=\"f\">entityId=</span>e_1_4_14</span><span class=\"entitykind xft\" ><span class=\"f\">entityKind=</span>LOC</span><span class=\"trans xft\" ><span class=\"f\">trans=</span>Labetaka</span></div></div><div class=\"contnr c0 trm   \" ><div class=\"lbl c0 trm \" ><span class=\"txtu\">dorp </span></div><div class='features'><span class=\"trans xft\" ><span class=\"f\">trans=</span>dorp</span></div></div><div class=\"contnr c0 trm   \" ><div class=\"lbl c0 trm \" ><span class=\"txtu\">aan </span></div><div class='features'><span class=\"trans xft\" ><span class=\"f\">trans=</span>aan</span></div></div><div class=\"contnr c0 trm   \" ><div class=\"lbl c0 trm \" ><span class=\"txtu\">de </span></div><div class='features'><span class=\"trans xft\" ><span class=\"f\">trans=</span>de</span></div></div><div class=\"contnr c0 trm   \" ><div class=\"lbl c0 trm \" ><span class=\"txtu\">noordkust </span></div><div class='features'><span class=\"trans xft\" ><span class=\"f\">trans=</span>noordkust</span></div></div><div class=\"contnr c0 trm   \" ><div class=\"lbl c0 trm \" ><span class=\"txtu\">van </span></div><div class='features'><span class=\"trans xft\" ><span class=\"f\">trans=</span>van</span></div></div><div class=\"contnr c0 trm   \" ><div class=\"lbl c0 trm \" ><span class=\"txtu\">Banda-</span></div><div class='features'><span class=\"entityid xft\" ><span class=\"f\">entityId=</span>e_1_4_15</span><span class=\"entitykind xft\" ><span class=\"f\">entityKind=</span>LOC</span><span class=\"trans xft\" ><span class=\"f\">trans=</span>Banda</span></div></div><div class=\"contnr c0 trm   \" ><div class=\"lbl c0 trm \" ><span class=\"txtu\">Neira. </span></div><div class='features'><span class=\"entityid xft\" ><span class=\"f\">entityId=</span>e_1_4_15</span><span class=\"entitykind xft\" ><span class=\"f\">entityKind=</span>LOC</span><span class=\"trans xft\" ><span class=\"f\">trans=</span>Neira</span></div></div></div></div></div>"
      ],
      "text/plain": [
       "<IPython.core.display.HTML object>"
      ]
     },
     "metadata": {},
     "output_type": "display_data"
    },
    {
     "data": {
      "text/markdown": [
       "#### A1: case 3: Labetaka as LOC: 1 occurrence\n",
       "\n"
      ],
      "text/plain": [
       "<IPython.core.display.Markdown object>"
      ]
     },
     "metadata": {},
     "output_type": "display_data"
    },
    {
     "data": {
      "text/html": [
       "<p><b>result</b> <i>1</i>"
      ],
      "text/plain": [
       "<IPython.core.display.HTML object>"
      ]
     },
     "metadata": {},
     "output_type": "display_data"
    },
    {
     "data": {
      "text/html": [
       "<div class=\"tfsechead \"><span class=\"ltr\"><a target=\"_blank\" href=\"http://resources.huygens.knaw.nl/retroboeken/generalemissiven/#page=27&amp;source=1\" title=\"Show this document on Huygens\" sec=\"1 4:8\">1 4:8</a></span></div><div class=\" children\"><div class=\"contnr c3    \" ><div class=\"lbl c3  \" ><span class=\"nd\">line</span></div><div class=\"children hor wrap \"><div class=\"contnr c0 trm   \" ><div class=\"lbl c0 trm \" ><span class=\"txtu\">connen </span></div><div class='features'><span class=\"trans xft\" ><span class=\"f\">trans=</span>connen</span></div></div><div class=\"contnr c0 trm   \" ><div class=\"lbl c0 trm \" ><span class=\"txtu\">draegen, </span></div><div class='features'><span class=\"trans xft\" ><span class=\"f\">trans=</span>draegen</span></div></div><div class=\"contnr c0 trm   \" ><div class=\"lbl c0 trm \" ><span class=\"txtu\">alle </span></div><div class='features'><span class=\"trans xft\" ><span class=\"f\">trans=</span>alle</span></div></div><div class=\"contnr c0 trm   \" ><div class=\"lbl c0 trm \" ><span class=\"txtu\">met </span></div><div class='features'><span class=\"trans xft\" ><span class=\"f\">trans=</span>met</span></div></div><div class=\"contnr c0 trm   \" ><div class=\"lbl c0 trm \" ><span class=\"txtu\">de </span></div><div class='features'><span class=\"trans xft\" ><span class=\"f\">trans=</span>de</span></div></div><div class=\"contnr c0 trm   \" ><div class=\"lbl c0 trm \" ><span class=\"txtu\">boots </span></div><div class='features'><span class=\"trans xft\" ><span class=\"f\">trans=</span>boots</span></div></div><div class=\"contnr c0 trm   \" ><div class=\"lbl c0 trm \" ><span class=\"txtu\">gehaelt </span></div><div class='features'><span class=\"trans xft\" ><span class=\"f\">trans=</span>gehaelt</span></div></div><div class=\"contnr c0 trm   \" ><div class=\"lbl c0 trm \" ><span class=\"txtu\">van </span></div><div class='features'><span class=\"trans xft\" ><span class=\"f\">trans=</span>van</span></div></div><div class=\"contnr c0 trm   \" ><div class=\"lbl c0 trm \" ><span class=\"txtu\">Labatacque </span></div><div class='features'><span class=\"entityid xft\" ><span class=\"f\">entityId=</span>e_1_4_6</span><span class=\"entitykind xft\" ><span class=\"f\">entityKind=</span>LOC</span><span class=\"trans xft\" ><span class=\"f\">trans=</span>Labatacque</span></div></div><div class=\"contnr c0 trm   hl\" ><div class=\"lbl c0 trm hl\" ><span class=\"txtu\">Labetaka, </span></div><div class='features'><span class=\"entityid xft\" ><span class=\"f\">entityId=</span>e_1_4_14</span><span class=\"entitykind xft\" ><span class=\"f\">entityKind=</span>LOC</span><span class=\"trans xft\" ><span class=\"f\">trans=</span>Labetaka</span></div></div><div class=\"contnr c0 trm   \" ><div class=\"lbl c0 trm \" ><span class=\"txtu\">dorp </span></div><div class='features'><span class=\"trans xft\" ><span class=\"f\">trans=</span>dorp</span></div></div><div class=\"contnr c0 trm   \" ><div class=\"lbl c0 trm \" ><span class=\"txtu\">aan </span></div><div class='features'><span class=\"trans xft\" ><span class=\"f\">trans=</span>aan</span></div></div><div class=\"contnr c0 trm   \" ><div class=\"lbl c0 trm \" ><span class=\"txtu\">de </span></div><div class='features'><span class=\"trans xft\" ><span class=\"f\">trans=</span>de</span></div></div><div class=\"contnr c0 trm   \" ><div class=\"lbl c0 trm \" ><span class=\"txtu\">noordkust </span></div><div class='features'><span class=\"trans xft\" ><span class=\"f\">trans=</span>noordkust</span></div></div><div class=\"contnr c0 trm   \" ><div class=\"lbl c0 trm \" ><span class=\"txtu\">van </span></div><div class='features'><span class=\"trans xft\" ><span class=\"f\">trans=</span>van</span></div></div><div class=\"contnr c0 trm   \" ><div class=\"lbl c0 trm \" ><span class=\"txtu\">Banda-</span></div><div class='features'><span class=\"entityid xft\" ><span class=\"f\">entityId=</span>e_1_4_15</span><span class=\"entitykind xft\" ><span class=\"f\">entityKind=</span>LOC</span><span class=\"trans xft\" ><span class=\"f\">trans=</span>Banda</span></div></div><div class=\"contnr c0 trm   \" ><div class=\"lbl c0 trm \" ><span class=\"txtu\">Neira. </span></div><div class='features'><span class=\"entityid xft\" ><span class=\"f\">entityId=</span>e_1_4_15</span><span class=\"entitykind xft\" ><span class=\"f\">entityKind=</span>LOC</span><span class=\"trans xft\" ><span class=\"f\">trans=</span>Neira</span></div></div></div></div></div>"
      ],
      "text/plain": [
       "<IPython.core.display.HTML object>"
      ]
     },
     "metadata": {},
     "output_type": "display_data"
    },
    {
     "data": {
      "text/markdown": [
       "#### A1: case 4: Amboynoysen as LOCderiv: 1 occurrence\n",
       "\n"
      ],
      "text/plain": [
       "<IPython.core.display.Markdown object>"
      ]
     },
     "metadata": {},
     "output_type": "display_data"
    },
    {
     "data": {
      "text/html": [
       "<p><b>result</b> <i>1</i>"
      ],
      "text/plain": [
       "<IPython.core.display.HTML object>"
      ]
     },
     "metadata": {},
     "output_type": "display_data"
    },
    {
     "data": {
      "text/html": [
       "<div class=\"tfsechead \"><span class=\"ltr\"><a target=\"_blank\" href=\"http://resources.huygens.knaw.nl/retroboeken/generalemissiven/#page=27&amp;source=1\" title=\"Show this document on Huygens\" sec=\"1 4:12\">1 4:12</a></span></div><div class=\" children\"><div class=\"contnr c3    \" ><div class=\"lbl c3  \" ><span class=\"nd\">line</span></div><div class=\"children hor wrap \"><div class=\"contnr c0 trm   hl\" ><div class=\"lbl c0 trm hl\" ><span class=\"txtu\">Amboynoysen, </span></div><div class='features'><span class=\"entityid xft\" ><span class=\"f\">entityId=</span>e_1_4_9</span><span class=\"entitykind xft\" ><span class=\"f\">entityKind=</span>LOCderiv</span><span class=\"trans xft\" ><span class=\"f\">trans=</span>Amboynoysen</span></div></div><div class=\"contnr c0 trm   \" ><div class=\"lbl c0 trm \" ><span class=\"txtu\">die </span></div><div class='features'><span class=\"trans xft\" ><span class=\"f\">trans=</span>die</span></div></div><div class=\"contnr c0 trm   \" ><div class=\"lbl c0 trm \" ><span class=\"txtu\">van </span></div><div class='features'><span class=\"trans xft\" ><span class=\"f\">trans=</span>van</span></div></div><div class=\"contnr c0 trm   \" ><div class=\"lbl c0 trm \" ><span class=\"txtu\">Lontor </span></div><div class='features'><span class=\"entityid xft\" ><span class=\"f\">entityId=</span>e_1_4_10</span><span class=\"entitykind xft\" ><span class=\"f\">entityKind=</span>LOC</span><span class=\"trans xft\" ><span class=\"f\">trans=</span>Lontor</span></div></div><div class=\"contnr c0 trm   \" ><div class=\"lbl c0 trm \" ><span class=\"txtu\">Lonto (</span></div><div class='features'><span class=\"entityid xft\" ><span class=\"f\">entityId=</span>e_1_4_16</span><span class=\"entitykind xft\" ><span class=\"f\">entityKind=</span>LOC</span><span class=\"trans xft\" ><span class=\"f\">trans=</span>Lonto</span></div></div><div class=\"contnr c0 trm   \" ><div class=\"lbl c0 trm \" ><span class=\"txtu\">i) </span></div><div class='features'><span class=\"entityid xft\" ><span class=\"f\">entityId=</span>e_1_4_16</span><span class=\"entitykind xft\" ><span class=\"f\">entityKind=</span>LOC</span><span class=\"trans xft\" ><span class=\"f\">trans=</span>i</span></div></div><div class=\"contnr c0 trm   \" ><div class=\"lbl c0 trm \" ><span class=\"txtu\">r, </span></div><div class='features'><span class=\"entityid xft\" ><span class=\"f\">entityId=</span>e_1_4_16</span><span class=\"entitykind xft\" ><span class=\"f\">entityKind=</span>LOC</span><span class=\"trans xft\" ><span class=\"f\">trans=</span>r</span></div></div><div class=\"contnr c0 trm   \" ><div class=\"lbl c0 trm \" ><span class=\"txtu\">het </span></div><div class='features'><span class=\"trans xft\" ><span class=\"f\">trans=</span>het</span></div></div><div class=\"contnr c0 trm   \" ><div class=\"lbl c0 trm \" ><span class=\"txtu\">grootste </span></div><div class='features'><span class=\"trans xft\" ><span class=\"f\">trans=</span>grootste</span></div></div><div class=\"contnr c0 trm   \" ><div class=\"lbl c0 trm \" ><span class=\"txtu\">der </span></div><div class='features'><span class=\"trans xft\" ><span class=\"f\">trans=</span>der</span></div></div><div class=\"contnr c0 trm   \" ><div class=\"lbl c0 trm \" ><span class=\"txtu\">Banda-</span></div><div class='features'><span class=\"entityid xft\" ><span class=\"f\">entityId=</span>e_1_4_18</span><span class=\"entitykind xft\" ><span class=\"f\">entityKind=</span>LOC</span><span class=\"trans xft\" ><span class=\"f\">trans=</span>Banda</span></div></div><div class=\"contnr c0 trm   \" ><div class=\"lbl c0 trm \" ><span class=\"txtu\">eilanden. </span></div><div class='features'><span class=\"entityid xft\" ><span class=\"f\">entityId=</span>e_1_4_18</span><span class=\"entitykind xft\" ><span class=\"f\">entityKind=</span>LOC</span><span class=\"trans xft\" ><span class=\"f\">trans=</span>eilanden</span></div></div></div></div></div>"
      ],
      "text/plain": [
       "<IPython.core.display.HTML object>"
      ]
     },
     "metadata": {},
     "output_type": "display_data"
    },
    {
     "data": {
      "text/markdown": [
       "#### A1: case 5: Romulus as LOC: 1 occurrence\n",
       "\n"
      ],
      "text/plain": [
       "<IPython.core.display.Markdown object>"
      ]
     },
     "metadata": {},
     "output_type": "display_data"
    },
    {
     "data": {
      "text/html": [
       "<p><b>result</b> <i>1</i>"
      ],
      "text/plain": [
       "<IPython.core.display.HTML object>"
      ]
     },
     "metadata": {},
     "output_type": "display_data"
    },
    {
     "data": {
      "text/html": [
       "<div class=\"tfsechead \"><span class=\"ltr\"><a target=\"_blank\" href=\"http://resources.huygens.knaw.nl/retroboeken/generalemissiven/#page=30&amp;source=1\" title=\"Show this document on Huygens\" sec=\"1 7:11\">1 7:11</a></span></div><div class=\" children\"><div class=\"contnr c3    \" ><div class=\"lbl c3  \" ><span class=\"nd\">line</span></div><div class=\"children hor wrap \"><div class=\"contnr c0 trm   \" ><div class=\"lbl c0 trm \" ><span class=\"txtu\">Om </span></div><div class='features'><span class=\"trans xft\" ><span class=\"f\">trans=</span>Om</span></div></div><div class=\"contnr c0 trm   \" ><div class=\"lbl c0 trm \" ><span class=\"txtu\">dit </span></div><div class='features'><span class=\"trans xft\" ><span class=\"f\">trans=</span>dit</span></div></div><div class=\"contnr c0 trm   \" ><div class=\"lbl c0 trm \" ><span class=\"txtu\">landt </span></div><div class='features'><span class=\"trans xft\" ><span class=\"f\">trans=</span>landt</span></div></div><div class=\"contnr c0 trm   \" ><div class=\"lbl c0 trm \" ><span class=\"txtu\">te </span></div><div class='features'><span class=\"trans xft\" ><span class=\"f\">trans=</span>te</span></div></div><div class=\"contnr c0 trm   \" ><div class=\"lbl c0 trm \" ><span class=\"txtu\">beplanten </span></div><div class='features'><span class=\"trans xft\" ><span class=\"f\">trans=</span>beplanten</span></div></div><div class=\"contnr c0 trm   \" ><div class=\"lbl c0 trm \" ><span class=\"txtu\">met </span></div><div class='features'><span class=\"trans xft\" ><span class=\"f\">trans=</span>met</span></div></div><div class=\"contnr c0 trm   \" ><div class=\"lbl c0 trm \" ><span class=\"txtu\">onse </span></div><div class='features'><span class=\"trans xft\" ><span class=\"f\">trans=</span>onse</span></div></div><div class=\"contnr c0 trm   \" ><div class=\"lbl c0 trm \" ><span class=\"txtu\">natie </span></div><div class='features'><span class=\"trans xft\" ><span class=\"f\">trans=</span>natie</span></div></div><div class=\"contnr c0 trm   \" ><div class=\"lbl c0 trm \" ><span class=\"txtu\">sal </span></div><div class='features'><span class=\"trans xft\" ><span class=\"f\">trans=</span>sal</span></div></div><div class=\"contnr c0 trm   \" ><div class=\"lbl c0 trm \" ><span class=\"txtu\">beter </span></div><div class='features'><span class=\"trans xft\" ><span class=\"f\">trans=</span>beter</span></div></div><div class=\"contnr c0 trm   \" ><div class=\"lbl c0 trm \" ><span class=\"txtu\">wesen </span></div><div class='features'><span class=\"trans xft\" ><span class=\"f\">trans=</span>wesen</span></div></div><div class=\"contnr c0 trm   \" ><div class=\"lbl c0 trm \" ><span class=\"txtu\">te </span></div><div class='features'><span class=\"trans xft\" ><span class=\"f\">trans=</span>te</span></div></div><div class=\"contnr c0 trm   \" ><div class=\"lbl c0 trm \" ><span class=\"txtu\">doen </span></div><div class='features'><span class=\"trans xft\" ><span class=\"f\">trans=</span>doen</span></div></div><div class=\"contnr c0 trm   \" ><div class=\"lbl c0 trm \" ><span class=\"txtu\">als </span></div><div class='features'><span class=\"trans xft\" ><span class=\"f\">trans=</span>als</span></div></div><div class=\"contnr c0 trm   hl\" ><div class=\"lbl c0 trm hl\" ><span class=\"txtu\">Romulus </span></div><div class='features'><span class=\"entityid xft\" ><span class=\"f\">entityId=</span>e_1_5_8</span><span class=\"entitykind xft\" ><span class=\"f\">entityKind=</span>LOC</span><span class=\"trans xft\" ><span class=\"f\">trans=</span>Romulus</span></div></div></div></div></div>"
      ],
      "text/plain": [
       "<IPython.core.display.HTML object>"
      ]
     },
     "metadata": {},
     "output_type": "display_data"
    },
    {
     "data": {
      "text/markdown": [
       "#### 745 more cases"
      ],
      "text/plain": [
       "<IPython.core.display.Markdown object>"
      ]
     },
     "metadata": {},
     "output_type": "display_data"
    },
    {
     "data": {
      "text/markdown": [
       "### A2: 3 words\n",
       "\n"
      ],
      "text/plain": [
       "<IPython.core.display.Markdown object>"
      ]
     },
     "metadata": {},
     "output_type": "display_data"
    },
    {
     "data": {
      "text/markdown": [
       "#### A2: case 1: Medicis as PER: 1 occurrence\n",
       "\n"
      ],
      "text/plain": [
       "<IPython.core.display.Markdown object>"
      ]
     },
     "metadata": {},
     "output_type": "display_data"
    },
    {
     "data": {
      "text/html": [
       "<p><b>result</b> <i>1</i>"
      ],
      "text/plain": [
       "<IPython.core.display.HTML object>"
      ]
     },
     "metadata": {},
     "output_type": "display_data"
    },
    {
     "data": {
      "text/html": [
       "<div class=\"tfsechead \"><span class=\"ltr\"><a target=\"_blank\" href=\"http://resources.huygens.knaw.nl/retroboeken/generalemissiven/#page=103&amp;source=2\" title=\"Show this document on Huygens\" sec=\"2 90:10\">2 90:10</a></span></div><div class=\" children\"><div class=\"contnr c3    \" ><div class=\"lbl c3  \" ><span class=\"nd\">line</span></div><div class=\"children hor wrap \"><div class=\"contnr c0 trm   \" ><div class=\"lbl c0 trm \" ><span class=\"txtu\">P. </span></div><div class='features'><span class=\"trans xft\" ><span class=\"f\">trans=</span>P</span></div></div><div class=\"contnr c0 trm   \" ><div class=\"lbl c0 trm \" ><span class=\"txtu\">r </span></div><div class='features'><span class=\"trans xft\" ><span class=\"f\">trans=</span>r</span></div></div><div class=\"contnr c0 trm   \" ><div class=\"lbl c0 trm \" ><span class=\"txtu\">Maria </span></div><div class='features'><span class=\"entityid xft\" ><span class=\"f\">entityId=</span>e_2_3_11</span><span class=\"entitykind xft\" ><span class=\"f\">entityKind=</span>PER</span><span class=\"trans xft\" ><span class=\"f\">trans=</span>Maria</span></div></div><div class=\"contnr c0 trm   \" ><div class=\"lbl c0 trm \" ><span class=\"txtu\">de </span></div><div class='features'><span class=\"entityid xft\" ><span class=\"f\">entityId=</span>e_2_3_11</span><span class=\"entitykind xft\" ><span class=\"f\">entityKind=</span>PER</span><span class=\"trans xft\" ><span class=\"f\">trans=</span>de</span></div></div><div class=\"contnr c0 trm   hl\" ><div class=\"lbl c0 trm hl\" ><span class=\"txtu\">Medicis . . </span></div><div class='features'><span class=\"entityid xft\" ><span class=\"f\">entityId=</span>e_2_3_11</span><span class=\"entitykind xft\" ><span class=\"f\">entityKind=</span>PER</span><span class=\"trans xft\" ><span class=\"f\">trans=</span>Medicis</span></div></div><div class=\"contnr c0 trm   \" ><div class=\"lbl c0 trm \" ><span class=\"txtu\">176 </span></div><div class='features'><span class=\"trans xft\" ><span class=\"f\">trans=</span>176</span></div></div><div class=\"contnr c0 trm   \" ><div class=\"lbl c0 trm \" ><span class=\"txtu\">79 </span></div><div class='features'><span class=\"trans xft\" ><span class=\"f\">trans=</span>79</span></div></div><div class=\"contnr c0 trm   \" ><div class=\"lbl c0 trm \" ><span class=\"txtu\">57 </span></div><div class='features'><span class=\"trans xft\" ><span class=\"f\">trans=</span>57</span></div></div><div class=\"contnr c0 trm   \" ><div class=\"lbl c0 trm \" ><span class=\"txtu\">daeronder </span></div><div class='features'><span class=\"trans xft\" ><span class=\"f\">trans=</span>daeronder</span></div></div><div class=\"contnr c0 trm   \" ><div class=\"lbl c0 trm \" ><span class=\"txtu\">18 </span></div><div class='features'><span class=\"trans xft\" ><span class=\"f\">trans=</span>18</span></div></div></div></div></div>"
      ],
      "text/plain": [
       "<IPython.core.display.HTML object>"
      ]
     },
     "metadata": {},
     "output_type": "display_data"
    },
    {
     "data": {
      "text/markdown": [
       "#### A2: case 1: Medicis as SHP: 1 occurrence\n",
       "\n"
      ],
      "text/plain": [
       "<IPython.core.display.Markdown object>"
      ]
     },
     "metadata": {},
     "output_type": "display_data"
    },
    {
     "data": {
      "text/html": [
       "<p><b>result</b> <i>1</i>"
      ],
      "text/plain": [
       "<IPython.core.display.HTML object>"
      ]
     },
     "metadata": {},
     "output_type": "display_data"
    },
    {
     "data": {
      "text/html": [
       "<div class=\"tfsechead \"><span class=\"ltr\"><a target=\"_blank\" href=\"http://resources.huygens.knaw.nl/retroboeken/generalemissiven/#page=168&amp;source=2\" title=\"Show this document on Huygens\" sec=\"2 155:19\">2 155:19</a></span></div><div class=\" children\"><div class=\"contnr c3    \" ><div class=\"lbl c3  \" ><span class=\"nd\">line</span></div><div class=\"children hor wrap \"><div class=\"contnr c0 trm   \" ><div class=\"lbl c0 trm \" ><span class=\"txtu\">De </span></div><div class='features'><span class=\"trans xft\" ><span class=\"f\">trans=</span>De</span></div></div><div class=\"contnr c0 trm   \" ><div class=\"lbl c0 trm \" ><span class=\"txtu\">Maria </span></div><div class='features'><span class=\"entityid xft\" ><span class=\"f\">entityId=</span>e_2_12_30</span><span class=\"entitykind xft\" ><span class=\"f\">entityKind=</span>SHP</span><span class=\"trans xft\" ><span class=\"f\">trans=</span>Maria</span></div></div><div class=\"contnr c0 trm   \" ><div class=\"lbl c0 trm \" ><span class=\"txtu\">de </span></div><div class='features'><span class=\"entityid xft\" ><span class=\"f\">entityId=</span>e_2_12_30</span><span class=\"entitykind xft\" ><span class=\"f\">entityKind=</span>SHP</span><span class=\"trans xft\" ><span class=\"f\">trans=</span>de</span></div></div><div class=\"contnr c0 trm   hl\" ><div class=\"lbl c0 trm hl\" ><span class=\"txtu\">Medicis </span></div><div class='features'><span class=\"entityid xft\" ><span class=\"f\">entityId=</span>e_2_12_30</span><span class=\"entitykind xft\" ><span class=\"f\">entityKind=</span>SHP</span><span class=\"trans xft\" ><span class=\"f\">trans=</span>Medicis</span></div></div><div class=\"contnr c0 trm   \" ><div class=\"lbl c0 trm \" ><span class=\"txtu\">en </span></div><div class='features'><span class=\"trans xft\" ><span class=\"f\">trans=</span>en</span></div></div><div class=\"contnr c0 trm   \" ><div class=\"lbl c0 trm \" ><span class=\"txtu\">de </span></div><div class='features'><span class=\"trans xft\" ><span class=\"f\">trans=</span>de</span></div></div><div class=\"contnr c0 trm   \" ><div class=\"lbl c0 trm \" ><span class=\"txtu\">Gulden </span></div><div class='features'><span class=\"entityid xft\" ><span class=\"f\">entityId=</span>e_2_12_31</span><span class=\"entitykind xft\" ><span class=\"f\">entityKind=</span>SHP</span><span class=\"trans xft\" ><span class=\"f\">trans=</span>Gulden</span></div></div><div class=\"contnr c0 trm   \" ><div class=\"lbl c0 trm \" ><span class=\"txtu\">Buys </span></div><div class='features'><span class=\"entityid xft\" ><span class=\"f\">entityId=</span>e_2_12_31</span><span class=\"entitykind xft\" ><span class=\"f\">entityKind=</span>SHP</span><span class=\"trans xft\" ><span class=\"f\">trans=</span>Buys</span></div></div><div class=\"contnr c0 trm   \" ><div class=\"lbl c0 trm \" ><span class=\"txtu\">vergaan </span></div><div class='features'><span class=\"trans xft\" ><span class=\"f\">trans=</span>vergaan</span></div></div><div class=\"contnr c0 trm   \" ><div class=\"lbl c0 trm \" ><span class=\"txtu\">ter </span></div><div class='features'><span class=\"trans xft\" ><span class=\"f\">trans=</span>ter</span></div></div><div class=\"contnr c0 trm   \" ><div class=\"lbl c0 trm \" ><span class=\"txtu\">kust </span></div><div class='features'><span class=\"trans xft\" ><span class=\"f\">trans=</span>kust</span></div></div><div class=\"contnr c0 trm   \" ><div class=\"lbl c0 trm \" ><span class=\"txtu\">van </span></div><div class='features'><span class=\"trans xft\" ><span class=\"f\">trans=</span>van</span></div></div><div class=\"contnr c0 trm   \" ><div class=\"lbl c0 trm \" ><span class=\"txtu\">Quinam, </span></div><div class='features'><span class=\"entityid xft\" ><span class=\"f\">entityId=</span>e_2_12_32</span><span class=\"entitykind xft\" ><span class=\"f\">entityKind=</span>LOC</span><span class=\"trans xft\" ><span class=\"f\">trans=</span>Quinam</span></div></div><div class=\"contnr c0 trm   \" ><div class=\"lbl c0 trm \" ><span class=\"txtu\">en </span></div><div class='features'><span class=\"trans xft\" ><span class=\"f\">trans=</span>en</span></div></div></div></div></div>"
      ],
      "text/plain": [
       "<IPython.core.display.HTML object>"
      ]
     },
     "metadata": {},
     "output_type": "display_data"
    },
    {
     "data": {
      "text/markdown": [
       "#### A2: case 2: Prinseneilanden as LOC: 4 occurrences\n",
       "\n"
      ],
      "text/plain": [
       "<IPython.core.display.Markdown object>"
      ]
     },
     "metadata": {},
     "output_type": "display_data"
    },
    {
     "data": {
      "text/html": [
       "<p><b>result</b> <i>1</i>"
      ],
      "text/plain": [
       "<IPython.core.display.HTML object>"
      ]
     },
     "metadata": {},
     "output_type": "display_data"
    },
    {
     "data": {
      "text/html": [
       "<div class=\"tfsechead \"><span class=\"ltr\"><a target=\"_blank\" href=\"http://resources.huygens.knaw.nl/retroboeken/generalemissiven/#page=458&amp;source=2\" title=\"Show this document on Huygens\" sec=\"2 445:5\">2 445:5</a></span></div><div class=\" children\"><div class=\"contnr c3    \" ><div class=\"lbl c3  \" ><span class=\"nd\">line</span></div><div class=\"children hor wrap \"><div class=\"contnr c0 trm   \" ><div class=\"lbl c0 trm \" ><span class=\"txtu\">De </span></div><div class='features'><span class=\"trans xft\" ><span class=\"f\">trans=</span>De</span></div></div><div class=\"contnr c0 trm   \" ><div class=\"lbl c0 trm \" ><span class=\"txtu\">voorafgaande </span></div><div class='features'><span class=\"trans xft\" ><span class=\"f\">trans=</span>voorafgaande</span></div></div><div class=\"contnr c0 trm   \" ><div class=\"lbl c0 trm \" ><span class=\"txtu\">zeven </span></div><div class='features'><span class=\"trans xft\" ><span class=\"f\">trans=</span>zeven</span></div></div><div class=\"contnr c0 trm   \" ><div class=\"lbl c0 trm \" ><span class=\"txtu\">retourschepen </span></div><div class='features'><span class=\"trans xft\" ><span class=\"f\">trans=</span>retourschepen</span></div></div><div class=\"contnr c0 trm   \" ><div class=\"lbl c0 trm \" ><span class=\"txtu\">zijn </span></div><div class='features'><span class=\"trans xft\" ><span class=\"f\">trans=</span>zijn</span></div></div><div class=\"contnr c0 trm   \" ><div class=\"lbl c0 trm \" ><span class=\"txtu\">13 </span></div><div class='features'><span class=\"trans xft\" ><span class=\"f\">trans=</span>13</span></div></div><div class=\"contnr c0 trm   \" ><div class=\"lbl c0 trm \" ><span class=\"txtu\">dec. </span></div><div class='features'><span class=\"trans xft\" ><span class=\"f\">trans=</span>dec</span></div></div><div class=\"contnr c0 trm   \" ><div class=\"lbl c0 trm \" ><span class=\"txtu\">voorbij </span></div><div class='features'><span class=\"trans xft\" ><span class=\"f\">trans=</span>voorbij</span></div></div><div class=\"contnr c0 trm   \" ><div class=\"lbl c0 trm \" ><span class=\"txtu\">de </span></div><div class='features'><span class=\"trans xft\" ><span class=\"f\">trans=</span>de</span></div></div><div class=\"contnr c0 trm   hl\" ><div class=\"lbl c0 trm hl\" ><span class=\"txtu\">Prinseneilanden </span></div><div class='features'><span class=\"entityid xft\" ><span class=\"f\">entityId=</span>e_2_37_19</span><span class=\"entitykind xft\" ><span class=\"f\">entityKind=</span>LOC</span><span class=\"trans xft\" ><span class=\"f\">trans=</span>Prinseneilanden</span></div></div><div class=\"contnr c0 trm   \" ><div class=\"lbl c0 trm \" ><span class=\"txtu\">in </span></div><div class='features'><span class=\"trans xft\" ><span class=\"f\">trans=</span>in</span></div></div></div></div></div>"
      ],
      "text/plain": [
       "<IPython.core.display.HTML object>"
      ]
     },
     "metadata": {},
     "output_type": "display_data"
    },
    {
     "data": {
      "text/markdown": [
       "#### A2: case 2: Prinseneilanden as SHP: 1 occurrence\n",
       "\n"
      ],
      "text/plain": [
       "<IPython.core.display.Markdown object>"
      ]
     },
     "metadata": {},
     "output_type": "display_data"
    },
    {
     "data": {
      "text/html": [
       "<p><b>result</b> <i>1</i>"
      ],
      "text/plain": [
       "<IPython.core.display.HTML object>"
      ]
     },
     "metadata": {},
     "output_type": "display_data"
    },
    {
     "data": {
      "text/html": [
       "<div class=\"tfsechead \"><span class=\"ltr\"><a target=\"_blank\" href=\"http://resources.huygens.knaw.nl/retroboeken/generalemissiven/#page=174&amp;source=5\" title=\"Show this document on Huygens\" sec=\"5 159:18\">5 159:18</a></span></div><div class=\" children\"><div class=\"contnr c3    \" ><div class=\"lbl c3  \" ><span class=\"nd\">line</span></div><div class=\"children hor wrap \"><div class=\"contnr c0 trm   \" ><div class=\"lbl c0 trm \" ><span class=\"txtu\">De </span></div><div class='features'><span class=\"trans xft\" ><span class=\"f\">trans=</span>De</span></div></div><div class=\"contnr c0 trm   \" ><div class=\"lbl c0 trm \" ><span class=\"txtu\">andere </span></div><div class='features'><span class=\"trans xft\" ><span class=\"f\">trans=</span>andere</span></div></div><div class=\"contnr c0 trm   \" ><div class=\"lbl c0 trm \" ><span class=\"txtu\">schepen </span></div><div class='features'><span class=\"trans xft\" ><span class=\"f\">trans=</span>schepen</span></div></div><div class=\"contnr c0 trm   \" ><div class=\"lbl c0 trm \" ><span class=\"txtu\">kwamen </span></div><div class='features'><span class=\"trans xft\" ><span class=\"f\">trans=</span>kwamen</span></div></div><div class=\"contnr c0 trm   \" ><div class=\"lbl c0 trm \" ><span class=\"txtu\">3 </span></div><div class='features'><span class=\"trans xft\" ><span class=\"f\">trans=</span>3</span></div></div><div class=\"contnr c0 trm   \" ><div class=\"lbl c0 trm \" ><span class=\"txtu\">jan. </span></div><div class='features'><span class=\"trans xft\" ><span class=\"f\">trans=</span>jan</span></div></div><div class=\"contnr c0 trm   \" ><div class=\"lbl c0 trm \" ><span class=\"txtu\">bij </span></div><div class='features'><span class=\"trans xft\" ><span class=\"f\">trans=</span>bij</span></div></div><div class=\"contnr c0 trm   \" ><div class=\"lbl c0 trm \" ><span class=\"txtu\">de </span></div><div class='features'><span class=\"trans xft\" ><span class=\"f\">trans=</span>de</span></div></div><div class=\"contnr c0 trm   hl\" ><div class=\"lbl c0 trm hl\" ><span class=\"txtu\">Prinseneilanden; </span></div><div class='features'><span class=\"entityid xft\" ><span class=\"f\">entityId=</span>e_5_6_40</span><span class=\"entitykind xft\" ><span class=\"f\">entityKind=</span>SHP</span><span class=\"trans xft\" ><span class=\"f\">trans=</span>Prinseneilanden</span></div></div><div class=\"contnr c0 trm   \" ><div class=\"lbl c0 trm \" ><span class=\"txtu\">de </span></div><div class='features'><span class=\"trans xft\" ><span class=\"f\">trans=</span>de</span></div></div><div class=\"contnr c0 trm   \" ><div class=\"lbl c0 trm \" ><span class=\"txtu\">Goudestein </span></div><div class='features'><span class=\"entityid xft\" ><span class=\"f\">entityId=</span>e_5_6_41</span><span class=\"entitykind xft\" ><span class=\"f\">entityKind=</span>SHP</span><span class=\"trans xft\" ><span class=\"f\">trans=</span>Goudestein</span></div></div><div class=\"contnr c0 trm   \" ><div class=\"lbl c0 trm \" ><span class=\"txtu\">werd </span></div><div class='features'><span class=\"trans xft\" ><span class=\"f\">trans=</span>werd</span></div></div></div></div></div>"
      ],
      "text/plain": [
       "<IPython.core.display.HTML object>"
      ]
     },
     "metadata": {},
     "output_type": "display_data"
    },
    {
     "data": {
      "text/markdown": [
       "#### A2: case 3: Namrud as LOC: 1 occurrence\n",
       "\n"
      ],
      "text/plain": [
       "<IPython.core.display.Markdown object>"
      ]
     },
     "metadata": {},
     "output_type": "display_data"
    },
    {
     "data": {
      "text/html": [
       "<p><b>result</b> <i>1</i>"
      ],
      "text/plain": [
       "<IPython.core.display.HTML object>"
      ]
     },
     "metadata": {},
     "output_type": "display_data"
    },
    {
     "data": {
      "text/html": [
       "<div class=\"tfsechead \"><span class=\"ltr\"><a target=\"_blank\" href=\"http://resources.huygens.knaw.nl/retroboeken/generalemissiven/#page=507&amp;source=4\" title=\"Show this document on Huygens\" sec=\"4 492:6\">4 492:6</a></span></div><div class=\" children\"><div class=\"contnr c3    \" ><div class=\"lbl c3  \" ><span class=\"nd\">line</span></div><div class=\"children hor wrap \"><div class=\"contnr c0 trm   \" ><div class=\"lbl c0 trm \" ><span class=\"txtu\">van </span></div><div class='features'><span class=\"trans xft\" ><span class=\"f\">trans=</span>van</span></div></div><div class=\"contnr c0 trm   hl\" ><div class=\"lbl c0 trm hl\" ><span class=\"txtu\">Namrud , </span></div><div class='features'><span class=\"entityid xft\" ><span class=\"f\">entityId=</span>e_4_37_17</span><span class=\"entitykind xft\" ><span class=\"f\">entityKind=</span>LOC</span><span class=\"trans xft\" ><span class=\"f\">trans=</span>Namrud</span></div></div><div class=\"contnr c0 trm   \" ><div class=\"lbl c0 trm \" ><span class=\"txtu\">die </span></div><div class='features'><span class=\"trans xft\" ><span class=\"f\">trans=</span>die</span></div></div><div class=\"contnr c0 trm   \" ><div class=\"lbl c0 trm \" ><span class=\"txtu\">te </span></div><div class='features'><span class=\"trans xft\" ><span class=\"f\">trans=</span>te</span></div></div><div class=\"contnr c0 trm   \" ><div class=\"lbl c0 trm \" ><span class=\"txtu\">Masir </span></div><div class='features'><span class=\"entityid xft\" ><span class=\"f\">entityId=</span>e_4_37_18</span><span class=\"entitykind xft\" ><span class=\"f\">entityKind=</span>LOC</span><span class=\"trans xft\" ><span class=\"f\">trans=</span>Masir</span></div></div><div class=\"contnr c0 trm   \" ><div class=\"lbl c0 trm \" ><span class=\"txtu\">sneuvelden, </span></div><div class='features'><span class=\"trans xft\" ><span class=\"f\">trans=</span>sneuvelden</span></div></div><div class=\"contnr c0 trm   \" ><div class=\"lbl c0 trm \" ><span class=\"txtu\">waren </span></div><div class='features'><span class=\"trans xft\" ><span class=\"f\">trans=</span>waren</span></div></div><div class=\"contnr c0 trm   \" ><div class=\"lbl c0 trm \" ><span class=\"txtu\">500 </span></div><div class='features'><span class=\"trans xft\" ><span class=\"f\">trans=</span>500</span></div></div><div class=\"contnr c0 trm   \" ><div class=\"lbl c0 trm \" ><span class=\"txtu\">vrouwen, </span></div><div class='features'><span class=\"trans xft\" ><span class=\"f\">trans=</span>vrouwen</span></div></div><div class=\"contnr c0 trm   \" ><div class=\"lbl c0 trm \" ><span class=\"txtu\">die </span></div><div class='features'><span class=\"trans xft\" ><span class=\"f\">trans=</span>die</span></div></div><div class=\"contnr c0 trm   \" ><div class=\"lbl c0 trm \" ><span class=\"txtu\">medestreden ; </span></div><div class='features'><span class=\"trans xft\" ><span class=\"f\">trans=</span>medestreden</span></div></div></div></div></div>"
      ],
      "text/plain": [
       "<IPython.core.display.HTML object>"
      ]
     },
     "metadata": {},
     "output_type": "display_data"
    },
    {
     "data": {
      "text/markdown": [
       "#### A2: case 3: Namrud as PER: 2 occurrences\n",
       "\n"
      ],
      "text/plain": [
       "<IPython.core.display.Markdown object>"
      ]
     },
     "metadata": {},
     "output_type": "display_data"
    },
    {
     "data": {
      "text/html": [
       "<p><b>result</b> <i>1</i>"
      ],
      "text/plain": [
       "<IPython.core.display.HTML object>"
      ]
     },
     "metadata": {},
     "output_type": "display_data"
    },
    {
     "data": {
      "text/html": [
       "<div class=\"tfsechead \"><span class=\"ltr\"><a target=\"_blank\" href=\"http://resources.huygens.knaw.nl/retroboeken/generalemissiven/#page=496&amp;source=4\" title=\"Show this document on Huygens\" sec=\"4 481:20\">4 481:20</a></span></div><div class=\" children\"><div class=\"contnr c3    \" ><div class=\"lbl c3  \" ><span class=\"nd\">line</span></div><div class=\"children hor wrap \"><div class=\"contnr c0 trm   \" ><div class=\"lbl c0 trm \" ><span class=\"txtu\">roet </span></div><div class='features'><span class=\"entityid xft\" ><span class=\"f\">entityId=</span>e_4_33_30</span><span class=\"entitykind xft\" ><span class=\"f\">entityKind=</span>LOC</span><span class=\"trans xft\" ><span class=\"f\">trans=</span>roet</span></div></div><div class=\"contnr c0 trm   hl\" ><div class=\"lbl c0 trm hl\" ><span class=\"txtu\">Namrud, </span></div><div class='features'><span class=\"entityid xft\" ><span class=\"f\">entityId=</span>e_4_33_33</span><span class=\"entitykind xft\" ><span class=\"f\">entityKind=</span>PER</span><span class=\"trans xft\" ><span class=\"f\">trans=</span>Namrud</span></div></div><div class=\"contnr c0 trm   \" ><div class=\"lbl c0 trm \" ><span class=\"txtu\">Balisch </span></div><div class='features'><span class=\"entityid xft\" ><span class=\"f\">entityId=</span>e_4_33_34</span><span class=\"entitykind xft\" ><span class=\"f\">entityKind=</span>LOCderiv</span><span class=\"trans xft\" ><span class=\"f\">trans=</span>Balisch</span></div></div><div class=\"contnr c0 trm   \" ><div class=\"lbl c0 trm \" ><span class=\"txtu\">avonturier, </span></div><div class='features'><span class=\"trans xft\" ><span class=\"f\">trans=</span>avonturier</span></div></div><div class=\"contnr c0 trm   \" ><div class=\"lbl c0 trm \" ><span class=\"txtu\">die </span></div><div class='features'><span class=\"trans xft\" ><span class=\"f\">trans=</span>die</span></div></div><div class=\"contnr c0 trm   \" ><div class=\"lbl c0 trm \" ><span class=\"txtu\">in </span></div><div class='features'><span class=\"trans xft\" ><span class=\"f\">trans=</span>in</span></div></div><div class=\"contnr c0 trm   \" ><div class=\"lbl c0 trm \" ><span class=\"txtu\">de </span></div><div class='features'><span class=\"trans xft\" ><span class=\"f\">trans=</span>de</span></div></div><div class=\"contnr c0 trm   \" ><div class=\"lbl c0 trm \" ><span class=\"txtu\">oorlogen </span></div><div class='features'><span class=\"trans xft\" ><span class=\"f\">trans=</span>oorlogen</span></div></div><div class=\"contnr c0 trm   \" ><div class=\"lbl c0 trm \" ><span class=\"txtu\">in </span></div><div class='features'><span class=\"trans xft\" ><span class=\"f\">trans=</span>in</span></div></div><div class=\"contnr c0 trm   \" ><div class=\"lbl c0 trm \" ><span class=\"txtu\">Mataram </span></div><div class='features'><span class=\"entityid xft\" ><span class=\"f\">entityId=</span>e_4_33_35</span><span class=\"entitykind xft\" ><span class=\"f\">entityKind=</span>LOC</span><span class=\"trans xft\" ><span class=\"f\">trans=</span>Mataram</span></div></div><div class=\"contnr c0 trm   \" ><div class=\"lbl c0 trm \" ><span class=\"txtu\">opkwam </span></div><div class='features'><span class=\"trans xft\" ><span class=\"f\">trans=</span>opkwam</span></div></div><div class=\"contnr c0 trm   \" ><div class=\"lbl c0 trm \" ><span class=\"txtu\">en </span></div><div class='features'><span class=\"trans xft\" ><span class=\"f\">trans=</span>en</span></div></div><div class=\"contnr c0 trm   \" ><div class=\"lbl c0 trm \" ><span class=\"txtu\">door </span></div><div class='features'><span class=\"trans xft\" ><span class=\"f\">trans=</span>door</span></div></div><div class=\"contnr c0 trm   \" ><div class=\"lbl c0 trm \" ><span class=\"txtu\">huwelijk </span></div><div class='features'><span class=\"trans xft\" ><span class=\"f\">trans=</span>huwelijk</span></div></div></div></div></div>"
      ],
      "text/plain": [
       "<IPython.core.display.HTML object>"
      ]
     },
     "metadata": {},
     "output_type": "display_data"
    },
    {
     "data": {
      "text/markdown": [
       "### B1: 3113 words\n",
       "\n"
      ],
      "text/plain": [
       "<IPython.core.display.Markdown object>"
      ]
     },
     "metadata": {},
     "output_type": "display_data"
    },
    {
     "data": {
      "text/markdown": [
       "#### B1: case 1: Aan as None: 958 occurrences\n",
       "\n"
      ],
      "text/plain": [
       "<IPython.core.display.Markdown object>"
      ]
     },
     "metadata": {},
     "output_type": "display_data"
    },
    {
     "data": {
      "text/html": [
       "<p><b>result</b> <i>1</i>"
      ],
      "text/plain": [
       "<IPython.core.display.HTML object>"
      ]
     },
     "metadata": {},
     "output_type": "display_data"
    },
    {
     "data": {
      "text/html": [
       "<div class=\"tfsechead \"><span class=\"ltr\"><a target=\"_blank\" href=\"http://resources.huygens.knaw.nl/retroboeken/generalemissiven/#page=26&amp;source=1\" title=\"Show this document on Huygens\" sec=\"1 3:1\">1 3:1</a></span></div><div class=\" children\"><div class=\"contnr c3    \" ><div class=\"lbl c3  \" ><span class=\"nd\">line</span></div><div class='features'><span class=\"entityid xft\" ><span class=\"f\">entityId=</span>e_14_9_45</span><span class=\"entitykind xft\" ><span class=\"f\">entityKind=</span>LOC</span></div><div class=\"children hor wrap \"><div class=\"contnr c0 trm   \" ><div class=\"lbl c0 trm \" ><span class=\"txtu\">I. </span></div><div class='features'><span class=\"trans xft\" ><span class=\"f\">trans=</span>I</span></div></div><div class=\"contnr c0 trm   \" ><div class=\"lbl c0 trm \" ><span class=\"txtu\">PIETER </span></div><div class='features'><span class=\"entityid xft\" ><span class=\"f\">entityId=</span>e_1_1_1</span><span class=\"entitykind xft\" ><span class=\"f\">entityKind=</span>PER</span><span class=\"trans xft\" ><span class=\"f\">trans=</span>PIETER</span></div></div><div class=\"contnr c0 trm   \" ><div class=\"lbl c0 trm \" ><span class=\"txtu\">BOTH, </span></div><div class='features'><span class=\"entityid xft\" ><span class=\"f\">entityId=</span>e_1_1_1</span><span class=\"entitykind xft\" ><span class=\"f\">entityKind=</span>PER</span><span class=\"trans xft\" ><span class=\"f\">trans=</span>BOTH</span></div></div><div class=\"contnr c0 trm   hl\" ><div class=\"lbl c0 trm hl\" ><span class=\"txtu\">AAN </span></div><div class='features'><span class=\"trans xft\" ><span class=\"f\">trans=</span>AAN</span></div></div><div class=\"contnr c0 trm   \" ><div class=\"lbl c0 trm \" ><span class=\"txtu\">BOORD </span></div><div class='features'><span class=\"trans xft\" ><span class=\"f\">trans=</span>BOORD</span></div></div><div class=\"contnr c0 trm   \" ><div class=\"lbl c0 trm \" ><span class=\"txtu\">VAN </span></div><div class='features'><span class=\"trans xft\" ><span class=\"f\">trans=</span>VAN</span></div></div><div class=\"contnr c0 trm   \" ><div class=\"lbl c0 trm \" ><span class=\"txtu\">HET </span></div><div class='features'><span class=\"trans xft\" ><span class=\"f\">trans=</span>HET</span></div></div><div class=\"contnr c0 trm   \" ><div class=\"lbl c0 trm \" ><span class=\"txtu\">WAPEN </span></div><div class='features'><span class=\"trans xft\" ><span class=\"f\">trans=</span>WAPEN</span></div></div><div class=\"contnr c0 trm   \" ><div class=\"lbl c0 trm \" ><span class=\"txtu\">VAN </span></div><div class='features'><span class=\"trans xft\" ><span class=\"f\">trans=</span>VAN</span></div></div><div class=\"contnr c0 trm   \" ><div class=\"lbl c0 trm \" ><span class=\"txtu\">AMSTERDAM, </span></div><div class='features'><span class=\"entityid xft\" ><span class=\"f\">entityId=</span>e_1_1_2</span><span class=\"entitykind xft\" ><span class=\"f\">entityKind=</span>SHP</span><span class=\"trans xft\" ><span class=\"f\">trans=</span>AMSTERDAM</span></div></div></div></div></div>"
      ],
      "text/plain": [
       "<IPython.core.display.HTML object>"
      ]
     },
     "metadata": {},
     "output_type": "display_data"
    },
    {
     "data": {
      "text/markdown": [
       "#### B1: case 1: Aan as PER: 5 occurrences\n",
       "\n"
      ],
      "text/plain": [
       "<IPython.core.display.Markdown object>"
      ]
     },
     "metadata": {},
     "output_type": "display_data"
    },
    {
     "data": {
      "text/html": [
       "<p><b>result</b> <i>1</i>"
      ],
      "text/plain": [
       "<IPython.core.display.HTML object>"
      ]
     },
     "metadata": {},
     "output_type": "display_data"
    },
    {
     "data": {
      "text/html": [
       "<div class=\"tfsechead \"><span class=\"ltr\"><a target=\"_blank\" href=\"http://resources.huygens.knaw.nl/retroboeken/generalemissiven/#page=269&amp;source=9\" title=\"Show this document on Huygens\" sec=\"9 256:4\">9 256:4</a></span></div><div class=\" children\"><div class=\"contnr c3    \" ><div class=\"lbl c3  \" ><span class=\"nd\">line</span></div><div class=\"children hor wrap \"><div class=\"contnr c0 trm   \" ><div class=\"lbl c0 trm \" ><span class=\"txtu\">ADRI </span></div><div class='features'><span class=\"entityid xft\" ><span class=\"f\">entityId=</span>e_9_16_18</span><span class=\"entitykind xft\" ><span class=\"f\">entityKind=</span>PER</span><span class=\"trans xft\" ><span class=\"f\">trans=</span>ADRI</span></div></div><div class=\"contnr c0 trm   hl\" ><div class=\"lbl c0 trm hl\" ><span class=\"txtu\">AAN </span></div><div class='features'><span class=\"entityid xft\" ><span class=\"f\">entityId=</span>e_9_16_18</span><span class=\"entitykind xft\" ><span class=\"f\">entityKind=</span>PER</span><span class=\"trans xft\" ><span class=\"f\">trans=</span>AAN</span></div></div><div class=\"contnr c0 trm   \" ><div class=\"lbl c0 trm \" ><span class=\"txtu\">OOSTWALT, </span></div><div class='features'><span class=\"entityid xft\" ><span class=\"f\">entityId=</span>e_9_16_18</span><span class=\"entitykind xft\" ><span class=\"f\">entityKind=</span>PER</span><span class=\"trans xft\" ><span class=\"f\">trans=</span>OOSTWALT</span></div></div><div class=\"contnr c0 trm   \" ><div class=\"lbl c0 trm \" ><span class=\"txtu\">ADRIAAN </span></div><div class='features'><span class=\"entityid xft\" ><span class=\"f\">entityId=</span>e_9_16_20</span><span class=\"entitykind xft\" ><span class=\"f\">entityKind=</span>PER</span><span class=\"trans xft\" ><span class=\"f\">trans=</span>ADRIAAN</span></div></div><div class=\"contnr c0 trm   \" ><div class=\"lbl c0 trm \" ><span class=\"txtu\">VALCKENIER, </span></div><div class='features'><span class=\"entityid xft\" ><span class=\"f\">entityId=</span>e_9_16_20</span><span class=\"entitykind xft\" ><span class=\"f\">entityKind=</span>PER</span><span class=\"trans xft\" ><span class=\"f\">trans=</span>VALCKENIER</span></div></div><div class=\"contnr c0 trm   \" ><div class=\"lbl c0 trm \" ><span class=\"txtu\">DIRK </span></div><div class='features'><span class=\"entityid xft\" ><span class=\"f\">entityId=</span>e_9_16_22</span><span class=\"entitykind xft\" ><span class=\"f\">entityKind=</span>PER</span><span class=\"trans xft\" ><span class=\"f\">trans=</span>DIRK</span></div></div><div class=\"contnr c0 trm   \" ><div class=\"lbl c0 trm \" ><span class=\"txtu\">VAN </span></div><div class='features'><span class=\"entityid xft\" ><span class=\"f\">entityId=</span>e_9_16_22</span><span class=\"entitykind xft\" ><span class=\"f\">entityKind=</span>PER</span><span class=\"trans xft\" ><span class=\"f\">trans=</span>VAN</span></div></div><div class=\"contnr c0 trm   \" ><div class=\"lbl c0 trm \" ><span class=\"txtu\">CLOON, </span></div><div class='features'><span class=\"entityid xft\" ><span class=\"f\">entityId=</span>e_9_16_22</span><span class=\"entitykind xft\" ><span class=\"f\">entityKind=</span>PER</span><span class=\"trans xft\" ><span class=\"f\">trans=</span>CLOON</span></div></div><div class=\"contnr c0 trm   \" ><div class=\"lbl c0 trm \" ><span class=\"txtu\">JACOB </span></div><div class='features'><span class=\"entityid xft\" ><span class=\"f\">entityId=</span>e_9_16_23</span><span class=\"entitykind xft\" ><span class=\"f\">entityKind=</span>PER</span><span class=\"trans xft\" ><span class=\"f\">trans=</span>JACOB</span></div></div></div></div></div>"
      ],
      "text/plain": [
       "<IPython.core.display.HTML object>"
      ]
     },
     "metadata": {},
     "output_type": "display_data"
    },
    {
     "data": {
      "text/markdown": [
       "#### B1: case 2: Wapen as None: 150 occurrences\n",
       "\n"
      ],
      "text/plain": [
       "<IPython.core.display.Markdown object>"
      ]
     },
     "metadata": {},
     "output_type": "display_data"
    },
    {
     "data": {
      "text/html": [
       "<p><b>result</b> <i>1</i>"
      ],
      "text/plain": [
       "<IPython.core.display.HTML object>"
      ]
     },
     "metadata": {},
     "output_type": "display_data"
    },
    {
     "data": {
      "text/html": [
       "<div class=\"tfsechead \"><span class=\"ltr\"><a target=\"_blank\" href=\"http://resources.huygens.knaw.nl/retroboeken/generalemissiven/#page=26&amp;source=1\" title=\"Show this document on Huygens\" sec=\"1 3:1\">1 3:1</a></span></div><div class=\" children\"><div class=\"contnr c3    \" ><div class=\"lbl c3  \" ><span class=\"nd\">line</span></div><div class='features'><span class=\"entityid xft\" ><span class=\"f\">entityId=</span>e_14_9_45</span><span class=\"entitykind xft\" ><span class=\"f\">entityKind=</span>LOC</span></div><div class=\"children hor wrap \"><div class=\"contnr c0 trm   \" ><div class=\"lbl c0 trm \" ><span class=\"txtu\">I. </span></div><div class='features'><span class=\"trans xft\" ><span class=\"f\">trans=</span>I</span></div></div><div class=\"contnr c0 trm   \" ><div class=\"lbl c0 trm \" ><span class=\"txtu\">PIETER </span></div><div class='features'><span class=\"entityid xft\" ><span class=\"f\">entityId=</span>e_1_1_1</span><span class=\"entitykind xft\" ><span class=\"f\">entityKind=</span>PER</span><span class=\"trans xft\" ><span class=\"f\">trans=</span>PIETER</span></div></div><div class=\"contnr c0 trm   \" ><div class=\"lbl c0 trm \" ><span class=\"txtu\">BOTH, </span></div><div class='features'><span class=\"entityid xft\" ><span class=\"f\">entityId=</span>e_1_1_1</span><span class=\"entitykind xft\" ><span class=\"f\">entityKind=</span>PER</span><span class=\"trans xft\" ><span class=\"f\">trans=</span>BOTH</span></div></div><div class=\"contnr c0 trm   \" ><div class=\"lbl c0 trm \" ><span class=\"txtu\">AAN </span></div><div class='features'><span class=\"trans xft\" ><span class=\"f\">trans=</span>AAN</span></div></div><div class=\"contnr c0 trm   \" ><div class=\"lbl c0 trm \" ><span class=\"txtu\">BOORD </span></div><div class='features'><span class=\"trans xft\" ><span class=\"f\">trans=</span>BOORD</span></div></div><div class=\"contnr c0 trm   \" ><div class=\"lbl c0 trm \" ><span class=\"txtu\">VAN </span></div><div class='features'><span class=\"trans xft\" ><span class=\"f\">trans=</span>VAN</span></div></div><div class=\"contnr c0 trm   \" ><div class=\"lbl c0 trm \" ><span class=\"txtu\">HET </span></div><div class='features'><span class=\"trans xft\" ><span class=\"f\">trans=</span>HET</span></div></div><div class=\"contnr c0 trm   hl\" ><div class=\"lbl c0 trm hl\" ><span class=\"txtu\">WAPEN </span></div><div class='features'><span class=\"trans xft\" ><span class=\"f\">trans=</span>WAPEN</span></div></div><div class=\"contnr c0 trm   \" ><div class=\"lbl c0 trm \" ><span class=\"txtu\">VAN </span></div><div class='features'><span class=\"trans xft\" ><span class=\"f\">trans=</span>VAN</span></div></div><div class=\"contnr c0 trm   \" ><div class=\"lbl c0 trm \" ><span class=\"txtu\">AMSTERDAM, </span></div><div class='features'><span class=\"entityid xft\" ><span class=\"f\">entityId=</span>e_1_1_2</span><span class=\"entitykind xft\" ><span class=\"f\">entityKind=</span>SHP</span><span class=\"trans xft\" ><span class=\"f\">trans=</span>AMSTERDAM</span></div></div></div></div></div>"
      ],
      "text/plain": [
       "<IPython.core.display.HTML object>"
      ]
     },
     "metadata": {},
     "output_type": "display_data"
    },
    {
     "data": {
      "text/markdown": [
       "#### B1: case 2: Wapen as SHP: 23 occurrences\n",
       "\n"
      ],
      "text/plain": [
       "<IPython.core.display.Markdown object>"
      ]
     },
     "metadata": {},
     "output_type": "display_data"
    },
    {
     "data": {
      "text/html": [
       "<p><b>result</b> <i>1</i>"
      ],
      "text/plain": [
       "<IPython.core.display.HTML object>"
      ]
     },
     "metadata": {},
     "output_type": "display_data"
    },
    {
     "data": {
      "text/html": [
       "<div class=\"tfsechead \"><span class=\"ltr\"><a target=\"_blank\" href=\"http://resources.huygens.knaw.nl/retroboeken/generalemissiven/#page=103&amp;source=1\" title=\"Show this document on Huygens\" sec=\"1 80:6\">1 80:6</a></span></div><div class=\" children\"><div class=\"contnr c3    \" ><div class=\"lbl c3  \" ><span class=\"nd\">line</span></div><div class=\"children hor wrap \"><div class=\"contnr c0 trm   \" ><div class=\"lbl c0 trm \" ><span class=\"txtu\">’t </span></div><div class='features'><span class=\"trans xft\" ><span class=\"f\">trans=</span>’t</span></div></div><div class=\"contnr c0 trm   \" ><div class=\"lbl c0 trm \" ><span class=\"txtu\">schip </span></div><div class='features'><span class=\"trans xft\" ><span class=\"f\">trans=</span>schip</span></div></div><div class=\"contnr c0 trm   \" ><div class=\"lbl c0 trm \" ><span class=\"txtu\">’t </span></div><div class='features'><span class=\"trans xft\" ><span class=\"f\">trans=</span>’t</span></div></div><div class=\"contnr c0 trm   hl\" ><div class=\"lbl c0 trm hl\" ><span class=\"txtu\">Wapen </span></div><div class='features'><span class=\"entityid xft\" ><span class=\"f\">entityId=</span>e_1_32_6</span><span class=\"entitykind xft\" ><span class=\"f\">entityKind=</span>SHP</span><span class=\"trans xft\" ><span class=\"f\">trans=</span>Wapen</span></div></div><div class=\"contnr c0 trm   \" ><div class=\"lbl c0 trm \" ><span class=\"txtu\">van </span></div><div class='features'><span class=\"entityid xft\" ><span class=\"f\">entityId=</span>e_1_32_6</span><span class=\"entitykind xft\" ><span class=\"f\">entityKind=</span>SHP</span><span class=\"trans xft\" ><span class=\"f\">trans=</span>van</span></div></div><div class=\"contnr c0 trm   \" ><div class=\"lbl c0 trm \" ><span class=\"txtu\">Zeelandt </span></div><div class='features'><span class=\"entityid xft\" ><span class=\"f\">entityId=</span>e_1_32_6</span><span class=\"entitykind xft\" ><span class=\"f\">entityKind=</span>SHP</span><span class=\"trans xft\" ><span class=\"f\">trans=</span>Zeelandt</span></div></div><div class=\"contnr c0 trm   \" ><div class=\"lbl c0 trm \" ><span class=\"txtu\">met </span></div><div class='features'><span class=\"trans xft\" ><span class=\"f\">trans=</span>met</span></div></div><div class=\"contnr c0 trm   \" ><div class=\"lbl c0 trm \" ><span class=\"txtu\">een </span></div><div class='features'><span class=\"trans xft\" ><span class=\"f\">trans=</span>een</span></div></div><div class=\"contnr c0 trm   \" ><div class=\"lbl c0 trm \" ><span class=\"txtu\">goede </span></div><div class='features'><span class=\"trans xft\" ><span class=\"f\">trans=</span>goede</span></div></div><div class=\"contnr c0 trm   \" ><div class=\"lbl c0 trm \" ><span class=\"txtu\">quantiteyt </span></div><div class='features'><span class=\"trans xft\" ><span class=\"f\">trans=</span>quantiteyt</span></div></div><div class=\"contnr c0 trm   \" ><div class=\"lbl c0 trm \" ><span class=\"txtu\">peper </span></div><div class='features'><span class=\"trans xft\" ><span class=\"f\">trans=</span>peper</span></div></div><div class=\"contnr c0 trm   \" ><div class=\"lbl c0 trm \" ><span class=\"txtu\">hebben </span></div><div class='features'><span class=\"trans xft\" ><span class=\"f\">trans=</span>hebben</span></div></div><div class=\"contnr c0 trm   \" ><div class=\"lbl c0 trm \" ><span class=\"txtu\">becomen, </span></div><div class='features'><span class=\"trans xft\" ><span class=\"f\">trans=</span>becomen</span></div></div></div></div></div>"
      ],
      "text/plain": [
       "<IPython.core.display.HTML object>"
      ]
     },
     "metadata": {},
     "output_type": "display_data"
    },
    {
     "data": {
      "text/markdown": [
       "#### B1: case 3: Ile as None: 2 occurrences\n",
       "\n"
      ],
      "text/plain": [
       "<IPython.core.display.Markdown object>"
      ]
     },
     "metadata": {},
     "output_type": "display_data"
    },
    {
     "data": {
      "text/html": [
       "<p><b>result</b> <i>1</i>"
      ],
      "text/plain": [
       "<IPython.core.display.HTML object>"
      ]
     },
     "metadata": {},
     "output_type": "display_data"
    },
    {
     "data": {
      "text/html": [
       "<div class=\"tfsechead \"><span class=\"ltr\"><a target=\"_blank\" href=\"http://resources.huygens.knaw.nl/retroboeken/generalemissiven/#page=26&amp;source=1\" title=\"Show this document on Huygens\" sec=\"1 3:2\">1 3:2</a></span></div><div class=\" children\"><div class=\"contnr c3    \" ><div class=\"lbl c3  \" ><span class=\"nd\">line</span></div><div class='features'><span class=\"entityid xft\" ><span class=\"f\">entityId=</span>e_14_10_44</span><span class=\"entitykind xft\" ><span class=\"f\">entityKind=</span>ORG</span></div><div class=\"children hor wrap \"><div class=\"contnr c0 trm   \" ><div class=\"lbl c0 trm \" ><span class=\"txtu\">VOOR </span></div><div class='features'><span class=\"trans xft\" ><span class=\"f\">trans=</span>VOOR</span></div></div><div class=\"contnr c0 trm   hl\" ><div class=\"lbl c0 trm hl\" ><span class=\"txtu\">ILE </span></div><div class='features'><span class=\"trans xft\" ><span class=\"f\">trans=</span>ILE</span></div></div><div class=\"contnr c0 trm   \" ><div class=\"lbl c0 trm \" ><span class=\"txtu\">DE </span></div><div class='features'><span class=\"entityid xft\" ><span class=\"f\">entityId=</span>e_1_1_3</span><span class=\"entitykind xft\" ><span class=\"f\">entityKind=</span>LOC</span><span class=\"trans xft\" ><span class=\"f\">trans=</span>DE</span></div></div><div class=\"contnr c0 trm   \" ><div class=\"lbl c0 trm \" ><span class=\"txtu\">MAYO </span></div><div class='features'><span class=\"entityid xft\" ><span class=\"f\">entityId=</span>e_1_1_3</span><span class=\"entitykind xft\" ><span class=\"f\">entityKind=</span>LOC</span><span class=\"trans xft\" ><span class=\"f\">trans=</span>MAYO</span></div></div><div class=\"contnr c0 trm   \" ><div class=\"lbl c0 trm \" ><span class=\"txtu\">De </span></div><div class='features'><span class=\"trans xft\" ><span class=\"f\">trans=</span>De</span></div></div><div class=\"contnr c0 trm   \" ><div class=\"lbl c0 trm \" ><span class=\"txtu\">eerste </span></div><div class='features'><span class=\"trans xft\" ><span class=\"f\">trans=</span>eerste</span></div></div><div class=\"contnr c0 trm   \" ><div class=\"lbl c0 trm \" ><span class=\"txtu\">drie </span></div><div class='features'><span class=\"trans xft\" ><span class=\"f\">trans=</span>drie</span></div></div><div class=\"contnr c0 trm   \" ><div class=\"lbl c0 trm \" ><span class=\"txtu\">brieven, </span></div><div class='features'><span class=\"trans xft\" ><span class=\"f\">trans=</span>brieven</span></div></div><div class=\"contnr c0 trm   \" ><div class=\"lbl c0 trm \" ><span class=\"txtu\">door </span></div><div class='features'><span class=\"trans xft\" ><span class=\"f\">trans=</span>door</span></div></div><div class=\"contnr c0 trm   \" ><div class=\"lbl c0 trm \" ><span class=\"txtu\">Both </span></div><div class='features'><span class=\"entityid xft\" ><span class=\"f\">entityId=</span>e_1_1_4</span><span class=\"entitykind xft\" ><span class=\"f\">entityKind=</span>PER</span><span class=\"trans xft\" ><span class=\"f\">trans=</span>Both</span></div></div><div class=\"contnr c0 trm   \" ><div class=\"lbl c0 trm \" ><span class=\"txtu\">op </span></div><div class='features'><span class=\"trans xft\" ><span class=\"f\">trans=</span>op</span></div></div><div class=\"contnr c0 trm   \" ><div class=\"lbl c0 trm \" ><span class=\"txtu\">reis </span></div><div class='features'><span class=\"trans xft\" ><span class=\"f\">trans=</span>reis</span></div></div><div class=\"contnr c0 trm   \" ><div class=\"lbl c0 trm \" ><span class=\"txtu\">naar </span></div><div class='features'><span class=\"trans xft\" ><span class=\"f\">trans=</span>naar</span></div></div><div class=\"contnr c0 trm   \" ><div class=\"lbl c0 trm \" ><span class=\"txtu\">Indië </span></div><div class='features'><span class=\"entityid xft\" ><span class=\"f\">entityId=</span>e_1_1_5</span><span class=\"entitykind xft\" ><span class=\"f\">entityKind=</span>LOC</span><span class=\"trans xft\" ><span class=\"f\">trans=</span>Indië</span></div></div><div class=\"contnr c0 trm   \" ><div class=\"lbl c0 trm \" ><span class=\"txtu\">geschrovon, </span></div><div class='features'><span class=\"trans xft\" ><span class=\"f\">trans=</span>geschrovon</span></div></div><div class=\"contnr c0 trm   \" ><div class=\"lbl c0 trm \" ><span class=\"txtu\">wijken </span></div><div class='features'><span class=\"trans xft\" ><span class=\"f\">trans=</span>wijken</span></div></div><div class=\"contnr c0 trm   \" ><div class=\"lbl c0 trm \" ><span class=\"txtu\">niet </span></div><div class='features'><span class=\"trans xft\" ><span class=\"f\">trans=</span>niet</span></div></div><div class=\"contnr c0 trm   \" ><div class=\"lbl c0 trm \" ><span class=\"txtu\">af </span></div><div class='features'><span class=\"trans xft\" ><span class=\"f\">trans=</span>af</span></div></div><div class=\"contnr c0 trm   \" ><div class=\"lbl c0 trm \" ><span class=\"txtu\">van </span></div><div class='features'><span class=\"trans xft\" ><span class=\"f\">trans=</span>van</span></div></div></div></div></div>"
      ],
      "text/plain": [
       "<IPython.core.display.HTML object>"
      ]
     },
     "metadata": {},
     "output_type": "display_data"
    },
    {
     "data": {
      "text/markdown": [
       "#### B1: case 3: Ile as LOC: 1 occurrence\n",
       "\n"
      ],
      "text/plain": [
       "<IPython.core.display.Markdown object>"
      ]
     },
     "metadata": {},
     "output_type": "display_data"
    },
    {
     "data": {
      "text/html": [
       "<p><b>result</b> <i>1</i>"
      ],
      "text/plain": [
       "<IPython.core.display.HTML object>"
      ]
     },
     "metadata": {},
     "output_type": "display_data"
    },
    {
     "data": {
      "text/html": [
       "<div class=\"tfsechead \"><span class=\"ltr\"><a target=\"_blank\" href=\"http://resources.huygens.knaw.nl/retroboeken/generalemissiven/#page=26&amp;source=1\" title=\"Show this document on Huygens\" sec=\"1 3:4\">1 3:4</a></span></div><div class=\" children\"><div class=\"contnr c3    \" ><div class=\"lbl c3  \" ><span class=\"nd\">line</span></div><div class='features'><span class=\"entityid xft\" ><span class=\"f\">entityId=</span>e_14_12_48</span><span class=\"entitykind xft\" ><span class=\"f\">entityKind=</span>LOC</span></div><div class=\"children hor wrap \"><div class=\"contnr c0 trm   \" ><div class=\"lbl c0 trm \" ><span class=\"txtu\">Generaal </span></div><div class='features'><span class=\"trans xft\" ><span class=\"f\">trans=</span>Generaal</span></div></div><div class=\"contnr c0 trm   \" ><div class=\"lbl c0 trm \" ><span class=\"txtu\">aan </span></div><div class='features'><span class=\"trans xft\" ><span class=\"f\">trans=</span>aan</span></div></div><div class=\"contnr c0 trm   \" ><div class=\"lbl c0 trm \" ><span class=\"txtu\">boord </span></div><div class='features'><span class=\"trans xft\" ><span class=\"f\">trans=</span>boord</span></div></div><div class=\"contnr c0 trm   \" ><div class=\"lbl c0 trm \" ><span class=\"txtu\">vertoefde, </span></div><div class='features'><span class=\"trans xft\" ><span class=\"f\">trans=</span>vertoefde</span></div></div><div class=\"contnr c0 trm   \" ><div class=\"lbl c0 trm \" ><span class=\"txtu\">verandert </span></div><div class='features'><span class=\"trans xft\" ><span class=\"f\">trans=</span>verandert</span></div></div><div class=\"contnr c0 trm   \" ><div class=\"lbl c0 trm \" ><span class=\"txtu\">daaraan </span></div><div class='features'><span class=\"trans xft\" ><span class=\"f\">trans=</span>daaraan</span></div></div><div class=\"contnr c0 trm   \" ><div class=\"lbl c0 trm \" ><span class=\"txtu\">niets. </span></div><div class='features'><span class=\"trans xft\" ><span class=\"f\">trans=</span>niets</span></div></div><div class=\"contnr c0 trm   hl\" ><div class=\"lbl c0 trm hl\" ><span class=\"txtu\">Ile </span></div><div class='features'><span class=\"entityid xft\" ><span class=\"f\">entityId=</span>e_1_1_7</span><span class=\"entitykind xft\" ><span class=\"f\">entityKind=</span>LOC</span><span class=\"trans xft\" ><span class=\"f\">trans=</span>Ile</span></div></div><div class=\"contnr c0 trm   \" ><div class=\"lbl c0 trm \" ><span class=\"txtu\">de </span></div><div class='features'><span class=\"entityid xft\" ><span class=\"f\">entityId=</span>e_1_1_7</span><span class=\"entitykind xft\" ><span class=\"f\">entityKind=</span>LOC</span><span class=\"trans xft\" ><span class=\"f\">trans=</span>de</span></div></div><div class=\"contnr c0 trm   \" ><div class=\"lbl c0 trm \" ><span class=\"txtu\">Mayo </span></div><div class='features'><span class=\"entityid xft\" ><span class=\"f\">entityId=</span>e_1_1_7</span><span class=\"entitykind xft\" ><span class=\"f\">entityKind=</span>LOC</span><span class=\"trans xft\" ><span class=\"f\">trans=</span>Mayo</span></div></div><div class=\"contnr c0 trm   \" ><div class=\"lbl c0 trm \" ><span class=\"txtu\">is </span></div><div class='features'><span class=\"trans xft\" ><span class=\"f\">trans=</span>is</span></div></div><div class=\"contnr c0 trm   \" ><div class=\"lbl c0 trm \" ><span class=\"txtu\">een </span></div><div class='features'><span class=\"trans xft\" ><span class=\"f\">trans=</span>een</span></div></div><div class=\"contnr c0 trm   \" ><div class=\"lbl c0 trm \" ><span class=\"txtu\">der </span></div><div class='features'><span class=\"trans xft\" ><span class=\"f\">trans=</span>der</span></div></div><div class=\"contnr c0 trm   \" ><div class=\"lbl c0 trm \" ><span class=\"txtu\">Kaap-</span></div><div class='features'><span class=\"entityid xft\" ><span class=\"f\">entityId=</span>e_1_1_9</span><span class=\"entitykind xft\" ><span class=\"f\">entityKind=</span>LOC</span><span class=\"trans xft\" ><span class=\"f\">trans=</span>Kaap</span></div></div><div class=\"contnr c0 trm   \" ><div class=\"lbl c0 trm \" ><span class=\"txtu\">Verdische </span></div><div class='features'><span class=\"entityid xft\" ><span class=\"f\">entityId=</span>e_1_1_9</span><span class=\"entitykind xft\" ><span class=\"f\">entityKind=</span>LOC</span><span class=\"trans xft\" ><span class=\"f\">trans=</span>Verdische</span></div></div></div></div></div>"
      ],
      "text/plain": [
       "<IPython.core.display.HTML object>"
      ]
     },
     "metadata": {},
     "output_type": "display_data"
    },
    {
     "data": {
      "text/markdown": [
       "#### B1: case 4: Mayo as None: 2 occurrences\n",
       "\n"
      ],
      "text/plain": [
       "<IPython.core.display.Markdown object>"
      ]
     },
     "metadata": {},
     "output_type": "display_data"
    },
    {
     "data": {
      "text/html": [
       "<p><b>result</b> <i>1</i>"
      ],
      "text/plain": [
       "<IPython.core.display.HTML object>"
      ]
     },
     "metadata": {},
     "output_type": "display_data"
    },
    {
     "data": {
      "text/html": [
       "<div class=\"tfsechead \"><span class=\"ltr\"><a target=\"_blank\" href=\"http://resources.huygens.knaw.nl/retroboeken/generalemissiven/#page=307&amp;source=1\" title=\"Show this document on Huygens\" sec=\"1 284:30\">1 284:30</a></span></div><div class=\" children\"><div class=\"contnr c3    \" ><div class=\"lbl c3  \" ><span class=\"nd\">line</span></div><div class=\"children hor wrap \"><div class=\"contnr c0 trm   \" ><div class=\"lbl c0 trm \" ><span class=\"txtu\">genaempt </span></div><div class='features'><span class=\"trans xft\" ><span class=\"f\">trans=</span>genaempt</span></div></div><div class=\"contnr c0 trm   \" ><div class=\"lbl c0 trm \" ><span class=\"txtu\">don </span></div><div class='features'><span class=\"trans xft\" ><span class=\"f\">trans=</span>don</span></div></div><div class=\"contnr c0 trm   \" ><div class=\"lbl c0 trm \" ><span class=\"txtu\">Francisco </span></div><div class='features'><span class=\"trans xft\" ><span class=\"f\">trans=</span>Francisco</span></div></div><div class=\"contnr c0 trm   \" ><div class=\"lbl c0 trm \" ><span class=\"txtu\">de </span></div><div class='features'><span class=\"trans xft\" ><span class=\"f\">trans=</span>de</span></div></div><div class=\"contnr c0 trm   \" ><div class=\"lbl c0 trm \" ><span class=\"txtu\">Cavallo </span></div><div class='features'><span class=\"trans xft\" ><span class=\"f\">trans=</span>Cavallo</span></div></div><div class=\"contnr c0 trm   \" ><div class=\"lbl c0 trm \" ><span class=\"txtu\">Dom </span></div><div class='features'><span class=\"trans xft\" ><span class=\"f\">trans=</span>Dom</span></div></div><div class=\"contnr c0 trm   \" ><div class=\"lbl c0 trm \" ><span class=\"txtu\">Francisco </span></div><div class='features'><span class=\"trans xft\" ><span class=\"f\">trans=</span>Francisco</span></div></div><div class=\"contnr c0 trm   \" ><div class=\"lbl c0 trm \" ><span class=\"txtu\">Carvallo </span></div><div class='features'><span class=\"trans xft\" ><span class=\"f\">trans=</span>Carvallo</span></div></div><div class=\"contnr c0 trm   \" ><div class=\"lbl c0 trm \" ><span class=\"txtu\">de </span></div><div class='features'><span class=\"trans xft\" ><span class=\"f\">trans=</span>de</span></div></div><div class=\"contnr c0 trm   hl\" ><div class=\"lbl c0 trm hl\" ><span class=\"txtu\">Mayo, </span></div><div class='features'><span class=\"trans xft\" ><span class=\"f\">trans=</span>Mayo</span></div></div><div class=\"contnr c0 trm   \" ><div class=\"lbl c0 trm \" ><span class=\"txtu\">Portugees </span></div><div class='features'><span class=\"trans xft\" ><span class=\"f\">trans=</span>Portugees</span></div></div><div class=\"contnr c0 trm   \" ><div class=\"lbl c0 trm \" ><span class=\"txtu\">kapitein, </span></div><div class='features'><span class=\"trans xft\" ><span class=\"f\">trans=</span>kapitein</span></div></div><div class=\"contnr c0 trm   \" ><div class=\"lbl c0 trm \" ><span class=\"txtu\">die </span></div><div class='features'><span class=\"trans xft\" ><span class=\"f\">trans=</span>die</span></div></div><div class=\"contnr c0 trm   \" ><div class=\"lbl c0 trm \" ><span class=\"txtu\">zich </span></div><div class='features'><span class=\"trans xft\" ><span class=\"f\">trans=</span>zich</span></div></div><div class=\"contnr c0 trm   \" ><div class=\"lbl c0 trm \" ><span class=\"txtu\">in </span></div><div class='features'><span class=\"trans xft\" ><span class=\"f\">trans=</span>in</span></div></div><div class=\"contnr c0 trm   \" ><div class=\"lbl c0 trm \" ><span class=\"txtu\">1629 </span></div><div class='features'><span class=\"trans xft\" ><span class=\"f\">trans=</span>1629</span></div></div><div class=\"contnr c0 trm   \" ><div class=\"lbl c0 trm \" ><span class=\"txtu\">bij </span></div><div class='features'><span class=\"trans xft\" ><span class=\"f\">trans=</span>bij</span></div></div><div class=\"contnr c0 trm   \" ><div class=\"lbl c0 trm \" ><span class=\"txtu\">de </span></div><div class='features'><span class=\"trans xft\" ><span class=\"f\">trans=</span>de</span></div></div><div class=\"contnr c0 trm   \" ><div class=\"lbl c0 trm \" ><span class=\"txtu\">verdediging </span></div><div class='features'><span class=\"trans xft\" ><span class=\"f\">trans=</span>verdediging</span></div></div></div></div></div>"
      ],
      "text/plain": [
       "<IPython.core.display.HTML object>"
      ]
     },
     "metadata": {},
     "output_type": "display_data"
    },
    {
     "data": {
      "text/markdown": [
       "#### B1: case 4: Mayo as LOC: 3 occurrences\n",
       "\n"
      ],
      "text/plain": [
       "<IPython.core.display.Markdown object>"
      ]
     },
     "metadata": {},
     "output_type": "display_data"
    },
    {
     "data": {
      "text/html": [
       "<p><b>result</b> <i>1</i>"
      ],
      "text/plain": [
       "<IPython.core.display.HTML object>"
      ]
     },
     "metadata": {},
     "output_type": "display_data"
    },
    {
     "data": {
      "text/html": [
       "<div class=\"tfsechead \"><span class=\"ltr\"><a target=\"_blank\" href=\"http://resources.huygens.knaw.nl/retroboeken/generalemissiven/#page=26&amp;source=1\" title=\"Show this document on Huygens\" sec=\"1 3:2\">1 3:2</a></span></div><div class=\" children\"><div class=\"contnr c3    \" ><div class=\"lbl c3  \" ><span class=\"nd\">line</span></div><div class='features'><span class=\"entityid xft\" ><span class=\"f\">entityId=</span>e_14_10_44</span><span class=\"entitykind xft\" ><span class=\"f\">entityKind=</span>ORG</span></div><div class=\"children hor wrap \"><div class=\"contnr c0 trm   \" ><div class=\"lbl c0 trm \" ><span class=\"txtu\">VOOR </span></div><div class='features'><span class=\"trans xft\" ><span class=\"f\">trans=</span>VOOR</span></div></div><div class=\"contnr c0 trm   \" ><div class=\"lbl c0 trm \" ><span class=\"txtu\">ILE </span></div><div class='features'><span class=\"trans xft\" ><span class=\"f\">trans=</span>ILE</span></div></div><div class=\"contnr c0 trm   \" ><div class=\"lbl c0 trm \" ><span class=\"txtu\">DE </span></div><div class='features'><span class=\"entityid xft\" ><span class=\"f\">entityId=</span>e_1_1_3</span><span class=\"entitykind xft\" ><span class=\"f\">entityKind=</span>LOC</span><span class=\"trans xft\" ><span class=\"f\">trans=</span>DE</span></div></div><div class=\"contnr c0 trm   hl\" ><div class=\"lbl c0 trm hl\" ><span class=\"txtu\">MAYO </span></div><div class='features'><span class=\"entityid xft\" ><span class=\"f\">entityId=</span>e_1_1_3</span><span class=\"entitykind xft\" ><span class=\"f\">entityKind=</span>LOC</span><span class=\"trans xft\" ><span class=\"f\">trans=</span>MAYO</span></div></div><div class=\"contnr c0 trm   \" ><div class=\"lbl c0 trm \" ><span class=\"txtu\">De </span></div><div class='features'><span class=\"trans xft\" ><span class=\"f\">trans=</span>De</span></div></div><div class=\"contnr c0 trm   \" ><div class=\"lbl c0 trm \" ><span class=\"txtu\">eerste </span></div><div class='features'><span class=\"trans xft\" ><span class=\"f\">trans=</span>eerste</span></div></div><div class=\"contnr c0 trm   \" ><div class=\"lbl c0 trm \" ><span class=\"txtu\">drie </span></div><div class='features'><span class=\"trans xft\" ><span class=\"f\">trans=</span>drie</span></div></div><div class=\"contnr c0 trm   \" ><div class=\"lbl c0 trm \" ><span class=\"txtu\">brieven, </span></div><div class='features'><span class=\"trans xft\" ><span class=\"f\">trans=</span>brieven</span></div></div><div class=\"contnr c0 trm   \" ><div class=\"lbl c0 trm \" ><span class=\"txtu\">door </span></div><div class='features'><span class=\"trans xft\" ><span class=\"f\">trans=</span>door</span></div></div><div class=\"contnr c0 trm   \" ><div class=\"lbl c0 trm \" ><span class=\"txtu\">Both </span></div><div class='features'><span class=\"entityid xft\" ><span class=\"f\">entityId=</span>e_1_1_4</span><span class=\"entitykind xft\" ><span class=\"f\">entityKind=</span>PER</span><span class=\"trans xft\" ><span class=\"f\">trans=</span>Both</span></div></div><div class=\"contnr c0 trm   \" ><div class=\"lbl c0 trm \" ><span class=\"txtu\">op </span></div><div class='features'><span class=\"trans xft\" ><span class=\"f\">trans=</span>op</span></div></div><div class=\"contnr c0 trm   \" ><div class=\"lbl c0 trm \" ><span class=\"txtu\">reis </span></div><div class='features'><span class=\"trans xft\" ><span class=\"f\">trans=</span>reis</span></div></div><div class=\"contnr c0 trm   \" ><div class=\"lbl c0 trm \" ><span class=\"txtu\">naar </span></div><div class='features'><span class=\"trans xft\" ><span class=\"f\">trans=</span>naar</span></div></div><div class=\"contnr c0 trm   \" ><div class=\"lbl c0 trm \" ><span class=\"txtu\">Indië </span></div><div class='features'><span class=\"entityid xft\" ><span class=\"f\">entityId=</span>e_1_1_5</span><span class=\"entitykind xft\" ><span class=\"f\">entityKind=</span>LOC</span><span class=\"trans xft\" ><span class=\"f\">trans=</span>Indië</span></div></div><div class=\"contnr c0 trm   \" ><div class=\"lbl c0 trm \" ><span class=\"txtu\">geschrovon, </span></div><div class='features'><span class=\"trans xft\" ><span class=\"f\">trans=</span>geschrovon</span></div></div><div class=\"contnr c0 trm   \" ><div class=\"lbl c0 trm \" ><span class=\"txtu\">wijken </span></div><div class='features'><span class=\"trans xft\" ><span class=\"f\">trans=</span>wijken</span></div></div><div class=\"contnr c0 trm   \" ><div class=\"lbl c0 trm \" ><span class=\"txtu\">niet </span></div><div class='features'><span class=\"trans xft\" ><span class=\"f\">trans=</span>niet</span></div></div><div class=\"contnr c0 trm   \" ><div class=\"lbl c0 trm \" ><span class=\"txtu\">af </span></div><div class='features'><span class=\"trans xft\" ><span class=\"f\">trans=</span>af</span></div></div><div class=\"contnr c0 trm   \" ><div class=\"lbl c0 trm \" ><span class=\"txtu\">van </span></div><div class='features'><span class=\"trans xft\" ><span class=\"f\">trans=</span>van</span></div></div></div></div></div>"
      ],
      "text/plain": [
       "<IPython.core.display.HTML object>"
      ]
     },
     "metadata": {},
     "output_type": "display_data"
    },
    {
     "data": {
      "text/markdown": [
       "#### B1: case 5: Heren as None: 2898 occurrences\n",
       "\n"
      ],
      "text/plain": [
       "<IPython.core.display.Markdown object>"
      ]
     },
     "metadata": {},
     "output_type": "display_data"
    },
    {
     "data": {
      "text/html": [
       "<p><b>result</b> <i>1</i>"
      ],
      "text/plain": [
       "<IPython.core.display.HTML object>"
      ]
     },
     "metadata": {},
     "output_type": "display_data"
    },
    {
     "data": {
      "text/html": [
       "<div class=\"tfsechead \"><span class=\"ltr\"><a target=\"_blank\" href=\"http://resources.huygens.knaw.nl/retroboeken/generalemissiven/#page=52&amp;source=1\" title=\"Show this document on Huygens\" sec=\"1 29:46\">1 29:46</a></span></div><div class=\" children\"><div class=\"contnr c3    \" ><div class=\"lbl c3  \" ><span class=\"nd\">line</span></div><div class=\"children hor wrap \"><div class=\"contnr c0 trm   hl\" ><div class=\"lbl c0 trm hl\" ><span class=\"txtu\">Heren </span></div><div class='features'><span class=\"trans xft\" ><span class=\"f\">trans=</span>Heren</span></div></div><div class=\"contnr c0 trm   \" ><div class=\"lbl c0 trm \" ><span class=\"txtu\">XVII </span></div><div class='features'><span class=\"trans xft\" ><span class=\"f\">trans=</span>XVII</span></div></div><div class=\"contnr c0 trm   \" ><div class=\"lbl c0 trm \" ><span class=\"txtu\">besloten </span></div><div class='features'><span class=\"trans xft\" ><span class=\"f\">trans=</span>besloten</span></div></div><div class=\"contnr c0 trm   \" ><div class=\"lbl c0 trm \" ><span class=\"txtu\">hem </span></div><div class='features'><span class=\"trans xft\" ><span class=\"f\">trans=</span>hem</span></div></div><div class=\"contnr c0 trm   \" ><div class=\"lbl c0 trm \" ><span class=\"txtu\">een </span></div><div class='features'><span class=\"trans xft\" ><span class=\"f\">trans=</span>een</span></div></div><div class=\"contnr c0 trm   \" ><div class=\"lbl c0 trm \" ><span class=\"txtu\">verering </span></div><div class='features'><span class=\"trans xft\" ><span class=\"f\">trans=</span>verering</span></div></div><div class=\"contnr c0 trm   \" ><div class=\"lbl c0 trm \" ><span class=\"txtu\">te </span></div><div class='features'><span class=\"trans xft\" ><span class=\"f\">trans=</span>te</span></div></div><div class=\"contnr c0 trm   \" ><div class=\"lbl c0 trm \" ><span class=\"txtu\">geven. </span></div><div class='features'><span class=\"trans xft\" ><span class=\"f\">trans=</span>geven</span></div></div><div class=\"contnr c0 trm   \" ><div class=\"lbl c0 trm \" ><span class=\"txtu\">Hij </span></div><div class='features'><span class=\"trans xft\" ><span class=\"f\">trans=</span>Hij</span></div></div><div class=\"contnr c0 trm   \" ><div class=\"lbl c0 trm \" ><span class=\"txtu\">zou </span></div><div class='features'><span class=\"trans xft\" ><span class=\"f\">trans=</span>zou</span></div></div><div class=\"contnr c0 trm   \" ><div class=\"lbl c0 trm \" ><span class=\"txtu\">met </span></div><div class='features'><span class=\"trans xft\" ><span class=\"f\">trans=</span>met</span></div></div><div class=\"contnr c0 trm   \" ><div class=\"lbl c0 trm \" ><span class=\"txtu\">de </span></div><div class='features'><span class=\"trans xft\" ><span class=\"f\">trans=</span>de</span></div></div><div class=\"contnr c0 trm   \" ><div class=\"lbl c0 trm \" ><span class=\"txtu\">vloot </span></div><div class='features'><span class=\"trans xft\" ><span class=\"f\">trans=</span>vloot</span></div></div><div class=\"contnr c0 trm   \" ><div class=\"lbl c0 trm \" ><span class=\"txtu\">van </span></div><div class='features'><span class=\"trans xft\" ><span class=\"f\">trans=</span>van</span></div></div><div class=\"contnr c0 trm   \" ><div class=\"lbl c0 trm \" ><span class=\"txtu\">Both </span></div><div class='features'><span class=\"trans xft\" ><span class=\"f\">trans=</span>Both</span></div></div><div class=\"contnr c0 trm   \" ><div class=\"lbl c0 trm \" ><span class=\"txtu\">repatriëren ; </span></div><div class='features'><span class=\"trans xft\" ><span class=\"f\">trans=</span>repatriëren</span></div></div></div></div></div>"
      ],
      "text/plain": [
       "<IPython.core.display.HTML object>"
      ]
     },
     "metadata": {},
     "output_type": "display_data"
    },
    {
     "data": {
      "text/markdown": [
       "#### B1: case 5: Heren as ORG: 147 occurrences\n",
       "\n"
      ],
      "text/plain": [
       "<IPython.core.display.Markdown object>"
      ]
     },
     "metadata": {},
     "output_type": "display_data"
    },
    {
     "data": {
      "text/html": [
       "<p><b>result</b> <i>1</i>"
      ],
      "text/plain": [
       "<IPython.core.display.HTML object>"
      ]
     },
     "metadata": {},
     "output_type": "display_data"
    },
    {
     "data": {
      "text/html": [
       "<div class=\"tfsechead \"><span class=\"ltr\"><a target=\"_blank\" href=\"http://resources.huygens.knaw.nl/retroboeken/generalemissiven/#page=26&amp;source=1\" title=\"Show this document on Huygens\" sec=\"1 3:3\">1 3:3</a></span></div><div class=\" children\"><div class=\"contnr c3    \" ><div class=\"lbl c3  \" ><span class=\"nd\">line</span></div><div class='features'><span class=\"entityid xft\" ><span class=\"f\">entityId=</span>e_14_11_61</span><span class=\"entitykind xft\" ><span class=\"f\">entityKind=</span>SHP</span></div><div class=\"children hor wrap \"><div class=\"contnr c0 trm   \" ><div class=\"lbl c0 trm \" ><span class=\"txtu\">de </span></div><div class='features'><span class=\"trans xft\" ><span class=\"f\">trans=</span>de</span></div></div><div class=\"contnr c0 trm   \" ><div class=\"lbl c0 trm \" ><span class=\"txtu\">andere </span></div><div class='features'><span class=\"trans xft\" ><span class=\"f\">trans=</span>andere</span></div></div><div class=\"contnr c0 trm   \" ><div class=\"lbl c0 trm \" ><span class=\"txtu\">brieven </span></div><div class='features'><span class=\"trans xft\" ><span class=\"f\">trans=</span>brieven</span></div></div><div class=\"contnr c0 trm   \" ><div class=\"lbl c0 trm \" ><span class=\"txtu\">van </span></div><div class='features'><span class=\"trans xft\" ><span class=\"f\">trans=</span>van</span></div></div><div class=\"contnr c0 trm   \" ><div class=\"lbl c0 trm \" ><span class=\"txtu\">vlootvoogden </span></div><div class='features'><span class=\"trans xft\" ><span class=\"f\">trans=</span>vlootvoogden</span></div></div><div class=\"contnr c0 trm   \" ><div class=\"lbl c0 trm \" ><span class=\"txtu\">aan </span></div><div class='features'><span class=\"trans xft\" ><span class=\"f\">trans=</span>aan</span></div></div><div class=\"contnr c0 trm   hl\" ><div class=\"lbl c0 trm hl\" ><span class=\"txtu\">Heren </span></div><div class='features'><span class=\"entityid xft\" ><span class=\"f\">entityId=</span>e_1_1_6</span><span class=\"entitykind xft\" ><span class=\"f\">entityKind=</span>ORG</span><span class=\"trans xft\" ><span class=\"f\">trans=</span>Heren</span></div></div><div class=\"contnr c0 trm   \" ><div class=\"lbl c0 trm \" ><span class=\"txtu\">XVII ; </span></div><div class='features'><span class=\"entityid xft\" ><span class=\"f\">entityId=</span>e_1_1_6</span><span class=\"entitykind xft\" ><span class=\"f\">entityKind=</span>ORG</span><span class=\"trans xft\" ><span class=\"f\">trans=</span>XVII</span></div></div><div class=\"contnr c0 trm   \" ><div class=\"lbl c0 trm \" ><span class=\"txtu\">dat </span></div><div class='features'><span class=\"trans xft\" ><span class=\"f\">trans=</span>dat</span></div></div><div class=\"contnr c0 trm   \" ><div class=\"lbl c0 trm \" ><span class=\"txtu\">hij </span></div><div class='features'><span class=\"trans xft\" ><span class=\"f\">trans=</span>hij</span></div></div><div class=\"contnr c0 trm   \" ><div class=\"lbl c0 trm \" ><span class=\"txtu\">in </span></div><div class='features'><span class=\"trans xft\" ><span class=\"f\">trans=</span>in</span></div></div><div class=\"contnr c0 trm   \" ><div class=\"lbl c0 trm \" ><span class=\"txtu\">de </span></div><div class='features'><span class=\"trans xft\" ><span class=\"f\">trans=</span>de</span></div></div><div class=\"contnr c0 trm   \" ><div class=\"lbl c0 trm \" ><span class=\"txtu\">kwaliteit </span></div><div class='features'><span class=\"trans xft\" ><span class=\"f\">trans=</span>kwaliteit</span></div></div><div class=\"contnr c0 trm   \" ><div class=\"lbl c0 trm \" ><span class=\"txtu\">van </span></div><div class='features'><span class=\"trans xft\" ><span class=\"f\">trans=</span>van</span></div></div><div class=\"contnr c0 trm   \" ><div class=\"lbl c0 trm \" ><span class=\"txtu\">Gouverneur- </span></div><div class='features'><span class=\"trans xft\" ><span class=\"f\">trans=</span>Gouverneur</span></div></div></div></div></div>"
      ],
      "text/plain": [
       "<IPython.core.display.HTML object>"
      ]
     },
     "metadata": {},
     "output_type": "display_data"
    },
    {
     "data": {
      "text/markdown": [
       "#### 3108 more cases"
      ],
      "text/plain": [
       "<IPython.core.display.Markdown object>"
      ]
     },
     "metadata": {},
     "output_type": "display_data"
    },
    {
     "data": {
      "text/markdown": [
       "### B2: 281 words\n",
       "\n"
      ],
      "text/plain": [
       "<IPython.core.display.Markdown object>"
      ]
     },
     "metadata": {},
     "output_type": "display_data"
    },
    {
     "data": {
      "text/markdown": [
       "#### B2: case 1: I as None: 916 occurrences\n",
       "\n"
      ],
      "text/plain": [
       "<IPython.core.display.Markdown object>"
      ]
     },
     "metadata": {},
     "output_type": "display_data"
    },
    {
     "data": {
      "text/html": [
       "<p><b>result</b> <i>1</i>"
      ],
      "text/plain": [
       "<IPython.core.display.HTML object>"
      ]
     },
     "metadata": {},
     "output_type": "display_data"
    },
    {
     "data": {
      "text/html": [
       "<div class=\"tfsechead \"><span class=\"ltr\"><a target=\"_blank\" href=\"http://resources.huygens.knaw.nl/retroboeken/generalemissiven/#page=26&amp;source=1\" title=\"Show this document on Huygens\" sec=\"1 3:1\">1 3:1</a></span></div><div class=\" children\"><div class=\"contnr c3    \" ><div class=\"lbl c3  \" ><span class=\"nd\">line</span></div><div class='features'><span class=\"entityid xft\" ><span class=\"f\">entityId=</span>e_14_9_45</span><span class=\"entitykind xft\" ><span class=\"f\">entityKind=</span>LOC</span></div><div class=\"children hor wrap \"><div class=\"contnr c0 trm   hl\" ><div class=\"lbl c0 trm hl\" ><span class=\"txtu\">I. </span></div><div class='features'><span class=\"trans xft\" ><span class=\"f\">trans=</span>I</span></div></div><div class=\"contnr c0 trm   \" ><div class=\"lbl c0 trm \" ><span class=\"txtu\">PIETER </span></div><div class='features'><span class=\"entityid xft\" ><span class=\"f\">entityId=</span>e_1_1_1</span><span class=\"entitykind xft\" ><span class=\"f\">entityKind=</span>PER</span><span class=\"trans xft\" ><span class=\"f\">trans=</span>PIETER</span></div></div><div class=\"contnr c0 trm   \" ><div class=\"lbl c0 trm \" ><span class=\"txtu\">BOTH, </span></div><div class='features'><span class=\"entityid xft\" ><span class=\"f\">entityId=</span>e_1_1_1</span><span class=\"entitykind xft\" ><span class=\"f\">entityKind=</span>PER</span><span class=\"trans xft\" ><span class=\"f\">trans=</span>BOTH</span></div></div><div class=\"contnr c0 trm   \" ><div class=\"lbl c0 trm \" ><span class=\"txtu\">AAN </span></div><div class='features'><span class=\"trans xft\" ><span class=\"f\">trans=</span>AAN</span></div></div><div class=\"contnr c0 trm   \" ><div class=\"lbl c0 trm \" ><span class=\"txtu\">BOORD </span></div><div class='features'><span class=\"trans xft\" ><span class=\"f\">trans=</span>BOORD</span></div></div><div class=\"contnr c0 trm   \" ><div class=\"lbl c0 trm \" ><span class=\"txtu\">VAN </span></div><div class='features'><span class=\"trans xft\" ><span class=\"f\">trans=</span>VAN</span></div></div><div class=\"contnr c0 trm   \" ><div class=\"lbl c0 trm \" ><span class=\"txtu\">HET </span></div><div class='features'><span class=\"trans xft\" ><span class=\"f\">trans=</span>HET</span></div></div><div class=\"contnr c0 trm   \" ><div class=\"lbl c0 trm \" ><span class=\"txtu\">WAPEN </span></div><div class='features'><span class=\"trans xft\" ><span class=\"f\">trans=</span>WAPEN</span></div></div><div class=\"contnr c0 trm   \" ><div class=\"lbl c0 trm \" ><span class=\"txtu\">VAN </span></div><div class='features'><span class=\"trans xft\" ><span class=\"f\">trans=</span>VAN</span></div></div><div class=\"contnr c0 trm   \" ><div class=\"lbl c0 trm \" ><span class=\"txtu\">AMSTERDAM, </span></div><div class='features'><span class=\"entityid xft\" ><span class=\"f\">entityId=</span>e_1_1_2</span><span class=\"entitykind xft\" ><span class=\"f\">entityKind=</span>SHP</span><span class=\"trans xft\" ><span class=\"f\">trans=</span>AMSTERDAM</span></div></div></div></div></div>"
      ],
      "text/plain": [
       "<IPython.core.display.HTML object>"
      ]
     },
     "metadata": {},
     "output_type": "display_data"
    },
    {
     "data": {
      "text/markdown": [
       "#### B2: case 1: I as ORG: 1 occurrence\n",
       "\n"
      ],
      "text/plain": [
       "<IPython.core.display.Markdown object>"
      ]
     },
     "metadata": {},
     "output_type": "display_data"
    },
    {
     "data": {
      "text/html": [
       "<p><b>result</b> <i>1</i>"
      ],
      "text/plain": [
       "<IPython.core.display.HTML object>"
      ]
     },
     "metadata": {},
     "output_type": "display_data"
    },
    {
     "data": {
      "text/html": [
       "<div class=\"tfsechead \"><span class=\"ltr\"><a target=\"_blank\" href=\"http://resources.huygens.knaw.nl/retroboeken/generalemissiven/#page=60&amp;source=1\" title=\"Show this document on Huygens\" sec=\"1 37:4\">1 37:4</a></span></div><div class=\" children\"><div class=\"contnr c3    \" ><div class=\"lbl c3  \" ><span class=\"nd\">line</span></div><div class=\"children hor wrap \"><div class=\"contnr c0 trm   \" ><div class=\"lbl c0 trm \" ><span class=\"txtu\">Wat </span></div><div class='features'><span class=\"trans xft\" ><span class=\"f\">trans=</span>Wat</span></div></div><div class=\"contnr c0 trm   \" ><div class=\"lbl c0 trm \" ><span class=\"txtu\">aengaet </span></div><div class='features'><span class=\"trans xft\" ><span class=\"f\">trans=</span>aengaet</span></div></div><div class=\"contnr c0 trm   \" ><div class=\"lbl c0 trm \" ><span class=\"txtu\">de </span></div><div class='features'><span class=\"trans xft\" ><span class=\"f\">trans=</span>de</span></div></div><div class=\"contnr c0 trm   \" ><div class=\"lbl c0 trm \" ><span class=\"txtu\">Engelsman </span></div><div class='features'><span class=\"entityid xft\" ><span class=\"f\">entityId=</span>e_1_21_8</span><span class=\"entitykind xft\" ><span class=\"f\">entityKind=</span>LOCderiv</span><span class=\"trans xft\" ><span class=\"f\">trans=</span>Engelsman</span></div></div><div class=\"contnr c0 trm   \" ><div class=\"lbl c0 trm \" ><span class=\"txtu\">tot </span></div><div class='features'><span class=\"trans xft\" ><span class=\"f\">trans=</span>tot</span></div></div><div class=\"contnr c0 trm   \" ><div class=\"lbl c0 trm \" ><span class=\"txtu\">Bantam, </span></div><div class='features'><span class=\"entityid xft\" ><span class=\"f\">entityId=</span>e_1_21_10</span><span class=\"entitykind xft\" ><span class=\"f\">entityKind=</span>LOC</span><span class=\"trans xft\" ><span class=\"f\">trans=</span>Bantam</span></div></div><div class=\"contnr c0 trm   \" ><div class=\"lbl c0 trm \" ><span class=\"txtu\">genfc </span></div><div class='features'><span class=\"trans xft\" ><span class=\"f\">trans=</span>genfc</span></div></div><div class=\"contnr c0 trm   \" ><div class=\"lbl c0 trm \" ><span class=\"txtu\">cap. </span></div><div class='features'><span class=\"trans xft\" ><span class=\"f\">trans=</span>cap</span></div></div><div class=\"contnr c0 trm   \" ><div class=\"lbl c0 trm \" ><span class=\"txtu\">Jan </span></div><div class='features'><span class=\"entityid xft\" ><span class=\"f\">entityId=</span>e_1_21_11</span><span class=\"entitykind xft\" ><span class=\"f\">entityKind=</span>PER</span><span class=\"trans xft\" ><span class=\"f\">trans=</span>Jan</span></div></div><div class=\"contnr c0 trm   \" ><div class=\"lbl c0 trm \" ><span class=\"txtu\">Jardyn </span></div><div class='features'><span class=\"entityid xft\" ><span class=\"f\">entityId=</span>e_1_21_11</span><span class=\"entitykind xft\" ><span class=\"f\">entityKind=</span>PER</span><span class=\"trans xft\" ><span class=\"f\">trans=</span>Jardyn</span></div></div><div class=\"contnr c0 trm   \" ><div class=\"lbl c0 trm \" ><span class=\"txtu\">John </span></div><div class='features'><span class=\"entityid xft\" ><span class=\"f\">entityId=</span>e_1_21_15</span><span class=\"entitykind xft\" ><span class=\"f\">entityKind=</span>PER</span><span class=\"trans xft\" ><span class=\"f\">trans=</span>John</span></div></div><div class=\"contnr c0 trm   \" ><div class=\"lbl c0 trm \" ><span class=\"txtu\">Jourdain, </span></div><div class='features'><span class=\"entityid xft\" ><span class=\"f\">entityId=</span>e_1_21_15</span><span class=\"entitykind xft\" ><span class=\"f\">entityKind=</span>PER</span><span class=\"trans xft\" ><span class=\"f\">trans=</span>Jourdain</span></div></div><div class=\"contnr c0 trm   \" ><div class=\"lbl c0 trm \" ><span class=\"txtu\">koopman </span></div><div class='features'><span class=\"trans xft\" ><span class=\"f\">trans=</span>koopman</span></div></div><div class=\"contnr c0 trm   \" ><div class=\"lbl c0 trm \" ><span class=\"txtu\">in </span></div><div class='features'><span class=\"trans xft\" ><span class=\"f\">trans=</span>in</span></div></div><div class=\"contnr c0 trm   \" ><div class=\"lbl c0 trm \" ><span class=\"txtu\">dienst </span></div><div class='features'><span class=\"trans xft\" ><span class=\"f\">trans=</span>dienst</span></div></div><div class=\"contnr c0 trm   \" ><div class=\"lbl c0 trm \" ><span class=\"txtu\">der </span></div><div class='features'><span class=\"trans xft\" ><span class=\"f\">trans=</span>der</span></div></div><div class=\"contnr c0 trm   \" ><div class=\"lbl c0 trm \" ><span class=\"txtu\">Engelse </span></div><div class='features'><span class=\"entityid xft\" ><span class=\"f\">entityId=</span>e_1_21_17</span><span class=\"entitykind xft\" ><span class=\"f\">entityKind=</span>ORG</span><span class=\"trans xft\" ><span class=\"f\">trans=</span>Engelse</span></div></div><div class=\"contnr c0 trm   \" ><div class=\"lbl c0 trm \" ><span class=\"txtu\">O. </span></div><div class='features'><span class=\"entityid xft\" ><span class=\"f\">entityId=</span>e_1_21_18</span><span class=\"entitykind xft\" ><span class=\"f\">entityKind=</span>ORG</span><span class=\"trans xft\" ><span class=\"f\">trans=</span>O</span></div></div><div class=\"contnr c0 trm   hl\" ><div class=\"lbl c0 trm hl\" ><span class=\"txtu\">I. </span></div><div class='features'><span class=\"entityid xft\" ><span class=\"f\">entityId=</span>e_1_21_18</span><span class=\"entitykind xft\" ><span class=\"f\">entityKind=</span>ORG</span><span class=\"trans xft\" ><span class=\"f\">trans=</span>I</span></div></div><div class=\"contnr c0 trm   \" ><div class=\"lbl c0 trm \" ><span class=\"txtu\">C. </span></div><div class='features'><span class=\"entityid xft\" ><span class=\"f\">entityId=</span>e_1_21_18</span><span class=\"entitykind xft\" ><span class=\"f\">entityKind=</span>ORG</span><span class=\"trans xft\" ><span class=\"f\">trans=</span>C</span></div></div><div class=\"contnr c0 trm   \" ><div class=\"lbl c0 trm \" ><span class=\"txtu\">vertrok </span></div><div class='features'><span class=\"trans xft\" ><span class=\"f\">trans=</span>vertrok</span></div></div><div class=\"contnr c0 trm   \" ><div class=\"lbl c0 trm \" ><span class=\"txtu\">in </span></div><div class='features'><span class=\"trans xft\" ><span class=\"f\">trans=</span>in</span></div></div><div class=\"contnr c0 trm   \" ><div class=\"lbl c0 trm \" ><span class=\"txtu\">1608 </span></div><div class='features'><span class=\"trans xft\" ><span class=\"f\">trans=</span>1608</span></div></div><div class=\"contnr c0 trm   \" ><div class=\"lbl c0 trm \" ><span class=\"txtu\">naar </span></div><div class='features'><span class=\"trans xft\" ><span class=\"f\">trans=</span>naar</span></div></div><div class=\"contnr c0 trm   \" ><div class=\"lbl c0 trm \" ><span class=\"txtu\">het </span></div><div class='features'><span class=\"trans xft\" ><span class=\"f\">trans=</span>het</span></div></div></div></div></div>"
      ],
      "text/plain": [
       "<IPython.core.display.HTML object>"
      ]
     },
     "metadata": {},
     "output_type": "display_data"
    },
    {
     "data": {
      "text/markdown": [
       "#### B2: case 1: I as SHP: 1 occurrence\n",
       "\n"
      ],
      "text/plain": [
       "<IPython.core.display.Markdown object>"
      ]
     },
     "metadata": {},
     "output_type": "display_data"
    },
    {
     "data": {
      "text/html": [
       "<p><b>result</b> <i>1</i>"
      ],
      "text/plain": [
       "<IPython.core.display.HTML object>"
      ]
     },
     "metadata": {},
     "output_type": "display_data"
    },
    {
     "data": {
      "text/html": [
       "<div class=\"tfsechead \"><span class=\"ltr\"><a target=\"_blank\" href=\"http://resources.huygens.knaw.nl/retroboeken/generalemissiven/#page=619&amp;source=1\" title=\"Show this document on Huygens\" sec=\"1 596:15\">1 596:15</a></span></div><div class=\" children\"><div class=\"contnr c3    \" ><div class=\"lbl c3  \" ><span class=\"nd\">line</span></div><div class=\"children hor wrap \"><div class=\"contnr c0 trm   \" ><div class=\"lbl c0 trm \" ><span class=\"txtu\">Engelsen </span></div><div class='features'><span class=\"entityid xft\" ><span class=\"f\">entityId=</span>e_1_99_33</span><span class=\"entitykind xft\" ><span class=\"f\">entityKind=</span>LOCderiv</span><span class=\"trans xft\" ><span class=\"f\">trans=</span>Engelsen</span></div></div><div class=\"contnr c0 trm   \" ><div class=\"lbl c0 trm \" ><span class=\"txtu\">Palsgrave </span></div><div class='features'><span class=\"entityid xft\" ><span class=\"f\">entityId=</span>e_1_99_34</span><span class=\"entitykind xft\" ><span class=\"f\">entityKind=</span>SHP</span><span class=\"trans xft\" ><span class=\"f\">trans=</span>Palsgrave</span></div></div><div class=\"contnr c0 trm   \" ><div class=\"lbl c0 trm \" ><span class=\"txtu\">ende </span></div><div class='features'><span class=\"trans xft\" ><span class=\"f\">trans=</span>ende</span></div></div><div class=\"contnr c0 trm   \" ><div class=\"lbl c0 trm \" ><span class=\"txtu\">U. </span></div><div class='features'><span class=\"trans xft\" ><span class=\"f\">trans=</span>U</span></div></div><div class=\"contnr c0 trm   \" ><div class=\"lbl c0 trm \" ><span class=\"txtu\">Ed. </span></div><div class='features'><span class=\"trans xft\" ><span class=\"f\">trans=</span>Ed</span></div></div><div class=\"contnr c0 trm   \" ><div class=\"lbl c0 trm \" ><span class=\"txtu\">schip </span></div><div class='features'><span class=\"trans xft\" ><span class=\"f\">trans=</span>schip</span></div></div><div class=\"contnr c0 trm   \" ><div class=\"lbl c0 trm \" ><span class=\"txtu\">Prins </span></div><div class='features'><span class=\"entityid xft\" ><span class=\"f\">entityId=</span>e_1_99_35</span><span class=\"entitykind xft\" ><span class=\"f\">entityKind=</span>SHP</span><span class=\"trans xft\" ><span class=\"f\">trans=</span>Prins</span></div></div><div class=\"contnr c0 trm   \" ><div class=\"lbl c0 trm \" ><span class=\"txtu\">Willem </span></div><div class='features'><span class=\"entityid xft\" ><span class=\"f\">entityId=</span>e_1_99_35</span><span class=\"entitykind xft\" ><span class=\"f\">entityKind=</span>SHP</span><span class=\"trans xft\" ><span class=\"f\">trans=</span>Willem</span></div></div><div class=\"contnr c0 trm   hl\" ><div class=\"lbl c0 trm hl\" ><span class=\"txtu\">I </span></div><div class='features'><span class=\"entityid xft\" ><span class=\"f\">entityId=</span>e_1_99_35</span><span class=\"entitykind xft\" ><span class=\"f\">entityKind=</span>SHP</span><span class=\"trans xft\" ><span class=\"f\">trans=</span>I</span></div></div><div class=\"contnr c0 trm   \" ><div class=\"lbl c0 trm \" ><span class=\"txtu\">D© </span></div><div class='features'><span class=\"entityid xft\" ><span class=\"f\">entityId=</span>e_1_99_35</span><span class=\"entitykind xft\" ><span class=\"f\">entityKind=</span>SHP</span><span class=\"trans xft\" ><span class=\"f\">trans=</span>D©</span></div></div><div class=\"contnr c0 trm   \" ><div class=\"lbl c0 trm \" ><span class=\"txtu\">strijd </span></div><div class='features'><span class=\"trans xft\" ><span class=\"f\">trans=</span>strijd</span></div></div><div class=\"contnr c0 trm   \" ><div class=\"lbl c0 trm \" ><span class=\"txtu\">met </span></div><div class='features'><span class=\"trans xft\" ><span class=\"f\">trans=</span>met</span></div></div><div class=\"contnr c0 trm   \" ><div class=\"lbl c0 trm \" ><span class=\"txtu\">de </span></div><div class='features'><span class=\"trans xft\" ><span class=\"f\">trans=</span>de</span></div></div><div class=\"contnr c0 trm   \" ><div class=\"lbl c0 trm \" ><span class=\"txtu\">Portugezen </span></div><div class='features'><span class=\"entityid xft\" ><span class=\"f\">entityId=</span>e_1_99_37</span><span class=\"entitykind xft\" ><span class=\"f\">entityKind=</span>LOCderiv</span><span class=\"trans xft\" ><span class=\"f\">trans=</span>Portugezen</span></div></div><div class=\"contnr c0 trm   \" ><div class=\"lbl c0 trm \" ><span class=\"txtu\">in </span></div><div class='features'><span class=\"trans xft\" ><span class=\"f\">trans=</span>in</span></div></div><div class=\"contnr c0 trm   \" ><div class=\"lbl c0 trm \" ><span class=\"txtu\">Brazilië </span></div><div class='features'><span class=\"entityid xft\" ><span class=\"f\">entityId=</span>e_1_99_38</span><span class=\"entitykind xft\" ><span class=\"f\">entityKind=</span>LOC</span><span class=\"trans xft\" ><span class=\"f\">trans=</span>Brazilië</span></div></div><div class=\"contnr c0 trm   \" ><div class=\"lbl c0 trm \" ><span class=\"txtu\">belemmerde </span></div><div class='features'><span class=\"trans xft\" ><span class=\"f\">trans=</span>belemmerde</span></div></div><div class=\"contnr c0 trm   \" ><div class=\"lbl c0 trm \" ><span class=\"txtu\">de </span></div><div class='features'><span class=\"trans xft\" ><span class=\"f\">trans=</span>de</span></div></div><div class=\"contnr c0 trm   \" ><div class=\"lbl c0 trm \" ><span class=\"txtu\">suikeruitvoer </span></div><div class='features'><span class=\"trans xft\" ><span class=\"f\">trans=</span>suikeruitvoer</span></div></div><div class=\"contnr c0 trm   \" ><div class=\"lbl c0 trm \" ><span class=\"txtu\">uit </span></div><div class='features'><span class=\"trans xft\" ><span class=\"f\">trans=</span>uit</span></div></div><div class=\"contnr c0 trm   \" ><div class=\"lbl c0 trm \" ><span class=\"txtu\">dat </span></div><div class='features'><span class=\"trans xft\" ><span class=\"f\">trans=</span>dat</span></div></div><div class=\"contnr c0 trm   \" ><div class=\"lbl c0 trm \" ><span class=\"txtu\">land. </span></div><div class='features'><span class=\"trans xft\" ><span class=\"f\">trans=</span>land</span></div></div></div></div></div>"
      ],
      "text/plain": [
       "<IPython.core.display.HTML object>"
      ]
     },
     "metadata": {},
     "output_type": "display_data"
    },
    {
     "data": {
      "text/markdown": [
       "#### B2: case 2: Pieter as None: 1195 occurrences\n",
       "\n"
      ],
      "text/plain": [
       "<IPython.core.display.Markdown object>"
      ]
     },
     "metadata": {},
     "output_type": "display_data"
    },
    {
     "data": {
      "text/html": [
       "<p><b>result</b> <i>1</i>"
      ],
      "text/plain": [
       "<IPython.core.display.HTML object>"
      ]
     },
     "metadata": {},
     "output_type": "display_data"
    },
    {
     "data": {
      "text/html": [
       "<div class=\"tfsechead \"><span class=\"ltr\"><a target=\"_blank\" href=\"http://resources.huygens.knaw.nl/retroboeken/generalemissiven/#page=29&amp;source=1\" title=\"Show this document on Huygens\" sec=\"1 6:20\">1 6:20</a></span></div><div class=\" children\"><div class=\"contnr c3    \" ><div class=\"lbl c3  \" ><span class=\"nd\">line</span></div><div class=\"children hor wrap \"><div class=\"contnr c0 trm   \" ><div class=\"lbl c0 trm \" ><span class=\"txtu\">in </span></div><div class='features'><span class=\"trans xft\" ><span class=\"f\">trans=</span>in</span></div></div><div class=\"contnr c0 trm   \" ><div class=\"lbl c0 trm \" ><span class=\"txtu\">den </span></div><div class='features'><span class=\"trans xft\" ><span class=\"f\">trans=</span>den</span></div></div><div class=\"contnr c0 trm   \" ><div class=\"lbl c0 trm \" ><span class=\"txtu\">moort </span></div><div class='features'><span class=\"trans xft\" ><span class=\"f\">trans=</span>moort</span></div></div><div class=\"contnr c0 trm   \" ><div class=\"lbl c0 trm \" ><span class=\"txtu\">van </span></div><div class='features'><span class=\"trans xft\" ><span class=\"f\">trans=</span>van</span></div></div><div class=\"contnr c0 trm   \" ><div class=\"lbl c0 trm \" ><span class=\"txtu\">den </span></div><div class='features'><span class=\"trans xft\" ><span class=\"f\">trans=</span>den</span></div></div><div class=\"contnr c0 trm   \" ><div class=\"lbl c0 trm \" ><span class=\"txtu\">admirael </span></div><div class='features'><span class=\"trans xft\" ><span class=\"f\">trans=</span>admirael</span></div></div><div class=\"contnr c0 trm   \" ><div class=\"lbl c0 trm \" ><span class=\"txtu\">Verhoeven </span></div><div class='features'><span class=\"trans xft\" ><span class=\"f\">trans=</span>Verhoeven</span></div></div><div class=\"contnr c0 trm   \" ><div class=\"lbl c0 trm \" ><span class=\"txtu\">Admiraal </span></div><div class='features'><span class=\"trans xft\" ><span class=\"f\">trans=</span>Admiraal</span></div></div><div class=\"contnr c0 trm   hl\" ><div class=\"lbl c0 trm hl\" ><span class=\"txtu\">Pieter </span></div><div class='features'><span class=\"trans xft\" ><span class=\"f\">trans=</span>Pieter</span></div></div><div class=\"contnr c0 trm   \" ><div class=\"lbl c0 trm \" ><span class=\"txtu\">Willemsz. </span></div><div class='features'><span class=\"trans xft\" ><span class=\"f\">trans=</span>Willemsz</span></div></div><div class=\"contnr c0 trm   \" ><div class=\"lbl c0 trm \" ><span class=\"txtu\">Verhoeff </span></div><div class='features'><span class=\"trans xft\" ><span class=\"f\">trans=</span>Verhoeff</span></div></div><div class=\"contnr c0 trm   \" ><div class=\"lbl c0 trm \" ><span class=\"txtu\">kwam </span></div><div class='features'><span class=\"trans xft\" ><span class=\"f\">trans=</span>kwam</span></div></div><div class=\"contnr c0 trm   \" ><div class=\"lbl c0 trm \" ><span class=\"txtu\">23 </span></div><div class='features'><span class=\"trans xft\" ><span class=\"f\">trans=</span>23</span></div></div><div class=\"contnr c0 trm   \" ><div class=\"lbl c0 trm \" ><span class=\"txtu\">november </span></div><div class='features'><span class=\"trans xft\" ><span class=\"f\">trans=</span>november</span></div></div><div class=\"contnr c0 trm   \" ><div class=\"lbl c0 trm \" ><span class=\"txtu\">1608 </span></div><div class='features'><span class=\"trans xft\" ><span class=\"f\">trans=</span>1608</span></div></div><div class=\"contnr c0 trm   \" ><div class=\"lbl c0 trm \" ><span class=\"txtu\">met </span></div><div class='features'><span class=\"trans xft\" ><span class=\"f\">trans=</span>met</span></div></div><div class=\"contnr c0 trm   \" ><div class=\"lbl c0 trm \" ><span class=\"txtu\">zijn </span></div><div class='features'><span class=\"trans xft\" ><span class=\"f\">trans=</span>zijn</span></div></div><div class=\"contnr c0 trm   \" ><div class=\"lbl c0 trm \" ><span class=\"txtu\">vloot </span></div><div class='features'><span class=\"trans xft\" ><span class=\"f\">trans=</span>vloot</span></div></div><div class=\"contnr c0 trm   \" ><div class=\"lbl c0 trm \" ><span class=\"txtu\">voor </span></div><div class='features'><span class=\"trans xft\" ><span class=\"f\">trans=</span>voor</span></div></div></div></div></div>"
      ],
      "text/plain": [
       "<IPython.core.display.HTML object>"
      ]
     },
     "metadata": {},
     "output_type": "display_data"
    },
    {
     "data": {
      "text/markdown": [
       "#### B2: case 2: Pieter as PER: 371 occurrences\n",
       "\n"
      ],
      "text/plain": [
       "<IPython.core.display.Markdown object>"
      ]
     },
     "metadata": {},
     "output_type": "display_data"
    },
    {
     "data": {
      "text/html": [
       "<p><b>result</b> <i>1</i>"
      ],
      "text/plain": [
       "<IPython.core.display.HTML object>"
      ]
     },
     "metadata": {},
     "output_type": "display_data"
    },
    {
     "data": {
      "text/html": [
       "<div class=\"tfsechead \"><span class=\"ltr\"><a target=\"_blank\" href=\"http://resources.huygens.knaw.nl/retroboeken/generalemissiven/#page=26&amp;source=1\" title=\"Show this document on Huygens\" sec=\"1 3:1\">1 3:1</a></span></div><div class=\" children\"><div class=\"contnr c3    \" ><div class=\"lbl c3  \" ><span class=\"nd\">line</span></div><div class='features'><span class=\"entityid xft\" ><span class=\"f\">entityId=</span>e_14_9_45</span><span class=\"entitykind xft\" ><span class=\"f\">entityKind=</span>LOC</span></div><div class=\"children hor wrap \"><div class=\"contnr c0 trm   \" ><div class=\"lbl c0 trm \" ><span class=\"txtu\">I. </span></div><div class='features'><span class=\"trans xft\" ><span class=\"f\">trans=</span>I</span></div></div><div class=\"contnr c0 trm   hl\" ><div class=\"lbl c0 trm hl\" ><span class=\"txtu\">PIETER </span></div><div class='features'><span class=\"entityid xft\" ><span class=\"f\">entityId=</span>e_1_1_1</span><span class=\"entitykind xft\" ><span class=\"f\">entityKind=</span>PER</span><span class=\"trans xft\" ><span class=\"f\">trans=</span>PIETER</span></div></div><div class=\"contnr c0 trm   \" ><div class=\"lbl c0 trm \" ><span class=\"txtu\">BOTH, </span></div><div class='features'><span class=\"entityid xft\" ><span class=\"f\">entityId=</span>e_1_1_1</span><span class=\"entitykind xft\" ><span class=\"f\">entityKind=</span>PER</span><span class=\"trans xft\" ><span class=\"f\">trans=</span>BOTH</span></div></div><div class=\"contnr c0 trm   \" ><div class=\"lbl c0 trm \" ><span class=\"txtu\">AAN </span></div><div class='features'><span class=\"trans xft\" ><span class=\"f\">trans=</span>AAN</span></div></div><div class=\"contnr c0 trm   \" ><div class=\"lbl c0 trm \" ><span class=\"txtu\">BOORD </span></div><div class='features'><span class=\"trans xft\" ><span class=\"f\">trans=</span>BOORD</span></div></div><div class=\"contnr c0 trm   \" ><div class=\"lbl c0 trm \" ><span class=\"txtu\">VAN </span></div><div class='features'><span class=\"trans xft\" ><span class=\"f\">trans=</span>VAN</span></div></div><div class=\"contnr c0 trm   \" ><div class=\"lbl c0 trm \" ><span class=\"txtu\">HET </span></div><div class='features'><span class=\"trans xft\" ><span class=\"f\">trans=</span>HET</span></div></div><div class=\"contnr c0 trm   \" ><div class=\"lbl c0 trm \" ><span class=\"txtu\">WAPEN </span></div><div class='features'><span class=\"trans xft\" ><span class=\"f\">trans=</span>WAPEN</span></div></div><div class=\"contnr c0 trm   \" ><div class=\"lbl c0 trm \" ><span class=\"txtu\">VAN </span></div><div class='features'><span class=\"trans xft\" ><span class=\"f\">trans=</span>VAN</span></div></div><div class=\"contnr c0 trm   \" ><div class=\"lbl c0 trm \" ><span class=\"txtu\">AMSTERDAM, </span></div><div class='features'><span class=\"entityid xft\" ><span class=\"f\">entityId=</span>e_1_1_2</span><span class=\"entitykind xft\" ><span class=\"f\">entityKind=</span>SHP</span><span class=\"trans xft\" ><span class=\"f\">trans=</span>AMSTERDAM</span></div></div></div></div></div>"
      ],
      "text/plain": [
       "<IPython.core.display.HTML object>"
      ]
     },
     "metadata": {},
     "output_type": "display_data"
    },
    {
     "data": {
      "text/markdown": [
       "#### B2: case 2: Pieter as SHP: 2 occurrences\n",
       "\n"
      ],
      "text/plain": [
       "<IPython.core.display.Markdown object>"
      ]
     },
     "metadata": {},
     "output_type": "display_data"
    },
    {
     "data": {
      "text/html": [
       "<p><b>result</b> <i>1</i>"
      ],
      "text/plain": [
       "<IPython.core.display.HTML object>"
      ]
     },
     "metadata": {},
     "output_type": "display_data"
    },
    {
     "data": {
      "text/html": [
       "<div class=\"tfsechead \"><span class=\"ltr\"><a target=\"_blank\" href=\"http://resources.huygens.knaw.nl/retroboeken/generalemissiven/#page=27&amp;source=1\" title=\"Show this document on Huygens\" sec=\"1 4:1\">1 4:1</a></span></div><div class=\" children\"><div class=\"contnr c3    \" ><div class=\"lbl c3  \" ><span class=\"nd\">line</span></div><div class=\"children hor wrap \"><div class=\"contnr c0 trm   \" ><div class=\"lbl c0 trm \" ><span class=\"txtu\">IV. </span></div><div class='features'><span class=\"trans xft\" ><span class=\"f\">trans=</span>IV</span></div></div><div class=\"contnr c0 trm   hl\" ><div class=\"lbl c0 trm hl\" ><span class=\"txtu\">PIETER </span></div><div class='features'><span class=\"entityid xft\" ><span class=\"f\">entityId=</span>e_1_4_1</span><span class=\"entitykind xft\" ><span class=\"f\">entityKind=</span>SHP</span><span class=\"trans xft\" ><span class=\"f\">trans=</span>PIETER</span></div></div><div class=\"contnr c0 trm   \" ><div class=\"lbl c0 trm \" ><span class=\"txtu\">BOTH, </span></div><div class='features'><span class=\"entityid xft\" ><span class=\"f\">entityId=</span>e_1_4_2</span><span class=\"entitykind xft\" ><span class=\"f\">entityKind=</span>LOC</span><span class=\"trans xft\" ><span class=\"f\">trans=</span>BOTH</span></div></div><div class=\"contnr c0 trm   \" ><div class=\"lbl c0 trm \" ><span class=\"txtu\">KASTEEL </span></div><div class='features'><span class=\"trans xft\" ><span class=\"f\">trans=</span>KASTEEL</span></div></div><div class=\"contnr c0 trm   \" ><div class=\"lbl c0 trm \" ><span class=\"txtu\">NASSAU </span></div><div class='features'><span class=\"entityid xft\" ><span class=\"f\">entityId=</span>e_1_4_3</span><span class=\"entitykind xft\" ><span class=\"f\">entityKind=</span>LOC</span><span class=\"trans xft\" ><span class=\"f\">trans=</span>NASSAU</span></div></div><div class=\"contnr c0 trm   \" ><div class=\"lbl c0 trm \" ><span class=\"txtu\">OP </span></div><div class='features'><span class=\"trans xft\" ><span class=\"f\">trans=</span>OP</span></div></div><div class=\"contnr c0 trm   \" ><div class=\"lbl c0 trm \" ><span class=\"txtu\">BANDA </span></div><div class='features'><span class=\"entityid xft\" ><span class=\"f\">entityId=</span>e_1_4_5</span><span class=\"entitykind xft\" ><span class=\"f\">entityKind=</span>LOC</span><span class=\"trans xft\" ><span class=\"f\">trans=</span>BANDA</span></div></div><div class=\"contnr c0 trm   \" ><div class=\"lbl c0 trm \" ><span class=\"txtu\">18 </span></div><div class='features'><span class=\"trans xft\" ><span class=\"f\">trans=</span>18</span></div></div><div class=\"contnr c0 trm   \" ><div class=\"lbl c0 trm \" ><span class=\"txtu\">juli </span></div><div class='features'><span class=\"trans xft\" ><span class=\"f\">trans=</span>juli</span></div></div><div class=\"contnr c0 trm   \" ><div class=\"lbl c0 trm \" ><span class=\"txtu\">1611. </span></div><div class='features'><span class=\"trans xft\" ><span class=\"f\">trans=</span>1611</span></div></div></div></div></div>"
      ],
      "text/plain": [
       "<IPython.core.display.HTML object>"
      ]
     },
     "metadata": {},
     "output_type": "display_data"
    },
    {
     "data": {
      "text/markdown": [
       "#### B2: case 3: Both as None: 11 occurrences\n",
       "\n"
      ],
      "text/plain": [
       "<IPython.core.display.Markdown object>"
      ]
     },
     "metadata": {},
     "output_type": "display_data"
    },
    {
     "data": {
      "text/html": [
       "<p><b>result</b> <i>1</i>"
      ],
      "text/plain": [
       "<IPython.core.display.HTML object>"
      ]
     },
     "metadata": {},
     "output_type": "display_data"
    },
    {
     "data": {
      "text/html": [
       "<div class=\"tfsechead \"><span class=\"ltr\"><a target=\"_blank\" href=\"http://resources.huygens.knaw.nl/retroboeken/generalemissiven/#page=48&amp;source=1\" title=\"Show this document on Huygens\" sec=\"1 25:2\">1 25:2</a></span></div><div class=\" children\"><div class=\"contnr c3    \" ><div class=\"lbl c3  \" ><span class=\"nd\">line</span></div><div class=\"children hor wrap \"><div class=\"contnr c0 trm   \" ><div class=\"lbl c0 trm \" ><span class=\"txtu\">Coteels </span></div><div class='features'><span class=\"trans xft\" ><span class=\"f\">trans=</span>Coteels</span></div></div><div class=\"contnr c0 trm   \" ><div class=\"lbl c0 trm \" ><span class=\"txtu\">Mateo </span></div><div class='features'><span class=\"trans xft\" ><span class=\"f\">trans=</span>Mateo</span></div></div><div class=\"contnr c0 trm   \" ><div class=\"lbl c0 trm \" ><span class=\"txtu\">Coteels </span></div><div class='features'><span class=\"trans xft\" ><span class=\"f\">trans=</span>Coteels</span></div></div><div class=\"contnr c0 trm   \" ><div class=\"lbl c0 trm \" ><span class=\"txtu\">kwam </span></div><div class='features'><span class=\"trans xft\" ><span class=\"f\">trans=</span>kwam</span></div></div><div class=\"contnr c0 trm   \" ><div class=\"lbl c0 trm \" ><span class=\"txtu\">als </span></div><div class='features'><span class=\"trans xft\" ><span class=\"f\">trans=</span>als</span></div></div><div class=\"contnr c0 trm   \" ><div class=\"lbl c0 trm \" ><span class=\"txtu\">opperkoopman </span></div><div class='features'><span class=\"trans xft\" ><span class=\"f\">trans=</span>opperkoopman</span></div></div><div class=\"contnr c0 trm   \" ><div class=\"lbl c0 trm \" ><span class=\"txtu\">onder </span></div><div class='features'><span class=\"trans xft\" ><span class=\"f\">trans=</span>onder</span></div></div><div class=\"contnr c0 trm   hl\" ><div class=\"lbl c0 trm hl\" ><span class=\"txtu\">Both </span></div><div class='features'><span class=\"trans xft\" ><span class=\"f\">trans=</span>Both</span></div></div><div class=\"contnr c0 trm   \" ><div class=\"lbl c0 trm \" ><span class=\"txtu\">naar </span></div><div class='features'><span class=\"trans xft\" ><span class=\"f\">trans=</span>naar</span></div></div><div class=\"contnr c0 trm   \" ><div class=\"lbl c0 trm \" ><span class=\"txtu\">Indië; </span></div><div class='features'><span class=\"trans xft\" ><span class=\"f\">trans=</span>Indië</span></div></div><div class=\"contnr c0 trm   \" ><div class=\"lbl c0 trm \" ><span class=\"txtu\">hij </span></div><div class='features'><span class=\"trans xft\" ><span class=\"f\">trans=</span>hij</span></div></div><div class=\"contnr c0 trm   \" ><div class=\"lbl c0 trm \" ><span class=\"txtu\">werd </span></div><div class='features'><span class=\"trans xft\" ><span class=\"f\">trans=</span>werd</span></div></div><div class=\"contnr c0 trm   \" ><div class=\"lbl c0 trm \" ><span class=\"txtu\">28 </span></div><div class='features'><span class=\"trans xft\" ><span class=\"f\">trans=</span>28</span></div></div><div class=\"contnr c0 trm   \" ><div class=\"lbl c0 trm \" ><span class=\"txtu\">dec. </span></div><div class='features'><span class=\"trans xft\" ><span class=\"f\">trans=</span>dec</span></div></div><div class=\"contnr c0 trm   \" ><div class=\"lbl c0 trm \" ><span class=\"txtu\">1610 </span></div><div class='features'><span class=\"trans xft\" ><span class=\"f\">trans=</span>1610</span></div></div></div></div></div>"
      ],
      "text/plain": [
       "<IPython.core.display.HTML object>"
      ]
     },
     "metadata": {},
     "output_type": "display_data"
    },
    {
     "data": {
      "text/markdown": [
       "#### B2: case 3: Both as LOC: 1 occurrence\n",
       "\n"
      ],
      "text/plain": [
       "<IPython.core.display.Markdown object>"
      ]
     },
     "metadata": {},
     "output_type": "display_data"
    },
    {
     "data": {
      "text/html": [
       "<p><b>result</b> <i>1</i>"
      ],
      "text/plain": [
       "<IPython.core.display.HTML object>"
      ]
     },
     "metadata": {},
     "output_type": "display_data"
    },
    {
     "data": {
      "text/html": [
       "<div class=\"tfsechead \"><span class=\"ltr\"><a target=\"_blank\" href=\"http://resources.huygens.knaw.nl/retroboeken/generalemissiven/#page=27&amp;source=1\" title=\"Show this document on Huygens\" sec=\"1 4:1\">1 4:1</a></span></div><div class=\" children\"><div class=\"contnr c3    \" ><div class=\"lbl c3  \" ><span class=\"nd\">line</span></div><div class=\"children hor wrap \"><div class=\"contnr c0 trm   \" ><div class=\"lbl c0 trm \" ><span class=\"txtu\">IV. </span></div><div class='features'><span class=\"trans xft\" ><span class=\"f\">trans=</span>IV</span></div></div><div class=\"contnr c0 trm   \" ><div class=\"lbl c0 trm \" ><span class=\"txtu\">PIETER </span></div><div class='features'><span class=\"entityid xft\" ><span class=\"f\">entityId=</span>e_1_4_1</span><span class=\"entitykind xft\" ><span class=\"f\">entityKind=</span>SHP</span><span class=\"trans xft\" ><span class=\"f\">trans=</span>PIETER</span></div></div><div class=\"contnr c0 trm   hl\" ><div class=\"lbl c0 trm hl\" ><span class=\"txtu\">BOTH, </span></div><div class='features'><span class=\"entityid xft\" ><span class=\"f\">entityId=</span>e_1_4_2</span><span class=\"entitykind xft\" ><span class=\"f\">entityKind=</span>LOC</span><span class=\"trans xft\" ><span class=\"f\">trans=</span>BOTH</span></div></div><div class=\"contnr c0 trm   \" ><div class=\"lbl c0 trm \" ><span class=\"txtu\">KASTEEL </span></div><div class='features'><span class=\"trans xft\" ><span class=\"f\">trans=</span>KASTEEL</span></div></div><div class=\"contnr c0 trm   \" ><div class=\"lbl c0 trm \" ><span class=\"txtu\">NASSAU </span></div><div class='features'><span class=\"entityid xft\" ><span class=\"f\">entityId=</span>e_1_4_3</span><span class=\"entitykind xft\" ><span class=\"f\">entityKind=</span>LOC</span><span class=\"trans xft\" ><span class=\"f\">trans=</span>NASSAU</span></div></div><div class=\"contnr c0 trm   \" ><div class=\"lbl c0 trm \" ><span class=\"txtu\">OP </span></div><div class='features'><span class=\"trans xft\" ><span class=\"f\">trans=</span>OP</span></div></div><div class=\"contnr c0 trm   \" ><div class=\"lbl c0 trm \" ><span class=\"txtu\">BANDA </span></div><div class='features'><span class=\"entityid xft\" ><span class=\"f\">entityId=</span>e_1_4_5</span><span class=\"entitykind xft\" ><span class=\"f\">entityKind=</span>LOC</span><span class=\"trans xft\" ><span class=\"f\">trans=</span>BANDA</span></div></div><div class=\"contnr c0 trm   \" ><div class=\"lbl c0 trm \" ><span class=\"txtu\">18 </span></div><div class='features'><span class=\"trans xft\" ><span class=\"f\">trans=</span>18</span></div></div><div class=\"contnr c0 trm   \" ><div class=\"lbl c0 trm \" ><span class=\"txtu\">juli </span></div><div class='features'><span class=\"trans xft\" ><span class=\"f\">trans=</span>juli</span></div></div><div class=\"contnr c0 trm   \" ><div class=\"lbl c0 trm \" ><span class=\"txtu\">1611. </span></div><div class='features'><span class=\"trans xft\" ><span class=\"f\">trans=</span>1611</span></div></div></div></div></div>"
      ],
      "text/plain": [
       "<IPython.core.display.HTML object>"
      ]
     },
     "metadata": {},
     "output_type": "display_data"
    },
    {
     "data": {
      "text/markdown": [
       "#### B2: case 3: Both as PER: 35 occurrences\n",
       "\n"
      ],
      "text/plain": [
       "<IPython.core.display.Markdown object>"
      ]
     },
     "metadata": {},
     "output_type": "display_data"
    },
    {
     "data": {
      "text/html": [
       "<p><b>result</b> <i>1</i>"
      ],
      "text/plain": [
       "<IPython.core.display.HTML object>"
      ]
     },
     "metadata": {},
     "output_type": "display_data"
    },
    {
     "data": {
      "text/html": [
       "<div class=\"tfsechead \"><span class=\"ltr\"><a target=\"_blank\" href=\"http://resources.huygens.knaw.nl/retroboeken/generalemissiven/#page=26&amp;source=1\" title=\"Show this document on Huygens\" sec=\"1 3:1\">1 3:1</a></span></div><div class=\" children\"><div class=\"contnr c3    \" ><div class=\"lbl c3  \" ><span class=\"nd\">line</span></div><div class='features'><span class=\"entityid xft\" ><span class=\"f\">entityId=</span>e_14_9_45</span><span class=\"entitykind xft\" ><span class=\"f\">entityKind=</span>LOC</span></div><div class=\"children hor wrap \"><div class=\"contnr c0 trm   \" ><div class=\"lbl c0 trm \" ><span class=\"txtu\">I. </span></div><div class='features'><span class=\"trans xft\" ><span class=\"f\">trans=</span>I</span></div></div><div class=\"contnr c0 trm   \" ><div class=\"lbl c0 trm \" ><span class=\"txtu\">PIETER </span></div><div class='features'><span class=\"entityid xft\" ><span class=\"f\">entityId=</span>e_1_1_1</span><span class=\"entitykind xft\" ><span class=\"f\">entityKind=</span>PER</span><span class=\"trans xft\" ><span class=\"f\">trans=</span>PIETER</span></div></div><div class=\"contnr c0 trm   hl\" ><div class=\"lbl c0 trm hl\" ><span class=\"txtu\">BOTH, </span></div><div class='features'><span class=\"entityid xft\" ><span class=\"f\">entityId=</span>e_1_1_1</span><span class=\"entitykind xft\" ><span class=\"f\">entityKind=</span>PER</span><span class=\"trans xft\" ><span class=\"f\">trans=</span>BOTH</span></div></div><div class=\"contnr c0 trm   \" ><div class=\"lbl c0 trm \" ><span class=\"txtu\">AAN </span></div><div class='features'><span class=\"trans xft\" ><span class=\"f\">trans=</span>AAN</span></div></div><div class=\"contnr c0 trm   \" ><div class=\"lbl c0 trm \" ><span class=\"txtu\">BOORD </span></div><div class='features'><span class=\"trans xft\" ><span class=\"f\">trans=</span>BOORD</span></div></div><div class=\"contnr c0 trm   \" ><div class=\"lbl c0 trm \" ><span class=\"txtu\">VAN </span></div><div class='features'><span class=\"trans xft\" ><span class=\"f\">trans=</span>VAN</span></div></div><div class=\"contnr c0 trm   \" ><div class=\"lbl c0 trm \" ><span class=\"txtu\">HET </span></div><div class='features'><span class=\"trans xft\" ><span class=\"f\">trans=</span>HET</span></div></div><div class=\"contnr c0 trm   \" ><div class=\"lbl c0 trm \" ><span class=\"txtu\">WAPEN </span></div><div class='features'><span class=\"trans xft\" ><span class=\"f\">trans=</span>WAPEN</span></div></div><div class=\"contnr c0 trm   \" ><div class=\"lbl c0 trm \" ><span class=\"txtu\">VAN </span></div><div class='features'><span class=\"trans xft\" ><span class=\"f\">trans=</span>VAN</span></div></div><div class=\"contnr c0 trm   \" ><div class=\"lbl c0 trm \" ><span class=\"txtu\">AMSTERDAM, </span></div><div class='features'><span class=\"entityid xft\" ><span class=\"f\">entityId=</span>e_1_1_2</span><span class=\"entitykind xft\" ><span class=\"f\">entityKind=</span>SHP</span><span class=\"trans xft\" ><span class=\"f\">trans=</span>AMSTERDAM</span></div></div></div></div></div>"
      ],
      "text/plain": [
       "<IPython.core.display.HTML object>"
      ]
     },
     "metadata": {},
     "output_type": "display_data"
    },
    {
     "data": {
      "text/markdown": [
       "#### B2: case 4: Van as None: 5252 occurrences\n",
       "\n"
      ],
      "text/plain": [
       "<IPython.core.display.Markdown object>"
      ]
     },
     "metadata": {},
     "output_type": "display_data"
    },
    {
     "data": {
      "text/html": [
       "<p><b>result</b> <i>1</i>"
      ],
      "text/plain": [
       "<IPython.core.display.HTML object>"
      ]
     },
     "metadata": {},
     "output_type": "display_data"
    },
    {
     "data": {
      "text/html": [
       "<div class=\"tfsechead \"><span class=\"ltr\"><a target=\"_blank\" href=\"http://resources.huygens.knaw.nl/retroboeken/generalemissiven/#page=26&amp;source=1\" title=\"Show this document on Huygens\" sec=\"1 3:1\">1 3:1</a></span></div><div class=\" children\"><div class=\"contnr c3    \" ><div class=\"lbl c3  \" ><span class=\"nd\">line</span></div><div class='features'><span class=\"entityid xft\" ><span class=\"f\">entityId=</span>e_14_9_45</span><span class=\"entitykind xft\" ><span class=\"f\">entityKind=</span>LOC</span></div><div class=\"children hor wrap \"><div class=\"contnr c0 trm   \" ><div class=\"lbl c0 trm \" ><span class=\"txtu\">I. </span></div><div class='features'><span class=\"trans xft\" ><span class=\"f\">trans=</span>I</span></div></div><div class=\"contnr c0 trm   \" ><div class=\"lbl c0 trm \" ><span class=\"txtu\">PIETER </span></div><div class='features'><span class=\"entityid xft\" ><span class=\"f\">entityId=</span>e_1_1_1</span><span class=\"entitykind xft\" ><span class=\"f\">entityKind=</span>PER</span><span class=\"trans xft\" ><span class=\"f\">trans=</span>PIETER</span></div></div><div class=\"contnr c0 trm   \" ><div class=\"lbl c0 trm \" ><span class=\"txtu\">BOTH, </span></div><div class='features'><span class=\"entityid xft\" ><span class=\"f\">entityId=</span>e_1_1_1</span><span class=\"entitykind xft\" ><span class=\"f\">entityKind=</span>PER</span><span class=\"trans xft\" ><span class=\"f\">trans=</span>BOTH</span></div></div><div class=\"contnr c0 trm   \" ><div class=\"lbl c0 trm \" ><span class=\"txtu\">AAN </span></div><div class='features'><span class=\"trans xft\" ><span class=\"f\">trans=</span>AAN</span></div></div><div class=\"contnr c0 trm   \" ><div class=\"lbl c0 trm \" ><span class=\"txtu\">BOORD </span></div><div class='features'><span class=\"trans xft\" ><span class=\"f\">trans=</span>BOORD</span></div></div><div class=\"contnr c0 trm   hl\" ><div class=\"lbl c0 trm hl\" ><span class=\"txtu\">VAN </span></div><div class='features'><span class=\"trans xft\" ><span class=\"f\">trans=</span>VAN</span></div></div><div class=\"contnr c0 trm   \" ><div class=\"lbl c0 trm \" ><span class=\"txtu\">HET </span></div><div class='features'><span class=\"trans xft\" ><span class=\"f\">trans=</span>HET</span></div></div><div class=\"contnr c0 trm   \" ><div class=\"lbl c0 trm \" ><span class=\"txtu\">WAPEN </span></div><div class='features'><span class=\"trans xft\" ><span class=\"f\">trans=</span>WAPEN</span></div></div><div class=\"contnr c0 trm   \" ><div class=\"lbl c0 trm \" ><span class=\"txtu\">VAN </span></div><div class='features'><span class=\"trans xft\" ><span class=\"f\">trans=</span>VAN</span></div></div><div class=\"contnr c0 trm   \" ><div class=\"lbl c0 trm \" ><span class=\"txtu\">AMSTERDAM, </span></div><div class='features'><span class=\"entityid xft\" ><span class=\"f\">entityId=</span>e_1_1_2</span><span class=\"entitykind xft\" ><span class=\"f\">entityKind=</span>SHP</span><span class=\"trans xft\" ><span class=\"f\">trans=</span>AMSTERDAM</span></div></div></div></div></div>"
      ],
      "text/plain": [
       "<IPython.core.display.HTML object>"
      ]
     },
     "metadata": {},
     "output_type": "display_data"
    },
    {
     "data": {
      "text/markdown": [
       "#### B2: case 4: Van as PER: 1587 occurrences\n",
       "\n"
      ],
      "text/plain": [
       "<IPython.core.display.Markdown object>"
      ]
     },
     "metadata": {},
     "output_type": "display_data"
    },
    {
     "data": {
      "text/html": [
       "<p><b>result</b> <i>1</i>"
      ],
      "text/plain": [
       "<IPython.core.display.HTML object>"
      ]
     },
     "metadata": {},
     "output_type": "display_data"
    },
    {
     "data": {
      "text/html": [
       "<div class=\"tfsechead \"><span class=\"ltr\"><a target=\"_blank\" href=\"http://resources.huygens.knaw.nl/retroboeken/generalemissiven/#page=26&amp;source=1\" title=\"Show this document on Huygens\" sec=\"1 3:2\">1 3:2</a></span></div><div class=\" children\"><div class=\"contnr c3    \" ><div class=\"lbl c3  \" ><span class=\"nd\">line</span></div><div class=\"children hor wrap \"><div class=\"contnr c0 trm   \" ><div class=\"lbl c0 trm \" ><span class=\"txtu\">TER </span></div><div class='features'><span class=\"entityid xft\" ><span class=\"f\">entityId=</span>e_1_3_2</span><span class=\"entitykind xft\" ><span class=\"f\">entityKind=</span>PER</span><span class=\"trans xft\" ><span class=\"f\">trans=</span>TER</span></div></div><div class=\"contnr c0 trm   \" ><div class=\"lbl c0 trm \" ><span class=\"txtu\">REDE </span></div><div class='features'><span class=\"entityid xft\" ><span class=\"f\">entityId=</span>e_1_3_2</span><span class=\"entitykind xft\" ><span class=\"f\">entityKind=</span>PER</span><span class=\"trans xft\" ><span class=\"f\">trans=</span>REDE</span></div></div><div class=\"contnr c0 trm   hl\" ><div class=\"lbl c0 trm hl\" ><span class=\"txtu\">VAN </span></div><div class='features'><span class=\"entityid xft\" ><span class=\"f\">entityId=</span>e_1_3_2</span><span class=\"entitykind xft\" ><span class=\"f\">entityKind=</span>PER</span><span class=\"trans xft\" ><span class=\"f\">trans=</span>VAN</span></div></div><div class=\"contnr c0 trm   \" ><div class=\"lbl c0 trm \" ><span class=\"txtu\">MAURITIUS </span></div><div class='features'><span class=\"entityid xft\" ><span class=\"f\">entityId=</span>e_1_3_2</span><span class=\"entitykind xft\" ><span class=\"f\">entityKind=</span>PER</span><span class=\"trans xft\" ><span class=\"f\">trans=</span>MAURITIUS</span></div></div><div class=\"contnr c0 trm   \" ><div class=\"lbl c0 trm \" ><span class=\"txtu\">14 </span></div><div class='features'><span class=\"trans xft\" ><span class=\"f\">trans=</span>14</span></div></div><div class=\"contnr c0 trm   \" ><div class=\"lbl c0 trm \" ><span class=\"txtu\">oktober </span></div><div class='features'><span class=\"trans xft\" ><span class=\"f\">trans=</span>oktober</span></div></div><div class=\"contnr c0 trm   \" ><div class=\"lbl c0 trm \" ><span class=\"txtu\">1610. </span></div><div class='features'><span class=\"trans xft\" ><span class=\"f\">trans=</span>1610</span></div></div></div></div></div>"
      ],
      "text/plain": [
       "<IPython.core.display.HTML object>"
      ]
     },
     "metadata": {},
     "output_type": "display_data"
    },
    {
     "data": {
      "text/markdown": [
       "#### B2: case 4: Van as SHP: 1 occurrence\n",
       "\n"
      ],
      "text/plain": [
       "<IPython.core.display.Markdown object>"
      ]
     },
     "metadata": {},
     "output_type": "display_data"
    },
    {
     "data": {
      "text/html": [
       "<p><b>result</b> <i>1</i>"
      ],
      "text/plain": [
       "<IPython.core.display.HTML object>"
      ]
     },
     "metadata": {},
     "output_type": "display_data"
    },
    {
     "data": {
      "text/html": [
       "<div class=\"tfsechead \"><span class=\"ltr\"><a target=\"_blank\" href=\"http://resources.huygens.knaw.nl/retroboeken/generalemissiven/#page=308&amp;source=10\" title=\"Show this document on Huygens\" sec=\"10 297:13\">10 297:13</a></span></div><div class=\" children\"><div class=\"contnr c3    \" ><div class=\"lbl c3  \" ><span class=\"nd\">line</span></div><div class=\"children hor wrap \"><div class=\"contnr c0 trm   \" ><div class=\"lbl c0 trm \" ><span class=\"txtu\">naderhand </span></div><div class='features'><span class=\"trans xft\" ><span class=\"f\">trans=</span>naderhand</span></div></div><div class=\"contnr c0 trm   \" ><div class=\"lbl c0 trm \" ><span class=\"txtu\">gearriveerd. </span></div><div class='features'><span class=\"trans xft\" ><span class=\"f\">trans=</span>gearriveerd</span></div></div><div class=\"contnr c0 trm   \" ><div class=\"lbl c0 trm \" ><span class=\"txtu\">De </span></div><div class='features'><span class=\"trans xft\" ><span class=\"f\">trans=</span>De</span></div></div><div class=\"contnr c0 trm   \" ><div class=\"lbl c0 trm \" ><span class=\"txtu\">Karsenhof </span></div><div class='features'><span class=\"entityid xft\" ><span class=\"f\">entityId=</span>e_10_8_47</span><span class=\"entitykind xft\" ><span class=\"f\">entityKind=</span>SHP</span><span class=\"trans xft\" ><span class=\"f\">trans=</span>Karsenhof</span></div></div><div class=\"contnr c0 trm   hl\" ><div class=\"lbl c0 trm hl\" ><span class=\"txtu\">Van </span></div><div class='features'><span class=\"entityid xft\" ><span class=\"f\">entityId=</span>e_10_8_47</span><span class=\"entitykind xft\" ><span class=\"f\">entityKind=</span>SHP</span><span class=\"trans xft\" ><span class=\"f\">trans=</span>Van</span></div></div><div class=\"contnr c0 trm   \" ><div class=\"lbl c0 trm \" ><span class=\"txtu\">Alsem, </span></div><div class='features'><span class=\"entityid xft\" ><span class=\"f\">entityId=</span>e_10_8_47</span><span class=\"entitykind xft\" ><span class=\"f\">entityKind=</span>SHP</span><span class=\"trans xft\" ><span class=\"f\">trans=</span>Alsem</span></div></div><div class=\"contnr c0 trm   \" ><div class=\"lbl c0 trm \" ><span class=\"txtu\">Patmos, </span></div><div class='features'><span class=\"entityid xft\" ><span class=\"f\">entityId=</span>e_10_8_49</span><span class=\"entitykind xft\" ><span class=\"f\">entityKind=</span>SHP</span><span class=\"trans xft\" ><span class=\"f\">trans=</span>Patmos</span></div></div><div class=\"contnr c0 trm   \" ><div class=\"lbl c0 trm \" ><span class=\"txtu\">Klarabeek </span></div><div class='features'><span class=\"entityid xft\" ><span class=\"f\">entityId=</span>e_10_8_50</span><span class=\"entitykind xft\" ><span class=\"f\">entityKind=</span>SHP</span><span class=\"trans xft\" ><span class=\"f\">trans=</span>Klarabeek</span></div></div><div class=\"contnr c0 trm   \" ><div class=\"lbl c0 trm \" ><span class=\"txtu\">en </span></div><div class='features'><span class=\"trans xft\" ><span class=\"f\">trans=</span>en</span></div></div><div class=\"contnr c0 trm   \" ><div class=\"lbl c0 trm \" ><span class=\"txtu\">Sijbekarspel </span></div><div class='features'><span class=\"entityid xft\" ><span class=\"f\">entityId=</span>e_10_8_52</span><span class=\"entitykind xft\" ><span class=\"f\">entityKind=</span>SHP</span><span class=\"trans xft\" ><span class=\"f\">trans=</span>Sijbekarspel</span></div></div></div></div></div>"
      ],
      "text/plain": [
       "<IPython.core.display.HTML object>"
      ]
     },
     "metadata": {},
     "output_type": "display_data"
    },
    {
     "data": {
      "text/markdown": [
       "#### B2: case 5: Indië as None: 593 occurrences\n",
       "\n"
      ],
      "text/plain": [
       "<IPython.core.display.Markdown object>"
      ]
     },
     "metadata": {},
     "output_type": "display_data"
    },
    {
     "data": {
      "text/html": [
       "<p><b>result</b> <i>1</i>"
      ],
      "text/plain": [
       "<IPython.core.display.HTML object>"
      ]
     },
     "metadata": {},
     "output_type": "display_data"
    },
    {
     "data": {
      "text/html": [
       "<div class=\"tfsechead \"><span class=\"ltr\"><a target=\"_blank\" href=\"http://resources.huygens.knaw.nl/retroboeken/generalemissiven/#page=32&amp;source=1\" title=\"Show this document on Huygens\" sec=\"1 9:16\">1 9:16</a></span></div><div class=\" children\"><div class=\"contnr c3    \" ><div class=\"lbl c3  \" ><span class=\"nd\">line</span></div><div class=\"children hor wrap \"><div class=\"contnr c0 trm   \" ><div class=\"lbl c0 trm \" ><span class=\"txtu\">Jacob </span></div><div class='features'><span class=\"trans xft\" ><span class=\"f\">trans=</span>Jacob</span></div></div><div class=\"contnr c0 trm   \" ><div class=\"lbl c0 trm \" ><span class=\"txtu\">Jansz. </span></div><div class='features'><span class=\"trans xft\" ><span class=\"f\">trans=</span>Jansz</span></div></div><div class=\"contnr c0 trm   \" ><div class=\"lbl c0 trm \" ><span class=\"txtu\">Patacka </span></div><div class='features'><span class=\"trans xft\" ><span class=\"f\">trans=</span>Patacka</span></div></div><div class=\"contnr c0 trm   \" ><div class=\"lbl c0 trm \" ><span class=\"txtu\">was </span></div><div class='features'><span class=\"trans xft\" ><span class=\"f\">trans=</span>was</span></div></div><div class=\"contnr c0 trm   \" ><div class=\"lbl c0 trm \" ><span class=\"txtu\">reeds </span></div><div class='features'><span class=\"trans xft\" ><span class=\"f\">trans=</span>reeds</span></div></div><div class=\"contnr c0 trm   \" ><div class=\"lbl c0 trm \" ><span class=\"txtu\">in </span></div><div class='features'><span class=\"trans xft\" ><span class=\"f\">trans=</span>in</span></div></div><div class=\"contnr c0 trm   \" ><div class=\"lbl c0 trm \" ><span class=\"txtu\">1608 </span></div><div class='features'><span class=\"trans xft\" ><span class=\"f\">trans=</span>1608</span></div></div><div class=\"contnr c0 trm   \" ><div class=\"lbl c0 trm \" ><span class=\"txtu\">als </span></div><div class='features'><span class=\"trans xft\" ><span class=\"f\">trans=</span>als</span></div></div><div class=\"contnr c0 trm   \" ><div class=\"lbl c0 trm \" ><span class=\"txtu\">onderkoopman </span></div><div class='features'><span class=\"trans xft\" ><span class=\"f\">trans=</span>onderkoopman</span></div></div><div class=\"contnr c0 trm   \" ><div class=\"lbl c0 trm \" ><span class=\"txtu\">onder </span></div><div class='features'><span class=\"trans xft\" ><span class=\"f\">trans=</span>onder</span></div></div><div class=\"contnr c0 trm   \" ><div class=\"lbl c0 trm \" ><span class=\"txtu\">Van </span></div><div class='features'><span class=\"trans xft\" ><span class=\"f\">trans=</span>Van</span></div></div><div class=\"contnr c0 trm   \" ><div class=\"lbl c0 trm \" ><span class=\"txtu\">Caerden </span></div><div class='features'><span class=\"trans xft\" ><span class=\"f\">trans=</span>Caerden</span></div></div><div class=\"contnr c0 trm   \" ><div class=\"lbl c0 trm \" ><span class=\"txtu\">in </span></div><div class='features'><span class=\"trans xft\" ><span class=\"f\">trans=</span>in</span></div></div><div class=\"contnr c0 trm   hl\" ><div class=\"lbl c0 trm hl\" ><span class=\"txtu\">Indië, </span></div><div class='features'><span class=\"trans xft\" ><span class=\"f\">trans=</span>Indië</span></div></div></div></div></div>"
      ],
      "text/plain": [
       "<IPython.core.display.HTML object>"
      ]
     },
     "metadata": {},
     "output_type": "display_data"
    },
    {
     "data": {
      "text/markdown": [
       "#### B2: case 5: Indië as LOC: 22 occurrences\n",
       "\n"
      ],
      "text/plain": [
       "<IPython.core.display.Markdown object>"
      ]
     },
     "metadata": {},
     "output_type": "display_data"
    },
    {
     "data": {
      "text/html": [
       "<p><b>result</b> <i>1</i>"
      ],
      "text/plain": [
       "<IPython.core.display.HTML object>"
      ]
     },
     "metadata": {},
     "output_type": "display_data"
    },
    {
     "data": {
      "text/html": [
       "<div class=\"tfsechead \"><span class=\"ltr\"><a target=\"_blank\" href=\"http://resources.huygens.knaw.nl/retroboeken/generalemissiven/#page=26&amp;source=1\" title=\"Show this document on Huygens\" sec=\"1 3:2\">1 3:2</a></span></div><div class=\" children\"><div class=\"contnr c3    \" ><div class=\"lbl c3  \" ><span class=\"nd\">line</span></div><div class='features'><span class=\"entityid xft\" ><span class=\"f\">entityId=</span>e_14_10_44</span><span class=\"entitykind xft\" ><span class=\"f\">entityKind=</span>ORG</span></div><div class=\"children hor wrap \"><div class=\"contnr c0 trm   \" ><div class=\"lbl c0 trm \" ><span class=\"txtu\">VOOR </span></div><div class='features'><span class=\"trans xft\" ><span class=\"f\">trans=</span>VOOR</span></div></div><div class=\"contnr c0 trm   \" ><div class=\"lbl c0 trm \" ><span class=\"txtu\">ILE </span></div><div class='features'><span class=\"trans xft\" ><span class=\"f\">trans=</span>ILE</span></div></div><div class=\"contnr c0 trm   \" ><div class=\"lbl c0 trm \" ><span class=\"txtu\">DE </span></div><div class='features'><span class=\"entityid xft\" ><span class=\"f\">entityId=</span>e_1_1_3</span><span class=\"entitykind xft\" ><span class=\"f\">entityKind=</span>LOC</span><span class=\"trans xft\" ><span class=\"f\">trans=</span>DE</span></div></div><div class=\"contnr c0 trm   \" ><div class=\"lbl c0 trm \" ><span class=\"txtu\">MAYO </span></div><div class='features'><span class=\"entityid xft\" ><span class=\"f\">entityId=</span>e_1_1_3</span><span class=\"entitykind xft\" ><span class=\"f\">entityKind=</span>LOC</span><span class=\"trans xft\" ><span class=\"f\">trans=</span>MAYO</span></div></div><div class=\"contnr c0 trm   \" ><div class=\"lbl c0 trm \" ><span class=\"txtu\">De </span></div><div class='features'><span class=\"trans xft\" ><span class=\"f\">trans=</span>De</span></div></div><div class=\"contnr c0 trm   \" ><div class=\"lbl c0 trm \" ><span class=\"txtu\">eerste </span></div><div class='features'><span class=\"trans xft\" ><span class=\"f\">trans=</span>eerste</span></div></div><div class=\"contnr c0 trm   \" ><div class=\"lbl c0 trm \" ><span class=\"txtu\">drie </span></div><div class='features'><span class=\"trans xft\" ><span class=\"f\">trans=</span>drie</span></div></div><div class=\"contnr c0 trm   \" ><div class=\"lbl c0 trm \" ><span class=\"txtu\">brieven, </span></div><div class='features'><span class=\"trans xft\" ><span class=\"f\">trans=</span>brieven</span></div></div><div class=\"contnr c0 trm   \" ><div class=\"lbl c0 trm \" ><span class=\"txtu\">door </span></div><div class='features'><span class=\"trans xft\" ><span class=\"f\">trans=</span>door</span></div></div><div class=\"contnr c0 trm   \" ><div class=\"lbl c0 trm \" ><span class=\"txtu\">Both </span></div><div class='features'><span class=\"entityid xft\" ><span class=\"f\">entityId=</span>e_1_1_4</span><span class=\"entitykind xft\" ><span class=\"f\">entityKind=</span>PER</span><span class=\"trans xft\" ><span class=\"f\">trans=</span>Both</span></div></div><div class=\"contnr c0 trm   \" ><div class=\"lbl c0 trm \" ><span class=\"txtu\">op </span></div><div class='features'><span class=\"trans xft\" ><span class=\"f\">trans=</span>op</span></div></div><div class=\"contnr c0 trm   \" ><div class=\"lbl c0 trm \" ><span class=\"txtu\">reis </span></div><div class='features'><span class=\"trans xft\" ><span class=\"f\">trans=</span>reis</span></div></div><div class=\"contnr c0 trm   \" ><div class=\"lbl c0 trm \" ><span class=\"txtu\">naar </span></div><div class='features'><span class=\"trans xft\" ><span class=\"f\">trans=</span>naar</span></div></div><div class=\"contnr c0 trm   hl\" ><div class=\"lbl c0 trm hl\" ><span class=\"txtu\">Indië </span></div><div class='features'><span class=\"entityid xft\" ><span class=\"f\">entityId=</span>e_1_1_5</span><span class=\"entitykind xft\" ><span class=\"f\">entityKind=</span>LOC</span><span class=\"trans xft\" ><span class=\"f\">trans=</span>Indië</span></div></div><div class=\"contnr c0 trm   \" ><div class=\"lbl c0 trm \" ><span class=\"txtu\">geschrovon, </span></div><div class='features'><span class=\"trans xft\" ><span class=\"f\">trans=</span>geschrovon</span></div></div><div class=\"contnr c0 trm   \" ><div class=\"lbl c0 trm \" ><span class=\"txtu\">wijken </span></div><div class='features'><span class=\"trans xft\" ><span class=\"f\">trans=</span>wijken</span></div></div><div class=\"contnr c0 trm   \" ><div class=\"lbl c0 trm \" ><span class=\"txtu\">niet </span></div><div class='features'><span class=\"trans xft\" ><span class=\"f\">trans=</span>niet</span></div></div><div class=\"contnr c0 trm   \" ><div class=\"lbl c0 trm \" ><span class=\"txtu\">af </span></div><div class='features'><span class=\"trans xft\" ><span class=\"f\">trans=</span>af</span></div></div><div class=\"contnr c0 trm   \" ><div class=\"lbl c0 trm \" ><span class=\"txtu\">van </span></div><div class='features'><span class=\"trans xft\" ><span class=\"f\">trans=</span>van</span></div></div></div></div></div>"
      ],
      "text/plain": [
       "<IPython.core.display.HTML object>"
      ]
     },
     "metadata": {},
     "output_type": "display_data"
    },
    {
     "data": {
      "text/markdown": [
       "#### B2: case 5: Indië as ORG: 2 occurrences\n",
       "\n"
      ],
      "text/plain": [
       "<IPython.core.display.Markdown object>"
      ]
     },
     "metadata": {},
     "output_type": "display_data"
    },
    {
     "data": {
      "text/html": [
       "<p><b>result</b> <i>1</i>"
      ],
      "text/plain": [
       "<IPython.core.display.HTML object>"
      ]
     },
     "metadata": {},
     "output_type": "display_data"
    },
    {
     "data": {
      "text/html": [
       "<div class=\"tfsechead \"><span class=\"ltr\"><a target=\"_blank\" href=\"http://resources.huygens.knaw.nl/retroboeken/generalemissiven/#page=456&amp;source=1\" title=\"Show this document on Huygens\" sec=\"1 433:14\">1 433:14</a></span></div><div class=\" children\"><div class=\"contnr c3    \" ><div class=\"lbl c3  \" ><span class=\"nd\">line</span></div><div class=\"children hor wrap \"><div class=\"contnr c0 trm   \" ><div class=\"lbl c0 trm \" ><span class=\"txtu\">behandelt, </span></div><div class='features'><span class=\"trans xft\" ><span class=\"f\">trans=</span>behandelt</span></div></div><div class=\"contnr c0 trm   \" ><div class=\"lbl c0 trm \" ><span class=\"txtu\">die </span></div><div class='features'><span class=\"trans xft\" ><span class=\"f\">trans=</span>die</span></div></div><div class=\"contnr c0 trm   \" ><div class=\"lbl c0 trm \" ><span class=\"txtu\">hij </span></div><div class='features'><span class=\"trans xft\" ><span class=\"f\">trans=</span>hij</span></div></div><div class=\"contnr c0 trm   \" ><div class=\"lbl c0 trm \" ><span class=\"txtu\">buiten </span></div><div class='features'><span class=\"trans xft\" ><span class=\"f\">trans=</span>buiten</span></div></div><div class=\"contnr c0 trm   \" ><div class=\"lbl c0 trm \" ><span class=\"txtu\">de </span></div><div class='features'><span class=\"trans xft\" ><span class=\"f\">trans=</span>de</span></div></div><div class=\"contnr c0 trm   \" ><div class=\"lbl c0 trm \" ><span class=\"txtu\">Raad </span></div><div class='features'><span class=\"entityid xft\" ><span class=\"f\">entityId=</span>e_1_89_23</span><span class=\"entitykind xft\" ><span class=\"f\">entityKind=</span>ORG</span><span class=\"trans xft\" ><span class=\"f\">trans=</span>Raad</span></div></div><div class=\"contnr c0 trm   \" ><div class=\"lbl c0 trm \" ><span class=\"txtu\">van </span></div><div class='features'><span class=\"entityid xft\" ><span class=\"f\">entityId=</span>e_1_89_23</span><span class=\"entitykind xft\" ><span class=\"f\">entityKind=</span>ORG</span><span class=\"trans xft\" ><span class=\"f\">trans=</span>van</span></div></div><div class=\"contnr c0 trm   hl\" ><div class=\"lbl c0 trm hl\" ><span class=\"txtu\">Indië </span></div><div class='features'><span class=\"entityid xft\" ><span class=\"f\">entityId=</span>e_1_89_25</span><span class=\"entitykind xft\" ><span class=\"f\">entityKind=</span>ORG</span><span class=\"trans xft\" ><span class=\"f\">trans=</span>Indië</span></div></div><div class=\"contnr c0 trm   \" ><div class=\"lbl c0 trm \" ><span class=\"txtu\">wilde </span></div><div class='features'><span class=\"trans xft\" ><span class=\"f\">trans=</span>wilde</span></div></div><div class=\"contnr c0 trm   \" ><div class=\"lbl c0 trm \" ><span class=\"txtu\">houden. </span></div><div class='features'><span class=\"trans xft\" ><span class=\"f\">trans=</span>houden</span></div></div></div></div></div>"
      ],
      "text/plain": [
       "<IPython.core.display.HTML object>"
      ]
     },
     "metadata": {},
     "output_type": "display_data"
    },
    {
     "data": {
      "text/markdown": [
       "#### 276 more cases"
      ],
      "text/plain": [
       "<IPython.core.display.Markdown object>"
      ]
     },
     "metadata": {},
     "output_type": "display_data"
    },
    {
     "data": {
      "text/markdown": [
       "### B3: 45 words\n",
       "\n"
      ],
      "text/plain": [
       "<IPython.core.display.Markdown object>"
      ]
     },
     "metadata": {},
     "output_type": "display_data"
    },
    {
     "data": {
      "text/markdown": [
       "#### B3: case 1: Het as None: 8661 occurrences\n",
       "\n"
      ],
      "text/plain": [
       "<IPython.core.display.Markdown object>"
      ]
     },
     "metadata": {},
     "output_type": "display_data"
    },
    {
     "data": {
      "text/html": [
       "<p><b>result</b> <i>1</i>"
      ],
      "text/plain": [
       "<IPython.core.display.HTML object>"
      ]
     },
     "metadata": {},
     "output_type": "display_data"
    },
    {
     "data": {
      "text/html": [
       "<div class=\"tfsechead \"><span class=\"ltr\"><a target=\"_blank\" href=\"http://resources.huygens.knaw.nl/retroboeken/generalemissiven/#page=26&amp;source=1\" title=\"Show this document on Huygens\" sec=\"1 3:1\">1 3:1</a></span></div><div class=\" children\"><div class=\"contnr c3    \" ><div class=\"lbl c3  \" ><span class=\"nd\">line</span></div><div class='features'><span class=\"entityid xft\" ><span class=\"f\">entityId=</span>e_14_9_45</span><span class=\"entitykind xft\" ><span class=\"f\">entityKind=</span>LOC</span></div><div class=\"children hor wrap \"><div class=\"contnr c0 trm   \" ><div class=\"lbl c0 trm \" ><span class=\"txtu\">I. </span></div><div class='features'><span class=\"trans xft\" ><span class=\"f\">trans=</span>I</span></div></div><div class=\"contnr c0 trm   \" ><div class=\"lbl c0 trm \" ><span class=\"txtu\">PIETER </span></div><div class='features'><span class=\"entityid xft\" ><span class=\"f\">entityId=</span>e_1_1_1</span><span class=\"entitykind xft\" ><span class=\"f\">entityKind=</span>PER</span><span class=\"trans xft\" ><span class=\"f\">trans=</span>PIETER</span></div></div><div class=\"contnr c0 trm   \" ><div class=\"lbl c0 trm \" ><span class=\"txtu\">BOTH, </span></div><div class='features'><span class=\"entityid xft\" ><span class=\"f\">entityId=</span>e_1_1_1</span><span class=\"entitykind xft\" ><span class=\"f\">entityKind=</span>PER</span><span class=\"trans xft\" ><span class=\"f\">trans=</span>BOTH</span></div></div><div class=\"contnr c0 trm   \" ><div class=\"lbl c0 trm \" ><span class=\"txtu\">AAN </span></div><div class='features'><span class=\"trans xft\" ><span class=\"f\">trans=</span>AAN</span></div></div><div class=\"contnr c0 trm   \" ><div class=\"lbl c0 trm \" ><span class=\"txtu\">BOORD </span></div><div class='features'><span class=\"trans xft\" ><span class=\"f\">trans=</span>BOORD</span></div></div><div class=\"contnr c0 trm   \" ><div class=\"lbl c0 trm \" ><span class=\"txtu\">VAN </span></div><div class='features'><span class=\"trans xft\" ><span class=\"f\">trans=</span>VAN</span></div></div><div class=\"contnr c0 trm   hl\" ><div class=\"lbl c0 trm hl\" ><span class=\"txtu\">HET </span></div><div class='features'><span class=\"trans xft\" ><span class=\"f\">trans=</span>HET</span></div></div><div class=\"contnr c0 trm   \" ><div class=\"lbl c0 trm \" ><span class=\"txtu\">WAPEN </span></div><div class='features'><span class=\"trans xft\" ><span class=\"f\">trans=</span>WAPEN</span></div></div><div class=\"contnr c0 trm   \" ><div class=\"lbl c0 trm \" ><span class=\"txtu\">VAN </span></div><div class='features'><span class=\"trans xft\" ><span class=\"f\">trans=</span>VAN</span></div></div><div class=\"contnr c0 trm   \" ><div class=\"lbl c0 trm \" ><span class=\"txtu\">AMSTERDAM, </span></div><div class='features'><span class=\"entityid xft\" ><span class=\"f\">entityId=</span>e_1_1_2</span><span class=\"entitykind xft\" ><span class=\"f\">entityKind=</span>SHP</span><span class=\"trans xft\" ><span class=\"f\">trans=</span>AMSTERDAM</span></div></div></div></div></div>"
      ],
      "text/plain": [
       "<IPython.core.display.HTML object>"
      ]
     },
     "metadata": {},
     "output_type": "display_data"
    },
    {
     "data": {
      "text/markdown": [
       "#### B3: case 1: Het as LOC: 2 occurrences\n",
       "\n"
      ],
      "text/plain": [
       "<IPython.core.display.Markdown object>"
      ]
     },
     "metadata": {},
     "output_type": "display_data"
    },
    {
     "data": {
      "text/html": [
       "<p><b>result</b> <i>1</i>"
      ],
      "text/plain": [
       "<IPython.core.display.HTML object>"
      ]
     },
     "metadata": {},
     "output_type": "display_data"
    },
    {
     "data": {
      "text/html": [
       "<div class=\"tfsechead \"><span class=\"ltr\"><a target=\"_blank\" href=\"http://resources.huygens.knaw.nl/retroboeken/generalemissiven/#page=174&amp;source=14_1\" title=\"Show this document on Huygens\" sec=\"14 161:32\">14 161:32</a></span></div><div class=\" children\"><div class=\"contnr c3    \" ><div class=\"lbl c3  \" ><span class=\"nd\">line</span></div><div class=\"children hor wrap \"><div class=\"contnr c0 trm   hl\" ><div class=\"lbl c0 trm hl\" ><span class=\"txtu\">Het </span></div><div class='features'><span class=\"entityid xft\" ><span class=\"f\">entityId=</span>e_14_4_30</span><span class=\"entitykind xft\" ><span class=\"f\">entityKind=</span>LOC</span><span class=\"trans xft\" ><span class=\"f\">trans=</span>Het</span></div></div><div class=\"contnr c0 trm   \" ><div class=\"lbl c0 trm \" ><span class=\"txtu\">uitblijven </span></div><div class='features'><span class=\"trans xft\" ><span class=\"f\">trans=</span>uitblijven</span></div></div><div class=\"contnr c0 trm   \" ><div class=\"lbl c0 trm \" ><span class=\"txtu\">van </span></div><div class='features'><span class=\"trans xft\" ><span class=\"f\">trans=</span>van</span></div></div><div class=\"contnr c0 trm   \" ><div class=\"lbl c0 trm \" ><span class=\"txtu\">de </span></div><div class='features'><span class=\"trans xft\" ><span class=\"f\">trans=</span>de</span></div></div><div class=\"contnr c0 trm   \" ><div class=\"lbl c0 trm \" ><span class=\"txtu\">extracten </span></div><div class='features'><span class=\"trans xft\" ><span class=\"f\">trans=</span>extracten</span></div></div><div class=\"contnr c0 trm   \" ><div class=\"lbl c0 trm \" ><span class=\"txtu\">uit </span></div><div class='features'><span class=\"trans xft\" ><span class=\"f\">trans=</span>uit</span></div></div><div class=\"contnr c0 trm   \" ><div class=\"lbl c0 trm \" ><span class=\"txtu\">de </span></div><div class='features'><span class=\"trans xft\" ><span class=\"f\">trans=</span>de</span></div></div><div class=\"contnr c0 trm   \" ><div class=\"lbl c0 trm \" ><span class=\"txtu\">kasrekeningen </span></div><div class='features'><span class=\"trans xft\" ><span class=\"f\">trans=</span>kasrekeningen</span></div></div><div class=\"contnr c0 trm   \" ><div class=\"lbl c0 trm \" ><span class=\"txtu\">van </span></div><div class='features'><span class=\"trans xft\" ><span class=\"f\">trans=</span>van</span></div></div><div class=\"contnr c0 trm   \" ><div class=\"lbl c0 trm \" ><span class=\"txtu\">Banda </span></div><div class='features'><span class=\"trans xft\" ><span class=\"f\">trans=</span>Banda</span></div></div><div class=\"contnr c0 trm   \" ><div class=\"lbl c0 trm \" ><span class=\"txtu\">is </span></div><div class='features'><span class=\"entityid xft\" ><span class=\"f\">entityId=</span>e_14_4_31</span><span class=\"entitykind xft\" ><span class=\"f\">entityKind=</span>LOC</span><span class=\"trans xft\" ><span class=\"f\">trans=</span>is</span></div></div><div class=\"contnr c0 trm   \" ><div class=\"lbl c0 trm \" ><span class=\"txtu\">te </span></div><div class='features'><span class=\"trans xft\" ><span class=\"f\">trans=</span>te</span></div></div><div class=\"contnr c0 trm   \" ><div class=\"lbl c0 trm \" ><span class=\"txtu\">wijten </span></div><div class='features'><span class=\"trans xft\" ><span class=\"f\">trans=</span>wijten</span></div></div><div class=\"contnr c0 trm   \" ><div class=\"lbl c0 trm \" ><span class=\"txtu\">aan </span></div><div class='features'><span class=\"trans xft\" ><span class=\"f\">trans=</span>aan</span></div></div><div class=\"contnr c0 trm   \" ><div class=\"lbl c0 trm \" ><span class=\"txtu\">degene </span></div><div class='features'><span class=\"trans xft\" ><span class=\"f\">trans=</span>degene</span></div></div></div></div></div>"
      ],
      "text/plain": [
       "<IPython.core.display.HTML object>"
      ]
     },
     "metadata": {},
     "output_type": "display_data"
    },
    {
     "data": {
      "text/markdown": [
       "#### B3: case 1: Het as PER: 1 occurrence\n",
       "\n"
      ],
      "text/plain": [
       "<IPython.core.display.Markdown object>"
      ]
     },
     "metadata": {},
     "output_type": "display_data"
    },
    {
     "data": {
      "text/html": [
       "<p><b>result</b> <i>1</i>"
      ],
      "text/plain": [
       "<IPython.core.display.HTML object>"
      ]
     },
     "metadata": {},
     "output_type": "display_data"
    },
    {
     "data": {
      "text/html": [
       "<div class=\"tfsechead \"><span class=\"ltr\"><a target=\"_blank\" href=\"http://resources.huygens.knaw.nl/retroboeken/generalemissiven/#page=449&amp;source=5\" title=\"Show this document on Huygens\" sec=\"5 434:6\">5 434:6</a></span></div><div class=\" children\"><div class=\"contnr c3    \" ><div class=\"lbl c3  \" ><span class=\"nd\">line</span></div><div class=\"children hor wrap \"><div class=\"contnr c0 trm   hl\" ><div class=\"lbl c0 trm hl\" ><span class=\"txtu\">Het </span></div><div class='features'><span class=\"entityid xft\" ><span class=\"f\">entityId=</span>e_5_16_17</span><span class=\"entitykind xft\" ><span class=\"f\">entityKind=</span>PER</span><span class=\"trans xft\" ><span class=\"f\">trans=</span>Het</span></div></div><div class=\"contnr c0 trm   \" ><div class=\"lbl c0 trm \" ><span class=\"txtu\">origineel </span></div><div class='features'><span class=\"trans xft\" ><span class=\"f\">trans=</span>origineel</span></div></div><div class=\"contnr c0 trm   \" ><div class=\"lbl c0 trm \" ><span class=\"txtu\">is </span></div><div class='features'><span class=\"trans xft\" ><span class=\"f\">trans=</span>is</span></div></div><div class=\"contnr c0 trm   \" ><div class=\"lbl c0 trm \" ><span class=\"txtu\">verzonden </span></div><div class='features'><span class=\"trans xft\" ><span class=\"f\">trans=</span>verzonden</span></div></div><div class=\"contnr c0 trm   \" ><div class=\"lbl c0 trm \" ><span class=\"txtu\">met </span></div><div class='features'><span class=\"trans xft\" ><span class=\"f\">trans=</span>met</span></div></div><div class=\"contnr c0 trm   \" ><div class=\"lbl c0 trm \" ><span class=\"txtu\">het </span></div><div class='features'><span class=\"trans xft\" ><span class=\"f\">trans=</span>het</span></div></div><div class=\"contnr c0 trm   \" ><div class=\"lbl c0 trm \" ><span class=\"txtu\">Engelse </span></div><div class='features'><span class=\"entityid xft\" ><span class=\"f\">entityId=</span>e_5_16_18</span><span class=\"entitykind xft\" ><span class=\"f\">entityKind=</span>LOCderiv</span><span class=\"trans xft\" ><span class=\"f\">trans=</span>Engelse</span></div></div><div class=\"contnr c0 trm   \" ><div class=\"lbl c0 trm \" ><span class=\"txtu\">schip </span></div><div class='features'><span class=\"trans xft\" ><span class=\"f\">trans=</span>schip</span></div></div><div class=\"contnr c0 trm   \" ><div class=\"lbl c0 trm \" ><span class=\"txtu\">O </span></div><div class='features'><span class=\"entityid xft\" ><span class=\"f\">entityId=</span>e_5_16_19</span><span class=\"entitykind xft\" ><span class=\"f\">entityKind=</span>SHP</span><span class=\"trans xft\" ><span class=\"f\">trans=</span>O</span></div></div><div class=\"contnr c0 trm   \" ><div class=\"lbl c0 trm \" ><span class=\"txtu\">range </span></div><div class='features'><span class=\"entityid xft\" ><span class=\"f\">entityId=</span>e_5_16_19</span><span class=\"entitykind xft\" ><span class=\"f\">entityKind=</span>SHP</span><span class=\"trans xft\" ><span class=\"f\">trans=</span>range</span></div></div><div class=\"contnr c0 trm   \" ><div class=\"lbl c0 trm \" ><span class=\"txtu\">via </span></div><div class='features'><span class=\"trans xft\" ><span class=\"f\">trans=</span>via</span></div></div><div class=\"contnr c0 trm   \" ><div class=\"lbl c0 trm \" ><span class=\"txtu\">Bengkulen; </span></div><div class='features'><span class=\"entityid xft\" ><span class=\"f\">entityId=</span>e_5_16_21</span><span class=\"entitykind xft\" ><span class=\"f\">entityKind=</span>LOC</span><span class=\"trans xft\" ><span class=\"f\">trans=</span>Bengkulen</span></div></div><div class=\"contnr c0 trm   \" ><div class=\"lbl c0 trm \" ><span class=\"txtu\">herhaling </span></div><div class='features'><span class=\"trans xft\" ><span class=\"f\">trans=</span>herhaling</span></div></div></div></div></div>"
      ],
      "text/plain": [
       "<IPython.core.display.HTML object>"
      ]
     },
     "metadata": {},
     "output_type": "display_data"
    },
    {
     "data": {
      "text/markdown": [
       "#### B3: case 1: Het as SHP: 1 occurrence\n",
       "\n"
      ],
      "text/plain": [
       "<IPython.core.display.Markdown object>"
      ]
     },
     "metadata": {},
     "output_type": "display_data"
    },
    {
     "data": {
      "text/html": [
       "<p><b>result</b> <i>1</i>"
      ],
      "text/plain": [
       "<IPython.core.display.HTML object>"
      ]
     },
     "metadata": {},
     "output_type": "display_data"
    },
    {
     "data": {
      "text/html": [
       "<div class=\"tfsechead \"><span class=\"ltr\"><a target=\"_blank\" href=\"http://resources.huygens.knaw.nl/retroboeken/generalemissiven/#page=109&amp;source=9\" title=\"Show this document on Huygens\" sec=\"9 96:15\">9 96:15</a></span></div><div class=\" children\"><div class=\"contnr c3    \" ><div class=\"lbl c3  \" ><span class=\"nd\">line</span></div><div class=\"children hor wrap \"><div class=\"contnr c0 trm   \" ><div class=\"lbl c0 trm \" ><span class=\"txtu\">van </span></div><div class='features'><span class=\"trans xft\" ><span class=\"f\">trans=</span>van</span></div></div><div class=\"contnr c0 trm   \" ><div class=\"lbl c0 trm \" ><span class=\"txtu\">op </span></div><div class='features'><span class=\"trans xft\" ><span class=\"f\">trans=</span>op</span></div></div><div class=\"contnr c0 trm   \" ><div class=\"lbl c0 trm \" ><span class=\"txtu\">zee </span></div><div class='features'><span class=\"trans xft\" ><span class=\"f\">trans=</span>zee</span></div></div><div class=\"contnr c0 trm   \" ><div class=\"lbl c0 trm \" ><span class=\"txtu\">uyt </span></div><div class='features'><span class=\"trans xft\" ><span class=\"f\">trans=</span>uyt</span></div></div><div class=\"contnr c0 trm   \" ><div class=\"lbl c0 trm \" ><span class=\"txtu\">te </span></div><div class='features'><span class=\"trans xft\" ><span class=\"f\">trans=</span>te</span></div></div><div class=\"contnr c0 trm   \" ><div class=\"lbl c0 trm \" ><span class=\"txtu\">sterven, </span></div><div class='features'><span class=\"trans xft\" ><span class=\"f\">trans=</span>sterven</span></div></div><div class=\"contnr c0 trm   \" ><div class=\"lbl c0 trm \" ><span class=\"txtu\">zijnde </span></div><div class='features'><span class=\"trans xft\" ><span class=\"f\">trans=</span>zijnde</span></div></div><div class=\"contnr c0 trm   \" ><div class=\"lbl c0 trm \" ><span class=\"txtu\">’t </span></div><div class='features'><span class=\"trans xft\" ><span class=\"f\">trans=</span>’t</span></div></div><div class=\"contnr c0 trm   \" ><div class=\"lbl c0 trm \" ><span class=\"txtu\">schip </span></div><div class='features'><span class=\"trans xft\" ><span class=\"f\">trans=</span>schip</span></div></div><div class=\"contnr c0 trm   hl\" ><div class=\"lbl c0 trm hl\" ><span class=\"txtu\">Het </span></div><div class='features'><span class=\"entityid xft\" ><span class=\"f\">entityId=</span>e_9_8_47</span><span class=\"entitykind xft\" ><span class=\"f\">entityKind=</span>SHP</span><span class=\"trans xft\" ><span class=\"f\">trans=</span>Het</span></div></div><div class=\"contnr c0 trm   \" ><div class=\"lbl c0 trm \" ><span class=\"txtu\">Land </span></div><div class='features'><span class=\"entityid xft\" ><span class=\"f\">entityId=</span>e_9_8_47</span><span class=\"entitykind xft\" ><span class=\"f\">entityKind=</span>SHP</span><span class=\"trans xft\" ><span class=\"f\">trans=</span>Land</span></div></div><div class=\"contnr c0 trm   \" ><div class=\"lbl c0 trm \" ><span class=\"txtu\">van </span></div><div class='features'><span class=\"entityid xft\" ><span class=\"f\">entityId=</span>e_9_8_47</span><span class=\"entitykind xft\" ><span class=\"f\">entityKind=</span>SHP</span><span class=\"trans xft\" ><span class=\"f\">trans=</span>van</span></div></div><div class=\"contnr c0 trm   \" ><div class=\"lbl c0 trm \" ><span class=\"txtu\">Beloften, </span></div><div class='features'><span class=\"entityid xft\" ><span class=\"f\">entityId=</span>e_9_8_47</span><span class=\"entitykind xft\" ><span class=\"f\">entityKind=</span>SHP</span><span class=\"trans xft\" ><span class=\"f\">trans=</span>Beloften</span></div></div><div class=\"contnr c0 trm   \" ><div class=\"lbl c0 trm \" ><span class=\"txtu\">voor </span></div><div class='features'><span class=\"trans xft\" ><span class=\"f\">trans=</span>voor</span></div></div><div class=\"contnr c0 trm   \" ><div class=\"lbl c0 trm \" ><span class=\"txtu\">reeckening </span></div><div class='features'><span class=\"trans xft\" ><span class=\"f\">trans=</span>reeckening</span></div></div></div></div></div>"
      ],
      "text/plain": [
       "<IPython.core.display.HTML object>"
      ]
     },
     "metadata": {},
     "output_type": "display_data"
    },
    {
     "data": {
      "text/markdown": [
       "#### B3: case 2: Kaap as None: 1046 occurrences\n",
       "\n"
      ],
      "text/plain": [
       "<IPython.core.display.Markdown object>"
      ]
     },
     "metadata": {},
     "output_type": "display_data"
    },
    {
     "data": {
      "text/html": [
       "<p><b>result</b> <i>1</i>"
      ],
      "text/plain": [
       "<IPython.core.display.HTML object>"
      ]
     },
     "metadata": {},
     "output_type": "display_data"
    },
    {
     "data": {
      "text/html": [
       "<div class=\"tfsechead \"><span class=\"ltr\"><a target=\"_blank\" href=\"http://resources.huygens.knaw.nl/retroboeken/generalemissiven/#page=194&amp;source=1\" title=\"Show this document on Huygens\" sec=\"1 171:37\">1 171:37</a></span></div><div class=\" children\"><div class=\"contnr c3    \" ><div class=\"lbl c3  \" ><span class=\"nd\">line</span></div><div class=\"children hor wrap \"><div class=\"contnr c0 trm   \" ><div class=\"lbl c0 trm \" ><span class=\"txtu\">via </span></div><div class='features'><span class=\"trans xft\" ><span class=\"f\">trans=</span>via</span></div></div><div class=\"contnr c0 trm   hl\" ><div class=\"lbl c0 trm hl\" ><span class=\"txtu\">Kaap </span></div><div class='features'><span class=\"trans xft\" ><span class=\"f\">trans=</span>Kaap</span></div></div><div class=\"contnr c0 trm   \" ><div class=\"lbl c0 trm \" ><span class=\"txtu\">Hoorn </span></div><div class='features'><span class=\"trans xft\" ><span class=\"f\">trans=</span>Hoorn</span></div></div><div class=\"contnr c0 trm   \" ><div class=\"lbl c0 trm \" ><span class=\"txtu\">en </span></div><div class='features'><span class=\"trans xft\" ><span class=\"f\">trans=</span>en</span></div></div><div class=\"contnr c0 trm   \" ><div class=\"lbl c0 trm \" ><span class=\"txtu\">de </span></div><div class='features'><span class=\"trans xft\" ><span class=\"f\">trans=</span>de</span></div></div><div class=\"contnr c0 trm   \" ><div class=\"lbl c0 trm \" ><span class=\"txtu\">westkust </span></div><div class='features'><span class=\"trans xft\" ><span class=\"f\">trans=</span>westkust</span></div></div><div class=\"contnr c0 trm   \" ><div class=\"lbl c0 trm \" ><span class=\"txtu\">van </span></div><div class='features'><span class=\"trans xft\" ><span class=\"f\">trans=</span>van</span></div></div><div class=\"contnr c0 trm   \" ><div class=\"lbl c0 trm \" ><span class=\"txtu\">Zuid-</span></div><div class='features'><span class=\"trans xft\" ><span class=\"f\">trans=</span>Zuid</span></div></div><div class=\"contnr c0 trm   \" ><div class=\"lbl c0 trm \" ><span class=\"txtu\">Amerika, </span></div><div class='features'><span class=\"trans xft\" ><span class=\"f\">trans=</span>Amerika</span></div></div><div class=\"contnr c0 trm   \" ><div class=\"lbl c0 trm \" ><span class=\"txtu\">waar </span></div><div class='features'><span class=\"trans xft\" ><span class=\"f\">trans=</span>waar</span></div></div><div class=\"contnr c0 trm   \" ><div class=\"lbl c0 trm \" ><span class=\"txtu\">PHermite </span></div><div class='features'><span class=\"trans xft\" ><span class=\"f\">trans=</span>PHermite</span></div></div><div class=\"contnr c0 trm   \" ><div class=\"lbl c0 trm \" ><span class=\"txtu\">voor </span></div><div class='features'><span class=\"trans xft\" ><span class=\"f\">trans=</span>voor</span></div></div><div class=\"contnr c0 trm   \" ><div class=\"lbl c0 trm \" ><span class=\"txtu\">de </span></div><div class='features'><span class=\"trans xft\" ><span class=\"f\">trans=</span>de</span></div></div><div class=\"contnr c0 trm   \" ><div class=\"lbl c0 trm \" ><span class=\"txtu\">kust </span></div><div class='features'><span class=\"trans xft\" ><span class=\"f\">trans=</span>kust</span></div></div><div class=\"contnr c0 trm   \" ><div class=\"lbl c0 trm \" ><span class=\"txtu\">van </span></div><div class='features'><span class=\"trans xft\" ><span class=\"f\">trans=</span>van</span></div></div><div class=\"contnr c0 trm   \" ><div class=\"lbl c0 trm \" ><span class=\"txtu\">Peru </span></div><div class='features'><span class=\"trans xft\" ><span class=\"f\">trans=</span>Peru</span></div></div></div></div></div>"
      ],
      "text/plain": [
       "<IPython.core.display.HTML object>"
      ]
     },
     "metadata": {},
     "output_type": "display_data"
    },
    {
     "data": {
      "text/markdown": [
       "#### B3: case 2: Kaap as LOC: 144 occurrences\n",
       "\n"
      ],
      "text/plain": [
       "<IPython.core.display.Markdown object>"
      ]
     },
     "metadata": {},
     "output_type": "display_data"
    },
    {
     "data": {
      "text/html": [
       "<p><b>result</b> <i>1</i>"
      ],
      "text/plain": [
       "<IPython.core.display.HTML object>"
      ]
     },
     "metadata": {},
     "output_type": "display_data"
    },
    {
     "data": {
      "text/html": [
       "<div class=\"tfsechead \"><span class=\"ltr\"><a target=\"_blank\" href=\"http://resources.huygens.knaw.nl/retroboeken/generalemissiven/#page=26&amp;source=1\" title=\"Show this document on Huygens\" sec=\"1 3:4\">1 3:4</a></span></div><div class=\" children\"><div class=\"contnr c3    \" ><div class=\"lbl c3  \" ><span class=\"nd\">line</span></div><div class='features'><span class=\"entityid xft\" ><span class=\"f\">entityId=</span>e_14_12_48</span><span class=\"entitykind xft\" ><span class=\"f\">entityKind=</span>LOC</span></div><div class=\"children hor wrap \"><div class=\"contnr c0 trm   \" ><div class=\"lbl c0 trm \" ><span class=\"txtu\">Generaal </span></div><div class='features'><span class=\"trans xft\" ><span class=\"f\">trans=</span>Generaal</span></div></div><div class=\"contnr c0 trm   \" ><div class=\"lbl c0 trm \" ><span class=\"txtu\">aan </span></div><div class='features'><span class=\"trans xft\" ><span class=\"f\">trans=</span>aan</span></div></div><div class=\"contnr c0 trm   \" ><div class=\"lbl c0 trm \" ><span class=\"txtu\">boord </span></div><div class='features'><span class=\"trans xft\" ><span class=\"f\">trans=</span>boord</span></div></div><div class=\"contnr c0 trm   \" ><div class=\"lbl c0 trm \" ><span class=\"txtu\">vertoefde, </span></div><div class='features'><span class=\"trans xft\" ><span class=\"f\">trans=</span>vertoefde</span></div></div><div class=\"contnr c0 trm   \" ><div class=\"lbl c0 trm \" ><span class=\"txtu\">verandert </span></div><div class='features'><span class=\"trans xft\" ><span class=\"f\">trans=</span>verandert</span></div></div><div class=\"contnr c0 trm   \" ><div class=\"lbl c0 trm \" ><span class=\"txtu\">daaraan </span></div><div class='features'><span class=\"trans xft\" ><span class=\"f\">trans=</span>daaraan</span></div></div><div class=\"contnr c0 trm   \" ><div class=\"lbl c0 trm \" ><span class=\"txtu\">niets. </span></div><div class='features'><span class=\"trans xft\" ><span class=\"f\">trans=</span>niets</span></div></div><div class=\"contnr c0 trm   \" ><div class=\"lbl c0 trm \" ><span class=\"txtu\">Ile </span></div><div class='features'><span class=\"entityid xft\" ><span class=\"f\">entityId=</span>e_1_1_7</span><span class=\"entitykind xft\" ><span class=\"f\">entityKind=</span>LOC</span><span class=\"trans xft\" ><span class=\"f\">trans=</span>Ile</span></div></div><div class=\"contnr c0 trm   \" ><div class=\"lbl c0 trm \" ><span class=\"txtu\">de </span></div><div class='features'><span class=\"entityid xft\" ><span class=\"f\">entityId=</span>e_1_1_7</span><span class=\"entitykind xft\" ><span class=\"f\">entityKind=</span>LOC</span><span class=\"trans xft\" ><span class=\"f\">trans=</span>de</span></div></div><div class=\"contnr c0 trm   \" ><div class=\"lbl c0 trm \" ><span class=\"txtu\">Mayo </span></div><div class='features'><span class=\"entityid xft\" ><span class=\"f\">entityId=</span>e_1_1_7</span><span class=\"entitykind xft\" ><span class=\"f\">entityKind=</span>LOC</span><span class=\"trans xft\" ><span class=\"f\">trans=</span>Mayo</span></div></div><div class=\"contnr c0 trm   \" ><div class=\"lbl c0 trm \" ><span class=\"txtu\">is </span></div><div class='features'><span class=\"trans xft\" ><span class=\"f\">trans=</span>is</span></div></div><div class=\"contnr c0 trm   \" ><div class=\"lbl c0 trm \" ><span class=\"txtu\">een </span></div><div class='features'><span class=\"trans xft\" ><span class=\"f\">trans=</span>een</span></div></div><div class=\"contnr c0 trm   \" ><div class=\"lbl c0 trm \" ><span class=\"txtu\">der </span></div><div class='features'><span class=\"trans xft\" ><span class=\"f\">trans=</span>der</span></div></div><div class=\"contnr c0 trm   hl\" ><div class=\"lbl c0 trm hl\" ><span class=\"txtu\">Kaap-</span></div><div class='features'><span class=\"entityid xft\" ><span class=\"f\">entityId=</span>e_1_1_9</span><span class=\"entitykind xft\" ><span class=\"f\">entityKind=</span>LOC</span><span class=\"trans xft\" ><span class=\"f\">trans=</span>Kaap</span></div></div><div class=\"contnr c0 trm   \" ><div class=\"lbl c0 trm \" ><span class=\"txtu\">Verdische </span></div><div class='features'><span class=\"entityid xft\" ><span class=\"f\">entityId=</span>e_1_1_9</span><span class=\"entitykind xft\" ><span class=\"f\">entityKind=</span>LOC</span><span class=\"trans xft\" ><span class=\"f\">trans=</span>Verdische</span></div></div></div></div></div>"
      ],
      "text/plain": [
       "<IPython.core.display.HTML object>"
      ]
     },
     "metadata": {},
     "output_type": "display_data"
    },
    {
     "data": {
      "text/markdown": [
       "#### B3: case 2: Kaap as LOCderiv: 1 occurrence\n",
       "\n"
      ],
      "text/plain": [
       "<IPython.core.display.Markdown object>"
      ]
     },
     "metadata": {},
     "output_type": "display_data"
    },
    {
     "data": {
      "text/html": [
       "<p><b>result</b> <i>1</i>"
      ],
      "text/plain": [
       "<IPython.core.display.HTML object>"
      ]
     },
     "metadata": {},
     "output_type": "display_data"
    },
    {
     "data": {
      "text/html": [
       "<div class=\"tfsechead \"><span class=\"ltr\"><a target=\"_blank\" href=\"http://resources.huygens.knaw.nl/retroboeken/generalemissiven/#page=493&amp;source=2\" title=\"Show this document on Huygens\" sec=\"2 480:13\">2 480:13</a></span></div><div class=\" children\"><div class=\"contnr c3    \" ><div class=\"lbl c3  \" ><span class=\"nd\">line</span></div><div class=\"children hor wrap \"><div class=\"contnr c1   rno \" ><div class=\"lbl c1  \" ><span class=\"nd\">row</span></div><div class=\"children hor wrap \"><div class=\"contnr c1    \" ><div class=\"lbl c1  \" ><span class=\"nd\">cell</span></div><div class=\"children hor wrap \"><div class=\"contnr c0 trm   \" ><div class=\"lbl c0 trm \" ><span class=\"txtu\">2 </span></div><div class='features'><span class=\"trans xft\" ><span class=\"f\">trans=</span>2</span></div></div><div class=\"contnr c0 trm   \" ><div class=\"lbl c0 trm \" ><span class=\"txtu\">julij</span></div><div class='features'><span class=\"trans xft\" ><span class=\"f\">trans=</span>julij</span></div></div></div></div><div class=\"contnr c1   rno \" ><div class=\"lbl c1  \" ><span class=\"nd\">cell</span></div><div class=\"children hor wrap \"><div class=\"contnr c0 trm   \" ><div class=\"lbl c0 trm \" ><span class=\"txtu\">’t </span></div><div class='features'><span class=\"trans xft\" ><span class=\"f\">trans=</span>’t</span></div></div><div class=\"contnr c0 trm   \" ><div class=\"lbl c0 trm \" ><span class=\"txtu\">jacht </span></div><div class='features'><span class=\"trans xft\" ><span class=\"f\">trans=</span>jacht</span></div></div><div class=\"contnr c0 trm   \" ><div class=\"lbl c0 trm \" ><span class=\"txtu\">de </span></div><div class='features'><span class=\"trans xft\" ><span class=\"f\">trans=</span>de</span></div></div><div class=\"contnr c0 trm   \" ><div class=\"lbl c0 trm \" ><span class=\"txtu\">Saphier </span></div><div class='features'><span class=\"entityid xft\" ><span class=\"f\">entityId=</span>e_2_39_22</span><span class=\"entitykind xft\" ><span class=\"f\">entityKind=</span>SHP</span><span class=\"trans xft\" ><span class=\"f\">trans=</span>Saphier</span></div></div><div class=\"contnr c0 trm   \" ><div class=\"lbl c0 trm \" ><span class=\"txtu\">over </span></div><div class='features'><span class=\"trans xft\" ><span class=\"f\">trans=</span>over</span></div></div><div class=\"contnr c0 trm   \" ><div class=\"lbl c0 trm \" ><span class=\"txtu\">S.* </span></div><div class='features'><span class=\"entityid xft\" ><span class=\"f\">entityId=</span>e_2_39_23</span><span class=\"entitykind xft\" ><span class=\"f\">entityKind=</span>LOC</span><span class=\"trans xft\" ><span class=\"f\">trans=</span>S</span></div></div><div class=\"contnr c0 trm   \" ><div class=\"lbl c0 trm \" ><span class=\"txtu\">Vincent </span></div><div class='features'><span class=\"entityid xft\" ><span class=\"f\">entityId=</span>e_2_39_23</span><span class=\"entitykind xft\" ><span class=\"f\">entityKind=</span>LOC</span><span class=\"trans xft\" ><span class=\"f\">trans=</span>Vincent</span></div></div><div class=\"contnr c0 trm   \" ><div class=\"lbl c0 trm \" ><span class=\"txtu\">Sint </span></div><div class='features'><span class=\"entityid xft\" ><span class=\"f\">entityId=</span>e_2_39_45</span><span class=\"entitykind xft\" ><span class=\"f\">entityKind=</span>LOC</span><span class=\"trans xft\" ><span class=\"f\">trans=</span>Sint</span></div></div><div class=\"contnr c0 trm   \" ><div class=\"lbl c0 trm \" ><span class=\"txtu\">Vincent, </span></div><div class='features'><span class=\"entityid xft\" ><span class=\"f\">entityId=</span>e_2_39_45</span><span class=\"entitykind xft\" ><span class=\"f\">entityKind=</span>LOC</span><span class=\"trans xft\" ><span class=\"f\">trans=</span>Vincent</span></div></div><div class=\"contnr c0 trm   \" ><div class=\"lbl c0 trm \" ><span class=\"txtu\">Sao </span></div><div class='features'><span class=\"entityid xft\" ><span class=\"f\">entityId=</span>e_2_39_46</span><span class=\"entitykind xft\" ><span class=\"f\">entityKind=</span>LOC</span><span class=\"trans xft\" ><span class=\"f\">trans=</span>Sao</span></div></div><div class=\"contnr c0 trm   \" ><div class=\"lbl c0 trm \" ><span class=\"txtu\">Vicente, </span></div><div class='features'><span class=\"entityid xft\" ><span class=\"f\">entityId=</span>e_2_39_46</span><span class=\"entitykind xft\" ><span class=\"f\">entityKind=</span>LOC</span><span class=\"trans xft\" ><span class=\"f\">trans=</span>Vicente</span></div></div><div class=\"contnr c0 trm   \" ><div class=\"lbl c0 trm \" ><span class=\"txtu\">een </span></div><div class='features'><span class=\"trans xft\" ><span class=\"f\">trans=</span>een</span></div></div><div class=\"contnr c0 trm   \" ><div class=\"lbl c0 trm \" ><span class=\"txtu\">der </span></div><div class='features'><span class=\"trans xft\" ><span class=\"f\">trans=</span>der</span></div></div><div class=\"contnr c0 trm   hl\" ><div class=\"lbl c0 trm hl\" ><span class=\"txtu\">Kaap </span></div><div class='features'><span class=\"entityid xft\" ><span class=\"f\">entityId=</span>e_2_39_47</span><span class=\"entitykind xft\" ><span class=\"f\">entityKind=</span>LOCderiv</span><span class=\"trans xft\" ><span class=\"f\">trans=</span>Kaap</span></div></div><div class=\"contnr c0 trm   \" ><div class=\"lbl c0 trm \" ><span class=\"txtu\">Verdische </span></div><div class='features'><span class=\"entityid xft\" ><span class=\"f\">entityId=</span>e_2_39_48</span><span class=\"entitykind xft\" ><span class=\"f\">entityKind=</span>LOC</span><span class=\"trans xft\" ><span class=\"f\">trans=</span>Verdische</span></div></div><div class=\"contnr c0 trm   \" ><div class=\"lbl c0 trm \" ><span class=\"txtu\">eilanden </span></div><div class='features'><span class=\"trans xft\" ><span class=\"f\">trans=</span>eilanden</span></div></div><div class=\"contnr c0 trm   \" ><div class=\"lbl c0 trm \" ><span class=\"txtu\">van </span></div><div class='features'><span class=\"trans xft\" ><span class=\"f\">trans=</span>van</span></div></div><div class=\"contnr c0 trm   \" ><div class=\"lbl c0 trm \" ><span class=\"txtu\">de </span></div><div class='features'><span class=\"trans xft\" ><span class=\"f\">trans=</span>de</span></div></div><div class=\"contnr c0 trm   \" ><div class=\"lbl c0 trm \" ><span class=\"txtu\">noordelijke </span></div><div class='features'><span class=\"trans xft\" ><span class=\"f\">trans=</span>noordelijke</span></div></div><div class=\"contnr c0 trm   \" ><div class=\"lbl c0 trm \" ><span class=\"txtu\">groep, </span></div><div class='features'><span class=\"trans xft\" ><span class=\"f\">trans=</span>groep</span></div></div></div></div></div></div></div></div></div>"
      ],
      "text/plain": [
       "<IPython.core.display.HTML object>"
      ]
     },
     "metadata": {},
     "output_type": "display_data"
    },
    {
     "data": {
      "text/markdown": [
       "#### B3: case 2: Kaap as SHP: 2 occurrences\n",
       "\n"
      ],
      "text/plain": [
       "<IPython.core.display.Markdown object>"
      ]
     },
     "metadata": {},
     "output_type": "display_data"
    },
    {
     "data": {
      "text/html": [
       "<p><b>result</b> <i>1</i>"
      ],
      "text/plain": [
       "<IPython.core.display.HTML object>"
      ]
     },
     "metadata": {},
     "output_type": "display_data"
    },
    {
     "data": {
      "text/html": [
       "<div class=\"tfsechead \"><span class=\"ltr\"><a target=\"_blank\" href=\"http://resources.huygens.knaw.nl/retroboeken/generalemissiven/#page=305&amp;source=6\" title=\"Show this document on Huygens\" sec=\"6 290:7\">6 290:7</a></span></div><div class=\" children\"><div class=\"contnr c3    \" ><div class=\"lbl c3  \" ><span class=\"nd\">line</span></div><div class=\"children hor wrap \"><div class=\"contnr c0 trm   \" ><div class=\"lbl c0 trm \" ><span class=\"txtu\">De </span></div><div class='features'><span class=\"trans xft\" ><span class=\"f\">trans=</span>De</span></div></div><div class=\"contnr c0 trm   \" ><div class=\"lbl c0 trm \" ><span class=\"txtu\">Noordgouw </span></div><div class='features'><span class=\"entityid xft\" ><span class=\"f\">entityId=</span>e_6_30_26</span><span class=\"entitykind xft\" ><span class=\"f\">entityKind=</span>SHP</span><span class=\"trans xft\" ><span class=\"f\">trans=</span>Noordgouw</span></div></div><div class=\"contnr c0 trm   \" ><div class=\"lbl c0 trm \" ><span class=\"txtu\">deed </span></div><div class='features'><span class=\"trans xft\" ><span class=\"f\">trans=</span>deed</span></div></div><div class=\"contnr c0 trm   \" ><div class=\"lbl c0 trm \" ><span class=\"txtu\">niet </span></div><div class='features'><span class=\"trans xft\" ><span class=\"f\">trans=</span>niet</span></div></div><div class=\"contnr c0 trm   \" ><div class=\"lbl c0 trm \" ><span class=\"txtu\">de </span></div><div class='features'><span class=\"trans xft\" ><span class=\"f\">trans=</span>de</span></div></div><div class=\"contnr c0 trm   hl\" ><div class=\"lbl c0 trm hl\" ><span class=\"txtu\">Kaap, </span></div><div class='features'><span class=\"entityid xft\" ><span class=\"f\">entityId=</span>e_6_30_27</span><span class=\"entitykind xft\" ><span class=\"f\">entityKind=</span>SHP</span><span class=\"trans xft\" ><span class=\"f\">trans=</span>Kaap</span></div></div><div class=\"contnr c0 trm   \" ><div class=\"lbl c0 trm \" ><span class=\"txtu\">maar </span></div><div class='features'><span class=\"trans xft\" ><span class=\"f\">trans=</span>maar</span></div></div><div class=\"contnr c0 trm   \" ><div class=\"lbl c0 trm \" ><span class=\"txtu\">wel </span></div><div class='features'><span class=\"trans xft\" ><span class=\"f\">trans=</span>wel</span></div></div><div class=\"contnr c0 trm   \" ><div class=\"lbl c0 trm \" ><span class=\"txtu\">Sint </span></div><div class='features'><span class=\"entityid xft\" ><span class=\"f\">entityId=</span>e_6_30_28</span><span class=\"entitykind xft\" ><span class=\"f\">entityKind=</span>SHP</span><span class=\"trans xft\" ><span class=\"f\">trans=</span>Sint</span></div></div><div class=\"contnr c0 trm   \" ><div class=\"lbl c0 trm \" ><span class=\"txtu\">Helena </span></div><div class='features'><span class=\"entityid xft\" ><span class=\"f\">entityId=</span>e_6_30_29</span><span class=\"entitykind xft\" ><span class=\"f\">entityKind=</span>LOC</span><span class=\"trans xft\" ><span class=\"f\">trans=</span>Helena</span></div></div><div class=\"contnr c0 trm   \" ><div class=\"lbl c0 trm \" ><span class=\"txtu\">aan; </span></div><div class='features'><span class=\"trans xft\" ><span class=\"f\">trans=</span>aan</span></div></div><div class=\"contnr c0 trm   \" ><div class=\"lbl c0 trm \" ><span class=\"txtu\">uit </span></div><div class='features'><span class=\"trans xft\" ><span class=\"f\">trans=</span>uit</span></div></div><div class=\"contnr c0 trm   \" ><div class=\"lbl c0 trm \" ><span class=\"txtu\">patria </span></div><div class='features'><span class=\"trans xft\" ><span class=\"f\">trans=</span>patria</span></div></div><div class=\"contnr c0 trm   \" ><div class=\"lbl c0 trm \" ><span class=\"txtu\">kwamen </span></div><div class='features'><span class=\"trans xft\" ><span class=\"f\">trans=</span>kwamen</span></div></div></div></div></div>"
      ],
      "text/plain": [
       "<IPython.core.display.HTML object>"
      ]
     },
     "metadata": {},
     "output_type": "display_data"
    },
    {
     "data": {
      "text/markdown": [
       "#### B3: case 3: Ter as None: 380 occurrences\n",
       "\n"
      ],
      "text/plain": [
       "<IPython.core.display.Markdown object>"
      ]
     },
     "metadata": {},
     "output_type": "display_data"
    },
    {
     "data": {
      "text/html": [
       "<p><b>result</b> <i>1</i>"
      ],
      "text/plain": [
       "<IPython.core.display.HTML object>"
      ]
     },
     "metadata": {},
     "output_type": "display_data"
    },
    {
     "data": {
      "text/html": [
       "<div class=\"tfsechead \"><span class=\"ltr\"><a target=\"_blank\" href=\"http://resources.huygens.knaw.nl/retroboeken/generalemissiven/#page=128&amp;source=1\" title=\"Show this document on Huygens\" sec=\"1 105:2\">1 105:2</a></span></div><div class=\" children\"><div class=\"contnr c3    \" ><div class=\"lbl c3  \" ><span class=\"nd\">line</span></div><div class=\"children hor wrap \"><div class=\"contnr c0 trm   \" ><div class=\"lbl c0 trm \" ><span class=\"txtu\">HOLLANDIA </span></div><div class='features'><span class=\"entityid xft\" ><span class=\"f\">entityId=</span>e_1_48_4</span><span class=\"entitykind xft\" ><span class=\"f\">entityKind=</span>PER</span><span class=\"trans xft\" ><span class=\"f\">trans=</span>HOLLANDIA</span></div></div><div class=\"contnr c0 trm   hl\" ><div class=\"lbl c0 trm hl\" ><span class=\"txtu\">TER </span></div><div class='features'><span class=\"trans xft\" ><span class=\"f\">trans=</span>TER</span></div></div><div class=\"contnr c0 trm   \" ><div class=\"lbl c0 trm \" ><span class=\"txtu\">REDE </span></div><div class='features'><span class=\"entityid xft\" ><span class=\"f\">entityId=</span>e_1_48_5</span><span class=\"entitykind xft\" ><span class=\"f\">entityKind=</span>PER</span><span class=\"trans xft\" ><span class=\"f\">trans=</span>REDE</span></div></div><div class=\"contnr c0 trm   \" ><div class=\"lbl c0 trm \" ><span class=\"txtu\">VAN </span></div><div class='features'><span class=\"entityid xft\" ><span class=\"f\">entityId=</span>e_1_48_5</span><span class=\"entitykind xft\" ><span class=\"f\">entityKind=</span>PER</span><span class=\"trans xft\" ><span class=\"f\">trans=</span>VAN</span></div></div><div class=\"contnr c0 trm   \" ><div class=\"lbl c0 trm \" ><span class=\"txtu\">BANDA </span></div><div class='features'><span class=\"entityid xft\" ><span class=\"f\">entityId=</span>e_1_48_5</span><span class=\"entitykind xft\" ><span class=\"f\">entityKind=</span>PER</span><span class=\"trans xft\" ><span class=\"f\">trans=</span>BANDA</span></div></div><div class=\"contnr c0 trm   \" ><div class=\"lbl c0 trm \" ><span class=\"txtu\">NEIRA </span></div><div class='features'><span class=\"entityid xft\" ><span class=\"f\">entityId=</span>e_1_48_5</span><span class=\"entitykind xft\" ><span class=\"f\">entityKind=</span>PER</span><span class=\"trans xft\" ><span class=\"f\">trans=</span>NEIRA</span></div></div><div class=\"contnr c0 trm   \" ><div class=\"lbl c0 trm \" ><span class=\"txtu\">6 </span></div><div class='features'><span class=\"trans xft\" ><span class=\"f\">trans=</span>6</span></div></div><div class=\"contnr c0 trm   \" ><div class=\"lbl c0 trm \" ><span class=\"txtu\">mei </span></div><div class='features'><span class=\"trans xft\" ><span class=\"f\">trans=</span>mei</span></div></div><div class=\"contnr c0 trm   \" ><div class=\"lbl c0 trm \" ><span class=\"txtu\">1621. </span></div><div class='features'><span class=\"trans xft\" ><span class=\"f\">trans=</span>1621</span></div></div></div></div></div>"
      ],
      "text/plain": [
       "<IPython.core.display.HTML object>"
      ]
     },
     "metadata": {},
     "output_type": "display_data"
    },
    {
     "data": {
      "text/markdown": [
       "#### B3: case 3: Ter as LOCderiv: 1 occurrence\n",
       "\n"
      ],
      "text/plain": [
       "<IPython.core.display.Markdown object>"
      ]
     },
     "metadata": {},
     "output_type": "display_data"
    },
    {
     "data": {
      "text/html": [
       "<p><b>result</b> <i>1</i>"
      ],
      "text/plain": [
       "<IPython.core.display.HTML object>"
      ]
     },
     "metadata": {},
     "output_type": "display_data"
    },
    {
     "data": {
      "text/html": [
       "<div class=\"tfsechead \"><span class=\"ltr\"><a target=\"_blank\" href=\"http://resources.huygens.knaw.nl/retroboeken/generalemissiven/#page=444&amp;source=4\" title=\"Show this document on Huygens\" sec=\"4 429:15\">4 429:15</a></span></div><div class=\" children\"><div class=\"contnr c3    \" ><div class=\"lbl c3  \" ><span class=\"nd\">line</span></div><div class=\"children hor wrap \"><div class=\"contnr c0 trm   \" ><div class=\"lbl c0 trm \" ><span class=\"txtu\">Spanjaarden </span></div><div class='features'><span class=\"entityid xft\" ><span class=\"f\">entityId=</span>e_4_30_28</span><span class=\"entitykind xft\" ><span class=\"f\">entityKind=</span>LOCderiv</span><span class=\"trans xft\" ><span class=\"f\">trans=</span>Spanjaarden</span></div></div><div class=\"contnr c0 trm   \" ><div class=\"lbl c0 trm \" ><span class=\"txtu\">verwacht; </span></div><div class='features'><span class=\"trans xft\" ><span class=\"f\">trans=</span>verwacht</span></div></div><div class=\"contnr c0 trm   \" ><div class=\"lbl c0 trm \" ><span class=\"txtu\">de </span></div><div class='features'><span class=\"trans xft\" ><span class=\"f\">trans=</span>de</span></div></div><div class=\"contnr c0 trm   hl\" ><div class=\"lbl c0 trm hl\" ><span class=\"txtu\">Ter </span></div><div class='features'><span class=\"entityid xft\" ><span class=\"f\">entityId=</span>e_4_30_29</span><span class=\"entitykind xft\" ><span class=\"f\">entityKind=</span>LOCderiv</span><span class=\"trans xft\" ><span class=\"f\">trans=</span>Ter</span></div></div><div class=\"contnr c0 trm   \" ><div class=\"lbl c0 trm \" ><span class=\"txtu\">natanen </span></div><div class='features'><span class=\"entityid xft\" ><span class=\"f\">entityId=</span>e_4_30_29</span><span class=\"entitykind xft\" ><span class=\"f\">entityKind=</span>LOCderiv</span><span class=\"trans xft\" ><span class=\"f\">trans=</span>natanen</span></div></div><div class=\"contnr c0 trm   \" ><div class=\"lbl c0 trm \" ><span class=\"txtu\">kunnen </span></div><div class='features'><span class=\"trans xft\" ><span class=\"f\">trans=</span>kunnen</span></div></div><div class=\"contnr c0 trm   \" ><div class=\"lbl c0 trm \" ><span class=\"txtu\">nog </span></div><div class='features'><span class=\"trans xft\" ><span class=\"f\">trans=</span>nog</span></div></div><div class=\"contnr c0 trm   \" ><div class=\"lbl c0 trm \" ><span class=\"txtu\">maar </span></div><div class='features'><span class=\"trans xft\" ><span class=\"f\">trans=</span>maar</span></div></div><div class=\"contnr c0 trm   \" ><div class=\"lbl c0 trm \" ><span class=\"txtu\">700 </span></div><div class='features'><span class=\"trans xft\" ><span class=\"f\">trans=</span>700</span></div></div><div class=\"contnr c0 trm   \" ><div class=\"lbl c0 trm \" ><span class=\"txtu\">man </span></div><div class='features'><span class=\"trans xft\" ><span class=\"f\">trans=</span>man</span></div></div><div class=\"contnr c0 trm   \" ><div class=\"lbl c0 trm \" ><span class=\"txtu\">opbrengen; </span></div><div class='features'><span class=\"trans xft\" ><span class=\"f\">trans=</span>opbrengen</span></div></div><div class=\"contnr c0 trm   \" ><div class=\"lbl c0 trm \" ><span class=\"txtu\">op </span></div><div class='features'><span class=\"trans xft\" ><span class=\"f\">trans=</span>op</span></div></div></div></div></div>"
      ],
      "text/plain": [
       "<IPython.core.display.HTML object>"
      ]
     },
     "metadata": {},
     "output_type": "display_data"
    },
    {
     "data": {
      "text/markdown": [
       "#### B3: case 3: Ter as PER: 6 occurrences\n",
       "\n"
      ],
      "text/plain": [
       "<IPython.core.display.Markdown object>"
      ]
     },
     "metadata": {},
     "output_type": "display_data"
    },
    {
     "data": {
      "text/html": [
       "<p><b>result</b> <i>1</i>"
      ],
      "text/plain": [
       "<IPython.core.display.HTML object>"
      ]
     },
     "metadata": {},
     "output_type": "display_data"
    },
    {
     "data": {
      "text/html": [
       "<div class=\"tfsechead \"><span class=\"ltr\"><a target=\"_blank\" href=\"http://resources.huygens.knaw.nl/retroboeken/generalemissiven/#page=26&amp;source=1\" title=\"Show this document on Huygens\" sec=\"1 3:2\">1 3:2</a></span></div><div class=\" children\"><div class=\"contnr c3    \" ><div class=\"lbl c3  \" ><span class=\"nd\">line</span></div><div class=\"children hor wrap \"><div class=\"contnr c0 trm   hl\" ><div class=\"lbl c0 trm hl\" ><span class=\"txtu\">TER </span></div><div class='features'><span class=\"entityid xft\" ><span class=\"f\">entityId=</span>e_1_3_2</span><span class=\"entitykind xft\" ><span class=\"f\">entityKind=</span>PER</span><span class=\"trans xft\" ><span class=\"f\">trans=</span>TER</span></div></div><div class=\"contnr c0 trm   \" ><div class=\"lbl c0 trm \" ><span class=\"txtu\">REDE </span></div><div class='features'><span class=\"entityid xft\" ><span class=\"f\">entityId=</span>e_1_3_2</span><span class=\"entitykind xft\" ><span class=\"f\">entityKind=</span>PER</span><span class=\"trans xft\" ><span class=\"f\">trans=</span>REDE</span></div></div><div class=\"contnr c0 trm   \" ><div class=\"lbl c0 trm \" ><span class=\"txtu\">VAN </span></div><div class='features'><span class=\"entityid xft\" ><span class=\"f\">entityId=</span>e_1_3_2</span><span class=\"entitykind xft\" ><span class=\"f\">entityKind=</span>PER</span><span class=\"trans xft\" ><span class=\"f\">trans=</span>VAN</span></div></div><div class=\"contnr c0 trm   \" ><div class=\"lbl c0 trm \" ><span class=\"txtu\">MAURITIUS </span></div><div class='features'><span class=\"entityid xft\" ><span class=\"f\">entityId=</span>e_1_3_2</span><span class=\"entitykind xft\" ><span class=\"f\">entityKind=</span>PER</span><span class=\"trans xft\" ><span class=\"f\">trans=</span>MAURITIUS</span></div></div><div class=\"contnr c0 trm   \" ><div class=\"lbl c0 trm \" ><span class=\"txtu\">14 </span></div><div class='features'><span class=\"trans xft\" ><span class=\"f\">trans=</span>14</span></div></div><div class=\"contnr c0 trm   \" ><div class=\"lbl c0 trm \" ><span class=\"txtu\">oktober </span></div><div class='features'><span class=\"trans xft\" ><span class=\"f\">trans=</span>oktober</span></div></div><div class=\"contnr c0 trm   \" ><div class=\"lbl c0 trm \" ><span class=\"txtu\">1610. </span></div><div class='features'><span class=\"trans xft\" ><span class=\"f\">trans=</span>1610</span></div></div></div></div></div>"
      ],
      "text/plain": [
       "<IPython.core.display.HTML object>"
      ]
     },
     "metadata": {},
     "output_type": "display_data"
    },
    {
     "data": {
      "text/markdown": [
       "#### B3: case 3: Ter as SHP: 4 occurrences\n",
       "\n"
      ],
      "text/plain": [
       "<IPython.core.display.Markdown object>"
      ]
     },
     "metadata": {},
     "output_type": "display_data"
    },
    {
     "data": {
      "text/html": [
       "<p><b>result</b> <i>1</i>"
      ],
      "text/plain": [
       "<IPython.core.display.HTML object>"
      ]
     },
     "metadata": {},
     "output_type": "display_data"
    },
    {
     "data": {
      "text/html": [
       "<div class=\"tfsechead \"><span class=\"ltr\"><a target=\"_blank\" href=\"http://resources.huygens.knaw.nl/retroboeken/generalemissiven/#page=912&amp;source=6\" title=\"Show this document on Huygens\" sec=\"6 897:19\">6 897:19</a></span></div><div class=\" children\"><div class=\"contnr c3    \" ><div class=\"lbl c3  \" ><span class=\"nd\">line</span></div><div class=\"children hor wrap \"><div class=\"contnr c0 trm   \" ><div class=\"lbl c0 trm \" ><span class=\"txtu\">de </span></div><div class='features'><span class=\"trans xft\" ><span class=\"f\">trans=</span>de</span></div></div><div class=\"contnr c0 trm   \" ><div class=\"lbl c0 trm \" ><span class=\"txtu\">Haak, </span></div><div class='features'><span class=\"entityid xft\" ><span class=\"f\">entityId=</span>e_6_70_59</span><span class=\"entitykind xft\" ><span class=\"f\">entityKind=</span>SHP</span><span class=\"trans xft\" ><span class=\"f\">trans=</span>Haak</span></div></div><div class=\"contnr c0 trm   \" ><div class=\"lbl c0 trm \" ><span class=\"txtu\">die </span></div><div class='features'><span class=\"trans xft\" ><span class=\"f\">trans=</span>die</span></div></div><div class=\"contnr c0 trm   \" ><div class=\"lbl c0 trm \" ><span class=\"txtu\">via </span></div><div class='features'><span class=\"trans xft\" ><span class=\"f\">trans=</span>via</span></div></div><div class=\"contnr c0 trm   \" ><div class=\"lbl c0 trm \" ><span class=\"txtu\">Banda </span></div><div class='features'><span class=\"entityid xft\" ><span class=\"f\">entityId=</span>e_6_70_60</span><span class=\"entitykind xft\" ><span class=\"f\">entityKind=</span>LOC</span><span class=\"trans xft\" ><span class=\"f\">trans=</span>Banda</span></div></div><div class=\"contnr c0 trm   \" ><div class=\"lbl c0 trm \" ><span class=\"txtu\">moet </span></div><div class='features'><span class=\"trans xft\" ><span class=\"f\">trans=</span>moet</span></div></div><div class=\"contnr c0 trm   \" ><div class=\"lbl c0 trm \" ><span class=\"txtu\">terugkomen, </span></div><div class='features'><span class=\"trans xft\" ><span class=\"f\">trans=</span>terugkomen</span></div></div><div class=\"contnr c0 trm   \" ><div class=\"lbl c0 trm \" ><span class=\"txtu\">de </span></div><div class='features'><span class=\"trans xft\" ><span class=\"f\">trans=</span>de</span></div></div><div class=\"contnr c0 trm   \" ><div class=\"lbl c0 trm \" ><span class=\"txtu\">jachtjes </span></div><div class='features'><span class=\"trans xft\" ><span class=\"f\">trans=</span>jachtjes</span></div></div><div class=\"contnr c0 trm   hl\" ><div class=\"lbl c0 trm hl\" ><span class=\"txtu\">Ter </span></div><div class='features'><span class=\"entityid xft\" ><span class=\"f\">entityId=</span>e_6_70_61</span><span class=\"entitykind xft\" ><span class=\"f\">entityKind=</span>SHP</span><span class=\"trans xft\" ><span class=\"f\">trans=</span>Ter</span></div></div><div class=\"contnr c0 trm   \" ><div class=\"lbl c0 trm \" ><span class=\"txtu\">Eem </span></div><div class='features'><span class=\"entityid xft\" ><span class=\"f\">entityId=</span>e_6_70_61</span><span class=\"entitykind xft\" ><span class=\"f\">entityKind=</span>SHP</span><span class=\"trans xft\" ><span class=\"f\">trans=</span>Eem</span></div></div><div class=\"contnr c0 trm   \" ><div class=\"lbl c0 trm \" ><span class=\"txtu\">en </span></div><div class='features'><span class=\"trans xft\" ><span class=\"f\">trans=</span>en</span></div></div><div class=\"contnr c0 trm   \" ><div class=\"lbl c0 trm \" ><span class=\"txtu\">Pieter </span></div><div class='features'><span class=\"entityid xft\" ><span class=\"f\">entityId=</span>e_6_70_62</span><span class=\"entitykind xft\" ><span class=\"f\">entityKind=</span>SHP</span><span class=\"trans xft\" ><span class=\"f\">trans=</span>Pieter</span></div></div><div class=\"contnr c0 trm   \" ><div class=\"lbl c0 trm \" ><span class=\"txtu\">en </span></div><div class='features'><span class=\"entityid xft\" ><span class=\"f\">entityId=</span>e_6_70_62</span><span class=\"entitykind xft\" ><span class=\"f\">entityKind=</span>SHP</span><span class=\"trans xft\" ><span class=\"f\">trans=</span>en</span></div></div><div class=\"contnr c0 trm   \" ><div class=\"lbl c0 trm \" ><span class=\"txtu\">Paul, </span></div><div class='features'><span class=\"entityid xft\" ><span class=\"f\">entityId=</span>e_6_70_62</span><span class=\"entitykind xft\" ><span class=\"f\">entityKind=</span>SHP</span><span class=\"trans xft\" ><span class=\"f\">trans=</span>Paul</span></div></div><div class=\"contnr c0 trm   \" ><div class=\"lbl c0 trm \" ><span class=\"txtu\">het </span></div><div class='features'><span class=\"trans xft\" ><span class=\"f\">trans=</span>het</span></div></div></div></div></div>"
      ],
      "text/plain": [
       "<IPython.core.display.HTML object>"
      ]
     },
     "metadata": {},
     "output_type": "display_data"
    },
    {
     "data": {
      "text/markdown": [
       "#### B3: case 4: Mauritius as None: 254 occurrences\n",
       "\n"
      ],
      "text/plain": [
       "<IPython.core.display.Markdown object>"
      ]
     },
     "metadata": {},
     "output_type": "display_data"
    },
    {
     "data": {
      "text/html": [
       "<p><b>result</b> <i>1</i>"
      ],
      "text/plain": [
       "<IPython.core.display.HTML object>"
      ]
     },
     "metadata": {},
     "output_type": "display_data"
    },
    {
     "data": {
      "text/html": [
       "<div class=\"tfsechead \"><span class=\"ltr\"><a target=\"_blank\" href=\"http://resources.huygens.knaw.nl/retroboeken/generalemissiven/#page=52&amp;source=1\" title=\"Show this document on Huygens\" sec=\"1 29:47\">1 29:47</a></span></div><div class=\" children\"><div class=\"contnr c3    \" ><div class=\"lbl c3  \" ><span class=\"nd\">line</span></div><div class=\"children hor wrap \"><div class=\"contnr c0 trm   \" ><div class=\"lbl c0 trm \" ><span class=\"txtu\">misschien </span></div><div class='features'><span class=\"trans xft\" ><span class=\"f\">trans=</span>misschien</span></div></div><div class=\"contnr c0 trm   \" ><div class=\"lbl c0 trm \" ><span class=\"txtu\">is </span></div><div class='features'><span class=\"trans xft\" ><span class=\"f\">trans=</span>is</span></div></div><div class=\"contnr c0 trm   \" ><div class=\"lbl c0 trm \" ><span class=\"txtu\">hij </span></div><div class='features'><span class=\"trans xft\" ><span class=\"f\">trans=</span>hij</span></div></div><div class=\"contnr c0 trm   \" ><div class=\"lbl c0 trm \" ><span class=\"txtu\">bij </span></div><div class='features'><span class=\"trans xft\" ><span class=\"f\">trans=</span>bij</span></div></div><div class=\"contnr c0 trm   \" ><div class=\"lbl c0 trm \" ><span class=\"txtu\">de </span></div><div class='features'><span class=\"trans xft\" ><span class=\"f\">trans=</span>de</span></div></div><div class=\"contnr c0 trm   \" ><div class=\"lbl c0 trm \" ><span class=\"txtu\">scheepsramp </span></div><div class='features'><span class=\"trans xft\" ><span class=\"f\">trans=</span>scheepsramp</span></div></div><div class=\"contnr c0 trm   \" ><div class=\"lbl c0 trm \" ><span class=\"txtu\">van </span></div><div class='features'><span class=\"trans xft\" ><span class=\"f\">trans=</span>van</span></div></div><div class=\"contnr c0 trm   \" ><div class=\"lbl c0 trm \" ><span class=\"txtu\">die </span></div><div class='features'><span class=\"trans xft\" ><span class=\"f\">trans=</span>die</span></div></div><div class=\"contnr c0 trm   \" ><div class=\"lbl c0 trm \" ><span class=\"txtu\">vloot </span></div><div class='features'><span class=\"trans xft\" ><span class=\"f\">trans=</span>vloot</span></div></div><div class=\"contnr c0 trm   \" ><div class=\"lbl c0 trm \" ><span class=\"txtu\">op </span></div><div class='features'><span class=\"trans xft\" ><span class=\"f\">trans=</span>op</span></div></div><div class=\"contnr c0 trm   hl\" ><div class=\"lbl c0 trm hl\" ><span class=\"txtu\">Mauritius </span></div><div class='features'><span class=\"trans xft\" ><span class=\"f\">trans=</span>Mauritius</span></div></div><div class=\"contnr c0 trm   \" ><div class=\"lbl c0 trm \" ><span class=\"txtu\">omgekomen. </span></div><div class='features'><span class=\"trans xft\" ><span class=\"f\">trans=</span>omgekomen</span></div></div></div></div></div>"
      ],
      "text/plain": [
       "<IPython.core.display.HTML object>"
      ]
     },
     "metadata": {},
     "output_type": "display_data"
    },
    {
     "data": {
      "text/markdown": [
       "#### B3: case 4: Mauritius as LOC: 23 occurrences\n",
       "\n"
      ],
      "text/plain": [
       "<IPython.core.display.Markdown object>"
      ]
     },
     "metadata": {},
     "output_type": "display_data"
    },
    {
     "data": {
      "text/html": [
       "<p><b>result</b> <i>1</i>"
      ],
      "text/plain": [
       "<IPython.core.display.HTML object>"
      ]
     },
     "metadata": {},
     "output_type": "display_data"
    },
    {
     "data": {
      "text/html": [
       "<div class=\"tfsechead \"><span class=\"ltr\"><a target=\"_blank\" href=\"http://resources.huygens.knaw.nl/retroboeken/generalemissiven/#page=42&amp;source=1\" title=\"Show this document on Huygens\" sec=\"1 19:1\">1 19:1</a></span></div><div class=\" children\"><div class=\"contnr c3    \" ><div class=\"lbl c3  \" ><span class=\"nd\">line</span></div><div class=\"children hor wrap \"><div class=\"contnr c0 trm   \" ><div class=\"lbl c0 trm \" ><span class=\"txtu\">XI. </span></div><div class='features'><span class=\"trans xft\" ><span class=\"f\">trans=</span>XI</span></div></div><div class=\"contnr c0 trm   \" ><div class=\"lbl c0 trm \" ><span class=\"txtu\">PIETER </span></div><div class='features'><span class=\"entityid xft\" ><span class=\"f\">entityId=</span>e_1_11_1</span><span class=\"entitykind xft\" ><span class=\"f\">entityKind=</span>PER</span><span class=\"trans xft\" ><span class=\"f\">trans=</span>PIETER</span></div></div><div class=\"contnr c0 trm   \" ><div class=\"lbl c0 trm \" ><span class=\"txtu\">BOTH, </span></div><div class='features'><span class=\"entityid xft\" ><span class=\"f\">entityId=</span>e_1_11_1</span><span class=\"entitykind xft\" ><span class=\"f\">entityKind=</span>PER</span><span class=\"trans xft\" ><span class=\"f\">trans=</span>BOTH</span></div></div><div class=\"contnr c0 trm   \" ><div class=\"lbl c0 trm \" ><span class=\"txtu\">FORT </span></div><div class='features'><span class=\"trans xft\" ><span class=\"f\">trans=</span>FORT</span></div></div><div class=\"contnr c0 trm   hl\" ><div class=\"lbl c0 trm hl\" ><span class=\"txtu\">MAURITIUS </span></div><div class='features'><span class=\"entityid xft\" ><span class=\"f\">entityId=</span>e_1_11_4</span><span class=\"entitykind xft\" ><span class=\"f\">entityKind=</span>LOC</span><span class=\"trans xft\" ><span class=\"f\">trans=</span>MAURITIUS</span></div></div><div class=\"contnr c0 trm   \" ><div class=\"lbl c0 trm \" ><span class=\"txtu\">NABIJ </span></div><div class='features'><span class=\"trans xft\" ><span class=\"f\">trans=</span>NABIJ</span></div></div><div class=\"contnr c0 trm   \" ><div class=\"lbl c0 trm \" ><span class=\"txtu\">NGOFAKIAHA </span></div><div class='features'><span class=\"entityid xft\" ><span class=\"f\">entityId=</span>e_1_11_5</span><span class=\"entitykind xft\" ><span class=\"f\">entityKind=</span>LOC</span><span class=\"trans xft\" ><span class=\"f\">trans=</span>NGOFAKIAHA</span></div></div><div class=\"contnr c0 trm   \" ><div class=\"lbl c0 trm \" ><span class=\"txtu\">OP </span></div><div class='features'><span class=\"trans xft\" ><span class=\"f\">trans=</span>OP</span></div></div><div class=\"contnr c0 trm   \" ><div class=\"lbl c0 trm \" ><span class=\"txtu\">HET </span></div><div class='features'><span class=\"trans xft\" ><span class=\"f\">trans=</span>HET</span></div></div></div></div></div>"
      ],
      "text/plain": [
       "<IPython.core.display.HTML object>"
      ]
     },
     "metadata": {},
     "output_type": "display_data"
    },
    {
     "data": {
      "text/markdown": [
       "#### B3: case 4: Mauritius as PER: 8 occurrences\n",
       "\n"
      ],
      "text/plain": [
       "<IPython.core.display.Markdown object>"
      ]
     },
     "metadata": {},
     "output_type": "display_data"
    },
    {
     "data": {
      "text/html": [
       "<p><b>result</b> <i>1</i>"
      ],
      "text/plain": [
       "<IPython.core.display.HTML object>"
      ]
     },
     "metadata": {},
     "output_type": "display_data"
    },
    {
     "data": {
      "text/html": [
       "<div class=\"tfsechead \"><span class=\"ltr\"><a target=\"_blank\" href=\"http://resources.huygens.knaw.nl/retroboeken/generalemissiven/#page=26&amp;source=1\" title=\"Show this document on Huygens\" sec=\"1 3:2\">1 3:2</a></span></div><div class=\" children\"><div class=\"contnr c3    \" ><div class=\"lbl c3  \" ><span class=\"nd\">line</span></div><div class=\"children hor wrap \"><div class=\"contnr c0 trm   \" ><div class=\"lbl c0 trm \" ><span class=\"txtu\">TER </span></div><div class='features'><span class=\"entityid xft\" ><span class=\"f\">entityId=</span>e_1_3_2</span><span class=\"entitykind xft\" ><span class=\"f\">entityKind=</span>PER</span><span class=\"trans xft\" ><span class=\"f\">trans=</span>TER</span></div></div><div class=\"contnr c0 trm   \" ><div class=\"lbl c0 trm \" ><span class=\"txtu\">REDE </span></div><div class='features'><span class=\"entityid xft\" ><span class=\"f\">entityId=</span>e_1_3_2</span><span class=\"entitykind xft\" ><span class=\"f\">entityKind=</span>PER</span><span class=\"trans xft\" ><span class=\"f\">trans=</span>REDE</span></div></div><div class=\"contnr c0 trm   \" ><div class=\"lbl c0 trm \" ><span class=\"txtu\">VAN </span></div><div class='features'><span class=\"entityid xft\" ><span class=\"f\">entityId=</span>e_1_3_2</span><span class=\"entitykind xft\" ><span class=\"f\">entityKind=</span>PER</span><span class=\"trans xft\" ><span class=\"f\">trans=</span>VAN</span></div></div><div class=\"contnr c0 trm   hl\" ><div class=\"lbl c0 trm hl\" ><span class=\"txtu\">MAURITIUS </span></div><div class='features'><span class=\"entityid xft\" ><span class=\"f\">entityId=</span>e_1_3_2</span><span class=\"entitykind xft\" ><span class=\"f\">entityKind=</span>PER</span><span class=\"trans xft\" ><span class=\"f\">trans=</span>MAURITIUS</span></div></div><div class=\"contnr c0 trm   \" ><div class=\"lbl c0 trm \" ><span class=\"txtu\">14 </span></div><div class='features'><span class=\"trans xft\" ><span class=\"f\">trans=</span>14</span></div></div><div class=\"contnr c0 trm   \" ><div class=\"lbl c0 trm \" ><span class=\"txtu\">oktober </span></div><div class='features'><span class=\"trans xft\" ><span class=\"f\">trans=</span>oktober</span></div></div><div class=\"contnr c0 trm   \" ><div class=\"lbl c0 trm \" ><span class=\"txtu\">1610. </span></div><div class='features'><span class=\"trans xft\" ><span class=\"f\">trans=</span>1610</span></div></div></div></div></div>"
      ],
      "text/plain": [
       "<IPython.core.display.HTML object>"
      ]
     },
     "metadata": {},
     "output_type": "display_data"
    },
    {
     "data": {
      "text/markdown": [
       "#### B3: case 4: Mauritius as SHP: 2 occurrences\n",
       "\n"
      ],
      "text/plain": [
       "<IPython.core.display.Markdown object>"
      ]
     },
     "metadata": {},
     "output_type": "display_data"
    },
    {
     "data": {
      "text/html": [
       "<p><b>result</b> <i>1</i>"
      ],
      "text/plain": [
       "<IPython.core.display.HTML object>"
      ]
     },
     "metadata": {},
     "output_type": "display_data"
    },
    {
     "data": {
      "text/html": [
       "<div class=\"tfsechead \"><span class=\"ltr\"><a target=\"_blank\" href=\"http://resources.huygens.knaw.nl/retroboeken/generalemissiven/#page=511&amp;source=4\" title=\"Show this document on Huygens\" sec=\"4 496:19\">4 496:19</a></span></div><div class=\" children\"><div class=\"contnr c3    \" ><div class=\"lbl c3  \" ><span class=\"nd\">line</span></div><div class=\"children hor wrap \"><div class=\"contnr c0 trm   \" ><div class=\"lbl c0 trm \" ><span class=\"txtu\">en </span></div><div class='features'><span class=\"trans xft\" ><span class=\"f\">trans=</span>en</span></div></div><div class=\"contnr c0 trm   \" ><div class=\"lbl c0 trm \" ><span class=\"txtu\">de </span></div><div class='features'><span class=\"trans xft\" ><span class=\"f\">trans=</span>de</span></div></div><div class=\"contnr c0 trm   \" ><div class=\"lbl c0 trm \" ><span class=\"txtu\">Princéland, </span></div><div class='features'><span class=\"entityid xft\" ><span class=\"f\">entityId=</span>e_4_40_50</span><span class=\"entitykind xft\" ><span class=\"f\">entityKind=</span>SHP</span><span class=\"trans xft\" ><span class=\"f\">trans=</span>Princéland</span></div></div><div class=\"contnr c0 trm   \" ><div class=\"lbl c0 trm \" ><span class=\"txtu\">9 </span></div><div class='features'><span class=\"trans xft\" ><span class=\"f\">trans=</span>9</span></div></div><div class=\"contnr c0 trm   \" ><div class=\"lbl c0 trm \" ><span class=\"txtu\">febr. </span></div><div class='features'><span class=\"trans xft\" ><span class=\"f\">trans=</span>febr</span></div></div><div class=\"contnr c0 trm   \" ><div class=\"lbl c0 trm \" ><span class=\"txtu\">de </span></div><div class='features'><span class=\"trans xft\" ><span class=\"f\">trans=</span>de</span></div></div><div class=\"contnr c0 trm   hl\" ><div class=\"lbl c0 trm hl\" ><span class=\"txtu\">Mauritius, </span></div><div class='features'><span class=\"entityid xft\" ><span class=\"f\">entityId=</span>e_4_40_51</span><span class=\"entitykind xft\" ><span class=\"f\">entityKind=</span>SHP</span><span class=\"trans xft\" ><span class=\"f\">trans=</span>Mauritius</span></div></div><div class=\"contnr c0 trm   \" ><div class=\"lbl c0 trm \" ><span class=\"txtu\">de </span></div><div class='features'><span class=\"trans xft\" ><span class=\"f\">trans=</span>de</span></div></div><div class=\"contnr c0 trm   \" ><div class=\"lbl c0 trm \" ><span class=\"txtu\">13e </span></div><div class='features'><span class=\"trans xft\" ><span class=\"f\">trans=</span>13e</span></div></div><div class=\"contnr c0 trm   \" ><div class=\"lbl c0 trm \" ><span class=\"txtu\">het </span></div><div class='features'><span class=\"trans xft\" ><span class=\"f\">trans=</span>het</span></div></div><div class=\"contnr c0 trm   \" ><div class=\"lbl c0 trm \" ><span class=\"txtu\">Wapen </span></div><div class='features'><span class=\"entityid xft\" ><span class=\"f\">entityId=</span>e_4_40_53</span><span class=\"entitykind xft\" ><span class=\"f\">entityKind=</span>SHP</span><span class=\"trans xft\" ><span class=\"f\">trans=</span>Wapen</span></div></div><div class=\"contnr c0 trm   \" ><div class=\"lbl c0 trm \" ><span class=\"txtu\">van </span></div><div class='features'><span class=\"entityid xft\" ><span class=\"f\">entityId=</span>e_4_40_53</span><span class=\"entitykind xft\" ><span class=\"f\">entityKind=</span>SHP</span><span class=\"trans xft\" ><span class=\"f\">trans=</span>van</span></div></div><div class=\"contnr c0 trm   \" ><div class=\"lbl c0 trm \" ><span class=\"txtu\">Alckmaer </span></div><div class='features'><span class=\"entityid xft\" ><span class=\"f\">entityId=</span>e_4_40_53</span><span class=\"entitykind xft\" ><span class=\"f\">entityKind=</span>SHP</span><span class=\"trans xft\" ><span class=\"f\">trans=</span>Alckmaer</span></div></div><div class=\"contnr c0 trm   \" ><div class=\"lbl c0 trm \" ><span class=\"txtu\">met </span></div><div class='features'><span class=\"trans xft\" ><span class=\"f\">trans=</span>met</span></div></div><div class=\"contnr c0 trm   \" ><div class=\"lbl c0 trm \" ><span class=\"txtu\">den </span></div><div class='features'><span class=\"trans xft\" ><span class=\"f\">trans=</span>den</span></div></div></div></div></div>"
      ],
      "text/plain": [
       "<IPython.core.display.HTML object>"
      ]
     },
     "metadata": {},
     "output_type": "display_data"
    },
    {
     "data": {
      "text/markdown": [
       "#### B3: case 5: Kasteel as None: 156 occurrences\n",
       "\n"
      ],
      "text/plain": [
       "<IPython.core.display.Markdown object>"
      ]
     },
     "metadata": {},
     "output_type": "display_data"
    },
    {
     "data": {
      "text/html": [
       "<p><b>result</b> <i>1</i>"
      ],
      "text/plain": [
       "<IPython.core.display.HTML object>"
      ]
     },
     "metadata": {},
     "output_type": "display_data"
    },
    {
     "data": {
      "text/html": [
       "<div class=\"tfsechead \"><span class=\"ltr\"><a target=\"_blank\" href=\"http://resources.huygens.knaw.nl/retroboeken/generalemissiven/#page=27&amp;source=1\" title=\"Show this document on Huygens\" sec=\"1 4:1\">1 4:1</a></span></div><div class=\" children\"><div class=\"contnr c3    \" ><div class=\"lbl c3  \" ><span class=\"nd\">line</span></div><div class=\"children hor wrap \"><div class=\"contnr c0 trm   \" ><div class=\"lbl c0 trm \" ><span class=\"txtu\">IV. </span></div><div class='features'><span class=\"trans xft\" ><span class=\"f\">trans=</span>IV</span></div></div><div class=\"contnr c0 trm   \" ><div class=\"lbl c0 trm \" ><span class=\"txtu\">PIETER </span></div><div class='features'><span class=\"entityid xft\" ><span class=\"f\">entityId=</span>e_1_4_1</span><span class=\"entitykind xft\" ><span class=\"f\">entityKind=</span>SHP</span><span class=\"trans xft\" ><span class=\"f\">trans=</span>PIETER</span></div></div><div class=\"contnr c0 trm   \" ><div class=\"lbl c0 trm \" ><span class=\"txtu\">BOTH, </span></div><div class='features'><span class=\"entityid xft\" ><span class=\"f\">entityId=</span>e_1_4_2</span><span class=\"entitykind xft\" ><span class=\"f\">entityKind=</span>LOC</span><span class=\"trans xft\" ><span class=\"f\">trans=</span>BOTH</span></div></div><div class=\"contnr c0 trm   hl\" ><div class=\"lbl c0 trm hl\" ><span class=\"txtu\">KASTEEL </span></div><div class='features'><span class=\"trans xft\" ><span class=\"f\">trans=</span>KASTEEL</span></div></div><div class=\"contnr c0 trm   \" ><div class=\"lbl c0 trm \" ><span class=\"txtu\">NASSAU </span></div><div class='features'><span class=\"entityid xft\" ><span class=\"f\">entityId=</span>e_1_4_3</span><span class=\"entitykind xft\" ><span class=\"f\">entityKind=</span>LOC</span><span class=\"trans xft\" ><span class=\"f\">trans=</span>NASSAU</span></div></div><div class=\"contnr c0 trm   \" ><div class=\"lbl c0 trm \" ><span class=\"txtu\">OP </span></div><div class='features'><span class=\"trans xft\" ><span class=\"f\">trans=</span>OP</span></div></div><div class=\"contnr c0 trm   \" ><div class=\"lbl c0 trm \" ><span class=\"txtu\">BANDA </span></div><div class='features'><span class=\"entityid xft\" ><span class=\"f\">entityId=</span>e_1_4_5</span><span class=\"entitykind xft\" ><span class=\"f\">entityKind=</span>LOC</span><span class=\"trans xft\" ><span class=\"f\">trans=</span>BANDA</span></div></div><div class=\"contnr c0 trm   \" ><div class=\"lbl c0 trm \" ><span class=\"txtu\">18 </span></div><div class='features'><span class=\"trans xft\" ><span class=\"f\">trans=</span>18</span></div></div><div class=\"contnr c0 trm   \" ><div class=\"lbl c0 trm \" ><span class=\"txtu\">juli </span></div><div class='features'><span class=\"trans xft\" ><span class=\"f\">trans=</span>juli</span></div></div><div class=\"contnr c0 trm   \" ><div class=\"lbl c0 trm \" ><span class=\"txtu\">1611. </span></div><div class='features'><span class=\"trans xft\" ><span class=\"f\">trans=</span>1611</span></div></div></div></div></div>"
      ],
      "text/plain": [
       "<IPython.core.display.HTML object>"
      ]
     },
     "metadata": {},
     "output_type": "display_data"
    },
    {
     "data": {
      "text/markdown": [
       "#### B3: case 5: Kasteel as LOC: 7 occurrences\n",
       "\n"
      ],
      "text/plain": [
       "<IPython.core.display.Markdown object>"
      ]
     },
     "metadata": {},
     "output_type": "display_data"
    },
    {
     "data": {
      "text/html": [
       "<p><b>result</b> <i>1</i>"
      ],
      "text/plain": [
       "<IPython.core.display.HTML object>"
      ]
     },
     "metadata": {},
     "output_type": "display_data"
    },
    {
     "data": {
      "text/html": [
       "<div class=\"tfsechead \"><span class=\"ltr\"><a target=\"_blank\" href=\"http://resources.huygens.knaw.nl/retroboeken/generalemissiven/#page=120&amp;source=1\" title=\"Show this document on Huygens\" sec=\"1 97:1\">1 97:1</a></span></div><div class=\" children\"><div class=\"contnr c3    \" ><div class=\"lbl c3  \" ><span class=\"nd\">line</span></div><div class=\"children hor wrap \"><div class=\"contnr c0 trm   \" ><div class=\"lbl c0 trm \" ><span class=\"txtu\">I. </span></div><div class='features'><span class=\"trans xft\" ><span class=\"f\">trans=</span>I</span></div></div><div class=\"contnr c0 trm   \" ><div class=\"lbl c0 trm \" ><span class=\"txtu\">JAN </span></div><div class='features'><span class=\"entityid xft\" ><span class=\"f\">entityId=</span>e_1_37_1</span><span class=\"entitykind xft\" ><span class=\"f\">entityKind=</span>PER</span><span class=\"trans xft\" ><span class=\"f\">trans=</span>JAN</span></div></div><div class=\"contnr c0 trm   \" ><div class=\"lbl c0 trm \" ><span class=\"txtu\">PIETERSZ. </span></div><div class='features'><span class=\"entityid xft\" ><span class=\"f\">entityId=</span>e_1_37_1</span><span class=\"entitykind xft\" ><span class=\"f\">entityKind=</span>PER</span><span class=\"trans xft\" ><span class=\"f\">trans=</span>PIETERSZ</span></div></div><div class=\"contnr c0 trm   \" ><div class=\"lbl c0 trm \" ><span class=\"txtu\">COEN, </span></div><div class='features'><span class=\"entityid xft\" ><span class=\"f\">entityId=</span>e_1_37_1</span><span class=\"entitykind xft\" ><span class=\"f\">entityKind=</span>PER</span><span class=\"trans xft\" ><span class=\"f\">trans=</span>COEN</span></div></div><div class=\"contnr c0 trm   hl\" ><div class=\"lbl c0 trm hl\" ><span class=\"txtu\">KASTEEL </span></div><div class='features'><span class=\"entityid xft\" ><span class=\"f\">entityId=</span>e_1_37_2</span><span class=\"entitykind xft\" ><span class=\"f\">entityKind=</span>LOC</span><span class=\"trans xft\" ><span class=\"f\">trans=</span>KASTEEL</span></div></div><div class=\"contnr c0 trm   \" ><div class=\"lbl c0 trm \" ><span class=\"txtu\">JAKATRA </span></div><div class='features'><span class=\"entityid xft\" ><span class=\"f\">entityId=</span>e_1_37_3</span><span class=\"entitykind xft\" ><span class=\"f\">entityKind=</span>LOC</span><span class=\"trans xft\" ><span class=\"f\">trans=</span>JAKATRA</span></div></div><div class=\"contnr c0 trm   \" ><div class=\"lbl c0 trm \" ><span class=\"txtu\">5 </span></div><div class='features'><span class=\"trans xft\" ><span class=\"f\">trans=</span>5</span></div></div><div class=\"contnr c0 trm   \" ><div class=\"lbl c0 trm \" ><span class=\"txtu\">augustus </span></div><div class='features'><span class=\"trans xft\" ><span class=\"f\">trans=</span>augustus</span></div></div><div class=\"contnr c0 trm   \" ><div class=\"lbl c0 trm \" ><span class=\"txtu\">1619. </span></div><div class='features'><span class=\"trans xft\" ><span class=\"f\">trans=</span>1619</span></div></div></div></div></div>"
      ],
      "text/plain": [
       "<IPython.core.display.HTML object>"
      ]
     },
     "metadata": {},
     "output_type": "display_data"
    },
    {
     "data": {
      "text/markdown": [
       "#### B3: case 5: Kasteel as PER: 4 occurrences\n",
       "\n"
      ],
      "text/plain": [
       "<IPython.core.display.Markdown object>"
      ]
     },
     "metadata": {},
     "output_type": "display_data"
    },
    {
     "data": {
      "text/html": [
       "<p><b>result</b> <i>1</i>"
      ],
      "text/plain": [
       "<IPython.core.display.HTML object>"
      ]
     },
     "metadata": {},
     "output_type": "display_data"
    },
    {
     "data": {
      "text/html": [
       "<div class=\"tfsechead \"><span class=\"ltr\"><a target=\"_blank\" href=\"http://resources.huygens.knaw.nl/retroboeken/generalemissiven/#page=120&amp;source=1\" title=\"Show this document on Huygens\" sec=\"1 97:2\">1 97:2</a></span></div><div class=\" children\"><div class=\"contnr c3    \" ><div class=\"lbl c3  \" ><span class=\"nd\">line</span></div><div class=\"children hor wrap \"><div class=\"contnr c0 trm   \" ><div class=\"lbl c0 trm \" ><span class=\"txtu\">EN </span></div><div class='features'><span class=\"trans xft\" ><span class=\"f\">trans=</span>EN</span></div></div><div class=\"contnr c0 trm   \" ><div class=\"lbl c0 trm \" ><span class=\"txtu\">JACOB </span></div><div class='features'><span class=\"entityid xft\" ><span class=\"f\">entityId=</span>e_1_42_9</span><span class=\"entitykind xft\" ><span class=\"f\">entityKind=</span>PER</span><span class=\"trans xft\" ><span class=\"f\">trans=</span>JACOB</span></div></div><div class=\"contnr c0 trm   \" ><div class=\"lbl c0 trm \" ><span class=\"txtu\">DEDEL, </span></div><div class='features'><span class=\"entityid xft\" ><span class=\"f\">entityId=</span>e_1_42_9</span><span class=\"entitykind xft\" ><span class=\"f\">entityKind=</span>PER</span><span class=\"trans xft\" ><span class=\"f\">trans=</span>DEDEL</span></div></div><div class=\"contnr c0 trm   hl\" ><div class=\"lbl c0 trm hl\" ><span class=\"txtu\">KASTEEL </span></div><div class='features'><span class=\"entityid xft\" ><span class=\"f\">entityId=</span>e_1_42_10</span><span class=\"entitykind xft\" ><span class=\"f\">entityKind=</span>PER</span><span class=\"trans xft\" ><span class=\"f\">trans=</span>KASTEEL</span></div></div><div class=\"contnr c0 trm   \" ><div class=\"lbl c0 trm \" ><span class=\"txtu\">JAKATRA </span></div><div class='features'><span class=\"entityid xft\" ><span class=\"f\">entityId=</span>e_1_42_10</span><span class=\"entitykind xft\" ><span class=\"f\">entityKind=</span>PER</span><span class=\"trans xft\" ><span class=\"f\">trans=</span>JAKATRA</span></div></div><div class=\"contnr c0 trm   \" ><div class=\"lbl c0 trm \" ><span class=\"txtu\">11 </span></div><div class='features'><span class=\"trans xft\" ><span class=\"f\">trans=</span>11</span></div></div><div class=\"contnr c0 trm   \" ><div class=\"lbl c0 trm \" ><span class=\"txtu\">mei </span></div><div class='features'><span class=\"trans xft\" ><span class=\"f\">trans=</span>mei</span></div></div><div class=\"contnr c0 trm   \" ><div class=\"lbl c0 trm \" ><span class=\"txtu\">1620. </span></div><div class='features'><span class=\"trans xft\" ><span class=\"f\">trans=</span>1620</span></div></div></div></div></div>"
      ],
      "text/plain": [
       "<IPython.core.display.HTML object>"
      ]
     },
     "metadata": {},
     "output_type": "display_data"
    },
    {
     "data": {
      "text/markdown": [
       "#### B3: case 5: Kasteel as SHP: 26 occurrences\n",
       "\n"
      ],
      "text/plain": [
       "<IPython.core.display.Markdown object>"
      ]
     },
     "metadata": {},
     "output_type": "display_data"
    },
    {
     "data": {
      "text/html": [
       "<p><b>result</b> <i>1</i>"
      ],
      "text/plain": [
       "<IPython.core.display.HTML object>"
      ]
     },
     "metadata": {},
     "output_type": "display_data"
    },
    {
     "data": {
      "text/html": [
       "<div class=\"tfsechead \"><span class=\"ltr\"><a target=\"_blank\" href=\"http://resources.huygens.knaw.nl/retroboeken/generalemissiven/#page=311&amp;source=5\" title=\"Show this document on Huygens\" sec=\"5 296:10\">5 296:10</a></span></div><div class=\" children\"><div class=\"contnr c3    \" ><div class=\"lbl c3  \" ><span class=\"nd\">line</span></div><div class=\"children hor wrap \"><div class=\"contnr c0 trm   \" ><div class=\"lbl c0 trm \" ><span class=\"txtu\">mei </span></div><div class='features'><span class=\"trans xft\" ><span class=\"f\">trans=</span>mei</span></div></div><div class=\"contnr c0 trm   \" ><div class=\"lbl c0 trm \" ><span class=\"txtu\">tot </span></div><div class='features'><span class=\"trans xft\" ><span class=\"f\">trans=</span>tot</span></div></div><div class=\"contnr c0 trm   \" ><div class=\"lbl c0 trm \" ><span class=\"txtu\">11 </span></div><div class='features'><span class=\"trans xft\" ><span class=\"f\">trans=</span>11</span></div></div><div class=\"contnr c0 trm   \" ><div class=\"lbl c0 trm \" ><span class=\"txtu\">sept. </span></div><div class='features'><span class=\"trans xft\" ><span class=\"f\">trans=</span>sept</span></div></div><div class=\"contnr c0 trm   \" ><div class=\"lbl c0 trm \" ><span class=\"txtu\">als </span></div><div class='features'><span class=\"trans xft\" ><span class=\"f\">trans=</span>als</span></div></div><div class=\"contnr c0 trm   \" ><div class=\"lbl c0 trm \" ><span class=\"txtu\">commissaris </span></div><div class='features'><span class=\"trans xft\" ><span class=\"f\">trans=</span>commissaris</span></div></div><div class=\"contnr c0 trm   \" ><div class=\"lbl c0 trm \" ><span class=\"txtu\">naar </span></div><div class='features'><span class=\"trans xft\" ><span class=\"f\">trans=</span>naar</span></div></div><div class=\"contnr c0 trm   \" ><div class=\"lbl c0 trm \" ><span class=\"txtu\">Ternate; </span></div><div class='features'><span class=\"entityid xft\" ><span class=\"f\">entityId=</span>e_5_12_49</span><span class=\"entitykind xft\" ><span class=\"f\">entityKind=</span>LOC</span><span class=\"trans xft\" ><span class=\"f\">trans=</span>Ternate</span></div></div><div class=\"contnr c0 trm   \" ><div class=\"lbl c0 trm \" ><span class=\"txtu\">het </span></div><div class='features'><span class=\"trans xft\" ><span class=\"f\">trans=</span>het</span></div></div><div class=\"contnr c0 trm   \" ><div class=\"lbl c0 trm \" ><span class=\"txtu\">Huis </span></div><div class='features'><span class=\"entityid xft\" ><span class=\"f\">entityId=</span>e_5_12_50</span><span class=\"entitykind xft\" ><span class=\"f\">entityKind=</span>SHP</span><span class=\"trans xft\" ><span class=\"f\">trans=</span>Huis</span></div></div><div class=\"contnr c0 trm   \" ><div class=\"lbl c0 trm \" ><span class=\"txtu\">te </span></div><div class='features'><span class=\"entityid xft\" ><span class=\"f\">entityId=</span>e_5_12_50</span><span class=\"entitykind xft\" ><span class=\"f\">entityKind=</span>SHP</span><span class=\"trans xft\" ><span class=\"f\">trans=</span>te</span></div></div><div class=\"contnr c0 trm   \" ><div class=\"lbl c0 trm \" ><span class=\"txtu\">Spijk </span></div><div class='features'><span class=\"entityid xft\" ><span class=\"f\">entityId=</span>e_5_12_50</span><span class=\"entitykind xft\" ><span class=\"f\">entityKind=</span>SHP</span><span class=\"trans xft\" ><span class=\"f\">trans=</span>Spijk</span></div></div><div class=\"contnr c0 trm   \" ><div class=\"lbl c0 trm \" ><span class=\"txtu\">en </span></div><div class='features'><span class=\"trans xft\" ><span class=\"f\">trans=</span>en</span></div></div><div class=\"contnr c0 trm   \" ><div class=\"lbl c0 trm \" ><span class=\"txtu\">het </span></div><div class='features'><span class=\"trans xft\" ><span class=\"f\">trans=</span>het</span></div></div><div class=\"contnr c0 trm   hl\" ><div class=\"lbl c0 trm hl\" ><span class=\"txtu\">Kasteel </span></div><div class='features'><span class=\"entityid xft\" ><span class=\"f\">entityId=</span>e_5_12_51</span><span class=\"entitykind xft\" ><span class=\"f\">entityKind=</span>SHP</span><span class=\"trans xft\" ><span class=\"f\">trans=</span>Kasteel</span></div></div><div class=\"contnr c0 trm   \" ><div class=\"lbl c0 trm \" ><span class=\"txtu\">Batavia </span></div><div class='features'><span class=\"entityid xft\" ><span class=\"f\">entityId=</span>e_5_12_51</span><span class=\"entitykind xft\" ><span class=\"f\">entityKind=</span>SHP</span><span class=\"trans xft\" ><span class=\"f\">trans=</span>Batavia</span></div></div></div></div></div>"
      ],
      "text/plain": [
       "<IPython.core.display.HTML object>"
      ]
     },
     "metadata": {},
     "output_type": "display_data"
    },
    {
     "data": {
      "text/markdown": [
       "#### 40 more cases"
      ],
      "text/plain": [
       "<IPython.core.display.Markdown object>"
      ]
     },
     "metadata": {},
     "output_type": "display_data"
    },
    {
     "data": {
      "text/markdown": [
       "### B4: 5 words\n",
       "\n"
      ],
      "text/plain": [
       "<IPython.core.display.Markdown object>"
      ]
     },
     "metadata": {},
     "output_type": "display_data"
    },
    {
     "data": {
      "text/markdown": [
       "#### B4: case 1: Amsterdam as None: 1238 occurrences\n",
       "\n"
      ],
      "text/plain": [
       "<IPython.core.display.Markdown object>"
      ]
     },
     "metadata": {},
     "output_type": "display_data"
    },
    {
     "data": {
      "text/html": [
       "<p><b>result</b> <i>1</i>"
      ],
      "text/plain": [
       "<IPython.core.display.HTML object>"
      ]
     },
     "metadata": {},
     "output_type": "display_data"
    },
    {
     "data": {
      "text/html": [
       "<div class=\"tfsechead \"><span class=\"ltr\"><a target=\"_blank\" href=\"http://resources.huygens.knaw.nl/retroboeken/generalemissiven/#page=28&amp;source=1\" title=\"Show this document on Huygens\" sec=\"1 5:29\">1 5:29</a></span></div><div class=\" children\"><div class=\"contnr c3    \" ><div class=\"lbl c3  \" ><span class=\"nd\">line</span></div><div class=\"children hor wrap \"><div class=\"contnr c0 trm   \" ><div class=\"lbl c0 trm \" ><span class=\"txtu\">van </span></div><div class='features'><span class=\"trans xft\" ><span class=\"f\">trans=</span>van</span></div></div><div class=\"contnr c0 trm   hl\" ><div class=\"lbl c0 trm hl\" ><span class=\"txtu\">Amsterdam, </span></div><div class='features'><span class=\"trans xft\" ><span class=\"f\">trans=</span>Amsterdam</span></div></div></div></div></div>"
      ],
      "text/plain": [
       "<IPython.core.display.HTML object>"
      ]
     },
     "metadata": {},
     "output_type": "display_data"
    },
    {
     "data": {
      "text/markdown": [
       "#### B4: case 1: Amsterdam as LOC: 123 occurrences\n",
       "\n"
      ],
      "text/plain": [
       "<IPython.core.display.Markdown object>"
      ]
     },
     "metadata": {},
     "output_type": "display_data"
    },
    {
     "data": {
      "text/html": [
       "<p><b>result</b> <i>1</i>"
      ],
      "text/plain": [
       "<IPython.core.display.HTML object>"
      ]
     },
     "metadata": {},
     "output_type": "display_data"
    },
    {
     "data": {
      "text/html": [
       "<div class=\"tfsechead \"><span class=\"ltr\"><a target=\"_blank\" href=\"http://resources.huygens.knaw.nl/retroboeken/generalemissiven/#page=91&amp;source=1\" title=\"Show this document on Huygens\" sec=\"1 68:7\">1 68:7</a></span></div><div class=\" children\"><div class=\"contnr c3    \" ><div class=\"lbl c3  \" ><span class=\"nd\">line</span></div><div class=\"children hor wrap \"><div class=\"contnr c0 trm   hl\" ><div class=\"lbl c0 trm hl\" ><span class=\"txtu\">Amsterdam </span></div><div class='features'><span class=\"entityid xft\" ><span class=\"f\">entityId=</span>e_1_27_7</span><span class=\"entitykind xft\" ><span class=\"f\">entityKind=</span>LOC</span><span class=\"trans xft\" ><span class=\"f\">trans=</span>Amsterdam</span></div></div><div class=\"contnr c0 trm   \" ><div class=\"lbl c0 trm \" ><span class=\"txtu\">ende </span></div><div class='features'><span class=\"trans xft\" ><span class=\"f\">trans=</span>ende</span></div></div><div class=\"contnr c0 trm   \" ><div class=\"lbl c0 trm \" ><span class=\"txtu\">schipper </span></div><div class='features'><span class=\"trans xft\" ><span class=\"f\">trans=</span>schipper</span></div></div><div class=\"contnr c0 trm   \" ><div class=\"lbl c0 trm \" ><span class=\"txtu\">Willem </span></div><div class='features'><span class=\"entityid xft\" ><span class=\"f\">entityId=</span>e_1_27_8</span><span class=\"entitykind xft\" ><span class=\"f\">entityKind=</span>PER</span><span class=\"trans xft\" ><span class=\"f\">trans=</span>Willem</span></div></div><div class=\"contnr c0 trm   \" ><div class=\"lbl c0 trm \" ><span class=\"txtu\">Cornelissen </span></div><div class='features'><span class=\"entityid xft\" ><span class=\"f\">entityId=</span>e_1_27_8</span><span class=\"entitykind xft\" ><span class=\"f\">entityKind=</span>PER</span><span class=\"trans xft\" ><span class=\"f\">trans=</span>Cornelissen</span></div></div><div class=\"contnr c0 trm   \" ><div class=\"lbl c0 trm \" ><span class=\"txtu\">Schouten </span></div><div class='features'><span class=\"entityid xft\" ><span class=\"f\">entityId=</span>e_1_27_8</span><span class=\"entitykind xft\" ><span class=\"f\">entityKind=</span>PER</span><span class=\"trans xft\" ><span class=\"f\">trans=</span>Schouten</span></div></div><div class=\"contnr c0 trm   \" ><div class=\"lbl c0 trm \" ><span class=\"txtu\">van </span></div><div class='features'><span class=\"entityid xft\" ><span class=\"f\">entityId=</span>e_1_27_8</span><span class=\"entitykind xft\" ><span class=\"f\">entityKind=</span>PER</span><span class=\"trans xft\" ><span class=\"f\">trans=</span>van</span></div></div><div class=\"contnr c0 trm   \" ><div class=\"lbl c0 trm \" ><span class=\"txtu\">Hoorn </span></div><div class='features'><span class=\"entityid xft\" ><span class=\"f\">entityId=</span>e_1_27_8</span><span class=\"entitykind xft\" ><span class=\"f\">entityKind=</span>PER</span><span class=\"trans xft\" ><span class=\"f\">trans=</span>Hoorn</span></div></div><div class=\"contnr c0 trm   \" ><div class=\"lbl c0 trm \" ><span class=\"txtu\">Zie </span></div><div class='features'><span class=\"trans xft\" ><span class=\"f\">trans=</span>Zie</span></div></div><div class=\"contnr c0 trm   \" ><div class=\"lbl c0 trm \" ><span class=\"txtu\">voor </span></div><div class='features'><span class=\"trans xft\" ><span class=\"f\">trans=</span>voor</span></div></div><div class=\"contnr c0 trm   \" ><div class=\"lbl c0 trm \" ><span class=\"txtu\">deze </span></div><div class='features'><span class=\"trans xft\" ><span class=\"f\">trans=</span>deze</span></div></div><div class=\"contnr c0 trm   \" ><div class=\"lbl c0 trm \" ><span class=\"txtu\">reis </span></div><div class='features'><span class=\"trans xft\" ><span class=\"f\">trans=</span>reis</span></div></div><div class=\"contnr c0 trm   \" ><div class=\"lbl c0 trm \" ><span class=\"txtu\">Le </span></div><div class='features'><span class=\"trans xft\" ><span class=\"f\">trans=</span>Le</span></div></div><div class=\"contnr c0 trm   \" ><div class=\"lbl c0 trm \" ><span class=\"txtu\">Maire </span></div><div class='features'><span class=\"trans xft\" ><span class=\"f\">trans=</span>Maire</span></div></div><div class=\"contnr c0 trm   \" ><div class=\"lbl c0 trm \" ><span class=\"txtu\">en </span></div><div class='features'><span class=\"trans xft\" ><span class=\"f\">trans=</span>en</span></div></div><div class=\"contnr c0 trm   \" ><div class=\"lbl c0 trm \" ><span class=\"txtu\">Schouten. </span></div><div class='features'><span class=\"trans xft\" ><span class=\"f\">trans=</span>Schouten</span></div></div><div class=\"contnr c0 trm   \" ><div class=\"lbl c0 trm \" ><span class=\"txtu\">Volgens </span></div><div class='features'><span class=\"trans xft\" ><span class=\"f\">trans=</span>Volgens</span></div></div><div class=\"contnr c0 trm   \" ><div class=\"lbl c0 trm \" ><span class=\"txtu\">de </span></div><div class='features'><span class=\"trans xft\" ><span class=\"f\">trans=</span>de</span></div></div><div class=\"contnr c0 trm   \" ><div class=\"lbl c0 trm \" ><span class=\"txtu\">reisbeschrijving </span></div><div class='features'><span class=\"trans xft\" ><span class=\"f\">trans=</span>reisbeschrijving</span></div></div><div class=\"contnr c0 trm   \" ><div class=\"lbl c0 trm \" ><span class=\"txtu\">kwamen </span></div><div class='features'><span class=\"trans xft\" ><span class=\"f\">trans=</span>kwamen</span></div></div><div class=\"contnr c0 trm   \" ><div class=\"lbl c0 trm \" ><span class=\"txtu\">zij </span></div><div class='features'><span class=\"trans xft\" ><span class=\"f\">trans=</span>zij</span></div></div></div></div></div>"
      ],
      "text/plain": [
       "<IPython.core.display.HTML object>"
      ]
     },
     "metadata": {},
     "output_type": "display_data"
    },
    {
     "data": {
      "text/markdown": [
       "#### B4: case 1: Amsterdam as ORG: 3 occurrences\n",
       "\n"
      ],
      "text/plain": [
       "<IPython.core.display.Markdown object>"
      ]
     },
     "metadata": {},
     "output_type": "display_data"
    },
    {
     "data": {
      "text/html": [
       "<p><b>result</b> <i>1</i>"
      ],
      "text/plain": [
       "<IPython.core.display.HTML object>"
      ]
     },
     "metadata": {},
     "output_type": "display_data"
    },
    {
     "data": {
      "text/html": [
       "<div class=\"tfsechead \"><span class=\"ltr\"><a target=\"_blank\" href=\"http://resources.huygens.knaw.nl/retroboeken/generalemissiven/#page=223&amp;source=3\" title=\"Show this document on Huygens\" sec=\"3 210:25\">3 210:25</a></span></div><div class=\" children\"><div class=\"contnr c3    \" ><div class=\"lbl c3  \" ><span class=\"nd\">line</span></div><div class=\"children hor wrap \"><div class=\"contnr c0 trm   \" ><div class=\"lbl c0 trm \" ><span class=\"txtu\">mede </span></div><div class='features'><span class=\"trans xft\" ><span class=\"f\">trans=</span>mede</span></div></div><div class=\"contnr c0 trm   \" ><div class=\"lbl c0 trm \" ><span class=\"txtu\">voor </span></div><div class='features'><span class=\"trans xft\" ><span class=\"f\">trans=</span>voor</span></div></div><div class=\"contnr c0 trm   \" ><div class=\"lbl c0 trm \" ><span class=\"txtu\">de </span></div><div class='features'><span class=\"trans xft\" ><span class=\"f\">trans=</span>de</span></div></div><div class=\"contnr c0 trm   \" ><div class=\"lbl c0 trm \" ><span class=\"txtu\">Camer </span></div><div class='features'><span class=\"entityid xft\" ><span class=\"f\">entityId=</span>e_3_11_49</span><span class=\"entitykind xft\" ><span class=\"f\">entityKind=</span>ORG</span><span class=\"trans xft\" ><span class=\"f\">trans=</span>Camer</span></div></div><div class=\"contnr c0 trm   hl\" ><div class=\"lbl c0 trm hl\" ><span class=\"txtu\">Amsterdam. . . . </span></div><div class='features'><span class=\"entityid xft\" ><span class=\"f\">entityId=</span>e_3_11_49</span><span class=\"entitykind xft\" ><span class=\"f\">entityKind=</span>ORG</span><span class=\"trans xft\" ><span class=\"f\">trans=</span>Amsterdam</span></div></div></div></div></div>"
      ],
      "text/plain": [
       "<IPython.core.display.HTML object>"
      ]
     },
     "metadata": {},
     "output_type": "display_data"
    },
    {
     "data": {
      "text/markdown": [
       "#### B4: case 1: Amsterdam as PER: 7 occurrences\n",
       "\n"
      ],
      "text/plain": [
       "<IPython.core.display.Markdown object>"
      ]
     },
     "metadata": {},
     "output_type": "display_data"
    },
    {
     "data": {
      "text/html": [
       "<p><b>result</b> <i>1</i>"
      ],
      "text/plain": [
       "<IPython.core.display.HTML object>"
      ]
     },
     "metadata": {},
     "output_type": "display_data"
    },
    {
     "data": {
      "text/html": [
       "<div class=\"tfsechead \"><span class=\"ltr\"><a target=\"_blank\" href=\"http://resources.huygens.knaw.nl/retroboeken/generalemissiven/#page=198&amp;source=4\" title=\"Show this document on Huygens\" sec=\"4 183:17\">4 183:17</a></span></div><div class=\" children\"><div class=\"contnr c3    \" ><div class=\"lbl c3  \" ><span class=\"nd\">line</span></div><div class=\"children hor wrap \"><div class=\"contnr c0 trm   \" ><div class=\"lbl c0 trm \" ><span class=\"txtu\">Ternataansche </span></div><div class='features'><span class=\"entityid xft\" ><span class=\"f\">entityId=</span>e_4_12_29</span><span class=\"entitykind xft\" ><span class=\"f\">entityKind=</span>LOCderiv</span><span class=\"trans xft\" ><span class=\"f\">trans=</span>Ternataansche</span></div></div><div class=\"contnr c0 trm   \" ><div class=\"lbl c0 trm \" ><span class=\"txtu\">ratificatie </span></div><div class='features'><span class=\"trans xft\" ><span class=\"f\">trans=</span>ratificatie</span></div></div><div class=\"contnr c0 trm   \" ><div class=\"lbl c0 trm \" ><span class=\"txtu\">Hurdt </span></div><div class='features'><span class=\"entityid xft\" ><span class=\"f\">entityId=</span>e_4_12_42</span><span class=\"entitykind xft\" ><span class=\"f\">entityKind=</span>PER</span><span class=\"trans xft\" ><span class=\"f\">trans=</span>Hurdt</span></div></div><div class=\"contnr c0 trm   \" ><div class=\"lbl c0 trm \" ><span class=\"txtu\">maakte </span></div><div class='features'><span class=\"trans xft\" ><span class=\"f\">trans=</span>maakte</span></div></div><div class=\"contnr c0 trm   \" ><div class=\"lbl c0 trm \" ><span class=\"txtu\">een </span></div><div class='features'><span class=\"trans xft\" ><span class=\"f\">trans=</span>een</span></div></div><div class=\"contnr c0 trm   \" ><div class=\"lbl c0 trm \" ><span class=\"txtu\">reis </span></div><div class='features'><span class=\"trans xft\" ><span class=\"f\">trans=</span>reis</span></div></div><div class=\"contnr c0 trm   \" ><div class=\"lbl c0 trm \" ><span class=\"txtu\">naar </span></div><div class='features'><span class=\"trans xft\" ><span class=\"f\">trans=</span>naar</span></div></div><div class=\"contnr c0 trm   \" ><div class=\"lbl c0 trm \" ><span class=\"txtu\">Temate, </span></div><div class='features'><span class=\"entityid xft\" ><span class=\"f\">entityId=</span>e_4_12_43</span><span class=\"entitykind xft\" ><span class=\"f\">entityKind=</span>LOC</span><span class=\"trans xft\" ><span class=\"f\">trans=</span>Temate</span></div></div><div class=\"contnr c0 trm   \" ><div class=\"lbl c0 trm \" ><span class=\"txtu\">toen </span></div><div class='features'><span class=\"trans xft\" ><span class=\"f\">trans=</span>toen</span></div></div><div class=\"contnr c0 trm   \" ><div class=\"lbl c0 trm \" ><span class=\"txtu\">Koning </span></div><div class='features'><span class=\"trans xft\" ><span class=\"f\">trans=</span>Koning</span></div></div><div class=\"contnr c0 trm   hl\" ><div class=\"lbl c0 trm hl\" ><span class=\"txtu\">Amsterdam </span></div><div class='features'><span class=\"entityid xft\" ><span class=\"f\">entityId=</span>e_4_12_44</span><span class=\"entitykind xft\" ><span class=\"f\">entityKind=</span>PER</span><span class=\"trans xft\" ><span class=\"f\">trans=</span>Amsterdam</span></div></div><div class=\"contnr c0 trm   \" ><div class=\"lbl c0 trm \" ><span class=\"txtu\">daar </span></div><div class='features'><span class=\"trans xft\" ><span class=\"f\">trans=</span>daar</span></div></div><div class=\"contnr c0 trm   \" ><div class=\"lbl c0 trm \" ><span class=\"txtu\">moeilijkheden </span></div><div class='features'><span class=\"trans xft\" ><span class=\"f\">trans=</span>moeilijkheden</span></div></div></div></div></div>"
      ],
      "text/plain": [
       "<IPython.core.display.HTML object>"
      ]
     },
     "metadata": {},
     "output_type": "display_data"
    },
    {
     "data": {
      "text/markdown": [
       "#### B4: case 1: Amsterdam as SHP: 17 occurrences\n",
       "\n"
      ],
      "text/plain": [
       "<IPython.core.display.Markdown object>"
      ]
     },
     "metadata": {},
     "output_type": "display_data"
    },
    {
     "data": {
      "text/html": [
       "<p><b>result</b> <i>1</i>"
      ],
      "text/plain": [
       "<IPython.core.display.HTML object>"
      ]
     },
     "metadata": {},
     "output_type": "display_data"
    },
    {
     "data": {
      "text/html": [
       "<div class=\"tfsechead \"><span class=\"ltr\"><a target=\"_blank\" href=\"http://resources.huygens.knaw.nl/retroboeken/generalemissiven/#page=26&amp;source=1\" title=\"Show this document on Huygens\" sec=\"1 3:1\">1 3:1</a></span></div><div class=\" children\"><div class=\"contnr c3    \" ><div class=\"lbl c3  \" ><span class=\"nd\">line</span></div><div class='features'><span class=\"entityid xft\" ><span class=\"f\">entityId=</span>e_14_9_45</span><span class=\"entitykind xft\" ><span class=\"f\">entityKind=</span>LOC</span></div><div class=\"children hor wrap \"><div class=\"contnr c0 trm   \" ><div class=\"lbl c0 trm \" ><span class=\"txtu\">I. </span></div><div class='features'><span class=\"trans xft\" ><span class=\"f\">trans=</span>I</span></div></div><div class=\"contnr c0 trm   \" ><div class=\"lbl c0 trm \" ><span class=\"txtu\">PIETER </span></div><div class='features'><span class=\"entityid xft\" ><span class=\"f\">entityId=</span>e_1_1_1</span><span class=\"entitykind xft\" ><span class=\"f\">entityKind=</span>PER</span><span class=\"trans xft\" ><span class=\"f\">trans=</span>PIETER</span></div></div><div class=\"contnr c0 trm   \" ><div class=\"lbl c0 trm \" ><span class=\"txtu\">BOTH, </span></div><div class='features'><span class=\"entityid xft\" ><span class=\"f\">entityId=</span>e_1_1_1</span><span class=\"entitykind xft\" ><span class=\"f\">entityKind=</span>PER</span><span class=\"trans xft\" ><span class=\"f\">trans=</span>BOTH</span></div></div><div class=\"contnr c0 trm   \" ><div class=\"lbl c0 trm \" ><span class=\"txtu\">AAN </span></div><div class='features'><span class=\"trans xft\" ><span class=\"f\">trans=</span>AAN</span></div></div><div class=\"contnr c0 trm   \" ><div class=\"lbl c0 trm \" ><span class=\"txtu\">BOORD </span></div><div class='features'><span class=\"trans xft\" ><span class=\"f\">trans=</span>BOORD</span></div></div><div class=\"contnr c0 trm   \" ><div class=\"lbl c0 trm \" ><span class=\"txtu\">VAN </span></div><div class='features'><span class=\"trans xft\" ><span class=\"f\">trans=</span>VAN</span></div></div><div class=\"contnr c0 trm   \" ><div class=\"lbl c0 trm \" ><span class=\"txtu\">HET </span></div><div class='features'><span class=\"trans xft\" ><span class=\"f\">trans=</span>HET</span></div></div><div class=\"contnr c0 trm   \" ><div class=\"lbl c0 trm \" ><span class=\"txtu\">WAPEN </span></div><div class='features'><span class=\"trans xft\" ><span class=\"f\">trans=</span>WAPEN</span></div></div><div class=\"contnr c0 trm   \" ><div class=\"lbl c0 trm \" ><span class=\"txtu\">VAN </span></div><div class='features'><span class=\"trans xft\" ><span class=\"f\">trans=</span>VAN</span></div></div><div class=\"contnr c0 trm   hl\" ><div class=\"lbl c0 trm hl\" ><span class=\"txtu\">AMSTERDAM, </span></div><div class='features'><span class=\"entityid xft\" ><span class=\"f\">entityId=</span>e_1_1_2</span><span class=\"entitykind xft\" ><span class=\"f\">entityKind=</span>SHP</span><span class=\"trans xft\" ><span class=\"f\">trans=</span>AMSTERDAM</span></div></div></div></div></div>"
      ],
      "text/plain": [
       "<IPython.core.display.HTML object>"
      ]
     },
     "metadata": {},
     "output_type": "display_data"
    },
    {
     "data": {
      "text/markdown": [
       "#### B4: case 2: De as None: 24227 occurrences\n",
       "\n"
      ],
      "text/plain": [
       "<IPython.core.display.Markdown object>"
      ]
     },
     "metadata": {},
     "output_type": "display_data"
    },
    {
     "data": {
      "text/html": [
       "<p><b>result</b> <i>1</i>"
      ],
      "text/plain": [
       "<IPython.core.display.HTML object>"
      ]
     },
     "metadata": {},
     "output_type": "display_data"
    },
    {
     "data": {
      "text/html": [
       "<div class=\"tfsechead \"><span class=\"ltr\"><a target=\"_blank\" href=\"http://resources.huygens.knaw.nl/retroboeken/generalemissiven/#page=26&amp;source=1\" title=\"Show this document on Huygens\" sec=\"1 3:2\">1 3:2</a></span></div><div class=\" children\"><div class=\"contnr c3    \" ><div class=\"lbl c3  \" ><span class=\"nd\">line</span></div><div class='features'><span class=\"entityid xft\" ><span class=\"f\">entityId=</span>e_14_10_44</span><span class=\"entitykind xft\" ><span class=\"f\">entityKind=</span>ORG</span></div><div class=\"children hor wrap \"><div class=\"contnr c0 trm   \" ><div class=\"lbl c0 trm \" ><span class=\"txtu\">VOOR </span></div><div class='features'><span class=\"trans xft\" ><span class=\"f\">trans=</span>VOOR</span></div></div><div class=\"contnr c0 trm   \" ><div class=\"lbl c0 trm \" ><span class=\"txtu\">ILE </span></div><div class='features'><span class=\"trans xft\" ><span class=\"f\">trans=</span>ILE</span></div></div><div class=\"contnr c0 trm   \" ><div class=\"lbl c0 trm \" ><span class=\"txtu\">DE </span></div><div class='features'><span class=\"entityid xft\" ><span class=\"f\">entityId=</span>e_1_1_3</span><span class=\"entitykind xft\" ><span class=\"f\">entityKind=</span>LOC</span><span class=\"trans xft\" ><span class=\"f\">trans=</span>DE</span></div></div><div class=\"contnr c0 trm   \" ><div class=\"lbl c0 trm \" ><span class=\"txtu\">MAYO </span></div><div class='features'><span class=\"entityid xft\" ><span class=\"f\">entityId=</span>e_1_1_3</span><span class=\"entitykind xft\" ><span class=\"f\">entityKind=</span>LOC</span><span class=\"trans xft\" ><span class=\"f\">trans=</span>MAYO</span></div></div><div class=\"contnr c0 trm   hl\" ><div class=\"lbl c0 trm hl\" ><span class=\"txtu\">De </span></div><div class='features'><span class=\"trans xft\" ><span class=\"f\">trans=</span>De</span></div></div><div class=\"contnr c0 trm   \" ><div class=\"lbl c0 trm \" ><span class=\"txtu\">eerste </span></div><div class='features'><span class=\"trans xft\" ><span class=\"f\">trans=</span>eerste</span></div></div><div class=\"contnr c0 trm   \" ><div class=\"lbl c0 trm \" ><span class=\"txtu\">drie </span></div><div class='features'><span class=\"trans xft\" ><span class=\"f\">trans=</span>drie</span></div></div><div class=\"contnr c0 trm   \" ><div class=\"lbl c0 trm \" ><span class=\"txtu\">brieven, </span></div><div class='features'><span class=\"trans xft\" ><span class=\"f\">trans=</span>brieven</span></div></div><div class=\"contnr c0 trm   \" ><div class=\"lbl c0 trm \" ><span class=\"txtu\">door </span></div><div class='features'><span class=\"trans xft\" ><span class=\"f\">trans=</span>door</span></div></div><div class=\"contnr c0 trm   \" ><div class=\"lbl c0 trm \" ><span class=\"txtu\">Both </span></div><div class='features'><span class=\"entityid xft\" ><span class=\"f\">entityId=</span>e_1_1_4</span><span class=\"entitykind xft\" ><span class=\"f\">entityKind=</span>PER</span><span class=\"trans xft\" ><span class=\"f\">trans=</span>Both</span></div></div><div class=\"contnr c0 trm   \" ><div class=\"lbl c0 trm \" ><span class=\"txtu\">op </span></div><div class='features'><span class=\"trans xft\" ><span class=\"f\">trans=</span>op</span></div></div><div class=\"contnr c0 trm   \" ><div class=\"lbl c0 trm \" ><span class=\"txtu\">reis </span></div><div class='features'><span class=\"trans xft\" ><span class=\"f\">trans=</span>reis</span></div></div><div class=\"contnr c0 trm   \" ><div class=\"lbl c0 trm \" ><span class=\"txtu\">naar </span></div><div class='features'><span class=\"trans xft\" ><span class=\"f\">trans=</span>naar</span></div></div><div class=\"contnr c0 trm   \" ><div class=\"lbl c0 trm \" ><span class=\"txtu\">Indië </span></div><div class='features'><span class=\"entityid xft\" ><span class=\"f\">entityId=</span>e_1_1_5</span><span class=\"entitykind xft\" ><span class=\"f\">entityKind=</span>LOC</span><span class=\"trans xft\" ><span class=\"f\">trans=</span>Indië</span></div></div><div class=\"contnr c0 trm   \" ><div class=\"lbl c0 trm \" ><span class=\"txtu\">geschrovon, </span></div><div class='features'><span class=\"trans xft\" ><span class=\"f\">trans=</span>geschrovon</span></div></div><div class=\"contnr c0 trm   \" ><div class=\"lbl c0 trm \" ><span class=\"txtu\">wijken </span></div><div class='features'><span class=\"trans xft\" ><span class=\"f\">trans=</span>wijken</span></div></div><div class=\"contnr c0 trm   \" ><div class=\"lbl c0 trm \" ><span class=\"txtu\">niet </span></div><div class='features'><span class=\"trans xft\" ><span class=\"f\">trans=</span>niet</span></div></div><div class=\"contnr c0 trm   \" ><div class=\"lbl c0 trm \" ><span class=\"txtu\">af </span></div><div class='features'><span class=\"trans xft\" ><span class=\"f\">trans=</span>af</span></div></div><div class=\"contnr c0 trm   \" ><div class=\"lbl c0 trm \" ><span class=\"txtu\">van </span></div><div class='features'><span class=\"trans xft\" ><span class=\"f\">trans=</span>van</span></div></div></div></div></div>"
      ],
      "text/plain": [
       "<IPython.core.display.HTML object>"
      ]
     },
     "metadata": {},
     "output_type": "display_data"
    },
    {
     "data": {
      "text/markdown": [
       "#### B4: case 2: De as LOC: 2 occurrences\n",
       "\n"
      ],
      "text/plain": [
       "<IPython.core.display.Markdown object>"
      ]
     },
     "metadata": {},
     "output_type": "display_data"
    },
    {
     "data": {
      "text/html": [
       "<p><b>result</b> <i>1</i>"
      ],
      "text/plain": [
       "<IPython.core.display.HTML object>"
      ]
     },
     "metadata": {},
     "output_type": "display_data"
    },
    {
     "data": {
      "text/html": [
       "<div class=\"tfsechead \"><span class=\"ltr\"><a target=\"_blank\" href=\"http://resources.huygens.knaw.nl/retroboeken/generalemissiven/#page=26&amp;source=1\" title=\"Show this document on Huygens\" sec=\"1 3:2\">1 3:2</a></span></div><div class=\" children\"><div class=\"contnr c3    \" ><div class=\"lbl c3  \" ><span class=\"nd\">line</span></div><div class='features'><span class=\"entityid xft\" ><span class=\"f\">entityId=</span>e_14_10_44</span><span class=\"entitykind xft\" ><span class=\"f\">entityKind=</span>ORG</span></div><div class=\"children hor wrap \"><div class=\"contnr c0 trm   \" ><div class=\"lbl c0 trm \" ><span class=\"txtu\">VOOR </span></div><div class='features'><span class=\"trans xft\" ><span class=\"f\">trans=</span>VOOR</span></div></div><div class=\"contnr c0 trm   \" ><div class=\"lbl c0 trm \" ><span class=\"txtu\">ILE </span></div><div class='features'><span class=\"trans xft\" ><span class=\"f\">trans=</span>ILE</span></div></div><div class=\"contnr c0 trm   hl\" ><div class=\"lbl c0 trm hl\" ><span class=\"txtu\">DE </span></div><div class='features'><span class=\"entityid xft\" ><span class=\"f\">entityId=</span>e_1_1_3</span><span class=\"entitykind xft\" ><span class=\"f\">entityKind=</span>LOC</span><span class=\"trans xft\" ><span class=\"f\">trans=</span>DE</span></div></div><div class=\"contnr c0 trm   \" ><div class=\"lbl c0 trm \" ><span class=\"txtu\">MAYO </span></div><div class='features'><span class=\"entityid xft\" ><span class=\"f\">entityId=</span>e_1_1_3</span><span class=\"entitykind xft\" ><span class=\"f\">entityKind=</span>LOC</span><span class=\"trans xft\" ><span class=\"f\">trans=</span>MAYO</span></div></div><div class=\"contnr c0 trm   \" ><div class=\"lbl c0 trm \" ><span class=\"txtu\">De </span></div><div class='features'><span class=\"trans xft\" ><span class=\"f\">trans=</span>De</span></div></div><div class=\"contnr c0 trm   \" ><div class=\"lbl c0 trm \" ><span class=\"txtu\">eerste </span></div><div class='features'><span class=\"trans xft\" ><span class=\"f\">trans=</span>eerste</span></div></div><div class=\"contnr c0 trm   \" ><div class=\"lbl c0 trm \" ><span class=\"txtu\">drie </span></div><div class='features'><span class=\"trans xft\" ><span class=\"f\">trans=</span>drie</span></div></div><div class=\"contnr c0 trm   \" ><div class=\"lbl c0 trm \" ><span class=\"txtu\">brieven, </span></div><div class='features'><span class=\"trans xft\" ><span class=\"f\">trans=</span>brieven</span></div></div><div class=\"contnr c0 trm   \" ><div class=\"lbl c0 trm \" ><span class=\"txtu\">door </span></div><div class='features'><span class=\"trans xft\" ><span class=\"f\">trans=</span>door</span></div></div><div class=\"contnr c0 trm   \" ><div class=\"lbl c0 trm \" ><span class=\"txtu\">Both </span></div><div class='features'><span class=\"entityid xft\" ><span class=\"f\">entityId=</span>e_1_1_4</span><span class=\"entitykind xft\" ><span class=\"f\">entityKind=</span>PER</span><span class=\"trans xft\" ><span class=\"f\">trans=</span>Both</span></div></div><div class=\"contnr c0 trm   \" ><div class=\"lbl c0 trm \" ><span class=\"txtu\">op </span></div><div class='features'><span class=\"trans xft\" ><span class=\"f\">trans=</span>op</span></div></div><div class=\"contnr c0 trm   \" ><div class=\"lbl c0 trm \" ><span class=\"txtu\">reis </span></div><div class='features'><span class=\"trans xft\" ><span class=\"f\">trans=</span>reis</span></div></div><div class=\"contnr c0 trm   \" ><div class=\"lbl c0 trm \" ><span class=\"txtu\">naar </span></div><div class='features'><span class=\"trans xft\" ><span class=\"f\">trans=</span>naar</span></div></div><div class=\"contnr c0 trm   \" ><div class=\"lbl c0 trm \" ><span class=\"txtu\">Indië </span></div><div class='features'><span class=\"entityid xft\" ><span class=\"f\">entityId=</span>e_1_1_5</span><span class=\"entitykind xft\" ><span class=\"f\">entityKind=</span>LOC</span><span class=\"trans xft\" ><span class=\"f\">trans=</span>Indië</span></div></div><div class=\"contnr c0 trm   \" ><div class=\"lbl c0 trm \" ><span class=\"txtu\">geschrovon, </span></div><div class='features'><span class=\"trans xft\" ><span class=\"f\">trans=</span>geschrovon</span></div></div><div class=\"contnr c0 trm   \" ><div class=\"lbl c0 trm \" ><span class=\"txtu\">wijken </span></div><div class='features'><span class=\"trans xft\" ><span class=\"f\">trans=</span>wijken</span></div></div><div class=\"contnr c0 trm   \" ><div class=\"lbl c0 trm \" ><span class=\"txtu\">niet </span></div><div class='features'><span class=\"trans xft\" ><span class=\"f\">trans=</span>niet</span></div></div><div class=\"contnr c0 trm   \" ><div class=\"lbl c0 trm \" ><span class=\"txtu\">af </span></div><div class='features'><span class=\"trans xft\" ><span class=\"f\">trans=</span>af</span></div></div><div class=\"contnr c0 trm   \" ><div class=\"lbl c0 trm \" ><span class=\"txtu\">van </span></div><div class='features'><span class=\"trans xft\" ><span class=\"f\">trans=</span>van</span></div></div></div></div></div>"
      ],
      "text/plain": [
       "<IPython.core.display.HTML object>"
      ]
     },
     "metadata": {},
     "output_type": "display_data"
    },
    {
     "data": {
      "text/markdown": [
       "#### B4: case 2: De as ORG: 1 occurrence\n",
       "\n"
      ],
      "text/plain": [
       "<IPython.core.display.Markdown object>"
      ]
     },
     "metadata": {},
     "output_type": "display_data"
    },
    {
     "data": {
      "text/html": [
       "<p><b>result</b> <i>1</i>"
      ],
      "text/plain": [
       "<IPython.core.display.HTML object>"
      ]
     },
     "metadata": {},
     "output_type": "display_data"
    },
    {
     "data": {
      "text/html": [
       "<div class=\"tfsechead \"><span class=\"ltr\"><a target=\"_blank\" href=\"http://resources.huygens.knaw.nl/retroboeken/generalemissiven/#page=245&amp;source=8\" title=\"Show this document on Huygens\" sec=\"8 234:8\">8 234:8</a></span></div><div class=\" children\"><div class=\"contnr c3    \" ><div class=\"lbl c3  \" ><span class=\"nd\">line</span></div><div class=\"children hor wrap \"><div class=\"contnr c0 trm   \" ><div class=\"lbl c0 trm \" ><span class=\"txtu\">kwamen </span></div><div class='features'><span class=\"trans xft\" ><span class=\"f\">trans=</span>kwamen</span></div></div><div class=\"contnr c0 trm   \" ><div class=\"lbl c0 trm \" ><span class=\"txtu\">aan </span></div><div class='features'><span class=\"trans xft\" ><span class=\"f\">trans=</span>aan</span></div></div><div class=\"contnr c0 trm   \" ><div class=\"lbl c0 trm \" ><span class=\"txtu\">9 </span></div><div class='features'><span class=\"trans xft\" ><span class=\"f\">trans=</span>9</span></div></div><div class=\"contnr c0 trm   \" ><div class=\"lbl c0 trm \" ><span class=\"txtu\">febr. </span></div><div class='features'><span class=\"trans xft\" ><span class=\"f\">trans=</span>febr</span></div></div><div class=\"contnr c0 trm   \" ><div class=\"lbl c0 trm \" ><span class=\"txtu\">de </span></div><div class='features'><span class=\"trans xft\" ><span class=\"f\">trans=</span>de</span></div></div><div class=\"contnr c0 trm   \" ><div class=\"lbl c0 trm \" ><span class=\"txtu\">Stad </span></div><div class='features'><span class=\"entityid xft\" ><span class=\"f\">entityId=</span>e_8_18_28</span><span class=\"entitykind xft\" ><span class=\"f\">entityKind=</span>SHP</span><span class=\"trans xft\" ><span class=\"f\">trans=</span>Stad</span></div></div><div class=\"contnr c0 trm   \" ><div class=\"lbl c0 trm \" ><span class=\"txtu\">Leiden </span></div><div class='features'><span class=\"entityid xft\" ><span class=\"f\">entityId=</span>e_8_18_28</span><span class=\"entitykind xft\" ><span class=\"f\">entityKind=</span>SHP</span><span class=\"trans xft\" ><span class=\"f\">trans=</span>Leiden</span></div></div><div class=\"contnr c0 trm   \" ><div class=\"lbl c0 trm \" ><span class=\"txtu\">met </span></div><div class='features'><span class=\"trans xft\" ><span class=\"f\">trans=</span>met</span></div></div><div class=\"contnr c0 trm   \" ><div class=\"lbl c0 trm \" ><span class=\"txtu\">mr. </span></div><div class='features'><span class=\"trans xft\" ><span class=\"f\">trans=</span>mr</span></div></div><div class=\"contnr c0 trm   \" ><div class=\"lbl c0 trm \" ><span class=\"txtu\">Cornelis </span></div><div class='features'><span class=\"entityid xft\" ><span class=\"f\">entityId=</span>e_8_18_30</span><span class=\"entitykind xft\" ><span class=\"f\">entityKind=</span>PER</span><span class=\"trans xft\" ><span class=\"f\">trans=</span>Cornelis</span></div></div><div class=\"contnr c0 trm   \" ><div class=\"lbl c0 trm \" ><span class=\"txtu\">van </span></div><div class='features'><span class=\"entityid xft\" ><span class=\"f\">entityId=</span>e_8_18_30</span><span class=\"entitykind xft\" ><span class=\"f\">entityKind=</span>PER</span><span class=\"trans xft\" ><span class=\"f\">trans=</span>van</span></div></div><div class=\"contnr c0 trm   \" ><div class=\"lbl c0 trm \" ><span class=\"txtu\">Gaasbeek , </span></div><div class='features'><span class=\"entityid xft\" ><span class=\"f\">entityId=</span>e_8_18_30</span><span class=\"entitykind xft\" ><span class=\"f\">entityKind=</span>PER</span><span class=\"trans xft\" ><span class=\"f\">trans=</span>Gaasbeek</span></div></div><div class=\"contnr c0 trm   \" ><div class=\"lbl c0 trm \" ><span class=\"txtu\">lid </span></div><div class='features'><span class=\"trans xft\" ><span class=\"f\">trans=</span>lid</span></div></div><div class=\"contnr c0 trm   \" ><div class=\"lbl c0 trm \" ><span class=\"txtu\">van </span></div><div class='features'><span class=\"trans xft\" ><span class=\"f\">trans=</span>van</span></div></div><div class=\"contnr c0 trm   hl\" ><div class=\"lbl c0 trm hl\" ><span class=\"txtu\">De </span></div><div class='features'><span class=\"entityid xft\" ><span class=\"f\">entityId=</span>e_8_18_31</span><span class=\"entitykind xft\" ><span class=\"f\">entityKind=</span>ORG</span><span class=\"trans xft\" ><span class=\"f\">trans=</span>De</span></div></div></div></div></div>"
      ],
      "text/plain": [
       "<IPython.core.display.HTML object>"
      ]
     },
     "metadata": {},
     "output_type": "display_data"
    },
    {
     "data": {
      "text/markdown": [
       "#### B4: case 2: De as PER: 572 occurrences\n",
       "\n"
      ],
      "text/plain": [
       "<IPython.core.display.Markdown object>"
      ]
     },
     "metadata": {},
     "output_type": "display_data"
    },
    {
     "data": {
      "text/html": [
       "<p><b>result</b> <i>1</i>"
      ],
      "text/plain": [
       "<IPython.core.display.HTML object>"
      ]
     },
     "metadata": {},
     "output_type": "display_data"
    },
    {
     "data": {
      "text/html": [
       "<div class=\"tfsechead \"><span class=\"ltr\"><a target=\"_blank\" href=\"http://resources.huygens.knaw.nl/retroboeken/generalemissiven/#page=120&amp;source=1\" title=\"Show this document on Huygens\" sec=\"1 97:1\">1 97:1</a></span></div><div class=\" children\"><div class=\"contnr c3    \" ><div class=\"lbl c3  \" ><span class=\"nd\">line</span></div><div class=\"children hor wrap \"><div class=\"contnr c0 trm   \" ><div class=\"lbl c0 trm \" ><span class=\"txtu\">IV. </span></div><div class='features'><span class=\"trans xft\" ><span class=\"f\">trans=</span>IV</span></div></div><div class=\"contnr c0 trm   \" ><div class=\"lbl c0 trm \" ><span class=\"txtu\">JAN </span></div><div class='features'><span class=\"entityid xft\" ><span class=\"f\">entityId=</span>e_1_40_1</span><span class=\"entitykind xft\" ><span class=\"f\">entityKind=</span>PER</span><span class=\"trans xft\" ><span class=\"f\">trans=</span>JAN</span></div></div><div class=\"contnr c0 trm   \" ><div class=\"lbl c0 trm \" ><span class=\"txtu\">PIETERSZ. </span></div><div class='features'><span class=\"entityid xft\" ><span class=\"f\">entityId=</span>e_1_40_1</span><span class=\"entitykind xft\" ><span class=\"f\">entityKind=</span>PER</span><span class=\"trans xft\" ><span class=\"f\">trans=</span>PIETERSZ</span></div></div><div class=\"contnr c0 trm   \" ><div class=\"lbl c0 trm \" ><span class=\"txtu\">COEN, </span></div><div class='features'><span class=\"entityid xft\" ><span class=\"f\">entityId=</span>e_1_40_1</span><span class=\"entitykind xft\" ><span class=\"f\">entityKind=</span>PER</span><span class=\"trans xft\" ><span class=\"f\">trans=</span>COEN</span></div></div><div class=\"contnr c0 trm   \" ><div class=\"lbl c0 trm \" ><span class=\"txtu\">PIETER </span></div><div class='features'><span class=\"entityid xft\" ><span class=\"f\">entityId=</span>e_1_40_3</span><span class=\"entitykind xft\" ><span class=\"f\">entityKind=</span>PER</span><span class=\"trans xft\" ><span class=\"f\">trans=</span>PIETER</span></div></div><div class=\"contnr c0 trm   hl\" ><div class=\"lbl c0 trm hl\" ><span class=\"txtu\">DE </span></div><div class='features'><span class=\"entityid xft\" ><span class=\"f\">entityId=</span>e_1_40_3</span><span class=\"entitykind xft\" ><span class=\"f\">entityKind=</span>PER</span><span class=\"trans xft\" ><span class=\"f\">trans=</span>DE</span></div></div><div class=\"contnr c0 trm   \" ><div class=\"lbl c0 trm \" ><span class=\"txtu\">CARPENTIER, </span></div><div class='features'><span class=\"entityid xft\" ><span class=\"f\">entityId=</span>e_1_40_3</span><span class=\"entitykind xft\" ><span class=\"f\">entityKind=</span>PER</span><span class=\"trans xft\" ><span class=\"f\">trans=</span>CARPENTIER</span></div></div><div class=\"contnr c0 trm   \" ><div class=\"lbl c0 trm \" ><span class=\"txtu\">JACOB </span></div><div class='features'><span class=\"entityid xft\" ><span class=\"f\">entityId=</span>e_1_40_6</span><span class=\"entitykind xft\" ><span class=\"f\">entityKind=</span>PER</span><span class=\"trans xft\" ><span class=\"f\">trans=</span>JACOB</span></div></div><div class=\"contnr c0 trm   \" ><div class=\"lbl c0 trm \" ><span class=\"txtu\">DEDEL, </span></div><div class='features'><span class=\"entityid xft\" ><span class=\"f\">entityId=</span>e_1_40_6</span><span class=\"entitykind xft\" ><span class=\"f\">entityKind=</span>PER</span><span class=\"trans xft\" ><span class=\"f\">trans=</span>DEDEL</span></div></div></div></div></div>"
      ],
      "text/plain": [
       "<IPython.core.display.HTML object>"
      ]
     },
     "metadata": {},
     "output_type": "display_data"
    },
    {
     "data": {
      "text/markdown": [
       "#### B4: case 2: De as SHP: 7 occurrences\n",
       "\n"
      ],
      "text/plain": [
       "<IPython.core.display.Markdown object>"
      ]
     },
     "metadata": {},
     "output_type": "display_data"
    },
    {
     "data": {
      "text/html": [
       "<p><b>result</b> <i>1</i>"
      ],
      "text/plain": [
       "<IPython.core.display.HTML object>"
      ]
     },
     "metadata": {},
     "output_type": "display_data"
    },
    {
     "data": {
      "text/html": [
       "<div class=\"tfsechead \"><span class=\"ltr\"><a target=\"_blank\" href=\"http://resources.huygens.knaw.nl/retroboeken/generalemissiven/#page=546&amp;source=6\" title=\"Show this document on Huygens\" sec=\"6 531:6\">6 531:6</a></span></div><div class=\" children\"><div class=\"contnr c3    \" ><div class=\"lbl c3  \" ><span class=\"nd\">line</span></div><div class=\"children hor wrap \"><div class=\"contnr c0 trm   hl\" ><div class=\"lbl c0 trm hl\" ><span class=\"txtu\">De </span></div><div class='features'><span class=\"entityid xft\" ><span class=\"f\">entityId=</span>e_6_55_19</span><span class=\"entitykind xft\" ><span class=\"f\">entityKind=</span>SHP</span><span class=\"trans xft\" ><span class=\"f\">trans=</span>De</span></div></div><div class=\"contnr c0 trm   \" ><div class=\"lbl c0 trm \" ><span class=\"txtu\">Haak , </span></div><div class='features'><span class=\"entityid xft\" ><span class=\"f\">entityId=</span>e_6_55_20</span><span class=\"entitykind xft\" ><span class=\"f\">entityKind=</span>SHP</span><span class=\"trans xft\" ><span class=\"f\">trans=</span>Haak</span></div></div><div class=\"contnr c0 trm   \" ><div class=\"lbl c0 trm \" ><span class=\"txtu\">Generale </span></div><div class='features'><span class=\"entityid xft\" ><span class=\"f\">entityId=</span>e_6_55_21</span><span class=\"entitykind xft\" ><span class=\"f\">entityKind=</span>SHP</span><span class=\"trans xft\" ><span class=\"f\">trans=</span>Generale</span></div></div><div class=\"contnr c0 trm   \" ><div class=\"lbl c0 trm \" ><span class=\"txtu\">Vrede , </span></div><div class='features'><span class=\"entityid xft\" ><span class=\"f\">entityId=</span>e_6_55_21</span><span class=\"entitykind xft\" ><span class=\"f\">entityKind=</span>SHP</span><span class=\"trans xft\" ><span class=\"f\">trans=</span>Vrede</span></div></div><div class=\"contnr c0 trm   \" ><div class=\"lbl c0 trm \" ><span class=\"txtu\">Unie, </span></div><div class='features'><span class=\"entityid xft\" ><span class=\"f\">entityId=</span>e_6_55_23</span><span class=\"entitykind xft\" ><span class=\"f\">entityKind=</span>SHP</span><span class=\"trans xft\" ><span class=\"f\">trans=</span>Unie</span></div></div><div class=\"contnr c0 trm   \" ><div class=\"lbl c0 trm \" ><span class=\"txtu\">Beverwijk, </span></div><div class='features'><span class=\"entityid xft\" ><span class=\"f\">entityId=</span>e_6_55_25</span><span class=\"entitykind xft\" ><span class=\"f\">entityKind=</span>SHP</span><span class=\"trans xft\" ><span class=\"f\">trans=</span>Beverwijk</span></div></div><div class=\"contnr c0 trm   \" ><div class=\"lbl c0 trm \" ><span class=\"txtu\">Diemen </span></div><div class='features'><span class=\"entityid xft\" ><span class=\"f\">entityId=</span>e_6_55_27</span><span class=\"entitykind xft\" ><span class=\"f\">entityKind=</span>SHP</span><span class=\"trans xft\" ><span class=\"f\">trans=</span>Diemen</span></div></div><div class=\"contnr c0 trm   \" ><div class=\"lbl c0 trm \" ><span class=\"txtu\">en </span></div><div class='features'><span class=\"trans xft\" ><span class=\"f\">trans=</span>en</span></div></div><div class=\"contnr c0 trm   \" ><div class=\"lbl c0 trm \" ><span class=\"txtu\">Ganzenhoef </span></div><div class='features'><span class=\"entityid xft\" ><span class=\"f\">entityId=</span>e_6_55_29</span><span class=\"entitykind xft\" ><span class=\"f\">entityKind=</span>SHP</span><span class=\"trans xft\" ><span class=\"f\">trans=</span>Ganzenhoef</span></div></div><div class=\"contnr c0 trm   \" ><div class=\"lbl c0 trm \" ><span class=\"txtu\">kwamen </span></div><div class='features'><span class=\"trans xft\" ><span class=\"f\">trans=</span>kwamen</span></div></div><div class=\"contnr c0 trm   \" ><div class=\"lbl c0 trm \" ><span class=\"txtu\">na </span></div><div class='features'><span class=\"trans xft\" ><span class=\"f\">trans=</span>na</span></div></div></div></div></div>"
      ],
      "text/plain": [
       "<IPython.core.display.HTML object>"
      ]
     },
     "metadata": {},
     "output_type": "display_data"
    },
    {
     "data": {
      "text/markdown": [
       "#### B4: case 3: Banda as None: 2392 occurrences\n",
       "\n"
      ],
      "text/plain": [
       "<IPython.core.display.Markdown object>"
      ]
     },
     "metadata": {},
     "output_type": "display_data"
    },
    {
     "data": {
      "text/html": [
       "<p><b>result</b> <i>1</i>"
      ],
      "text/plain": [
       "<IPython.core.display.HTML object>"
      ]
     },
     "metadata": {},
     "output_type": "display_data"
    },
    {
     "data": {
      "text/html": [
       "<div class=\"tfsechead \"><span class=\"ltr\"><a target=\"_blank\" href=\"http://resources.huygens.knaw.nl/retroboeken/generalemissiven/#page=28&amp;source=1\" title=\"Show this document on Huygens\" sec=\"1 5:11\">1 5:11</a></span></div><div class=\" children\"><div class=\"contnr c3    \" ><div class=\"lbl c3  \" ><span class=\"nd\">line</span></div><div class=\"children hor wrap \"><div class=\"contnr c0 trm   \" ><div class=\"lbl c0 trm \" ><span class=\"txtu\">’t </span></div><div class='features'><span class=\"trans xft\" ><span class=\"f\">trans=</span>’t</span></div></div><div class=\"contnr c0 trm   \" ><div class=\"lbl c0 trm \" ><span class=\"txtu\">casteel </span></div><div class='features'><span class=\"trans xft\" ><span class=\"f\">trans=</span>casteel</span></div></div><div class=\"contnr c0 trm   \" ><div class=\"lbl c0 trm \" ><span class=\"txtu\">naer </span></div><div class='features'><span class=\"trans xft\" ><span class=\"f\">trans=</span>naer</span></div></div><div class=\"contnr c0 trm   \" ><div class=\"lbl c0 trm \" ><span class=\"txtu\">’t </span></div><div class='features'><span class=\"trans xft\" ><span class=\"f\">trans=</span>’t</span></div></div><div class=\"contnr c0 trm   \" ><div class=\"lbl c0 trm \" ><span class=\"txtu\">schip, </span></div><div class='features'><span class=\"trans xft\" ><span class=\"f\">trans=</span>schip</span></div></div><div class=\"contnr c0 trm   \" ><div class=\"lbl c0 trm \" ><span class=\"txtu\">daernaer </span></div><div class='features'><span class=\"trans xft\" ><span class=\"f\">trans=</span>daernaer</span></div></div><div class=\"contnr c0 trm   \" ><div class=\"lbl c0 trm \" ><span class=\"txtu\">comende </span></div><div class='features'><span class=\"trans xft\" ><span class=\"f\">trans=</span>comende</span></div></div><div class=\"contnr c0 trm   \" ><div class=\"lbl c0 trm \" ><span class=\"txtu\">alhier </span></div><div class='features'><span class=\"trans xft\" ><span class=\"f\">trans=</span>alhier</span></div></div><div class=\"contnr c0 trm   \" ><div class=\"lbl c0 trm \" ><span class=\"txtu\">in </span></div><div class='features'><span class=\"trans xft\" ><span class=\"f\">trans=</span>in</span></div></div><div class=\"contnr c0 trm   hl\" ><div class=\"lbl c0 trm hl\" ><span class=\"txtu\">Banda, </span></div><div class='features'><span class=\"trans xft\" ><span class=\"f\">trans=</span>Banda</span></div></div><div class=\"contnr c0 trm   \" ><div class=\"lbl c0 trm \" ><span class=\"txtu\">haer </span></div><div class='features'><span class=\"trans xft\" ><span class=\"f\">trans=</span>haer</span></div></div><div class=\"contnr c0 trm   \" ><div class=\"lbl c0 trm \" ><span class=\"txtu\">beroemden </span></div><div class='features'><span class=\"trans xft\" ><span class=\"f\">trans=</span>beroemden</span></div></div><div class=\"contnr c0 trm   \" ><div class=\"lbl c0 trm \" ><span class=\"txtu\">van </span></div><div class='features'><span class=\"trans xft\" ><span class=\"f\">trans=</span>van</span></div></div></div></div></div>"
      ],
      "text/plain": [
       "<IPython.core.display.HTML object>"
      ]
     },
     "metadata": {},
     "output_type": "display_data"
    },
    {
     "data": {
      "text/markdown": [
       "#### B4: case 3: Banda as LOC: 176 occurrences\n",
       "\n"
      ],
      "text/plain": [
       "<IPython.core.display.Markdown object>"
      ]
     },
     "metadata": {},
     "output_type": "display_data"
    },
    {
     "data": {
      "text/html": [
       "<p><b>result</b> <i>1</i>"
      ],
      "text/plain": [
       "<IPython.core.display.HTML object>"
      ]
     },
     "metadata": {},
     "output_type": "display_data"
    },
    {
     "data": {
      "text/html": [
       "<div class=\"tfsechead \"><span class=\"ltr\"><a target=\"_blank\" href=\"http://resources.huygens.knaw.nl/retroboeken/generalemissiven/#page=27&amp;source=1\" title=\"Show this document on Huygens\" sec=\"1 4:1\">1 4:1</a></span></div><div class=\" children\"><div class=\"contnr c3    \" ><div class=\"lbl c3  \" ><span class=\"nd\">line</span></div><div class=\"children hor wrap \"><div class=\"contnr c0 trm   \" ><div class=\"lbl c0 trm \" ><span class=\"txtu\">IV. </span></div><div class='features'><span class=\"trans xft\" ><span class=\"f\">trans=</span>IV</span></div></div><div class=\"contnr c0 trm   \" ><div class=\"lbl c0 trm \" ><span class=\"txtu\">PIETER </span></div><div class='features'><span class=\"entityid xft\" ><span class=\"f\">entityId=</span>e_1_4_1</span><span class=\"entitykind xft\" ><span class=\"f\">entityKind=</span>SHP</span><span class=\"trans xft\" ><span class=\"f\">trans=</span>PIETER</span></div></div><div class=\"contnr c0 trm   \" ><div class=\"lbl c0 trm \" ><span class=\"txtu\">BOTH, </span></div><div class='features'><span class=\"entityid xft\" ><span class=\"f\">entityId=</span>e_1_4_2</span><span class=\"entitykind xft\" ><span class=\"f\">entityKind=</span>LOC</span><span class=\"trans xft\" ><span class=\"f\">trans=</span>BOTH</span></div></div><div class=\"contnr c0 trm   \" ><div class=\"lbl c0 trm \" ><span class=\"txtu\">KASTEEL </span></div><div class='features'><span class=\"trans xft\" ><span class=\"f\">trans=</span>KASTEEL</span></div></div><div class=\"contnr c0 trm   \" ><div class=\"lbl c0 trm \" ><span class=\"txtu\">NASSAU </span></div><div class='features'><span class=\"entityid xft\" ><span class=\"f\">entityId=</span>e_1_4_3</span><span class=\"entitykind xft\" ><span class=\"f\">entityKind=</span>LOC</span><span class=\"trans xft\" ><span class=\"f\">trans=</span>NASSAU</span></div></div><div class=\"contnr c0 trm   \" ><div class=\"lbl c0 trm \" ><span class=\"txtu\">OP </span></div><div class='features'><span class=\"trans xft\" ><span class=\"f\">trans=</span>OP</span></div></div><div class=\"contnr c0 trm   hl\" ><div class=\"lbl c0 trm hl\" ><span class=\"txtu\">BANDA </span></div><div class='features'><span class=\"entityid xft\" ><span class=\"f\">entityId=</span>e_1_4_5</span><span class=\"entitykind xft\" ><span class=\"f\">entityKind=</span>LOC</span><span class=\"trans xft\" ><span class=\"f\">trans=</span>BANDA</span></div></div><div class=\"contnr c0 trm   \" ><div class=\"lbl c0 trm \" ><span class=\"txtu\">18 </span></div><div class='features'><span class=\"trans xft\" ><span class=\"f\">trans=</span>18</span></div></div><div class=\"contnr c0 trm   \" ><div class=\"lbl c0 trm \" ><span class=\"txtu\">juli </span></div><div class='features'><span class=\"trans xft\" ><span class=\"f\">trans=</span>juli</span></div></div><div class=\"contnr c0 trm   \" ><div class=\"lbl c0 trm \" ><span class=\"txtu\">1611. </span></div><div class='features'><span class=\"trans xft\" ><span class=\"f\">trans=</span>1611</span></div></div></div></div></div>"
      ],
      "text/plain": [
       "<IPython.core.display.HTML object>"
      ]
     },
     "metadata": {},
     "output_type": "display_data"
    },
    {
     "data": {
      "text/markdown": [
       "#### B4: case 3: Banda as LOCderiv: 1 occurrence\n",
       "\n"
      ],
      "text/plain": [
       "<IPython.core.display.Markdown object>"
      ]
     },
     "metadata": {},
     "output_type": "display_data"
    },
    {
     "data": {
      "text/html": [
       "<p><b>result</b> <i>1</i>"
      ],
      "text/plain": [
       "<IPython.core.display.HTML object>"
      ]
     },
     "metadata": {},
     "output_type": "display_data"
    },
    {
     "data": {
      "text/html": [
       "<div class=\"tfsechead \"><span class=\"ltr\"><a target=\"_blank\" href=\"http://resources.huygens.knaw.nl/retroboeken/generalemissiven/#page=207&amp;source=1\" title=\"Show this document on Huygens\" sec=\"1 184:10\">1 184:10</a></span></div><div class=\" children\"><div class=\"contnr c3    \" ><div class=\"lbl c3  \" ><span class=\"nd\">line</span></div><div class=\"children hor wrap \"><div class=\"contnr c0 trm   \" ><div class=\"lbl c0 trm \" ><span class=\"txtu\">756 </span></div><div class='features'><span class=\"trans xft\" ><span class=\"f\">trans=</span>756</span></div></div><div class=\"contnr c0 trm   \" ><div class=\"lbl c0 trm \" ><span class=\"txtu\">sockels </span></div><div class='features'><span class=\"trans xft\" ><span class=\"f\">trans=</span>sockels</span></div></div><div class=\"contnr c0 trm   \" ><div class=\"lbl c0 trm \" ><span class=\"txtu\">met </span></div><div class='features'><span class=\"trans xft\" ><span class=\"f\">trans=</span>met</span></div></div><div class=\"contnr c0 trm   \" ><div class=\"lbl c0 trm \" ><span class=\"txtu\">179441/</span></div><div class='features'><span class=\"trans xft\" ><span class=\"f\">trans=</span>179441</span></div></div><div class=\"contnr c0 trm   \" ><div class=\"lbl c0 trm \" ><span class=\"txtu\">2 </span></div><div class='features'><span class=\"trans xft\" ><span class=\"f\">trans=</span>2</span></div></div><div class=\"contnr c0 trm   \" ><div class=\"lbl c0 trm \" ><span class=\"txtu\">catty </span></div><div class='features'><span class=\"trans xft\" ><span class=\"f\">trans=</span>catty</span></div></div><div class=\"contnr c0 trm   hl\" ><div class=\"lbl c0 trm hl\" ><span class=\"txtu\">Banda </span></div><div class='features'><span class=\"entityid xft\" ><span class=\"f\">entityId=</span>e_1_65_17</span><span class=\"entitykind xft\" ><span class=\"f\">entityKind=</span>LOCderiv</span><span class=\"trans xft\" ><span class=\"f\">trans=</span>Banda</span></div></div><div class=\"contnr c0 trm   \" ><div class=\"lbl c0 trm \" ><span class=\"txtu\">foelye </span></div><div class='features'><span class=\"trans xft\" ><span class=\"f\">trans=</span>foelye</span></div></div></div></div></div>"
      ],
      "text/plain": [
       "<IPython.core.display.HTML object>"
      ]
     },
     "metadata": {},
     "output_type": "display_data"
    },
    {
     "data": {
      "text/markdown": [
       "#### B4: case 3: Banda as PER: 1 occurrence\n",
       "\n"
      ],
      "text/plain": [
       "<IPython.core.display.Markdown object>"
      ]
     },
     "metadata": {},
     "output_type": "display_data"
    },
    {
     "data": {
      "text/html": [
       "<p><b>result</b> <i>1</i>"
      ],
      "text/plain": [
       "<IPython.core.display.HTML object>"
      ]
     },
     "metadata": {},
     "output_type": "display_data"
    },
    {
     "data": {
      "text/html": [
       "<div class=\"tfsechead \"><span class=\"ltr\"><a target=\"_blank\" href=\"http://resources.huygens.knaw.nl/retroboeken/generalemissiven/#page=128&amp;source=1\" title=\"Show this document on Huygens\" sec=\"1 105:2\">1 105:2</a></span></div><div class=\" children\"><div class=\"contnr c3    \" ><div class=\"lbl c3  \" ><span class=\"nd\">line</span></div><div class=\"children hor wrap \"><div class=\"contnr c0 trm   \" ><div class=\"lbl c0 trm \" ><span class=\"txtu\">HOLLANDIA </span></div><div class='features'><span class=\"entityid xft\" ><span class=\"f\">entityId=</span>e_1_48_4</span><span class=\"entitykind xft\" ><span class=\"f\">entityKind=</span>PER</span><span class=\"trans xft\" ><span class=\"f\">trans=</span>HOLLANDIA</span></div></div><div class=\"contnr c0 trm   \" ><div class=\"lbl c0 trm \" ><span class=\"txtu\">TER </span></div><div class='features'><span class=\"trans xft\" ><span class=\"f\">trans=</span>TER</span></div></div><div class=\"contnr c0 trm   \" ><div class=\"lbl c0 trm \" ><span class=\"txtu\">REDE </span></div><div class='features'><span class=\"entityid xft\" ><span class=\"f\">entityId=</span>e_1_48_5</span><span class=\"entitykind xft\" ><span class=\"f\">entityKind=</span>PER</span><span class=\"trans xft\" ><span class=\"f\">trans=</span>REDE</span></div></div><div class=\"contnr c0 trm   \" ><div class=\"lbl c0 trm \" ><span class=\"txtu\">VAN </span></div><div class='features'><span class=\"entityid xft\" ><span class=\"f\">entityId=</span>e_1_48_5</span><span class=\"entitykind xft\" ><span class=\"f\">entityKind=</span>PER</span><span class=\"trans xft\" ><span class=\"f\">trans=</span>VAN</span></div></div><div class=\"contnr c0 trm   hl\" ><div class=\"lbl c0 trm hl\" ><span class=\"txtu\">BANDA </span></div><div class='features'><span class=\"entityid xft\" ><span class=\"f\">entityId=</span>e_1_48_5</span><span class=\"entitykind xft\" ><span class=\"f\">entityKind=</span>PER</span><span class=\"trans xft\" ><span class=\"f\">trans=</span>BANDA</span></div></div><div class=\"contnr c0 trm   \" ><div class=\"lbl c0 trm \" ><span class=\"txtu\">NEIRA </span></div><div class='features'><span class=\"entityid xft\" ><span class=\"f\">entityId=</span>e_1_48_5</span><span class=\"entitykind xft\" ><span class=\"f\">entityKind=</span>PER</span><span class=\"trans xft\" ><span class=\"f\">trans=</span>NEIRA</span></div></div><div class=\"contnr c0 trm   \" ><div class=\"lbl c0 trm \" ><span class=\"txtu\">6 </span></div><div class='features'><span class=\"trans xft\" ><span class=\"f\">trans=</span>6</span></div></div><div class=\"contnr c0 trm   \" ><div class=\"lbl c0 trm \" ><span class=\"txtu\">mei </span></div><div class='features'><span class=\"trans xft\" ><span class=\"f\">trans=</span>mei</span></div></div><div class=\"contnr c0 trm   \" ><div class=\"lbl c0 trm \" ><span class=\"txtu\">1621. </span></div><div class='features'><span class=\"trans xft\" ><span class=\"f\">trans=</span>1621</span></div></div></div></div></div>"
      ],
      "text/plain": [
       "<IPython.core.display.HTML object>"
      ]
     },
     "metadata": {},
     "output_type": "display_data"
    },
    {
     "data": {
      "text/markdown": [
       "#### B4: case 3: Banda as SHP: 1 occurrence\n",
       "\n"
      ],
      "text/plain": [
       "<IPython.core.display.Markdown object>"
      ]
     },
     "metadata": {},
     "output_type": "display_data"
    },
    {
     "data": {
      "text/html": [
       "<p><b>result</b> <i>1</i>"
      ],
      "text/plain": [
       "<IPython.core.display.HTML object>"
      ]
     },
     "metadata": {},
     "output_type": "display_data"
    },
    {
     "data": {
      "text/html": [
       "<div class=\"tfsechead \"><span class=\"ltr\"><a target=\"_blank\" href=\"http://resources.huygens.knaw.nl/retroboeken/generalemissiven/#page=296&amp;source=2\" title=\"Show this document on Huygens\" sec=\"2 283:16\">2 283:16</a></span></div><div class=\" children\"><div class=\"contnr c3    \" ><div class=\"lbl c3  \" ><span class=\"nd\">line</span></div><div class=\"children hor wrap \"><div class=\"contnr c0 trm   \" ><div class=\"lbl c0 trm \" ><span class=\"txtu\">den </span></div><div class='features'><span class=\"trans xft\" ><span class=\"f\">trans=</span>den</span></div></div><div class=\"contnr c0 trm   \" ><div class=\"lbl c0 trm \" ><span class=\"txtu\">10 </span></div><div class='features'><span class=\"trans xft\" ><span class=\"f\">trans=</span>10</span></div></div><div class=\"contnr c0 trm   \" ><div class=\"lbl c0 trm \" ><span class=\"txtu\">october </span></div><div class='features'><span class=\"trans xft\" ><span class=\"f\">trans=</span>october</span></div></div><div class=\"contnr c0 trm   \" ><div class=\"lbl c0 trm \" ><span class=\"txtu\">’t </span></div><div class='features'><span class=\"trans xft\" ><span class=\"f\">trans=</span>’t</span></div></div><div class=\"contnr c0 trm   \" ><div class=\"lbl c0 trm \" ><span class=\"txtu\">schip </span></div><div class='features'><span class=\"trans xft\" ><span class=\"f\">trans=</span>schip</span></div></div><div class=\"contnr c0 trm   hl\" ><div class=\"lbl c0 trm hl\" ><span class=\"txtu\">Banda, </span></div><div class='features'><span class=\"entityid xft\" ><span class=\"f\">entityId=</span>e_2_28_15</span><span class=\"entitykind xft\" ><span class=\"f\">entityKind=</span>SHP</span><span class=\"trans xft\" ><span class=\"f\">trans=</span>Banda</span></div></div></div></div></div>"
      ],
      "text/plain": [
       "<IPython.core.display.HTML object>"
      ]
     },
     "metadata": {},
     "output_type": "display_data"
    },
    {
     "data": {
      "text/markdown": [
       "#### B4: case 4: Groot as None: 417 occurrences\n",
       "\n"
      ],
      "text/plain": [
       "<IPython.core.display.Markdown object>"
      ]
     },
     "metadata": {},
     "output_type": "display_data"
    },
    {
     "data": {
      "text/html": [
       "<p><b>result</b> <i>1</i>"
      ],
      "text/plain": [
       "<IPython.core.display.HTML object>"
      ]
     },
     "metadata": {},
     "output_type": "display_data"
    },
    {
     "data": {
      "text/html": [
       "<div class=\"tfsechead \"><span class=\"ltr\"><a target=\"_blank\" href=\"http://resources.huygens.knaw.nl/retroboeken/generalemissiven/#page=108&amp;source=1\" title=\"Show this document on Huygens\" sec=\"1 85:12\">1 85:12</a></span></div><div class=\" children\"><div class=\"contnr c3    \" ><div class=\"lbl c3  \" ><span class=\"nd\">line</span></div><div class=\"children hor wrap \"><div class=\"contnr c0 trm   \" ><div class=\"lbl c0 trm \" ><span class=\"txtu\">Celamme </span></div><div class='features'><span class=\"entityid xft\" ><span class=\"f\">entityId=</span>e_1_35_12</span><span class=\"entitykind xft\" ><span class=\"f\">entityKind=</span>LOC</span><span class=\"trans xft\" ><span class=\"f\">trans=</span>Celamme</span></div></div><div class=\"contnr c0 trm   \" ><div class=\"lbl c0 trm \" ><span class=\"txtu\">De </span></div><div class='features'><span class=\"trans xft\" ><span class=\"f\">trans=</span>De</span></div></div><div class=\"contnr c0 trm   \" ><div class=\"lbl c0 trm \" ><span class=\"txtu\">oosthelft </span></div><div class='features'><span class=\"trans xft\" ><span class=\"f\">trans=</span>oosthelft</span></div></div><div class=\"contnr c0 trm   \" ><div class=\"lbl c0 trm \" ><span class=\"txtu\">van </span></div><div class='features'><span class=\"trans xft\" ><span class=\"f\">trans=</span>van</span></div></div><div class=\"contnr c0 trm   \" ><div class=\"lbl c0 trm \" ><span class=\"txtu\">het </span></div><div class='features'><span class=\"trans xft\" ><span class=\"f\">trans=</span>het</span></div></div><div class=\"contnr c0 trm   \" ><div class=\"lbl c0 trm \" ><span class=\"txtu\">eiland </span></div><div class='features'><span class=\"trans xft\" ><span class=\"f\">trans=</span>eiland</span></div></div><div class=\"contnr c0 trm   \" ><div class=\"lbl c0 trm \" ><span class=\"txtu\">Lonthoir </span></div><div class='features'><span class=\"trans xft\" ><span class=\"f\">trans=</span>Lonthoir</span></div></div><div class=\"contnr c0 trm   \" ><div class=\"lbl c0 trm \" ><span class=\"txtu\">of </span></div><div class='features'><span class=\"trans xft\" ><span class=\"f\">trans=</span>of</span></div></div><div class=\"contnr c0 trm   hl\" ><div class=\"lbl c0 trm hl\" ><span class=\"txtu\">Groot-</span></div><div class='features'><span class=\"trans xft\" ><span class=\"f\">trans=</span>Groot</span></div></div><div class=\"contnr c0 trm   \" ><div class=\"lbl c0 trm \" ><span class=\"txtu\">Banda </span></div><div class='features'><span class=\"trans xft\" ><span class=\"f\">trans=</span>Banda</span></div></div><div class=\"contnr c0 trm   \" ><div class=\"lbl c0 trm \" ><span class=\"txtu\">behoorde </span></div><div class='features'><span class=\"trans xft\" ><span class=\"f\">trans=</span>behoorde</span></div></div><div class=\"contnr c0 trm   \" ><div class=\"lbl c0 trm \" ><span class=\"txtu\">tot </span></div><div class='features'><span class=\"trans xft\" ><span class=\"f\">trans=</span>tot</span></div></div><div class=\"contnr c0 trm   \" ><div class=\"lbl c0 trm \" ><span class=\"txtu\">de </span></div><div class='features'><span class=\"trans xft\" ><span class=\"f\">trans=</span>de</span></div></div><div class=\"contnr c0 trm   \" ><div class=\"lbl c0 trm \" ><span class=\"txtu\">ene </span></div><div class='features'><span class=\"trans xft\" ><span class=\"f\">trans=</span>ene</span></div></div><div class=\"contnr c0 trm   \" ><div class=\"lbl c0 trm \" ><span class=\"txtu\">der </span></div><div class='features'><span class=\"trans xft\" ><span class=\"f\">trans=</span>der</span></div></div><div class=\"contnr c0 trm   \" ><div class=\"lbl c0 trm \" ><span class=\"txtu\">uit </span></div><div class='features'><span class=\"trans xft\" ><span class=\"f\">trans=</span>uit</span></div></div><div class=\"contnr c0 trm   \" ><div class=\"lbl c0 trm \" ><span class=\"txtu\">de </span></div><div class='features'><span class=\"trans xft\" ><span class=\"f\">trans=</span>de</span></div></div></div></div></div>"
      ],
      "text/plain": [
       "<IPython.core.display.HTML object>"
      ]
     },
     "metadata": {},
     "output_type": "display_data"
    },
    {
     "data": {
      "text/markdown": [
       "#### B4: case 4: Groot as LOC: 2 occurrences\n",
       "\n"
      ],
      "text/plain": [
       "<IPython.core.display.Markdown object>"
      ]
     },
     "metadata": {},
     "output_type": "display_data"
    },
    {
     "data": {
      "text/html": [
       "<p><b>result</b> <i>1</i>"
      ],
      "text/plain": [
       "<IPython.core.display.HTML object>"
      ]
     },
     "metadata": {},
     "output_type": "display_data"
    },
    {
     "data": {
      "text/html": [
       "<div class=\"tfsechead \"><span class=\"ltr\"><a target=\"_blank\" href=\"http://resources.huygens.knaw.nl/retroboeken/generalemissiven/#page=373&amp;source=13\" title=\"Show this document on Huygens\" sec=\"13 362:12\">13 362:12</a></span></div><div class=\" children\"><div class=\"contnr c3    \" ><div class=\"lbl c3  \" ><span class=\"nd\">line</span></div><div class=\"children hor wrap \"><div class=\"contnr c0 trm   \" ><div class=\"lbl c0 trm \" ><span class=\"txtu\">trouw </span></div><div class='features'><span class=\"trans xft\" ><span class=\"f\">trans=</span>trouw</span></div></div><div class=\"contnr c0 trm   \" ><div class=\"lbl c0 trm \" ><span class=\"txtu\">af </span></div><div class='features'><span class=\"trans xft\" ><span class=\"f\">trans=</span>af</span></div></div><div class=\"contnr c0 trm   \" ><div class=\"lbl c0 trm \" ><span class=\"txtu\">gelegd. </span></div><div class='features'><span class=\"trans xft\" ><span class=\"f\">trans=</span>gelegd</span></div></div><div class=\"contnr c0 trm   \" ><div class=\"lbl c0 trm \" ><span class=\"txtu\">De </span></div><div class='features'><span class=\"trans xft\" ><span class=\"f\">trans=</span>De</span></div></div><div class=\"contnr c0 trm   \" ><div class=\"lbl c0 trm \" ><span class=\"txtu\">hongitocht </span></div><div class='features'><span class=\"trans xft\" ><span class=\"f\">trans=</span>hongitocht</span></div></div><div class=\"contnr c0 trm   \" ><div class=\"lbl c0 trm \" ><span class=\"txtu\">is </span></div><div class='features'><span class=\"trans xft\" ><span class=\"f\">trans=</span>is</span></div></div><div class=\"contnr c0 trm   \" ><div class=\"lbl c0 trm \" ><span class=\"txtu\">niet, </span></div><div class='features'><span class=\"trans xft\" ><span class=\"f\">trans=</span>niet</span></div></div><div class=\"contnr c0 trm   \" ><div class=\"lbl c0 trm \" ><span class=\"txtu\">zoals </span></div><div class='features'><span class=\"trans xft\" ><span class=\"f\">trans=</span>zoals</span></div></div><div class=\"contnr c0 trm   \" ><div class=\"lbl c0 trm \" ><span class=\"txtu\">de </span></div><div class='features'><span class=\"trans xft\" ><span class=\"f\">trans=</span>de</span></div></div><div class=\"contnr c0 trm   \" ><div class=\"lbl c0 trm \" ><span class=\"txtu\">gouverneur </span></div><div class='features'><span class=\"trans xft\" ><span class=\"f\">trans=</span>gouverneur</span></div></div><div class=\"contnr c0 trm   \" ><div class=\"lbl c0 trm \" ><span class=\"txtu\">van </span></div><div class='features'><span class=\"trans xft\" ><span class=\"f\">trans=</span>van</span></div></div><div class=\"contnr c0 trm   \" ><div class=\"lbl c0 trm \" ><span class=\"txtu\">plan </span></div><div class='features'><span class=\"trans xft\" ><span class=\"f\">trans=</span>plan</span></div></div><div class=\"contnr c0 trm   \" ><div class=\"lbl c0 trm \" ><span class=\"txtu\">was, </span></div><div class='features'><span class=\"trans xft\" ><span class=\"f\">trans=</span>was</span></div></div><div class=\"contnr c0 trm   \" ><div class=\"lbl c0 trm \" ><span class=\"txtu\">buiten </span></div><div class='features'><span class=\"trans xft\" ><span class=\"f\">trans=</span>buiten</span></div></div><div class=\"contnr c0 trm   hl\" ><div class=\"lbl c0 trm hl\" ><span class=\"txtu\">Groot- </span></div><div class='features'><span class=\"entityid xft\" ><span class=\"f\">entityId=</span>e_13_12_30</span><span class=\"entitykind xft\" ><span class=\"f\">entityKind=</span>LOC</span><span class=\"trans xft\" ><span class=\"f\">trans=</span>Groot</span></div></div><div class=\"contnr c0 trm   \" ><div class=\"lbl c0 trm \" ><span class=\"txtu\">Ceram </span></div><div class='features'><span class=\"entityid xft\" ><span class=\"f\">entityId=</span>e_13_12_30</span><span class=\"entitykind xft\" ><span class=\"f\">entityKind=</span>LOC</span><span class=\"trans xft\" ><span class=\"f\">trans=</span>Ceram</span></div></div></div></div></div>"
      ],
      "text/plain": [
       "<IPython.core.display.HTML object>"
      ]
     },
     "metadata": {},
     "output_type": "display_data"
    },
    {
     "data": {
      "text/markdown": [
       "#### B4: case 4: Groot as ORG: 1 occurrence\n",
       "\n"
      ],
      "text/plain": [
       "<IPython.core.display.Markdown object>"
      ]
     },
     "metadata": {},
     "output_type": "display_data"
    },
    {
     "data": {
      "text/html": [
       "<p><b>result</b> <i>1</i>"
      ],
      "text/plain": [
       "<IPython.core.display.HTML object>"
      ]
     },
     "metadata": {},
     "output_type": "display_data"
    },
    {
     "data": {
      "text/html": [
       "<div class=\"tfsechead \"><span class=\"ltr\"><a target=\"_blank\" href=\"http://resources.huygens.knaw.nl/retroboeken/generalemissiven/#page=879&amp;source=11\" title=\"Show this document on Huygens\" sec=\"11 868:7\">11 868:7</a></span></div><div class=\" children\"><div class=\"contnr c3    \" ><div class=\"lbl c3  \" ><span class=\"nd\">line</span></div><div class=\"children hor wrap \"><div class=\"contnr c0 trm   \" ><div class=\"lbl c0 trm \" ><span class=\"txtu\">aan </span></div><div class='features'><span class=\"trans xft\" ><span class=\"f\">trans=</span>aan</span></div></div><div class=\"contnr c0 trm   \" ><div class=\"lbl c0 trm \" ><span class=\"txtu\">het </span></div><div class='features'><span class=\"trans xft\" ><span class=\"f\">trans=</span>het</span></div></div><div class=\"contnr c0 trm   \" ><div class=\"lbl c0 trm \" ><span class=\"txtu\">hoff </span></div><div class='features'><span class=\"trans xft\" ><span class=\"f\">trans=</span>hoff</span></div></div><div class=\"contnr c0 trm   \" ><div class=\"lbl c0 trm \" ><span class=\"txtu\">van </span></div><div class='features'><span class=\"entityid xft\" ><span class=\"f\">entityId=</span>e_11_41_21</span><span class=\"entitykind xft\" ><span class=\"f\">entityKind=</span>ORG</span><span class=\"trans xft\" ><span class=\"f\">trans=</span>van</span></div></div><div class=\"contnr c0 trm   hl\" ><div class=\"lbl c0 trm hl\" ><span class=\"txtu\">Groot-</span></div><div class='features'><span class=\"entityid xft\" ><span class=\"f\">entityId=</span>e_11_41_22</span><span class=\"entitykind xft\" ><span class=\"f\">entityKind=</span>ORG</span><span class=\"trans xft\" ><span class=\"f\">trans=</span>Groot</span></div></div><div class=\"contnr c0 trm   \" ><div class=\"lbl c0 trm \" ><span class=\"txtu\">Brittanjen </span></div><div class='features'><span class=\"entityid xft\" ><span class=\"f\">entityId=</span>e_11_41_22</span><span class=\"entitykind xft\" ><span class=\"f\">entityKind=</span>ORG</span><span class=\"trans xft\" ><span class=\"f\">trans=</span>Brittanjen</span></div></div><div class=\"contnr c0 trm   \" ><div class=\"lbl c0 trm \" ><span class=\"txtu\">over </span></div><div class='features'><span class=\"trans xft\" ><span class=\"f\">trans=</span>over</span></div></div><div class=\"contnr c0 trm   \" ><div class=\"lbl c0 trm \" ><span class=\"txtu\">ons </span></div><div class='features'><span class=\"trans xft\" ><span class=\"f\">trans=</span>ons</span></div></div><div class=\"contnr c0 trm   \" ><div class=\"lbl c0 trm \" ><span class=\"txtu\">is </span></div><div class='features'><span class=\"trans xft\" ><span class=\"f\">trans=</span>is</span></div></div><div class=\"contnr c0 trm   \" ><div class=\"lbl c0 trm \" ><span class=\"txtu\">gedaan </span></div><div class='features'><span class=\"trans xft\" ><span class=\"f\">trans=</span>gedaan</span></div></div><div class=\"contnr c0 trm   \" ><div class=\"lbl c0 trm \" ><span class=\"txtu\">en </span></div><div class='features'><span class=\"trans xft\" ><span class=\"f\">trans=</span>en</span></div></div><div class=\"contnr c0 trm   \" ><div class=\"lbl c0 trm \" ><span class=\"txtu\">wij </span></div><div class='features'><span class=\"trans xft\" ><span class=\"f\">trans=</span>wij</span></div></div><div class=\"contnr c0 trm   \" ><div class=\"lbl c0 trm \" ><span class=\"txtu\">sullen </span></div><div class='features'><span class=\"trans xft\" ><span class=\"f\">trans=</span>sullen</span></div></div><div class=\"contnr c0 trm   \" ><div class=\"lbl c0 trm \" ><span class=\"txtu\">deselve </span></div><div class='features'><span class=\"trans xft\" ><span class=\"f\">trans=</span>deselve</span></div></div><div class=\"contnr c0 trm   \" ><div class=\"lbl c0 trm \" ><span class=\"txtu\">so </span></div><div class='features'><span class=\"trans xft\" ><span class=\"f\">trans=</span>so</span></div></div><div class=\"contnr c0 trm   \" ><div class=\"lbl c0 trm \" ><span class=\"txtu\">kort </span></div><div class='features'><span class=\"trans xft\" ><span class=\"f\">trans=</span>kort</span></div></div><div class=\"contnr c0 trm   \" ><div class=\"lbl c0 trm \" ><span class=\"txtu\">als </span></div><div class='features'><span class=\"trans xft\" ><span class=\"f\">trans=</span>als</span></div></div></div></div></div>"
      ],
      "text/plain": [
       "<IPython.core.display.HTML object>"
      ]
     },
     "metadata": {},
     "output_type": "display_data"
    },
    {
     "data": {
      "text/markdown": [
       "#### B4: case 4: Groot as PER: 17 occurrences\n",
       "\n"
      ],
      "text/plain": [
       "<IPython.core.display.Markdown object>"
      ]
     },
     "metadata": {},
     "output_type": "display_data"
    },
    {
     "data": {
      "text/html": [
       "<p><b>result</b> <i>1</i>"
      ],
      "text/plain": [
       "<IPython.core.display.HTML object>"
      ]
     },
     "metadata": {},
     "output_type": "display_data"
    },
    {
     "data": {
      "text/html": [
       "<div class=\"tfsechead \"><span class=\"ltr\"><a target=\"_blank\" href=\"http://resources.huygens.knaw.nl/retroboeken/generalemissiven/#page=282&amp;source=6\" title=\"Show this document on Huygens\" sec=\"6 267:21\">6 267:21</a></span></div><div class=\" children\"><div class=\"contnr c3    \" ><div class=\"lbl c3  \" ><span class=\"nd\">line</span></div><div class=\"children hor wrap \"><div class=\"contnr c0 trm   \" ><div class=\"lbl c0 trm \" ><span class=\"txtu\">aldaar; </span></div><div class='features'><span class=\"trans xft\" ><span class=\"f\">trans=</span>aldaar</span></div></div><div class=\"contnr c0 trm   \" ><div class=\"lbl c0 trm \" ><span class=\"txtu\">het </span></div><div class='features'><span class=\"trans xft\" ><span class=\"f\">trans=</span>het</span></div></div><div class=\"contnr c0 trm   \" ><div class=\"lbl c0 trm \" ><span class=\"txtu\">opperhoofd </span></div><div class='features'><span class=\"trans xft\" ><span class=\"f\">trans=</span>opperhoofd</span></div></div><div class=\"contnr c0 trm   \" ><div class=\"lbl c0 trm \" ><span class=\"txtu\">Ferdinand </span></div><div class='features'><span class=\"entityid xft\" ><span class=\"f\">entityId=</span>e_6_26_44</span><span class=\"entitykind xft\" ><span class=\"f\">entityKind=</span>PER</span><span class=\"trans xft\" ><span class=\"f\">trans=</span>Ferdinand</span></div></div><div class=\"contnr c0 trm   \" ><div class=\"lbl c0 trm \" ><span class=\"txtu\">de </span></div><div class='features'><span class=\"entityid xft\" ><span class=\"f\">entityId=</span>e_6_26_44</span><span class=\"entitykind xft\" ><span class=\"f\">entityKind=</span>PER</span><span class=\"trans xft\" ><span class=\"f\">trans=</span>de</span></div></div><div class=\"contnr c0 trm   hl\" ><div class=\"lbl c0 trm hl\" ><span class=\"txtu\">Groot </span></div><div class='features'><span class=\"entityid xft\" ><span class=\"f\">entityId=</span>e_6_26_44</span><span class=\"entitykind xft\" ><span class=\"f\">entityKind=</span>PER</span><span class=\"trans xft\" ><span class=\"f\">trans=</span>Groot</span></div></div><div class=\"contnr c0 trm   \" ><div class=\"lbl c0 trm \" ><span class=\"txtu\">vertrok </span></div><div class='features'><span class=\"trans xft\" ><span class=\"f\">trans=</span>vertrok</span></div></div><div class=\"contnr c0 trm   \" ><div class=\"lbl c0 trm \" ><span class=\"txtu\">30 </span></div><div class='features'><span class=\"trans xft\" ><span class=\"f\">trans=</span>30</span></div></div><div class=\"contnr c0 trm   \" ><div class=\"lbl c0 trm \" ><span class=\"txtu\">oct. </span></div><div class='features'><span class=\"trans xft\" ><span class=\"f\">trans=</span>oct</span></div></div><div class=\"contnr c0 trm   \" ><div class=\"lbl c0 trm \" ><span class=\"txtu\">van </span></div><div class='features'><span class=\"trans xft\" ><span class=\"f\">trans=</span>van</span></div></div><div class=\"contnr c0 trm   \" ><div class=\"lbl c0 trm \" ><span class=\"txtu\">Nagasaki </span></div><div class='features'><span class=\"entityid xft\" ><span class=\"f\">entityId=</span>e_6_26_45</span><span class=\"entitykind xft\" ><span class=\"f\">entityKind=</span>LOC</span><span class=\"trans xft\" ><span class=\"f\">trans=</span>Nagasaki</span></div></div><div class=\"contnr c0 trm   \" ><div class=\"lbl c0 trm \" ><span class=\"txtu\">met </span></div><div class='features'><span class=\"trans xft\" ><span class=\"f\">trans=</span>met</span></div></div><div class=\"contnr c0 trm   \" ><div class=\"lbl c0 trm \" ><span class=\"txtu\">de </span></div><div class='features'><span class=\"trans xft\" ><span class=\"f\">trans=</span>de</span></div></div><div class=\"contnr c0 trm   \" ><div class=\"lbl c0 trm \" ><span class=\"txtu\">schepen </span></div><div class='features'><span class=\"trans xft\" ><span class=\"f\">trans=</span>schepen</span></div></div></div></div></div>"
      ],
      "text/plain": [
       "<IPython.core.display.HTML object>"
      ]
     },
     "metadata": {},
     "output_type": "display_data"
    },
    {
     "data": {
      "text/markdown": [
       "#### B4: case 4: Groot as SHP: 1 occurrence\n",
       "\n"
      ],
      "text/plain": [
       "<IPython.core.display.Markdown object>"
      ]
     },
     "metadata": {},
     "output_type": "display_data"
    },
    {
     "data": {
      "text/html": [
       "<p><b>result</b> <i>1</i>"
      ],
      "text/plain": [
       "<IPython.core.display.HTML object>"
      ]
     },
     "metadata": {},
     "output_type": "display_data"
    },
    {
     "data": {
      "text/html": [
       "<div class=\"tfsechead \"><span class=\"ltr\"><a target=\"_blank\" href=\"http://resources.huygens.knaw.nl/retroboeken/generalemissiven/#page=52&amp;source=1\" title=\"Show this document on Huygens\" sec=\"1 29:14\">1 29:14</a></span></div><div class=\" children\"><div class=\"contnr c3    \" ><div class=\"lbl c3  \" ><span class=\"nd\">line</span></div><div class=\"children hor wrap \"><div class=\"contnr c0 trm   \" ><div class=\"lbl c0 trm \" ><span class=\"txtu\">Dirck </span></div><div class='features'><span class=\"entityid xft\" ><span class=\"f\">entityId=</span>e_1_19_16</span><span class=\"entitykind xft\" ><span class=\"f\">entityKind=</span>PER</span><span class=\"trans xft\" ><span class=\"f\">trans=</span>Dirck</span></div></div><div class=\"contnr c0 trm   \" ><div class=\"lbl c0 trm \" ><span class=\"txtu\">Pietersz. </span></div><div class='features'><span class=\"entityid xft\" ><span class=\"f\">entityId=</span>e_1_19_16</span><span class=\"entitykind xft\" ><span class=\"f\">entityKind=</span>PER</span><span class=\"trans xft\" ><span class=\"f\">trans=</span>Pietersz</span></div></div><div class=\"contnr c0 trm   \" ><div class=\"lbl c0 trm \" ><span class=\"txtu\">van </span></div><div class='features'><span class=\"entityid xft\" ><span class=\"f\">entityId=</span>e_1_19_16</span><span class=\"entitykind xft\" ><span class=\"f\">entityKind=</span>PER</span><span class=\"trans xft\" ><span class=\"f\">trans=</span>van</span></div></div><div class=\"contnr c0 trm   \" ><div class=\"lbl c0 trm \" ><span class=\"txtu\">de </span></div><div class='features'><span class=\"entityid xft\" ><span class=\"f\">entityId=</span>e_1_19_16</span><span class=\"entitykind xft\" ><span class=\"f\">entityKind=</span>PER</span><span class=\"trans xft\" ><span class=\"f\">trans=</span>de</span></div></div><div class=\"contnr c0 trm   \" ><div class=\"lbl c0 trm \" ><span class=\"txtu\">Sande, </span></div><div class='features'><span class=\"entityid xft\" ><span class=\"f\">entityId=</span>e_1_19_16</span><span class=\"entitykind xft\" ><span class=\"f\">entityKind=</span>PER</span><span class=\"trans xft\" ><span class=\"f\">trans=</span>Sande</span></div></div><div class=\"contnr c0 trm   \" ><div class=\"lbl c0 trm \" ><span class=\"txtu\">waartoe </span></div><div class='features'><span class=\"trans xft\" ><span class=\"f\">trans=</span>waartoe</span></div></div><div class=\"contnr c0 trm   \" ><div class=\"lbl c0 trm \" ><span class=\"txtu\">o. </span></div><div class='features'><span class=\"trans xft\" ><span class=\"f\">trans=</span>o</span></div></div><div class=\"contnr c0 trm   \" ><div class=\"lbl c0 trm \" ><span class=\"txtu\">a. (</span></div><div class='features'><span class=\"entityid xft\" ><span class=\"f\">entityId=</span>e_1_19_17</span><span class=\"entitykind xft\" ><span class=\"f\">entityKind=</span>SHP</span><span class=\"trans xft\" ><span class=\"f\">trans=</span>a</span></div></div><div class=\"contnr c0 trm   hl\" ><div class=\"lbl c0 trm hl\" ><span class=\"txtu\">Groot) </span></div><div class='features'><span class=\"entityid xft\" ><span class=\"f\">entityId=</span>e_1_19_19</span><span class=\"entitykind xft\" ><span class=\"f\">entityKind=</span>SHP</span><span class=\"trans xft\" ><span class=\"f\">trans=</span>Groot</span></div></div><div class=\"contnr c0 trm   \" ><div class=\"lbl c0 trm \" ><span class=\"txtu\">Hoorn, </span></div><div class='features'><span class=\"entityid xft\" ><span class=\"f\">entityId=</span>e_1_19_19</span><span class=\"entitykind xft\" ><span class=\"f\">entityKind=</span>SHP</span><span class=\"trans xft\" ><span class=\"f\">trans=</span>Hoorn</span></div></div><div class=\"contnr c0 trm   \" ><div class=\"lbl c0 trm \" ><span class=\"txtu\">Witte </span></div><div class='features'><span class=\"entityid xft\" ><span class=\"f\">entityId=</span>e_1_19_20</span><span class=\"entitykind xft\" ><span class=\"f\">entityKind=</span>SHP</span><span class=\"trans xft\" ><span class=\"f\">trans=</span>Witte</span></div></div><div class=\"contnr c0 trm   \" ><div class=\"lbl c0 trm \" ><span class=\"txtu\">Valk </span></div><div class='features'><span class=\"entityid xft\" ><span class=\"f\">entityId=</span>e_1_19_20</span><span class=\"entitykind xft\" ><span class=\"f\">entityKind=</span>SHP</span><span class=\"trans xft\" ><span class=\"f\">trans=</span>Valk</span></div></div><div class=\"contnr c0 trm   \" ><div class=\"lbl c0 trm \" ><span class=\"txtu\">en </span></div><div class='features'><span class=\"trans xft\" ><span class=\"f\">trans=</span>en</span></div></div><div class=\"contnr c0 trm   \" ><div class=\"lbl c0 trm \" ><span class=\"txtu\">Arend </span></div><div class='features'><span class=\"entityid xft\" ><span class=\"f\">entityId=</span>e_1_19_21</span><span class=\"entitykind xft\" ><span class=\"f\">entityKind=</span>SHP</span><span class=\"trans xft\" ><span class=\"f\">trans=</span>Arend</span></div></div></div></div></div>"
      ],
      "text/plain": [
       "<IPython.core.display.HTML object>"
      ]
     },
     "metadata": {},
     "output_type": "display_data"
    },
    {
     "data": {
      "text/markdown": [
       "#### B4: case 5: Hoorn as None: 547 occurrences\n",
       "\n"
      ],
      "text/plain": [
       "<IPython.core.display.Markdown object>"
      ]
     },
     "metadata": {},
     "output_type": "display_data"
    },
    {
     "data": {
      "text/html": [
       "<p><b>result</b> <i>1</i>"
      ],
      "text/plain": [
       "<IPython.core.display.HTML object>"
      ]
     },
     "metadata": {},
     "output_type": "display_data"
    },
    {
     "data": {
      "text/html": [
       "<div class=\"tfsechead \"><span class=\"ltr\"><a target=\"_blank\" href=\"http://resources.huygens.knaw.nl/retroboeken/generalemissiven/#page=94&amp;source=1\" title=\"Show this document on Huygens\" sec=\"1 71:26\">1 71:26</a></span></div><div class=\" children\"><div class=\"contnr c3    \" ><div class=\"lbl c3  \" ><span class=\"nd\">line</span></div><div class=\"children hor wrap \"><div class=\"contnr c0 trm   \" ><div class=\"lbl c0 trm \" ><span class=\"txtu\">met </span></div><div class='features'><span class=\"trans xft\" ><span class=\"f\">trans=</span>met</span></div></div><div class=\"contnr c0 trm   \" ><div class=\"lbl c0 trm \" ><span class=\"txtu\">het </span></div><div class='features'><span class=\"trans xft\" ><span class=\"f\">trans=</span>het</span></div></div><div class=\"contnr c0 trm   \" ><div class=\"lbl c0 trm \" ><span class=\"txtu\">schip </span></div><div class='features'><span class=\"trans xft\" ><span class=\"f\">trans=</span>schip</span></div></div><div class=\"contnr c0 trm   hl\" ><div class=\"lbl c0 trm hl\" ><span class=\"txtu\">Hoorn </span></div><div class='features'><span class=\"trans xft\" ><span class=\"f\">trans=</span>Hoorn</span></div></div><div class=\"contnr c0 trm   \" ><div class=\"lbl c0 trm \" ><span class=\"txtu\">over </span></div><div class='features'><span class=\"trans xft\" ><span class=\"f\">trans=</span>over</span></div></div><div class=\"contnr c0 trm   \" ><div class=\"lbl c0 trm \" ><span class=\"txtu\">Bantham </span></div><div class='features'><span class=\"trans xft\" ><span class=\"f\">trans=</span>Bantham</span></div></div><div class=\"contnr c0 trm   \" ><div class=\"lbl c0 trm \" ><span class=\"txtu\">gestuert, </span></div><div class='features'><span class=\"trans xft\" ><span class=\"f\">trans=</span>gestuert</span></div></div><div class=\"contnr c0 trm   \" ><div class=\"lbl c0 trm \" ><span class=\"txtu\">sullen </span></div><div class='features'><span class=\"trans xft\" ><span class=\"f\">trans=</span>sullen</span></div></div><div class=\"contnr c0 trm   \" ><div class=\"lbl c0 trm \" ><span class=\"txtu\">hebben </span></div><div class='features'><span class=\"trans xft\" ><span class=\"f\">trans=</span>hebben</span></div></div><div class=\"contnr c0 trm   \" ><div class=\"lbl c0 trm \" ><span class=\"txtu\">verstaen </span></div><div class='features'><span class=\"trans xft\" ><span class=\"f\">trans=</span>verstaen</span></div></div><div class=\"contnr c0 trm   \" ><div class=\"lbl c0 trm \" ><span class=\"txtu\">Vgl. </span></div><div class='features'><span class=\"trans xft\" ><span class=\"f\">trans=</span>Vgl</span></div></div><div class=\"contnr c0 trm   \" ><div class=\"lbl c0 trm \" ><span class=\"txtu\">Bouwstoffen </span></div><div class='features'><span class=\"trans xft\" ><span class=\"f\">trans=</span>Bouwstoffen</span></div></div><div class=\"contnr c0 trm   \" ><div class=\"lbl c0 trm \" ><span class=\"txtu\">I, </span></div><div class='features'><span class=\"trans xft\" ><span class=\"f\">trans=</span>I</span></div></div><div class=\"contnr c0 trm   \" ><div class=\"lbl c0 trm \" ><span class=\"txtu\">p. </span></div><div class='features'><span class=\"trans xft\" ><span class=\"f\">trans=</span>p</span></div></div><div class=\"contnr c0 trm   \" ><div class=\"lbl c0 trm \" ><span class=\"txtu\">150 </span></div><div class='features'><span class=\"trans xft\" ><span class=\"f\">trans=</span>150</span></div></div><div class=\"contnr c0 trm   \" ><div class=\"lbl c0 trm \" ><span class=\"txtu\">vlg. </span></div><div class='features'><span class=\"trans xft\" ><span class=\"f\">trans=</span>vlg</span></div></div><div class=\"contnr c0 trm   \" ><div class=\"lbl c0 trm \" ><span class=\"txtu\">die </span></div><div class='features'><span class=\"trans xft\" ><span class=\"f\">trans=</span>die</span></div></div><div class=\"contnr c0 trm   \" ><div class=\"lbl c0 trm \" ><span class=\"txtu\">wel </span></div><div class='features'><span class=\"trans xft\" ><span class=\"f\">trans=</span>wel</span></div></div></div></div></div>"
      ],
      "text/plain": [
       "<IPython.core.display.HTML object>"
      ]
     },
     "metadata": {},
     "output_type": "display_data"
    },
    {
     "data": {
      "text/markdown": [
       "#### B4: case 5: Hoorn as LOC: 45 occurrences\n",
       "\n"
      ],
      "text/plain": [
       "<IPython.core.display.Markdown object>"
      ]
     },
     "metadata": {},
     "output_type": "display_data"
    },
    {
     "data": {
      "text/html": [
       "<p><b>result</b> <i>1</i>"
      ],
      "text/plain": [
       "<IPython.core.display.HTML object>"
      ]
     },
     "metadata": {},
     "output_type": "display_data"
    },
    {
     "data": {
      "text/html": [
       "<div class=\"tfsechead \"><span class=\"ltr\"><a target=\"_blank\" href=\"http://resources.huygens.knaw.nl/retroboeken/generalemissiven/#page=203&amp;source=2\" title=\"Show this document on Huygens\" sec=\"2 190:7\">2 190:7</a></span></div><div class=\" children\"><div class=\"contnr c3    \" ><div class=\"lbl c3  \" ><span class=\"nd\">line</span></div><div class=\"children hor wrap \"><div class=\"contnr c0 trm   \" ><div class=\"lbl c0 trm \" ><span class=\"txtu\">fl. </span></div><div class='features'><span class=\"trans xft\" ><span class=\"f\">trans=</span>fl</span></div></div><div class=\"contnr c0 trm   \" ><div class=\"lbl c0 trm \" ><span class=\"txtu\">1345763. </span></div><div class='features'><span class=\"trans xft\" ><span class=\"f\">trans=</span>1345763</span></div></div><div class=\"contnr c0 trm   \" ><div class=\"lbl c0 trm \" ><span class=\"txtu\">18. </span></div><div class='features'><span class=\"trans xft\" ><span class=\"f\">trans=</span>18</span></div></div><div class=\"contnr c0 trm   \" ><div class=\"lbl c0 trm \" ><span class=\"txtu\">10, </span></div><div class='features'><span class=\"trans xft\" ><span class=\"f\">trans=</span>10</span></div></div><div class=\"contnr c0 trm   \" ><div class=\"lbl c0 trm \" ><span class=\"txtu\">voor </span></div><div class='features'><span class=\"trans xft\" ><span class=\"f\">trans=</span>voor</span></div></div><div class=\"contnr c0 trm   \" ><div class=\"lbl c0 trm \" ><span class=\"txtu\">Zeeland </span></div><div class='features'><span class=\"entityid xft\" ><span class=\"f\">entityId=</span>e_2_14_17</span><span class=\"entitykind xft\" ><span class=\"f\">entityKind=</span>LOC</span><span class=\"trans xft\" ><span class=\"f\">trans=</span>Zeeland</span></div></div><div class=\"contnr c0 trm   \" ><div class=\"lbl c0 trm \" ><span class=\"txtu\">fl. </span></div><div class='features'><span class=\"trans xft\" ><span class=\"f\">trans=</span>fl</span></div></div><div class=\"contnr c0 trm   \" ><div class=\"lbl c0 trm \" ><span class=\"txtu\">658376. </span></div><div class='features'><span class=\"trans xft\" ><span class=\"f\">trans=</span>658376</span></div></div><div class=\"contnr c0 trm   \" ><div class=\"lbl c0 trm \" ><span class=\"txtu\">19. </span></div><div class='features'><span class=\"trans xft\" ><span class=\"f\">trans=</span>19</span></div></div><div class=\"contnr c0 trm   \" ><div class=\"lbl c0 trm \" ><span class=\"txtu\">1, </span></div><div class='features'><span class=\"trans xft\" ><span class=\"f\">trans=</span>1</span></div></div><div class=\"contnr c0 trm   \" ><div class=\"lbl c0 trm \" ><span class=\"txtu\">voor </span></div><div class='features'><span class=\"trans xft\" ><span class=\"f\">trans=</span>voor</span></div></div><div class=\"contnr c0 trm   \" ><div class=\"lbl c0 trm \" ><span class=\"txtu\">Delft </span></div><div class='features'><span class=\"entityid xft\" ><span class=\"f\">entityId=</span>e_2_14_19</span><span class=\"entitykind xft\" ><span class=\"f\">entityKind=</span>LOC</span><span class=\"trans xft\" ><span class=\"f\">trans=</span>Delft</span></div></div><div class=\"contnr c0 trm   \" ><div class=\"lbl c0 trm \" ><span class=\"txtu\">fl. </span></div><div class='features'><span class=\"trans xft\" ><span class=\"f\">trans=</span>fl</span></div></div><div class=\"contnr c0 trm   \" ><div class=\"lbl c0 trm \" ><span class=\"txtu\">259071. </span></div><div class='features'><span class=\"trans xft\" ><span class=\"f\">trans=</span>259071</span></div></div><div class=\"contnr c0 trm   \" ><div class=\"lbl c0 trm \" ><span class=\"txtu\">12. </span></div><div class='features'><span class=\"trans xft\" ><span class=\"f\">trans=</span>12</span></div></div><div class=\"contnr c0 trm   \" ><div class=\"lbl c0 trm \" ><span class=\"txtu\">3, </span></div><div class='features'><span class=\"trans xft\" ><span class=\"f\">trans=</span>3</span></div></div><div class=\"contnr c0 trm   \" ><div class=\"lbl c0 trm \" ><span class=\"txtu\">voor </span></div><div class='features'><span class=\"trans xft\" ><span class=\"f\">trans=</span>voor</span></div></div><div class=\"contnr c0 trm   hl\" ><div class=\"lbl c0 trm hl\" ><span class=\"txtu\">Hoorn </span></div><div class='features'><span class=\"entityid xft\" ><span class=\"f\">entityId=</span>e_2_14_21</span><span class=\"entitykind xft\" ><span class=\"f\">entityKind=</span>LOC</span><span class=\"trans xft\" ><span class=\"f\">trans=</span>Hoorn</span></div></div></div></div></div>"
      ],
      "text/plain": [
       "<IPython.core.display.HTML object>"
      ]
     },
     "metadata": {},
     "output_type": "display_data"
    },
    {
     "data": {
      "text/markdown": [
       "#### B4: case 5: Hoorn as ORG: 1 occurrence\n",
       "\n"
      ],
      "text/plain": [
       "<IPython.core.display.Markdown object>"
      ]
     },
     "metadata": {},
     "output_type": "display_data"
    },
    {
     "data": {
      "text/html": [
       "<p><b>result</b> <i>1</i>"
      ],
      "text/plain": [
       "<IPython.core.display.HTML object>"
      ]
     },
     "metadata": {},
     "output_type": "display_data"
    },
    {
     "data": {
      "text/html": [
       "<div class=\"tfsechead \"><span class=\"ltr\"><a target=\"_blank\" href=\"http://resources.huygens.knaw.nl/retroboeken/generalemissiven/#page=492&amp;source=14_1\" title=\"Show this document on Huygens\" sec=\"14 479:14\">14 479:14</a></span></div><div class=\" children\"><div class=\"contnr c3    \" ><div class=\"lbl c3  \" ><span class=\"nd\">line</span></div><div class=\"children hor wrap \"><div class=\"contnr c0 trm   hl\" ><div class=\"lbl c0 trm hl\" ><span class=\"txtu\">Hoorn </span></div><div class='features'><span class=\"entityid xft\" ><span class=\"f\">entityId=</span>e_14_9_34</span><span class=\"entitykind xft\" ><span class=\"f\">entityKind=</span>ORG</span><span class=\"trans xft\" ><span class=\"f\">trans=</span>Hoorn</span></div></div><div class=\"contnr c1    \" ><div class=\"lbl c1  \" ><span class=\"nd\">folio</span></div><div class=\"children hor wrap \"><div class=\"contnr c0 trm   \" ><div class=\"lbl c0 trm \" ><span class=\"txtu\">fol. </span></div><div class='features'><span class=\"trans xft\" ><span class=\"f\">trans=</span>fol</span></div></div><div class=\"contnr c0 trm   \" ><div class=\"lbl c0 trm \" ><span class=\"txtu\">1973 </span></div><div class='features'><span class=\"entityid xft\" ><span class=\"f\">entityId=</span>e_14_9_35</span><span class=\"entitykind xft\" ><span class=\"f\">entityKind=</span>LOC</span><span class=\"trans xft\" ><span class=\"f\">trans=</span>1973</span></div></div></div></div></div></div></div>"
      ],
      "text/plain": [
       "<IPython.core.display.HTML object>"
      ]
     },
     "metadata": {},
     "output_type": "display_data"
    },
    {
     "data": {
      "text/markdown": [
       "#### B4: case 5: Hoorn as PER: 169 occurrences\n",
       "\n"
      ],
      "text/plain": [
       "<IPython.core.display.Markdown object>"
      ]
     },
     "metadata": {},
     "output_type": "display_data"
    },
    {
     "data": {
      "text/html": [
       "<p><b>result</b> <i>1</i>"
      ],
      "text/plain": [
       "<IPython.core.display.HTML object>"
      ]
     },
     "metadata": {},
     "output_type": "display_data"
    },
    {
     "data": {
      "text/html": [
       "<div class=\"tfsechead \"><span class=\"ltr\"><a target=\"_blank\" href=\"http://resources.huygens.knaw.nl/retroboeken/generalemissiven/#page=62&amp;source=1\" title=\"Show this document on Huygens\" sec=\"1 39:5\">1 39:5</a></span></div><div class=\" children\"><div class=\"contnr c3    \" ><div class=\"lbl c3  \" ><span class=\"nd\">line</span></div><div class=\"children hor wrap \"><div class=\"contnr c0 trm   \" ><div class=\"lbl c0 trm \" ><span class=\"txtu\">Principaliter, </span></div><div class='features'><span class=\"trans xft\" ><span class=\"f\">trans=</span>Principaliter</span></div></div><div class=\"contnr c0 trm   \" ><div class=\"lbl c0 trm \" ><span class=\"txtu\">van </span></div><div class='features'><span class=\"trans xft\" ><span class=\"f\">trans=</span>van</span></div></div><div class=\"contnr c0 trm   \" ><div class=\"lbl c0 trm \" ><span class=\"txtu\">eenen </span></div><div class='features'><span class=\"trans xft\" ><span class=\"f\">trans=</span>eenen</span></div></div><div class=\"contnr c0 trm   \" ><div class=\"lbl c0 trm \" ><span class=\"txtu\">Jan </span></div><div class='features'><span class=\"entityid xft\" ><span class=\"f\">entityId=</span>e_1_22_3</span><span class=\"entitykind xft\" ><span class=\"f\">entityKind=</span>PER</span><span class=\"trans xft\" ><span class=\"f\">trans=</span>Jan</span></div></div><div class=\"contnr c0 trm   \" ><div class=\"lbl c0 trm \" ><span class=\"txtu\">Pietersz. </span></div><div class='features'><span class=\"entityid xft\" ><span class=\"f\">entityId=</span>e_1_22_3</span><span class=\"entitykind xft\" ><span class=\"f\">entityKind=</span>PER</span><span class=\"trans xft\" ><span class=\"f\">trans=</span>Pietersz</span></div></div><div class=\"contnr c0 trm   \" ><div class=\"lbl c0 trm \" ><span class=\"txtu\">Coen </span></div><div class='features'><span class=\"entityid xft\" ><span class=\"f\">entityId=</span>e_1_22_3</span><span class=\"entitykind xft\" ><span class=\"f\">entityKind=</span>PER</span><span class=\"trans xft\" ><span class=\"f\">trans=</span>Coen</span></div></div><div class=\"contnr c0 trm   \" ><div class=\"lbl c0 trm \" ><span class=\"txtu\">van </span></div><div class='features'><span class=\"entityid xft\" ><span class=\"f\">entityId=</span>e_1_22_3</span><span class=\"entitykind xft\" ><span class=\"f\">entityKind=</span>PER</span><span class=\"trans xft\" ><span class=\"f\">trans=</span>van</span></div></div><div class=\"contnr c0 trm   hl\" ><div class=\"lbl c0 trm hl\" ><span class=\"txtu\">Hoorn, </span></div><div class='features'><span class=\"entityid xft\" ><span class=\"f\">entityId=</span>e_1_22_3</span><span class=\"entitykind xft\" ><span class=\"f\">entityKind=</span>PER</span><span class=\"trans xft\" ><span class=\"f\">trans=</span>Hoorn</span></div></div><div class=\"contnr c0 trm   \" ><div class=\"lbl c0 trm \" ><span class=\"txtu\">uytgevaren </span></div><div class='features'><span class=\"trans xft\" ><span class=\"f\">trans=</span>uytgevaren</span></div></div><div class=\"contnr c0 trm   \" ><div class=\"lbl c0 trm \" ><span class=\"txtu\">voor </span></div><div class='features'><span class=\"trans xft\" ><span class=\"f\">trans=</span>voor</span></div></div></div></div></div>"
      ],
      "text/plain": [
       "<IPython.core.display.HTML object>"
      ]
     },
     "metadata": {},
     "output_type": "display_data"
    },
    {
     "data": {
      "text/markdown": [
       "#### B4: case 5: Hoorn as SHP: 17 occurrences\n",
       "\n"
      ],
      "text/plain": [
       "<IPython.core.display.Markdown object>"
      ]
     },
     "metadata": {},
     "output_type": "display_data"
    },
    {
     "data": {
      "text/html": [
       "<p><b>result</b> <i>1</i>"
      ],
      "text/plain": [
       "<IPython.core.display.HTML object>"
      ]
     },
     "metadata": {},
     "output_type": "display_data"
    },
    {
     "data": {
      "text/html": [
       "<div class=\"tfsechead \"><span class=\"ltr\"><a target=\"_blank\" href=\"http://resources.huygens.knaw.nl/retroboeken/generalemissiven/#page=52&amp;source=1\" title=\"Show this document on Huygens\" sec=\"1 29:14\">1 29:14</a></span></div><div class=\" children\"><div class=\"contnr c3    \" ><div class=\"lbl c3  \" ><span class=\"nd\">line</span></div><div class=\"children hor wrap \"><div class=\"contnr c0 trm   \" ><div class=\"lbl c0 trm \" ><span class=\"txtu\">Dirck </span></div><div class='features'><span class=\"entityid xft\" ><span class=\"f\">entityId=</span>e_1_19_16</span><span class=\"entitykind xft\" ><span class=\"f\">entityKind=</span>PER</span><span class=\"trans xft\" ><span class=\"f\">trans=</span>Dirck</span></div></div><div class=\"contnr c0 trm   \" ><div class=\"lbl c0 trm \" ><span class=\"txtu\">Pietersz. </span></div><div class='features'><span class=\"entityid xft\" ><span class=\"f\">entityId=</span>e_1_19_16</span><span class=\"entitykind xft\" ><span class=\"f\">entityKind=</span>PER</span><span class=\"trans xft\" ><span class=\"f\">trans=</span>Pietersz</span></div></div><div class=\"contnr c0 trm   \" ><div class=\"lbl c0 trm \" ><span class=\"txtu\">van </span></div><div class='features'><span class=\"entityid xft\" ><span class=\"f\">entityId=</span>e_1_19_16</span><span class=\"entitykind xft\" ><span class=\"f\">entityKind=</span>PER</span><span class=\"trans xft\" ><span class=\"f\">trans=</span>van</span></div></div><div class=\"contnr c0 trm   \" ><div class=\"lbl c0 trm \" ><span class=\"txtu\">de </span></div><div class='features'><span class=\"entityid xft\" ><span class=\"f\">entityId=</span>e_1_19_16</span><span class=\"entitykind xft\" ><span class=\"f\">entityKind=</span>PER</span><span class=\"trans xft\" ><span class=\"f\">trans=</span>de</span></div></div><div class=\"contnr c0 trm   \" ><div class=\"lbl c0 trm \" ><span class=\"txtu\">Sande, </span></div><div class='features'><span class=\"entityid xft\" ><span class=\"f\">entityId=</span>e_1_19_16</span><span class=\"entitykind xft\" ><span class=\"f\">entityKind=</span>PER</span><span class=\"trans xft\" ><span class=\"f\">trans=</span>Sande</span></div></div><div class=\"contnr c0 trm   \" ><div class=\"lbl c0 trm \" ><span class=\"txtu\">waartoe </span></div><div class='features'><span class=\"trans xft\" ><span class=\"f\">trans=</span>waartoe</span></div></div><div class=\"contnr c0 trm   \" ><div class=\"lbl c0 trm \" ><span class=\"txtu\">o. </span></div><div class='features'><span class=\"trans xft\" ><span class=\"f\">trans=</span>o</span></div></div><div class=\"contnr c0 trm   \" ><div class=\"lbl c0 trm \" ><span class=\"txtu\">a. (</span></div><div class='features'><span class=\"entityid xft\" ><span class=\"f\">entityId=</span>e_1_19_17</span><span class=\"entitykind xft\" ><span class=\"f\">entityKind=</span>SHP</span><span class=\"trans xft\" ><span class=\"f\">trans=</span>a</span></div></div><div class=\"contnr c0 trm   \" ><div class=\"lbl c0 trm \" ><span class=\"txtu\">Groot) </span></div><div class='features'><span class=\"entityid xft\" ><span class=\"f\">entityId=</span>e_1_19_19</span><span class=\"entitykind xft\" ><span class=\"f\">entityKind=</span>SHP</span><span class=\"trans xft\" ><span class=\"f\">trans=</span>Groot</span></div></div><div class=\"contnr c0 trm   hl\" ><div class=\"lbl c0 trm hl\" ><span class=\"txtu\">Hoorn, </span></div><div class='features'><span class=\"entityid xft\" ><span class=\"f\">entityId=</span>e_1_19_19</span><span class=\"entitykind xft\" ><span class=\"f\">entityKind=</span>SHP</span><span class=\"trans xft\" ><span class=\"f\">trans=</span>Hoorn</span></div></div><div class=\"contnr c0 trm   \" ><div class=\"lbl c0 trm \" ><span class=\"txtu\">Witte </span></div><div class='features'><span class=\"entityid xft\" ><span class=\"f\">entityId=</span>e_1_19_20</span><span class=\"entitykind xft\" ><span class=\"f\">entityKind=</span>SHP</span><span class=\"trans xft\" ><span class=\"f\">trans=</span>Witte</span></div></div><div class=\"contnr c0 trm   \" ><div class=\"lbl c0 trm \" ><span class=\"txtu\">Valk </span></div><div class='features'><span class=\"entityid xft\" ><span class=\"f\">entityId=</span>e_1_19_20</span><span class=\"entitykind xft\" ><span class=\"f\">entityKind=</span>SHP</span><span class=\"trans xft\" ><span class=\"f\">trans=</span>Valk</span></div></div><div class=\"contnr c0 trm   \" ><div class=\"lbl c0 trm \" ><span class=\"txtu\">en </span></div><div class='features'><span class=\"trans xft\" ><span class=\"f\">trans=</span>en</span></div></div><div class=\"contnr c0 trm   \" ><div class=\"lbl c0 trm \" ><span class=\"txtu\">Arend </span></div><div class='features'><span class=\"entityid xft\" ><span class=\"f\">entityId=</span>e_1_19_21</span><span class=\"entitykind xft\" ><span class=\"f\">entityKind=</span>SHP</span><span class=\"trans xft\" ><span class=\"f\">trans=</span>Arend</span></div></div></div></div></div>"
      ],
      "text/plain": [
       "<IPython.core.display.HTML object>"
      ]
     },
     "metadata": {},
     "output_type": "display_data"
    }
   ],
   "source": [
    "for (cls, words) in sorted(classified.items()):\n",
    "    nWords = len(words)\n",
    "    pluralw = \"\" if nWords == 1 else \"s\"\n",
    "    A.dm(f\"### {cls}: {nWords} word{pluralw}\\n\\n\")\n",
    "    nWord = 0\n",
    "    for word in words:\n",
    "        nWord += 1\n",
    "        wordData = hasEntity[word]\n",
    "        for (kind, occs) in sorted(wordData.items(), key=lambda x: x[0] or \"\"):\n",
    "            plural = \"\" if len(occs) == 1 else \"s\"\n",
    "            A.dm(f\"#### {cls}: case {nWord}: {word} as {kind}: {len(occs)} occurrence{plural}\\n\\n\")\n",
    "            A.show(tuple((occ,) for occ in occs), end=1)\n",
    "        if nWord >= 5:\n",
    "            break\n",
    "    if nWords > 5:\n",
    "        A.dm(f\"#### {nWords - 5} more cases\")"
   ]
  },
  {
   "cell_type": "markdown",
   "metadata": {
    "tags": []
   },
   "source": [
    "---\n",
    "\n",
    "# Contents\n",
    "\n",
    "* **[start](start.ipynb)** start computing with this corpus\n",
    "* **[search](search.ipynb)** turbo charge your hand-coding with search templates\n",
    "* **[compute](compute.ipynb)** sink down a level and compute it yourself\n",
    "* **[exportExcel](exportExcel.ipynb)** make tailor-made spreadsheets out of your results\n",
    "* **[annotate](annotate.ipynb)** export text, annotate with BRAT, import annotations\n",
    "* **[share](share.ipynb)** draw in other people's data and let them use yours\n",
    "* **entities** use results of third-party NER (named entity recognition)\n",
    "* **[porting](porting.ipynb)** port features made against an older version to a newer version\n",
    "* **[volumes](volumes.ipynb)** work with selected volumes only\n",
    "\n",
    "CC-BY Dirk Roorda"
   ]
  }
 ],
 "metadata": {
  "jupytext": {
   "encoding": "# -*- coding: utf-8 -*-"
  },
  "kernelspec": {
   "display_name": "Python 3 (ipykernel)",
   "language": "python",
   "name": "python3"
  },
  "language_info": {
   "codemirror_mode": {
    "name": "ipython",
    "version": 3
   },
   "file_extension": ".py",
   "mimetype": "text/x-python",
   "name": "python",
   "nbconvert_exporter": "python",
   "pygments_lexer": "ipython3",
   "version": "3.10.7"
  },
  "widgets": {
   "application/vnd.jupyter.widget-state+json": {
    "state": {},
    "version_major": 2,
    "version_minor": 0
   }
  }
 },
 "nbformat": 4,
 "nbformat_minor": 4
}
