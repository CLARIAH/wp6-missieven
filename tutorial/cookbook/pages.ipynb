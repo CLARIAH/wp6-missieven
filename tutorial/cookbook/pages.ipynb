{
 "cells": [
  {
   "cell_type": "code",
   "execution_count": 2,
   "id": "48e308c9-4cec-4963-8e08-1e9275fe7e7e",
   "metadata": {
    "ExecuteTime": {
     "end_time": "2018-10-18T10:40:34.922214Z",
     "start_time": "2018-10-18T10:40:34.901689Z"
    }
   },
   "outputs": [],
   "source": [
    "%load_ext autoreload\n",
    "%autoreload 2"
   ]
  },
  {
   "cell_type": "code",
   "execution_count": 3,
   "id": "34a15ea0-b156-49d0-a207-21ce208f68b2",
   "metadata": {},
   "outputs": [],
   "source": [
    "from tf.app import use"
   ]
  },
  {
   "cell_type": "code",
   "execution_count": 5,
   "id": "9d613a3c-0102-41bf-a275-42fc480991e8",
   "metadata": {},
   "outputs": [
    {
     "data": {
      "text/html": [
       "<b title=\"local github\">TF-app:</b> <span title=\"repo clone offline under ~/github\">~/github/CLARIAH/wp6-missieven/app</span>"
      ],
      "text/plain": [
       "<IPython.core.display.HTML object>"
      ]
     },
     "metadata": {},
     "output_type": "display_data"
    },
    {
     "data": {
      "text/html": [
       "<b title=\"local github\">data:</b> <span title=\"repo clone offline under ~/github\">~/github/CLARIAH/wp6-missieven/tf/1.0</span>"
      ],
      "text/plain": [
       "<IPython.core.display.HTML object>"
      ]
     },
     "metadata": {},
     "output_type": "display_data"
    },
    {
     "name": "stdout",
     "output_type": "stream",
     "text": [
      "This is Text-Fabric 10.2.6\n",
      "Api reference : https://annotation.github.io/text-fabric/tf/cheatsheet.html\n",
      "\n",
      "47 features found and 0 ignored\n",
      "  4.68s All features loaded/computed - for details use TF.isLoaded()\n",
      "  0.43s All additional features loaded - for details use TF.isLoaded()\n"
     ]
    },
    {
     "data": {
      "text/html": [
       "<b>Text-Fabric:</b> <a target=\"_blank\" href=\"https://annotation.github.io/text-fabric/tf/cheatsheet.html\" title=\"text-fabric-api\">Text-Fabric API 10.2.6</a>, <a target=\"_blank\" href=\"https://github.com/CLARIAH/wp6-missieven/blob/master/app\" title=\"CLARIAH/wp6-missieven TF-app\">CLARIAH/wp6-missieven/app  v3</a>, <a target=\"_blank\" href=\"https://annotation.github.io/text-fabric/tf/about/searchusage.html\" title=\"Search Templates Introduction and Reference\">Search Reference</a><br><b>Data:</b> <a target=\"_blank\" href=\"https://github.com/CLARIAH/wp6-missieven/blob/master/docs/about.md\" title=\"provenance of General Missives Dutch East India Company 1600-1800\">WP6-MISSIEVEN</a>, <a target=\"_blank\" href=\"https://annotation.github.io/text-fabric/tf/writing/.html\" title=\"How TF features represent text\">Character table</a>, <a target=\"_blank\" href=\"https://github.com/CLARIAH/wp6-missieven/blob/master/docs/transcription.md\" title=\"WP6-MISSIEVEN feature documentation\">Feature docs</a><br><b>Features:</b><br>\n",
       "<details><summary><b>General Missives Dutch East India Company 1600-1800</b></summary>\n",
       "    <div class=\"fcorpus\">\n",
       "\n",
       "<div class=\"frow\">\n",
       "    <div class=\"fnamecat \">\n",
       "<a target=\"_blank\" href=\"https://github.com/CLARIAH/wp6-missieven/blob/master/docs/transcription.md\" title=\"~/github/CLARIAH/wp6-missieven/tf/1.0/author.tf\">author</a>\n",
       "</div>\n",
       "<div class=\"fmono\">str</div>\n",
       "\n",
       "<span> authors of the letter, surnames only</span>\n",
       "\n",
       "</div>\n",
       "\n",
       "<div class=\"frow\">\n",
       "    <div class=\"fnamecat \">\n",
       "<a target=\"_blank\" href=\"https://github.com/CLARIAH/wp6-missieven/blob/master/docs/transcription.md\" title=\"~/github/CLARIAH/wp6-missieven/tf/1.0/authorFull.tf\">authorFull</a>\n",
       "</div>\n",
       "<div class=\"fmono\">str</div>\n",
       "\n",
       "<span> authors of the letter, full names</span>\n",
       "\n",
       "</div>\n",
       "\n",
       "<div class=\"frow\">\n",
       "    <div class=\"fnamecat \">\n",
       "<a target=\"_blank\" href=\"https://github.com/CLARIAH/wp6-missieven/blob/master/docs/transcription.md\" title=\"~/github/CLARIAH/wp6-missieven/tf/1.0/col.tf\">col</a>\n",
       "</div>\n",
       "<div class=\"fmono\">int</div>\n",
       "\n",
       "<span> column number of a column in a row in a table</span>\n",
       "\n",
       "</div>\n",
       "\n",
       "<div class=\"frow\">\n",
       "    <div class=\"fnamecat \">\n",
       "<a target=\"_blank\" href=\"https://github.com/CLARIAH/wp6-missieven/blob/master/docs/transcription.md\" title=\"~/github/CLARIAH/wp6-missieven/tf/1.0/day.tf\">day</a>\n",
       "</div>\n",
       "<div class=\"fmono\">int</div>\n",
       "\n",
       "<span> day part of the date of the letter</span>\n",
       "\n",
       "</div>\n",
       "\n",
       "<div class=\"frow\">\n",
       "    <div class=\"fnamecat \">\n",
       "<a target=\"_blank\" href=\"https://github.com/CLARIAH/wp6-missieven/blob/master/docs/transcription.md\" title=\"~/github/CLARIAH/wp6-missieven/tf/1.0/entityId.tf\">entityId</a>\n",
       "</div>\n",
       "<div class=\"fmono\">str</div>\n",
       "\n",
       "<span> identifier of a named entity</span>\n",
       "\n",
       "</div>\n",
       "\n",
       "<div class=\"frow\">\n",
       "    <div class=\"fnamecat \">\n",
       "<a target=\"_blank\" href=\"https://github.com/CLARIAH/wp6-missieven/blob/master/docs/transcription.md\" title=\"~/github/CLARIAH/wp6-missieven/tf/1.0/entityKind.tf\">entityKind</a>\n",
       "</div>\n",
       "<div class=\"fmono\">str</div>\n",
       "\n",
       "<span> kind of a named entity</span>\n",
       "\n",
       "</div>\n",
       "\n",
       "<div class=\"frow\">\n",
       "    <div class=\"fnamecat \">\n",
       "<a target=\"_blank\" href=\"https://github.com/CLARIAH/wp6-missieven/blob/master/docs/transcription.md\" title=\"~/github/CLARIAH/wp6-missieven/tf/1.0/isden.tf\">isden</a>\n",
       "</div>\n",
       "<div class=\"fmono\">int</div>\n",
       "\n",
       "<span> whether a word is the denominator in fraction, e.g. 4 in 1/4</span>\n",
       "\n",
       "</div>\n",
       "\n",
       "<div class=\"frow\">\n",
       "    <div class=\"fnamecat \">\n",
       "<a target=\"_blank\" href=\"https://github.com/CLARIAH/wp6-missieven/blob/master/docs/transcription.md\" title=\"~/github/CLARIAH/wp6-missieven/tf/1.0/isemph.tf\">isemph</a>\n",
       "</div>\n",
       "<div class=\"fmono\">str</div>\n",
       "\n",
       "<span> whether a word is emphasized by typography</span>\n",
       "\n",
       "</div>\n",
       "\n",
       "<div class=\"frow\">\n",
       "    <div class=\"fnamecat \">\n",
       "<a target=\"_blank\" href=\"https://github.com/CLARIAH/wp6-missieven/blob/master/docs/transcription.md\" title=\"~/github/CLARIAH/wp6-missieven/tf/1.0/isfolio.tf\">isfolio</a>\n",
       "</div>\n",
       "<div class=\"fmono\">int</div>\n",
       "\n",
       "<span> a folio reference</span>\n",
       "\n",
       "</div>\n",
       "\n",
       "<div class=\"frow\">\n",
       "    <div class=\"fnamecat \">\n",
       "<a target=\"_blank\" href=\"https://github.com/CLARIAH/wp6-missieven/blob/master/docs/transcription.md\" title=\"~/github/CLARIAH/wp6-missieven/tf/1.0/isnote.tf\">isnote</a>\n",
       "</div>\n",
       "<div class=\"fmono\">int</div>\n",
       "\n",
       "<span> whether a word belongs to footnote text</span>\n",
       "\n",
       "</div>\n",
       "\n",
       "<div class=\"frow\">\n",
       "    <div class=\"fnamecat \">\n",
       "<a target=\"_blank\" href=\"https://github.com/CLARIAH/wp6-missieven/blob/master/docs/transcription.md\" title=\"~/github/CLARIAH/wp6-missieven/tf/1.0/isnum.tf\">isnum</a>\n",
       "</div>\n",
       "<div class=\"fmono\">int</div>\n",
       "\n",
       "<span> whether a word is the numerator in fraction, e.g. 1 in 1/4</span>\n",
       "\n",
       "</div>\n",
       "\n",
       "<div class=\"frow\">\n",
       "    <div class=\"fnamecat \">\n",
       "<a target=\"_blank\" href=\"https://github.com/CLARIAH/wp6-missieven/blob/master/docs/transcription.md\" title=\"~/github/CLARIAH/wp6-missieven/tf/1.0/isorig.tf\">isorig</a>\n",
       "</div>\n",
       "<div class=\"fmono\">int</div>\n",
       "\n",
       "<span> whether a word belongs to original text</span>\n",
       "\n",
       "</div>\n",
       "\n",
       "<div class=\"frow\">\n",
       "    <div class=\"fnamecat \">\n",
       "<a target=\"_blank\" href=\"https://github.com/CLARIAH/wp6-missieven/blob/master/docs/transcription.md\" title=\"~/github/CLARIAH/wp6-missieven/tf/1.0/isq.tf\">isq</a>\n",
       "</div>\n",
       "<div class=\"fmono\">int</div>\n",
       "\n",
       "<span> whether a word is a numerical fraction, e.g. 1/4</span>\n",
       "\n",
       "</div>\n",
       "\n",
       "<div class=\"frow\">\n",
       "    <div class=\"fnamecat \">\n",
       "<a target=\"_blank\" href=\"https://github.com/CLARIAH/wp6-missieven/blob/master/docs/transcription.md\" title=\"~/github/CLARIAH/wp6-missieven/tf/1.0/isref.tf\">isref</a>\n",
       "</div>\n",
       "<div class=\"fmono\">int</div>\n",
       "\n",
       "<span> whether a word belongs to the text of reference</span>\n",
       "\n",
       "</div>\n",
       "\n",
       "<div class=\"frow\">\n",
       "    <div class=\"fnamecat \">\n",
       "<a target=\"_blank\" href=\"https://github.com/CLARIAH/wp6-missieven/blob/master/docs/transcription.md\" title=\"~/github/CLARIAH/wp6-missieven/tf/1.0/isremark.tf\">isremark</a>\n",
       "</div>\n",
       "<div class=\"fmono\">int</div>\n",
       "\n",
       "<span> whether a word belongs to the text of editorial remarks</span>\n",
       "\n",
       "</div>\n",
       "\n",
       "<div class=\"frow\">\n",
       "    <div class=\"fnamecat \">\n",
       "<a target=\"_blank\" href=\"https://github.com/CLARIAH/wp6-missieven/blob/master/docs/transcription.md\" title=\"~/github/CLARIAH/wp6-missieven/tf/1.0/isspecial.tf\">isspecial</a>\n",
       "</div>\n",
       "<div class=\"fmono\">int</div>\n",
       "\n",
       "<span> whether a word has special typography possibly with OCR mistakes as well</span>\n",
       "\n",
       "</div>\n",
       "\n",
       "<div class=\"frow\">\n",
       "    <div class=\"fnamecat \">\n",
       "<a target=\"_blank\" href=\"https://github.com/CLARIAH/wp6-missieven/blob/master/docs/transcription.md\" title=\"~/github/CLARIAH/wp6-missieven/tf/1.0/issub.tf\">issub</a>\n",
       "</div>\n",
       "<div class=\"fmono\">int</div>\n",
       "\n",
       "<span> whether a word has subscript typography possibly indicating the denominator of a fraction</span>\n",
       "\n",
       "</div>\n",
       "\n",
       "<div class=\"frow\">\n",
       "    <div class=\"fnamecat \">\n",
       "<a target=\"_blank\" href=\"https://github.com/CLARIAH/wp6-missieven/blob/master/docs/transcription.md\" title=\"~/github/CLARIAH/wp6-missieven/tf/1.0/issuper.tf\">issuper</a>\n",
       "</div>\n",
       "<div class=\"fmono\">int</div>\n",
       "\n",
       "<span> whether a word has superscript typography possibly indicating the numerator of a fraction</span>\n",
       "\n",
       "</div>\n",
       "\n",
       "<div class=\"frow\">\n",
       "    <div class=\"fnamecat \">\n",
       "<a target=\"_blank\" href=\"https://github.com/CLARIAH/wp6-missieven/blob/master/docs/transcription.md\" title=\"~/github/CLARIAH/wp6-missieven/tf/1.0/isund.tf\">isund</a>\n",
       "</div>\n",
       "<div class=\"fmono\">str</div>\n",
       "\n",
       "<span> whether a word is underlined by typography</span>\n",
       "\n",
       "</div>\n",
       "\n",
       "<div class=\"frow\">\n",
       "    <div class=\"fnamecat \">\n",
       "<a target=\"_blank\" href=\"https://github.com/CLARIAH/wp6-missieven/blob/master/docs/transcription.md\" title=\"~/github/CLARIAH/wp6-missieven/tf/1.0/mark.tf\">mark</a>\n",
       "</div>\n",
       "<div class=\"fmono\">int</div>\n",
       "\n",
       "<span> footnote mark (not necessarily the same as shown on the printed page</span>\n",
       "\n",
       "</div>\n",
       "\n",
       "<div class=\"frow\">\n",
       "    <div class=\"fnamecat \">\n",
       "<a target=\"_blank\" href=\"https://github.com/CLARIAH/wp6-missieven/blob/master/docs/transcription.md\" title=\"~/github/CLARIAH/wp6-missieven/tf/1.0/month.tf\">month</a>\n",
       "</div>\n",
       "<div class=\"fmono\">int</div>\n",
       "\n",
       "<span> month part of the date of the letter</span>\n",
       "\n",
       "</div>\n",
       "\n",
       "<div class=\"frow\">\n",
       "    <div class=\"fnamecat \">\n",
       "<a target=\"_blank\" href=\"https://github.com/CLARIAH/wp6-missieven/blob/master/docs/transcription.md\" title=\"~/github/CLARIAH/wp6-missieven/tf/1.0/n.tf\">n</a>\n",
       "</div>\n",
       "<div class=\"fmono\">int</div>\n",
       "\n",
       "<span> number of a volume, letter, page, para, line, table</span>\n",
       "\n",
       "</div>\n",
       "\n",
       "<div class=\"frow\">\n",
       "    <div class=\"fnamecat \">\n",
       "<a target=\"_blank\" href=\"https://github.com/CLARIAH/wp6-missieven/blob/master/docs/transcription.md\" title=\"~/github/CLARIAH/wp6-missieven/tf/1.0/otype.tf\">otype</a>\n",
       "</div>\n",
       "<div class=\"fmono\">str</div>\n",
       "\n",
       "<span> </span>\n",
       "\n",
       "</div>\n",
       "\n",
       "<div class=\"frow\">\n",
       "    <div class=\"fnamecat \">\n",
       "<a target=\"_blank\" href=\"https://github.com/CLARIAH/wp6-missieven/blob/master/docs/transcription.md\" title=\"~/github/CLARIAH/wp6-missieven/tf/1.0/page.tf\">page</a>\n",
       "</div>\n",
       "<div class=\"fmono\">str</div>\n",
       "\n",
       "<span> number of the first page of this letter in this volume</span>\n",
       "\n",
       "</div>\n",
       "\n",
       "<div class=\"frow\">\n",
       "    <div class=\"fnamecat \">\n",
       "<a target=\"_blank\" href=\"https://github.com/CLARIAH/wp6-missieven/blob/master/docs/transcription.md\" title=\"~/github/CLARIAH/wp6-missieven/tf/1.0/place.tf\">place</a>\n",
       "</div>\n",
       "<div class=\"fmono\">str</div>\n",
       "\n",
       "<span> place from where the letter was sent</span>\n",
       "\n",
       "</div>\n",
       "\n",
       "<div class=\"frow\">\n",
       "    <div class=\"fnamecat \">\n",
       "<a target=\"_blank\" href=\"https://github.com/CLARIAH/wp6-missieven/blob/master/docs/transcription.md\" title=\"~/github/CLARIAH/wp6-missieven/tf/1.0/punc.tf\">punc</a>\n",
       "</div>\n",
       "<div class=\"fmono\">str</div>\n",
       "\n",
       "<span> punctuation and/or whitespace following a wordup to the next word</span>\n",
       "\n",
       "</div>\n",
       "\n",
       "<div class=\"frow\">\n",
       "    <div class=\"fnamecat \">\n",
       "<a target=\"_blank\" href=\"https://github.com/CLARIAH/wp6-missieven/blob/master/docs/transcription.md\" title=\"~/github/CLARIAH/wp6-missieven/tf/1.0/puncn.tf\">puncn</a>\n",
       "</div>\n",
       "<div class=\"fmono\">str</div>\n",
       "\n",
       "<span> punctuation and/or whitespace following a word,up to the next word, footnote text only</span>\n",
       "\n",
       "</div>\n",
       "\n",
       "<div class=\"frow\">\n",
       "    <div class=\"fnamecat \">\n",
       "<a target=\"_blank\" href=\"https://github.com/CLARIAH/wp6-missieven/blob/master/docs/transcription.md\" title=\"~/github/CLARIAH/wp6-missieven/tf/1.0/punco.tf\">punco</a>\n",
       "</div>\n",
       "<div class=\"fmono\">str</div>\n",
       "\n",
       "<span> punctuation and/or whitespace following a word,up to the next word, original text only</span>\n",
       "\n",
       "</div>\n",
       "\n",
       "<div class=\"frow\">\n",
       "    <div class=\"fnamecat \">\n",
       "<a target=\"_blank\" href=\"https://github.com/CLARIAH/wp6-missieven/blob/master/docs/transcription.md\" title=\"~/github/CLARIAH/wp6-missieven/tf/1.0/puncr.tf\">puncr</a>\n",
       "</div>\n",
       "<div class=\"fmono\">str</div>\n",
       "\n",
       "<span> punctuation and/or whitespace following a word,up to the next word, remark text only</span>\n",
       "\n",
       "</div>\n",
       "\n",
       "<div class=\"frow\">\n",
       "    <div class=\"fnamecat \">\n",
       "<a target=\"_blank\" href=\"https://github.com/CLARIAH/wp6-missieven/blob/master/docs/transcription.md\" title=\"~/github/CLARIAH/wp6-missieven/tf/1.0/rawdate.tf\">rawdate</a>\n",
       "</div>\n",
       "<div class=\"fmono\">str</div>\n",
       "\n",
       "<span> the date the letter was sent</span>\n",
       "\n",
       "</div>\n",
       "\n",
       "<div class=\"frow\">\n",
       "    <div class=\"fnamecat \">\n",
       "<a target=\"_blank\" href=\"https://github.com/CLARIAH/wp6-missieven/blob/master/docs/transcription.md\" title=\"~/github/CLARIAH/wp6-missieven/tf/1.0/row.tf\">row</a>\n",
       "</div>\n",
       "<div class=\"fmono\">int</div>\n",
       "\n",
       "<span> row number of a row of column in a table</span>\n",
       "\n",
       "</div>\n",
       "\n",
       "<div class=\"frow\">\n",
       "    <div class=\"fnamecat \">\n",
       "<a target=\"_blank\" href=\"https://github.com/CLARIAH/wp6-missieven/blob/master/docs/transcription.md\" title=\"~/github/CLARIAH/wp6-missieven/tf/1.0/seq.tf\">seq</a>\n",
       "</div>\n",
       "<div class=\"fmono\">str</div>\n",
       "\n",
       "<span> ('sequence number of this letter among the letters of the same author in this volume',)</span>\n",
       "\n",
       "</div>\n",
       "\n",
       "<div class=\"frow\">\n",
       "    <div class=\"fnamecat \">\n",
       "<a target=\"_blank\" href=\"https://github.com/CLARIAH/wp6-missieven/blob/master/docs/transcription.md\" title=\"~/github/CLARIAH/wp6-missieven/tf/1.0/status.tf\">status</a>\n",
       "</div>\n",
       "<div class=\"fmono\">str</div>\n",
       "\n",
       "<span> status of the letter, e.g. secret, copy</span>\n",
       "\n",
       "</div>\n",
       "\n",
       "<div class=\"frow\">\n",
       "    <div class=\"fnamecat \">\n",
       "<a target=\"_blank\" href=\"https://github.com/CLARIAH/wp6-missieven/blob/master/docs/transcription.md\" title=\"~/github/CLARIAH/wp6-missieven/tf/1.0/title.tf\">title</a>\n",
       "</div>\n",
       "<div class=\"fmono\">str</div>\n",
       "\n",
       "<span> title of the letter</span>\n",
       "\n",
       "</div>\n",
       "\n",
       "<div class=\"frow\">\n",
       "    <div class=\"fnamecat \">\n",
       "<a target=\"_blank\" href=\"https://github.com/CLARIAH/wp6-missieven/blob/master/docs/transcription.md\" title=\"~/github/CLARIAH/wp6-missieven/tf/1.0/trans.tf\">trans</a>\n",
       "</div>\n",
       "<div class=\"fmono\">str</div>\n",
       "\n",
       "<span> transcription of a word</span>\n",
       "\n",
       "</div>\n",
       "\n",
       "<div class=\"frow\">\n",
       "    <div class=\"fnamecat \">\n",
       "<a target=\"_blank\" href=\"https://github.com/CLARIAH/wp6-missieven/blob/master/docs/transcription.md\" title=\"~/github/CLARIAH/wp6-missieven/tf/1.0/transn.tf\">transn</a>\n",
       "</div>\n",
       "<div class=\"fmono\">str</div>\n",
       "\n",
       "<span> transcription of a word, only for footnote text</span>\n",
       "\n",
       "</div>\n",
       "\n",
       "<div class=\"frow\">\n",
       "    <div class=\"fnamecat \">\n",
       "<a target=\"_blank\" href=\"https://github.com/CLARIAH/wp6-missieven/blob/master/docs/transcription.md\" title=\"~/github/CLARIAH/wp6-missieven/tf/1.0/transo.tf\">transo</a>\n",
       "</div>\n",
       "<div class=\"fmono\">str</div>\n",
       "\n",
       "<span> transcription of a word, only for original text</span>\n",
       "\n",
       "</div>\n",
       "\n",
       "<div class=\"frow\">\n",
       "    <div class=\"fnamecat \">\n",
       "<a target=\"_blank\" href=\"https://github.com/CLARIAH/wp6-missieven/blob/master/docs/transcription.md\" title=\"~/github/CLARIAH/wp6-missieven/tf/1.0/transr.tf\">transr</a>\n",
       "</div>\n",
       "<div class=\"fmono\">str</div>\n",
       "\n",
       "<span> transcription of a word, only for remark text</span>\n",
       "\n",
       "</div>\n",
       "\n",
       "<div class=\"frow\">\n",
       "    <div class=\"fnamecat \">\n",
       "<a target=\"_blank\" href=\"https://github.com/CLARIAH/wp6-missieven/blob/master/docs/transcription.md\" title=\"~/github/CLARIAH/wp6-missieven/tf/1.0/vol.tf\">vol</a>\n",
       "</div>\n",
       "<div class=\"fmono\">int</div>\n",
       "\n",
       "<span> volume number</span>\n",
       "\n",
       "</div>\n",
       "\n",
       "<div class=\"frow\">\n",
       "    <div class=\"fnamecat \">\n",
       "<a target=\"_blank\" href=\"https://github.com/CLARIAH/wp6-missieven/blob/master/docs/transcription.md\" title=\"~/github/CLARIAH/wp6-missieven/tf/1.0/weblink.tf\">weblink</a>\n",
       "</div>\n",
       "<div class=\"fmono\">str</div>\n",
       "\n",
       "<span> the page-specific part of web links for page nodes</span>\n",
       "\n",
       "</div>\n",
       "\n",
       "<div class=\"frow\">\n",
       "    <div class=\"fnamecat \">\n",
       "<a target=\"_blank\" href=\"https://github.com/CLARIAH/wp6-missieven/blob/master/docs/transcription.md\" title=\"~/github/CLARIAH/wp6-missieven/tf/1.0/x.tf\">x</a>\n",
       "</div>\n",
       "<div class=\"fmono\">int</div>\n",
       "\n",
       "<span> column offset of a column in a row in a table</span>\n",
       "\n",
       "</div>\n",
       "\n",
       "<div class=\"frow\">\n",
       "    <div class=\"fnamecat \">\n",
       "<a target=\"_blank\" href=\"https://github.com/CLARIAH/wp6-missieven/blob/master/docs/transcription.md\" title=\"~/github/CLARIAH/wp6-missieven/tf/1.0/year.tf\">year</a>\n",
       "</div>\n",
       "<div class=\"fmono\">int</div>\n",
       "\n",
       "<span> year part of the date of the letter</span>\n",
       "\n",
       "</div>\n",
       "\n",
       "<div class=\"frow\">\n",
       "    <div class=\"fnamecat edge\">\n",
       "<a target=\"_blank\" href=\"https://github.com/CLARIAH/wp6-missieven/blob/master/docs/transcription.md\" title=\"~/github/CLARIAH/wp6-missieven/tf/1.0/note.tf\">note</a>\n",
       "</div>\n",
       "<div class=\"fmono\">none</div>\n",
       "\n",
       "<span> edge between a word and the footnotes associated with it</span>\n",
       "\n",
       "</div>\n",
       "\n",
       "<div class=\"frow\">\n",
       "    <div class=\"fnamecat edge\">\n",
       "<a target=\"_blank\" href=\"https://github.com/CLARIAH/wp6-missieven/blob/master/docs/transcription.md\" title=\"~/github/CLARIAH/wp6-missieven/tf/1.0/oslots.tf\">oslots</a>\n",
       "</div>\n",
       "<div class=\"fmono\">none</div>\n",
       "\n",
       "<span> </span>\n",
       "\n",
       "</div>\n",
       "\n",
       "    </div>\n",
       "</details>\n"
      ],
      "text/plain": [
       "<IPython.core.display.HTML object>"
      ]
     },
     "metadata": {},
     "output_type": "display_data"
    },
    {
     "data": {
      "text/html": [
       "<style>tr.tf.ltr, td.tf.ltr, th.tf.ltr { text-align: left ! important;}\n",
       "tr.tf.rtl, td.tf.rtl, th.tf.rtl { text-align: right ! important;}\n",
       "@font-face {\n",
       "  font-family: \"Gentium Plus\";\n",
       "  src: local('Gentium Plus'), local('GentiumPlus'),\n",
       "    url('/server/static/fonts/GentiumPlus-R.woff') format('woff'),\n",
       "    url('https://github.com/annotation/text-fabric/blob/master/tf/server/static/fonts/GentiumPlus-R.woff?raw=true') format('woff');\n",
       "}\n",
       "\n",
       "@font-face {\n",
       "  font-family: \"Ezra SIL\";\n",
       "  src: local('Ezra SIL'), local('EzraSIL'),\n",
       "    url('/server/static/fonts/SILEOT.woff') format('woff'),\n",
       "    url('https://github.com/annotation/text-fabric/blob/master/tf/server/static/fonts/SILEOT.woff?raw=true') format('woff');\n",
       "}\n",
       "\n",
       "@font-face {\n",
       "  font-family: \"SBL Hebrew\";\n",
       "  src: local('SBL Hebrew'), local('SBLHebrew'),\n",
       "    url('/server/static/fonts/SBL_Hbrw.woff') format('woff'),\n",
       "    url('https://github.com/annotation/text-fabric/blob/master/tf/server/static/fonts/SBL_Hbrw.woff?raw=true') format('woff');\n",
       "}\n",
       "\n",
       "@font-face {\n",
       "  font-family: \"Estrangelo Edessa\";\n",
       "  src: local('Estrangelo Edessa'), local('EstrangeloEdessa');\n",
       "    url('/server/static/fonts/SyrCOMEdessa.woff') format('woff'),\n",
       "    url('https://github.com/annotation/text-fabric/blob/master/tf/server/static/fonts/SyrCOMEdessa.woff?raw=true') format('woff');\n",
       "}\n",
       "\n",
       "@font-face {\n",
       "  font-family: AmiriQuran;\n",
       "  font-style: normal;\n",
       "  font-weight: 400;\n",
       "  src: local('Amiri Quran'), local('AmiriQuran'),\n",
       "    url('/server/static/fonts/AmiriQuran.woff') format('woff'),\n",
       "    url('https://github.com/annotation/text-fabric/blob/master/tf/server/static/fonts/AmiriQuran.woff?raw=true') format('woff');\n",
       "}\n",
       "\n",
       "@font-face {\n",
       "  font-family: AmiriQuranColored;\n",
       "  font-style: normal;\n",
       "  font-weight: 400;\n",
       "  src: local('Amiri Quran Colored'), local('AmiriQuranColored'),\n",
       "    url('/server/static/fonts/AmiriQuranColored.woff') format('woff'),\n",
       "    url('https://github.com/annotation/text-fabric/blob/master/tf/server/static/fonts/AmiriQuranColored.woff?raw=true') format('woff');\n",
       "}\n",
       "\n",
       "@font-face {\n",
       "  font-family: \"Santakku\";\n",
       "  src: local('Santakku'),\n",
       "    url('/server/static/fonts/Santakku.woff') format('woff'),\n",
       "    url('https://github.com/annotation/text-fabric/blob/master/tf/server/static/fonts/Santakku.woff?raw=true') format('woff');\n",
       "}\n",
       "\n",
       "@font-face {\n",
       "  font-family: \"SantakkuM\";\n",
       "  src: local('SantakkuM'),\n",
       "    url('/server/static/fonts/SantakkuM.woff') format('woff'),\n",
       "    url('https://github.com/annotation/text-fabric/blob/master/tf/server/static/fonts/SantakkuM.woff?raw=true') format('woff');\n",
       "}\n",
       "/* bypassing some classical notebook settings */\n",
       "div#notebook {\n",
       "  line-height: unset;\n",
       "}\n",
       "/* neutral text */\n",
       ".txtn,.txtn a:visited,.txtn a:link {\n",
       "    font-family: sans-serif;\n",
       "    font-size: medium;\n",
       "    direction: ltr;\n",
       "    unicode-bidi: embed;\n",
       "    text-decoration: none;\n",
       "    color: var(--text-color);\n",
       "}\n",
       "/* transcription text */\n",
       ".txtt,.txtt a:visited,.txtt a:link {\n",
       "    font-family: monospace;\n",
       "    font-size: medium;\n",
       "    direction: ltr;\n",
       "    unicode-bidi: embed;\n",
       "    text-decoration: none;\n",
       "    color: var(--text-color);\n",
       "}\n",
       "/* source text */\n",
       ".txto,.txto a:visited,.txto a:link {\n",
       "    font-family: serif;\n",
       "    font-size: medium;\n",
       "    direction: ltr;\n",
       "    unicode-bidi: embed;\n",
       "    text-decoration: none;\n",
       "    color: var(--text-color);\n",
       "}\n",
       "/* phonetic text */\n",
       ".txtp,.txtp a:visited,.txtp a:link {\n",
       "    font-family: Gentium, sans-serif;\n",
       "    font-size: medium;\n",
       "    direction: ltr;\n",
       "    unicode-bidi: embed;\n",
       "    text-decoration: none;\n",
       "    color: var(--text-color);\n",
       "}\n",
       "/* original script text */\n",
       ".txtu,.txtu a:visited,.txtu a:link {\n",
       "    font-family: Gentium, sans-serif;\n",
       "    font-size: medium;\n",
       "    text-decoration: none;\n",
       "    color: var(--text-color);\n",
       "}\n",
       "/* hebrew */\n",
       ".txtu.hbo,.lex.hbo {\n",
       "    font-family: \"Ezra SIL\", \"SBL Hebrew\", sans-serif;\n",
       "    font-size: large;\n",
       "    direction: rtl ! important;\n",
       "    unicode-bidi: embed;\n",
       "}\n",
       "/* syriac */\n",
       ".txtu.syc,.lex.syc {\n",
       "    font-family: \"Estrangelo Edessa\", sans-serif;\n",
       "    font-size: medium;\n",
       "    direction: rtl ! important;\n",
       "    unicode-bidi: embed;\n",
       "}\n",
       "/* neo aramaic */\n",
       ".txtu.cld,.lex.cld {\n",
       "    font-family: \"CharisSIL-R\", sans-serif;\n",
       "    font-size: medium;\n",
       "    direction: ltr ! important;\n",
       "    unicode-bidi: embed;\n",
       "}\n",
       "/* standard arabic */\n",
       ".txtu.ara,.lex.ara {\n",
       "    font-family: \"AmiriQuran\", sans-serif;\n",
       "    font-size: large;\n",
       "    direction: rtl ! important;\n",
       "    unicode-bidi: embed;\n",
       "}\n",
       "/* cuneiform */\n",
       ".txtu.akk,.lex.akk {\n",
       "    font-family: Santakku, sans-serif;\n",
       "    font-size: large;\n",
       "    direction: ltr ! important;\n",
       "    unicode-bidi: embed;\n",
       "}\n",
       "/* greek */\n",
       ".txtu.grc,.lex.grc a:link {\n",
       "    font-family: Gentium, sans-serif;\n",
       "    font-size: medium;\n",
       "    direction: ltr ! important;\n",
       "    unicode-bidi: embed;\n",
       "}\n",
       "a:hover {\n",
       "    text-decoration: underline | important;\n",
       "    color: #0000ff | important;\n",
       "}\n",
       ".ltr {\n",
       "    direction: ltr ! important;\n",
       "    unicode-bidi: embed;\n",
       "}\n",
       ".rtl {\n",
       "    direction: rtl ! important;\n",
       "    unicode-bidi: embed;\n",
       "}\n",
       ".ubd {\n",
       "    unicode-bidi: embed;\n",
       "}\n",
       ".col {\n",
       "   display: inline-block;\n",
       "}\n",
       ".features {\n",
       "    font-family: monospace;\n",
       "    font-size: medium;\n",
       "    font-weight: bold;\n",
       "    color: var(--features);\n",
       "    display: flex;\n",
       "    flex-flow: column nowrap;\n",
       "    justify-content: flex-start;\n",
       "    align-items: flex-start;\n",
       "    align-content: flex-start;\n",
       "    padding: 2px;\n",
       "    margin: 2px;\n",
       "    direction: ltr;\n",
       "    unicode-bidi: embed;\n",
       "    border: var(--meta-width) solid var(--meta-color);\n",
       "    border-radius: var(--meta-width);\n",
       "}\n",
       ".features div,.features span {\n",
       "    padding: 0;\n",
       "    margin: -2px 0;\n",
       "}\n",
       ".features .f {\n",
       "    font-family: sans-serif;\n",
       "    font-size: small;\n",
       "    font-weight: normal;\n",
       "    color: #5555bb;\n",
       "}\n",
       ".features .xft {\n",
       "  color: #000000;\n",
       "  background-color: #eeeeee;\n",
       "  font-size: medium;\n",
       "  margin: 2px 0px;\n",
       "}\n",
       ".features .xft .f {\n",
       "  color: #000000;\n",
       "  background-color: #eeeeee;\n",
       "  font-size: small;\n",
       "  font-weight: normal;\n",
       "}\n",
       ".tfsechead {\n",
       "    font-family: sans-serif;\n",
       "    font-size: small;\n",
       "    font-weight: bold;\n",
       "    color: var(--tfsechead);\n",
       "    unicode-bidi: embed;\n",
       "    text-align: start;\n",
       "}\n",
       ".structure {\n",
       "    font-family: sans-serif;\n",
       "    font-size: small;\n",
       "    font-weight: bold;\n",
       "    color: var(--structure);\n",
       "    unicode-bidi: embed;\n",
       "    text-align: start;\n",
       "}\n",
       ".comments {\n",
       "    display: flex;\n",
       "    justify-content: flex-start;\n",
       "    align-items: flex-start;\n",
       "    align-content: flex-start;\n",
       "    flex-flow: column nowrap;\n",
       "}\n",
       ".nd, a:link.nd {\n",
       "    font-family: sans-serif;\n",
       "    font-size: small;\n",
       "    color: var(--node);\n",
       "    vertical-align: super;\n",
       "    direction: ltr ! important;\n",
       "    unicode-bidi: embed;\n",
       "}\n",
       ".lex {\n",
       "  color: var(--lex-color);;\n",
       "}\n",
       ".children,.children.ltr {\n",
       "    display: flex;\n",
       "    border: 0;\n",
       "    background-color: #ffffff;\n",
       "    justify-content: flex-start;\n",
       "    align-items: flex-start;\n",
       "    align-content: flex-start;\n",
       "}\n",
       ".children.stretch {\n",
       "    align-items: stretch;\n",
       "}\n",
       ".children.hor {\n",
       "    flex-flow: row nowrap;\n",
       "}\n",
       ".children.hor.wrap {\n",
       "    flex-flow: row wrap;\n",
       "}\n",
       ".children.ver {\n",
       "    flex-flow: column nowrap;\n",
       "}\n",
       ".children.ver.wrap {\n",
       "    flex-flow: column wrap;\n",
       "}\n",
       ".contnr {\n",
       "    width: fit-content;\n",
       "    display: flex;\n",
       "    justify-content: flex-start;\n",
       "    align-items: flex-start;\n",
       "    align-content: flex-start;\n",
       "    flex-flow: column nowrap;\n",
       "    background: #ffffff none repeat scroll 0 0;\n",
       "    padding:  10px 2px 2px 2px;\n",
       "    margin: 16px 2px 2px 2px;\n",
       "    border-style: solid;\n",
       "    font-size: small;\n",
       "}\n",
       ".contnr.trm {\n",
       "    background-attachment: local;\n",
       "}\n",
       ".contnr.cnul {\n",
       "    padding:  0;\n",
       "    margin: 0;\n",
       "    border-style: solid;\n",
       "    font-size: xx-small;\n",
       "}\n",
       ".contnr.cnul,.lbl.cnul {\n",
       "    border-color: var(--border-color-nul);\n",
       "    border-width: var(--border-width-nul);\n",
       "    border-radius: var(--border-width-nul);\n",
       "}\n",
       ".contnr.c0,.lbl.c0 {\n",
       "    border-color: var(--border-color0);\n",
       "    border-width: var(--border-width0);\n",
       "    border-radius: var(--border-width0);\n",
       "}\n",
       ".contnr.c1,.lbl.c1 {\n",
       "    border-color: var(--border-color1);\n",
       "    border-width: var(--border-width1);\n",
       "    border-radius: var(--border-width1);\n",
       "}\n",
       ".contnr.c2,.lbl.c2 {\n",
       "    border-color: var(--border-color2);\n",
       "    border-width: var(--border-width2);\n",
       "    border-radius: var(--border-width2);\n",
       "}\n",
       ".contnr.c3,.lbl.c3 {\n",
       "    border-color: var(--border-color3);\n",
       "    border-width: var(--border-width3);\n",
       "    border-radius: var(--border-width3);\n",
       "}\n",
       ".contnr.c4,.lbl.c4 {\n",
       "    border-color: var(--border-color4);\n",
       "    border-width: var(--border-width4);\n",
       "    border-radius: var(--border-width4);\n",
       "}\n",
       "span.plain {\n",
       "    display: inline-block;\n",
       "    white-space: pre-wrap;\n",
       "}\n",
       ".plain {\n",
       "    background-color: #ffffff;\n",
       "}\n",
       ".plain.l,.contnr.l,.contnr.l>.lbl {\n",
       "    border-left-style: dotted\n",
       "}\n",
       ".plain.r,.contnr.r,.contnr.r>.lbl {\n",
       "    border-right-style: dotted\n",
       "}\n",
       ".plain.lno,.contnr.lno,.contnr.lno>.lbl {\n",
       "    border-left-style: none\n",
       "}\n",
       ".plain.rno,.contnr.rno,.contnr.rno>.lbl {\n",
       "    border-right-style: none\n",
       "}\n",
       ".plain.l {\n",
       "    padding-left: 4px;\n",
       "    margin-left: 2px;\n",
       "    border-width: var(--border-width-plain);\n",
       "}\n",
       ".plain.r {\n",
       "    padding-right: 4px;\n",
       "    margin-right: 2px;\n",
       "    border-width: var(--border-width-plain);\n",
       "}\n",
       ".lbl {\n",
       "    font-family: monospace;\n",
       "    margin-top: -24px;\n",
       "    margin-left: 20px;\n",
       "    background: #ffffff none repeat scroll 0 0;\n",
       "    padding: 0 6px;\n",
       "    border-style: solid;\n",
       "    display: block;\n",
       "    color: var(--label)\n",
       "}\n",
       ".lbl.trm {\n",
       "    background-attachment: local;\n",
       "    margin-top: 2px;\n",
       "    margin-left: 2px;\n",
       "    padding: 2px 2px;\n",
       "    border-style: none;\n",
       "}\n",
       ".lbl.cnul {\n",
       "    font-size: xx-small;\n",
       "}\n",
       ".lbl.c0 {\n",
       "    font-size: small;\n",
       "}\n",
       ".lbl.c1 {\n",
       "    font-size: small;\n",
       "}\n",
       ".lbl.c2 {\n",
       "    font-size: medium;\n",
       "}\n",
       ".lbl.c3 {\n",
       "    font-size: medium;\n",
       "}\n",
       ".lbl.c4 {\n",
       "    font-size: large;\n",
       "}\n",
       ".occs, a:link.occs {\n",
       "    font-size: small;\n",
       "}\n",
       "\n",
       "/* PROVENANCE */\n",
       "\n",
       "div.prov {\n",
       "\tmargin: 40px;\n",
       "\tpadding: 20px;\n",
       "\tborder: 2px solid var(--fog-rim);\n",
       "}\n",
       "div.pline {\n",
       "\tdisplay: flex;\n",
       "\tflex-flow: row nowrap;\n",
       "\tjustify-content: stretch;\n",
       "\talign-items: baseline;\n",
       "}\n",
       "div.p2line {\n",
       "\tmargin-left: 2em;\n",
       "\tdisplay: flex;\n",
       "\tflex-flow: row nowrap;\n",
       "\tjustify-content: stretch;\n",
       "\talign-items: baseline;\n",
       "}\n",
       "div.psline {\n",
       "\tdisplay: flex;\n",
       "\tflex-flow: row nowrap;\n",
       "\tjustify-content: stretch;\n",
       "\talign-items: baseline;\n",
       "\tbackground-color: var(--gold-mist-back);\n",
       "}\n",
       "div.pname {\n",
       "\tflex: 0 0 5rem;\n",
       "\tfont-weight: bold;\n",
       "}\n",
       "div.pval {\n",
       "    flex: 1 1 auto;\n",
       "}\n",
       "\n",
       "/* KEYBOARD */\n",
       ".ccoff {\n",
       "  background-color: inherit;\n",
       "}\n",
       ".ccon {\n",
       "  background-color: yellow ! important;\n",
       "}\n",
       ".ccon,.ccoff {\n",
       "  padding-right: 0.1rem;\n",
       "  padding-left: 0.1rem;\n",
       "}\n",
       ".ccline {\n",
       "  font-size: xx-large;\n",
       "  font-weight: bold;\n",
       "}\n",
       "/* TF header */\n",
       "\n",
       "summary {\n",
       "  /* needed to override the normalize.less\n",
       "   * in the classical jupyter notebook\n",
       "   */\n",
       "  display: list-item ! important;\n",
       "}\n",
       "\n",
       ".fcorpus {\n",
       "  display: flex;\n",
       "  flex-flow: column nowrap;\n",
       "  justify-content: flex-start;\n",
       "  align-items: flex-start;\n",
       "  align-content: flex-start;\n",
       "}\n",
       ".frow {\n",
       "  display: flex;\n",
       "  flex-flow: row nowrap;\n",
       "  justify-content: flex-start;\n",
       "  align-items: flex-start;\n",
       "  align-content: flex-start;\n",
       "}\n",
       ".fmeta {\n",
       "  display: flex;\n",
       "  flex-flow: column nowrap;\n",
       "  justify-content: flex-start;\n",
       "  align-items: flex-start;\n",
       "  align-content: flex-start;\n",
       "}\n",
       ".fmetarow {\n",
       "  display: flex;\n",
       "  flex-flow: row nowrap;\n",
       "  justify-content: flex-start;\n",
       "  align-items: flex-start;\n",
       "  align-content: flex-start;\n",
       "}\n",
       ".fmetakey {\n",
       "  min-width: 10rem;\n",
       "  font-family: monospace;\n",
       "}\n",
       ".fnamecat {\n",
       "  min-width: 10rem;\n",
       "}\n",
       ".fnamecat.edge {\n",
       "  font-weight: bold;\n",
       "  font-style: italic;\n",
       "}\n",
       ".fmono {\n",
       "    font-family: monospace;\n",
       "}\n",
       "\n",
       ":root {\n",
       "\t--node:               hsla(120, 100%,  20%, 1.0  );\n",
       "\t--label:              hsla(  0, 100%,  20%, 1.0  );\n",
       "\t--tfsechead:          hsla(  0, 100%,  25%, 1.0  );\n",
       "\t--structure:          hsla(120, 100%,  25%, 1.0  );\n",
       "\t--features:           hsla(  0,   0%,  30%, 1.0  );\n",
       "  --text-color:         hsla( 60,  80%,  10%, 1.0  );\n",
       "  --lex-color:          hsla(220,  90%,  60%, 1.0  );\n",
       "  --meta-color:         hsla(  0,   0%,  90%, 0.7  );\n",
       "  --meta-width:         3px;\n",
       "  --border-color-nul:   hsla(  0,   0%,  90%, 0.5  );\n",
       "  --border-color0:      hsla(  0,   0%,  90%, 0.9  );\n",
       "  --border-color1:      hsla(  0,   0%,  80%, 0.9  );\n",
       "  --border-color2:      hsla(  0,   0%,  70%, 0.9  );\n",
       "  --border-color3:      hsla(  0,   0%,  80%, 0.8  );\n",
       "  --border-color4:      hsla(  0,   0%,  60%, 0.9  );\n",
       "  --border-width-nul:   2px;\n",
       "  --border-width0:      2px;\n",
       "  --border-width1:      3px;\n",
       "  --border-width2:      4px;\n",
       "  --border-width3:      6px;\n",
       "  --border-width4:      5px;\n",
       "  --border-width-plain: 2px;\n",
       "}\n",
       ".hl {\n",
       "  background-color: var(--hl-strong);\n",
       "}\n",
       "span.hl {\n",
       "\tbackground-color: var(--hl-strong);\n",
       "\tborder-width: 0;\n",
       "\tborder-radius: 2px;\n",
       "\tborder-style: solid;\n",
       "}\n",
       "div.contnr.hl,div.lbl.hl {\n",
       "  background-color: var(--hl-strong);\n",
       "}\n",
       "div.contnr.hl {\n",
       "  border-color: var(--hl-rim) ! important;\n",
       "\tborder-width: 4px ! important;\n",
       "}\n",
       "\n",
       "span.hlbx {\n",
       "\tborder-color: var(--hl-rim);\n",
       "\tborder-width: 4px ! important;\n",
       "\tborder-style: solid;\n",
       "\tborder-radius: 6px;\n",
       "  padding: 4px;\n",
       "  margin: 4px;\n",
       "}\n",
       "\n",
       "span.plain {\n",
       "  display: inline-block;\n",
       "  white-space: pre-wrap;\n",
       "}\n",
       "\n",
       ":root {\n",
       "\t--hl-strong:        hsla( 60, 100%,  70%, 0.9  );\n",
       "\t--hl-rim:           hsla( 55,  80%,  50%, 1.0  );\n",
       "}\n",
       ".remark {\n",
       "  font-size: large;\n",
       "  font-style: italic;\n",
       "}\n",
       ".folio {\n",
       "  font-size: small;\n",
       "  color: #668866;\n",
       "}\n",
       ".fmark:after {\n",
       "  font-size: small;\n",
       "  font-weight: bold;\n",
       "  vertical-align: super;\n",
       "  color: #ddaa22;\n",
       "}\n",
       ".note {\n",
       "  vertical-align: super;\n",
       "  font-size: small;\n",
       "  color: #774400;\n",
       "}\n",
       ".ref {\n",
       "  font-size: small;\n",
       "  font-weight: bold;\n",
       "  color: #666688;\n",
       "}\n",
       ".emph {\n",
       "  font-style: italic;\n",
       "}\n",
       ".und {\n",
       "  text-decoration: underline;\n",
       "}\n",
       ".q {\n",
       "  color: #777777;\n",
       "  font-weight: bold;\n",
       "}\n",
       ".num {\n",
       "  font-size: small;\n",
       "  vertical-align: super;\n",
       "}\n",
       ".den {\n",
       "  font-size: small;\n",
       "  vertical-align: sub;\n",
       "}\n",
       ".sub {\n",
       "  vertical-align: sub;\n",
       "}\n",
       ".super {\n",
       "  vertical-align: super;\n",
       "}\n",
       ".special {\n",
       "  font-family: monospace;\n",
       "  font-weight: bold;\n",
       "  color: #886666;\n",
       "}\n",
       "</style>"
      ],
      "text/plain": [
       "<IPython.core.display.HTML object>"
      ]
     },
     "metadata": {},
     "output_type": "display_data"
    },
    {
     "data": {
      "text/html": [
       "\n",
       "<script>\n",
       "const copyChar = (el, c) => {\n",
       "    for (const el of document.getElementsByClassName('ccon')) {\n",
       "        el.className = 'ccoff'\n",
       "    }\n",
       "    el.className = 'ccon'\n",
       "    navigator.clipboard.writeText(String.fromCharCode(c))\n",
       "}\n",
       "</script>\n"
      ],
      "text/plain": [
       "<IPython.core.display.HTML object>"
      ]
     },
     "metadata": {},
     "output_type": "display_data"
    },
    {
     "data": {
      "text/html": [
       "<div><b>Text-Fabric API:</b> names <a target=\"_blank\" href=\"https://annotation.github.io/text-fabric/tf/cheatsheet.html\" title=\"doc\">N F E L T S C TF</a> directly usable</div><hr>"
      ],
      "text/plain": [
       "<IPython.core.display.HTML object>"
      ]
     },
     "metadata": {},
     "output_type": "display_data"
    }
   ],
   "source": [
    "A = use(\"CLARIAH/wp6-missieven:clone\", checkout=\"clone\", silent=\"auto\", hoist=globals())"
   ]
  },
  {
   "cell_type": "code",
   "execution_count": 19,
   "id": "43f913c6-f0ff-45f5-b2fe-0c9f1a14924a",
   "metadata": {},
   "outputs": [
    {
     "name": "stdout",
     "output_type": "stream",
     "text": [
      " 0 6568326 n=1 webPage=14 webLink='/#page=14&source=14_1'\n",
      " 0 6568327 n=2 webPage=15 webLink='/#page=15&source=14_1'\n",
      " 0 6568328 n=3 webPage=16 webLink='/#page=16&source=14_1'\n",
      " 0 6568329 n=4 webPage=17 webLink='/#page=17&source=14_1'\n",
      " 0 6568330 n=5 webPage=18 webLink='/#page=18&source=14_1'\n",
      " 0 6568331 n=6 webPage=19 webLink='/#page=19&source=14_1'\n",
      " 0 6568332 n=7 webPage=20 webLink='/#page=20&source=14_1'\n",
      " 0 6568333 n=8 webPage=21 webLink='/#page=21&source=14_1'\n",
      " 0 6568334 n=9 webPage=22 webLink='/#page=22&source=14_1'\n",
      " 0 6568335 n=10 webPage=23 webLink='/#page=23&source=14_1'\n",
      " 0 6568336 n=11 webPage=24 webLink='/#page=24&source=14_1'\n",
      " 0 6568337 n=12 webPage=25 webLink='/#page=25&source=14_1'\n",
      " 0 6568338 n=13 webPage=26 webLink='/#page=26&source=14_1'\n",
      " 0 6568339 n=14 webPage=27 webLink='/#page=27&source=14_1'\n",
      " 0 6568340 n=15 webPage=28 webLink='/#page=28&source=14_1'\n",
      " 0 6568341 n=16 webPage=29 webLink='/#page=29&source=14_1'\n",
      " 0 6568342 n=17 webPage=30 webLink='/#page=30&source=14_1'\n",
      " 0 6568343 n=18 webPage=31 webLink='/#page=31&source=14_1'\n",
      " 0 6568344 n=19 webPage=32 webLink='/#page=32&source=14_1'\n",
      " 0 6568345 n=20 webPage=33 webLink='/#page=33&source=14_1'\n",
      " 0 6568346 n=21 webPage=34 webLink='/#page=34&source=14_1'\n",
      " 0 6568347 n=22 webPage=35 webLink='/#page=35&source=14_1'\n",
      " 0 6568348 n=23 webPage=36 webLink='/#page=36&source=14_1'\n",
      " 0 6568349 n=24 webPage=37 webLink='/#page=37&source=14_1'\n",
      " 0 6568350 n=25 webPage=38 webLink='/#page=38&source=14_1'\n",
      " 0 6568351 n=26 webPage=39 webLink='/#page=39&source=14_1'\n",
      " 0 6568352 n=27 webPage=40 webLink='/#page=40&source=14_1'\n",
      " 0 6568353 n=28 webPage=41 webLink='/#page=41&source=14_1'\n",
      " 0 6568354 n=29 webPage=42 webLink='/#page=42&source=14_1'\n",
      " 0 6568355 n=30 webPage=43 webLink='/#page=43&source=14_1'\n",
      " 0 6568356 n=31 webPage=44 webLink='/#page=44&source=14_1'\n",
      " 0 6568357 n=33 webPage=46 webLink='/#page=46&source=14_1'\n",
      " 0 6568358 n=34 webPage=47 webLink='/#page=47&source=14_1'\n",
      " 0 6568359 n=35 webPage=48 webLink='/#page=48&source=14_1'\n",
      " 0 6568360 n=36 webPage=49 webLink='/#page=49&source=14_1'\n",
      " 0 6568361 n=37 webPage=50 webLink='/#page=50&source=14_1'\n",
      " 0 6568362 n=38 webPage=51 webLink='/#page=51&source=14_1'\n",
      " 0 6568363 n=39 webPage=52 webLink='/#page=52&source=14_1'\n",
      " 0 6568364 n=40 webPage=53 webLink='/#page=53&source=14_1'\n",
      " 0 6568365 n=41 webPage=54 webLink='/#page=54&source=14_1'\n",
      " 0 6568366 n=42 webPage=55 webLink='/#page=55&source=14_1'\n",
      " 0 6568367 n=43 webPage=56 webLink='/#page=56&source=14_1'\n",
      " 0 6568368 n=44 webPage=57 webLink='/#page=57&source=14_1'\n",
      " 0 6568369 n=45 webPage=58 webLink='/#page=58&source=14_1'\n",
      " 0 6568370 n=46 webPage=59 webLink='/#page=59&source=14_1'\n",
      " 0 6568371 n=47 webPage=60 webLink='/#page=60&source=14_1'\n",
      " 0 6568372 n=48 webPage=61 webLink='/#page=61&source=14_1'\n",
      " 0 6568373 n=49 webPage=62 webLink='/#page=62&source=14_1'\n",
      " 0 6568374 n=50 webPage=63 webLink='/#page=63&source=14_1'\n",
      " 0 6568375 n=51 webPage=64 webLink='/#page=64&source=14_1'\n",
      " 0 6568376 n=52 webPage=65 webLink='/#page=65&source=14_1'\n",
      " 0 6568377 n=53 webPage=66 webLink='/#page=66&source=14_1'\n",
      " 0 6568378 n=54 webPage=67 webLink='/#page=67&source=14_1'\n",
      " 0 6568379 n=55 webPage=68 webLink='/#page=68&source=14_1'\n",
      " 0 6568380 n=56 webPage=69 webLink='/#page=69&source=14_1'\n",
      " 0 6568381 n=57 webPage=70 webLink='/#page=70&source=14_1'\n",
      " 0 6568382 n=58 webPage=71 webLink='/#page=71&source=14_1'\n",
      " 0 6568383 n=59 webPage=72 webLink='/#page=72&source=14_1'\n",
      " 0 6568384 n=60 webPage=73 webLink='/#page=73&source=14_1'\n",
      " 0 6568385 n=61 webPage=74 webLink='/#page=74&source=14_1'\n",
      " 0 6568386 n=62 webPage=75 webLink='/#page=75&source=14_1'\n",
      " 0 6568387 n=63 webPage=76 webLink='/#page=76&source=14_1'\n",
      " 0 6568388 n=64 webPage=77 webLink='/#page=77&source=14_1'\n",
      " 0 6568389 n=65 webPage=78 webLink='/#page=78&source=14_1'\n",
      " 0 6568390 n=66 webPage=79 webLink='/#page=79&source=14_1'\n",
      " 0 6568391 n=67 webPage=80 webLink='/#page=80&source=14_1'\n",
      " 0 6568392 n=68 webPage=81 webLink='/#page=81&source=14_1'\n",
      " 0 6568393 n=69 webPage=82 webLink='/#page=82&source=14_1'\n",
      " 0 6568394 n=70 webPage=83 webLink='/#page=83&source=14_1'\n",
      " 0 6568395 n=71 webPage=84 webLink='/#page=84&source=14_1'\n",
      " 0 6568396 n=72 webPage=85 webLink='/#page=85&source=14_1'\n",
      " 0 6568397 n=73 webPage=86 webLink='/#page=86&source=14_1'\n",
      " 0 6568398 n=74 webPage=87 webLink='/#page=87&source=14_1'\n",
      " 0 6568399 n=75 webPage=88 webLink='/#page=88&source=14_1'\n",
      " 0 6568400 n=76 webPage=89 webLink='/#page=89&source=14_1'\n",
      " 0 6568401 n=77 webPage=90 webLink='/#page=90&source=14_1'\n",
      " 0 6568402 n=78 webPage=91 webLink='/#page=91&source=14_1'\n",
      " 0 6568403 n=79 webPage=92 webLink='/#page=92&source=14_1'\n",
      " 0 6568404 n=80 webPage=93 webLink='/#page=93&source=14_1'\n",
      " 0 6568405 n=81 webPage=94 webLink='/#page=94&source=14_1'\n",
      " 0 6568406 n=82 webPage=95 webLink='/#page=95&source=14_1'\n",
      " 0 6568407 n=83 webPage=96 webLink='/#page=96&source=14_1'\n",
      " 0 6568408 n=84 webPage=97 webLink='/#page=97&source=14_1'\n",
      " 0 6568409 n=85 webPage=98 webLink='/#page=98&source=14_1'\n",
      " 0 6568410 n=86 webPage=99 webLink='/#page=99&source=14_1'\n",
      " 0 6568411 n=87 webPage=100 webLink='/#page=100&source=14_1'\n",
      " 0 6568412 n=88 webPage=101 webLink='/#page=101&source=14_1'\n",
      " 0 6568413 n=89 webPage=102 webLink='/#page=102&source=14_1'\n",
      " 0 6568414 n=90 webPage=103 webLink='/#page=103&source=14_1'\n",
      " 0 6568415 n=91 webPage=104 webLink='/#page=104&source=14_1'\n",
      " 0 6568416 n=92 webPage=105 webLink='/#page=105&source=14_1'\n",
      " 0 6568417 n=93 webPage=106 webLink='/#page=106&source=14_1'\n",
      " 0 6568418 n=94 webPage=107 webLink='/#page=107&source=14_1'\n",
      " 0 6568419 n=95 webPage=108 webLink='/#page=108&source=14_1'\n",
      " 0 6568420 n=96 webPage=109 webLink='/#page=109&source=14_1'\n",
      " 0 6568421 n=97 webPage=110 webLink='/#page=110&source=14_1'\n",
      " 0 6568422 n=98 webPage=111 webLink='/#page=111&source=14_1'\n",
      " 0 6568423 n=99 webPage=112 webLink='/#page=112&source=14_1'\n",
      " 0 6568424 n=100 webPage=113 webLink='/#page=113&source=14_1'\n",
      " 0 6568425 n=101 webPage=114 webLink='/#page=114&source=14_1'\n",
      " 0 6568426 n=102 webPage=115 webLink='/#page=115&source=14_1'\n",
      " 0 6568427 n=103 webPage=116 webLink='/#page=116&source=14_1'\n",
      " 0 6568428 n=104 webPage=117 webLink='/#page=117&source=14_1'\n",
      " 0 6568429 n=105 webPage=118 webLink='/#page=118&source=14_1'\n",
      " 0 6568430 n=106 webPage=119 webLink='/#page=119&source=14_1'\n",
      " 0 6568431 n=107 webPage=120 webLink='/#page=120&source=14_1'\n",
      " 0 6568432 n=108 webPage=121 webLink='/#page=121&source=14_1'\n",
      " 0 6568433 n=109 webPage=122 webLink='/#page=122&source=14_1'\n",
      " 0 6568434 n=110 webPage=123 webLink='/#page=123&source=14_1'\n",
      " 0 6568435 n=111 webPage=124 webLink='/#page=124&source=14_1'\n",
      " 0 6568436 n=112 webPage=125 webLink='/#page=125&source=14_1'\n",
      " 0 6568437 n=113 webPage=126 webLink='/#page=126&source=14_1'\n",
      " 0 6568438 n=114 webPage=127 webLink='/#page=127&source=14_1'\n",
      " 0 6568439 n=115 webPage=128 webLink='/#page=128&source=14_1'\n",
      " 0 6568440 n=116 webPage=129 webLink='/#page=129&source=14_1'\n",
      " 0 6568441 n=117 webPage=130 webLink='/#page=130&source=14_1'\n",
      " 0 6568442 n=118 webPage=131 webLink='/#page=131&source=14_1'\n",
      " 0 6568443 n=119 webPage=132 webLink='/#page=132&source=14_1'\n",
      " 0 6568444 n=120 webPage=133 webLink='/#page=133&source=14_1'\n",
      " 0 6568445 n=121 webPage=134 webLink='/#page=134&source=14_1'\n",
      " 0 6568446 n=122 webPage=135 webLink='/#page=135&source=14_1'\n",
      " 0 6568447 n=123 webPage=136 webLink='/#page=136&source=14_1'\n",
      " 0 6568448 n=124 webPage=137 webLink='/#page=137&source=14_1'\n",
      " 0 6568449 n=125 webPage=138 webLink='/#page=138&source=14_1'\n",
      " 0 6568450 n=126 webPage=139 webLink='/#page=139&source=14_1'\n",
      " 0 6568451 n=127 webPage=140 webLink='/#page=140&source=14_1'\n",
      " 0 6568452 n=128 webPage=141 webLink='/#page=141&source=14_1'\n",
      " 0 6568453 n=129 webPage=142 webLink='/#page=142&source=14_1'\n",
      " 0 6568454 n=130 webPage=143 webLink='/#page=143&source=14_1'\n",
      " 0 6568455 n=131 webPage=144 webLink='/#page=144&source=14_1'\n",
      " 0 6568456 n=132 webPage=145 webLink='/#page=145&source=14_1'\n",
      " 0 6568457 n=133 webPage=146 webLink='/#page=146&source=14_1'\n",
      " 0 6568458 n=134 webPage=147 webLink='/#page=147&source=14_1'\n",
      " 0 6568459 n=135 webPage=148 webLink='/#page=148&source=14_1'\n",
      " 0 6568460 n=136 webPage=149 webLink='/#page=149&source=14_1'\n",
      " 0 6568461 n=137 webPage=150 webLink='/#page=150&source=14_1'\n",
      " 0 6568462 n=138 webPage=151 webLink='/#page=151&source=14_1'\n",
      " 0 6568463 n=139 webPage=152 webLink='/#page=152&source=14_1'\n",
      " 0 6568464 n=140 webPage=153 webLink='/#page=153&source=14_1'\n",
      " 0 6568465 n=141 webPage=154 webLink='/#page=154&source=14_1'\n",
      " 0 6568466 n=142 webPage=155 webLink='/#page=155&source=14_1'\n",
      " 0 6568467 n=143 webPage=156 webLink='/#page=156&source=14_1'\n",
      " 0 6568468 n=144 webPage=157 webLink='/#page=157&source=14_1'\n",
      " 0 6568469 n=145 webPage=158 webLink='/#page=158&source=14_1'\n",
      " 0 6568470 n=146 webPage=159 webLink='/#page=159&source=14_1'\n",
      " 0 6568471 n=147 webPage=160 webLink='/#page=160&source=14_1'\n",
      " 0 6568472 n=149 webPage=162 webLink='/#page=162&source=14_1'\n",
      " 0 6568473 n=150 webPage=163 webLink='/#page=163&source=14_1'\n",
      " 0 6568474 n=151 webPage=164 webLink='/#page=164&source=14_1'\n",
      " 0 6568475 n=152 webPage=165 webLink='/#page=165&source=14_1'\n",
      " 0 6568476 n=153 webPage=166 webLink='/#page=166&source=14_1'\n",
      " 0 6568477 n=154 webPage=167 webLink='/#page=167&source=14_1'\n",
      " 0 6568478 n=155 webPage=168 webLink='/#page=168&source=14_1'\n",
      " 0 6568479 n=156 webPage=169 webLink='/#page=169&source=14_1'\n",
      " 0 6568480 n=157 webPage=170 webLink='/#page=170&source=14_1'\n",
      " 0 6568481 n=158 webPage=171 webLink='/#page=171&source=14_1'\n",
      " 0 6568482 n=159 webPage=172 webLink='/#page=172&source=14_1'\n",
      " 0 6568483 n=161 webPage=174 webLink='/#page=174&source=14_1'\n",
      " 0 6568484 n=162 webPage=175 webLink='/#page=175&source=14_1'\n",
      " 0 6568485 n=163 webPage=176 webLink='/#page=176&source=14_1'\n",
      " 0 6568486 n=164 webPage=177 webLink='/#page=177&source=14_1'\n",
      " 0 6568487 n=165 webPage=178 webLink='/#page=178&source=14_1'\n",
      " 0 6568488 n=166 webPage=179 webLink='/#page=179&source=14_1'\n",
      " 0 6568489 n=167 webPage=180 webLink='/#page=180&source=14_1'\n",
      " 0 6568490 n=168 webPage=181 webLink='/#page=181&source=14_1'\n",
      " 0 6568491 n=169 webPage=182 webLink='/#page=182&source=14_1'\n",
      " 0 6568492 n=170 webPage=183 webLink='/#page=183&source=14_1'\n",
      " 0 6568493 n=171 webPage=184 webLink='/#page=184&source=14_1'\n",
      " 0 6568494 n=172 webPage=185 webLink='/#page=185&source=14_1'\n",
      " 0 6568495 n=173 webPage=186 webLink='/#page=186&source=14_1'\n",
      " 0 6568496 n=174 webPage=187 webLink='/#page=187&source=14_1'\n",
      " 0 6568497 n=175 webPage=188 webLink='/#page=188&source=14_1'\n",
      " 0 6568498 n=176 webPage=189 webLink='/#page=189&source=14_1'\n",
      " 0 6568499 n=177 webPage=190 webLink='/#page=190&source=14_1'\n",
      " 0 6568500 n=178 webPage=191 webLink='/#page=191&source=14_1'\n",
      " 0 6568501 n=179 webPage=192 webLink='/#page=192&source=14_1'\n",
      " 0 6568502 n=180 webPage=193 webLink='/#page=193&source=14_1'\n",
      " 0 6568503 n=181 webPage=194 webLink='/#page=194&source=14_1'\n",
      " 0 6568504 n=182 webPage=195 webLink='/#page=195&source=14_1'\n",
      " 0 6568505 n=183 webPage=196 webLink='/#page=196&source=14_1'\n",
      " 0 6568506 n=184 webPage=197 webLink='/#page=197&source=14_1'\n",
      " 0 6568507 n=185 webPage=198 webLink='/#page=198&source=14_1'\n",
      " 0 6568508 n=186 webPage=199 webLink='/#page=199&source=14_1'\n",
      " 0 6568509 n=187 webPage=200 webLink='/#page=200&source=14_1'\n",
      " 0 6568510 n=188 webPage=201 webLink='/#page=201&source=14_1'\n",
      " 0 6568511 n=189 webPage=202 webLink='/#page=202&source=14_1'\n",
      " 0 6568512 n=191 webPage=204 webLink='/#page=204&source=14_1'\n",
      " 0 6568513 n=192 webPage=205 webLink='/#page=205&source=14_1'\n",
      " 0 6568514 n=193 webPage=206 webLink='/#page=206&source=14_1'\n",
      " 0 6568515 n=194 webPage=207 webLink='/#page=207&source=14_1'\n",
      " 0 6568516 n=195 webPage=208 webLink='/#page=208&source=14_1'\n",
      " 0 6568517 n=196 webPage=209 webLink='/#page=209&source=14_1'\n",
      " 0 6568518 n=197 webPage=210 webLink='/#page=210&source=14_1'\n",
      " 0 6568519 n=198 webPage=211 webLink='/#page=211&source=14_1'\n",
      " 0 6568520 n=199 webPage=212 webLink='/#page=212&source=14_1'\n",
      " 0 6568521 n=200 webPage=213 webLink='/#page=213&source=14_1'\n",
      " 0 6568522 n=201 webPage=214 webLink='/#page=214&source=14_1'\n",
      " 0 6568523 n=202 webPage=215 webLink='/#page=215&source=14_1'\n",
      " 0 6568524 n=203 webPage=216 webLink='/#page=216&source=14_1'\n",
      " 0 6568525 n=204 webPage=217 webLink='/#page=217&source=14_1'\n",
      " 0 6568526 n=205 webPage=218 webLink='/#page=218&source=14_1'\n",
      " 0 6568527 n=206 webPage=219 webLink='/#page=219&source=14_1'\n",
      " 0 6568528 n=207 webPage=220 webLink='/#page=220&source=14_1'\n",
      " 0 6568529 n=208 webPage=221 webLink='/#page=221&source=14_1'\n",
      " 0 6568530 n=209 webPage=222 webLink='/#page=222&source=14_1'\n",
      " 0 6568531 n=210 webPage=223 webLink='/#page=223&source=14_1'\n",
      " 0 6568532 n=211 webPage=224 webLink='/#page=224&source=14_1'\n",
      " 0 6568533 n=212 webPage=225 webLink='/#page=225&source=14_1'\n",
      " 0 6568534 n=213 webPage=226 webLink='/#page=226&source=14_1'\n",
      " 0 6568535 n=214 webPage=227 webLink='/#page=227&source=14_1'\n",
      " 0 6568536 n=215 webPage=228 webLink='/#page=228&source=14_1'\n",
      " 0 6568537 n=216 webPage=229 webLink='/#page=229&source=14_1'\n",
      " 0 6568538 n=217 webPage=230 webLink='/#page=230&source=14_1'\n",
      " 0 6568539 n=218 webPage=231 webLink='/#page=231&source=14_1'\n",
      " 0 6568540 n=219 webPage=232 webLink='/#page=232&source=14_1'\n",
      " 0 6568541 n=220 webPage=233 webLink='/#page=233&source=14_1'\n",
      " 0 6568542 n=221 webPage=234 webLink='/#page=234&source=14_1'\n",
      " 0 6568543 n=222 webPage=235 webLink='/#page=235&source=14_1'\n",
      " 0 6568544 n=223 webPage=236 webLink='/#page=236&source=14_1'\n",
      " 0 6568545 n=224 webPage=237 webLink='/#page=237&source=14_1'\n",
      " 0 6568546 n=225 webPage=238 webLink='/#page=238&source=14_1'\n",
      " 0 6568547 n=226 webPage=239 webLink='/#page=239&source=14_1'\n",
      " 0 6568548 n=227 webPage=240 webLink='/#page=240&source=14_1'\n",
      " 0 6568549 n=228 webPage=241 webLink='/#page=241&source=14_1'\n",
      " 0 6568550 n=229 webPage=242 webLink='/#page=242&source=14_1'\n",
      " 0 6568551 n=230 webPage=243 webLink='/#page=243&source=14_1'\n",
      " 0 6568552 n=231 webPage=244 webLink='/#page=244&source=14_1'\n",
      " 0 6568553 n=232 webPage=245 webLink='/#page=245&source=14_1'\n",
      " 0 6568554 n=233 webPage=246 webLink='/#page=246&source=14_1'\n",
      " 0 6568555 n=234 webPage=247 webLink='/#page=247&source=14_1'\n",
      " 0 6568556 n=235 webPage=248 webLink='/#page=248&source=14_1'\n",
      " 0 6568557 n=236 webPage=249 webLink='/#page=249&source=14_1'\n",
      " 0 6568558 n=237 webPage=250 webLink='/#page=250&source=14_1'\n",
      " 0 6568559 n=238 webPage=251 webLink='/#page=251&source=14_1'\n",
      " 0 6568560 n=239 webPage=252 webLink='/#page=252&source=14_1'\n",
      " 0 6568561 n=240 webPage=253 webLink='/#page=253&source=14_1'\n",
      " 0 6568562 n=241 webPage=254 webLink='/#page=254&source=14_1'\n",
      " 0 6568563 n=242 webPage=255 webLink='/#page=255&source=14_1'\n",
      " 0 6568564 n=243 webPage=256 webLink='/#page=256&source=14_1'\n",
      " 0 6568565 n=244 webPage=257 webLink='/#page=257&source=14_1'\n",
      " 0 6568566 n=245 webPage=258 webLink='/#page=258&source=14_1'\n",
      " 0 6568567 n=246 webPage=259 webLink='/#page=259&source=14_1'\n",
      " 0 6568568 n=247 webPage=260 webLink='/#page=260&source=14_1'\n",
      " 0 6568569 n=248 webPage=261 webLink='/#page=261&source=14_1'\n",
      " 0 6568570 n=249 webPage=262 webLink='/#page=262&source=14_1'\n",
      " 0 6568571 n=250 webPage=263 webLink='/#page=263&source=14_1'\n",
      " 0 6568572 n=251 webPage=264 webLink='/#page=264&source=14_1'\n",
      " 0 6568573 n=252 webPage=265 webLink='/#page=265&source=14_1'\n",
      " 0 6568574 n=253 webPage=266 webLink='/#page=266&source=14_1'\n",
      " 0 6568575 n=254 webPage=267 webLink='/#page=267&source=14_1'\n",
      " 0 6568576 n=255 webPage=268 webLink='/#page=268&source=14_1'\n",
      " 0 6568577 n=256 webPage=269 webLink='/#page=269&source=14_1'\n",
      " 0 6568578 n=257 webPage=270 webLink='/#page=270&source=14_1'\n",
      " 0 6568579 n=258 webPage=271 webLink='/#page=271&source=14_1'\n",
      " 0 6568580 n=259 webPage=272 webLink='/#page=272&source=14_1'\n",
      " 0 6568581 n=260 webPage=273 webLink='/#page=273&source=14_1'\n",
      " 0 6568582 n=261 webPage=274 webLink='/#page=274&source=14_1'\n",
      " 0 6568583 n=262 webPage=275 webLink='/#page=275&source=14_1'\n",
      " 0 6568584 n=263 webPage=276 webLink='/#page=276&source=14_1'\n",
      " 0 6568585 n=264 webPage=277 webLink='/#page=277&source=14_1'\n",
      " 0 6568586 n=265 webPage=278 webLink='/#page=278&source=14_1'\n",
      " 0 6568587 n=266 webPage=279 webLink='/#page=279&source=14_1'\n",
      " 0 6568588 n=267 webPage=280 webLink='/#page=280&source=14_1'\n",
      " 0 6568589 n=268 webPage=281 webLink='/#page=281&source=14_1'\n",
      " 0 6568590 n=269 webPage=282 webLink='/#page=282&source=14_1'\n",
      " 0 6568591 n=270 webPage=283 webLink='/#page=283&source=14_1'\n",
      " 0 6568592 n=271 webPage=284 webLink='/#page=284&source=14_1'\n",
      " 0 6568593 n=272 webPage=285 webLink='/#page=285&source=14_1'\n",
      " 0 6568594 n=273 webPage=286 webLink='/#page=286&source=14_1'\n",
      " 0 6568595 n=274 webPage=287 webLink='/#page=287&source=14_1'\n",
      " 0 6568596 n=275 webPage=288 webLink='/#page=288&source=14_1'\n",
      " 0 6568597 n=276 webPage=289 webLink='/#page=289&source=14_1'\n",
      " 0 6568598 n=277 webPage=290 webLink='/#page=290&source=14_1'\n",
      " 0 6568599 n=278 webPage=291 webLink='/#page=291&source=14_1'\n",
      " 0 6568600 n=279 webPage=292 webLink='/#page=292&source=14_1'\n",
      " 0 6568601 n=280 webPage=293 webLink='/#page=293&source=14_1'\n",
      " 0 6568602 n=281 webPage=294 webLink='/#page=294&source=14_1'\n",
      " 0 6568603 n=282 webPage=295 webLink='/#page=295&source=14_1'\n",
      " 0 6568604 n=283 webPage=296 webLink='/#page=296&source=14_1'\n",
      " 0 6568605 n=284 webPage=297 webLink='/#page=297&source=14_1'\n",
      " 0 6568606 n=285 webPage=298 webLink='/#page=298&source=14_1'\n",
      " 0 6568607 n=286 webPage=299 webLink='/#page=299&source=14_1'\n",
      " 0 6568608 n=287 webPage=300 webLink='/#page=300&source=14_1'\n",
      " 0 6568609 n=288 webPage=301 webLink='/#page=301&source=14_1'\n",
      " 0 6568610 n=289 webPage=302 webLink='/#page=302&source=14_1'\n",
      " 0 6568611 n=290 webPage=303 webLink='/#page=303&source=14_1'\n",
      " 0 6568612 n=291 webPage=304 webLink='/#page=304&source=14_1'\n",
      " 0 6568613 n=292 webPage=305 webLink='/#page=305&source=14_1'\n",
      " 0 6568614 n=293 webPage=306 webLink='/#page=306&source=14_1'\n",
      " 0 6568615 n=294 webPage=307 webLink='/#page=307&source=14_1'\n",
      " 0 6568616 n=295 webPage=308 webLink='/#page=308&source=14_1'\n",
      " 0 6568617 n=296 webPage=309 webLink='/#page=309&source=14_1'\n",
      " 0 6568618 n=297 webPage=310 webLink='/#page=310&source=14_1'\n",
      " 0 6568619 n=298 webPage=311 webLink='/#page=311&source=14_1'\n",
      " 0 6568620 n=299 webPage=312 webLink='/#page=312&source=14_1'\n",
      " 0 6568621 n=301 webPage=314 webLink='/#page=314&source=14_1'\n",
      " 0 6568622 n=302 webPage=315 webLink='/#page=315&source=14_1'\n",
      " 0 6568623 n=303 webPage=316 webLink='/#page=316&source=14_1'\n",
      " 0 6568624 n=304 webPage=317 webLink='/#page=317&source=14_1'\n",
      " 0 6568625 n=305 webPage=318 webLink='/#page=318&source=14_1'\n",
      " 0 6568626 n=306 webPage=319 webLink='/#page=319&source=14_1'\n",
      " 0 6568627 n=307 webPage=320 webLink='/#page=320&source=14_1'\n",
      " 0 6568628 n=308 webPage=321 webLink='/#page=321&source=14_1'\n",
      " 0 6568629 n=309 webPage=322 webLink='/#page=322&source=14_1'\n",
      " 0 6568630 n=310 webPage=323 webLink='/#page=323&source=14_1'\n",
      " 0 6568631 n=311 webPage=324 webLink='/#page=324&source=14_1'\n",
      " 0 6568632 n=312 webPage=325 webLink='/#page=325&source=14_1'\n",
      " 0 6568633 n=313 webPage=326 webLink='/#page=326&source=14_1'\n",
      " 0 6568634 n=315 webPage=328 webLink='/#page=328&source=14_1'\n",
      " 0 6568635 n=316 webPage=329 webLink='/#page=329&source=14_1'\n",
      " 0 6568636 n=317 webPage=330 webLink='/#page=330&source=14_1'\n",
      " 0 6568637 n=318 webPage=331 webLink='/#page=331&source=14_1'\n",
      " 0 6568638 n=319 webPage=332 webLink='/#page=332&source=14_1'\n",
      " 0 6568639 n=320 webPage=333 webLink='/#page=333&source=14_1'\n",
      " 0 6568640 n=321 webPage=334 webLink='/#page=334&source=14_1'\n",
      " 0 6568641 n=322 webPage=335 webLink='/#page=335&source=14_1'\n",
      " 0 6568642 n=323 webPage=336 webLink='/#page=336&source=14_1'\n",
      " 0 6568643 n=324 webPage=337 webLink='/#page=337&source=14_1'\n",
      " 0 6568644 n=325 webPage=338 webLink='/#page=338&source=14_1'\n",
      " 0 6568645 n=326 webPage=339 webLink='/#page=339&source=14_1'\n",
      " 0 6568646 n=327 webPage=340 webLink='/#page=340&source=14_1'\n",
      " 0 6568647 n=328 webPage=341 webLink='/#page=341&source=14_1'\n",
      " 0 6568648 n=329 webPage=342 webLink='/#page=342&source=14_1'\n",
      " 0 6568649 n=330 webPage=343 webLink='/#page=343&source=14_1'\n",
      " 0 6568650 n=331 webPage=344 webLink='/#page=344&source=14_1'\n",
      " 0 6568651 n=332 webPage=345 webLink='/#page=345&source=14_1'\n",
      " 0 6568652 n=333 webPage=346 webLink='/#page=346&source=14_1'\n",
      " 0 6568653 n=334 webPage=347 webLink='/#page=347&source=14_1'\n",
      " 0 6568654 n=335 webPage=348 webLink='/#page=348&source=14_1'\n",
      " 0 6568655 n=336 webPage=349 webLink='/#page=349&source=14_1'\n",
      " 0 6568656 n=337 webPage=350 webLink='/#page=350&source=14_1'\n",
      " 0 6568657 n=338 webPage=351 webLink='/#page=351&source=14_1'\n",
      " 0 6568658 n=339 webPage=352 webLink='/#page=352&source=14_1'\n",
      " 0 6568659 n=340 webPage=353 webLink='/#page=353&source=14_1'\n",
      " 0 6568660 n=341 webPage=354 webLink='/#page=354&source=14_1'\n",
      " 0 6568661 n=342 webPage=355 webLink='/#page=355&source=14_1'\n",
      " 0 6568662 n=343 webPage=356 webLink='/#page=356&source=14_1'\n",
      " 0 6568663 n=344 webPage=357 webLink='/#page=357&source=14_1'\n",
      " 0 6568664 n=345 webPage=358 webLink='/#page=358&source=14_1'\n",
      " 0 6568665 n=346 webPage=359 webLink='/#page=359&source=14_1'\n",
      " 0 6568666 n=347 webPage=360 webLink='/#page=360&source=14_1'\n",
      " 0 6568667 n=348 webPage=361 webLink='/#page=361&source=14_1'\n",
      " 0 6568668 n=349 webPage=362 webLink='/#page=362&source=14_1'\n",
      " 0 6568669 n=350 webPage=363 webLink='/#page=363&source=14_1'\n",
      " 0 6568670 n=351 webPage=364 webLink='/#page=364&source=14_1'\n",
      " 0 6568671 n=352 webPage=365 webLink='/#page=365&source=14_1'\n",
      " 0 6568672 n=353 webPage=366 webLink='/#page=366&source=14_1'\n",
      " 0 6568673 n=354 webPage=367 webLink='/#page=367&source=14_1'\n",
      " 0 6568674 n=355 webPage=368 webLink='/#page=368&source=14_1'\n",
      " 0 6568675 n=356 webPage=369 webLink='/#page=369&source=14_1'\n",
      " 0 6568676 n=357 webPage=370 webLink='/#page=370&source=14_1'\n",
      " 0 6568677 n=358 webPage=371 webLink='/#page=371&source=14_1'\n",
      " 0 6568678 n=359 webPage=372 webLink='/#page=372&source=14_1'\n",
      " 0 6568679 n=360 webPage=373 webLink='/#page=373&source=14_1'\n",
      " 0 6568680 n=361 webPage=374 webLink='/#page=374&source=14_1'\n",
      " 0 6568681 n=362 webPage=375 webLink='/#page=375&source=14_1'\n",
      " 0 6568682 n=363 webPage=376 webLink='/#page=376&source=14_1'\n",
      " 0 6568683 n=364 webPage=377 webLink='/#page=377&source=14_1'\n",
      " 0 6568684 n=365 webPage=378 webLink='/#page=378&source=14_1'\n",
      " 0 6568685 n=366 webPage=379 webLink='/#page=379&source=14_1'\n",
      " 0 6568686 n=367 webPage=380 webLink='/#page=380&source=14_1'\n",
      " 0 6568687 n=368 webPage=381 webLink='/#page=381&source=14_1'\n",
      " 0 6568688 n=369 webPage=382 webLink='/#page=382&source=14_1'\n",
      " 0 6568689 n=370 webPage=383 webLink='/#page=383&source=14_1'\n",
      " 0 6568690 n=371 webPage=384 webLink='/#page=384&source=14_1'\n",
      " 0 6568691 n=372 webPage=385 webLink='/#page=385&source=14_1'\n",
      " 0 6568692 n=373 webPage=386 webLink='/#page=386&source=14_1'\n",
      " 0 6568693 n=374 webPage=387 webLink='/#page=387&source=14_1'\n",
      " 0 6568694 n=375 webPage=388 webLink='/#page=388&source=14_1'\n",
      " 0 6568695 n=376 webPage=389 webLink='/#page=389&source=14_1'\n",
      " 0 6568696 n=377 webPage=390 webLink='/#page=390&source=14_1'\n",
      " 0 6568697 n=378 webPage=391 webLink='/#page=391&source=14_1'\n",
      " 0 6568698 n=379 webPage=392 webLink='/#page=392&source=14_1'\n",
      " 0 6568699 n=380 webPage=393 webLink='/#page=393&source=14_1'\n",
      " 0 6568700 n=381 webPage=394 webLink='/#page=394&source=14_1'\n",
      " 0 6568701 n=382 webPage=395 webLink='/#page=395&source=14_1'\n",
      " 0 6568702 n=383 webPage=396 webLink='/#page=396&source=14_1'\n",
      " 0 6568703 n=384 webPage=397 webLink='/#page=397&source=14_1'\n",
      " 0 6568704 n=385 webPage=398 webLink='/#page=398&source=14_1'\n",
      " 0 6568705 n=386 webPage=399 webLink='/#page=399&source=14_1'\n",
      " 0 6568706 n=387 webPage=400 webLink='/#page=400&source=14_1'\n",
      " 0 6568707 n=388 webPage=401 webLink='/#page=401&source=14_1'\n",
      " 0 6568708 n=389 webPage=402 webLink='/#page=402&source=14_1'\n",
      " 0 6568709 n=390 webPage=403 webLink='/#page=403&source=14_1'\n",
      " 0 6568710 n=391 webPage=404 webLink='/#page=404&source=14_1'\n",
      " 0 6568711 n=392 webPage=405 webLink='/#page=405&source=14_1'\n",
      " 0 6568712 n=393 webPage=406 webLink='/#page=406&source=14_1'\n",
      " 0 6568713 n=394 webPage=407 webLink='/#page=407&source=14_1'\n",
      " 0 6568714 n=395 webPage=408 webLink='/#page=408&source=14_1'\n",
      " 0 6568715 n=396 webPage=409 webLink='/#page=409&source=14_1'\n",
      " 0 6568716 n=397 webPage=410 webLink='/#page=410&source=14_1'\n",
      " 0 6568717 n=398 webPage=411 webLink='/#page=411&source=14_1'\n",
      " 0 6568718 n=399 webPage=412 webLink='/#page=412&source=14_1'\n",
      " 0 6568719 n=400 webPage=413 webLink='/#page=413&source=14_1'\n",
      " 0 6568720 n=401 webPage=414 webLink='/#page=414&source=14_1'\n",
      " 0 6568721 n=402 webPage=415 webLink='/#page=415&source=14_1'\n",
      " 0 6568722 n=403 webPage=416 webLink='/#page=416&source=14_1'\n",
      " 0 6568723 n=404 webPage=417 webLink='/#page=417&source=14_1'\n",
      " 0 6568724 n=405 webPage=418 webLink='/#page=418&source=14_1'\n",
      " 0 6568725 n=406 webPage=419 webLink='/#page=419&source=14_1'\n",
      " 0 6568726 n=407 webPage=420 webLink='/#page=420&source=14_1'\n",
      " 0 6568727 n=408 webPage=421 webLink='/#page=421&source=14_1'\n",
      " 0 6568728 n=409 webPage=422 webLink='/#page=422&source=14_1'\n",
      " 0 6568729 n=410 webPage=423 webLink='/#page=423&source=14_1'\n",
      " 0 6568730 n=411 webPage=424 webLink='/#page=424&source=14_1'\n",
      " 0 6568731 n=412 webPage=425 webLink='/#page=425&source=14_1'\n",
      " 0 6568732 n=413 webPage=426 webLink='/#page=426&source=14_1'\n",
      " 0 6568733 n=414 webPage=427 webLink='/#page=427&source=14_1'\n",
      " 0 6568734 n=415 webPage=428 webLink='/#page=428&source=14_1'\n",
      " 0 6568735 n=416 webPage=429 webLink='/#page=429&source=14_1'\n",
      " 0 6568736 n=417 webPage=430 webLink='/#page=430&source=14_1'\n",
      " 0 6568737 n=418 webPage=431 webLink='/#page=431&source=14_1'\n",
      " 0 6568738 n=419 webPage=432 webLink='/#page=432&source=14_1'\n",
      " 0 6568739 n=420 webPage=433 webLink='/#page=433&source=14_1'\n",
      " 0 6568740 n=421 webPage=434 webLink='/#page=434&source=14_1'\n",
      " 0 6568741 n=422 webPage=435 webLink='/#page=435&source=14_1'\n",
      " 0 6568742 n=423 webPage=436 webLink='/#page=436&source=14_1'\n",
      " 0 6568743 n=424 webPage=437 webLink='/#page=437&source=14_1'\n",
      " 0 6568744 n=425 webPage=438 webLink='/#page=438&source=14_1'\n",
      " 0 6568745 n=426 webPage=439 webLink='/#page=439&source=14_1'\n",
      " 0 6568746 n=427 webPage=440 webLink='/#page=440&source=14_1'\n",
      " 0 6568747 n=428 webPage=441 webLink='/#page=441&source=14_1'\n",
      " 0 6568748 n=429 webPage=442 webLink='/#page=442&source=14_1'\n",
      " 0 6568749 n=430 webPage=443 webLink='/#page=443&source=14_1'\n",
      " 0 6568750 n=431 webPage=444 webLink='/#page=444&source=14_1'\n",
      " 0 6568751 n=432 webPage=445 webLink='/#page=445&source=14_1'\n",
      " 0 6568752 n=433 webPage=446 webLink='/#page=446&source=14_1'\n",
      " 0 6568753 n=434 webPage=447 webLink='/#page=447&source=14_1'\n",
      " 0 6568754 n=435 webPage=448 webLink='/#page=448&source=14_1'\n",
      " 0 6568755 n=436 webPage=449 webLink='/#page=449&source=14_1'\n",
      " 0 6568756 n=437 webPage=450 webLink='/#page=450&source=14_1'\n",
      " 0 6568757 n=438 webPage=451 webLink='/#page=451&source=14_1'\n",
      " 0 6568758 n=439 webPage=452 webLink='/#page=452&source=14_1'\n",
      " 0 6568759 n=440 webPage=453 webLink='/#page=453&source=14_1'\n",
      " 0 6568760 n=441 webPage=454 webLink='/#page=454&source=14_1'\n",
      " 0 6568761 n=442 webPage=455 webLink='/#page=455&source=14_1'\n",
      " 0 6568762 n=443 webPage=456 webLink='/#page=456&source=14_1'\n",
      " 0 6568763 n=444 webPage=457 webLink='/#page=457&source=14_1'\n",
      " 0 6568764 n=445 webPage=458 webLink='/#page=458&source=14_1'\n",
      " 0 6568765 n=446 webPage=459 webLink='/#page=459&source=14_1'\n",
      " 0 6568766 n=447 webPage=460 webLink='/#page=460&source=14_1'\n",
      " 0 6568767 n=448 webPage=461 webLink='/#page=461&source=14_1'\n",
      " 0 6568768 n=449 webPage=462 webLink='/#page=462&source=14_1'\n",
      " 0 6568769 n=450 webPage=463 webLink='/#page=463&source=14_1'\n",
      " 0 6568770 n=451 webPage=464 webLink='/#page=464&source=14_1'\n",
      " 0 6568771 n=452 webPage=465 webLink='/#page=465&source=14_1'\n",
      " 0 6568772 n=453 webPage=466 webLink='/#page=466&source=14_1'\n",
      " 0 6568773 n=454 webPage=467 webLink='/#page=467&source=14_1'\n",
      " 0 6568774 n=455 webPage=468 webLink='/#page=468&source=14_1'\n",
      " 0 6568775 n=456 webPage=469 webLink='/#page=469&source=14_1'\n",
      " 0 6568776 n=457 webPage=470 webLink='/#page=470&source=14_1'\n",
      " 0 6568777 n=458 webPage=471 webLink='/#page=471&source=14_1'\n",
      " 0 6568778 n=459 webPage=472 webLink='/#page=472&source=14_1'\n",
      " 0 6568779 n=460 webPage=473 webLink='/#page=473&source=14_1'\n",
      " 0 6568780 n=461 webPage=474 webLink='/#page=474&source=14_1'\n",
      " 0 6568781 n=462 webPage=475 webLink='/#page=475&source=14_1'\n",
      " 0 6568782 n=463 webPage=476 webLink='/#page=476&source=14_1'\n",
      " 0 6568783 n=464 webPage=477 webLink='/#page=477&source=14_1'\n",
      " 0 6568784 n=465 webPage=478 webLink='/#page=478&source=14_1'\n",
      " 0 6568785 n=466 webPage=479 webLink='/#page=479&source=14_1'\n",
      " 0 6568786 n=467 webPage=480 webLink='/#page=480&source=14_1'\n",
      " 0 6568787 n=468 webPage=481 webLink='/#page=481&source=14_1'\n",
      " 0 6568788 n=469 webPage=482 webLink='/#page=482&source=14_1'\n",
      " 0 6568789 n=470 webPage=483 webLink='/#page=483&source=14_1'\n",
      " 0 6568790 n=471 webPage=484 webLink='/#page=484&source=14_1'\n",
      " 0 6568791 n=472 webPage=485 webLink='/#page=485&source=14_1'\n",
      " 0 6568792 n=473 webPage=486 webLink='/#page=486&source=14_1'\n",
      " 0 6568793 n=474 webPage=487 webLink='/#page=487&source=14_1'\n",
      " 0 6568794 n=475 webPage=488 webLink='/#page=488&source=14_1'\n",
      " 0 6568795 n=476 webPage=489 webLink='/#page=489&source=14_1'\n",
      " 0 6568796 n=477 webPage=490 webLink='/#page=490&source=14_1'\n",
      " 0 6568797 n=479 webPage=492 webLink='/#page=492&source=14_1'\n",
      " 0 6568798 n=480 webPage=493 webLink='/#page=493&source=14_1'\n",
      " 0 6568799 n=481 webPage=494 webLink='/#page=494&source=14_1'\n",
      " 0 6568800 n=482 webPage=495 webLink='/#page=495&source=14_1'\n",
      " 0 6568801 n=483 webPage=496 webLink='/#page=496&source=14_1'\n",
      " 0 6568802 n=484 webPage=497 webLink='/#page=497&source=14_1'\n",
      " 0 6568803 n=485 webPage=498 webLink='/#page=498&source=14_1'\n",
      " 0 6568804 n=486 webPage=499 webLink='/#page=499&source=14_1'\n",
      " 0 6568805 n=487 webPage=500 webLink='/#page=500&source=14_1'\n",
      " 0 6568806 n=488 webPage=501 webLink='/#page=501&source=14_1'\n",
      " 0 6568807 n=489 webPage=502 webLink='/#page=502&source=14_1'\n",
      " 0 6568808 n=490 webPage=503 webLink='/#page=503&source=14_1'\n",
      " 0 6568809 n=491 webPage=504 webLink='/#page=504&source=14_1'\n",
      " 0 6568810 n=492 webPage=505 webLink='/#page=505&source=14_1'\n",
      " 0 6568811 n=493 webPage=506 webLink='/#page=506&source=14_1'\n",
      " 0 6568812 n=494 webPage=507 webLink='/#page=507&source=14_1'\n",
      " 0 6568813 n=495 webPage=508 webLink='/#page=508&source=14_1'\n",
      " 0 6568814 n=496 webPage=509 webLink='/#page=509&source=14_1'\n",
      " 0 6568815 n=497 webPage=510 webLink='/#page=510&source=14_1'\n",
      " 0 6568816 n=498 webPage=511 webLink='/#page=511&source=14_1'\n",
      " 0 6568817 n=499 webPage=512 webLink='/#page=512&source=14_1'\n",
      " 0 6568818 n=500 webPage=513 webLink='/#page=513&source=14_1'\n",
      " 0 6568819 n=501 webPage=514 webLink='/#page=514&source=14_1'\n",
      " 0 6568820 n=502 webPage=515 webLink='/#page=515&source=14_1'\n",
      " 0 6568821 n=503 webPage=516 webLink='/#page=516&source=14_1'\n",
      " 0 6568822 n=504 webPage=517 webLink='/#page=517&source=14_1'\n",
      " 0 6568823 n=505 webPage=518 webLink='/#page=518&source=14_1'\n",
      " 0 6568824 n=506 webPage=519 webLink='/#page=519&source=14_1'\n",
      " 0 6568825 n=507 webPage=520 webLink='/#page=520&source=14_1'\n",
      " 0 6568826 n=508 webPage=521 webLink='/#page=521&source=14_1'\n",
      " 0 6568827 n=509 webPage=522 webLink='/#page=522&source=14_1'\n",
      " 0 6568828 n=510 webPage=523 webLink='/#page=523&source=14_1'\n",
      " 0 6568829 n=511 webPage=524 webLink='/#page=524&source=14_1'\n",
      " 0 6568830 n=512 webPage=525 webLink='/#page=525&source=14_1'\n",
      " 0 6568831 n=513 webPage=526 webLink='/#page=526&source=14_1'\n",
      " 0 6568832 n=514 webPage=527 webLink='/#page=527&source=14_1'\n",
      " 0 6568833 n=515 webPage=528 webLink='/#page=528&source=14_1'\n",
      " 0 6568834 n=516 webPage=529 webLink='/#page=529&source=14_1'\n",
      " 0 6568835 n=517 webPage=530 webLink='/#page=530&source=14_1'\n",
      " 0 6568836 n=518 webPage=531 webLink='/#page=531&source=14_1'\n",
      " 0 6568837 n=519 webPage=532 webLink='/#page=532&source=14_1'\n",
      " 0 6568838 n=520 webPage=533 webLink='/#page=533&source=14_1'\n",
      " 0 6568839 n=521 webPage=534 webLink='/#page=534&source=14_1'\n",
      " 0 6568840 n=522 webPage=535 webLink='/#page=535&source=14_1'\n",
      " 0 6568841 n=523 webPage=536 webLink='/#page=536&source=14_1'\n",
      " 0 6568842 n=524 webPage=537 webLink='/#page=537&source=14_1'\n",
      " 0 6568843 n=525 webPage=538 webLink='/#page=538&source=14_1'\n",
      " 0 6568844 n=526 webPage=539 webLink='/#page=539&source=14_1'\n",
      " 0 6568845 n=527 webPage=540 webLink='/#page=540&source=14_1'\n",
      " 0 6568846 n=528 webPage=541 webLink='/#page=541&source=14_1'\n",
      " 0 6568847 n=529 webPage=542 webLink='/#page=542&source=14_1'\n",
      " 0 6568848 n=530 webPage=543 webLink='/#page=543&source=14_1'\n",
      " 0 6568849 n=531 webPage=544 webLink='/#page=544&source=14_1'\n",
      " 0 6568850 n=532 webPage=545 webLink='/#page=545&source=14_1'\n",
      " 0 6568851 n=533 webPage=546 webLink='/#page=546&source=14_1'\n",
      " 0 6568852 n=534 webPage=547 webLink='/#page=547&source=14_1'\n",
      " 0 6568853 n=535 webPage=548 webLink='/#page=548&source=14_1'\n",
      " 0 6568854 n=536 webPage=549 webLink='/#page=549&source=14_1'\n",
      " 0 6568855 n=537 webPage=10 webLink='/#page=10&source=14_2'\n",
      " 0 6568856 n=538 webPage=11 webLink='/#page=11&source=14_2'\n",
      " 0 6568857 n=539 webPage=12 webLink='/#page=12&source=14_2'\n",
      " 0 6568858 n=540 webPage=13 webLink='/#page=13&source=14_2'\n",
      " 0 6568859 n=541 webPage=14 webLink='/#page=14&source=14_2'\n",
      " 0 6568860 n=542 webPage=15 webLink='/#page=15&source=14_2'\n",
      " 0 6568861 n=543 webPage=16 webLink='/#page=16&source=14_2'\n",
      " 0 6568862 n=544 webPage=17 webLink='/#page=17&source=14_2'\n",
      " 0 6568863 n=545 webPage=18 webLink='/#page=18&source=14_2'\n",
      " 0 6568864 n=546 webPage=19 webLink='/#page=19&source=14_2'\n",
      " 0 6568865 n=547 webPage=20 webLink='/#page=20&source=14_2'\n",
      " 0 6568866 n=548 webPage=21 webLink='/#page=21&source=14_2'\n",
      " 0 6568867 n=549 webPage=22 webLink='/#page=22&source=14_2'\n",
      " 0 6568868 n=550 webPage=23 webLink='/#page=23&source=14_2'\n",
      " 0 6568869 n=551 webPage=24 webLink='/#page=24&source=14_2'\n",
      " 0 6568870 n=552 webPage=25 webLink='/#page=25&source=14_2'\n",
      " 0 6568871 n=553 webPage=26 webLink='/#page=26&source=14_2'\n",
      " 0 6568872 n=554 webPage=27 webLink='/#page=27&source=14_2'\n",
      " 0 6568873 n=555 webPage=28 webLink='/#page=28&source=14_2'\n",
      " 0 6568874 n=556 webPage=29 webLink='/#page=29&source=14_2'\n",
      " 0 6568875 n=557 webPage=30 webLink='/#page=30&source=14_2'\n",
      " 0 6568876 n=558 webPage=31 webLink='/#page=31&source=14_2'\n",
      " 0 6568877 n=559 webPage=32 webLink='/#page=32&source=14_2'\n",
      " 0 6568878 n=560 webPage=33 webLink='/#page=33&source=14_2'\n",
      " 0 6568879 n=561 webPage=34 webLink='/#page=34&source=14_2'\n",
      " 0 6568880 n=562 webPage=35 webLink='/#page=35&source=14_2'\n",
      " 0 6568881 n=563 webPage=36 webLink='/#page=36&source=14_2'\n",
      " 0 6568882 n=564 webPage=37 webLink='/#page=37&source=14_2'\n",
      " 0 6568883 n=565 webPage=38 webLink='/#page=38&source=14_2'\n",
      " 0 6568884 n=566 webPage=39 webLink='/#page=39&source=14_2'\n",
      " 0 6568885 n=567 webPage=40 webLink='/#page=40&source=14_2'\n",
      " 0 6568886 n=568 webPage=41 webLink='/#page=41&source=14_2'\n",
      " 0 6568887 n=569 webPage=42 webLink='/#page=42&source=14_2'\n",
      " 0 6568888 n=570 webPage=43 webLink='/#page=43&source=14_2'\n",
      " 0 6568889 n=571 webPage=44 webLink='/#page=44&source=14_2'\n",
      " 0 6568890 n=572 webPage=45 webLink='/#page=45&source=14_2'\n",
      " 0 6568891 n=573 webPage=46 webLink='/#page=46&source=14_2'\n",
      " 0 6568892 n=574 webPage=47 webLink='/#page=47&source=14_2'\n",
      " 0 6568893 n=575 webPage=48 webLink='/#page=48&source=14_2'\n",
      " 0 6568894 n=576 webPage=49 webLink='/#page=49&source=14_2'\n",
      " 0 6568895 n=577 webPage=50 webLink='/#page=50&source=14_2'\n",
      " 0 6568896 n=578 webPage=51 webLink='/#page=51&source=14_2'\n",
      " 0 6568897 n=579 webPage=52 webLink='/#page=52&source=14_2'\n",
      " 0 6568898 n=580 webPage=53 webLink='/#page=53&source=14_2'\n",
      " 0 6568899 n=581 webPage=54 webLink='/#page=54&source=14_2'\n",
      " 0 6568900 n=582 webPage=55 webLink='/#page=55&source=14_2'\n",
      " 0 6568901 n=583 webPage=56 webLink='/#page=56&source=14_2'\n",
      " 0 6568902 n=584 webPage=57 webLink='/#page=57&source=14_2'\n",
      " 0 6568903 n=585 webPage=58 webLink='/#page=58&source=14_2'\n",
      " 0 6568904 n=586 webPage=59 webLink='/#page=59&source=14_2'\n",
      " 0 6568905 n=587 webPage=60 webLink='/#page=60&source=14_2'\n",
      " 0 6568906 n=588 webPage=61 webLink='/#page=61&source=14_2'\n",
      " 0 6568907 n=589 webPage=62 webLink='/#page=62&source=14_2'\n",
      " 0 6568908 n=590 webPage=63 webLink='/#page=63&source=14_2'\n",
      " 0 6568909 n=591 webPage=64 webLink='/#page=64&source=14_2'\n",
      " 0 6568910 n=592 webPage=65 webLink='/#page=65&source=14_2'\n",
      " 0 6568911 n=593 webPage=66 webLink='/#page=66&source=14_2'\n",
      " 0 6568912 n=594 webPage=67 webLink='/#page=67&source=14_2'\n",
      " 0 6568913 n=595 webPage=68 webLink='/#page=68&source=14_2'\n",
      " 0 6568914 n=596 webPage=69 webLink='/#page=69&source=14_2'\n",
      " 0 6568915 n=597 webPage=70 webLink='/#page=70&source=14_2'\n",
      " 0 6568916 n=598 webPage=71 webLink='/#page=71&source=14_2'\n",
      " 0 6568917 n=599 webPage=72 webLink='/#page=72&source=14_2'\n",
      " 0 6568918 n=600 webPage=73 webLink='/#page=73&source=14_2'\n",
      " 0 6568919 n=601 webPage=74 webLink='/#page=74&source=14_2'\n",
      " 0 6568920 n=602 webPage=75 webLink='/#page=75&source=14_2'\n",
      " 0 6568921 n=603 webPage=76 webLink='/#page=76&source=14_2'\n",
      " 0 6568922 n=604 webPage=77 webLink='/#page=77&source=14_2'\n",
      " 0 6568923 n=605 webPage=78 webLink='/#page=78&source=14_2'\n",
      " 0 6568924 n=606 webPage=79 webLink='/#page=79&source=14_2'\n",
      " 0 6568925 n=607 webPage=80 webLink='/#page=80&source=14_2'\n",
      " 0 6568926 n=608 webPage=81 webLink='/#page=81&source=14_2'\n",
      " 0 6568927 n=609 webPage=82 webLink='/#page=82&source=14_2'\n",
      " 0 6568928 n=610 webPage=83 webLink='/#page=83&source=14_2'\n",
      " 0 6568929 n=611 webPage=84 webLink='/#page=84&source=14_2'\n",
      " 0 6568930 n=612 webPage=85 webLink='/#page=85&source=14_2'\n",
      " 0 6568931 n=613 webPage=86 webLink='/#page=86&source=14_2'\n",
      " 0 6568932 n=614 webPage=87 webLink='/#page=87&source=14_2'\n",
      " 0 6568933 n=615 webPage=88 webLink='/#page=88&source=14_2'\n",
      " 0 6568934 n=616 webPage=89 webLink='/#page=89&source=14_2'\n",
      " 0 6568935 n=617 webPage=90 webLink='/#page=90&source=14_2'\n",
      " 0 6568936 n=618 webPage=91 webLink='/#page=91&source=14_2'\n",
      " 0 6568937 n=619 webPage=92 webLink='/#page=92&source=14_2'\n",
      " 0 6568938 n=620 webPage=93 webLink='/#page=93&source=14_2'\n",
      " 0 6568939 n=621 webPage=94 webLink='/#page=94&source=14_2'\n",
      " 0 6568940 n=622 webPage=95 webLink='/#page=95&source=14_2'\n",
      " 0 6568941 n=623 webPage=96 webLink='/#page=96&source=14_2'\n",
      " 0 6568942 n=624 webPage=97 webLink='/#page=97&source=14_2'\n",
      " 0 6568943 n=625 webPage=98 webLink='/#page=98&source=14_2'\n",
      " 0 6568944 n=626 webPage=99 webLink='/#page=99&source=14_2'\n",
      " 0 6568945 n=627 webPage=100 webLink='/#page=100&source=14_2'\n",
      " 0 6568946 n=628 webPage=101 webLink='/#page=101&source=14_2'\n",
      " 0 6568947 n=629 webPage=102 webLink='/#page=102&source=14_2'\n",
      " 0 6568948 n=630 webPage=103 webLink='/#page=103&source=14_2'\n",
      " 0 6568949 n=631 webPage=104 webLink='/#page=104&source=14_2'\n",
      " 0 6568950 n=632 webPage=105 webLink='/#page=105&source=14_2'\n",
      " 0 6568951 n=633 webPage=106 webLink='/#page=106&source=14_2'\n",
      " 0 6568952 n=634 webPage=107 webLink='/#page=107&source=14_2'\n",
      " 0 6568953 n=635 webPage=108 webLink='/#page=108&source=14_2'\n",
      " 0 6568954 n=636 webPage=109 webLink='/#page=109&source=14_2'\n",
      " 0 6568955 n=637 webPage=110 webLink='/#page=110&source=14_2'\n",
      " 0 6568956 n=638 webPage=111 webLink='/#page=111&source=14_2'\n",
      " 0 6568957 n=639 webPage=112 webLink='/#page=112&source=14_2'\n",
      " 0 6568958 n=640 webPage=113 webLink='/#page=113&source=14_2'\n",
      " 0 6568959 n=641 webPage=114 webLink='/#page=114&source=14_2'\n",
      " 0 6568960 n=642 webPage=115 webLink='/#page=115&source=14_2'\n",
      " 0 6568961 n=643 webPage=116 webLink='/#page=116&source=14_2'\n",
      " 0 6568962 n=644 webPage=117 webLink='/#page=117&source=14_2'\n",
      " 0 6568963 n=645 webPage=118 webLink='/#page=118&source=14_2'\n",
      " 0 6568964 n=646 webPage=119 webLink='/#page=119&source=14_2'\n",
      " 0 6568965 n=647 webPage=120 webLink='/#page=120&source=14_2'\n",
      " 0 6568966 n=648 webPage=121 webLink='/#page=121&source=14_2'\n",
      " 0 6568967 n=649 webPage=122 webLink='/#page=122&source=14_2'\n",
      " 0 6568968 n=650 webPage=123 webLink='/#page=123&source=14_2'\n",
      " 0 6568969 n=651 webPage=124 webLink='/#page=124&source=14_2'\n",
      " 0 6568970 n=652 webPage=125 webLink='/#page=125&source=14_2'\n",
      " 0 6568971 n=653 webPage=126 webLink='/#page=126&source=14_2'\n",
      " 0 6568972 n=654 webPage=127 webLink='/#page=127&source=14_2'\n",
      " 0 6568973 n=655 webPage=128 webLink='/#page=128&source=14_2'\n",
      " 0 6568974 n=656 webPage=129 webLink='/#page=129&source=14_2'\n",
      " 0 6568975 n=657 webPage=130 webLink='/#page=130&source=14_2'\n",
      " 0 6568976 n=658 webPage=131 webLink='/#page=131&source=14_2'\n",
      " 0 6568977 n=659 webPage=132 webLink='/#page=132&source=14_2'\n",
      " 0 6568978 n=660 webPage=133 webLink='/#page=133&source=14_2'\n",
      " 0 6568979 n=661 webPage=134 webLink='/#page=134&source=14_2'\n",
      " 0 6568980 n=662 webPage=135 webLink='/#page=135&source=14_2'\n",
      " 0 6568981 n=663 webPage=136 webLink='/#page=136&source=14_2'\n",
      " 0 6568982 n=664 webPage=137 webLink='/#page=137&source=14_2'\n",
      " 0 6568983 n=665 webPage=138 webLink='/#page=138&source=14_2'\n",
      " 0 6568984 n=666 webPage=139 webLink='/#page=139&source=14_2'\n",
      " 0 6568985 n=667 webPage=140 webLink='/#page=140&source=14_2'\n",
      " 0 6568986 n=668 webPage=141 webLink='/#page=141&source=14_2'\n",
      " 0 6568987 n=669 webPage=142 webLink='/#page=142&source=14_2'\n",
      " 0 6568988 n=670 webPage=143 webLink='/#page=143&source=14_2'\n",
      " 0 6568989 n=671 webPage=144 webLink='/#page=144&source=14_2'\n",
      " 0 6568990 n=672 webPage=145 webLink='/#page=145&source=14_2'\n",
      " 0 6568991 n=673 webPage=146 webLink='/#page=146&source=14_2'\n",
      " 0 6568992 n=674 webPage=147 webLink='/#page=147&source=14_2'\n",
      " 0 6568993 n=675 webPage=148 webLink='/#page=148&source=14_2'\n",
      " 0 6568994 n=676 webPage=149 webLink='/#page=149&source=14_2'\n",
      " 0 6568995 n=677 webPage=150 webLink='/#page=150&source=14_2'\n",
      " 0 6568996 n=678 webPage=151 webLink='/#page=151&source=14_2'\n",
      " 0 6568997 n=679 webPage=152 webLink='/#page=152&source=14_2'\n",
      " 0 6568998 n=681 webPage=154 webLink='/#page=154&source=14_2'\n",
      " 0 6568999 n=682 webPage=155 webLink='/#page=155&source=14_2'\n",
      " 0 6569000 n=683 webPage=156 webLink='/#page=156&source=14_2'\n",
      " 0 6569001 n=684 webPage=157 webLink='/#page=157&source=14_2'\n",
      " 0 6569002 n=685 webPage=158 webLink='/#page=158&source=14_2'\n",
      " 0 6569003 n=686 webPage=159 webLink='/#page=159&source=14_2'\n",
      " 0 6569004 n=687 webPage=160 webLink='/#page=160&source=14_2'\n",
      " 0 6569005 n=688 webPage=161 webLink='/#page=161&source=14_2'\n",
      " 0 6569006 n=689 webPage=162 webLink='/#page=162&source=14_2'\n",
      " 0 6569007 n=690 webPage=163 webLink='/#page=163&source=14_2'\n",
      " 0 6569008 n=691 webPage=164 webLink='/#page=164&source=14_2'\n",
      " 0 6569009 n=692 webPage=165 webLink='/#page=165&source=14_2'\n",
      " 0 6569010 n=693 webPage=166 webLink='/#page=166&source=14_2'\n",
      " 0 6569011 n=694 webPage=167 webLink='/#page=167&source=14_2'\n",
      " 0 6569012 n=695 webPage=168 webLink='/#page=168&source=14_2'\n",
      " 0 6569013 n=696 webPage=169 webLink='/#page=169&source=14_2'\n",
      " 0 6569014 n=697 webPage=170 webLink='/#page=170&source=14_2'\n",
      " 0 6569015 n=698 webPage=171 webLink='/#page=171&source=14_2'\n",
      " 0 6569016 n=699 webPage=172 webLink='/#page=172&source=14_2'\n",
      " 0 6569017 n=700 webPage=173 webLink='/#page=173&source=14_2'\n",
      " 0 6569018 n=701 webPage=174 webLink='/#page=174&source=14_2'\n",
      " 0 6569019 n=702 webPage=175 webLink='/#page=175&source=14_2'\n",
      " 0 6569020 n=703 webPage=176 webLink='/#page=176&source=14_2'\n",
      " 0 6569021 n=704 webPage=177 webLink='/#page=177&source=14_2'\n",
      " 0 6569022 n=705 webPage=178 webLink='/#page=178&source=14_2'\n",
      " 0 6569023 n=706 webPage=179 webLink='/#page=179&source=14_2'\n",
      " 0 6569024 n=707 webPage=180 webLink='/#page=180&source=14_2'\n",
      " 0 6569025 n=708 webPage=181 webLink='/#page=181&source=14_2'\n",
      " 0 6569026 n=709 webPage=182 webLink='/#page=182&source=14_2'\n",
      " 0 6569027 n=710 webPage=183 webLink='/#page=183&source=14_2'\n",
      " 0 6569028 n=711 webPage=184 webLink='/#page=184&source=14_2'\n",
      " 0 6569029 n=712 webPage=185 webLink='/#page=185&source=14_2'\n",
      " 0 6569030 n=713 webPage=186 webLink='/#page=186&source=14_2'\n",
      " 0 6569031 n=714 webPage=187 webLink='/#page=187&source=14_2'\n",
      " 0 6569032 n=715 webPage=188 webLink='/#page=188&source=14_2'\n",
      " 0 6569033 n=716 webPage=189 webLink='/#page=189&source=14_2'\n",
      " 0 6569034 n=717 webPage=190 webLink='/#page=190&source=14_2'\n",
      " 0 6569035 n=718 webPage=191 webLink='/#page=191&source=14_2'\n",
      " 0 6569036 n=719 webPage=192 webLink='/#page=192&source=14_2'\n",
      " 0 6569037 n=720 webPage=193 webLink='/#page=193&source=14_2'\n",
      " 0 6569038 n=721 webPage=194 webLink='/#page=194&source=14_2'\n",
      " 0 6569039 n=722 webPage=195 webLink='/#page=195&source=14_2'\n",
      " 0 6569040 n=723 webPage=196 webLink='/#page=196&source=14_2'\n",
      " 0 6569041 n=724 webPage=197 webLink='/#page=197&source=14_2'\n",
      " 0 6569042 n=725 webPage=198 webLink='/#page=198&source=14_2'\n",
      " 0 6569043 n=726 webPage=199 webLink='/#page=199&source=14_2'\n",
      " 0 6569044 n=727 webPage=200 webLink='/#page=200&source=14_2'\n",
      " 0 6569045 n=728 webPage=201 webLink='/#page=201&source=14_2'\n",
      " 0 6569046 n=729 webPage=202 webLink='/#page=202&source=14_2'\n",
      " 0 6569047 n=730 webPage=203 webLink='/#page=203&source=14_2'\n",
      " 0 6569048 n=731 webPage=204 webLink='/#page=204&source=14_2'\n",
      " 0 6569049 n=732 webPage=205 webLink='/#page=205&source=14_2'\n",
      " 0 6569050 n=733 webPage=206 webLink='/#page=206&source=14_2'\n",
      " 0 6569051 n=734 webPage=207 webLink='/#page=207&source=14_2'\n",
      " 0 6569052 n=735 webPage=208 webLink='/#page=208&source=14_2'\n",
      " 0 6569053 n=736 webPage=209 webLink='/#page=209&source=14_2'\n",
      " 0 6569054 n=737 webPage=210 webLink='/#page=210&source=14_2'\n",
      " 0 6569055 n=738 webPage=211 webLink='/#page=211&source=14_2'\n",
      " 0 6569056 n=739 webPage=212 webLink='/#page=212&source=14_2'\n",
      " 0 6569057 n=740 webPage=213 webLink='/#page=213&source=14_2'\n",
      " 0 6569058 n=741 webPage=214 webLink='/#page=214&source=14_2'\n",
      " 0 6569059 n=742 webPage=215 webLink='/#page=215&source=14_2'\n",
      " 0 6569060 n=743 webPage=216 webLink='/#page=216&source=14_2'\n",
      " 0 6569061 n=745 webPage=218 webLink='/#page=218&source=14_2'\n",
      " 0 6569062 n=746 webPage=219 webLink='/#page=219&source=14_2'\n",
      " 0 6569063 n=747 webPage=220 webLink='/#page=220&source=14_2'\n",
      " 0 6569064 n=748 webPage=221 webLink='/#page=221&source=14_2'\n",
      " 0 6569065 n=749 webPage=222 webLink='/#page=222&source=14_2'\n",
      " 0 6569066 n=750 webPage=223 webLink='/#page=223&source=14_2'\n",
      " 0 6569067 n=751 webPage=224 webLink='/#page=224&source=14_2'\n",
      " 0 6569068 n=752 webPage=225 webLink='/#page=225&source=14_2'\n",
      " 0 6569069 n=753 webPage=226 webLink='/#page=226&source=14_2'\n",
      " 0 6569070 n=754 webPage=227 webLink='/#page=227&source=14_2'\n",
      " 0 6569071 n=755 webPage=228 webLink='/#page=228&source=14_2'\n",
      " 0 6569072 n=756 webPage=229 webLink='/#page=229&source=14_2'\n",
      " 0 6569073 n=757 webPage=230 webLink='/#page=230&source=14_2'\n",
      " 0 6569074 n=758 webPage=231 webLink='/#page=231&source=14_2'\n",
      " 0 6569075 n=759 webPage=232 webLink='/#page=232&source=14_2'\n",
      " 0 6569076 n=760 webPage=233 webLink='/#page=233&source=14_2'\n",
      " 0 6569077 n=761 webPage=234 webLink='/#page=234&source=14_2'\n",
      " 0 6569078 n=762 webPage=235 webLink='/#page=235&source=14_2'\n",
      " 0 6569079 n=763 webPage=236 webLink='/#page=236&source=14_2'\n",
      " 0 6569080 n=764 webPage=237 webLink='/#page=237&source=14_2'\n",
      " 0 6569081 n=765 webPage=238 webLink='/#page=238&source=14_2'\n",
      " 0 6569082 n=766 webPage=239 webLink='/#page=239&source=14_2'\n",
      " 0 6569083 n=767 webPage=240 webLink='/#page=240&source=14_2'\n",
      " 0 6569084 n=768 webPage=241 webLink='/#page=241&source=14_2'\n",
      " 0 6569085 n=769 webPage=242 webLink='/#page=242&source=14_2'\n",
      " 0 6569086 n=770 webPage=243 webLink='/#page=243&source=14_2'\n",
      " 0 6569087 n=771 webPage=244 webLink='/#page=244&source=14_2'\n",
      " 0 6569088 n=772 webPage=245 webLink='/#page=245&source=14_2'\n",
      " 0 6569089 n=773 webPage=246 webLink='/#page=246&source=14_2'\n",
      " 0 6569090 n=774 webPage=247 webLink='/#page=247&source=14_2'\n",
      " 0 6569091 n=775 webPage=248 webLink='/#page=248&source=14_2'\n",
      " 0 6569092 n=776 webPage=249 webLink='/#page=249&source=14_2'\n",
      " 0 6569093 n=777 webPage=250 webLink='/#page=250&source=14_2'\n",
      " 0 6569094 n=778 webPage=251 webLink='/#page=251&source=14_2'\n",
      " 0 6569095 n=779 webPage=252 webLink='/#page=252&source=14_2'\n",
      " 0 6569096 n=780 webPage=253 webLink='/#page=253&source=14_2'\n",
      " 0 6569097 n=781 webPage=254 webLink='/#page=254&source=14_2'\n",
      " 0 6569098 n=782 webPage=255 webLink='/#page=255&source=14_2'\n",
      " 0 6569099 n=783 webPage=256 webLink='/#page=256&source=14_2'\n",
      " 0 6569100 n=784 webPage=257 webLink='/#page=257&source=14_2'\n",
      " 0 6569101 n=785 webPage=258 webLink='/#page=258&source=14_2'\n",
      " 0 6569102 n=786 webPage=259 webLink='/#page=259&source=14_2'\n",
      " 0 6569103 n=787 webPage=260 webLink='/#page=260&source=14_2'\n",
      " 0 6569104 n=788 webPage=261 webLink='/#page=261&source=14_2'\n",
      " 0 6569105 n=789 webPage=262 webLink='/#page=262&source=14_2'\n",
      " 0 6569106 n=790 webPage=263 webLink='/#page=263&source=14_2'\n",
      " 0 6569107 n=791 webPage=264 webLink='/#page=264&source=14_2'\n",
      " 0 6569108 n=792 webPage=265 webLink='/#page=265&source=14_2'\n",
      " 0 6569109 n=793 webPage=266 webLink='/#page=266&source=14_2'\n",
      " 0 6569110 n=794 webPage=267 webLink='/#page=267&source=14_2'\n",
      " 0 6569111 n=795 webPage=268 webLink='/#page=268&source=14_2'\n",
      " 0 6569112 n=796 webPage=269 webLink='/#page=269&source=14_2'\n",
      " 0 6569113 n=797 webPage=270 webLink='/#page=270&source=14_2'\n",
      " 0 6569114 n=798 webPage=271 webLink='/#page=271&source=14_2'\n",
      " 0 6569115 n=799 webPage=272 webLink='/#page=272&source=14_2'\n",
      " 0 6569116 n=800 webPage=273 webLink='/#page=273&source=14_2'\n",
      " 0 6569117 n=801 webPage=274 webLink='/#page=274&source=14_2'\n",
      " 0 6569118 n=802 webPage=275 webLink='/#page=275&source=14_2'\n",
      " 0 6569119 n=803 webPage=276 webLink='/#page=276&source=14_2'\n",
      " 0 6569120 n=804 webPage=277 webLink='/#page=277&source=14_2'\n",
      " 0 6569121 n=805 webPage=278 webLink='/#page=278&source=14_2'\n",
      " 0 6569122 n=806 webPage=279 webLink='/#page=279&source=14_2'\n",
      " 0 6569123 n=807 webPage=280 webLink='/#page=280&source=14_2'\n",
      " 0 6569124 n=808 webPage=281 webLink='/#page=281&source=14_2'\n",
      " 0 6569125 n=809 webPage=282 webLink='/#page=282&source=14_2'\n",
      " 0 6569126 n=810 webPage=283 webLink='/#page=283&source=14_2'\n",
      " 0 6569127 n=811 webPage=284 webLink='/#page=284&source=14_2'\n",
      " 0 6569128 n=812 webPage=285 webLink='/#page=285&source=14_2'\n",
      " 0 6569129 n=813 webPage=286 webLink='/#page=286&source=14_2'\n",
      " 0 6569130 n=814 webPage=287 webLink='/#page=287&source=14_2'\n",
      " 0 6569131 n=815 webPage=288 webLink='/#page=288&source=14_2'\n",
      " 0 6569132 n=816 webPage=289 webLink='/#page=289&source=14_2'\n",
      " 0 6569133 n=817 webPage=290 webLink='/#page=290&source=14_2'\n",
      " 0 6569134 n=818 webPage=291 webLink='/#page=291&source=14_2'\n",
      " 0 6569135 n=819 webPage=292 webLink='/#page=292&source=14_2'\n",
      " 0 6569136 n=820 webPage=293 webLink='/#page=293&source=14_2'\n",
      " 0 6569137 n=821 webPage=294 webLink='/#page=294&source=14_2'\n",
      " 0 6569138 n=822 webPage=295 webLink='/#page=295&source=14_2'\n",
      " 0 6569139 n=823 webPage=296 webLink='/#page=296&source=14_2'\n",
      " 0 6569140 n=824 webPage=297 webLink='/#page=297&source=14_2'\n",
      " 0 6569141 n=825 webPage=298 webLink='/#page=298&source=14_2'\n",
      " 0 6569142 n=826 webPage=299 webLink='/#page=299&source=14_2'\n",
      " 0 6569143 n=827 webPage=300 webLink='/#page=300&source=14_2'\n",
      " 0 6569144 n=828 webPage=301 webLink='/#page=301&source=14_2'\n",
      " 0 6569145 n=829 webPage=302 webLink='/#page=302&source=14_2'\n",
      " 0 6569146 n=830 webPage=303 webLink='/#page=303&source=14_2'\n",
      " 0 6569147 n=831 webPage=304 webLink='/#page=304&source=14_2'\n",
      " 0 6569148 n=832 webPage=305 webLink='/#page=305&source=14_2'\n",
      " 0 6569149 n=833 webPage=306 webLink='/#page=306&source=14_2'\n",
      " 0 6569150 n=834 webPage=307 webLink='/#page=307&source=14_2'\n",
      " 0 6569151 n=835 webPage=308 webLink='/#page=308&source=14_2'\n",
      " 0 6569152 n=836 webPage=309 webLink='/#page=309&source=14_2'\n",
      " 0 6569153 n=837 webPage=310 webLink='/#page=310&source=14_2'\n",
      " 0 6569154 n=838 webPage=311 webLink='/#page=311&source=14_2'\n",
      " 0 6569155 n=839 webPage=312 webLink='/#page=312&source=14_2'\n",
      " 0 6569156 n=840 webPage=313 webLink='/#page=313&source=14_2'\n",
      " 0 6569157 n=841 webPage=314 webLink='/#page=314&source=14_2'\n",
      " 0 6569158 n=842 webPage=315 webLink='/#page=315&source=14_2'\n",
      " 0 6569159 n=843 webPage=316 webLink='/#page=316&source=14_2'\n",
      " 0 6569160 n=844 webPage=317 webLink='/#page=317&source=14_2'\n",
      " 0 6569161 n=845 webPage=318 webLink='/#page=318&source=14_2'\n",
      " 0 6569162 n=846 webPage=319 webLink='/#page=319&source=14_2'\n",
      " 0 6569163 n=847 webPage=320 webLink='/#page=320&source=14_2'\n",
      " 0 6569164 n=848 webPage=321 webLink='/#page=321&source=14_2'\n",
      " 0 6569165 n=849 webPage=322 webLink='/#page=322&source=14_2'\n",
      " 0 6569166 n=850 webPage=323 webLink='/#page=323&source=14_2'\n",
      " 0 6569167 n=851 webPage=324 webLink='/#page=324&source=14_2'\n",
      " 0 6569168 n=852 webPage=325 webLink='/#page=325&source=14_2'\n",
      " 0 6569169 n=853 webPage=326 webLink='/#page=326&source=14_2'\n",
      " 0 6569170 n=854 webPage=327 webLink='/#page=327&source=14_2'\n",
      " 0 6569171 n=855 webPage=328 webLink='/#page=328&source=14_2'\n",
      " 0 6569172 n=856 webPage=329 webLink='/#page=329&source=14_2'\n",
      " 0 6569173 n=857 webPage=330 webLink='/#page=330&source=14_2'\n",
      " 0 6569174 n=858 webPage=331 webLink='/#page=331&source=14_2'\n",
      " 0 6569175 n=859 webPage=332 webLink='/#page=332&source=14_2'\n",
      " 0 6569176 n=860 webPage=333 webLink='/#page=333&source=14_2'\n",
      " 0 6569177 n=861 webPage=334 webLink='/#page=334&source=14_2'\n",
      " 0 6569178 n=862 webPage=335 webLink='/#page=335&source=14_2'\n",
      " 0 6569179 n=863 webPage=336 webLink='/#page=336&source=14_2'\n",
      " 0 6569180 n=864 webPage=337 webLink='/#page=337&source=14_2'\n",
      " 0 6569181 n=865 webPage=338 webLink='/#page=338&source=14_2'\n",
      " 0 6569182 n=866 webPage=339 webLink='/#page=339&source=14_2'\n",
      " 0 6569183 n=867 webPage=340 webLink='/#page=340&source=14_2'\n",
      " 0 6569184 n=868 webPage=341 webLink='/#page=341&source=14_2'\n",
      " 0 6569185 n=869 webPage=342 webLink='/#page=342&source=14_2'\n",
      " 0 6569186 n=870 webPage=343 webLink='/#page=343&source=14_2'\n",
      " 0 6569187 n=871 webPage=344 webLink='/#page=344&source=14_2'\n",
      " 0 6569188 n=872 webPage=345 webLink='/#page=345&source=14_2'\n",
      " 0 6569189 n=873 webPage=346 webLink='/#page=346&source=14_2'\n",
      " 0 6569190 n=874 webPage=347 webLink='/#page=347&source=14_2'\n",
      " 0 6569191 n=875 webPage=348 webLink='/#page=348&source=14_2'\n",
      " 0 6569192 n=876 webPage=349 webLink='/#page=349&source=14_2'\n",
      " 0 6569193 n=877 webPage=350 webLink='/#page=350&source=14_2'\n",
      " 0 6569194 n=878 webPage=351 webLink='/#page=351&source=14_2'\n",
      " 0 6569195 n=879 webPage=352 webLink='/#page=352&source=14_2'\n",
      " 0 6569196 n=880 webPage=353 webLink='/#page=353&source=14_2'\n",
      " 0 6569197 n=881 webPage=354 webLink='/#page=354&source=14_2'\n",
      " 0 6569198 n=882 webPage=355 webLink='/#page=355&source=14_2'\n",
      " 0 6569199 n=883 webPage=356 webLink='/#page=356&source=14_2'\n",
      " 0 6569200 n=884 webPage=357 webLink='/#page=357&source=14_2'\n",
      " 0 6569201 n=885 webPage=358 webLink='/#page=358&source=14_2'\n",
      " 0 6569202 n=886 webPage=359 webLink='/#page=359&source=14_2'\n",
      " 0 6569203 n=887 webPage=360 webLink='/#page=360&source=14_2'\n",
      " 0 6569204 n=888 webPage=361 webLink='/#page=361&source=14_2'\n",
      " 0 6569205 n=889 webPage=362 webLink='/#page=362&source=14_2'\n",
      " 0 6569206 n=890 webPage=363 webLink='/#page=363&source=14_2'\n",
      " 0 6569207 n=891 webPage=364 webLink='/#page=364&source=14_2'\n",
      " 0 6569208 n=892 webPage=365 webLink='/#page=365&source=14_2'\n",
      " 0 6569209 n=893 webPage=366 webLink='/#page=366&source=14_2'\n",
      " 0 6569210 n=894 webPage=367 webLink='/#page=367&source=14_2'\n",
      " 0 6569211 n=895 webPage=368 webLink='/#page=368&source=14_2'\n",
      " 0 6569212 n=896 webPage=369 webLink='/#page=369&source=14_2'\n",
      " 0 6569213 n=897 webPage=370 webLink='/#page=370&source=14_2'\n",
      " 0 6569214 n=898 webPage=371 webLink='/#page=371&source=14_2'\n",
      " 0 6569215 n=899 webPage=372 webLink='/#page=372&source=14_2'\n",
      " 0 6569216 n=900 webPage=373 webLink='/#page=373&source=14_2'\n",
      " 0 6569217 n=901 webPage=374 webLink='/#page=374&source=14_2'\n",
      " 0 6569218 n=902 webPage=375 webLink='/#page=375&source=14_2'\n",
      " 0 6569219 n=903 webPage=376 webLink='/#page=376&source=14_2'\n",
      " 0 6569220 n=904 webPage=377 webLink='/#page=377&source=14_2'\n",
      " 0 6569221 n=905 webPage=378 webLink='/#page=378&source=14_2'\n",
      " 0 6569222 n=906 webPage=379 webLink='/#page=379&source=14_2'\n",
      " 0 6569223 n=907 webPage=380 webLink='/#page=380&source=14_2'\n",
      " 0 6569224 n=908 webPage=381 webLink='/#page=381&source=14_2'\n",
      " 0 6569225 n=909 webPage=382 webLink='/#page=382&source=14_2'\n",
      " 0 6569226 n=910 webPage=383 webLink='/#page=383&source=14_2'\n",
      " 0 6569227 n=911 webPage=384 webLink='/#page=384&source=14_2'\n",
      " 0 6569228 n=912 webPage=385 webLink='/#page=385&source=14_2'\n",
      " 0 6569229 n=913 webPage=386 webLink='/#page=386&source=14_2'\n",
      " 0 6569230 n=914 webPage=387 webLink='/#page=387&source=14_2'\n",
      " 0 6569231 n=915 webPage=388 webLink='/#page=388&source=14_2'\n",
      " 0 6569232 n=916 webPage=389 webLink='/#page=389&source=14_2'\n",
      " 0 6569233 n=917 webPage=390 webLink='/#page=390&source=14_2'\n",
      " 0 6569234 n=918 webPage=391 webLink='/#page=391&source=14_2'\n",
      " 0 6569235 n=919 webPage=392 webLink='/#page=392&source=14_2'\n",
      " 0 6569236 n=920 webPage=393 webLink='/#page=393&source=14_2'\n",
      " 0 6569237 n=921 webPage=394 webLink='/#page=394&source=14_2'\n",
      " 0 6569238 n=922 webPage=395 webLink='/#page=395&source=14_2'\n",
      " 0 6569239 n=923 webPage=396 webLink='/#page=396&source=14_2'\n",
      " 0 6569240 n=924 webPage=397 webLink='/#page=397&source=14_2'\n",
      " 0 6569241 n=925 webPage=398 webLink='/#page=398&source=14_2'\n",
      " 0 6569242 n=926 webPage=399 webLink='/#page=399&source=14_2'\n",
      " 0 6569243 n=927 webPage=400 webLink='/#page=400&source=14_2'\n",
      " 0 6569244 n=928 webPage=401 webLink='/#page=401&source=14_2'\n",
      " 0 6569245 n=929 webPage=402 webLink='/#page=402&source=14_2'\n",
      " 0 6569246 n=930 webPage=403 webLink='/#page=403&source=14_2'\n",
      " 0 6569247 n=931 webPage=404 webLink='/#page=404&source=14_2'\n",
      " 0 6569248 n=932 webPage=405 webLink='/#page=405&source=14_2'\n",
      " 0 6569249 n=933 webPage=406 webLink='/#page=406&source=14_2'\n",
      " 0 6569250 n=934 webPage=407 webLink='/#page=407&source=14_2'\n",
      " 0 6569251 n=935 webPage=408 webLink='/#page=408&source=14_2'\n",
      " 0 6569252 n=936 webPage=409 webLink='/#page=409&source=14_2'\n",
      " 0 6569253 n=937 webPage=410 webLink='/#page=410&source=14_2'\n",
      " 0 6569254 n=938 webPage=411 webLink='/#page=411&source=14_2'\n",
      " 0 6569255 n=939 webPage=412 webLink='/#page=412&source=14_2'\n",
      " 0 6569256 n=940 webPage=413 webLink='/#page=413&source=14_2'\n",
      " 0 6569257 n=941 webPage=414 webLink='/#page=414&source=14_2'\n",
      " 0 6569258 n=942 webPage=415 webLink='/#page=415&source=14_2'\n",
      " 0 6569259 n=943 webPage=416 webLink='/#page=416&source=14_2'\n",
      " 0 6569260 n=944 webPage=417 webLink='/#page=417&source=14_2'\n",
      " 0 6569261 n=945 webPage=418 webLink='/#page=418&source=14_2'\n",
      " 0 6569262 n=946 webPage=419 webLink='/#page=419&source=14_2'\n",
      " 0 6569263 n=947 webPage=420 webLink='/#page=420&source=14_2'\n",
      " 0 6569264 n=948 webPage=421 webLink='/#page=421&source=14_2'\n",
      " 0 6569265 n=949 webPage=422 webLink='/#page=422&source=14_2'\n",
      " 0 6569266 n=950 webPage=423 webLink='/#page=423&source=14_2'\n",
      " 0 6569267 n=951 webPage=424 webLink='/#page=424&source=14_2'\n",
      " 0 6569268 n=952 webPage=425 webLink='/#page=425&source=14_2'\n",
      " 0 6569269 n=953 webPage=426 webLink='/#page=426&source=14_2'\n",
      " 0 6569270 n=954 webPage=427 webLink='/#page=427&source=14_2'\n",
      " 0 6569271 n=955 webPage=428 webLink='/#page=428&source=14_2'\n",
      " 0 6569272 n=956 webPage=429 webLink='/#page=429&source=14_2'\n",
      " 0 6569273 n=957 webPage=430 webLink='/#page=430&source=14_2'\n",
      " 0 6569274 n=958 webPage=431 webLink='/#page=431&source=14_2'\n",
      " 0 6569275 n=959 webPage=432 webLink='/#page=432&source=14_2'\n",
      " 0 6569276 n=960 webPage=433 webLink='/#page=433&source=14_2'\n",
      " 0 6569277 n=961 webPage=434 webLink='/#page=434&source=14_2'\n",
      " 0 6569278 n=962 webPage=435 webLink='/#page=435&source=14_2'\n",
      " 0 6569279 n=963 webPage=436 webLink='/#page=436&source=14_2'\n",
      " 0 6569280 n=964 webPage=437 webLink='/#page=437&source=14_2'\n",
      " 0 6569281 n=965 webPage=438 webLink='/#page=438&source=14_2'\n",
      " 0 6569282 n=966 webPage=439 webLink='/#page=439&source=14_2'\n",
      " 0 6569283 n=967 webPage=440 webLink='/#page=440&source=14_2'\n",
      " 0 6569284 n=968 webPage=441 webLink='/#page=441&source=14_2'\n",
      " 0 6569285 n=969 webPage=442 webLink='/#page=442&source=14_2'\n",
      " 0 6569286 n=970 webPage=443 webLink='/#page=443&source=14_2'\n",
      " 0 6569287 n=971 webPage=444 webLink='/#page=444&source=14_2'\n",
      " 0 6569288 n=972 webPage=445 webLink='/#page=445&source=14_2'\n",
      " 0 6569289 n=973 webPage=446 webLink='/#page=446&source=14_2'\n",
      " 0 6569290 n=974 webPage=447 webLink='/#page=447&source=14_2'\n",
      " 0 6569291 n=975 webPage=448 webLink='/#page=448&source=14_2'\n",
      " 0 6569292 n=976 webPage=449 webLink='/#page=449&source=14_2'\n",
      " 0 6569293 n=977 webPage=450 webLink='/#page=450&source=14_2'\n",
      " 0 6569294 n=978 webPage=451 webLink='/#page=451&source=14_2'\n",
      " 0 6569295 n=979 webPage=452 webLink='/#page=452&source=14_2'\n",
      " 0 6569296 n=980 webPage=453 webLink='/#page=453&source=14_2'\n",
      " 0 6569297 n=981 webPage=454 webLink='/#page=454&source=14_2'\n",
      " 0 6569298 n=982 webPage=455 webLink='/#page=455&source=14_2'\n",
      " 0 6569299 n=983 webPage=456 webLink='/#page=456&source=14_2'\n",
      " 0 6569300 n=984 webPage=457 webLink='/#page=457&source=14_2'\n",
      " 0 6569301 n=985 webPage=458 webLink='/#page=458&source=14_2'\n",
      " 0 6569302 n=986 webPage=459 webLink='/#page=459&source=14_2'\n",
      " 0 6569303 n=987 webPage=460 webLink='/#page=460&source=14_2'\n",
      " 0 6569304 n=988 webPage=461 webLink='/#page=461&source=14_2'\n",
      " 0 6569305 n=989 webPage=462 webLink='/#page=462&source=14_2'\n",
      " 0 6569306 n=990 webPage=463 webLink='/#page=463&source=14_2'\n",
      " 0 6569307 n=991 webPage=464 webLink='/#page=464&source=14_2'\n",
      " 0 6569308 n=992 webPage=465 webLink='/#page=465&source=14_2'\n",
      " 0 6569309 n=993 webPage=466 webLink='/#page=466&source=14_2'\n",
      " 0 6569310 n=994 webPage=467 webLink='/#page=467&source=14_2'\n",
      " 0 6569311 n=995 webPage=468 webLink='/#page=468&source=14_2'\n",
      " 0 6569312 n=996 webPage=469 webLink='/#page=469&source=14_2'\n",
      " 0 6569313 n=997 webPage=470 webLink='/#page=470&source=14_2'\n",
      " 0 6569314 n=998 webPage=471 webLink='/#page=471&source=14_2'\n",
      " 0 6569315 n=999 webPage=472 webLink='/#page=472&source=14_2'\n",
      " 0 6569316 n=1000 webPage=473 webLink='/#page=473&source=14_2'\n",
      " 0 6569317 n=1001 webPage=474 webLink='/#page=474&source=14_2'\n",
      " 0 6569318 n=1002 webPage=475 webLink='/#page=475&source=14_2'\n",
      " 0 6569319 n=1003 webPage=476 webLink='/#page=476&source=14_2'\n",
      " 0 6569320 n=1004 webPage=477 webLink='/#page=477&source=14_2'\n",
      " 0 6569321 n=1005 webPage=478 webLink='/#page=478&source=14_2'\n",
      " 0 6569322 n=1006 webPage=479 webLink='/#page=479&source=14_2'\n",
      " 0 6569323 n=1007 webPage=480 webLink='/#page=480&source=14_2'\n",
      " 0 6569324 n=1008 webPage=481 webLink='/#page=481&source=14_2'\n",
      " 0 6569325 n=1009 webPage=482 webLink='/#page=482&source=14_2'\n",
      " 0 6569326 n=1010 webPage=483 webLink='/#page=483&source=14_2'\n",
      " 0 6569327 n=1011 webPage=484 webLink='/#page=484&source=14_2'\n",
      " 0 6569328 n=1012 webPage=485 webLink='/#page=485&source=14_2'\n",
      " 0 6569329 n=1013 webPage=486 webLink='/#page=486&source=14_2'\n",
      " 0 6569330 n=1014 webPage=487 webLink='/#page=487&source=14_2'\n",
      " 0 6569331 n=1015 webPage=488 webLink='/#page=488&source=14_2'\n",
      " 0 6569332 n=1016 webPage=489 webLink='/#page=489&source=14_2'\n",
      " 0 6569333 n=1017 webPage=490 webLink='/#page=490&source=14_2'\n",
      " 0 6569334 n=1018 webPage=491 webLink='/#page=491&source=14_2'\n",
      " 0 6569335 n=1019 webPage=492 webLink='/#page=492&source=14_2'\n",
      " 0 6569336 n=1020 webPage=493 webLink='/#page=493&source=14_2'\n",
      " 0 6569337 n=1021 webPage=494 webLink='/#page=494&source=14_2'\n",
      " 0 6569338 n=1022 webPage=495 webLink='/#page=495&source=14_2'\n",
      " 0 6569339 n=1023 webPage=496 webLink='/#page=496&source=14_2'\n",
      " 0 6569340 n=1024 webPage=497 webLink='/#page=497&source=14_2'\n",
      " 0 6569341 n=1025 webPage=498 webLink='/#page=498&source=14_2'\n",
      " 0 6569342 n=1026 webPage=499 webLink='/#page=499&source=14_2'\n",
      " 0 6569343 n=1027 webPage=500 webLink='/#page=500&source=14_2'\n",
      " 0 6569344 n=1028 webPage=501 webLink='/#page=501&source=14_2'\n",
      " 0 6569345 n=1029 webPage=502 webLink='/#page=502&source=14_2'\n",
      " 0 6569346 n=1030 webPage=503 webLink='/#page=503&source=14_2'\n",
      " 0 6569347 n=1031 webPage=504 webLink='/#page=504&source=14_2'\n",
      " 0 6569348 n=1032 webPage=505 webLink='/#page=505&source=14_2'\n",
      " 0 6569349 n=1033 webPage=506 webLink='/#page=506&source=14_2'\n",
      " 0 6569350 n=1034 webPage=507 webLink='/#page=507&source=14_2'\n",
      " 0 6569351 n=1035 webPage=508 webLink='/#page=508&source=14_2'\n",
      " 0 6569352 n=1036 webPage=509 webLink='/#page=509&source=14_2'\n",
      " 0 6569353 n=1037 webPage=510 webLink='/#page=510&source=14_2'\n",
      " 0 6569354 n=1038 webPage=511 webLink='/#page=511&source=14_2'\n",
      " 0 6569355 n=1039 webPage=512 webLink='/#page=512&source=14_2'\n",
      " 0 6569356 n=1040 webPage=513 webLink='/#page=513&source=14_2'\n",
      " 0 6569357 n=1041 webPage=514 webLink='/#page=514&source=14_2'\n",
      " 0 6569358 n=1042 webPage=515 webLink='/#page=515&source=14_2'\n",
      " 0 6569359 n=1043 webPage=516 webLink='/#page=516&source=14_2'\n",
      " 0 6569360 n=1044 webPage=517 webLink='/#page=517&source=14_2'\n",
      " 0 6569361 n=1045 webPage=518 webLink='/#page=518&source=14_2'\n",
      " 0 6569362 n=1046 webPage=519 webLink='/#page=519&source=14_2'\n",
      " 0 6569363 n=1047 webPage=520 webLink='/#page=520&source=14_2'\n",
      " 0 6569364 n=1048 webPage=521 webLink='/#page=521&source=14_2'\n",
      " 0 6569365 n=1049 webPage=522 webLink='/#page=522&source=14_2'\n",
      " 0 6569366 n=1050 webPage=523 webLink='/#page=523&source=14_2'\n",
      " 0 6569367 n=1051 webPage=524 webLink='/#page=524&source=14_2'\n",
      " 0 6569368 n=1052 webPage=525 webLink='/#page=525&source=14_2'\n",
      " 0 6569369 n=1053 webPage=526 webLink='/#page=526&source=14_2'\n",
      " 0 6569370 n=1054 webPage=527 webLink='/#page=527&source=14_2'\n",
      " 0 6569371 n=1055 webPage=528 webLink='/#page=528&source=14_2'\n",
      " 0 6569372 n=1056 webPage=529 webLink='/#page=529&source=14_2'\n",
      " 0 6569373 n=1057 webPage=530 webLink='/#page=530&source=14_2'\n",
      " 0 6569374 n=1058 webPage=531 webLink='/#page=531&source=14_2'\n",
      " 0 6569375 n=1059 webPage=532 webLink='/#page=532&source=14_2'\n",
      " 0 6569376 n=1060 webPage=533 webLink='/#page=533&source=14_2'\n",
      " 0 6569377 n=1061 webPage=534 webLink='/#page=534&source=14_2'\n",
      " 0 6569378 n=1063 webPage=536 webLink='/#page=536&source=14_2'\n",
      " 0 6569379 n=1064 webPage=537 webLink='/#page=537&source=14_2'\n",
      " 0 6569380 n=1065 webPage=538 webLink='/#page=538&source=14_2'\n",
      " 0 6569381 n=1066 webPage=539 webLink='/#page=539&source=14_2'\n",
      " 0 6569382 n=1067 webPage=540 webLink='/#page=540&source=14_2'\n",
      " 0 6569383 n=1068 webPage=541 webLink='/#page=541&source=14_2'\n",
      " 0 6569384 n=1069 webPage=542 webLink='/#page=542&source=14_2'\n",
      " 0 6569385 n=1070 webPage=543 webLink='/#page=543&source=14_2'\n",
      " 0 6569386 n=1071 webPage=544 webLink='/#page=544&source=14_2'\n",
      " 0 6569387 n=1072 webPage=545 webLink='/#page=545&source=14_2'\n",
      " 0 6569388 n=1073 webPage=546 webLink='/#page=546&source=14_2'\n",
      " 0 6569389 n=1074 webPage=547 webLink='/#page=547&source=14_2'\n",
      " 0 6569390 n=1075 webPage=548 webLink='/#page=548&source=14_2'\n",
      " 0 6569391 n=1076 webPage=549 webLink='/#page=549&source=14_2'\n"
     ]
    }
   ],
   "source": [
    "vol14 = F.otype.s(\"volume\")[-1]\n",
    "pages = L.d(vol14, otype=\"page\")\n",
    "\n",
    "BAND_OFFSET = {\"1\": 13, \"2\": -527}\n",
    "initOffset = 13\n",
    "startPos = 7\n",
    "\n",
    "for page in pages:\n",
    "    n = F.n.v(page)\n",
    "    webLink = F.weblink.v(page)\n",
    "    endPos = webLink.find(\"&\")\n",
    "    webPage = int(webLink[startPos:endPos])\n",
    "    source = webLink[-1]\n",
    "    diff = webPage - n - BAND_OFFSET[source]\n",
    "    print(f\"{diff:>2} {page} {n=} {webPage=} {webLink=}\")"
   ]
  },
  {
   "cell_type": "code",
   "execution_count": 23,
   "id": "d8ef9728-589e-48a2-ab2a-5ba93697f694",
   "metadata": {},
   "outputs": [
    {
     "data": {
      "text/html": [
       "<div class=\"\"><span class=\"tfsechead \"><span class=\"ltr\"><a target=\"_blank\" href=\"http://resources.huygens.knaw.nl/retroboeken/generalemissiven/#page=14&amp;source=14_1\" title=\"Show this document on Huygens\" sec=\"14 1\">14 1</a></span></span>  <span class=\"txtu \"><span class=\"tfsechead ltr\"><span class=\"ltr\"> </span></span></span></div>"
      ],
      "text/plain": [
       "<IPython.core.display.HTML object>"
      ]
     },
     "metadata": {},
     "output_type": "display_data"
    },
    {
     "data": {
      "text/html": [
       "<div class=\"\"><span class=\"tfsechead \"><span class=\"ltr\"><a target=\"_blank\" href=\"http://resources.huygens.knaw.nl/retroboeken/generalemissiven/#page=24&amp;source=14_1\" title=\"Show this document on Huygens\" sec=\"14 11\">14 11</a></span></span>  <span class=\"txtu \"><span class=\"tfsechead ltr\"><span class=\"ltr\"> </span></span></span></div>"
      ],
      "text/plain": [
       "<IPython.core.display.HTML object>"
      ]
     },
     "metadata": {},
     "output_type": "display_data"
    },
    {
     "data": {
      "text/html": [
       "<div class=\"\"><span class=\"tfsechead \"><span class=\"ltr\"><a target=\"_blank\" href=\"http://resources.huygens.knaw.nl/retroboeken/generalemissiven/#page=34&amp;source=14_1\" title=\"Show this document on Huygens\" sec=\"14 21\">14 21</a></span></span>  <span class=\"txtu \"><span class=\"tfsechead ltr\"><span class=\"ltr\"> </span></span></span></div>"
      ],
      "text/plain": [
       "<IPython.core.display.HTML object>"
      ]
     },
     "metadata": {},
     "output_type": "display_data"
    },
    {
     "data": {
      "text/html": [
       "<div class=\"\"><span class=\"tfsechead \"><span class=\"ltr\"><a target=\"_blank\" href=\"http://resources.huygens.knaw.nl/retroboeken/generalemissiven/#page=44&amp;source=14_1\" title=\"Show this document on Huygens\" sec=\"14 31\">14 31</a></span></span>  <span class=\"txtu \"><span class=\"tfsechead ltr\"><span class=\"ltr\"> </span></span></span></div>"
      ],
      "text/plain": [
       "<IPython.core.display.HTML object>"
      ]
     },
     "metadata": {},
     "output_type": "display_data"
    },
    {
     "data": {
      "text/html": [
       "<div class=\"\"><span class=\"tfsechead \"><span class=\"ltr\"><a target=\"_blank\" href=\"http://resources.huygens.knaw.nl/retroboeken/generalemissiven/#page=54&amp;source=14_1\" title=\"Show this document on Huygens\" sec=\"14 41\">14 41</a></span></span>  <span class=\"txtu \"><span class=\"tfsechead ltr\"><span class=\"ltr\"> </span></span></span></div>"
      ],
      "text/plain": [
       "<IPython.core.display.HTML object>"
      ]
     },
     "metadata": {},
     "output_type": "display_data"
    },
    {
     "data": {
      "text/html": [
       "<div class=\"\"><span class=\"tfsechead \"><span class=\"ltr\"><a target=\"_blank\" href=\"http://resources.huygens.knaw.nl/retroboeken/generalemissiven/#page=64&amp;source=14_1\" title=\"Show this document on Huygens\" sec=\"14 51\">14 51</a></span></span>  <span class=\"txtu \"><span class=\"tfsechead ltr\"><span class=\"ltr\"> </span></span></span></div>"
      ],
      "text/plain": [
       "<IPython.core.display.HTML object>"
      ]
     },
     "metadata": {},
     "output_type": "display_data"
    },
    {
     "data": {
      "text/html": [
       "<div class=\"\"><span class=\"tfsechead \"><span class=\"ltr\"><a target=\"_blank\" href=\"http://resources.huygens.knaw.nl/retroboeken/generalemissiven/#page=74&amp;source=14_1\" title=\"Show this document on Huygens\" sec=\"14 61\">14 61</a></span></span>  <span class=\"txtu \"><span class=\"tfsechead ltr\"><span class=\"ltr\"> </span></span></span></div>"
      ],
      "text/plain": [
       "<IPython.core.display.HTML object>"
      ]
     },
     "metadata": {},
     "output_type": "display_data"
    },
    {
     "data": {
      "text/html": [
       "<div class=\"\"><span class=\"tfsechead \"><span class=\"ltr\"><a target=\"_blank\" href=\"http://resources.huygens.knaw.nl/retroboeken/generalemissiven/#page=84&amp;source=14_1\" title=\"Show this document on Huygens\" sec=\"14 71\">14 71</a></span></span>  <span class=\"txtu \"><span class=\"tfsechead ltr\"><span class=\"ltr\"> </span></span></span></div>"
      ],
      "text/plain": [
       "<IPython.core.display.HTML object>"
      ]
     },
     "metadata": {},
     "output_type": "display_data"
    },
    {
     "data": {
      "text/html": [
       "<div class=\"\"><span class=\"tfsechead \"><span class=\"ltr\"><a target=\"_blank\" href=\"http://resources.huygens.knaw.nl/retroboeken/generalemissiven/#page=94&amp;source=14_1\" title=\"Show this document on Huygens\" sec=\"14 81\">14 81</a></span></span>  <span class=\"txtu \"><span class=\"tfsechead ltr\"><span class=\"ltr\"> </span></span></span></div>"
      ],
      "text/plain": [
       "<IPython.core.display.HTML object>"
      ]
     },
     "metadata": {},
     "output_type": "display_data"
    },
    {
     "data": {
      "text/html": [
       "<div class=\"\"><span class=\"tfsechead \"><span class=\"ltr\"><a target=\"_blank\" href=\"http://resources.huygens.knaw.nl/retroboeken/generalemissiven/#page=104&amp;source=14_1\" title=\"Show this document on Huygens\" sec=\"14 91\">14 91</a></span></span>  <span class=\"txtu \"><span class=\"tfsechead ltr\"><span class=\"ltr\"> </span></span></span></div>"
      ],
      "text/plain": [
       "<IPython.core.display.HTML object>"
      ]
     },
     "metadata": {},
     "output_type": "display_data"
    },
    {
     "data": {
      "text/html": [
       "<div class=\"\"><span class=\"tfsechead \"><span class=\"ltr\"><a target=\"_blank\" href=\"http://resources.huygens.knaw.nl/retroboeken/generalemissiven/#page=114&amp;source=14_1\" title=\"Show this document on Huygens\" sec=\"14 101\">14 101</a></span></span>  <span class=\"txtu \"><span class=\"tfsechead ltr\"><span class=\"ltr\"> </span></span></span></div>"
      ],
      "text/plain": [
       "<IPython.core.display.HTML object>"
      ]
     },
     "metadata": {},
     "output_type": "display_data"
    },
    {
     "data": {
      "text/html": [
       "<div class=\"\"><span class=\"tfsechead \"><span class=\"ltr\"><a target=\"_blank\" href=\"http://resources.huygens.knaw.nl/retroboeken/generalemissiven/#page=124&amp;source=14_1\" title=\"Show this document on Huygens\" sec=\"14 111\">14 111</a></span></span>  <span class=\"txtu \"><span class=\"tfsechead ltr\"><span class=\"ltr\"> </span></span></span></div>"
      ],
      "text/plain": [
       "<IPython.core.display.HTML object>"
      ]
     },
     "metadata": {},
     "output_type": "display_data"
    },
    {
     "data": {
      "text/html": [
       "<div class=\"\"><span class=\"tfsechead \"><span class=\"ltr\"><a target=\"_blank\" href=\"http://resources.huygens.knaw.nl/retroboeken/generalemissiven/#page=134&amp;source=14_1\" title=\"Show this document on Huygens\" sec=\"14 121\">14 121</a></span></span>  <span class=\"txtu \"><span class=\"tfsechead ltr\"><span class=\"ltr\"> </span></span></span></div>"
      ],
      "text/plain": [
       "<IPython.core.display.HTML object>"
      ]
     },
     "metadata": {},
     "output_type": "display_data"
    },
    {
     "data": {
      "text/html": [
       "<div class=\"\"><span class=\"tfsechead \"><span class=\"ltr\"><a target=\"_blank\" href=\"http://resources.huygens.knaw.nl/retroboeken/generalemissiven/#page=144&amp;source=14_1\" title=\"Show this document on Huygens\" sec=\"14 131\">14 131</a></span></span>  <span class=\"txtu \"><span class=\"tfsechead ltr\"><span class=\"ltr\"> </span></span></span></div>"
      ],
      "text/plain": [
       "<IPython.core.display.HTML object>"
      ]
     },
     "metadata": {},
     "output_type": "display_data"
    },
    {
     "data": {
      "text/html": [
       "<div class=\"\"><span class=\"tfsechead \"><span class=\"ltr\"><a target=\"_blank\" href=\"http://resources.huygens.knaw.nl/retroboeken/generalemissiven/#page=154&amp;source=14_1\" title=\"Show this document on Huygens\" sec=\"14 141\">14 141</a></span></span>  <span class=\"txtu \"><span class=\"tfsechead ltr\"><span class=\"ltr\"> </span></span></span></div>"
      ],
      "text/plain": [
       "<IPython.core.display.HTML object>"
      ]
     },
     "metadata": {},
     "output_type": "display_data"
    },
    {
     "data": {
      "text/html": [
       "<div class=\"\"><span class=\"tfsechead \"><span class=\"ltr\"><a target=\"_blank\" href=\"http://resources.huygens.knaw.nl/retroboeken/generalemissiven/#page=164&amp;source=14_1\" title=\"Show this document on Huygens\" sec=\"14 151\">14 151</a></span></span>  <span class=\"txtu \"><span class=\"tfsechead ltr\"><span class=\"ltr\"> </span></span></span></div>"
      ],
      "text/plain": [
       "<IPython.core.display.HTML object>"
      ]
     },
     "metadata": {},
     "output_type": "display_data"
    },
    {
     "data": {
      "text/html": [
       "<div class=\"\"><span class=\"tfsechead \"><span class=\"ltr\"><a target=\"_blank\" href=\"http://resources.huygens.knaw.nl/retroboeken/generalemissiven/#page=174&amp;source=14_1\" title=\"Show this document on Huygens\" sec=\"14 161\">14 161</a></span></span>  <span class=\"txtu \"><span class=\"tfsechead ltr\"><span class=\"ltr\"> </span></span></span></div>"
      ],
      "text/plain": [
       "<IPython.core.display.HTML object>"
      ]
     },
     "metadata": {},
     "output_type": "display_data"
    },
    {
     "data": {
      "text/html": [
       "<div class=\"\"><span class=\"tfsechead \"><span class=\"ltr\"><a target=\"_blank\" href=\"http://resources.huygens.knaw.nl/retroboeken/generalemissiven/#page=184&amp;source=14_1\" title=\"Show this document on Huygens\" sec=\"14 171\">14 171</a></span></span>  <span class=\"txtu \"><span class=\"tfsechead ltr\"><span class=\"ltr\"> </span></span></span></div>"
      ],
      "text/plain": [
       "<IPython.core.display.HTML object>"
      ]
     },
     "metadata": {},
     "output_type": "display_data"
    },
    {
     "data": {
      "text/html": [
       "<div class=\"\"><span class=\"tfsechead \"><span class=\"ltr\"><a target=\"_blank\" href=\"http://resources.huygens.knaw.nl/retroboeken/generalemissiven/#page=194&amp;source=14_1\" title=\"Show this document on Huygens\" sec=\"14 181\">14 181</a></span></span>  <span class=\"txtu \"><span class=\"tfsechead ltr\"><span class=\"ltr\"> </span></span></span></div>"
      ],
      "text/plain": [
       "<IPython.core.display.HTML object>"
      ]
     },
     "metadata": {},
     "output_type": "display_data"
    },
    {
     "data": {
      "text/html": [
       "<div class=\"\"><span class=\"tfsechead \"><span class=\"ltr\"><a target=\"_blank\" href=\"http://resources.huygens.knaw.nl/retroboeken/generalemissiven/#page=204&amp;source=14_1\" title=\"Show this document on Huygens\" sec=\"14 191\">14 191</a></span></span>  <span class=\"txtu \"><span class=\"tfsechead ltr\"><span class=\"ltr\"> </span></span></span></div>"
      ],
      "text/plain": [
       "<IPython.core.display.HTML object>"
      ]
     },
     "metadata": {},
     "output_type": "display_data"
    },
    {
     "data": {
      "text/html": [
       "<div class=\"\"><span class=\"tfsechead \"><span class=\"ltr\"><a target=\"_blank\" href=\"http://resources.huygens.knaw.nl/retroboeken/generalemissiven/#page=214&amp;source=14_1\" title=\"Show this document on Huygens\" sec=\"14 201\">14 201</a></span></span>  <span class=\"txtu \"><span class=\"tfsechead ltr\"><span class=\"ltr\"> </span></span></span></div>"
      ],
      "text/plain": [
       "<IPython.core.display.HTML object>"
      ]
     },
     "metadata": {},
     "output_type": "display_data"
    },
    {
     "data": {
      "text/html": [
       "<div class=\"\"><span class=\"tfsechead \"><span class=\"ltr\"><a target=\"_blank\" href=\"http://resources.huygens.knaw.nl/retroboeken/generalemissiven/#page=224&amp;source=14_1\" title=\"Show this document on Huygens\" sec=\"14 211\">14 211</a></span></span>  <span class=\"txtu \"><span class=\"tfsechead ltr\"><span class=\"ltr\"> </span></span></span></div>"
      ],
      "text/plain": [
       "<IPython.core.display.HTML object>"
      ]
     },
     "metadata": {},
     "output_type": "display_data"
    },
    {
     "data": {
      "text/html": [
       "<div class=\"\"><span class=\"tfsechead \"><span class=\"ltr\"><a target=\"_blank\" href=\"http://resources.huygens.knaw.nl/retroboeken/generalemissiven/#page=234&amp;source=14_1\" title=\"Show this document on Huygens\" sec=\"14 221\">14 221</a></span></span>  <span class=\"txtu \"><span class=\"tfsechead ltr\"><span class=\"ltr\"> </span></span></span></div>"
      ],
      "text/plain": [
       "<IPython.core.display.HTML object>"
      ]
     },
     "metadata": {},
     "output_type": "display_data"
    },
    {
     "data": {
      "text/html": [
       "<div class=\"\"><span class=\"tfsechead \"><span class=\"ltr\"><a target=\"_blank\" href=\"http://resources.huygens.knaw.nl/retroboeken/generalemissiven/#page=244&amp;source=14_1\" title=\"Show this document on Huygens\" sec=\"14 231\">14 231</a></span></span>  <span class=\"txtu \"><span class=\"tfsechead ltr\"><span class=\"ltr\"> </span></span></span></div>"
      ],
      "text/plain": [
       "<IPython.core.display.HTML object>"
      ]
     },
     "metadata": {},
     "output_type": "display_data"
    },
    {
     "data": {
      "text/html": [
       "<div class=\"\"><span class=\"tfsechead \"><span class=\"ltr\"><a target=\"_blank\" href=\"http://resources.huygens.knaw.nl/retroboeken/generalemissiven/#page=254&amp;source=14_1\" title=\"Show this document on Huygens\" sec=\"14 241\">14 241</a></span></span>  <span class=\"txtu \"><span class=\"tfsechead ltr\"><span class=\"ltr\"> </span></span></span></div>"
      ],
      "text/plain": [
       "<IPython.core.display.HTML object>"
      ]
     },
     "metadata": {},
     "output_type": "display_data"
    },
    {
     "data": {
      "text/html": [
       "<div class=\"\"><span class=\"tfsechead \"><span class=\"ltr\"><a target=\"_blank\" href=\"http://resources.huygens.knaw.nl/retroboeken/generalemissiven/#page=264&amp;source=14_1\" title=\"Show this document on Huygens\" sec=\"14 251\">14 251</a></span></span>  <span class=\"txtu \"><span class=\"tfsechead ltr\"><span class=\"ltr\"> </span></span></span></div>"
      ],
      "text/plain": [
       "<IPython.core.display.HTML object>"
      ]
     },
     "metadata": {},
     "output_type": "display_data"
    },
    {
     "data": {
      "text/html": [
       "<div class=\"\"><span class=\"tfsechead \"><span class=\"ltr\"><a target=\"_blank\" href=\"http://resources.huygens.knaw.nl/retroboeken/generalemissiven/#page=274&amp;source=14_1\" title=\"Show this document on Huygens\" sec=\"14 261\">14 261</a></span></span>  <span class=\"txtu \"><span class=\"tfsechead ltr\"><span class=\"ltr\"> </span></span></span></div>"
      ],
      "text/plain": [
       "<IPython.core.display.HTML object>"
      ]
     },
     "metadata": {},
     "output_type": "display_data"
    },
    {
     "data": {
      "text/html": [
       "<div class=\"\"><span class=\"tfsechead \"><span class=\"ltr\"><a target=\"_blank\" href=\"http://resources.huygens.knaw.nl/retroboeken/generalemissiven/#page=284&amp;source=14_1\" title=\"Show this document on Huygens\" sec=\"14 271\">14 271</a></span></span>  <span class=\"txtu \"><span class=\"tfsechead ltr\"><span class=\"ltr\"> </span></span></span></div>"
      ],
      "text/plain": [
       "<IPython.core.display.HTML object>"
      ]
     },
     "metadata": {},
     "output_type": "display_data"
    },
    {
     "data": {
      "text/html": [
       "<div class=\"\"><span class=\"tfsechead \"><span class=\"ltr\"><a target=\"_blank\" href=\"http://resources.huygens.knaw.nl/retroboeken/generalemissiven/#page=294&amp;source=14_1\" title=\"Show this document on Huygens\" sec=\"14 281\">14 281</a></span></span>  <span class=\"txtu \"><span class=\"tfsechead ltr\"><span class=\"ltr\"> </span></span></span></div>"
      ],
      "text/plain": [
       "<IPython.core.display.HTML object>"
      ]
     },
     "metadata": {},
     "output_type": "display_data"
    },
    {
     "data": {
      "text/html": [
       "<div class=\"\"><span class=\"tfsechead \"><span class=\"ltr\"><a target=\"_blank\" href=\"http://resources.huygens.knaw.nl/retroboeken/generalemissiven/#page=304&amp;source=14_1\" title=\"Show this document on Huygens\" sec=\"14 291\">14 291</a></span></span>  <span class=\"txtu \"><span class=\"tfsechead ltr\"><span class=\"ltr\"> </span></span></span></div>"
      ],
      "text/plain": [
       "<IPython.core.display.HTML object>"
      ]
     },
     "metadata": {},
     "output_type": "display_data"
    },
    {
     "data": {
      "text/html": [
       "<div class=\"\"><span class=\"tfsechead \"><span class=\"ltr\"><a target=\"_blank\" href=\"http://resources.huygens.knaw.nl/retroboeken/generalemissiven/#page=314&amp;source=14_1\" title=\"Show this document on Huygens\" sec=\"14 301\">14 301</a></span></span>  <span class=\"txtu \"><span class=\"tfsechead ltr\"><span class=\"ltr\"> </span></span></span></div>"
      ],
      "text/plain": [
       "<IPython.core.display.HTML object>"
      ]
     },
     "metadata": {},
     "output_type": "display_data"
    },
    {
     "data": {
      "text/html": [
       "<div class=\"\"><span class=\"tfsechead \"><span class=\"ltr\"><a target=\"_blank\" href=\"http://resources.huygens.knaw.nl/retroboeken/generalemissiven/#page=324&amp;source=14_1\" title=\"Show this document on Huygens\" sec=\"14 311\">14 311</a></span></span>  <span class=\"txtu \"><span class=\"tfsechead ltr\"><span class=\"ltr\"> </span></span></span></div>"
      ],
      "text/plain": [
       "<IPython.core.display.HTML object>"
      ]
     },
     "metadata": {},
     "output_type": "display_data"
    },
    {
     "data": {
      "text/html": [
       "<div class=\"\"><span class=\"tfsechead \"><span class=\"ltr\"><a target=\"_blank\" href=\"http://resources.huygens.knaw.nl/retroboeken/generalemissiven/#page=334&amp;source=14_1\" title=\"Show this document on Huygens\" sec=\"14 321\">14 321</a></span></span>  <span class=\"txtu \"><span class=\"tfsechead ltr\"><span class=\"ltr\"> </span></span></span></div>"
      ],
      "text/plain": [
       "<IPython.core.display.HTML object>"
      ]
     },
     "metadata": {},
     "output_type": "display_data"
    },
    {
     "data": {
      "text/html": [
       "<div class=\"\"><span class=\"tfsechead \"><span class=\"ltr\"><a target=\"_blank\" href=\"http://resources.huygens.knaw.nl/retroboeken/generalemissiven/#page=344&amp;source=14_1\" title=\"Show this document on Huygens\" sec=\"14 331\">14 331</a></span></span>  <span class=\"txtu \"><span class=\"tfsechead ltr\"><span class=\"ltr\"> </span></span></span></div>"
      ],
      "text/plain": [
       "<IPython.core.display.HTML object>"
      ]
     },
     "metadata": {},
     "output_type": "display_data"
    },
    {
     "data": {
      "text/html": [
       "<div class=\"\"><span class=\"tfsechead \"><span class=\"ltr\"><a target=\"_blank\" href=\"http://resources.huygens.knaw.nl/retroboeken/generalemissiven/#page=354&amp;source=14_1\" title=\"Show this document on Huygens\" sec=\"14 341\">14 341</a></span></span>  <span class=\"txtu \"><span class=\"tfsechead ltr\"><span class=\"ltr\"> </span></span></span></div>"
      ],
      "text/plain": [
       "<IPython.core.display.HTML object>"
      ]
     },
     "metadata": {},
     "output_type": "display_data"
    },
    {
     "data": {
      "text/html": [
       "<div class=\"\"><span class=\"tfsechead \"><span class=\"ltr\"><a target=\"_blank\" href=\"http://resources.huygens.knaw.nl/retroboeken/generalemissiven/#page=364&amp;source=14_1\" title=\"Show this document on Huygens\" sec=\"14 351\">14 351</a></span></span>  <span class=\"txtu \"><span class=\"tfsechead ltr\"><span class=\"ltr\"> </span></span></span></div>"
      ],
      "text/plain": [
       "<IPython.core.display.HTML object>"
      ]
     },
     "metadata": {},
     "output_type": "display_data"
    },
    {
     "data": {
      "text/html": [
       "<div class=\"\"><span class=\"tfsechead \"><span class=\"ltr\"><a target=\"_blank\" href=\"http://resources.huygens.knaw.nl/retroboeken/generalemissiven/#page=374&amp;source=14_1\" title=\"Show this document on Huygens\" sec=\"14 361\">14 361</a></span></span>  <span class=\"txtu \"><span class=\"tfsechead ltr\"><span class=\"ltr\"> </span></span></span></div>"
      ],
      "text/plain": [
       "<IPython.core.display.HTML object>"
      ]
     },
     "metadata": {},
     "output_type": "display_data"
    },
    {
     "data": {
      "text/html": [
       "<div class=\"\"><span class=\"tfsechead \"><span class=\"ltr\"><a target=\"_blank\" href=\"http://resources.huygens.knaw.nl/retroboeken/generalemissiven/#page=384&amp;source=14_1\" title=\"Show this document on Huygens\" sec=\"14 371\">14 371</a></span></span>  <span class=\"txtu \"><span class=\"tfsechead ltr\"><span class=\"ltr\"> </span></span></span></div>"
      ],
      "text/plain": [
       "<IPython.core.display.HTML object>"
      ]
     },
     "metadata": {},
     "output_type": "display_data"
    },
    {
     "data": {
      "text/html": [
       "<div class=\"\"><span class=\"tfsechead \"><span class=\"ltr\"><a target=\"_blank\" href=\"http://resources.huygens.knaw.nl/retroboeken/generalemissiven/#page=394&amp;source=14_1\" title=\"Show this document on Huygens\" sec=\"14 381\">14 381</a></span></span>  <span class=\"txtu \"><span class=\"tfsechead ltr\"><span class=\"ltr\"> </span></span></span></div>"
      ],
      "text/plain": [
       "<IPython.core.display.HTML object>"
      ]
     },
     "metadata": {},
     "output_type": "display_data"
    },
    {
     "data": {
      "text/html": [
       "<div class=\"\"><span class=\"tfsechead \"><span class=\"ltr\"><a target=\"_blank\" href=\"http://resources.huygens.knaw.nl/retroboeken/generalemissiven/#page=404&amp;source=14_1\" title=\"Show this document on Huygens\" sec=\"14 391\">14 391</a></span></span>  <span class=\"txtu \"><span class=\"tfsechead ltr\"><span class=\"ltr\"> </span></span></span></div>"
      ],
      "text/plain": [
       "<IPython.core.display.HTML object>"
      ]
     },
     "metadata": {},
     "output_type": "display_data"
    },
    {
     "data": {
      "text/html": [
       "<div class=\"\"><span class=\"tfsechead \"><span class=\"ltr\"><a target=\"_blank\" href=\"http://resources.huygens.knaw.nl/retroboeken/generalemissiven/#page=414&amp;source=14_1\" title=\"Show this document on Huygens\" sec=\"14 401\">14 401</a></span></span>  <span class=\"txtu \"><span class=\"tfsechead ltr\"><span class=\"ltr\"> </span></span></span></div>"
      ],
      "text/plain": [
       "<IPython.core.display.HTML object>"
      ]
     },
     "metadata": {},
     "output_type": "display_data"
    },
    {
     "data": {
      "text/html": [
       "<div class=\"\"><span class=\"tfsechead \"><span class=\"ltr\"><a target=\"_blank\" href=\"http://resources.huygens.knaw.nl/retroboeken/generalemissiven/#page=424&amp;source=14_1\" title=\"Show this document on Huygens\" sec=\"14 411\">14 411</a></span></span>  <span class=\"txtu \"><span class=\"tfsechead ltr\"><span class=\"ltr\"> </span></span></span></div>"
      ],
      "text/plain": [
       "<IPython.core.display.HTML object>"
      ]
     },
     "metadata": {},
     "output_type": "display_data"
    },
    {
     "data": {
      "text/html": [
       "<div class=\"\"><span class=\"tfsechead \"><span class=\"ltr\"><a target=\"_blank\" href=\"http://resources.huygens.knaw.nl/retroboeken/generalemissiven/#page=434&amp;source=14_1\" title=\"Show this document on Huygens\" sec=\"14 421\">14 421</a></span></span>  <span class=\"txtu \"><span class=\"tfsechead ltr\"><span class=\"ltr\"> </span></span></span></div>"
      ],
      "text/plain": [
       "<IPython.core.display.HTML object>"
      ]
     },
     "metadata": {},
     "output_type": "display_data"
    },
    {
     "data": {
      "text/html": [
       "<div class=\"\"><span class=\"tfsechead \"><span class=\"ltr\"><a target=\"_blank\" href=\"http://resources.huygens.knaw.nl/retroboeken/generalemissiven/#page=444&amp;source=14_1\" title=\"Show this document on Huygens\" sec=\"14 431\">14 431</a></span></span>  <span class=\"txtu \"><span class=\"tfsechead ltr\"><span class=\"ltr\"> </span></span></span></div>"
      ],
      "text/plain": [
       "<IPython.core.display.HTML object>"
      ]
     },
     "metadata": {},
     "output_type": "display_data"
    },
    {
     "data": {
      "text/html": [
       "<div class=\"\"><span class=\"tfsechead \"><span class=\"ltr\"><a target=\"_blank\" href=\"http://resources.huygens.knaw.nl/retroboeken/generalemissiven/#page=454&amp;source=14_1\" title=\"Show this document on Huygens\" sec=\"14 441\">14 441</a></span></span>  <span class=\"txtu \"><span class=\"tfsechead ltr\"><span class=\"ltr\"> </span></span></span></div>"
      ],
      "text/plain": [
       "<IPython.core.display.HTML object>"
      ]
     },
     "metadata": {},
     "output_type": "display_data"
    },
    {
     "data": {
      "text/html": [
       "<div class=\"\"><span class=\"tfsechead \"><span class=\"ltr\"><a target=\"_blank\" href=\"http://resources.huygens.knaw.nl/retroboeken/generalemissiven/#page=464&amp;source=14_1\" title=\"Show this document on Huygens\" sec=\"14 451\">14 451</a></span></span>  <span class=\"txtu \"><span class=\"tfsechead ltr\"><span class=\"ltr\"> </span></span></span></div>"
      ],
      "text/plain": [
       "<IPython.core.display.HTML object>"
      ]
     },
     "metadata": {},
     "output_type": "display_data"
    },
    {
     "data": {
      "text/html": [
       "<div class=\"\"><span class=\"tfsechead \"><span class=\"ltr\"><a target=\"_blank\" href=\"http://resources.huygens.knaw.nl/retroboeken/generalemissiven/#page=474&amp;source=14_1\" title=\"Show this document on Huygens\" sec=\"14 461\">14 461</a></span></span>  <span class=\"txtu \"><span class=\"tfsechead ltr\"><span class=\"ltr\"> </span></span></span></div>"
      ],
      "text/plain": [
       "<IPython.core.display.HTML object>"
      ]
     },
     "metadata": {},
     "output_type": "display_data"
    },
    {
     "data": {
      "text/html": [
       "<div class=\"\"><span class=\"tfsechead \"><span class=\"ltr\"><a target=\"_blank\" href=\"http://resources.huygens.knaw.nl/retroboeken/generalemissiven/#page=484&amp;source=14_1\" title=\"Show this document on Huygens\" sec=\"14 471\">14 471</a></span></span>  <span class=\"txtu \"><span class=\"tfsechead ltr\"><span class=\"ltr\"> </span></span></span></div>"
      ],
      "text/plain": [
       "<IPython.core.display.HTML object>"
      ]
     },
     "metadata": {},
     "output_type": "display_data"
    },
    {
     "data": {
      "text/html": [
       "<div class=\"\"><span class=\"tfsechead \"><span class=\"ltr\"><a target=\"_blank\" href=\"http://resources.huygens.knaw.nl/retroboeken/generalemissiven/#page=494&amp;source=14_1\" title=\"Show this document on Huygens\" sec=\"14 481\">14 481</a></span></span>  <span class=\"txtu \"><span class=\"tfsechead ltr\"><span class=\"ltr\"> </span></span></span></div>"
      ],
      "text/plain": [
       "<IPython.core.display.HTML object>"
      ]
     },
     "metadata": {},
     "output_type": "display_data"
    },
    {
     "data": {
      "text/html": [
       "<div class=\"\"><span class=\"tfsechead \"><span class=\"ltr\"><a target=\"_blank\" href=\"http://resources.huygens.knaw.nl/retroboeken/generalemissiven/#page=504&amp;source=14_1\" title=\"Show this document on Huygens\" sec=\"14 491\">14 491</a></span></span>  <span class=\"txtu \"><span class=\"tfsechead ltr\"><span class=\"ltr\"> </span></span></span></div>"
      ],
      "text/plain": [
       "<IPython.core.display.HTML object>"
      ]
     },
     "metadata": {},
     "output_type": "display_data"
    },
    {
     "data": {
      "text/html": [
       "<div class=\"\"><span class=\"tfsechead \"><span class=\"ltr\"><a target=\"_blank\" href=\"http://resources.huygens.knaw.nl/retroboeken/generalemissiven/#page=514&amp;source=14_1\" title=\"Show this document on Huygens\" sec=\"14 501\">14 501</a></span></span>  <span class=\"txtu \"><span class=\"tfsechead ltr\"><span class=\"ltr\"> </span></span></span></div>"
      ],
      "text/plain": [
       "<IPython.core.display.HTML object>"
      ]
     },
     "metadata": {},
     "output_type": "display_data"
    },
    {
     "data": {
      "text/html": [
       "<div class=\"\"><span class=\"tfsechead \"><span class=\"ltr\"><a target=\"_blank\" href=\"http://resources.huygens.knaw.nl/retroboeken/generalemissiven/#page=524&amp;source=14_1\" title=\"Show this document on Huygens\" sec=\"14 511\">14 511</a></span></span>  <span class=\"txtu \"><span class=\"tfsechead ltr\"><span class=\"ltr\"> </span></span></span></div>"
      ],
      "text/plain": [
       "<IPython.core.display.HTML object>"
      ]
     },
     "metadata": {},
     "output_type": "display_data"
    },
    {
     "data": {
      "text/html": [
       "<div class=\"\"><span class=\"tfsechead \"><span class=\"ltr\"><a target=\"_blank\" href=\"http://resources.huygens.knaw.nl/retroboeken/generalemissiven/#page=534&amp;source=14_1\" title=\"Show this document on Huygens\" sec=\"14 521\">14 521</a></span></span>  <span class=\"txtu \"><span class=\"tfsechead ltr\"><span class=\"ltr\"> </span></span></span></div>"
      ],
      "text/plain": [
       "<IPython.core.display.HTML object>"
      ]
     },
     "metadata": {},
     "output_type": "display_data"
    },
    {
     "data": {
      "text/html": [
       "<div class=\"\"><span class=\"tfsechead \"><span class=\"ltr\"><a target=\"_blank\" href=\"http://resources.huygens.knaw.nl/retroboeken/generalemissiven/#page=544&amp;source=14_1\" title=\"Show this document on Huygens\" sec=\"14 531\">14 531</a></span></span>  <span class=\"txtu \"><span class=\"tfsechead ltr\"><span class=\"ltr\"> </span></span></span></div>"
      ],
      "text/plain": [
       "<IPython.core.display.HTML object>"
      ]
     },
     "metadata": {},
     "output_type": "display_data"
    },
    {
     "data": {
      "text/html": [
       "<div class=\"\"><span class=\"tfsechead \"><span class=\"ltr\"><a target=\"_blank\" href=\"http://resources.huygens.knaw.nl/retroboeken/generalemissiven/#page=14&amp;source=14_2\" title=\"Show this document on Huygens\" sec=\"14 541\">14 541</a></span></span>  <span class=\"txtu \"><span class=\"tfsechead ltr\"><span class=\"ltr\"> </span></span></span></div>"
      ],
      "text/plain": [
       "<IPython.core.display.HTML object>"
      ]
     },
     "metadata": {},
     "output_type": "display_data"
    },
    {
     "data": {
      "text/html": [
       "<div class=\"\"><span class=\"tfsechead \"><span class=\"ltr\"><a target=\"_blank\" href=\"http://resources.huygens.knaw.nl/retroboeken/generalemissiven/#page=24&amp;source=14_2\" title=\"Show this document on Huygens\" sec=\"14 551\">14 551</a></span></span>  <span class=\"txtu \"><span class=\"tfsechead ltr\"><span class=\"ltr\"> </span></span></span></div>"
      ],
      "text/plain": [
       "<IPython.core.display.HTML object>"
      ]
     },
     "metadata": {},
     "output_type": "display_data"
    },
    {
     "data": {
      "text/html": [
       "<div class=\"\"><span class=\"tfsechead \"><span class=\"ltr\"><a target=\"_blank\" href=\"http://resources.huygens.knaw.nl/retroboeken/generalemissiven/#page=34&amp;source=14_2\" title=\"Show this document on Huygens\" sec=\"14 561\">14 561</a></span></span>  <span class=\"txtu \"><span class=\"tfsechead ltr\"><span class=\"ltr\"> </span></span></span></div>"
      ],
      "text/plain": [
       "<IPython.core.display.HTML object>"
      ]
     },
     "metadata": {},
     "output_type": "display_data"
    },
    {
     "data": {
      "text/html": [
       "<div class=\"\"><span class=\"tfsechead \"><span class=\"ltr\"><a target=\"_blank\" href=\"http://resources.huygens.knaw.nl/retroboeken/generalemissiven/#page=44&amp;source=14_2\" title=\"Show this document on Huygens\" sec=\"14 571\">14 571</a></span></span>  <span class=\"txtu \"><span class=\"tfsechead ltr\"><span class=\"ltr\"> </span></span></span></div>"
      ],
      "text/plain": [
       "<IPython.core.display.HTML object>"
      ]
     },
     "metadata": {},
     "output_type": "display_data"
    },
    {
     "data": {
      "text/html": [
       "<div class=\"\"><span class=\"tfsechead \"><span class=\"ltr\"><a target=\"_blank\" href=\"http://resources.huygens.knaw.nl/retroboeken/generalemissiven/#page=54&amp;source=14_2\" title=\"Show this document on Huygens\" sec=\"14 581\">14 581</a></span></span>  <span class=\"txtu \"><span class=\"tfsechead ltr\"><span class=\"ltr\"> </span></span></span></div>"
      ],
      "text/plain": [
       "<IPython.core.display.HTML object>"
      ]
     },
     "metadata": {},
     "output_type": "display_data"
    },
    {
     "data": {
      "text/html": [
       "<div class=\"\"><span class=\"tfsechead \"><span class=\"ltr\"><a target=\"_blank\" href=\"http://resources.huygens.knaw.nl/retroboeken/generalemissiven/#page=64&amp;source=14_2\" title=\"Show this document on Huygens\" sec=\"14 591\">14 591</a></span></span>  <span class=\"txtu \"><span class=\"tfsechead ltr\"><span class=\"ltr\"> </span></span></span></div>"
      ],
      "text/plain": [
       "<IPython.core.display.HTML object>"
      ]
     },
     "metadata": {},
     "output_type": "display_data"
    },
    {
     "data": {
      "text/html": [
       "<div class=\"\"><span class=\"tfsechead \"><span class=\"ltr\"><a target=\"_blank\" href=\"http://resources.huygens.knaw.nl/retroboeken/generalemissiven/#page=74&amp;source=14_2\" title=\"Show this document on Huygens\" sec=\"14 601\">14 601</a></span></span>  <span class=\"txtu \"><span class=\"tfsechead ltr\"><span class=\"ltr\"> </span></span></span></div>"
      ],
      "text/plain": [
       "<IPython.core.display.HTML object>"
      ]
     },
     "metadata": {},
     "output_type": "display_data"
    },
    {
     "data": {
      "text/html": [
       "<div class=\"\"><span class=\"tfsechead \"><span class=\"ltr\"><a target=\"_blank\" href=\"http://resources.huygens.knaw.nl/retroboeken/generalemissiven/#page=84&amp;source=14_2\" title=\"Show this document on Huygens\" sec=\"14 611\">14 611</a></span></span>  <span class=\"txtu \"><span class=\"tfsechead ltr\"><span class=\"ltr\"> </span></span></span></div>"
      ],
      "text/plain": [
       "<IPython.core.display.HTML object>"
      ]
     },
     "metadata": {},
     "output_type": "display_data"
    },
    {
     "data": {
      "text/html": [
       "<div class=\"\"><span class=\"tfsechead \"><span class=\"ltr\"><a target=\"_blank\" href=\"http://resources.huygens.knaw.nl/retroboeken/generalemissiven/#page=94&amp;source=14_2\" title=\"Show this document on Huygens\" sec=\"14 621\">14 621</a></span></span>  <span class=\"txtu \"><span class=\"tfsechead ltr\"><span class=\"ltr\"> </span></span></span></div>"
      ],
      "text/plain": [
       "<IPython.core.display.HTML object>"
      ]
     },
     "metadata": {},
     "output_type": "display_data"
    },
    {
     "data": {
      "text/html": [
       "<div class=\"\"><span class=\"tfsechead \"><span class=\"ltr\"><a target=\"_blank\" href=\"http://resources.huygens.knaw.nl/retroboeken/generalemissiven/#page=104&amp;source=14_2\" title=\"Show this document on Huygens\" sec=\"14 631\">14 631</a></span></span>  <span class=\"txtu \"><span class=\"tfsechead ltr\"><span class=\"ltr\"> </span></span></span></div>"
      ],
      "text/plain": [
       "<IPython.core.display.HTML object>"
      ]
     },
     "metadata": {},
     "output_type": "display_data"
    },
    {
     "data": {
      "text/html": [
       "<div class=\"\"><span class=\"tfsechead \"><span class=\"ltr\"><a target=\"_blank\" href=\"http://resources.huygens.knaw.nl/retroboeken/generalemissiven/#page=114&amp;source=14_2\" title=\"Show this document on Huygens\" sec=\"14 641\">14 641</a></span></span>  <span class=\"txtu \"><span class=\"tfsechead ltr\"><span class=\"ltr\"> </span></span></span></div>"
      ],
      "text/plain": [
       "<IPython.core.display.HTML object>"
      ]
     },
     "metadata": {},
     "output_type": "display_data"
    },
    {
     "data": {
      "text/html": [
       "<div class=\"\"><span class=\"tfsechead \"><span class=\"ltr\"><a target=\"_blank\" href=\"http://resources.huygens.knaw.nl/retroboeken/generalemissiven/#page=124&amp;source=14_2\" title=\"Show this document on Huygens\" sec=\"14 651\">14 651</a></span></span>  <span class=\"txtu \"><span class=\"tfsechead ltr\"><span class=\"ltr\"> </span></span></span></div>"
      ],
      "text/plain": [
       "<IPython.core.display.HTML object>"
      ]
     },
     "metadata": {},
     "output_type": "display_data"
    },
    {
     "data": {
      "text/html": [
       "<div class=\"\"><span class=\"tfsechead \"><span class=\"ltr\"><a target=\"_blank\" href=\"http://resources.huygens.knaw.nl/retroboeken/generalemissiven/#page=134&amp;source=14_2\" title=\"Show this document on Huygens\" sec=\"14 661\">14 661</a></span></span>  <span class=\"txtu \"><span class=\"tfsechead ltr\"><span class=\"ltr\"> </span></span></span></div>"
      ],
      "text/plain": [
       "<IPython.core.display.HTML object>"
      ]
     },
     "metadata": {},
     "output_type": "display_data"
    },
    {
     "data": {
      "text/html": [
       "<div class=\"\"><span class=\"tfsechead \"><span class=\"ltr\"><a target=\"_blank\" href=\"http://resources.huygens.knaw.nl/retroboeken/generalemissiven/#page=144&amp;source=14_2\" title=\"Show this document on Huygens\" sec=\"14 671\">14 671</a></span></span>  <span class=\"txtu \"><span class=\"tfsechead ltr\"><span class=\"ltr\"> </span></span></span></div>"
      ],
      "text/plain": [
       "<IPython.core.display.HTML object>"
      ]
     },
     "metadata": {},
     "output_type": "display_data"
    },
    {
     "data": {
      "text/html": [
       "<div class=\"\"><span class=\"tfsechead \"><span class=\"ltr\"><a target=\"_blank\" href=\"http://resources.huygens.knaw.nl/retroboeken/generalemissiven/#page=154&amp;source=14_2\" title=\"Show this document on Huygens\" sec=\"14 681\">14 681</a></span></span>  <span class=\"txtu \"><span class=\"tfsechead ltr\"><span class=\"ltr\"> </span></span></span></div>"
      ],
      "text/plain": [
       "<IPython.core.display.HTML object>"
      ]
     },
     "metadata": {},
     "output_type": "display_data"
    },
    {
     "data": {
      "text/html": [
       "<div class=\"\"><span class=\"tfsechead \"><span class=\"ltr\"><a target=\"_blank\" href=\"http://resources.huygens.knaw.nl/retroboeken/generalemissiven/#page=164&amp;source=14_2\" title=\"Show this document on Huygens\" sec=\"14 691\">14 691</a></span></span>  <span class=\"txtu \"><span class=\"tfsechead ltr\"><span class=\"ltr\"> </span></span></span></div>"
      ],
      "text/plain": [
       "<IPython.core.display.HTML object>"
      ]
     },
     "metadata": {},
     "output_type": "display_data"
    },
    {
     "data": {
      "text/html": [
       "<div class=\"\"><span class=\"tfsechead \"><span class=\"ltr\"><a target=\"_blank\" href=\"http://resources.huygens.knaw.nl/retroboeken/generalemissiven/#page=174&amp;source=14_2\" title=\"Show this document on Huygens\" sec=\"14 701\">14 701</a></span></span>  <span class=\"txtu \"><span class=\"tfsechead ltr\"><span class=\"ltr\"> </span></span></span></div>"
      ],
      "text/plain": [
       "<IPython.core.display.HTML object>"
      ]
     },
     "metadata": {},
     "output_type": "display_data"
    },
    {
     "data": {
      "text/html": [
       "<div class=\"\"><span class=\"tfsechead \"><span class=\"ltr\"><a target=\"_blank\" href=\"http://resources.huygens.knaw.nl/retroboeken/generalemissiven/#page=184&amp;source=14_2\" title=\"Show this document on Huygens\" sec=\"14 711\">14 711</a></span></span>  <span class=\"txtu \"><span class=\"tfsechead ltr\"><span class=\"ltr\"> </span></span></span></div>"
      ],
      "text/plain": [
       "<IPython.core.display.HTML object>"
      ]
     },
     "metadata": {},
     "output_type": "display_data"
    },
    {
     "data": {
      "text/html": [
       "<div class=\"\"><span class=\"tfsechead \"><span class=\"ltr\"><a target=\"_blank\" href=\"http://resources.huygens.knaw.nl/retroboeken/generalemissiven/#page=194&amp;source=14_2\" title=\"Show this document on Huygens\" sec=\"14 721\">14 721</a></span></span>  <span class=\"txtu \"><span class=\"tfsechead ltr\"><span class=\"ltr\"> </span></span></span></div>"
      ],
      "text/plain": [
       "<IPython.core.display.HTML object>"
      ]
     },
     "metadata": {},
     "output_type": "display_data"
    },
    {
     "data": {
      "text/html": [
       "<div class=\"\"><span class=\"tfsechead \"><span class=\"ltr\"><a target=\"_blank\" href=\"http://resources.huygens.knaw.nl/retroboeken/generalemissiven/#page=204&amp;source=14_2\" title=\"Show this document on Huygens\" sec=\"14 731\">14 731</a></span></span>  <span class=\"txtu \"><span class=\"tfsechead ltr\"><span class=\"ltr\"> </span></span></span></div>"
      ],
      "text/plain": [
       "<IPython.core.display.HTML object>"
      ]
     },
     "metadata": {},
     "output_type": "display_data"
    },
    {
     "data": {
      "text/html": [
       "<div class=\"\"><span class=\"tfsechead \"><span class=\"ltr\"><a target=\"_blank\" href=\"http://resources.huygens.knaw.nl/retroboeken/generalemissiven/#page=214&amp;source=14_2\" title=\"Show this document on Huygens\" sec=\"14 741\">14 741</a></span></span>  <span class=\"txtu \"><span class=\"tfsechead ltr\"><span class=\"ltr\"> </span></span></span></div>"
      ],
      "text/plain": [
       "<IPython.core.display.HTML object>"
      ]
     },
     "metadata": {},
     "output_type": "display_data"
    },
    {
     "data": {
      "text/html": [
       "<div class=\"\"><span class=\"tfsechead \"><span class=\"ltr\"><a target=\"_blank\" href=\"http://resources.huygens.knaw.nl/retroboeken/generalemissiven/#page=224&amp;source=14_2\" title=\"Show this document on Huygens\" sec=\"14 751\">14 751</a></span></span>  <span class=\"txtu \"><span class=\"tfsechead ltr\"><span class=\"ltr\"> </span></span></span></div>"
      ],
      "text/plain": [
       "<IPython.core.display.HTML object>"
      ]
     },
     "metadata": {},
     "output_type": "display_data"
    },
    {
     "data": {
      "text/html": [
       "<div class=\"\"><span class=\"tfsechead \"><span class=\"ltr\"><a target=\"_blank\" href=\"http://resources.huygens.knaw.nl/retroboeken/generalemissiven/#page=234&amp;source=14_2\" title=\"Show this document on Huygens\" sec=\"14 761\">14 761</a></span></span>  <span class=\"txtu \"><span class=\"tfsechead ltr\"><span class=\"ltr\"> </span></span></span></div>"
      ],
      "text/plain": [
       "<IPython.core.display.HTML object>"
      ]
     },
     "metadata": {},
     "output_type": "display_data"
    },
    {
     "data": {
      "text/html": [
       "<div class=\"\"><span class=\"tfsechead \"><span class=\"ltr\"><a target=\"_blank\" href=\"http://resources.huygens.knaw.nl/retroboeken/generalemissiven/#page=244&amp;source=14_2\" title=\"Show this document on Huygens\" sec=\"14 771\">14 771</a></span></span>  <span class=\"txtu \"><span class=\"tfsechead ltr\"><span class=\"ltr\"> </span></span></span></div>"
      ],
      "text/plain": [
       "<IPython.core.display.HTML object>"
      ]
     },
     "metadata": {},
     "output_type": "display_data"
    },
    {
     "data": {
      "text/html": [
       "<div class=\"\"><span class=\"tfsechead \"><span class=\"ltr\"><a target=\"_blank\" href=\"http://resources.huygens.knaw.nl/retroboeken/generalemissiven/#page=254&amp;source=14_2\" title=\"Show this document on Huygens\" sec=\"14 781\">14 781</a></span></span>  <span class=\"txtu \"><span class=\"tfsechead ltr\"><span class=\"ltr\"> </span></span></span></div>"
      ],
      "text/plain": [
       "<IPython.core.display.HTML object>"
      ]
     },
     "metadata": {},
     "output_type": "display_data"
    },
    {
     "data": {
      "text/html": [
       "<div class=\"\"><span class=\"tfsechead \"><span class=\"ltr\"><a target=\"_blank\" href=\"http://resources.huygens.knaw.nl/retroboeken/generalemissiven/#page=264&amp;source=14_2\" title=\"Show this document on Huygens\" sec=\"14 791\">14 791</a></span></span>  <span class=\"txtu \"><span class=\"tfsechead ltr\"><span class=\"ltr\"> </span></span></span></div>"
      ],
      "text/plain": [
       "<IPython.core.display.HTML object>"
      ]
     },
     "metadata": {},
     "output_type": "display_data"
    },
    {
     "data": {
      "text/html": [
       "<div class=\"\"><span class=\"tfsechead \"><span class=\"ltr\"><a target=\"_blank\" href=\"http://resources.huygens.knaw.nl/retroboeken/generalemissiven/#page=274&amp;source=14_2\" title=\"Show this document on Huygens\" sec=\"14 801\">14 801</a></span></span>  <span class=\"txtu \"><span class=\"tfsechead ltr\"><span class=\"ltr\"> </span></span></span></div>"
      ],
      "text/plain": [
       "<IPython.core.display.HTML object>"
      ]
     },
     "metadata": {},
     "output_type": "display_data"
    },
    {
     "data": {
      "text/html": [
       "<div class=\"\"><span class=\"tfsechead \"><span class=\"ltr\"><a target=\"_blank\" href=\"http://resources.huygens.knaw.nl/retroboeken/generalemissiven/#page=284&amp;source=14_2\" title=\"Show this document on Huygens\" sec=\"14 811\">14 811</a></span></span>  <span class=\"txtu \"><span class=\"tfsechead ltr\"><span class=\"ltr\"> </span></span></span></div>"
      ],
      "text/plain": [
       "<IPython.core.display.HTML object>"
      ]
     },
     "metadata": {},
     "output_type": "display_data"
    },
    {
     "data": {
      "text/html": [
       "<div class=\"\"><span class=\"tfsechead \"><span class=\"ltr\"><a target=\"_blank\" href=\"http://resources.huygens.knaw.nl/retroboeken/generalemissiven/#page=294&amp;source=14_2\" title=\"Show this document on Huygens\" sec=\"14 821\">14 821</a></span></span>  <span class=\"txtu \"><span class=\"tfsechead ltr\"><span class=\"ltr\"> </span></span></span></div>"
      ],
      "text/plain": [
       "<IPython.core.display.HTML object>"
      ]
     },
     "metadata": {},
     "output_type": "display_data"
    },
    {
     "data": {
      "text/html": [
       "<div class=\"\"><span class=\"tfsechead \"><span class=\"ltr\"><a target=\"_blank\" href=\"http://resources.huygens.knaw.nl/retroboeken/generalemissiven/#page=304&amp;source=14_2\" title=\"Show this document on Huygens\" sec=\"14 831\">14 831</a></span></span>  <span class=\"txtu \"><span class=\"tfsechead ltr\"><span class=\"ltr\"> </span></span></span></div>"
      ],
      "text/plain": [
       "<IPython.core.display.HTML object>"
      ]
     },
     "metadata": {},
     "output_type": "display_data"
    },
    {
     "data": {
      "text/html": [
       "<div class=\"\"><span class=\"tfsechead \"><span class=\"ltr\"><a target=\"_blank\" href=\"http://resources.huygens.knaw.nl/retroboeken/generalemissiven/#page=314&amp;source=14_2\" title=\"Show this document on Huygens\" sec=\"14 841\">14 841</a></span></span>  <span class=\"txtu \"><span class=\"tfsechead ltr\"><span class=\"ltr\"> </span></span></span></div>"
      ],
      "text/plain": [
       "<IPython.core.display.HTML object>"
      ]
     },
     "metadata": {},
     "output_type": "display_data"
    },
    {
     "data": {
      "text/html": [
       "<div class=\"\"><span class=\"tfsechead \"><span class=\"ltr\"><a target=\"_blank\" href=\"http://resources.huygens.knaw.nl/retroboeken/generalemissiven/#page=324&amp;source=14_2\" title=\"Show this document on Huygens\" sec=\"14 851\">14 851</a></span></span>  <span class=\"txtu \"><span class=\"tfsechead ltr\"><span class=\"ltr\"> </span></span></span></div>"
      ],
      "text/plain": [
       "<IPython.core.display.HTML object>"
      ]
     },
     "metadata": {},
     "output_type": "display_data"
    },
    {
     "data": {
      "text/html": [
       "<div class=\"\"><span class=\"tfsechead \"><span class=\"ltr\"><a target=\"_blank\" href=\"http://resources.huygens.knaw.nl/retroboeken/generalemissiven/#page=334&amp;source=14_2\" title=\"Show this document on Huygens\" sec=\"14 861\">14 861</a></span></span>  <span class=\"txtu \"><span class=\"tfsechead ltr\"><span class=\"ltr\"> </span></span></span></div>"
      ],
      "text/plain": [
       "<IPython.core.display.HTML object>"
      ]
     },
     "metadata": {},
     "output_type": "display_data"
    },
    {
     "data": {
      "text/html": [
       "<div class=\"\"><span class=\"tfsechead \"><span class=\"ltr\"><a target=\"_blank\" href=\"http://resources.huygens.knaw.nl/retroboeken/generalemissiven/#page=344&amp;source=14_2\" title=\"Show this document on Huygens\" sec=\"14 871\">14 871</a></span></span>  <span class=\"txtu \"><span class=\"tfsechead ltr\"><span class=\"ltr\"> </span></span></span></div>"
      ],
      "text/plain": [
       "<IPython.core.display.HTML object>"
      ]
     },
     "metadata": {},
     "output_type": "display_data"
    },
    {
     "data": {
      "text/html": [
       "<div class=\"\"><span class=\"tfsechead \"><span class=\"ltr\"><a target=\"_blank\" href=\"http://resources.huygens.knaw.nl/retroboeken/generalemissiven/#page=354&amp;source=14_2\" title=\"Show this document on Huygens\" sec=\"14 881\">14 881</a></span></span>  <span class=\"txtu \"><span class=\"tfsechead ltr\"><span class=\"ltr\"> </span></span></span></div>"
      ],
      "text/plain": [
       "<IPython.core.display.HTML object>"
      ]
     },
     "metadata": {},
     "output_type": "display_data"
    },
    {
     "data": {
      "text/html": [
       "<div class=\"\"><span class=\"tfsechead \"><span class=\"ltr\"><a target=\"_blank\" href=\"http://resources.huygens.knaw.nl/retroboeken/generalemissiven/#page=364&amp;source=14_2\" title=\"Show this document on Huygens\" sec=\"14 891\">14 891</a></span></span>  <span class=\"txtu \"><span class=\"tfsechead ltr\"><span class=\"ltr\"> </span></span></span></div>"
      ],
      "text/plain": [
       "<IPython.core.display.HTML object>"
      ]
     },
     "metadata": {},
     "output_type": "display_data"
    },
    {
     "data": {
      "text/html": [
       "<div class=\"\"><span class=\"tfsechead \"><span class=\"ltr\"><a target=\"_blank\" href=\"http://resources.huygens.knaw.nl/retroboeken/generalemissiven/#page=374&amp;source=14_2\" title=\"Show this document on Huygens\" sec=\"14 901\">14 901</a></span></span>  <span class=\"txtu \"><span class=\"tfsechead ltr\"><span class=\"ltr\"> </span></span></span></div>"
      ],
      "text/plain": [
       "<IPython.core.display.HTML object>"
      ]
     },
     "metadata": {},
     "output_type": "display_data"
    },
    {
     "data": {
      "text/html": [
       "<div class=\"\"><span class=\"tfsechead \"><span class=\"ltr\"><a target=\"_blank\" href=\"http://resources.huygens.knaw.nl/retroboeken/generalemissiven/#page=384&amp;source=14_2\" title=\"Show this document on Huygens\" sec=\"14 911\">14 911</a></span></span>  <span class=\"txtu \"><span class=\"tfsechead ltr\"><span class=\"ltr\"> </span></span></span></div>"
      ],
      "text/plain": [
       "<IPython.core.display.HTML object>"
      ]
     },
     "metadata": {},
     "output_type": "display_data"
    },
    {
     "data": {
      "text/html": [
       "<div class=\"\"><span class=\"tfsechead \"><span class=\"ltr\"><a target=\"_blank\" href=\"http://resources.huygens.knaw.nl/retroboeken/generalemissiven/#page=394&amp;source=14_2\" title=\"Show this document on Huygens\" sec=\"14 921\">14 921</a></span></span>  <span class=\"txtu \"><span class=\"tfsechead ltr\"><span class=\"ltr\"> </span></span></span></div>"
      ],
      "text/plain": [
       "<IPython.core.display.HTML object>"
      ]
     },
     "metadata": {},
     "output_type": "display_data"
    },
    {
     "data": {
      "text/html": [
       "<div class=\"\"><span class=\"tfsechead \"><span class=\"ltr\"><a target=\"_blank\" href=\"http://resources.huygens.knaw.nl/retroboeken/generalemissiven/#page=404&amp;source=14_2\" title=\"Show this document on Huygens\" sec=\"14 931\">14 931</a></span></span>  <span class=\"txtu \"><span class=\"tfsechead ltr\"><span class=\"ltr\"> </span></span></span></div>"
      ],
      "text/plain": [
       "<IPython.core.display.HTML object>"
      ]
     },
     "metadata": {},
     "output_type": "display_data"
    },
    {
     "data": {
      "text/html": [
       "<div class=\"\"><span class=\"tfsechead \"><span class=\"ltr\"><a target=\"_blank\" href=\"http://resources.huygens.knaw.nl/retroboeken/generalemissiven/#page=414&amp;source=14_2\" title=\"Show this document on Huygens\" sec=\"14 941\">14 941</a></span></span>  <span class=\"txtu \"><span class=\"tfsechead ltr\"><span class=\"ltr\"> </span></span></span></div>"
      ],
      "text/plain": [
       "<IPython.core.display.HTML object>"
      ]
     },
     "metadata": {},
     "output_type": "display_data"
    },
    {
     "data": {
      "text/html": [
       "<div class=\"\"><span class=\"tfsechead \"><span class=\"ltr\"><a target=\"_blank\" href=\"http://resources.huygens.knaw.nl/retroboeken/generalemissiven/#page=424&amp;source=14_2\" title=\"Show this document on Huygens\" sec=\"14 951\">14 951</a></span></span>  <span class=\"txtu \"><span class=\"tfsechead ltr\"><span class=\"ltr\"> </span></span></span></div>"
      ],
      "text/plain": [
       "<IPython.core.display.HTML object>"
      ]
     },
     "metadata": {},
     "output_type": "display_data"
    },
    {
     "data": {
      "text/html": [
       "<div class=\"\"><span class=\"tfsechead \"><span class=\"ltr\"><a target=\"_blank\" href=\"http://resources.huygens.knaw.nl/retroboeken/generalemissiven/#page=434&amp;source=14_2\" title=\"Show this document on Huygens\" sec=\"14 961\">14 961</a></span></span>  <span class=\"txtu \"><span class=\"tfsechead ltr\"><span class=\"ltr\"> </span></span></span></div>"
      ],
      "text/plain": [
       "<IPython.core.display.HTML object>"
      ]
     },
     "metadata": {},
     "output_type": "display_data"
    },
    {
     "data": {
      "text/html": [
       "<div class=\"\"><span class=\"tfsechead \"><span class=\"ltr\"><a target=\"_blank\" href=\"http://resources.huygens.knaw.nl/retroboeken/generalemissiven/#page=444&amp;source=14_2\" title=\"Show this document on Huygens\" sec=\"14 971\">14 971</a></span></span>  <span class=\"txtu \"><span class=\"tfsechead ltr\"><span class=\"ltr\"> </span></span></span></div>"
      ],
      "text/plain": [
       "<IPython.core.display.HTML object>"
      ]
     },
     "metadata": {},
     "output_type": "display_data"
    },
    {
     "data": {
      "text/html": [
       "<div class=\"\"><span class=\"tfsechead \"><span class=\"ltr\"><a target=\"_blank\" href=\"http://resources.huygens.knaw.nl/retroboeken/generalemissiven/#page=454&amp;source=14_2\" title=\"Show this document on Huygens\" sec=\"14 981\">14 981</a></span></span>  <span class=\"txtu \"><span class=\"tfsechead ltr\"><span class=\"ltr\"> </span></span></span></div>"
      ],
      "text/plain": [
       "<IPython.core.display.HTML object>"
      ]
     },
     "metadata": {},
     "output_type": "display_data"
    },
    {
     "data": {
      "text/html": [
       "<div class=\"\"><span class=\"tfsechead \"><span class=\"ltr\"><a target=\"_blank\" href=\"http://resources.huygens.knaw.nl/retroboeken/generalemissiven/#page=464&amp;source=14_2\" title=\"Show this document on Huygens\" sec=\"14 991\">14 991</a></span></span>  <span class=\"txtu \"><span class=\"tfsechead ltr\"><span class=\"ltr\"> </span></span></span></div>"
      ],
      "text/plain": [
       "<IPython.core.display.HTML object>"
      ]
     },
     "metadata": {},
     "output_type": "display_data"
    },
    {
     "data": {
      "text/html": [
       "<div class=\"\"><span class=\"tfsechead \"><span class=\"ltr\"><a target=\"_blank\" href=\"http://resources.huygens.knaw.nl/retroboeken/generalemissiven/#page=474&amp;source=14_2\" title=\"Show this document on Huygens\" sec=\"14 1001\">14 1001</a></span></span>  <span class=\"txtu \"><span class=\"tfsechead ltr\"><span class=\"ltr\"> </span></span></span></div>"
      ],
      "text/plain": [
       "<IPython.core.display.HTML object>"
      ]
     },
     "metadata": {},
     "output_type": "display_data"
    },
    {
     "data": {
      "text/html": [
       "<div class=\"\"><span class=\"tfsechead \"><span class=\"ltr\"><a target=\"_blank\" href=\"http://resources.huygens.knaw.nl/retroboeken/generalemissiven/#page=484&amp;source=14_2\" title=\"Show this document on Huygens\" sec=\"14 1011\">14 1011</a></span></span>  <span class=\"txtu \"><span class=\"tfsechead ltr\"><span class=\"ltr\"> </span></span></span></div>"
      ],
      "text/plain": [
       "<IPython.core.display.HTML object>"
      ]
     },
     "metadata": {},
     "output_type": "display_data"
    },
    {
     "data": {
      "text/html": [
       "<div class=\"\"><span class=\"tfsechead \"><span class=\"ltr\"><a target=\"_blank\" href=\"http://resources.huygens.knaw.nl/retroboeken/generalemissiven/#page=494&amp;source=14_2\" title=\"Show this document on Huygens\" sec=\"14 1021\">14 1021</a></span></span>  <span class=\"txtu \"><span class=\"tfsechead ltr\"><span class=\"ltr\"> </span></span></span></div>"
      ],
      "text/plain": [
       "<IPython.core.display.HTML object>"
      ]
     },
     "metadata": {},
     "output_type": "display_data"
    },
    {
     "data": {
      "text/html": [
       "<div class=\"\"><span class=\"tfsechead \"><span class=\"ltr\"><a target=\"_blank\" href=\"http://resources.huygens.knaw.nl/retroboeken/generalemissiven/#page=504&amp;source=14_2\" title=\"Show this document on Huygens\" sec=\"14 1031\">14 1031</a></span></span>  <span class=\"txtu \"><span class=\"tfsechead ltr\"><span class=\"ltr\"> </span></span></span></div>"
      ],
      "text/plain": [
       "<IPython.core.display.HTML object>"
      ]
     },
     "metadata": {},
     "output_type": "display_data"
    },
    {
     "data": {
      "text/html": [
       "<div class=\"\"><span class=\"tfsechead \"><span class=\"ltr\"><a target=\"_blank\" href=\"http://resources.huygens.knaw.nl/retroboeken/generalemissiven/#page=514&amp;source=14_2\" title=\"Show this document on Huygens\" sec=\"14 1041\">14 1041</a></span></span>  <span class=\"txtu \"><span class=\"tfsechead ltr\"><span class=\"ltr\"> </span></span></span></div>"
      ],
      "text/plain": [
       "<IPython.core.display.HTML object>"
      ]
     },
     "metadata": {},
     "output_type": "display_data"
    },
    {
     "data": {
      "text/html": [
       "<div class=\"\"><span class=\"tfsechead \"><span class=\"ltr\"><a target=\"_blank\" href=\"http://resources.huygens.knaw.nl/retroboeken/generalemissiven/#page=524&amp;source=14_2\" title=\"Show this document on Huygens\" sec=\"14 1051\">14 1051</a></span></span>  <span class=\"txtu \"><span class=\"tfsechead ltr\"><span class=\"ltr\"> </span></span></span></div>"
      ],
      "text/plain": [
       "<IPython.core.display.HTML object>"
      ]
     },
     "metadata": {},
     "output_type": "display_data"
    },
    {
     "data": {
      "text/html": [
       "<div class=\"\"><span class=\"tfsechead \"><span class=\"ltr\"><a target=\"_blank\" href=\"http://resources.huygens.knaw.nl/retroboeken/generalemissiven/#page=534&amp;source=14_2\" title=\"Show this document on Huygens\" sec=\"14 1061\">14 1061</a></span></span>  <span class=\"txtu \"><span class=\"tfsechead ltr\"><span class=\"ltr\"> </span></span></span></div>"
      ],
      "text/plain": [
       "<IPython.core.display.HTML object>"
      ]
     },
     "metadata": {},
     "output_type": "display_data"
    },
    {
     "data": {
      "text/html": [
       "<div class=\"\"><span class=\"tfsechead \"><span class=\"ltr\"><a target=\"_blank\" href=\"http://resources.huygens.knaw.nl/retroboeken/generalemissiven/#page=544&amp;source=14_2\" title=\"Show this document on Huygens\" sec=\"14 1071\">14 1071</a></span></span>  <span class=\"txtu \"><span class=\"tfsechead ltr\"><span class=\"ltr\"> </span></span></span></div>"
      ],
      "text/plain": [
       "<IPython.core.display.HTML object>"
      ]
     },
     "metadata": {},
     "output_type": "display_data"
    }
   ],
   "source": [
    "for n in range(1, 1077, 10):\n",
    "    A.plain(A.nodeFromSectionStr(f\"14 {n}\"))"
   ]
  },
  {
   "cell_type": "code",
   "execution_count": null,
   "id": "ec7e4de6-5c08-4538-96ba-77494cf73d74",
   "metadata": {},
   "outputs": [],
   "source": []
  }
 ],
 "metadata": {
  "kernelspec": {
   "display_name": "Python 3 (ipykernel)",
   "language": "python",
   "name": "python3"
  },
  "language_info": {
   "codemirror_mode": {
    "name": "ipython",
    "version": 3
   },
   "file_extension": ".py",
   "mimetype": "text/x-python",
   "name": "python",
   "nbconvert_exporter": "python",
   "pygments_lexer": "ipython3",
   "version": "3.10.7"
  }
 },
 "nbformat": 4,
 "nbformat_minor": 5
}
