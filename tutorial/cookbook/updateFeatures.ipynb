{
 "cells": [
  {
   "cell_type": "markdown",
   "metadata": {},
   "source": [
    "# How to change feature data?\n",
    "\n",
    "Suppose you are constructing a feature, and want to modify it as part of the construction process.\n",
    "\n",
    "How do you do that, modify the `.tf` files directly?\n",
    "\n",
    "Well, don't do that, although it is possible.\n",
    "\n",
    "It is better to use TF to load the existing feature, which gives you access to its data in memory.\n",
    "\n",
    "Then construct a dictionary with updated feature data, and use TF to save it to disk.\n",
    "\n",
    "Here is an example for the missieven data."
   ]
  },
  {
   "cell_type": "code",
   "execution_count": 1,
   "metadata": {},
   "outputs": [],
   "source": [
    "import os\n",
    "\n",
    "from tf.app import use\n"
   ]
  },
  {
   "cell_type": "code",
   "execution_count": 2,
   "metadata": {},
   "outputs": [
    {
     "data": {
      "text/html": [
       "<b title=\"local release\">TF-app:</b> <span title=\"rv0.7=#5c8331af816baecf03b1db0683f735e98c4fc366 offline under ~/text-fabric-data\">~/text-fabric-data/annotation/app-missieven/code</span>"
      ],
      "text/plain": [
       "<IPython.core.display.HTML object>"
      ]
     },
     "metadata": {},
     "output_type": "display_data"
    },
    {
     "data": {
      "text/html": [
       "<b title=\"local release\">data:</b> <span title=\"rv0.7=#4553cbbd41e8eac2aa7c435479d76d20f359407c offline under ~/text-fabric-data\">~/text-fabric-data/Dans-labs/clariah-gm/tf/0.7</span>"
      ],
      "text/plain": [
       "<IPython.core.display.HTML object>"
      ]
     },
     "metadata": {},
     "output_type": "display_data"
    },
    {
     "data": {
      "text/html": [
       "<b>Text-Fabric:</b> <a target=\"_blank\" href=\"https://annotation.github.io/text-fabric/tf/cheatsheet.html\" title=\"text-fabric-api\">Text-Fabric API 8.4.9</a>, <a target=\"_blank\" href=\"https://github.com/annotation/app-missieven\" title=\"missieven TF-app\">app-missieven v3</a>, <a target=\"_blank\" href=\"https://annotation.github.io/text-fabric/tf/about/searchusage.html\" title=\"Search Templates Introduction and Reference\">Search Reference</a><br><b>Data:</b> <a target=\"_blank\" href=\"https://github.com/Dans-labs/clariah-gm/blob/master/docs/transcription.md\" title=\"provenance of General Missives Dutch East India Company 1600-1800\">CLARIAH-GM</a>, <a target=\"_blank\" href=\"https://annotation.github.io/text-fabric/tf/writing/.html\" title=\"How TF features represent text\">Character table</a>, <a target=\"_blank\" href=\"https://github.com/Dans-labs/clariah-gm/blob/master/docs/transcription.md\" title=\"CLARIAH-GM feature documentation\">Feature docs</a><br><b>Features:</b><br><details><summary><b>General Missives Dutch East India Company 1600-1800</b></summary><a target=\"_blank\" href=\"https://github.com/Dans-labs/clariah-gm/blob/master/docs/transcription.md\" title=\"~/text-fabric-data/Dans-labs/clariah-gm/tf/0.7/author.tf\">author</a><br><a target=\"_blank\" href=\"https://github.com/Dans-labs/clariah-gm/blob/master/docs/transcription.md\" title=\"~/text-fabric-data/Dans-labs/clariah-gm/tf/0.7/authorFull.tf\">authorFull</a><br><a target=\"_blank\" href=\"https://github.com/Dans-labs/clariah-gm/blob/master/docs/transcription.md\" title=\"~/text-fabric-data/Dans-labs/clariah-gm/tf/0.7/col.tf\">col</a><br><a target=\"_blank\" href=\"https://github.com/Dans-labs/clariah-gm/blob/master/docs/transcription.md\" title=\"~/text-fabric-data/Dans-labs/clariah-gm/tf/0.7/day.tf\">day</a><br><a target=\"_blank\" href=\"https://github.com/Dans-labs/clariah-gm/blob/master/docs/transcription.md\" title=\"~/text-fabric-data/Dans-labs/clariah-gm/tf/0.7/facs.tf\">facs</a><br><a target=\"_blank\" href=\"https://github.com/Dans-labs/clariah-gm/blob/master/docs/transcription.md\" title=\"~/text-fabric-data/Dans-labs/clariah-gm/tf/0.7/isemph.tf\">isemph</a><br><a target=\"_blank\" href=\"https://github.com/Dans-labs/clariah-gm/blob/master/docs/transcription.md\" title=\"~/text-fabric-data/Dans-labs/clariah-gm/tf/0.7/isfolio.tf\">isfolio</a><br><a target=\"_blank\" href=\"https://github.com/Dans-labs/clariah-gm/blob/master/docs/transcription.md\" title=\"~/text-fabric-data/Dans-labs/clariah-gm/tf/0.7/isnote.tf\">isnote</a><br><a target=\"_blank\" href=\"https://github.com/Dans-labs/clariah-gm/blob/master/docs/transcription.md\" title=\"~/text-fabric-data/Dans-labs/clariah-gm/tf/0.7/isorig.tf\">isorig</a><br><a target=\"_blank\" href=\"https://github.com/Dans-labs/clariah-gm/blob/master/docs/transcription.md\" title=\"~/text-fabric-data/Dans-labs/clariah-gm/tf/0.7/isref.tf\">isref</a><br><a target=\"_blank\" href=\"https://github.com/Dans-labs/clariah-gm/blob/master/docs/transcription.md\" title=\"~/text-fabric-data/Dans-labs/clariah-gm/tf/0.7/isremark.tf\">isremark</a><br><a target=\"_blank\" href=\"https://github.com/Dans-labs/clariah-gm/blob/master/docs/transcription.md\" title=\"~/text-fabric-data/Dans-labs/clariah-gm/tf/0.7/isspecial.tf\">isspecial</a><br><a target=\"_blank\" href=\"https://github.com/Dans-labs/clariah-gm/blob/master/docs/transcription.md\" title=\"~/text-fabric-data/Dans-labs/clariah-gm/tf/0.7/issub.tf\">issub</a><br><a target=\"_blank\" href=\"https://github.com/Dans-labs/clariah-gm/blob/master/docs/transcription.md\" title=\"~/text-fabric-data/Dans-labs/clariah-gm/tf/0.7/issuper.tf\">issuper</a><br><a target=\"_blank\" href=\"https://github.com/Dans-labs/clariah-gm/blob/master/docs/transcription.md\" title=\"~/text-fabric-data/Dans-labs/clariah-gm/tf/0.7/isund.tf\">isund</a><br><a target=\"_blank\" href=\"https://github.com/Dans-labs/clariah-gm/blob/master/docs/transcription.md\" title=\"~/text-fabric-data/Dans-labs/clariah-gm/tf/0.7/mark.tf\">mark</a><br><a target=\"_blank\" href=\"https://github.com/Dans-labs/clariah-gm/blob/master/docs/transcription.md\" title=\"~/text-fabric-data/Dans-labs/clariah-gm/tf/0.7/month.tf\">month</a><br><a target=\"_blank\" href=\"https://github.com/Dans-labs/clariah-gm/blob/master/docs/transcription.md\" title=\"~/text-fabric-data/Dans-labs/clariah-gm/tf/0.7/n.tf\">n</a><br><a target=\"_blank\" href=\"https://github.com/Dans-labs/clariah-gm/blob/master/docs/transcription.md\" title=\"~/text-fabric-data/Dans-labs/clariah-gm/tf/0.7/otype.tf\">otype</a><br><a target=\"_blank\" href=\"https://github.com/Dans-labs/clariah-gm/blob/master/docs/transcription.md\" title=\"~/text-fabric-data/Dans-labs/clariah-gm/tf/0.7/page.tf\">page</a><br><a target=\"_blank\" href=\"https://github.com/Dans-labs/clariah-gm/blob/master/docs/transcription.md\" title=\"~/text-fabric-data/Dans-labs/clariah-gm/tf/0.7/place.tf\">place</a><br><a target=\"_blank\" href=\"https://github.com/Dans-labs/clariah-gm/blob/master/docs/transcription.md\" title=\"~/text-fabric-data/Dans-labs/clariah-gm/tf/0.7/punc.tf\">punc</a><br><a target=\"_blank\" href=\"https://github.com/Dans-labs/clariah-gm/blob/master/docs/transcription.md\" title=\"~/text-fabric-data/Dans-labs/clariah-gm/tf/0.7/puncn.tf\">puncn</a><br><a target=\"_blank\" href=\"https://github.com/Dans-labs/clariah-gm/blob/master/docs/transcription.md\" title=\"~/text-fabric-data/Dans-labs/clariah-gm/tf/0.7/punco.tf\">punco</a><br><a target=\"_blank\" href=\"https://github.com/Dans-labs/clariah-gm/blob/master/docs/transcription.md\" title=\"~/text-fabric-data/Dans-labs/clariah-gm/tf/0.7/puncr.tf\">puncr</a><br><a target=\"_blank\" href=\"https://github.com/Dans-labs/clariah-gm/blob/master/docs/transcription.md\" title=\"~/text-fabric-data/Dans-labs/clariah-gm/tf/0.7/rawdate.tf\">rawdate</a><br><a target=\"_blank\" href=\"https://github.com/Dans-labs/clariah-gm/blob/master/docs/transcription.md\" title=\"~/text-fabric-data/Dans-labs/clariah-gm/tf/0.7/row.tf\">row</a><br><a target=\"_blank\" href=\"https://github.com/Dans-labs/clariah-gm/blob/master/docs/transcription.md\" title=\"~/text-fabric-data/Dans-labs/clariah-gm/tf/0.7/seq.tf\">seq</a><br><a target=\"_blank\" href=\"https://github.com/Dans-labs/clariah-gm/blob/master/docs/transcription.md\" title=\"~/text-fabric-data/Dans-labs/clariah-gm/tf/0.7/status.tf\">status</a><br><a target=\"_blank\" href=\"https://github.com/Dans-labs/clariah-gm/blob/master/docs/transcription.md\" title=\"~/text-fabric-data/Dans-labs/clariah-gm/tf/0.7/title.tf\">title</a><br><a target=\"_blank\" href=\"https://github.com/Dans-labs/clariah-gm/blob/master/docs/transcription.md\" title=\"~/text-fabric-data/Dans-labs/clariah-gm/tf/0.7/tpl.tf\">tpl</a><br><a target=\"_blank\" href=\"https://github.com/Dans-labs/clariah-gm/blob/master/docs/transcription.md\" title=\"~/text-fabric-data/Dans-labs/clariah-gm/tf/0.7/trans.tf\">trans</a><br><a target=\"_blank\" href=\"https://github.com/Dans-labs/clariah-gm/blob/master/docs/transcription.md\" title=\"~/text-fabric-data/Dans-labs/clariah-gm/tf/0.7/transn.tf\">transn</a><br><a target=\"_blank\" href=\"https://github.com/Dans-labs/clariah-gm/blob/master/docs/transcription.md\" title=\"~/text-fabric-data/Dans-labs/clariah-gm/tf/0.7/transo.tf\">transo</a><br><a target=\"_blank\" href=\"https://github.com/Dans-labs/clariah-gm/blob/master/docs/transcription.md\" title=\"~/text-fabric-data/Dans-labs/clariah-gm/tf/0.7/transr.tf\">transr</a><br><a target=\"_blank\" href=\"https://github.com/Dans-labs/clariah-gm/blob/master/docs/transcription.md\" title=\"~/text-fabric-data/Dans-labs/clariah-gm/tf/0.7/vol.tf\">vol</a><br><a target=\"_blank\" href=\"https://github.com/Dans-labs/clariah-gm/blob/master/docs/transcription.md\" title=\"~/text-fabric-data/Dans-labs/clariah-gm/tf/0.7/year.tf\">year</a><br><b><i><a target=\"_blank\" href=\"https://github.com/Dans-labs/clariah-gm/blob/master/docs/transcription.md\" title=\"~/text-fabric-data/Dans-labs/clariah-gm/tf/0.7/note.tf\">note</a></i></b><br><b><i><a target=\"_blank\" href=\"https://github.com/Dans-labs/clariah-gm/blob/master/docs/transcription.md\" title=\"~/text-fabric-data/Dans-labs/clariah-gm/tf/0.7/omap#0.4-0.7.tf\">omap#0.4-0.7</a></i></b><br><b><i><a target=\"_blank\" href=\"https://github.com/Dans-labs/clariah-gm/blob/master/docs/transcription.md\" title=\"~/text-fabric-data/Dans-labs/clariah-gm/tf/0.7/oslots.tf\">oslots</a></i></b><br></details>"
      ],
      "text/plain": [
       "<IPython.core.display.HTML object>"
      ]
     },
     "metadata": {},
     "output_type": "display_data"
    },
    {
     "data": {
      "text/html": [
       "<style>tr.tf.ltr, td.tf.ltr, th.tf.ltr { text-align: left ! important;}\n",
       "tr.tf.rtl, td.tf.rtl, th.tf.rtl { text-align: right ! important;}\n",
       "@font-face {\n",
       "  font-family: \"Gentium Plus\";\n",
       "  src: local('Gentium Plus'), local('GentiumPlus'),\n",
       "    url('/server/static/fonts/GentiumPlus-R.woff') format('woff'),\n",
       "    url('https://github.com/annotation/text-fabric/blob/master/tf/server/static/fonts/GentiumPlus-R.woff?raw=true') format('woff');\n",
       "}\n",
       "\n",
       "@font-face {\n",
       "  font-family: \"Ezra SIL\";\n",
       "  src: local('Ezra SIL'), local('EzraSIL'),\n",
       "    url('/server/static/fonts/SILEOT.woff') format('woff'),\n",
       "    url('https://github.com/annotation/text-fabric/blob/master/tf/server/static/fonts/SILEOT.woff?raw=true') format('woff');\n",
       "}\n",
       "\n",
       "@font-face {\n",
       "  font-family: \"SBL Hebrew\";\n",
       "  src: local('SBL Hebrew'), local('SBLHebrew'),\n",
       "    url('/server/static/fonts/SBL_Hbrw.woff') format('woff'),\n",
       "    url('https://github.com/annotation/text-fabric/blob/master/tf/server/static/fonts/SBL_Hbrw.woff?raw=true') format('woff');\n",
       "}\n",
       "\n",
       "@font-face {\n",
       "  font-family: \"Estrangelo Edessa\";\n",
       "  src: local('Estrangelo Edessa'), local('EstrangeloEdessa');\n",
       "    url('/server/static/fonts/SyrCOMEdessa.woff') format('woff'),\n",
       "    url('https://github.com/annotation/text-fabric/blob/master/tf/server/static/fonts/SyrCOMEdessa.woff?raw=true') format('woff');\n",
       "}\n",
       "\n",
       "@font-face {\n",
       "  font-family: AmiriQuran;\n",
       "  font-style: normal;\n",
       "  font-weight: 400;\n",
       "  src: local('Amiri Quran'), local('AmiriQuran'),\n",
       "    url('/server/static/fonts/AmiriQuran.woff') format('woff'),\n",
       "    url('https://github.com/annotation/text-fabric/blob/master/tf/server/static/fonts/AmiriQuran.woff?raw=true') format('woff');\n",
       "}\n",
       "\n",
       "@font-face {\n",
       "  font-family: AmiriQuranColored;\n",
       "  font-style: normal;\n",
       "  font-weight: 400;\n",
       "  src: local('Amiri Quran Colored'), local('AmiriQuranColored'),\n",
       "    url('/server/static/fonts/AmiriQuranColored.woff') format('woff'),\n",
       "    url('https://github.com/annotation/text-fabric/blob/master/tf/server/static/fonts/AmiriQuranColored.woff?raw=true') format('woff');\n",
       "}\n",
       "\n",
       "@font-face {\n",
       "  font-family: \"Santakku\";\n",
       "  src: local('Santakku'),\n",
       "    url('/server/static/fonts/Santakku.woff') format('woff'),\n",
       "    url('https://github.com/annotation/text-fabric/blob/master/tf/server/static/fonts/Santakku.woff?raw=true') format('woff');\n",
       "}\n",
       "\n",
       "@font-face {\n",
       "  font-family: \"SantakkuM\";\n",
       "  src: local('SantakkuM'),\n",
       "    url('/server/static/fonts/SantakkuM.woff') format('woff'),\n",
       "    url('https://github.com/annotation/text-fabric/blob/master/tf/server/static/fonts/SantakkuM.woff?raw=true') format('woff');\n",
       "}\n",
       "/* bypassing some classical notebook settings */\n",
       "div#notebook {\n",
       "  line-height: unset;\n",
       "}\n",
       "/* neutral text */\n",
       ".txtn,.txtn a:visited,.txtn a:link {\n",
       "    font-family: sans-serif;\n",
       "    font-size: medium;\n",
       "    direction: ltr;\n",
       "    unicode-bidi: embed;\n",
       "    text-decoration: none;\n",
       "    color: var(--text-color);\n",
       "}\n",
       "/* transcription text */\n",
       ".txtt,.txtt a:visited,.txtt a:link {\n",
       "    font-family: monospace;\n",
       "    font-size: medium;\n",
       "    direction: ltr;\n",
       "    unicode-bidi: embed;\n",
       "    text-decoration: none;\n",
       "    color: var(--text-color);\n",
       "}\n",
       "/* source text */\n",
       ".txto,.txto a:visited,.txto a:link {\n",
       "    font-family: serif;\n",
       "    font-size: medium;\n",
       "    direction: ltr;\n",
       "    unicode-bidi: embed;\n",
       "    text-decoration: none;\n",
       "    color: var(--text-color);\n",
       "}\n",
       "/* phonetic text */\n",
       ".txtp,.txtp a:visited,.txtp a:link {\n",
       "    font-family: Gentium, sans-serif;\n",
       "    font-size: medium;\n",
       "    direction: ltr;\n",
       "    unicode-bidi: embed;\n",
       "    text-decoration: none;\n",
       "    color: var(--text-color);\n",
       "}\n",
       "/* original script text */\n",
       ".txtu,.txtu a:visited,.txtu a:link {\n",
       "    font-family: Gentium, sans-serif;\n",
       "    font-size: medium;\n",
       "    text-decoration: none;\n",
       "    color: var(--text-color);\n",
       "}\n",
       "/* hebrew */\n",
       ".txtu.hbo,.lex.hbo {\n",
       "    font-family: \"Ezra SIL\", \"SBL Hebrew\", sans-serif;\n",
       "    font-size: large;\n",
       "    direction: rtl ! important;\n",
       "    unicode-bidi: embed;\n",
       "}\n",
       "/* syriac */\n",
       ".txtu.syc,.lex.syc {\n",
       "    font-family: \"Estrangelo Edessa\", sans-serif;\n",
       "    font-size: medium;\n",
       "    direction: rtl ! important;\n",
       "    unicode-bidi: embed;\n",
       "}\n",
       "/* neo aramaic */\n",
       ".txtu.cld,.lex.cld {\n",
       "    font-family: \"CharisSIL-R\", sans-serif;\n",
       "    font-size: medium;\n",
       "    direction: ltr ! important;\n",
       "    unicode-bidi: embed;\n",
       "}\n",
       "/* standard arabic */\n",
       ".txtu.ara,.lex.ara {\n",
       "    font-family: \"AmiriQuran\", sans-serif;\n",
       "    font-size: large;\n",
       "    direction: rtl ! important;\n",
       "    unicode-bidi: embed;\n",
       "}\n",
       "/* cuneiform */\n",
       ".txtu.akk,.lex.akk {\n",
       "    font-family: Santakku, sans-serif;\n",
       "    font-size: large;\n",
       "    direction: ltr ! important;\n",
       "    unicode-bidi: embed;\n",
       "}\n",
       "/* greek */\n",
       ".txtu.grc,.lex.grc a:link {\n",
       "    font-family: Gentium, sans-serif;\n",
       "    font-size: medium;\n",
       "    direction: ltr ! important;\n",
       "    unicode-bidi: embed;\n",
       "}\n",
       "a:hover {\n",
       "    text-decoration: underline | important;\n",
       "    color: #0000ff | important;\n",
       "}\n",
       ".ltr {\n",
       "    direction: ltr ! important;\n",
       "    unicode-bidi: embed;\n",
       "}\n",
       ".rtl {\n",
       "    direction: rtl ! important;\n",
       "    unicode-bidi: embed;\n",
       "}\n",
       ".ubd {\n",
       "    unicode-bidi: embed;\n",
       "}\n",
       ".col {\n",
       "   display: inline-block;\n",
       "}\n",
       ".features {\n",
       "    font-family: monospace;\n",
       "    font-size: medium;\n",
       "    font-weight: bold;\n",
       "    color: var(--features);\n",
       "    display: flex;\n",
       "    flex-flow: column nowrap;\n",
       "    justify-content: flex-start;\n",
       "    align-items: flex-start;\n",
       "    align-content: flex-start;\n",
       "    padding: 2px;\n",
       "    margin: 2px;\n",
       "    direction: ltr;\n",
       "    unicode-bidi: embed;\n",
       "    border: var(--meta-width) solid var(--meta-color);\n",
       "    border-radius: var(--meta-width);\n",
       "}\n",
       ".features div,.features span {\n",
       "    padding: 0;\n",
       "    margin: -2px 0;\n",
       "}\n",
       ".features .f {\n",
       "    font-family: sans-serif;\n",
       "    font-size: small;\n",
       "    font-weight: normal;\n",
       "    color: #5555bb;\n",
       "}\n",
       ".features .xft {\n",
       "  color: #000000;\n",
       "  background-color: #eeeeee;\n",
       "  font-size: medium;\n",
       "  margin: 2px 0px;\n",
       "}\n",
       ".features .xft .f {\n",
       "  color: #000000;\n",
       "  background-color: #eeeeee;\n",
       "  font-size: small;\n",
       "  font-weight: normal;\n",
       "}\n",
       ".tfsechead {\n",
       "    font-family: sans-serif;\n",
       "    font-size: small;\n",
       "    font-weight: bold;\n",
       "    color: var(--tfsechead);\n",
       "    unicode-bidi: embed;\n",
       "    text-align: start;\n",
       "}\n",
       ".structure {\n",
       "    font-family: sans-serif;\n",
       "    font-size: small;\n",
       "    font-weight: bold;\n",
       "    color: var(--structure);\n",
       "    unicode-bidi: embed;\n",
       "    text-align: start;\n",
       "}\n",
       ".comments {\n",
       "    display: flex;\n",
       "    justify-content: flex-start;\n",
       "    align-items: flex-start;\n",
       "    align-content: flex-start;\n",
       "    flex-flow: column nowrap;\n",
       "}\n",
       ".nd, a:link.nd {\n",
       "    font-family: sans-serif;\n",
       "    font-size: small;\n",
       "    color: var(--node);\n",
       "    vertical-align: super;\n",
       "    direction: ltr ! important;\n",
       "    unicode-bidi: embed;\n",
       "}\n",
       ".lex {\n",
       "  color: var(--lex-color);;\n",
       "}\n",
       ".children,.children.ltr {\n",
       "    display: flex;\n",
       "    border: 0;\n",
       "    background-color: #ffffff;\n",
       "    justify-content: flex-start;\n",
       "    align-items: flex-start;\n",
       "    align-content: flex-start;\n",
       "}\n",
       ".children.stretch {\n",
       "    align-items: stretch;\n",
       "}\n",
       ".children.hor {\n",
       "    flex-flow: row nowrap;\n",
       "}\n",
       ".children.hor.wrap {\n",
       "    flex-flow: row wrap;\n",
       "}\n",
       ".children.ver {\n",
       "    flex-flow: column nowrap;\n",
       "}\n",
       ".children.ver.wrap {\n",
       "    flex-flow: column wrap;\n",
       "}\n",
       ".contnr {\n",
       "    width: fit-content;\n",
       "    display: flex;\n",
       "    justify-content: flex-start;\n",
       "    align-items: flex-start;\n",
       "    align-content: flex-start;\n",
       "    flex-flow: column nowrap;\n",
       "    background: #ffffff none repeat scroll 0 0;\n",
       "    padding:  10px 2px 2px 2px;\n",
       "    margin: 16px 2px 2px 2px;\n",
       "    border-style: solid;\n",
       "    font-size: small;\n",
       "}\n",
       ".contnr.trm {\n",
       "    background-attachment: local;\n",
       "}\n",
       ".contnr.cnul {\n",
       "    padding:  0;\n",
       "    margin: 0;\n",
       "    border-style: solid;\n",
       "    font-size: xx-small;\n",
       "}\n",
       ".contnr.cnul,.lbl.cnul {\n",
       "    border-color: var(--border-color-nul);\n",
       "    border-width: var(--border-width-nul);\n",
       "    border-radius: var(--border-width-nul);\n",
       "}\n",
       ".contnr.c0,.lbl.c0 {\n",
       "    border-color: var(--border-color0);\n",
       "    border-width: var(--border-width0);\n",
       "    border-radius: var(--border-width0);\n",
       "}\n",
       ".contnr.c1,.lbl.c1 {\n",
       "    border-color: var(--border-color1);\n",
       "    border-width: var(--border-width1);\n",
       "    border-radius: var(--border-width1);\n",
       "}\n",
       ".contnr.c2,.lbl.c2 {\n",
       "    border-color: var(--border-color2);\n",
       "    border-width: var(--border-width2);\n",
       "    border-radius: var(--border-width2);\n",
       "}\n",
       ".contnr.c3,.lbl.c3 {\n",
       "    border-color: var(--border-color3);\n",
       "    border-width: var(--border-width3);\n",
       "    border-radius: var(--border-width3);\n",
       "}\n",
       ".contnr.c4,.lbl.c4 {\n",
       "    border-color: var(--border-color4);\n",
       "    border-width: var(--border-width4);\n",
       "    border-radius: var(--border-width4);\n",
       "}\n",
       "span.plain {\n",
       "    display: inline-block;\n",
       "    white-space: pre-wrap;\n",
       "}\n",
       ".plain {\n",
       "    background-color: #ffffff;\n",
       "}\n",
       ".plain.l,.contnr.l,.contnr.l>.lbl {\n",
       "    border-left-style: dotted\n",
       "}\n",
       ".plain.r,.contnr.r,.contnr.r>.lbl {\n",
       "    border-right-style: dotted\n",
       "}\n",
       ".plain.lno,.contnr.lno,.contnr.lno>.lbl {\n",
       "    border-left-style: none\n",
       "}\n",
       ".plain.rno,.contnr.rno,.contnr.rno>.lbl {\n",
       "    border-right-style: none\n",
       "}\n",
       ".plain.l {\n",
       "    padding-left: 4px;\n",
       "    margin-left: 2px;\n",
       "    border-width: var(--border-width-plain);\n",
       "}\n",
       ".plain.r {\n",
       "    padding-right: 4px;\n",
       "    margin-right: 2px;\n",
       "    border-width: var(--border-width-plain);\n",
       "}\n",
       ".lbl {\n",
       "    font-family: monospace;\n",
       "    margin-top: -24px;\n",
       "    margin-left: 20px;\n",
       "    background: #ffffff none repeat scroll 0 0;\n",
       "    padding: 0 6px;\n",
       "    border-style: solid;\n",
       "    display: block;\n",
       "    color: var(--label)\n",
       "}\n",
       ".lbl.trm {\n",
       "    background-attachment: local;\n",
       "    margin-top: 2px;\n",
       "    margin-left: 2px;\n",
       "    padding: 2px 2px;\n",
       "    border-style: none;\n",
       "}\n",
       ".lbl.cnul {\n",
       "    font-size: xx-small;\n",
       "}\n",
       ".lbl.c0 {\n",
       "    font-size: small;\n",
       "}\n",
       ".lbl.c1 {\n",
       "    font-size: small;\n",
       "}\n",
       ".lbl.c2 {\n",
       "    font-size: medium;\n",
       "}\n",
       ".lbl.c3 {\n",
       "    font-size: medium;\n",
       "}\n",
       ".lbl.c4 {\n",
       "    font-size: large;\n",
       "}\n",
       ".occs, a:link.occs {\n",
       "    font-size: small;\n",
       "}\n",
       "\n",
       "/* PROVENANCE */\n",
       "\n",
       "div.prov {\n",
       "\tmargin: 40px;\n",
       "\tpadding: 20px;\n",
       "\tborder: 2px solid var(--fog-rim);\n",
       "}\n",
       "div.pline {\n",
       "\tdisplay: flex;\n",
       "\tflex-flow: row nowrap;\n",
       "\tjustify-content: stretch;\n",
       "\talign-items: baseline;\n",
       "}\n",
       "div.p2line {\n",
       "\tmargin-left: 2em;\n",
       "\tdisplay: flex;\n",
       "\tflex-flow: row nowrap;\n",
       "\tjustify-content: stretch;\n",
       "\talign-items: baseline;\n",
       "}\n",
       "div.psline {\n",
       "\tdisplay: flex;\n",
       "\tflex-flow: row nowrap;\n",
       "\tjustify-content: stretch;\n",
       "\talign-items: baseline;\n",
       "\tbackground-color: var(--gold-mist-back);\n",
       "}\n",
       "div.pname {\n",
       "\tflex: 0 0 5rem;\n",
       "\tfont-weight: bold;\n",
       "}\n",
       "div.pval {\n",
       "    flex: 1 1 auto;\n",
       "}\n",
       "\n",
       ":root {\n",
       "\t--node:               hsla(120, 100%,  20%, 1.0  );\n",
       "\t--label:              hsla(  0, 100%,  20%, 1.0  );\n",
       "\t--tfsechead:          hsla(  0, 100%,  25%, 1.0  );\n",
       "\t--structure:          hsla(120, 100%,  25%, 1.0  );\n",
       "\t--features:           hsla(  0,   0%,  30%, 1.0  );\n",
       "  --text-color:         hsla( 60,  80%,  10%, 1.0  );\n",
       "  --lex-color:          hsla(220,  90%,  60%, 1.0  );\n",
       "  --meta-color:         hsla(  0,   0%,  90%, 0.7  );\n",
       "  --meta-width:         3px;\n",
       "  --border-color-nul:   hsla(  0,   0%,  90%, 0.5  );\n",
       "  --border-color0:      hsla(  0,   0%,  90%, 0.9  );\n",
       "  --border-color1:      hsla(  0,   0%,  80%, 0.9  );\n",
       "  --border-color2:      hsla(  0,   0%,  70%, 0.9  );\n",
       "  --border-color3:      hsla(  0,   0%,  80%, 0.8  );\n",
       "  --border-color4:      hsla(  0,   0%,  60%, 0.9  );\n",
       "  --border-width-nul:   2px;\n",
       "  --border-width0:      2px;\n",
       "  --border-width1:      3px;\n",
       "  --border-width2:      4px;\n",
       "  --border-width3:      6px;\n",
       "  --border-width4:      5px;\n",
       "  --border-width-plain: 2px;\n",
       "}\n",
       ".hl {\n",
       "  background-color: var(--hl-strong);\n",
       "}\n",
       "span.hl {\n",
       "\tbackground-color: var(--hl-strong);\n",
       "\tborder-width: 0;\n",
       "\tborder-radius: 2px;\n",
       "\tborder-style: solid;\n",
       "}\n",
       "div.contnr.hl,div.lbl.hl {\n",
       "  background-color: var(--hl-strong);\n",
       "}\n",
       "div.contnr.hl {\n",
       "  border-color: var(--hl-rim) ! important;\n",
       "\tborder-width: 4px ! important;\n",
       "}\n",
       "\n",
       "span.hlbx {\n",
       "\tborder-color: var(--hl-rim);\n",
       "\tborder-width: 4px ! important;\n",
       "\tborder-style: solid;\n",
       "\tborder-radius: 6px;\n",
       "  padding: 4px;\n",
       "  margin: 4px;\n",
       "}\n",
       "\n",
       "span.plain {\n",
       "  display: inline-block;\n",
       "  white-space: pre-wrap;\n",
       "}\n",
       "\n",
       ":root {\n",
       "\t--hl-strong:        hsla( 60, 100%,  70%, 0.9  );\n",
       "\t--hl-rim:           hsla( 55,  80%,  50%, 1.0  );\n",
       "}\n",
       ".remark {\n",
       "  font-size: large;\n",
       "  font-style: italic;\n",
       "}\n",
       ".folio {\n",
       "  font-size: small;\n",
       "  color: #668866;\n",
       "}\n",
       ".fmark:after {\n",
       "  font-size: small;\n",
       "  font-weight: bold;\n",
       "  vertical-align: super;\n",
       "  color: #ddaa22;\n",
       "}\n",
       ".note {\n",
       "  vertical-align: super;\n",
       "  font-size: small;\n",
       "  color: #774400;\n",
       "}\n",
       ".ref {\n",
       "  font-size: small;\n",
       "  font-weight: bold;\n",
       "  color: #666688;\n",
       "}\n",
       ".emph {\n",
       "  font-style: italic;\n",
       "}\n",
       ".und {\n",
       "  text-decoration: underline;\n",
       "}\n",
       ".super {\n",
       "  vertical-align: super;\n",
       "}\n",
       ".special {\n",
       "  font-family: monospace;\n",
       "  font-weight: bold;\n",
       "  color: #886666;\n",
       "}\n",
       "</style>"
      ],
      "text/plain": [
       "<IPython.core.display.HTML object>"
      ]
     },
     "metadata": {},
     "output_type": "display_data"
    },
    {
     "data": {
      "text/html": [
       "<div><b>Text-Fabric API:</b> names <a target=\"_blank\" href=\"https://annotation.github.io/text-fabric/tf/cheatsheet.html\" title=\"doc\">N F E L T S C TF</a> directly usable</div><hr>"
      ],
      "text/plain": [
       "<IPython.core.display.HTML object>"
      ]
     },
     "metadata": {},
     "output_type": "display_data"
    }
   ],
   "source": [
    "# A = use(\"missieven:latest\", hoist=globals())\n",
    "A = use(\"missieven\", hoist=globals())"
   ]
  },
  {
   "cell_type": "markdown",
   "metadata": {},
   "source": [
    "We are going to build a feature `upper` that delivers 1 if a word of an original letter starts with a capital. Otherwise it is 0.\n",
    "\n",
    "We then save it, and load it.\n",
    "\n",
    "After that we are going to modify the feature: it will be 2 if the word is all-caps, 1 if it contains a capital, but not all letters\n",
    "are capitals. If there are no capitals, the result is 0.\n",
    "\n",
    "`upper` will yield None for all words that are not original text."
   ]
  },
  {
   "cell_type": "markdown",
   "metadata": {},
   "source": [
    "# Compute `upper`\n",
    "\n",
    "We make a dictionary that maps nodes to values for upper."
   ]
  },
  {
   "cell_type": "code",
   "execution_count": 3,
   "metadata": {},
   "outputs": [
    {
     "data": {
      "text/plain": [
       "0"
      ]
     },
     "execution_count": 3,
     "metadata": {},
     "output_type": "execute_result"
    }
   ],
   "source": [
    "upper = {}\n",
    "\n",
    "for n in F.isorig.s(1):\n",
    "    trans = F.transo.v(n)\n",
    "    upper[n] = 1 if trans and trans[0].isupper() else 0\n",
    "\n",
    "len(upper)"
   ]
  },
  {
   "cell_type": "markdown",
   "metadata": {},
   "source": [
    "That is bad. It turns out that I have forgotten to declare `isorig` as an integer valued feature:"
   ]
  },
  {
   "cell_type": "code",
   "execution_count": 4,
   "metadata": {},
   "outputs": [
    {
     "data": {
      "text/plain": [
       "'1'"
      ]
     },
     "execution_count": 4,
     "metadata": {},
     "output_type": "execute_result"
    }
   ],
   "source": [
    "F.isorig.v(63)"
   ]
  },
  {
   "cell_type": "markdown",
   "metadata": {},
   "source": [
    "We will do that in a next data version.\n",
    "In the meanwhile, we remedy it as follows:"
   ]
  },
  {
   "cell_type": "code",
   "execution_count": 5,
   "metadata": {},
   "outputs": [
    {
     "data": {
      "text/plain": [
       "3260840"
      ]
     },
     "execution_count": 5,
     "metadata": {},
     "output_type": "execute_result"
    }
   ],
   "source": [
    "upper = {}\n",
    "\n",
    "for n in F.isorig.s(\"1\"):\n",
    "    trans = F.transo.v(n)\n",
    "    upper[n] = 1 if trans and trans[0].isupper() else 0\n",
    "\n",
    "len(upper)"
   ]
  },
  {
   "cell_type": "markdown",
   "metadata": {},
   "source": [
    "That's better."
   ]
  },
  {
   "cell_type": "code",
   "execution_count": 6,
   "metadata": {},
   "outputs": [],
   "source": [
    "features = dict(upper=upper)"
   ]
  },
  {
   "cell_type": "markdown",
   "metadata": {},
   "source": [
    "# Save `upper` (1)\n",
    "\n",
    "We will save `upper` in a new module, called `capital`, in the `exercises` subdirectory of the tutorial directory."
   ]
  },
  {
   "cell_type": "code",
   "execution_count": 8,
   "metadata": {},
   "outputs": [],
   "source": [
    "GITHUB = os.path.expanduser(\"~/github\")\n",
    "ORG = \"annotation\"\n",
    "REPO = \"tutorials\"\n",
    "PATH = \"missieven/exercises/capital/tf\"\n",
    "VERSION = A.version\n",
    "\n",
    "location = f\"{GITHUB}/{ORG}/{REPO}/{PATH}\"\n",
    "mod = f\"{ORG}/{REPO}/{PATH}\""
   ]
  },
  {
   "cell_type": "markdown",
   "metadata": {},
   "source": [
    "Note the version: we have built the version against a specific version of the data:"
   ]
  },
  {
   "cell_type": "code",
   "execution_count": 9,
   "metadata": {},
   "outputs": [
    {
     "data": {
      "text/plain": [
       "0.7"
      ]
     },
     "execution_count": 9,
     "metadata": {},
     "output_type": "execute_result"
    }
   ],
   "source": [
    "A.version"
   ]
  },
  {
   "cell_type": "markdown",
   "metadata": {},
   "source": [
    "We have to specify a bit of metadata for this feature:"
   ]
  },
  {
   "cell_type": "code",
   "execution_count": 10,
   "metadata": {},
   "outputs": [],
   "source": [
    "metaData = {\n",
    "    \"upper\": dict(\n",
    "        valueType=\"int\",\n",
    "        description=\"whether an original word starts with a capital\",\n",
    "        creator=\"Dirk Roorda\",\n",
    "    ),\n",
    "}"
   ]
  },
  {
   "cell_type": "markdown",
   "metadata": {},
   "source": [
    "Now we can give the save command:"
   ]
  },
  {
   "cell_type": "code",
   "execution_count": 11,
   "metadata": {},
   "outputs": [
    {
     "name": "stdout",
     "output_type": "stream",
     "text": [
      "  0.00s Exporting 1 node and 0 edge and 0 config features to ~/github/annotation/tutorials/missieven/exercises/capital/tf/0.7:\n",
      "   |     3.11s T upper                to ~/github/annotation/tutorials/missieven/exercises/capital/tf/0.7\n",
      "  3.11s Exported 1 node features and 0 edge features and 0 config features to ~/github/annotation/tutorials/missieven/exercises/capital/tf/0.7\n"
     ]
    },
    {
     "data": {
      "text/plain": [
       "True"
      ]
     },
     "execution_count": 11,
     "metadata": {},
     "output_type": "execute_result"
    }
   ],
   "source": [
    "TF.save(nodeFeatures=features, metaData=metaData, location=location, module=VERSION)"
   ]
  },
  {
   "cell_type": "markdown",
   "metadata": {},
   "source": [
    "# Load upper\n",
    "\n",
    "We load our dataset again, but now with the module `capital` next to it, by specifying its path.\n",
    "We have that path already in the variable `mod`:"
   ]
  },
  {
   "cell_type": "code",
   "execution_count": 13,
   "metadata": {},
   "outputs": [
    {
     "data": {
      "text/plain": [
       "'annotation/tutorials/missieven/exercises/capital/tf'"
      ]
     },
     "execution_count": 13,
     "metadata": {},
     "output_type": "execute_result"
    }
   ],
   "source": [
    "mod"
   ]
  },
  {
   "cell_type": "code",
   "execution_count": 12,
   "metadata": {},
   "outputs": [
    {
     "data": {
      "text/html": [
       "<b title=\"local release\">TF-app:</b> <span title=\"rv0.7=#5c8331af816baecf03b1db0683f735e98c4fc366 offline under ~/text-fabric-data\">~/text-fabric-data/annotation/app-missieven/code</span>"
      ],
      "text/plain": [
       "<IPython.core.display.HTML object>"
      ]
     },
     "metadata": {},
     "output_type": "display_data"
    },
    {
     "data": {
      "text/html": [
       "<b title=\"local release\">data:</b> <span title=\"rv0.7=#4553cbbd41e8eac2aa7c435479d76d20f359407c offline under ~/text-fabric-data\">~/text-fabric-data/Dans-labs/clariah-gm/tf/0.7</span>"
      ],
      "text/plain": [
       "<IPython.core.display.HTML object>"
      ]
     },
     "metadata": {},
     "output_type": "display_data"
    },
    {
     "data": {
      "text/html": [
       "<b title=\"local github\">data:</b> <span title=\"repo clone offline under ~/github\">~/github/annotation/tutorials/missieven/exercises/capital/tf/0.7</span>"
      ],
      "text/plain": [
       "<IPython.core.display.HTML object>"
      ]
     },
     "metadata": {},
     "output_type": "display_data"
    },
    {
     "name": "stdout",
     "output_type": "stream",
     "text": [
      "   |     4.16s T upper                from ~/github/annotation/tutorials/missieven/exercises/capital/tf/0.7\n"
     ]
    },
    {
     "data": {
      "text/html": [
       "<b>Text-Fabric:</b> <a target=\"_blank\" href=\"https://annotation.github.io/text-fabric/tf/cheatsheet.html\" title=\"text-fabric-api\">Text-Fabric API 8.4.9</a>, <a target=\"_blank\" href=\"https://github.com/annotation/app-missieven\" title=\"missieven TF-app\">app-missieven v3</a>, <a target=\"_blank\" href=\"https://annotation.github.io/text-fabric/tf/about/searchusage.html\" title=\"Search Templates Introduction and Reference\">Search Reference</a><br><b>Data:</b> <a target=\"_blank\" href=\"https://github.com/Dans-labs/clariah-gm/blob/master/docs/transcription.md\" title=\"provenance of General Missives Dutch East India Company 1600-1800\">CLARIAH-GM</a>, <a target=\"_blank\" href=\"https://annotation.github.io/text-fabric/tf/writing/.html\" title=\"How TF features represent text\">Character table</a>, <a target=\"_blank\" href=\"https://github.com/Dans-labs/clariah-gm/blob/master/docs/transcription.md\" title=\"CLARIAH-GM feature documentation\">Feature docs</a><br><b>Features:</b><br><details><summary><b>annotation/tutorials/missieven/exercises/capital/tf</b></summary><a target=\"_blank\" href=\"https://github.com/annotation/tutorials/tree/master/missieven/exercises/capital/tf\" title=\"~/github/annotation/tutorials/missieven/exercises/capital/tf/0.7/upper.tf\">upper</a><br></details><details><summary><b>General Missives Dutch East India Company 1600-1800</b></summary><a target=\"_blank\" href=\"https://github.com/Dans-labs/clariah-gm/blob/master/docs/transcription.md\" title=\"~/text-fabric-data/Dans-labs/clariah-gm/tf/0.7/author.tf\">author</a><br><a target=\"_blank\" href=\"https://github.com/Dans-labs/clariah-gm/blob/master/docs/transcription.md\" title=\"~/text-fabric-data/Dans-labs/clariah-gm/tf/0.7/authorFull.tf\">authorFull</a><br><a target=\"_blank\" href=\"https://github.com/Dans-labs/clariah-gm/blob/master/docs/transcription.md\" title=\"~/text-fabric-data/Dans-labs/clariah-gm/tf/0.7/col.tf\">col</a><br><a target=\"_blank\" href=\"https://github.com/Dans-labs/clariah-gm/blob/master/docs/transcription.md\" title=\"~/text-fabric-data/Dans-labs/clariah-gm/tf/0.7/day.tf\">day</a><br><a target=\"_blank\" href=\"https://github.com/Dans-labs/clariah-gm/blob/master/docs/transcription.md\" title=\"~/text-fabric-data/Dans-labs/clariah-gm/tf/0.7/facs.tf\">facs</a><br><a target=\"_blank\" href=\"https://github.com/Dans-labs/clariah-gm/blob/master/docs/transcription.md\" title=\"~/text-fabric-data/Dans-labs/clariah-gm/tf/0.7/isemph.tf\">isemph</a><br><a target=\"_blank\" href=\"https://github.com/Dans-labs/clariah-gm/blob/master/docs/transcription.md\" title=\"~/text-fabric-data/Dans-labs/clariah-gm/tf/0.7/isfolio.tf\">isfolio</a><br><a target=\"_blank\" href=\"https://github.com/Dans-labs/clariah-gm/blob/master/docs/transcription.md\" title=\"~/text-fabric-data/Dans-labs/clariah-gm/tf/0.7/isnote.tf\">isnote</a><br><a target=\"_blank\" href=\"https://github.com/Dans-labs/clariah-gm/blob/master/docs/transcription.md\" title=\"~/text-fabric-data/Dans-labs/clariah-gm/tf/0.7/isorig.tf\">isorig</a><br><a target=\"_blank\" href=\"https://github.com/Dans-labs/clariah-gm/blob/master/docs/transcription.md\" title=\"~/text-fabric-data/Dans-labs/clariah-gm/tf/0.7/isref.tf\">isref</a><br><a target=\"_blank\" href=\"https://github.com/Dans-labs/clariah-gm/blob/master/docs/transcription.md\" title=\"~/text-fabric-data/Dans-labs/clariah-gm/tf/0.7/isremark.tf\">isremark</a><br><a target=\"_blank\" href=\"https://github.com/Dans-labs/clariah-gm/blob/master/docs/transcription.md\" title=\"~/text-fabric-data/Dans-labs/clariah-gm/tf/0.7/isspecial.tf\">isspecial</a><br><a target=\"_blank\" href=\"https://github.com/Dans-labs/clariah-gm/blob/master/docs/transcription.md\" title=\"~/text-fabric-data/Dans-labs/clariah-gm/tf/0.7/issub.tf\">issub</a><br><a target=\"_blank\" href=\"https://github.com/Dans-labs/clariah-gm/blob/master/docs/transcription.md\" title=\"~/text-fabric-data/Dans-labs/clariah-gm/tf/0.7/issuper.tf\">issuper</a><br><a target=\"_blank\" href=\"https://github.com/Dans-labs/clariah-gm/blob/master/docs/transcription.md\" title=\"~/text-fabric-data/Dans-labs/clariah-gm/tf/0.7/isund.tf\">isund</a><br><a target=\"_blank\" href=\"https://github.com/Dans-labs/clariah-gm/blob/master/docs/transcription.md\" title=\"~/text-fabric-data/Dans-labs/clariah-gm/tf/0.7/mark.tf\">mark</a><br><a target=\"_blank\" href=\"https://github.com/Dans-labs/clariah-gm/blob/master/docs/transcription.md\" title=\"~/text-fabric-data/Dans-labs/clariah-gm/tf/0.7/month.tf\">month</a><br><a target=\"_blank\" href=\"https://github.com/Dans-labs/clariah-gm/blob/master/docs/transcription.md\" title=\"~/text-fabric-data/Dans-labs/clariah-gm/tf/0.7/n.tf\">n</a><br><a target=\"_blank\" href=\"https://github.com/Dans-labs/clariah-gm/blob/master/docs/transcription.md\" title=\"~/text-fabric-data/Dans-labs/clariah-gm/tf/0.7/otype.tf\">otype</a><br><a target=\"_blank\" href=\"https://github.com/Dans-labs/clariah-gm/blob/master/docs/transcription.md\" title=\"~/text-fabric-data/Dans-labs/clariah-gm/tf/0.7/page.tf\">page</a><br><a target=\"_blank\" href=\"https://github.com/Dans-labs/clariah-gm/blob/master/docs/transcription.md\" title=\"~/text-fabric-data/Dans-labs/clariah-gm/tf/0.7/place.tf\">place</a><br><a target=\"_blank\" href=\"https://github.com/Dans-labs/clariah-gm/blob/master/docs/transcription.md\" title=\"~/text-fabric-data/Dans-labs/clariah-gm/tf/0.7/punc.tf\">punc</a><br><a target=\"_blank\" href=\"https://github.com/Dans-labs/clariah-gm/blob/master/docs/transcription.md\" title=\"~/text-fabric-data/Dans-labs/clariah-gm/tf/0.7/puncn.tf\">puncn</a><br><a target=\"_blank\" href=\"https://github.com/Dans-labs/clariah-gm/blob/master/docs/transcription.md\" title=\"~/text-fabric-data/Dans-labs/clariah-gm/tf/0.7/punco.tf\">punco</a><br><a target=\"_blank\" href=\"https://github.com/Dans-labs/clariah-gm/blob/master/docs/transcription.md\" title=\"~/text-fabric-data/Dans-labs/clariah-gm/tf/0.7/puncr.tf\">puncr</a><br><a target=\"_blank\" href=\"https://github.com/Dans-labs/clariah-gm/blob/master/docs/transcription.md\" title=\"~/text-fabric-data/Dans-labs/clariah-gm/tf/0.7/rawdate.tf\">rawdate</a><br><a target=\"_blank\" href=\"https://github.com/Dans-labs/clariah-gm/blob/master/docs/transcription.md\" title=\"~/text-fabric-data/Dans-labs/clariah-gm/tf/0.7/row.tf\">row</a><br><a target=\"_blank\" href=\"https://github.com/Dans-labs/clariah-gm/blob/master/docs/transcription.md\" title=\"~/text-fabric-data/Dans-labs/clariah-gm/tf/0.7/seq.tf\">seq</a><br><a target=\"_blank\" href=\"https://github.com/Dans-labs/clariah-gm/blob/master/docs/transcription.md\" title=\"~/text-fabric-data/Dans-labs/clariah-gm/tf/0.7/status.tf\">status</a><br><a target=\"_blank\" href=\"https://github.com/Dans-labs/clariah-gm/blob/master/docs/transcription.md\" title=\"~/text-fabric-data/Dans-labs/clariah-gm/tf/0.7/title.tf\">title</a><br><a target=\"_blank\" href=\"https://github.com/Dans-labs/clariah-gm/blob/master/docs/transcription.md\" title=\"~/text-fabric-data/Dans-labs/clariah-gm/tf/0.7/tpl.tf\">tpl</a><br><a target=\"_blank\" href=\"https://github.com/Dans-labs/clariah-gm/blob/master/docs/transcription.md\" title=\"~/text-fabric-data/Dans-labs/clariah-gm/tf/0.7/trans.tf\">trans</a><br><a target=\"_blank\" href=\"https://github.com/Dans-labs/clariah-gm/blob/master/docs/transcription.md\" title=\"~/text-fabric-data/Dans-labs/clariah-gm/tf/0.7/transn.tf\">transn</a><br><a target=\"_blank\" href=\"https://github.com/Dans-labs/clariah-gm/blob/master/docs/transcription.md\" title=\"~/text-fabric-data/Dans-labs/clariah-gm/tf/0.7/transo.tf\">transo</a><br><a target=\"_blank\" href=\"https://github.com/Dans-labs/clariah-gm/blob/master/docs/transcription.md\" title=\"~/text-fabric-data/Dans-labs/clariah-gm/tf/0.7/transr.tf\">transr</a><br><a target=\"_blank\" href=\"https://github.com/Dans-labs/clariah-gm/blob/master/docs/transcription.md\" title=\"~/text-fabric-data/Dans-labs/clariah-gm/tf/0.7/vol.tf\">vol</a><br><a target=\"_blank\" href=\"https://github.com/Dans-labs/clariah-gm/blob/master/docs/transcription.md\" title=\"~/text-fabric-data/Dans-labs/clariah-gm/tf/0.7/year.tf\">year</a><br><b><i><a target=\"_blank\" href=\"https://github.com/Dans-labs/clariah-gm/blob/master/docs/transcription.md\" title=\"~/text-fabric-data/Dans-labs/clariah-gm/tf/0.7/note.tf\">note</a></i></b><br><b><i><a target=\"_blank\" href=\"https://github.com/Dans-labs/clariah-gm/blob/master/docs/transcription.md\" title=\"~/text-fabric-data/Dans-labs/clariah-gm/tf/0.7/omap#0.4-0.7.tf\">omap#0.4-0.7</a></i></b><br><b><i><a target=\"_blank\" href=\"https://github.com/Dans-labs/clariah-gm/blob/master/docs/transcription.md\" title=\"~/text-fabric-data/Dans-labs/clariah-gm/tf/0.7/oslots.tf\">oslots</a></i></b><br></details>"
      ],
      "text/plain": [
       "<IPython.core.display.HTML object>"
      ]
     },
     "metadata": {},
     "output_type": "display_data"
    },
    {
     "data": {
      "text/html": [
       "<style>tr.tf.ltr, td.tf.ltr, th.tf.ltr { text-align: left ! important;}\n",
       "tr.tf.rtl, td.tf.rtl, th.tf.rtl { text-align: right ! important;}\n",
       "@font-face {\n",
       "  font-family: \"Gentium Plus\";\n",
       "  src: local('Gentium Plus'), local('GentiumPlus'),\n",
       "    url('/server/static/fonts/GentiumPlus-R.woff') format('woff'),\n",
       "    url('https://github.com/annotation/text-fabric/blob/master/tf/server/static/fonts/GentiumPlus-R.woff?raw=true') format('woff');\n",
       "}\n",
       "\n",
       "@font-face {\n",
       "  font-family: \"Ezra SIL\";\n",
       "  src: local('Ezra SIL'), local('EzraSIL'),\n",
       "    url('/server/static/fonts/SILEOT.woff') format('woff'),\n",
       "    url('https://github.com/annotation/text-fabric/blob/master/tf/server/static/fonts/SILEOT.woff?raw=true') format('woff');\n",
       "}\n",
       "\n",
       "@font-face {\n",
       "  font-family: \"SBL Hebrew\";\n",
       "  src: local('SBL Hebrew'), local('SBLHebrew'),\n",
       "    url('/server/static/fonts/SBL_Hbrw.woff') format('woff'),\n",
       "    url('https://github.com/annotation/text-fabric/blob/master/tf/server/static/fonts/SBL_Hbrw.woff?raw=true') format('woff');\n",
       "}\n",
       "\n",
       "@font-face {\n",
       "  font-family: \"Estrangelo Edessa\";\n",
       "  src: local('Estrangelo Edessa'), local('EstrangeloEdessa');\n",
       "    url('/server/static/fonts/SyrCOMEdessa.woff') format('woff'),\n",
       "    url('https://github.com/annotation/text-fabric/blob/master/tf/server/static/fonts/SyrCOMEdessa.woff?raw=true') format('woff');\n",
       "}\n",
       "\n",
       "@font-face {\n",
       "  font-family: AmiriQuran;\n",
       "  font-style: normal;\n",
       "  font-weight: 400;\n",
       "  src: local('Amiri Quran'), local('AmiriQuran'),\n",
       "    url('/server/static/fonts/AmiriQuran.woff') format('woff'),\n",
       "    url('https://github.com/annotation/text-fabric/blob/master/tf/server/static/fonts/AmiriQuran.woff?raw=true') format('woff');\n",
       "}\n",
       "\n",
       "@font-face {\n",
       "  font-family: AmiriQuranColored;\n",
       "  font-style: normal;\n",
       "  font-weight: 400;\n",
       "  src: local('Amiri Quran Colored'), local('AmiriQuranColored'),\n",
       "    url('/server/static/fonts/AmiriQuranColored.woff') format('woff'),\n",
       "    url('https://github.com/annotation/text-fabric/blob/master/tf/server/static/fonts/AmiriQuranColored.woff?raw=true') format('woff');\n",
       "}\n",
       "\n",
       "@font-face {\n",
       "  font-family: \"Santakku\";\n",
       "  src: local('Santakku'),\n",
       "    url('/server/static/fonts/Santakku.woff') format('woff'),\n",
       "    url('https://github.com/annotation/text-fabric/blob/master/tf/server/static/fonts/Santakku.woff?raw=true') format('woff');\n",
       "}\n",
       "\n",
       "@font-face {\n",
       "  font-family: \"SantakkuM\";\n",
       "  src: local('SantakkuM'),\n",
       "    url('/server/static/fonts/SantakkuM.woff') format('woff'),\n",
       "    url('https://github.com/annotation/text-fabric/blob/master/tf/server/static/fonts/SantakkuM.woff?raw=true') format('woff');\n",
       "}\n",
       "/* bypassing some classical notebook settings */\n",
       "div#notebook {\n",
       "  line-height: unset;\n",
       "}\n",
       "/* neutral text */\n",
       ".txtn,.txtn a:visited,.txtn a:link {\n",
       "    font-family: sans-serif;\n",
       "    font-size: medium;\n",
       "    direction: ltr;\n",
       "    unicode-bidi: embed;\n",
       "    text-decoration: none;\n",
       "    color: var(--text-color);\n",
       "}\n",
       "/* transcription text */\n",
       ".txtt,.txtt a:visited,.txtt a:link {\n",
       "    font-family: monospace;\n",
       "    font-size: medium;\n",
       "    direction: ltr;\n",
       "    unicode-bidi: embed;\n",
       "    text-decoration: none;\n",
       "    color: var(--text-color);\n",
       "}\n",
       "/* source text */\n",
       ".txto,.txto a:visited,.txto a:link {\n",
       "    font-family: serif;\n",
       "    font-size: medium;\n",
       "    direction: ltr;\n",
       "    unicode-bidi: embed;\n",
       "    text-decoration: none;\n",
       "    color: var(--text-color);\n",
       "}\n",
       "/* phonetic text */\n",
       ".txtp,.txtp a:visited,.txtp a:link {\n",
       "    font-family: Gentium, sans-serif;\n",
       "    font-size: medium;\n",
       "    direction: ltr;\n",
       "    unicode-bidi: embed;\n",
       "    text-decoration: none;\n",
       "    color: var(--text-color);\n",
       "}\n",
       "/* original script text */\n",
       ".txtu,.txtu a:visited,.txtu a:link {\n",
       "    font-family: Gentium, sans-serif;\n",
       "    font-size: medium;\n",
       "    text-decoration: none;\n",
       "    color: var(--text-color);\n",
       "}\n",
       "/* hebrew */\n",
       ".txtu.hbo,.lex.hbo {\n",
       "    font-family: \"Ezra SIL\", \"SBL Hebrew\", sans-serif;\n",
       "    font-size: large;\n",
       "    direction: rtl ! important;\n",
       "    unicode-bidi: embed;\n",
       "}\n",
       "/* syriac */\n",
       ".txtu.syc,.lex.syc {\n",
       "    font-family: \"Estrangelo Edessa\", sans-serif;\n",
       "    font-size: medium;\n",
       "    direction: rtl ! important;\n",
       "    unicode-bidi: embed;\n",
       "}\n",
       "/* neo aramaic */\n",
       ".txtu.cld,.lex.cld {\n",
       "    font-family: \"CharisSIL-R\", sans-serif;\n",
       "    font-size: medium;\n",
       "    direction: ltr ! important;\n",
       "    unicode-bidi: embed;\n",
       "}\n",
       "/* standard arabic */\n",
       ".txtu.ara,.lex.ara {\n",
       "    font-family: \"AmiriQuran\", sans-serif;\n",
       "    font-size: large;\n",
       "    direction: rtl ! important;\n",
       "    unicode-bidi: embed;\n",
       "}\n",
       "/* cuneiform */\n",
       ".txtu.akk,.lex.akk {\n",
       "    font-family: Santakku, sans-serif;\n",
       "    font-size: large;\n",
       "    direction: ltr ! important;\n",
       "    unicode-bidi: embed;\n",
       "}\n",
       "/* greek */\n",
       ".txtu.grc,.lex.grc a:link {\n",
       "    font-family: Gentium, sans-serif;\n",
       "    font-size: medium;\n",
       "    direction: ltr ! important;\n",
       "    unicode-bidi: embed;\n",
       "}\n",
       "a:hover {\n",
       "    text-decoration: underline | important;\n",
       "    color: #0000ff | important;\n",
       "}\n",
       ".ltr {\n",
       "    direction: ltr ! important;\n",
       "    unicode-bidi: embed;\n",
       "}\n",
       ".rtl {\n",
       "    direction: rtl ! important;\n",
       "    unicode-bidi: embed;\n",
       "}\n",
       ".ubd {\n",
       "    unicode-bidi: embed;\n",
       "}\n",
       ".col {\n",
       "   display: inline-block;\n",
       "}\n",
       ".features {\n",
       "    font-family: monospace;\n",
       "    font-size: medium;\n",
       "    font-weight: bold;\n",
       "    color: var(--features);\n",
       "    display: flex;\n",
       "    flex-flow: column nowrap;\n",
       "    justify-content: flex-start;\n",
       "    align-items: flex-start;\n",
       "    align-content: flex-start;\n",
       "    padding: 2px;\n",
       "    margin: 2px;\n",
       "    direction: ltr;\n",
       "    unicode-bidi: embed;\n",
       "    border: var(--meta-width) solid var(--meta-color);\n",
       "    border-radius: var(--meta-width);\n",
       "}\n",
       ".features div,.features span {\n",
       "    padding: 0;\n",
       "    margin: -2px 0;\n",
       "}\n",
       ".features .f {\n",
       "    font-family: sans-serif;\n",
       "    font-size: small;\n",
       "    font-weight: normal;\n",
       "    color: #5555bb;\n",
       "}\n",
       ".features .xft {\n",
       "  color: #000000;\n",
       "  background-color: #eeeeee;\n",
       "  font-size: medium;\n",
       "  margin: 2px 0px;\n",
       "}\n",
       ".features .xft .f {\n",
       "  color: #000000;\n",
       "  background-color: #eeeeee;\n",
       "  font-size: small;\n",
       "  font-weight: normal;\n",
       "}\n",
       ".tfsechead {\n",
       "    font-family: sans-serif;\n",
       "    font-size: small;\n",
       "    font-weight: bold;\n",
       "    color: var(--tfsechead);\n",
       "    unicode-bidi: embed;\n",
       "    text-align: start;\n",
       "}\n",
       ".structure {\n",
       "    font-family: sans-serif;\n",
       "    font-size: small;\n",
       "    font-weight: bold;\n",
       "    color: var(--structure);\n",
       "    unicode-bidi: embed;\n",
       "    text-align: start;\n",
       "}\n",
       ".comments {\n",
       "    display: flex;\n",
       "    justify-content: flex-start;\n",
       "    align-items: flex-start;\n",
       "    align-content: flex-start;\n",
       "    flex-flow: column nowrap;\n",
       "}\n",
       ".nd, a:link.nd {\n",
       "    font-family: sans-serif;\n",
       "    font-size: small;\n",
       "    color: var(--node);\n",
       "    vertical-align: super;\n",
       "    direction: ltr ! important;\n",
       "    unicode-bidi: embed;\n",
       "}\n",
       ".lex {\n",
       "  color: var(--lex-color);;\n",
       "}\n",
       ".children,.children.ltr {\n",
       "    display: flex;\n",
       "    border: 0;\n",
       "    background-color: #ffffff;\n",
       "    justify-content: flex-start;\n",
       "    align-items: flex-start;\n",
       "    align-content: flex-start;\n",
       "}\n",
       ".children.stretch {\n",
       "    align-items: stretch;\n",
       "}\n",
       ".children.hor {\n",
       "    flex-flow: row nowrap;\n",
       "}\n",
       ".children.hor.wrap {\n",
       "    flex-flow: row wrap;\n",
       "}\n",
       ".children.ver {\n",
       "    flex-flow: column nowrap;\n",
       "}\n",
       ".children.ver.wrap {\n",
       "    flex-flow: column wrap;\n",
       "}\n",
       ".contnr {\n",
       "    width: fit-content;\n",
       "    display: flex;\n",
       "    justify-content: flex-start;\n",
       "    align-items: flex-start;\n",
       "    align-content: flex-start;\n",
       "    flex-flow: column nowrap;\n",
       "    background: #ffffff none repeat scroll 0 0;\n",
       "    padding:  10px 2px 2px 2px;\n",
       "    margin: 16px 2px 2px 2px;\n",
       "    border-style: solid;\n",
       "    font-size: small;\n",
       "}\n",
       ".contnr.trm {\n",
       "    background-attachment: local;\n",
       "}\n",
       ".contnr.cnul {\n",
       "    padding:  0;\n",
       "    margin: 0;\n",
       "    border-style: solid;\n",
       "    font-size: xx-small;\n",
       "}\n",
       ".contnr.cnul,.lbl.cnul {\n",
       "    border-color: var(--border-color-nul);\n",
       "    border-width: var(--border-width-nul);\n",
       "    border-radius: var(--border-width-nul);\n",
       "}\n",
       ".contnr.c0,.lbl.c0 {\n",
       "    border-color: var(--border-color0);\n",
       "    border-width: var(--border-width0);\n",
       "    border-radius: var(--border-width0);\n",
       "}\n",
       ".contnr.c1,.lbl.c1 {\n",
       "    border-color: var(--border-color1);\n",
       "    border-width: var(--border-width1);\n",
       "    border-radius: var(--border-width1);\n",
       "}\n",
       ".contnr.c2,.lbl.c2 {\n",
       "    border-color: var(--border-color2);\n",
       "    border-width: var(--border-width2);\n",
       "    border-radius: var(--border-width2);\n",
       "}\n",
       ".contnr.c3,.lbl.c3 {\n",
       "    border-color: var(--border-color3);\n",
       "    border-width: var(--border-width3);\n",
       "    border-radius: var(--border-width3);\n",
       "}\n",
       ".contnr.c4,.lbl.c4 {\n",
       "    border-color: var(--border-color4);\n",
       "    border-width: var(--border-width4);\n",
       "    border-radius: var(--border-width4);\n",
       "}\n",
       "span.plain {\n",
       "    display: inline-block;\n",
       "    white-space: pre-wrap;\n",
       "}\n",
       ".plain {\n",
       "    background-color: #ffffff;\n",
       "}\n",
       ".plain.l,.contnr.l,.contnr.l>.lbl {\n",
       "    border-left-style: dotted\n",
       "}\n",
       ".plain.r,.contnr.r,.contnr.r>.lbl {\n",
       "    border-right-style: dotted\n",
       "}\n",
       ".plain.lno,.contnr.lno,.contnr.lno>.lbl {\n",
       "    border-left-style: none\n",
       "}\n",
       ".plain.rno,.contnr.rno,.contnr.rno>.lbl {\n",
       "    border-right-style: none\n",
       "}\n",
       ".plain.l {\n",
       "    padding-left: 4px;\n",
       "    margin-left: 2px;\n",
       "    border-width: var(--border-width-plain);\n",
       "}\n",
       ".plain.r {\n",
       "    padding-right: 4px;\n",
       "    margin-right: 2px;\n",
       "    border-width: var(--border-width-plain);\n",
       "}\n",
       ".lbl {\n",
       "    font-family: monospace;\n",
       "    margin-top: -24px;\n",
       "    margin-left: 20px;\n",
       "    background: #ffffff none repeat scroll 0 0;\n",
       "    padding: 0 6px;\n",
       "    border-style: solid;\n",
       "    display: block;\n",
       "    color: var(--label)\n",
       "}\n",
       ".lbl.trm {\n",
       "    background-attachment: local;\n",
       "    margin-top: 2px;\n",
       "    margin-left: 2px;\n",
       "    padding: 2px 2px;\n",
       "    border-style: none;\n",
       "}\n",
       ".lbl.cnul {\n",
       "    font-size: xx-small;\n",
       "}\n",
       ".lbl.c0 {\n",
       "    font-size: small;\n",
       "}\n",
       ".lbl.c1 {\n",
       "    font-size: small;\n",
       "}\n",
       ".lbl.c2 {\n",
       "    font-size: medium;\n",
       "}\n",
       ".lbl.c3 {\n",
       "    font-size: medium;\n",
       "}\n",
       ".lbl.c4 {\n",
       "    font-size: large;\n",
       "}\n",
       ".occs, a:link.occs {\n",
       "    font-size: small;\n",
       "}\n",
       "\n",
       "/* PROVENANCE */\n",
       "\n",
       "div.prov {\n",
       "\tmargin: 40px;\n",
       "\tpadding: 20px;\n",
       "\tborder: 2px solid var(--fog-rim);\n",
       "}\n",
       "div.pline {\n",
       "\tdisplay: flex;\n",
       "\tflex-flow: row nowrap;\n",
       "\tjustify-content: stretch;\n",
       "\talign-items: baseline;\n",
       "}\n",
       "div.p2line {\n",
       "\tmargin-left: 2em;\n",
       "\tdisplay: flex;\n",
       "\tflex-flow: row nowrap;\n",
       "\tjustify-content: stretch;\n",
       "\talign-items: baseline;\n",
       "}\n",
       "div.psline {\n",
       "\tdisplay: flex;\n",
       "\tflex-flow: row nowrap;\n",
       "\tjustify-content: stretch;\n",
       "\talign-items: baseline;\n",
       "\tbackground-color: var(--gold-mist-back);\n",
       "}\n",
       "div.pname {\n",
       "\tflex: 0 0 5rem;\n",
       "\tfont-weight: bold;\n",
       "}\n",
       "div.pval {\n",
       "    flex: 1 1 auto;\n",
       "}\n",
       "\n",
       ":root {\n",
       "\t--node:               hsla(120, 100%,  20%, 1.0  );\n",
       "\t--label:              hsla(  0, 100%,  20%, 1.0  );\n",
       "\t--tfsechead:          hsla(  0, 100%,  25%, 1.0  );\n",
       "\t--structure:          hsla(120, 100%,  25%, 1.0  );\n",
       "\t--features:           hsla(  0,   0%,  30%, 1.0  );\n",
       "  --text-color:         hsla( 60,  80%,  10%, 1.0  );\n",
       "  --lex-color:          hsla(220,  90%,  60%, 1.0  );\n",
       "  --meta-color:         hsla(  0,   0%,  90%, 0.7  );\n",
       "  --meta-width:         3px;\n",
       "  --border-color-nul:   hsla(  0,   0%,  90%, 0.5  );\n",
       "  --border-color0:      hsla(  0,   0%,  90%, 0.9  );\n",
       "  --border-color1:      hsla(  0,   0%,  80%, 0.9  );\n",
       "  --border-color2:      hsla(  0,   0%,  70%, 0.9  );\n",
       "  --border-color3:      hsla(  0,   0%,  80%, 0.8  );\n",
       "  --border-color4:      hsla(  0,   0%,  60%, 0.9  );\n",
       "  --border-width-nul:   2px;\n",
       "  --border-width0:      2px;\n",
       "  --border-width1:      3px;\n",
       "  --border-width2:      4px;\n",
       "  --border-width3:      6px;\n",
       "  --border-width4:      5px;\n",
       "  --border-width-plain: 2px;\n",
       "}\n",
       ".hl {\n",
       "  background-color: var(--hl-strong);\n",
       "}\n",
       "span.hl {\n",
       "\tbackground-color: var(--hl-strong);\n",
       "\tborder-width: 0;\n",
       "\tborder-radius: 2px;\n",
       "\tborder-style: solid;\n",
       "}\n",
       "div.contnr.hl,div.lbl.hl {\n",
       "  background-color: var(--hl-strong);\n",
       "}\n",
       "div.contnr.hl {\n",
       "  border-color: var(--hl-rim) ! important;\n",
       "\tborder-width: 4px ! important;\n",
       "}\n",
       "\n",
       "span.hlbx {\n",
       "\tborder-color: var(--hl-rim);\n",
       "\tborder-width: 4px ! important;\n",
       "\tborder-style: solid;\n",
       "\tborder-radius: 6px;\n",
       "  padding: 4px;\n",
       "  margin: 4px;\n",
       "}\n",
       "\n",
       "span.plain {\n",
       "  display: inline-block;\n",
       "  white-space: pre-wrap;\n",
       "}\n",
       "\n",
       ":root {\n",
       "\t--hl-strong:        hsla( 60, 100%,  70%, 0.9  );\n",
       "\t--hl-rim:           hsla( 55,  80%,  50%, 1.0  );\n",
       "}\n",
       ".remark {\n",
       "  font-size: large;\n",
       "  font-style: italic;\n",
       "}\n",
       ".folio {\n",
       "  font-size: small;\n",
       "  color: #668866;\n",
       "}\n",
       ".fmark:after {\n",
       "  font-size: small;\n",
       "  font-weight: bold;\n",
       "  vertical-align: super;\n",
       "  color: #ddaa22;\n",
       "}\n",
       ".note {\n",
       "  vertical-align: super;\n",
       "  font-size: small;\n",
       "  color: #774400;\n",
       "}\n",
       ".ref {\n",
       "  font-size: small;\n",
       "  font-weight: bold;\n",
       "  color: #666688;\n",
       "}\n",
       ".emph {\n",
       "  font-style: italic;\n",
       "}\n",
       ".und {\n",
       "  text-decoration: underline;\n",
       "}\n",
       ".super {\n",
       "  vertical-align: super;\n",
       "}\n",
       ".special {\n",
       "  font-family: monospace;\n",
       "  font-weight: bold;\n",
       "  color: #886666;\n",
       "}\n",
       "</style>"
      ],
      "text/plain": [
       "<IPython.core.display.HTML object>"
      ]
     },
     "metadata": {},
     "output_type": "display_data"
    },
    {
     "data": {
      "text/html": [
       "<div><b>Text-Fabric API:</b> names <a target=\"_blank\" href=\"https://annotation.github.io/text-fabric/tf/cheatsheet.html\" title=\"doc\">N F E L T S C TF</a> directly usable</div><hr>"
      ],
      "text/plain": [
       "<IPython.core.display.HTML object>"
      ]
     },
     "metadata": {},
     "output_type": "display_data"
    }
   ],
   "source": [
    "A = use(\"missieven\", mod=f\"{mod}:clone\", hoist=globals())"
   ]
  },
  {
   "cell_type": "code",
   "execution_count": 14,
   "metadata": {},
   "outputs": [
    {
     "name": "stdout",
     "output_type": "stream",
     "text": [
      "caps=264170 nocaps=2996670 caps + nocaps=3260840\n"
     ]
    }
   ],
   "source": [
    "caps = 0\n",
    "nocaps = 0\n",
    "\n",
    "for n in F.isorig.s(\"1\"):\n",
    "    c = F.upper.v(n)\n",
    "    if c == 0:\n",
    "        nocaps += 1\n",
    "    if c == 1:\n",
    "        caps += 1\n",
    "\n",
    "print(f\"{caps=} {nocaps=} {caps + nocaps=}\")"
   ]
  },
  {
   "cell_type": "markdown",
   "metadata": {},
   "source": [
    "# Modify `upper`\n",
    "\n",
    "We make a dictionary with changed values for upper.\n",
    "\n",
    "We only have to update values that are 1 or 0.\n",
    "\n",
    "We use node 3 for testing."
   ]
  },
  {
   "cell_type": "code",
   "execution_count": 15,
   "metadata": {},
   "outputs": [
    {
     "data": {
      "text/plain": [
       "'PIETER'"
      ]
     },
     "execution_count": 15,
     "metadata": {},
     "output_type": "execute_result"
    }
   ],
   "source": [
    "F.transo.v(3)"
   ]
  },
  {
   "cell_type": "markdown",
   "metadata": {},
   "source": [
    "Copy the feature data into a new dict:"
   ]
  },
  {
   "cell_type": "code",
   "execution_count": 16,
   "metadata": {},
   "outputs": [
    {
     "name": "stdout",
     "output_type": "stream",
     "text": [
      "BEFORE: upper[3]=1\n"
     ]
    }
   ],
   "source": [
    "upper = dict(F.upper.items())\n",
    "print(f\"BEFORE: {upper[3]=}\")"
   ]
  },
  {
   "cell_type": "markdown",
   "metadata": {},
   "source": [
    "Modify this dict and give it new values for the nodes in question:"
   ]
  },
  {
   "cell_type": "code",
   "execution_count": 17,
   "metadata": {},
   "outputs": [
    {
     "name": "stdout",
     "output_type": "stream",
     "text": [
      "AFTER:  upper[3]=6\n"
     ]
    }
   ],
   "source": [
    "for (n, cap) in upper.items():\n",
    "    trans = F.transo.v(n) or \"\"\n",
    "    upper[n] = sum(1 if c.isupper() else 0 for c in trans)\n",
    "\n",
    "len(upper)\n",
    "print(f\"AFTER:  {upper[3]=}\")"
   ]
  },
  {
   "cell_type": "code",
   "execution_count": 18,
   "metadata": {},
   "outputs": [],
   "source": [
    "features = dict(upper=upper)"
   ]
  },
  {
   "cell_type": "markdown",
   "metadata": {},
   "source": [
    "# Save `upper` (2)\n",
    "\n",
    "We will save `upper` in the same module, with the modified meta data."
   ]
  },
  {
   "cell_type": "code",
   "execution_count": 19,
   "metadata": {},
   "outputs": [],
   "source": [
    "metaData = {\n",
    "    \"upper\": dict(\n",
    "        valueType=\"int\",\n",
    "        description=\"the number of capitals in a word\",\n",
    "        creator=\"Dirk Roorda\",\n",
    "    ),\n",
    "}"
   ]
  },
  {
   "cell_type": "markdown",
   "metadata": {},
   "source": [
    "By default, the save location is the directory of the last loaded module given by the `mod` parameter in the\n",
    "`A.use()` call that loaded the dataset."
   ]
  },
  {
   "cell_type": "code",
   "execution_count": 20,
   "metadata": {},
   "outputs": [
    {
     "name": "stdout",
     "output_type": "stream",
     "text": [
      "  0.00s Exporting 1 node and 0 edge and 0 config features to ~/github/annotation/tutorials/missieven/exercises/capital/tf/0.7:\n",
      "   |     2.95s T upper                to ~/github/annotation/tutorials/missieven/exercises/capital/tf/0.7\n",
      "  2.96s Exported 1 node features and 0 edge features and 0 config features to ~/github/annotation/tutorials/missieven/exercises/capital/tf/0.7\n"
     ]
    },
    {
     "data": {
      "text/plain": [
       "True"
      ]
     },
     "execution_count": 20,
     "metadata": {},
     "output_type": "execute_result"
    }
   ],
   "source": [
    "TF.save(nodeFeatures=features, metaData=metaData)"
   ]
  },
  {
   "cell_type": "markdown",
   "metadata": {},
   "source": [
    "However, the updated feature is not yet loaded. We can see that with our example:"
   ]
  },
  {
   "cell_type": "code",
   "execution_count": 21,
   "metadata": {},
   "outputs": [
    {
     "data": {
      "text/plain": [
       "1"
      ]
     },
     "execution_count": 21,
     "metadata": {},
     "output_type": "execute_result"
    }
   ],
   "source": [
    "F.upper.v(3)"
   ]
  },
  {
   "cell_type": "markdown",
   "metadata": {},
   "source": [
    "The updated feature would give value `6` for this node.\n",
    "\n",
    "We reload the feature `upper`.\n",
    "By passing the parameter `add=True` we tell TF to load just this feature into the existing API, rather than to create\n",
    "a new API with this feature loaded."
   ]
  },
  {
   "cell_type": "code",
   "execution_count": 22,
   "metadata": {},
   "outputs": [
    {
     "name": "stdout",
     "output_type": "stream",
     "text": [
      "  0.00s loading features ...\n",
      "   |     4.07s T upper                from ~/github/annotation/tutorials/missieven/exercises/capital/tf/0.7\n",
      "  6.74s All additional features loaded - for details use loadLog()\n"
     ]
    }
   ],
   "source": [
    "TF.load(\"upper\", add=True)"
   ]
  },
  {
   "cell_type": "markdown",
   "metadata": {},
   "source": [
    "Look at the message: the `T` in `T upper` is an indication that the feature data has been read from the newly created\n",
    "`upper.tf` text file.\n",
    "After reading a binary file `upper.tfx` is created with the same data, but it loads faster.\n",
    "When the `.tfx` file is outdated, the `.tf` file will be read again, and a new `.tfx` will be created.\n",
    "This happens behind the screens.\n",
    "\n",
    "We check:"
   ]
  },
  {
   "cell_type": "code",
   "execution_count": 23,
   "metadata": {},
   "outputs": [
    {
     "data": {
      "text/plain": [
       "6"
      ]
     },
     "execution_count": 23,
     "metadata": {},
     "output_type": "execute_result"
    }
   ],
   "source": [
    "F.upper.v(3)"
   ]
  },
  {
   "cell_type": "markdown",
   "metadata": {},
   "source": [
    "# Ad libitum\n",
    "\n",
    "You can repeat modifying `upper` and saving it until you are done.\n",
    "\n",
    "If the module `capital` is on GitHub, it is published and you can use it next to the missieven corpus by calling the missieven\n",
    "with a suitable `mod` parameter."
   ]
  }
 ],
 "metadata": {
  "kernelspec": {
   "display_name": "Python3.9",
   "language": "python",
   "name": "python3"
  },
  "language_info": {
   "codemirror_mode": {
    "name": "ipython",
    "version": 3
   },
   "file_extension": ".py",
   "mimetype": "text/x-python",
   "name": "python",
   "nbconvert_exporter": "python",
   "pygments_lexer": "ipython3",
   "version": "3.9.0"
  }
 },
 "nbformat": 4,
 "nbformat_minor": 4
}
