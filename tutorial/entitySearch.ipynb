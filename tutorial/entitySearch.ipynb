{
 "cells": [
  {
   "cell_type": "code",
   "execution_count": 1,
   "id": "ab522b6d-a0c8-4a5e-8fc1-ef1ffcf94d36",
   "metadata": {},
   "outputs": [],
   "source": [
    "%load_ext autoreload\n",
    "%autoreload 2"
   ]
  },
  {
   "cell_type": "code",
   "execution_count": 2,
   "id": "3227413c-4397-4819-bb34-21e06d30a4ae",
   "metadata": {},
   "outputs": [],
   "source": [
    "from tf.app import use"
   ]
  },
  {
   "cell_type": "code",
   "execution_count": 3,
   "id": "5ebd63b3-1491-46a8-9432-fac3b578c9ab",
   "metadata": {},
   "outputs": [
    {
     "data": {
      "text/markdown": [
       "**Locating corpus resources ...**"
      ],
      "text/plain": [
       "<IPython.core.display.Markdown object>"
      ]
     },
     "metadata": {},
     "output_type": "display_data"
    },
    {
     "data": {
      "text/html": [
       "<b title=\"local release\">app:</b> <span title=\"rv1.1=#g8666face5331ed80d6b88c942fa450d9f82d4959 offline under /Users/me/text-fabric-data/github\">~/text-fabric-data/github/CLARIAH/wp6-missieven/app</span>"
      ],
      "text/plain": [
       "<IPython.core.display.HTML object>"
      ]
     },
     "metadata": {},
     "output_type": "display_data"
    },
    {
     "data": {
      "text/html": [
       "<b title=\"local release\">data:</b> <span title=\"rv1.1=#g8666face5331ed80d6b88c942fa450d9f82d4959 offline under /Users/me/text-fabric-data/github\">~/text-fabric-data/github/CLARIAH/wp6-missieven/tf/1.0e</span>"
      ],
      "text/plain": [
       "<IPython.core.display.HTML object>"
      ]
     },
     "metadata": {},
     "output_type": "display_data"
    },
    {
     "data": {
      "text/html": [
       "<b title=\"local release\">data:</b> <span title=\"rv1.1=#g8666face5331ed80d6b88c942fa450d9f82d4959 offline under /Users/me/text-fabric-data/github\">~/text-fabric-data/github/CLARIAH/wp6-missieven/ner</span>"
      ],
      "text/plain": [
       "<IPython.core.display.HTML object>"
      ]
     },
     "metadata": {},
     "output_type": "display_data"
    },
    {
     "data": {
      "text/html": [
       "\n",
       "            <b>TF:</b> <a target=\"_blank\" href=\"https://annotation.github.io/text-fabric/tf/cheatsheet.html\" title=\"text-fabric api\">TF API 12.2.10</a>, <a target=\"_blank\" href=\"https://github.com/CLARIAH/wp6-missieven/blob/master/app\" title=\"CLARIAH/wp6-missieven app\">CLARIAH/wp6-missieven/app  v3</a>, <a target=\"_blank\" href=\"https://annotation.github.io/text-fabric/tf/about/searchusage.html\" title=\"Search Templates Introduction and Reference\">Search Reference</a><br>\n",
       "            <b>Data:</b> <a target=\"_blank\" href=\"https://github.com/CLARIAH/wp6-missieven/blob/master/docs/about.md\" title=\"provenance of General Missives Dutch East India Company 1600-1800\">CLARIAH - wp6-missieven 1.0e</a>, <a target=\"_blank\" href=\"https://annotation.github.io/text-fabric/tf/writing/\" title=\"How TF features represent text\">Character table</a>, <a target=\"_blank\" href=\"https://github.com/CLARIAH/wp6-missieven/blob/master/docs/transcription.md\" title=\"CLARIAH - wp6-missieven feature documentation\">Feature docs</a><br>\n",
       "            <details class=\"nodeinfo\"><summary><b>Node types</b></summary>\n",
       "<table class=\"nodeinfo\">\n",
       "    <tr>\n",
       "        <th>Name</th>\n",
       "        <th># of nodes</th>\n",
       "        <th># slots / node</th>\n",
       "        <th>% coverage</th>\n",
       "    </tr>\n",
       "\n",
       "<tr>\n",
       "    <th>volume</th>\n",
       "    <td>14</td>\n",
       "    <td>426954.79</td>\n",
       "    <td><b>100</b></td>\n",
       "</tr>\n",
       "\n",
       "<tr>\n",
       "    <th>letter</th>\n",
       "    <td>607</td>\n",
       "    <td>9847.39</td>\n",
       "    <td><b>100</b></td>\n",
       "</tr>\n",
       "\n",
       "<tr>\n",
       "    <th>page</th>\n",
       "    <td>11215</td>\n",
       "    <td>532.98</td>\n",
       "    <td><b>100</b></td>\n",
       "</tr>\n",
       "\n",
       "<tr>\n",
       "    <th>table</th>\n",
       "    <td>491</td>\n",
       "    <td>137.91</td>\n",
       "    <td>1</td>\n",
       "</tr>\n",
       "\n",
       "<tr>\n",
       "    <th>para</th>\n",
       "    <td>34773</td>\n",
       "    <td>100.79</td>\n",
       "    <td>59</td>\n",
       "</tr>\n",
       "\n",
       "<tr>\n",
       "    <th>remark</th>\n",
       "    <td>24110</td>\n",
       "    <td>97.49</td>\n",
       "    <td>39</td>\n",
       "</tr>\n",
       "\n",
       "<tr>\n",
       "    <th>head</th>\n",
       "    <td>607</td>\n",
       "    <td>31.12</td>\n",
       "    <td>0</td>\n",
       "</tr>\n",
       "\n",
       "<tr>\n",
       "    <th>note</th>\n",
       "    <td>12476</td>\n",
       "    <td>16.88</td>\n",
       "    <td>4</td>\n",
       "</tr>\n",
       "\n",
       "<tr>\n",
       "    <th>line</th>\n",
       "    <td>526918</td>\n",
       "    <td>11.34</td>\n",
       "    <td><b>100</b></td>\n",
       "</tr>\n",
       "\n",
       "<tr>\n",
       "    <th>row</th>\n",
       "    <td>8350</td>\n",
       "    <td>8.10</td>\n",
       "    <td>1</td>\n",
       "</tr>\n",
       "\n",
       "<tr>\n",
       "    <th>folio</th>\n",
       "    <td>7899</td>\n",
       "    <td>2.63</td>\n",
       "    <td>0</td>\n",
       "</tr>\n",
       "\n",
       "<tr>\n",
       "    <th>cell</th>\n",
       "    <td>32302</td>\n",
       "    <td>2.09</td>\n",
       "    <td>1</td>\n",
       "</tr>\n",
       "\n",
       "<tr>\n",
       "    <th>ent</th>\n",
       "    <td>17756</td>\n",
       "    <td>1.64</td>\n",
       "    <td>0</td>\n",
       "</tr>\n",
       "\n",
       "<tr>\n",
       "    <th>subhead</th>\n",
       "    <td>1864</td>\n",
       "    <td>1.42</td>\n",
       "    <td>0</td>\n",
       "</tr>\n",
       "\n",
       "<tr>\n",
       "    <th><i>word</i></th>\n",
       "    <td>5977367</td>\n",
       "    <td>1.00</td>\n",
       "    <td><b>100</b></td>\n",
       "</tr>\n",
       "</table></details>\n",
       "            <b>Sets:</b> no custom sets<br>\n",
       "            <b>Features:</b><br>\n",
       "<details><summary><b>General Missives Dutch East India Company 1600-1800</b></summary>\n",
       "    <div class=\"fcorpus\">\n",
       "\n",
       "<div class=\"frow\">\n",
       "    <div class=\"fnamecat \">\n",
       "<a target=\"_blank\" href=\"https://github.com/CLARIAH/wp6-missieven/blob/master/docs/transcription.md\" title=\"~/text-fabric-data/github/CLARIAH/wp6-missieven/tf/1.0e/author.tf\">author</a>\n",
       "</div>\n",
       "<div class=\"fmono\">str</div>\n",
       "\n",
       "<span> authors of the letter, surnames only</span>\n",
       "\n",
       "</div>\n",
       "\n",
       "<div class=\"frow\">\n",
       "    <div class=\"fnamecat \">\n",
       "<a target=\"_blank\" href=\"https://github.com/CLARIAH/wp6-missieven/blob/master/docs/transcription.md\" title=\"~/text-fabric-data/github/CLARIAH/wp6-missieven/tf/1.0e/authorFull.tf\">authorFull</a>\n",
       "</div>\n",
       "<div class=\"fmono\">str</div>\n",
       "\n",
       "<span> authors of the letter, full names</span>\n",
       "\n",
       "</div>\n",
       "\n",
       "<div class=\"frow\">\n",
       "    <div class=\"fnamecat \">\n",
       "<a target=\"_blank\" href=\"https://github.com/CLARIAH/wp6-missieven/blob/master/docs/transcription.md\" title=\"~/text-fabric-data/github/CLARIAH/wp6-missieven/tf/1.0e/col.tf\">col</a>\n",
       "</div>\n",
       "<div class=\"fmono\">int</div>\n",
       "\n",
       "<span> column number of a column in a row in a table</span>\n",
       "\n",
       "</div>\n",
       "\n",
       "<div class=\"frow\">\n",
       "    <div class=\"fnamecat \">\n",
       "<a target=\"_blank\" href=\"https://github.com/CLARIAH/wp6-missieven/blob/master/docs/transcription.md\" title=\"~/text-fabric-data/github/CLARIAH/wp6-missieven/tf/1.0e/day.tf\">day</a>\n",
       "</div>\n",
       "<div class=\"fmono\">int</div>\n",
       "\n",
       "<span> day part of the date of the letter</span>\n",
       "\n",
       "</div>\n",
       "\n",
       "<div class=\"frow\">\n",
       "    <div class=\"fnamecat \">\n",
       "<a target=\"_blank\" href=\"https://github.com/CLARIAH/wp6-missieven/blob/master/docs/transcription.md\" title=\"~/text-fabric-data/github/CLARIAH/wp6-missieven/tf/1.0e/eid.tf\">eid</a>\n",
       "</div>\n",
       "<div class=\"fmono\">str</div>\n",
       "\n",
       "<span> entity identifier base on string value of occurrence</span>\n",
       "\n",
       "</div>\n",
       "\n",
       "<div class=\"frow\">\n",
       "    <div class=\"fnamecat \">\n",
       "<a target=\"_blank\" href=\"https://github.com/CLARIAH/wp6-missieven/blob/master/docs/transcription.md\" title=\"~/text-fabric-data/github/CLARIAH/wp6-missieven/tf/1.0e/isden.tf\">isden</a>\n",
       "</div>\n",
       "<div class=\"fmono\">int</div>\n",
       "\n",
       "<span> whether a word is the denominator in fraction, e.g. 4 in 1/4</span>\n",
       "\n",
       "</div>\n",
       "\n",
       "<div class=\"frow\">\n",
       "    <div class=\"fnamecat \">\n",
       "<a target=\"_blank\" href=\"https://github.com/CLARIAH/wp6-missieven/blob/master/docs/transcription.md\" title=\"~/text-fabric-data/github/CLARIAH/wp6-missieven/tf/1.0e/isemph.tf\">isemph</a>\n",
       "</div>\n",
       "<div class=\"fmono\">str</div>\n",
       "\n",
       "<span> whether a word is emphasized by typography</span>\n",
       "\n",
       "</div>\n",
       "\n",
       "<div class=\"frow\">\n",
       "    <div class=\"fnamecat \">\n",
       "<a target=\"_blank\" href=\"https://github.com/CLARIAH/wp6-missieven/blob/master/docs/transcription.md\" title=\"~/text-fabric-data/github/CLARIAH/wp6-missieven/tf/1.0e/isfolio.tf\">isfolio</a>\n",
       "</div>\n",
       "<div class=\"fmono\">int</div>\n",
       "\n",
       "<span> a folio reference</span>\n",
       "\n",
       "</div>\n",
       "\n",
       "<div class=\"frow\">\n",
       "    <div class=\"fnamecat \">\n",
       "<a target=\"_blank\" href=\"https://github.com/CLARIAH/wp6-missieven/blob/master/docs/transcription.md\" title=\"~/text-fabric-data/github/CLARIAH/wp6-missieven/tf/1.0e/isnote.tf\">isnote</a>\n",
       "</div>\n",
       "<div class=\"fmono\">int</div>\n",
       "\n",
       "<span> whether a word belongs to footnote text</span>\n",
       "\n",
       "</div>\n",
       "\n",
       "<div class=\"frow\">\n",
       "    <div class=\"fnamecat \">\n",
       "<a target=\"_blank\" href=\"https://github.com/CLARIAH/wp6-missieven/blob/master/docs/transcription.md\" title=\"~/text-fabric-data/github/CLARIAH/wp6-missieven/tf/1.0e/isnum.tf\">isnum</a>\n",
       "</div>\n",
       "<div class=\"fmono\">int</div>\n",
       "\n",
       "<span> whether a word is the numerator in fraction, e.g. 1 in 1/4</span>\n",
       "\n",
       "</div>\n",
       "\n",
       "<div class=\"frow\">\n",
       "    <div class=\"fnamecat \">\n",
       "<a target=\"_blank\" href=\"https://github.com/CLARIAH/wp6-missieven/blob/master/docs/transcription.md\" title=\"~/text-fabric-data/github/CLARIAH/wp6-missieven/tf/1.0e/isorig.tf\">isorig</a>\n",
       "</div>\n",
       "<div class=\"fmono\">int</div>\n",
       "\n",
       "<span> whether a word belongs to original text</span>\n",
       "\n",
       "</div>\n",
       "\n",
       "<div class=\"frow\">\n",
       "    <div class=\"fnamecat \">\n",
       "<a target=\"_blank\" href=\"https://github.com/CLARIAH/wp6-missieven/blob/master/docs/transcription.md\" title=\"~/text-fabric-data/github/CLARIAH/wp6-missieven/tf/1.0e/isq.tf\">isq</a>\n",
       "</div>\n",
       "<div class=\"fmono\">int</div>\n",
       "\n",
       "<span> whether a word is a numerical fraction, e.g. 1/4</span>\n",
       "\n",
       "</div>\n",
       "\n",
       "<div class=\"frow\">\n",
       "    <div class=\"fnamecat \">\n",
       "<a target=\"_blank\" href=\"https://github.com/CLARIAH/wp6-missieven/blob/master/docs/transcription.md\" title=\"~/text-fabric-data/github/CLARIAH/wp6-missieven/tf/1.0e/isref.tf\">isref</a>\n",
       "</div>\n",
       "<div class=\"fmono\">int</div>\n",
       "\n",
       "<span> whether a word belongs to the text of reference</span>\n",
       "\n",
       "</div>\n",
       "\n",
       "<div class=\"frow\">\n",
       "    <div class=\"fnamecat \">\n",
       "<a target=\"_blank\" href=\"https://github.com/CLARIAH/wp6-missieven/blob/master/docs/transcription.md\" title=\"~/text-fabric-data/github/CLARIAH/wp6-missieven/tf/1.0e/isremark.tf\">isremark</a>\n",
       "</div>\n",
       "<div class=\"fmono\">int</div>\n",
       "\n",
       "<span> whether a word belongs to the text of editorial remarks</span>\n",
       "\n",
       "</div>\n",
       "\n",
       "<div class=\"frow\">\n",
       "    <div class=\"fnamecat \">\n",
       "<a target=\"_blank\" href=\"https://github.com/CLARIAH/wp6-missieven/blob/master/docs/transcription.md\" title=\"~/text-fabric-data/github/CLARIAH/wp6-missieven/tf/1.0e/isspecial.tf\">isspecial</a>\n",
       "</div>\n",
       "<div class=\"fmono\">int</div>\n",
       "\n",
       "<span> whether a word has special typography possibly with OCR mistakes as well</span>\n",
       "\n",
       "</div>\n",
       "\n",
       "<div class=\"frow\">\n",
       "    <div class=\"fnamecat \">\n",
       "<a target=\"_blank\" href=\"https://github.com/CLARIAH/wp6-missieven/blob/master/docs/transcription.md\" title=\"~/text-fabric-data/github/CLARIAH/wp6-missieven/tf/1.0e/issub.tf\">issub</a>\n",
       "</div>\n",
       "<div class=\"fmono\">int</div>\n",
       "\n",
       "<span> whether a word has subscript typography possibly indicating the denominator of a fraction</span>\n",
       "\n",
       "</div>\n",
       "\n",
       "<div class=\"frow\">\n",
       "    <div class=\"fnamecat \">\n",
       "<a target=\"_blank\" href=\"https://github.com/CLARIAH/wp6-missieven/blob/master/docs/transcription.md\" title=\"~/text-fabric-data/github/CLARIAH/wp6-missieven/tf/1.0e/issuper.tf\">issuper</a>\n",
       "</div>\n",
       "<div class=\"fmono\">int</div>\n",
       "\n",
       "<span> whether a word has superscript typography possibly indicating the numerator of a fraction</span>\n",
       "\n",
       "</div>\n",
       "\n",
       "<div class=\"frow\">\n",
       "    <div class=\"fnamecat \">\n",
       "<a target=\"_blank\" href=\"https://github.com/CLARIAH/wp6-missieven/blob/master/docs/transcription.md\" title=\"~/text-fabric-data/github/CLARIAH/wp6-missieven/tf/1.0e/isund.tf\">isund</a>\n",
       "</div>\n",
       "<div class=\"fmono\">str</div>\n",
       "\n",
       "<span> whether a word is underlined by typography</span>\n",
       "\n",
       "</div>\n",
       "\n",
       "<div class=\"frow\">\n",
       "    <div class=\"fnamecat \">\n",
       "<a target=\"_blank\" href=\"https://github.com/CLARIAH/wp6-missieven/blob/master/docs/transcription.md\" title=\"~/text-fabric-data/github/CLARIAH/wp6-missieven/tf/1.0e/kind.tf\">kind</a>\n",
       "</div>\n",
       "<div class=\"fmono\">str</div>\n",
       "\n",
       "<span> entity kind</span>\n",
       "\n",
       "</div>\n",
       "\n",
       "<div class=\"frow\">\n",
       "    <div class=\"fnamecat \">\n",
       "<a target=\"_blank\" href=\"https://github.com/CLARIAH/wp6-missieven/blob/master/docs/transcription.md\" title=\"~/text-fabric-data/github/CLARIAH/wp6-missieven/tf/1.0e/mark.tf\">mark</a>\n",
       "</div>\n",
       "<div class=\"fmono\">int</div>\n",
       "\n",
       "<span> footnote mark (not necessarily the same as shown on the printed page</span>\n",
       "\n",
       "</div>\n",
       "\n",
       "<div class=\"frow\">\n",
       "    <div class=\"fnamecat \">\n",
       "<a target=\"_blank\" href=\"https://github.com/CLARIAH/wp6-missieven/blob/master/docs/transcription.md\" title=\"~/text-fabric-data/github/CLARIAH/wp6-missieven/tf/1.0e/month.tf\">month</a>\n",
       "</div>\n",
       "<div class=\"fmono\">int</div>\n",
       "\n",
       "<span> month part of the date of the letter</span>\n",
       "\n",
       "</div>\n",
       "\n",
       "<div class=\"frow\">\n",
       "    <div class=\"fnamecat \">\n",
       "<a target=\"_blank\" href=\"https://github.com/CLARIAH/wp6-missieven/blob/master/docs/transcription.md\" title=\"~/text-fabric-data/github/CLARIAH/wp6-missieven/tf/1.0e/n.tf\">n</a>\n",
       "</div>\n",
       "<div class=\"fmono\">int</div>\n",
       "\n",
       "<span> number of a volume, letter, page, para, line, table</span>\n",
       "\n",
       "</div>\n",
       "\n",
       "<div class=\"frow\">\n",
       "    <div class=\"fnamecat \">\n",
       "<a target=\"_blank\" href=\"https://github.com/CLARIAH/wp6-missieven/blob/master/docs/transcription.md\" title=\"~/text-fabric-data/github/CLARIAH/wp6-missieven/tf/1.0e/otype.tf\">otype</a>\n",
       "</div>\n",
       "<div class=\"fmono\">str</div>\n",
       "\n",
       "<span> </span>\n",
       "\n",
       "</div>\n",
       "\n",
       "<div class=\"frow\">\n",
       "    <div class=\"fnamecat \">\n",
       "<a target=\"_blank\" href=\"https://github.com/CLARIAH/wp6-missieven/blob/master/docs/transcription.md\" title=\"~/text-fabric-data/github/CLARIAH/wp6-missieven/tf/1.0e/page.tf\">page</a>\n",
       "</div>\n",
       "<div class=\"fmono\">str</div>\n",
       "\n",
       "<span> number of the first page of this letter in this volume</span>\n",
       "\n",
       "</div>\n",
       "\n",
       "<div class=\"frow\">\n",
       "    <div class=\"fnamecat \">\n",
       "<a target=\"_blank\" href=\"https://github.com/CLARIAH/wp6-missieven/blob/master/docs/transcription.md\" title=\"~/text-fabric-data/github/CLARIAH/wp6-missieven/tf/1.0e/place.tf\">place</a>\n",
       "</div>\n",
       "<div class=\"fmono\">str</div>\n",
       "\n",
       "<span> place from where the letter was sent</span>\n",
       "\n",
       "</div>\n",
       "\n",
       "<div class=\"frow\">\n",
       "    <div class=\"fnamecat \">\n",
       "<a target=\"_blank\" href=\"https://github.com/CLARIAH/wp6-missieven/blob/master/docs/transcription.md\" title=\"~/text-fabric-data/github/CLARIAH/wp6-missieven/tf/1.0e/punc.tf\">punc</a>\n",
       "</div>\n",
       "<div class=\"fmono\">str</div>\n",
       "\n",
       "<span> punctuation and/or whitespace following a wordup to the next word</span>\n",
       "\n",
       "</div>\n",
       "\n",
       "<div class=\"frow\">\n",
       "    <div class=\"fnamecat \">\n",
       "<a target=\"_blank\" href=\"https://github.com/CLARIAH/wp6-missieven/blob/master/docs/transcription.md\" title=\"~/text-fabric-data/github/CLARIAH/wp6-missieven/tf/1.0e/puncn.tf\">puncn</a>\n",
       "</div>\n",
       "<div class=\"fmono\">str</div>\n",
       "\n",
       "<span> punctuation and/or whitespace following a word,up to the next word, footnote text only</span>\n",
       "\n",
       "</div>\n",
       "\n",
       "<div class=\"frow\">\n",
       "    <div class=\"fnamecat \">\n",
       "<a target=\"_blank\" href=\"https://github.com/CLARIAH/wp6-missieven/blob/master/docs/transcription.md\" title=\"~/text-fabric-data/github/CLARIAH/wp6-missieven/tf/1.0e/punco.tf\">punco</a>\n",
       "</div>\n",
       "<div class=\"fmono\">str</div>\n",
       "\n",
       "<span> punctuation and/or whitespace following a word,up to the next word, original text only</span>\n",
       "\n",
       "</div>\n",
       "\n",
       "<div class=\"frow\">\n",
       "    <div class=\"fnamecat \">\n",
       "<a target=\"_blank\" href=\"https://github.com/CLARIAH/wp6-missieven/blob/master/docs/transcription.md\" title=\"~/text-fabric-data/github/CLARIAH/wp6-missieven/tf/1.0e/puncr.tf\">puncr</a>\n",
       "</div>\n",
       "<div class=\"fmono\">str</div>\n",
       "\n",
       "<span> punctuation and/or whitespace following a word,up to the next word, remark text only</span>\n",
       "\n",
       "</div>\n",
       "\n",
       "<div class=\"frow\">\n",
       "    <div class=\"fnamecat \">\n",
       "<a target=\"_blank\" href=\"https://github.com/CLARIAH/wp6-missieven/blob/master/docs/transcription.md\" title=\"~/text-fabric-data/github/CLARIAH/wp6-missieven/tf/1.0e/rawdate.tf\">rawdate</a>\n",
       "</div>\n",
       "<div class=\"fmono\">str</div>\n",
       "\n",
       "<span> the date the letter was sent</span>\n",
       "\n",
       "</div>\n",
       "\n",
       "<div class=\"frow\">\n",
       "    <div class=\"fnamecat \">\n",
       "<a target=\"_blank\" href=\"https://github.com/CLARIAH/wp6-missieven/blob/master/docs/transcription.md\" title=\"~/text-fabric-data/github/CLARIAH/wp6-missieven/tf/1.0e/row.tf\">row</a>\n",
       "</div>\n",
       "<div class=\"fmono\">int</div>\n",
       "\n",
       "<span> row number of a row of column in a table</span>\n",
       "\n",
       "</div>\n",
       "\n",
       "<div class=\"frow\">\n",
       "    <div class=\"fnamecat \">\n",
       "<a target=\"_blank\" href=\"https://github.com/CLARIAH/wp6-missieven/blob/master/docs/transcription.md\" title=\"~/text-fabric-data/github/CLARIAH/wp6-missieven/tf/1.0e/seq.tf\">seq</a>\n",
       "</div>\n",
       "<div class=\"fmono\">str</div>\n",
       "\n",
       "<span> ('sequence number of this letter among the letters of the same author in this volume',)</span>\n",
       "\n",
       "</div>\n",
       "\n",
       "<div class=\"frow\">\n",
       "    <div class=\"fnamecat \">\n",
       "<a target=\"_blank\" href=\"https://github.com/CLARIAH/wp6-missieven/blob/master/docs/transcription.md\" title=\"~/text-fabric-data/github/CLARIAH/wp6-missieven/tf/1.0e/status.tf\">status</a>\n",
       "</div>\n",
       "<div class=\"fmono\">str</div>\n",
       "\n",
       "<span> status of the letter, e.g. secret, copy</span>\n",
       "\n",
       "</div>\n",
       "\n",
       "<div class=\"frow\">\n",
       "    <div class=\"fnamecat \">\n",
       "<a target=\"_blank\" href=\"https://github.com/CLARIAH/wp6-missieven/blob/master/docs/transcription.md\" title=\"~/text-fabric-data/github/CLARIAH/wp6-missieven/tf/1.0e/title.tf\">title</a>\n",
       "</div>\n",
       "<div class=\"fmono\">str</div>\n",
       "\n",
       "<span> title of the letter</span>\n",
       "\n",
       "</div>\n",
       "\n",
       "<div class=\"frow\">\n",
       "    <div class=\"fnamecat \">\n",
       "<a target=\"_blank\" href=\"https://github.com/CLARIAH/wp6-missieven/blob/master/docs/transcription.md\" title=\"~/text-fabric-data/github/CLARIAH/wp6-missieven/tf/1.0e/trans.tf\">trans</a>\n",
       "</div>\n",
       "<div class=\"fmono\">str</div>\n",
       "\n",
       "<span> transcription of a word</span>\n",
       "\n",
       "</div>\n",
       "\n",
       "<div class=\"frow\">\n",
       "    <div class=\"fnamecat \">\n",
       "<a target=\"_blank\" href=\"https://github.com/CLARIAH/wp6-missieven/blob/master/docs/transcription.md\" title=\"~/text-fabric-data/github/CLARIAH/wp6-missieven/tf/1.0e/transn.tf\">transn</a>\n",
       "</div>\n",
       "<div class=\"fmono\">str</div>\n",
       "\n",
       "<span> transcription of a word, only for footnote text</span>\n",
       "\n",
       "</div>\n",
       "\n",
       "<div class=\"frow\">\n",
       "    <div class=\"fnamecat \">\n",
       "<a target=\"_blank\" href=\"https://github.com/CLARIAH/wp6-missieven/blob/master/docs/transcription.md\" title=\"~/text-fabric-data/github/CLARIAH/wp6-missieven/tf/1.0e/transo.tf\">transo</a>\n",
       "</div>\n",
       "<div class=\"fmono\">str</div>\n",
       "\n",
       "<span> transcription of a word, only for original text</span>\n",
       "\n",
       "</div>\n",
       "\n",
       "<div class=\"frow\">\n",
       "    <div class=\"fnamecat \">\n",
       "<a target=\"_blank\" href=\"https://github.com/CLARIAH/wp6-missieven/blob/master/docs/transcription.md\" title=\"~/text-fabric-data/github/CLARIAH/wp6-missieven/tf/1.0e/transr.tf\">transr</a>\n",
       "</div>\n",
       "<div class=\"fmono\">str</div>\n",
       "\n",
       "<span> transcription of a word, only for remark text</span>\n",
       "\n",
       "</div>\n",
       "\n",
       "<div class=\"frow\">\n",
       "    <div class=\"fnamecat \">\n",
       "<a target=\"_blank\" href=\"https://github.com/CLARIAH/wp6-missieven/blob/master/docs/transcription.md\" title=\"~/text-fabric-data/github/CLARIAH/wp6-missieven/tf/1.0e/vol.tf\">vol</a>\n",
       "</div>\n",
       "<div class=\"fmono\">int</div>\n",
       "\n",
       "<span> volume number</span>\n",
       "\n",
       "</div>\n",
       "\n",
       "<div class=\"frow\">\n",
       "    <div class=\"fnamecat \">\n",
       "<a target=\"_blank\" href=\"https://github.com/CLARIAH/wp6-missieven/blob/master/docs/transcription.md\" title=\"~/text-fabric-data/github/CLARIAH/wp6-missieven/tf/1.0e/weblink.tf\">weblink</a>\n",
       "</div>\n",
       "<div class=\"fmono\">str</div>\n",
       "\n",
       "<span> the page-specific part of web links for page nodes</span>\n",
       "\n",
       "</div>\n",
       "\n",
       "<div class=\"frow\">\n",
       "    <div class=\"fnamecat \">\n",
       "<a target=\"_blank\" href=\"https://github.com/CLARIAH/wp6-missieven/blob/master/docs/transcription.md\" title=\"~/text-fabric-data/github/CLARIAH/wp6-missieven/tf/1.0e/x.tf\">x</a>\n",
       "</div>\n",
       "<div class=\"fmono\">int</div>\n",
       "\n",
       "<span> column offset of a column in a row in a table</span>\n",
       "\n",
       "</div>\n",
       "\n",
       "<div class=\"frow\">\n",
       "    <div class=\"fnamecat \">\n",
       "<a target=\"_blank\" href=\"https://github.com/CLARIAH/wp6-missieven/blob/master/docs/transcription.md\" title=\"~/text-fabric-data/github/CLARIAH/wp6-missieven/tf/1.0e/year.tf\">year</a>\n",
       "</div>\n",
       "<div class=\"fmono\">int</div>\n",
       "\n",
       "<span> year part of the date of the letter</span>\n",
       "\n",
       "</div>\n",
       "\n",
       "<div class=\"frow\">\n",
       "    <div class=\"fnamecat edge\">\n",
       "<a target=\"_blank\" href=\"https://github.com/CLARIAH/wp6-missieven/blob/master/docs/transcription.md\" title=\"~/text-fabric-data/github/CLARIAH/wp6-missieven/tf/1.0e/note.tf\">note</a>\n",
       "</div>\n",
       "<div class=\"fmono\">none</div>\n",
       "\n",
       "<span> edge between a word and the footnotes associated with it</span>\n",
       "\n",
       "</div>\n",
       "\n",
       "<div class=\"frow\">\n",
       "    <div class=\"fnamecat edge\">\n",
       "<a target=\"_blank\" href=\"https://github.com/CLARIAH/wp6-missieven/blob/master/docs/transcription.md\" title=\"~/text-fabric-data/github/CLARIAH/wp6-missieven/tf/1.0e/oslots.tf\">oslots</a>\n",
       "</div>\n",
       "<div class=\"fmono\">none</div>\n",
       "\n",
       "<span> </span>\n",
       "\n",
       "</div>\n",
       "\n",
       "    </div>\n",
       "</details>\n",
       "\n",
       "            <b>Settings:</b><br><details ><summary><b>specified</b></summary><ol><li><b>apiVersion</b>: <code>3</code></li><li><b>appName</b>: <code>CLARIAH/wp6-missieven</code></li><li><b>appPath</b>: <code>/Users/me/text-fabric-data/github/CLARIAH/wp6-missieven/app</code></li><li><b>commit</b>: <code>g8666face5331ed80d6b88c942fa450d9f82d4959</code></li><li><details><summary><b>css</b>:</summary><code>.remark {<br>  font-size: large;<br>  font-style: italic;<br>}<br>.folio {<br>  font-size: small;<br>  color: #668866;<br>}<br>.fmark:after {<br>  font-size: small;<br>  font-weight: bold;<br>  vertical-align: super;<br>  color: #ddaa22;<br>}<br>.note {<br>  vertical-align: super;<br>  font-size: small;<br>  color: #774400;<br>}<br>.ref {<br>  font-size: small;<br>  font-weight: bold;<br>  color: #666688;<br>}<br>.emph {<br>  font-style: italic;<br>}<br>.und {<br>  text-decoration: underline;<br>}<br>.q {<br>  color: #777777;<br>  font-weight: bold;<br>}<br>.num {<br>  font-size: small;<br>  vertical-align: super;<br>}<br>.den {<br>  font-size: small;<br>  vertical-align: sub;<br>}<br>.sub {<br>  vertical-align: sub;<br>}<br>.super {<br>  vertical-align: super;<br>}<br>.special {<br>  font-family: monospace;<br>  font-weight: bold;<br>  color: #886666;<br>}<br></code></details></li><li><details><summary><b>dataDisplay</b>:</summary><li><details open>\n",
       "                <summary><b>textFormats</b>:</summary>\n",
       "                <ul><li><b>layout-full</b>: {<b>method</b>: <code>layoutFull</code>}</li><li><b>layout-nonorig</b>: {<b>method</b>: <code>layoutNonOrig</code>}</li><li><b>layout-nonotes</b>: {<b>method</b>: <code>layoutNoNotes</code>}</li><li><b>layout-noremarks</b>: {<b>method</b>: <code>layoutNoRemarks</code>}</li><li><b>layout-notes</b>: {<b>method</b>: <code>layoutNotes</code>}</li><li><b>layout-orig</b>: {<b>method</b>: <code>layoutOrig</code>}</li><li><b>layout-remarks</b>: {<b>method</b>: <code>layoutRemarks</code>}</li></ul>\n",
       "                </details></li></details></li><li><details><summary><b>docs</b>:</summary><ul><li><b>docPage</b>: <code>about</code></li><li><details><summary><b>featureBase</b>:</summary><code>https://github.com/{org}/{repo}/blob/master/docs/transcription{docExt}</code></details></li><li><b>featurePage</b>: <code>''</code></li></ul></details></li><li><b>interfaceDefaults</b>: <code>{}</code></li><li><b>isCompatible</b>: <code>True</code></li><li><b>local</b>: <code>local</code></li><li><details><summary><b>localDir</b>:</summary><code>/Users/me/text-fabric-data/github/CLARIAH/wp6-missieven/_temp</code></details></li><li><details><summary><b>provenanceSpec</b>:</summary><ul><li><b>corpus</b>: <code>General Missives Dutch East India Company 1600-1800</code></li><li><b>doi</b>: <code>10.5281/zenodo.4011801</code></li><li><b>extraData</b>: <code>ner</code></li><li><b>org</b>: <code>CLARIAH</code></li><li><b>relative</b>: <code>/tf</code></li><li><b>repo</b>: <code>wp6-missieven</code></li><li><b>version</b>: <code>1.0e</code></li><li><details><summary><b>webBase</b>:</summary><code>http://resources.huygens.knaw.nl/retroboeken/generalemissiven</code></details></li><li><b>webFeature</b>: <code>weblink</code></li><li><b>webHint</b>: <code>Show this document on Huygens</code></li><li><details><summary><b>webOffset</b>:</summary><li><details open>\n",
       "                <summary><b>2</b>:</summary>\n",
       "                <ul><li><b>1</b>: <code>23</code></li><li><b>10</b>: <code>11</code></li><li><b>11</b>: <code>11</code></li><li><b>12</b>: <code>11</code></li><li><b>13</b>: <code>11</code></li><li><b>2</b>: <code>13</code></li><li><b>3</b>: <code>13</code></li><li><b>4</b>: <code>15</code></li><li><b>5</b>: <code>15</code></li><li><b>6</b>: <code>15</code></li><li><b>7</b>: <code>13</code></li><li><b>8</b>: <code>11</code></li><li><b>9</b>: <code>13</code></li></ul>\n",
       "                </details></li></details></li><li><b>webUrl</b>: <code>{webBase}/#page=&lt;2&gt;&amp;source=&lt;1&gt;</code></li></ul></details></li><li><b>release</b>: <code>v1.1</code></li><li><b>typeDisplay</b>: <code>{}</code></li></ol></details>\n"
      ],
      "text/plain": [
       "<IPython.core.display.HTML object>"
      ]
     },
     "metadata": {},
     "output_type": "display_data"
    },
    {
     "data": {
      "text/html": [
       "<style>tr.tf.ltr, td.tf.ltr, th.tf.ltr { text-align: left ! important;}\n",
       "tr.tf.rtl, td.tf.rtl, th.tf.rtl { text-align: right ! important;}\n",
       "@font-face {\n",
       "  font-family: \"Gentium Plus\";\n",
       "  src: local('Gentium Plus'), local('GentiumPlus'),\n",
       "    url('/browser/static/fonts/GentiumPlus-R.woff') format('woff'),\n",
       "    url('https://github.com/annotation/text-fabric/blob/master/tf/browser/static/fonts/GentiumPlus-R.woff?raw=true') format('woff');\n",
       "}\n",
       "\n",
       "@font-face {\n",
       "  font-family: \"Ezra SIL\";\n",
       "  src: local('Ezra SIL'), local('EzraSIL'),\n",
       "    url('/browser/static/fonts/SILEOT.woff') format('woff'),\n",
       "    url('https://github.com/annotation/text-fabric/blob/master/tf/browser/static/fonts/SILEOT.woff?raw=true') format('woff');\n",
       "}\n",
       "\n",
       "@font-face {\n",
       "  font-family: \"SBL Hebrew\";\n",
       "  src: local('SBL Hebrew'), local('SBLHebrew'),\n",
       "    url('/browser/static/fonts/SBL_Hbrw.woff') format('woff'),\n",
       "    url('https://github.com/annotation/text-fabric/blob/master/tf/browser/static/fonts/SBL_Hbrw.woff?raw=true') format('woff');\n",
       "}\n",
       "\n",
       "@font-face {\n",
       "  font-family: \"Estrangelo Edessa\";\n",
       "  src: local('Estrangelo Edessa'), local('EstrangeloEdessa');\n",
       "    url('/browser/static/fonts/SyrCOMEdessa.woff') format('woff'),\n",
       "    url('https://github.com/annotation/text-fabric/blob/master/tf/browser/static/fonts/SyrCOMEdessa.woff?raw=true') format('woff');\n",
       "}\n",
       "\n",
       "@font-face {\n",
       "  font-family: AmiriQuran;\n",
       "  font-style: normal;\n",
       "  font-weight: 400;\n",
       "  src: local('Amiri Quran'), local('AmiriQuran'),\n",
       "    url('/browser/static/fonts/AmiriQuran.woff') format('woff'),\n",
       "    url('https://github.com/annotation/text-fabric/blob/master/tf/browser/static/fonts/AmiriQuran.woff?raw=true') format('woff');\n",
       "}\n",
       "\n",
       "@font-face {\n",
       "  font-family: AmiriQuranColored;\n",
       "  font-style: normal;\n",
       "  font-weight: 400;\n",
       "  src: local('Amiri Quran Colored'), local('AmiriQuranColored'),\n",
       "    url('/browser/static/fonts/AmiriQuranColored.woff') format('woff'),\n",
       "    url('https://github.com/annotation/text-fabric/blob/master/tf/browser/static/fonts/AmiriQuranColored.woff?raw=true') format('woff');\n",
       "}\n",
       "\n",
       "@font-face {\n",
       "  font-family: \"Santakku\";\n",
       "  src: local('Santakku'),\n",
       "    url('/browser/static/fonts/Santakku.woff') format('woff'),\n",
       "    url('https://github.com/annotation/text-fabric/blob/master/tf/browser/static/fonts/Santakku.woff?raw=true') format('woff');\n",
       "}\n",
       "\n",
       "@font-face {\n",
       "  font-family: \"SantakkuM\";\n",
       "  src: local('SantakkuM'),\n",
       "    url('/browser/static/fonts/SantakkuM.woff') format('woff'),\n",
       "    url('https://github.com/annotation/text-fabric/blob/master/tf/browser/static/fonts/SantakkuM.woff?raw=true') format('woff');\n",
       "}\n",
       "\n",
       "/* bypassing some classical notebook settings */\n",
       "div#notebook {\n",
       "  line-height: unset;\n",
       "}\n",
       "/* neutral text */\n",
       ".txtn,.txtn a:visited,.txtn a:link {\n",
       "    font-family: sans-serif;\n",
       "    font-size: medium;\n",
       "    direction: ltr;\n",
       "    unicode-bidi: embed;\n",
       "    text-decoration: none;\n",
       "    color: var(--text-color);\n",
       "}\n",
       "/* transcription text */\n",
       ".txtt,.txtt a:visited,.txtt a:link {\n",
       "    font-family: monospace;\n",
       "    font-size: medium;\n",
       "    direction: ltr;\n",
       "    unicode-bidi: embed;\n",
       "    text-decoration: none;\n",
       "    color: var(--text-color);\n",
       "}\n",
       "/* source text */\n",
       ".txto,.txto a:visited,.txto a:link {\n",
       "    font-family: serif;\n",
       "    font-size: medium;\n",
       "    direction: ltr;\n",
       "    unicode-bidi: embed;\n",
       "    text-decoration: none;\n",
       "    color: var(--text-color);\n",
       "}\n",
       "/* phonetic text */\n",
       ".txtp,.txtp a:visited,.txtp a:link {\n",
       "    font-family: Gentium, sans-serif;\n",
       "    font-size: medium;\n",
       "    direction: ltr;\n",
       "    unicode-bidi: embed;\n",
       "    text-decoration: none;\n",
       "    color: var(--text-color);\n",
       "}\n",
       "/* original script text */\n",
       ".txtu,.txtu a:visited,.txtu a:link {\n",
       "    font-family: Gentium, sans-serif;\n",
       "    font-size: medium;\n",
       "    text-decoration: none;\n",
       "    color: var(--text-color);\n",
       "}\n",
       "/* hebrew */\n",
       ".txtu.hbo,.lex.hbo {\n",
       "    font-family: \"Ezra SIL\", \"SBL Hebrew\", sans-serif;\n",
       "    font-size: large;\n",
       "    direction: rtl ! important;\n",
       "    unicode-bidi: embed;\n",
       "}\n",
       "/* syriac */\n",
       ".txtu.syc,.lex.syc {\n",
       "    font-family: \"Estrangelo Edessa\", sans-serif;\n",
       "    font-size: medium;\n",
       "    direction: rtl ! important;\n",
       "    unicode-bidi: embed;\n",
       "}\n",
       "/* neo aramaic */\n",
       ".txtu.cld,.lex.cld {\n",
       "    font-family: \"CharisSIL-R\", sans-serif;\n",
       "    font-size: medium;\n",
       "    direction: ltr ! important;\n",
       "    unicode-bidi: embed;\n",
       "}\n",
       "/* standard arabic */\n",
       ".txtu.ara,.lex.ara {\n",
       "    font-family: \"AmiriQuran\", sans-serif;\n",
       "    font-size: large;\n",
       "    direction: rtl ! important;\n",
       "    unicode-bidi: embed;\n",
       "}\n",
       "/* cuneiform */\n",
       ".txtu.akk,.lex.akk {\n",
       "    font-family: Santakku, sans-serif;\n",
       "    font-size: large;\n",
       "    direction: ltr ! important;\n",
       "    unicode-bidi: embed;\n",
       "}\n",
       ".txtu.uga,.lex.uga {\n",
       "    font-family: sans-serif;\n",
       "    /*font-family: Noto Sans Ugaritic, sans-serif;*/\n",
       "    font-size: large;\n",
       "    direction: ltr ! important;\n",
       "    unicode-bidi: embed;\n",
       "}\n",
       "/* greek */\n",
       ".txtu.grc,.lex.grc a:link {\n",
       "    font-family: Gentium, sans-serif;\n",
       "    font-size: medium;\n",
       "    direction: ltr ! important;\n",
       "    unicode-bidi: embed;\n",
       "}\n",
       "a:hover {\n",
       "    text-decoration: underline | important;\n",
       "    color: #0000ff | important;\n",
       "}\n",
       ".ltr {\n",
       "    direction: ltr ! important;\n",
       "    unicode-bidi: embed;\n",
       "}\n",
       ".rtl {\n",
       "    direction: rtl ! important;\n",
       "    unicode-bidi: embed;\n",
       "}\n",
       ".ubd {\n",
       "    unicode-bidi: embed;\n",
       "}\n",
       ".col {\n",
       "   display: inline-block;\n",
       "}\n",
       ".features {\n",
       "    font-family: monospace;\n",
       "    font-size: medium;\n",
       "    font-weight: bold;\n",
       "    color: var(--features);\n",
       "    display: flex;\n",
       "    flex-flow: column nowrap;\n",
       "    justify-content: flex-start;\n",
       "    align-items: flex-start;\n",
       "    align-content: flex-start;\n",
       "    padding: 2px;\n",
       "    margin: 2px;\n",
       "    direction: ltr;\n",
       "    unicode-bidi: embed;\n",
       "    border: var(--meta-width) solid var(--meta-color);\n",
       "    border-radius: var(--meta-width);\n",
       "}\n",
       ".features div,.features span {\n",
       "    padding: 0;\n",
       "    margin: -2px 0;\n",
       "}\n",
       ".features .f {\n",
       "    font-family: sans-serif;\n",
       "    font-size: small;\n",
       "    font-weight: normal;\n",
       "    color: #5555bb;\n",
       "}\n",
       ".features .xft {\n",
       "  color: #000000;\n",
       "  background-color: #eeeeee;\n",
       "  font-size: medium;\n",
       "  margin: 2px 0px;\n",
       "}\n",
       ".features .xft .f {\n",
       "  color: #000000;\n",
       "  background-color: #eeeeee;\n",
       "  font-size: small;\n",
       "  font-weight: normal;\n",
       "}\n",
       ".tfsechead {\n",
       "    font-family: sans-serif;\n",
       "    font-size: small;\n",
       "    font-weight: bold;\n",
       "    color: var(--tfsechead);\n",
       "    unicode-bidi: embed;\n",
       "    text-align: start;\n",
       "}\n",
       ".structure {\n",
       "    font-family: sans-serif;\n",
       "    font-size: small;\n",
       "    font-weight: bold;\n",
       "    color: var(--structure);\n",
       "    unicode-bidi: embed;\n",
       "    text-align: start;\n",
       "}\n",
       ".comments {\n",
       "    display: flex;\n",
       "    justify-content: flex-start;\n",
       "    align-items: flex-start;\n",
       "    align-content: flex-start;\n",
       "    flex-flow: column nowrap;\n",
       "}\n",
       ".nd, a:link.nd {\n",
       "    font-family: sans-serif;\n",
       "    font-size: small;\n",
       "    color: var(--node);\n",
       "    vertical-align: super;\n",
       "    direction: ltr ! important;\n",
       "    unicode-bidi: embed;\n",
       "}\n",
       ".nde, a:link.nde {\n",
       "    font-family: sans-serif;\n",
       "    font-size: small;\n",
       "    color: var(--node);\n",
       "    direction: ltr ! important;\n",
       "    unicode-bidi: embed;\n",
       "}\n",
       ".etf {\n",
       "    font-size: normal;\n",
       "    border-radius: 0.2rem;\n",
       "    border: 1pt solid white;\n",
       "    padding: 0 0.2rem ! important;\n",
       "    margin: 0 0.2rem ! important;\n",
       "}\n",
       ".etfx {\n",
       "    font-size: x-large;\n",
       "}\n",
       ".lex {\n",
       "  color: var(--lex-color);;\n",
       "}\n",
       "#colormapplus, #colormapmin, .ecolormapmin {\n",
       "  font-weight: bold;\n",
       "  border-radius: 0.1rem;\n",
       "  background-color: #eeeeff;\n",
       "  padding: 0 1rem;\n",
       "  margin: 0 1rem;\n",
       "}\n",
       ".clr {\n",
       "  font-style: italic;\n",
       "  font-size: small;\n",
       "}\n",
       ".clmap,.eclmap {\n",
       "  padding: 0;\n",
       "}\n",
       ".children,.children.ltr {\n",
       "    display: flex;\n",
       "    border: 0;\n",
       "    background-color: #ffffff;\n",
       "    justify-content: flex-start;\n",
       "    align-items: flex-start;\n",
       "    align-content: flex-start;\n",
       "}\n",
       ".children.stretch {\n",
       "    align-items: stretch;\n",
       "}\n",
       ".children.hor {\n",
       "    flex-flow: row nowrap;\n",
       "}\n",
       ".children.hor.wrap {\n",
       "    flex-flow: row wrap;\n",
       "}\n",
       ".children.ver {\n",
       "    flex-flow: column nowrap;\n",
       "}\n",
       ".children.ver.wrap {\n",
       "    flex-flow: column wrap;\n",
       "}\n",
       ".contnr {\n",
       "    width: fit-content;\n",
       "    display: flex;\n",
       "    justify-content: flex-start;\n",
       "    align-items: flex-start;\n",
       "    align-content: flex-start;\n",
       "    flex-flow: column nowrap;\n",
       "    background: #ffffff none repeat scroll 0 0;\n",
       "    padding:  10px 2px 2px 2px;\n",
       "    margin: 16px 2px 2px 2px;\n",
       "    border-style: solid;\n",
       "    font-size: small;\n",
       "}\n",
       ".contnr.trm {\n",
       "    background-attachment: local;\n",
       "}\n",
       ".contnr.cnul {\n",
       "    padding:  0;\n",
       "    margin: 0;\n",
       "    border-style: solid;\n",
       "    font-size: xx-small;\n",
       "}\n",
       ".contnr.cnul,.lbl.cnul {\n",
       "    border-color: var(--border-color-nul);\n",
       "    border-width: var(--border-width-nul);\n",
       "    border-radius: var(--border-width-nul);\n",
       "}\n",
       ".contnr.c0,.lbl.c0 {\n",
       "    border-color: var(--border-color0);\n",
       "    border-width: var(--border-width0);\n",
       "    border-radius: var(--border-width0);\n",
       "}\n",
       ".contnr.c1,.lbl.c1 {\n",
       "    border-color: var(--border-color1);\n",
       "    border-width: var(--border-width1);\n",
       "    border-radius: var(--border-width1);\n",
       "}\n",
       ".contnr.c2,.lbl.c2 {\n",
       "    border-color: var(--border-color2);\n",
       "    border-width: var(--border-width2);\n",
       "    border-radius: var(--border-width2);\n",
       "}\n",
       ".contnr.c3,.lbl.c3 {\n",
       "    border-color: var(--border-color3);\n",
       "    border-width: var(--border-width3);\n",
       "    border-radius: var(--border-width3);\n",
       "}\n",
       ".contnr.c4,.lbl.c4 {\n",
       "    border-color: var(--border-color4);\n",
       "    border-width: var(--border-width4);\n",
       "    border-radius: var(--border-width4);\n",
       "}\n",
       "span.plain {\n",
       "    /*display: inline-block;*/\n",
       "    display: inline-flex;\n",
       "    flex-flow: row wrap;\n",
       "    white-space: pre-wrap;\n",
       "}\n",
       "span.break {\n",
       "  flex-basis: 100%;\n",
       "  height: 0;\n",
       "}\n",
       ".plain {\n",
       "    background-color: #ffffff;\n",
       "}\n",
       ".plain.l,.contnr.l,.contnr.l>.lbl {\n",
       "    border-left-style: dotted\n",
       "}\n",
       ".plain.r,.contnr.r,.contnr.r>.lbl {\n",
       "    border-right-style: dotted\n",
       "}\n",
       ".plain.lno,.contnr.lno,.contnr.lno>.lbl {\n",
       "    border-left-style: none\n",
       "}\n",
       ".plain.rno,.contnr.rno,.contnr.rno>.lbl {\n",
       "    border-right-style: none\n",
       "}\n",
       ".plain.l {\n",
       "    padding-left: 4px;\n",
       "    margin-left: 2px;\n",
       "    border-width: var(--border-width-plain);\n",
       "}\n",
       ".plain.r {\n",
       "    padding-right: 4px;\n",
       "    margin-right: 2px;\n",
       "    border-width: var(--border-width-plain);\n",
       "}\n",
       ".lbl {\n",
       "    font-family: monospace;\n",
       "    margin-top: -24px;\n",
       "    margin-left: 20px;\n",
       "    background: #ffffff none repeat scroll 0 0;\n",
       "    padding: 0 6px;\n",
       "    border-style: solid;\n",
       "    display: block;\n",
       "    color: var(--label)\n",
       "}\n",
       ".lbl.trm {\n",
       "    background-attachment: local;\n",
       "    margin-top: 2px;\n",
       "    margin-left: 2px;\n",
       "    padding: 2px 2px;\n",
       "    border-style: none;\n",
       "}\n",
       ".lbl.cnul {\n",
       "    font-size: xx-small;\n",
       "}\n",
       ".lbl.c0 {\n",
       "    font-size: small;\n",
       "}\n",
       ".lbl.c1 {\n",
       "    font-size: small;\n",
       "}\n",
       ".lbl.c2 {\n",
       "    font-size: medium;\n",
       "}\n",
       ".lbl.c3 {\n",
       "    font-size: medium;\n",
       "}\n",
       ".lbl.c4 {\n",
       "    font-size: large;\n",
       "}\n",
       ".occs, a:link.occs {\n",
       "    font-size: small;\n",
       "}\n",
       "\n",
       "/* PROVENANCE */\n",
       "\n",
       "div.prov {\n",
       "\tmargin: 40px;\n",
       "\tpadding: 20px;\n",
       "\tborder: 2px solid var(--fog-rim);\n",
       "}\n",
       "div.pline {\n",
       "\tdisplay: flex;\n",
       "\tflex-flow: row nowrap;\n",
       "\tjustify-content: stretch;\n",
       "\talign-items: baseline;\n",
       "}\n",
       "div.p2line {\n",
       "\tmargin-left: 2em;\n",
       "\tdisplay: flex;\n",
       "\tflex-flow: row nowrap;\n",
       "\tjustify-content: stretch;\n",
       "\talign-items: baseline;\n",
       "}\n",
       "div.psline {\n",
       "\tdisplay: flex;\n",
       "\tflex-flow: row nowrap;\n",
       "\tjustify-content: stretch;\n",
       "\talign-items: baseline;\n",
       "\tbackground-color: var(--gold-mist-back);\n",
       "}\n",
       "div.pname {\n",
       "\tflex: 0 0 5rem;\n",
       "\tfont-weight: bold;\n",
       "}\n",
       "div.pval {\n",
       "    flex: 1 1 auto;\n",
       "}\n",
       "\n",
       "/* KEYBOARD */\n",
       ".ccoff {\n",
       "  background-color: inherit;\n",
       "}\n",
       ".ccon {\n",
       "  background-color: yellow ! important;\n",
       "}\n",
       ".ccon,.ccoff {\n",
       "  padding: 0.2rem;\n",
       "  margin: 0.2rem;\n",
       "  border: 0.1rem solid var(--letter-box-border);\n",
       "  border-radius: 0.1rem;\n",
       "}\n",
       ".ccline {\n",
       "  font-size: xx-large ! important;\n",
       "  font-weight: bold;\n",
       "  line-height: 2em ! important;\n",
       "}\n",
       "/* TF header */\n",
       "\n",
       "summary {\n",
       "  /* needed to override the normalize.less\n",
       "   * in the classical Jupyter Notebook\n",
       "   */\n",
       "  display: list-item ! important;\n",
       "}\n",
       "\n",
       ".fcorpus {\n",
       "  display: flex;\n",
       "  flex-flow: column nowrap;\n",
       "  justify-content: flex-start;\n",
       "  align-items: flex-start;\n",
       "  align-content: flex-start;\n",
       "  overflow: auto;\n",
       "}\n",
       ".frow {\n",
       "  display: flex;\n",
       "  flex-flow: row nowrap;\n",
       "  justify-content: flex-start;\n",
       "  align-items: flex-start;\n",
       "  align-content: flex-start;\n",
       "}\n",
       ".fmeta {\n",
       "  display: flex;\n",
       "  flex-flow: column nowrap;\n",
       "  justify-content: flex-start;\n",
       "  align-items: flex-start;\n",
       "  align-content: flex-start;\n",
       "}\n",
       ".fmetarow {\n",
       "  display: flex;\n",
       "  flex-flow: row nowrap;\n",
       "  justify-content: flex-start;\n",
       "  align-items: flex-start;\n",
       "  align-content: flex-start;\n",
       "}\n",
       ".fmetakey {\n",
       "  min-width: 8em;\n",
       "  font-family: monospace;\n",
       "}\n",
       ".fnamecat {\n",
       "  min-width: 8em;\n",
       "}\n",
       ".fnamecat.edge {\n",
       "  font-weight: bold;\n",
       "  font-style: italic;\n",
       "}\n",
       ".fmono {\n",
       "    font-family: monospace;\n",
       "}\n",
       "\n",
       ":root {\n",
       "\t--node:               hsla(120, 100%,  20%, 1.0  );\n",
       "\t--label:              hsla(  0, 100%,  20%, 1.0  );\n",
       "\t--tfsechead:          hsla(  0, 100%,  25%, 1.0  );\n",
       "\t--structure:          hsla(120, 100%,  25%, 1.0  );\n",
       "\t--features:           hsla(  0,   0%,  30%, 1.0  );\n",
       "  --text-color:         hsla( 60,  80%,  10%, 1.0  );\n",
       "  --lex-color:          hsla(220,  90%,  60%, 1.0  );\n",
       "  --meta-color:         hsla(  0,   0%,  90%, 0.7  );\n",
       "  --meta-width:         3px;\n",
       "  --border-color-nul:   hsla(  0,   0%,  90%, 0.5  );\n",
       "  --border-color0:      hsla(  0,   0%,  90%, 0.9  );\n",
       "  --border-color1:      hsla(  0,   0%,  80%, 0.9  );\n",
       "  --border-color2:      hsla(  0,   0%,  70%, 0.9  );\n",
       "  --border-color3:      hsla(  0,   0%,  80%, 0.8  );\n",
       "  --border-color4:      hsla(  0,   0%,  60%, 0.9  );\n",
       "\t--letter-box-border:  hsla(  0,   0%,  80%, 0.5  );\n",
       "  --border-width-nul:   2px;\n",
       "  --border-width0:      2px;\n",
       "  --border-width1:      3px;\n",
       "  --border-width2:      4px;\n",
       "  --border-width3:      6px;\n",
       "  --border-width4:      5px;\n",
       "  --border-width-plain: 2px;\n",
       "}\n",
       ".hl {\n",
       "  background-color: var(--hl-strong);\n",
       "}\n",
       "span.hl {\n",
       "\tbackground-color: var(--hl-strong);\n",
       "\tborder-width: 0;\n",
       "\tborder-radius: 2px;\n",
       "\tborder-style: solid;\n",
       "}\n",
       "div.contnr.hl,div.lbl.hl {\n",
       "  background-color: var(--hl-strong);\n",
       "}\n",
       "div.contnr.hl {\n",
       "  border-color: var(--hl-rim) ! important;\n",
       "\tborder-width: 4px ! important;\n",
       "}\n",
       "\n",
       "span.hlbx {\n",
       "\tborder-color: var(--hl-rim);\n",
       "\tborder-width: 4px ! important;\n",
       "\tborder-style: solid;\n",
       "\tborder-radius: 6px;\n",
       "  padding: 4px;\n",
       "  margin: 4px;\n",
       "}\n",
       ".ehl {\n",
       "  background-color: var(--ehl-strong);\n",
       "}\n",
       "\n",
       ":root {\n",
       "\t--hl-strong:        hsla( 60, 100%,  70%, 0.9  );\n",
       "\t--hl-rim:           hsla( 55,  80%,  50%, 1.0  );\n",
       "\t--ehl-strong:       hsla(240, 100%,  70%, 0.9  );\n",
       "}\n",
       ".remark {\n",
       "  font-size: large;\n",
       "  font-style: italic;\n",
       "}\n",
       ".folio {\n",
       "  font-size: small;\n",
       "  color: #668866;\n",
       "}\n",
       ".fmark:after {\n",
       "  font-size: small;\n",
       "  font-weight: bold;\n",
       "  vertical-align: super;\n",
       "  color: #ddaa22;\n",
       "}\n",
       ".note {\n",
       "  vertical-align: super;\n",
       "  font-size: small;\n",
       "  color: #774400;\n",
       "}\n",
       ".ref {\n",
       "  font-size: small;\n",
       "  font-weight: bold;\n",
       "  color: #666688;\n",
       "}\n",
       ".emph {\n",
       "  font-style: italic;\n",
       "}\n",
       ".und {\n",
       "  text-decoration: underline;\n",
       "}\n",
       ".q {\n",
       "  color: #777777;\n",
       "  font-weight: bold;\n",
       "}\n",
       ".num {\n",
       "  font-size: small;\n",
       "  vertical-align: super;\n",
       "}\n",
       ".den {\n",
       "  font-size: small;\n",
       "  vertical-align: sub;\n",
       "}\n",
       ".sub {\n",
       "  vertical-align: sub;\n",
       "}\n",
       ".super {\n",
       "  vertical-align: super;\n",
       "}\n",
       ".special {\n",
       "  font-family: monospace;\n",
       "  font-weight: bold;\n",
       "  color: #886666;\n",
       "}\n",
       "</style>"
      ],
      "text/plain": [
       "<IPython.core.display.HTML object>"
      ]
     },
     "metadata": {},
     "output_type": "display_data"
    },
    {
     "data": {
      "text/html": [
       "\n",
       "<script>\n",
       "globalThis.copyChar = (el, c) => {\n",
       "    for (const el of document.getElementsByClassName('ccon')) {\n",
       "        el.className = 'ccoff'\n",
       "    }\n",
       "    el.className = 'ccon'\n",
       "    navigator.clipboard.writeText(String.fromCharCode(c))\n",
       "}\n",
       "</script>\n"
      ],
      "text/plain": [
       "<IPython.core.display.HTML object>"
      ]
     },
     "metadata": {},
     "output_type": "display_data"
    },
    {
     "data": {
      "text/html": [
       "<div><b>TF API:</b> names <a target=\"_blank\" href=\"https://annotation.github.io/text-fabric/tf/cheatsheet.html\" title=\"doc\">N F E L T S C TF Fs Fall Es Eall Cs Call</a> directly usable</div><hr>"
      ],
      "text/plain": [
       "<IPython.core.display.HTML object>"
      ]
     },
     "metadata": {},
     "output_type": "display_data"
    }
   ],
   "source": [
    "A = use(\"CLARIAH/wp6-missieven\", hoist=globals())"
   ]
  },
  {
   "cell_type": "code",
   "execution_count": 12,
   "id": "fcfc8c5b-7de8-441a-872e-df9551964b58",
   "metadata": {},
   "outputs": [],
   "source": [
    "query = \"\"\"\n",
    "letter year* month* day*\n",
    "  ent\n",
    "\"\"\""
   ]
  },
  {
   "cell_type": "code",
   "execution_count": 13,
   "id": "c0aa66a9-4e6c-4e90-a818-c14191e4feec",
   "metadata": {},
   "outputs": [
    {
     "name": "stdout",
     "output_type": "stream",
     "text": [
      "  0.05s 17756 results\n"
     ]
    }
   ],
   "source": [
    "results = A.search(query)"
   ]
  },
  {
   "cell_type": "code",
   "execution_count": 14,
   "id": "3a2fc2b1-f66b-4b02-95b5-ffe8092dff6f",
   "metadata": {},
   "outputs": [
    {
     "data": {
      "text/html": [
       "<table><tr class=\"tf ltr\"><th class=\"tf ltr\">n</th><th class=\"tf ltr\">p</th><th class=\"tf ltr\">letter</th><th class=\"tf\">ent</th></tr>\n",
       "<tr class=\"tf ltr\"><td class=\"tf ltr\">1</td><td class=\"tf ltr\"><span class=\"tfsechead ltr\"><span class=\"ltr\"><a target=\"_blank\" href=\"http://resources.huygens.knaw.nl/retroboeken/generalemissiven/#page=26&amp;source=1\" title=\"Show this document on Huygens\" sec=\"1 3:1\">1 3:1</a></span></span></td><td class=\"tf ltr\"><span class=\" ubd\"><span class=\"txtu \"><span class=\"structure\"><span class=\"nd\">volume</span> 1, <span class=\"nd\">letter</span> Both; aan boord van het Wapen van Amsterdam voor Ile de Mayo, 25 februari 1610</span></span></span></td><td class=\"tf ltr\"><span class=\" ubd\"><span class=\"plain   hlbx\" ><span class=\"txtu\">PIETER </span><span class=\"txtu\">BOTH, </span></span></span></td></tr>\n",
       "<tr class=\"tf ltr\"><td class=\"tf ltr\">2</td><td class=\"tf ltr\"><span class=\"tfsechead ltr\"><span class=\"ltr\"><a target=\"_blank\" href=\"http://resources.huygens.knaw.nl/retroboeken/generalemissiven/#page=26&amp;source=1\" title=\"Show this document on Huygens\" sec=\"1 3:1\">1 3:1</a></span></span></td><td class=\"tf ltr\"><span class=\" ubd\"><span class=\"txtu \"><span class=\"structure\"><span class=\"nd\">volume</span> 1, <span class=\"nd\">letter</span> Both; aan boord van het Wapen van Amsterdam voor Ile de Mayo, 25 februari 1610</span></span></span></td><td class=\"tf ltr\"><span class=\" ubd\"><span class=\"plain   hlbx\" ><span class=\"txtu\">AMSTERDAM, </span></span></span></td></tr>\n",
       "<tr class=\"tf ltr\"><td class=\"tf ltr\">3</td><td class=\"tf ltr\"><span class=\"tfsechead ltr\"><span class=\"ltr\"><a target=\"_blank\" href=\"http://resources.huygens.knaw.nl/retroboeken/generalemissiven/#page=26&amp;source=1\" title=\"Show this document on Huygens\" sec=\"1 3:2\">1 3:2</a></span></span></td><td class=\"tf ltr\"><span class=\" ubd\"><span class=\"txtu \"><span class=\"structure\"><span class=\"nd\">volume</span> 1, <span class=\"nd\">letter</span> Both; aan boord van het Wapen van Amsterdam voor Ile de Mayo, 25 februari 1610</span></span></span></td><td class=\"tf ltr\"><span class=\" ubd\"><span class=\"plain   hlbx\" ><span class=\"txtu\">DE </span><span class=\"txtu\">MAYO </span></span></span></td></tr>\n",
       "<tr class=\"tf ltr\"><td class=\"tf ltr\">4</td><td class=\"tf ltr\"><span class=\"tfsechead ltr\"><span class=\"ltr\"><a target=\"_blank\" href=\"http://resources.huygens.knaw.nl/retroboeken/generalemissiven/#page=26&amp;source=1\" title=\"Show this document on Huygens\" sec=\"1 3:2\">1 3:2</a></span></span></td><td class=\"tf ltr\"><span class=\" ubd\"><span class=\"txtu \"><span class=\"structure\"><span class=\"nd\">volume</span> 1, <span class=\"nd\">letter</span> Both; aan boord van het Wapen van Amsterdam voor Ile de Mayo, 25 februari 1610</span></span></span></td><td class=\"tf ltr\"><span class=\" ubd\"><span class=\"plain   hlbx\" ><span class=\"txtu\">Both </span></span></span></td></tr>\n",
       "<tr class=\"tf ltr\"><td class=\"tf ltr\">5</td><td class=\"tf ltr\"><span class=\"tfsechead ltr\"><span class=\"ltr\"><a target=\"_blank\" href=\"http://resources.huygens.knaw.nl/retroboeken/generalemissiven/#page=26&amp;source=1\" title=\"Show this document on Huygens\" sec=\"1 3:2\">1 3:2</a></span></span></td><td class=\"tf ltr\"><span class=\" ubd\"><span class=\"txtu \"><span class=\"structure\"><span class=\"nd\">volume</span> 1, <span class=\"nd\">letter</span> Both; aan boord van het Wapen van Amsterdam voor Ile de Mayo, 25 februari 1610</span></span></span></td><td class=\"tf ltr\"><span class=\" ubd\"><span class=\"plain   hlbx\" ><span class=\"txtu\">Indië </span></span></span></td></tr>\n",
       "<tr class=\"tf ltr\"><td class=\"tf ltr\">6</td><td class=\"tf ltr\"><span class=\"tfsechead ltr\"><span class=\"ltr\"><a target=\"_blank\" href=\"http://resources.huygens.knaw.nl/retroboeken/generalemissiven/#page=26&amp;source=1\" title=\"Show this document on Huygens\" sec=\"1 3:3\">1 3:3</a></span></span></td><td class=\"tf ltr\"><span class=\" ubd\"><span class=\"txtu \"><span class=\"structure\"><span class=\"nd\">volume</span> 1, <span class=\"nd\">letter</span> Both; aan boord van het Wapen van Amsterdam voor Ile de Mayo, 25 februari 1610</span></span></span></td><td class=\"tf ltr\"><span class=\" ubd\"><span class=\"plain   hlbx\" ><span class=\"txtu\">Heren </span><span class=\"txtu\">XVII ; </span></span></span></td></tr>\n",
       "<tr class=\"tf ltr\"><td class=\"tf ltr\">7</td><td class=\"tf ltr\"><span class=\"tfsechead ltr\"><span class=\"ltr\"><a target=\"_blank\" href=\"http://resources.huygens.knaw.nl/retroboeken/generalemissiven/#page=26&amp;source=1\" title=\"Show this document on Huygens\" sec=\"1 3:4\">1 3:4</a></span></span></td><td class=\"tf ltr\"><span class=\" ubd\"><span class=\"txtu \"><span class=\"structure\"><span class=\"nd\">volume</span> 1, <span class=\"nd\">letter</span> Both; aan boord van het Wapen van Amsterdam voor Ile de Mayo, 25 februari 1610</span></span></span></td><td class=\"tf ltr\"><span class=\" ubd\"><span class=\"plain   hlbx\" ><span class=\"txtu\">Ile </span><span class=\"txtu\">de </span><span class=\"txtu\">Mayo </span></span></span></td></tr>\n",
       "<tr class=\"tf ltr\"><td class=\"tf ltr\">8</td><td class=\"tf ltr\"><span class=\"tfsechead ltr\"><span class=\"ltr\"><a target=\"_blank\" href=\"http://resources.huygens.knaw.nl/retroboeken/generalemissiven/#page=26&amp;source=1\" title=\"Show this document on Huygens\" sec=\"1 3:4\">1 3:4</a></span></span></td><td class=\"tf ltr\"><span class=\" ubd\"><span class=\"txtu \"><span class=\"structure\"><span class=\"nd\">volume</span> 1, <span class=\"nd\">letter</span> Both; aan boord van het Wapen van Amsterdam voor Ile de Mayo, 25 februari 1610</span></span></span></td><td class=\"tf ltr\"><span class=\" ubd\"><span class=\"plain   hlbx\" ><span class=\"txtu\">Kaap-</span><span class=\"txtu\">Verdische </span></span></span></td></tr>\n",
       "<tr class=\"tf ltr\"><td class=\"tf ltr\">9</td><td class=\"tf ltr\"><span class=\"tfsechead ltr\"><span class=\"ltr\"><a target=\"_blank\" href=\"http://resources.huygens.knaw.nl/retroboeken/generalemissiven/#page=26&amp;source=1\" title=\"Show this document on Huygens\" sec=\"1 3:1\">1 3:1</a></span></span></td><td class=\"tf ltr\"><span class=\" ubd\"><span class=\"txtu \"><span class=\"structure\"><span class=\"nd\">volume</span> 1, <span class=\"nd\">letter</span> Both; aan boord van het Wapen van Amsterdam liggende in de Tafelbaai, 6 augustus 1610</span></span></span></td><td class=\"tf ltr\"><span class=\" ubd\"><span class=\"plain   hlbx\" ><span class=\"txtu\">PIETER </span><span class=\"txtu\">BOTH, </span></span></span></td></tr>\n",
       "<tr class=\"tf ltr\"><td class=\"tf ltr\">10</td><td class=\"tf ltr\"><span class=\"tfsechead ltr\"><span class=\"ltr\"><a target=\"_blank\" href=\"http://resources.huygens.knaw.nl/retroboeken/generalemissiven/#page=26&amp;source=1\" title=\"Show this document on Huygens\" sec=\"1 3:1\">1 3:1</a></span></span></td><td class=\"tf ltr\"><span class=\" ubd\"><span class=\"txtu \"><span class=\"structure\"><span class=\"nd\">volume</span> 1, <span class=\"nd\">letter</span> Both; aan boord van het Wapen van Amsterdam liggende in de Tafelbaai, 6 augustus 1610</span></span></span></td><td class=\"tf ltr\"><span class=\" ubd\"><span class=\"plain   hlbx\" ><span class=\"txtu\">AMSTERDAM, </span></span></span></td></tr></table>"
      ],
      "text/plain": [
       "<IPython.core.display.HTML object>"
      ]
     },
     "metadata": {},
     "output_type": "display_data"
    }
   ],
   "source": [
    "A.table(results, end=10)"
   ]
  },
  {
   "cell_type": "code",
   "execution_count": 15,
   "id": "31cd054e-a03c-4812-8414-c9d27e9ff6a2",
   "metadata": {},
   "outputs": [
    {
     "data": {
      "text/plain": [
       "[(6018176, 6638994),\n",
       " (6018176, 6638995),\n",
       " (6018176, 6638996),\n",
       " (6018176, 6638997),\n",
       " (6018176, 6638998),\n",
       " (6018176, 6638999),\n",
       " (6018176, 6639000),\n",
       " (6018176, 6639001),\n",
       " (6018177, 6639002),\n",
       " (6018177, 6639003)]"
      ]
     },
     "execution_count": 15,
     "metadata": {},
     "output_type": "execute_result"
    }
   ],
   "source": [
    "results[0:10]"
   ]
  },
  {
   "cell_type": "code",
   "execution_count": 16,
   "id": "19b668d9-36d4-454f-9c15-d2ad938596be",
   "metadata": {},
   "outputs": [
    {
     "data": {
      "text/html": [
       "<p><b>result</b> <i>1</i>"
      ],
      "text/plain": [
       "<IPython.core.display.HTML object>"
      ]
     },
     "metadata": {},
     "output_type": "display_data"
    },
    {
     "data": {
      "text/html": [
       "<div class=\"tfsechead \"><span class=\"ltr\"><a target=\"_blank\" href=\"http://resources.huygens.knaw.nl/retroboeken/generalemissiven/#page=26&amp;source=1\" title=\"Show this document on Huygens\" sec=\"1 3:1\">1 3:1</a></span></div><div class=\" children\"><div class=\"contnr c4 trm   \" ><div class=\"lbl c4 trm \" ><span class=\"nd\">letter </span> <span class=\"txtu\"><span class=\"structure\"><span class=\"nd\">volume</span> 1, <span class=\"nd\">letter</span> Both; aan boord van het Wapen van Amsterdam voor Ile de Mayo, 25 februari 1610</span></span></div><div class=\"features\"><span class=\"day xft\" ><span class=\"f\">day=</span>25</span><span class=\"month xft\" ><span class=\"f\">month=</span>2</span><span class=\"year xft\" ><span class=\"f\">year=</span>1610</span></div></div></div>"
      ],
      "text/plain": [
       "<IPython.core.display.HTML object>"
      ]
     },
     "metadata": {},
     "output_type": "display_data"
    },
    {
     "data": {
      "text/html": [
       "<div class=\"tfsechead \"><span class=\"ltr\"><a target=\"_blank\" href=\"http://resources.huygens.knaw.nl/retroboeken/generalemissiven/#page=26&amp;source=1\" title=\"Show this document on Huygens\" sec=\"1 3:1\">1 3:1</a></span></div><div class=\" children\"><div class=\"contnr c3    \" ><div class=\"lbl c3  \" ><span class=\"nd\">line </span></div><div class=\"children hor wrap \"><div class=\"contnr c0 trm   \" ><div class=\"lbl c0 trm \" ><span class=\"txtu\">I. </span></div></div><div class=\"contnr c1    hl\" ><div class=\"lbl c1  hl\" ><span class=\"nd\">ent </span></div><div class=\"children hor wrap \"><div class=\"contnr c0 trm   \" ><div class=\"lbl c0 trm \" ><span class=\"txtu\">PIETER </span></div></div><div class=\"contnr c0 trm   \" ><div class=\"lbl c0 trm \" ><span class=\"txtu\">BOTH, </span></div></div></div></div><div class=\"contnr c0 trm   \" ><div class=\"lbl c0 trm \" ><span class=\"txtu\">AAN </span></div></div><div class=\"contnr c0 trm   \" ><div class=\"lbl c0 trm \" ><span class=\"txtu\">BOORD </span></div></div><div class=\"contnr c0 trm   \" ><div class=\"lbl c0 trm \" ><span class=\"txtu\">VAN </span></div></div><div class=\"contnr c0 trm   \" ><div class=\"lbl c0 trm \" ><span class=\"txtu\">HET </span></div></div><div class=\"contnr c0 trm   \" ><div class=\"lbl c0 trm \" ><span class=\"txtu\">WAPEN </span></div></div><div class=\"contnr c0 trm   \" ><div class=\"lbl c0 trm \" ><span class=\"txtu\">VAN </span></div></div><div class=\"contnr c1    \" ><div class=\"lbl c1  \" ><span class=\"nd\">ent </span></div><div class=\"children hor wrap \"><div class=\"contnr c0 trm   \" ><div class=\"lbl c0 trm \" ><span class=\"txtu\">AMSTERDAM, </span></div></div></div></div></div></div></div>"
      ],
      "text/plain": [
       "<IPython.core.display.HTML object>"
      ]
     },
     "metadata": {},
     "output_type": "display_data"
    },
    {
     "data": {
      "text/html": [
       "<p><b>result</b> <i>2</i>"
      ],
      "text/plain": [
       "<IPython.core.display.HTML object>"
      ]
     },
     "metadata": {},
     "output_type": "display_data"
    },
    {
     "data": {
      "text/html": [
       "<div class=\"tfsechead \"><span class=\"ltr\"><a target=\"_blank\" href=\"http://resources.huygens.knaw.nl/retroboeken/generalemissiven/#page=26&amp;source=1\" title=\"Show this document on Huygens\" sec=\"1 3:1\">1 3:1</a></span></div><div class=\" children\"><div class=\"contnr c4 trm   \" ><div class=\"lbl c4 trm \" ><span class=\"nd\">letter </span> <span class=\"txtu\"><span class=\"structure\"><span class=\"nd\">volume</span> 1, <span class=\"nd\">letter</span> Both; aan boord van het Wapen van Amsterdam voor Ile de Mayo, 25 februari 1610</span></span></div><div class=\"features\"><span class=\"day xft\" ><span class=\"f\">day=</span>25</span><span class=\"month xft\" ><span class=\"f\">month=</span>2</span><span class=\"year xft\" ><span class=\"f\">year=</span>1610</span></div></div></div>"
      ],
      "text/plain": [
       "<IPython.core.display.HTML object>"
      ]
     },
     "metadata": {},
     "output_type": "display_data"
    },
    {
     "data": {
      "text/html": [
       "<div class=\"tfsechead \"><span class=\"ltr\"><a target=\"_blank\" href=\"http://resources.huygens.knaw.nl/retroboeken/generalemissiven/#page=26&amp;source=1\" title=\"Show this document on Huygens\" sec=\"1 3:1\">1 3:1</a></span></div><div class=\" children\"><div class=\"contnr c3    \" ><div class=\"lbl c3  \" ><span class=\"nd\">line </span></div><div class=\"children hor wrap \"><div class=\"contnr c0 trm   \" ><div class=\"lbl c0 trm \" ><span class=\"txtu\">I. </span></div></div><div class=\"contnr c1    \" ><div class=\"lbl c1  \" ><span class=\"nd\">ent </span></div><div class=\"children hor wrap \"><div class=\"contnr c0 trm   \" ><div class=\"lbl c0 trm \" ><span class=\"txtu\">PIETER </span></div></div><div class=\"contnr c0 trm   \" ><div class=\"lbl c0 trm \" ><span class=\"txtu\">BOTH, </span></div></div></div></div><div class=\"contnr c0 trm   \" ><div class=\"lbl c0 trm \" ><span class=\"txtu\">AAN </span></div></div><div class=\"contnr c0 trm   \" ><div class=\"lbl c0 trm \" ><span class=\"txtu\">BOORD </span></div></div><div class=\"contnr c0 trm   \" ><div class=\"lbl c0 trm \" ><span class=\"txtu\">VAN </span></div></div><div class=\"contnr c0 trm   \" ><div class=\"lbl c0 trm \" ><span class=\"txtu\">HET </span></div></div><div class=\"contnr c0 trm   \" ><div class=\"lbl c0 trm \" ><span class=\"txtu\">WAPEN </span></div></div><div class=\"contnr c0 trm   \" ><div class=\"lbl c0 trm \" ><span class=\"txtu\">VAN </span></div></div><div class=\"contnr c1    hl\" ><div class=\"lbl c1  hl\" ><span class=\"nd\">ent </span></div><div class=\"children hor wrap \"><div class=\"contnr c0 trm   \" ><div class=\"lbl c0 trm \" ><span class=\"txtu\">AMSTERDAM, </span></div></div></div></div></div></div></div>"
      ],
      "text/plain": [
       "<IPython.core.display.HTML object>"
      ]
     },
     "metadata": {},
     "output_type": "display_data"
    },
    {
     "data": {
      "text/html": [
       "<p><b>result</b> <i>3</i>"
      ],
      "text/plain": [
       "<IPython.core.display.HTML object>"
      ]
     },
     "metadata": {},
     "output_type": "display_data"
    },
    {
     "data": {
      "text/html": [
       "<div class=\"tfsechead \"><span class=\"ltr\"><a target=\"_blank\" href=\"http://resources.huygens.knaw.nl/retroboeken/generalemissiven/#page=26&amp;source=1\" title=\"Show this document on Huygens\" sec=\"1 3:1\">1 3:1</a></span></div><div class=\" children\"><div class=\"contnr c4 trm   \" ><div class=\"lbl c4 trm \" ><span class=\"nd\">letter </span> <span class=\"txtu\"><span class=\"structure\"><span class=\"nd\">volume</span> 1, <span class=\"nd\">letter</span> Both; aan boord van het Wapen van Amsterdam voor Ile de Mayo, 25 februari 1610</span></span></div><div class=\"features\"><span class=\"day xft\" ><span class=\"f\">day=</span>25</span><span class=\"month xft\" ><span class=\"f\">month=</span>2</span><span class=\"year xft\" ><span class=\"f\">year=</span>1610</span></div></div></div>"
      ],
      "text/plain": [
       "<IPython.core.display.HTML object>"
      ]
     },
     "metadata": {},
     "output_type": "display_data"
    },
    {
     "data": {
      "text/html": [
       "<div class=\"tfsechead \"><span class=\"ltr\"><a target=\"_blank\" href=\"http://resources.huygens.knaw.nl/retroboeken/generalemissiven/#page=26&amp;source=1\" title=\"Show this document on Huygens\" sec=\"1 3:2\">1 3:2</a></span></div><div class=\" children\"><div class=\"contnr c3    \" ><div class=\"lbl c3  \" ><span class=\"nd\">line </span></div><div class=\"children hor wrap \"><div class=\"contnr c0 trm   \" ><div class=\"lbl c0 trm \" ><span class=\"txtu\">VOOR </span></div></div><div class=\"contnr c0 trm   \" ><div class=\"lbl c0 trm \" ><span class=\"txtu\">ILE </span></div></div><div class=\"contnr c1    hl\" ><div class=\"lbl c1  hl\" ><span class=\"nd\">ent </span></div><div class=\"children hor wrap \"><div class=\"contnr c0 trm   \" ><div class=\"lbl c0 trm \" ><span class=\"txtu\">DE </span></div></div><div class=\"contnr c0 trm   \" ><div class=\"lbl c0 trm \" ><span class=\"txtu\">MAYO </span></div></div></div></div><div class=\"contnr c0 trm   \" ><div class=\"lbl c0 trm \" ><span class=\"txtu\">De </span></div></div><div class=\"contnr c0 trm   \" ><div class=\"lbl c0 trm \" ><span class=\"txtu\">eerste </span></div></div><div class=\"contnr c0 trm   \" ><div class=\"lbl c0 trm \" ><span class=\"txtu\">drie </span></div></div><div class=\"contnr c0 trm   \" ><div class=\"lbl c0 trm \" ><span class=\"txtu\">brieven, </span></div></div><div class=\"contnr c0 trm   \" ><div class=\"lbl c0 trm \" ><span class=\"txtu\">door </span></div></div><div class=\"contnr c1    \" ><div class=\"lbl c1  \" ><span class=\"nd\">ent </span></div><div class=\"children hor wrap \"><div class=\"contnr c0 trm   \" ><div class=\"lbl c0 trm \" ><span class=\"txtu\">Both </span></div></div></div></div><div class=\"contnr c0 trm   \" ><div class=\"lbl c0 trm \" ><span class=\"txtu\">op </span></div></div><div class=\"contnr c0 trm   \" ><div class=\"lbl c0 trm \" ><span class=\"txtu\">reis </span></div></div><div class=\"contnr c0 trm   \" ><div class=\"lbl c0 trm \" ><span class=\"txtu\">naar </span></div></div><div class=\"contnr c1    \" ><div class=\"lbl c1  \" ><span class=\"nd\">ent </span></div><div class=\"children hor wrap \"><div class=\"contnr c0 trm   \" ><div class=\"lbl c0 trm \" ><span class=\"txtu\">Indië </span></div></div></div></div><div class=\"contnr c0 trm   \" ><div class=\"lbl c0 trm \" ><span class=\"txtu\">geschrovon, </span></div></div><div class=\"contnr c0 trm   \" ><div class=\"lbl c0 trm \" ><span class=\"txtu\">wijken </span></div></div><div class=\"contnr c0 trm   \" ><div class=\"lbl c0 trm \" ><span class=\"txtu\">niet </span></div></div><div class=\"contnr c0 trm   \" ><div class=\"lbl c0 trm \" ><span class=\"txtu\">af </span></div></div><div class=\"contnr c0 trm   \" ><div class=\"lbl c0 trm \" ><span class=\"txtu\">van </span></div></div></div></div></div>"
      ],
      "text/plain": [
       "<IPython.core.display.HTML object>"
      ]
     },
     "metadata": {},
     "output_type": "display_data"
    },
    {
     "data": {
      "text/html": [
       "<p><b>result</b> <i>4</i>"
      ],
      "text/plain": [
       "<IPython.core.display.HTML object>"
      ]
     },
     "metadata": {},
     "output_type": "display_data"
    },
    {
     "data": {
      "text/html": [
       "<div class=\"tfsechead \"><span class=\"ltr\"><a target=\"_blank\" href=\"http://resources.huygens.knaw.nl/retroboeken/generalemissiven/#page=26&amp;source=1\" title=\"Show this document on Huygens\" sec=\"1 3:1\">1 3:1</a></span></div><div class=\" children\"><div class=\"contnr c4 trm   \" ><div class=\"lbl c4 trm \" ><span class=\"nd\">letter </span> <span class=\"txtu\"><span class=\"structure\"><span class=\"nd\">volume</span> 1, <span class=\"nd\">letter</span> Both; aan boord van het Wapen van Amsterdam voor Ile de Mayo, 25 februari 1610</span></span></div><div class=\"features\"><span class=\"day xft\" ><span class=\"f\">day=</span>25</span><span class=\"month xft\" ><span class=\"f\">month=</span>2</span><span class=\"year xft\" ><span class=\"f\">year=</span>1610</span></div></div></div>"
      ],
      "text/plain": [
       "<IPython.core.display.HTML object>"
      ]
     },
     "metadata": {},
     "output_type": "display_data"
    },
    {
     "data": {
      "text/html": [
       "<div class=\"tfsechead \"><span class=\"ltr\"><a target=\"_blank\" href=\"http://resources.huygens.knaw.nl/retroboeken/generalemissiven/#page=26&amp;source=1\" title=\"Show this document on Huygens\" sec=\"1 3:2\">1 3:2</a></span></div><div class=\" children\"><div class=\"contnr c3    \" ><div class=\"lbl c3  \" ><span class=\"nd\">line </span></div><div class=\"children hor wrap \"><div class=\"contnr c0 trm   \" ><div class=\"lbl c0 trm \" ><span class=\"txtu\">VOOR </span></div></div><div class=\"contnr c0 trm   \" ><div class=\"lbl c0 trm \" ><span class=\"txtu\">ILE </span></div></div><div class=\"contnr c1    \" ><div class=\"lbl c1  \" ><span class=\"nd\">ent </span></div><div class=\"children hor wrap \"><div class=\"contnr c0 trm   \" ><div class=\"lbl c0 trm \" ><span class=\"txtu\">DE </span></div></div><div class=\"contnr c0 trm   \" ><div class=\"lbl c0 trm \" ><span class=\"txtu\">MAYO </span></div></div></div></div><div class=\"contnr c0 trm   \" ><div class=\"lbl c0 trm \" ><span class=\"txtu\">De </span></div></div><div class=\"contnr c0 trm   \" ><div class=\"lbl c0 trm \" ><span class=\"txtu\">eerste </span></div></div><div class=\"contnr c0 trm   \" ><div class=\"lbl c0 trm \" ><span class=\"txtu\">drie </span></div></div><div class=\"contnr c0 trm   \" ><div class=\"lbl c0 trm \" ><span class=\"txtu\">brieven, </span></div></div><div class=\"contnr c0 trm   \" ><div class=\"lbl c0 trm \" ><span class=\"txtu\">door </span></div></div><div class=\"contnr c1    hl\" ><div class=\"lbl c1  hl\" ><span class=\"nd\">ent </span></div><div class=\"children hor wrap \"><div class=\"contnr c0 trm   \" ><div class=\"lbl c0 trm \" ><span class=\"txtu\">Both </span></div></div></div></div><div class=\"contnr c0 trm   \" ><div class=\"lbl c0 trm \" ><span class=\"txtu\">op </span></div></div><div class=\"contnr c0 trm   \" ><div class=\"lbl c0 trm \" ><span class=\"txtu\">reis </span></div></div><div class=\"contnr c0 trm   \" ><div class=\"lbl c0 trm \" ><span class=\"txtu\">naar </span></div></div><div class=\"contnr c1    \" ><div class=\"lbl c1  \" ><span class=\"nd\">ent </span></div><div class=\"children hor wrap \"><div class=\"contnr c0 trm   \" ><div class=\"lbl c0 trm \" ><span class=\"txtu\">Indië </span></div></div></div></div><div class=\"contnr c0 trm   \" ><div class=\"lbl c0 trm \" ><span class=\"txtu\">geschrovon, </span></div></div><div class=\"contnr c0 trm   \" ><div class=\"lbl c0 trm \" ><span class=\"txtu\">wijken </span></div></div><div class=\"contnr c0 trm   \" ><div class=\"lbl c0 trm \" ><span class=\"txtu\">niet </span></div></div><div class=\"contnr c0 trm   \" ><div class=\"lbl c0 trm \" ><span class=\"txtu\">af </span></div></div><div class=\"contnr c0 trm   \" ><div class=\"lbl c0 trm \" ><span class=\"txtu\">van </span></div></div></div></div></div>"
      ],
      "text/plain": [
       "<IPython.core.display.HTML object>"
      ]
     },
     "metadata": {},
     "output_type": "display_data"
    },
    {
     "data": {
      "text/html": [
       "<p><b>result</b> <i>5</i>"
      ],
      "text/plain": [
       "<IPython.core.display.HTML object>"
      ]
     },
     "metadata": {},
     "output_type": "display_data"
    },
    {
     "data": {
      "text/html": [
       "<div class=\"tfsechead \"><span class=\"ltr\"><a target=\"_blank\" href=\"http://resources.huygens.knaw.nl/retroboeken/generalemissiven/#page=26&amp;source=1\" title=\"Show this document on Huygens\" sec=\"1 3:1\">1 3:1</a></span></div><div class=\" children\"><div class=\"contnr c4 trm   \" ><div class=\"lbl c4 trm \" ><span class=\"nd\">letter </span> <span class=\"txtu\"><span class=\"structure\"><span class=\"nd\">volume</span> 1, <span class=\"nd\">letter</span> Both; aan boord van het Wapen van Amsterdam voor Ile de Mayo, 25 februari 1610</span></span></div><div class=\"features\"><span class=\"day xft\" ><span class=\"f\">day=</span>25</span><span class=\"month xft\" ><span class=\"f\">month=</span>2</span><span class=\"year xft\" ><span class=\"f\">year=</span>1610</span></div></div></div>"
      ],
      "text/plain": [
       "<IPython.core.display.HTML object>"
      ]
     },
     "metadata": {},
     "output_type": "display_data"
    },
    {
     "data": {
      "text/html": [
       "<div class=\"tfsechead \"><span class=\"ltr\"><a target=\"_blank\" href=\"http://resources.huygens.knaw.nl/retroboeken/generalemissiven/#page=26&amp;source=1\" title=\"Show this document on Huygens\" sec=\"1 3:2\">1 3:2</a></span></div><div class=\" children\"><div class=\"contnr c3    \" ><div class=\"lbl c3  \" ><span class=\"nd\">line </span></div><div class=\"children hor wrap \"><div class=\"contnr c0 trm   \" ><div class=\"lbl c0 trm \" ><span class=\"txtu\">VOOR </span></div></div><div class=\"contnr c0 trm   \" ><div class=\"lbl c0 trm \" ><span class=\"txtu\">ILE </span></div></div><div class=\"contnr c1    \" ><div class=\"lbl c1  \" ><span class=\"nd\">ent </span></div><div class=\"children hor wrap \"><div class=\"contnr c0 trm   \" ><div class=\"lbl c0 trm \" ><span class=\"txtu\">DE </span></div></div><div class=\"contnr c0 trm   \" ><div class=\"lbl c0 trm \" ><span class=\"txtu\">MAYO </span></div></div></div></div><div class=\"contnr c0 trm   \" ><div class=\"lbl c0 trm \" ><span class=\"txtu\">De </span></div></div><div class=\"contnr c0 trm   \" ><div class=\"lbl c0 trm \" ><span class=\"txtu\">eerste </span></div></div><div class=\"contnr c0 trm   \" ><div class=\"lbl c0 trm \" ><span class=\"txtu\">drie </span></div></div><div class=\"contnr c0 trm   \" ><div class=\"lbl c0 trm \" ><span class=\"txtu\">brieven, </span></div></div><div class=\"contnr c0 trm   \" ><div class=\"lbl c0 trm \" ><span class=\"txtu\">door </span></div></div><div class=\"contnr c1    \" ><div class=\"lbl c1  \" ><span class=\"nd\">ent </span></div><div class=\"children hor wrap \"><div class=\"contnr c0 trm   \" ><div class=\"lbl c0 trm \" ><span class=\"txtu\">Both </span></div></div></div></div><div class=\"contnr c0 trm   \" ><div class=\"lbl c0 trm \" ><span class=\"txtu\">op </span></div></div><div class=\"contnr c0 trm   \" ><div class=\"lbl c0 trm \" ><span class=\"txtu\">reis </span></div></div><div class=\"contnr c0 trm   \" ><div class=\"lbl c0 trm \" ><span class=\"txtu\">naar </span></div></div><div class=\"contnr c1    hl\" ><div class=\"lbl c1  hl\" ><span class=\"nd\">ent </span></div><div class=\"children hor wrap \"><div class=\"contnr c0 trm   \" ><div class=\"lbl c0 trm \" ><span class=\"txtu\">Indië </span></div></div></div></div><div class=\"contnr c0 trm   \" ><div class=\"lbl c0 trm \" ><span class=\"txtu\">geschrovon, </span></div></div><div class=\"contnr c0 trm   \" ><div class=\"lbl c0 trm \" ><span class=\"txtu\">wijken </span></div></div><div class=\"contnr c0 trm   \" ><div class=\"lbl c0 trm \" ><span class=\"txtu\">niet </span></div></div><div class=\"contnr c0 trm   \" ><div class=\"lbl c0 trm \" ><span class=\"txtu\">af </span></div></div><div class=\"contnr c0 trm   \" ><div class=\"lbl c0 trm \" ><span class=\"txtu\">van </span></div></div></div></div></div>"
      ],
      "text/plain": [
       "<IPython.core.display.HTML object>"
      ]
     },
     "metadata": {},
     "output_type": "display_data"
    },
    {
     "data": {
      "text/html": [
       "<p><b>result</b> <i>6</i>"
      ],
      "text/plain": [
       "<IPython.core.display.HTML object>"
      ]
     },
     "metadata": {},
     "output_type": "display_data"
    },
    {
     "data": {
      "text/html": [
       "<div class=\"tfsechead \"><span class=\"ltr\"><a target=\"_blank\" href=\"http://resources.huygens.knaw.nl/retroboeken/generalemissiven/#page=26&amp;source=1\" title=\"Show this document on Huygens\" sec=\"1 3:1\">1 3:1</a></span></div><div class=\" children\"><div class=\"contnr c4 trm   \" ><div class=\"lbl c4 trm \" ><span class=\"nd\">letter </span> <span class=\"txtu\"><span class=\"structure\"><span class=\"nd\">volume</span> 1, <span class=\"nd\">letter</span> Both; aan boord van het Wapen van Amsterdam voor Ile de Mayo, 25 februari 1610</span></span></div><div class=\"features\"><span class=\"day xft\" ><span class=\"f\">day=</span>25</span><span class=\"month xft\" ><span class=\"f\">month=</span>2</span><span class=\"year xft\" ><span class=\"f\">year=</span>1610</span></div></div></div>"
      ],
      "text/plain": [
       "<IPython.core.display.HTML object>"
      ]
     },
     "metadata": {},
     "output_type": "display_data"
    },
    {
     "data": {
      "text/html": [
       "<div class=\"tfsechead \"><span class=\"ltr\"><a target=\"_blank\" href=\"http://resources.huygens.knaw.nl/retroboeken/generalemissiven/#page=26&amp;source=1\" title=\"Show this document on Huygens\" sec=\"1 3:3\">1 3:3</a></span></div><div class=\" children\"><div class=\"contnr c3    \" ><div class=\"lbl c3  \" ><span class=\"nd\">line </span></div><div class=\"children hor wrap \"><div class=\"contnr c0 trm   \" ><div class=\"lbl c0 trm \" ><span class=\"txtu\">de </span></div></div><div class=\"contnr c0 trm   \" ><div class=\"lbl c0 trm \" ><span class=\"txtu\">andere </span></div></div><div class=\"contnr c0 trm   \" ><div class=\"lbl c0 trm \" ><span class=\"txtu\">brieven </span></div></div><div class=\"contnr c0 trm   \" ><div class=\"lbl c0 trm \" ><span class=\"txtu\">van </span></div></div><div class=\"contnr c0 trm   \" ><div class=\"lbl c0 trm \" ><span class=\"txtu\">vlootvoogden </span></div></div><div class=\"contnr c0 trm   \" ><div class=\"lbl c0 trm \" ><span class=\"txtu\">aan </span></div></div><div class=\"contnr c1    hl\" ><div class=\"lbl c1  hl\" ><span class=\"nd\">ent </span></div><div class=\"children hor wrap \"><div class=\"contnr c0 trm   \" ><div class=\"lbl c0 trm \" ><span class=\"txtu\">Heren </span></div></div><div class=\"contnr c0 trm   \" ><div class=\"lbl c0 trm \" ><span class=\"txtu\">XVII ; </span></div></div></div></div><div class=\"contnr c0 trm   \" ><div class=\"lbl c0 trm \" ><span class=\"txtu\">dat </span></div></div><div class=\"contnr c0 trm   \" ><div class=\"lbl c0 trm \" ><span class=\"txtu\">hij </span></div></div><div class=\"contnr c0 trm   \" ><div class=\"lbl c0 trm \" ><span class=\"txtu\">in </span></div></div><div class=\"contnr c0 trm   \" ><div class=\"lbl c0 trm \" ><span class=\"txtu\">de </span></div></div><div class=\"contnr c0 trm   \" ><div class=\"lbl c0 trm \" ><span class=\"txtu\">kwaliteit </span></div></div><div class=\"contnr c0 trm   \" ><div class=\"lbl c0 trm \" ><span class=\"txtu\">van </span></div></div><div class=\"contnr c0 trm   \" ><div class=\"lbl c0 trm \" ><span class=\"txtu\">Gouverneur- </span></div></div></div></div></div>"
      ],
      "text/plain": [
       "<IPython.core.display.HTML object>"
      ]
     },
     "metadata": {},
     "output_type": "display_data"
    },
    {
     "data": {
      "text/html": [
       "<p><b>result</b> <i>7</i>"
      ],
      "text/plain": [
       "<IPython.core.display.HTML object>"
      ]
     },
     "metadata": {},
     "output_type": "display_data"
    },
    {
     "data": {
      "text/html": [
       "<div class=\"tfsechead \"><span class=\"ltr\"><a target=\"_blank\" href=\"http://resources.huygens.knaw.nl/retroboeken/generalemissiven/#page=26&amp;source=1\" title=\"Show this document on Huygens\" sec=\"1 3:1\">1 3:1</a></span></div><div class=\" children\"><div class=\"contnr c4 trm   \" ><div class=\"lbl c4 trm \" ><span class=\"nd\">letter </span> <span class=\"txtu\"><span class=\"structure\"><span class=\"nd\">volume</span> 1, <span class=\"nd\">letter</span> Both; aan boord van het Wapen van Amsterdam voor Ile de Mayo, 25 februari 1610</span></span></div><div class=\"features\"><span class=\"day xft\" ><span class=\"f\">day=</span>25</span><span class=\"month xft\" ><span class=\"f\">month=</span>2</span><span class=\"year xft\" ><span class=\"f\">year=</span>1610</span></div></div></div>"
      ],
      "text/plain": [
       "<IPython.core.display.HTML object>"
      ]
     },
     "metadata": {},
     "output_type": "display_data"
    },
    {
     "data": {
      "text/html": [
       "<div class=\"tfsechead \"><span class=\"ltr\"><a target=\"_blank\" href=\"http://resources.huygens.knaw.nl/retroboeken/generalemissiven/#page=26&amp;source=1\" title=\"Show this document on Huygens\" sec=\"1 3:4\">1 3:4</a></span></div><div class=\" children\"><div class=\"contnr c3    \" ><div class=\"lbl c3  \" ><span class=\"nd\">line </span></div><div class=\"children hor wrap \"><div class=\"contnr c0 trm   \" ><div class=\"lbl c0 trm \" ><span class=\"txtu\">Generaal </span></div></div><div class=\"contnr c0 trm   \" ><div class=\"lbl c0 trm \" ><span class=\"txtu\">aan </span></div></div><div class=\"contnr c0 trm   \" ><div class=\"lbl c0 trm \" ><span class=\"txtu\">boord </span></div></div><div class=\"contnr c0 trm   \" ><div class=\"lbl c0 trm \" ><span class=\"txtu\">vertoefde, </span></div></div><div class=\"contnr c0 trm   \" ><div class=\"lbl c0 trm \" ><span class=\"txtu\">verandert </span></div></div><div class=\"contnr c0 trm   \" ><div class=\"lbl c0 trm \" ><span class=\"txtu\">daaraan </span></div></div><div class=\"contnr c0 trm   \" ><div class=\"lbl c0 trm \" ><span class=\"txtu\">niets. </span></div></div><div class=\"contnr c1    hl\" ><div class=\"lbl c1  hl\" ><span class=\"nd\">ent </span></div><div class=\"children hor wrap \"><div class=\"contnr c0 trm   \" ><div class=\"lbl c0 trm \" ><span class=\"txtu\">Ile </span></div></div><div class=\"contnr c0 trm   \" ><div class=\"lbl c0 trm \" ><span class=\"txtu\">de </span></div></div><div class=\"contnr c0 trm   \" ><div class=\"lbl c0 trm \" ><span class=\"txtu\">Mayo </span></div></div></div></div><div class=\"contnr c0 trm   \" ><div class=\"lbl c0 trm \" ><span class=\"txtu\">is </span></div></div><div class=\"contnr c0 trm   \" ><div class=\"lbl c0 trm \" ><span class=\"txtu\">een </span></div></div><div class=\"contnr c0 trm   \" ><div class=\"lbl c0 trm \" ><span class=\"txtu\">der </span></div></div><div class=\"contnr c1    \" ><div class=\"lbl c1  \" ><span class=\"nd\">ent </span></div><div class=\"children hor wrap \"><div class=\"contnr c0 trm   \" ><div class=\"lbl c0 trm \" ><span class=\"txtu\">Kaap-</span></div></div><div class=\"contnr c0 trm   \" ><div class=\"lbl c0 trm \" ><span class=\"txtu\">Verdische </span></div></div></div></div></div></div></div>"
      ],
      "text/plain": [
       "<IPython.core.display.HTML object>"
      ]
     },
     "metadata": {},
     "output_type": "display_data"
    },
    {
     "data": {
      "text/html": [
       "<p><b>result</b> <i>8</i>"
      ],
      "text/plain": [
       "<IPython.core.display.HTML object>"
      ]
     },
     "metadata": {},
     "output_type": "display_data"
    },
    {
     "data": {
      "text/html": [
       "<div class=\"tfsechead \"><span class=\"ltr\"><a target=\"_blank\" href=\"http://resources.huygens.knaw.nl/retroboeken/generalemissiven/#page=26&amp;source=1\" title=\"Show this document on Huygens\" sec=\"1 3:1\">1 3:1</a></span></div><div class=\" children\"><div class=\"contnr c4 trm   \" ><div class=\"lbl c4 trm \" ><span class=\"nd\">letter </span> <span class=\"txtu\"><span class=\"structure\"><span class=\"nd\">volume</span> 1, <span class=\"nd\">letter</span> Both; aan boord van het Wapen van Amsterdam voor Ile de Mayo, 25 februari 1610</span></span></div><div class=\"features\"><span class=\"day xft\" ><span class=\"f\">day=</span>25</span><span class=\"month xft\" ><span class=\"f\">month=</span>2</span><span class=\"year xft\" ><span class=\"f\">year=</span>1610</span></div></div></div>"
      ],
      "text/plain": [
       "<IPython.core.display.HTML object>"
      ]
     },
     "metadata": {},
     "output_type": "display_data"
    },
    {
     "data": {
      "text/html": [
       "<div class=\"tfsechead \"><span class=\"ltr\"><a target=\"_blank\" href=\"http://resources.huygens.knaw.nl/retroboeken/generalemissiven/#page=26&amp;source=1\" title=\"Show this document on Huygens\" sec=\"1 3:4\">1 3:4</a></span></div><div class=\" children\"><div class=\"contnr c3    \" ><div class=\"lbl c3  \" ><span class=\"nd\">line </span></div><div class=\"children hor wrap \"><div class=\"contnr c0 trm   \" ><div class=\"lbl c0 trm \" ><span class=\"txtu\">Generaal </span></div></div><div class=\"contnr c0 trm   \" ><div class=\"lbl c0 trm \" ><span class=\"txtu\">aan </span></div></div><div class=\"contnr c0 trm   \" ><div class=\"lbl c0 trm \" ><span class=\"txtu\">boord </span></div></div><div class=\"contnr c0 trm   \" ><div class=\"lbl c0 trm \" ><span class=\"txtu\">vertoefde, </span></div></div><div class=\"contnr c0 trm   \" ><div class=\"lbl c0 trm \" ><span class=\"txtu\">verandert </span></div></div><div class=\"contnr c0 trm   \" ><div class=\"lbl c0 trm \" ><span class=\"txtu\">daaraan </span></div></div><div class=\"contnr c0 trm   \" ><div class=\"lbl c0 trm \" ><span class=\"txtu\">niets. </span></div></div><div class=\"contnr c1    \" ><div class=\"lbl c1  \" ><span class=\"nd\">ent </span></div><div class=\"children hor wrap \"><div class=\"contnr c0 trm   \" ><div class=\"lbl c0 trm \" ><span class=\"txtu\">Ile </span></div></div><div class=\"contnr c0 trm   \" ><div class=\"lbl c0 trm \" ><span class=\"txtu\">de </span></div></div><div class=\"contnr c0 trm   \" ><div class=\"lbl c0 trm \" ><span class=\"txtu\">Mayo </span></div></div></div></div><div class=\"contnr c0 trm   \" ><div class=\"lbl c0 trm \" ><span class=\"txtu\">is </span></div></div><div class=\"contnr c0 trm   \" ><div class=\"lbl c0 trm \" ><span class=\"txtu\">een </span></div></div><div class=\"contnr c0 trm   \" ><div class=\"lbl c0 trm \" ><span class=\"txtu\">der </span></div></div><div class=\"contnr c1    hl\" ><div class=\"lbl c1  hl\" ><span class=\"nd\">ent </span></div><div class=\"children hor wrap \"><div class=\"contnr c0 trm   \" ><div class=\"lbl c0 trm \" ><span class=\"txtu\">Kaap-</span></div></div><div class=\"contnr c0 trm   \" ><div class=\"lbl c0 trm \" ><span class=\"txtu\">Verdische </span></div></div></div></div></div></div></div>"
      ],
      "text/plain": [
       "<IPython.core.display.HTML object>"
      ]
     },
     "metadata": {},
     "output_type": "display_data"
    },
    {
     "data": {
      "text/html": [
       "<p><b>result</b> <i>9</i>"
      ],
      "text/plain": [
       "<IPython.core.display.HTML object>"
      ]
     },
     "metadata": {},
     "output_type": "display_data"
    },
    {
     "data": {
      "text/html": [
       "<div class=\"tfsechead \"><span class=\"ltr\"><a target=\"_blank\" href=\"http://resources.huygens.knaw.nl/retroboeken/generalemissiven/#page=26&amp;source=1\" title=\"Show this document on Huygens\" sec=\"1 3:1\">1 3:1</a></span></div><div class=\" children\"><div class=\"contnr c4 trm   \" ><div class=\"lbl c4 trm \" ><span class=\"nd\">letter </span> <span class=\"txtu\"><span class=\"structure\"><span class=\"nd\">volume</span> 1, <span class=\"nd\">letter</span> Both; aan boord van het Wapen van Amsterdam liggende in de Tafelbaai, 6 augustus 1610</span></span></div><div class=\"features\"><span class=\"day xft\" ><span class=\"f\">day=</span>6</span><span class=\"month xft\" ><span class=\"f\">month=</span>8</span><span class=\"year xft\" ><span class=\"f\">year=</span>1610</span></div></div></div>"
      ],
      "text/plain": [
       "<IPython.core.display.HTML object>"
      ]
     },
     "metadata": {},
     "output_type": "display_data"
    },
    {
     "data": {
      "text/html": [
       "<div class=\"tfsechead \"><span class=\"ltr\"><a target=\"_blank\" href=\"http://resources.huygens.knaw.nl/retroboeken/generalemissiven/#page=26&amp;source=1\" title=\"Show this document on Huygens\" sec=\"1 3:1\">1 3:1</a></span></div><div class=\" children\"><div class=\"contnr c3    \" ><div class=\"lbl c3  \" ><span class=\"nd\">line </span></div><div class=\"children hor wrap \"><div class=\"contnr c0 trm   \" ><div class=\"lbl c0 trm \" ><span class=\"txtu\">II. </span></div></div><div class=\"contnr c1    hl\" ><div class=\"lbl c1  hl\" ><span class=\"nd\">ent </span></div><div class=\"children hor wrap \"><div class=\"contnr c0 trm   \" ><div class=\"lbl c0 trm \" ><span class=\"txtu\">PIETER </span></div></div><div class=\"contnr c0 trm   \" ><div class=\"lbl c0 trm \" ><span class=\"txtu\">BOTH, </span></div></div></div></div><div class=\"contnr c0 trm   \" ><div class=\"lbl c0 trm \" ><span class=\"txtu\">AAN </span></div></div><div class=\"contnr c0 trm   \" ><div class=\"lbl c0 trm \" ><span class=\"txtu\">BOORD </span></div></div><div class=\"contnr c0 trm   \" ><div class=\"lbl c0 trm \" ><span class=\"txtu\">VAN </span></div></div><div class=\"contnr c0 trm   \" ><div class=\"lbl c0 trm \" ><span class=\"txtu\">HET </span></div></div><div class=\"contnr c0 trm   \" ><div class=\"lbl c0 trm \" ><span class=\"txtu\">WAPEN </span></div></div><div class=\"contnr c0 trm   \" ><div class=\"lbl c0 trm \" ><span class=\"txtu\">VAN </span></div></div><div class=\"contnr c1    \" ><div class=\"lbl c1  \" ><span class=\"nd\">ent </span></div><div class=\"children hor wrap \"><div class=\"contnr c0 trm   \" ><div class=\"lbl c0 trm \" ><span class=\"txtu\">AMSTERDAM, </span></div></div></div></div></div></div></div>"
      ],
      "text/plain": [
       "<IPython.core.display.HTML object>"
      ]
     },
     "metadata": {},
     "output_type": "display_data"
    },
    {
     "data": {
      "text/html": [
       "<p><b>result</b> <i>10</i>"
      ],
      "text/plain": [
       "<IPython.core.display.HTML object>"
      ]
     },
     "metadata": {},
     "output_type": "display_data"
    },
    {
     "data": {
      "text/html": [
       "<div class=\"tfsechead \"><span class=\"ltr\"><a target=\"_blank\" href=\"http://resources.huygens.knaw.nl/retroboeken/generalemissiven/#page=26&amp;source=1\" title=\"Show this document on Huygens\" sec=\"1 3:1\">1 3:1</a></span></div><div class=\" children\"><div class=\"contnr c4 trm   \" ><div class=\"lbl c4 trm \" ><span class=\"nd\">letter </span> <span class=\"txtu\"><span class=\"structure\"><span class=\"nd\">volume</span> 1, <span class=\"nd\">letter</span> Both; aan boord van het Wapen van Amsterdam liggende in de Tafelbaai, 6 augustus 1610</span></span></div><div class=\"features\"><span class=\"day xft\" ><span class=\"f\">day=</span>6</span><span class=\"month xft\" ><span class=\"f\">month=</span>8</span><span class=\"year xft\" ><span class=\"f\">year=</span>1610</span></div></div></div>"
      ],
      "text/plain": [
       "<IPython.core.display.HTML object>"
      ]
     },
     "metadata": {},
     "output_type": "display_data"
    },
    {
     "data": {
      "text/html": [
       "<div class=\"tfsechead \"><span class=\"ltr\"><a target=\"_blank\" href=\"http://resources.huygens.knaw.nl/retroboeken/generalemissiven/#page=26&amp;source=1\" title=\"Show this document on Huygens\" sec=\"1 3:1\">1 3:1</a></span></div><div class=\" children\"><div class=\"contnr c3    \" ><div class=\"lbl c3  \" ><span class=\"nd\">line </span></div><div class=\"children hor wrap \"><div class=\"contnr c0 trm   \" ><div class=\"lbl c0 trm \" ><span class=\"txtu\">II. </span></div></div><div class=\"contnr c1    \" ><div class=\"lbl c1  \" ><span class=\"nd\">ent </span></div><div class=\"children hor wrap \"><div class=\"contnr c0 trm   \" ><div class=\"lbl c0 trm \" ><span class=\"txtu\">PIETER </span></div></div><div class=\"contnr c0 trm   \" ><div class=\"lbl c0 trm \" ><span class=\"txtu\">BOTH, </span></div></div></div></div><div class=\"contnr c0 trm   \" ><div class=\"lbl c0 trm \" ><span class=\"txtu\">AAN </span></div></div><div class=\"contnr c0 trm   \" ><div class=\"lbl c0 trm \" ><span class=\"txtu\">BOORD </span></div></div><div class=\"contnr c0 trm   \" ><div class=\"lbl c0 trm \" ><span class=\"txtu\">VAN </span></div></div><div class=\"contnr c0 trm   \" ><div class=\"lbl c0 trm \" ><span class=\"txtu\">HET </span></div></div><div class=\"contnr c0 trm   \" ><div class=\"lbl c0 trm \" ><span class=\"txtu\">WAPEN </span></div></div><div class=\"contnr c0 trm   \" ><div class=\"lbl c0 trm \" ><span class=\"txtu\">VAN </span></div></div><div class=\"contnr c1    hl\" ><div class=\"lbl c1  hl\" ><span class=\"nd\">ent </span></div><div class=\"children hor wrap \"><div class=\"contnr c0 trm   \" ><div class=\"lbl c0 trm \" ><span class=\"txtu\">AMSTERDAM, </span></div></div></div></div></div></div></div>"
      ],
      "text/plain": [
       "<IPython.core.display.HTML object>"
      ]
     },
     "metadata": {},
     "output_type": "display_data"
    }
   ],
   "source": [
    "A.show(results, end=10)"
   ]
  },
  {
   "cell_type": "code",
   "execution_count": 18,
   "id": "d8d0e047-2c73-48ad-82bb-6fbb714c2cd5",
   "metadata": {},
   "outputs": [],
   "source": [
    "tsvData = [\n",
    "    (F.year.v(letter), F.month.v(letter), F.day.v(letter), F.eid.v(entity))\n",
    "    for (letter, entity) in results\n",
    "]"
   ]
  },
  {
   "cell_type": "code",
   "execution_count": 19,
   "id": "1c3890a1-6801-4ea3-a7a6-a788faea9c6c",
   "metadata": {},
   "outputs": [
    {
     "data": {
      "text/plain": [
       "[(1610, 2, 25, 'pieter.both'),\n",
       " (1610, 2, 25, 'amsterdam'),\n",
       " (1610, 2, 25, 'de.mayo'),\n",
       " (1610, 2, 25, 'both'),\n",
       " (1610, 2, 25, 'indie'),\n",
       " (1610, 2, 25, 'heren.xvii'),\n",
       " (1610, 2, 25, 'ile.de.mayo'),\n",
       " (1610, 2, 25, 'kaap.verdische'),\n",
       " (1610, 8, 6, 'pieter.both'),\n",
       " (1610, 8, 6, 'amsterdam')]"
      ]
     },
     "execution_count": 19,
     "metadata": {},
     "output_type": "execute_result"
    }
   ],
   "source": [
    "tsvData[0:10]"
   ]
  },
  {
   "cell_type": "code",
   "execution_count": null,
   "id": "22e88ea2-ebfc-4b9b-aa1e-f3e978df6d0e",
   "metadata": {},
   "outputs": [],
   "source": [
    "seaborn"
   ]
  }
 ],
 "metadata": {
  "kernelspec": {
   "display_name": "Python 3 (ipykernel)",
   "language": "python",
   "name": "python3"
  },
  "language_info": {
   "codemirror_mode": {
    "name": "ipython",
    "version": 3
   },
   "file_extension": ".py",
   "mimetype": "text/x-python",
   "name": "python",
   "nbconvert_exporter": "python",
   "pygments_lexer": "ipython3",
   "version": "3.12.2"
  }
 },
 "nbformat": 4,
 "nbformat_minor": 5
}
