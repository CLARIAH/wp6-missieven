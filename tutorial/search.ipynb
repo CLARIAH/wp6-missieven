{
 "cells": [
  {
   "cell_type": "markdown",
   "metadata": {},
   "source": [
    "<img align=\"right\" src=\"images/tf.png\" width=\"200\"/>\n",
    "<img align=\"right\" src=\"images/huc.png\" width=\"200\"/>\n",
    "<img align=\"right\" src=\"images/logo.png\" width=\"200\"/>\n",
    "\n",
    "---\n",
    "\n",
    "To get started: consult [start](start.ipynb)\n",
    "\n",
    "---\n",
    "\n",
    "# Search Introduction\n",
    "\n",
    "*Search* in Text-Fabric is a template based way of looking for structural patterns in your dataset.\n",
    "\n",
    "Within Text-Fabric we have the unique possibility to combine the ease of formulating search templates for\n",
    "complicated syntactical patterns with the power of programmatically processing the results.\n",
    "\n",
    "This notebook will show you how to get up and running.\n",
    "\n",
    "## Easy command\n",
    "\n",
    "Search is as simple as saying (just an example)\n",
    "\n",
    "```python\n",
    "results = A.search(template)\n",
    "A.show(results)\n",
    "```\n",
    "\n",
    "See all ins and outs in the\n",
    "[search template docs](https://annotation.github.io/text-fabric/tf/about/searchusage.html)."
   ]
  },
  {
   "cell_type": "markdown",
   "metadata": {},
   "source": [
    "# Incantation\n",
    "\n",
    "The ins and outs of installing Text-Fabric, getting the corpus, and initializing a notebook are\n",
    "explained in the [start tutorial](start.ipynb)."
   ]
  },
  {
   "cell_type": "code",
   "execution_count": 1,
   "metadata": {},
   "outputs": [],
   "source": [
    "%load_ext autoreload\n",
    "%autoreload 2"
   ]
  },
  {
   "cell_type": "code",
   "execution_count": 2,
   "metadata": {
    "ExecuteTime": {
     "end_time": "2018-05-24T10:06:39.818664Z",
     "start_time": "2018-05-24T10:06:39.796588Z"
    }
   },
   "outputs": [],
   "source": [
    "from tf.app import use"
   ]
  },
  {
   "cell_type": "code",
   "execution_count": 3,
   "metadata": {},
   "outputs": [
    {
     "data": {
      "text/html": [
       "<b title=\"local release\">TF-app:</b> <span title=\"r1.0=#f6e4276d1c8f9f15923d54ccf2339698820b2948 offline under ~/text-fabric-data/github\">~/text-fabric-data/github/clariah/wp6-missieven/app</span>"
      ],
      "text/plain": [
       "<IPython.core.display.HTML object>"
      ]
     },
     "metadata": {},
     "output_type": "display_data"
    },
    {
     "data": {
      "text/html": [
       "<b title=\"local release\">data:</b> <span title=\"r1.0=#f6e4276d1c8f9f15923d54ccf2339698820b2948 offline under ~/text-fabric-data/github\">~/text-fabric-data/github/clariah/wp6-missieven/tf/1.0</span>"
      ],
      "text/plain": [
       "<IPython.core.display.HTML object>"
      ]
     },
     "metadata": {},
     "output_type": "display_data"
    },
    {
     "data": {
      "text/html": [
       "<b>Text-Fabric:</b> <a target=\"_blank\" href=\"https://annotation.github.io/text-fabric/tf/cheatsheet.html\" title=\"text-fabric-api\">Text-Fabric API 10.2.6</a>, <a target=\"_blank\" href=\"https://github.com/clariah/wp6-missieven/blob/master/app\" title=\"clariah/wp6-missieven TF-app\">clariah/wp6-missieven/app  v3</a>, <a target=\"_blank\" href=\"https://annotation.github.io/text-fabric/tf/about/searchusage.html\" title=\"Search Templates Introduction and Reference\">Search Reference</a><br><b>Data:</b> <a target=\"_blank\" href=\"https://github.com/clariah/wp6-missieven/blob/master/docs/about.md\" title=\"provenance of General Missives Dutch East India Company 1600-1800\">WP6-MISSIEVEN</a>, <a target=\"_blank\" href=\"https://annotation.github.io/text-fabric/tf/writing/.html\" title=\"How TF features represent text\">Character table</a>, <a target=\"_blank\" href=\"https://github.com/clariah/wp6-missieven/blob/master/docs/transcription.md\" title=\"WP6-MISSIEVEN feature documentation\">Feature docs</a><br><b>Features:</b><br>\n",
       "<details><summary><b>General Missives Dutch East India Company 1600-1800</b></summary>\n",
       "    <div class=\"fcorpus\">\n",
       "\n",
       "<div class=\"frow\">\n",
       "    <div class=\"fnamecat \">\n",
       "<a target=\"_blank\" href=\"https://github.com/clariah/wp6-missieven/blob/master/docs/transcription.md\" title=\"~/text-fabric-data/github/clariah/wp6-missieven/tf/1.0/author.tf\">author</a>\n",
       "</div>\n",
       "<div class=\"fmono\">str</div>\n",
       "\n",
       "<span> authors of the letter, surnames only</span>\n",
       "\n",
       "</div>\n",
       "\n",
       "<div class=\"frow\">\n",
       "    <div class=\"fnamecat \">\n",
       "<a target=\"_blank\" href=\"https://github.com/clariah/wp6-missieven/blob/master/docs/transcription.md\" title=\"~/text-fabric-data/github/clariah/wp6-missieven/tf/1.0/authorFull.tf\">authorFull</a>\n",
       "</div>\n",
       "<div class=\"fmono\">str</div>\n",
       "\n",
       "<span> authors of the letter, full names</span>\n",
       "\n",
       "</div>\n",
       "\n",
       "<div class=\"frow\">\n",
       "    <div class=\"fnamecat \">\n",
       "<a target=\"_blank\" href=\"https://github.com/clariah/wp6-missieven/blob/master/docs/transcription.md\" title=\"~/text-fabric-data/github/clariah/wp6-missieven/tf/1.0/col.tf\">col</a>\n",
       "</div>\n",
       "<div class=\"fmono\">int</div>\n",
       "\n",
       "<span> column number of a column in a row in a table</span>\n",
       "\n",
       "</div>\n",
       "\n",
       "<div class=\"frow\">\n",
       "    <div class=\"fnamecat \">\n",
       "<a target=\"_blank\" href=\"https://github.com/clariah/wp6-missieven/blob/master/docs/transcription.md\" title=\"~/text-fabric-data/github/clariah/wp6-missieven/tf/1.0/day.tf\">day</a>\n",
       "</div>\n",
       "<div class=\"fmono\">int</div>\n",
       "\n",
       "<span> day part of the date of the letter</span>\n",
       "\n",
       "</div>\n",
       "\n",
       "<div class=\"frow\">\n",
       "    <div class=\"fnamecat \">\n",
       "<a target=\"_blank\" href=\"https://github.com/clariah/wp6-missieven/blob/master/docs/transcription.md\" title=\"~/text-fabric-data/github/clariah/wp6-missieven/tf/1.0/isden.tf\">isden</a>\n",
       "</div>\n",
       "<div class=\"fmono\">int</div>\n",
       "\n",
       "<span> whether a word is the denominator in fraction, e.g. 4 in 1/4</span>\n",
       "\n",
       "</div>\n",
       "\n",
       "<div class=\"frow\">\n",
       "    <div class=\"fnamecat \">\n",
       "<a target=\"_blank\" href=\"https://github.com/clariah/wp6-missieven/blob/master/docs/transcription.md\" title=\"~/text-fabric-data/github/clariah/wp6-missieven/tf/1.0/isemph.tf\">isemph</a>\n",
       "</div>\n",
       "<div class=\"fmono\">str</div>\n",
       "\n",
       "<span> whether a word is emphasized by typography</span>\n",
       "\n",
       "</div>\n",
       "\n",
       "<div class=\"frow\">\n",
       "    <div class=\"fnamecat \">\n",
       "<a target=\"_blank\" href=\"https://github.com/clariah/wp6-missieven/blob/master/docs/transcription.md\" title=\"~/text-fabric-data/github/clariah/wp6-missieven/tf/1.0/isfolio.tf\">isfolio</a>\n",
       "</div>\n",
       "<div class=\"fmono\">int</div>\n",
       "\n",
       "<span> a folio reference</span>\n",
       "\n",
       "</div>\n",
       "\n",
       "<div class=\"frow\">\n",
       "    <div class=\"fnamecat \">\n",
       "<a target=\"_blank\" href=\"https://github.com/clariah/wp6-missieven/blob/master/docs/transcription.md\" title=\"~/text-fabric-data/github/clariah/wp6-missieven/tf/1.0/isnote.tf\">isnote</a>\n",
       "</div>\n",
       "<div class=\"fmono\">int</div>\n",
       "\n",
       "<span> whether a word belongs to footnote text</span>\n",
       "\n",
       "</div>\n",
       "\n",
       "<div class=\"frow\">\n",
       "    <div class=\"fnamecat \">\n",
       "<a target=\"_blank\" href=\"https://github.com/clariah/wp6-missieven/blob/master/docs/transcription.md\" title=\"~/text-fabric-data/github/clariah/wp6-missieven/tf/1.0/isnum.tf\">isnum</a>\n",
       "</div>\n",
       "<div class=\"fmono\">int</div>\n",
       "\n",
       "<span> whether a word is the numerator in fraction, e.g. 1 in 1/4</span>\n",
       "\n",
       "</div>\n",
       "\n",
       "<div class=\"frow\">\n",
       "    <div class=\"fnamecat \">\n",
       "<a target=\"_blank\" href=\"https://github.com/clariah/wp6-missieven/blob/master/docs/transcription.md\" title=\"~/text-fabric-data/github/clariah/wp6-missieven/tf/1.0/isorig.tf\">isorig</a>\n",
       "</div>\n",
       "<div class=\"fmono\">int</div>\n",
       "\n",
       "<span> whether a word belongs to original text</span>\n",
       "\n",
       "</div>\n",
       "\n",
       "<div class=\"frow\">\n",
       "    <div class=\"fnamecat \">\n",
       "<a target=\"_blank\" href=\"https://github.com/clariah/wp6-missieven/blob/master/docs/transcription.md\" title=\"~/text-fabric-data/github/clariah/wp6-missieven/tf/1.0/isq.tf\">isq</a>\n",
       "</div>\n",
       "<div class=\"fmono\">int</div>\n",
       "\n",
       "<span> whether a word is a numerical fraction, e.g. 1/4</span>\n",
       "\n",
       "</div>\n",
       "\n",
       "<div class=\"frow\">\n",
       "    <div class=\"fnamecat \">\n",
       "<a target=\"_blank\" href=\"https://github.com/clariah/wp6-missieven/blob/master/docs/transcription.md\" title=\"~/text-fabric-data/github/clariah/wp6-missieven/tf/1.0/isref.tf\">isref</a>\n",
       "</div>\n",
       "<div class=\"fmono\">int</div>\n",
       "\n",
       "<span> whether a word belongs to the text of reference</span>\n",
       "\n",
       "</div>\n",
       "\n",
       "<div class=\"frow\">\n",
       "    <div class=\"fnamecat \">\n",
       "<a target=\"_blank\" href=\"https://github.com/clariah/wp6-missieven/blob/master/docs/transcription.md\" title=\"~/text-fabric-data/github/clariah/wp6-missieven/tf/1.0/isremark.tf\">isremark</a>\n",
       "</div>\n",
       "<div class=\"fmono\">int</div>\n",
       "\n",
       "<span> whether a word belongs to the text of editorial remarks</span>\n",
       "\n",
       "</div>\n",
       "\n",
       "<div class=\"frow\">\n",
       "    <div class=\"fnamecat \">\n",
       "<a target=\"_blank\" href=\"https://github.com/clariah/wp6-missieven/blob/master/docs/transcription.md\" title=\"~/text-fabric-data/github/clariah/wp6-missieven/tf/1.0/isspecial.tf\">isspecial</a>\n",
       "</div>\n",
       "<div class=\"fmono\">int</div>\n",
       "\n",
       "<span> whether a word has special typography possibly with OCR mistakes as well</span>\n",
       "\n",
       "</div>\n",
       "\n",
       "<div class=\"frow\">\n",
       "    <div class=\"fnamecat \">\n",
       "<a target=\"_blank\" href=\"https://github.com/clariah/wp6-missieven/blob/master/docs/transcription.md\" title=\"~/text-fabric-data/github/clariah/wp6-missieven/tf/1.0/issub.tf\">issub</a>\n",
       "</div>\n",
       "<div class=\"fmono\">int</div>\n",
       "\n",
       "<span> whether a word has subscript typography possibly indicating the denominator of a fraction</span>\n",
       "\n",
       "</div>\n",
       "\n",
       "<div class=\"frow\">\n",
       "    <div class=\"fnamecat \">\n",
       "<a target=\"_blank\" href=\"https://github.com/clariah/wp6-missieven/blob/master/docs/transcription.md\" title=\"~/text-fabric-data/github/clariah/wp6-missieven/tf/1.0/issuper.tf\">issuper</a>\n",
       "</div>\n",
       "<div class=\"fmono\">int</div>\n",
       "\n",
       "<span> whether a word has superscript typography possibly indicating the numerator of a fraction</span>\n",
       "\n",
       "</div>\n",
       "\n",
       "<div class=\"frow\">\n",
       "    <div class=\"fnamecat \">\n",
       "<a target=\"_blank\" href=\"https://github.com/clariah/wp6-missieven/blob/master/docs/transcription.md\" title=\"~/text-fabric-data/github/clariah/wp6-missieven/tf/1.0/isund.tf\">isund</a>\n",
       "</div>\n",
       "<div class=\"fmono\">str</div>\n",
       "\n",
       "<span> whether a word is underlined by typography</span>\n",
       "\n",
       "</div>\n",
       "\n",
       "<div class=\"frow\">\n",
       "    <div class=\"fnamecat \">\n",
       "<a target=\"_blank\" href=\"https://github.com/clariah/wp6-missieven/blob/master/docs/transcription.md\" title=\"~/text-fabric-data/github/clariah/wp6-missieven/tf/1.0/mark.tf\">mark</a>\n",
       "</div>\n",
       "<div class=\"fmono\">int</div>\n",
       "\n",
       "<span> footnote mark (not necessarily the same as shown on the printed page</span>\n",
       "\n",
       "</div>\n",
       "\n",
       "<div class=\"frow\">\n",
       "    <div class=\"fnamecat \">\n",
       "<a target=\"_blank\" href=\"https://github.com/clariah/wp6-missieven/blob/master/docs/transcription.md\" title=\"~/text-fabric-data/github/clariah/wp6-missieven/tf/1.0/month.tf\">month</a>\n",
       "</div>\n",
       "<div class=\"fmono\">int</div>\n",
       "\n",
       "<span> month part of the date of the letter</span>\n",
       "\n",
       "</div>\n",
       "\n",
       "<div class=\"frow\">\n",
       "    <div class=\"fnamecat \">\n",
       "<a target=\"_blank\" href=\"https://github.com/clariah/wp6-missieven/blob/master/docs/transcription.md\" title=\"~/text-fabric-data/github/clariah/wp6-missieven/tf/1.0/n.tf\">n</a>\n",
       "</div>\n",
       "<div class=\"fmono\">int</div>\n",
       "\n",
       "<span> number of a volume, letter, page, para, line, table</span>\n",
       "\n",
       "</div>\n",
       "\n",
       "<div class=\"frow\">\n",
       "    <div class=\"fnamecat \">\n",
       "<a target=\"_blank\" href=\"https://github.com/clariah/wp6-missieven/blob/master/docs/transcription.md\" title=\"~/text-fabric-data/github/clariah/wp6-missieven/tf/1.0/otype.tf\">otype</a>\n",
       "</div>\n",
       "<div class=\"fmono\">str</div>\n",
       "\n",
       "<span> </span>\n",
       "\n",
       "</div>\n",
       "\n",
       "<div class=\"frow\">\n",
       "    <div class=\"fnamecat \">\n",
       "<a target=\"_blank\" href=\"https://github.com/clariah/wp6-missieven/blob/master/docs/transcription.md\" title=\"~/text-fabric-data/github/clariah/wp6-missieven/tf/1.0/page.tf\">page</a>\n",
       "</div>\n",
       "<div class=\"fmono\">str</div>\n",
       "\n",
       "<span> number of the first page of this letter in this volume</span>\n",
       "\n",
       "</div>\n",
       "\n",
       "<div class=\"frow\">\n",
       "    <div class=\"fnamecat \">\n",
       "<a target=\"_blank\" href=\"https://github.com/clariah/wp6-missieven/blob/master/docs/transcription.md\" title=\"~/text-fabric-data/github/clariah/wp6-missieven/tf/1.0/place.tf\">place</a>\n",
       "</div>\n",
       "<div class=\"fmono\">str</div>\n",
       "\n",
       "<span> place from where the letter was sent</span>\n",
       "\n",
       "</div>\n",
       "\n",
       "<div class=\"frow\">\n",
       "    <div class=\"fnamecat \">\n",
       "<a target=\"_blank\" href=\"https://github.com/clariah/wp6-missieven/blob/master/docs/transcription.md\" title=\"~/text-fabric-data/github/clariah/wp6-missieven/tf/1.0/punc.tf\">punc</a>\n",
       "</div>\n",
       "<div class=\"fmono\">str</div>\n",
       "\n",
       "<span> punctuation and/or whitespace following a wordup to the next word</span>\n",
       "\n",
       "</div>\n",
       "\n",
       "<div class=\"frow\">\n",
       "    <div class=\"fnamecat \">\n",
       "<a target=\"_blank\" href=\"https://github.com/clariah/wp6-missieven/blob/master/docs/transcription.md\" title=\"~/text-fabric-data/github/clariah/wp6-missieven/tf/1.0/puncn.tf\">puncn</a>\n",
       "</div>\n",
       "<div class=\"fmono\">str</div>\n",
       "\n",
       "<span> punctuation and/or whitespace following a word,up to the next word, footnote text only</span>\n",
       "\n",
       "</div>\n",
       "\n",
       "<div class=\"frow\">\n",
       "    <div class=\"fnamecat \">\n",
       "<a target=\"_blank\" href=\"https://github.com/clariah/wp6-missieven/blob/master/docs/transcription.md\" title=\"~/text-fabric-data/github/clariah/wp6-missieven/tf/1.0/punco.tf\">punco</a>\n",
       "</div>\n",
       "<div class=\"fmono\">str</div>\n",
       "\n",
       "<span> punctuation and/or whitespace following a word,up to the next word, original text only</span>\n",
       "\n",
       "</div>\n",
       "\n",
       "<div class=\"frow\">\n",
       "    <div class=\"fnamecat \">\n",
       "<a target=\"_blank\" href=\"https://github.com/clariah/wp6-missieven/blob/master/docs/transcription.md\" title=\"~/text-fabric-data/github/clariah/wp6-missieven/tf/1.0/puncr.tf\">puncr</a>\n",
       "</div>\n",
       "<div class=\"fmono\">str</div>\n",
       "\n",
       "<span> punctuation and/or whitespace following a word,up to the next word, remark text only</span>\n",
       "\n",
       "</div>\n",
       "\n",
       "<div class=\"frow\">\n",
       "    <div class=\"fnamecat \">\n",
       "<a target=\"_blank\" href=\"https://github.com/clariah/wp6-missieven/blob/master/docs/transcription.md\" title=\"~/text-fabric-data/github/clariah/wp6-missieven/tf/1.0/rawdate.tf\">rawdate</a>\n",
       "</div>\n",
       "<div class=\"fmono\">str</div>\n",
       "\n",
       "<span> the date the letter was sent</span>\n",
       "\n",
       "</div>\n",
       "\n",
       "<div class=\"frow\">\n",
       "    <div class=\"fnamecat \">\n",
       "<a target=\"_blank\" href=\"https://github.com/clariah/wp6-missieven/blob/master/docs/transcription.md\" title=\"~/text-fabric-data/github/clariah/wp6-missieven/tf/1.0/row.tf\">row</a>\n",
       "</div>\n",
       "<div class=\"fmono\">int</div>\n",
       "\n",
       "<span> row number of a row of column in a table</span>\n",
       "\n",
       "</div>\n",
       "\n",
       "<div class=\"frow\">\n",
       "    <div class=\"fnamecat \">\n",
       "<a target=\"_blank\" href=\"https://github.com/clariah/wp6-missieven/blob/master/docs/transcription.md\" title=\"~/text-fabric-data/github/clariah/wp6-missieven/tf/1.0/seq.tf\">seq</a>\n",
       "</div>\n",
       "<div class=\"fmono\">str</div>\n",
       "\n",
       "<span> ('sequence number of this letter among the letters of the same author in this volume',)</span>\n",
       "\n",
       "</div>\n",
       "\n",
       "<div class=\"frow\">\n",
       "    <div class=\"fnamecat \">\n",
       "<a target=\"_blank\" href=\"https://github.com/clariah/wp6-missieven/blob/master/docs/transcription.md\" title=\"~/text-fabric-data/github/clariah/wp6-missieven/tf/1.0/status.tf\">status</a>\n",
       "</div>\n",
       "<div class=\"fmono\">str</div>\n",
       "\n",
       "<span> status of the letter, e.g. secret, copy</span>\n",
       "\n",
       "</div>\n",
       "\n",
       "<div class=\"frow\">\n",
       "    <div class=\"fnamecat \">\n",
       "<a target=\"_blank\" href=\"https://github.com/clariah/wp6-missieven/blob/master/docs/transcription.md\" title=\"~/text-fabric-data/github/clariah/wp6-missieven/tf/1.0/title.tf\">title</a>\n",
       "</div>\n",
       "<div class=\"fmono\">str</div>\n",
       "\n",
       "<span> title of the letter</span>\n",
       "\n",
       "</div>\n",
       "\n",
       "<div class=\"frow\">\n",
       "    <div class=\"fnamecat \">\n",
       "<a target=\"_blank\" href=\"https://github.com/clariah/wp6-missieven/blob/master/docs/transcription.md\" title=\"~/text-fabric-data/github/clariah/wp6-missieven/tf/1.0/trans.tf\">trans</a>\n",
       "</div>\n",
       "<div class=\"fmono\">str</div>\n",
       "\n",
       "<span> transcription of a word</span>\n",
       "\n",
       "</div>\n",
       "\n",
       "<div class=\"frow\">\n",
       "    <div class=\"fnamecat \">\n",
       "<a target=\"_blank\" href=\"https://github.com/clariah/wp6-missieven/blob/master/docs/transcription.md\" title=\"~/text-fabric-data/github/clariah/wp6-missieven/tf/1.0/transn.tf\">transn</a>\n",
       "</div>\n",
       "<div class=\"fmono\">str</div>\n",
       "\n",
       "<span> transcription of a word, only for footnote text</span>\n",
       "\n",
       "</div>\n",
       "\n",
       "<div class=\"frow\">\n",
       "    <div class=\"fnamecat \">\n",
       "<a target=\"_blank\" href=\"https://github.com/clariah/wp6-missieven/blob/master/docs/transcription.md\" title=\"~/text-fabric-data/github/clariah/wp6-missieven/tf/1.0/transo.tf\">transo</a>\n",
       "</div>\n",
       "<div class=\"fmono\">str</div>\n",
       "\n",
       "<span> transcription of a word, only for original text</span>\n",
       "\n",
       "</div>\n",
       "\n",
       "<div class=\"frow\">\n",
       "    <div class=\"fnamecat \">\n",
       "<a target=\"_blank\" href=\"https://github.com/clariah/wp6-missieven/blob/master/docs/transcription.md\" title=\"~/text-fabric-data/github/clariah/wp6-missieven/tf/1.0/transr.tf\">transr</a>\n",
       "</div>\n",
       "<div class=\"fmono\">str</div>\n",
       "\n",
       "<span> transcription of a word, only for remark text</span>\n",
       "\n",
       "</div>\n",
       "\n",
       "<div class=\"frow\">\n",
       "    <div class=\"fnamecat \">\n",
       "<a target=\"_blank\" href=\"https://github.com/clariah/wp6-missieven/blob/master/docs/transcription.md\" title=\"~/text-fabric-data/github/clariah/wp6-missieven/tf/1.0/vol.tf\">vol</a>\n",
       "</div>\n",
       "<div class=\"fmono\">int</div>\n",
       "\n",
       "<span> volume number</span>\n",
       "\n",
       "</div>\n",
       "\n",
       "<div class=\"frow\">\n",
       "    <div class=\"fnamecat \">\n",
       "<a target=\"_blank\" href=\"https://github.com/clariah/wp6-missieven/blob/master/docs/transcription.md\" title=\"~/text-fabric-data/github/clariah/wp6-missieven/tf/1.0/weblink.tf\">weblink</a>\n",
       "</div>\n",
       "<div class=\"fmono\">str</div>\n",
       "\n",
       "<span> the page-specific part of web links for page nodes</span>\n",
       "\n",
       "</div>\n",
       "\n",
       "<div class=\"frow\">\n",
       "    <div class=\"fnamecat \">\n",
       "<a target=\"_blank\" href=\"https://github.com/clariah/wp6-missieven/blob/master/docs/transcription.md\" title=\"~/text-fabric-data/github/clariah/wp6-missieven/tf/1.0/x.tf\">x</a>\n",
       "</div>\n",
       "<div class=\"fmono\">int</div>\n",
       "\n",
       "<span> column offset of a column in a row in a table</span>\n",
       "\n",
       "</div>\n",
       "\n",
       "<div class=\"frow\">\n",
       "    <div class=\"fnamecat \">\n",
       "<a target=\"_blank\" href=\"https://github.com/clariah/wp6-missieven/blob/master/docs/transcription.md\" title=\"~/text-fabric-data/github/clariah/wp6-missieven/tf/1.0/year.tf\">year</a>\n",
       "</div>\n",
       "<div class=\"fmono\">int</div>\n",
       "\n",
       "<span> year part of the date of the letter</span>\n",
       "\n",
       "</div>\n",
       "\n",
       "<div class=\"frow\">\n",
       "    <div class=\"fnamecat edge\">\n",
       "<a target=\"_blank\" href=\"https://github.com/clariah/wp6-missieven/blob/master/docs/transcription.md\" title=\"~/text-fabric-data/github/clariah/wp6-missieven/tf/1.0/note.tf\">note</a>\n",
       "</div>\n",
       "<div class=\"fmono\">none</div>\n",
       "\n",
       "<span> edge between a word and the footnotes associated with it</span>\n",
       "\n",
       "</div>\n",
       "\n",
       "<div class=\"frow\">\n",
       "    <div class=\"fnamecat edge\">\n",
       "<a target=\"_blank\" href=\"https://github.com/clariah/wp6-missieven/blob/master/docs/transcription.md\" title=\"~/text-fabric-data/github/clariah/wp6-missieven/tf/1.0/oslots.tf\">oslots</a>\n",
       "</div>\n",
       "<div class=\"fmono\">none</div>\n",
       "\n",
       "<span> </span>\n",
       "\n",
       "</div>\n",
       "\n",
       "    </div>\n",
       "</details>\n"
      ],
      "text/plain": [
       "<IPython.core.display.HTML object>"
      ]
     },
     "metadata": {},
     "output_type": "display_data"
    },
    {
     "data": {
      "text/html": [
       "<style>tr.tf.ltr, td.tf.ltr, th.tf.ltr { text-align: left ! important;}\n",
       "tr.tf.rtl, td.tf.rtl, th.tf.rtl { text-align: right ! important;}\n",
       "@font-face {\n",
       "  font-family: \"Gentium Plus\";\n",
       "  src: local('Gentium Plus'), local('GentiumPlus'),\n",
       "    url('/server/static/fonts/GentiumPlus-R.woff') format('woff'),\n",
       "    url('https://github.com/annotation/text-fabric/blob/master/tf/server/static/fonts/GentiumPlus-R.woff?raw=true') format('woff');\n",
       "}\n",
       "\n",
       "@font-face {\n",
       "  font-family: \"Ezra SIL\";\n",
       "  src: local('Ezra SIL'), local('EzraSIL'),\n",
       "    url('/server/static/fonts/SILEOT.woff') format('woff'),\n",
       "    url('https://github.com/annotation/text-fabric/blob/master/tf/server/static/fonts/SILEOT.woff?raw=true') format('woff');\n",
       "}\n",
       "\n",
       "@font-face {\n",
       "  font-family: \"SBL Hebrew\";\n",
       "  src: local('SBL Hebrew'), local('SBLHebrew'),\n",
       "    url('/server/static/fonts/SBL_Hbrw.woff') format('woff'),\n",
       "    url('https://github.com/annotation/text-fabric/blob/master/tf/server/static/fonts/SBL_Hbrw.woff?raw=true') format('woff');\n",
       "}\n",
       "\n",
       "@font-face {\n",
       "  font-family: \"Estrangelo Edessa\";\n",
       "  src: local('Estrangelo Edessa'), local('EstrangeloEdessa');\n",
       "    url('/server/static/fonts/SyrCOMEdessa.woff') format('woff'),\n",
       "    url('https://github.com/annotation/text-fabric/blob/master/tf/server/static/fonts/SyrCOMEdessa.woff?raw=true') format('woff');\n",
       "}\n",
       "\n",
       "@font-face {\n",
       "  font-family: AmiriQuran;\n",
       "  font-style: normal;\n",
       "  font-weight: 400;\n",
       "  src: local('Amiri Quran'), local('AmiriQuran'),\n",
       "    url('/server/static/fonts/AmiriQuran.woff') format('woff'),\n",
       "    url('https://github.com/annotation/text-fabric/blob/master/tf/server/static/fonts/AmiriQuran.woff?raw=true') format('woff');\n",
       "}\n",
       "\n",
       "@font-face {\n",
       "  font-family: AmiriQuranColored;\n",
       "  font-style: normal;\n",
       "  font-weight: 400;\n",
       "  src: local('Amiri Quran Colored'), local('AmiriQuranColored'),\n",
       "    url('/server/static/fonts/AmiriQuranColored.woff') format('woff'),\n",
       "    url('https://github.com/annotation/text-fabric/blob/master/tf/server/static/fonts/AmiriQuranColored.woff?raw=true') format('woff');\n",
       "}\n",
       "\n",
       "@font-face {\n",
       "  font-family: \"Santakku\";\n",
       "  src: local('Santakku'),\n",
       "    url('/server/static/fonts/Santakku.woff') format('woff'),\n",
       "    url('https://github.com/annotation/text-fabric/blob/master/tf/server/static/fonts/Santakku.woff?raw=true') format('woff');\n",
       "}\n",
       "\n",
       "@font-face {\n",
       "  font-family: \"SantakkuM\";\n",
       "  src: local('SantakkuM'),\n",
       "    url('/server/static/fonts/SantakkuM.woff') format('woff'),\n",
       "    url('https://github.com/annotation/text-fabric/blob/master/tf/server/static/fonts/SantakkuM.woff?raw=true') format('woff');\n",
       "}\n",
       "/* bypassing some classical notebook settings */\n",
       "div#notebook {\n",
       "  line-height: unset;\n",
       "}\n",
       "/* neutral text */\n",
       ".txtn,.txtn a:visited,.txtn a:link {\n",
       "    font-family: sans-serif;\n",
       "    font-size: medium;\n",
       "    direction: ltr;\n",
       "    unicode-bidi: embed;\n",
       "    text-decoration: none;\n",
       "    color: var(--text-color);\n",
       "}\n",
       "/* transcription text */\n",
       ".txtt,.txtt a:visited,.txtt a:link {\n",
       "    font-family: monospace;\n",
       "    font-size: medium;\n",
       "    direction: ltr;\n",
       "    unicode-bidi: embed;\n",
       "    text-decoration: none;\n",
       "    color: var(--text-color);\n",
       "}\n",
       "/* source text */\n",
       ".txto,.txto a:visited,.txto a:link {\n",
       "    font-family: serif;\n",
       "    font-size: medium;\n",
       "    direction: ltr;\n",
       "    unicode-bidi: embed;\n",
       "    text-decoration: none;\n",
       "    color: var(--text-color);\n",
       "}\n",
       "/* phonetic text */\n",
       ".txtp,.txtp a:visited,.txtp a:link {\n",
       "    font-family: Gentium, sans-serif;\n",
       "    font-size: medium;\n",
       "    direction: ltr;\n",
       "    unicode-bidi: embed;\n",
       "    text-decoration: none;\n",
       "    color: var(--text-color);\n",
       "}\n",
       "/* original script text */\n",
       ".txtu,.txtu a:visited,.txtu a:link {\n",
       "    font-family: Gentium, sans-serif;\n",
       "    font-size: medium;\n",
       "    text-decoration: none;\n",
       "    color: var(--text-color);\n",
       "}\n",
       "/* hebrew */\n",
       ".txtu.hbo,.lex.hbo {\n",
       "    font-family: \"Ezra SIL\", \"SBL Hebrew\", sans-serif;\n",
       "    font-size: large;\n",
       "    direction: rtl ! important;\n",
       "    unicode-bidi: embed;\n",
       "}\n",
       "/* syriac */\n",
       ".txtu.syc,.lex.syc {\n",
       "    font-family: \"Estrangelo Edessa\", sans-serif;\n",
       "    font-size: medium;\n",
       "    direction: rtl ! important;\n",
       "    unicode-bidi: embed;\n",
       "}\n",
       "/* neo aramaic */\n",
       ".txtu.cld,.lex.cld {\n",
       "    font-family: \"CharisSIL-R\", sans-serif;\n",
       "    font-size: medium;\n",
       "    direction: ltr ! important;\n",
       "    unicode-bidi: embed;\n",
       "}\n",
       "/* standard arabic */\n",
       ".txtu.ara,.lex.ara {\n",
       "    font-family: \"AmiriQuran\", sans-serif;\n",
       "    font-size: large;\n",
       "    direction: rtl ! important;\n",
       "    unicode-bidi: embed;\n",
       "}\n",
       "/* cuneiform */\n",
       ".txtu.akk,.lex.akk {\n",
       "    font-family: Santakku, sans-serif;\n",
       "    font-size: large;\n",
       "    direction: ltr ! important;\n",
       "    unicode-bidi: embed;\n",
       "}\n",
       "/* greek */\n",
       ".txtu.grc,.lex.grc a:link {\n",
       "    font-family: Gentium, sans-serif;\n",
       "    font-size: medium;\n",
       "    direction: ltr ! important;\n",
       "    unicode-bidi: embed;\n",
       "}\n",
       "a:hover {\n",
       "    text-decoration: underline | important;\n",
       "    color: #0000ff | important;\n",
       "}\n",
       ".ltr {\n",
       "    direction: ltr ! important;\n",
       "    unicode-bidi: embed;\n",
       "}\n",
       ".rtl {\n",
       "    direction: rtl ! important;\n",
       "    unicode-bidi: embed;\n",
       "}\n",
       ".ubd {\n",
       "    unicode-bidi: embed;\n",
       "}\n",
       ".col {\n",
       "   display: inline-block;\n",
       "}\n",
       ".features {\n",
       "    font-family: monospace;\n",
       "    font-size: medium;\n",
       "    font-weight: bold;\n",
       "    color: var(--features);\n",
       "    display: flex;\n",
       "    flex-flow: column nowrap;\n",
       "    justify-content: flex-start;\n",
       "    align-items: flex-start;\n",
       "    align-content: flex-start;\n",
       "    padding: 2px;\n",
       "    margin: 2px;\n",
       "    direction: ltr;\n",
       "    unicode-bidi: embed;\n",
       "    border: var(--meta-width) solid var(--meta-color);\n",
       "    border-radius: var(--meta-width);\n",
       "}\n",
       ".features div,.features span {\n",
       "    padding: 0;\n",
       "    margin: -2px 0;\n",
       "}\n",
       ".features .f {\n",
       "    font-family: sans-serif;\n",
       "    font-size: small;\n",
       "    font-weight: normal;\n",
       "    color: #5555bb;\n",
       "}\n",
       ".features .xft {\n",
       "  color: #000000;\n",
       "  background-color: #eeeeee;\n",
       "  font-size: medium;\n",
       "  margin: 2px 0px;\n",
       "}\n",
       ".features .xft .f {\n",
       "  color: #000000;\n",
       "  background-color: #eeeeee;\n",
       "  font-size: small;\n",
       "  font-weight: normal;\n",
       "}\n",
       ".tfsechead {\n",
       "    font-family: sans-serif;\n",
       "    font-size: small;\n",
       "    font-weight: bold;\n",
       "    color: var(--tfsechead);\n",
       "    unicode-bidi: embed;\n",
       "    text-align: start;\n",
       "}\n",
       ".structure {\n",
       "    font-family: sans-serif;\n",
       "    font-size: small;\n",
       "    font-weight: bold;\n",
       "    color: var(--structure);\n",
       "    unicode-bidi: embed;\n",
       "    text-align: start;\n",
       "}\n",
       ".comments {\n",
       "    display: flex;\n",
       "    justify-content: flex-start;\n",
       "    align-items: flex-start;\n",
       "    align-content: flex-start;\n",
       "    flex-flow: column nowrap;\n",
       "}\n",
       ".nd, a:link.nd {\n",
       "    font-family: sans-serif;\n",
       "    font-size: small;\n",
       "    color: var(--node);\n",
       "    vertical-align: super;\n",
       "    direction: ltr ! important;\n",
       "    unicode-bidi: embed;\n",
       "}\n",
       ".lex {\n",
       "  color: var(--lex-color);;\n",
       "}\n",
       ".children,.children.ltr {\n",
       "    display: flex;\n",
       "    border: 0;\n",
       "    background-color: #ffffff;\n",
       "    justify-content: flex-start;\n",
       "    align-items: flex-start;\n",
       "    align-content: flex-start;\n",
       "}\n",
       ".children.stretch {\n",
       "    align-items: stretch;\n",
       "}\n",
       ".children.hor {\n",
       "    flex-flow: row nowrap;\n",
       "}\n",
       ".children.hor.wrap {\n",
       "    flex-flow: row wrap;\n",
       "}\n",
       ".children.ver {\n",
       "    flex-flow: column nowrap;\n",
       "}\n",
       ".children.ver.wrap {\n",
       "    flex-flow: column wrap;\n",
       "}\n",
       ".contnr {\n",
       "    width: fit-content;\n",
       "    display: flex;\n",
       "    justify-content: flex-start;\n",
       "    align-items: flex-start;\n",
       "    align-content: flex-start;\n",
       "    flex-flow: column nowrap;\n",
       "    background: #ffffff none repeat scroll 0 0;\n",
       "    padding:  10px 2px 2px 2px;\n",
       "    margin: 16px 2px 2px 2px;\n",
       "    border-style: solid;\n",
       "    font-size: small;\n",
       "}\n",
       ".contnr.trm {\n",
       "    background-attachment: local;\n",
       "}\n",
       ".contnr.cnul {\n",
       "    padding:  0;\n",
       "    margin: 0;\n",
       "    border-style: solid;\n",
       "    font-size: xx-small;\n",
       "}\n",
       ".contnr.cnul,.lbl.cnul {\n",
       "    border-color: var(--border-color-nul);\n",
       "    border-width: var(--border-width-nul);\n",
       "    border-radius: var(--border-width-nul);\n",
       "}\n",
       ".contnr.c0,.lbl.c0 {\n",
       "    border-color: var(--border-color0);\n",
       "    border-width: var(--border-width0);\n",
       "    border-radius: var(--border-width0);\n",
       "}\n",
       ".contnr.c1,.lbl.c1 {\n",
       "    border-color: var(--border-color1);\n",
       "    border-width: var(--border-width1);\n",
       "    border-radius: var(--border-width1);\n",
       "}\n",
       ".contnr.c2,.lbl.c2 {\n",
       "    border-color: var(--border-color2);\n",
       "    border-width: var(--border-width2);\n",
       "    border-radius: var(--border-width2);\n",
       "}\n",
       ".contnr.c3,.lbl.c3 {\n",
       "    border-color: var(--border-color3);\n",
       "    border-width: var(--border-width3);\n",
       "    border-radius: var(--border-width3);\n",
       "}\n",
       ".contnr.c4,.lbl.c4 {\n",
       "    border-color: var(--border-color4);\n",
       "    border-width: var(--border-width4);\n",
       "    border-radius: var(--border-width4);\n",
       "}\n",
       "span.plain {\n",
       "    display: inline-block;\n",
       "    white-space: pre-wrap;\n",
       "}\n",
       ".plain {\n",
       "    background-color: #ffffff;\n",
       "}\n",
       ".plain.l,.contnr.l,.contnr.l>.lbl {\n",
       "    border-left-style: dotted\n",
       "}\n",
       ".plain.r,.contnr.r,.contnr.r>.lbl {\n",
       "    border-right-style: dotted\n",
       "}\n",
       ".plain.lno,.contnr.lno,.contnr.lno>.lbl {\n",
       "    border-left-style: none\n",
       "}\n",
       ".plain.rno,.contnr.rno,.contnr.rno>.lbl {\n",
       "    border-right-style: none\n",
       "}\n",
       ".plain.l {\n",
       "    padding-left: 4px;\n",
       "    margin-left: 2px;\n",
       "    border-width: var(--border-width-plain);\n",
       "}\n",
       ".plain.r {\n",
       "    padding-right: 4px;\n",
       "    margin-right: 2px;\n",
       "    border-width: var(--border-width-plain);\n",
       "}\n",
       ".lbl {\n",
       "    font-family: monospace;\n",
       "    margin-top: -24px;\n",
       "    margin-left: 20px;\n",
       "    background: #ffffff none repeat scroll 0 0;\n",
       "    padding: 0 6px;\n",
       "    border-style: solid;\n",
       "    display: block;\n",
       "    color: var(--label)\n",
       "}\n",
       ".lbl.trm {\n",
       "    background-attachment: local;\n",
       "    margin-top: 2px;\n",
       "    margin-left: 2px;\n",
       "    padding: 2px 2px;\n",
       "    border-style: none;\n",
       "}\n",
       ".lbl.cnul {\n",
       "    font-size: xx-small;\n",
       "}\n",
       ".lbl.c0 {\n",
       "    font-size: small;\n",
       "}\n",
       ".lbl.c1 {\n",
       "    font-size: small;\n",
       "}\n",
       ".lbl.c2 {\n",
       "    font-size: medium;\n",
       "}\n",
       ".lbl.c3 {\n",
       "    font-size: medium;\n",
       "}\n",
       ".lbl.c4 {\n",
       "    font-size: large;\n",
       "}\n",
       ".occs, a:link.occs {\n",
       "    font-size: small;\n",
       "}\n",
       "\n",
       "/* PROVENANCE */\n",
       "\n",
       "div.prov {\n",
       "\tmargin: 40px;\n",
       "\tpadding: 20px;\n",
       "\tborder: 2px solid var(--fog-rim);\n",
       "}\n",
       "div.pline {\n",
       "\tdisplay: flex;\n",
       "\tflex-flow: row nowrap;\n",
       "\tjustify-content: stretch;\n",
       "\talign-items: baseline;\n",
       "}\n",
       "div.p2line {\n",
       "\tmargin-left: 2em;\n",
       "\tdisplay: flex;\n",
       "\tflex-flow: row nowrap;\n",
       "\tjustify-content: stretch;\n",
       "\talign-items: baseline;\n",
       "}\n",
       "div.psline {\n",
       "\tdisplay: flex;\n",
       "\tflex-flow: row nowrap;\n",
       "\tjustify-content: stretch;\n",
       "\talign-items: baseline;\n",
       "\tbackground-color: var(--gold-mist-back);\n",
       "}\n",
       "div.pname {\n",
       "\tflex: 0 0 5rem;\n",
       "\tfont-weight: bold;\n",
       "}\n",
       "div.pval {\n",
       "    flex: 1 1 auto;\n",
       "}\n",
       "\n",
       "/* KEYBOARD */\n",
       ".ccoff {\n",
       "  background-color: inherit;\n",
       "}\n",
       ".ccon {\n",
       "  background-color: yellow ! important;\n",
       "}\n",
       ".ccon,.ccoff {\n",
       "  padding-right: 0.1rem;\n",
       "  padding-left: 0.1rem;\n",
       "}\n",
       ".ccline {\n",
       "  font-size: xx-large;\n",
       "  font-weight: bold;\n",
       "}\n",
       "/* TF header */\n",
       "\n",
       "summary {\n",
       "  /* needed to override the normalize.less\n",
       "   * in the classical jupyter notebook\n",
       "   */\n",
       "  display: list-item ! important;\n",
       "}\n",
       "\n",
       ".fcorpus {\n",
       "  display: flex;\n",
       "  flex-flow: column nowrap;\n",
       "  justify-content: flex-start;\n",
       "  align-items: flex-start;\n",
       "  align-content: flex-start;\n",
       "}\n",
       ".frow {\n",
       "  display: flex;\n",
       "  flex-flow: row nowrap;\n",
       "  justify-content: flex-start;\n",
       "  align-items: flex-start;\n",
       "  align-content: flex-start;\n",
       "}\n",
       ".fmeta {\n",
       "  display: flex;\n",
       "  flex-flow: column nowrap;\n",
       "  justify-content: flex-start;\n",
       "  align-items: flex-start;\n",
       "  align-content: flex-start;\n",
       "}\n",
       ".fmetarow {\n",
       "  display: flex;\n",
       "  flex-flow: row nowrap;\n",
       "  justify-content: flex-start;\n",
       "  align-items: flex-start;\n",
       "  align-content: flex-start;\n",
       "}\n",
       ".fmetakey {\n",
       "  min-width: 10rem;\n",
       "  font-family: monospace;\n",
       "}\n",
       ".fnamecat {\n",
       "  min-width: 10rem;\n",
       "}\n",
       ".fnamecat.edge {\n",
       "  font-weight: bold;\n",
       "  font-style: italic;\n",
       "}\n",
       ".fmono {\n",
       "    font-family: monospace;\n",
       "}\n",
       "\n",
       ":root {\n",
       "\t--node:               hsla(120, 100%,  20%, 1.0  );\n",
       "\t--label:              hsla(  0, 100%,  20%, 1.0  );\n",
       "\t--tfsechead:          hsla(  0, 100%,  25%, 1.0  );\n",
       "\t--structure:          hsla(120, 100%,  25%, 1.0  );\n",
       "\t--features:           hsla(  0,   0%,  30%, 1.0  );\n",
       "  --text-color:         hsla( 60,  80%,  10%, 1.0  );\n",
       "  --lex-color:          hsla(220,  90%,  60%, 1.0  );\n",
       "  --meta-color:         hsla(  0,   0%,  90%, 0.7  );\n",
       "  --meta-width:         3px;\n",
       "  --border-color-nul:   hsla(  0,   0%,  90%, 0.5  );\n",
       "  --border-color0:      hsla(  0,   0%,  90%, 0.9  );\n",
       "  --border-color1:      hsla(  0,   0%,  80%, 0.9  );\n",
       "  --border-color2:      hsla(  0,   0%,  70%, 0.9  );\n",
       "  --border-color3:      hsla(  0,   0%,  80%, 0.8  );\n",
       "  --border-color4:      hsla(  0,   0%,  60%, 0.9  );\n",
       "  --border-width-nul:   2px;\n",
       "  --border-width0:      2px;\n",
       "  --border-width1:      3px;\n",
       "  --border-width2:      4px;\n",
       "  --border-width3:      6px;\n",
       "  --border-width4:      5px;\n",
       "  --border-width-plain: 2px;\n",
       "}\n",
       ".hl {\n",
       "  background-color: var(--hl-strong);\n",
       "}\n",
       "span.hl {\n",
       "\tbackground-color: var(--hl-strong);\n",
       "\tborder-width: 0;\n",
       "\tborder-radius: 2px;\n",
       "\tborder-style: solid;\n",
       "}\n",
       "div.contnr.hl,div.lbl.hl {\n",
       "  background-color: var(--hl-strong);\n",
       "}\n",
       "div.contnr.hl {\n",
       "  border-color: var(--hl-rim) ! important;\n",
       "\tborder-width: 4px ! important;\n",
       "}\n",
       "\n",
       "span.hlbx {\n",
       "\tborder-color: var(--hl-rim);\n",
       "\tborder-width: 4px ! important;\n",
       "\tborder-style: solid;\n",
       "\tborder-radius: 6px;\n",
       "  padding: 4px;\n",
       "  margin: 4px;\n",
       "}\n",
       "\n",
       "span.plain {\n",
       "  display: inline-block;\n",
       "  white-space: pre-wrap;\n",
       "}\n",
       "\n",
       ":root {\n",
       "\t--hl-strong:        hsla( 60, 100%,  70%, 0.9  );\n",
       "\t--hl-rim:           hsla( 55,  80%,  50%, 1.0  );\n",
       "}\n",
       ".remark {\n",
       "  font-size: large;\n",
       "  font-style: italic;\n",
       "}\n",
       ".folio {\n",
       "  font-size: small;\n",
       "  color: #668866;\n",
       "}\n",
       ".fmark:after {\n",
       "  font-size: small;\n",
       "  font-weight: bold;\n",
       "  vertical-align: super;\n",
       "  color: #ddaa22;\n",
       "}\n",
       ".note {\n",
       "  vertical-align: super;\n",
       "  font-size: small;\n",
       "  color: #774400;\n",
       "}\n",
       ".ref {\n",
       "  font-size: small;\n",
       "  font-weight: bold;\n",
       "  color: #666688;\n",
       "}\n",
       ".emph {\n",
       "  font-style: italic;\n",
       "}\n",
       ".und {\n",
       "  text-decoration: underline;\n",
       "}\n",
       ".q {\n",
       "  color: #777777;\n",
       "  font-weight: bold;\n",
       "}\n",
       ".num {\n",
       "  font-size: small;\n",
       "  vertical-align: super;\n",
       "}\n",
       ".den {\n",
       "  font-size: small;\n",
       "  vertical-align: sub;\n",
       "}\n",
       ".sub {\n",
       "  vertical-align: sub;\n",
       "}\n",
       ".super {\n",
       "  vertical-align: super;\n",
       "}\n",
       ".special {\n",
       "  font-family: monospace;\n",
       "  font-weight: bold;\n",
       "  color: #886666;\n",
       "}\n",
       "</style>"
      ],
      "text/plain": [
       "<IPython.core.display.HTML object>"
      ]
     },
     "metadata": {},
     "output_type": "display_data"
    },
    {
     "data": {
      "text/html": [
       "\n",
       "<script>\n",
       "const copyChar = (el, c) => {\n",
       "    for (const el of document.getElementsByClassName('ccon')) {\n",
       "        el.className = 'ccoff'\n",
       "    }\n",
       "    el.className = 'ccon'\n",
       "    navigator.clipboard.writeText(String.fromCharCode(c))\n",
       "}\n",
       "</script>\n"
      ],
      "text/plain": [
       "<IPython.core.display.HTML object>"
      ]
     },
     "metadata": {},
     "output_type": "display_data"
    },
    {
     "data": {
      "text/html": [
       "<div><b>Text-Fabric API:</b> names <a target=\"_blank\" href=\"https://annotation.github.io/text-fabric/tf/cheatsheet.html\" title=\"doc\">N F E L T S C TF</a> directly usable</div><hr>"
      ],
      "text/plain": [
       "<IPython.core.display.HTML object>"
      ]
     },
     "metadata": {},
     "output_type": "display_data"
    }
   ],
   "source": [
    "A = use(\"clariah/wp6-missieven\", hoist=globals())"
   ]
  },
  {
   "cell_type": "markdown",
   "metadata": {},
   "source": [
    "# Basic search command\n",
    "\n",
    "We start with the most simple form of issuing a query.\n",
    "Let's look for the words in volume 4, page 235, line 17\n",
    "\n",
    "All work involved in searching takes place under the hood."
   ]
  },
  {
   "cell_type": "code",
   "execution_count": 5,
   "metadata": {
    "ExecuteTime": {
     "end_time": "2018-05-24T07:46:55.998382Z",
     "start_time": "2018-05-24T07:46:55.137956Z"
    }
   },
   "outputs": [
    {
     "name": "stdout",
     "output_type": "stream",
     "text": [
      "  1.80s 61 results\n"
     ]
    },
    {
     "data": {
      "text/html": [
       "<table><tr class=\"tf ltr\"><th class=\"tf ltr\">n</th><th class=\"tf ltr\">p</th><th class=\"tf ltr\">word</th></tr>\n",
       "<tr class=\"tf ltr\"><td class=\"tf ltr\">1</td><td class=\"tf ltr\"><span class=\"tfsechead ltr\"><span class=\"ltr\"><a target=\"_blank\" href=\"http://resources.huygens.knaw.nl/retroboeken/generalemissiven/#page=254&amp;source=4\" title=\"Show this document on Huygens\" sec=\"4 239:1\">4 239:1</a></span></span></td><td class=\"tf ltr\"><span class=\" ubd\"><span class=\"plain   hl\" ><span class=\"txtu\">IV. </span></span></span></td></tr>\n",
       "<tr class=\"tf ltr\"><td class=\"tf ltr\">2</td><td class=\"tf ltr\"><span class=\"tfsechead ltr\"><span class=\"ltr\"><a target=\"_blank\" href=\"http://resources.huygens.knaw.nl/retroboeken/generalemissiven/#page=254&amp;source=4\" title=\"Show this document on Huygens\" sec=\"4 239:1\">4 239:1</a></span></span></td><td class=\"tf ltr\"><span class=\" ubd\"><span class=\"plain   hl\" ><span class=\"txtu\">RYCKLOFF </span></span></span></td></tr>\n",
       "<tr class=\"tf ltr\"><td class=\"tf ltr\">3</td><td class=\"tf ltr\"><span class=\"tfsechead ltr\"><span class=\"ltr\"><a target=\"_blank\" href=\"http://resources.huygens.knaw.nl/retroboeken/generalemissiven/#page=254&amp;source=4\" title=\"Show this document on Huygens\" sec=\"4 239:1\">4 239:1</a></span></span></td><td class=\"tf ltr\"><span class=\" ubd\"><span class=\"plain   hl\" ><span class=\"txtu\">VAN </span></span></span></td></tr>\n",
       "<tr class=\"tf ltr\"><td class=\"tf ltr\">4</td><td class=\"tf ltr\"><span class=\"tfsechead ltr\"><span class=\"ltr\"><a target=\"_blank\" href=\"http://resources.huygens.knaw.nl/retroboeken/generalemissiven/#page=254&amp;source=4\" title=\"Show this document on Huygens\" sec=\"4 239:1\">4 239:1</a></span></span></td><td class=\"tf ltr\"><span class=\" ubd\"><span class=\"plain   hl\" ><span class=\"txtu\">GOENS, </span></span></span></td></tr>\n",
       "<tr class=\"tf ltr\"><td class=\"tf ltr\">5</td><td class=\"tf ltr\"><span class=\"tfsechead ltr\"><span class=\"ltr\"><a target=\"_blank\" href=\"http://resources.huygens.knaw.nl/retroboeken/generalemissiven/#page=254&amp;source=4\" title=\"Show this document on Huygens\" sec=\"4 239:1\">4 239:1</a></span></span></td><td class=\"tf ltr\"><span class=\" ubd\"><span class=\"plain   hl\" ><span class=\"txtu\">CORNELIS </span></span></span></td></tr>\n",
       "<tr class=\"tf ltr\"><td class=\"tf ltr\">6</td><td class=\"tf ltr\"><span class=\"tfsechead ltr\"><span class=\"ltr\"><a target=\"_blank\" href=\"http://resources.huygens.knaw.nl/retroboeken/generalemissiven/#page=254&amp;source=4\" title=\"Show this document on Huygens\" sec=\"4 239:1\">4 239:1</a></span></span></td><td class=\"tf ltr\"><span class=\" ubd\"><span class=\"plain   hl\" ><span class=\"txtu\">SPEELMAN, </span></span></span></td></tr>\n",
       "<tr class=\"tf ltr\"><td class=\"tf ltr\">7</td><td class=\"tf ltr\"><span class=\"tfsechead ltr\"><span class=\"ltr\"><a target=\"_blank\" href=\"http://resources.huygens.knaw.nl/retroboeken/generalemissiven/#page=254&amp;source=4\" title=\"Show this document on Huygens\" sec=\"4 239:1\">4 239:1</a></span></span></td><td class=\"tf ltr\"><span class=\" ubd\"><span class=\"plain   hl\" ><span class=\"txtu\">WILLEM </span></span></span></td></tr>\n",
       "<tr class=\"tf ltr\"><td class=\"tf ltr\">8</td><td class=\"tf ltr\"><span class=\"tfsechead ltr\"><span class=\"ltr\"><a target=\"_blank\" href=\"http://resources.huygens.knaw.nl/retroboeken/generalemissiven/#page=254&amp;source=4\" title=\"Show this document on Huygens\" sec=\"4 239:1\">4 239:1</a></span></span></td><td class=\"tf ltr\"><span class=\" ubd\"><span class=\"plain   hl\" ><span class=\"txtu\">VAN </span></span></span></td></tr>\n",
       "<tr class=\"tf ltr\"><td class=\"tf ltr\">9</td><td class=\"tf ltr\"><span class=\"tfsechead ltr\"><span class=\"ltr\"><a target=\"_blank\" href=\"http://resources.huygens.knaw.nl/retroboeken/generalemissiven/#page=254&amp;source=4\" title=\"Show this document on Huygens\" sec=\"4 239:2\">4 239:2</a></span></span></td><td class=\"tf ltr\"><span class=\" ubd\"><span class=\"plain   hl\" ><span class=\"txtu\">OUTHOORN, </span></span></span></td></tr>\n",
       "<tr class=\"tf ltr\"><td class=\"tf ltr\">10</td><td class=\"tf ltr\"><span class=\"tfsechead ltr\"><span class=\"ltr\"><a target=\"_blank\" href=\"http://resources.huygens.knaw.nl/retroboeken/generalemissiven/#page=254&amp;source=4\" title=\"Show this document on Huygens\" sec=\"4 239:2\">4 239:2</a></span></span></td><td class=\"tf ltr\"><span class=\" ubd\"><span class=\"plain   hl\" ><span class=\"txtu\">JOANNES </span></span></span></td></tr>\n",
       "<tr class=\"tf ltr\"><td class=\"tf ltr\">11</td><td class=\"tf ltr\"><span class=\"tfsechead ltr\"><span class=\"ltr\"><a target=\"_blank\" href=\"http://resources.huygens.knaw.nl/retroboeken/generalemissiven/#page=254&amp;source=4\" title=\"Show this document on Huygens\" sec=\"4 239:2\">4 239:2</a></span></span></td><td class=\"tf ltr\"><span class=\" ubd\"><span class=\"plain   hl\" ><span class=\"txtu\">CAMPHUYS </span></span></span></td></tr>\n",
       "<tr class=\"tf ltr\"><td class=\"tf ltr\">12</td><td class=\"tf ltr\"><span class=\"tfsechead ltr\"><span class=\"ltr\"><a target=\"_blank\" href=\"http://resources.huygens.knaw.nl/retroboeken/generalemissiven/#page=254&amp;source=4\" title=\"Show this document on Huygens\" sec=\"4 239:2\">4 239:2</a></span></span></td><td class=\"tf ltr\"><span class=\" ubd\"><span class=\"plain   hl\" ><span class=\"txtu\">EN </span></span></span></td></tr>\n",
       "<tr class=\"tf ltr\"><td class=\"tf ltr\">13</td><td class=\"tf ltr\"><span class=\"tfsechead ltr\"><span class=\"ltr\"><a target=\"_blank\" href=\"http://resources.huygens.knaw.nl/retroboeken/generalemissiven/#page=254&amp;source=4\" title=\"Show this document on Huygens\" sec=\"4 239:2\">4 239:2</a></span></span></td><td class=\"tf ltr\"><span class=\" ubd\"><span class=\"plain   hl\" ><span class=\"txtu\">JACOB </span></span></span></td></tr>\n",
       "<tr class=\"tf ltr\"><td class=\"tf ltr\">14</td><td class=\"tf ltr\"><span class=\"tfsechead ltr\"><span class=\"ltr\"><a target=\"_blank\" href=\"http://resources.huygens.knaw.nl/retroboeken/generalemissiven/#page=254&amp;source=4\" title=\"Show this document on Huygens\" sec=\"4 239:2\">4 239:2</a></span></span></td><td class=\"tf ltr\"><span class=\" ubd\"><span class=\"plain   hl\" ><span class=\"txtu\">PITS, </span></span></span></td></tr>\n",
       "<tr class=\"tf ltr\"><td class=\"tf ltr\">15</td><td class=\"tf ltr\"><span class=\"tfsechead ltr\"><span class=\"ltr\"><a target=\"_blank\" href=\"http://resources.huygens.knaw.nl/retroboeken/generalemissiven/#page=254&amp;source=4\" title=\"Show this document on Huygens\" sec=\"4 239:2\">4 239:2</a></span></span></td><td class=\"tf ltr\"><span class=\" ubd\"><span class=\"plain   hl\" ><span class=\"txtu\">BATAVIA </span></span></span></td></tr>\n",
       "<tr class=\"tf ltr\"><td class=\"tf ltr\">16</td><td class=\"tf ltr\"><span class=\"tfsechead ltr\"><span class=\"ltr\"><a target=\"_blank\" href=\"http://resources.huygens.knaw.nl/retroboeken/generalemissiven/#page=254&amp;source=4\" title=\"Show this document on Huygens\" sec=\"4 239:2\">4 239:2</a></span></span></td><td class=\"tf ltr\"><span class=\" ubd\"><span class=\"plain   hl\" ><span class=\"txtu\">3 </span></span></span></td></tr>\n",
       "<tr class=\"tf ltr\"><td class=\"tf ltr\">17</td><td class=\"tf ltr\"><span class=\"tfsechead ltr\"><span class=\"ltr\"><a target=\"_blank\" href=\"http://resources.huygens.knaw.nl/retroboeken/generalemissiven/#page=254&amp;source=4\" title=\"Show this document on Huygens\" sec=\"4 239:2\">4 239:2</a></span></span></td><td class=\"tf ltr\"><span class=\" ubd\"><span class=\"plain   hl\" ><span class=\"txtu\">augustus </span></span></span></td></tr>\n",
       "<tr class=\"tf ltr\"><td class=\"tf ltr\">18</td><td class=\"tf ltr\"><span class=\"tfsechead ltr\"><span class=\"ltr\"><a target=\"_blank\" href=\"http://resources.huygens.knaw.nl/retroboeken/generalemissiven/#page=254&amp;source=4\" title=\"Show this document on Huygens\" sec=\"4 239:3\">4 239:3</a></span></span></td><td class=\"tf ltr\"><span class=\" ubd\"><span class=\"plain   hl\" ><span class=\"txtu\">1678. </span></span></span></td></tr>\n",
       "<tr class=\"tf ltr\"><td class=\"tf ltr\">19</td><td class=\"tf ltr\"><span class=\"tfsechead ltr\"><span class=\"ltr\"><a target=\"_blank\" href=\"http://resources.huygens.knaw.nl/retroboeken/generalemissiven/#page=254&amp;source=4\" title=\"Show this document on Huygens\" sec=\"4 239:4\">4 239:4</a></span></span></td><td class=\"tf ltr\"><span class=\" ubd\"><span class=\"plain   hl\" ><span class=\"txtu\">1212, </span></span></span></td></tr>\n",
       "<tr class=\"tf ltr\"><td class=\"tf ltr\">20</td><td class=\"tf ltr\"><span class=\"tfsechead ltr\"><span class=\"ltr\"><a target=\"_blank\" href=\"http://resources.huygens.knaw.nl/retroboeken/generalemissiven/#page=254&amp;source=4\" title=\"Show this document on Huygens\" sec=\"4 239:4\">4 239:4</a></span></span></td><td class=\"tf ltr\"><span class=\" ubd\"><span class=\"plain   hl\" ><span class=\"txtu\">fol. </span></span></span></td></tr>\n",
       "<tr class=\"tf ltr\"><td class=\"tf ltr\">21</td><td class=\"tf ltr\"><span class=\"tfsechead ltr\"><span class=\"ltr\"><a target=\"_blank\" href=\"http://resources.huygens.knaw.nl/retroboeken/generalemissiven/#page=254&amp;source=4\" title=\"Show this document on Huygens\" sec=\"4 239:4\">4 239:4</a></span></span></td><td class=\"tf ltr\"><span class=\" ubd\"><span class=\"plain   hl\" ><span class=\"txtu\">699-</span></span></span></td></tr>\n",
       "<tr class=\"tf ltr\"><td class=\"tf ltr\">22</td><td class=\"tf ltr\"><span class=\"tfsechead ltr\"><span class=\"ltr\"><a target=\"_blank\" href=\"http://resources.huygens.knaw.nl/retroboeken/generalemissiven/#page=254&amp;source=4\" title=\"Show this document on Huygens\" sec=\"4 239:4\">4 239:4</a></span></span></td><td class=\"tf ltr\"><span class=\" ubd\"><span class=\"plain   hl\" ><span class=\"txtu\">706, </span></span></span></td></tr>\n",
       "<tr class=\"tf ltr\"><td class=\"tf ltr\">23</td><td class=\"tf ltr\"><span class=\"tfsechead ltr\"><span class=\"ltr\"><a target=\"_blank\" href=\"http://resources.huygens.knaw.nl/retroboeken/generalemissiven/#page=254&amp;source=4\" title=\"Show this document on Huygens\" sec=\"4 239:4\">4 239:4</a></span></span></td><td class=\"tf ltr\"><span class=\" ubd\"><span class=\"plain   hl\" ><span class=\"txtu\">copie </span></span></span></td></tr>\n",
       "<tr class=\"tf ltr\"><td class=\"tf ltr\">24</td><td class=\"tf ltr\"><span class=\"tfsechead ltr\"><span class=\"ltr\"><a target=\"_blank\" href=\"http://resources.huygens.knaw.nl/retroboeken/generalemissiven/#page=254&amp;source=4\" title=\"Show this document on Huygens\" sec=\"4 239:4\">4 239:4</a></span></span></td><td class=\"tf ltr\"><span class=\" ubd\"><span class=\"plain   hl\" ><span class=\"txtu\">1220, </span></span></span></td></tr>\n",
       "<tr class=\"tf ltr\"><td class=\"tf ltr\">25</td><td class=\"tf ltr\"><span class=\"tfsechead ltr\"><span class=\"ltr\"><a target=\"_blank\" href=\"http://resources.huygens.knaw.nl/retroboeken/generalemissiven/#page=254&amp;source=4\" title=\"Show this document on Huygens\" sec=\"4 239:4\">4 239:4</a></span></span></td><td class=\"tf ltr\"><span class=\" ubd\"><span class=\"plain   hl\" ><span class=\"txtu\">fol. </span></span></span></td></tr>\n",
       "<tr class=\"tf ltr\"><td class=\"tf ltr\">26</td><td class=\"tf ltr\"><span class=\"tfsechead ltr\"><span class=\"ltr\"><a target=\"_blank\" href=\"http://resources.huygens.knaw.nl/retroboeken/generalemissiven/#page=254&amp;source=4\" title=\"Show this document on Huygens\" sec=\"4 239:4\">4 239:4</a></span></span></td><td class=\"tf ltr\"><span class=\" ubd\"><span class=\"plain   hl\" ><span class=\"txtu\">96-</span></span></span></td></tr>\n",
       "<tr class=\"tf ltr\"><td class=\"tf ltr\">27</td><td class=\"tf ltr\"><span class=\"tfsechead ltr\"><span class=\"ltr\"><a target=\"_blank\" href=\"http://resources.huygens.knaw.nl/retroboeken/generalemissiven/#page=254&amp;source=4\" title=\"Show this document on Huygens\" sec=\"4 239:4\">4 239:4</a></span></span></td><td class=\"tf ltr\"><span class=\" ubd\"><span class=\"plain   hl\" ><span class=\"txtu\">109 </span></span></span></td></tr>\n",
       "<tr class=\"tf ltr\"><td class=\"tf ltr\">28</td><td class=\"tf ltr\"><span class=\"tfsechead ltr\"><span class=\"ltr\"><a target=\"_blank\" href=\"http://resources.huygens.knaw.nl/retroboeken/generalemissiven/#page=254&amp;source=4\" title=\"Show this document on Huygens\" sec=\"4 239:5\">4 239:5</a></span></span></td><td class=\"tf ltr\"><span class=\" ubd\"><span class=\"plain   hl\" ><span class=\"txtu\">Met </span></span></span></td></tr>\n",
       "<tr class=\"tf ltr\"><td class=\"tf ltr\">29</td><td class=\"tf ltr\"><span class=\"tfsechead ltr\"><span class=\"ltr\"><a target=\"_blank\" href=\"http://resources.huygens.knaw.nl/retroboeken/generalemissiven/#page=254&amp;source=4\" title=\"Show this document on Huygens\" sec=\"4 239:5\">4 239:5</a></span></span></td><td class=\"tf ltr\"><span class=\" ubd\"><span class=\"plain   hl\" ><span class=\"txtu\">enige </span></span></span></td></tr>\n",
       "<tr class=\"tf ltr\"><td class=\"tf ltr\">30</td><td class=\"tf ltr\"><span class=\"tfsechead ltr\"><span class=\"ltr\"><a target=\"_blank\" href=\"http://resources.huygens.knaw.nl/retroboeken/generalemissiven/#page=254&amp;source=4\" title=\"Show this document on Huygens\" sec=\"4 239:5\">4 239:5</a></span></span></td><td class=\"tf ltr\"><span class=\" ubd\"><span class=\"plain   hl\" ><span class=\"txtu\">Engelse </span></span></span></td></tr>\n",
       "<tr class=\"tf ltr\"><td class=\"tf ltr\">31</td><td class=\"tf ltr\"><span class=\"tfsechead ltr\"><span class=\"ltr\"><a target=\"_blank\" href=\"http://resources.huygens.knaw.nl/retroboeken/generalemissiven/#page=254&amp;source=4\" title=\"Show this document on Huygens\" sec=\"4 239:5\">4 239:5</a></span></span></td><td class=\"tf ltr\"><span class=\" ubd\"><span class=\"plain   hl\" ><span class=\"txtu\">schepen </span></span></span></td></tr>\n",
       "<tr class=\"tf ltr\"><td class=\"tf ltr\">32</td><td class=\"tf ltr\"><span class=\"tfsechead ltr\"><span class=\"ltr\"><a target=\"_blank\" href=\"http://resources.huygens.knaw.nl/retroboeken/generalemissiven/#page=254&amp;source=4\" title=\"Show this document on Huygens\" sec=\"4 239:5\">4 239:5</a></span></span></td><td class=\"tf ltr\"><span class=\" ubd\"><span class=\"plain   hl\" ><span class=\"txtu\">uit </span></span></span></td></tr>\n",
       "<tr class=\"tf ltr\"><td class=\"tf ltr\">33</td><td class=\"tf ltr\"><span class=\"tfsechead ltr\"><span class=\"ltr\"><a target=\"_blank\" href=\"http://resources.huygens.knaw.nl/retroboeken/generalemissiven/#page=254&amp;source=4\" title=\"Show this document on Huygens\" sec=\"4 239:5\">4 239:5</a></span></span></td><td class=\"tf ltr\"><span class=\" ubd\"><span class=\"plain   hl\" ><span class=\"txtu\">Bantam </span></span></span></td></tr>\n",
       "<tr class=\"tf ltr\"><td class=\"tf ltr\">34</td><td class=\"tf ltr\"><span class=\"tfsechead ltr\"><span class=\"ltr\"><a target=\"_blank\" href=\"http://resources.huygens.knaw.nl/retroboeken/generalemissiven/#page=254&amp;source=4\" title=\"Show this document on Huygens\" sec=\"4 239:5\">4 239:5</a></span></span></td><td class=\"tf ltr\"><span class=\" ubd\"><span class=\"plain   hl\" ><span class=\"txtu\">verzonden. . </span></span></span></td></tr>\n",
       "<tr class=\"tf ltr\"><td class=\"tf ltr\">35</td><td class=\"tf ltr\"><span class=\"tfsechead ltr\"><span class=\"ltr\"><a target=\"_blank\" href=\"http://resources.huygens.knaw.nl/retroboeken/generalemissiven/#page=254&amp;source=4\" title=\"Show this document on Huygens\" sec=\"4 239:6\">4 239:6</a></span></span></td><td class=\"tf ltr\"><span class=\" ubd\"><span class=\"plain   hl\" ></span></span></td></tr>\n",
       "<tr class=\"tf ltr\"><td class=\"tf ltr\">36</td><td class=\"tf ltr\"><span class=\"tfsechead ltr\"><span class=\"ltr\"><a target=\"_blank\" href=\"http://resources.huygens.knaw.nl/retroboeken/generalemissiven/#page=254&amp;source=4\" title=\"Show this document on Huygens\" sec=\"4 239:7\">4 239:7</a></span></span></td><td class=\"tf ltr\"><span class=\" ubd\"><span class=\"plain   hl\" ><span class=\"txtu\">Vgl. </span></span></span></td></tr>\n",
       "<tr class=\"tf ltr\"><td class=\"tf ltr\">37</td><td class=\"tf ltr\"><span class=\"tfsechead ltr\"><span class=\"ltr\"><a target=\"_blank\" href=\"http://resources.huygens.knaw.nl/retroboeken/generalemissiven/#page=254&amp;source=4\" title=\"Show this document on Huygens\" sec=\"4 239:7\">4 239:7</a></span></span></td><td class=\"tf ltr\"><span class=\" ubd\"><span class=\"plain   hl\" ><span class=\"txtu\">Daghregisters </span></span></span></td></tr>\n",
       "<tr class=\"tf ltr\"><td class=\"tf ltr\">38</td><td class=\"tf ltr\"><span class=\"tfsechead ltr\"><span class=\"ltr\"><a target=\"_blank\" href=\"http://resources.huygens.knaw.nl/retroboeken/generalemissiven/#page=254&amp;source=4\" title=\"Show this document on Huygens\" sec=\"4 239:7\">4 239:7</a></span></span></td><td class=\"tf ltr\"><span class=\" ubd\"><span class=\"plain   hl\" ><span class=\"txtu\">1678, </span></span></span></td></tr>\n",
       "<tr class=\"tf ltr\"><td class=\"tf ltr\">39</td><td class=\"tf ltr\"><span class=\"tfsechead ltr\"><span class=\"ltr\"><a target=\"_blank\" href=\"http://resources.huygens.knaw.nl/retroboeken/generalemissiven/#page=254&amp;source=4\" title=\"Show this document on Huygens\" sec=\"4 239:7\">4 239:7</a></span></span></td><td class=\"tf ltr\"><span class=\" ubd\"><span class=\"plain   hl\" ><span class=\"txtu\">p. </span></span></span></td></tr>\n",
       "<tr class=\"tf ltr\"><td class=\"tf ltr\">40</td><td class=\"tf ltr\"><span class=\"tfsechead ltr\"><span class=\"ltr\"><a target=\"_blank\" href=\"http://resources.huygens.knaw.nl/retroboeken/generalemissiven/#page=254&amp;source=4\" title=\"Show this document on Huygens\" sec=\"4 239:7\">4 239:7</a></span></span></td><td class=\"tf ltr\"><span class=\" ubd\"><span class=\"plain   hl\" ><span class=\"txtu\">189-</span></span></span></td></tr>\n",
       "<tr class=\"tf ltr\"><td class=\"tf ltr\">41</td><td class=\"tf ltr\"><span class=\"tfsechead ltr\"><span class=\"ltr\"><a target=\"_blank\" href=\"http://resources.huygens.knaw.nl/retroboeken/generalemissiven/#page=254&amp;source=4\" title=\"Show this document on Huygens\" sec=\"4 239:7\">4 239:7</a></span></span></td><td class=\"tf ltr\"><span class=\" ubd\"><span class=\"plain   hl\" ><span class=\"txtu\">421</span></span></span></td></tr>\n",
       "<tr class=\"tf ltr\"><td class=\"tf ltr\">42</td><td class=\"tf ltr\"><span class=\"tfsechead ltr\"><span class=\"ltr\"><a target=\"_blank\" href=\"http://resources.huygens.knaw.nl/retroboeken/generalemissiven/#page=254&amp;source=4\" title=\"Show this document on Huygens\" sec=\"4 239:7\">4 239:7</a></span></span></td><td class=\"tf ltr\"><span class=\" ubd\"><span class=\"plain   hl\" ><span class=\"txtu\">het </span></span></span></td></tr>\n",
       "<tr class=\"tf ltr\"><td class=\"tf ltr\">43</td><td class=\"tf ltr\"><span class=\"tfsechead ltr\"><span class=\"ltr\"><a target=\"_blank\" href=\"http://resources.huygens.knaw.nl/retroboeken/generalemissiven/#page=254&amp;source=4\" title=\"Show this document on Huygens\" sec=\"4 239:7\">4 239:7</a></span></span></td><td class=\"tf ltr\"><span class=\" ubd\"><span class=\"plain   hl\" ><span class=\"txtu\">huurschip </span></span></span></td></tr>\n",
       "<tr class=\"tf ltr\"><td class=\"tf ltr\">44</td><td class=\"tf ltr\"><span class=\"tfsechead ltr\"><span class=\"ltr\"><a target=\"_blank\" href=\"http://resources.huygens.knaw.nl/retroboeken/generalemissiven/#page=254&amp;source=4\" title=\"Show this document on Huygens\" sec=\"4 239:7\">4 239:7</a></span></span></td><td class=\"tf ltr\"><span class=\" ubd\"><span class=\"plain   hl\" ><span class=\"txtu\">St. </span></span></span></td></tr>\n",
       "<tr class=\"tf ltr\"><td class=\"tf ltr\">45</td><td class=\"tf ltr\"><span class=\"tfsechead ltr\"><span class=\"ltr\"><a target=\"_blank\" href=\"http://resources.huygens.knaw.nl/retroboeken/generalemissiven/#page=254&amp;source=4\" title=\"Show this document on Huygens\" sec=\"4 239:7\">4 239:7</a></span></span></td><td class=\"tf ltr\"><span class=\" ubd\"><span class=\"plain   hl\" ><span class=\"txtu\">Andries </span></span></span></td></tr>\n",
       "<tr class=\"tf ltr\"><td class=\"tf ltr\">46</td><td class=\"tf ltr\"><span class=\"tfsechead ltr\"><span class=\"ltr\"><a target=\"_blank\" href=\"http://resources.huygens.knaw.nl/retroboeken/generalemissiven/#page=254&amp;source=4\" title=\"Show this document on Huygens\" sec=\"4 239:7\">4 239:7</a></span></span></td><td class=\"tf ltr\"><span class=\" ubd\"><span class=\"plain   hl\" ><span class=\"txtu\">kwam </span></span></span></td></tr>\n",
       "<tr class=\"tf ltr\"><td class=\"tf ltr\">47</td><td class=\"tf ltr\"><span class=\"tfsechead ltr\"><span class=\"ltr\"><a target=\"_blank\" href=\"http://resources.huygens.knaw.nl/retroboeken/generalemissiven/#page=254&amp;source=4\" title=\"Show this document on Huygens\" sec=\"4 239:7\">4 239:7</a></span></span></td><td class=\"tf ltr\"><span class=\" ubd\"><span class=\"plain   hl\" ><span class=\"txtu\">in </span></span></span></td></tr>\n",
       "<tr class=\"tf ltr\"><td class=\"tf ltr\">48</td><td class=\"tf ltr\"><span class=\"tfsechead ltr\"><span class=\"ltr\"><a target=\"_blank\" href=\"http://resources.huygens.knaw.nl/retroboeken/generalemissiven/#page=254&amp;source=4\" title=\"Show this document on Huygens\" sec=\"4 239:8\">4 239:8</a></span></span></td><td class=\"tf ltr\"><span class=\" ubd\"><span class=\"plain   hl\" ><span class=\"txtu\">slechte </span></span></span></td></tr>\n",
       "<tr class=\"tf ltr\"><td class=\"tf ltr\">49</td><td class=\"tf ltr\"><span class=\"tfsechead ltr\"><span class=\"ltr\"><a target=\"_blank\" href=\"http://resources.huygens.knaw.nl/retroboeken/generalemissiven/#page=254&amp;source=4\" title=\"Show this document on Huygens\" sec=\"4 239:8\">4 239:8</a></span></span></td><td class=\"tf ltr\"><span class=\" ubd\"><span class=\"plain   hl\" ><span class=\"txtu\">staat </span></span></span></td></tr>\n",
       "<tr class=\"tf ltr\"><td class=\"tf ltr\">50</td><td class=\"tf ltr\"><span class=\"tfsechead ltr\"><span class=\"ltr\"><a target=\"_blank\" href=\"http://resources.huygens.knaw.nl/retroboeken/generalemissiven/#page=254&amp;source=4\" title=\"Show this document on Huygens\" sec=\"4 239:8\">4 239:8</a></span></span></td><td class=\"tf ltr\"><span class=\" ubd\"><span class=\"plain   hl\" ><span class=\"txtu\">uit </span></span></span></td></tr>\n",
       "<tr class=\"tf ltr\"><td class=\"tf ltr\">51</td><td class=\"tf ltr\"><span class=\"tfsechead ltr\"><span class=\"ltr\"><a target=\"_blank\" href=\"http://resources.huygens.knaw.nl/retroboeken/generalemissiven/#page=254&amp;source=4\" title=\"Show this document on Huygens\" sec=\"4 239:8\">4 239:8</a></span></span></td><td class=\"tf ltr\"><span class=\" ubd\"><span class=\"plain   hl\" ><span class=\"txtu\">patria </span></span></span></td></tr>\n",
       "<tr class=\"tf ltr\"><td class=\"tf ltr\">52</td><td class=\"tf ltr\"><span class=\"tfsechead ltr\"><span class=\"ltr\"><a target=\"_blank\" href=\"http://resources.huygens.knaw.nl/retroboeken/generalemissiven/#page=254&amp;source=4\" title=\"Show this document on Huygens\" sec=\"4 239:8\">4 239:8</a></span></span></td><td class=\"tf ltr\"><span class=\" ubd\"><span class=\"plain   hl\" ><span class=\"txtu\">te </span></span></span></td></tr>\n",
       "<tr class=\"tf ltr\"><td class=\"tf ltr\">53</td><td class=\"tf ltr\"><span class=\"tfsechead ltr\"><span class=\"ltr\"><a target=\"_blank\" href=\"http://resources.huygens.knaw.nl/retroboeken/generalemissiven/#page=254&amp;source=4\" title=\"Show this document on Huygens\" sec=\"4 239:8\">4 239:8</a></span></span></td><td class=\"tf ltr\"><span class=\" ubd\"><span class=\"plain   hl\" ><span class=\"txtu\">Batavia </span></span></span></td></tr>\n",
       "<tr class=\"tf ltr\"><td class=\"tf ltr\">54</td><td class=\"tf ltr\"><span class=\"tfsechead ltr\"><span class=\"ltr\"><a target=\"_blank\" href=\"http://resources.huygens.knaw.nl/retroboeken/generalemissiven/#page=254&amp;source=4\" title=\"Show this document on Huygens\" sec=\"4 239:8\">4 239:8</a></span></span></td><td class=\"tf ltr\"><span class=\" ubd\"><span class=\"plain   hl\" ><span class=\"txtu\">en </span></span></span></td></tr>\n",
       "<tr class=\"tf ltr\"><td class=\"tf ltr\">55</td><td class=\"tf ltr\"><span class=\"tfsechead ltr\"><span class=\"ltr\"><a target=\"_blank\" href=\"http://resources.huygens.knaw.nl/retroboeken/generalemissiven/#page=254&amp;source=4\" title=\"Show this document on Huygens\" sec=\"4 239:8\">4 239:8</a></span></span></td><td class=\"tf ltr\"><span class=\" ubd\"><span class=\"plain   hl\" ><span class=\"txtu\">wordX </span></span></span></td></tr>\n",
       "<tr class=\"tf ltr\"><td class=\"tf ltr\">56</td><td class=\"tf ltr\"><span class=\"tfsechead ltr\"><span class=\"ltr\"><a target=\"_blank\" href=\"http://resources.huygens.knaw.nl/retroboeken/generalemissiven/#page=254&amp;source=4\" title=\"Show this document on Huygens\" sec=\"4 239:8\">4 239:8</a></span></span></td><td class=\"tf ltr\"><span class=\" ubd\"><span class=\"plain   hl\" ><span class=\"txtu\">op </span></span></span></td></tr>\n",
       "<tr class=\"tf ltr\"><td class=\"tf ltr\">57</td><td class=\"tf ltr\"><span class=\"tfsechead ltr\"><span class=\"ltr\"><a target=\"_blank\" href=\"http://resources.huygens.knaw.nl/retroboeken/generalemissiven/#page=254&amp;source=4\" title=\"Show this document on Huygens\" sec=\"4 239:8\">4 239:8</a></span></span></td><td class=\"tf ltr\"><span class=\" ubd\"><span class=\"plain   hl\" ><span class=\"txtu\">Onrust </span></span></span></td></tr>\n",
       "<tr class=\"tf ltr\"><td class=\"tf ltr\">58</td><td class=\"tf ltr\"><span class=\"tfsechead ltr\"><span class=\"ltr\"><a target=\"_blank\" href=\"http://resources.huygens.knaw.nl/retroboeken/generalemissiven/#page=254&amp;source=4\" title=\"Show this document on Huygens\" sec=\"4 239:8\">4 239:8</a></span></span></td><td class=\"tf ltr\"><span class=\" ubd\"><span class=\"plain   hl\" ><span class=\"txtu\">gerepareerd; </span></span></span></td></tr>\n",
       "<tr class=\"tf ltr\"><td class=\"tf ltr\">59</td><td class=\"tf ltr\"><span class=\"tfsechead ltr\"><span class=\"ltr\"><a target=\"_blank\" href=\"http://resources.huygens.knaw.nl/retroboeken/generalemissiven/#page=254&amp;source=4\" title=\"Show this document on Huygens\" sec=\"4 239:8\">4 239:8</a></span></span></td><td class=\"tf ltr\"><span class=\" ubd\"><span class=\"plain   hl\" ><span class=\"txtu\">grote </span></span></span></td></tr>\n",
       "<tr class=\"tf ltr\"><td class=\"tf ltr\">60</td><td class=\"tf ltr\"><span class=\"tfsechead ltr\"><span class=\"ltr\"><a target=\"_blank\" href=\"http://resources.huygens.knaw.nl/retroboeken/generalemissiven/#page=254&amp;source=4\" title=\"Show this document on Huygens\" sec=\"4 239:8\">4 239:8</a></span></span></td><td class=\"tf ltr\"><span class=\" ubd\"><span class=\"plain   hl\" ><span class=\"txtu\">sterfte </span></span></span></td></tr>\n",
       "<tr class=\"tf ltr\"><td class=\"tf ltr\">61</td><td class=\"tf ltr\"><span class=\"tfsechead ltr\"><span class=\"ltr\"><a target=\"_blank\" href=\"http://resources.huygens.knaw.nl/retroboeken/generalemissiven/#page=254&amp;source=4\" title=\"Show this document on Huygens\" sec=\"4 239:8\">4 239:8</a></span></span></td><td class=\"tf ltr\"><span class=\" ubd\"><span class=\"plain   hl\" ><span class=\"txtu\">op </span></span></span></td></tr></table>"
      ],
      "text/plain": [
       "<IPython.core.display.HTML object>"
      ]
     },
     "metadata": {},
     "output_type": "display_data"
    }
   ],
   "source": [
    "query = \"\"\"\n",
    "volume n=4\n",
    "  page n=239\n",
    "    line n<9\n",
    "      word\n",
    "\"\"\"\n",
    "results = A.search(query)\n",
    "A.table(results, skipCols=\"1 2 3\")"
   ]
  },
  {
   "cell_type": "markdown",
   "metadata": {},
   "source": [
    "The hyperlinks take us to the online image of this page at the Huygens institute.\n",
    "\n",
    "Note that we can choose start and/or end points in the results list."
   ]
  },
  {
   "cell_type": "code",
   "execution_count": 6,
   "metadata": {
    "ExecuteTime": {
     "end_time": "2018-05-24T07:47:03.299872Z",
     "start_time": "2018-05-24T07:47:03.261873Z"
    }
   },
   "outputs": [
    {
     "data": {
      "text/html": [
       "<table><tr class=\"tf ltr\"><th class=\"tf ltr\">n</th><th class=\"tf ltr\">p</th><th class=\"tf ltr\">line</th><th class=\"tf\">word</th></tr>\n",
       "<tr class=\"tf ltr\"><td class=\"tf ltr\">44</td><td class=\"tf ltr\"><span class=\"tfsechead ltr\"><span class=\"ltr\"><a target=\"_blank\" href=\"http://resources.huygens.knaw.nl/retroboeken/generalemissiven/#page=254&amp;source=4\" title=\"Show this document on Huygens\" sec=\"4 239:7\">4 239:7</a></span></span></td><td class=\"tf ltr\"><span class=\" ubd\"></span></td><td class=\"tf ltr\"><span class=\" ubd\"><span class=\"plain   hl\" ><span class=\"txtu\">St. </span></span></span></td></tr>\n",
       "<tr class=\"tf ltr\"><td class=\"tf ltr\">45</td><td class=\"tf ltr\"><span class=\"tfsechead ltr\"><span class=\"ltr\"><a target=\"_blank\" href=\"http://resources.huygens.knaw.nl/retroboeken/generalemissiven/#page=254&amp;source=4\" title=\"Show this document on Huygens\" sec=\"4 239:7\">4 239:7</a></span></span></td><td class=\"tf ltr\"><span class=\" ubd\"></span></td><td class=\"tf ltr\"><span class=\" ubd\"><span class=\"plain   hl\" ><span class=\"txtu\">Andries </span></span></span></td></tr>\n",
       "<tr class=\"tf ltr\"><td class=\"tf ltr\">46</td><td class=\"tf ltr\"><span class=\"tfsechead ltr\"><span class=\"ltr\"><a target=\"_blank\" href=\"http://resources.huygens.knaw.nl/retroboeken/generalemissiven/#page=254&amp;source=4\" title=\"Show this document on Huygens\" sec=\"4 239:7\">4 239:7</a></span></span></td><td class=\"tf ltr\"><span class=\" ubd\"></span></td><td class=\"tf ltr\"><span class=\" ubd\"><span class=\"plain   hl\" ><span class=\"txtu\">kwam </span></span></span></td></tr>\n",
       "<tr class=\"tf ltr\"><td class=\"tf ltr\">47</td><td class=\"tf ltr\"><span class=\"tfsechead ltr\"><span class=\"ltr\"><a target=\"_blank\" href=\"http://resources.huygens.knaw.nl/retroboeken/generalemissiven/#page=254&amp;source=4\" title=\"Show this document on Huygens\" sec=\"4 239:7\">4 239:7</a></span></span></td><td class=\"tf ltr\"><span class=\" ubd\"></span></td><td class=\"tf ltr\"><span class=\" ubd\"><span class=\"plain   hl\" ><span class=\"txtu\">in </span></span></span></td></tr>\n",
       "<tr class=\"tf ltr\"><td class=\"tf ltr\">48</td><td class=\"tf ltr\"><span class=\"tfsechead ltr\"><span class=\"ltr\"><a target=\"_blank\" href=\"http://resources.huygens.knaw.nl/retroboeken/generalemissiven/#page=254&amp;source=4\" title=\"Show this document on Huygens\" sec=\"4 239:8\">4 239:8</a></span></span></td><td class=\"tf ltr\"><span class=\" ubd\"></span></td><td class=\"tf ltr\"><span class=\" ubd\"><span class=\"plain   hl\" ><span class=\"txtu\">slechte </span></span></span></td></tr>\n",
       "<tr class=\"tf ltr\"><td class=\"tf ltr\">49</td><td class=\"tf ltr\"><span class=\"tfsechead ltr\"><span class=\"ltr\"><a target=\"_blank\" href=\"http://resources.huygens.knaw.nl/retroboeken/generalemissiven/#page=254&amp;source=4\" title=\"Show this document on Huygens\" sec=\"4 239:8\">4 239:8</a></span></span></td><td class=\"tf ltr\"><span class=\" ubd\"></span></td><td class=\"tf ltr\"><span class=\" ubd\"><span class=\"plain   hl\" ><span class=\"txtu\">staat </span></span></span></td></tr>\n",
       "<tr class=\"tf ltr\"><td class=\"tf ltr\">50</td><td class=\"tf ltr\"><span class=\"tfsechead ltr\"><span class=\"ltr\"><a target=\"_blank\" href=\"http://resources.huygens.knaw.nl/retroboeken/generalemissiven/#page=254&amp;source=4\" title=\"Show this document on Huygens\" sec=\"4 239:8\">4 239:8</a></span></span></td><td class=\"tf ltr\"><span class=\" ubd\"></span></td><td class=\"tf ltr\"><span class=\" ubd\"><span class=\"plain   hl\" ><span class=\"txtu\">uit </span></span></span></td></tr>\n",
       "<tr class=\"tf ltr\"><td class=\"tf ltr\">51</td><td class=\"tf ltr\"><span class=\"tfsechead ltr\"><span class=\"ltr\"><a target=\"_blank\" href=\"http://resources.huygens.knaw.nl/retroboeken/generalemissiven/#page=254&amp;source=4\" title=\"Show this document on Huygens\" sec=\"4 239:8\">4 239:8</a></span></span></td><td class=\"tf ltr\"><span class=\" ubd\"></span></td><td class=\"tf ltr\"><span class=\" ubd\"><span class=\"plain   hl\" ><span class=\"txtu\">patria </span></span></span></td></tr>\n",
       "<tr class=\"tf ltr\"><td class=\"tf ltr\">52</td><td class=\"tf ltr\"><span class=\"tfsechead ltr\"><span class=\"ltr\"><a target=\"_blank\" href=\"http://resources.huygens.knaw.nl/retroboeken/generalemissiven/#page=254&amp;source=4\" title=\"Show this document on Huygens\" sec=\"4 239:8\">4 239:8</a></span></span></td><td class=\"tf ltr\"><span class=\" ubd\"></span></td><td class=\"tf ltr\"><span class=\" ubd\"><span class=\"plain   hl\" ><span class=\"txtu\">te </span></span></span></td></tr>\n",
       "<tr class=\"tf ltr\"><td class=\"tf ltr\">53</td><td class=\"tf ltr\"><span class=\"tfsechead ltr\"><span class=\"ltr\"><a target=\"_blank\" href=\"http://resources.huygens.knaw.nl/retroboeken/generalemissiven/#page=254&amp;source=4\" title=\"Show this document on Huygens\" sec=\"4 239:8\">4 239:8</a></span></span></td><td class=\"tf ltr\"><span class=\" ubd\"></span></td><td class=\"tf ltr\"><span class=\" ubd\"><span class=\"plain   hl\" ><span class=\"txtu\">Batavia </span></span></span></td></tr></table>"
      ],
      "text/plain": [
       "<IPython.core.display.HTML object>"
      ]
     },
     "metadata": {},
     "output_type": "display_data"
    }
   ],
   "source": [
    "A.table(results, start=44, end=53, skipCols=\"1 2\")"
   ]
  },
  {
   "cell_type": "markdown",
   "metadata": {},
   "source": [
    "We can show the results more fully with `show()`."
   ]
  },
  {
   "cell_type": "code",
   "execution_count": 7,
   "metadata": {
    "ExecuteTime": {
     "end_time": "2018-05-24T07:47:06.875859Z",
     "start_time": "2018-05-24T07:47:06.757345Z"
    }
   },
   "outputs": [
    {
     "data": {
      "text/html": [
       "<p><b>line</b> <i>1</i>"
      ],
      "text/plain": [
       "<IPython.core.display.HTML object>"
      ]
     },
     "metadata": {},
     "output_type": "display_data"
    },
    {
     "data": {
      "text/html": [
       "<div class=\"tfsechead \"><span class=\"ltr\"><a target=\"_blank\" href=\"http://resources.huygens.knaw.nl/retroboeken/generalemissiven/#page=254&amp;source=4\" title=\"Show this document on Huygens\" sec=\"4 239:1\">4 239:1</a></span></div><div class=\" children\"><div class=\"contnr c3    \" ><div class=\"lbl c3  \" ><span class=\"nd\">line</span></div><div class='features'><span class=\"n xft\" ><span class=\"f\">n=</span>1</span></div><div class=\"children hor wrap \"><div class=\"contnr c0 trm   hl\" ><div class=\"lbl c0 trm hl\" ><span class=\"txtu\">IV. </span></div></div><div class=\"contnr c0 trm   hl\" ><div class=\"lbl c0 trm hl\" ><span class=\"txtu\">RYCKLOFF </span></div></div><div class=\"contnr c0 trm   hl\" ><div class=\"lbl c0 trm hl\" ><span class=\"txtu\">VAN </span></div></div><div class=\"contnr c0 trm   hl\" ><div class=\"lbl c0 trm hl\" ><span class=\"txtu\">GOENS, </span></div></div><div class=\"contnr c0 trm   hl\" ><div class=\"lbl c0 trm hl\" ><span class=\"txtu\">CORNELIS </span></div></div><div class=\"contnr c0 trm   hl\" ><div class=\"lbl c0 trm hl\" ><span class=\"txtu\">SPEELMAN, </span></div></div><div class=\"contnr c0 trm   hl\" ><div class=\"lbl c0 trm hl\" ><span class=\"txtu\">WILLEM </span></div></div><div class=\"contnr c0 trm   hl\" ><div class=\"lbl c0 trm hl\" ><span class=\"txtu\">VAN </span></div></div></div></div></div>"
      ],
      "text/plain": [
       "<IPython.core.display.HTML object>"
      ]
     },
     "metadata": {},
     "output_type": "display_data"
    },
    {
     "data": {
      "text/html": [
       "<p><b>line</b> <i>2</i>"
      ],
      "text/plain": [
       "<IPython.core.display.HTML object>"
      ]
     },
     "metadata": {},
     "output_type": "display_data"
    },
    {
     "data": {
      "text/html": [
       "<div class=\"tfsechead \"><span class=\"ltr\"><a target=\"_blank\" href=\"http://resources.huygens.knaw.nl/retroboeken/generalemissiven/#page=254&amp;source=4\" title=\"Show this document on Huygens\" sec=\"4 239:2\">4 239:2</a></span></div><div class=\" children\"><div class=\"contnr c3    \" ><div class=\"lbl c3  \" ><span class=\"nd\">line</span></div><div class='features'><span class=\"n xft\" ><span class=\"f\">n=</span>2</span></div><div class=\"children hor wrap \"><div class=\"contnr c0 trm   hl\" ><div class=\"lbl c0 trm hl\" ><span class=\"txtu\">OUTHOORN, </span></div></div><div class=\"contnr c0 trm   hl\" ><div class=\"lbl c0 trm hl\" ><span class=\"txtu\">JOANNES </span></div></div><div class=\"contnr c0 trm   hl\" ><div class=\"lbl c0 trm hl\" ><span class=\"txtu\">CAMPHUYS </span></div></div><div class=\"contnr c0 trm   hl\" ><div class=\"lbl c0 trm hl\" ><span class=\"txtu\">EN </span></div></div><div class=\"contnr c0 trm   hl\" ><div class=\"lbl c0 trm hl\" ><span class=\"txtu\">JACOB </span></div></div><div class=\"contnr c0 trm   hl\" ><div class=\"lbl c0 trm hl\" ><span class=\"txtu\">PITS, </span></div></div><div class=\"contnr c0 trm   hl\" ><div class=\"lbl c0 trm hl\" ><span class=\"txtu\">BATAVIA </span></div></div><div class=\"contnr c0 trm   hl\" ><div class=\"lbl c0 trm hl\" ><span class=\"txtu\">3 </span></div></div><div class=\"contnr c0 trm   hl\" ><div class=\"lbl c0 trm hl\" ><span class=\"txtu\">augustus </span></div></div></div></div></div>"
      ],
      "text/plain": [
       "<IPython.core.display.HTML object>"
      ]
     },
     "metadata": {},
     "output_type": "display_data"
    },
    {
     "data": {
      "text/html": [
       "<p><b>line</b> <i>3</i>"
      ],
      "text/plain": [
       "<IPython.core.display.HTML object>"
      ]
     },
     "metadata": {},
     "output_type": "display_data"
    },
    {
     "data": {
      "text/html": [
       "<div class=\"tfsechead \"><span class=\"ltr\"><a target=\"_blank\" href=\"http://resources.huygens.knaw.nl/retroboeken/generalemissiven/#page=254&amp;source=4\" title=\"Show this document on Huygens\" sec=\"4 239:3\">4 239:3</a></span></div><div class=\" children\"><div class=\"contnr c3    \" ><div class=\"lbl c3  \" ><span class=\"nd\">line</span></div><div class='features'><span class=\"n xft\" ><span class=\"f\">n=</span>3</span></div><div class=\"children hor wrap \"><div class=\"contnr c0 trm   hl\" ><div class=\"lbl c0 trm hl\" ><span class=\"txtu\">1678. </span></div></div></div></div></div>"
      ],
      "text/plain": [
       "<IPython.core.display.HTML object>"
      ]
     },
     "metadata": {},
     "output_type": "display_data"
    },
    {
     "data": {
      "text/html": [
       "<p><b>line</b> <i>4</i>"
      ],
      "text/plain": [
       "<IPython.core.display.HTML object>"
      ]
     },
     "metadata": {},
     "output_type": "display_data"
    },
    {
     "data": {
      "text/html": [
       "<div class=\"tfsechead \"><span class=\"ltr\"><a target=\"_blank\" href=\"http://resources.huygens.knaw.nl/retroboeken/generalemissiven/#page=254&amp;source=4\" title=\"Show this document on Huygens\" sec=\"4 239:4\">4 239:4</a></span></div><div class=\" children\"><div class=\"contnr c3    \" ><div class=\"lbl c3  \" ><span class=\"nd\">line</span></div><div class='features'><span class=\"n xft\" ><span class=\"f\">n=</span>4</span></div><div class=\"children hor wrap \"><div class=\"contnr c1    \" ><div class=\"lbl c1  \" ><span class=\"nd\">folio</span></div><div class=\"children hor wrap \"><div class=\"contnr c0 trm   hl\" ><div class=\"lbl c0 trm hl\" ><span class=\"txtu\">1212, </span></div></div><div class=\"contnr c0 trm   hl\" ><div class=\"lbl c0 trm hl\" ><span class=\"txtu\">fol. </span></div></div><div class=\"contnr c0 trm   hl\" ><div class=\"lbl c0 trm hl\" ><span class=\"txtu\">699-</span></div></div><div class=\"contnr c0 trm   hl\" ><div class=\"lbl c0 trm hl\" ><span class=\"txtu\">706, </span></div></div><div class=\"contnr c0 trm   hl\" ><div class=\"lbl c0 trm hl\" ><span class=\"txtu\">copie </span></div></div><div class=\"contnr c0 trm   hl\" ><div class=\"lbl c0 trm hl\" ><span class=\"txtu\">1220, </span></div></div><div class=\"contnr c0 trm   hl\" ><div class=\"lbl c0 trm hl\" ><span class=\"txtu\">fol. </span></div></div><div class=\"contnr c0 trm   hl\" ><div class=\"lbl c0 trm hl\" ><span class=\"txtu\">96-</span></div></div><div class=\"contnr c0 trm   hl\" ><div class=\"lbl c0 trm hl\" ><span class=\"txtu\">109 </span></div></div></div></div></div></div></div>"
      ],
      "text/plain": [
       "<IPython.core.display.HTML object>"
      ]
     },
     "metadata": {},
     "output_type": "display_data"
    },
    {
     "data": {
      "text/html": [
       "<p><b>line</b> <i>5</i>"
      ],
      "text/plain": [
       "<IPython.core.display.HTML object>"
      ]
     },
     "metadata": {},
     "output_type": "display_data"
    },
    {
     "data": {
      "text/html": [
       "<div class=\"tfsechead \"><span class=\"ltr\"><a target=\"_blank\" href=\"http://resources.huygens.knaw.nl/retroboeken/generalemissiven/#page=254&amp;source=4\" title=\"Show this document on Huygens\" sec=\"4 239:5\">4 239:5</a></span></div><div class=\" children\"><div class=\"contnr c3    \" ><div class=\"lbl c3  \" ><span class=\"nd\">line</span></div><div class='features'><span class=\"n xft\" ><span class=\"f\">n=</span>5</span></div><div class=\"children hor wrap \"><div class=\"contnr c0 trm   hl\" ><div class=\"lbl c0 trm hl\" ><span class=\"txtu\">Met </span></div></div><div class=\"contnr c0 trm   hl\" ><div class=\"lbl c0 trm hl\" ><span class=\"txtu\">enige </span></div></div><div class=\"contnr c0 trm   hl\" ><div class=\"lbl c0 trm hl\" ><span class=\"txtu\">Engelse </span></div></div><div class=\"contnr c0 trm   hl\" ><div class=\"lbl c0 trm hl\" ><span class=\"txtu\">schepen </span></div></div><div class=\"contnr c0 trm   hl\" ><div class=\"lbl c0 trm hl\" ><span class=\"txtu\">uit </span></div></div><div class=\"contnr c0 trm   hl\" ><div class=\"lbl c0 trm hl\" ><span class=\"txtu\">Bantam </span></div></div><div class=\"contnr c0 trm   hl\" ><div class=\"lbl c0 trm hl\" ><span class=\"txtu\">verzonden. . </span></div></div></div></div></div>"
      ],
      "text/plain": [
       "<IPython.core.display.HTML object>"
      ]
     },
     "metadata": {},
     "output_type": "display_data"
    },
    {
     "data": {
      "text/html": [
       "<p><b>line</b> <i>6</i>"
      ],
      "text/plain": [
       "<IPython.core.display.HTML object>"
      ]
     },
     "metadata": {},
     "output_type": "display_data"
    },
    {
     "data": {
      "text/html": [
       "<div class=\"tfsechead \"><span class=\"ltr\"><a target=\"_blank\" href=\"http://resources.huygens.knaw.nl/retroboeken/generalemissiven/#page=254&amp;source=4\" title=\"Show this document on Huygens\" sec=\"4 239:6\">4 239:6</a></span></div><div class=\" children\"><div class=\"contnr c3    \" ><div class=\"lbl c3  \" ><span class=\"nd\">line</span></div><div class='features'><span class=\"n xft\" ><span class=\"f\">n=</span>6</span></div><div class=\"children hor wrap \"><div class=\"contnr c0 trm   hl\" ></div></div></div></div>"
      ],
      "text/plain": [
       "<IPython.core.display.HTML object>"
      ]
     },
     "metadata": {},
     "output_type": "display_data"
    },
    {
     "data": {
      "text/html": [
       "<p><b>line</b> <i>7</i>"
      ],
      "text/plain": [
       "<IPython.core.display.HTML object>"
      ]
     },
     "metadata": {},
     "output_type": "display_data"
    },
    {
     "data": {
      "text/html": [
       "<div class=\"tfsechead \"><span class=\"ltr\"><a target=\"_blank\" href=\"http://resources.huygens.knaw.nl/retroboeken/generalemissiven/#page=254&amp;source=4\" title=\"Show this document on Huygens\" sec=\"4 239:7\">4 239:7</a></span></div><div class=\" children\"><div class=\"contnr c3    \" ><div class=\"lbl c3  \" ><span class=\"nd\">line</span></div><div class='features'><span class=\"n xft\" ><span class=\"f\">n=</span>7</span></div><div class=\"children hor wrap \"><div class=\"contnr c0 trm   hl\" ><div class=\"lbl c0 trm hl\" ><span class=\"txtu\">Vgl. </span></div></div><div class=\"contnr c0 trm   hl\" ><div class=\"lbl c0 trm hl\" ><span class=\"txtu\">Daghregisters </span></div></div><div class=\"contnr c0 trm   hl\" ><div class=\"lbl c0 trm hl\" ><span class=\"txtu\">1678, </span></div></div><div class=\"contnr c0 trm   hl\" ><div class=\"lbl c0 trm hl\" ><span class=\"txtu\">p. </span></div></div><div class=\"contnr c0 trm   hl\" ><div class=\"lbl c0 trm hl\" ><span class=\"txtu\">189-</span></div></div><div class=\"contnr c0 trm   hl\" ><div class=\"lbl c0 trm hl\" ><span class=\"txtu\">421</span></div></div><div class=\"contnr c0 trm   hl\" ><div class=\"lbl c0 trm hl\" ><span class=\"txtu\">het </span></div></div><div class=\"contnr c0 trm   hl\" ><div class=\"lbl c0 trm hl\" ><span class=\"txtu\">huurschip </span></div></div><div class=\"contnr c0 trm   hl\" ><div class=\"lbl c0 trm hl\" ><span class=\"txtu\">St. </span></div></div><div class=\"contnr c0 trm   hl\" ><div class=\"lbl c0 trm hl\" ><span class=\"txtu\">Andries </span></div></div><div class=\"contnr c0 trm   hl\" ><div class=\"lbl c0 trm hl\" ><span class=\"txtu\">kwam </span></div></div><div class=\"contnr c0 trm   hl\" ><div class=\"lbl c0 trm hl\" ><span class=\"txtu\">in </span></div></div></div></div></div>"
      ],
      "text/plain": [
       "<IPython.core.display.HTML object>"
      ]
     },
     "metadata": {},
     "output_type": "display_data"
    },
    {
     "data": {
      "text/html": [
       "<p><b>line</b> <i>8</i>"
      ],
      "text/plain": [
       "<IPython.core.display.HTML object>"
      ]
     },
     "metadata": {},
     "output_type": "display_data"
    },
    {
     "data": {
      "text/html": [
       "<div class=\"tfsechead \"><span class=\"ltr\"><a target=\"_blank\" href=\"http://resources.huygens.knaw.nl/retroboeken/generalemissiven/#page=254&amp;source=4\" title=\"Show this document on Huygens\" sec=\"4 239:8\">4 239:8</a></span></div><div class=\" children\"><div class=\"contnr c3    \" ><div class=\"lbl c3  \" ><span class=\"nd\">line</span></div><div class='features'><span class=\"n xft\" ><span class=\"f\">n=</span>8</span></div><div class=\"children hor wrap \"><div class=\"contnr c0 trm   hl\" ><div class=\"lbl c0 trm hl\" ><span class=\"txtu\">slechte </span></div></div><div class=\"contnr c0 trm   hl\" ><div class=\"lbl c0 trm hl\" ><span class=\"txtu\">staat </span></div></div><div class=\"contnr c0 trm   hl\" ><div class=\"lbl c0 trm hl\" ><span class=\"txtu\">uit </span></div></div><div class=\"contnr c0 trm   hl\" ><div class=\"lbl c0 trm hl\" ><span class=\"txtu\">patria </span></div></div><div class=\"contnr c0 trm   hl\" ><div class=\"lbl c0 trm hl\" ><span class=\"txtu\">te </span></div></div><div class=\"contnr c0 trm   hl\" ><div class=\"lbl c0 trm hl\" ><span class=\"txtu\">Batavia </span></div></div><div class=\"contnr c0 trm   hl\" ><div class=\"lbl c0 trm hl\" ><span class=\"txtu\">en </span></div></div><div class=\"contnr c0 trm   hl\" ><div class=\"lbl c0 trm hl\" ><span class=\"txtu\">wordX </span></div></div><div class=\"contnr c0 trm   hl\" ><div class=\"lbl c0 trm hl\" ><span class=\"txtu\">op </span></div></div><div class=\"contnr c0 trm   hl\" ><div class=\"lbl c0 trm hl\" ><span class=\"txtu\">Onrust </span></div></div><div class=\"contnr c0 trm   hl\" ><div class=\"lbl c0 trm hl\" ><span class=\"txtu\">gerepareerd; </span></div></div><div class=\"contnr c0 trm   hl\" ><div class=\"lbl c0 trm hl\" ><span class=\"txtu\">grote </span></div></div><div class=\"contnr c0 trm   hl\" ><div class=\"lbl c0 trm hl\" ><span class=\"txtu\">sterfte </span></div></div><div class=\"contnr c0 trm   hl\" ><div class=\"lbl c0 trm hl\" ><span class=\"txtu\">op </span></div></div></div></div></div>"
      ],
      "text/plain": [
       "<IPython.core.display.HTML object>"
      ]
     },
     "metadata": {},
     "output_type": "display_data"
    }
   ],
   "source": [
    "A.show(results, skipCols=\"1 2 3\", condensed=True, condenseType=\"line\")"
   ]
  },
  {
   "cell_type": "markdown",
   "metadata": {},
   "source": [
    "Now we pick all numerical words, or rather, words that contain a digit"
   ]
  },
  {
   "cell_type": "code",
   "execution_count": 8,
   "metadata": {
    "ExecuteTime": {
     "end_time": "2018-05-24T07:46:55.998382Z",
     "start_time": "2018-05-24T07:46:55.137956Z"
    }
   },
   "outputs": [
    {
     "name": "stdout",
     "output_type": "stream",
     "text": [
      "  2.97s 11 results\n"
     ]
    },
    {
     "data": {
      "text/html": [
       "<p><b>line</b> <i>1</i>"
      ],
      "text/plain": [
       "<IPython.core.display.HTML object>"
      ]
     },
     "metadata": {},
     "output_type": "display_data"
    },
    {
     "data": {
      "text/html": [
       "<div class=\"tfsechead \"><span class=\"ltr\"><a target=\"_blank\" href=\"http://resources.huygens.knaw.nl/retroboeken/generalemissiven/#page=254&amp;source=4\" title=\"Show this document on Huygens\" sec=\"4 239:2\">4 239:2</a></span></div><div class=\" children\"><div class=\"contnr c3    \" ><div class=\"lbl c3  \" ><span class=\"nd\">line</span></div><div class='features'><span class=\"n xft\" ><span class=\"f\">n=</span>2</span></div><div class=\"children hor wrap \"><div class=\"contnr c0 trm   \" ><div class=\"lbl c0 trm \" ><span class=\"txtu\">OUTHOORN, </span></div><div class='features'><span class=\"trans xft\" ><span class=\"f\">trans=</span>OUTHOORN</span></div></div><div class=\"contnr c0 trm   \" ><div class=\"lbl c0 trm \" ><span class=\"txtu\">JOANNES </span></div><div class='features'><span class=\"trans xft\" ><span class=\"f\">trans=</span>JOANNES</span></div></div><div class=\"contnr c0 trm   \" ><div class=\"lbl c0 trm \" ><span class=\"txtu\">CAMPHUYS </span></div><div class='features'><span class=\"trans xft\" ><span class=\"f\">trans=</span>CAMPHUYS</span></div></div><div class=\"contnr c0 trm   \" ><div class=\"lbl c0 trm \" ><span class=\"txtu\">EN </span></div><div class='features'><span class=\"trans xft\" ><span class=\"f\">trans=</span>EN</span></div></div><div class=\"contnr c0 trm   \" ><div class=\"lbl c0 trm \" ><span class=\"txtu\">JACOB </span></div><div class='features'><span class=\"trans xft\" ><span class=\"f\">trans=</span>JACOB</span></div></div><div class=\"contnr c0 trm   \" ><div class=\"lbl c0 trm \" ><span class=\"txtu\">PITS, </span></div><div class='features'><span class=\"trans xft\" ><span class=\"f\">trans=</span>PITS</span></div></div><div class=\"contnr c0 trm   \" ><div class=\"lbl c0 trm \" ><span class=\"txtu\">BATAVIA </span></div><div class='features'><span class=\"trans xft\" ><span class=\"f\">trans=</span>BATAVIA</span></div></div><div class=\"contnr c0 trm   hl\" ><div class=\"lbl c0 trm hl\" ><span class=\"txtu\">3 </span></div><div class='features'><span class=\"trans xft\" ><span class=\"f\">trans=</span>3</span></div></div><div class=\"contnr c0 trm   \" ><div class=\"lbl c0 trm \" ><span class=\"txtu\">augustus </span></div><div class='features'><span class=\"trans xft\" ><span class=\"f\">trans=</span>augustus</span></div></div></div></div></div>"
      ],
      "text/plain": [
       "<IPython.core.display.HTML object>"
      ]
     },
     "metadata": {},
     "output_type": "display_data"
    },
    {
     "data": {
      "text/html": [
       "<p><b>line</b> <i>2</i>"
      ],
      "text/plain": [
       "<IPython.core.display.HTML object>"
      ]
     },
     "metadata": {},
     "output_type": "display_data"
    },
    {
     "data": {
      "text/html": [
       "<div class=\"tfsechead \"><span class=\"ltr\"><a target=\"_blank\" href=\"http://resources.huygens.knaw.nl/retroboeken/generalemissiven/#page=254&amp;source=4\" title=\"Show this document on Huygens\" sec=\"4 239:3\">4 239:3</a></span></div><div class=\" children\"><div class=\"contnr c3    \" ><div class=\"lbl c3  \" ><span class=\"nd\">line</span></div><div class='features'><span class=\"n xft\" ><span class=\"f\">n=</span>3</span></div><div class=\"children hor wrap \"><div class=\"contnr c0 trm   hl\" ><div class=\"lbl c0 trm hl\" ><span class=\"txtu\">1678. </span></div><div class='features'><span class=\"trans xft\" ><span class=\"f\">trans=</span>1678</span></div></div></div></div></div>"
      ],
      "text/plain": [
       "<IPython.core.display.HTML object>"
      ]
     },
     "metadata": {},
     "output_type": "display_data"
    },
    {
     "data": {
      "text/html": [
       "<p><b>line</b> <i>3</i>"
      ],
      "text/plain": [
       "<IPython.core.display.HTML object>"
      ]
     },
     "metadata": {},
     "output_type": "display_data"
    },
    {
     "data": {
      "text/html": [
       "<div class=\"tfsechead \"><span class=\"ltr\"><a target=\"_blank\" href=\"http://resources.huygens.knaw.nl/retroboeken/generalemissiven/#page=254&amp;source=4\" title=\"Show this document on Huygens\" sec=\"4 239:4\">4 239:4</a></span></div><div class=\" children\"><div class=\"contnr c3    \" ><div class=\"lbl c3  \" ><span class=\"nd\">line</span></div><div class='features'><span class=\"n xft\" ><span class=\"f\">n=</span>4</span></div><div class=\"children hor wrap \"><div class=\"contnr c1    \" ><div class=\"lbl c1  \" ><span class=\"nd\">folio</span></div><div class=\"children hor wrap \"><div class=\"contnr c0 trm   hl\" ><div class=\"lbl c0 trm hl\" ><span class=\"txtu\">1212, </span></div><div class='features'><span class=\"trans xft\" ><span class=\"f\">trans=</span>1212</span></div></div><div class=\"contnr c0 trm   \" ><div class=\"lbl c0 trm \" ><span class=\"txtu\">fol. </span></div><div class='features'><span class=\"trans xft\" ><span class=\"f\">trans=</span>fol</span></div></div><div class=\"contnr c0 trm   hl\" ><div class=\"lbl c0 trm hl\" ><span class=\"txtu\">699-</span></div><div class='features'><span class=\"trans xft\" ><span class=\"f\">trans=</span>699</span></div></div><div class=\"contnr c0 trm   hl\" ><div class=\"lbl c0 trm hl\" ><span class=\"txtu\">706, </span></div><div class='features'><span class=\"trans xft\" ><span class=\"f\">trans=</span>706</span></div></div><div class=\"contnr c0 trm   \" ><div class=\"lbl c0 trm \" ><span class=\"txtu\">copie </span></div><div class='features'><span class=\"trans xft\" ><span class=\"f\">trans=</span>copie</span></div></div><div class=\"contnr c0 trm   hl\" ><div class=\"lbl c0 trm hl\" ><span class=\"txtu\">1220, </span></div><div class='features'><span class=\"trans xft\" ><span class=\"f\">trans=</span>1220</span></div></div><div class=\"contnr c0 trm   \" ><div class=\"lbl c0 trm \" ><span class=\"txtu\">fol. </span></div><div class='features'><span class=\"trans xft\" ><span class=\"f\">trans=</span>fol</span></div></div><div class=\"contnr c0 trm   hl\" ><div class=\"lbl c0 trm hl\" ><span class=\"txtu\">96-</span></div><div class='features'><span class=\"trans xft\" ><span class=\"f\">trans=</span>96</span></div></div><div class=\"contnr c0 trm   hl\" ><div class=\"lbl c0 trm hl\" ><span class=\"txtu\">109 </span></div><div class='features'><span class=\"trans xft\" ><span class=\"f\">trans=</span>109</span></div></div></div></div></div></div></div>"
      ],
      "text/plain": [
       "<IPython.core.display.HTML object>"
      ]
     },
     "metadata": {},
     "output_type": "display_data"
    },
    {
     "data": {
      "text/html": [
       "<p><b>line</b> <i>4</i>"
      ],
      "text/plain": [
       "<IPython.core.display.HTML object>"
      ]
     },
     "metadata": {},
     "output_type": "display_data"
    },
    {
     "data": {
      "text/html": [
       "<div class=\"tfsechead \"><span class=\"ltr\"><a target=\"_blank\" href=\"http://resources.huygens.knaw.nl/retroboeken/generalemissiven/#page=254&amp;source=4\" title=\"Show this document on Huygens\" sec=\"4 239:7\">4 239:7</a></span></div><div class=\" children\"><div class=\"contnr c3    \" ><div class=\"lbl c3  \" ><span class=\"nd\">line</span></div><div class='features'><span class=\"n xft\" ><span class=\"f\">n=</span>7</span></div><div class=\"children hor wrap \"><div class=\"contnr c0 trm   \" ><div class=\"lbl c0 trm \" ><span class=\"txtu\">Vgl. </span></div><div class='features'><span class=\"trans xft\" ><span class=\"f\">trans=</span>Vgl</span></div></div><div class=\"contnr c0 trm   \" ><div class=\"lbl c0 trm \" ><span class=\"txtu\">Daghregisters </span></div><div class='features'><span class=\"trans xft\" ><span class=\"f\">trans=</span>Daghregisters</span></div></div><div class=\"contnr c0 trm   hl\" ><div class=\"lbl c0 trm hl\" ><span class=\"txtu\">1678, </span></div><div class='features'><span class=\"trans xft\" ><span class=\"f\">trans=</span>1678</span></div></div><div class=\"contnr c0 trm   \" ><div class=\"lbl c0 trm \" ><span class=\"txtu\">p. </span></div><div class='features'><span class=\"trans xft\" ><span class=\"f\">trans=</span>p</span></div></div><div class=\"contnr c0 trm   hl\" ><div class=\"lbl c0 trm hl\" ><span class=\"txtu\">189-</span></div><div class='features'><span class=\"trans xft\" ><span class=\"f\">trans=</span>189</span></div></div><div class=\"contnr c0 trm   hl\" ><div class=\"lbl c0 trm hl\" ><span class=\"txtu\">421</span></div><div class='features'><span class=\"trans xft\" ><span class=\"f\">trans=</span>421</span></div></div><div class=\"contnr c0 trm   \" ><div class=\"lbl c0 trm \" ><span class=\"txtu\">het </span></div><div class='features'><span class=\"trans xft\" ><span class=\"f\">trans=</span>het</span></div></div><div class=\"contnr c0 trm   \" ><div class=\"lbl c0 trm \" ><span class=\"txtu\">huurschip </span></div><div class='features'><span class=\"trans xft\" ><span class=\"f\">trans=</span>huurschip</span></div></div><div class=\"contnr c0 trm   \" ><div class=\"lbl c0 trm \" ><span class=\"txtu\">St. </span></div><div class='features'><span class=\"trans xft\" ><span class=\"f\">trans=</span>St</span></div></div><div class=\"contnr c0 trm   \" ><div class=\"lbl c0 trm \" ><span class=\"txtu\">Andries </span></div><div class='features'><span class=\"trans xft\" ><span class=\"f\">trans=</span>Andries</span></div></div><div class=\"contnr c0 trm   \" ><div class=\"lbl c0 trm \" ><span class=\"txtu\">kwam </span></div><div class='features'><span class=\"trans xft\" ><span class=\"f\">trans=</span>kwam</span></div></div><div class=\"contnr c0 trm   \" ><div class=\"lbl c0 trm \" ><span class=\"txtu\">in </span></div><div class='features'><span class=\"trans xft\" ><span class=\"f\">trans=</span>in</span></div></div></div></div></div>"
      ],
      "text/plain": [
       "<IPython.core.display.HTML object>"
      ]
     },
     "metadata": {},
     "output_type": "display_data"
    }
   ],
   "source": [
    "query = \"\"\"\n",
    "volume n=4\n",
    "  page n=239\n",
    "    line n<9\n",
    "      word trans~[0-9]\n",
    "\"\"\"\n",
    "results = A.search(query)\n",
    "A.show(results, skipCols=\"1 2 3\", condensed=True)"
   ]
  },
  {
   "cell_type": "markdown",
   "metadata": {},
   "source": [
    "Lets look for all places where there is a remark by the editor:"
   ]
  },
  {
   "cell_type": "code",
   "execution_count": 9,
   "metadata": {
    "ExecuteTime": {
     "end_time": "2018-05-24T07:46:55.998382Z",
     "start_time": "2018-05-24T07:46:55.137956Z"
    }
   },
   "outputs": [
    {
     "name": "stdout",
     "output_type": "stream",
     "text": [
      "  2.63s 2349087 results\n"
     ]
    }
   ],
   "source": [
    "query = \"\"\"\n",
    "word isremark\n",
    "\"\"\"\n",
    "results = A.search(query)"
   ]
  },
  {
   "cell_type": "markdown",
   "metadata": {},
   "source": [
    "We can narrow down to the page we just inspected:"
   ]
  },
  {
   "cell_type": "code",
   "execution_count": 10,
   "metadata": {
    "ExecuteTime": {
     "end_time": "2018-05-24T07:46:55.998382Z",
     "start_time": "2018-05-24T07:46:55.137956Z"
    }
   },
   "outputs": [
    {
     "name": "stdout",
     "output_type": "stream",
     "text": [
      "  1.72s 198 results\n"
     ]
    }
   ],
   "source": [
    "query = \"\"\"\n",
    "volume n=4\n",
    "  page n=239\n",
    "    word isremark\n",
    "\"\"\"\n",
    "results = A.search(query)"
   ]
  },
  {
   "cell_type": "markdown",
   "metadata": {},
   "source": [
    "and show the results:"
   ]
  },
  {
   "cell_type": "code",
   "execution_count": 11,
   "metadata": {},
   "outputs": [
    {
     "data": {
      "text/html": [
       "<p><b>line</b> <i>1</i>"
      ],
      "text/plain": [
       "<IPython.core.display.HTML object>"
      ]
     },
     "metadata": {},
     "output_type": "display_data"
    },
    {
     "data": {
      "text/html": [
       "<div class=\"tfsechead \"><span class=\"ltr\"><a target=\"_blank\" href=\"http://resources.huygens.knaw.nl/retroboeken/generalemissiven/#page=254&amp;source=4\" title=\"Show this document on Huygens\" sec=\"4 239:7\">4 239:7</a></span></div><div class=\" children\"><div class=\"contnr c3    \" ><div class=\"lbl c3  \" ><span class=\"nd\">line</span></div><div class='features'><span class=\"n xft\" ><span class=\"f\">n=</span>7</span></div><div class=\"children hor wrap \"><div class=\"contnr c0 trm   hl\" ><div class=\"lbl c0 trm hl\" ><span class=\"txtu\">Vgl. </span></div><div class='features'><span class=\"isremark xft\" ><span class=\"f\">isremark=</span>1</span></div></div><div class=\"contnr c0 trm   hl\" ><div class=\"lbl c0 trm hl\" ><span class=\"txtu\">Daghregisters </span></div><div class='features'><span class=\"isremark xft\" ><span class=\"f\">isremark=</span>1</span></div></div><div class=\"contnr c0 trm   hl\" ><div class=\"lbl c0 trm hl\" ><span class=\"txtu\">1678, </span></div><div class='features'><span class=\"isremark xft\" ><span class=\"f\">isremark=</span>1</span></div></div><div class=\"contnr c0 trm   hl\" ><div class=\"lbl c0 trm hl\" ><span class=\"txtu\">p. </span></div><div class='features'><span class=\"isremark xft\" ><span class=\"f\">isremark=</span>1</span></div></div><div class=\"contnr c0 trm   hl\" ><div class=\"lbl c0 trm hl\" ><span class=\"txtu\">189-</span></div><div class='features'><span class=\"isremark xft\" ><span class=\"f\">isremark=</span>1</span></div></div><div class=\"contnr c0 trm   hl\" ><div class=\"lbl c0 trm hl\" ><span class=\"txtu\">421</span></div><div class='features'><span class=\"isremark xft\" ><span class=\"f\">isremark=</span>1</span></div></div><div class=\"contnr c0 trm   hl\" ><div class=\"lbl c0 trm hl\" ><span class=\"txtu\">het </span></div><div class='features'><span class=\"isremark xft\" ><span class=\"f\">isremark=</span>1</span></div></div><div class=\"contnr c0 trm   hl\" ><div class=\"lbl c0 trm hl\" ><span class=\"txtu\">huurschip </span></div><div class='features'><span class=\"isremark xft\" ><span class=\"f\">isremark=</span>1</span></div></div><div class=\"contnr c0 trm   hl\" ><div class=\"lbl c0 trm hl\" ><span class=\"txtu\">St. </span></div><div class='features'><span class=\"isremark xft\" ><span class=\"f\">isremark=</span>1</span></div></div><div class=\"contnr c0 trm   hl\" ><div class=\"lbl c0 trm hl\" ><span class=\"txtu\">Andries </span></div><div class='features'><span class=\"isremark xft\" ><span class=\"f\">isremark=</span>1</span></div></div><div class=\"contnr c0 trm   hl\" ><div class=\"lbl c0 trm hl\" ><span class=\"txtu\">kwam </span></div><div class='features'><span class=\"isremark xft\" ><span class=\"f\">isremark=</span>1</span></div></div><div class=\"contnr c0 trm   hl\" ><div class=\"lbl c0 trm hl\" ><span class=\"txtu\">in </span></div><div class='features'><span class=\"isremark xft\" ><span class=\"f\">isremark=</span>1</span></div></div></div></div></div>"
      ],
      "text/plain": [
       "<IPython.core.display.HTML object>"
      ]
     },
     "metadata": {},
     "output_type": "display_data"
    },
    {
     "data": {
      "text/html": [
       "<p><b>line</b> <i>2</i>"
      ],
      "text/plain": [
       "<IPython.core.display.HTML object>"
      ]
     },
     "metadata": {},
     "output_type": "display_data"
    },
    {
     "data": {
      "text/html": [
       "<div class=\"tfsechead \"><span class=\"ltr\"><a target=\"_blank\" href=\"http://resources.huygens.knaw.nl/retroboeken/generalemissiven/#page=254&amp;source=4\" title=\"Show this document on Huygens\" sec=\"4 239:8\">4 239:8</a></span></div><div class=\" children\"><div class=\"contnr c3    \" ><div class=\"lbl c3  \" ><span class=\"nd\">line</span></div><div class='features'><span class=\"n xft\" ><span class=\"f\">n=</span>8</span></div><div class=\"children hor wrap \"><div class=\"contnr c0 trm   hl\" ><div class=\"lbl c0 trm hl\" ><span class=\"txtu\">slechte </span></div><div class='features'><span class=\"isremark xft\" ><span class=\"f\">isremark=</span>1</span></div></div><div class=\"contnr c0 trm   hl\" ><div class=\"lbl c0 trm hl\" ><span class=\"txtu\">staat </span></div><div class='features'><span class=\"isremark xft\" ><span class=\"f\">isremark=</span>1</span></div></div><div class=\"contnr c0 trm   hl\" ><div class=\"lbl c0 trm hl\" ><span class=\"txtu\">uit </span></div><div class='features'><span class=\"isremark xft\" ><span class=\"f\">isremark=</span>1</span></div></div><div class=\"contnr c0 trm   hl\" ><div class=\"lbl c0 trm hl\" ><span class=\"txtu\">patria </span></div><div class='features'><span class=\"isremark xft\" ><span class=\"f\">isremark=</span>1</span></div></div><div class=\"contnr c0 trm   hl\" ><div class=\"lbl c0 trm hl\" ><span class=\"txtu\">te </span></div><div class='features'><span class=\"isremark xft\" ><span class=\"f\">isremark=</span>1</span></div></div><div class=\"contnr c0 trm   hl\" ><div class=\"lbl c0 trm hl\" ><span class=\"txtu\">Batavia </span></div><div class='features'><span class=\"isremark xft\" ><span class=\"f\">isremark=</span>1</span></div></div><div class=\"contnr c0 trm   hl\" ><div class=\"lbl c0 trm hl\" ><span class=\"txtu\">en </span></div><div class='features'><span class=\"isremark xft\" ><span class=\"f\">isremark=</span>1</span></div></div><div class=\"contnr c0 trm   hl\" ><div class=\"lbl c0 trm hl\" ><span class=\"txtu\">wordX </span></div><div class='features'><span class=\"isremark xft\" ><span class=\"f\">isremark=</span>1</span></div></div><div class=\"contnr c0 trm   hl\" ><div class=\"lbl c0 trm hl\" ><span class=\"txtu\">op </span></div><div class='features'><span class=\"isremark xft\" ><span class=\"f\">isremark=</span>1</span></div></div><div class=\"contnr c0 trm   hl\" ><div class=\"lbl c0 trm hl\" ><span class=\"txtu\">Onrust </span></div><div class='features'><span class=\"isremark xft\" ><span class=\"f\">isremark=</span>1</span></div></div><div class=\"contnr c0 trm   hl\" ><div class=\"lbl c0 trm hl\" ><span class=\"txtu\">gerepareerd; </span></div><div class='features'><span class=\"isremark xft\" ><span class=\"f\">isremark=</span>1</span></div></div><div class=\"contnr c0 trm   hl\" ><div class=\"lbl c0 trm hl\" ><span class=\"txtu\">grote </span></div><div class='features'><span class=\"isremark xft\" ><span class=\"f\">isremark=</span>1</span></div></div><div class=\"contnr c0 trm   hl\" ><div class=\"lbl c0 trm hl\" ><span class=\"txtu\">sterfte </span></div><div class='features'><span class=\"isremark xft\" ><span class=\"f\">isremark=</span>1</span></div></div><div class=\"contnr c0 trm   hl\" ><div class=\"lbl c0 trm hl\" ><span class=\"txtu\">op </span></div><div class='features'><span class=\"isremark xft\" ><span class=\"f\">isremark=</span>1</span></div></div></div></div></div>"
      ],
      "text/plain": [
       "<IPython.core.display.HTML object>"
      ]
     },
     "metadata": {},
     "output_type": "display_data"
    },
    {
     "data": {
      "text/html": [
       "<p><b>line</b> <i>3</i>"
      ],
      "text/plain": [
       "<IPython.core.display.HTML object>"
      ]
     },
     "metadata": {},
     "output_type": "display_data"
    },
    {
     "data": {
      "text/html": [
       "<div class=\"tfsechead \"><span class=\"ltr\"><a target=\"_blank\" href=\"http://resources.huygens.knaw.nl/retroboeken/generalemissiven/#page=254&amp;source=4\" title=\"Show this document on Huygens\" sec=\"4 239:9\">4 239:9</a></span></div><div class=\" children\"><div class=\"contnr c3    \" ><div class=\"lbl c3  \" ><span class=\"nd\">line</span></div><div class='features'><span class=\"n xft\" ><span class=\"f\">n=</span>9</span></div><div class=\"children hor wrap \"><div class=\"contnr c0 trm   hl\" ><div class=\"lbl c0 trm hl\" ><span class=\"txtu\">Temate; </span></div><div class='features'><span class=\"isremark xft\" ><span class=\"f\">isremark=</span>1</span></div></div><div class=\"contnr c0 trm   hl\" ><div class=\"lbl c0 trm hl\" ><span class=\"txtu\">de </span></div><div class='features'><span class=\"isremark xft\" ><span class=\"f\">isremark=</span>1</span></div></div><div class=\"contnr c0 trm   hl\" ><div class=\"lbl c0 trm hl\" ><span class=\"txtu\">Koning </span></div><div class='features'><span class=\"isremark xft\" ><span class=\"f\">isremark=</span>1</span></div></div><div class=\"contnr c0 trm   hl\" ><div class=\"lbl c0 trm hl\" ><span class=\"txtu\">veroverde </span></div><div class='features'><span class=\"isremark xft\" ><span class=\"f\">isremark=</span>1</span></div></div><div class=\"contnr c0 trm   hl\" ><div class=\"lbl c0 trm hl\" ><span class=\"txtu\">Siau, » </span></div><div class='features'><span class=\"isremark xft\" ><span class=\"f\">isremark=</span>1</span></div></div></div></div></div>"
      ],
      "text/plain": [
       "<IPython.core.display.HTML object>"
      ]
     },
     "metadata": {},
     "output_type": "display_data"
    },
    {
     "data": {
      "text/html": [
       "<p><b>line</b> <i>4</i>"
      ],
      "text/plain": [
       "<IPython.core.display.HTML object>"
      ]
     },
     "metadata": {},
     "output_type": "display_data"
    },
    {
     "data": {
      "text/html": [
       "<div class=\"tfsechead \"><span class=\"ltr\"><a target=\"_blank\" href=\"http://resources.huygens.knaw.nl/retroboeken/generalemissiven/#page=254&amp;source=4\" title=\"Show this document on Huygens\" sec=\"4 239:15\">4 239:15</a></span></div><div class=\" children\"><div class=\"contnr c3    \" ><div class=\"lbl c3  \" ><span class=\"nd\">line</span></div><div class='features'><span class=\"n xft\" ><span class=\"f\">n=</span>15</span></div><div class=\"children hor wrap \"><div class=\"contnr c0 trm   hl\" ><div class=\"lbl c0 trm hl\" ><span class=\"txtu\">De </span></div><div class='features'><span class=\"isremark xft\" ><span class=\"f\">isremark=</span>1</span></div></div><div class=\"contnr c0 trm   hl\" ><div class=\"lbl c0 trm hl\" ><span class=\"txtu\">contanten </span></div><div class='features'><span class=\"isremark xft\" ><span class=\"f\">isremark=</span>1</span></div></div><div class=\"contnr c0 trm   hl\" ><div class=\"lbl c0 trm hl\" ><span class=\"txtu\">uit </span></div><div class='features'><span class=\"isremark xft\" ><span class=\"f\">isremark=</span>1</span></div></div><div class=\"contnr c0 trm   hl\" ><div class=\"lbl c0 trm hl\" ><span class=\"txtu\">Europa </span></div><div class='features'><span class=\"isremark xft\" ><span class=\"f\">isremark=</span>1</span></div></div><div class=\"contnr c0 trm   hl\" ><div class=\"lbl c0 trm hl\" ><span class=\"txtu\">worden </span></div><div class='features'><span class=\"isremark xft\" ><span class=\"f\">isremark=</span>1</span></div></div><div class=\"contnr c0 trm   hl\" ><div class=\"lbl c0 trm hl\" ><span class=\"txtu\">naar </span></div><div class='features'><span class=\"isremark xft\" ><span class=\"f\">isremark=</span>1</span></div></div><div class=\"contnr c0 trm   hl\" ><div class=\"lbl c0 trm hl\" ><span class=\"txtu\">Coromandel </span></div><div class='features'><span class=\"isremark xft\" ><span class=\"f\">isremark=</span>1</span></div></div><div class=\"contnr c0 trm   hl\" ><div class=\"lbl c0 trm hl\" ><span class=\"txtu\">gezonden; </span></div><div class='features'><span class=\"isremark xft\" ><span class=\"f\">isremark=</span>1</span></div></div><div class=\"contnr c0 trm   hl\" ><div class=\"lbl c0 trm hl\" ><span class=\"txtu\">gewapend </span></div><div class='features'><span class=\"isremark xft\" ><span class=\"f\">isremark=</span>1</span></div></div><div class=\"contnr c0 trm   hl\" ><div class=\"lbl c0 trm hl\" ><span class=\"txtu\">optreden </span></div><div class='features'><span class=\"isremark xft\" ><span class=\"f\">isremark=</span>1</span></div></div></div></div></div>"
      ],
      "text/plain": [
       "<IPython.core.display.HTML object>"
      ]
     },
     "metadata": {},
     "output_type": "display_data"
    },
    {
     "data": {
      "text/html": [
       "<p><b>line</b> <i>5</i>"
      ],
      "text/plain": [
       "<IPython.core.display.HTML object>"
      ]
     },
     "metadata": {},
     "output_type": "display_data"
    },
    {
     "data": {
      "text/html": [
       "<div class=\"tfsechead \"><span class=\"ltr\"><a target=\"_blank\" href=\"http://resources.huygens.knaw.nl/retroboeken/generalemissiven/#page=254&amp;source=4\" title=\"Show this document on Huygens\" sec=\"4 239:16\">4 239:16</a></span></div><div class=\" children\"><div class=\"contnr c3    \" ><div class=\"lbl c3  \" ><span class=\"nd\">line</span></div><div class='features'><span class=\"n xft\" ><span class=\"f\">n=</span>16</span></div><div class=\"children hor wrap \"><div class=\"contnr c0 trm   hl\" ><div class=\"lbl c0 trm hl\" ><span class=\"txtu\">in </span></div><div class='features'><span class=\"isremark xft\" ><span class=\"f\">isremark=</span>1</span></div></div><div class=\"contnr c0 trm   hl\" ><div class=\"lbl c0 trm hl\" ><span class=\"txtu\">Mataram </span></div><div class='features'><span class=\"isremark xft\" ><span class=\"f\">isremark=</span>1</span></div></div><div class=\"contnr c0 trm   hl\" ><div class=\"lbl c0 trm hl\" ><span class=\"txtu\">noodzakelijker </span></div><div class='features'><span class=\"isremark xft\" ><span class=\"f\">isremark=</span>1</span></div></div><div class=\"contnr c0 trm   hl\" ><div class=\"lbl c0 trm hl\" ><span class=\"txtu\">dan </span></div><div class='features'><span class=\"isremark xft\" ><span class=\"f\">isremark=</span>1</span></div></div><div class=\"contnr c0 trm   hl\" ><div class=\"lbl c0 trm hl\" ><span class=\"txtu\">tegen </span></div><div class='features'><span class=\"isremark xft\" ><span class=\"f\">isremark=</span>1</span></div></div><div class=\"contnr c0 trm   hl\" ><div class=\"lbl c0 trm hl\" ><span class=\"txtu\">Bantam; </span></div><div class='features'><span class=\"isremark xft\" ><span class=\"f\">isremark=</span>1</span></div></div><div class=\"contnr c0 trm   hl\" ><div class=\"lbl c0 trm hl\" ><span class=\"txtu\">Speelman </span></div><div class='features'><span class=\"isremark xft\" ><span class=\"f\">isremark=</span>1</span></div></div><div class=\"contnr c0 trm   hl\" ><div class=\"lbl c0 trm hl\" ><span class=\"txtu\">zou </span></div><div class='features'><span class=\"isremark xft\" ><span class=\"f\">isremark=</span>1</span></div></div><div class=\"contnr c0 trm   hl\" ><div class=\"lbl c0 trm hl\" ><span class=\"txtu\">graag </span></div><div class='features'><span class=\"isremark xft\" ><span class=\"f\">isremark=</span>1</span></div></div><div class=\"contnr c0 trm   hl\" ><div class=\"lbl c0 trm hl\" ><span class=\"txtu\">daarvoor </span></div><div class='features'><span class=\"isremark xft\" ><span class=\"f\">isremark=</span>1</span></div></div><div class=\"contnr c0 trm   hl\" ><div class=\"lbl c0 trm hl\" ><span class=\"txtu\">gebruikt </span></div><div class='features'><span class=\"isremark xft\" ><span class=\"f\">isremark=</span>1</span></div></div></div></div></div>"
      ],
      "text/plain": [
       "<IPython.core.display.HTML object>"
      ]
     },
     "metadata": {},
     "output_type": "display_data"
    },
    {
     "data": {
      "text/html": [
       "<p><b>line</b> <i>6</i>"
      ],
      "text/plain": [
       "<IPython.core.display.HTML object>"
      ]
     },
     "metadata": {},
     "output_type": "display_data"
    },
    {
     "data": {
      "text/html": [
       "<div class=\"tfsechead \"><span class=\"ltr\"><a target=\"_blank\" href=\"http://resources.huygens.knaw.nl/retroboeken/generalemissiven/#page=254&amp;source=4\" title=\"Show this document on Huygens\" sec=\"4 239:17\">4 239:17</a></span></div><div class=\" children\"><div class=\"contnr c3    \" ><div class=\"lbl c3  \" ><span class=\"nd\">line</span></div><div class='features'><span class=\"n xft\" ><span class=\"f\">n=</span>17</span></div><div class=\"children hor wrap \"><div class=\"contnr c0 trm   hl\" ><div class=\"lbl c0 trm hl\" ><span class=\"txtu\">zijn, </span></div><div class='features'><span class=\"isremark xft\" ><span class=\"f\">isremark=</span>1</span></div></div><div class=\"contnr c0 trm   hl\" ><div class=\"lbl c0 trm hl\" ><span class=\"txtu\">maar </span></div><div class='features'><span class=\"isremark xft\" ><span class=\"f\">isremark=</span>1</span></div></div><div class=\"contnr c0 trm   hl\" ><div class=\"lbl c0 trm hl\" ><span class=\"txtu\">kan </span></div><div class='features'><span class=\"isremark xft\" ><span class=\"f\">isremark=</span>1</span></div></div><div class=\"contnr c0 trm   hl\" ><div class=\"lbl c0 trm hl\" ><span class=\"txtu\">als </span></div><div class='features'><span class=\"isremark xft\" ><span class=\"f\">isremark=</span>1</span></div></div><div class=\"contnr c0 trm   hl\" ><div class=\"lbl c0 trm hl\" ><span class=\"txtu\">Directeur-</span></div><div class='features'><span class=\"isremark xft\" ><span class=\"f\">isremark=</span>1</span></div></div><div class=\"contnr c0 trm   hl\" ><div class=\"lbl c0 trm hl\" ><span class=\"txtu\">Generaal </span></div><div class='features'><span class=\"isremark xft\" ><span class=\"f\">isremark=</span>1</span></div></div><div class=\"contnr c0 trm   hl\" ><div class=\"lbl c0 trm hl\" ><span class=\"txtu\">niet </span></div><div class='features'><span class=\"isremark xft\" ><span class=\"f\">isremark=</span>1</span></div></div><div class=\"contnr c0 trm   hl\" ><div class=\"lbl c0 trm hl\" ><span class=\"txtu\">van </span></div><div class='features'><span class=\"isremark xft\" ><span class=\"f\">isremark=</span>1</span></div></div><div class=\"contnr c0 trm   hl\" ><div class=\"lbl c0 trm hl\" ><span class=\"txtu\">Batavia </span></div><div class='features'><span class=\"isremark xft\" ><span class=\"f\">isremark=</span>1</span></div></div><div class=\"contnr c0 trm   hl\" ><div class=\"lbl c0 trm hl\" ><span class=\"txtu\">gemist </span></div><div class='features'><span class=\"isremark xft\" ><span class=\"f\">isremark=</span>1</span></div></div><div class=\"contnr c0 trm   hl\" ><div class=\"lbl c0 trm hl\" ><span class=\"txtu\">worden; </span></div><div class='features'><span class=\"isremark xft\" ><span class=\"f\">isremark=</span>1</span></div></div><div class=\"contnr c0 trm   hl\" ><div class=\"lbl c0 trm hl\" ><span class=\"txtu\">gegevens </span></div><div class='features'><span class=\"isremark xft\" ><span class=\"f\">isremark=</span>1</span></div></div><div class=\"contnr c0 trm   hl\" ><div class=\"lbl c0 trm hl\" ><span class=\"txtu\">over </span></div><div class='features'><span class=\"isremark xft\" ><span class=\"f\">isremark=</span>1</span></div></div></div></div></div>"
      ],
      "text/plain": [
       "<IPython.core.display.HTML object>"
      ]
     },
     "metadata": {},
     "output_type": "display_data"
    },
    {
     "data": {
      "text/html": [
       "<p><b>line</b> <i>7</i>"
      ],
      "text/plain": [
       "<IPython.core.display.HTML object>"
      ]
     },
     "metadata": {},
     "output_type": "display_data"
    },
    {
     "data": {
      "text/html": [
       "<div class=\"tfsechead \"><span class=\"ltr\"><a target=\"_blank\" href=\"http://resources.huygens.knaw.nl/retroboeken/generalemissiven/#page=254&amp;source=4\" title=\"Show this document on Huygens\" sec=\"4 239:18\">4 239:18</a></span></div><div class=\" children\"><div class=\"contnr c3    \" ><div class=\"lbl c3  \" ><span class=\"nd\">line</span></div><div class='features'><span class=\"n xft\" ><span class=\"f\">n=</span>18</span></div><div class=\"children hor wrap \"><div class=\"contnr c0 trm   hl\" ><div class=\"lbl c0 trm hl\" ><span class=\"txtu\">Java, </span></div><div class='features'><span class=\"isremark xft\" ><span class=\"f\">isremark=</span>1</span></div></div><div class=\"contnr c0 trm   hl\" ><div class=\"lbl c0 trm hl\" ><span class=\"txtu\">vgl. </span></div><div class='features'><span class=\"isremark xft\" ><span class=\"f\">isremark=</span>1</span></div></div><div class=\"contnr c0 trm   hl\" ><div class=\"lbl c0 trm hl\" ><span class=\"txtu\">Opkomst </span></div><div class='features'><span class=\"isremark xft\" ><span class=\"f\">isremark=</span>1</span></div></div><div class=\"contnr c0 trm   hl\" ><div class=\"lbl c0 trm hl\" ><span class=\"txtu\">VII, </span></div><div class='features'><span class=\"isremark xft\" ><span class=\"f\">isremark=</span>1</span></div></div><div class=\"contnr c0 trm   hl\" ><div class=\"lbl c0 trm hl\" ><span class=\"txtu\">p. </span></div><div class='features'><span class=\"isremark xft\" ><span class=\"f\">isremark=</span>1</span></div></div><div class=\"contnr c0 trm   hl\" ><div class=\"lbl c0 trm hl\" ><span class=\"txtu\">LVII-</span></div><div class='features'><span class=\"isremark xft\" ><span class=\"f\">isremark=</span>1</span></div></div><div class=\"contnr c0 trm   hl\" ><div class=\"lbl c0 trm hl\" ><span class=\"txtu\">LXV; </span></div><div class='features'><span class=\"isremark xft\" ><span class=\"f\">isremark=</span>1</span></div></div><div class=\"contnr c0 trm   hl\" ><div class=\"lbl c0 trm hl\" ><span class=\"txtu\">het </span></div><div class='features'><span class=\"isremark xft\" ><span class=\"f\">isremark=</span>1</span></div></div><div class=\"contnr c0 trm   hl\" ><div class=\"lbl c0 trm hl\" ><span class=\"txtu\">werd </span></div><div class='features'><span class=\"isremark xft\" ><span class=\"f\">isremark=</span>1</span></div></div><div class=\"contnr c0 trm   hl\" ><div class=\"lbl c0 trm hl\" ><span class=\"txtu\">aan </span></div><div class='features'><span class=\"isremark xft\" ><span class=\"f\">isremark=</span>1</span></div></div><div class=\"contnr c0 trm   hl\" ><div class=\"lbl c0 trm hl\" ><span class=\"txtu\">Aru </span></div><div class='features'><span class=\"isremark xft\" ><span class=\"f\">isremark=</span>1</span></div></div><div class=\"contnr c0 trm   hl\" ><div class=\"lbl c0 trm hl\" ><span class=\"txtu\">Palakka </span></div><div class='features'><span class=\"isremark xft\" ><span class=\"f\">isremark=</span>1</span></div></div><div class=\"contnr c0 trm   hl\" ><div class=\"lbl c0 trm hl\" ><span class=\"txtu\">overgelaten </span></div><div class='features'><span class=\"isremark xft\" ><span class=\"f\">isremark=</span>1</span></div></div><div class=\"contnr c0 trm   hl\" ><div class=\"lbl c0 trm hl\" ><span class=\"txtu\">te </span></div><div class='features'><span class=\"isremark xft\" ><span class=\"f\">isremark=</span>1</span></div></div></div></div></div>"
      ],
      "text/plain": [
       "<IPython.core.display.HTML object>"
      ]
     },
     "metadata": {},
     "output_type": "display_data"
    },
    {
     "data": {
      "text/html": [
       "<p><b>line</b> <i>8</i>"
      ],
      "text/plain": [
       "<IPython.core.display.HTML object>"
      ]
     },
     "metadata": {},
     "output_type": "display_data"
    },
    {
     "data": {
      "text/html": [
       "<div class=\"tfsechead \"><span class=\"ltr\"><a target=\"_blank\" href=\"http://resources.huygens.knaw.nl/retroboeken/generalemissiven/#page=254&amp;source=4\" title=\"Show this document on Huygens\" sec=\"4 239:19\">4 239:19</a></span></div><div class=\" children\"><div class=\"contnr c3    \" ><div class=\"lbl c3  \" ><span class=\"nd\">line</span></div><div class='features'><span class=\"n xft\" ><span class=\"f\">n=</span>19</span></div><div class=\"children hor wrap \"><div class=\"contnr c0 trm   hl\" ><div class=\"lbl c0 trm hl\" ><span class=\"txtu\">beslissen, </span></div><div class='features'><span class=\"isremark xft\" ><span class=\"f\">isremark=</span>1</span></div></div><div class=\"contnr c0 trm   hl\" ><div class=\"lbl c0 trm hl\" ><span class=\"txtu\">of </span></div><div class='features'><span class=\"isremark xft\" ><span class=\"f\">isremark=</span>1</span></div></div><div class=\"contnr c0 trm   hl\" ><div class=\"lbl c0 trm hl\" ><span class=\"txtu\">hij </span></div><div class='features'><span class=\"isremark xft\" ><span class=\"f\">isremark=</span>1</span></div></div><div class=\"contnr c0 trm   hl\" ><div class=\"lbl c0 trm hl\" ><span class=\"txtu\">met </span></div><div class='features'><span class=\"isremark xft\" ><span class=\"f\">isremark=</span>1</span></div></div><div class=\"contnr c0 trm   hl\" ><div class=\"lbl c0 trm hl\" ><span class=\"txtu\">zijn </span></div><div class='features'><span class=\"isremark xft\" ><span class=\"f\">isremark=</span>1</span></div></div><div class=\"contnr c0 trm   hl\" ><div class=\"lbl c0 trm hl\" ><span class=\"txtu\">troepen </span></div><div class='features'><span class=\"isremark xft\" ><span class=\"f\">isremark=</span>1</span></div></div><div class=\"contnr c0 trm   hl\" ><div class=\"lbl c0 trm hl\" ><span class=\"txtu\">mee </span></div><div class='features'><span class=\"isremark xft\" ><span class=\"f\">isremark=</span>1</span></div></div><div class=\"contnr c0 trm   hl\" ><div class=\"lbl c0 trm hl\" ><span class=\"txtu\">naar </span></div><div class='features'><span class=\"isremark xft\" ><span class=\"f\">isremark=</span>1</span></div></div><div class=\"contnr c0 trm   hl\" ><div class=\"lbl c0 trm hl\" ><span class=\"txtu\">Java </span></div><div class='features'><span class=\"isremark xft\" ><span class=\"f\">isremark=</span>1</span></div></div><div class=\"contnr c0 trm   hl\" ><div class=\"lbl c0 trm hl\" ><span class=\"txtu\">wil </span></div><div class='features'><span class=\"isremark xft\" ><span class=\"f\">isremark=</span>1</span></div></div><div class=\"contnr c0 trm   hl\" ><div class=\"lbl c0 trm hl\" ><span class=\"txtu\">komen; </span></div><div class='features'><span class=\"isremark xft\" ><span class=\"f\">isremark=</span>1</span></div></div><div class=\"contnr c0 trm   hl\" ><div class=\"lbl c0 trm hl\" ><span class=\"txtu\">er </span></div><div class='features'><span class=\"isremark xft\" ><span class=\"f\">isremark=</span>1</span></div></div><div class=\"contnr c0 trm   hl\" ><div class=\"lbl c0 trm hl\" ><span class=\"txtu\">is </span></div><div class='features'><span class=\"isremark xft\" ><span class=\"f\">isremark=</span>1</span></div></div><div class=\"contnr c0 trm   hl\" ><div class=\"lbl c0 trm hl\" ><span class=\"txtu\">te </span></div><div class='features'><span class=\"isremark xft\" ><span class=\"f\">isremark=</span>1</span></div></div><div class=\"contnr c0 trm   hl\" ><div class=\"lbl c0 trm hl\" ><span class=\"txtu\">Batavia </span></div><div class='features'><span class=\"isremark xft\" ><span class=\"f\">isremark=</span>1</span></div></div><div class=\"contnr c0 trm   hl\" ><div class=\"lbl c0 trm hl\" ><span class=\"txtu\">evenmin </span></div><div class='features'><span class=\"isremark xft\" ><span class=\"f\">isremark=</span>1</span></div></div><div class=\"contnr c0 trm   hl\" ><div class=\"lbl c0 trm hl\" ><span class=\"txtu\">als </span></div><div class='features'><span class=\"isremark xft\" ><span class=\"f\">isremark=</span>1</span></div></div></div></div></div>"
      ],
      "text/plain": [
       "<IPython.core.display.HTML object>"
      ]
     },
     "metadata": {},
     "output_type": "display_data"
    },
    {
     "data": {
      "text/html": [
       "<p><b>line</b> <i>9</i>"
      ],
      "text/plain": [
       "<IPython.core.display.HTML object>"
      ]
     },
     "metadata": {},
     "output_type": "display_data"
    },
    {
     "data": {
      "text/html": [
       "<div class=\"tfsechead \"><span class=\"ltr\"><a target=\"_blank\" href=\"http://resources.huygens.knaw.nl/retroboeken/generalemissiven/#page=254&amp;source=4\" title=\"Show this document on Huygens\" sec=\"4 239:20\">4 239:20</a></span></div><div class=\" children\"><div class=\"contnr c3    \" ><div class=\"lbl c3  \" ><span class=\"nd\">line</span></div><div class='features'><span class=\"n xft\" ><span class=\"f\">n=</span>20</span></div><div class=\"children hor wrap \"><div class=\"contnr c0 trm   hl\" ><div class=\"lbl c0 trm hl\" ><span class=\"txtu\">bij </span></div><div class='features'><span class=\"isremark xft\" ><span class=\"f\">isremark=</span>1</span></div></div><div class=\"contnr c0 trm   hl\" ><div class=\"lbl c0 trm hl\" ><span class=\"txtu\">de </span></div><div class='features'><span class=\"isremark xft\" ><span class=\"f\">isremark=</span>1</span></div></div><div class=\"contnr c0 trm   hl\" ><div class=\"lbl c0 trm hl\" ><span class=\"txtu\">Engelsen </span></div><div class='features'><span class=\"isremark xft\" ><span class=\"f\">isremark=</span>1</span></div></div><div class=\"contnr c0 trm   hl\" ><div class=\"lbl c0 trm hl\" ><span class=\"txtu\">te </span></div><div class='features'><span class=\"isremark xft\" ><span class=\"f\">isremark=</span>1</span></div></div><div class=\"contnr c0 trm   hl\" ><div class=\"lbl c0 trm hl\" ><span class=\"txtu\">Bantam </span></div><div class='features'><span class=\"isremark xft\" ><span class=\"f\">isremark=</span>1</span></div></div><div class=\"contnr c0 trm   hl\" ><div class=\"lbl c0 trm hl\" ><span class=\"txtu\">peper </span></div><div class='features'><span class=\"isremark xft\" ><span class=\"f\">isremark=</span>1</span></div></div><div class=\"contnr c0 trm   hl\" ><div class=\"lbl c0 trm hl\" ><span class=\"txtu\">in </span></div><div class='features'><span class=\"isremark xft\" ><span class=\"f\">isremark=</span>1</span></div></div><div class=\"contnr c0 trm   hl\" ><div class=\"lbl c0 trm hl\" ><span class=\"txtu\">voorraad; </span></div><div class='features'><span class=\"isremark xft\" ><span class=\"f\">isremark=</span>1</span></div></div><div class=\"contnr c0 trm   hl\" ><div class=\"lbl c0 trm hl\" ><span class=\"txtu\">een </span></div><div class='features'><span class=\"isremark xft\" ><span class=\"f\">isremark=</span>1</span></div></div><div class=\"contnr c0 trm   hl\" ><div class=\"lbl c0 trm hl\" ><span class=\"txtu\">geschikte </span></div><div class='features'><span class=\"isremark xft\" ><span class=\"f\">isremark=</span>1</span></div></div><div class=\"contnr c0 trm   hl\" ><div class=\"lbl c0 trm hl\" ><span class=\"txtu\">commissaris </span></div><div class='features'><span class=\"isremark xft\" ><span class=\"f\">isremark=</span>1</span></div></div><div class=\"contnr c0 trm   hl\" ><div class=\"lbl c0 trm hl\" ><span class=\"txtu\">voor </span></div><div class='features'><span class=\"isremark xft\" ><span class=\"f\">isremark=</span>1</span></div></div><div class=\"contnr c0 trm   hl\" ><div class=\"lbl c0 trm hl\" ><span class=\"txtu\">Coromandel </span></div><div class='features'><span class=\"isremark xft\" ><span class=\"f\">isremark=</span>1</span></div></div></div></div></div>"
      ],
      "text/plain": [
       "<IPython.core.display.HTML object>"
      ]
     },
     "metadata": {},
     "output_type": "display_data"
    },
    {
     "data": {
      "text/html": [
       "<p><b>line</b> <i>10</i>"
      ],
      "text/plain": [
       "<IPython.core.display.HTML object>"
      ]
     },
     "metadata": {},
     "output_type": "display_data"
    },
    {
     "data": {
      "text/html": [
       "<div class=\"tfsechead \"><span class=\"ltr\"><a target=\"_blank\" href=\"http://resources.huygens.knaw.nl/retroboeken/generalemissiven/#page=254&amp;source=4\" title=\"Show this document on Huygens\" sec=\"4 239:21\">4 239:21</a></span></div><div class=\" children\"><div class=\"contnr c3    \" ><div class=\"lbl c3  \" ><span class=\"nd\">line</span></div><div class='features'><span class=\"n xft\" ><span class=\"f\">n=</span>21</span></div><div class=\"children hor wrap \"><div class=\"contnr c0 trm   hl\" ><div class=\"lbl c0 trm hl\" ><span class=\"txtu\">is </span></div><div class='features'><span class=\"isremark xft\" ><span class=\"f\">isremark=</span>1</span></div></div><div class=\"contnr c0 trm   hl\" ><div class=\"lbl c0 trm hl\" ><span class=\"txtu\">niet </span></div><div class='features'><span class=\"isremark xft\" ><span class=\"f\">isremark=</span>1</span></div></div><div class=\"contnr c0 trm   hl\" ><div class=\"lbl c0 trm hl\" ><span class=\"txtu\">aanwezig » </span></div><div class='features'><span class=\"isremark xft\" ><span class=\"f\">isremark=</span>1</span></div></div></div></div></div>"
      ],
      "text/plain": [
       "<IPython.core.display.HTML object>"
      ]
     },
     "metadata": {},
     "output_type": "display_data"
    },
    {
     "data": {
      "text/html": [
       "<p><b>line</b> <i>11</i>"
      ],
      "text/plain": [
       "<IPython.core.display.HTML object>"
      ]
     },
     "metadata": {},
     "output_type": "display_data"
    },
    {
     "data": {
      "text/html": [
       "<div class=\"tfsechead \"><span class=\"ltr\"><a target=\"_blank\" href=\"http://resources.huygens.knaw.nl/retroboeken/generalemissiven/#page=254&amp;source=4\" title=\"Show this document on Huygens\" sec=\"4 239:28\">4 239:28</a></span></div><div class=\" children\"><div class=\"contnr c3    \" ><div class=\"lbl c3  \" ><span class=\"nd\">line</span></div><div class='features'><span class=\"n xft\" ><span class=\"f\">n=</span>28</span></div><div class=\"children hor wrap \"><div class=\"contnr c0 trm   hl\" ><div class=\"lbl c0 trm hl\" ><span class=\"txtu\">Dergelijke </span></div><div class='features'><span class=\"isremark xft\" ><span class=\"f\">isremark=</span>1</span></div></div><div class=\"contnr c0 trm   hl\" ><div class=\"lbl c0 trm hl\" ><span class=\"txtu\">projecten </span></div><div class='features'><span class=\"isremark xft\" ><span class=\"f\">isremark=</span>1</span></div></div><div class=\"contnr c0 trm   hl\" ><div class=\"lbl c0 trm hl\" ><span class=\"txtu\">worden </span></div><div class='features'><span class=\"isremark xft\" ><span class=\"f\">isremark=</span>1</span></div></div><div class=\"contnr c0 trm   hl\" ><div class=\"lbl c0 trm hl\" ><span class=\"txtu\">voor </span></div><div class='features'><span class=\"isremark xft\" ><span class=\"f\">isremark=</span>1</span></div></div><div class=\"contnr c0 trm   hl\" ><div class=\"lbl c0 trm hl\" ><span class=\"txtu\">de </span></div><div class='features'><span class=\"isremark xft\" ><span class=\"f\">isremark=</span>1</span></div></div><div class=\"contnr c0 trm   hl\" ><div class=\"lbl c0 trm hl\" ><span class=\"txtu\">andere </span></div><div class='features'><span class=\"isremark xft\" ><span class=\"f\">isremark=</span>1</span></div></div><div class=\"contnr c0 trm   hl\" ><div class=\"lbl c0 trm hl\" ><span class=\"txtu\">vestigingen </span></div><div class='features'><span class=\"isremark xft\" ><span class=\"f\">isremark=</span>1</span></div></div><div class=\"contnr c0 trm   hl\" ><div class=\"lbl c0 trm hl\" ><span class=\"txtu\">opgemaakt; </span></div><div class='features'><span class=\"isremark xft\" ><span class=\"f\">isremark=</span>1</span></div></div><div class=\"contnr c0 trm   hl\" ><div class=\"lbl c0 trm hl\" ><span class=\"txtu\">door </span></div><div class='features'><span class=\"isremark xft\" ><span class=\"f\">isremark=</span>1</span></div></div><div class=\"contnr c0 trm   hl\" ><div class=\"lbl c0 trm hl\" ><span class=\"txtu\">het </span></div><div class='features'><span class=\"isremark xft\" ><span class=\"f\">isremark=</span>1</span></div></div></div></div></div>"
      ],
      "text/plain": [
       "<IPython.core.display.HTML object>"
      ]
     },
     "metadata": {},
     "output_type": "display_data"
    },
    {
     "data": {
      "text/html": [
       "<p><b>line</b> <i>12</i>"
      ],
      "text/plain": [
       "<IPython.core.display.HTML object>"
      ]
     },
     "metadata": {},
     "output_type": "display_data"
    },
    {
     "data": {
      "text/html": [
       "<div class=\"tfsechead \"><span class=\"ltr\"><a target=\"_blank\" href=\"http://resources.huygens.knaw.nl/retroboeken/generalemissiven/#page=254&amp;source=4\" title=\"Show this document on Huygens\" sec=\"4 239:29\">4 239:29</a></span></div><div class=\" children\"><div class=\"contnr c3    \" ><div class=\"lbl c3  \" ><span class=\"nd\">line</span></div><div class='features'><span class=\"n xft\" ><span class=\"f\">n=</span>29</span></div><div class=\"children hor wrap \"><div class=\"contnr c0 trm   hl\" ><div class=\"lbl c0 trm hl\" ><span class=\"txtu\">sluiten </span></div><div class='features'><span class=\"isremark xft\" ><span class=\"f\">isremark=</span>1</span></div></div><div class=\"contnr c0 trm   hl\" ><div class=\"lbl c0 trm hl\" ><span class=\"txtu\">van </span></div><div class='features'><span class=\"isremark xft\" ><span class=\"f\">isremark=</span>1</span></div></div><div class=\"contnr c0 trm   hl\" ><div class=\"lbl c0 trm hl\" ><span class=\"txtu\">de </span></div><div class='features'><span class=\"isremark xft\" ><span class=\"f\">isremark=</span>1</span></div></div><div class=\"contnr c0 trm   hl\" ><div class=\"lbl c0 trm hl\" ><span class=\"txtu\">vrede </span></div><div class='features'><span class=\"isremark xft\" ><span class=\"f\">isremark=</span>1</span></div></div><div class=\"contnr c0 trm   hl\" ><div class=\"lbl c0 trm hl\" ><span class=\"txtu\">neemt </span></div><div class='features'><span class=\"isremark xft\" ><span class=\"f\">isremark=</span>1</span></div></div><div class=\"contnr c0 trm   hl\" ><div class=\"lbl c0 trm hl\" ><span class=\"txtu\">de </span></div><div class='features'><span class=\"isremark xft\" ><span class=\"f\">isremark=</span>1</span></div></div><div class=\"contnr c0 trm   hl\" ><div class=\"lbl c0 trm hl\" ><span class=\"txtu\">areca- </span></div><div class='features'><span class=\"isremark xft\" ><span class=\"f\">isremark=</span>1</span></div></div><div class=\"contnr c0 trm   hl\" ><div class=\"lbl c0 trm hl\" ><span class=\"txtu\">en </span></div><div class='features'><span class=\"isremark xft\" ><span class=\"f\">isremark=</span>1</span></div></div><div class=\"contnr c0 trm   hl\" ><div class=\"lbl c0 trm hl\" ><span class=\"txtu\">textielhandel </span></div><div class='features'><span class=\"isremark xft\" ><span class=\"f\">isremark=</span>1</span></div></div><div class=\"contnr c0 trm   hl\" ><div class=\"lbl c0 trm hl\" ><span class=\"txtu\">in </span></div><div class='features'><span class=\"isremark xft\" ><span class=\"f\">isremark=</span>1</span></div></div><div class=\"contnr c0 trm   hl\" ><div class=\"lbl c0 trm hl\" ><span class=\"txtu\">Zuid-</span></div><div class='features'><span class=\"isremark xft\" ><span class=\"f\">isremark=</span>1</span></div></div><div class=\"contnr c0 trm   hl\" ><div class=\"lbl c0 trm hl\" ><span class=\"txtu\">India </span></div><div class='features'><span class=\"isremark xft\" ><span class=\"f\">isremark=</span>1</span></div></div><div class=\"contnr c0 trm   hl\" ><div class=\"lbl c0 trm hl\" ><span class=\"txtu\">toe; </span></div><div class='features'><span class=\"isremark xft\" ><span class=\"f\">isremark=</span>1</span></div></div><div class=\"contnr c0 trm   hl\" ><div class=\"lbl c0 trm hl\" ><span class=\"txtu\">de </span></div><div class='features'><span class=\"isremark xft\" ><span class=\"f\">isremark=</span>1</span></div></div><div class=\"contnr c0 trm   hl\" ><div class=\"lbl c0 trm hl\" ><span class=\"txtu\">fortificatie </span></div><div class='features'><span class=\"isremark xft\" ><span class=\"f\">isremark=</span>1</span></div></div></div></div></div>"
      ],
      "text/plain": [
       "<IPython.core.display.HTML object>"
      ]
     },
     "metadata": {},
     "output_type": "display_data"
    },
    {
     "data": {
      "text/html": [
       "<p><b>line</b> <i>13</i>"
      ],
      "text/plain": [
       "<IPython.core.display.HTML object>"
      ]
     },
     "metadata": {},
     "output_type": "display_data"
    },
    {
     "data": {
      "text/html": [
       "<div class=\"tfsechead \"><span class=\"ltr\"><a target=\"_blank\" href=\"http://resources.huygens.knaw.nl/retroboeken/generalemissiven/#page=254&amp;source=4\" title=\"Show this document on Huygens\" sec=\"4 239:30\">4 239:30</a></span></div><div class=\" children\"><div class=\"contnr c3    \" ><div class=\"lbl c3  \" ><span class=\"nd\">line</span></div><div class='features'><span class=\"n xft\" ><span class=\"f\">n=</span>30</span></div><div class=\"children hor wrap \"><div class=\"contnr c0 trm   hl\" ><div class=\"lbl c0 trm hl\" ><span class=\"txtu\">op </span></div><div class='features'><span class=\"isremark xft\" ><span class=\"f\">isremark=</span>1</span></div></div><div class=\"contnr c0 trm   hl\" ><div class=\"lbl c0 trm hl\" ><span class=\"txtu\">Ceylon </span></div><div class='features'><span class=\"isremark xft\" ><span class=\"f\">isremark=</span>1</span></div></div><div class=\"contnr c0 trm   hl\" ><div class=\"lbl c0 trm hl\" ><span class=\"txtu\">is </span></div><div class='features'><span class=\"isremark xft\" ><span class=\"f\">isremark=</span>1</span></div></div><div class=\"contnr c0 trm   hl\" ><div class=\"lbl c0 trm hl\" ><span class=\"txtu\">gereed; </span></div><div class='features'><span class=\"isremark xft\" ><span class=\"f\">isremark=</span>1</span></div></div><div class=\"contnr c0 trm   hl\" ><div class=\"lbl c0 trm hl\" ><span class=\"txtu\">verzoek </span></div><div class='features'><span class=\"isremark xft\" ><span class=\"f\">isremark=</span>1</span></div></div><div class=\"contnr c0 trm   hl\" ><div class=\"lbl c0 trm hl\" ><span class=\"txtu\">aan </span></div><div class='features'><span class=\"isremark xft\" ><span class=\"f\">isremark=</span>1</span></div></div><div class=\"contnr c0 trm   hl\" ><div class=\"lbl c0 trm hl\" ><span class=\"txtu\">Heren </span></div><div class='features'><span class=\"isremark xft\" ><span class=\"f\">isremark=</span>1</span></div></div><div class=\"contnr c0 trm   hl\" ><div class=\"lbl c0 trm hl\" ><span class=\"txtu\">XVII </span></div><div class='features'><span class=\"isremark xft\" ><span class=\"f\">isremark=</span>1</span></div></div><div class=\"contnr c0 trm   hl\" ><div class=\"lbl c0 trm hl\" ><span class=\"txtu\">daar </span></div><div class='features'><span class=\"isremark xft\" ><span class=\"f\">isremark=</span>1</span></div></div><div class=\"contnr c0 trm   hl\" ><div class=\"lbl c0 trm hl\" ><span class=\"txtu\">geen </span></div><div class='features'><span class=\"isremark xft\" ><span class=\"f\">isremark=</span>1</span></div></div><div class=\"contnr c0 trm   hl\" ><div class=\"lbl c0 trm hl\" ><span class=\"txtu\">veranderingen </span></div><div class='features'><span class=\"isremark xft\" ><span class=\"f\">isremark=</span>1</span></div></div><div class=\"contnr c0 trm   hl\" ><div class=\"lbl c0 trm hl\" ><span class=\"txtu\">in </span></div><div class='features'><span class=\"isremark xft\" ><span class=\"f\">isremark=</span>1</span></div></div><div class=\"contnr c0 trm   hl\" ><div class=\"lbl c0 trm hl\" ><span class=\"txtu\">te </span></div><div class='features'><span class=\"isremark xft\" ><span class=\"f\">isremark=</span>1</span></div></div><div class=\"contnr c0 trm   hl\" ><div class=\"lbl c0 trm hl\" ><span class=\"txtu\">voeren, </span></div><div class='features'><span class=\"isremark xft\" ><span class=\"f\">isremark=</span>1</span></div></div><div class=\"contnr c0 trm   hl\" ><div class=\"lbl c0 trm hl\" ><span class=\"txtu\">voor </span></div><div class='features'><span class=\"isremark xft\" ><span class=\"f\">isremark=</span>1</span></div></div></div></div></div>"
      ],
      "text/plain": [
       "<IPython.core.display.HTML object>"
      ]
     },
     "metadata": {},
     "output_type": "display_data"
    },
    {
     "data": {
      "text/html": [
       "<p><b>line</b> <i>14</i>"
      ],
      "text/plain": [
       "<IPython.core.display.HTML object>"
      ]
     },
     "metadata": {},
     "output_type": "display_data"
    },
    {
     "data": {
      "text/html": [
       "<div class=\"tfsechead \"><span class=\"ltr\"><a target=\"_blank\" href=\"http://resources.huygens.knaw.nl/retroboeken/generalemissiven/#page=254&amp;source=4\" title=\"Show this document on Huygens\" sec=\"4 239:31\">4 239:31</a></span></div><div class=\" children\"><div class=\"contnr c3    \" ><div class=\"lbl c3  \" ><span class=\"nd\">line</span></div><div class='features'><span class=\"n xft\" ><span class=\"f\">n=</span>31</span></div><div class=\"children hor wrap \"><div class=\"contnr c0 trm   hl\" ><div class=\"lbl c0 trm hl\" ><span class=\"txtu\">de </span></div><div class='features'><span class=\"isremark xft\" ><span class=\"f\">isremark=</span>1</span></div></div><div class=\"contnr c0 trm   hl\" ><div class=\"lbl c0 trm hl\" ><span class=\"txtu\">Hoge </span></div><div class='features'><span class=\"isremark xft\" ><span class=\"f\">isremark=</span>1</span></div></div><div class=\"contnr c0 trm   hl\" ><div class=\"lbl c0 trm hl\" ><span class=\"txtu\">Regering </span></div><div class='features'><span class=\"isremark xft\" ><span class=\"f\">isremark=</span>1</span></div></div><div class=\"contnr c0 trm   hl\" ><div class=\"lbl c0 trm hl\" ><span class=\"txtu\">daarover </span></div><div class='features'><span class=\"isremark xft\" ><span class=\"f\">isremark=</span>1</span></div></div><div class=\"contnr c0 trm   hl\" ><div class=\"lbl c0 trm hl\" ><span class=\"txtu\">in </span></div><div class='features'><span class=\"isremark xft\" ><span class=\"f\">isremark=</span>1</span></div></div><div class=\"contnr c0 trm   hl\" ><div class=\"lbl c0 trm hl\" ><span class=\"txtu\">nov. </span></div><div class='features'><span class=\"isremark xft\" ><span class=\"f\">isremark=</span>1</span></div></div><div class=\"contnr c0 trm   hl\" ><div class=\"lbl c0 trm hl\" ><span class=\"txtu\">zal </span></div><div class='features'><span class=\"isremark xft\" ><span class=\"f\">isremark=</span>1</span></div></div><div class=\"contnr c0 trm   hl\" ><div class=\"lbl c0 trm hl\" ><span class=\"txtu\">geadviseerd </span></div><div class='features'><span class=\"isremark xft\" ><span class=\"f\">isremark=</span>1</span></div></div><div class=\"contnr c0 trm   hl\" ><div class=\"lbl c0 trm hl\" ><span class=\"txtu\">hebben; </span></div><div class='features'><span class=\"isremark xft\" ><span class=\"f\">isremark=</span>1</span></div></div><div class=\"contnr c0 trm   hl\" ><div class=\"lbl c0 trm hl\" ><span class=\"txtu\">enkele </span></div><div class='features'><span class=\"isremark xft\" ><span class=\"f\">isremark=</span>1</span></div></div><div class=\"contnr c0 trm   hl\" ><div class=\"lbl c0 trm hl\" ><span class=\"txtu\">galjoots </span></div><div class='features'><span class=\"isremark xft\" ><span class=\"f\">isremark=</span>1</span></div></div><div class=\"contnr c0 trm   hl\" ><div class=\"lbl c0 trm hl\" ><span class=\"txtu\">aangevraagd </span></div><div class='features'><span class=\"isremark xft\" ><span class=\"f\">isremark=</span>1</span></div></div></div></div></div>"
      ],
      "text/plain": [
       "<IPython.core.display.HTML object>"
      ]
     },
     "metadata": {},
     "output_type": "display_data"
    },
    {
     "data": {
      "text/html": [
       "<p><b>line</b> <i>15</i>"
      ],
      "text/plain": [
       "<IPython.core.display.HTML object>"
      ]
     },
     "metadata": {},
     "output_type": "display_data"
    },
    {
     "data": {
      "text/html": [
       "<div class=\"tfsechead \"><span class=\"ltr\"><a target=\"_blank\" href=\"http://resources.huygens.knaw.nl/retroboeken/generalemissiven/#page=254&amp;source=4\" title=\"Show this document on Huygens\" sec=\"4 239:32\">4 239:32</a></span></div><div class=\" children\"><div class=\"contnr c3    \" ><div class=\"lbl c3  \" ><span class=\"nd\">line</span></div><div class='features'><span class=\"n xft\" ><span class=\"f\">n=</span>32</span></div><div class=\"children hor wrap \"><div class=\"contnr c0 trm   hl\" ><div class=\"lbl c0 trm hl\" ><span class=\"txtu\">voor </span></div><div class='features'><span class=\"isremark xft\" ><span class=\"f\">isremark=</span>1</span></div></div><div class=\"contnr c0 trm   hl\" ><div class=\"lbl c0 trm hl\" ><span class=\"txtu\">het </span></div><div class='features'><span class=\"isremark xft\" ><span class=\"f\">isremark=</span>1</span></div></div><div class=\"contnr c0 trm   hl\" ><div class=\"lbl c0 trm hl\" ><span class=\"txtu\">overbrengen </span></div><div class='features'><span class=\"isremark xft\" ><span class=\"f\">isremark=</span>1</span></div></div><div class=\"contnr c0 trm   hl\" ><div class=\"lbl c0 trm hl\" ><span class=\"txtu\">van </span></div><div class='features'><span class=\"isremark xft\" ><span class=\"f\">isremark=</span>1</span></div></div><div class=\"contnr c0 trm   hl\" ><div class=\"lbl c0 trm hl\" ><span class=\"txtu\">tussentijdse </span></div><div class='features'><span class=\"isremark xft\" ><span class=\"f\">isremark=</span>1</span></div></div><div class=\"contnr c0 trm   hl\" ><div class=\"lbl c0 trm hl\" ><span class=\"txtu\">adviezen </span></div><div class='features'><span class=\"isremark xft\" ><span class=\"f\">isremark=</span>1</span></div></div><div class=\"contnr c0 trm   hl\" ><div class=\"lbl c0 trm hl\" ><span class=\"txtu\">van </span></div><div class='features'><span class=\"isremark xft\" ><span class=\"f\">isremark=</span>1</span></div></div><div class=\"contnr c0 trm   hl\" ><div class=\"lbl c0 trm hl\" ><span class=\"txtu\">en </span></div><div class='features'><span class=\"isremark xft\" ><span class=\"f\">isremark=</span>1</span></div></div><div class=\"contnr c0 trm   hl\" ><div class=\"lbl c0 trm hl\" ><span class=\"txtu\">naar </span></div><div class='features'><span class=\"isremark xft\" ><span class=\"f\">isremark=</span>1</span></div></div><div class=\"contnr c0 trm   hl\" ><div class=\"lbl c0 trm hl\" ><span class=\"txtu\">patria; </span></div><div class='features'><span class=\"isremark xft\" ><span class=\"f\">isremark=</span>1</span></div></div><div class=\"contnr c0 trm   hl\" ><div class=\"lbl c0 trm hl\" ><span class=\"txtu\">voorlopig </span></div><div class='features'><span class=\"isremark xft\" ><span class=\"f\">isremark=</span>1</span></div></div><div class=\"contnr c0 trm   hl\" ><div class=\"lbl c0 trm hl\" ><span class=\"txtu\">zal </span></div><div class='features'><span class=\"isremark xft\" ><span class=\"f\">isremark=</span>1</span></div></div></div></div></div>"
      ],
      "text/plain": [
       "<IPython.core.display.HTML object>"
      ]
     },
     "metadata": {},
     "output_type": "display_data"
    },
    {
     "data": {
      "text/html": [
       "<p><b>line</b> <i>16</i>"
      ],
      "text/plain": [
       "<IPython.core.display.HTML object>"
      ]
     },
     "metadata": {},
     "output_type": "display_data"
    },
    {
     "data": {
      "text/html": [
       "<div class=\"tfsechead \"><span class=\"ltr\"><a target=\"_blank\" href=\"http://resources.huygens.knaw.nl/retroboeken/generalemissiven/#page=254&amp;source=4\" title=\"Show this document on Huygens\" sec=\"4 239:33\">4 239:33</a></span></div><div class=\" children\"><div class=\"contnr c3    \" ><div class=\"lbl c3  \" ><span class=\"nd\">line</span></div><div class='features'><span class=\"n xft\" ><span class=\"f\">n=</span>33</span></div><div class=\"children hor wrap \"><div class=\"contnr c0 trm   hl\" ><div class=\"lbl c0 trm hl\" ><span class=\"txtu\">Batavia </span></div><div class='features'><span class=\"isremark xft\" ><span class=\"f\">isremark=</span>1</span></div></div><div class=\"contnr c0 trm   hl\" ><div class=\"lbl c0 trm hl\" ><span class=\"txtu\">bezwaard </span></div><div class='features'><span class=\"isremark xft\" ><span class=\"f\">isremark=</span>1</span></div></div><div class=\"contnr c0 trm   hl\" ><div class=\"lbl c0 trm hl\" ><span class=\"txtu\">blijven </span></div><div class='features'><span class=\"isremark xft\" ><span class=\"f\">isremark=</span>1</span></div></div><div class=\"contnr c0 trm   hl\" ><div class=\"lbl c0 trm hl\" ><span class=\"txtu\">met </span></div><div class='features'><span class=\"isremark xft\" ><span class=\"f\">isremark=</span>1</span></div></div><div class=\"contnr c0 trm   hl\" ><div class=\"lbl c0 trm hl\" ><span class=\"txtu\">wegens </span></div><div class='features'><span class=\"isremark xft\" ><span class=\"f\">isremark=</span>1</span></div></div><div class=\"contnr c0 trm   hl\" ><div class=\"lbl c0 trm hl\" ><span class=\"txtu\">overbodigheid </span></div><div class='features'><span class=\"isremark xft\" ><span class=\"f\">isremark=</span>1</span></div></div><div class=\"contnr c0 trm   hl\" ><div class=\"lbl c0 trm hl\" ><span class=\"txtu\">van </span></div><div class='features'><span class=\"isremark xft\" ><span class=\"f\">isremark=</span>1</span></div></div><div class=\"contnr c0 trm   hl\" ><div class=\"lbl c0 trm hl\" ><span class=\"txtu\">elders </span></div><div class='features'><span class=\"isremark xft\" ><span class=\"f\">isremark=</span>1</span></div></div><div class=\"contnr c0 trm   hl\" ><div class=\"lbl c0 trm hl\" ><span class=\"txtu\">opgeroepen </span></div><div class='features'><span class=\"isremark xft\" ><span class=\"f\">isremark=</span>1</span></div></div><div class=\"contnr c0 trm   hl\" ><div class=\"lbl c0 trm hl\" ><span class=\"txtu\">personeel; </span></div><div class='features'><span class=\"isremark xft\" ><span class=\"f\">isremark=</span>1</span></div></div></div></div></div>"
      ],
      "text/plain": [
       "<IPython.core.display.HTML object>"
      ]
     },
     "metadata": {},
     "output_type": "display_data"
    },
    {
     "data": {
      "text/html": [
       "<p><b>line</b> <i>17</i>"
      ],
      "text/plain": [
       "<IPython.core.display.HTML object>"
      ]
     },
     "metadata": {},
     "output_type": "display_data"
    },
    {
     "data": {
      "text/html": [
       "<div class=\"tfsechead \"><span class=\"ltr\"><a target=\"_blank\" href=\"http://resources.huygens.knaw.nl/retroboeken/generalemissiven/#page=254&amp;source=4\" title=\"Show this document on Huygens\" sec=\"4 239:34\">4 239:34</a></span></div><div class=\" children\"><div class=\"contnr c3    \" ><div class=\"lbl c3  \" ><span class=\"nd\">line</span></div><div class='features'><span class=\"n xft\" ><span class=\"f\">n=</span>34</span></div><div class=\"children hor wrap \"><div class=\"contnr c0 trm   hl\" ><div class=\"lbl c0 trm hl\" ><span class=\"txtu\">overwogen, </span></div><div class='features'><span class=\"isremark xft\" ><span class=\"f\">isremark=</span>1</span></div></div><div class=\"contnr c0 trm   hl\" ><div class=\"lbl c0 trm hl\" ><span class=\"txtu\">of » </span></div><div class='features'><span class=\"isremark xft\" ><span class=\"f\">isremark=</span>1</span></div></div></div></div></div>"
      ],
      "text/plain": [
       "<IPython.core.display.HTML object>"
      ]
     },
     "metadata": {},
     "output_type": "display_data"
    },
    {
     "data": {
      "text/html": [
       "<p><b>line</b> <i>18</i>"
      ],
      "text/plain": [
       "<IPython.core.display.HTML object>"
      ]
     },
     "metadata": {},
     "output_type": "display_data"
    },
    {
     "data": {
      "text/html": [
       "<div class=\"tfsechead \"><span class=\"ltr\"><a target=\"_blank\" href=\"http://resources.huygens.knaw.nl/retroboeken/generalemissiven/#page=254&amp;source=4\" title=\"Show this document on Huygens\" sec=\"4 239:39\">4 239:39</a></span></div><div class=\" children\"><div class=\"contnr c3    \" ><div class=\"lbl c3  \" ><span class=\"nd\">line</span></div><div class='features'><span class=\"n xft\" ><span class=\"f\">n=</span>39</span></div><div class=\"children hor wrap \"><div class=\"contnr c0 trm   hl\" ><div class=\"lbl c0 trm hl\" ><span class=\"txtu\">Velen </span></div><div class='features'><span class=\"isremark xft\" ><span class=\"f\">isremark=</span>1</span></div></div><div class=\"contnr c0 trm   hl\" ><div class=\"lbl c0 trm hl\" ><span class=\"txtu\">onbekwamen </span></div><div class='features'><span class=\"isremark xft\" ><span class=\"f\">isremark=</span>1</span></div></div><div class=\"contnr c0 trm   hl\" ><div class=\"lbl c0 trm hl\" ><span class=\"txtu\">zijn </span></div><div class='features'><span class=\"isremark xft\" ><span class=\"f\">isremark=</span>1</span></div></div><div class=\"contnr c0 trm   hl\" ><div class=\"lbl c0 trm hl\" ><span class=\"txtu\">reeds </span></div><div class='features'><span class=\"isremark xft\" ><span class=\"f\">isremark=</span>1</span></div></div><div class=\"contnr c0 trm   hl\" ><div class=\"lbl c0 trm hl\" ><span class=\"txtu\">ontslagen </span></div><div class='features'><span class=\"isremark xft\" ><span class=\"f\">isremark=</span>1</span></div></div><div class=\"contnr c0 trm   hl\" ><div class=\"lbl c0 trm hl\" ><span class=\"txtu\">of </span></div><div class='features'><span class=\"isremark xft\" ><span class=\"f\">isremark=</span>1</span></div></div><div class=\"contnr c0 trm   hl\" ><div class=\"lbl c0 trm hl\" ><span class=\"txtu\">in </span></div><div class='features'><span class=\"isremark xft\" ><span class=\"f\">isremark=</span>1</span></div></div><div class=\"contnr c0 trm   hl\" ><div class=\"lbl c0 trm hl\" ><span class=\"txtu\">de </span></div><div class='features'><span class=\"isremark xft\" ><span class=\"f\">isremark=</span>1</span></div></div><div class=\"contnr c0 trm   hl\" ><div class=\"lbl c0 trm hl\" ><span class=\"txtu\">militie </span></div><div class='features'><span class=\"isremark xft\" ><span class=\"f\">isremark=</span>1</span></div></div><div class=\"contnr c0 trm   hl\" ><div class=\"lbl c0 trm hl\" ><span class=\"txtu\">opgenomen » </span></div><div class='features'><span class=\"isremark xft\" ><span class=\"f\">isremark=</span>1</span></div></div></div></div></div>"
      ],
      "text/plain": [
       "<IPython.core.display.HTML object>"
      ]
     },
     "metadata": {},
     "output_type": "display_data"
    }
   ],
   "source": [
    "A.show(results, condensed=True)"
   ]
  },
  {
   "cell_type": "markdown",
   "metadata": {},
   "source": [
    "# Special characters\n",
    "\n",
    "How can we look for special characters?\n",
    "\n",
    "Let's first see what special characters we have in the corpus."
   ]
  },
  {
   "cell_type": "code",
   "execution_count": 6,
   "metadata": {},
   "outputs": [
    {
     "data": {
      "text/html": [
       "<b title=\"local github\">TF-app:</b> <span title=\"repo clone offline under ~/github\">~/github/clariah/wp6-missieven/app</span>"
      ],
      "text/plain": [
       "<IPython.core.display.HTML object>"
      ]
     },
     "metadata": {},
     "output_type": "display_data"
    },
    {
     "data": {
      "text/html": [
       "<b title=\"local release\">data:</b> <span title=\"r1.0=#f6e4276d1c8f9f15923d54ccf2339698820b2948 offline under ~/text-fabric-data/github\">~/text-fabric-data/github/clariah/wp6-missieven/tf/1.0</span>"
      ],
      "text/plain": [
       "<IPython.core.display.HTML object>"
      ]
     },
     "metadata": {},
     "output_type": "display_data"
    },
    {
     "data": {
      "text/html": [
       "<b>Text-Fabric:</b> <a target=\"_blank\" href=\"https://annotation.github.io/text-fabric/tf/cheatsheet.html\" title=\"text-fabric-api\">Text-Fabric API 10.2.6</a>, <a target=\"_blank\" href=\"https://github.com/clariah/wp6-missieven/blob/master/app\" title=\"clariah/wp6-missieven TF-app\">clariah/wp6-missieven/app  v3</a>, <a target=\"_blank\" href=\"https://annotation.github.io/text-fabric/tf/about/searchusage.html\" title=\"Search Templates Introduction and Reference\">Search Reference</a><br><b>Data:</b> <a target=\"_blank\" href=\"https://github.com/clariah/wp6-missieven/blob/master/docs/about.md\" title=\"provenance of General Missives Dutch East India Company 1600-1800\">WP6-MISSIEVEN</a>, <a target=\"_blank\" href=\"https://annotation.github.io/text-fabric/tf/writing/.html\" title=\"How TF features represent text\">Character table</a>, <a target=\"_blank\" href=\"https://github.com/clariah/wp6-missieven/blob/master/docs/transcription.md\" title=\"WP6-MISSIEVEN feature documentation\">Feature docs</a><br><b>Features:</b><br>\n",
       "<details><summary><b>General Missives Dutch East India Company 1600-1800</b></summary>\n",
       "    <div class=\"fcorpus\">\n",
       "\n",
       "<div class=\"frow\">\n",
       "    <div class=\"fnamecat \">\n",
       "<a target=\"_blank\" href=\"https://github.com/clariah/wp6-missieven/blob/master/docs/transcription.md\" title=\"~/text-fabric-data/github/clariah/wp6-missieven/tf/1.0/author.tf\">author</a>\n",
       "</div>\n",
       "<div class=\"fmono\">str</div>\n",
       "\n",
       "<span> authors of the letter, surnames only</span>\n",
       "\n",
       "</div>\n",
       "\n",
       "<div class=\"frow\">\n",
       "    <div class=\"fnamecat \">\n",
       "<a target=\"_blank\" href=\"https://github.com/clariah/wp6-missieven/blob/master/docs/transcription.md\" title=\"~/text-fabric-data/github/clariah/wp6-missieven/tf/1.0/authorFull.tf\">authorFull</a>\n",
       "</div>\n",
       "<div class=\"fmono\">str</div>\n",
       "\n",
       "<span> authors of the letter, full names</span>\n",
       "\n",
       "</div>\n",
       "\n",
       "<div class=\"frow\">\n",
       "    <div class=\"fnamecat \">\n",
       "<a target=\"_blank\" href=\"https://github.com/clariah/wp6-missieven/blob/master/docs/transcription.md\" title=\"~/text-fabric-data/github/clariah/wp6-missieven/tf/1.0/col.tf\">col</a>\n",
       "</div>\n",
       "<div class=\"fmono\">int</div>\n",
       "\n",
       "<span> column number of a column in a row in a table</span>\n",
       "\n",
       "</div>\n",
       "\n",
       "<div class=\"frow\">\n",
       "    <div class=\"fnamecat \">\n",
       "<a target=\"_blank\" href=\"https://github.com/clariah/wp6-missieven/blob/master/docs/transcription.md\" title=\"~/text-fabric-data/github/clariah/wp6-missieven/tf/1.0/day.tf\">day</a>\n",
       "</div>\n",
       "<div class=\"fmono\">int</div>\n",
       "\n",
       "<span> day part of the date of the letter</span>\n",
       "\n",
       "</div>\n",
       "\n",
       "<div class=\"frow\">\n",
       "    <div class=\"fnamecat \">\n",
       "<a target=\"_blank\" href=\"https://github.com/clariah/wp6-missieven/blob/master/docs/transcription.md\" title=\"~/text-fabric-data/github/clariah/wp6-missieven/tf/1.0/isden.tf\">isden</a>\n",
       "</div>\n",
       "<div class=\"fmono\">int</div>\n",
       "\n",
       "<span> whether a word is the denominator in fraction, e.g. 4 in 1/4</span>\n",
       "\n",
       "</div>\n",
       "\n",
       "<div class=\"frow\">\n",
       "    <div class=\"fnamecat \">\n",
       "<a target=\"_blank\" href=\"https://github.com/clariah/wp6-missieven/blob/master/docs/transcription.md\" title=\"~/text-fabric-data/github/clariah/wp6-missieven/tf/1.0/isemph.tf\">isemph</a>\n",
       "</div>\n",
       "<div class=\"fmono\">str</div>\n",
       "\n",
       "<span> whether a word is emphasized by typography</span>\n",
       "\n",
       "</div>\n",
       "\n",
       "<div class=\"frow\">\n",
       "    <div class=\"fnamecat \">\n",
       "<a target=\"_blank\" href=\"https://github.com/clariah/wp6-missieven/blob/master/docs/transcription.md\" title=\"~/text-fabric-data/github/clariah/wp6-missieven/tf/1.0/isfolio.tf\">isfolio</a>\n",
       "</div>\n",
       "<div class=\"fmono\">int</div>\n",
       "\n",
       "<span> a folio reference</span>\n",
       "\n",
       "</div>\n",
       "\n",
       "<div class=\"frow\">\n",
       "    <div class=\"fnamecat \">\n",
       "<a target=\"_blank\" href=\"https://github.com/clariah/wp6-missieven/blob/master/docs/transcription.md\" title=\"~/text-fabric-data/github/clariah/wp6-missieven/tf/1.0/isnote.tf\">isnote</a>\n",
       "</div>\n",
       "<div class=\"fmono\">int</div>\n",
       "\n",
       "<span> whether a word belongs to footnote text</span>\n",
       "\n",
       "</div>\n",
       "\n",
       "<div class=\"frow\">\n",
       "    <div class=\"fnamecat \">\n",
       "<a target=\"_blank\" href=\"https://github.com/clariah/wp6-missieven/blob/master/docs/transcription.md\" title=\"~/text-fabric-data/github/clariah/wp6-missieven/tf/1.0/isnum.tf\">isnum</a>\n",
       "</div>\n",
       "<div class=\"fmono\">int</div>\n",
       "\n",
       "<span> whether a word is the numerator in fraction, e.g. 1 in 1/4</span>\n",
       "\n",
       "</div>\n",
       "\n",
       "<div class=\"frow\">\n",
       "    <div class=\"fnamecat \">\n",
       "<a target=\"_blank\" href=\"https://github.com/clariah/wp6-missieven/blob/master/docs/transcription.md\" title=\"~/text-fabric-data/github/clariah/wp6-missieven/tf/1.0/isorig.tf\">isorig</a>\n",
       "</div>\n",
       "<div class=\"fmono\">int</div>\n",
       "\n",
       "<span> whether a word belongs to original text</span>\n",
       "\n",
       "</div>\n",
       "\n",
       "<div class=\"frow\">\n",
       "    <div class=\"fnamecat \">\n",
       "<a target=\"_blank\" href=\"https://github.com/clariah/wp6-missieven/blob/master/docs/transcription.md\" title=\"~/text-fabric-data/github/clariah/wp6-missieven/tf/1.0/isq.tf\">isq</a>\n",
       "</div>\n",
       "<div class=\"fmono\">int</div>\n",
       "\n",
       "<span> whether a word is a numerical fraction, e.g. 1/4</span>\n",
       "\n",
       "</div>\n",
       "\n",
       "<div class=\"frow\">\n",
       "    <div class=\"fnamecat \">\n",
       "<a target=\"_blank\" href=\"https://github.com/clariah/wp6-missieven/blob/master/docs/transcription.md\" title=\"~/text-fabric-data/github/clariah/wp6-missieven/tf/1.0/isref.tf\">isref</a>\n",
       "</div>\n",
       "<div class=\"fmono\">int</div>\n",
       "\n",
       "<span> whether a word belongs to the text of reference</span>\n",
       "\n",
       "</div>\n",
       "\n",
       "<div class=\"frow\">\n",
       "    <div class=\"fnamecat \">\n",
       "<a target=\"_blank\" href=\"https://github.com/clariah/wp6-missieven/blob/master/docs/transcription.md\" title=\"~/text-fabric-data/github/clariah/wp6-missieven/tf/1.0/isremark.tf\">isremark</a>\n",
       "</div>\n",
       "<div class=\"fmono\">int</div>\n",
       "\n",
       "<span> whether a word belongs to the text of editorial remarks</span>\n",
       "\n",
       "</div>\n",
       "\n",
       "<div class=\"frow\">\n",
       "    <div class=\"fnamecat \">\n",
       "<a target=\"_blank\" href=\"https://github.com/clariah/wp6-missieven/blob/master/docs/transcription.md\" title=\"~/text-fabric-data/github/clariah/wp6-missieven/tf/1.0/isspecial.tf\">isspecial</a>\n",
       "</div>\n",
       "<div class=\"fmono\">int</div>\n",
       "\n",
       "<span> whether a word has special typography possibly with OCR mistakes as well</span>\n",
       "\n",
       "</div>\n",
       "\n",
       "<div class=\"frow\">\n",
       "    <div class=\"fnamecat \">\n",
       "<a target=\"_blank\" href=\"https://github.com/clariah/wp6-missieven/blob/master/docs/transcription.md\" title=\"~/text-fabric-data/github/clariah/wp6-missieven/tf/1.0/issub.tf\">issub</a>\n",
       "</div>\n",
       "<div class=\"fmono\">int</div>\n",
       "\n",
       "<span> whether a word has subscript typography possibly indicating the denominator of a fraction</span>\n",
       "\n",
       "</div>\n",
       "\n",
       "<div class=\"frow\">\n",
       "    <div class=\"fnamecat \">\n",
       "<a target=\"_blank\" href=\"https://github.com/clariah/wp6-missieven/blob/master/docs/transcription.md\" title=\"~/text-fabric-data/github/clariah/wp6-missieven/tf/1.0/issuper.tf\">issuper</a>\n",
       "</div>\n",
       "<div class=\"fmono\">int</div>\n",
       "\n",
       "<span> whether a word has superscript typography possibly indicating the numerator of a fraction</span>\n",
       "\n",
       "</div>\n",
       "\n",
       "<div class=\"frow\">\n",
       "    <div class=\"fnamecat \">\n",
       "<a target=\"_blank\" href=\"https://github.com/clariah/wp6-missieven/blob/master/docs/transcription.md\" title=\"~/text-fabric-data/github/clariah/wp6-missieven/tf/1.0/isund.tf\">isund</a>\n",
       "</div>\n",
       "<div class=\"fmono\">str</div>\n",
       "\n",
       "<span> whether a word is underlined by typography</span>\n",
       "\n",
       "</div>\n",
       "\n",
       "<div class=\"frow\">\n",
       "    <div class=\"fnamecat \">\n",
       "<a target=\"_blank\" href=\"https://github.com/clariah/wp6-missieven/blob/master/docs/transcription.md\" title=\"~/text-fabric-data/github/clariah/wp6-missieven/tf/1.0/mark.tf\">mark</a>\n",
       "</div>\n",
       "<div class=\"fmono\">int</div>\n",
       "\n",
       "<span> footnote mark (not necessarily the same as shown on the printed page</span>\n",
       "\n",
       "</div>\n",
       "\n",
       "<div class=\"frow\">\n",
       "    <div class=\"fnamecat \">\n",
       "<a target=\"_blank\" href=\"https://github.com/clariah/wp6-missieven/blob/master/docs/transcription.md\" title=\"~/text-fabric-data/github/clariah/wp6-missieven/tf/1.0/month.tf\">month</a>\n",
       "</div>\n",
       "<div class=\"fmono\">int</div>\n",
       "\n",
       "<span> month part of the date of the letter</span>\n",
       "\n",
       "</div>\n",
       "\n",
       "<div class=\"frow\">\n",
       "    <div class=\"fnamecat \">\n",
       "<a target=\"_blank\" href=\"https://github.com/clariah/wp6-missieven/blob/master/docs/transcription.md\" title=\"~/text-fabric-data/github/clariah/wp6-missieven/tf/1.0/n.tf\">n</a>\n",
       "</div>\n",
       "<div class=\"fmono\">int</div>\n",
       "\n",
       "<span> number of a volume, letter, page, para, line, table</span>\n",
       "\n",
       "</div>\n",
       "\n",
       "<div class=\"frow\">\n",
       "    <div class=\"fnamecat \">\n",
       "<a target=\"_blank\" href=\"https://github.com/clariah/wp6-missieven/blob/master/docs/transcription.md\" title=\"~/text-fabric-data/github/clariah/wp6-missieven/tf/1.0/otype.tf\">otype</a>\n",
       "</div>\n",
       "<div class=\"fmono\">str</div>\n",
       "\n",
       "<span> </span>\n",
       "\n",
       "</div>\n",
       "\n",
       "<div class=\"frow\">\n",
       "    <div class=\"fnamecat \">\n",
       "<a target=\"_blank\" href=\"https://github.com/clariah/wp6-missieven/blob/master/docs/transcription.md\" title=\"~/text-fabric-data/github/clariah/wp6-missieven/tf/1.0/page.tf\">page</a>\n",
       "</div>\n",
       "<div class=\"fmono\">str</div>\n",
       "\n",
       "<span> number of the first page of this letter in this volume</span>\n",
       "\n",
       "</div>\n",
       "\n",
       "<div class=\"frow\">\n",
       "    <div class=\"fnamecat \">\n",
       "<a target=\"_blank\" href=\"https://github.com/clariah/wp6-missieven/blob/master/docs/transcription.md\" title=\"~/text-fabric-data/github/clariah/wp6-missieven/tf/1.0/place.tf\">place</a>\n",
       "</div>\n",
       "<div class=\"fmono\">str</div>\n",
       "\n",
       "<span> place from where the letter was sent</span>\n",
       "\n",
       "</div>\n",
       "\n",
       "<div class=\"frow\">\n",
       "    <div class=\"fnamecat \">\n",
       "<a target=\"_blank\" href=\"https://github.com/clariah/wp6-missieven/blob/master/docs/transcription.md\" title=\"~/text-fabric-data/github/clariah/wp6-missieven/tf/1.0/punc.tf\">punc</a>\n",
       "</div>\n",
       "<div class=\"fmono\">str</div>\n",
       "\n",
       "<span> punctuation and/or whitespace following a wordup to the next word</span>\n",
       "\n",
       "</div>\n",
       "\n",
       "<div class=\"frow\">\n",
       "    <div class=\"fnamecat \">\n",
       "<a target=\"_blank\" href=\"https://github.com/clariah/wp6-missieven/blob/master/docs/transcription.md\" title=\"~/text-fabric-data/github/clariah/wp6-missieven/tf/1.0/puncn.tf\">puncn</a>\n",
       "</div>\n",
       "<div class=\"fmono\">str</div>\n",
       "\n",
       "<span> punctuation and/or whitespace following a word,up to the next word, footnote text only</span>\n",
       "\n",
       "</div>\n",
       "\n",
       "<div class=\"frow\">\n",
       "    <div class=\"fnamecat \">\n",
       "<a target=\"_blank\" href=\"https://github.com/clariah/wp6-missieven/blob/master/docs/transcription.md\" title=\"~/text-fabric-data/github/clariah/wp6-missieven/tf/1.0/punco.tf\">punco</a>\n",
       "</div>\n",
       "<div class=\"fmono\">str</div>\n",
       "\n",
       "<span> punctuation and/or whitespace following a word,up to the next word, original text only</span>\n",
       "\n",
       "</div>\n",
       "\n",
       "<div class=\"frow\">\n",
       "    <div class=\"fnamecat \">\n",
       "<a target=\"_blank\" href=\"https://github.com/clariah/wp6-missieven/blob/master/docs/transcription.md\" title=\"~/text-fabric-data/github/clariah/wp6-missieven/tf/1.0/puncr.tf\">puncr</a>\n",
       "</div>\n",
       "<div class=\"fmono\">str</div>\n",
       "\n",
       "<span> punctuation and/or whitespace following a word,up to the next word, remark text only</span>\n",
       "\n",
       "</div>\n",
       "\n",
       "<div class=\"frow\">\n",
       "    <div class=\"fnamecat \">\n",
       "<a target=\"_blank\" href=\"https://github.com/clariah/wp6-missieven/blob/master/docs/transcription.md\" title=\"~/text-fabric-data/github/clariah/wp6-missieven/tf/1.0/rawdate.tf\">rawdate</a>\n",
       "</div>\n",
       "<div class=\"fmono\">str</div>\n",
       "\n",
       "<span> the date the letter was sent</span>\n",
       "\n",
       "</div>\n",
       "\n",
       "<div class=\"frow\">\n",
       "    <div class=\"fnamecat \">\n",
       "<a target=\"_blank\" href=\"https://github.com/clariah/wp6-missieven/blob/master/docs/transcription.md\" title=\"~/text-fabric-data/github/clariah/wp6-missieven/tf/1.0/row.tf\">row</a>\n",
       "</div>\n",
       "<div class=\"fmono\">int</div>\n",
       "\n",
       "<span> row number of a row of column in a table</span>\n",
       "\n",
       "</div>\n",
       "\n",
       "<div class=\"frow\">\n",
       "    <div class=\"fnamecat \">\n",
       "<a target=\"_blank\" href=\"https://github.com/clariah/wp6-missieven/blob/master/docs/transcription.md\" title=\"~/text-fabric-data/github/clariah/wp6-missieven/tf/1.0/seq.tf\">seq</a>\n",
       "</div>\n",
       "<div class=\"fmono\">str</div>\n",
       "\n",
       "<span> ('sequence number of this letter among the letters of the same author in this volume',)</span>\n",
       "\n",
       "</div>\n",
       "\n",
       "<div class=\"frow\">\n",
       "    <div class=\"fnamecat \">\n",
       "<a target=\"_blank\" href=\"https://github.com/clariah/wp6-missieven/blob/master/docs/transcription.md\" title=\"~/text-fabric-data/github/clariah/wp6-missieven/tf/1.0/status.tf\">status</a>\n",
       "</div>\n",
       "<div class=\"fmono\">str</div>\n",
       "\n",
       "<span> status of the letter, e.g. secret, copy</span>\n",
       "\n",
       "</div>\n",
       "\n",
       "<div class=\"frow\">\n",
       "    <div class=\"fnamecat \">\n",
       "<a target=\"_blank\" href=\"https://github.com/clariah/wp6-missieven/blob/master/docs/transcription.md\" title=\"~/text-fabric-data/github/clariah/wp6-missieven/tf/1.0/title.tf\">title</a>\n",
       "</div>\n",
       "<div class=\"fmono\">str</div>\n",
       "\n",
       "<span> title of the letter</span>\n",
       "\n",
       "</div>\n",
       "\n",
       "<div class=\"frow\">\n",
       "    <div class=\"fnamecat \">\n",
       "<a target=\"_blank\" href=\"https://github.com/clariah/wp6-missieven/blob/master/docs/transcription.md\" title=\"~/text-fabric-data/github/clariah/wp6-missieven/tf/1.0/trans.tf\">trans</a>\n",
       "</div>\n",
       "<div class=\"fmono\">str</div>\n",
       "\n",
       "<span> transcription of a word</span>\n",
       "\n",
       "</div>\n",
       "\n",
       "<div class=\"frow\">\n",
       "    <div class=\"fnamecat \">\n",
       "<a target=\"_blank\" href=\"https://github.com/clariah/wp6-missieven/blob/master/docs/transcription.md\" title=\"~/text-fabric-data/github/clariah/wp6-missieven/tf/1.0/transn.tf\">transn</a>\n",
       "</div>\n",
       "<div class=\"fmono\">str</div>\n",
       "\n",
       "<span> transcription of a word, only for footnote text</span>\n",
       "\n",
       "</div>\n",
       "\n",
       "<div class=\"frow\">\n",
       "    <div class=\"fnamecat \">\n",
       "<a target=\"_blank\" href=\"https://github.com/clariah/wp6-missieven/blob/master/docs/transcription.md\" title=\"~/text-fabric-data/github/clariah/wp6-missieven/tf/1.0/transo.tf\">transo</a>\n",
       "</div>\n",
       "<div class=\"fmono\">str</div>\n",
       "\n",
       "<span> transcription of a word, only for original text</span>\n",
       "\n",
       "</div>\n",
       "\n",
       "<div class=\"frow\">\n",
       "    <div class=\"fnamecat \">\n",
       "<a target=\"_blank\" href=\"https://github.com/clariah/wp6-missieven/blob/master/docs/transcription.md\" title=\"~/text-fabric-data/github/clariah/wp6-missieven/tf/1.0/transr.tf\">transr</a>\n",
       "</div>\n",
       "<div class=\"fmono\">str</div>\n",
       "\n",
       "<span> transcription of a word, only for remark text</span>\n",
       "\n",
       "</div>\n",
       "\n",
       "<div class=\"frow\">\n",
       "    <div class=\"fnamecat \">\n",
       "<a target=\"_blank\" href=\"https://github.com/clariah/wp6-missieven/blob/master/docs/transcription.md\" title=\"~/text-fabric-data/github/clariah/wp6-missieven/tf/1.0/vol.tf\">vol</a>\n",
       "</div>\n",
       "<div class=\"fmono\">int</div>\n",
       "\n",
       "<span> volume number</span>\n",
       "\n",
       "</div>\n",
       "\n",
       "<div class=\"frow\">\n",
       "    <div class=\"fnamecat \">\n",
       "<a target=\"_blank\" href=\"https://github.com/clariah/wp6-missieven/blob/master/docs/transcription.md\" title=\"~/text-fabric-data/github/clariah/wp6-missieven/tf/1.0/weblink.tf\">weblink</a>\n",
       "</div>\n",
       "<div class=\"fmono\">str</div>\n",
       "\n",
       "<span> the page-specific part of web links for page nodes</span>\n",
       "\n",
       "</div>\n",
       "\n",
       "<div class=\"frow\">\n",
       "    <div class=\"fnamecat \">\n",
       "<a target=\"_blank\" href=\"https://github.com/clariah/wp6-missieven/blob/master/docs/transcription.md\" title=\"~/text-fabric-data/github/clariah/wp6-missieven/tf/1.0/x.tf\">x</a>\n",
       "</div>\n",
       "<div class=\"fmono\">int</div>\n",
       "\n",
       "<span> column offset of a column in a row in a table</span>\n",
       "\n",
       "</div>\n",
       "\n",
       "<div class=\"frow\">\n",
       "    <div class=\"fnamecat \">\n",
       "<a target=\"_blank\" href=\"https://github.com/clariah/wp6-missieven/blob/master/docs/transcription.md\" title=\"~/text-fabric-data/github/clariah/wp6-missieven/tf/1.0/year.tf\">year</a>\n",
       "</div>\n",
       "<div class=\"fmono\">int</div>\n",
       "\n",
       "<span> year part of the date of the letter</span>\n",
       "\n",
       "</div>\n",
       "\n",
       "<div class=\"frow\">\n",
       "    <div class=\"fnamecat edge\">\n",
       "<a target=\"_blank\" href=\"https://github.com/clariah/wp6-missieven/blob/master/docs/transcription.md\" title=\"~/text-fabric-data/github/clariah/wp6-missieven/tf/1.0/note.tf\">note</a>\n",
       "</div>\n",
       "<div class=\"fmono\">none</div>\n",
       "\n",
       "<span> edge between a word and the footnotes associated with it</span>\n",
       "\n",
       "</div>\n",
       "\n",
       "<div class=\"frow\">\n",
       "    <div class=\"fnamecat edge\">\n",
       "<a target=\"_blank\" href=\"https://github.com/clariah/wp6-missieven/blob/master/docs/transcription.md\" title=\"~/text-fabric-data/github/clariah/wp6-missieven/tf/1.0/oslots.tf\">oslots</a>\n",
       "</div>\n",
       "<div class=\"fmono\">none</div>\n",
       "\n",
       "<span> </span>\n",
       "\n",
       "</div>\n",
       "\n",
       "    </div>\n",
       "</details>\n"
      ],
      "text/plain": [
       "<IPython.core.display.HTML object>"
      ]
     },
     "metadata": {},
     "output_type": "display_data"
    },
    {
     "data": {
      "text/html": [
       "<style>tr.tf.ltr, td.tf.ltr, th.tf.ltr { text-align: left ! important;}\n",
       "tr.tf.rtl, td.tf.rtl, th.tf.rtl { text-align: right ! important;}\n",
       "@font-face {\n",
       "  font-family: \"Gentium Plus\";\n",
       "  src: local('Gentium Plus'), local('GentiumPlus'),\n",
       "    url('/server/static/fonts/GentiumPlus-R.woff') format('woff'),\n",
       "    url('https://github.com/annotation/text-fabric/blob/master/tf/server/static/fonts/GentiumPlus-R.woff?raw=true') format('woff');\n",
       "}\n",
       "\n",
       "@font-face {\n",
       "  font-family: \"Ezra SIL\";\n",
       "  src: local('Ezra SIL'), local('EzraSIL'),\n",
       "    url('/server/static/fonts/SILEOT.woff') format('woff'),\n",
       "    url('https://github.com/annotation/text-fabric/blob/master/tf/server/static/fonts/SILEOT.woff?raw=true') format('woff');\n",
       "}\n",
       "\n",
       "@font-face {\n",
       "  font-family: \"SBL Hebrew\";\n",
       "  src: local('SBL Hebrew'), local('SBLHebrew'),\n",
       "    url('/server/static/fonts/SBL_Hbrw.woff') format('woff'),\n",
       "    url('https://github.com/annotation/text-fabric/blob/master/tf/server/static/fonts/SBL_Hbrw.woff?raw=true') format('woff');\n",
       "}\n",
       "\n",
       "@font-face {\n",
       "  font-family: \"Estrangelo Edessa\";\n",
       "  src: local('Estrangelo Edessa'), local('EstrangeloEdessa');\n",
       "    url('/server/static/fonts/SyrCOMEdessa.woff') format('woff'),\n",
       "    url('https://github.com/annotation/text-fabric/blob/master/tf/server/static/fonts/SyrCOMEdessa.woff?raw=true') format('woff');\n",
       "}\n",
       "\n",
       "@font-face {\n",
       "  font-family: AmiriQuran;\n",
       "  font-style: normal;\n",
       "  font-weight: 400;\n",
       "  src: local('Amiri Quran'), local('AmiriQuran'),\n",
       "    url('/server/static/fonts/AmiriQuran.woff') format('woff'),\n",
       "    url('https://github.com/annotation/text-fabric/blob/master/tf/server/static/fonts/AmiriQuran.woff?raw=true') format('woff');\n",
       "}\n",
       "\n",
       "@font-face {\n",
       "  font-family: AmiriQuranColored;\n",
       "  font-style: normal;\n",
       "  font-weight: 400;\n",
       "  src: local('Amiri Quran Colored'), local('AmiriQuranColored'),\n",
       "    url('/server/static/fonts/AmiriQuranColored.woff') format('woff'),\n",
       "    url('https://github.com/annotation/text-fabric/blob/master/tf/server/static/fonts/AmiriQuranColored.woff?raw=true') format('woff');\n",
       "}\n",
       "\n",
       "@font-face {\n",
       "  font-family: \"Santakku\";\n",
       "  src: local('Santakku'),\n",
       "    url('/server/static/fonts/Santakku.woff') format('woff'),\n",
       "    url('https://github.com/annotation/text-fabric/blob/master/tf/server/static/fonts/Santakku.woff?raw=true') format('woff');\n",
       "}\n",
       "\n",
       "@font-face {\n",
       "  font-family: \"SantakkuM\";\n",
       "  src: local('SantakkuM'),\n",
       "    url('/server/static/fonts/SantakkuM.woff') format('woff'),\n",
       "    url('https://github.com/annotation/text-fabric/blob/master/tf/server/static/fonts/SantakkuM.woff?raw=true') format('woff');\n",
       "}\n",
       "/* bypassing some classical notebook settings */\n",
       "div#notebook {\n",
       "  line-height: unset;\n",
       "}\n",
       "/* neutral text */\n",
       ".txtn,.txtn a:visited,.txtn a:link {\n",
       "    font-family: sans-serif;\n",
       "    font-size: medium;\n",
       "    direction: ltr;\n",
       "    unicode-bidi: embed;\n",
       "    text-decoration: none;\n",
       "    color: var(--text-color);\n",
       "}\n",
       "/* transcription text */\n",
       ".txtt,.txtt a:visited,.txtt a:link {\n",
       "    font-family: monospace;\n",
       "    font-size: medium;\n",
       "    direction: ltr;\n",
       "    unicode-bidi: embed;\n",
       "    text-decoration: none;\n",
       "    color: var(--text-color);\n",
       "}\n",
       "/* source text */\n",
       ".txto,.txto a:visited,.txto a:link {\n",
       "    font-family: serif;\n",
       "    font-size: medium;\n",
       "    direction: ltr;\n",
       "    unicode-bidi: embed;\n",
       "    text-decoration: none;\n",
       "    color: var(--text-color);\n",
       "}\n",
       "/* phonetic text */\n",
       ".txtp,.txtp a:visited,.txtp a:link {\n",
       "    font-family: Gentium, sans-serif;\n",
       "    font-size: medium;\n",
       "    direction: ltr;\n",
       "    unicode-bidi: embed;\n",
       "    text-decoration: none;\n",
       "    color: var(--text-color);\n",
       "}\n",
       "/* original script text */\n",
       ".txtu,.txtu a:visited,.txtu a:link {\n",
       "    font-family: Gentium, sans-serif;\n",
       "    font-size: medium;\n",
       "    text-decoration: none;\n",
       "    color: var(--text-color);\n",
       "}\n",
       "/* hebrew */\n",
       ".txtu.hbo,.lex.hbo {\n",
       "    font-family: \"Ezra SIL\", \"SBL Hebrew\", sans-serif;\n",
       "    font-size: large;\n",
       "    direction: rtl ! important;\n",
       "    unicode-bidi: embed;\n",
       "}\n",
       "/* syriac */\n",
       ".txtu.syc,.lex.syc {\n",
       "    font-family: \"Estrangelo Edessa\", sans-serif;\n",
       "    font-size: medium;\n",
       "    direction: rtl ! important;\n",
       "    unicode-bidi: embed;\n",
       "}\n",
       "/* neo aramaic */\n",
       ".txtu.cld,.lex.cld {\n",
       "    font-family: \"CharisSIL-R\", sans-serif;\n",
       "    font-size: medium;\n",
       "    direction: ltr ! important;\n",
       "    unicode-bidi: embed;\n",
       "}\n",
       "/* standard arabic */\n",
       ".txtu.ara,.lex.ara {\n",
       "    font-family: \"AmiriQuran\", sans-serif;\n",
       "    font-size: large;\n",
       "    direction: rtl ! important;\n",
       "    unicode-bidi: embed;\n",
       "}\n",
       "/* cuneiform */\n",
       ".txtu.akk,.lex.akk {\n",
       "    font-family: Santakku, sans-serif;\n",
       "    font-size: large;\n",
       "    direction: ltr ! important;\n",
       "    unicode-bidi: embed;\n",
       "}\n",
       "/* greek */\n",
       ".txtu.grc,.lex.grc a:link {\n",
       "    font-family: Gentium, sans-serif;\n",
       "    font-size: medium;\n",
       "    direction: ltr ! important;\n",
       "    unicode-bidi: embed;\n",
       "}\n",
       "a:hover {\n",
       "    text-decoration: underline | important;\n",
       "    color: #0000ff | important;\n",
       "}\n",
       ".ltr {\n",
       "    direction: ltr ! important;\n",
       "    unicode-bidi: embed;\n",
       "}\n",
       ".rtl {\n",
       "    direction: rtl ! important;\n",
       "    unicode-bidi: embed;\n",
       "}\n",
       ".ubd {\n",
       "    unicode-bidi: embed;\n",
       "}\n",
       ".col {\n",
       "   display: inline-block;\n",
       "}\n",
       ".features {\n",
       "    font-family: monospace;\n",
       "    font-size: medium;\n",
       "    font-weight: bold;\n",
       "    color: var(--features);\n",
       "    display: flex;\n",
       "    flex-flow: column nowrap;\n",
       "    justify-content: flex-start;\n",
       "    align-items: flex-start;\n",
       "    align-content: flex-start;\n",
       "    padding: 2px;\n",
       "    margin: 2px;\n",
       "    direction: ltr;\n",
       "    unicode-bidi: embed;\n",
       "    border: var(--meta-width) solid var(--meta-color);\n",
       "    border-radius: var(--meta-width);\n",
       "}\n",
       ".features div,.features span {\n",
       "    padding: 0;\n",
       "    margin: -2px 0;\n",
       "}\n",
       ".features .f {\n",
       "    font-family: sans-serif;\n",
       "    font-size: small;\n",
       "    font-weight: normal;\n",
       "    color: #5555bb;\n",
       "}\n",
       ".features .xft {\n",
       "  color: #000000;\n",
       "  background-color: #eeeeee;\n",
       "  font-size: medium;\n",
       "  margin: 2px 0px;\n",
       "}\n",
       ".features .xft .f {\n",
       "  color: #000000;\n",
       "  background-color: #eeeeee;\n",
       "  font-size: small;\n",
       "  font-weight: normal;\n",
       "}\n",
       ".tfsechead {\n",
       "    font-family: sans-serif;\n",
       "    font-size: small;\n",
       "    font-weight: bold;\n",
       "    color: var(--tfsechead);\n",
       "    unicode-bidi: embed;\n",
       "    text-align: start;\n",
       "}\n",
       ".structure {\n",
       "    font-family: sans-serif;\n",
       "    font-size: small;\n",
       "    font-weight: bold;\n",
       "    color: var(--structure);\n",
       "    unicode-bidi: embed;\n",
       "    text-align: start;\n",
       "}\n",
       ".comments {\n",
       "    display: flex;\n",
       "    justify-content: flex-start;\n",
       "    align-items: flex-start;\n",
       "    align-content: flex-start;\n",
       "    flex-flow: column nowrap;\n",
       "}\n",
       ".nd, a:link.nd {\n",
       "    font-family: sans-serif;\n",
       "    font-size: small;\n",
       "    color: var(--node);\n",
       "    vertical-align: super;\n",
       "    direction: ltr ! important;\n",
       "    unicode-bidi: embed;\n",
       "}\n",
       ".lex {\n",
       "  color: var(--lex-color);;\n",
       "}\n",
       ".children,.children.ltr {\n",
       "    display: flex;\n",
       "    border: 0;\n",
       "    background-color: #ffffff;\n",
       "    justify-content: flex-start;\n",
       "    align-items: flex-start;\n",
       "    align-content: flex-start;\n",
       "}\n",
       ".children.stretch {\n",
       "    align-items: stretch;\n",
       "}\n",
       ".children.hor {\n",
       "    flex-flow: row nowrap;\n",
       "}\n",
       ".children.hor.wrap {\n",
       "    flex-flow: row wrap;\n",
       "}\n",
       ".children.ver {\n",
       "    flex-flow: column nowrap;\n",
       "}\n",
       ".children.ver.wrap {\n",
       "    flex-flow: column wrap;\n",
       "}\n",
       ".contnr {\n",
       "    width: fit-content;\n",
       "    display: flex;\n",
       "    justify-content: flex-start;\n",
       "    align-items: flex-start;\n",
       "    align-content: flex-start;\n",
       "    flex-flow: column nowrap;\n",
       "    background: #ffffff none repeat scroll 0 0;\n",
       "    padding:  10px 2px 2px 2px;\n",
       "    margin: 16px 2px 2px 2px;\n",
       "    border-style: solid;\n",
       "    font-size: small;\n",
       "}\n",
       ".contnr.trm {\n",
       "    background-attachment: local;\n",
       "}\n",
       ".contnr.cnul {\n",
       "    padding:  0;\n",
       "    margin: 0;\n",
       "    border-style: solid;\n",
       "    font-size: xx-small;\n",
       "}\n",
       ".contnr.cnul,.lbl.cnul {\n",
       "    border-color: var(--border-color-nul);\n",
       "    border-width: var(--border-width-nul);\n",
       "    border-radius: var(--border-width-nul);\n",
       "}\n",
       ".contnr.c0,.lbl.c0 {\n",
       "    border-color: var(--border-color0);\n",
       "    border-width: var(--border-width0);\n",
       "    border-radius: var(--border-width0);\n",
       "}\n",
       ".contnr.c1,.lbl.c1 {\n",
       "    border-color: var(--border-color1);\n",
       "    border-width: var(--border-width1);\n",
       "    border-radius: var(--border-width1);\n",
       "}\n",
       ".contnr.c2,.lbl.c2 {\n",
       "    border-color: var(--border-color2);\n",
       "    border-width: var(--border-width2);\n",
       "    border-radius: var(--border-width2);\n",
       "}\n",
       ".contnr.c3,.lbl.c3 {\n",
       "    border-color: var(--border-color3);\n",
       "    border-width: var(--border-width3);\n",
       "    border-radius: var(--border-width3);\n",
       "}\n",
       ".contnr.c4,.lbl.c4 {\n",
       "    border-color: var(--border-color4);\n",
       "    border-width: var(--border-width4);\n",
       "    border-radius: var(--border-width4);\n",
       "}\n",
       "span.plain {\n",
       "    display: inline-block;\n",
       "    white-space: pre-wrap;\n",
       "}\n",
       ".plain {\n",
       "    background-color: #ffffff;\n",
       "}\n",
       ".plain.l,.contnr.l,.contnr.l>.lbl {\n",
       "    border-left-style: dotted\n",
       "}\n",
       ".plain.r,.contnr.r,.contnr.r>.lbl {\n",
       "    border-right-style: dotted\n",
       "}\n",
       ".plain.lno,.contnr.lno,.contnr.lno>.lbl {\n",
       "    border-left-style: none\n",
       "}\n",
       ".plain.rno,.contnr.rno,.contnr.rno>.lbl {\n",
       "    border-right-style: none\n",
       "}\n",
       ".plain.l {\n",
       "    padding-left: 4px;\n",
       "    margin-left: 2px;\n",
       "    border-width: var(--border-width-plain);\n",
       "}\n",
       ".plain.r {\n",
       "    padding-right: 4px;\n",
       "    margin-right: 2px;\n",
       "    border-width: var(--border-width-plain);\n",
       "}\n",
       ".lbl {\n",
       "    font-family: monospace;\n",
       "    margin-top: -24px;\n",
       "    margin-left: 20px;\n",
       "    background: #ffffff none repeat scroll 0 0;\n",
       "    padding: 0 6px;\n",
       "    border-style: solid;\n",
       "    display: block;\n",
       "    color: var(--label)\n",
       "}\n",
       ".lbl.trm {\n",
       "    background-attachment: local;\n",
       "    margin-top: 2px;\n",
       "    margin-left: 2px;\n",
       "    padding: 2px 2px;\n",
       "    border-style: none;\n",
       "}\n",
       ".lbl.cnul {\n",
       "    font-size: xx-small;\n",
       "}\n",
       ".lbl.c0 {\n",
       "    font-size: small;\n",
       "}\n",
       ".lbl.c1 {\n",
       "    font-size: small;\n",
       "}\n",
       ".lbl.c2 {\n",
       "    font-size: medium;\n",
       "}\n",
       ".lbl.c3 {\n",
       "    font-size: medium;\n",
       "}\n",
       ".lbl.c4 {\n",
       "    font-size: large;\n",
       "}\n",
       ".occs, a:link.occs {\n",
       "    font-size: small;\n",
       "}\n",
       "\n",
       "/* PROVENANCE */\n",
       "\n",
       "div.prov {\n",
       "\tmargin: 40px;\n",
       "\tpadding: 20px;\n",
       "\tborder: 2px solid var(--fog-rim);\n",
       "}\n",
       "div.pline {\n",
       "\tdisplay: flex;\n",
       "\tflex-flow: row nowrap;\n",
       "\tjustify-content: stretch;\n",
       "\talign-items: baseline;\n",
       "}\n",
       "div.p2line {\n",
       "\tmargin-left: 2em;\n",
       "\tdisplay: flex;\n",
       "\tflex-flow: row nowrap;\n",
       "\tjustify-content: stretch;\n",
       "\talign-items: baseline;\n",
       "}\n",
       "div.psline {\n",
       "\tdisplay: flex;\n",
       "\tflex-flow: row nowrap;\n",
       "\tjustify-content: stretch;\n",
       "\talign-items: baseline;\n",
       "\tbackground-color: var(--gold-mist-back);\n",
       "}\n",
       "div.pname {\n",
       "\tflex: 0 0 5rem;\n",
       "\tfont-weight: bold;\n",
       "}\n",
       "div.pval {\n",
       "    flex: 1 1 auto;\n",
       "}\n",
       "\n",
       "/* KEYBOARD */\n",
       ".ccoff {\n",
       "  background-color: inherit;\n",
       "}\n",
       ".ccon {\n",
       "  background-color: yellow ! important;\n",
       "}\n",
       ".ccon,.ccoff {\n",
       "  padding-right: 0.1rem;\n",
       "  padding-left: 0.1rem;\n",
       "}\n",
       ".ccline {\n",
       "  font-size: xx-large;\n",
       "  font-weight: bold;\n",
       "}\n",
       "/* TF header */\n",
       "\n",
       "summary {\n",
       "  /* needed to override the normalize.less\n",
       "   * in the classical jupyter notebook\n",
       "   */\n",
       "  display: list-item ! important;\n",
       "}\n",
       "\n",
       ".fcorpus {\n",
       "  display: flex;\n",
       "  flex-flow: column nowrap;\n",
       "  justify-content: flex-start;\n",
       "  align-items: flex-start;\n",
       "  align-content: flex-start;\n",
       "}\n",
       ".frow {\n",
       "  display: flex;\n",
       "  flex-flow: row nowrap;\n",
       "  justify-content: flex-start;\n",
       "  align-items: flex-start;\n",
       "  align-content: flex-start;\n",
       "}\n",
       ".fmeta {\n",
       "  display: flex;\n",
       "  flex-flow: column nowrap;\n",
       "  justify-content: flex-start;\n",
       "  align-items: flex-start;\n",
       "  align-content: flex-start;\n",
       "}\n",
       ".fmetarow {\n",
       "  display: flex;\n",
       "  flex-flow: row nowrap;\n",
       "  justify-content: flex-start;\n",
       "  align-items: flex-start;\n",
       "  align-content: flex-start;\n",
       "}\n",
       ".fmetakey {\n",
       "  min-width: 10rem;\n",
       "  font-family: monospace;\n",
       "}\n",
       ".fnamecat {\n",
       "  min-width: 10rem;\n",
       "}\n",
       ".fnamecat.edge {\n",
       "  font-weight: bold;\n",
       "  font-style: italic;\n",
       "}\n",
       ".fmono {\n",
       "    font-family: monospace;\n",
       "}\n",
       "\n",
       ":root {\n",
       "\t--node:               hsla(120, 100%,  20%, 1.0  );\n",
       "\t--label:              hsla(  0, 100%,  20%, 1.0  );\n",
       "\t--tfsechead:          hsla(  0, 100%,  25%, 1.0  );\n",
       "\t--structure:          hsla(120, 100%,  25%, 1.0  );\n",
       "\t--features:           hsla(  0,   0%,  30%, 1.0  );\n",
       "  --text-color:         hsla( 60,  80%,  10%, 1.0  );\n",
       "  --lex-color:          hsla(220,  90%,  60%, 1.0  );\n",
       "  --meta-color:         hsla(  0,   0%,  90%, 0.7  );\n",
       "  --meta-width:         3px;\n",
       "  --border-color-nul:   hsla(  0,   0%,  90%, 0.5  );\n",
       "  --border-color0:      hsla(  0,   0%,  90%, 0.9  );\n",
       "  --border-color1:      hsla(  0,   0%,  80%, 0.9  );\n",
       "  --border-color2:      hsla(  0,   0%,  70%, 0.9  );\n",
       "  --border-color3:      hsla(  0,   0%,  80%, 0.8  );\n",
       "  --border-color4:      hsla(  0,   0%,  60%, 0.9  );\n",
       "  --border-width-nul:   2px;\n",
       "  --border-width0:      2px;\n",
       "  --border-width1:      3px;\n",
       "  --border-width2:      4px;\n",
       "  --border-width3:      6px;\n",
       "  --border-width4:      5px;\n",
       "  --border-width-plain: 2px;\n",
       "}\n",
       ".hl {\n",
       "  background-color: var(--hl-strong);\n",
       "}\n",
       "span.hl {\n",
       "\tbackground-color: var(--hl-strong);\n",
       "\tborder-width: 0;\n",
       "\tborder-radius: 2px;\n",
       "\tborder-style: solid;\n",
       "}\n",
       "div.contnr.hl,div.lbl.hl {\n",
       "  background-color: var(--hl-strong);\n",
       "}\n",
       "div.contnr.hl {\n",
       "  border-color: var(--hl-rim) ! important;\n",
       "\tborder-width: 4px ! important;\n",
       "}\n",
       "\n",
       "span.hlbx {\n",
       "\tborder-color: var(--hl-rim);\n",
       "\tborder-width: 4px ! important;\n",
       "\tborder-style: solid;\n",
       "\tborder-radius: 6px;\n",
       "  padding: 4px;\n",
       "  margin: 4px;\n",
       "}\n",
       "\n",
       "span.plain {\n",
       "  display: inline-block;\n",
       "  white-space: pre-wrap;\n",
       "}\n",
       "\n",
       ":root {\n",
       "\t--hl-strong:        hsla( 60, 100%,  70%, 0.9  );\n",
       "\t--hl-rim:           hsla( 55,  80%,  50%, 1.0  );\n",
       "}\n",
       ".remark {\n",
       "  font-size: large;\n",
       "  font-style: italic;\n",
       "}\n",
       ".folio {\n",
       "  font-size: small;\n",
       "  color: #668866;\n",
       "}\n",
       ".fmark:after {\n",
       "  font-size: small;\n",
       "  font-weight: bold;\n",
       "  vertical-align: super;\n",
       "  color: #ddaa22;\n",
       "}\n",
       ".note {\n",
       "  vertical-align: super;\n",
       "  font-size: small;\n",
       "  color: #774400;\n",
       "}\n",
       ".ref {\n",
       "  font-size: small;\n",
       "  font-weight: bold;\n",
       "  color: #666688;\n",
       "}\n",
       ".emph {\n",
       "  font-style: italic;\n",
       "}\n",
       ".und {\n",
       "  text-decoration: underline;\n",
       "}\n",
       ".q {\n",
       "  color: #777777;\n",
       "  font-weight: bold;\n",
       "}\n",
       ".num {\n",
       "  font-size: small;\n",
       "  vertical-align: super;\n",
       "}\n",
       ".den {\n",
       "  font-size: small;\n",
       "  vertical-align: sub;\n",
       "}\n",
       ".sub {\n",
       "  vertical-align: sub;\n",
       "}\n",
       ".super {\n",
       "  vertical-align: super;\n",
       "}\n",
       ".special {\n",
       "  font-family: monospace;\n",
       "  font-weight: bold;\n",
       "  color: #886666;\n",
       "}\n",
       "</style>"
      ],
      "text/plain": [
       "<IPython.core.display.HTML object>"
      ]
     },
     "metadata": {},
     "output_type": "display_data"
    },
    {
     "data": {
      "text/html": [
       "\n",
       "<script>\n",
       "const copyChar = (el, c) => {\n",
       "    for (const el of document.getElementsByClassName('ccon')) {\n",
       "        el.className = 'ccoff'\n",
       "    }\n",
       "    el.className = 'ccon'\n",
       "    navigator.clipboard.writeText(String.fromCharCode(c))\n",
       "}\n",
       "</script>\n"
      ],
      "text/plain": [
       "<IPython.core.display.HTML object>"
      ]
     },
     "metadata": {},
     "output_type": "display_data"
    },
    {
     "data": {
      "text/html": [
       "<div><b>Text-Fabric API:</b> names <a target=\"_blank\" href=\"https://annotation.github.io/text-fabric/tf/cheatsheet.html\" title=\"doc\">N F E L T S C TF</a> directly usable</div><hr>"
      ],
      "text/plain": [
       "<IPython.core.display.HTML object>"
      ]
     },
     "metadata": {},
     "output_type": "display_data"
    }
   ],
   "source": [
    "A = use(\"clariah/wp6-missieven:clone\", hoist=globals())"
   ]
  },
  {
   "cell_type": "code",
   "execution_count": 12,
   "metadata": {},
   "outputs": [
    {
     "data": {
      "text/html": [
       "<p><b>Special characters in <code>text-orig-full</code></b></p>\n",
       "<p>\n",
       "\n",
       "<code class=\"ccoff \" onclick=\"copyChar(this, 224)\">à</code>\n",
       "<code class=\"ccoff \" onclick=\"copyChar(this, 225)\">á</code>\n",
       "<code class=\"ccoff \" onclick=\"copyChar(this, 226)\">â</code>\n",
       "<code class=\"ccoff \" onclick=\"copyChar(this, 228)\">ä</code>\n",
       "<code class=\"ccoff \" onclick=\"copyChar(this, 231)\">ç</code>\n",
       "<code class=\"ccoff \" onclick=\"copyChar(this, 200)\">È</code>\n",
       "<code class=\"ccoff \" onclick=\"copyChar(this, 232)\">è</code>\n",
       "<code class=\"ccoff \" onclick=\"copyChar(this, 201)\">É</code>\n",
       "<code class=\"ccoff \" onclick=\"copyChar(this, 233)\">é</code>\n",
       "<code class=\"ccoff \" onclick=\"copyChar(this, 202)\">Ê</code>\n",
       "<code class=\"ccoff \" onclick=\"copyChar(this, 234)\">ê</code>\n",
       "<code class=\"ccoff \" onclick=\"copyChar(this, 203)\">Ë</code>\n",
       "<code class=\"ccoff \" onclick=\"copyChar(this, 235)\">ë</code>\n",
       "<code class=\"ccoff \" onclick=\"copyChar(this, 207)\">Ï</code>\n",
       "<code class=\"ccoff \" onclick=\"copyChar(this, 239)\">ï</code>\n",
       "<code class=\"ccoff \" onclick=\"copyChar(this, 211)\">Ó</code>\n",
       "<code class=\"ccoff \" onclick=\"copyChar(this, 243)\">ó</code>\n",
       "<code class=\"ccoff \" onclick=\"copyChar(this, 214)\">Ö</code>\n",
       "<code class=\"ccoff \" onclick=\"copyChar(this, 246)\">ö</code>\n",
       "<code class=\"ccoff \" onclick=\"copyChar(this, 220)\">Ü</code>\n",
       "<code class=\"ccoff \" onclick=\"copyChar(this, 252)\">ü</code>\n",
       "<code class=\"ccoff \" onclick=\"copyChar(this, 163)\">£</code>\n",
       "<code class=\"ccoff \" onclick=\"copyChar(this, 167)\">§</code>\n",
       "<code class=\"ccoff \" onclick=\"copyChar(this, 169)\">©</code>\n",
       "<code class=\"ccoff \" onclick=\"copyChar(this, 171)\">«</code>\n",
       "<code class=\"ccoff \" onclick=\"copyChar(this, 172)\">¬</code>\n",
       "<code class=\"ccoff \" onclick=\"copyChar(this, 174)\">®</code>\n",
       "<code class=\"ccoff \" onclick=\"copyChar(this, 176)\">°</code>\n",
       "<code class=\"ccoff \" onclick=\"copyChar(this, 177)\">±</code>\n",
       "<code class=\"ccoff \" onclick=\"copyChar(this, 187)\">»</code>\n",
       "<code class=\"ccoff \" onclick=\"copyChar(this, 188)\">¼</code>\n",
       "<code class=\"ccoff \" onclick=\"copyChar(this, 189)\">½</code>\n",
       "<code class=\"ccoff \" onclick=\"copyChar(this, 230)\">æ</code>\n",
       "<code class=\"ccoff \" onclick=\"copyChar(this, 402)\">ƒ</code>\n",
       "<code class=\"ccoff \" onclick=\"copyChar(this, 8212)\">—</code>\n",
       "<code class=\"ccoff \" onclick=\"copyChar(this, 8216)\">‘</code>\n",
       "<code class=\"ccoff \" onclick=\"copyChar(this, 8217)\">’</code>\n",
       "<code class=\"ccoff \" onclick=\"copyChar(this, 8220)\">“</code>\n",
       "<code class=\"ccoff \" onclick=\"copyChar(this, 8221)\">”</code>\n",
       "<code class=\"ccoff \" onclick=\"copyChar(this, 8222)\">„</code>\n",
       "<code class=\"ccoff \" onclick=\"copyChar(this, 8226)\">•</code>\n",
       "<code class=\"ccoff \" onclick=\"copyChar(this, 8230)\">…</code>\n",
       "<code class=\"ccoff \" onclick=\"copyChar(this, 8364)\">€</code>\n",
       "<code class=\"ccoff \" onclick=\"copyChar(this, 8482)\">™</code>\n",
       "<code class=\"ccoff \" onclick=\"copyChar(this, 8746)\">∪</code>\n",
       "<code class=\"ccoff \" onclick=\"copyChar(this, 8804)\">≤</code>\n",
       "<code class=\"ccoff \" onclick=\"copyChar(this, 8805)\">≥</code>\n",
       "<code class=\"ccoff \" onclick=\"copyChar(this, 8970)\">⌊</code>\n",
       "<code class=\"ccoff \" onclick=\"copyChar(this, 8971)\">⌋</code>\n",
       "<code class=\"ccoff \" onclick=\"copyChar(this, 9632)\">■</code>\n",
       "<code class=\"ccoff \" onclick=\"copyChar(this, 9658)\">►</code>\n",
       "<code class=\"ccoff \" onclick=\"copyChar(this, 9830)\">♦</code>\n",
       "</p>"
      ],
      "text/plain": [
       "<IPython.core.display.HTML object>"
      ]
     },
     "metadata": {},
     "output_type": "display_data"
    }
   ],
   "source": [
    "A.specialCharacters()"
   ]
  },
  {
   "cell_type": "markdown",
   "metadata": {},
   "source": [
    "If you click on a character it is copied to the clipboard.\n",
    "\n",
    "We can search for all words with a black square:"
   ]
  },
  {
   "cell_type": "code",
   "execution_count": 7,
   "metadata": {},
   "outputs": [
    {
     "name": "stdout",
     "output_type": "stream",
     "text": [
      "  2.53s 37 results\n"
     ]
    }
   ],
   "source": [
    "results = A.search(\"\"\"\n",
    "word trans~■\n",
    "\"\"\")"
   ]
  },
  {
   "cell_type": "code",
   "execution_count": 8,
   "metadata": {},
   "outputs": [
    {
     "data": {
      "text/html": [
       "<table><tr class=\"tf ltr\"><th class=\"tf ltr\">n</th><th class=\"tf ltr\">p</th><th class=\"tf ltr\">line</th><th class=\"tf\">word</th></tr>\n",
       "<tr class=\"tf ltr\"><td class=\"tf ltr\">1</td><td class=\"tf ltr\"><span class=\"tfsechead ltr\"><span class=\"ltr\"><a target=\"_blank\" href=\"http://resources.huygens.knaw.nl/retroboeken/generalemissiven/#page=54&amp;source=1\" title=\"Show this document on Huygens\" sec=\"1 31:32\">1 31:32</a></span></span></td><td class=\"tf ltr\"><span class=\" ubd\"></span></td><td class=\"tf ltr\"><span class=\" ubd\"><span class=\"plain   hl\" ><span class=\"txtu\">■ </span></span></span></td></tr>\n",
       "<tr class=\"tf ltr\"><td class=\"tf ltr\">2</td><td class=\"tf ltr\"><span class=\"tfsechead ltr\"><span class=\"ltr\"><a target=\"_blank\" href=\"http://resources.huygens.knaw.nl/retroboeken/generalemissiven/#page=103&amp;source=1\" title=\"Show this document on Huygens\" sec=\"1 80:27\">1 80:27</a></span></span></td><td class=\"tf ltr\"><span class=\" ubd\"></span></td><td class=\"tf ltr\"><span class=\" ubd\"><span class=\"plain   hl\" ><span class=\"txtu\">■willen </span></span></span></td></tr>\n",
       "<tr class=\"tf ltr\"><td class=\"tf ltr\">3</td><td class=\"tf ltr\"><span class=\"tfsechead ltr\"><span class=\"ltr\"><a target=\"_blank\" href=\"http://resources.huygens.knaw.nl/retroboeken/generalemissiven/#page=580&amp;source=1\" title=\"Show this document on Huygens\" sec=\"1 557:3\">1 557:3</a></span></span></td><td class=\"tf ltr\"><span class=\" ubd\"></span></td><td class=\"tf ltr\"><span class=\" ubd\"><span class=\"plain   hl\" ><span class=\"txtu\">■ </span></span></span></td></tr>\n",
       "<tr class=\"tf ltr\"><td class=\"tf ltr\">4</td><td class=\"tf ltr\"><span class=\"tfsechead ltr\"><span class=\"ltr\"><a target=\"_blank\" href=\"http://resources.huygens.knaw.nl/retroboeken/generalemissiven/#page=654&amp;source=2\" title=\"Show this document on Huygens\" sec=\"2 641:42\">2 641:42</a></span></span></td><td class=\"tf ltr\"><span class=\" ubd\"></span></td><td class=\"tf ltr\"><span class=\" ubd\"><span class=\"plain   hl\" ><span class=\"txtu\">■voorsz. </span></span></span></td></tr>\n",
       "<tr class=\"tf ltr\"><td class=\"tf ltr\">5</td><td class=\"tf ltr\"><span class=\"tfsechead ltr\"><span class=\"ltr\"><a target=\"_blank\" href=\"http://resources.huygens.knaw.nl/retroboeken/generalemissiven/#page=673&amp;source=2\" title=\"Show this document on Huygens\" sec=\"2 660:41\">2 660:41</a></span></span></td><td class=\"tf ltr\"><span class=\" ubd\"></span></td><td class=\"tf ltr\"><span class=\" ubd\"><span class=\"plain   hl\" ><span class=\"txtu\">■ </span></span></span></td></tr>\n",
       "<tr class=\"tf ltr\"><td class=\"tf ltr\">6</td><td class=\"tf ltr\"><span class=\"tfsechead ltr\"><span class=\"ltr\"><a target=\"_blank\" href=\"http://resources.huygens.knaw.nl/retroboeken/generalemissiven/#page=131&amp;source=3\" title=\"Show this document on Huygens\" sec=\"3 118:14\">3 118:14</a></span></span></td><td class=\"tf ltr\"><span class=\" ubd\"></span></td><td class=\"tf ltr\"><span class=\" ubd\"><span class=\"plain   hl\" ><span class=\"txtu\">■witste </span></span></span></td></tr>\n",
       "<tr class=\"tf ltr\"><td class=\"tf ltr\">7</td><td class=\"tf ltr\"><span class=\"tfsechead ltr\"><span class=\"ltr\"><a target=\"_blank\" href=\"http://resources.huygens.knaw.nl/retroboeken/generalemissiven/#page=675&amp;source=3\" title=\"Show this document on Huygens\" sec=\"3 662:13\">3 662:13</a></span></span></td><td class=\"tf ltr\"><span class=\" ubd\"></span></td><td class=\"tf ltr\"><span class=\" ubd\"><span class=\"plain   hl\" ><span class=\"txtu\">■ffi. </span></span></span></td></tr>\n",
       "<tr class=\"tf ltr\"><td class=\"tf ltr\">8</td><td class=\"tf ltr\"><span class=\"tfsechead ltr\"><span class=\"ltr\"><a target=\"_blank\" href=\"http://resources.huygens.knaw.nl/retroboeken/generalemissiven/#page=220&amp;source=4\" title=\"Show this document on Huygens\" sec=\"4 205:4\">4 205:4</a></span></span></td><td class=\"tf ltr\"><span class=\" ubd\"></span></td><td class=\"tf ltr\"><span class=\" ubd\"><span class=\"plain   hl\" ><span class=\"txtu\">■ . . </span></span></span></td></tr>\n",
       "<tr class=\"tf ltr\"><td class=\"tf ltr\">9</td><td class=\"tf ltr\"><span class=\"tfsechead ltr\"><span class=\"ltr\"><a target=\"_blank\" href=\"http://resources.huygens.knaw.nl/retroboeken/generalemissiven/#page=223&amp;source=4\" title=\"Show this document on Huygens\" sec=\"4 208:43\">4 208:43</a></span></span></td><td class=\"tf ltr\"><span class=\" ubd\"></span></td><td class=\"tf ltr\"><span class=\" ubd\"><span class=\"plain   hl\" ><span class=\"txtu\">■ </span></span></span></td></tr>\n",
       "<tr class=\"tf ltr\"><td class=\"tf ltr\">10</td><td class=\"tf ltr\"><span class=\"tfsechead ltr\"><span class=\"ltr\"><a target=\"_blank\" href=\"http://resources.huygens.knaw.nl/retroboeken/generalemissiven/#page=224&amp;source=4\" title=\"Show this document on Huygens\" sec=\"4 209:7\">4 209:7</a></span></span></td><td class=\"tf ltr\"><span class=\" ubd\"></span></td><td class=\"tf ltr\"><span class=\" ubd\"><span class=\"plain   hl\" ><span class=\"txtu\">■ ' </span></span></span></td></tr>\n",
       "<tr class=\"tf ltr\"><td class=\"tf ltr\">11</td><td class=\"tf ltr\"><span class=\"tfsechead ltr\"><span class=\"ltr\"><a target=\"_blank\" href=\"http://resources.huygens.knaw.nl/retroboeken/generalemissiven/#page=773&amp;source=4\" title=\"Show this document on Huygens\" sec=\"4 758:24\">4 758:24</a></span></span></td><td class=\"tf ltr\"><span class=\" ubd\"></span></td><td class=\"tf ltr\"><span class=\" ubd\"><span class=\"plain   hl\" ><span class=\"txtu\">■ » </span></span></span></td></tr>\n",
       "<tr class=\"tf ltr\"><td class=\"tf ltr\">12</td><td class=\"tf ltr\"><span class=\"tfsechead ltr\"><span class=\"ltr\"><a target=\"_blank\" href=\"http://resources.huygens.knaw.nl/retroboeken/generalemissiven/#page=351&amp;source=5\" title=\"Show this document on Huygens\" sec=\"5 336:5\">5 336:5</a></span></span></td><td class=\"tf ltr\"><span class=\" ubd\"></span></td><td class=\"tf ltr\"><span class=\" ubd\"><span class=\"plain   hl\" ><span class=\"txtu\">■ </span></span></span></td></tr>\n",
       "<tr class=\"tf ltr\"><td class=\"tf ltr\">13</td><td class=\"tf ltr\"><span class=\"tfsechead ltr\"><span class=\"ltr\"><a target=\"_blank\" href=\"http://resources.huygens.knaw.nl/retroboeken/generalemissiven/#page=852&amp;source=5\" title=\"Show this document on Huygens\" sec=\"5 837:28\">5 837:28</a></span></span></td><td class=\"tf ltr\"><span class=\" ubd\"></span></td><td class=\"tf ltr\"><span class=\" ubd\"><span class=\"plain   hl\" ><span class=\"txtu\">„■ </span></span></span></td></tr>\n",
       "<tr class=\"tf ltr\"><td class=\"tf ltr\">14</td><td class=\"tf ltr\"><span class=\"tfsechead ltr\"><span class=\"ltr\"><a target=\"_blank\" href=\"http://resources.huygens.knaw.nl/retroboeken/generalemissiven/#page=390&amp;source=6\" title=\"Show this document on Huygens\" sec=\"6 375:16\">6 375:16</a></span></span></td><td class=\"tf ltr\"><span class=\" ubd\"></span></td><td class=\"tf ltr\"><span class=\" ubd\"><span class=\"plain   hl\" ><span class=\"txtu\">■naar </span></span></span></td></tr>\n",
       "<tr class=\"tf ltr\"><td class=\"tf ltr\">15</td><td class=\"tf ltr\"><span class=\"tfsechead ltr\"><span class=\"ltr\"><a target=\"_blank\" href=\"http://resources.huygens.knaw.nl/retroboeken/generalemissiven/#page=502&amp;source=7\" title=\"Show this document on Huygens\" sec=\"7 489:38\">7 489:38</a></span></span></td><td class=\"tf ltr\"><span class=\" ubd\"></span></td><td class=\"tf ltr\"><span class=\" ubd\"><span class=\"plain   hl\" ><span class=\"txtu\">■ - </span></span></span></td></tr>\n",
       "<tr class=\"tf ltr\"><td class=\"tf ltr\">16</td><td class=\"tf ltr\"><span class=\"tfsechead ltr\"><span class=\"ltr\"><a target=\"_blank\" href=\"http://resources.huygens.knaw.nl/retroboeken/generalemissiven/#page=635&amp;source=7\" title=\"Show this document on Huygens\" sec=\"7 622:2\">7 622:2</a></span></span></td><td class=\"tf ltr\"><span class=\" ubd\"></span></td><td class=\"tf ltr\"><span class=\" ubd\"><span class=\"plain   hl\" ><span class=\"txtu\">■tg </span></span></span></td></tr>\n",
       "<tr class=\"tf ltr\"><td class=\"tf ltr\">17</td><td class=\"tf ltr\"><span class=\"tfsechead ltr\"><span class=\"ltr\"><a target=\"_blank\" href=\"http://resources.huygens.knaw.nl/retroboeken/generalemissiven/#page=77&amp;source=8\" title=\"Show this document on Huygens\" sec=\"8 66:34\">8 66:34</a></span></span></td><td class=\"tf ltr\"><span class=\" ubd\"></span></td><td class=\"tf ltr\"><span class=\" ubd\"><span class=\"plain   hl\" ><span class=\"txtu\">■</span></span></span></td></tr>\n",
       "<tr class=\"tf ltr\"><td class=\"tf ltr\">18</td><td class=\"tf ltr\"><span class=\"tfsechead ltr\"><span class=\"ltr\"><a target=\"_blank\" href=\"http://resources.huygens.knaw.nl/retroboeken/generalemissiven/#page=77&amp;source=8\" title=\"Show this document on Huygens\" sec=\"8 66:41\">8 66:41</a></span></span></td><td class=\"tf ltr\"><span class=\" ubd\"></span></td><td class=\"tf ltr\"><span class=\" ubd\"><span class=\"plain   hl\" ><span class=\"txtu\">■</span></span></span></td></tr>\n",
       "<tr class=\"tf ltr\"><td class=\"tf ltr\">19</td><td class=\"tf ltr\"><span class=\"tfsechead ltr\"><span class=\"ltr\"><a target=\"_blank\" href=\"http://resources.huygens.knaw.nl/retroboeken/generalemissiven/#page=101&amp;source=9\" title=\"Show this document on Huygens\" sec=\"9 88:17\">9 88:17</a></span></span></td><td class=\"tf ltr\"><span class=\" ubd\"></span></td><td class=\"tf ltr\"><span class=\" ubd\"><span class=\"plain   hl\" ><span class=\"txtu\">■</span></span></span></td></tr>\n",
       "<tr class=\"tf ltr\"><td class=\"tf ltr\">20</td><td class=\"tf ltr\"><span class=\"tfsechead ltr\"><span class=\"ltr\"><a target=\"_blank\" href=\"http://resources.huygens.knaw.nl/retroboeken/generalemissiven/#page=101&amp;source=9\" title=\"Show this document on Huygens\" sec=\"9 88:23\">9 88:23</a></span></span></td><td class=\"tf ltr\"><span class=\" ubd\"></span></td><td class=\"tf ltr\"><span class=\" ubd\"><span class=\"plain   hl\" ><span class=\"txtu\">■</span></span></span></td></tr>\n",
       "<tr class=\"tf ltr\"><td class=\"tf ltr\">21</td><td class=\"tf ltr\"><span class=\"tfsechead ltr\"><span class=\"ltr\"><a target=\"_blank\" href=\"http://resources.huygens.knaw.nl/retroboeken/generalemissiven/#page=107&amp;source=9\" title=\"Show this document on Huygens\" sec=\"9 94:2\">9 94:2</a></span></span></td><td class=\"tf ltr\"><span class=\" ubd\"></span></td><td class=\"tf ltr\"><span class=\" ubd\"><span class=\"plain   hl\" ><span class=\"txtu\">■</span></span></span></td></tr>\n",
       "<tr class=\"tf ltr\"><td class=\"tf ltr\">22</td><td class=\"tf ltr\"><span class=\"tfsechead ltr\"><span class=\"ltr\"><a target=\"_blank\" href=\"http://resources.huygens.knaw.nl/retroboeken/generalemissiven/#page=107&amp;source=9\" title=\"Show this document on Huygens\" sec=\"9 94:5\">9 94:5</a></span></span></td><td class=\"tf ltr\"><span class=\" ubd\"></span></td><td class=\"tf ltr\"><span class=\" ubd\"><span class=\"plain   hl\" ><span class=\"txtu\">■</span></span></span></td></tr>\n",
       "<tr class=\"tf ltr\"><td class=\"tf ltr\">23</td><td class=\"tf ltr\"><span class=\"tfsechead ltr\"><span class=\"ltr\"><a target=\"_blank\" href=\"http://resources.huygens.knaw.nl/retroboeken/generalemissiven/#page=107&amp;source=9\" title=\"Show this document on Huygens\" sec=\"9 94:9\">9 94:9</a></span></span></td><td class=\"tf ltr\"><span class=\" ubd\"></span></td><td class=\"tf ltr\"><span class=\" ubd\"><span class=\"plain   hl\" ><span class=\"txtu\">■</span></span></span></td></tr>\n",
       "<tr class=\"tf ltr\"><td class=\"tf ltr\">24</td><td class=\"tf ltr\"><span class=\"tfsechead ltr\"><span class=\"ltr\"><a target=\"_blank\" href=\"http://resources.huygens.knaw.nl/retroboeken/generalemissiven/#page=107&amp;source=9\" title=\"Show this document on Huygens\" sec=\"9 94:15\">9 94:15</a></span></span></td><td class=\"tf ltr\"><span class=\" ubd\"></span></td><td class=\"tf ltr\"><span class=\" ubd\"><span class=\"plain   hl\" ><span class=\"txtu\">■</span></span></span></td></tr>\n",
       "<tr class=\"tf ltr\"><td class=\"tf ltr\">25</td><td class=\"tf ltr\"><span class=\"tfsechead ltr\"><span class=\"ltr\"><a target=\"_blank\" href=\"http://resources.huygens.knaw.nl/retroboeken/generalemissiven/#page=107&amp;source=9\" title=\"Show this document on Huygens\" sec=\"9 94:17\">9 94:17</a></span></span></td><td class=\"tf ltr\"><span class=\" ubd\"></span></td><td class=\"tf ltr\"><span class=\" ubd\"><span class=\"plain   hl\" ><span class=\"txtu\">■</span></span></span></td></tr>\n",
       "<tr class=\"tf ltr\"><td class=\"tf ltr\">26</td><td class=\"tf ltr\"><span class=\"tfsechead ltr\"><span class=\"ltr\"><a target=\"_blank\" href=\"http://resources.huygens.knaw.nl/retroboeken/generalemissiven/#page=107&amp;source=9\" title=\"Show this document on Huygens\" sec=\"9 94:22\">9 94:22</a></span></span></td><td class=\"tf ltr\"><span class=\" ubd\"></span></td><td class=\"tf ltr\"><span class=\" ubd\"><span class=\"plain   hl\" ><span class=\"txtu\">■</span></span></span></td></tr>\n",
       "<tr class=\"tf ltr\"><td class=\"tf ltr\">27</td><td class=\"tf ltr\"><span class=\"tfsechead ltr\"><span class=\"ltr\"><a target=\"_blank\" href=\"http://resources.huygens.knaw.nl/retroboeken/generalemissiven/#page=107&amp;source=9\" title=\"Show this document on Huygens\" sec=\"9 94:25\">9 94:25</a></span></span></td><td class=\"tf ltr\"><span class=\" ubd\"></span></td><td class=\"tf ltr\"><span class=\" ubd\"><span class=\"plain   hl\" ><span class=\"txtu\">■</span></span></span></td></tr>\n",
       "<tr class=\"tf ltr\"><td class=\"tf ltr\">28</td><td class=\"tf ltr\"><span class=\"tfsechead ltr\"><span class=\"ltr\"><a target=\"_blank\" href=\"http://resources.huygens.knaw.nl/retroboeken/generalemissiven/#page=816&amp;source=9\" title=\"Show this document on Huygens\" sec=\"9 803:16\">9 803:16</a></span></span></td><td class=\"tf ltr\"><span class=\" ubd\"></span></td><td class=\"tf ltr\"><span class=\" ubd\"><span class=\"plain   hl\" ><span class=\"txtu\">■'</span></span></span></td></tr>\n",
       "<tr class=\"tf ltr\"><td class=\"tf ltr\">29</td><td class=\"tf ltr\"><span class=\"tfsechead ltr\"><span class=\"ltr\"><a target=\"_blank\" href=\"http://resources.huygens.knaw.nl/retroboeken/generalemissiven/#page=816&amp;source=9\" title=\"Show this document on Huygens\" sec=\"9 803:29\">9 803:29</a></span></span></td><td class=\"tf ltr\"><span class=\" ubd\"></span></td><td class=\"tf ltr\"><span class=\" ubd\"><span class=\"plain   hl\" ><span class=\"txtu\">■^</span></span></span></td></tr>\n",
       "<tr class=\"tf ltr\"><td class=\"tf ltr\">30</td><td class=\"tf ltr\"><span class=\"tfsechead ltr\"><span class=\"ltr\"><a target=\"_blank\" href=\"http://resources.huygens.knaw.nl/retroboeken/generalemissiven/#page=445&amp;source=11\" title=\"Show this document on Huygens\" sec=\"11 434:20\">11 434:20</a></span></span></td><td class=\"tf ltr\"><span class=\" ubd\"></span></td><td class=\"tf ltr\"><span class=\" ubd\"><span class=\"plain   hl\" ><span class=\"txtu\">■ /</span></span></span></td></tr>\n",
       "<tr class=\"tf ltr\"><td class=\"tf ltr\">31</td><td class=\"tf ltr\"><span class=\"tfsechead ltr\"><span class=\"ltr\"><a target=\"_blank\" href=\"http://resources.huygens.knaw.nl/retroboeken/generalemissiven/#page=447&amp;source=12\" title=\"Show this document on Huygens\" sec=\"12 436:7\">12 436:7</a></span></span></td><td class=\"tf ltr\"><span class=\" ubd\"></span></td><td class=\"tf ltr\"><span class=\" ubd\"><span class=\"plain   hl\" ><span class=\"txtu\">■</span></span></span></td></tr>\n",
       "<tr class=\"tf ltr\"><td class=\"tf ltr\">32</td><td class=\"tf ltr\"><span class=\"tfsechead ltr\"><span class=\"ltr\"><a target=\"_blank\" href=\"http://resources.huygens.knaw.nl/retroboeken/generalemissiven/#page=447&amp;source=12\" title=\"Show this document on Huygens\" sec=\"12 436:10\">12 436:10</a></span></span></td><td class=\"tf ltr\"><span class=\" ubd\"></span></td><td class=\"tf ltr\"><span class=\" ubd\"><span class=\"plain   hl\" ><span class=\"txtu\">■</span></span></span></td></tr>\n",
       "<tr class=\"tf ltr\"><td class=\"tf ltr\">33</td><td class=\"tf ltr\"><span class=\"tfsechead ltr\"><span class=\"ltr\"><a target=\"_blank\" href=\"http://resources.huygens.knaw.nl/retroboeken/generalemissiven/#page=447&amp;source=12\" title=\"Show this document on Huygens\" sec=\"12 436:11\">12 436:11</a></span></span></td><td class=\"tf ltr\"><span class=\" ubd\"></span></td><td class=\"tf ltr\"><span class=\" ubd\"><span class=\"plain   hl\" ><span class=\"txtu\">■</span></span></span></td></tr>\n",
       "<tr class=\"tf ltr\"><td class=\"tf ltr\">34</td><td class=\"tf ltr\"><span class=\"tfsechead ltr\"><span class=\"ltr\"><a target=\"_blank\" href=\"http://resources.huygens.knaw.nl/retroboeken/generalemissiven/#page=447&amp;source=12\" title=\"Show this document on Huygens\" sec=\"12 436:17\">12 436:17</a></span></span></td><td class=\"tf ltr\"><span class=\" ubd\"></span></td><td class=\"tf ltr\"><span class=\" ubd\"><span class=\"plain   hl\" ><span class=\"txtu\">■</span></span></span></td></tr>\n",
       "<tr class=\"tf ltr\"><td class=\"tf ltr\">35</td><td class=\"tf ltr\"><span class=\"tfsechead ltr\"><span class=\"ltr\"><a target=\"_blank\" href=\"http://resources.huygens.knaw.nl/retroboeken/generalemissiven/#page=447&amp;source=12\" title=\"Show this document on Huygens\" sec=\"12 436:21\">12 436:21</a></span></span></td><td class=\"tf ltr\"><span class=\" ubd\"></span></td><td class=\"tf ltr\"><span class=\" ubd\"><span class=\"plain   hl\" ><span class=\"txtu\">■</span></span></span></td></tr>\n",
       "<tr class=\"tf ltr\"><td class=\"tf ltr\">36</td><td class=\"tf ltr\"><span class=\"tfsechead ltr\"><span class=\"ltr\"><a target=\"_blank\" href=\"http://resources.huygens.knaw.nl/retroboeken/generalemissiven/#page=53&amp;source=13\" title=\"Show this document on Huygens\" sec=\"13 42:4\">13 42:4</a></span></span></td><td class=\"tf ltr\"><span class=\" ubd\"></span></td><td class=\"tf ltr\"><span class=\" ubd\"><span class=\"plain   hl\" ><span class=\"txtu\">■ </span></span></span></td></tr>\n",
       "<tr class=\"tf ltr\"><td class=\"tf ltr\">37</td><td class=\"tf ltr\"><span class=\"tfsechead ltr\"><span class=\"ltr\"><a target=\"_blank\" href=\"http://resources.huygens.knaw.nl/retroboeken/generalemissiven/#page=205&amp;source=13\" title=\"Show this document on Huygens\" sec=\"13 194:45\">13 194:45</a></span></span></td><td class=\"tf ltr\"><span class=\" ubd\"></span></td><td class=\"tf ltr\"><span class=\" ubd\"><span class=\"plain   hl\" ><span class=\"txtu\">■ » </span></span></span></td></tr></table>"
      ],
      "text/plain": [
       "<IPython.core.display.HTML object>"
      ]
     },
     "metadata": {},
     "output_type": "display_data"
    }
   ],
   "source": [
    "A.table(results, condensed=True)"
   ]
  },
  {
   "cell_type": "markdown",
   "metadata": {
    "tags": []
   },
   "source": [
    "---\n",
    "\n",
    "# Contents\n",
    "\n",
    "* **[start](start.ipynb)** start computing with this corpus\n",
    "* **search** turbo charge your hand-coding with search templates\n",
    "* **[compute](compute.ipynb)** sink down a level and compute it yourself\n",
    "* **[exportExcel](exportExcel.ipynb)** make tailor-made spreadsheets out of your results\n",
    "* **[annotate](annotate.ipynb)** export text, annotate with BRAT, import annotations\n",
    "* **[share](share.ipynb)** draw in other people's data and let them use yours\n",
    "* **[entities](entities.ipynb)** use results of third-party NER (named entity recognition)\n",
    "* **[porting](porting.ipynb)** port features made against an older version to a newer version\n",
    "* **[volumes](volumes.ipynb)** work with selected volumes only\n",
    "\n",
    "CC-BY Dirk Roorda"
   ]
  }
 ],
 "metadata": {
  "kernelspec": {
   "display_name": "Python 3 (ipykernel)",
   "language": "python",
   "name": "python3"
  },
  "language_info": {
   "codemirror_mode": {
    "name": "ipython",
    "version": 3
   },
   "file_extension": ".py",
   "mimetype": "text/x-python",
   "name": "python",
   "nbconvert_exporter": "python",
   "pygments_lexer": "ipython3",
   "version": "3.12.3"
  },
  "widgets": {
   "application/vnd.jupyter.widget-state+json": {
    "state": {},
    "version_major": 2,
    "version_minor": 0
   }
  }
 },
 "nbformat": 4,
 "nbformat_minor": 4
}
